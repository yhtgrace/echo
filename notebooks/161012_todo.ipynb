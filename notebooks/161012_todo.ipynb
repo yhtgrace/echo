{
 "cells": [
  {
   "cell_type": "markdown",
   "metadata": {},
   "source": [
    "__To Do List for Data Scientists__\n",
    "\n",
    "+ How many patients have echo in first 48hour of ICU hospitalization? \n",
    "+ What is the distribution of echoes by hospitalization day? \n",
    "+ How many patients have outpatient pre-hospitalization echo and ICU hospitalization echo? \n",
    "+ We need to create two new variables: \n",
    "    1. Decrement in EF \n",
    "    2. Time difference between the two echoes\n",
    "+ How many patients have post-hospitalization echo. Also need the delta in EF and time difference variables. Graphical distribution of duration and decrement/increment in EF\n",
    "+ Summary statistics (descriptive) for all people with echo:\n",
    "    1. how many people were on dialysis \n",
    "    2. how many people were on ventilator \n",
    "    3. what were the different diagnoses for ICU admission \n",
    "    4. average ICU length of stay \n",
    "    5. mortality in ICU \n",
    "    6. mortality in hospital \n",
    "    7. 30 day mortality \n",
    "    8. how many people carry a diagnosis of heart failure \n",
    "    9. number of secondary diagnosis \n",
    "    10. age and gender distribution \n",
    "    11. How many people had a BNP or NTproBNP sent?\n",
    "    12. How many people had a troponin-I or troponin-T sent? \n",
    "    13. Number of people with valvular heart disease that is moderate or above\n",
    "+ Also since kidney function will be a crucial element of our analysis of ejection function and fluid management, we need to better understand their kidney function. Please pull out distribution of: \n",
    "    1. baseline Creatinine (Cr) prior to the admission. \n",
    "    2. ICU Cr on the day of the echo \n",
    "    3. Cr measurement post ICU discharge"
   ]
  },
  {
   "cell_type": "code",
   "execution_count": 2,
   "metadata": {
    "collapsed": false
   },
   "outputs": [],
   "source": [
    "import numpy as np\n",
    "import pandas as pd\n",
    "import psycopg2\n",
    "\n",
    "import matplotlib.pyplot as plt\n",
    "\n",
    "import matplotlib.style\n",
    "matplotlib.style.use('ggplot')\n",
    "%matplotlib inline"
   ]
  },
  {
   "cell_type": "code",
   "execution_count": 266,
   "metadata": {
    "collapsed": true
   },
   "outputs": [],
   "source": [
    "# create a database connection\n",
    "sqluser = 'mimic'\n",
    "dbname = 'mimic'\n",
    "schema_name = 'mimiciii'\n",
    "\n",
    "con = psycopg2.connect(dbname = dbname, user = sqluser)\n",
    "cur = con.cursor()\n",
    "cur.execute('SET search_path to ' + schema_name)"
   ]
  },
  {
   "cell_type": "markdown",
   "metadata": {},
   "source": [
    "## Number of patients with echos within 48 hours of ICU hospitalization\n",
    "\n",
    "Echos are associated with hadm_ids (hospital admission ids) and not to icustay_ids (ICU stay ids). Echos however have a time stamp within the report. Here, associate each echo report to an ICU stay by cross-referencing the echos vs. icustays using hadm_ids, and then selecting the ICU stay during which the echo was done. "
   ]
  },
  {
   "cell_type": "code",
   "execution_count": 260,
   "metadata": {
    "collapsed": false
   },
   "outputs": [
    {
     "data": {
      "text/html": [
       "<div>\n",
       "<table border=\"1\" class=\"dataframe\">\n",
       "  <thead>\n",
       "    <tr style=\"text-align: right;\">\n",
       "      <th></th>\n",
       "      <th>hadm_id</th>\n",
       "      <th>row_id</th>\n",
       "      <th>subject_id</th>\n",
       "      <th>echo_time</th>\n",
       "      <th>text</th>\n",
       "      <th>intime</th>\n",
       "      <th>outtime</th>\n",
       "      <th>icustay_id</th>\n",
       "      <th>dob</th>\n",
       "      <th>dod</th>\n",
       "      <th>gender</th>\n",
       "      <th>dischtime</th>\n",
       "      <th>this_icu</th>\n",
       "      <th>time_to_echo</th>\n",
       "      <th>age</th>\n",
       "    </tr>\n",
       "  </thead>\n",
       "  <tbody>\n",
       "    <tr>\n",
       "      <th>0</th>\n",
       "      <td>179179</td>\n",
       "      <td>77947</td>\n",
       "      <td>52590</td>\n",
       "      <td>2118-09-02 13:39:00</td>\n",
       "      <td>PATIENT/TEST INFORMATION:\\nIndication: intraop...</td>\n",
       "      <td>2118-09-02 11:18:44</td>\n",
       "      <td>2118-09-03 17:43:25</td>\n",
       "      <td>241967</td>\n",
       "      <td>2042-09-29</td>\n",
       "      <td>None</td>\n",
       "      <td>M</td>\n",
       "      <td>2118-09-06 13:18:00</td>\n",
       "      <td>1</td>\n",
       "      <td>0 days 02:20:16</td>\n",
       "      <td>75.0</td>\n",
       "    </tr>\n",
       "    <tr>\n",
       "      <th>1</th>\n",
       "      <td>114624</td>\n",
       "      <td>77949</td>\n",
       "      <td>18040</td>\n",
       "      <td>2185-03-24 14:00:00</td>\n",
       "      <td>PATIENT/TEST INFORMATION:\\nIndication: Congeni...</td>\n",
       "      <td>2185-01-27 16:15:51</td>\n",
       "      <td>2185-05-23 16:23:59</td>\n",
       "      <td>212314</td>\n",
       "      <td>2185-01-27</td>\n",
       "      <td>None</td>\n",
       "      <td>F</td>\n",
       "      <td>2185-05-23 15:30:00</td>\n",
       "      <td>1</td>\n",
       "      <td>55 days 21:44:09</td>\n",
       "      <td>0.0</td>\n",
       "    </tr>\n",
       "    <tr>\n",
       "      <th>2</th>\n",
       "      <td>114624</td>\n",
       "      <td>77950</td>\n",
       "      <td>18040</td>\n",
       "      <td>2185-03-23 15:00:00</td>\n",
       "      <td>PATIENT/TEST INFORMATION:\\nIndication: Congeni...</td>\n",
       "      <td>2185-01-27 16:15:51</td>\n",
       "      <td>2185-05-23 16:23:59</td>\n",
       "      <td>212314</td>\n",
       "      <td>2185-01-27</td>\n",
       "      <td>None</td>\n",
       "      <td>F</td>\n",
       "      <td>2185-05-23 15:30:00</td>\n",
       "      <td>1</td>\n",
       "      <td>54 days 22:44:09</td>\n",
       "      <td>0.0</td>\n",
       "    </tr>\n",
       "    <tr>\n",
       "      <th>3</th>\n",
       "      <td>114624</td>\n",
       "      <td>77951</td>\n",
       "      <td>18040</td>\n",
       "      <td>2185-03-18 15:00:00</td>\n",
       "      <td>PATIENT/TEST INFORMATION:\\nIndication: Congeni...</td>\n",
       "      <td>2185-01-27 16:15:51</td>\n",
       "      <td>2185-05-23 16:23:59</td>\n",
       "      <td>212314</td>\n",
       "      <td>2185-01-27</td>\n",
       "      <td>None</td>\n",
       "      <td>F</td>\n",
       "      <td>2185-05-23 15:30:00</td>\n",
       "      <td>1</td>\n",
       "      <td>49 days 22:44:09</td>\n",
       "      <td>0.0</td>\n",
       "    </tr>\n",
       "    <tr>\n",
       "      <th>4</th>\n",
       "      <td>191596</td>\n",
       "      <td>78276</td>\n",
       "      <td>538</td>\n",
       "      <td>2161-10-29 18:57:00</td>\n",
       "      <td>PATIENT/TEST INFORMATION:\\nIndication: Pericar...</td>\n",
       "      <td>2161-10-28 15:02:15</td>\n",
       "      <td>2161-11-01 17:45:26</td>\n",
       "      <td>293509</td>\n",
       "      <td>2088-12-05</td>\n",
       "      <td>2161-12-20</td>\n",
       "      <td>F</td>\n",
       "      <td>2161-11-16 18:45:00</td>\n",
       "      <td>1</td>\n",
       "      <td>1 days 03:54:45</td>\n",
       "      <td>72.0</td>\n",
       "    </tr>\n",
       "  </tbody>\n",
       "</table>\n",
       "</div>"
      ],
      "text/plain": [
       "   hadm_id  row_id  subject_id           echo_time  \\\n",
       "0   179179   77947       52590 2118-09-02 13:39:00   \n",
       "1   114624   77949       18040 2185-03-24 14:00:00   \n",
       "2   114624   77950       18040 2185-03-23 15:00:00   \n",
       "3   114624   77951       18040 2185-03-18 15:00:00   \n",
       "4   191596   78276         538 2161-10-29 18:57:00   \n",
       "\n",
       "                                                text              intime  \\\n",
       "0  PATIENT/TEST INFORMATION:\\nIndication: intraop... 2118-09-02 11:18:44   \n",
       "1  PATIENT/TEST INFORMATION:\\nIndication: Congeni... 2185-01-27 16:15:51   \n",
       "2  PATIENT/TEST INFORMATION:\\nIndication: Congeni... 2185-01-27 16:15:51   \n",
       "3  PATIENT/TEST INFORMATION:\\nIndication: Congeni... 2185-01-27 16:15:51   \n",
       "4  PATIENT/TEST INFORMATION:\\nIndication: Pericar... 2161-10-28 15:02:15   \n",
       "\n",
       "              outtime  icustay_id         dob         dod gender  \\\n",
       "0 2118-09-03 17:43:25      241967  2042-09-29        None      M   \n",
       "1 2185-05-23 16:23:59      212314  2185-01-27        None      F   \n",
       "2 2185-05-23 16:23:59      212314  2185-01-27        None      F   \n",
       "3 2185-05-23 16:23:59      212314  2185-01-27        None      F   \n",
       "4 2161-11-01 17:45:26      293509  2088-12-05  2161-12-20      F   \n",
       "\n",
       "            dischtime  this_icu     time_to_echo   age  \n",
       "0 2118-09-06 13:18:00         1  0 days 02:20:16  75.0  \n",
       "1 2185-05-23 15:30:00         1 55 days 21:44:09   0.0  \n",
       "2 2185-05-23 15:30:00         1 54 days 22:44:09   0.0  \n",
       "3 2185-05-23 15:30:00         1 49 days 22:44:09   0.0  \n",
       "4 2161-11-16 18:45:00         1  1 days 03:54:45  72.0  "
      ]
     },
     "execution_count": 260,
     "metadata": {},
     "output_type": "execute_result"
    }
   ],
   "source": [
    "query = \\\n",
    "\"\"\"\n",
    "WITH echos AS (\n",
    "-- parse echo report to get echo_time\n",
    "    SELECT hadm_id, row_id, subject_id, text,\n",
    "    -- timestamp for echo\n",
    "    to_timestamp(\n",
    "        regexp_replace(regexp_replace(regexp_replace(\n",
    "            substring(text from 'Date/Time:.*?\\n'), \n",
    "            'Date/Time: ...', ''), '... at', ''), '\\n', ''), \n",
    "        'YYYY-MM-DD HH24:MI')::timestamp without time zone AS echo_time  \n",
    "    FROM noteevents\n",
    "    WHERE category = 'Echo'), \n",
    "-- merge with icustays, get icustay timestamps, and calculate timedeltas wrt echo_time    \n",
    "    this_echo AS (\n",
    "    SELECT ec.hadm_id, ec.row_id, ec.subject_id, ec.echo_time, ec.text,\n",
    "        ie.intime, ie.outtime, ie.icustay_id,\n",
    "        ps.dob::date, ps.dod::date, ps.gender,\n",
    "        am.dischtime, \n",
    "        CASE \n",
    "        WHEN ((ec.echo_time > ie.intime) AND \n",
    "            (ec.echo_time < ie.outtime)) \n",
    "        THEN 1 ELSE 0 END AS this_icu, \n",
    "        ec.echo_time - ie.intime AS time_to_echo,\n",
    "        -- age in years\n",
    "        extract(year from age(ec.echo_time::date, ps.dob)) AS age \n",
    "    FROM echos ec\n",
    "    INNER JOIN icustays ie\n",
    "        ON ie.hadm_id = ec.hadm_id\n",
    "    INNER JOIN patients ps\n",
    "        ON ie.subject_id = ps.subject_id\n",
    "    INNER JOIN admissions am\n",
    "        ON ie.hadm_id = am.hadm_id)\n",
    "SELECT * \n",
    "FROM this_echo\n",
    "WHERE this_icu = 1\n",
    "\"\"\"\n",
    "\n",
    "icu_echos = pd.read_sql_query(query, con)\n",
    "icu_echos.head()"
   ]
  },
  {
   "cell_type": "code",
   "execution_count": 164,
   "metadata": {
    "collapsed": false
   },
   "outputs": [
    {
     "data": {
      "text/plain": [
       "(22169, 14)"
      ]
     },
     "execution_count": 164,
     "metadata": {},
     "output_type": "execute_result"
    }
   ],
   "source": [
    "icu_echos.shape"
   ]
  },
  {
   "cell_type": "markdown",
   "metadata": {},
   "source": [
    "Of the echos which are associated to an ICU stay, how many were done within 48 hours of admission to the ICU? "
   ]
  },
  {
   "cell_type": "code",
   "execution_count": 165,
   "metadata": {
    "collapsed": false
   },
   "outputs": [
    {
     "data": {
      "text/plain": [
       "True     15468\n",
       "False     6701\n",
       "Name: time_to_echo, dtype: int64"
      ]
     },
     "execution_count": 165,
     "metadata": {},
     "output_type": "execute_result"
    }
   ],
   "source": [
    "(icu_echos['time_to_echo'] < pd.Timedelta(hours = 48)).value_counts()"
   ]
  },
  {
   "cell_type": "markdown",
   "metadata": {},
   "source": [
    "## Number of patients with echos who also have sepsis\n",
    "\n",
    "Using the code available from the repo to get hadm_id -> sepsis"
   ]
  },
  {
   "cell_type": "code",
   "execution_count": 166,
   "metadata": {
    "collapsed": false
   },
   "outputs": [
    {
     "data": {
      "text/html": [
       "<div>\n",
       "<table border=\"1\" class=\"dataframe\">\n",
       "  <thead>\n",
       "    <tr style=\"text-align: right;\">\n",
       "      <th></th>\n",
       "      <th>subject_id</th>\n",
       "      <th>hadm_id</th>\n",
       "      <th>infection</th>\n",
       "      <th>explicit_sepsis</th>\n",
       "      <th>organ_dysfunction</th>\n",
       "      <th>mech_vent</th>\n",
       "      <th>angus</th>\n",
       "    </tr>\n",
       "  </thead>\n",
       "  <tbody>\n",
       "    <tr>\n",
       "      <th>0</th>\n",
       "      <td>22</td>\n",
       "      <td>165315</td>\n",
       "      <td>0</td>\n",
       "      <td>0</td>\n",
       "      <td>0</td>\n",
       "      <td>1</td>\n",
       "      <td>0</td>\n",
       "    </tr>\n",
       "    <tr>\n",
       "      <th>1</th>\n",
       "      <td>23</td>\n",
       "      <td>152223</td>\n",
       "      <td>0</td>\n",
       "      <td>0</td>\n",
       "      <td>0</td>\n",
       "      <td>0</td>\n",
       "      <td>0</td>\n",
       "    </tr>\n",
       "    <tr>\n",
       "      <th>2</th>\n",
       "      <td>23</td>\n",
       "      <td>124321</td>\n",
       "      <td>0</td>\n",
       "      <td>0</td>\n",
       "      <td>0</td>\n",
       "      <td>0</td>\n",
       "      <td>0</td>\n",
       "    </tr>\n",
       "    <tr>\n",
       "      <th>3</th>\n",
       "      <td>24</td>\n",
       "      <td>161859</td>\n",
       "      <td>0</td>\n",
       "      <td>0</td>\n",
       "      <td>0</td>\n",
       "      <td>0</td>\n",
       "      <td>0</td>\n",
       "    </tr>\n",
       "    <tr>\n",
       "      <th>4</th>\n",
       "      <td>25</td>\n",
       "      <td>129635</td>\n",
       "      <td>0</td>\n",
       "      <td>0</td>\n",
       "      <td>0</td>\n",
       "      <td>0</td>\n",
       "      <td>0</td>\n",
       "    </tr>\n",
       "  </tbody>\n",
       "</table>\n",
       "</div>"
      ],
      "text/plain": [
       "   subject_id  hadm_id  infection  explicit_sepsis  organ_dysfunction  \\\n",
       "0          22   165315          0                0                  0   \n",
       "1          23   152223          0                0                  0   \n",
       "2          23   124321          0                0                  0   \n",
       "3          24   161859          0                0                  0   \n",
       "4          25   129635          0                0                  0   \n",
       "\n",
       "   mech_vent  angus  \n",
       "0          1      0  \n",
       "1          0      0  \n",
       "2          0      0  \n",
       "3          0      0  \n",
       "4          0      0  "
      ]
     },
     "execution_count": 166,
     "metadata": {},
     "output_type": "execute_result"
    }
   ],
   "source": [
    "query = \\\n",
    "\"\"\"\n",
    "-- ICD-9 codes for Angus criteria of sepsis\n",
    "\n",
    "-- Angus et al, 2001. Epidemiology of severe sepsis in the United States\n",
    "-- http://www.ncbi.nlm.nih.gov/pubmed/11445675\n",
    "\n",
    "-- Case selection and definitions\n",
    "-- To identify cases with severe sepsis, we selected all acute care\n",
    "-- hospitalizations with ICD-9-CM codes for both:\n",
    "-- (a) a bacterial or fungal infectious process AND\n",
    "-- (b) a diagnosis of acute organ dysfunction (Appendix 2).\n",
    "\n",
    "-- Appendix 1: ICD9-codes (infection)\n",
    "\n",
    "WITH infection_group AS (\n",
    "    SELECT subject_id, hadm_id,\n",
    "    CASE\n",
    "        WHEN substring(icd9_code,1,3) IN ('001','002','003','004','005','008',\n",
    "               '009','010','011','012','013','014','015','016','017','018',\n",
    "               '020','021','022','023','024','025','026','027','030','031',\n",
    "               '032','033','034','035','036','037','038','039','040','041',\n",
    "               '090','091','092','093','094','095','096','097','098','100',\n",
    "               '101','102','103','104','110','111','112','114','115','116',\n",
    "               '117','118','320','322','324','325','420','421','451','461',\n",
    "               '462','463','464','465','481','482','485','486','494','510',\n",
    "               '513','540','541','542','566','567','590','597','601','614',\n",
    "               '615','616','681','682','683','686','730') THEN 1\n",
    "        WHEN substring(icd9_code,1,4) IN ('5695','5720','5721','5750','5990','7110',\n",
    "                '7907','9966','9985','9993') THEN 1\n",
    "        WHEN substring(icd9_code,1,5) IN ('49121','56201','56203','56211','56213',\n",
    "                '56983') THEN 1\n",
    "        ELSE 0 END AS infection\n",
    "    FROM MIMICIII.DIAGNOSES_ICD),\n",
    "-- Appendix 2: ICD9-codes (organ dysfunction)\n",
    "    organ_diag_group as (\n",
    "    SELECT subject_id, hadm_id,\n",
    "        CASE\n",
    "        -- Acute Organ Dysfunction Diagnosis Codes\n",
    "        WHEN substring(icd9_code,1,3) IN ('458','293','570','584') THEN 1\n",
    "        WHEN substring(icd9_code,1,4) IN ('7855','3483','3481',\n",
    "                '2874','2875','2869','2866','5734')  THEN 1\n",
    "        ELSE 0 END AS organ_dysfunction,\n",
    "        -- Explicit diagnosis of severe sepsis or septic shock\n",
    "        CASE\n",
    "        WHEN substring(icd9_code,1,5) IN ('99592','78552')  THEN 1\n",
    "        ELSE 0 END AS explicit_sepsis\n",
    "    FROM MIMICIII.DIAGNOSES_ICD),\n",
    "\n",
    "-- Mechanical ventilation\n",
    "    organ_proc_group as (\n",
    "    SELECT subject_id, hadm_id,\n",
    "        CASE\n",
    "        WHEN substring(icd9_code,1,4) IN ('9670','9671','9672') THEN 1\n",
    "        ELSE 0 END AS mech_vent\n",
    "    FROM MIMICIII.PROCEDURES_ICD),\n",
    "\n",
    "-- Aggregate\n",
    "    aggregate as (\n",
    "    SELECT subject_id, hadm_id,\n",
    "        CASE\n",
    "        WHEN hadm_id in (SELECT DISTINCT hadm_id\n",
    "                FROM infection_group\n",
    "                WHERE infection = 1) THEN 1\n",
    "            ELSE 0 END AS infection,\n",
    "        CASE\n",
    "        WHEN hadm_id in (SELECT DISTINCT hadm_id\n",
    "                FROM organ_diag_group\n",
    "                WHERE explicit_sepsis = 1) THEN 1\n",
    "            ELSE 0 END AS explicit_sepsis,\n",
    "        CASE\n",
    "        WHEN hadm_id in (SELECT DISTINCT hadm_id\n",
    "                FROM organ_diag_group\n",
    "                WHERE organ_dysfunction = 1) THEN 1\n",
    "            ELSE 0 END AS organ_dysfunction,\n",
    "        CASE\n",
    "        WHEN hadm_id in (SELECT DISTINCT hadm_id\n",
    "                FROM organ_proc_group\n",
    "                WHERE mech_vent = 1) THEN 1\n",
    "            ELSE 0 END AS mech_vent\n",
    "    FROM MIMICIII.ADMISSIONS)\n",
    "-- List angus score for each admission\n",
    "SELECT subject_id, hadm_id, infection,\n",
    "       explicit_sepsis, organ_dysfunction, mech_vent,\n",
    "    CASE\n",
    "    WHEN explicit_sepsis = 1 THEN 1\n",
    "    WHEN infection = 1 AND organ_dysfunction = 1 THEN 1\n",
    "    WHEN infection = 1 AND mech_vent = 1 THEN 1\n",
    "    ELSE 0 END AS Angus\n",
    "FROM aggregate;\n",
    "\n",
    "\"\"\"\n",
    "\n",
    "angus = pd.read_sql_query(query, con)\n",
    "angus.head()"
   ]
  },
  {
   "cell_type": "code",
   "execution_count": 167,
   "metadata": {
    "collapsed": false
   },
   "outputs": [
    {
     "data": {
      "text/plain": [
       "7091"
      ]
     },
     "execution_count": 167,
     "metadata": {},
     "output_type": "execute_result"
    }
   ],
   "source": [
    "len(set(angus.loc[angus['angus'] == 1, 'hadm_id']) & \n",
    "    set(icu_echos['hadm_id']))"
   ]
  },
  {
   "cell_type": "markdown",
   "metadata": {},
   "source": [
    "Echo report also has indication. "
   ]
  },
  {
   "cell_type": "markdown",
   "metadata": {},
   "source": [
    "## Distribution of number of echos by hospitalization day"
   ]
  },
  {
   "cell_type": "code",
   "execution_count": 168,
   "metadata": {
    "collapsed": false
   },
   "outputs": [
    {
     "data": {
      "text/plain": [
       "<matplotlib.text.Text at 0x18bac1a90>"
      ]
     },
     "execution_count": 168,
     "metadata": {},
     "output_type": "execute_result"
    },
    {
     "data": {
      "image/png": "[encoded data removed]",
      "text/plain": [
       "<matplotlib.figure.Figure at 0x13d5b1ef0>"
      ]
     },
     "metadata": {},
     "output_type": "display_data"
    }
   ],
   "source": [
    "icu_echos['time_to_echo'].apply(lambda dt: dt.days).value_counts().sort_index().plot(kind = 'bar')\n",
    "_ = plt.xlim([-0.5, 14.5])\n",
    "plt.xlabel('ICU intime day')\n",
    "plt.ylabel('Number of echos')"
   ]
  },
  {
   "cell_type": "markdown",
   "metadata": {},
   "source": [
    "## Number of patients with outpatient pre-hospitalization echo and ICU hospitalization echo\n",
    "\n",
    "+ Echo reports have a status which is either Inpatient or Outpatient\n",
    "+ Some echos also don't have hadm_ids, and are presumably outpatient"
   ]
  },
  {
   "cell_type": "code",
   "execution_count": 169,
   "metadata": {
    "collapsed": false
   },
   "outputs": [
    {
     "data": {
      "text/html": [
       "<div>\n",
       "<table border=\"1\" class=\"dataframe\">\n",
       "  <thead>\n",
       "    <tr style=\"text-align: right;\">\n",
       "      <th></th>\n",
       "      <th>row_id</th>\n",
       "      <th>hadm_id</th>\n",
       "      <th>subject_id</th>\n",
       "      <th>echo_status</th>\n",
       "      <th>echo_time</th>\n",
       "    </tr>\n",
       "  </thead>\n",
       "  <tbody>\n",
       "    <tr>\n",
       "      <th>0</th>\n",
       "      <td>77922</td>\n",
       "      <td>NaN</td>\n",
       "      <td>7949</td>\n",
       "      <td>Outpatient</td>\n",
       "      <td>2124-08-31 14:00:00</td>\n",
       "    </tr>\n",
       "    <tr>\n",
       "      <th>1</th>\n",
       "      <td>78193</td>\n",
       "      <td>NaN</td>\n",
       "      <td>25929</td>\n",
       "      <td>Outpatient</td>\n",
       "      <td>2201-06-04 13:42:00</td>\n",
       "    </tr>\n",
       "    <tr>\n",
       "      <th>2</th>\n",
       "      <td>78194</td>\n",
       "      <td>NaN</td>\n",
       "      <td>25929</td>\n",
       "      <td>Outpatient</td>\n",
       "      <td>2200-05-14 11:00:00</td>\n",
       "    </tr>\n",
       "    <tr>\n",
       "      <th>6</th>\n",
       "      <td>77565</td>\n",
       "      <td>NaN</td>\n",
       "      <td>12556</td>\n",
       "      <td>Outpatient</td>\n",
       "      <td>2164-08-06 10:00:00</td>\n",
       "    </tr>\n",
       "    <tr>\n",
       "      <th>9</th>\n",
       "      <td>77768</td>\n",
       "      <td>NaN</td>\n",
       "      <td>51754</td>\n",
       "      <td>Outpatient</td>\n",
       "      <td>2101-07-04 14:00:00</td>\n",
       "    </tr>\n",
       "  </tbody>\n",
       "</table>\n",
       "</div>"
      ],
      "text/plain": [
       "   row_id  hadm_id  subject_id echo_status           echo_time\n",
       "0   77922      NaN        7949  Outpatient 2124-08-31 14:00:00\n",
       "1   78193      NaN       25929  Outpatient 2201-06-04 13:42:00\n",
       "2   78194      NaN       25929  Outpatient 2200-05-14 11:00:00\n",
       "6   77565      NaN       12556  Outpatient 2164-08-06 10:00:00\n",
       "9   77768      NaN       51754  Outpatient 2101-07-04 14:00:00"
      ]
     },
     "execution_count": 169,
     "metadata": {},
     "output_type": "execute_result"
    }
   ],
   "source": [
    "query = \\\n",
    "\"\"\"\n",
    "WITH this_echo AS (\n",
    "    SELECT row_id, hadm_id, subject_id,\n",
    "        regexp_replace(regexp_replace(substring(text, 'Status:.+?\\n'), 'Status: ', ''), '\\n', '') AS echo_status, \n",
    "        to_timestamp(\n",
    "        regexp_replace(regexp_replace(regexp_replace(\n",
    "            substring(text from 'Date/Time:.*?\\n'), \n",
    "            'Date/Time: ...', ''), '... at', ''), '\\n', ''), \n",
    "        'YYYY-MM-DD HH24:MI')::timestamp without time zone AS echo_time  \n",
    "    FROM noteevents\n",
    "    WHERE category = 'Echo'\n",
    ")\n",
    "SELECT * FROM this_echo\n",
    "WHERE echo_status = 'Outpatient';\n",
    "\"\"\"\n",
    "\n",
    "outpatient_echos = pd.read_sql_query(query, con)\n",
    "outpatient_echos = outpatient_echos.loc[outpatient_echos['hadm_id'].isnull()] \n",
    "outpatient_echos.head()"
   ]
  },
  {
   "cell_type": "markdown",
   "metadata": {},
   "source": [
    "Count the number of patients where the timestamp on the outpatient echo is EARLIER than the EARLIEST ICU echo. "
   ]
  },
  {
   "cell_type": "code",
   "execution_count": 170,
   "metadata": {
    "collapsed": false
   },
   "outputs": [
    {
     "data": {
      "text/plain": [
       "False    2480\n",
       "True      907\n",
       "dtype: int64"
      ]
     },
     "execution_count": 170,
     "metadata": {},
     "output_type": "execute_result"
    }
   ],
   "source": [
    "res = icu_echos.sort_values('echo_time').groupby('subject_id').first().reset_index().merge(\n",
    "    outpatient_echos, left_on = 'subject_id', right_on = 'subject_id', \n",
    "    suffixes = ['.icu', '.outpatient']\n",
    ")\n",
    "# number of patients where the timestamp on the outpatient echo is earlier than the earliest icu echo\n",
    "(res['echo_time.outpatient'] < res['echo_time.icu']).value_counts()"
   ]
  },
  {
   "cell_type": "markdown",
   "metadata": {},
   "source": [
    "## Number of patients with outpatient(?) post-hospitalization echo and ICU hospitalization echo\n",
    "\n",
    "I noticed that there are some patients that seem to have echos at the start of their ICU stay, and at the end. Should these be included as well? For now, ask for each patient, the number of ICU echos they have, the number of outpatient echos they have, and how many echos they have altogether (including non-ICU, inpatient echos). "
   ]
  },
  {
   "cell_type": "code",
   "execution_count": 171,
   "metadata": {
    "collapsed": false
   },
   "outputs": [
    {
     "data": {
      "text/plain": [
       "<matplotlib.text.Text at 0x13d14b898>"
      ]
     },
     "execution_count": 171,
     "metadata": {},
     "output_type": "execute_result"
    },
    {
     "data": {
      "image/png": "[encoded data removed]",
      "text/plain": [
       "<matplotlib.figure.Figure at 0x177fe1f28>"
      ]
     },
     "metadata": {},
     "output_type": "display_data"
    }
   ],
   "source": [
    "icu_echos['subject_id'].value_counts().value_counts().sort_index().plot(kind = 'bar')\n",
    "plt.xlabel('Number of ICU echos')\n",
    "plt.ylabel('Number of patients')"
   ]
  },
  {
   "cell_type": "code",
   "execution_count": 172,
   "metadata": {
    "collapsed": false
   },
   "outputs": [
    {
     "data": {
      "text/plain": [
       "<matplotlib.text.Text at 0x17de4a160>"
      ]
     },
     "execution_count": 172,
     "metadata": {},
     "output_type": "execute_result"
    },
    {
     "data": {
      "image/png": "[encoded data removed]",
      "text/plain": [
       "<matplotlib.figure.Figure at 0x14bd5fda0>"
      ]
     },
     "metadata": {},
     "output_type": "display_data"
    }
   ],
   "source": [
    "outpatient_echos['subject_id'].value_counts().value_counts().sort_index().plot(kind = 'bar')\n",
    "plt.xlabel('Number of outpatient echos')\n",
    "plt.ylabel('Number of patients')"
   ]
  },
  {
   "cell_type": "code",
   "execution_count": 173,
   "metadata": {
    "collapsed": false
   },
   "outputs": [
    {
     "data": {
      "text/plain": [
       "<matplotlib.text.Text at 0x115f1edd8>"
      ]
     },
     "execution_count": 173,
     "metadata": {},
     "output_type": "execute_result"
    },
    {
     "data": {
      "image/png": "[encoded data removed]",
      "text/plain": [
       "<matplotlib.figure.Figure at 0x17dcd4c18>"
      ]
     },
     "metadata": {},
     "output_type": "display_data"
    }
   ],
   "source": [
    "query = \\\n",
    "\"\"\"\n",
    "SELECT * FROM noteevents\n",
    "WHERE category = 'Echo';\n",
    "\"\"\"\n",
    "\n",
    "all_echos = pd.read_sql_query(query, con)\n",
    "all_echos['subject_id'].value_counts().value_counts().sort_index().plot(kind = 'bar')\n",
    "plt.xlabel('Number of echos')\n",
    "plt.ylabel('Number of patients')"
   ]
  },
  {
   "cell_type": "markdown",
   "metadata": {},
   "source": [
    "## Number of patients on dialysis\n",
    "\n",
    "What is the best way of finding out if a patient is on dialysis? Some possibilities: \n",
    "+ Look in procedures_icd as when looking for sepsis, (inner join on hadm_id) for icd9_code 3895 (ven cath renal dialysis)\n",
    "+ Look in procedureevents_mv (inner join on icustay_id) where item_id has category 'Dialysis' (metavision only)\n",
    "+ Look in inputevents_cv/inputevents_mv or output_events, matching on 'Dialysis' \n",
    "    \n",
    "### Look in procedures_icd"
   ]
  },
  {
   "cell_type": "code",
   "execution_count": 174,
   "metadata": {
    "collapsed": false
   },
   "outputs": [
    {
     "data": {
      "text/html": [
       "<div>\n",
       "<table border=\"1\" class=\"dataframe\">\n",
       "  <thead>\n",
       "    <tr style=\"text-align: right;\">\n",
       "      <th></th>\n",
       "      <th>row_id</th>\n",
       "      <th>icd9_code</th>\n",
       "      <th>short_title</th>\n",
       "      <th>long_title</th>\n",
       "    </tr>\n",
       "  </thead>\n",
       "  <tbody>\n",
       "    <tr>\n",
       "      <th>0</th>\n",
       "      <td>739</td>\n",
       "      <td>3927</td>\n",
       "      <td>Dialysis arteriovenostom</td>\n",
       "      <td>Arteriovenostomy for renal dialysis</td>\n",
       "    </tr>\n",
       "    <tr>\n",
       "      <th>1</th>\n",
       "      <td>746</td>\n",
       "      <td>3942</td>\n",
       "      <td>Revis ren dialysis shunt</td>\n",
       "      <td>Revision of arteriovenous shunt for renal dial...</td>\n",
       "    </tr>\n",
       "    <tr>\n",
       "      <th>2</th>\n",
       "      <td>747</td>\n",
       "      <td>3943</td>\n",
       "      <td>Remov ren dialysis shunt</td>\n",
       "      <td>Removal of arteriovenous shunt for renal dialysis</td>\n",
       "    </tr>\n",
       "    <tr>\n",
       "      <th>3</th>\n",
       "      <td>803</td>\n",
       "      <td>3895</td>\n",
       "      <td>Ven cath renal dialysis</td>\n",
       "      <td>Venous catheterization for renal dialysis</td>\n",
       "    </tr>\n",
       "    <tr>\n",
       "      <th>4</th>\n",
       "      <td>896</td>\n",
       "      <td>1255</td>\n",
       "      <td>Cyclodialysis</td>\n",
       "      <td>Cyclodialysis</td>\n",
       "    </tr>\n",
       "  </tbody>\n",
       "</table>\n",
       "</div>"
      ],
      "text/plain": [
       "   row_id icd9_code               short_title  \\\n",
       "0     739      3927  Dialysis arteriovenostom   \n",
       "1     746      3942  Revis ren dialysis shunt   \n",
       "2     747      3943  Remov ren dialysis shunt   \n",
       "3     803      3895   Ven cath renal dialysis   \n",
       "4     896      1255             Cyclodialysis   \n",
       "\n",
       "                                          long_title  \n",
       "0                Arteriovenostomy for renal dialysis  \n",
       "1  Revision of arteriovenous shunt for renal dial...  \n",
       "2  Removal of arteriovenous shunt for renal dialysis  \n",
       "3          Venous catheterization for renal dialysis  \n",
       "4                                      Cyclodialysis  "
      ]
     },
     "execution_count": 174,
     "metadata": {},
     "output_type": "execute_result"
    }
   ],
   "source": [
    "query = \\\n",
    "\"\"\"\n",
    "SELECT * \n",
    "FROM d_icd_procedures dps\n",
    "WHERE dps.long_title ~* '.*ialy.*';\n",
    "--WHERE dps.icd9_code IN ('3895', '1255')\n",
    "\"\"\"\n",
    "\n",
    "res = pd.read_sql_query(query, con)\n",
    "res.head()"
   ]
  },
  {
   "cell_type": "code",
   "execution_count": 175,
   "metadata": {
    "collapsed": false
   },
   "outputs": [
    {
     "data": {
      "text/html": [
       "<div>\n",
       "<table border=\"1\" class=\"dataframe\">\n",
       "  <thead>\n",
       "    <tr style=\"text-align: right;\">\n",
       "      <th></th>\n",
       "      <th>hadm_id</th>\n",
       "      <th>short_title</th>\n",
       "    </tr>\n",
       "  </thead>\n",
       "  <tbody>\n",
       "    <tr>\n",
       "      <th>0</th>\n",
       "      <td>172648</td>\n",
       "      <td>Ven cath renal dialysis</td>\n",
       "    </tr>\n",
       "    <tr>\n",
       "      <th>1</th>\n",
       "      <td>181171</td>\n",
       "      <td>Ven cath renal dialysis</td>\n",
       "    </tr>\n",
       "    <tr>\n",
       "      <th>2</th>\n",
       "      <td>162994</td>\n",
       "      <td>Ven cath renal dialysis</td>\n",
       "    </tr>\n",
       "    <tr>\n",
       "      <th>3</th>\n",
       "      <td>191476</td>\n",
       "      <td>Ven cath renal dialysis</td>\n",
       "    </tr>\n",
       "    <tr>\n",
       "      <th>4</th>\n",
       "      <td>184235</td>\n",
       "      <td>Ven cath renal dialysis</td>\n",
       "    </tr>\n",
       "  </tbody>\n",
       "</table>\n",
       "</div>"
      ],
      "text/plain": [
       "   hadm_id              short_title\n",
       "0   172648  Ven cath renal dialysis\n",
       "1   181171  Ven cath renal dialysis\n",
       "2   162994  Ven cath renal dialysis\n",
       "3   191476  Ven cath renal dialysis\n",
       "4   184235  Ven cath renal dialysis"
      ]
     },
     "execution_count": 175,
     "metadata": {},
     "output_type": "execute_result"
    }
   ],
   "source": [
    "query = \\\n",
    "\"\"\"\n",
    "SELECT ps.hadm_id, dps.short_title\n",
    "FROM procedures_icd ps\n",
    "INNER JOIN d_icd_procedures dps\n",
    "    ON ps.icd9_code = dps.icd9_code\n",
    "WHERE dps.icd9_code = '3895';\n",
    "\"\"\"\n",
    "\n",
    "dialysis = pd.read_sql_query(query, con)\n",
    "dialysis.head()"
   ]
  },
  {
   "cell_type": "markdown",
   "metadata": {},
   "source": [
    "Number of hospital admissions ids that have echos and that are associated with the procedure ven cath renal dialysis"
   ]
  },
  {
   "cell_type": "code",
   "execution_count": 176,
   "metadata": {
    "collapsed": false
   },
   "outputs": [
    {
     "data": {
      "text/plain": [
       "917"
      ]
     },
     "execution_count": 176,
     "metadata": {},
     "output_type": "execute_result"
    }
   ],
   "source": [
    "len(set(dialysis['hadm_id']) & set(icu_echos['hadm_id']))"
   ]
  },
  {
   "cell_type": "markdown",
   "metadata": {},
   "source": [
    "## Number of patients on ventilator\n",
    "\n",
    "Additionally, to find patients on ventilation: \n",
    "\n",
    "+ Look in cptevents (\"useful for determining if certain procedures have been performed, e.g. ventilation\"). Also see important considerations.\n",
    "+ Note that in determining sepsis, procedures_icd is used\n",
    "\n",
    "Note that cptevents also has a chartdate, which means that it should be possible to check, for example, if the ventilation ocurred at all during the icu_stay where the echo was done. "
   ]
  },
  {
   "cell_type": "code",
   "execution_count": 177,
   "metadata": {
    "collapsed": false
   },
   "outputs": [
    {
     "data": {
      "text/html": [
       "<div>\n",
       "<table border=\"1\" class=\"dataframe\">\n",
       "  <thead>\n",
       "    <tr style=\"text-align: right;\">\n",
       "      <th></th>\n",
       "      <th>description</th>\n",
       "      <th>chartdate</th>\n",
       "      <th>hadm_id</th>\n",
       "    </tr>\n",
       "  </thead>\n",
       "  <tbody>\n",
       "    <tr>\n",
       "      <th>0</th>\n",
       "      <td>VENT MGMT;SUBSQ DAYS(INVASIVE)</td>\n",
       "      <td>2177-11-26</td>\n",
       "      <td>181695</td>\n",
       "    </tr>\n",
       "    <tr>\n",
       "      <th>1</th>\n",
       "      <td>VENT MGMT;SUBSQ DAYS(INVASIVE)</td>\n",
       "      <td>2177-11-27</td>\n",
       "      <td>181695</td>\n",
       "    </tr>\n",
       "    <tr>\n",
       "      <th>2</th>\n",
       "      <td>VENT MGMT;SUBSQ DAYS(INVASIVE)</td>\n",
       "      <td>2177-11-28</td>\n",
       "      <td>181695</td>\n",
       "    </tr>\n",
       "    <tr>\n",
       "      <th>3</th>\n",
       "      <td>VENT MGMT;SUBSQ DAYS(INVASIVE)</td>\n",
       "      <td>2177-11-29</td>\n",
       "      <td>181695</td>\n",
       "    </tr>\n",
       "    <tr>\n",
       "      <th>4</th>\n",
       "      <td>VENT MGMT;SUBSQ DAYS(INVASIVE)</td>\n",
       "      <td>2177-11-30</td>\n",
       "      <td>181695</td>\n",
       "    </tr>\n",
       "  </tbody>\n",
       "</table>\n",
       "</div>"
      ],
      "text/plain": [
       "                      description  chartdate  hadm_id\n",
       "0  VENT MGMT;SUBSQ DAYS(INVASIVE) 2177-11-26   181695\n",
       "1  VENT MGMT;SUBSQ DAYS(INVASIVE) 2177-11-27   181695\n",
       "2  VENT MGMT;SUBSQ DAYS(INVASIVE) 2177-11-28   181695\n",
       "3  VENT MGMT;SUBSQ DAYS(INVASIVE) 2177-11-29   181695\n",
       "4  VENT MGMT;SUBSQ DAYS(INVASIVE) 2177-11-30   181695"
      ]
     },
     "execution_count": 177,
     "metadata": {},
     "output_type": "execute_result"
    }
   ],
   "source": [
    "query = \\\n",
    "\"\"\"\n",
    "SELECT ce.description, ce.chartdate, ce.hadm_id\n",
    "FROM cptevents ce\n",
    "WHERE ce.description ~* '.*vent.*'\n",
    "\"\"\"\n",
    "vent = pd.read_sql_query(query, con)\n",
    "vent.head()"
   ]
  },
  {
   "cell_type": "markdown",
   "metadata": {},
   "source": [
    "Number of hospital admission IDs with ICU echos. "
   ]
  },
  {
   "cell_type": "code",
   "execution_count": 178,
   "metadata": {
    "collapsed": false
   },
   "outputs": [
    {
     "data": {
      "text/plain": [
       "8768"
      ]
     },
     "execution_count": 178,
     "metadata": {},
     "output_type": "execute_result"
    }
   ],
   "source": [
    "len(set(vent['hadm_id']) & set(icu_echos['hadm_id']))"
   ]
  },
  {
   "cell_type": "markdown",
   "metadata": {
    "collapsed": true
   },
   "source": [
    "## Average ICU length of stay"
   ]
  },
  {
   "cell_type": "code",
   "execution_count": 179,
   "metadata": {
    "collapsed": false
   },
   "outputs": [
    {
     "data": {
      "text/plain": [
       "Timedelta('7 days 20:41:21.039698')"
      ]
     },
     "execution_count": 179,
     "metadata": {},
     "output_type": "execute_result"
    }
   ],
   "source": [
    "res = icu_echos.groupby('icustay_id').first()\n",
    "(res['outtime'] - res['intime']).mean()"
   ]
  },
  {
   "cell_type": "code",
   "execution_count": 180,
   "metadata": {
    "collapsed": false
   },
   "outputs": [
    {
     "data": {
      "text/plain": [
       "<matplotlib.text.Text at 0x11fdbb518>"
      ]
     },
     "execution_count": 180,
     "metadata": {},
     "output_type": "execute_result"
    },
    {
     "data": {
      "image/png": "[encoded data removed]",
      "text/plain": [
       "<matplotlib.figure.Figure at 0x18fd5fac8>"
      ]
     },
     "metadata": {},
     "output_type": "display_data"
    }
   ],
   "source": [
    "plt.figure(figsize = (15, 3))\n",
    "(res['outtime'] - res['intime']).apply(lambda dt: dt.days).value_counts().sort_index().plot(kind = 'bar')\n",
    "plt.xlabel('Number of days')\n",
    "plt.ylabel('Number of icustay_ids')"
   ]
  },
  {
   "cell_type": "markdown",
   "metadata": {},
   "source": [
    "## Mortality in ICU\n",
    "\n",
    "For each ICU echo, count the number of instances where death occurred during that ICU stay. Note that DOD gives only the date. The question is if the death occurred before the icustay outtime. "
   ]
  },
  {
   "cell_type": "code",
   "execution_count": 181,
   "metadata": {
    "collapsed": false
   },
   "outputs": [
    {
     "data": {
      "text/plain": [
       "(2906, 14)"
      ]
     },
     "execution_count": 181,
     "metadata": {},
     "output_type": "execute_result"
    }
   ],
   "source": [
    "icu_echos.loc[pd.to_datetime(icu_echos['dod']) < icu_echos['outtime']].shape"
   ]
  },
  {
   "cell_type": "code",
   "execution_count": 182,
   "metadata": {
    "collapsed": false
   },
   "outputs": [
    {
     "data": {
      "text/html": [
       "<div>\n",
       "<table border=\"1\" class=\"dataframe\">\n",
       "  <thead>\n",
       "    <tr style=\"text-align: right;\">\n",
       "      <th></th>\n",
       "      <th>hadm_id</th>\n",
       "      <th>row_id</th>\n",
       "      <th>subject_id</th>\n",
       "      <th>echo_time</th>\n",
       "      <th>text</th>\n",
       "      <th>intime</th>\n",
       "      <th>outtime</th>\n",
       "      <th>icustay_id</th>\n",
       "      <th>dob</th>\n",
       "      <th>dod</th>\n",
       "      <th>dischtime</th>\n",
       "      <th>this_icu</th>\n",
       "      <th>time_to_echo</th>\n",
       "      <th>age</th>\n",
       "    </tr>\n",
       "  </thead>\n",
       "  <tbody>\n",
       "    <tr>\n",
       "      <th>12</th>\n",
       "      <td>185407</td>\n",
       "      <td>78041</td>\n",
       "      <td>29466</td>\n",
       "      <td>2200-05-02 16:10:00</td>\n",
       "      <td>PATIENT/TEST INFORMATION:\\nIndication: Recent ...</td>\n",
       "      <td>2200-05-01 23:05:20</td>\n",
       "      <td>2200-05-03 15:26:48</td>\n",
       "      <td>275996</td>\n",
       "      <td>2121-08-31</td>\n",
       "      <td>2200-05-03</td>\n",
       "      <td>2200-05-03 12:20:00</td>\n",
       "      <td>1</td>\n",
       "      <td>0 days 17:04:40</td>\n",
       "      <td>78.0</td>\n",
       "    </tr>\n",
       "    <tr>\n",
       "      <th>29</th>\n",
       "      <td>111095</td>\n",
       "      <td>77997</td>\n",
       "      <td>11167</td>\n",
       "      <td>2169-04-19 11:25:00</td>\n",
       "      <td>PATIENT/TEST INFORMATION:\\nIndication: Endocar...</td>\n",
       "      <td>2169-03-10 20:21:03</td>\n",
       "      <td>2169-05-06 20:38:06</td>\n",
       "      <td>262941</td>\n",
       "      <td>2120-06-09</td>\n",
       "      <td>2169-05-06</td>\n",
       "      <td>2169-05-06 13:35:00</td>\n",
       "      <td>1</td>\n",
       "      <td>39 days 15:03:57</td>\n",
       "      <td>48.0</td>\n",
       "    </tr>\n",
       "    <tr>\n",
       "      <th>30</th>\n",
       "      <td>111095</td>\n",
       "      <td>77998</td>\n",
       "      <td>11167</td>\n",
       "      <td>2169-04-14 08:57:00</td>\n",
       "      <td>PATIENT/TEST INFORMATION:\\nIndication: Endocar...</td>\n",
       "      <td>2169-03-10 20:21:03</td>\n",
       "      <td>2169-05-06 20:38:06</td>\n",
       "      <td>262941</td>\n",
       "      <td>2120-06-09</td>\n",
       "      <td>2169-05-06</td>\n",
       "      <td>2169-05-06 13:35:00</td>\n",
       "      <td>1</td>\n",
       "      <td>34 days 12:35:57</td>\n",
       "      <td>48.0</td>\n",
       "    </tr>\n",
       "    <tr>\n",
       "      <th>42</th>\n",
       "      <td>182743</td>\n",
       "      <td>77776</td>\n",
       "      <td>164</td>\n",
       "      <td>2117-01-06 11:10:00</td>\n",
       "      <td>PATIENT/TEST INFORMATION:\\nIndication: Left ve...</td>\n",
       "      <td>2116-12-28 15:34:05</td>\n",
       "      <td>2117-01-16 04:01:58</td>\n",
       "      <td>218740</td>\n",
       "      <td>2034-04-26</td>\n",
       "      <td>2117-01-16</td>\n",
       "      <td>2117-01-16 03:20:00</td>\n",
       "      <td>1</td>\n",
       "      <td>8 days 19:35:55</td>\n",
       "      <td>82.0</td>\n",
       "    </tr>\n",
       "    <tr>\n",
       "      <th>44</th>\n",
       "      <td>154616</td>\n",
       "      <td>77645</td>\n",
       "      <td>22358</td>\n",
       "      <td>2167-07-28 15:40:00</td>\n",
       "      <td>PATIENT/TEST INFORMATION:\\nIndication: Left ve...</td>\n",
       "      <td>2167-07-25 17:41:43</td>\n",
       "      <td>2167-08-10 10:29:04</td>\n",
       "      <td>223519</td>\n",
       "      <td>2115-09-04</td>\n",
       "      <td>2167-08-10</td>\n",
       "      <td>2167-08-10 07:00:00</td>\n",
       "      <td>1</td>\n",
       "      <td>2 days 21:58:17</td>\n",
       "      <td>51.0</td>\n",
       "    </tr>\n",
       "  </tbody>\n",
       "</table>\n",
       "</div>"
      ],
      "text/plain": [
       "    hadm_id  row_id  subject_id           echo_time  \\\n",
       "12   185407   78041       29466 2200-05-02 16:10:00   \n",
       "29   111095   77997       11167 2169-04-19 11:25:00   \n",
       "30   111095   77998       11167 2169-04-14 08:57:00   \n",
       "42   182743   77776         164 2117-01-06 11:10:00   \n",
       "44   154616   77645       22358 2167-07-28 15:40:00   \n",
       "\n",
       "                                                 text              intime  \\\n",
       "12  PATIENT/TEST INFORMATION:\\nIndication: Recent ... 2200-05-01 23:05:20   \n",
       "29  PATIENT/TEST INFORMATION:\\nIndication: Endocar... 2169-03-10 20:21:03   \n",
       "30  PATIENT/TEST INFORMATION:\\nIndication: Endocar... 2169-03-10 20:21:03   \n",
       "42  PATIENT/TEST INFORMATION:\\nIndication: Left ve... 2116-12-28 15:34:05   \n",
       "44  PATIENT/TEST INFORMATION:\\nIndication: Left ve... 2167-07-25 17:41:43   \n",
       "\n",
       "               outtime  icustay_id         dob         dod  \\\n",
       "12 2200-05-03 15:26:48      275996  2121-08-31  2200-05-03   \n",
       "29 2169-05-06 20:38:06      262941  2120-06-09  2169-05-06   \n",
       "30 2169-05-06 20:38:06      262941  2120-06-09  2169-05-06   \n",
       "42 2117-01-16 04:01:58      218740  2034-04-26  2117-01-16   \n",
       "44 2167-08-10 10:29:04      223519  2115-09-04  2167-08-10   \n",
       "\n",
       "             dischtime  this_icu     time_to_echo   age  \n",
       "12 2200-05-03 12:20:00         1  0 days 17:04:40  78.0  \n",
       "29 2169-05-06 13:35:00         1 39 days 15:03:57  48.0  \n",
       "30 2169-05-06 13:35:00         1 34 days 12:35:57  48.0  \n",
       "42 2117-01-16 03:20:00         1  8 days 19:35:55  82.0  \n",
       "44 2167-08-10 07:00:00         1  2 days 21:58:17  51.0  "
      ]
     },
     "execution_count": 182,
     "metadata": {},
     "output_type": "execute_result"
    }
   ],
   "source": [
    "icu_echos.loc[pd.to_datetime(icu_echos['dod']) < icu_echos['outtime']].head()"
   ]
  },
  {
   "cell_type": "markdown",
   "metadata": {},
   "source": [
    "## Mortality in hospital\n",
    "\n",
    "For each ICU echo, count the number of instances where death occurred during that hospital admission. Again, note that DOD gives only the date. "
   ]
  },
  {
   "cell_type": "code",
   "execution_count": 183,
   "metadata": {
    "collapsed": false
   },
   "outputs": [
    {
     "data": {
      "text/plain": [
       "(3553, 14)"
      ]
     },
     "execution_count": 183,
     "metadata": {},
     "output_type": "execute_result"
    }
   ],
   "source": [
    "icu_echos.loc[pd.to_datetime(icu_echos['dod']) < icu_echos['dischtime']].shape"
   ]
  },
  {
   "cell_type": "code",
   "execution_count": 184,
   "metadata": {
    "collapsed": false
   },
   "outputs": [
    {
     "data": {
      "text/html": [
       "<div>\n",
       "<table border=\"1\" class=\"dataframe\">\n",
       "  <thead>\n",
       "    <tr style=\"text-align: right;\">\n",
       "      <th></th>\n",
       "      <th>hadm_id</th>\n",
       "      <th>row_id</th>\n",
       "      <th>subject_id</th>\n",
       "      <th>echo_time</th>\n",
       "      <th>text</th>\n",
       "      <th>intime</th>\n",
       "      <th>outtime</th>\n",
       "      <th>icustay_id</th>\n",
       "      <th>dob</th>\n",
       "      <th>dod</th>\n",
       "      <th>dischtime</th>\n",
       "      <th>this_icu</th>\n",
       "      <th>time_to_echo</th>\n",
       "      <th>age</th>\n",
       "    </tr>\n",
       "  </thead>\n",
       "  <tbody>\n",
       "    <tr>\n",
       "      <th>12</th>\n",
       "      <td>185407</td>\n",
       "      <td>78041</td>\n",
       "      <td>29466</td>\n",
       "      <td>2200-05-02 16:10:00</td>\n",
       "      <td>PATIENT/TEST INFORMATION:\\nIndication: Recent ...</td>\n",
       "      <td>2200-05-01 23:05:20</td>\n",
       "      <td>2200-05-03 15:26:48</td>\n",
       "      <td>275996</td>\n",
       "      <td>2121-08-31</td>\n",
       "      <td>2200-05-03</td>\n",
       "      <td>2200-05-03 12:20:00</td>\n",
       "      <td>1</td>\n",
       "      <td>0 days 17:04:40</td>\n",
       "      <td>78.0</td>\n",
       "    </tr>\n",
       "    <tr>\n",
       "      <th>29</th>\n",
       "      <td>111095</td>\n",
       "      <td>77997</td>\n",
       "      <td>11167</td>\n",
       "      <td>2169-04-19 11:25:00</td>\n",
       "      <td>PATIENT/TEST INFORMATION:\\nIndication: Endocar...</td>\n",
       "      <td>2169-03-10 20:21:03</td>\n",
       "      <td>2169-05-06 20:38:06</td>\n",
       "      <td>262941</td>\n",
       "      <td>2120-06-09</td>\n",
       "      <td>2169-05-06</td>\n",
       "      <td>2169-05-06 13:35:00</td>\n",
       "      <td>1</td>\n",
       "      <td>39 days 15:03:57</td>\n",
       "      <td>48.0</td>\n",
       "    </tr>\n",
       "    <tr>\n",
       "      <th>30</th>\n",
       "      <td>111095</td>\n",
       "      <td>77998</td>\n",
       "      <td>11167</td>\n",
       "      <td>2169-04-14 08:57:00</td>\n",
       "      <td>PATIENT/TEST INFORMATION:\\nIndication: Endocar...</td>\n",
       "      <td>2169-03-10 20:21:03</td>\n",
       "      <td>2169-05-06 20:38:06</td>\n",
       "      <td>262941</td>\n",
       "      <td>2120-06-09</td>\n",
       "      <td>2169-05-06</td>\n",
       "      <td>2169-05-06 13:35:00</td>\n",
       "      <td>1</td>\n",
       "      <td>34 days 12:35:57</td>\n",
       "      <td>48.0</td>\n",
       "    </tr>\n",
       "    <tr>\n",
       "      <th>32</th>\n",
       "      <td>115026</td>\n",
       "      <td>77588</td>\n",
       "      <td>6334</td>\n",
       "      <td>2168-01-25 10:06:00</td>\n",
       "      <td>PATIENT/TEST INFORMATION:\\nIndication: Endocar...</td>\n",
       "      <td>2167-12-10 14:40:46</td>\n",
       "      <td>2168-02-05 17:51:20</td>\n",
       "      <td>247862</td>\n",
       "      <td>2097-09-08</td>\n",
       "      <td>2168-02-09</td>\n",
       "      <td>2168-02-09 17:47:00</td>\n",
       "      <td>1</td>\n",
       "      <td>45 days 19:25:14</td>\n",
       "      <td>70.0</td>\n",
       "    </tr>\n",
       "    <tr>\n",
       "      <th>33</th>\n",
       "      <td>115026</td>\n",
       "      <td>77589</td>\n",
       "      <td>6334</td>\n",
       "      <td>2168-01-18 13:29:00</td>\n",
       "      <td>PATIENT/TEST INFORMATION:\\nIndication: Congest...</td>\n",
       "      <td>2167-12-10 14:40:46</td>\n",
       "      <td>2168-02-05 17:51:20</td>\n",
       "      <td>247862</td>\n",
       "      <td>2097-09-08</td>\n",
       "      <td>2168-02-09</td>\n",
       "      <td>2168-02-09 17:47:00</td>\n",
       "      <td>1</td>\n",
       "      <td>38 days 22:48:14</td>\n",
       "      <td>70.0</td>\n",
       "    </tr>\n",
       "  </tbody>\n",
       "</table>\n",
       "</div>"
      ],
      "text/plain": [
       "    hadm_id  row_id  subject_id           echo_time  \\\n",
       "12   185407   78041       29466 2200-05-02 16:10:00   \n",
       "29   111095   77997       11167 2169-04-19 11:25:00   \n",
       "30   111095   77998       11167 2169-04-14 08:57:00   \n",
       "32   115026   77588        6334 2168-01-25 10:06:00   \n",
       "33   115026   77589        6334 2168-01-18 13:29:00   \n",
       "\n",
       "                                                 text              intime  \\\n",
       "12  PATIENT/TEST INFORMATION:\\nIndication: Recent ... 2200-05-01 23:05:20   \n",
       "29  PATIENT/TEST INFORMATION:\\nIndication: Endocar... 2169-03-10 20:21:03   \n",
       "30  PATIENT/TEST INFORMATION:\\nIndication: Endocar... 2169-03-10 20:21:03   \n",
       "32  PATIENT/TEST INFORMATION:\\nIndication: Endocar... 2167-12-10 14:40:46   \n",
       "33  PATIENT/TEST INFORMATION:\\nIndication: Congest... 2167-12-10 14:40:46   \n",
       "\n",
       "               outtime  icustay_id         dob         dod  \\\n",
       "12 2200-05-03 15:26:48      275996  2121-08-31  2200-05-03   \n",
       "29 2169-05-06 20:38:06      262941  2120-06-09  2169-05-06   \n",
       "30 2169-05-06 20:38:06      262941  2120-06-09  2169-05-06   \n",
       "32 2168-02-05 17:51:20      247862  2097-09-08  2168-02-09   \n",
       "33 2168-02-05 17:51:20      247862  2097-09-08  2168-02-09   \n",
       "\n",
       "             dischtime  this_icu     time_to_echo   age  \n",
       "12 2200-05-03 12:20:00         1  0 days 17:04:40  78.0  \n",
       "29 2169-05-06 13:35:00         1 39 days 15:03:57  48.0  \n",
       "30 2169-05-06 13:35:00         1 34 days 12:35:57  48.0  \n",
       "32 2168-02-09 17:47:00         1 45 days 19:25:14  70.0  \n",
       "33 2168-02-09 17:47:00         1 38 days 22:48:14  70.0  "
      ]
     },
     "execution_count": 184,
     "metadata": {},
     "output_type": "execute_result"
    }
   ],
   "source": [
    "icu_echos.loc[pd.to_datetime(icu_echos['dod']) < icu_echos['dischtime']].head()"
   ]
  },
  {
   "cell_type": "markdown",
   "metadata": {},
   "source": [
    "## 30-day mortality\n",
    "\n",
    "For each ICU echo, count the number of instances where death occurred within 30 days of the echo. "
   ]
  },
  {
   "cell_type": "code",
   "execution_count": 192,
   "metadata": {
    "collapsed": false
   },
   "outputs": [
    {
     "data": {
      "text/plain": [
       "(4087, 14)"
      ]
     },
     "execution_count": 192,
     "metadata": {},
     "output_type": "execute_result"
    }
   ],
   "source": [
    "icu_echos.loc[(pd.to_datetime(icu_echos['dod']) - icu_echos['echo_time']) < pd.Timedelta(days = 30)].shape"
   ]
  },
  {
   "cell_type": "code",
   "execution_count": 193,
   "metadata": {
    "collapsed": false
   },
   "outputs": [
    {
     "data": {
      "text/html": [
       "<div>\n",
       "<table border=\"1\" class=\"dataframe\">\n",
       "  <thead>\n",
       "    <tr style=\"text-align: right;\">\n",
       "      <th></th>\n",
       "      <th>hadm_id</th>\n",
       "      <th>row_id</th>\n",
       "      <th>subject_id</th>\n",
       "      <th>echo_time</th>\n",
       "      <th>text</th>\n",
       "      <th>intime</th>\n",
       "      <th>outtime</th>\n",
       "      <th>icustay_id</th>\n",
       "      <th>dob</th>\n",
       "      <th>dod</th>\n",
       "      <th>dischtime</th>\n",
       "      <th>this_icu</th>\n",
       "      <th>time_to_echo</th>\n",
       "      <th>age</th>\n",
       "    </tr>\n",
       "  </thead>\n",
       "  <tbody>\n",
       "    <tr>\n",
       "      <th>10</th>\n",
       "      <td>180391</td>\n",
       "      <td>78037</td>\n",
       "      <td>42346</td>\n",
       "      <td>2160-12-17 10:02:00</td>\n",
       "      <td>PATIENT/TEST INFORMATION:\\nIndication: Atrial ...</td>\n",
       "      <td>2160-12-16 13:47:43</td>\n",
       "      <td>2160-12-17 12:41:12</td>\n",
       "      <td>223285</td>\n",
       "      <td>2072-12-03</td>\n",
       "      <td>2160-12-27</td>\n",
       "      <td>2160-12-21 15:30:00</td>\n",
       "      <td>1</td>\n",
       "      <td>0 days 20:14:17</td>\n",
       "      <td>88.0</td>\n",
       "    </tr>\n",
       "    <tr>\n",
       "      <th>12</th>\n",
       "      <td>185407</td>\n",
       "      <td>78041</td>\n",
       "      <td>29466</td>\n",
       "      <td>2200-05-02 16:10:00</td>\n",
       "      <td>PATIENT/TEST INFORMATION:\\nIndication: Recent ...</td>\n",
       "      <td>2200-05-01 23:05:20</td>\n",
       "      <td>2200-05-03 15:26:48</td>\n",
       "      <td>275996</td>\n",
       "      <td>2121-08-31</td>\n",
       "      <td>2200-05-03</td>\n",
       "      <td>2200-05-03 12:20:00</td>\n",
       "      <td>1</td>\n",
       "      <td>0 days 17:04:40</td>\n",
       "      <td>78.0</td>\n",
       "    </tr>\n",
       "    <tr>\n",
       "      <th>29</th>\n",
       "      <td>111095</td>\n",
       "      <td>77997</td>\n",
       "      <td>11167</td>\n",
       "      <td>2169-04-19 11:25:00</td>\n",
       "      <td>PATIENT/TEST INFORMATION:\\nIndication: Endocar...</td>\n",
       "      <td>2169-03-10 20:21:03</td>\n",
       "      <td>2169-05-06 20:38:06</td>\n",
       "      <td>262941</td>\n",
       "      <td>2120-06-09</td>\n",
       "      <td>2169-05-06</td>\n",
       "      <td>2169-05-06 13:35:00</td>\n",
       "      <td>1</td>\n",
       "      <td>39 days 15:03:57</td>\n",
       "      <td>48.0</td>\n",
       "    </tr>\n",
       "    <tr>\n",
       "      <th>30</th>\n",
       "      <td>111095</td>\n",
       "      <td>77998</td>\n",
       "      <td>11167</td>\n",
       "      <td>2169-04-14 08:57:00</td>\n",
       "      <td>PATIENT/TEST INFORMATION:\\nIndication: Endocar...</td>\n",
       "      <td>2169-03-10 20:21:03</td>\n",
       "      <td>2169-05-06 20:38:06</td>\n",
       "      <td>262941</td>\n",
       "      <td>2120-06-09</td>\n",
       "      <td>2169-05-06</td>\n",
       "      <td>2169-05-06 13:35:00</td>\n",
       "      <td>1</td>\n",
       "      <td>34 days 12:35:57</td>\n",
       "      <td>48.0</td>\n",
       "    </tr>\n",
       "    <tr>\n",
       "      <th>32</th>\n",
       "      <td>115026</td>\n",
       "      <td>77588</td>\n",
       "      <td>6334</td>\n",
       "      <td>2168-01-25 10:06:00</td>\n",
       "      <td>PATIENT/TEST INFORMATION:\\nIndication: Endocar...</td>\n",
       "      <td>2167-12-10 14:40:46</td>\n",
       "      <td>2168-02-05 17:51:20</td>\n",
       "      <td>247862</td>\n",
       "      <td>2097-09-08</td>\n",
       "      <td>2168-02-09</td>\n",
       "      <td>2168-02-09 17:47:00</td>\n",
       "      <td>1</td>\n",
       "      <td>45 days 19:25:14</td>\n",
       "      <td>70.0</td>\n",
       "    </tr>\n",
       "  </tbody>\n",
       "</table>\n",
       "</div>"
      ],
      "text/plain": [
       "    hadm_id  row_id  subject_id           echo_time  \\\n",
       "10   180391   78037       42346 2160-12-17 10:02:00   \n",
       "12   185407   78041       29466 2200-05-02 16:10:00   \n",
       "29   111095   77997       11167 2169-04-19 11:25:00   \n",
       "30   111095   77998       11167 2169-04-14 08:57:00   \n",
       "32   115026   77588        6334 2168-01-25 10:06:00   \n",
       "\n",
       "                                                 text              intime  \\\n",
       "10  PATIENT/TEST INFORMATION:\\nIndication: Atrial ... 2160-12-16 13:47:43   \n",
       "12  PATIENT/TEST INFORMATION:\\nIndication: Recent ... 2200-05-01 23:05:20   \n",
       "29  PATIENT/TEST INFORMATION:\\nIndication: Endocar... 2169-03-10 20:21:03   \n",
       "30  PATIENT/TEST INFORMATION:\\nIndication: Endocar... 2169-03-10 20:21:03   \n",
       "32  PATIENT/TEST INFORMATION:\\nIndication: Endocar... 2167-12-10 14:40:46   \n",
       "\n",
       "               outtime  icustay_id         dob         dod  \\\n",
       "10 2160-12-17 12:41:12      223285  2072-12-03  2160-12-27   \n",
       "12 2200-05-03 15:26:48      275996  2121-08-31  2200-05-03   \n",
       "29 2169-05-06 20:38:06      262941  2120-06-09  2169-05-06   \n",
       "30 2169-05-06 20:38:06      262941  2120-06-09  2169-05-06   \n",
       "32 2168-02-05 17:51:20      247862  2097-09-08  2168-02-09   \n",
       "\n",
       "             dischtime  this_icu     time_to_echo   age  \n",
       "10 2160-12-21 15:30:00         1  0 days 20:14:17  88.0  \n",
       "12 2200-05-03 12:20:00         1  0 days 17:04:40  78.0  \n",
       "29 2169-05-06 13:35:00         1 39 days 15:03:57  48.0  \n",
       "30 2169-05-06 13:35:00         1 34 days 12:35:57  48.0  \n",
       "32 2168-02-09 17:47:00         1 45 days 19:25:14  70.0  "
      ]
     },
     "execution_count": 193,
     "metadata": {},
     "output_type": "execute_result"
    }
   ],
   "source": [
    "icu_echos.loc[(pd.to_datetime(icu_echos['dod']) - icu_echos['echo_time']) < pd.Timedelta(days = 30)].head()"
   ]
  },
  {
   "cell_type": "markdown",
   "metadata": {},
   "source": [
    "## Diagnoses for ICU admission\n",
    "\n",
    "Diagnoses can only be joined to noteevents via hadm_id, and there are no time stamps associated, so it is unclear how to link to a specific ICU stay. I can however grab all the diagnoses associated with a hadm_id. "
   ]
  },
  {
   "cell_type": "code",
   "execution_count": 194,
   "metadata": {
    "collapsed": false
   },
   "outputs": [
    {
     "data": {
      "text/html": [
       "<div>\n",
       "<table border=\"1\" class=\"dataframe\">\n",
       "  <thead>\n",
       "    <tr style=\"text-align: right;\">\n",
       "      <th></th>\n",
       "      <th>hadm_id</th>\n",
       "      <th>short_title</th>\n",
       "      <th>long_title</th>\n",
       "    </tr>\n",
       "  </thead>\n",
       "  <tbody>\n",
       "    <tr>\n",
       "      <th>0</th>\n",
       "      <td>124723</td>\n",
       "      <td>DMII wo cmp nt st uncntr</td>\n",
       "      <td>Diabetes mellitus without mention of complicat...</td>\n",
       "    </tr>\n",
       "    <tr>\n",
       "      <th>1</th>\n",
       "      <td>124723</td>\n",
       "      <td>Posttraumatic stress dis</td>\n",
       "      <td>Posttraumatic stress disorder</td>\n",
       "    </tr>\n",
       "    <tr>\n",
       "      <th>2</th>\n",
       "      <td>124723</td>\n",
       "      <td>Anemia NOS</td>\n",
       "      <td>Anemia, unspecified</td>\n",
       "    </tr>\n",
       "    <tr>\n",
       "      <th>3</th>\n",
       "      <td>124723</td>\n",
       "      <td>Myoclonus</td>\n",
       "      <td>Myoclonus</td>\n",
       "    </tr>\n",
       "    <tr>\n",
       "      <th>4</th>\n",
       "      <td>124723</td>\n",
       "      <td>Drug abuse NEC-unspec</td>\n",
       "      <td>Other, mixed, or unspecified drug abuse, unspe...</td>\n",
       "    </tr>\n",
       "  </tbody>\n",
       "</table>\n",
       "</div>"
      ],
      "text/plain": [
       "   hadm_id               short_title  \\\n",
       "0   124723  DMII wo cmp nt st uncntr   \n",
       "1   124723  Posttraumatic stress dis   \n",
       "2   124723                Anemia NOS   \n",
       "3   124723                 Myoclonus   \n",
       "4   124723     Drug abuse NEC-unspec   \n",
       "\n",
       "                                          long_title  \n",
       "0  Diabetes mellitus without mention of complicat...  \n",
       "1                      Posttraumatic stress disorder  \n",
       "2                                Anemia, unspecified  \n",
       "3                                          Myoclonus  \n",
       "4  Other, mixed, or unspecified drug abuse, unspe...  "
      ]
     },
     "execution_count": 194,
     "metadata": {},
     "output_type": "execute_result"
    }
   ],
   "source": [
    "query = \\\n",
    "\"\"\"\n",
    "SELECT ne.hadm_id, ddg.short_title, ddg.long_title\n",
    "FROM noteevents ne\n",
    "INNER JOIN diagnoses_icd dg\n",
    "    ON ne.hadm_id = dg.hadm_id\n",
    "INNER JOIN d_icd_diagnoses ddg\n",
    "    ON dg.icd9_code = ddg.icd9_code\n",
    "WHERE ne.category = 'Echo'\n",
    "\"\"\"\n",
    "\n",
    "diagnoses = pd.read_sql_query(query, con)\n",
    "diagnoses.head()"
   ]
  },
  {
   "cell_type": "code",
   "execution_count": 195,
   "metadata": {
    "collapsed": false,
    "scrolled": true
   },
   "outputs": [
    {
     "data": {
      "text/plain": [
       "Hypertension NOS            13747\n",
       "CHF NOS                     12907\n",
       "Atrial fibrillation         11929\n",
       "Crnry athrscl natve vssl    11573\n",
       "Acute kidney failure NOS     7671\n",
       "Hyperlipidemia NEC/NOS       7288\n",
       "Acute respiratry failure     6679\n",
       "DMII wo cmp nt st uncntr     6477\n",
       "Urin tract infection NOS     4961\n",
       "Anemia NOS                   4394\n",
       "Name: short_title, dtype: int64"
      ]
     },
     "execution_count": 195,
     "metadata": {},
     "output_type": "execute_result"
    }
   ],
   "source": [
    "diagnoses['short_title'].value_counts().head(n = 10)"
   ]
  },
  {
   "cell_type": "markdown",
   "metadata": {},
   "source": [
    "## Number of patients carrying a diagnosis of heart failure\n",
    "\n",
    "See diagnoses for ICU admission. From [here](http://www.icd9data.com/2012/Volume1/390-459/420-429/428/), heart failure looks like 428-. "
   ]
  },
  {
   "cell_type": "code",
   "execution_count": 196,
   "metadata": {
    "collapsed": false
   },
   "outputs": [
    {
     "data": {
      "text/html": [
       "<div>\n",
       "<table border=\"1\" class=\"dataframe\">\n",
       "  <thead>\n",
       "    <tr style=\"text-align: right;\">\n",
       "      <th></th>\n",
       "      <th>hadm_id</th>\n",
       "      <th>short_title</th>\n",
       "      <th>long_title</th>\n",
       "      <th>icd9_code</th>\n",
       "    </tr>\n",
       "  </thead>\n",
       "  <tbody>\n",
       "    <tr>\n",
       "      <th>0</th>\n",
       "      <td>100035</td>\n",
       "      <td>CHF NOS</td>\n",
       "      <td>Congestive heart failure, unspecified</td>\n",
       "      <td>4280</td>\n",
       "    </tr>\n",
       "    <tr>\n",
       "      <th>1</th>\n",
       "      <td>100035</td>\n",
       "      <td>Chr systolic hrt failure</td>\n",
       "      <td>Chronic systolic heart failure</td>\n",
       "      <td>42822</td>\n",
       "    </tr>\n",
       "    <tr>\n",
       "      <th>2</th>\n",
       "      <td>100036</td>\n",
       "      <td>CHF NOS</td>\n",
       "      <td>Congestive heart failure, unspecified</td>\n",
       "      <td>4280</td>\n",
       "    </tr>\n",
       "    <tr>\n",
       "      <th>3</th>\n",
       "      <td>100036</td>\n",
       "      <td>Ac on chr diast hrt fail</td>\n",
       "      <td>Acute on chronic diastolic heart failure</td>\n",
       "      <td>42833</td>\n",
       "    </tr>\n",
       "    <tr>\n",
       "      <th>4</th>\n",
       "      <td>100039</td>\n",
       "      <td>Ac/chr syst/dia hrt fail</td>\n",
       "      <td>Acute on chronic combined systolic and diastol...</td>\n",
       "      <td>42843</td>\n",
       "    </tr>\n",
       "  </tbody>\n",
       "</table>\n",
       "</div>"
      ],
      "text/plain": [
       "   hadm_id               short_title  \\\n",
       "0   100035                   CHF NOS   \n",
       "1   100035  Chr systolic hrt failure   \n",
       "2   100036                   CHF NOS   \n",
       "3   100036  Ac on chr diast hrt fail   \n",
       "4   100039  Ac/chr syst/dia hrt fail   \n",
       "\n",
       "                                          long_title icd9_code  \n",
       "0              Congestive heart failure, unspecified      4280  \n",
       "1                     Chronic systolic heart failure     42822  \n",
       "2              Congestive heart failure, unspecified      4280  \n",
       "3           Acute on chronic diastolic heart failure     42833  \n",
       "4  Acute on chronic combined systolic and diastol...     42843  "
      ]
     },
     "execution_count": 196,
     "metadata": {},
     "output_type": "execute_result"
    }
   ],
   "source": [
    "query = \\\n",
    "\"\"\"\n",
    "SELECT ne.hadm_id, ddg.short_title, ddg.long_title, dg.icd9_code\n",
    "FROM noteevents ne\n",
    "INNER JOIN diagnoses_icd dg\n",
    "    ON ne.hadm_id = dg.hadm_id\n",
    "INNER JOIN d_icd_diagnoses ddg\n",
    "    ON dg.icd9_code = ddg.icd9_code\n",
    "WHERE ne.category = 'Echo' AND substring(dg.icd9_code,1,3) = '428'\n",
    "\"\"\"\n",
    "\n",
    "heartfailure = pd.read_sql_query(query, con)\n",
    "heartfailure.head()"
   ]
  },
  {
   "cell_type": "markdown",
   "metadata": {},
   "source": [
    "Number of ICU echos associated with an admission ID that has a diagnosis of heart failure"
   ]
  },
  {
   "cell_type": "code",
   "execution_count": 197,
   "metadata": {
    "collapsed": false
   },
   "outputs": [
    {
     "data": {
      "text/plain": [
       "(8937, 14)"
      ]
     },
     "execution_count": 197,
     "metadata": {},
     "output_type": "execute_result"
    }
   ],
   "source": [
    "icu_echos.loc[icu_echos['hadm_id'].apply(lambda d: d in heartfailure['hadm_id'].unique())].shape"
   ]
  },
  {
   "cell_type": "markdown",
   "metadata": {},
   "source": [
    "What makes most sense to me is to count the number of echos which were taken AFTER a diagnosis of heart failure, and so the query should be constructed by patient instead.  "
   ]
  },
  {
   "cell_type": "markdown",
   "metadata": {},
   "source": [
    "## Number of people with valvular heart disease that is moderate or above\n",
    "\n",
    "+ 424.9: Heart disease, unspecified\n",
    "+ 396.9: Mitral and aortic valve diseases, unspecified\n",
    "\n",
    "I'm not sure how to check if the disease is moderate or above? "
   ]
  },
  {
   "cell_type": "markdown",
   "metadata": {},
   "source": [
    "## Number of secondary diagnoses\n",
    "\n",
    "Number of diagnoses associated with each hospital admission. "
   ]
  },
  {
   "cell_type": "code",
   "execution_count": 198,
   "metadata": {
    "collapsed": false
   },
   "outputs": [
    {
     "data": {
      "text/plain": [
       "<matplotlib.text.Text at 0x1a08588d0>"
      ]
     },
     "execution_count": 198,
     "metadata": {},
     "output_type": "execute_result"
    },
    {
     "data": {
      "image/png": "[encoded data removed]",
      "text/plain": [
       "<matplotlib.figure.Figure at 0x1a072f668>"
      ]
     },
     "metadata": {},
     "output_type": "display_data"
    }
   ],
   "source": [
    "diagnoses['hadm_id'].value_counts().value_counts().sort_index().plot()\n",
    "plt.xlabel('Number of diagnoses')\n",
    "plt.ylabel('Number of hospital admission IDs')"
   ]
  },
  {
   "cell_type": "markdown",
   "metadata": {},
   "source": [
    "## Distribution of ages\n",
    "\n",
    ">DOB has been shifted for patients older than 89. The median age for the patients whose date of birth was shifted is 91.4"
   ]
  },
  {
   "cell_type": "code",
   "execution_count": 207,
   "metadata": {
    "collapsed": false
   },
   "outputs": [
    {
     "data": {
      "text/html": [
       "<div>\n",
       "<table border=\"1\" class=\"dataframe\">\n",
       "  <thead>\n",
       "    <tr style=\"text-align: right;\">\n",
       "      <th></th>\n",
       "      <th>hadm_id</th>\n",
       "      <th>row_id</th>\n",
       "      <th>subject_id</th>\n",
       "      <th>echo_time</th>\n",
       "      <th>text</th>\n",
       "      <th>intime</th>\n",
       "      <th>outtime</th>\n",
       "      <th>icustay_id</th>\n",
       "      <th>dob</th>\n",
       "      <th>dod</th>\n",
       "      <th>dischtime</th>\n",
       "      <th>this_icu</th>\n",
       "      <th>time_to_echo</th>\n",
       "      <th>age</th>\n",
       "    </tr>\n",
       "  </thead>\n",
       "  <tbody>\n",
       "    <tr>\n",
       "      <th>90</th>\n",
       "      <td>176993</td>\n",
       "      <td>78031</td>\n",
       "      <td>27163</td>\n",
       "      <td>2129-05-24 12:53:00</td>\n",
       "      <td>PATIENT/TEST INFORMATION:\\nIndication: Chest p...</td>\n",
       "      <td>2129-05-23 20:04:09</td>\n",
       "      <td>2129-05-25 02:47:09</td>\n",
       "      <td>226921</td>\n",
       "      <td>1828-12-30</td>\n",
       "      <td>2129-09-03</td>\n",
       "      <td>2129-05-27 14:34:00</td>\n",
       "      <td>1</td>\n",
       "      <td>0 days 16:48:51</td>\n",
       "      <td>300.0</td>\n",
       "    </tr>\n",
       "    <tr>\n",
       "      <th>91</th>\n",
       "      <td>199439</td>\n",
       "      <td>78032</td>\n",
       "      <td>27163</td>\n",
       "      <td>2129-02-03 09:12:00</td>\n",
       "      <td>PATIENT/TEST INFORMATION:\\nIndication: Cerebro...</td>\n",
       "      <td>2129-02-02 16:23:30</td>\n",
       "      <td>2129-02-03 17:48:18</td>\n",
       "      <td>294109</td>\n",
       "      <td>1828-12-30</td>\n",
       "      <td>2129-09-03</td>\n",
       "      <td>2129-02-09 14:00:00</td>\n",
       "      <td>1</td>\n",
       "      <td>0 days 16:48:30</td>\n",
       "      <td>300.0</td>\n",
       "    </tr>\n",
       "    <tr>\n",
       "      <th>154</th>\n",
       "      <td>180232</td>\n",
       "      <td>78789</td>\n",
       "      <td>13935</td>\n",
       "      <td>2104-06-02 09:23:00</td>\n",
       "      <td>PATIENT/TEST INFORMATION:\\nIndication: Left ve...</td>\n",
       "      <td>2104-06-02 02:35:02</td>\n",
       "      <td>2104-06-03 15:25:45</td>\n",
       "      <td>251740</td>\n",
       "      <td>1804-06-01</td>\n",
       "      <td>2108-04-13</td>\n",
       "      <td>2104-06-09 14:50:00</td>\n",
       "      <td>1</td>\n",
       "      <td>0 days 06:47:58</td>\n",
       "      <td>300.0</td>\n",
       "    </tr>\n",
       "    <tr>\n",
       "      <th>157</th>\n",
       "      <td>176473</td>\n",
       "      <td>78453</td>\n",
       "      <td>71878</td>\n",
       "      <td>2148-09-02 11:47:00</td>\n",
       "      <td>PATIENT/TEST INFORMATION:\\nIndication: Congest...</td>\n",
       "      <td>2148-09-01 23:02:25</td>\n",
       "      <td>2148-09-04 19:59:48</td>\n",
       "      <td>234313</td>\n",
       "      <td>1847-01-24</td>\n",
       "      <td>2149-05-18</td>\n",
       "      <td>2148-09-05 17:11:00</td>\n",
       "      <td>1</td>\n",
       "      <td>0 days 12:44:35</td>\n",
       "      <td>301.0</td>\n",
       "    </tr>\n",
       "    <tr>\n",
       "      <th>186</th>\n",
       "      <td>171473</td>\n",
       "      <td>78607</td>\n",
       "      <td>7637</td>\n",
       "      <td>2134-07-02 10:30:00</td>\n",
       "      <td>PATIENT/TEST INFORMATION:\\nIndication: Left ve...</td>\n",
       "      <td>2134-06-29 21:57:07</td>\n",
       "      <td>2134-07-07 19:48:07</td>\n",
       "      <td>226005</td>\n",
       "      <td>1834-06-26</td>\n",
       "      <td>2134-07-07</td>\n",
       "      <td>2134-07-07 17:45:00</td>\n",
       "      <td>1</td>\n",
       "      <td>2 days 12:32:53</td>\n",
       "      <td>300.0</td>\n",
       "    </tr>\n",
       "  </tbody>\n",
       "</table>\n",
       "</div>"
      ],
      "text/plain": [
       "     hadm_id  row_id  subject_id           echo_time  \\\n",
       "90    176993   78031       27163 2129-05-24 12:53:00   \n",
       "91    199439   78032       27163 2129-02-03 09:12:00   \n",
       "154   180232   78789       13935 2104-06-02 09:23:00   \n",
       "157   176473   78453       71878 2148-09-02 11:47:00   \n",
       "186   171473   78607        7637 2134-07-02 10:30:00   \n",
       "\n",
       "                                                  text              intime  \\\n",
       "90   PATIENT/TEST INFORMATION:\\nIndication: Chest p... 2129-05-23 20:04:09   \n",
       "91   PATIENT/TEST INFORMATION:\\nIndication: Cerebro... 2129-02-02 16:23:30   \n",
       "154  PATIENT/TEST INFORMATION:\\nIndication: Left ve... 2104-06-02 02:35:02   \n",
       "157  PATIENT/TEST INFORMATION:\\nIndication: Congest... 2148-09-01 23:02:25   \n",
       "186  PATIENT/TEST INFORMATION:\\nIndication: Left ve... 2134-06-29 21:57:07   \n",
       "\n",
       "                outtime  icustay_id         dob         dod  \\\n",
       "90  2129-05-25 02:47:09      226921  1828-12-30  2129-09-03   \n",
       "91  2129-02-03 17:48:18      294109  1828-12-30  2129-09-03   \n",
       "154 2104-06-03 15:25:45      251740  1804-06-01  2108-04-13   \n",
       "157 2148-09-04 19:59:48      234313  1847-01-24  2149-05-18   \n",
       "186 2134-07-07 19:48:07      226005  1834-06-26  2134-07-07   \n",
       "\n",
       "              dischtime  this_icu    time_to_echo    age  \n",
       "90  2129-05-27 14:34:00         1 0 days 16:48:51  300.0  \n",
       "91  2129-02-09 14:00:00         1 0 days 16:48:30  300.0  \n",
       "154 2104-06-09 14:50:00         1 0 days 06:47:58  300.0  \n",
       "157 2148-09-05 17:11:00         1 0 days 12:44:35  301.0  \n",
       "186 2134-07-07 17:45:00         1 2 days 12:32:53  300.0  "
      ]
     },
     "execution_count": 207,
     "metadata": {},
     "output_type": "execute_result"
    }
   ],
   "source": [
    "icu_echos.loc[icu_echos['age'] > 100].head()"
   ]
  },
  {
   "cell_type": "code",
   "execution_count": 223,
   "metadata": {
    "collapsed": false
   },
   "outputs": [
    {
     "data": {
      "text/plain": [
       "<matplotlib.axes._subplots.AxesSubplot at 0x18f8d7668>"
      ]
     },
     "execution_count": 223,
     "metadata": {},
     "output_type": "execute_result"
    },
    {
     "data": {
      "image/png": "[encoded data removed]",
      "text/plain": [
       "<matplotlib.figure.Figure at 0x18fac4630>"
      ]
     },
     "metadata": {},
     "output_type": "display_data"
    }
   ],
   "source": [
    "icu_echos['age'].value_counts().sort_index().plot()"
   ]
  },
  {
   "cell_type": "markdown",
   "metadata": {},
   "source": [
    "As a basis for comparison, age at death:"
   ]
  },
  {
   "cell_type": "code",
   "execution_count": 212,
   "metadata": {
    "collapsed": false
   },
   "outputs": [
    {
     "data": {
      "text/html": [
       "<div>\n",
       "<table border=\"1\" class=\"dataframe\">\n",
       "  <thead>\n",
       "    <tr style=\"text-align: right;\">\n",
       "      <th></th>\n",
       "      <th>subject_id</th>\n",
       "      <th>age</th>\n",
       "    </tr>\n",
       "  </thead>\n",
       "  <tbody>\n",
       "    <tr>\n",
       "      <th>0</th>\n",
       "      <td>7949</td>\n",
       "      <td>51.0</td>\n",
       "    </tr>\n",
       "    <tr>\n",
       "      <th>1</th>\n",
       "      <td>13302</td>\n",
       "      <td>39.0</td>\n",
       "    </tr>\n",
       "    <tr>\n",
       "      <th>2</th>\n",
       "      <td>13302</td>\n",
       "      <td>39.0</td>\n",
       "    </tr>\n",
       "    <tr>\n",
       "      <th>3</th>\n",
       "      <td>26212</td>\n",
       "      <td>56.0</td>\n",
       "    </tr>\n",
       "    <tr>\n",
       "      <th>4</th>\n",
       "      <td>9647</td>\n",
       "      <td>85.0</td>\n",
       "    </tr>\n",
       "  </tbody>\n",
       "</table>\n",
       "</div>"
      ],
      "text/plain": [
       "   subject_id   age\n",
       "0        7949  51.0\n",
       "1       13302  39.0\n",
       "2       13302  39.0\n",
       "3       26212  56.0\n",
       "4        9647  85.0"
      ]
     },
     "execution_count": 212,
     "metadata": {},
     "output_type": "execute_result"
    }
   ],
   "source": [
    "query = \\\n",
    "\"\"\"\n",
    "SELECT ps.subject_id, \n",
    "    extract(year from age(ps.dod, ps.dob)) AS age\n",
    "FROM patients ps\n",
    "LEFT JOIN noteevents ne\n",
    "    ON ps.subject_id = ne.subject_id\n",
    "WHERE ne.category = 'Echo' AND ps.expire_flag = 1;\n",
    "\"\"\"\n",
    "\n",
    "ages = pd.read_sql_query(query, con)\n",
    "ages.head()"
   ]
  },
  {
   "cell_type": "code",
   "execution_count": 220,
   "metadata": {
    "collapsed": false
   },
   "outputs": [
    {
     "data": {
      "text/plain": [
       "<matplotlib.axes._subplots.AxesSubplot at 0x19d5f44a8>"
      ]
     },
     "execution_count": 220,
     "metadata": {},
     "output_type": "execute_result"
    },
    {
     "data": {
      "image/png": "[encoded data removed]",
      "text/plain": [
       "<matplotlib.figure.Figure at 0x129a8e748>"
      ]
     },
     "metadata": {},
     "output_type": "display_data"
    }
   ],
   "source": [
    "ages.groupby('subject_id').first()['age'].value_counts().sort_index().plot()"
   ]
  },
  {
   "cell_type": "markdown",
   "metadata": {},
   "source": [
    "## Distribution of genders"
   ]
  },
  {
   "cell_type": "markdown",
   "metadata": {},
   "source": [
    "Across icu echos"
   ]
  },
  {
   "cell_type": "code",
   "execution_count": 227,
   "metadata": {
    "collapsed": false
   },
   "outputs": [
    {
     "data": {
      "text/plain": [
       "M    12578\n",
       "F     9591\n",
       "Name: gender, dtype: int64"
      ]
     },
     "execution_count": 227,
     "metadata": {},
     "output_type": "execute_result"
    }
   ],
   "source": [
    "icu_echos['gender'].value_counts()"
   ]
  },
  {
   "cell_type": "markdown",
   "metadata": {},
   "source": [
    "Across patients who have icu echos"
   ]
  },
  {
   "cell_type": "code",
   "execution_count": 230,
   "metadata": {
    "collapsed": false
   },
   "outputs": [
    {
     "data": {
      "text/plain": [
       "M    8674\n",
       "F    6479\n",
       "Name: gender, dtype: int64"
      ]
     },
     "execution_count": 230,
     "metadata": {},
     "output_type": "execute_result"
    }
   ],
   "source": [
    "icu_echos.groupby('subject_id').first()['gender'].value_counts()"
   ]
  },
  {
   "cell_type": "markdown",
   "metadata": {},
   "source": [
    "## Number of patients who had a BNP or NTproBNP sent\n",
    "\n",
    "Searching for [bnp](https://search.loinc.org/search.zul?query=bnp): "
   ]
  },
  {
   "cell_type": "code",
   "execution_count": 250,
   "metadata": {
    "collapsed": false
   },
   "outputs": [
    {
     "data": {
      "text/html": [
       "<div>\n",
       "<table border=\"1\" class=\"dataframe\">\n",
       "  <thead>\n",
       "    <tr style=\"text-align: right;\">\n",
       "      <th></th>\n",
       "      <th>row_id</th>\n",
       "      <th>itemid</th>\n",
       "      <th>label</th>\n",
       "      <th>fluid</th>\n",
       "      <th>category</th>\n",
       "      <th>loinc_code</th>\n",
       "    </tr>\n",
       "  </thead>\n",
       "  <tbody>\n",
       "    <tr>\n",
       "      <th>0</th>\n",
       "      <td>164</td>\n",
       "      <td>50963</td>\n",
       "      <td>NTproBNP</td>\n",
       "      <td>Blood</td>\n",
       "      <td>Chemistry</td>\n",
       "      <td>33762-6</td>\n",
       "    </tr>\n",
       "  </tbody>\n",
       "</table>\n",
       "</div>"
      ],
      "text/plain": [
       "   row_id  itemid     label  fluid   category loinc_code\n",
       "0     164   50963  NTproBNP  Blood  Chemistry    33762-6"
      ]
     },
     "execution_count": 250,
     "metadata": {},
     "output_type": "execute_result"
    }
   ],
   "source": [
    "query = \\\n",
    "\"\"\"\n",
    "SELECT * FROM d_labitems\n",
    "WHERE loinc_code IN ('42637-9', '30934-4', '35257-5', \n",
    "                     '47092-2', '71425-3', '77622-9', \n",
    "                     '77621-1', '33762-6', '33763-4')\n",
    "\"\"\"\n",
    "\n",
    "labs = pd.read_sql_query(query, con)\n",
    "labs.head()"
   ]
  },
  {
   "cell_type": "markdown",
   "metadata": {},
   "source": [
    "I only find one hit. I can however look for the number of echos associated with a hospital admission ID that is associated with a lab. Labevents also gives charttime. "
   ]
  },
  {
   "cell_type": "code",
   "execution_count": 272,
   "metadata": {
    "collapsed": false
   },
   "outputs": [
    {
     "data": {
      "text/html": [
       "<div>\n",
       "<table border=\"1\" class=\"dataframe\">\n",
       "  <thead>\n",
       "    <tr style=\"text-align: right;\">\n",
       "      <th></th>\n",
       "      <th>hadm_id</th>\n",
       "      <th>row_id</th>\n",
       "      <th>subject_id</th>\n",
       "      <th>echo_time</th>\n",
       "      <th>text</th>\n",
       "      <th>intime</th>\n",
       "      <th>outtime</th>\n",
       "      <th>icustay_id</th>\n",
       "      <th>label</th>\n",
       "      <th>charttime</th>\n",
       "      <th>flag</th>\n",
       "      <th>valuenum</th>\n",
       "      <th>valueuom</th>\n",
       "      <th>this_icu</th>\n",
       "      <th>time_to_echo</th>\n",
       "      <th>age</th>\n",
       "    </tr>\n",
       "  </thead>\n",
       "  <tbody>\n",
       "    <tr>\n",
       "      <th>0</th>\n",
       "      <td>182383</td>\n",
       "      <td>65074</td>\n",
       "      <td>107</td>\n",
       "      <td>2121-12-01 15:18:00</td>\n",
       "      <td>PATIENT/TEST INFORMATION:\\nIndication: Left ve...</td>\n",
       "      <td>2121-11-30 19:24:56</td>\n",
       "      <td>2121-12-01 21:20:57</td>\n",
       "      <td>252542</td>\n",
       "      <td>NTproBNP</td>\n",
       "      <td>2121-11-30 16:10:00</td>\n",
       "      <td>abnormal</td>\n",
       "      <td>3760.0</td>\n",
       "      <td>pg/mL</td>\n",
       "      <td>1</td>\n",
       "      <td>0 days 19:53:04</td>\n",
       "      <td>69.0</td>\n",
       "    </tr>\n",
       "    <tr>\n",
       "      <th>1</th>\n",
       "      <td>103002</td>\n",
       "      <td>99168</td>\n",
       "      <td>222</td>\n",
       "      <td>2143-02-18 08:41:00</td>\n",
       "      <td>PATIENT/TEST INFORMATION:\\nIndication: Dyspnea...</td>\n",
       "      <td>2143-02-16 12:59:06</td>\n",
       "      <td>2143-02-18 18:22:01</td>\n",
       "      <td>256144</td>\n",
       "      <td>NTproBNP</td>\n",
       "      <td>2143-02-16 14:01:00</td>\n",
       "      <td>abnormal</td>\n",
       "      <td>3075.0</td>\n",
       "      <td>pg/mL</td>\n",
       "      <td>1</td>\n",
       "      <td>1 days 19:41:54</td>\n",
       "      <td>69.0</td>\n",
       "    </tr>\n",
       "    <tr>\n",
       "      <th>2</th>\n",
       "      <td>191151</td>\n",
       "      <td>79603</td>\n",
       "      <td>236</td>\n",
       "      <td>2139-03-21 10:49:00</td>\n",
       "      <td>PATIENT/TEST INFORMATION:\\nIndication: Coronar...</td>\n",
       "      <td>2139-03-20 19:43:20</td>\n",
       "      <td>2139-03-22 15:51:23</td>\n",
       "      <td>227008</td>\n",
       "      <td>NTproBNP</td>\n",
       "      <td>2139-03-27 04:42:00</td>\n",
       "      <td>abnormal</td>\n",
       "      <td>9625.0</td>\n",
       "      <td>pg/mL</td>\n",
       "      <td>1</td>\n",
       "      <td>0 days 15:05:40</td>\n",
       "      <td>57.0</td>\n",
       "    </tr>\n",
       "    <tr>\n",
       "      <th>3</th>\n",
       "      <td>191151</td>\n",
       "      <td>79603</td>\n",
       "      <td>236</td>\n",
       "      <td>2139-03-21 10:49:00</td>\n",
       "      <td>PATIENT/TEST INFORMATION:\\nIndication: Coronar...</td>\n",
       "      <td>2139-03-20 19:43:20</td>\n",
       "      <td>2139-03-22 15:51:23</td>\n",
       "      <td>227008</td>\n",
       "      <td>NTproBNP</td>\n",
       "      <td>2139-02-24 08:05:00</td>\n",
       "      <td>abnormal</td>\n",
       "      <td>14147.0</td>\n",
       "      <td>pg/mL</td>\n",
       "      <td>1</td>\n",
       "      <td>0 days 15:05:40</td>\n",
       "      <td>57.0</td>\n",
       "    </tr>\n",
       "    <tr>\n",
       "      <th>4</th>\n",
       "      <td>191151</td>\n",
       "      <td>79603</td>\n",
       "      <td>236</td>\n",
       "      <td>2139-03-21 10:49:00</td>\n",
       "      <td>PATIENT/TEST INFORMATION:\\nIndication: Coronar...</td>\n",
       "      <td>2139-03-20 19:43:20</td>\n",
       "      <td>2139-03-22 15:51:23</td>\n",
       "      <td>227008</td>\n",
       "      <td>NTproBNP</td>\n",
       "      <td>2139-02-25 06:24:00</td>\n",
       "      <td>abnormal</td>\n",
       "      <td>12336.0</td>\n",
       "      <td>pg/mL</td>\n",
       "      <td>1</td>\n",
       "      <td>0 days 15:05:40</td>\n",
       "      <td>57.0</td>\n",
       "    </tr>\n",
       "  </tbody>\n",
       "</table>\n",
       "</div>"
      ],
      "text/plain": [
       "   hadm_id  row_id  subject_id           echo_time  \\\n",
       "0   182383   65074         107 2121-12-01 15:18:00   \n",
       "1   103002   99168         222 2143-02-18 08:41:00   \n",
       "2   191151   79603         236 2139-03-21 10:49:00   \n",
       "3   191151   79603         236 2139-03-21 10:49:00   \n",
       "4   191151   79603         236 2139-03-21 10:49:00   \n",
       "\n",
       "                                                text              intime  \\\n",
       "0  PATIENT/TEST INFORMATION:\\nIndication: Left ve... 2121-11-30 19:24:56   \n",
       "1  PATIENT/TEST INFORMATION:\\nIndication: Dyspnea... 2143-02-16 12:59:06   \n",
       "2  PATIENT/TEST INFORMATION:\\nIndication: Coronar... 2139-03-20 19:43:20   \n",
       "3  PATIENT/TEST INFORMATION:\\nIndication: Coronar... 2139-03-20 19:43:20   \n",
       "4  PATIENT/TEST INFORMATION:\\nIndication: Coronar... 2139-03-20 19:43:20   \n",
       "\n",
       "              outtime  icustay_id     label           charttime      flag  \\\n",
       "0 2121-12-01 21:20:57      252542  NTproBNP 2121-11-30 16:10:00  abnormal   \n",
       "1 2143-02-18 18:22:01      256144  NTproBNP 2143-02-16 14:01:00  abnormal   \n",
       "2 2139-03-22 15:51:23      227008  NTproBNP 2139-03-27 04:42:00  abnormal   \n",
       "3 2139-03-22 15:51:23      227008  NTproBNP 2139-02-24 08:05:00  abnormal   \n",
       "4 2139-03-22 15:51:23      227008  NTproBNP 2139-02-25 06:24:00  abnormal   \n",
       "\n",
       "   valuenum valueuom  this_icu    time_to_echo   age  \n",
       "0    3760.0    pg/mL         1 0 days 19:53:04  69.0  \n",
       "1    3075.0    pg/mL         1 1 days 19:41:54  69.0  \n",
       "2    9625.0    pg/mL         1 0 days 15:05:40  57.0  \n",
       "3   14147.0    pg/mL         1 0 days 15:05:40  57.0  \n",
       "4   12336.0    pg/mL         1 0 days 15:05:40  57.0  "
      ]
     },
     "execution_count": 272,
     "metadata": {},
     "output_type": "execute_result"
    }
   ],
   "source": [
    "query = \\\n",
    "\"\"\"\n",
    "WITH \n",
    "    d_labs AS (\n",
    "    SELECT * FROM d_labitems\n",
    "    WHERE loinc_code IN ('42637-9', '30934-4', '35257-5', \n",
    "                     '47092-2', '71425-3', '77622-9', \n",
    "                     '77621-1', '33762-6', '33763-4')\n",
    "    ), \n",
    "    labs AS (\n",
    "    SELECT le.subject_id, le.hadm_id, le.charttime, \n",
    "        dl.label, le.flag, le.valuenum, le.valueuom\n",
    "    FROM labevents as le\n",
    "    INNER JOIN d_labs as dl\n",
    "        ON le.itemid = dl.itemid\n",
    "    ),\n",
    "-- parse echo report to get echo_time\n",
    "    echos AS (\n",
    "    SELECT hadm_id, row_id, subject_id, text,\n",
    "    -- timestamp for echo\n",
    "    to_timestamp(\n",
    "        regexp_replace(regexp_replace(regexp_replace(\n",
    "            substring(text from 'Date/Time:.*?\\n'), \n",
    "            'Date/Time: ...', ''), '... at', ''), '\\n', ''), \n",
    "        'YYYY-MM-DD HH24:MI')::timestamp without time zone AS echo_time  \n",
    "    FROM noteevents\n",
    "    WHERE category = 'Echo'), \n",
    "-- merge with icustays, get icustay timestamps, and calculate timedeltas wrt echo_time    \n",
    "    this_echo AS (\n",
    "    SELECT ec.hadm_id, ec.row_id, ec.subject_id, ec.echo_time, ec.text,\n",
    "        ie.intime, ie.outtime, ie.icustay_id,\n",
    "        lb.label, lb.charttime, lb.flag, lb.valuenum, lb.valueuom,\n",
    "        CASE \n",
    "        WHEN ((ec.echo_time > ie.intime) AND \n",
    "            (ec.echo_time < ie.outtime)) \n",
    "        THEN 1 ELSE 0 END AS this_icu, \n",
    "        ec.echo_time - ie.intime AS time_to_echo,\n",
    "        -- age in years\n",
    "        extract(year from age(ec.echo_time::date, ps.dob)) AS age \n",
    "    FROM echos ec\n",
    "    INNER JOIN icustays ie\n",
    "        ON ie.hadm_id = ec.hadm_id\n",
    "    INNER JOIN patients ps\n",
    "        ON ie.subject_id = ps.subject_id\n",
    "    INNER JOIN admissions am\n",
    "        ON ie.hadm_id = am.hadm_id\n",
    "    LEFT JOIN labs lb\n",
    "        ON ie.hadm_id = lb.hadm_id)\n",
    "SELECT * \n",
    "FROM this_echo\n",
    "WHERE this_icu = 1\n",
    "\"\"\"\n",
    "\n",
    "bnp = pd.read_sql_query(query, con)\n",
    "bnp.head()"
   ]
  },
  {
   "cell_type": "markdown",
   "metadata": {},
   "source": [
    "Number of hospital admissions with at least 1 NTproBNP lab:"
   ]
  },
  {
   "cell_type": "code",
   "execution_count": 280,
   "metadata": {
    "collapsed": false
   },
   "outputs": [
    {
     "data": {
      "text/plain": [
       "NaN         14633\n",
       "NTproBNP     2329\n",
       "Name: label, dtype: int64"
      ]
     },
     "execution_count": 280,
     "metadata": {},
     "output_type": "execute_result"
    }
   ],
   "source": [
    "bnp.sort_values('label').groupby('hadm_id').first()['label'].value_counts(dropna = False)"
   ]
  },
  {
   "cell_type": "markdown",
   "metadata": {},
   "source": [
    "## Number of patients who had a troponin-I or troponin-T sent"
   ]
  },
  {
   "cell_type": "code",
   "execution_count": 281,
   "metadata": {
    "collapsed": false
   },
   "outputs": [
    {
     "data": {
      "text/html": [
       "<div>\n",
       "<table border=\"1\" class=\"dataframe\">\n",
       "  <thead>\n",
       "    <tr style=\"text-align: right;\">\n",
       "      <th></th>\n",
       "      <th>row_id</th>\n",
       "      <th>itemid</th>\n",
       "      <th>label</th>\n",
       "      <th>fluid</th>\n",
       "      <th>category</th>\n",
       "      <th>loinc_code</th>\n",
       "    </tr>\n",
       "  </thead>\n",
       "  <tbody>\n",
       "    <tr>\n",
       "      <th>0</th>\n",
       "      <td>202</td>\n",
       "      <td>51002</td>\n",
       "      <td>Troponin I</td>\n",
       "      <td>Blood</td>\n",
       "      <td>Chemistry</td>\n",
       "      <td>10839-9</td>\n",
       "    </tr>\n",
       "    <tr>\n",
       "      <th>1</th>\n",
       "      <td>203</td>\n",
       "      <td>51003</td>\n",
       "      <td>Troponin T</td>\n",
       "      <td>Blood</td>\n",
       "      <td>Chemistry</td>\n",
       "      <td>6598-7</td>\n",
       "    </tr>\n",
       "  </tbody>\n",
       "</table>\n",
       "</div>"
      ],
      "text/plain": [
       "   row_id  itemid       label  fluid   category loinc_code\n",
       "0     202   51002  Troponin I  Blood  Chemistry    10839-9\n",
       "1     203   51003  Troponin T  Blood  Chemistry     6598-7"
      ]
     },
     "execution_count": 281,
     "metadata": {},
     "output_type": "execute_result"
    }
   ],
   "source": [
    "query = \\\n",
    "\"\"\"\n",
    "SELECT * FROM d_labitems\n",
    "WHERE loinc_code IN ('67151-1', '16255-2', '42757-5', \n",
    "                     '10839-9', '49563-0', '76399-5', \n",
    "                     '48425-3', '6597-9', '6598-7', \n",
    "                     '48426-1', '33204-9')\n",
    "\"\"\"\n",
    "\n",
    "labs = pd.read_sql_query(query, con)\n",
    "labs.head()"
   ]
  },
  {
   "cell_type": "code",
   "execution_count": 283,
   "metadata": {
    "collapsed": false
   },
   "outputs": [
    {
     "data": {
      "text/html": [
       "<div>\n",
       "<table border=\"1\" class=\"dataframe\">\n",
       "  <thead>\n",
       "    <tr style=\"text-align: right;\">\n",
       "      <th></th>\n",
       "      <th>hadm_id</th>\n",
       "      <th>row_id</th>\n",
       "      <th>subject_id</th>\n",
       "      <th>echo_time</th>\n",
       "      <th>text</th>\n",
       "      <th>intime</th>\n",
       "      <th>outtime</th>\n",
       "      <th>icustay_id</th>\n",
       "      <th>label</th>\n",
       "      <th>charttime</th>\n",
       "      <th>flag</th>\n",
       "      <th>valuenum</th>\n",
       "      <th>valueuom</th>\n",
       "      <th>this_icu</th>\n",
       "      <th>time_to_echo</th>\n",
       "      <th>age</th>\n",
       "    </tr>\n",
       "  </thead>\n",
       "  <tbody>\n",
       "    <tr>\n",
       "      <th>0</th>\n",
       "      <td>129635</td>\n",
       "      <td>78499</td>\n",
       "      <td>25</td>\n",
       "      <td>2160-11-02 11:16:00</td>\n",
       "      <td>PATIENT/TEST INFORMATION:\\nIndication: Left ve...</td>\n",
       "      <td>2160-11-02 03:16:23</td>\n",
       "      <td>2160-11-05 16:23:27</td>\n",
       "      <td>203487</td>\n",
       "      <td>Troponin T</td>\n",
       "      <td>2160-11-02 01:05:00</td>\n",
       "      <td>abnormal</td>\n",
       "      <td>0.11</td>\n",
       "      <td>ng/ml</td>\n",
       "      <td>1</td>\n",
       "      <td>07:59:37</td>\n",
       "      <td>58.0</td>\n",
       "    </tr>\n",
       "    <tr>\n",
       "      <th>1</th>\n",
       "      <td>129635</td>\n",
       "      <td>78499</td>\n",
       "      <td>25</td>\n",
       "      <td>2160-11-02 11:16:00</td>\n",
       "      <td>PATIENT/TEST INFORMATION:\\nIndication: Left ve...</td>\n",
       "      <td>2160-11-02 03:16:23</td>\n",
       "      <td>2160-11-05 16:23:27</td>\n",
       "      <td>203487</td>\n",
       "      <td>Troponin T</td>\n",
       "      <td>2160-11-02 08:55:00</td>\n",
       "      <td>abnormal</td>\n",
       "      <td>0.42</td>\n",
       "      <td>ng/ml</td>\n",
       "      <td>1</td>\n",
       "      <td>07:59:37</td>\n",
       "      <td>58.0</td>\n",
       "    </tr>\n",
       "    <tr>\n",
       "      <th>2</th>\n",
       "      <td>119203</td>\n",
       "      <td>77268</td>\n",
       "      <td>42</td>\n",
       "      <td>2116-04-27 10:14:00</td>\n",
       "      <td>PATIENT/TEST INFORMATION:\\nIndication: Left ve...</td>\n",
       "      <td>2116-04-26 18:59:35</td>\n",
       "      <td>2116-04-28 16:39:05</td>\n",
       "      <td>210828</td>\n",
       "      <td>Troponin T</td>\n",
       "      <td>2116-04-26 20:00:00</td>\n",
       "      <td>None</td>\n",
       "      <td>NaN</td>\n",
       "      <td>ng/mL</td>\n",
       "      <td>1</td>\n",
       "      <td>15:14:25</td>\n",
       "      <td>61.0</td>\n",
       "    </tr>\n",
       "    <tr>\n",
       "      <th>3</th>\n",
       "      <td>119203</td>\n",
       "      <td>77268</td>\n",
       "      <td>42</td>\n",
       "      <td>2116-04-27 10:14:00</td>\n",
       "      <td>PATIENT/TEST INFORMATION:\\nIndication: Left ve...</td>\n",
       "      <td>2116-04-26 18:59:35</td>\n",
       "      <td>2116-04-28 16:39:05</td>\n",
       "      <td>210828</td>\n",
       "      <td>Troponin T</td>\n",
       "      <td>2116-04-27 05:00:00</td>\n",
       "      <td>None</td>\n",
       "      <td>NaN</td>\n",
       "      <td>ng/mL</td>\n",
       "      <td>1</td>\n",
       "      <td>15:14:25</td>\n",
       "      <td>61.0</td>\n",
       "    </tr>\n",
       "    <tr>\n",
       "      <th>4</th>\n",
       "      <td>129635</td>\n",
       "      <td>78499</td>\n",
       "      <td>25</td>\n",
       "      <td>2160-11-02 11:16:00</td>\n",
       "      <td>PATIENT/TEST INFORMATION:\\nIndication: Left ve...</td>\n",
       "      <td>2160-11-02 03:16:23</td>\n",
       "      <td>2160-11-05 16:23:27</td>\n",
       "      <td>203487</td>\n",
       "      <td>Troponin T</td>\n",
       "      <td>2160-11-02 17:05:00</td>\n",
       "      <td>abnormal</td>\n",
       "      <td>1.08</td>\n",
       "      <td>ng/ml</td>\n",
       "      <td>1</td>\n",
       "      <td>07:59:37</td>\n",
       "      <td>58.0</td>\n",
       "    </tr>\n",
       "  </tbody>\n",
       "</table>\n",
       "</div>"
      ],
      "text/plain": [
       "   hadm_id  row_id  subject_id           echo_time  \\\n",
       "0   129635   78499          25 2160-11-02 11:16:00   \n",
       "1   129635   78499          25 2160-11-02 11:16:00   \n",
       "2   119203   77268          42 2116-04-27 10:14:00   \n",
       "3   119203   77268          42 2116-04-27 10:14:00   \n",
       "4   129635   78499          25 2160-11-02 11:16:00   \n",
       "\n",
       "                                                text              intime  \\\n",
       "0  PATIENT/TEST INFORMATION:\\nIndication: Left ve... 2160-11-02 03:16:23   \n",
       "1  PATIENT/TEST INFORMATION:\\nIndication: Left ve... 2160-11-02 03:16:23   \n",
       "2  PATIENT/TEST INFORMATION:\\nIndication: Left ve... 2116-04-26 18:59:35   \n",
       "3  PATIENT/TEST INFORMATION:\\nIndication: Left ve... 2116-04-26 18:59:35   \n",
       "4  PATIENT/TEST INFORMATION:\\nIndication: Left ve... 2160-11-02 03:16:23   \n",
       "\n",
       "              outtime  icustay_id       label           charttime      flag  \\\n",
       "0 2160-11-05 16:23:27      203487  Troponin T 2160-11-02 01:05:00  abnormal   \n",
       "1 2160-11-05 16:23:27      203487  Troponin T 2160-11-02 08:55:00  abnormal   \n",
       "2 2116-04-28 16:39:05      210828  Troponin T 2116-04-26 20:00:00      None   \n",
       "3 2116-04-28 16:39:05      210828  Troponin T 2116-04-27 05:00:00      None   \n",
       "4 2160-11-05 16:23:27      203487  Troponin T 2160-11-02 17:05:00  abnormal   \n",
       "\n",
       "   valuenum valueuom  this_icu  time_to_echo   age  \n",
       "0      0.11    ng/ml         1      07:59:37  58.0  \n",
       "1      0.42    ng/ml         1      07:59:37  58.0  \n",
       "2       NaN    ng/mL         1      15:14:25  61.0  \n",
       "3       NaN    ng/mL         1      15:14:25  61.0  \n",
       "4      1.08    ng/ml         1      07:59:37  58.0  "
      ]
     },
     "execution_count": 283,
     "metadata": {},
     "output_type": "execute_result"
    }
   ],
   "source": [
    "query = \\\n",
    "\"\"\"\n",
    "WITH \n",
    "    d_labs AS (\n",
    "    SELECT * FROM d_labitems\n",
    "    WHERE loinc_code IN ('67151-1', '16255-2', '42757-5', \n",
    "                         '10839-9', '49563-0', '76399-5', \n",
    "                         '48425-3', '6597-9', '6598-7', \n",
    "                         '48426-1', '33204-9')\n",
    "    ),\n",
    "    labs AS (\n",
    "    SELECT le.subject_id, le.hadm_id, le.charttime, \n",
    "        dl.label, le.flag, le.valuenum, le.valueuom\n",
    "    FROM labevents as le\n",
    "    INNER JOIN d_labs as dl\n",
    "        ON le.itemid = dl.itemid\n",
    "    ),\n",
    "-- parse echo report to get echo_time\n",
    "    echos AS (\n",
    "    SELECT hadm_id, row_id, subject_id, text,\n",
    "    -- timestamp for echo\n",
    "    to_timestamp(\n",
    "        regexp_replace(regexp_replace(regexp_replace(\n",
    "            substring(text from 'Date/Time:.*?\\n'), \n",
    "            'Date/Time: ...', ''), '... at', ''), '\\n', ''), \n",
    "        'YYYY-MM-DD HH24:MI')::timestamp without time zone AS echo_time  \n",
    "    FROM noteevents\n",
    "    WHERE category = 'Echo'), \n",
    "-- merge with icustays, get icustay timestamps, and calculate timedeltas wrt echo_time    \n",
    "    this_echo AS (\n",
    "    SELECT ec.hadm_id, ec.row_id, ec.subject_id, ec.echo_time, ec.text,\n",
    "        ie.intime, ie.outtime, ie.icustay_id,\n",
    "        lb.label, lb.charttime, lb.flag, lb.valuenum, lb.valueuom,\n",
    "        CASE \n",
    "        WHEN ((ec.echo_time > ie.intime) AND \n",
    "            (ec.echo_time < ie.outtime)) \n",
    "        THEN 1 ELSE 0 END AS this_icu, \n",
    "        ec.echo_time - ie.intime AS time_to_echo,\n",
    "        -- age in years\n",
    "        extract(year from age(ec.echo_time::date, ps.dob)) AS age \n",
    "    FROM echos ec\n",
    "    INNER JOIN icustays ie\n",
    "        ON ie.hadm_id = ec.hadm_id\n",
    "    INNER JOIN patients ps\n",
    "        ON ie.subject_id = ps.subject_id\n",
    "    INNER JOIN admissions am\n",
    "        ON ie.hadm_id = am.hadm_id\n",
    "    LEFT JOIN labs lb\n",
    "        ON ie.hadm_id = lb.hadm_id)\n",
    "SELECT * \n",
    "FROM this_echo\n",
    "WHERE this_icu = 1\n",
    "\"\"\"\n",
    "\n",
    "troponin = pd.read_sql_query(query, con)\n",
    "troponin.head()"
   ]
  },
  {
   "cell_type": "code",
   "execution_count": 284,
   "metadata": {
    "collapsed": false
   },
   "outputs": [
    {
     "data": {
      "text/plain": [
       "Troponin T    9632\n",
       "NaN           6138\n",
       "Troponin I    1192\n",
       "Name: label, dtype: int64"
      ]
     },
     "execution_count": 284,
     "metadata": {},
     "output_type": "execute_result"
    }
   ],
   "source": [
    "troponin.sort_values('label').groupby('hadm_id').first()['label'].value_counts(dropna = False)"
   ]
  },
  {
   "cell_type": "markdown",
   "metadata": {},
   "source": [
    "## Baseline Creatinine (Cr) prior to the admission\n",
    "\n",
    "## ICU Cr on the day of the echo \n",
    "\n",
    "## Cr measurement post ICU discharge"
   ]
  },
  {
   "cell_type": "code",
   "execution_count": 291,
   "metadata": {
    "collapsed": false
   },
   "outputs": [
    {
     "data": {
      "text/html": [
       "<div>\n",
       "<table border=\"1\" class=\"dataframe\">\n",
       "  <thead>\n",
       "    <tr style=\"text-align: right;\">\n",
       "      <th></th>\n",
       "      <th>row_id</th>\n",
       "      <th>itemid</th>\n",
       "      <th>label</th>\n",
       "      <th>abbreviation</th>\n",
       "      <th>dbsource</th>\n",
       "      <th>linksto</th>\n",
       "      <th>category</th>\n",
       "      <th>unitname</th>\n",
       "      <th>param_type</th>\n",
       "      <th>conceptid</th>\n",
       "    </tr>\n",
       "  </thead>\n",
       "  <tbody>\n",
       "    <tr>\n",
       "      <th>0</th>\n",
       "      <td>457</td>\n",
       "      <td>497</td>\n",
       "      <td>Patient controlled analgesia (PCA) [Inject]</td>\n",
       "      <td>None</td>\n",
       "      <td>carevue</td>\n",
       "      <td>chartevents</td>\n",
       "      <td>None</td>\n",
       "      <td>None</td>\n",
       "      <td>None</td>\n",
       "      <td>None</td>\n",
       "    </tr>\n",
       "    <tr>\n",
       "      <th>1</th>\n",
       "      <td>458</td>\n",
       "      <td>498</td>\n",
       "      <td>PCA Lockout (Min)</td>\n",
       "      <td>None</td>\n",
       "      <td>carevue</td>\n",
       "      <td>chartevents</td>\n",
       "      <td>None</td>\n",
       "      <td>None</td>\n",
       "      <td>None</td>\n",
       "      <td>None</td>\n",
       "    </tr>\n",
       "    <tr>\n",
       "      <th>2</th>\n",
       "      <td>459</td>\n",
       "      <td>499</td>\n",
       "      <td>PCA Medication</td>\n",
       "      <td>None</td>\n",
       "      <td>carevue</td>\n",
       "      <td>chartevents</td>\n",
       "      <td>None</td>\n",
       "      <td>None</td>\n",
       "      <td>None</td>\n",
       "      <td>None</td>\n",
       "    </tr>\n",
       "    <tr>\n",
       "      <th>3</th>\n",
       "      <td>460</td>\n",
       "      <td>500</td>\n",
       "      <td>PCA Total Dose</td>\n",
       "      <td>None</td>\n",
       "      <td>carevue</td>\n",
       "      <td>chartevents</td>\n",
       "      <td>None</td>\n",
       "      <td>None</td>\n",
       "      <td>None</td>\n",
       "      <td>None</td>\n",
       "    </tr>\n",
       "    <tr>\n",
       "      <th>4</th>\n",
       "      <td>461</td>\n",
       "      <td>501</td>\n",
       "      <td>PCV Exh Vt (Obser)</td>\n",
       "      <td>None</td>\n",
       "      <td>carevue</td>\n",
       "      <td>chartevents</td>\n",
       "      <td>None</td>\n",
       "      <td>None</td>\n",
       "      <td>None</td>\n",
       "      <td>None</td>\n",
       "    </tr>\n",
       "  </tbody>\n",
       "</table>\n",
       "</div>"
      ],
      "text/plain": [
       "   row_id  itemid                                        label abbreviation  \\\n",
       "0     457     497  Patient controlled analgesia (PCA) [Inject]         None   \n",
       "1     458     498                            PCA Lockout (Min)         None   \n",
       "2     459     499                               PCA Medication         None   \n",
       "3     460     500                               PCA Total Dose         None   \n",
       "4     461     501                           PCV Exh Vt (Obser)         None   \n",
       "\n",
       "  dbsource      linksto category unitname param_type conceptid  \n",
       "0  carevue  chartevents     None     None       None      None  \n",
       "1  carevue  chartevents     None     None       None      None  \n",
       "2  carevue  chartevents     None     None       None      None  \n",
       "3  carevue  chartevents     None     None       None      None  \n",
       "4  carevue  chartevents     None     None       None      None  "
      ]
     },
     "execution_count": 291,
     "metadata": {},
     "output_type": "execute_result"
    }
   ],
   "source": [
    "query = \\\n",
    "\"\"\"\n",
    "SELECT * FROM d_items;\n",
    "\"\"\"\n",
    "\n",
    "items = pd.read_sql_query(query, con)\n",
    "items.head()"
   ]
  },
  {
   "cell_type": "code",
   "execution_count": 288,
   "metadata": {
    "collapsed": false
   },
   "outputs": [
    {
     "data": {
      "text/html": [
       "<div>\n",
       "<table border=\"1\" class=\"dataframe\">\n",
       "  <thead>\n",
       "    <tr style=\"text-align: right;\">\n",
       "      <th></th>\n",
       "      <th>row_id</th>\n",
       "      <th>itemid</th>\n",
       "      <th>label</th>\n",
       "      <th>abbreviation</th>\n",
       "      <th>dbsource</th>\n",
       "      <th>linksto</th>\n",
       "      <th>category</th>\n",
       "      <th>unitname</th>\n",
       "      <th>param_type</th>\n",
       "      <th>conceptid</th>\n",
       "    </tr>\n",
       "  </thead>\n",
       "  <tbody>\n",
       "    <tr>\n",
       "      <th>1529</th>\n",
       "      <td>710</td>\n",
       "      <td>791</td>\n",
       "      <td>Creatinine (0-1.3)</td>\n",
       "      <td>None</td>\n",
       "      <td>carevue</td>\n",
       "      <td>chartevents</td>\n",
       "      <td>Chemistry</td>\n",
       "      <td>None</td>\n",
       "      <td>None</td>\n",
       "      <td>None</td>\n",
       "    </tr>\n",
       "    <tr>\n",
       "      <th>2460</th>\n",
       "      <td>1914</td>\n",
       "      <td>5811</td>\n",
       "      <td>urine creatinine</td>\n",
       "      <td>None</td>\n",
       "      <td>carevue</td>\n",
       "      <td>chartevents</td>\n",
       "      <td>None</td>\n",
       "      <td>None</td>\n",
       "      <td>None</td>\n",
       "      <td>None</td>\n",
       "    </tr>\n",
       "    <tr>\n",
       "      <th>2687</th>\n",
       "      <td>2871</td>\n",
       "      <td>3750</td>\n",
       "      <td>Creatinine   (0-0.7)</td>\n",
       "      <td>None</td>\n",
       "      <td>carevue</td>\n",
       "      <td>chartevents</td>\n",
       "      <td>Chemistry</td>\n",
       "      <td>None</td>\n",
       "      <td>None</td>\n",
       "      <td>None</td>\n",
       "    </tr>\n",
       "    <tr>\n",
       "      <th>2793</th>\n",
       "      <td>2977</td>\n",
       "      <td>1525</td>\n",
       "      <td>Creatinine</td>\n",
       "      <td>None</td>\n",
       "      <td>carevue</td>\n",
       "      <td>chartevents</td>\n",
       "      <td>Chemistry</td>\n",
       "      <td>None</td>\n",
       "      <td>None</td>\n",
       "      <td>None</td>\n",
       "    </tr>\n",
       "    <tr>\n",
       "      <th>9674</th>\n",
       "      <td>14682</td>\n",
       "      <td>227005</td>\n",
       "      <td>Creatinine_ApacheIV</td>\n",
       "      <td>Creatinine_ApacheIV</td>\n",
       "      <td>metavision</td>\n",
       "      <td>chartevents</td>\n",
       "      <td>Scores - APACHE IV (2)</td>\n",
       "      <td>None</td>\n",
       "      <td>Numeric</td>\n",
       "      <td>None</td>\n",
       "    </tr>\n",
       "    <tr>\n",
       "      <th>11485</th>\n",
       "      <td>12698</td>\n",
       "      <td>220615</td>\n",
       "      <td>Creatinine</td>\n",
       "      <td>Creatinine</td>\n",
       "      <td>metavision</td>\n",
       "      <td>chartevents</td>\n",
       "      <td>Labs</td>\n",
       "      <td>None</td>\n",
       "      <td>Numeric</td>\n",
       "      <td>None</td>\n",
       "    </tr>\n",
       "    <tr>\n",
       "      <th>12476</th>\n",
       "      <td>14512</td>\n",
       "      <td>226751</td>\n",
       "      <td>CreatinineApacheIIScore</td>\n",
       "      <td>CreatinineApacheIIScore</td>\n",
       "      <td>metavision</td>\n",
       "      <td>chartevents</td>\n",
       "      <td>Scores - APACHE II</td>\n",
       "      <td>None</td>\n",
       "      <td>Numeric</td>\n",
       "      <td>None</td>\n",
       "    </tr>\n",
       "    <tr>\n",
       "      <th>12477</th>\n",
       "      <td>14513</td>\n",
       "      <td>226752</td>\n",
       "      <td>CreatinineApacheIIValue</td>\n",
       "      <td>CreatinineApacheIIValue</td>\n",
       "      <td>metavision</td>\n",
       "      <td>chartevents</td>\n",
       "      <td>Scores - APACHE II</td>\n",
       "      <td>None</td>\n",
       "      <td>Numeric</td>\n",
       "      <td>None</td>\n",
       "    </tr>\n",
       "  </tbody>\n",
       "</table>\n",
       "</div>"
      ],
      "text/plain": [
       "       row_id  itemid                    label             abbreviation  \\\n",
       "1529      710     791       Creatinine (0-1.3)                     None   \n",
       "2460     1914    5811         urine creatinine                     None   \n",
       "2687     2871    3750     Creatinine   (0-0.7)                     None   \n",
       "2793     2977    1525               Creatinine                     None   \n",
       "9674    14682  227005      Creatinine_ApacheIV      Creatinine_ApacheIV   \n",
       "11485   12698  220615               Creatinine               Creatinine   \n",
       "12476   14512  226751  CreatinineApacheIIScore  CreatinineApacheIIScore   \n",
       "12477   14513  226752  CreatinineApacheIIValue  CreatinineApacheIIValue   \n",
       "\n",
       "         dbsource      linksto                category unitname param_type  \\\n",
       "1529      carevue  chartevents               Chemistry     None       None   \n",
       "2460      carevue  chartevents                    None     None       None   \n",
       "2687      carevue  chartevents               Chemistry     None       None   \n",
       "2793      carevue  chartevents               Chemistry     None       None   \n",
       "9674   metavision  chartevents  Scores - APACHE IV (2)     None    Numeric   \n",
       "11485  metavision  chartevents                    Labs     None    Numeric   \n",
       "12476  metavision  chartevents      Scores - APACHE II     None    Numeric   \n",
       "12477  metavision  chartevents      Scores - APACHE II     None    Numeric   \n",
       "\n",
       "      conceptid  \n",
       "1529       None  \n",
       "2460       None  \n",
       "2687       None  \n",
       "2793       None  \n",
       "9674       None  \n",
       "11485      None  \n",
       "12476      None  \n",
       "12477      None  "
      ]
     },
     "execution_count": 288,
     "metadata": {},
     "output_type": "execute_result"
    }
   ],
   "source": [
    "items.loc[items['label'].apply(lambda l: 'reatinine' in l if l else False)]"
   ]
  },
  {
   "cell_type": "code",
   "execution_count": 292,
   "metadata": {
    "collapsed": false
   },
   "outputs": [
    {
     "data": {
      "text/html": [
       "<div>\n",
       "<table border=\"1\" class=\"dataframe\">\n",
       "  <thead>\n",
       "    <tr style=\"text-align: right;\">\n",
       "      <th></th>\n",
       "      <th>row_id</th>\n",
       "      <th>itemid</th>\n",
       "      <th>label</th>\n",
       "      <th>abbreviation</th>\n",
       "      <th>dbsource</th>\n",
       "      <th>linksto</th>\n",
       "      <th>category</th>\n",
       "      <th>unitname</th>\n",
       "      <th>param_type</th>\n",
       "      <th>conceptid</th>\n",
       "    </tr>\n",
       "  </thead>\n",
       "  <tbody>\n",
       "    <tr>\n",
       "      <th>774</th>\n",
       "      <td>1151</td>\n",
       "      <td>917</td>\n",
       "      <td>Diagnosis/op</td>\n",
       "      <td>None</td>\n",
       "      <td>carevue</td>\n",
       "      <td>chartevents</td>\n",
       "      <td>None</td>\n",
       "      <td>None</td>\n",
       "      <td>None</td>\n",
       "      <td>None</td>\n",
       "    </tr>\n",
       "    <tr>\n",
       "      <th>9324</th>\n",
       "      <td>14665</td>\n",
       "      <td>226987</td>\n",
       "      <td>APACHE IV diagnosis</td>\n",
       "      <td>APACHE IV diagnosis</td>\n",
       "      <td>metavision</td>\n",
       "      <td>chartevents</td>\n",
       "      <td>Scores - APACHE IV</td>\n",
       "      <td>None</td>\n",
       "      <td>Text</td>\n",
       "      <td>None</td>\n",
       "    </tr>\n",
       "    <tr>\n",
       "      <th>9487</th>\n",
       "      <td>14663</td>\n",
       "      <td>226985</td>\n",
       "      <td>APACHE IV diagnosis choice 1</td>\n",
       "      <td>APACHE IV diagnosis choice 1</td>\n",
       "      <td>metavision</td>\n",
       "      <td>chartevents</td>\n",
       "      <td>Scores - APACHE IV</td>\n",
       "      <td>None</td>\n",
       "      <td>Text</td>\n",
       "      <td>None</td>\n",
       "    </tr>\n",
       "    <tr>\n",
       "      <th>9488</th>\n",
       "      <td>14664</td>\n",
       "      <td>226986</td>\n",
       "      <td>APACHE IV diagnosis choice 2</td>\n",
       "      <td>APACHE IV diagnosis choice 2</td>\n",
       "      <td>metavision</td>\n",
       "      <td>chartevents</td>\n",
       "      <td>Scores - APACHE IV</td>\n",
       "      <td>None</td>\n",
       "      <td>Text</td>\n",
       "      <td>None</td>\n",
       "    </tr>\n",
       "    <tr>\n",
       "      <th>9936</th>\n",
       "      <td>14857</td>\n",
       "      <td>227342</td>\n",
       "      <td>Secondary diagnosis</td>\n",
       "      <td>Secondary diagnosis</td>\n",
       "      <td>metavision</td>\n",
       "      <td>chartevents</td>\n",
       "      <td>Restraint/Support Systems</td>\n",
       "      <td>None</td>\n",
       "      <td>Text</td>\n",
       "      <td>None</td>\n",
       "    </tr>\n",
       "    <tr>\n",
       "      <th>11983</th>\n",
       "      <td>15299</td>\n",
       "      <td>228106</td>\n",
       "      <td>NonOperative Diagnoses</td>\n",
       "      <td>NonOperative Diagnoses</td>\n",
       "      <td>metavision</td>\n",
       "      <td>chartevents</td>\n",
       "      <td>ApacheII Parameters</td>\n",
       "      <td>None</td>\n",
       "      <td>Text</td>\n",
       "      <td>None</td>\n",
       "    </tr>\n",
       "    <tr>\n",
       "      <th>11984</th>\n",
       "      <td>15300</td>\n",
       "      <td>228107</td>\n",
       "      <td>Elective Postoperative Diagnoses</td>\n",
       "      <td>Elective Postoperative Diagnoses</td>\n",
       "      <td>metavision</td>\n",
       "      <td>chartevents</td>\n",
       "      <td>ApacheII Parameters</td>\n",
       "      <td>None</td>\n",
       "      <td>Text</td>\n",
       "      <td>None</td>\n",
       "    </tr>\n",
       "    <tr>\n",
       "      <th>11985</th>\n",
       "      <td>15301</td>\n",
       "      <td>228108</td>\n",
       "      <td>Emergency Postoperative Diagnoses</td>\n",
       "      <td>Emergency Postoperative Diagnoses</td>\n",
       "      <td>metavision</td>\n",
       "      <td>chartevents</td>\n",
       "      <td>ApacheII Parameters</td>\n",
       "      <td>None</td>\n",
       "      <td>Text</td>\n",
       "      <td>None</td>\n",
       "    </tr>\n",
       "    <tr>\n",
       "      <th>11986</th>\n",
       "      <td>15302</td>\n",
       "      <td>228109</td>\n",
       "      <td>APACHE IV diagnoses</td>\n",
       "      <td>APACHE IV diagnoses</td>\n",
       "      <td>metavision</td>\n",
       "      <td>chartevents</td>\n",
       "      <td>ApacheIV Parameters</td>\n",
       "      <td>None</td>\n",
       "      <td>Text</td>\n",
       "      <td>None</td>\n",
       "    </tr>\n",
       "    <tr>\n",
       "      <th>11987</th>\n",
       "      <td>15303</td>\n",
       "      <td>228110</td>\n",
       "      <td>APACHE IV diagnoses-2</td>\n",
       "      <td>APACHE IV diagnoses-2</td>\n",
       "      <td>metavision</td>\n",
       "      <td>chartevents</td>\n",
       "      <td>ApacheIV Parameters</td>\n",
       "      <td>None</td>\n",
       "      <td>Text</td>\n",
       "      <td>None</td>\n",
       "    </tr>\n",
       "    <tr>\n",
       "      <th>12309</th>\n",
       "      <td>14501</td>\n",
       "      <td>226740</td>\n",
       "      <td>APACHE II Diagnosistic weight factors - Medical</td>\n",
       "      <td>Diagnostic weight category - Medical</td>\n",
       "      <td>metavision</td>\n",
       "      <td>chartevents</td>\n",
       "      <td>Scores - APACHE II</td>\n",
       "      <td>None</td>\n",
       "      <td>Text</td>\n",
       "      <td>None</td>\n",
       "    </tr>\n",
       "    <tr>\n",
       "      <th>12466</th>\n",
       "      <td>14502</td>\n",
       "      <td>226741</td>\n",
       "      <td>APACHE II Diagnosistic weight factors - Surgic...</td>\n",
       "      <td>Diagnosistic weight categories - Surgical emer...</td>\n",
       "      <td>metavision</td>\n",
       "      <td>chartevents</td>\n",
       "      <td>Scores - APACHE II</td>\n",
       "      <td>None</td>\n",
       "      <td>Text</td>\n",
       "      <td>None</td>\n",
       "    </tr>\n",
       "    <tr>\n",
       "      <th>12467</th>\n",
       "      <td>14503</td>\n",
       "      <td>226742</td>\n",
       "      <td>APACHE II Diagnosistic weight factors - Surgical</td>\n",
       "      <td>Diagnosistic weight categories - Surgical</td>\n",
       "      <td>metavision</td>\n",
       "      <td>chartevents</td>\n",
       "      <td>Scores - APACHE II</td>\n",
       "      <td>None</td>\n",
       "      <td>Text</td>\n",
       "      <td>None</td>\n",
       "    </tr>\n",
       "  </tbody>\n",
       "</table>\n",
       "</div>"
      ],
      "text/plain": [
       "       row_id  itemid                                              label  \\\n",
       "774      1151     917                                       Diagnosis/op   \n",
       "9324    14665  226987                                APACHE IV diagnosis   \n",
       "9487    14663  226985                       APACHE IV diagnosis choice 1   \n",
       "9488    14664  226986                       APACHE IV diagnosis choice 2   \n",
       "9936    14857  227342                                Secondary diagnosis   \n",
       "11983   15299  228106                             NonOperative Diagnoses   \n",
       "11984   15300  228107                   Elective Postoperative Diagnoses   \n",
       "11985   15301  228108                  Emergency Postoperative Diagnoses   \n",
       "11986   15302  228109                                APACHE IV diagnoses   \n",
       "11987   15303  228110                              APACHE IV diagnoses-2   \n",
       "12309   14501  226740    APACHE II Diagnosistic weight factors - Medical   \n",
       "12466   14502  226741  APACHE II Diagnosistic weight factors - Surgic...   \n",
       "12467   14503  226742   APACHE II Diagnosistic weight factors - Surgical   \n",
       "\n",
       "                                            abbreviation    dbsource  \\\n",
       "774                                                 None     carevue   \n",
       "9324                                 APACHE IV diagnosis  metavision   \n",
       "9487                        APACHE IV diagnosis choice 1  metavision   \n",
       "9488                        APACHE IV diagnosis choice 2  metavision   \n",
       "9936                                 Secondary diagnosis  metavision   \n",
       "11983                             NonOperative Diagnoses  metavision   \n",
       "11984                   Elective Postoperative Diagnoses  metavision   \n",
       "11985                  Emergency Postoperative Diagnoses  metavision   \n",
       "11986                                APACHE IV diagnoses  metavision   \n",
       "11987                              APACHE IV diagnoses-2  metavision   \n",
       "12309               Diagnostic weight category - Medical  metavision   \n",
       "12466  Diagnosistic weight categories - Surgical emer...  metavision   \n",
       "12467          Diagnosistic weight categories - Surgical  metavision   \n",
       "\n",
       "           linksto                   category unitname param_type conceptid  \n",
       "774    chartevents                       None     None       None      None  \n",
       "9324   chartevents         Scores - APACHE IV     None       Text      None  \n",
       "9487   chartevents         Scores - APACHE IV     None       Text      None  \n",
       "9488   chartevents         Scores - APACHE IV     None       Text      None  \n",
       "9936   chartevents  Restraint/Support Systems     None       Text      None  \n",
       "11983  chartevents        ApacheII Parameters     None       Text      None  \n",
       "11984  chartevents        ApacheII Parameters     None       Text      None  \n",
       "11985  chartevents        ApacheII Parameters     None       Text      None  \n",
       "11986  chartevents        ApacheIV Parameters     None       Text      None  \n",
       "11987  chartevents        ApacheIV Parameters     None       Text      None  \n",
       "12309  chartevents         Scores - APACHE II     None       Text      None  \n",
       "12466  chartevents         Scores - APACHE II     None       Text      None  \n",
       "12467  chartevents         Scores - APACHE II     None       Text      None  "
      ]
     },
     "execution_count": 292,
     "metadata": {},
     "output_type": "execute_result"
    }
   ],
   "source": [
    "items.loc[items['label'].apply(lambda l: 'iagn' in l if l else False)]"
   ]
  },
  {
   "cell_type": "code",
   "execution_count": 293,
   "metadata": {
    "collapsed": false
   },
   "outputs": [
    {
     "data": {
      "text/html": [
       "<div>\n",
       "<table border=\"1\" class=\"dataframe\">\n",
       "  <thead>\n",
       "    <tr style=\"text-align: right;\">\n",
       "      <th></th>\n",
       "      <th>row_id</th>\n",
       "      <th>itemid</th>\n",
       "      <th>label</th>\n",
       "      <th>abbreviation</th>\n",
       "      <th>dbsource</th>\n",
       "      <th>linksto</th>\n",
       "      <th>category</th>\n",
       "      <th>unitname</th>\n",
       "      <th>param_type</th>\n",
       "      <th>conceptid</th>\n",
       "    </tr>\n",
       "  </thead>\n",
       "  <tbody>\n",
       "    <tr>\n",
       "      <th>4323</th>\n",
       "      <td>4600</td>\n",
       "      <td>7294</td>\n",
       "      <td>BNP</td>\n",
       "      <td>None</td>\n",
       "      <td>carevue</td>\n",
       "      <td>chartevents</td>\n",
       "      <td>None</td>\n",
       "      <td>None</td>\n",
       "      <td>None</td>\n",
       "      <td>None</td>\n",
       "    </tr>\n",
       "    <tr>\n",
       "      <th>10078</th>\n",
       "      <td>14760</td>\n",
       "      <td>227446</td>\n",
       "      <td>Brain Natiuretic Peptide (BNP)</td>\n",
       "      <td>Brain Natiuretic Peptide (BNP)</td>\n",
       "      <td>metavision</td>\n",
       "      <td>chartevents</td>\n",
       "      <td>Labs</td>\n",
       "      <td>None</td>\n",
       "      <td>Numeric with tag</td>\n",
       "      <td>None</td>\n",
       "    </tr>\n",
       "    <tr>\n",
       "      <th>10505</th>\n",
       "      <td>14079</td>\n",
       "      <td>225622</td>\n",
       "      <td>ZBrain Natiuretic Peptide (BNP)</td>\n",
       "      <td>ZBrain Natiuretic Peptide (BNP)</td>\n",
       "      <td>metavision</td>\n",
       "      <td>chartevents</td>\n",
       "      <td>Labs</td>\n",
       "      <td>None</td>\n",
       "      <td>Numeric</td>\n",
       "      <td>None</td>\n",
       "    </tr>\n",
       "  </tbody>\n",
       "</table>\n",
       "</div>"
      ],
      "text/plain": [
       "       row_id  itemid                            label  \\\n",
       "4323     4600    7294                              BNP   \n",
       "10078   14760  227446   Brain Natiuretic Peptide (BNP)   \n",
       "10505   14079  225622  ZBrain Natiuretic Peptide (BNP)   \n",
       "\n",
       "                          abbreviation    dbsource      linksto category  \\\n",
       "4323                              None     carevue  chartevents     None   \n",
       "10078   Brain Natiuretic Peptide (BNP)  metavision  chartevents     Labs   \n",
       "10505  ZBrain Natiuretic Peptide (BNP)  metavision  chartevents     Labs   \n",
       "\n",
       "      unitname        param_type conceptid  \n",
       "4323      None              None      None  \n",
       "10078     None  Numeric with tag      None  \n",
       "10505     None           Numeric      None  "
      ]
     },
     "execution_count": 293,
     "metadata": {},
     "output_type": "execute_result"
    }
   ],
   "source": [
    "items.loc[items['label'].apply(lambda l: 'BNP' in l if l else False)]"
   ]
  },
  {
   "cell_type": "code",
   "execution_count": null,
   "metadata": {
    "collapsed": true
   },
   "outputs": [],
   "source": []
  }
 ],
 "metadata": {
  "anaconda-cloud": {},
  "kernelspec": {
   "display_name": "Python [Root]",
   "language": "python",
   "name": "Python [Root]"
  },
  "language_info": {
   "codemirror_mode": {
    "name": "ipython",
    "version": 3
   },
   "file_extension": ".py",
   "mimetype": "text/x-python",
   "name": "python",
   "nbconvert_exporter": "python",
   "pygments_lexer": "ipython3",
   "version": "3.5.2"
  }
 },
 "nbformat": 4,
 "nbformat_minor": 0
}
