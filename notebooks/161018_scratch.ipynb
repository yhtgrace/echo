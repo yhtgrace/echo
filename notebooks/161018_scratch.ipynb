{
 "cells": [
  {
   "cell_type": "code",
   "execution_count": 1,
   "metadata": {
    "collapsed": true
   },
   "outputs": [],
   "source": [
    "import numpy as np\n",
    "import pandas as pd\n",
    "import psycopg2\n",
    "\n",
    "import matplotlib.pyplot as plt\n",
    "\n",
    "import matplotlib.style\n",
    "matplotlib.style.use('ggplot')\n",
    "%matplotlib inline"
   ]
  },
  {
   "cell_type": "code",
   "execution_count": 159,
   "metadata": {
    "collapsed": true
   },
   "outputs": [],
   "source": [
    "# create a database connection\n",
    "sqluser = 'mimic'\n",
    "dbname = 'mimic'\n",
    "schema_name = 'mimiciii'\n",
    "\n",
    "if cur: \n",
    "    cur.close()\n",
    "    con.close()\n",
    "\n",
    "con = psycopg2.connect(dbname = dbname, user = sqluser)\n",
    "cur = con.cursor()\n",
    "cur.execute('SET search_path to ' + schema_name)"
   ]
  },
  {
   "cell_type": "markdown",
   "metadata": {},
   "source": [
    "# Sepsis (Angus)\n",
    "\n",
    "The query to get the Angus definition of sepsis is available in mimic_code. It collates information for each `hadm_id`, from `DIAGNOSES_ICD` for infection, organ dysfunction and explicit sespsis and `PROCEDURES_ICD` for mechanical ventilation. The Angus column is set to 1 if `explicit_sepsis` is 1, or if `infection` and `organ_dysfunction` are 1, or if `infection` and `mechanical ventilation` are 1. \n",
    "\n",
    "Note that both `DIAGNOSES_ICD` and `PROCEDURES_ICD` are only associated with `hadm_id` and not `icustay_id`. However, this should not be a problem if we filter the echos for single icu stays. "
   ]
  },
  {
   "cell_type": "code",
   "execution_count": 209,
   "metadata": {
    "collapsed": false
   },
   "outputs": [
    {
     "data": {
      "text/html": [
       "<div>\n",
       "<table border=\"1\" class=\"dataframe\">\n",
       "  <thead>\n",
       "    <tr style=\"text-align: right;\">\n",
       "      <th></th>\n",
       "      <th>subject_id</th>\n",
       "      <th>hadm_id</th>\n",
       "      <th>infection</th>\n",
       "      <th>explicit_sepsis</th>\n",
       "      <th>organ_dysfunction</th>\n",
       "      <th>mech_vent</th>\n",
       "      <th>angus</th>\n",
       "    </tr>\n",
       "  </thead>\n",
       "  <tbody>\n",
       "    <tr>\n",
       "      <th>0</th>\n",
       "      <td>22</td>\n",
       "      <td>165315</td>\n",
       "      <td>0</td>\n",
       "      <td>0</td>\n",
       "      <td>0</td>\n",
       "      <td>1</td>\n",
       "      <td>0</td>\n",
       "    </tr>\n",
       "    <tr>\n",
       "      <th>1</th>\n",
       "      <td>23</td>\n",
       "      <td>152223</td>\n",
       "      <td>0</td>\n",
       "      <td>0</td>\n",
       "      <td>0</td>\n",
       "      <td>0</td>\n",
       "      <td>0</td>\n",
       "    </tr>\n",
       "    <tr>\n",
       "      <th>2</th>\n",
       "      <td>23</td>\n",
       "      <td>124321</td>\n",
       "      <td>0</td>\n",
       "      <td>0</td>\n",
       "      <td>0</td>\n",
       "      <td>0</td>\n",
       "      <td>0</td>\n",
       "    </tr>\n",
       "    <tr>\n",
       "      <th>3</th>\n",
       "      <td>24</td>\n",
       "      <td>161859</td>\n",
       "      <td>0</td>\n",
       "      <td>0</td>\n",
       "      <td>0</td>\n",
       "      <td>0</td>\n",
       "      <td>0</td>\n",
       "    </tr>\n",
       "    <tr>\n",
       "      <th>4</th>\n",
       "      <td>25</td>\n",
       "      <td>129635</td>\n",
       "      <td>0</td>\n",
       "      <td>0</td>\n",
       "      <td>0</td>\n",
       "      <td>0</td>\n",
       "      <td>0</td>\n",
       "    </tr>\n",
       "  </tbody>\n",
       "</table>\n",
       "</div>"
      ],
      "text/plain": [
       "   subject_id  hadm_id  infection  explicit_sepsis  organ_dysfunction  \\\n",
       "0          22   165315          0                0                  0   \n",
       "1          23   152223          0                0                  0   \n",
       "2          23   124321          0                0                  0   \n",
       "3          24   161859          0                0                  0   \n",
       "4          25   129635          0                0                  0   \n",
       "\n",
       "   mech_vent  angus  \n",
       "0          1      0  \n",
       "1          0      0  \n",
       "2          0      0  \n",
       "3          0      0  \n",
       "4          0      0  "
      ]
     },
     "execution_count": 209,
     "metadata": {},
     "output_type": "execute_result"
    }
   ],
   "source": [
    "query = \\\n",
    "\"\"\"\n",
    "SELECT * FROM angus_sepsis;\n",
    "\"\"\"\n",
    "angus = pd.read_sql_query(query, con)\n",
    "angus.head()"
   ]
  },
  {
   "cell_type": "markdown",
   "metadata": {},
   "source": [
    "# Sepsis (proposed)\n",
    "\n",
    "The proposed definition of sepsis from our last meeting was: \n",
    "\n",
    "+ On antibiotics\n",
    "+ On pressors within 48 hours\n",
    "+ Not in cardiogenic shock/pulmonary embolism/haem shock"
   ]
  },
  {
   "cell_type": "code",
   "execution_count": null,
   "metadata": {
    "collapsed": true
   },
   "outputs": [],
   "source": []
  },
  {
   "cell_type": "markdown",
   "metadata": {},
   "source": [
    "# ICU stays with associated echos\n",
    "\n",
    "Extract information about icustays where the icustay_id/hadm_id is associated with an echo. Filter hadm_ids which have multiple icustay_ids. "
   ]
  },
  {
   "cell_type": "code",
   "execution_count": 160,
   "metadata": {
    "collapsed": false
   },
   "outputs": [
    {
     "data": {
      "text/html": [
       "<div>\n",
       "<table border=\"1\" class=\"dataframe\">\n",
       "  <thead>\n",
       "    <tr style=\"text-align: right;\">\n",
       "      <th></th>\n",
       "      <th>row_id</th>\n",
       "      <th>hadm_id</th>\n",
       "      <th>charttime</th>\n",
       "      <th>icustay_id</th>\n",
       "      <th>los_icu</th>\n",
       "      <th>icustay_seq</th>\n",
       "      <th>first_icu_stay</th>\n",
       "      <th>gender</th>\n",
       "      <th>subject_id</th>\n",
       "      <th>admittime</th>\n",
       "      <th>dischtime</th>\n",
       "      <th>ethnicity</th>\n",
       "      <th>age</th>\n",
       "      <th>time_to_echo</th>\n",
       "      <th>max_icustay_seq</th>\n",
       "      <th>time_filter</th>\n",
       "    </tr>\n",
       "  </thead>\n",
       "  <tbody>\n",
       "    <tr>\n",
       "      <th>0</th>\n",
       "      <td>76338</td>\n",
       "      <td>100003</td>\n",
       "      <td>2150-04-18 12:36:00</td>\n",
       "      <td>209281</td>\n",
       "      <td>2.0</td>\n",
       "      <td>1</td>\n",
       "      <td>Y</td>\n",
       "      <td>M</td>\n",
       "      <td>54610</td>\n",
       "      <td>2150-04-17 15:34:00</td>\n",
       "      <td>2150-04-21 17:30:00</td>\n",
       "      <td>WHITE</td>\n",
       "      <td>59.9110</td>\n",
       "      <td>0 days 21:02:00</td>\n",
       "      <td>1</td>\n",
       "      <td>True</td>\n",
       "    </tr>\n",
       "    <tr>\n",
       "      <th>1</th>\n",
       "      <td>68597</td>\n",
       "      <td>100006</td>\n",
       "      <td>2108-04-10 10:01:00</td>\n",
       "      <td>291788</td>\n",
       "      <td>5.0</td>\n",
       "      <td>1</td>\n",
       "      <td>Y</td>\n",
       "      <td>F</td>\n",
       "      <td>9895</td>\n",
       "      <td>2108-04-06 15:49:00</td>\n",
       "      <td>2108-04-18 17:18:00</td>\n",
       "      <td>BLACK/AFRICAN AMERICAN</td>\n",
       "      <td>48.9155</td>\n",
       "      <td>3 days 18:12:00</td>\n",
       "      <td>1</td>\n",
       "      <td>False</td>\n",
       "    </tr>\n",
       "    <tr>\n",
       "      <th>2</th>\n",
       "      <td>77734</td>\n",
       "      <td>100009</td>\n",
       "      <td>2162-05-17 14:55:00</td>\n",
       "      <td>253656</td>\n",
       "      <td>2.0</td>\n",
       "      <td>1</td>\n",
       "      <td>Y</td>\n",
       "      <td>M</td>\n",
       "      <td>533</td>\n",
       "      <td>2162-05-16 15:56:00</td>\n",
       "      <td>2162-05-21 13:37:00</td>\n",
       "      <td>WHITE</td>\n",
       "      <td>60.7953</td>\n",
       "      <td>0 days 22:59:00</td>\n",
       "      <td>1</td>\n",
       "      <td>True</td>\n",
       "    </tr>\n",
       "    <tr>\n",
       "      <th>3</th>\n",
       "      <td>76983</td>\n",
       "      <td>100012</td>\n",
       "      <td>2177-03-15 08:24:00</td>\n",
       "      <td>239289</td>\n",
       "      <td>4.0</td>\n",
       "      <td>1</td>\n",
       "      <td>Y</td>\n",
       "      <td>M</td>\n",
       "      <td>60039</td>\n",
       "      <td>2177-03-12 11:48:00</td>\n",
       "      <td>2177-03-22 14:30:00</td>\n",
       "      <td>WHITE</td>\n",
       "      <td>67.7113</td>\n",
       "      <td>2 days 20:36:00</td>\n",
       "      <td>1</td>\n",
       "      <td>False</td>\n",
       "    </tr>\n",
       "    <tr>\n",
       "      <th>4</th>\n",
       "      <td>76985</td>\n",
       "      <td>100012</td>\n",
       "      <td>2177-03-12 14:54:00</td>\n",
       "      <td>239289</td>\n",
       "      <td>4.0</td>\n",
       "      <td>1</td>\n",
       "      <td>Y</td>\n",
       "      <td>M</td>\n",
       "      <td>60039</td>\n",
       "      <td>2177-03-12 11:48:00</td>\n",
       "      <td>2177-03-22 14:30:00</td>\n",
       "      <td>WHITE</td>\n",
       "      <td>67.7113</td>\n",
       "      <td>0 days 03:06:00</td>\n",
       "      <td>1</td>\n",
       "      <td>True</td>\n",
       "    </tr>\n",
       "  </tbody>\n",
       "</table>\n",
       "</div>"
      ],
      "text/plain": [
       "   row_id  hadm_id           charttime  icustay_id  los_icu  icustay_seq  \\\n",
       "0   76338   100003 2150-04-18 12:36:00      209281      2.0            1   \n",
       "1   68597   100006 2108-04-10 10:01:00      291788      5.0            1   \n",
       "2   77734   100009 2162-05-17 14:55:00      253656      2.0            1   \n",
       "3   76983   100012 2177-03-15 08:24:00      239289      4.0            1   \n",
       "4   76985   100012 2177-03-12 14:54:00      239289      4.0            1   \n",
       "\n",
       "  first_icu_stay gender  subject_id           admittime           dischtime  \\\n",
       "0              Y      M       54610 2150-04-17 15:34:00 2150-04-21 17:30:00   \n",
       "1              Y      F        9895 2108-04-06 15:49:00 2108-04-18 17:18:00   \n",
       "2              Y      M         533 2162-05-16 15:56:00 2162-05-21 13:37:00   \n",
       "3              Y      M       60039 2177-03-12 11:48:00 2177-03-22 14:30:00   \n",
       "4              Y      M       60039 2177-03-12 11:48:00 2177-03-22 14:30:00   \n",
       "\n",
       "                ethnicity      age    time_to_echo  max_icustay_seq  \\\n",
       "0                   WHITE  59.9110 0 days 21:02:00                1   \n",
       "1  BLACK/AFRICAN AMERICAN  48.9155 3 days 18:12:00                1   \n",
       "2                   WHITE  60.7953 0 days 22:59:00                1   \n",
       "3                   WHITE  67.7113 2 days 20:36:00                1   \n",
       "4                   WHITE  67.7113 0 days 03:06:00                1   \n",
       "\n",
       "  time_filter  \n",
       "0        True  \n",
       "1       False  \n",
       "2        True  \n",
       "3       False  \n",
       "4        True  "
      ]
     },
     "execution_count": 160,
     "metadata": {},
     "output_type": "execute_result"
    }
   ],
   "source": [
    "query = \\\n",
    "\"\"\"\n",
    "SELECT * FROM echo_icustay;\n",
    "\"\"\"\n",
    "icu = pd.read_sql_query(query, con)\n",
    "icu.head()"
   ]
  },
  {
   "cell_type": "markdown",
   "metadata": {},
   "source": [
    "Comment out or edit `WHERE max_icustay_seq = 1` to be able to run the next two cells, which looks at the number of icustay_ids within a hadm_id, and an example where there are multiple icustay_ids within a hadm_id. "
   ]
  },
  {
   "cell_type": "code",
   "execution_count": 68,
   "metadata": {
    "collapsed": false
   },
   "outputs": [
    {
     "data": {
      "text/plain": [
       "1    21290\n",
       "2     1861\n",
       "3      257\n",
       "4       47\n",
       "5        7\n",
       "6        3\n",
       "7        2\n",
       "Name: icustay_id, dtype: int64"
      ]
     },
     "execution_count": 68,
     "metadata": {},
     "output_type": "execute_result"
    }
   ],
   "source": [
    "icu.groupby('hadm_id')['icustay_id'].apply(lambda c: len(c.unique())).sort_values(ascending = False).value_counts()"
   ]
  },
  {
   "cell_type": "code",
   "execution_count": 69,
   "metadata": {
    "collapsed": false
   },
   "outputs": [
    {
     "data": {
      "text/html": [
       "<div>\n",
       "<table border=\"1\" class=\"dataframe\">\n",
       "  <thead>\n",
       "    <tr style=\"text-align: right;\">\n",
       "      <th></th>\n",
       "      <th>row_id</th>\n",
       "      <th>hadm_id</th>\n",
       "      <th>charttime</th>\n",
       "      <th>icustay_id</th>\n",
       "      <th>los_icu</th>\n",
       "      <th>icustay_seq</th>\n",
       "      <th>first_icu_stay</th>\n",
       "      <th>gender</th>\n",
       "      <th>admittime</th>\n",
       "      <th>dischtime</th>\n",
       "      <th>ethnicity</th>\n",
       "      <th>admittime</th>\n",
       "      <th>max_icustay_seq</th>\n",
       "    </tr>\n",
       "  </thead>\n",
       "  <tbody>\n",
       "    <tr>\n",
       "      <th>33799</th>\n",
       "      <td>72512</td>\n",
       "      <td>186706</td>\n",
       "      <td>2188-09-08 15:50:00</td>\n",
       "      <td>294576</td>\n",
       "      <td>8.0</td>\n",
       "      <td>1</td>\n",
       "      <td>Y</td>\n",
       "      <td>M</td>\n",
       "      <td>2188-07-16 19:24:00</td>\n",
       "      <td>2188-09-25 14:30:00</td>\n",
       "      <td>WHITE</td>\n",
       "      <td>2188-07-16 19:24:00</td>\n",
       "      <td>7</td>\n",
       "    </tr>\n",
       "    <tr>\n",
       "      <th>33800</th>\n",
       "      <td>72879</td>\n",
       "      <td>186706</td>\n",
       "      <td>2188-09-19 16:32:00</td>\n",
       "      <td>294576</td>\n",
       "      <td>8.0</td>\n",
       "      <td>1</td>\n",
       "      <td>Y</td>\n",
       "      <td>M</td>\n",
       "      <td>2188-07-16 19:24:00</td>\n",
       "      <td>2188-09-25 14:30:00</td>\n",
       "      <td>WHITE</td>\n",
       "      <td>2188-07-16 19:24:00</td>\n",
       "      <td>7</td>\n",
       "    </tr>\n",
       "    <tr>\n",
       "      <th>33801</th>\n",
       "      <td>72880</td>\n",
       "      <td>186706</td>\n",
       "      <td>2188-08-26 11:33:00</td>\n",
       "      <td>294576</td>\n",
       "      <td>8.0</td>\n",
       "      <td>1</td>\n",
       "      <td>Y</td>\n",
       "      <td>M</td>\n",
       "      <td>2188-07-16 19:24:00</td>\n",
       "      <td>2188-09-25 14:30:00</td>\n",
       "      <td>WHITE</td>\n",
       "      <td>2188-07-16 19:24:00</td>\n",
       "      <td>7</td>\n",
       "    </tr>\n",
       "    <tr>\n",
       "      <th>33802</th>\n",
       "      <td>72879</td>\n",
       "      <td>186706</td>\n",
       "      <td>2188-09-19 16:32:00</td>\n",
       "      <td>240759</td>\n",
       "      <td>7.0</td>\n",
       "      <td>2</td>\n",
       "      <td>N</td>\n",
       "      <td>M</td>\n",
       "      <td>2188-07-16 19:24:00</td>\n",
       "      <td>2188-09-25 14:30:00</td>\n",
       "      <td>WHITE</td>\n",
       "      <td>2188-07-16 19:24:00</td>\n",
       "      <td>7</td>\n",
       "    </tr>\n",
       "    <tr>\n",
       "      <th>33803</th>\n",
       "      <td>72512</td>\n",
       "      <td>186706</td>\n",
       "      <td>2188-09-08 15:50:00</td>\n",
       "      <td>240759</td>\n",
       "      <td>7.0</td>\n",
       "      <td>2</td>\n",
       "      <td>N</td>\n",
       "      <td>M</td>\n",
       "      <td>2188-07-16 19:24:00</td>\n",
       "      <td>2188-09-25 14:30:00</td>\n",
       "      <td>WHITE</td>\n",
       "      <td>2188-07-16 19:24:00</td>\n",
       "      <td>7</td>\n",
       "    </tr>\n",
       "  </tbody>\n",
       "</table>\n",
       "</div>"
      ],
      "text/plain": [
       "       row_id  hadm_id           charttime  icustay_id  los_icu  icustay_seq  \\\n",
       "33799   72512   186706 2188-09-08 15:50:00      294576      8.0            1   \n",
       "33800   72879   186706 2188-09-19 16:32:00      294576      8.0            1   \n",
       "33801   72880   186706 2188-08-26 11:33:00      294576      8.0            1   \n",
       "33802   72879   186706 2188-09-19 16:32:00      240759      7.0            2   \n",
       "33803   72512   186706 2188-09-08 15:50:00      240759      7.0            2   \n",
       "\n",
       "      first_icu_stay gender           admittime           dischtime ethnicity  \\\n",
       "33799              Y      M 2188-07-16 19:24:00 2188-09-25 14:30:00     WHITE   \n",
       "33800              Y      M 2188-07-16 19:24:00 2188-09-25 14:30:00     WHITE   \n",
       "33801              Y      M 2188-07-16 19:24:00 2188-09-25 14:30:00     WHITE   \n",
       "33802              N      M 2188-07-16 19:24:00 2188-09-25 14:30:00     WHITE   \n",
       "33803              N      M 2188-07-16 19:24:00 2188-09-25 14:30:00     WHITE   \n",
       "\n",
       "                admittime  max_icustay_seq  \n",
       "33799 2188-07-16 19:24:00                7  \n",
       "33800 2188-07-16 19:24:00                7  \n",
       "33801 2188-07-16 19:24:00                7  \n",
       "33802 2188-07-16 19:24:00                7  \n",
       "33803 2188-07-16 19:24:00                7  "
      ]
     },
     "execution_count": 69,
     "metadata": {},
     "output_type": "execute_result"
    }
   ],
   "source": [
    "icu.loc[icu['hadm_id'] == 186706].head()"
   ]
  },
  {
   "cell_type": "markdown",
   "metadata": {},
   "source": [
    "There are 21290 such echos. "
   ]
  },
  {
   "cell_type": "markdown",
   "metadata": {},
   "source": [
    "## Distribution of number of echos by time w.r.t admittime"
   ]
  },
  {
   "cell_type": "markdown",
   "metadata": {},
   "source": [
    "Count the number of echos between -8 to 48 hours"
   ]
  },
  {
   "cell_type": "code",
   "execution_count": 138,
   "metadata": {
    "collapsed": false
   },
   "outputs": [
    {
     "data": {
      "text/plain": [
       "<matplotlib.axes._subplots.AxesSubplot at 0x131e02390>"
      ]
     },
     "execution_count": 138,
     "metadata": {},
     "output_type": "execute_result"
    },
    {
     "data": {
      "image/png": "[encoded data removed]",
      "text/plain": [
       "<matplotlib.figure.Figure at 0x13053af98>"
      ]
     },
     "metadata": {},
     "output_type": "display_data"
    }
   ],
   "source": [
    "(icu['time_to_echo'] / np.timedelta64(1, 'h')).hist(bins = 100)"
   ]
  },
  {
   "cell_type": "code",
   "execution_count": 139,
   "metadata": {
    "collapsed": false
   },
   "outputs": [
    {
     "data": {
      "image/png": "[encoded data removed]",
      "text/plain": [
       "<matplotlib.figure.Figure at 0x131e71fd0>"
      ]
     },
     "metadata": {},
     "output_type": "display_data"
    }
   ],
   "source": [
    "ax = (icu['time_to_echo'] / np.timedelta64(1, 'h')).hist(bins = 1000)\n",
    "plt.xlim([-48, 240])\n",
    "ticklabels = np.arange(-48, 240)[::24]\n",
    "_ = plt.xticks(ticklabels)"
   ]
  },
  {
   "cell_type": "code",
   "execution_count": 141,
   "metadata": {
    "collapsed": false
   },
   "outputs": [
    {
     "data": {
      "text/plain": [
       "True     16330\n",
       "False    13385\n",
       "Name: time_to_echo, dtype: int64"
      ]
     },
     "execution_count": 141,
     "metadata": {},
     "output_type": "execute_result"
    }
   ],
   "source": [
    "((icu['time_to_echo'] > np.timedelta64(-8, 'h')) & \n",
    " (icu['time_to_echo'] < np.timedelta64(48, 'h'))).value_counts()"
   ]
  },
  {
   "cell_type": "code",
   "execution_count": 147,
   "metadata": {
    "collapsed": false
   },
   "outputs": [
    {
     "data": {
      "text/plain": [
       "True     16330\n",
       "False    13385\n",
       "Name: time_filter, dtype: int64"
      ]
     },
     "execution_count": 147,
     "metadata": {},
     "output_type": "execute_result"
    }
   ],
   "source": [
    "icu['time_filter'].value_counts()"
   ]
  },
  {
   "cell_type": "markdown",
   "metadata": {},
   "source": [
    "There are 16330 ICU echos that were taken between -8 to 48 h. The distributions on gender and age are computed on these: "
   ]
  },
  {
   "cell_type": "markdown",
   "metadata": {},
   "source": [
    "## Distribution on gender"
   ]
  },
  {
   "cell_type": "code",
   "execution_count": 148,
   "metadata": {
    "collapsed": false
   },
   "outputs": [
    {
     "data": {
      "text/plain": [
       "<matplotlib.axes._subplots.AxesSubplot at 0x1305bf438>"
      ]
     },
     "execution_count": 148,
     "metadata": {},
     "output_type": "execute_result"
    },
    {
     "data": {
      "image/png": "[encoded data removed]",
      "text/plain": [
       "<matplotlib.figure.Figure at 0x130e140f0>"
      ]
     },
     "metadata": {},
     "output_type": "display_data"
    }
   ],
   "source": [
    "icu.loc[icu['time_filter'], 'gender'].value_counts().plot(kind = 'bar')"
   ]
  },
  {
   "cell_type": "markdown",
   "metadata": {},
   "source": [
    "## Distribution on age\n",
    "\n",
    "Computed as admittime - dob"
   ]
  },
  {
   "cell_type": "code",
   "execution_count": 150,
   "metadata": {
    "collapsed": false
   },
   "outputs": [
    {
     "data": {
      "text/plain": [
       "<matplotlib.text.Text at 0x13050ab70>"
      ]
     },
     "execution_count": 150,
     "metadata": {},
     "output_type": "execute_result"
    },
    {
     "data": {
      "image/png": "[encoded data removed]",
      "text/plain": [
       "<matplotlib.figure.Figure at 0x1305a9f28>"
      ]
     },
     "metadata": {},
     "output_type": "display_data"
    }
   ],
   "source": [
    "round(icu.loc[icu['time_filter'], 'age']).value_counts().sort_index().plot()\n",
    "plt.xlabel('Age')\n",
    "plt.ylabel('Number of hadm_ids')"
   ]
  },
  {
   "cell_type": "markdown",
   "metadata": {},
   "source": [
    "## Number of echos associated with sepsis (Angus)"
   ]
  },
  {
   "cell_type": "code",
   "execution_count": 212,
   "metadata": {
    "collapsed": false
   },
   "outputs": [
    {
     "data": {
      "text/html": [
       "<div>\n",
       "<table border=\"1\" class=\"dataframe\">\n",
       "  <thead>\n",
       "    <tr style=\"text-align: right;\">\n",
       "      <th></th>\n",
       "      <th>subject_id_angus</th>\n",
       "      <th>hadm_id</th>\n",
       "      <th>infection</th>\n",
       "      <th>explicit_sepsis</th>\n",
       "      <th>organ_dysfunction</th>\n",
       "      <th>mech_vent</th>\n",
       "      <th>angus</th>\n",
       "      <th>row_id</th>\n",
       "      <th>charttime</th>\n",
       "      <th>icustay_id</th>\n",
       "      <th>...</th>\n",
       "      <th>first_icu_stay</th>\n",
       "      <th>gender</th>\n",
       "      <th>subject_id_icu</th>\n",
       "      <th>admittime</th>\n",
       "      <th>dischtime</th>\n",
       "      <th>ethnicity</th>\n",
       "      <th>age</th>\n",
       "      <th>time_to_echo</th>\n",
       "      <th>max_icustay_seq</th>\n",
       "      <th>time_filter</th>\n",
       "    </tr>\n",
       "  </thead>\n",
       "  <tbody>\n",
       "    <tr>\n",
       "      <th>0</th>\n",
       "      <td>24</td>\n",
       "      <td>161859</td>\n",
       "      <td>0</td>\n",
       "      <td>0</td>\n",
       "      <td>0</td>\n",
       "      <td>0</td>\n",
       "      <td>0</td>\n",
       "      <td>78797</td>\n",
       "      <td>2139-06-08 10:31:00</td>\n",
       "      <td>262236</td>\n",
       "      <td>...</td>\n",
       "      <td>Y</td>\n",
       "      <td>M</td>\n",
       "      <td>24</td>\n",
       "      <td>2139-06-06 16:14:00</td>\n",
       "      <td>2139-06-09 12:48:00</td>\n",
       "      <td>WHITE</td>\n",
       "      <td>39.0152</td>\n",
       "      <td>1 days 18:17:00</td>\n",
       "      <td>1</td>\n",
       "      <td>True</td>\n",
       "    </tr>\n",
       "    <tr>\n",
       "      <th>1</th>\n",
       "      <td>25</td>\n",
       "      <td>129635</td>\n",
       "      <td>0</td>\n",
       "      <td>0</td>\n",
       "      <td>0</td>\n",
       "      <td>0</td>\n",
       "      <td>0</td>\n",
       "      <td>78499</td>\n",
       "      <td>2160-11-02 11:16:00</td>\n",
       "      <td>203487</td>\n",
       "      <td>...</td>\n",
       "      <td>Y</td>\n",
       "      <td>M</td>\n",
       "      <td>25</td>\n",
       "      <td>2160-11-02 02:06:00</td>\n",
       "      <td>2160-11-05 14:55:00</td>\n",
       "      <td>WHITE</td>\n",
       "      <td>58.9500</td>\n",
       "      <td>0 days 09:10:00</td>\n",
       "      <td>1</td>\n",
       "      <td>True</td>\n",
       "    </tr>\n",
       "    <tr>\n",
       "      <th>2</th>\n",
       "      <td>26</td>\n",
       "      <td>197661</td>\n",
       "      <td>0</td>\n",
       "      <td>0</td>\n",
       "      <td>0</td>\n",
       "      <td>0</td>\n",
       "      <td>0</td>\n",
       "      <td>65191</td>\n",
       "      <td>2126-05-10 11:47:00</td>\n",
       "      <td>244882</td>\n",
       "      <td>...</td>\n",
       "      <td>Y</td>\n",
       "      <td>M</td>\n",
       "      <td>26</td>\n",
       "      <td>2126-05-06 15:16:00</td>\n",
       "      <td>2126-05-13 15:00:00</td>\n",
       "      <td>UNKNOWN/NOT SPECIFIED</td>\n",
       "      <td>72.0043</td>\n",
       "      <td>3 days 20:31:00</td>\n",
       "      <td>1</td>\n",
       "      <td>False</td>\n",
       "    </tr>\n",
       "    <tr>\n",
       "      <th>3</th>\n",
       "      <td>30</td>\n",
       "      <td>104557</td>\n",
       "      <td>0</td>\n",
       "      <td>0</td>\n",
       "      <td>0</td>\n",
       "      <td>0</td>\n",
       "      <td>0</td>\n",
       "      <td>70141</td>\n",
       "      <td>2172-10-15 14:05:00</td>\n",
       "      <td>225176</td>\n",
       "      <td>...</td>\n",
       "      <td>Y</td>\n",
       "      <td>M</td>\n",
       "      <td>30</td>\n",
       "      <td>2172-10-14 14:17:00</td>\n",
       "      <td>2172-10-19 14:37:00</td>\n",
       "      <td>UNKNOWN/NOT SPECIFIED</td>\n",
       "      <td>300.0011</td>\n",
       "      <td>0 days 23:48:00</td>\n",
       "      <td>1</td>\n",
       "      <td>True</td>\n",
       "    </tr>\n",
       "    <tr>\n",
       "      <th>4</th>\n",
       "      <td>33</td>\n",
       "      <td>176176</td>\n",
       "      <td>1</td>\n",
       "      <td>0</td>\n",
       "      <td>0</td>\n",
       "      <td>0</td>\n",
       "      <td>0</td>\n",
       "      <td>61623</td>\n",
       "      <td>2116-12-24 09:22:00</td>\n",
       "      <td>296681</td>\n",
       "      <td>...</td>\n",
       "      <td>Y</td>\n",
       "      <td>M</td>\n",
       "      <td>33</td>\n",
       "      <td>2116-12-23 22:30:00</td>\n",
       "      <td>2116-12-27 12:05:00</td>\n",
       "      <td>UNKNOWN/NOT SPECIFIED</td>\n",
       "      <td>82.3919</td>\n",
       "      <td>0 days 10:52:00</td>\n",
       "      <td>1</td>\n",
       "      <td>True</td>\n",
       "    </tr>\n",
       "  </tbody>\n",
       "</table>\n",
       "<p>5 rows × 22 columns</p>\n",
       "</div>"
      ],
      "text/plain": [
       "   subject_id_angus  hadm_id  infection  explicit_sepsis  organ_dysfunction  \\\n",
       "0                24   161859          0                0                  0   \n",
       "1                25   129635          0                0                  0   \n",
       "2                26   197661          0                0                  0   \n",
       "3                30   104557          0                0                  0   \n",
       "4                33   176176          1                0                  0   \n",
       "\n",
       "   mech_vent  angus  row_id           charttime  icustay_id     ...       \\\n",
       "0          0      0   78797 2139-06-08 10:31:00      262236     ...        \n",
       "1          0      0   78499 2160-11-02 11:16:00      203487     ...        \n",
       "2          0      0   65191 2126-05-10 11:47:00      244882     ...        \n",
       "3          0      0   70141 2172-10-15 14:05:00      225176     ...        \n",
       "4          0      0   61623 2116-12-24 09:22:00      296681     ...        \n",
       "\n",
       "   first_icu_stay  gender subject_id_icu           admittime  \\\n",
       "0               Y       M             24 2139-06-06 16:14:00   \n",
       "1               Y       M             25 2160-11-02 02:06:00   \n",
       "2               Y       M             26 2126-05-06 15:16:00   \n",
       "3               Y       M             30 2172-10-14 14:17:00   \n",
       "4               Y       M             33 2116-12-23 22:30:00   \n",
       "\n",
       "            dischtime              ethnicity       age    time_to_echo  \\\n",
       "0 2139-06-09 12:48:00                  WHITE   39.0152 1 days 18:17:00   \n",
       "1 2160-11-05 14:55:00                  WHITE   58.9500 0 days 09:10:00   \n",
       "2 2126-05-13 15:00:00  UNKNOWN/NOT SPECIFIED   72.0043 3 days 20:31:00   \n",
       "3 2172-10-19 14:37:00  UNKNOWN/NOT SPECIFIED  300.0011 0 days 23:48:00   \n",
       "4 2116-12-27 12:05:00  UNKNOWN/NOT SPECIFIED   82.3919 0 days 10:52:00   \n",
       "\n",
       "   max_icustay_seq  time_filter  \n",
       "0                1         True  \n",
       "1                1         True  \n",
       "2                1        False  \n",
       "3                1         True  \n",
       "4                1         True  \n",
       "\n",
       "[5 rows x 22 columns]"
      ]
     },
     "execution_count": 212,
     "metadata": {},
     "output_type": "execute_result"
    }
   ],
   "source": [
    "res = pd.merge(angus, icu, on = 'hadm_id', suffixes = ('_angus', '_icu'))\n",
    "res.head()"
   ]
  },
  {
   "cell_type": "code",
   "execution_count": 213,
   "metadata": {
    "collapsed": false
   },
   "outputs": [
    {
     "data": {
      "text/plain": [
       "0    26476\n",
       "1     3239\n",
       "Name: explicit_sepsis, dtype: int64"
      ]
     },
     "execution_count": 213,
     "metadata": {},
     "output_type": "execute_result"
    }
   ],
   "source": [
    "res['explicit_sepsis'].value_counts()"
   ]
  },
  {
   "cell_type": "code",
   "execution_count": 214,
   "metadata": {
    "collapsed": false
   },
   "outputs": [
    {
     "data": {
      "text/plain": [
       "0    18555\n",
       "1    11160\n",
       "Name: angus, dtype: int64"
      ]
     },
     "execution_count": 214,
     "metadata": {},
     "output_type": "execute_result"
    }
   ],
   "source": [
    "res['angus'].value_counts()"
   ]
  },
  {
   "cell_type": "markdown",
   "metadata": {},
   "source": [
    "# Outpatient echos"
   ]
  },
  {
   "cell_type": "code",
   "execution_count": 157,
   "metadata": {
    "collapsed": false
   },
   "outputs": [
    {
     "data": {
      "text/html": [
       "<div>\n",
       "<table border=\"1\" class=\"dataframe\">\n",
       "  <thead>\n",
       "    <tr style=\"text-align: right;\">\n",
       "      <th></th>\n",
       "      <th>row_id</th>\n",
       "      <th>subject_id</th>\n",
       "      <th>hadm_id</th>\n",
       "      <th>chartdate</th>\n",
       "      <th>charttime</th>\n",
       "      <th>indication</th>\n",
       "      <th>height</th>\n",
       "      <th>weight</th>\n",
       "      <th>bsa</th>\n",
       "      <th>bp</th>\n",
       "      <th>bpsys</th>\n",
       "      <th>bpdias</th>\n",
       "      <th>hr</th>\n",
       "      <th>status</th>\n",
       "      <th>test</th>\n",
       "      <th>doppler</th>\n",
       "      <th>contrast</th>\n",
       "      <th>technicalquality</th>\n",
       "    </tr>\n",
       "  </thead>\n",
       "  <tbody>\n",
       "    <tr>\n",
       "      <th>0</th>\n",
       "      <td>77922</td>\n",
       "      <td>7949</td>\n",
       "      <td>NaN</td>\n",
       "      <td>2124-08-31</td>\n",
       "      <td>2124-08-31 14:00:00</td>\n",
       "      <td>Preoperative assessment.</td>\n",
       "      <td>65.0</td>\n",
       "      <td>149.0</td>\n",
       "      <td>1.75</td>\n",
       "      <td>125/82</td>\n",
       "      <td>125.0</td>\n",
       "      <td>82.0</td>\n",
       "      <td>72.0</td>\n",
       "      <td>Outpatient</td>\n",
       "      <td>TTE (Complete)</td>\n",
       "      <td>Full Doppler and color Doppler</td>\n",
       "      <td>None</td>\n",
       "      <td>Adequate</td>\n",
       "    </tr>\n",
       "    <tr>\n",
       "      <th>1</th>\n",
       "      <td>78193</td>\n",
       "      <td>25929</td>\n",
       "      <td>NaN</td>\n",
       "      <td>2201-06-04</td>\n",
       "      <td>2201-06-04 13:42:00</td>\n",
       "      <td>Aortic valve disease. Left ventricular function.</td>\n",
       "      <td>NaN</td>\n",
       "      <td>115.0</td>\n",
       "      <td>NaN</td>\n",
       "      <td>165/60</td>\n",
       "      <td>165.0</td>\n",
       "      <td>60.0</td>\n",
       "      <td>70.0</td>\n",
       "      <td>Outpatient</td>\n",
       "      <td>TTE (Complete)</td>\n",
       "      <td>Full Doppler and color Doppler</td>\n",
       "      <td>None</td>\n",
       "      <td>Adequate</td>\n",
       "    </tr>\n",
       "    <tr>\n",
       "      <th>2</th>\n",
       "      <td>78194</td>\n",
       "      <td>25929</td>\n",
       "      <td>NaN</td>\n",
       "      <td>2200-05-14</td>\n",
       "      <td>2200-05-14 11:00:00</td>\n",
       "      <td>Follow up aortic regurgitation</td>\n",
       "      <td>NaN</td>\n",
       "      <td>NaN</td>\n",
       "      <td>NaN</td>\n",
       "      <td>142/78</td>\n",
       "      <td>142.0</td>\n",
       "      <td>78.0</td>\n",
       "      <td>NaN</td>\n",
       "      <td>Outpatient</td>\n",
       "      <td>TTE (Complete)</td>\n",
       "      <td>Full doppler and color doppler</td>\n",
       "      <td>None</td>\n",
       "      <td>Adequate</td>\n",
       "    </tr>\n",
       "    <tr>\n",
       "      <th>3</th>\n",
       "      <td>78195</td>\n",
       "      <td>587</td>\n",
       "      <td>150352.0</td>\n",
       "      <td>2100-10-28</td>\n",
       "      <td>2100-10-28 13:45:00</td>\n",
       "      <td>Chemotherapy.</td>\n",
       "      <td>69.0</td>\n",
       "      <td>202.0</td>\n",
       "      <td>2.08</td>\n",
       "      <td>120/80</td>\n",
       "      <td>120.0</td>\n",
       "      <td>80.0</td>\n",
       "      <td>95.0</td>\n",
       "      <td>Outpatient</td>\n",
       "      <td>TTE (Complete)</td>\n",
       "      <td>Full doppler and color doppler</td>\n",
       "      <td>None</td>\n",
       "      <td>Adequate</td>\n",
       "    </tr>\n",
       "    <tr>\n",
       "      <th>4</th>\n",
       "      <td>77945</td>\n",
       "      <td>11201</td>\n",
       "      <td>175064.0</td>\n",
       "      <td>2122-01-16</td>\n",
       "      <td>2122-01-16 11:45:00</td>\n",
       "      <td>Shortness of breath.  Congestive heart failure...</td>\n",
       "      <td>67.0</td>\n",
       "      <td>185.0</td>\n",
       "      <td>1.96</td>\n",
       "      <td>120/68</td>\n",
       "      <td>120.0</td>\n",
       "      <td>68.0</td>\n",
       "      <td>88.0</td>\n",
       "      <td>Outpatient</td>\n",
       "      <td>TTE (Complete)</td>\n",
       "      <td>Full doppler and color doppler</td>\n",
       "      <td>None</td>\n",
       "      <td>Suboptimal</td>\n",
       "    </tr>\n",
       "  </tbody>\n",
       "</table>\n",
       "</div>"
      ],
      "text/plain": [
       "   row_id  subject_id   hadm_id  chartdate           charttime  \\\n",
       "0   77922        7949       NaN 2124-08-31 2124-08-31 14:00:00   \n",
       "1   78193       25929       NaN 2201-06-04 2201-06-04 13:42:00   \n",
       "2   78194       25929       NaN 2200-05-14 2200-05-14 11:00:00   \n",
       "3   78195         587  150352.0 2100-10-28 2100-10-28 13:45:00   \n",
       "4   77945       11201  175064.0 2122-01-16 2122-01-16 11:45:00   \n",
       "\n",
       "                                          indication  height  weight   bsa  \\\n",
       "0                           Preoperative assessment.    65.0   149.0  1.75   \n",
       "1   Aortic valve disease. Left ventricular function.     NaN   115.0   NaN   \n",
       "2                     Follow up aortic regurgitation     NaN     NaN   NaN   \n",
       "3                                      Chemotherapy.    69.0   202.0  2.08   \n",
       "4  Shortness of breath.  Congestive heart failure...    67.0   185.0  1.96   \n",
       "\n",
       "       bp  bpsys  bpdias    hr      status            test  \\\n",
       "0  125/82  125.0    82.0  72.0  Outpatient  TTE (Complete)   \n",
       "1  165/60  165.0    60.0  70.0  Outpatient  TTE (Complete)   \n",
       "2  142/78  142.0    78.0   NaN  Outpatient  TTE (Complete)   \n",
       "3  120/80  120.0    80.0  95.0  Outpatient  TTE (Complete)   \n",
       "4  120/68  120.0    68.0  88.0  Outpatient  TTE (Complete)   \n",
       "\n",
       "                          doppler contrast technicalquality  \n",
       "0  Full Doppler and color Doppler     None         Adequate  \n",
       "1  Full Doppler and color Doppler     None         Adequate  \n",
       "2  Full doppler and color doppler     None         Adequate  \n",
       "3  Full doppler and color doppler     None         Adequate  \n",
       "4  Full doppler and color doppler     None       Suboptimal  "
      ]
     },
     "execution_count": 157,
     "metadata": {},
     "output_type": "execute_result"
    }
   ],
   "source": [
    "query = \\\n",
    "\"\"\"\n",
    "SELECT * FROM echodata\n",
    "WHERE status = 'Outpatient';\n",
    "\"\"\"\n",
    "echo_op = pd.read_sql_query(query, con)\n",
    "echo_op.head()"
   ]
  },
  {
   "cell_type": "markdown",
   "metadata": {},
   "source": [
    "Number of pairs of echos:"
   ]
  },
  {
   "cell_type": "code",
   "execution_count": 184,
   "metadata": {
    "collapsed": false
   },
   "outputs": [
    {
     "data": {
      "text/plain": [
       "1     3147\n",
       "2      745\n",
       "3      284\n",
       "4      117\n",
       "5       48\n",
       "6       28\n",
       "7       18\n",
       "8        9\n",
       "10       5\n",
       "9        5\n",
       "11       2\n",
       "12       2\n",
       "15       1\n",
       "Name: subject_id, dtype: int64"
      ]
     },
     "execution_count": 184,
     "metadata": {},
     "output_type": "execute_result"
    }
   ],
   "source": [
    "echo_op['subject_id'].value_counts().value_counts()"
   ]
  },
  {
   "cell_type": "markdown",
   "metadata": {},
   "source": [
    "For each ICU echo, calculate the chart time on the outpatient echo minus the chart time on the ICU echo: "
   ]
  },
  {
   "cell_type": "code",
   "execution_count": 189,
   "metadata": {
    "collapsed": false
   },
   "outputs": [
    {
     "data": {
      "text/plain": [
       "True     6854\n",
       "False    5157\n",
       "dtype: int64"
      ]
     },
     "execution_count": 189,
     "metadata": {},
     "output_type": "execute_result"
    },
    {
     "data": {
      "image/png": "[encoded data removed]",
      "text/plain": [
       "<matplotlib.figure.Figure at 0x1347e9978>"
      ]
     },
     "metadata": {},
     "output_type": "display_data"
    }
   ],
   "source": [
    "res = pd.merge(icu, echo_op, on = 'subject_id', suffixes = ('_icu', '_op'))\n",
    "((res['charttime_op'] - res['charttime_icu'])/ np.timedelta64(1, 'M')).hist(bins = 50)\n",
    "plt.xlim([-12*10, 12*10])\n",
    "ticklabels = np.arange(-120, 120)[::12]\n",
    "_ = plt.xticks(ticklabels, rotation = 90)\n",
    "plt.xlabel('Months')\n",
    "\n",
    "(res['charttime_op'] > res['charttime_icu']).value_counts()"
   ]
  },
  {
   "cell_type": "markdown",
   "metadata": {},
   "source": [
    "Looking at the pairs of echos where the outpatient echo occurred before the ICU echo, these are the indications for the outpatient echo. It doesn't look like these are in any way 'baseline' echos? "
   ]
  },
  {
   "cell_type": "code",
   "execution_count": 204,
   "metadata": {
    "collapsed": false
   },
   "outputs": [
    {
     "data": {
      "text/html": [
       "<div>\n",
       "<table border=\"1\" class=\"dataframe\">\n",
       "  <thead>\n",
       "    <tr style=\"text-align: right;\">\n",
       "      <th></th>\n",
       "      <th>charttime_op</th>\n",
       "      <th>charttime_icu</th>\n",
       "      <th>indication</th>\n",
       "    </tr>\n",
       "  </thead>\n",
       "  <tbody>\n",
       "    <tr>\n",
       "      <th>919</th>\n",
       "      <td>2146-10-04 11:00:00</td>\n",
       "      <td>2148-09-25 14:51:00</td>\n",
       "      <td>CABG. Congestive heart failure. Left ventricul...</td>\n",
       "    </tr>\n",
       "    <tr>\n",
       "      <th>5366</th>\n",
       "      <td>2184-03-17 14:00:00</td>\n",
       "      <td>2185-03-23 13:46:00</td>\n",
       "      <td>R/O CLOT</td>\n",
       "    </tr>\n",
       "    <tr>\n",
       "      <th>9547</th>\n",
       "      <td>2198-01-18 09:43:00</td>\n",
       "      <td>2198-01-19 10:07:00</td>\n",
       "      <td>?Left atrial mass.</td>\n",
       "    </tr>\n",
       "    <tr>\n",
       "      <th>2752</th>\n",
       "      <td>2118-12-20 10:00:00</td>\n",
       "      <td>2119-01-13 15:13:00</td>\n",
       "      <td>followup PCI [**6-14**]</td>\n",
       "    </tr>\n",
       "    <tr>\n",
       "      <th>2694</th>\n",
       "      <td>2114-04-24 08:02:00</td>\n",
       "      <td>2115-07-09 09:22:00</td>\n",
       "      <td>Left ventricular function. Right ventricular f...</td>\n",
       "    </tr>\n",
       "    <tr>\n",
       "      <th>312</th>\n",
       "      <td>2167-09-25 11:00:00</td>\n",
       "      <td>2172-07-22 15:35:00</td>\n",
       "      <td>Congestive heart failure.</td>\n",
       "    </tr>\n",
       "    <tr>\n",
       "      <th>9508</th>\n",
       "      <td>2127-06-18 15:16:00</td>\n",
       "      <td>2127-06-20 11:36:00</td>\n",
       "      <td>Tamponade</td>\n",
       "    </tr>\n",
       "    <tr>\n",
       "      <th>6045</th>\n",
       "      <td>2114-05-01 15:00:00</td>\n",
       "      <td>2114-05-09 13:24:00</td>\n",
       "      <td>Atrial flutter.  Aortic valve disease.  Status...</td>\n",
       "    </tr>\n",
       "    <tr>\n",
       "      <th>4435</th>\n",
       "      <td>2138-08-11 11:00:00</td>\n",
       "      <td>2138-12-05 09:36:00</td>\n",
       "      <td>Myocardial infarction.</td>\n",
       "    </tr>\n",
       "    <tr>\n",
       "      <th>1577</th>\n",
       "      <td>2184-08-31 14:00:00</td>\n",
       "      <td>2188-05-25 09:27:00</td>\n",
       "      <td>F/U Pericardial Effustion</td>\n",
       "    </tr>\n",
       "  </tbody>\n",
       "</table>\n",
       "</div>"
      ],
      "text/plain": [
       "            charttime_op       charttime_icu  \\\n",
       "919  2146-10-04 11:00:00 2148-09-25 14:51:00   \n",
       "5366 2184-03-17 14:00:00 2185-03-23 13:46:00   \n",
       "9547 2198-01-18 09:43:00 2198-01-19 10:07:00   \n",
       "2752 2118-12-20 10:00:00 2119-01-13 15:13:00   \n",
       "2694 2114-04-24 08:02:00 2115-07-09 09:22:00   \n",
       "312  2167-09-25 11:00:00 2172-07-22 15:35:00   \n",
       "9508 2127-06-18 15:16:00 2127-06-20 11:36:00   \n",
       "6045 2114-05-01 15:00:00 2114-05-09 13:24:00   \n",
       "4435 2138-08-11 11:00:00 2138-12-05 09:36:00   \n",
       "1577 2184-08-31 14:00:00 2188-05-25 09:27:00   \n",
       "\n",
       "                                             indication  \n",
       "919   CABG. Congestive heart failure. Left ventricul...  \n",
       "5366                                           R/O CLOT  \n",
       "9547                                 ?Left atrial mass.  \n",
       "2752                            followup PCI [**6-14**]  \n",
       "2694  Left ventricular function. Right ventricular f...  \n",
       "312                           Congestive heart failure.  \n",
       "9508                                          Tamponade  \n",
       "6045  Atrial flutter.  Aortic valve disease.  Status...  \n",
       "4435                             Myocardial infarction.  \n",
       "1577                          F/U Pericardial Effustion  "
      ]
     },
     "execution_count": 204,
     "metadata": {},
     "output_type": "execute_result"
    }
   ],
   "source": [
    "res.loc[res['charttime_icu'] > res['charttime_op']][[\n",
    "        'charttime_op', 'charttime_icu', 'indication']].sample(n = 10)"
   ]
  }
 ],
 "metadata": {
  "anaconda-cloud": {},
  "kernelspec": {
   "display_name": "Python [Root]",
   "language": "python",
   "name": "Python [Root]"
  },
  "language_info": {
   "codemirror_mode": {
    "name": "ipython",
    "version": 3
   },
   "file_extension": ".py",
   "mimetype": "text/x-python",
   "name": "python",
   "nbconvert_exporter": "python",
   "pygments_lexer": "ipython3",
   "version": "3.5.2"
  }
 },
 "nbformat": 4,
 "nbformat_minor": 0
}
