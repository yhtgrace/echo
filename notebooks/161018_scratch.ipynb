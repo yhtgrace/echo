{
 "cells": [
  {
   "cell_type": "code",
   "execution_count": 347,
   "metadata": {
    "collapsed": false
   },
   "outputs": [],
   "source": [
    "import numpy as np\n",
    "import pandas as pd\n",
    "import psycopg2\n",
    "\n",
    "import matplotlib.pyplot as plt\n",
    "import seaborn as sns\n",
    "\n",
    "import matplotlib.style\n",
    "matplotlib.style.use('ggplot')\n",
    "%matplotlib inline\n"
   ]
  },
  {
   "cell_type": "code",
   "execution_count": 4,
   "metadata": {
    "collapsed": true
   },
   "outputs": [],
   "source": [
    "# create a database connection\n",
    "sqluser = 'mimic'\n",
    "dbname = 'mimic'\n",
    "schema_name = 'mimiciii'\n",
    "\n",
    "cur = None"
   ]
  },
  {
   "cell_type": "code",
   "execution_count": 366,
   "metadata": {
    "collapsed": false
   },
   "outputs": [],
   "source": [
    "if cur: \n",
    "    cur.close()\n",
    "    con.close()\n",
    "\n",
    "con = psycopg2.connect(dbname = dbname, user = sqluser)\n",
    "cur = con.cursor()\n",
    "cur.execute('SET search_path to ' + schema_name)"
   ]
  },
  {
   "cell_type": "markdown",
   "metadata": {},
   "source": [
    "# Sepsis (Angus)\n",
    "\n",
    "The query to get the Angus definition of sepsis is available in mimic_code. It collates information for each `hadm_id`, from `DIAGNOSES_ICD` for infection, organ dysfunction and explicit sespsis and `PROCEDURES_ICD` for mechanical ventilation. The Angus column is set to 1 if `explicit_sepsis` is 1, or if `infection` and `organ_dysfunction` are 1, or if `infection` and `mechanical ventilation` are 1. \n",
    "\n",
    "Note that both `DIAGNOSES_ICD` and `PROCEDURES_ICD` are only associated with `hadm_id` and not `icustay_id`. However, this should not be a problem if we filter the echos for single icu stays. "
   ]
  },
  {
   "cell_type": "code",
   "execution_count": 136,
   "metadata": {
    "collapsed": false
   },
   "outputs": [
    {
     "data": {
      "text/html": [
       "<div>\n",
       "<table border=\"1\" class=\"dataframe\">\n",
       "  <thead>\n",
       "    <tr style=\"text-align: right;\">\n",
       "      <th></th>\n",
       "      <th>subject_id</th>\n",
       "      <th>hadm_id</th>\n",
       "      <th>infection</th>\n",
       "      <th>explicit_sepsis</th>\n",
       "      <th>organ_dysfunction</th>\n",
       "      <th>mech_vent</th>\n",
       "      <th>angus</th>\n",
       "    </tr>\n",
       "  </thead>\n",
       "  <tbody>\n",
       "    <tr>\n",
       "      <th>0</th>\n",
       "      <td>22</td>\n",
       "      <td>165315</td>\n",
       "      <td>0</td>\n",
       "      <td>0</td>\n",
       "      <td>0</td>\n",
       "      <td>1</td>\n",
       "      <td>0</td>\n",
       "    </tr>\n",
       "    <tr>\n",
       "      <th>1</th>\n",
       "      <td>23</td>\n",
       "      <td>152223</td>\n",
       "      <td>0</td>\n",
       "      <td>0</td>\n",
       "      <td>0</td>\n",
       "      <td>0</td>\n",
       "      <td>0</td>\n",
       "    </tr>\n",
       "    <tr>\n",
       "      <th>2</th>\n",
       "      <td>23</td>\n",
       "      <td>124321</td>\n",
       "      <td>0</td>\n",
       "      <td>0</td>\n",
       "      <td>0</td>\n",
       "      <td>0</td>\n",
       "      <td>0</td>\n",
       "    </tr>\n",
       "    <tr>\n",
       "      <th>3</th>\n",
       "      <td>24</td>\n",
       "      <td>161859</td>\n",
       "      <td>0</td>\n",
       "      <td>0</td>\n",
       "      <td>0</td>\n",
       "      <td>0</td>\n",
       "      <td>0</td>\n",
       "    </tr>\n",
       "    <tr>\n",
       "      <th>4</th>\n",
       "      <td>25</td>\n",
       "      <td>129635</td>\n",
       "      <td>0</td>\n",
       "      <td>0</td>\n",
       "      <td>0</td>\n",
       "      <td>0</td>\n",
       "      <td>0</td>\n",
       "    </tr>\n",
       "  </tbody>\n",
       "</table>\n",
       "</div>"
      ],
      "text/plain": [
       "   subject_id  hadm_id  infection  explicit_sepsis  organ_dysfunction  \\\n",
       "0          22   165315          0                0                  0   \n",
       "1          23   152223          0                0                  0   \n",
       "2          23   124321          0                0                  0   \n",
       "3          24   161859          0                0                  0   \n",
       "4          25   129635          0                0                  0   \n",
       "\n",
       "   mech_vent  angus  \n",
       "0          1      0  \n",
       "1          0      0  \n",
       "2          0      0  \n",
       "3          0      0  \n",
       "4          0      0  "
      ]
     },
     "execution_count": 136,
     "metadata": {},
     "output_type": "execute_result"
    }
   ],
   "source": [
    "query = \\\n",
    "\"\"\"\n",
    "SELECT * FROM angus_sepsis;\n",
    "\"\"\"\n",
    "angus = pd.read_sql_query(query, con)\n",
    "angus.head()"
   ]
  },
  {
   "cell_type": "markdown",
   "metadata": {},
   "source": [
    "# Sepsis (proposed)\n",
    "\n",
    "The proposed definition of sepsis from our last meeting was: \n",
    "\n",
    "+ On antibiotics\n",
    "+ On pressors within 48 hours\n",
    "+ Not in cardiogenic shock/pulmonary embolism/haem shock\n",
    "\n",
    "Prescriptions are listed in the prescriptions table and have hadm_id, icustay_id, starttime and endtime. The drug is specified by name, as well as formulary_drug_cd, gsn and ndc. \n",
    "\n",
    "Is there a list of antibiotics/pressors to use? "
   ]
  },
  {
   "cell_type": "code",
   "execution_count": 215,
   "metadata": {
    "collapsed": false
   },
   "outputs": [
    {
     "data": {
      "text/html": [
       "<div>\n",
       "<table border=\"1\" class=\"dataframe\">\n",
       "  <thead>\n",
       "    <tr style=\"text-align: right;\">\n",
       "      <th></th>\n",
       "      <th>row_id</th>\n",
       "      <th>subject_id</th>\n",
       "      <th>hadm_id</th>\n",
       "      <th>icustay_id</th>\n",
       "      <th>startdate</th>\n",
       "      <th>enddate</th>\n",
       "      <th>drug_type</th>\n",
       "      <th>drug</th>\n",
       "      <th>drug_name_poe</th>\n",
       "      <th>drug_name_generic</th>\n",
       "      <th>formulary_drug_cd</th>\n",
       "      <th>gsn</th>\n",
       "      <th>ndc</th>\n",
       "      <th>prod_strength</th>\n",
       "      <th>dose_val_rx</th>\n",
       "      <th>dose_unit_rx</th>\n",
       "      <th>form_val_disp</th>\n",
       "      <th>form_unit_disp</th>\n",
       "      <th>route</th>\n",
       "    </tr>\n",
       "  </thead>\n",
       "  <tbody>\n",
       "    <tr>\n",
       "      <th>0</th>\n",
       "      <td>1380499</td>\n",
       "      <td>28</td>\n",
       "      <td>162569</td>\n",
       "      <td>225559.0</td>\n",
       "      <td>2177-09-01</td>\n",
       "      <td>2177-09-02</td>\n",
       "      <td>MAIN</td>\n",
       "      <td>Epinephrine</td>\n",
       "      <td>None</td>\n",
       "      <td>None</td>\n",
       "      <td>EPI1I</td>\n",
       "      <td>004931</td>\n",
       "      <td>00074724101</td>\n",
       "      <td>1 mg /1 mL</td>\n",
       "      <td>2</td>\n",
       "      <td>mg</td>\n",
       "      <td>2</td>\n",
       "      <td>AMP</td>\n",
       "      <td>IV DRIP</td>\n",
       "    </tr>\n",
       "    <tr>\n",
       "      <th>1</th>\n",
       "      <td>1384432</td>\n",
       "      <td>36</td>\n",
       "      <td>122659</td>\n",
       "      <td>211200.0</td>\n",
       "      <td>2131-05-19</td>\n",
       "      <td>2131-05-21</td>\n",
       "      <td>MAIN</td>\n",
       "      <td>Epinephrine</td>\n",
       "      <td>None</td>\n",
       "      <td>None</td>\n",
       "      <td>EPI1I</td>\n",
       "      <td>004931</td>\n",
       "      <td>00409724101</td>\n",
       "      <td>1mg /1mL</td>\n",
       "      <td>2</td>\n",
       "      <td>mg</td>\n",
       "      <td>2</td>\n",
       "      <td>AMP</td>\n",
       "      <td>IV DRIP</td>\n",
       "    </tr>\n",
       "    <tr>\n",
       "      <th>2</th>\n",
       "      <td>1680277</td>\n",
       "      <td>111</td>\n",
       "      <td>155897</td>\n",
       "      <td>249202.0</td>\n",
       "      <td>2144-07-01</td>\n",
       "      <td>2144-07-01</td>\n",
       "      <td>MAIN</td>\n",
       "      <td>Epinephrine</td>\n",
       "      <td>None</td>\n",
       "      <td>None</td>\n",
       "      <td>EPI1I</td>\n",
       "      <td>004937</td>\n",
       "      <td>42023012225</td>\n",
       "      <td>1mg /1mL Vial</td>\n",
       "      <td>2</td>\n",
       "      <td>mg</td>\n",
       "      <td>2</td>\n",
       "      <td>VIAL</td>\n",
       "      <td>IV DRIP</td>\n",
       "    </tr>\n",
       "    <tr>\n",
       "      <th>3</th>\n",
       "      <td>2317168</td>\n",
       "      <td>134</td>\n",
       "      <td>167887</td>\n",
       "      <td>NaN</td>\n",
       "      <td>2127-01-14</td>\n",
       "      <td>2127-01-15</td>\n",
       "      <td>MAIN</td>\n",
       "      <td>Epinephrine</td>\n",
       "      <td>None</td>\n",
       "      <td>None</td>\n",
       "      <td>EPI1I</td>\n",
       "      <td>004931</td>\n",
       "      <td>00074724101</td>\n",
       "      <td>1 mg /1 mL</td>\n",
       "      <td>2</td>\n",
       "      <td>mg</td>\n",
       "      <td>2</td>\n",
       "      <td>AMP</td>\n",
       "      <td>IV DRIP</td>\n",
       "    </tr>\n",
       "    <tr>\n",
       "      <th>4</th>\n",
       "      <td>1797661</td>\n",
       "      <td>137</td>\n",
       "      <td>151583</td>\n",
       "      <td>272335.0</td>\n",
       "      <td>2191-11-17</td>\n",
       "      <td>2191-11-17</td>\n",
       "      <td>MAIN</td>\n",
       "      <td>Epinephrine</td>\n",
       "      <td>None</td>\n",
       "      <td>None</td>\n",
       "      <td>EPI1I</td>\n",
       "      <td>004931</td>\n",
       "      <td>00409724101</td>\n",
       "      <td>1mg /1mL</td>\n",
       "      <td>2</td>\n",
       "      <td>mg</td>\n",
       "      <td>2</td>\n",
       "      <td>AMP</td>\n",
       "      <td>IV DRIP</td>\n",
       "    </tr>\n",
       "  </tbody>\n",
       "</table>\n",
       "</div>"
      ],
      "text/plain": [
       "    row_id  subject_id  hadm_id  icustay_id  startdate    enddate drug_type  \\\n",
       "0  1380499          28   162569    225559.0 2177-09-01 2177-09-02      MAIN   \n",
       "1  1384432          36   122659    211200.0 2131-05-19 2131-05-21      MAIN   \n",
       "2  1680277         111   155897    249202.0 2144-07-01 2144-07-01      MAIN   \n",
       "3  2317168         134   167887         NaN 2127-01-14 2127-01-15      MAIN   \n",
       "4  1797661         137   151583    272335.0 2191-11-17 2191-11-17      MAIN   \n",
       "\n",
       "          drug drug_name_poe drug_name_generic formulary_drug_cd     gsn  \\\n",
       "0  Epinephrine          None              None             EPI1I  004931   \n",
       "1  Epinephrine          None              None             EPI1I  004931   \n",
       "2  Epinephrine          None              None             EPI1I  004937   \n",
       "3  Epinephrine          None              None             EPI1I  004931   \n",
       "4  Epinephrine          None              None             EPI1I  004931   \n",
       "\n",
       "           ndc  prod_strength dose_val_rx dose_unit_rx form_val_disp  \\\n",
       "0  00074724101     1 mg /1 mL           2           mg             2   \n",
       "1  00409724101       1mg /1mL           2           mg             2   \n",
       "2  42023012225  1mg /1mL Vial           2           mg             2   \n",
       "3  00074724101     1 mg /1 mL           2           mg             2   \n",
       "4  00409724101       1mg /1mL           2           mg             2   \n",
       "\n",
       "  form_unit_disp    route  \n",
       "0            AMP  IV DRIP  \n",
       "1            AMP  IV DRIP  \n",
       "2           VIAL  IV DRIP  \n",
       "3            AMP  IV DRIP  \n",
       "4            AMP  IV DRIP  "
      ]
     },
     "execution_count": 215,
     "metadata": {},
     "output_type": "execute_result"
    }
   ],
   "source": [
    "query = \\\n",
    "\"\"\"\n",
    "SELECT * FROM PRESCRIPTIONS WHERE drug = 'Epinephrine';\n",
    "\"\"\"\n",
    "scrip = pd.read_sql_query(query, con)\n",
    "scrip.head()"
   ]
  },
  {
   "cell_type": "markdown",
   "metadata": {},
   "source": [
    "Important ICD-9 codes:\n",
    "\n",
    "+ Cardiogenic shock: 785.51\n",
    "+ Pulmonary embolism: 415.1 (excludes chronic pulmonary embolism, persona history of pulmonary embolism, that complicating abortion, ectopic or molar pregnancy, pregnancy, childbirth or the peuperium)\n",
    "+ Haem shock: ???"
   ]
  },
  {
   "cell_type": "code",
   "execution_count": 223,
   "metadata": {
    "collapsed": false
   },
   "outputs": [
    {
     "data": {
      "text/html": [
       "<div>\n",
       "<table border=\"1\" class=\"dataframe\">\n",
       "  <thead>\n",
       "    <tr style=\"text-align: right;\">\n",
       "      <th></th>\n",
       "      <th>row_id</th>\n",
       "      <th>subject_id</th>\n",
       "      <th>hadm_id</th>\n",
       "      <th>seq_num</th>\n",
       "      <th>icd9_code</th>\n",
       "    </tr>\n",
       "  </thead>\n",
       "  <tbody>\n",
       "    <tr>\n",
       "      <th>0</th>\n",
       "      <td>75</td>\n",
       "      <td>17</td>\n",
       "      <td>161087</td>\n",
       "      <td>3</td>\n",
       "      <td>78551</td>\n",
       "    </tr>\n",
       "    <tr>\n",
       "      <th>1</th>\n",
       "      <td>113</td>\n",
       "      <td>21</td>\n",
       "      <td>109451</td>\n",
       "      <td>2</td>\n",
       "      <td>78551</td>\n",
       "    </tr>\n",
       "    <tr>\n",
       "      <th>2</th>\n",
       "      <td>265</td>\n",
       "      <td>36</td>\n",
       "      <td>122659</td>\n",
       "      <td>3</td>\n",
       "      <td>41511</td>\n",
       "    </tr>\n",
       "    <tr>\n",
       "      <th>3</th>\n",
       "      <td>276</td>\n",
       "      <td>36</td>\n",
       "      <td>165660</td>\n",
       "      <td>2</td>\n",
       "      <td>41511</td>\n",
       "    </tr>\n",
       "    <tr>\n",
       "      <th>4</th>\n",
       "      <td>2957</td>\n",
       "      <td>245</td>\n",
       "      <td>105501</td>\n",
       "      <td>5</td>\n",
       "      <td>78551</td>\n",
       "    </tr>\n",
       "  </tbody>\n",
       "</table>\n",
       "</div>"
      ],
      "text/plain": [
       "   row_id  subject_id  hadm_id  seq_num icd9_code\n",
       "0      75          17   161087        3     78551\n",
       "1     113          21   109451        2     78551\n",
       "2     265          36   122659        3     41511\n",
       "3     276          36   165660        2     41511\n",
       "4    2957         245   105501        5     78551"
      ]
     },
     "execution_count": 223,
     "metadata": {},
     "output_type": "execute_result"
    }
   ],
   "source": [
    "query = \\\n",
    "\"\"\"\n",
    "SELECT * FROM DIAGNOSES_ICD\n",
    "WHERE icd9_code = '78551' OR -- cardiogenic shock\n",
    "      substring(icd9_code, 1, 4) = '4151' -- pulmonary embolism\n",
    "\"\"\"\n",
    "diag = pd.read_sql_query(query, con)\n",
    "diag.head()"
   ]
  },
  {
   "cell_type": "markdown",
   "metadata": {},
   "source": [
    "# ICU stays with associated echos\n",
    "\n",
    "Extract information about icustays where the icustay_id/hadm_id is associated with an echo. Filter hadm_ids which have multiple icustay_ids. "
   ]
  },
  {
   "cell_type": "code",
   "execution_count": 244,
   "metadata": {
    "collapsed": false
   },
   "outputs": [
    {
     "data": {
      "text/html": [
       "<div>\n",
       "<table border=\"1\" class=\"dataframe\">\n",
       "  <thead>\n",
       "    <tr style=\"text-align: right;\">\n",
       "      <th></th>\n",
       "      <th>row_id</th>\n",
       "      <th>hadm_id</th>\n",
       "      <th>charttime</th>\n",
       "      <th>icustay_id</th>\n",
       "      <th>los_icu</th>\n",
       "      <th>icustay_seq</th>\n",
       "      <th>first_icu_stay</th>\n",
       "      <th>outtime</th>\n",
       "      <th>gender</th>\n",
       "      <th>subject_id</th>\n",
       "      <th>dod</th>\n",
       "      <th>admittime</th>\n",
       "      <th>dischtime</th>\n",
       "      <th>ethnicity</th>\n",
       "      <th>age</th>\n",
       "      <th>diagnosis</th>\n",
       "      <th>time_to_echo</th>\n",
       "      <th>max_icustay_seq</th>\n",
       "      <th>time_filter</th>\n",
       "    </tr>\n",
       "  </thead>\n",
       "  <tbody>\n",
       "    <tr>\n",
       "      <th>0</th>\n",
       "      <td>76338</td>\n",
       "      <td>100003</td>\n",
       "      <td>2150-04-18 12:36:00</td>\n",
       "      <td>209281</td>\n",
       "      <td>2.0</td>\n",
       "      <td>1</td>\n",
       "      <td>Y</td>\n",
       "      <td>2150-04-19 14:12:52</td>\n",
       "      <td>M</td>\n",
       "      <td>54610</td>\n",
       "      <td>2150-12-28</td>\n",
       "      <td>2150-04-17 15:34:00</td>\n",
       "      <td>2150-04-21 17:30:00</td>\n",
       "      <td>WHITE</td>\n",
       "      <td>59.9110</td>\n",
       "      <td>UPPER GI BLEED</td>\n",
       "      <td>0 days 21:02:00</td>\n",
       "      <td>1</td>\n",
       "      <td>True</td>\n",
       "    </tr>\n",
       "    <tr>\n",
       "      <th>1</th>\n",
       "      <td>68597</td>\n",
       "      <td>100006</td>\n",
       "      <td>2108-04-10 10:01:00</td>\n",
       "      <td>291788</td>\n",
       "      <td>5.0</td>\n",
       "      <td>1</td>\n",
       "      <td>Y</td>\n",
       "      <td>2108-04-11 15:18:03</td>\n",
       "      <td>F</td>\n",
       "      <td>9895</td>\n",
       "      <td>2109-10-24</td>\n",
       "      <td>2108-04-06 15:49:00</td>\n",
       "      <td>2108-04-18 17:18:00</td>\n",
       "      <td>BLACK/AFRICAN AMERICAN</td>\n",
       "      <td>48.9155</td>\n",
       "      <td>COPD FLARE</td>\n",
       "      <td>3 days 18:12:00</td>\n",
       "      <td>1</td>\n",
       "      <td>False</td>\n",
       "    </tr>\n",
       "    <tr>\n",
       "      <th>2</th>\n",
       "      <td>77734</td>\n",
       "      <td>100009</td>\n",
       "      <td>2162-05-17 14:55:00</td>\n",
       "      <td>253656</td>\n",
       "      <td>2.0</td>\n",
       "      <td>1</td>\n",
       "      <td>Y</td>\n",
       "      <td>2162-05-19 22:05:14</td>\n",
       "      <td>M</td>\n",
       "      <td>533</td>\n",
       "      <td>NaT</td>\n",
       "      <td>2162-05-16 15:56:00</td>\n",
       "      <td>2162-05-21 13:37:00</td>\n",
       "      <td>WHITE</td>\n",
       "      <td>60.7953</td>\n",
       "      <td>CORONARY ARTERY DISEASE</td>\n",
       "      <td>0 days 22:59:00</td>\n",
       "      <td>1</td>\n",
       "      <td>True</td>\n",
       "    </tr>\n",
       "    <tr>\n",
       "      <th>3</th>\n",
       "      <td>76984</td>\n",
       "      <td>100012</td>\n",
       "      <td>2177-03-14 12:46:00</td>\n",
       "      <td>239289</td>\n",
       "      <td>4.0</td>\n",
       "      <td>1</td>\n",
       "      <td>Y</td>\n",
       "      <td>2177-03-18 00:42:15</td>\n",
       "      <td>M</td>\n",
       "      <td>60039</td>\n",
       "      <td>NaT</td>\n",
       "      <td>2177-03-12 11:48:00</td>\n",
       "      <td>2177-03-22 14:30:00</td>\n",
       "      <td>WHITE</td>\n",
       "      <td>67.7113</td>\n",
       "      <td>CORONARY ARTERY DISEASE</td>\n",
       "      <td>2 days 00:58:00</td>\n",
       "      <td>1</td>\n",
       "      <td>False</td>\n",
       "    </tr>\n",
       "    <tr>\n",
       "      <th>4</th>\n",
       "      <td>76985</td>\n",
       "      <td>100012</td>\n",
       "      <td>2177-03-12 14:54:00</td>\n",
       "      <td>239289</td>\n",
       "      <td>4.0</td>\n",
       "      <td>1</td>\n",
       "      <td>Y</td>\n",
       "      <td>2177-03-18 00:42:15</td>\n",
       "      <td>M</td>\n",
       "      <td>60039</td>\n",
       "      <td>NaT</td>\n",
       "      <td>2177-03-12 11:48:00</td>\n",
       "      <td>2177-03-22 14:30:00</td>\n",
       "      <td>WHITE</td>\n",
       "      <td>67.7113</td>\n",
       "      <td>CORONARY ARTERY DISEASE</td>\n",
       "      <td>0 days 03:06:00</td>\n",
       "      <td>1</td>\n",
       "      <td>True</td>\n",
       "    </tr>\n",
       "  </tbody>\n",
       "</table>\n",
       "</div>"
      ],
      "text/plain": [
       "   row_id  hadm_id           charttime  icustay_id  los_icu  icustay_seq  \\\n",
       "0   76338   100003 2150-04-18 12:36:00      209281      2.0            1   \n",
       "1   68597   100006 2108-04-10 10:01:00      291788      5.0            1   \n",
       "2   77734   100009 2162-05-17 14:55:00      253656      2.0            1   \n",
       "3   76984   100012 2177-03-14 12:46:00      239289      4.0            1   \n",
       "4   76985   100012 2177-03-12 14:54:00      239289      4.0            1   \n",
       "\n",
       "  first_icu_stay             outtime gender  subject_id        dod  \\\n",
       "0              Y 2150-04-19 14:12:52      M       54610 2150-12-28   \n",
       "1              Y 2108-04-11 15:18:03      F        9895 2109-10-24   \n",
       "2              Y 2162-05-19 22:05:14      M         533        NaT   \n",
       "3              Y 2177-03-18 00:42:15      M       60039        NaT   \n",
       "4              Y 2177-03-18 00:42:15      M       60039        NaT   \n",
       "\n",
       "            admittime           dischtime               ethnicity      age  \\\n",
       "0 2150-04-17 15:34:00 2150-04-21 17:30:00                   WHITE  59.9110   \n",
       "1 2108-04-06 15:49:00 2108-04-18 17:18:00  BLACK/AFRICAN AMERICAN  48.9155   \n",
       "2 2162-05-16 15:56:00 2162-05-21 13:37:00                   WHITE  60.7953   \n",
       "3 2177-03-12 11:48:00 2177-03-22 14:30:00                   WHITE  67.7113   \n",
       "4 2177-03-12 11:48:00 2177-03-22 14:30:00                   WHITE  67.7113   \n",
       "\n",
       "                 diagnosis    time_to_echo  max_icustay_seq time_filter  \n",
       "0           UPPER GI BLEED 0 days 21:02:00                1        True  \n",
       "1               COPD FLARE 3 days 18:12:00                1       False  \n",
       "2  CORONARY ARTERY DISEASE 0 days 22:59:00                1        True  \n",
       "3  CORONARY ARTERY DISEASE 2 days 00:58:00                1       False  \n",
       "4  CORONARY ARTERY DISEASE 0 days 03:06:00                1        True  "
      ]
     },
     "execution_count": 244,
     "metadata": {},
     "output_type": "execute_result"
    }
   ],
   "source": [
    "query = \\\n",
    "\"\"\"\n",
    "SELECT * FROM echo_icustay;\n",
    "\"\"\"\n",
    "icu = pd.read_sql_query(query, con)\n",
    "icu.head()"
   ]
  },
  {
   "cell_type": "markdown",
   "metadata": {},
   "source": [
    "Comment out or edit `WHERE max_icustay_seq = 1` to be able to run the next two cells, which looks at the number of icustay_ids within a hadm_id, and an example where there are multiple icustay_ids within a hadm_id. "
   ]
  },
  {
   "cell_type": "code",
   "execution_count": 68,
   "metadata": {
    "collapsed": false
   },
   "outputs": [
    {
     "data": {
      "text/plain": [
       "1    21290\n",
       "2     1861\n",
       "3      257\n",
       "4       47\n",
       "5        7\n",
       "6        3\n",
       "7        2\n",
       "Name: icustay_id, dtype: int64"
      ]
     },
     "execution_count": 68,
     "metadata": {},
     "output_type": "execute_result"
    }
   ],
   "source": [
    "icu.groupby('hadm_id')['icustay_id'].apply(lambda c: len(c.unique())).sort_values(ascending = False).value_counts()"
   ]
  },
  {
   "cell_type": "code",
   "execution_count": 69,
   "metadata": {
    "collapsed": false
   },
   "outputs": [
    {
     "data": {
      "text/html": [
       "<div>\n",
       "<table border=\"1\" class=\"dataframe\">\n",
       "  <thead>\n",
       "    <tr style=\"text-align: right;\">\n",
       "      <th></th>\n",
       "      <th>row_id</th>\n",
       "      <th>hadm_id</th>\n",
       "      <th>charttime</th>\n",
       "      <th>icustay_id</th>\n",
       "      <th>los_icu</th>\n",
       "      <th>icustay_seq</th>\n",
       "      <th>first_icu_stay</th>\n",
       "      <th>gender</th>\n",
       "      <th>admittime</th>\n",
       "      <th>dischtime</th>\n",
       "      <th>ethnicity</th>\n",
       "      <th>admittime</th>\n",
       "      <th>max_icustay_seq</th>\n",
       "    </tr>\n",
       "  </thead>\n",
       "  <tbody>\n",
       "    <tr>\n",
       "      <th>33799</th>\n",
       "      <td>72512</td>\n",
       "      <td>186706</td>\n",
       "      <td>2188-09-08 15:50:00</td>\n",
       "      <td>294576</td>\n",
       "      <td>8.0</td>\n",
       "      <td>1</td>\n",
       "      <td>Y</td>\n",
       "      <td>M</td>\n",
       "      <td>2188-07-16 19:24:00</td>\n",
       "      <td>2188-09-25 14:30:00</td>\n",
       "      <td>WHITE</td>\n",
       "      <td>2188-07-16 19:24:00</td>\n",
       "      <td>7</td>\n",
       "    </tr>\n",
       "    <tr>\n",
       "      <th>33800</th>\n",
       "      <td>72879</td>\n",
       "      <td>186706</td>\n",
       "      <td>2188-09-19 16:32:00</td>\n",
       "      <td>294576</td>\n",
       "      <td>8.0</td>\n",
       "      <td>1</td>\n",
       "      <td>Y</td>\n",
       "      <td>M</td>\n",
       "      <td>2188-07-16 19:24:00</td>\n",
       "      <td>2188-09-25 14:30:00</td>\n",
       "      <td>WHITE</td>\n",
       "      <td>2188-07-16 19:24:00</td>\n",
       "      <td>7</td>\n",
       "    </tr>\n",
       "    <tr>\n",
       "      <th>33801</th>\n",
       "      <td>72880</td>\n",
       "      <td>186706</td>\n",
       "      <td>2188-08-26 11:33:00</td>\n",
       "      <td>294576</td>\n",
       "      <td>8.0</td>\n",
       "      <td>1</td>\n",
       "      <td>Y</td>\n",
       "      <td>M</td>\n",
       "      <td>2188-07-16 19:24:00</td>\n",
       "      <td>2188-09-25 14:30:00</td>\n",
       "      <td>WHITE</td>\n",
       "      <td>2188-07-16 19:24:00</td>\n",
       "      <td>7</td>\n",
       "    </tr>\n",
       "    <tr>\n",
       "      <th>33802</th>\n",
       "      <td>72879</td>\n",
       "      <td>186706</td>\n",
       "      <td>2188-09-19 16:32:00</td>\n",
       "      <td>240759</td>\n",
       "      <td>7.0</td>\n",
       "      <td>2</td>\n",
       "      <td>N</td>\n",
       "      <td>M</td>\n",
       "      <td>2188-07-16 19:24:00</td>\n",
       "      <td>2188-09-25 14:30:00</td>\n",
       "      <td>WHITE</td>\n",
       "      <td>2188-07-16 19:24:00</td>\n",
       "      <td>7</td>\n",
       "    </tr>\n",
       "    <tr>\n",
       "      <th>33803</th>\n",
       "      <td>72512</td>\n",
       "      <td>186706</td>\n",
       "      <td>2188-09-08 15:50:00</td>\n",
       "      <td>240759</td>\n",
       "      <td>7.0</td>\n",
       "      <td>2</td>\n",
       "      <td>N</td>\n",
       "      <td>M</td>\n",
       "      <td>2188-07-16 19:24:00</td>\n",
       "      <td>2188-09-25 14:30:00</td>\n",
       "      <td>WHITE</td>\n",
       "      <td>2188-07-16 19:24:00</td>\n",
       "      <td>7</td>\n",
       "    </tr>\n",
       "  </tbody>\n",
       "</table>\n",
       "</div>"
      ],
      "text/plain": [
       "       row_id  hadm_id           charttime  icustay_id  los_icu  icustay_seq  \\\n",
       "33799   72512   186706 2188-09-08 15:50:00      294576      8.0            1   \n",
       "33800   72879   186706 2188-09-19 16:32:00      294576      8.0            1   \n",
       "33801   72880   186706 2188-08-26 11:33:00      294576      8.0            1   \n",
       "33802   72879   186706 2188-09-19 16:32:00      240759      7.0            2   \n",
       "33803   72512   186706 2188-09-08 15:50:00      240759      7.0            2   \n",
       "\n",
       "      first_icu_stay gender           admittime           dischtime ethnicity  \\\n",
       "33799              Y      M 2188-07-16 19:24:00 2188-09-25 14:30:00     WHITE   \n",
       "33800              Y      M 2188-07-16 19:24:00 2188-09-25 14:30:00     WHITE   \n",
       "33801              Y      M 2188-07-16 19:24:00 2188-09-25 14:30:00     WHITE   \n",
       "33802              N      M 2188-07-16 19:24:00 2188-09-25 14:30:00     WHITE   \n",
       "33803              N      M 2188-07-16 19:24:00 2188-09-25 14:30:00     WHITE   \n",
       "\n",
       "                admittime  max_icustay_seq  \n",
       "33799 2188-07-16 19:24:00                7  \n",
       "33800 2188-07-16 19:24:00                7  \n",
       "33801 2188-07-16 19:24:00                7  \n",
       "33802 2188-07-16 19:24:00                7  \n",
       "33803 2188-07-16 19:24:00                7  "
      ]
     },
     "execution_count": 69,
     "metadata": {},
     "output_type": "execute_result"
    }
   ],
   "source": [
    "icu.loc[icu['hadm_id'] == 186706].head()"
   ]
  },
  {
   "cell_type": "markdown",
   "metadata": {},
   "source": [
    "There are 21290 such echos. "
   ]
  },
  {
   "cell_type": "markdown",
   "metadata": {},
   "source": [
    "## Distribution of number of echos by time w.r.t admittime"
   ]
  },
  {
   "cell_type": "markdown",
   "metadata": {},
   "source": [
    "Count the number of echos between -8 to 48 hours"
   ]
  },
  {
   "cell_type": "code",
   "execution_count": 138,
   "metadata": {
    "collapsed": false
   },
   "outputs": [
    {
     "data": {
      "text/plain": [
       "<matplotlib.axes._subplots.AxesSubplot at 0x131e02390>"
      ]
     },
     "execution_count": 138,
     "metadata": {},
     "output_type": "execute_result"
    },
    {
     "data": {
      "image/png": "[encoded data removed]",
      "text/plain": [
       "<matplotlib.figure.Figure at 0x13053af98>"
      ]
     },
     "metadata": {},
     "output_type": "display_data"
    }
   ],
   "source": [
    "(icu['time_to_echo'] / np.timedelta64(1, 'h')).hist(bins = 100)"
   ]
  },
  {
   "cell_type": "code",
   "execution_count": 139,
   "metadata": {
    "collapsed": false
   },
   "outputs": [
    {
     "data": {
      "image/png": "[encoded data removed]",
      "text/plain": [
       "<matplotlib.figure.Figure at 0x131e71fd0>"
      ]
     },
     "metadata": {},
     "output_type": "display_data"
    }
   ],
   "source": [
    "ax = (icu['time_to_echo'] / np.timedelta64(1, 'h')).hist(bins = 1000)\n",
    "plt.xlim([-48, 240])\n",
    "ticklabels = np.arange(-48, 240)[::24]\n",
    "_ = plt.xticks(ticklabels)"
   ]
  },
  {
   "cell_type": "code",
   "execution_count": 141,
   "metadata": {
    "collapsed": false
   },
   "outputs": [
    {
     "data": {
      "text/plain": [
       "True     16330\n",
       "False    13385\n",
       "Name: time_to_echo, dtype: int64"
      ]
     },
     "execution_count": 141,
     "metadata": {},
     "output_type": "execute_result"
    }
   ],
   "source": [
    "((icu['time_to_echo'] > np.timedelta64(-8, 'h')) & \n",
    " (icu['time_to_echo'] < np.timedelta64(48, 'h'))).value_counts()"
   ]
  },
  {
   "cell_type": "code",
   "execution_count": 147,
   "metadata": {
    "collapsed": false
   },
   "outputs": [
    {
     "data": {
      "text/plain": [
       "True     16330\n",
       "False    13385\n",
       "Name: time_filter, dtype: int64"
      ]
     },
     "execution_count": 147,
     "metadata": {},
     "output_type": "execute_result"
    }
   ],
   "source": [
    "icu['time_filter'].value_counts()"
   ]
  },
  {
   "cell_type": "markdown",
   "metadata": {},
   "source": [
    "There are 16330 ICU echos that were taken between -8 to 48 h. Everything else is computed based on these:"
   ]
  },
  {
   "cell_type": "markdown",
   "metadata": {},
   "source": [
    "## Distribution on gender"
   ]
  },
  {
   "cell_type": "code",
   "execution_count": 148,
   "metadata": {
    "collapsed": false
   },
   "outputs": [
    {
     "data": {
      "text/plain": [
       "<matplotlib.axes._subplots.AxesSubplot at 0x1305bf438>"
      ]
     },
     "execution_count": 148,
     "metadata": {},
     "output_type": "execute_result"
    },
    {
     "data": {
      "image/png": "[encoded data removed]",
      "text/plain": [
       "<matplotlib.figure.Figure at 0x130e140f0>"
      ]
     },
     "metadata": {},
     "output_type": "display_data"
    }
   ],
   "source": [
    "icu.loc[icu['time_filter'], 'gender'].value_counts().plot(kind = 'bar')"
   ]
  },
  {
   "cell_type": "markdown",
   "metadata": {},
   "source": [
    "## Distribution on age\n",
    "\n",
    "Computed as admittime - dob"
   ]
  },
  {
   "cell_type": "code",
   "execution_count": 150,
   "metadata": {
    "collapsed": false
   },
   "outputs": [
    {
     "data": {
      "text/plain": [
       "<matplotlib.text.Text at 0x13050ab70>"
      ]
     },
     "execution_count": 150,
     "metadata": {},
     "output_type": "execute_result"
    },
    {
     "data": {
      "image/png": "[encoded data removed]",
      "text/plain": [
       "<matplotlib.figure.Figure at 0x1305a9f28>"
      ]
     },
     "metadata": {},
     "output_type": "display_data"
    }
   ],
   "source": [
    "round(icu.loc[icu['time_filter'], 'age']).value_counts().sort_index().plot()\n",
    "plt.xlabel('Age')\n",
    "plt.ylabel('Number of hadm_ids')"
   ]
  },
  {
   "cell_type": "markdown",
   "metadata": {},
   "source": [
    "## Distribution on number per icustay_id"
   ]
  },
  {
   "cell_type": "code",
   "execution_count": 240,
   "metadata": {
    "collapsed": false
   },
   "outputs": [
    {
     "data": {
      "text/plain": [
       "1    12724\n",
       "2     1242\n",
       "3      233\n",
       "4       81\n",
       "5       16\n",
       "6        2\n",
       "7        1\n",
       "Name: icustay_id, dtype: int64"
      ]
     },
     "execution_count": 240,
     "metadata": {},
     "output_type": "execute_result"
    }
   ],
   "source": [
    "icu.loc[icu['time_filter'], 'icustay_id'].value_counts().value_counts()"
   ]
  },
  {
   "cell_type": "markdown",
   "metadata": {},
   "source": [
    "Since we allow only one icustay per hospital admission, the numbers should be identical here: "
   ]
  },
  {
   "cell_type": "code",
   "execution_count": 241,
   "metadata": {
    "collapsed": false
   },
   "outputs": [
    {
     "data": {
      "text/plain": [
       "1    12724\n",
       "2     1242\n",
       "3      233\n",
       "4       81\n",
       "5       16\n",
       "6        2\n",
       "7        1\n",
       "Name: hadm_id, dtype: int64"
      ]
     },
     "execution_count": 241,
     "metadata": {},
     "output_type": "execute_result"
    }
   ],
   "source": [
    "icu.loc[icu['time_filter'], 'hadm_id'].value_counts().value_counts()"
   ]
  },
  {
   "cell_type": "markdown",
   "metadata": {},
   "source": [
    "## Distribution on number per patient"
   ]
  },
  {
   "cell_type": "code",
   "execution_count": 242,
   "metadata": {
    "collapsed": false
   },
   "outputs": [
    {
     "data": {
      "text/plain": [
       "1     10818\n",
       "2      1690\n",
       "3       413\n",
       "4       124\n",
       "5        39\n",
       "6        21\n",
       "7         7\n",
       "8         2\n",
       "11        1\n",
       "Name: subject_id, dtype: int64"
      ]
     },
     "execution_count": 242,
     "metadata": {},
     "output_type": "execute_result"
    }
   ],
   "source": [
    "icu.loc[icu['time_filter'], 'subject_id'].value_counts().value_counts()"
   ]
  },
  {
   "cell_type": "markdown",
   "metadata": {},
   "source": [
    "## Number of echos associated with sepsis (Angus)"
   ]
  },
  {
   "cell_type": "code",
   "execution_count": 234,
   "metadata": {
    "collapsed": false
   },
   "outputs": [
    {
     "data": {
      "text/html": [
       "<div>\n",
       "<table border=\"1\" class=\"dataframe\">\n",
       "  <thead>\n",
       "    <tr style=\"text-align: right;\">\n",
       "      <th></th>\n",
       "      <th>subject_id_angus</th>\n",
       "      <th>hadm_id</th>\n",
       "      <th>infection</th>\n",
       "      <th>explicit_sepsis</th>\n",
       "      <th>organ_dysfunction</th>\n",
       "      <th>mech_vent</th>\n",
       "      <th>angus</th>\n",
       "      <th>row_id</th>\n",
       "      <th>charttime</th>\n",
       "      <th>icustay_id</th>\n",
       "      <th>...</th>\n",
       "      <th>gender</th>\n",
       "      <th>subject_id_icu</th>\n",
       "      <th>dod</th>\n",
       "      <th>admittime</th>\n",
       "      <th>dischtime</th>\n",
       "      <th>ethnicity</th>\n",
       "      <th>age</th>\n",
       "      <th>time_to_echo</th>\n",
       "      <th>max_icustay_seq</th>\n",
       "      <th>time_filter</th>\n",
       "    </tr>\n",
       "  </thead>\n",
       "  <tbody>\n",
       "    <tr>\n",
       "      <th>0</th>\n",
       "      <td>24</td>\n",
       "      <td>161859</td>\n",
       "      <td>0</td>\n",
       "      <td>0</td>\n",
       "      <td>0</td>\n",
       "      <td>0</td>\n",
       "      <td>0</td>\n",
       "      <td>78797</td>\n",
       "      <td>2139-06-08 10:31:00</td>\n",
       "      <td>262236</td>\n",
       "      <td>...</td>\n",
       "      <td>M</td>\n",
       "      <td>24</td>\n",
       "      <td>NaT</td>\n",
       "      <td>2139-06-06 16:14:00</td>\n",
       "      <td>2139-06-09 12:48:00</td>\n",
       "      <td>WHITE</td>\n",
       "      <td>39.0152</td>\n",
       "      <td>1 days 18:17:00</td>\n",
       "      <td>1</td>\n",
       "      <td>True</td>\n",
       "    </tr>\n",
       "    <tr>\n",
       "      <th>1</th>\n",
       "      <td>25</td>\n",
       "      <td>129635</td>\n",
       "      <td>0</td>\n",
       "      <td>0</td>\n",
       "      <td>0</td>\n",
       "      <td>0</td>\n",
       "      <td>0</td>\n",
       "      <td>78499</td>\n",
       "      <td>2160-11-02 11:16:00</td>\n",
       "      <td>203487</td>\n",
       "      <td>...</td>\n",
       "      <td>M</td>\n",
       "      <td>25</td>\n",
       "      <td>NaT</td>\n",
       "      <td>2160-11-02 02:06:00</td>\n",
       "      <td>2160-11-05 14:55:00</td>\n",
       "      <td>WHITE</td>\n",
       "      <td>58.9500</td>\n",
       "      <td>0 days 09:10:00</td>\n",
       "      <td>1</td>\n",
       "      <td>True</td>\n",
       "    </tr>\n",
       "    <tr>\n",
       "      <th>2</th>\n",
       "      <td>30</td>\n",
       "      <td>104557</td>\n",
       "      <td>0</td>\n",
       "      <td>0</td>\n",
       "      <td>0</td>\n",
       "      <td>0</td>\n",
       "      <td>0</td>\n",
       "      <td>70141</td>\n",
       "      <td>2172-10-15 14:05:00</td>\n",
       "      <td>225176</td>\n",
       "      <td>...</td>\n",
       "      <td>M</td>\n",
       "      <td>30</td>\n",
       "      <td>NaT</td>\n",
       "      <td>2172-10-14 14:17:00</td>\n",
       "      <td>2172-10-19 14:37:00</td>\n",
       "      <td>UNKNOWN/NOT SPECIFIED</td>\n",
       "      <td>300.0011</td>\n",
       "      <td>0 days 23:48:00</td>\n",
       "      <td>1</td>\n",
       "      <td>True</td>\n",
       "    </tr>\n",
       "    <tr>\n",
       "      <th>3</th>\n",
       "      <td>33</td>\n",
       "      <td>176176</td>\n",
       "      <td>1</td>\n",
       "      <td>0</td>\n",
       "      <td>0</td>\n",
       "      <td>0</td>\n",
       "      <td>0</td>\n",
       "      <td>61623</td>\n",
       "      <td>2116-12-24 09:22:00</td>\n",
       "      <td>296681</td>\n",
       "      <td>...</td>\n",
       "      <td>M</td>\n",
       "      <td>33</td>\n",
       "      <td>NaT</td>\n",
       "      <td>2116-12-23 22:30:00</td>\n",
       "      <td>2116-12-27 12:05:00</td>\n",
       "      <td>UNKNOWN/NOT SPECIFIED</td>\n",
       "      <td>82.3919</td>\n",
       "      <td>0 days 10:52:00</td>\n",
       "      <td>1</td>\n",
       "      <td>True</td>\n",
       "    </tr>\n",
       "    <tr>\n",
       "      <th>4</th>\n",
       "      <td>34</td>\n",
       "      <td>115799</td>\n",
       "      <td>0</td>\n",
       "      <td>0</td>\n",
       "      <td>0</td>\n",
       "      <td>0</td>\n",
       "      <td>0</td>\n",
       "      <td>81565</td>\n",
       "      <td>2186-07-19 15:28:00</td>\n",
       "      <td>263086</td>\n",
       "      <td>...</td>\n",
       "      <td>M</td>\n",
       "      <td>34</td>\n",
       "      <td>2192-01-30</td>\n",
       "      <td>2186-07-18 16:46:00</td>\n",
       "      <td>2186-07-20 16:00:00</td>\n",
       "      <td>WHITE</td>\n",
       "      <td>300.0011</td>\n",
       "      <td>0 days 22:42:00</td>\n",
       "      <td>1</td>\n",
       "      <td>True</td>\n",
       "    </tr>\n",
       "  </tbody>\n",
       "</table>\n",
       "<p>5 rows × 24 columns</p>\n",
       "</div>"
      ],
      "text/plain": [
       "   subject_id_angus  hadm_id  infection  explicit_sepsis  organ_dysfunction  \\\n",
       "0                24   161859          0                0                  0   \n",
       "1                25   129635          0                0                  0   \n",
       "2                30   104557          0                0                  0   \n",
       "3                33   176176          1                0                  0   \n",
       "4                34   115799          0                0                  0   \n",
       "\n",
       "   mech_vent  angus  row_id           charttime  icustay_id     ...      \\\n",
       "0          0      0   78797 2139-06-08 10:31:00      262236     ...       \n",
       "1          0      0   78499 2160-11-02 11:16:00      203487     ...       \n",
       "2          0      0   70141 2172-10-15 14:05:00      225176     ...       \n",
       "3          0      0   61623 2116-12-24 09:22:00      296681     ...       \n",
       "4          0      0   81565 2186-07-19 15:28:00      263086     ...       \n",
       "\n",
       "   gender  subject_id_icu        dod           admittime           dischtime  \\\n",
       "0       M              24        NaT 2139-06-06 16:14:00 2139-06-09 12:48:00   \n",
       "1       M              25        NaT 2160-11-02 02:06:00 2160-11-05 14:55:00   \n",
       "2       M              30        NaT 2172-10-14 14:17:00 2172-10-19 14:37:00   \n",
       "3       M              33        NaT 2116-12-23 22:30:00 2116-12-27 12:05:00   \n",
       "4       M              34 2192-01-30 2186-07-18 16:46:00 2186-07-20 16:00:00   \n",
       "\n",
       "               ethnicity       age    time_to_echo max_icustay_seq time_filter  \n",
       "0                  WHITE   39.0152 1 days 18:17:00               1        True  \n",
       "1                  WHITE   58.9500 0 days 09:10:00               1        True  \n",
       "2  UNKNOWN/NOT SPECIFIED  300.0011 0 days 23:48:00               1        True  \n",
       "3  UNKNOWN/NOT SPECIFIED   82.3919 0 days 10:52:00               1        True  \n",
       "4                  WHITE  300.0011 0 days 22:42:00               1        True  \n",
       "\n",
       "[5 rows x 24 columns]"
      ]
     },
     "execution_count": 234,
     "metadata": {},
     "output_type": "execute_result"
    }
   ],
   "source": [
    "res = pd.merge(angus, icu.loc[icu['time_filter']], on = 'hadm_id', suffixes = ('_angus', '_icu'), how = 'right')\n",
    "res.head()"
   ]
  },
  {
   "cell_type": "code",
   "execution_count": 235,
   "metadata": {
    "collapsed": false
   },
   "outputs": [
    {
     "data": {
      "text/plain": [
       "0    14893\n",
       "1     1437\n",
       "Name: explicit_sepsis, dtype: int64"
      ]
     },
     "execution_count": 235,
     "metadata": {},
     "output_type": "execute_result"
    }
   ],
   "source": [
    "res['explicit_sepsis'].value_counts()"
   ]
  },
  {
   "cell_type": "code",
   "execution_count": 236,
   "metadata": {
    "collapsed": false
   },
   "outputs": [
    {
     "data": {
      "text/plain": [
       "0    11439\n",
       "1     4891\n",
       "Name: angus, dtype: int64"
      ]
     },
     "execution_count": 236,
     "metadata": {},
     "output_type": "execute_result"
    }
   ],
   "source": [
    "res['angus'].value_counts()"
   ]
  },
  {
   "cell_type": "markdown",
   "metadata": {},
   "source": [
    "## sofa scores associated with echos"
   ]
  },
  {
   "cell_type": "code",
   "execution_count": 140,
   "metadata": {
    "collapsed": false
   },
   "outputs": [
    {
     "data": {
      "text/html": [
       "<div>\n",
       "<table border=\"1\" class=\"dataframe\">\n",
       "  <thead>\n",
       "    <tr style=\"text-align: right;\">\n",
       "      <th></th>\n",
       "      <th>subject_id</th>\n",
       "      <th>hadm_id</th>\n",
       "      <th>icustay_id</th>\n",
       "      <th>sofa</th>\n",
       "      <th>respiration</th>\n",
       "      <th>coagulation</th>\n",
       "      <th>liver</th>\n",
       "      <th>cardiovascular</th>\n",
       "      <th>cns</th>\n",
       "      <th>renal</th>\n",
       "    </tr>\n",
       "  </thead>\n",
       "  <tbody>\n",
       "    <tr>\n",
       "      <th>0</th>\n",
       "      <td>55973</td>\n",
       "      <td>152234</td>\n",
       "      <td>200001</td>\n",
       "      <td>6</td>\n",
       "      <td>NaN</td>\n",
       "      <td>1.0</td>\n",
       "      <td>0.0</td>\n",
       "      <td>1.0</td>\n",
       "      <td>1.0</td>\n",
       "      <td>3.0</td>\n",
       "    </tr>\n",
       "    <tr>\n",
       "      <th>1</th>\n",
       "      <td>27513</td>\n",
       "      <td>163557</td>\n",
       "      <td>200003</td>\n",
       "      <td>6</td>\n",
       "      <td>2.0</td>\n",
       "      <td>1.0</td>\n",
       "      <td>2.0</td>\n",
       "      <td>1.0</td>\n",
       "      <td>0.0</td>\n",
       "      <td>0.0</td>\n",
       "    </tr>\n",
       "    <tr>\n",
       "      <th>2</th>\n",
       "      <td>10950</td>\n",
       "      <td>189514</td>\n",
       "      <td>200006</td>\n",
       "      <td>1</td>\n",
       "      <td>NaN</td>\n",
       "      <td>0.0</td>\n",
       "      <td>NaN</td>\n",
       "      <td>1.0</td>\n",
       "      <td>0.0</td>\n",
       "      <td>0.0</td>\n",
       "    </tr>\n",
       "    <tr>\n",
       "      <th>3</th>\n",
       "      <td>20707</td>\n",
       "      <td>129310</td>\n",
       "      <td>200007</td>\n",
       "      <td>1</td>\n",
       "      <td>NaN</td>\n",
       "      <td>0.0</td>\n",
       "      <td>NaN</td>\n",
       "      <td>1.0</td>\n",
       "      <td>0.0</td>\n",
       "      <td>0.0</td>\n",
       "    </tr>\n",
       "    <tr>\n",
       "      <th>4</th>\n",
       "      <td>29904</td>\n",
       "      <td>129607</td>\n",
       "      <td>200009</td>\n",
       "      <td>3</td>\n",
       "      <td>0.0</td>\n",
       "      <td>2.0</td>\n",
       "      <td>NaN</td>\n",
       "      <td>1.0</td>\n",
       "      <td>0.0</td>\n",
       "      <td>0.0</td>\n",
       "    </tr>\n",
       "  </tbody>\n",
       "</table>\n",
       "</div>"
      ],
      "text/plain": [
       "   subject_id  hadm_id  icustay_id  sofa  respiration  coagulation  liver  \\\n",
       "0       55973   152234      200001     6          NaN          1.0    0.0   \n",
       "1       27513   163557      200003     6          2.0          1.0    2.0   \n",
       "2       10950   189514      200006     1          NaN          0.0    NaN   \n",
       "3       20707   129310      200007     1          NaN          0.0    NaN   \n",
       "4       29904   129607      200009     3          0.0          2.0    NaN   \n",
       "\n",
       "   cardiovascular  cns  renal  \n",
       "0             1.0  1.0    3.0  \n",
       "1             1.0  0.0    0.0  \n",
       "2             1.0  0.0    0.0  \n",
       "3             1.0  0.0    0.0  \n",
       "4             1.0  0.0    0.0  "
      ]
     },
     "execution_count": 140,
     "metadata": {},
     "output_type": "execute_result"
    }
   ],
   "source": [
    "query = \\\n",
    "\"\"\"\n",
    "SELECT * FROM sofa;\n",
    "\"\"\"\n",
    "sofa = pd.read_sql_query(query, con)\n",
    "sofa.head()"
   ]
  },
  {
   "cell_type": "code",
   "execution_count": 141,
   "metadata": {
    "collapsed": false
   },
   "outputs": [
    {
     "data": {
      "text/plain": [
       "<matplotlib.text.Text at 0x11742e588>"
      ]
     },
     "execution_count": 141,
     "metadata": {},
     "output_type": "execute_result"
    },
    {
     "data": {
      "image/png": "[encoded data removed]",
      "text/plain": [
       "<matplotlib.figure.Figure at 0x1184dc0b8>"
      ]
     },
     "metadata": {},
     "output_type": "display_data"
    }
   ],
   "source": [
    "res = pd.merge(icu.loc[icu['time_filter']], sofa, on = 'hadm_id', suffixes = ('_icu', '_sofa'), how = 'left')\n",
    "\n",
    "res['sofa'].value_counts().sort_index().plot(kind = 'bar')\n",
    "plt.xlabel('sofa')\n",
    "plt.ylabel('Number of hadm_ids')"
   ]
  },
  {
   "cell_type": "markdown",
   "metadata": {},
   "source": [
    "## qsofa scores associated with ICU echos"
   ]
  },
  {
   "cell_type": "code",
   "execution_count": 142,
   "metadata": {
    "collapsed": false
   },
   "outputs": [
    {
     "data": {
      "text/html": [
       "<div>\n",
       "<table border=\"1\" class=\"dataframe\">\n",
       "  <thead>\n",
       "    <tr style=\"text-align: right;\">\n",
       "      <th></th>\n",
       "      <th>subject_id</th>\n",
       "      <th>hadm_id</th>\n",
       "      <th>icustay_id</th>\n",
       "      <th>qsofa</th>\n",
       "      <th>sysbp_score</th>\n",
       "      <th>gcs_score</th>\n",
       "      <th>resprate_score</th>\n",
       "    </tr>\n",
       "  </thead>\n",
       "  <tbody>\n",
       "    <tr>\n",
       "      <th>0</th>\n",
       "      <td>55973</td>\n",
       "      <td>152234</td>\n",
       "      <td>200001</td>\n",
       "      <td>2</td>\n",
       "      <td>1.0</td>\n",
       "      <td>0.0</td>\n",
       "      <td>1.0</td>\n",
       "    </tr>\n",
       "    <tr>\n",
       "      <th>1</th>\n",
       "      <td>27513</td>\n",
       "      <td>163557</td>\n",
       "      <td>200003</td>\n",
       "      <td>2</td>\n",
       "      <td>1.0</td>\n",
       "      <td>0.0</td>\n",
       "      <td>1.0</td>\n",
       "    </tr>\n",
       "    <tr>\n",
       "      <th>2</th>\n",
       "      <td>10950</td>\n",
       "      <td>189514</td>\n",
       "      <td>200006</td>\n",
       "      <td>2</td>\n",
       "      <td>1.0</td>\n",
       "      <td>0.0</td>\n",
       "      <td>1.0</td>\n",
       "    </tr>\n",
       "    <tr>\n",
       "      <th>3</th>\n",
       "      <td>20707</td>\n",
       "      <td>129310</td>\n",
       "      <td>200007</td>\n",
       "      <td>2</td>\n",
       "      <td>1.0</td>\n",
       "      <td>0.0</td>\n",
       "      <td>1.0</td>\n",
       "    </tr>\n",
       "    <tr>\n",
       "      <th>4</th>\n",
       "      <td>29904</td>\n",
       "      <td>129607</td>\n",
       "      <td>200009</td>\n",
       "      <td>2</td>\n",
       "      <td>1.0</td>\n",
       "      <td>0.0</td>\n",
       "      <td>1.0</td>\n",
       "    </tr>\n",
       "  </tbody>\n",
       "</table>\n",
       "</div>"
      ],
      "text/plain": [
       "   subject_id  hadm_id  icustay_id  qsofa  sysbp_score  gcs_score  \\\n",
       "0       55973   152234      200001      2          1.0        0.0   \n",
       "1       27513   163557      200003      2          1.0        0.0   \n",
       "2       10950   189514      200006      2          1.0        0.0   \n",
       "3       20707   129310      200007      2          1.0        0.0   \n",
       "4       29904   129607      200009      2          1.0        0.0   \n",
       "\n",
       "   resprate_score  \n",
       "0             1.0  \n",
       "1             1.0  \n",
       "2             1.0  \n",
       "3             1.0  \n",
       "4             1.0  "
      ]
     },
     "execution_count": 142,
     "metadata": {},
     "output_type": "execute_result"
    }
   ],
   "source": [
    "query = \\\n",
    "\"\"\"\n",
    "SELECT * FROM qsofa;\n",
    "\"\"\"\n",
    "qsofa = pd.read_sql_query(query, con)\n",
    "qsofa.head()"
   ]
  },
  {
   "cell_type": "code",
   "execution_count": 143,
   "metadata": {
    "collapsed": false
   },
   "outputs": [
    {
     "data": {
      "text/plain": [
       "<matplotlib.text.Text at 0x1159d9eb8>"
      ]
     },
     "execution_count": 143,
     "metadata": {},
     "output_type": "execute_result"
    },
    {
     "data": {
      "image/png": "[encoded data removed]",
      "text/plain": [
       "<matplotlib.figure.Figure at 0x1223a0a20>"
      ]
     },
     "metadata": {},
     "output_type": "display_data"
    }
   ],
   "source": [
    "res = pd.merge(icu.loc[icu['time_filter']], qsofa, on = 'hadm_id', suffixes = ('_icu', '_qsofa'), how = 'left')\n",
    "\n",
    "res['qsofa'].value_counts().sort_index().plot(kind = 'bar')\n",
    "plt.xlabel('qsofa')\n",
    "plt.ylabel('Number of hadm_ids')"
   ]
  },
  {
   "cell_type": "markdown",
   "metadata": {},
   "source": [
    "## Mortality"
   ]
  },
  {
   "cell_type": "code",
   "execution_count": 223,
   "metadata": {
    "collapsed": false
   },
   "outputs": [
    {
     "data": {
      "text/plain": [
       "False    9899\n",
       "True     6431\n",
       "Name: dod, dtype: int64"
      ]
     },
     "execution_count": 223,
     "metadata": {},
     "output_type": "execute_result"
    }
   ],
   "source": [
    "res = icu.loc[icu['time_filter']]\n",
    "(~res['dod'].isnull()).value_counts()"
   ]
  },
  {
   "cell_type": "markdown",
   "metadata": {},
   "source": [
    "### Mortality in ICU\n",
    "\n",
    "Compute number whose date of death <= icu outtime"
   ]
  },
  {
   "cell_type": "code",
   "execution_count": 213,
   "metadata": {
    "collapsed": false
   },
   "outputs": [
    {
     "data": {
      "text/plain": [
       "False    14797\n",
       "True      1533\n",
       "dtype: int64"
      ]
     },
     "execution_count": 213,
     "metadata": {},
     "output_type": "execute_result"
    }
   ],
   "source": [
    "res = icu.loc[icu['time_filter']]\n",
    "(res['dod'] <= res['outtime']).value_counts()"
   ]
  },
  {
   "cell_type": "markdown",
   "metadata": {},
   "source": [
    "### Mortality in hospital\n",
    "\n",
    "Compute number whose date of death <= hospital discharge time"
   ]
  },
  {
   "cell_type": "code",
   "execution_count": 214,
   "metadata": {
    "collapsed": false
   },
   "outputs": [
    {
     "data": {
      "text/plain": [
       "False    14547\n",
       "True      1783\n",
       "dtype: int64"
      ]
     },
     "execution_count": 214,
     "metadata": {},
     "output_type": "execute_result"
    }
   ],
   "source": [
    "res = icu.loc[icu['time_filter']]\n",
    "(res['dod'] <= res['dischtime']).value_counts()"
   ]
  },
  {
   "cell_type": "markdown",
   "metadata": {},
   "source": [
    "### 30-day mortality\n",
    "\n",
    "Compute number who died within 30 days of getting the echo"
   ]
  },
  {
   "cell_type": "code",
   "execution_count": 219,
   "metadata": {
    "collapsed": false
   },
   "outputs": [
    {
     "data": {
      "text/plain": [
       "False    12077\n",
       "True      4253\n",
       "dtype: int64"
      ]
     },
     "execution_count": 219,
     "metadata": {},
     "output_type": "execute_result"
    }
   ],
   "source": [
    "res = icu.loc[icu['time_filter']]\n",
    "(res['charttime'] + pd.Timedelta(30, 'D') <= res['dod']).value_counts()"
   ]
  },
  {
   "cell_type": "markdown",
   "metadata": {},
   "source": [
    "### Time to death"
   ]
  },
  {
   "cell_type": "code",
   "execution_count": 232,
   "metadata": {
    "collapsed": false
   },
   "outputs": [
    {
     "data": {
      "text/plain": [
       "<matplotlib.text.Text at 0x1296acf60>"
      ]
     },
     "execution_count": 232,
     "metadata": {},
     "output_type": "execute_result"
    },
    {
     "data": {
      "image/png": "[encoded data removed]",
      "text/plain": [
       "<matplotlib.figure.Figure at 0x1297d64e0>"
      ]
     },
     "metadata": {},
     "output_type": "display_data"
    }
   ],
   "source": [
    "res = icu.loc[icu['time_filter']]\n",
    "((res['dod'] - res['charttime'])/pd.Timedelta(1, 'D')).hist(bins = 20)\n",
    "plt.xlabel('Days')\n",
    "plt.ylabel('Number of echos')"
   ]
  },
  {
   "cell_type": "markdown",
   "metadata": {},
   "source": [
    "## Diagnoses\n",
    "\n",
    "Hospital admission lists a preliminary diagnoses, and echos list indications. We can also get all diagnoses associated with a particular hospital admission ID. Note that the documentation states that final diagnoses are found in diagnoses_ICD. These diagnoses are listed by priority. \n",
    "\n",
    "### Top preliminary diagnoses"
   ]
  },
  {
   "cell_type": "code",
   "execution_count": 255,
   "metadata": {
    "collapsed": false
   },
   "outputs": [
    {
     "data": {
      "text/plain": [
       "CORONARY ARTERY DISEASE                                      631\n",
       "CORONARY ARTERY DISEASE\\CORONARY ARTERY BYPASS GRAFT /SDA    566\n",
       "CHEST PAIN                                                   537\n",
       "CONGESTIVE HEART FAILURE                                     495\n",
       "PNEUMONIA                                                    439\n",
       "SEPSIS                                                       365\n",
       "PERICARDIAL EFFUSION                                         223\n",
       "NEWBORN                                                      186\n",
       "HYPOTENSION                                                  168\n",
       "STROKE;TELEMETRY;TRANSIENT ISCHEMIC ATTACK                   167\n",
       "Name: diagnosis, dtype: int64"
      ]
     },
     "execution_count": 255,
     "metadata": {},
     "output_type": "execute_result"
    }
   ],
   "source": [
    "icu.loc[icu['time_filter'], 'diagnosis'].value_counts().head(n = 10)"
   ]
  },
  {
   "cell_type": "markdown",
   "metadata": {},
   "source": [
    "### Most common diagnoses"
   ]
  },
  {
   "cell_type": "code",
   "execution_count": 259,
   "metadata": {
    "collapsed": false
   },
   "outputs": [
    {
     "data": {
      "text/plain": [
       "Hypertension NOS            9037\n",
       "CHF NOS                     7648\n",
       "Crnry athrscl natve vssl    7359\n",
       "Atrial fibrillation         6934\n",
       "Hyperlipidemia NEC/NOS      4686\n",
       "Acute kidney failure NOS    4427\n",
       "DMII wo cmp nt st uncntr    4197\n",
       "Acute respiratry failure    3721\n",
       "Urin tract infection NOS    2872\n",
       "Esophageal reflux           2684\n",
       "Name: short_title, dtype: int64"
      ]
     },
     "execution_count": 259,
     "metadata": {},
     "output_type": "execute_result"
    }
   ],
   "source": [
    "query = \\\n",
    "\"\"\"\n",
    "SELECT * FROM diagnoses;\n",
    "\"\"\"\n",
    "diagnoses = pd.read_sql_query(query, con)\n",
    "diagnoses['short_title'].value_counts().head(n = 10)"
   ]
  },
  {
   "cell_type": "markdown",
   "metadata": {},
   "source": [
    "### Most common priority = 1 diagnoses"
   ]
  },
  {
   "cell_type": "code",
   "execution_count": 263,
   "metadata": {
    "collapsed": false
   },
   "outputs": [
    {
     "data": {
      "text/plain": [
       "Crnry athrscl natve vssl    2113\n",
       "Subendo infarct, initial    1327\n",
       "Septicemia NOS               867\n",
       "Aortic valve disorder        807\n",
       "Acute respiratry failure     570\n",
       "AMI inferior wall, init      413\n",
       "AMI anterior wall, init      409\n",
       "Mitral valve disorder        391\n",
       "CHF NOS                      375\n",
       "Pneumonia, organism NOS      319\n",
       "Name: short_title, dtype: int64"
      ]
     },
     "execution_count": 263,
     "metadata": {},
     "output_type": "execute_result"
    }
   ],
   "source": [
    "diagnoses.loc[diagnoses['seq_num'] == 1, 'short_title'].value_counts().head(n = 10)"
   ]
  },
  {
   "cell_type": "markdown",
   "metadata": {},
   "source": [
    "# Outpatient echos"
   ]
  },
  {
   "cell_type": "code",
   "execution_count": 145,
   "metadata": {
    "collapsed": false
   },
   "outputs": [
    {
     "data": {
      "text/html": [
       "<div>\n",
       "<table border=\"1\" class=\"dataframe\">\n",
       "  <thead>\n",
       "    <tr style=\"text-align: right;\">\n",
       "      <th></th>\n",
       "      <th>row_id</th>\n",
       "      <th>subject_id</th>\n",
       "      <th>hadm_id</th>\n",
       "      <th>chartdate</th>\n",
       "      <th>charttime</th>\n",
       "      <th>indication</th>\n",
       "      <th>height</th>\n",
       "      <th>weight</th>\n",
       "      <th>bsa</th>\n",
       "      <th>bp</th>\n",
       "      <th>bpsys</th>\n",
       "      <th>bpdias</th>\n",
       "      <th>hr</th>\n",
       "      <th>status</th>\n",
       "      <th>test</th>\n",
       "      <th>doppler</th>\n",
       "      <th>contrast</th>\n",
       "      <th>technicalquality</th>\n",
       "    </tr>\n",
       "  </thead>\n",
       "  <tbody>\n",
       "    <tr>\n",
       "      <th>0</th>\n",
       "      <td>77922</td>\n",
       "      <td>7949</td>\n",
       "      <td>NaN</td>\n",
       "      <td>2124-08-31</td>\n",
       "      <td>2124-08-31 14:00:00</td>\n",
       "      <td>Preoperative assessment.</td>\n",
       "      <td>65.0</td>\n",
       "      <td>149.0</td>\n",
       "      <td>1.75</td>\n",
       "      <td>125/82</td>\n",
       "      <td>125.0</td>\n",
       "      <td>82.0</td>\n",
       "      <td>72.0</td>\n",
       "      <td>Outpatient</td>\n",
       "      <td>TTE (Complete)</td>\n",
       "      <td>Full Doppler and color Doppler</td>\n",
       "      <td>None</td>\n",
       "      <td>Adequate</td>\n",
       "    </tr>\n",
       "    <tr>\n",
       "      <th>1</th>\n",
       "      <td>78193</td>\n",
       "      <td>25929</td>\n",
       "      <td>NaN</td>\n",
       "      <td>2201-06-04</td>\n",
       "      <td>2201-06-04 13:42:00</td>\n",
       "      <td>Aortic valve disease. Left ventricular function.</td>\n",
       "      <td>NaN</td>\n",
       "      <td>115.0</td>\n",
       "      <td>NaN</td>\n",
       "      <td>165/60</td>\n",
       "      <td>165.0</td>\n",
       "      <td>60.0</td>\n",
       "      <td>70.0</td>\n",
       "      <td>Outpatient</td>\n",
       "      <td>TTE (Complete)</td>\n",
       "      <td>Full Doppler and color Doppler</td>\n",
       "      <td>None</td>\n",
       "      <td>Adequate</td>\n",
       "    </tr>\n",
       "    <tr>\n",
       "      <th>2</th>\n",
       "      <td>78194</td>\n",
       "      <td>25929</td>\n",
       "      <td>NaN</td>\n",
       "      <td>2200-05-14</td>\n",
       "      <td>2200-05-14 11:00:00</td>\n",
       "      <td>Follow up aortic regurgitation</td>\n",
       "      <td>NaN</td>\n",
       "      <td>NaN</td>\n",
       "      <td>NaN</td>\n",
       "      <td>142/78</td>\n",
       "      <td>142.0</td>\n",
       "      <td>78.0</td>\n",
       "      <td>NaN</td>\n",
       "      <td>Outpatient</td>\n",
       "      <td>TTE (Complete)</td>\n",
       "      <td>Full doppler and color doppler</td>\n",
       "      <td>None</td>\n",
       "      <td>Adequate</td>\n",
       "    </tr>\n",
       "    <tr>\n",
       "      <th>3</th>\n",
       "      <td>78195</td>\n",
       "      <td>587</td>\n",
       "      <td>150352.0</td>\n",
       "      <td>2100-10-28</td>\n",
       "      <td>2100-10-28 13:45:00</td>\n",
       "      <td>Chemotherapy.</td>\n",
       "      <td>69.0</td>\n",
       "      <td>202.0</td>\n",
       "      <td>2.08</td>\n",
       "      <td>120/80</td>\n",
       "      <td>120.0</td>\n",
       "      <td>80.0</td>\n",
       "      <td>95.0</td>\n",
       "      <td>Outpatient</td>\n",
       "      <td>TTE (Complete)</td>\n",
       "      <td>Full doppler and color doppler</td>\n",
       "      <td>None</td>\n",
       "      <td>Adequate</td>\n",
       "    </tr>\n",
       "    <tr>\n",
       "      <th>4</th>\n",
       "      <td>77945</td>\n",
       "      <td>11201</td>\n",
       "      <td>175064.0</td>\n",
       "      <td>2122-01-16</td>\n",
       "      <td>2122-01-16 11:45:00</td>\n",
       "      <td>Shortness of breath.  Congestive heart failure...</td>\n",
       "      <td>67.0</td>\n",
       "      <td>185.0</td>\n",
       "      <td>1.96</td>\n",
       "      <td>120/68</td>\n",
       "      <td>120.0</td>\n",
       "      <td>68.0</td>\n",
       "      <td>88.0</td>\n",
       "      <td>Outpatient</td>\n",
       "      <td>TTE (Complete)</td>\n",
       "      <td>Full doppler and color doppler</td>\n",
       "      <td>None</td>\n",
       "      <td>Suboptimal</td>\n",
       "    </tr>\n",
       "  </tbody>\n",
       "</table>\n",
       "</div>"
      ],
      "text/plain": [
       "   row_id  subject_id   hadm_id  chartdate           charttime  \\\n",
       "0   77922        7949       NaN 2124-08-31 2124-08-31 14:00:00   \n",
       "1   78193       25929       NaN 2201-06-04 2201-06-04 13:42:00   \n",
       "2   78194       25929       NaN 2200-05-14 2200-05-14 11:00:00   \n",
       "3   78195         587  150352.0 2100-10-28 2100-10-28 13:45:00   \n",
       "4   77945       11201  175064.0 2122-01-16 2122-01-16 11:45:00   \n",
       "\n",
       "                                          indication  height  weight   bsa  \\\n",
       "0                           Preoperative assessment.    65.0   149.0  1.75   \n",
       "1   Aortic valve disease. Left ventricular function.     NaN   115.0   NaN   \n",
       "2                     Follow up aortic regurgitation     NaN     NaN   NaN   \n",
       "3                                      Chemotherapy.    69.0   202.0  2.08   \n",
       "4  Shortness of breath.  Congestive heart failure...    67.0   185.0  1.96   \n",
       "\n",
       "       bp  bpsys  bpdias    hr      status            test  \\\n",
       "0  125/82  125.0    82.0  72.0  Outpatient  TTE (Complete)   \n",
       "1  165/60  165.0    60.0  70.0  Outpatient  TTE (Complete)   \n",
       "2  142/78  142.0    78.0   NaN  Outpatient  TTE (Complete)   \n",
       "3  120/80  120.0    80.0  95.0  Outpatient  TTE (Complete)   \n",
       "4  120/68  120.0    68.0  88.0  Outpatient  TTE (Complete)   \n",
       "\n",
       "                          doppler contrast technicalquality  \n",
       "0  Full Doppler and color Doppler     None         Adequate  \n",
       "1  Full Doppler and color Doppler     None         Adequate  \n",
       "2  Full doppler and color doppler     None         Adequate  \n",
       "3  Full doppler and color doppler     None         Adequate  \n",
       "4  Full doppler and color doppler     None       Suboptimal  "
      ]
     },
     "execution_count": 145,
     "metadata": {},
     "output_type": "execute_result"
    }
   ],
   "source": [
    "query = \\\n",
    "\"\"\"\n",
    "SELECT * FROM echodata\n",
    "WHERE status = 'Outpatient';\n",
    "\"\"\"\n",
    "echo_op = pd.read_sql_query(query, con)\n",
    "echo_op.head()"
   ]
  },
  {
   "cell_type": "markdown",
   "metadata": {},
   "source": [
    "For each ICU echo, calculate the chart time on the outpatient echo minus the chart time on the ICU echo: \n",
    "\n",
    "Number of ICU echos that have an outpatient echo before or after:"
   ]
  },
  {
   "cell_type": "code",
   "execution_count": 146,
   "metadata": {
    "collapsed": false
   },
   "outputs": [
    {
     "data": {
      "text/plain": [
       "True     6854\n",
       "False    5157\n",
       "dtype: int64"
      ]
     },
     "execution_count": 146,
     "metadata": {},
     "output_type": "execute_result"
    },
    {
     "data": {
      "image/png": "[encoded data removed]",
      "text/plain": [
       "<matplotlib.figure.Figure at 0x1159efcf8>"
      ]
     },
     "metadata": {},
     "output_type": "display_data"
    }
   ],
   "source": [
    "res = pd.merge(icu, echo_op, on = 'subject_id', suffixes = ('_icu', '_op'), how = 'inner')\n",
    "((res['charttime_op'] - res['charttime_icu'])/ np.timedelta64(1, 'M')).hist(bins = 50)\n",
    "plt.xlim([-12*10, 12*10])\n",
    "ticklabels = np.arange(-120, 120)[::12]\n",
    "_ = plt.xticks(ticklabels, rotation = 90)\n",
    "plt.xlabel('Months')\n",
    "\n",
    "(res['charttime_op'] > res['charttime_icu']).value_counts()"
   ]
  },
  {
   "cell_type": "markdown",
   "metadata": {},
   "source": [
    "Looking at the pairs of echos where the outpatient echo occurred before the ICU echo, these are the indications for the outpatient echo. It doesn't look like they can be considered baseline echos? "
   ]
  },
  {
   "cell_type": "code",
   "execution_count": 149,
   "metadata": {
    "collapsed": false
   },
   "outputs": [
    {
     "data": {
      "text/html": [
       "<div>\n",
       "<table border=\"1\" class=\"dataframe\">\n",
       "  <thead>\n",
       "    <tr style=\"text-align: right;\">\n",
       "      <th></th>\n",
       "      <th>charttime_op</th>\n",
       "      <th>charttime_icu</th>\n",
       "      <th>indication</th>\n",
       "    </tr>\n",
       "  </thead>\n",
       "  <tbody>\n",
       "    <tr>\n",
       "      <th>8686</th>\n",
       "      <td>2164-06-01 13:00:00</td>\n",
       "      <td>2165-02-22 10:06:00</td>\n",
       "      <td>Pericardial effusion.  Interval change</td>\n",
       "    </tr>\n",
       "    <tr>\n",
       "      <th>6478</th>\n",
       "      <td>2165-09-25 09:00:00</td>\n",
       "      <td>2165-11-21 11:51:00</td>\n",
       "      <td>S/p repair of type A aortic dissection</td>\n",
       "    </tr>\n",
       "    <tr>\n",
       "      <th>10283</th>\n",
       "      <td>2136-08-22 09:00:00</td>\n",
       "      <td>2136-08-23 16:16:00</td>\n",
       "      <td>Evaluate for Coronary artery disease/Left vent...</td>\n",
       "    </tr>\n",
       "    <tr>\n",
       "      <th>999</th>\n",
       "      <td>2200-03-27 15:09:00</td>\n",
       "      <td>2200-04-28 15:48:00</td>\n",
       "      <td>Left ventricular function.</td>\n",
       "    </tr>\n",
       "    <tr>\n",
       "      <th>750</th>\n",
       "      <td>2170-08-03 09:00:00</td>\n",
       "      <td>2171-12-04 20:03:00</td>\n",
       "      <td>f/u cardiomyopathy</td>\n",
       "    </tr>\n",
       "    <tr>\n",
       "      <th>4642</th>\n",
       "      <td>2116-09-03 08:56:00</td>\n",
       "      <td>2116-11-09 09:20:00</td>\n",
       "      <td>Preoperative assessment.</td>\n",
       "    </tr>\n",
       "    <tr>\n",
       "      <th>8482</th>\n",
       "      <td>2142-07-20 08:15:00</td>\n",
       "      <td>2145-01-27 10:45:00</td>\n",
       "      <td>chect pain, prior CAD</td>\n",
       "    </tr>\n",
       "    <tr>\n",
       "      <th>168</th>\n",
       "      <td>2140-04-08 13:00:00</td>\n",
       "      <td>2144-09-21 11:48:00</td>\n",
       "      <td>Coronary artery disease. Left ventricular func...</td>\n",
       "    </tr>\n",
       "    <tr>\n",
       "      <th>354</th>\n",
       "      <td>2188-03-07 10:01:00</td>\n",
       "      <td>2188-03-17 13:08:00</td>\n",
       "      <td>Pericardial effusion.  Left ventricular function.</td>\n",
       "    </tr>\n",
       "    <tr>\n",
       "      <th>1986</th>\n",
       "      <td>2192-08-23 15:00:00</td>\n",
       "      <td>2195-10-16 15:05:00</td>\n",
       "      <td>Coronary artery disease. Congestive heart fail...</td>\n",
       "    </tr>\n",
       "  </tbody>\n",
       "</table>\n",
       "</div>"
      ],
      "text/plain": [
       "             charttime_op       charttime_icu  \\\n",
       "8686  2164-06-01 13:00:00 2165-02-22 10:06:00   \n",
       "6478  2165-09-25 09:00:00 2165-11-21 11:51:00   \n",
       "10283 2136-08-22 09:00:00 2136-08-23 16:16:00   \n",
       "999   2200-03-27 15:09:00 2200-04-28 15:48:00   \n",
       "750   2170-08-03 09:00:00 2171-12-04 20:03:00   \n",
       "4642  2116-09-03 08:56:00 2116-11-09 09:20:00   \n",
       "8482  2142-07-20 08:15:00 2145-01-27 10:45:00   \n",
       "168   2140-04-08 13:00:00 2144-09-21 11:48:00   \n",
       "354   2188-03-07 10:01:00 2188-03-17 13:08:00   \n",
       "1986  2192-08-23 15:00:00 2195-10-16 15:05:00   \n",
       "\n",
       "                                              indication  \n",
       "8686              Pericardial effusion.  Interval change  \n",
       "6478              S/p repair of type A aortic dissection  \n",
       "10283  Evaluate for Coronary artery disease/Left vent...  \n",
       "999                           Left ventricular function.  \n",
       "750                                   f/u cardiomyopathy  \n",
       "4642                            Preoperative assessment.  \n",
       "8482                               chect pain, prior CAD  \n",
       "168    Coronary artery disease. Left ventricular func...  \n",
       "354    Pericardial effusion.  Left ventricular function.  \n",
       "1986   Coronary artery disease. Congestive heart fail...  "
      ]
     },
     "execution_count": 149,
     "metadata": {},
     "output_type": "execute_result"
    }
   ],
   "source": [
    "res.loc[res['charttime_icu'] > res['charttime_op']][[\n",
    "        'charttime_op', 'charttime_icu', 'indication']].sample(n = 10)"
   ]
  },
  {
   "cell_type": "markdown",
   "metadata": {},
   "source": [
    "# Dialysis"
   ]
  },
  {
   "cell_type": "markdown",
   "metadata": {},
   "source": [
    "It is straightforward to ask which patients received dialysis during their stay. The rrt table determines if patients received any dialysis during their stay. "
   ]
  },
  {
   "cell_type": "code",
   "execution_count": 94,
   "metadata": {
    "collapsed": false
   },
   "outputs": [
    {
     "data": {
      "text/html": [
       "<div>\n",
       "<table border=\"1\" class=\"dataframe\">\n",
       "  <thead>\n",
       "    <tr style=\"text-align: right;\">\n",
       "      <th></th>\n",
       "      <th>subject_id</th>\n",
       "      <th>hadm_id</th>\n",
       "      <th>icustay_id</th>\n",
       "      <th>rrt</th>\n",
       "    </tr>\n",
       "  </thead>\n",
       "  <tbody>\n",
       "    <tr>\n",
       "      <th>0</th>\n",
       "      <td>55973</td>\n",
       "      <td>152234</td>\n",
       "      <td>200001</td>\n",
       "      <td>1</td>\n",
       "    </tr>\n",
       "    <tr>\n",
       "      <th>1</th>\n",
       "      <td>27513</td>\n",
       "      <td>163557</td>\n",
       "      <td>200003</td>\n",
       "      <td>0</td>\n",
       "    </tr>\n",
       "    <tr>\n",
       "      <th>2</th>\n",
       "      <td>10950</td>\n",
       "      <td>189514</td>\n",
       "      <td>200006</td>\n",
       "      <td>0</td>\n",
       "    </tr>\n",
       "    <tr>\n",
       "      <th>3</th>\n",
       "      <td>20707</td>\n",
       "      <td>129310</td>\n",
       "      <td>200007</td>\n",
       "      <td>0</td>\n",
       "    </tr>\n",
       "    <tr>\n",
       "      <th>4</th>\n",
       "      <td>29904</td>\n",
       "      <td>129607</td>\n",
       "      <td>200009</td>\n",
       "      <td>0</td>\n",
       "    </tr>\n",
       "  </tbody>\n",
       "</table>\n",
       "</div>"
      ],
      "text/plain": [
       "   subject_id  hadm_id  icustay_id  rrt\n",
       "0       55973   152234      200001    1\n",
       "1       27513   163557      200003    0\n",
       "2       10950   189514      200006    0\n",
       "3       20707   129310      200007    0\n",
       "4       29904   129607      200009    0"
      ]
     },
     "execution_count": 94,
     "metadata": {},
     "output_type": "execute_result"
    }
   ],
   "source": [
    "query = \\\n",
    "\"\"\"\n",
    "SELECT * FROM rrt;\n",
    "\"\"\"\n",
    "rrt = pd.read_sql_query(query, con)\n",
    "rrt.head()"
   ]
  },
  {
   "cell_type": "code",
   "execution_count": 113,
   "metadata": {
    "collapsed": false
   },
   "outputs": [
    {
     "data": {
      "text/plain": [
       "1    61532\n",
       "Name: icustay_id, dtype: int64"
      ]
     },
     "execution_count": 113,
     "metadata": {},
     "output_type": "execute_result"
    }
   ],
   "source": [
    "rrt['icustay_id'].value_counts().value_counts() # check unique"
   ]
  },
  {
   "cell_type": "code",
   "execution_count": 134,
   "metadata": {
    "collapsed": false
   },
   "outputs": [
    {
     "data": {
      "text/plain": [
       "0    15127\n",
       "1     1203\n",
       "Name: rrt, dtype: int64"
      ]
     },
     "execution_count": 134,
     "metadata": {},
     "output_type": "execute_result"
    }
   ],
   "source": [
    "pd.merge(icu.loc[icu['time_filter']], rrt, on = 'icustay_id', how = 'left')['rrt'].value_counts()"
   ]
  },
  {
   "cell_type": "markdown",
   "metadata": {},
   "source": [
    "As a side note, since dialysis counts as a procedure, the information could also show up in procedures_icd. Looking up the icd9 codes, "
   ]
  },
  {
   "cell_type": "code",
   "execution_count": 122,
   "metadata": {
    "collapsed": false
   },
   "outputs": [
    {
     "data": {
      "text/html": [
       "<div>\n",
       "<table border=\"1\" class=\"dataframe\">\n",
       "  <thead>\n",
       "    <tr style=\"text-align: right;\">\n",
       "      <th></th>\n",
       "      <th>row_id</th>\n",
       "      <th>icd9_code</th>\n",
       "      <th>short_title</th>\n",
       "      <th>long_title</th>\n",
       "    </tr>\n",
       "  </thead>\n",
       "  <tbody>\n",
       "    <tr>\n",
       "      <th>0</th>\n",
       "      <td>739</td>\n",
       "      <td>3927</td>\n",
       "      <td>Dialysis arteriovenostom</td>\n",
       "      <td>Arteriovenostomy for renal dialysis</td>\n",
       "    </tr>\n",
       "    <tr>\n",
       "      <th>1</th>\n",
       "      <td>746</td>\n",
       "      <td>3942</td>\n",
       "      <td>Revis ren dialysis shunt</td>\n",
       "      <td>Revision of arteriovenous shunt for renal dial...</td>\n",
       "    </tr>\n",
       "    <tr>\n",
       "      <th>2</th>\n",
       "      <td>747</td>\n",
       "      <td>3943</td>\n",
       "      <td>Remov ren dialysis shunt</td>\n",
       "      <td>Removal of arteriovenous shunt for renal dialysis</td>\n",
       "    </tr>\n",
       "    <tr>\n",
       "      <th>3</th>\n",
       "      <td>803</td>\n",
       "      <td>3895</td>\n",
       "      <td>Ven cath renal dialysis</td>\n",
       "      <td>Venous catheterization for renal dialysis</td>\n",
       "    </tr>\n",
       "    <tr>\n",
       "      <th>4</th>\n",
       "      <td>896</td>\n",
       "      <td>1255</td>\n",
       "      <td>Cyclodialysis</td>\n",
       "      <td>Cyclodialysis</td>\n",
       "    </tr>\n",
       "    <tr>\n",
       "      <th>5</th>\n",
       "      <td>1291</td>\n",
       "      <td>5498</td>\n",
       "      <td>Peritoneal dialysis</td>\n",
       "      <td>Peritoneal dialysis</td>\n",
       "    </tr>\n",
       "    <tr>\n",
       "      <th>6</th>\n",
       "      <td>1423</td>\n",
       "      <td>3995</td>\n",
       "      <td>Hemodialysis</td>\n",
       "      <td>Hemodialysis</td>\n",
       "    </tr>\n",
       "  </tbody>\n",
       "</table>\n",
       "</div>"
      ],
      "text/plain": [
       "   row_id icd9_code               short_title  \\\n",
       "0     739      3927  Dialysis arteriovenostom   \n",
       "1     746      3942  Revis ren dialysis shunt   \n",
       "2     747      3943  Remov ren dialysis shunt   \n",
       "3     803      3895   Ven cath renal dialysis   \n",
       "4     896      1255             Cyclodialysis   \n",
       "5    1291      5498       Peritoneal dialysis   \n",
       "6    1423      3995              Hemodialysis   \n",
       "\n",
       "                                          long_title  \n",
       "0                Arteriovenostomy for renal dialysis  \n",
       "1  Revision of arteriovenous shunt for renal dial...  \n",
       "2  Removal of arteriovenous shunt for renal dialysis  \n",
       "3          Venous catheterization for renal dialysis  \n",
       "4                                      Cyclodialysis  \n",
       "5                                Peritoneal dialysis  \n",
       "6                                       Hemodialysis  "
      ]
     },
     "execution_count": 122,
     "metadata": {},
     "output_type": "execute_result"
    }
   ],
   "source": [
    "query = \\\n",
    "\"\"\"\n",
    "SELECT * FROM D_ICD_PROCEDURES \n",
    "WHERE long_title ~ '.+ialy.+';\n",
    "\"\"\"\n",
    "res = pd.read_sql_query(query, con)\n",
    "res"
   ]
  },
  {
   "cell_type": "code",
   "execution_count": 124,
   "metadata": {
    "collapsed": false
   },
   "outputs": [
    {
     "data": {
      "text/html": [
       "<div>\n",
       "<table border=\"1\" class=\"dataframe\">\n",
       "  <thead>\n",
       "    <tr style=\"text-align: right;\">\n",
       "      <th></th>\n",
       "      <th>row_id</th>\n",
       "      <th>subject_id</th>\n",
       "      <th>hadm_id</th>\n",
       "      <th>seq_num</th>\n",
       "      <th>icd9_code</th>\n",
       "      <th>row_id</th>\n",
       "      <th>icd9_code</th>\n",
       "      <th>short_title</th>\n",
       "      <th>long_title</th>\n",
       "    </tr>\n",
       "  </thead>\n",
       "  <tbody>\n",
       "    <tr>\n",
       "      <th>0</th>\n",
       "      <td>1015</td>\n",
       "      <td>10721</td>\n",
       "      <td>107493</td>\n",
       "      <td>2</td>\n",
       "      <td>3995</td>\n",
       "      <td>1423</td>\n",
       "      <td>3995</td>\n",
       "      <td>Hemodialysis</td>\n",
       "      <td>Hemodialysis</td>\n",
       "    </tr>\n",
       "    <tr>\n",
       "      <th>1</th>\n",
       "      <td>1019</td>\n",
       "      <td>25225</td>\n",
       "      <td>187093</td>\n",
       "      <td>1</td>\n",
       "      <td>3995</td>\n",
       "      <td>1423</td>\n",
       "      <td>3995</td>\n",
       "      <td>Hemodialysis</td>\n",
       "      <td>Hemodialysis</td>\n",
       "    </tr>\n",
       "    <tr>\n",
       "      <th>2</th>\n",
       "      <td>1036</td>\n",
       "      <td>3929</td>\n",
       "      <td>172648</td>\n",
       "      <td>2</td>\n",
       "      <td>3995</td>\n",
       "      <td>1423</td>\n",
       "      <td>3995</td>\n",
       "      <td>Hemodialysis</td>\n",
       "      <td>Hemodialysis</td>\n",
       "    </tr>\n",
       "    <tr>\n",
       "      <th>3</th>\n",
       "      <td>1037</td>\n",
       "      <td>3929</td>\n",
       "      <td>172648</td>\n",
       "      <td>3</td>\n",
       "      <td>3895</td>\n",
       "      <td>803</td>\n",
       "      <td>3895</td>\n",
       "      <td>Ven cath renal dialysis</td>\n",
       "      <td>Venous catheterization for renal dialysis</td>\n",
       "    </tr>\n",
       "    <tr>\n",
       "      <th>4</th>\n",
       "      <td>1100</td>\n",
       "      <td>7546</td>\n",
       "      <td>181171</td>\n",
       "      <td>1</td>\n",
       "      <td>3895</td>\n",
       "      <td>803</td>\n",
       "      <td>3895</td>\n",
       "      <td>Ven cath renal dialysis</td>\n",
       "      <td>Venous catheterization for renal dialysis</td>\n",
       "    </tr>\n",
       "  </tbody>\n",
       "</table>\n",
       "</div>"
      ],
      "text/plain": [
       "   row_id  subject_id  hadm_id  seq_num icd9_code  row_id icd9_code  \\\n",
       "0    1015       10721   107493        2      3995    1423      3995   \n",
       "1    1019       25225   187093        1      3995    1423      3995   \n",
       "2    1036        3929   172648        2      3995    1423      3995   \n",
       "3    1037        3929   172648        3      3895     803      3895   \n",
       "4    1100        7546   181171        1      3895     803      3895   \n",
       "\n",
       "               short_title                                 long_title  \n",
       "0             Hemodialysis                               Hemodialysis  \n",
       "1             Hemodialysis                               Hemodialysis  \n",
       "2             Hemodialysis                               Hemodialysis  \n",
       "3  Ven cath renal dialysis  Venous catheterization for renal dialysis  \n",
       "4  Ven cath renal dialysis  Venous catheterization for renal dialysis  "
      ]
     },
     "execution_count": 124,
     "metadata": {},
     "output_type": "execute_result"
    }
   ],
   "source": [
    "query = \\\n",
    "\"\"\"\n",
    "SELECT * FROM PROCEDURES_ICD pi \n",
    "INNER JOIN D_ICD_PROCEDURES dpi\n",
    "    ON pi.icd9_code = dpi.icd9_code\n",
    "WHERE dpi.long_title ~ '.+ialy.+';\n",
    "\"\"\"\n",
    "res = pd.read_sql_query(query, con)\n",
    "res.head()"
   ]
  },
  {
   "cell_type": "markdown",
   "metadata": {},
   "source": [
    "Now count the number of hadm_ids associated with dialysis-- this is a slightly smaller number than using the rrt table. "
   ]
  },
  {
   "cell_type": "code",
   "execution_count": 129,
   "metadata": {
    "collapsed": false
   },
   "outputs": [
    {
     "data": {
      "text/plain": [
       "1048"
      ]
     },
     "execution_count": 129,
     "metadata": {},
     "output_type": "execute_result"
    }
   ],
   "source": [
    "len(set(res['hadm_id'].unique()) & set(icu.loc[icu['time_filter'], 'hadm_id']))"
   ]
  },
  {
   "cell_type": "markdown",
   "metadata": {},
   "source": [
    "One possibility is to collate EVERY indication of dialysis across all tables. Then, we can potentially start to ask questions about, for example, if a patient was on dialysis prior to the icustay, or how many patients are getting dialysis in the ICU. "
   ]
  },
  {
   "cell_type": "code",
   "execution_count": 191,
   "metadata": {
    "collapsed": false
   },
   "outputs": [
    {
     "data": {
      "text/html": [
       "<div>\n",
       "<table border=\"1\" class=\"dataframe\">\n",
       "  <thead>\n",
       "    <tr style=\"text-align: right;\">\n",
       "      <th></th>\n",
       "      <th>subject_id</th>\n",
       "      <th>hadm_id</th>\n",
       "      <th>icustay_id</th>\n",
       "      <th>itemid</th>\n",
       "      <th>charttime</th>\n",
       "      <th>dbsource</th>\n",
       "    </tr>\n",
       "  </thead>\n",
       "  <tbody>\n",
       "    <tr>\n",
       "      <th>0</th>\n",
       "      <td>8868</td>\n",
       "      <td>181556</td>\n",
       "      <td>286492.0</td>\n",
       "      <td>146</td>\n",
       "      <td>2133-10-31 08:00:00</td>\n",
       "      <td>carevue</td>\n",
       "    </tr>\n",
       "    <tr>\n",
       "      <th>1</th>\n",
       "      <td>8868</td>\n",
       "      <td>181556</td>\n",
       "      <td>286492.0</td>\n",
       "      <td>147</td>\n",
       "      <td>2133-10-31 08:00:00</td>\n",
       "      <td>carevue</td>\n",
       "    </tr>\n",
       "    <tr>\n",
       "      <th>2</th>\n",
       "      <td>8868</td>\n",
       "      <td>181556</td>\n",
       "      <td>286492.0</td>\n",
       "      <td>148</td>\n",
       "      <td>2133-10-31 08:00:00</td>\n",
       "      <td>carevue</td>\n",
       "    </tr>\n",
       "    <tr>\n",
       "      <th>3</th>\n",
       "      <td>8868</td>\n",
       "      <td>181556</td>\n",
       "      <td>286492.0</td>\n",
       "      <td>149</td>\n",
       "      <td>2133-10-31 08:00:00</td>\n",
       "      <td>carevue</td>\n",
       "    </tr>\n",
       "    <tr>\n",
       "      <th>4</th>\n",
       "      <td>8868</td>\n",
       "      <td>181556</td>\n",
       "      <td>286492.0</td>\n",
       "      <td>152</td>\n",
       "      <td>2133-10-31 08:00:00</td>\n",
       "      <td>carevue</td>\n",
       "    </tr>\n",
       "  </tbody>\n",
       "</table>\n",
       "</div>"
      ],
      "text/plain": [
       "   subject_id  hadm_id  icustay_id  itemid           charttime dbsource\n",
       "0        8868   181556    286492.0     146 2133-10-31 08:00:00  carevue\n",
       "1        8868   181556    286492.0     147 2133-10-31 08:00:00  carevue\n",
       "2        8868   181556    286492.0     148 2133-10-31 08:00:00  carevue\n",
       "3        8868   181556    286492.0     149 2133-10-31 08:00:00  carevue\n",
       "4        8868   181556    286492.0     152 2133-10-31 08:00:00  carevue"
      ]
     },
     "execution_count": 191,
     "metadata": {},
     "output_type": "execute_result"
    }
   ],
   "source": [
    "query = \\\n",
    "\"\"\"\n",
    "SELECT * FROM dialysis;\n",
    "\"\"\"\n",
    "dialysis = pd.read_sql_query(query, con)\n",
    "dialysis.head()"
   ]
  },
  {
   "cell_type": "markdown",
   "metadata": {},
   "source": [
    "We can ask, for example, for all patients with some kind of dialysis indicator and under carevue, how many have the code for INV Line?"
   ]
  },
  {
   "cell_type": "code",
   "execution_count": 199,
   "metadata": {
    "collapsed": false
   },
   "outputs": [
    {
     "data": {
      "text/plain": [
       "True     1526\n",
       "False     406\n",
       "dtype: int64"
      ]
     },
     "execution_count": 199,
     "metadata": {},
     "output_type": "execute_result"
    }
   ],
   "source": [
    "res = dialysis.loc[dialysis['dbsource'] == 'carevue'].groupby('icustay_id')['itemid'].value_counts().unstack()\n",
    "((~res[[229, 235, 241, 247, 253, 259, 265, 271]].isnull()).sum(axis = 1) > 0).value_counts()"
   ]
  },
  {
   "cell_type": "markdown",
   "metadata": {},
   "source": [
    "We can also ask, again, for all patients with some kind of dialysis indicator and under carevue, how many have one of the dialysis-related procedures, "
   ]
  },
  {
   "cell_type": "code",
   "execution_count": 200,
   "metadata": {
    "collapsed": false
   },
   "outputs": [
    {
     "data": {
      "text/plain": [
       "True     1446\n",
       "False     486\n",
       "dtype: int64"
      ]
     },
     "execution_count": 200,
     "metadata": {},
     "output_type": "execute_result"
    }
   ],
   "source": [
    "res = dialysis.loc[dialysis['dbsource'] == 'carevue'].groupby('icustay_id')['itemid'].value_counts().unstack()\n",
    "((~res[[582]].isnull()).sum(axis = 1) > 0).value_counts()"
   ]
  },
  {
   "cell_type": "markdown",
   "metadata": {},
   "source": [
    "Similarly, for dialysis patients under metavision, how many had the code for dialysis catheter insertion date or dialysis cather placed in outside facility?"
   ]
  },
  {
   "cell_type": "code",
   "execution_count": 208,
   "metadata": {
    "collapsed": false
   },
   "outputs": [
    {
     "data": {
      "text/plain": [
       "True     1010\n",
       "False     803\n",
       "dtype: int64"
      ]
     },
     "execution_count": 208,
     "metadata": {},
     "output_type": "execute_result"
    }
   ],
   "source": [
    "res = dialysis.loc[dialysis['dbsource'] == 'metavision'].groupby('icustay_id')['itemid'].value_counts().unstack()\n",
    "((~res[[226118,225322]].isnull()).sum(axis = 1) > 0).value_counts()"
   ]
  },
  {
   "cell_type": "markdown",
   "metadata": {},
   "source": [
    "One question that we can now answer is how many patients had been on dialysis BEFORE entering the ICU. I don't really understand how to answer this because the only information we have as to whether a patient was on dialysis comes from chartevents, which is for ICU stays, hence there isn't information about whether the patient was on dialysis when not in the ICU. I suppose we can ask for a patient if they have ever been on dialysis during a previous or future ICU stay, but I'm not sure how meaningful that is. "
   ]
  },
  {
   "cell_type": "markdown",
   "metadata": {},
   "source": [
    "# Labs\n",
    "\n",
    "## Creatinine\n",
    "\n",
    "labs-first-day gives the creatinine levels on the first day. Query that directly. "
   ]
  },
  {
   "cell_type": "code",
   "execution_count": 279,
   "metadata": {
    "collapsed": false
   },
   "outputs": [
    {
     "data": {
      "text/html": [
       "<div>\n",
       "<table border=\"1\" class=\"dataframe\">\n",
       "  <thead>\n",
       "    <tr style=\"text-align: right;\">\n",
       "      <th></th>\n",
       "      <th>subject_id</th>\n",
       "      <th>hadm_id</th>\n",
       "      <th>icustay_id</th>\n",
       "      <th>aniongap_min</th>\n",
       "      <th>aniongap_max</th>\n",
       "      <th>albumin_min</th>\n",
       "      <th>albumin_max</th>\n",
       "      <th>bands_min</th>\n",
       "      <th>bands_max</th>\n",
       "      <th>bicarbonate_min</th>\n",
       "      <th>...</th>\n",
       "      <th>inr_min</th>\n",
       "      <th>inr_max</th>\n",
       "      <th>pt_min</th>\n",
       "      <th>pt_max</th>\n",
       "      <th>sodium_min</th>\n",
       "      <th>sodium_max</th>\n",
       "      <th>bun_min</th>\n",
       "      <th>bun_max</th>\n",
       "      <th>wbc_min</th>\n",
       "      <th>wbc_max</th>\n",
       "    </tr>\n",
       "  </thead>\n",
       "  <tbody>\n",
       "    <tr>\n",
       "      <th>0</th>\n",
       "      <td>2</td>\n",
       "      <td>163353</td>\n",
       "      <td>243653</td>\n",
       "      <td>NaN</td>\n",
       "      <td>NaN</td>\n",
       "      <td>NaN</td>\n",
       "      <td>NaN</td>\n",
       "      <td>1.0</td>\n",
       "      <td>1.0</td>\n",
       "      <td>NaN</td>\n",
       "      <td>...</td>\n",
       "      <td>NaN</td>\n",
       "      <td>NaN</td>\n",
       "      <td>NaN</td>\n",
       "      <td>NaN</td>\n",
       "      <td>NaN</td>\n",
       "      <td>NaN</td>\n",
       "      <td>NaN</td>\n",
       "      <td>NaN</td>\n",
       "      <td>0.1</td>\n",
       "      <td>22.0</td>\n",
       "    </tr>\n",
       "    <tr>\n",
       "      <th>1</th>\n",
       "      <td>3</td>\n",
       "      <td>145834</td>\n",
       "      <td>211552</td>\n",
       "      <td>15.0</td>\n",
       "      <td>23.0</td>\n",
       "      <td>1.8</td>\n",
       "      <td>1.8</td>\n",
       "      <td>2.0</td>\n",
       "      <td>5.0</td>\n",
       "      <td>11.0</td>\n",
       "      <td>...</td>\n",
       "      <td>1.3</td>\n",
       "      <td>1.7</td>\n",
       "      <td>13.5</td>\n",
       "      <td>15.7</td>\n",
       "      <td>136.0</td>\n",
       "      <td>153.0</td>\n",
       "      <td>41.0</td>\n",
       "      <td>53.0</td>\n",
       "      <td>11.3</td>\n",
       "      <td>24.4</td>\n",
       "    </tr>\n",
       "    <tr>\n",
       "      <th>2</th>\n",
       "      <td>4</td>\n",
       "      <td>185777</td>\n",
       "      <td>294638</td>\n",
       "      <td>15.0</td>\n",
       "      <td>15.0</td>\n",
       "      <td>2.8</td>\n",
       "      <td>2.8</td>\n",
       "      <td>NaN</td>\n",
       "      <td>NaN</td>\n",
       "      <td>21.0</td>\n",
       "      <td>...</td>\n",
       "      <td>1.1</td>\n",
       "      <td>1.1</td>\n",
       "      <td>12.8</td>\n",
       "      <td>12.8</td>\n",
       "      <td>141.0</td>\n",
       "      <td>141.0</td>\n",
       "      <td>10.0</td>\n",
       "      <td>10.0</td>\n",
       "      <td>9.7</td>\n",
       "      <td>9.7</td>\n",
       "    </tr>\n",
       "    <tr>\n",
       "      <th>3</th>\n",
       "      <td>5</td>\n",
       "      <td>178980</td>\n",
       "      <td>214757</td>\n",
       "      <td>NaN</td>\n",
       "      <td>NaN</td>\n",
       "      <td>NaN</td>\n",
       "      <td>NaN</td>\n",
       "      <td>NaN</td>\n",
       "      <td>NaN</td>\n",
       "      <td>NaN</td>\n",
       "      <td>...</td>\n",
       "      <td>NaN</td>\n",
       "      <td>NaN</td>\n",
       "      <td>NaN</td>\n",
       "      <td>NaN</td>\n",
       "      <td>NaN</td>\n",
       "      <td>NaN</td>\n",
       "      <td>NaN</td>\n",
       "      <td>NaN</td>\n",
       "      <td>13.9</td>\n",
       "      <td>13.9</td>\n",
       "    </tr>\n",
       "    <tr>\n",
       "      <th>4</th>\n",
       "      <td>6</td>\n",
       "      <td>107064</td>\n",
       "      <td>228232</td>\n",
       "      <td>20.0</td>\n",
       "      <td>23.0</td>\n",
       "      <td>3.0</td>\n",
       "      <td>3.0</td>\n",
       "      <td>NaN</td>\n",
       "      <td>NaN</td>\n",
       "      <td>15.0</td>\n",
       "      <td>...</td>\n",
       "      <td>1.0</td>\n",
       "      <td>1.4</td>\n",
       "      <td>12.6</td>\n",
       "      <td>14.6</td>\n",
       "      <td>134.0</td>\n",
       "      <td>138.0</td>\n",
       "      <td>62.0</td>\n",
       "      <td>65.0</td>\n",
       "      <td>10.6</td>\n",
       "      <td>10.6</td>\n",
       "    </tr>\n",
       "  </tbody>\n",
       "</table>\n",
       "<p>5 rows × 41 columns</p>\n",
       "</div>"
      ],
      "text/plain": [
       "   subject_id  hadm_id  icustay_id  aniongap_min  aniongap_max  albumin_min  \\\n",
       "0           2   163353      243653           NaN           NaN          NaN   \n",
       "1           3   145834      211552          15.0          23.0          1.8   \n",
       "2           4   185777      294638          15.0          15.0          2.8   \n",
       "3           5   178980      214757           NaN           NaN          NaN   \n",
       "4           6   107064      228232          20.0          23.0          3.0   \n",
       "\n",
       "   albumin_max  bands_min  bands_max  bicarbonate_min   ...     inr_min  \\\n",
       "0          NaN        1.0        1.0              NaN   ...         NaN   \n",
       "1          1.8        2.0        5.0             11.0   ...         1.3   \n",
       "2          2.8        NaN        NaN             21.0   ...         1.1   \n",
       "3          NaN        NaN        NaN              NaN   ...         NaN   \n",
       "4          3.0        NaN        NaN             15.0   ...         1.0   \n",
       "\n",
       "   inr_max  pt_min  pt_max  sodium_min  sodium_max  bun_min  bun_max  wbc_min  \\\n",
       "0      NaN     NaN     NaN         NaN         NaN      NaN      NaN      0.1   \n",
       "1      1.7    13.5    15.7       136.0       153.0     41.0     53.0     11.3   \n",
       "2      1.1    12.8    12.8       141.0       141.0     10.0     10.0      9.7   \n",
       "3      NaN     NaN     NaN         NaN         NaN      NaN      NaN     13.9   \n",
       "4      1.4    12.6    14.6       134.0       138.0     62.0     65.0     10.6   \n",
       "\n",
       "   wbc_max  \n",
       "0     22.0  \n",
       "1     24.4  \n",
       "2      9.7  \n",
       "3     13.9  \n",
       "4     10.6  \n",
       "\n",
       "[5 rows x 41 columns]"
      ]
     },
     "execution_count": 279,
     "metadata": {},
     "output_type": "execute_result"
    }
   ],
   "source": [
    "query = \\\n",
    "\"\"\"\n",
    "SELECT * FROM labsfirstday;\n",
    "\"\"\"\n",
    "lfd = pd.read_sql_query(query, con)\n",
    "lfd.head()"
   ]
  },
  {
   "cell_type": "markdown",
   "metadata": {},
   "source": [
    "### Min Cr on first day of ICU stay"
   ]
  },
  {
   "cell_type": "code",
   "execution_count": 285,
   "metadata": {
    "collapsed": false
   },
   "outputs": [
    {
     "data": {
      "text/plain": [
       "<matplotlib.axes._subplots.AxesSubplot at 0x14cae2e48>"
      ]
     },
     "execution_count": 285,
     "metadata": {},
     "output_type": "execute_result"
    },
    {
     "data": {
      "image/png": "[encoded data removed]",
      "text/plain": [
       "<matplotlib.figure.Figure at 0x129c56a90>"
      ]
     },
     "metadata": {},
     "output_type": "display_data"
    }
   ],
   "source": [
    "res = pd.merge(icu.loc[icu['time_filter']], lfd, how = 'left', on = 'icustay_id')\n",
    "res['creatinine_min'].hist(bins = 50)"
   ]
  },
  {
   "cell_type": "markdown",
   "metadata": {},
   "source": [
    "### Max Cr on first day of ICU stay"
   ]
  },
  {
   "cell_type": "code",
   "execution_count": 286,
   "metadata": {
    "collapsed": false
   },
   "outputs": [
    {
     "data": {
      "text/plain": [
       "<matplotlib.axes._subplots.AxesSubplot at 0x129fcc160>"
      ]
     },
     "execution_count": 286,
     "metadata": {},
     "output_type": "execute_result"
    },
    {
     "data": {
      "image/png": "[encoded data removed]",
      "text/plain": [
       "<matplotlib.figure.Figure at 0x14e970f28>"
      ]
     },
     "metadata": {},
     "output_type": "display_data"
    }
   ],
   "source": [
    "res = pd.merge(icu.loc[icu['time_filter']], lfd, how = 'left', on = 'icustay_id')\n",
    "res['creatinine_max'].hist(bins = 50)"
   ]
  },
  {
   "cell_type": "markdown",
   "metadata": {},
   "source": [
    "More generally, have the query return all available lab values for creatinine. Then, for each echo, get the creatinine test closest in time. "
   ]
  },
  {
   "cell_type": "code",
   "execution_count": 288,
   "metadata": {
    "collapsed": false
   },
   "outputs": [
    {
     "data": {
      "text/html": [
       "<div>\n",
       "<table border=\"1\" class=\"dataframe\">\n",
       "  <thead>\n",
       "    <tr style=\"text-align: right;\">\n",
       "      <th></th>\n",
       "      <th>row_id</th>\n",
       "      <th>subject_id</th>\n",
       "      <th>hadm_id</th>\n",
       "      <th>itemid</th>\n",
       "      <th>charttime</th>\n",
       "      <th>value</th>\n",
       "      <th>valuenum</th>\n",
       "      <th>valueuom</th>\n",
       "      <th>flag</th>\n",
       "    </tr>\n",
       "  </thead>\n",
       "  <tbody>\n",
       "    <tr>\n",
       "      <th>0</th>\n",
       "      <td>558</td>\n",
       "      <td>3</td>\n",
       "      <td>145834.0</td>\n",
       "      <td>50912</td>\n",
       "      <td>2101-10-20 19:59:00</td>\n",
       "      <td>2.5</td>\n",
       "      <td>2.5</td>\n",
       "      <td>mg/dL</td>\n",
       "      <td>abnormal</td>\n",
       "    </tr>\n",
       "    <tr>\n",
       "      <th>1</th>\n",
       "      <td>527</td>\n",
       "      <td>3</td>\n",
       "      <td>145834.0</td>\n",
       "      <td>50912</td>\n",
       "      <td>2101-10-20 19:26:00</td>\n",
       "      <td>2.4</td>\n",
       "      <td>2.4</td>\n",
       "      <td>mg/dL</td>\n",
       "      <td>abnormal</td>\n",
       "    </tr>\n",
       "    <tr>\n",
       "      <th>2</th>\n",
       "      <td>51</td>\n",
       "      <td>3</td>\n",
       "      <td>NaN</td>\n",
       "      <td>50912</td>\n",
       "      <td>2101-10-04 15:24:00</td>\n",
       "      <td>1.7</td>\n",
       "      <td>1.7</td>\n",
       "      <td>mg/dL</td>\n",
       "      <td>abnormal</td>\n",
       "    </tr>\n",
       "    <tr>\n",
       "      <th>3</th>\n",
       "      <td>81</td>\n",
       "      <td>3</td>\n",
       "      <td>NaN</td>\n",
       "      <td>50912</td>\n",
       "      <td>2101-10-05 06:00:00</td>\n",
       "      <td>1.6</td>\n",
       "      <td>1.6</td>\n",
       "      <td>mg/dL</td>\n",
       "      <td>abnormal</td>\n",
       "    </tr>\n",
       "    <tr>\n",
       "      <th>4</th>\n",
       "      <td>103</td>\n",
       "      <td>3</td>\n",
       "      <td>NaN</td>\n",
       "      <td>50912</td>\n",
       "      <td>2101-10-06 05:45:00</td>\n",
       "      <td>1.8</td>\n",
       "      <td>1.8</td>\n",
       "      <td>mg/dL</td>\n",
       "      <td>abnormal</td>\n",
       "    </tr>\n",
       "  </tbody>\n",
       "</table>\n",
       "</div>"
      ],
      "text/plain": [
       "   row_id  subject_id   hadm_id  itemid           charttime value  valuenum  \\\n",
       "0     558           3  145834.0   50912 2101-10-20 19:59:00   2.5       2.5   \n",
       "1     527           3  145834.0   50912 2101-10-20 19:26:00   2.4       2.4   \n",
       "2      51           3       NaN   50912 2101-10-04 15:24:00   1.7       1.7   \n",
       "3      81           3       NaN   50912 2101-10-05 06:00:00   1.6       1.6   \n",
       "4     103           3       NaN   50912 2101-10-06 05:45:00   1.8       1.8   \n",
       "\n",
       "  valueuom      flag  \n",
       "0    mg/dL  abnormal  \n",
       "1    mg/dL  abnormal  \n",
       "2    mg/dL  abnormal  \n",
       "3    mg/dL  abnormal  \n",
       "4    mg/dL  abnormal  "
      ]
     },
     "execution_count": 288,
     "metadata": {},
     "output_type": "execute_result"
    }
   ],
   "source": [
    "query = \\\n",
    "\"\"\"\n",
    "SELECT * FROM labevents\n",
    "WHERE itemid = 50912;\n",
    "\"\"\"\n",
    "creatinine = pd.read_sql_query(query, con)\n",
    "creatinine.head()"
   ]
  },
  {
   "cell_type": "markdown",
   "metadata": {},
   "source": [
    "### Cr closest in time to echo"
   ]
  },
  {
   "cell_type": "code",
   "execution_count": 338,
   "metadata": {
    "collapsed": false
   },
   "outputs": [
    {
     "data": {
      "text/plain": [
       "<matplotlib.axes._subplots.AxesSubplot at 0x13c40af28>"
      ]
     },
     "execution_count": 338,
     "metadata": {},
     "output_type": "execute_result"
    },
    {
     "data": {
      "image/png": "[encoded data removed]",
      "text/plain": [
       "<matplotlib.figure.Figure at 0x13a8a9128>"
      ]
     },
     "metadata": {},
     "output_type": "display_data"
    }
   ],
   "source": [
    "res = pd.merge(icu.loc[icu['time_filter']], creatinine, how = 'left', on = 'hadm_id', suffixes = ('_icu', '_creatinine'))\n",
    "res['td'] = abs(res['charttime_icu'] - res['charttime_creatinine'])\n",
    "# plot the creatinine value closest in time to the echo\n",
    "def coerce_to_float(v): \n",
    "    try:\n",
    "        return float(v)\n",
    "    except ValueError: \n",
    "        return np.nan\n",
    "cr_echo = res.sort_values('td').groupby('row_id_icu').head(n = 1)\n",
    "cr_echo['value'].apply(coerce_to_float).hist(bins = 50)"
   ]
  },
  {
   "cell_type": "markdown",
   "metadata": {},
   "source": [
    "Note that still not every echo has a creatinine measurement associated with it. "
   ]
  },
  {
   "cell_type": "code",
   "execution_count": 318,
   "metadata": {
    "collapsed": false
   },
   "outputs": [
    {
     "data": {
      "text/plain": [
       "True     16145\n",
       "False      185\n",
       "Name: value, dtype: int64"
      ]
     },
     "execution_count": 318,
     "metadata": {},
     "output_type": "execute_result"
    }
   ],
   "source": [
    "(~res['value'].isnull()).value_counts()"
   ]
  },
  {
   "cell_type": "markdown",
   "metadata": {},
   "source": [
    "Many but not all are newborn and so applying more filters could remove many of these patients in any case. "
   ]
  },
  {
   "cell_type": "code",
   "execution_count": 326,
   "metadata": {
    "collapsed": false
   },
   "outputs": [
    {
     "data": {
      "text/plain": [
       "NEWBORN                     105\n",
       "ACUTE MI                      6\n",
       "CONGESTIVE HEART FAILURE      5\n",
       "PREMATURITY                   3\n",
       "PULMONARY EMBOLIS             3\n",
       "CHEST PAIN                    2\n",
       "L.L.E.ARTERIAL OCCLUSION      2\n",
       "ENDOCARDITIS                  2\n",
       "CAD,R/O MI                    2\n",
       "MI                            2\n",
       "Name: diagnosis, dtype: int64"
      ]
     },
     "execution_count": 326,
     "metadata": {},
     "output_type": "execute_result"
    }
   ],
   "source": [
    "res.loc[res['value'].isnull(), 'diagnosis'].value_counts().head(n = 10)"
   ]
  },
  {
   "cell_type": "markdown",
   "metadata": {},
   "source": [
    "### Cr measurement on day of ICU discharge"
   ]
  },
  {
   "cell_type": "code",
   "execution_count": 328,
   "metadata": {
    "collapsed": false
   },
   "outputs": [
    {
     "data": {
      "text/html": [
       "<div>\n",
       "<table border=\"1\" class=\"dataframe\">\n",
       "  <thead>\n",
       "    <tr style=\"text-align: right;\">\n",
       "      <th></th>\n",
       "      <th>row_id_icu</th>\n",
       "      <th>hadm_id</th>\n",
       "      <th>charttime_icu</th>\n",
       "      <th>icustay_id</th>\n",
       "      <th>los_icu</th>\n",
       "      <th>icustay_seq</th>\n",
       "      <th>first_icu_stay</th>\n",
       "      <th>outtime</th>\n",
       "      <th>gender</th>\n",
       "      <th>subject_id_icu</th>\n",
       "      <th>...</th>\n",
       "      <th>max_icustay_seq</th>\n",
       "      <th>time_filter</th>\n",
       "      <th>row_id_creatinine</th>\n",
       "      <th>subject_id_creatinine</th>\n",
       "      <th>itemid</th>\n",
       "      <th>charttime_creatinine</th>\n",
       "      <th>value</th>\n",
       "      <th>valuenum</th>\n",
       "      <th>valueuom</th>\n",
       "      <th>flag</th>\n",
       "    </tr>\n",
       "  </thead>\n",
       "  <tbody>\n",
       "    <tr>\n",
       "      <th>0</th>\n",
       "      <td>76338</td>\n",
       "      <td>100003</td>\n",
       "      <td>2150-04-18 12:36:00</td>\n",
       "      <td>209281</td>\n",
       "      <td>2.0</td>\n",
       "      <td>1</td>\n",
       "      <td>Y</td>\n",
       "      <td>2150-04-19 14:12:52</td>\n",
       "      <td>M</td>\n",
       "      <td>54610</td>\n",
       "      <td>...</td>\n",
       "      <td>1</td>\n",
       "      <td>True</td>\n",
       "      <td>21885213.0</td>\n",
       "      <td>54610.0</td>\n",
       "      <td>50912.0</td>\n",
       "      <td>2150-04-17 12:30:00</td>\n",
       "      <td>1.3</td>\n",
       "      <td>1.3</td>\n",
       "      <td>mg/dL</td>\n",
       "      <td>abnormal</td>\n",
       "    </tr>\n",
       "    <tr>\n",
       "      <th>1</th>\n",
       "      <td>76338</td>\n",
       "      <td>100003</td>\n",
       "      <td>2150-04-18 12:36:00</td>\n",
       "      <td>209281</td>\n",
       "      <td>2.0</td>\n",
       "      <td>1</td>\n",
       "      <td>Y</td>\n",
       "      <td>2150-04-19 14:12:52</td>\n",
       "      <td>M</td>\n",
       "      <td>54610</td>\n",
       "      <td>...</td>\n",
       "      <td>1</td>\n",
       "      <td>True</td>\n",
       "      <td>21885246.0</td>\n",
       "      <td>54610.0</td>\n",
       "      <td>50912.0</td>\n",
       "      <td>2150-04-17 17:41:00</td>\n",
       "      <td>1.2</td>\n",
       "      <td>1.2</td>\n",
       "      <td>mg/dL</td>\n",
       "      <td>None</td>\n",
       "    </tr>\n",
       "    <tr>\n",
       "      <th>2</th>\n",
       "      <td>76338</td>\n",
       "      <td>100003</td>\n",
       "      <td>2150-04-18 12:36:00</td>\n",
       "      <td>209281</td>\n",
       "      <td>2.0</td>\n",
       "      <td>1</td>\n",
       "      <td>Y</td>\n",
       "      <td>2150-04-19 14:12:52</td>\n",
       "      <td>M</td>\n",
       "      <td>54610</td>\n",
       "      <td>...</td>\n",
       "      <td>1</td>\n",
       "      <td>True</td>\n",
       "      <td>21885320.0</td>\n",
       "      <td>54610.0</td>\n",
       "      <td>50912.0</td>\n",
       "      <td>2150-04-18 05:25:00</td>\n",
       "      <td>1.1</td>\n",
       "      <td>1.1</td>\n",
       "      <td>mg/dL</td>\n",
       "      <td>None</td>\n",
       "    </tr>\n",
       "    <tr>\n",
       "      <th>3</th>\n",
       "      <td>76338</td>\n",
       "      <td>100003</td>\n",
       "      <td>2150-04-18 12:36:00</td>\n",
       "      <td>209281</td>\n",
       "      <td>2.0</td>\n",
       "      <td>1</td>\n",
       "      <td>Y</td>\n",
       "      <td>2150-04-19 14:12:52</td>\n",
       "      <td>M</td>\n",
       "      <td>54610</td>\n",
       "      <td>...</td>\n",
       "      <td>1</td>\n",
       "      <td>True</td>\n",
       "      <td>21885353.0</td>\n",
       "      <td>54610.0</td>\n",
       "      <td>50912.0</td>\n",
       "      <td>2150-04-19 03:32:00</td>\n",
       "      <td>1.0</td>\n",
       "      <td>1.0</td>\n",
       "      <td>mg/dL</td>\n",
       "      <td>None</td>\n",
       "    </tr>\n",
       "    <tr>\n",
       "      <th>4</th>\n",
       "      <td>76338</td>\n",
       "      <td>100003</td>\n",
       "      <td>2150-04-18 12:36:00</td>\n",
       "      <td>209281</td>\n",
       "      <td>2.0</td>\n",
       "      <td>1</td>\n",
       "      <td>Y</td>\n",
       "      <td>2150-04-19 14:12:52</td>\n",
       "      <td>M</td>\n",
       "      <td>54610</td>\n",
       "      <td>...</td>\n",
       "      <td>1</td>\n",
       "      <td>True</td>\n",
       "      <td>21885382.0</td>\n",
       "      <td>54610.0</td>\n",
       "      <td>50912.0</td>\n",
       "      <td>2150-04-20 04:00:00</td>\n",
       "      <td>0.9</td>\n",
       "      <td>0.9</td>\n",
       "      <td>mg/dL</td>\n",
       "      <td>None</td>\n",
       "    </tr>\n",
       "  </tbody>\n",
       "</table>\n",
       "<p>5 rows × 27 columns</p>\n",
       "</div>"
      ],
      "text/plain": [
       "   row_id_icu  hadm_id       charttime_icu  icustay_id  los_icu  icustay_seq  \\\n",
       "0       76338   100003 2150-04-18 12:36:00      209281      2.0            1   \n",
       "1       76338   100003 2150-04-18 12:36:00      209281      2.0            1   \n",
       "2       76338   100003 2150-04-18 12:36:00      209281      2.0            1   \n",
       "3       76338   100003 2150-04-18 12:36:00      209281      2.0            1   \n",
       "4       76338   100003 2150-04-18 12:36:00      209281      2.0            1   \n",
       "\n",
       "  first_icu_stay             outtime gender  subject_id_icu    ...     \\\n",
       "0              Y 2150-04-19 14:12:52      M           54610    ...      \n",
       "1              Y 2150-04-19 14:12:52      M           54610    ...      \n",
       "2              Y 2150-04-19 14:12:52      M           54610    ...      \n",
       "3              Y 2150-04-19 14:12:52      M           54610    ...      \n",
       "4              Y 2150-04-19 14:12:52      M           54610    ...      \n",
       "\n",
       "  max_icustay_seq time_filter row_id_creatinine subject_id_creatinine  \\\n",
       "0               1        True        21885213.0               54610.0   \n",
       "1               1        True        21885246.0               54610.0   \n",
       "2               1        True        21885320.0               54610.0   \n",
       "3               1        True        21885353.0               54610.0   \n",
       "4               1        True        21885382.0               54610.0   \n",
       "\n",
       "    itemid charttime_creatinine  value  valuenum valueuom      flag  \n",
       "0  50912.0  2150-04-17 12:30:00    1.3       1.3    mg/dL  abnormal  \n",
       "1  50912.0  2150-04-17 17:41:00    1.2       1.2    mg/dL      None  \n",
       "2  50912.0  2150-04-18 05:25:00    1.1       1.1    mg/dL      None  \n",
       "3  50912.0  2150-04-19 03:32:00    1.0       1.0    mg/dL      None  \n",
       "4  50912.0  2150-04-20 04:00:00    0.9       0.9    mg/dL      None  \n",
       "\n",
       "[5 rows x 27 columns]"
      ]
     },
     "execution_count": 328,
     "metadata": {},
     "output_type": "execute_result"
    }
   ],
   "source": [
    "res = pd.merge(icu.loc[icu['time_filter']], creatinine, how = 'left', on = 'hadm_id', suffixes = ('_icu', '_creatinine'))\n",
    "res.head()"
   ]
  },
  {
   "cell_type": "code",
   "execution_count": 339,
   "metadata": {
    "collapsed": false
   },
   "outputs": [
    {
     "data": {
      "text/plain": [
       "<matplotlib.axes._subplots.AxesSubplot at 0x13de42da0>"
      ]
     },
     "execution_count": 339,
     "metadata": {},
     "output_type": "execute_result"
    },
    {
     "data": {
      "image/png": "[encoded data removed]",
      "text/plain": [
       "<matplotlib.figure.Figure at 0x13acef860>"
      ]
     },
     "metadata": {},
     "output_type": "display_data"
    }
   ],
   "source": [
    "res = res.loc[res['charttime_creatinine'].dt.date == res['outtime'].dt.date]\n",
    "# if there is more than 1 creatinine measurement on that day, pick the closest\n",
    "res['dt'] = abs(res['charttime_creatinine'] - res['outtime'])\n",
    "cr_out = res.sort_values('dt').groupby('row_id_icu').head(n = 1)\n",
    "cr_out['value'].apply(coerce_to_float).hist(bins = 50)"
   ]
  },
  {
   "cell_type": "code",
   "execution_count": 351,
   "metadata": {
    "collapsed": false
   },
   "outputs": [
    {
     "data": {
      "text/plain": [
       "<matplotlib.axes._subplots.AxesSubplot at 0x1255ab898>"
      ]
     },
     "execution_count": 351,
     "metadata": {},
     "output_type": "execute_result"
    },
    {
     "data": {
      "image/png": "[encoded data removed]",
      "text/plain": [
       "<matplotlib.figure.Figure at 0x14fa44198>"
      ]
     },
     "metadata": {},
     "output_type": "display_data"
    }
   ],
   "source": [
    "to_plot = pd.merge(cr_echo[['icustay_id', 'value']], cr_out[['icustay_id', 'value']], how = 'inner', on = 'icustay_id', \n",
    "        suffixes = ['_echo', '_out']).set_index('icustay_id').stack().reset_index()\n",
    "to_plot.columns = ['icustay_id', 'cr', 'value']\n",
    "to_plot['value'] = to_plot['value'].apply(coerce_to_float)\n",
    "sns.violinplot(x = 'cr', y = 'value', data = to_plot)"
   ]
  },
  {
   "cell_type": "markdown",
   "metadata": {},
   "source": [
    "## BNP or NTproBNP"
   ]
  },
  {
   "cell_type": "markdown",
   "metadata": {},
   "source": [
    "Still can't find BNP..."
   ]
  },
  {
   "cell_type": "code",
   "execution_count": 352,
   "metadata": {
    "collapsed": false
   },
   "outputs": [
    {
     "data": {
      "text/html": [
       "<div>\n",
       "<table border=\"1\" class=\"dataframe\">\n",
       "  <thead>\n",
       "    <tr style=\"text-align: right;\">\n",
       "      <th></th>\n",
       "      <th>row_id</th>\n",
       "      <th>itemid</th>\n",
       "      <th>label</th>\n",
       "      <th>fluid</th>\n",
       "      <th>category</th>\n",
       "      <th>loinc_code</th>\n",
       "    </tr>\n",
       "  </thead>\n",
       "  <tbody>\n",
       "    <tr>\n",
       "      <th>0</th>\n",
       "      <td>164</td>\n",
       "      <td>50963</td>\n",
       "      <td>NTproBNP</td>\n",
       "      <td>Blood</td>\n",
       "      <td>Chemistry</td>\n",
       "      <td>33762-6</td>\n",
       "    </tr>\n",
       "  </tbody>\n",
       "</table>\n",
       "</div>"
      ],
      "text/plain": [
       "   row_id  itemid     label  fluid   category loinc_code\n",
       "0     164   50963  NTproBNP  Blood  Chemistry    33762-6"
      ]
     },
     "execution_count": 352,
     "metadata": {},
     "output_type": "execute_result"
    }
   ],
   "source": [
    "query = \\\n",
    "\"\"\"\n",
    "SELECT * FROM d_labitems\n",
    "WHERE loinc_code IN ('42637-9', '30934-4', '35257-5', \n",
    "                     '47092-2', '71425-3', '77622-9', \n",
    "                     '77621-1', '33762-6', '33763-4')\n",
    "\"\"\"\n",
    "\n",
    "bnp = pd.read_sql_query(query, con)\n",
    "bnp.head()"
   ]
  },
  {
   "cell_type": "code",
   "execution_count": 368,
   "metadata": {
    "collapsed": false
   },
   "outputs": [
    {
     "data": {
      "text/html": [
       "<div>\n",
       "<table border=\"1\" class=\"dataframe\">\n",
       "  <thead>\n",
       "    <tr style=\"text-align: right;\">\n",
       "      <th></th>\n",
       "      <th>row_id</th>\n",
       "      <th>itemid</th>\n",
       "      <th>label</th>\n",
       "      <th>fluid</th>\n",
       "      <th>category</th>\n",
       "      <th>loinc_code</th>\n",
       "    </tr>\n",
       "  </thead>\n",
       "  <tbody>\n",
       "    <tr>\n",
       "      <th>0</th>\n",
       "      <td>163</td>\n",
       "      <td>50962</td>\n",
       "      <td>N-Acetylprocainamide (NAPA)</td>\n",
       "      <td>Blood</td>\n",
       "      <td>Chemistry</td>\n",
       "      <td>3834-9</td>\n",
       "    </tr>\n",
       "    <tr>\n",
       "      <th>1</th>\n",
       "      <td>164</td>\n",
       "      <td>50963</td>\n",
       "      <td>NTproBNP</td>\n",
       "      <td>Blood</td>\n",
       "      <td>Chemistry</td>\n",
       "      <td>33762-6</td>\n",
       "    </tr>\n",
       "    <tr>\n",
       "      <th>2</th>\n",
       "      <td>165</td>\n",
       "      <td>50964</td>\n",
       "      <td>Osmolality, Measured</td>\n",
       "      <td>Blood</td>\n",
       "      <td>Chemistry</td>\n",
       "      <td>2692-2</td>\n",
       "    </tr>\n",
       "  </tbody>\n",
       "</table>\n",
       "</div>"
      ],
      "text/plain": [
       "   row_id  itemid                        label  fluid   category loinc_code\n",
       "0     163   50962  N-Acetylprocainamide (NAPA)  Blood  Chemistry     3834-9\n",
       "1     164   50963                     NTproBNP  Blood  Chemistry    33762-6\n",
       "2     165   50964         Osmolality, Measured  Blood  Chemistry     2692-2"
      ]
     },
     "execution_count": 368,
     "metadata": {},
     "output_type": "execute_result"
    }
   ],
   "source": [
    "query = \\\n",
    "\"\"\"\n",
    "SELECT * FROM d_labitems\n",
    "WHERE row_id IN ('163', '164', '165')\n",
    "\"\"\"\n",
    "\n",
    "bnp = pd.read_sql_query(query, con)\n",
    "bnp.head()"
   ]
  },
  {
   "cell_type": "code",
   "execution_count": 357,
   "metadata": {
    "collapsed": false
   },
   "outputs": [
    {
     "data": {
      "text/html": [
       "<div>\n",
       "<table border=\"1\" class=\"dataframe\">\n",
       "  <thead>\n",
       "    <tr style=\"text-align: right;\">\n",
       "      <th></th>\n",
       "      <th>row_id</th>\n",
       "      <th>itemid</th>\n",
       "      <th>label</th>\n",
       "      <th>fluid</th>\n",
       "      <th>category</th>\n",
       "      <th>loinc_code</th>\n",
       "    </tr>\n",
       "  </thead>\n",
       "  <tbody>\n",
       "  </tbody>\n",
       "</table>\n",
       "</div>"
      ],
      "text/plain": [
       "Empty DataFrame\n",
       "Columns: [row_id, itemid, label, fluid, category, loinc_code]\n",
       "Index: []"
      ]
     },
     "execution_count": 357,
     "metadata": {},
     "output_type": "execute_result"
    }
   ],
   "source": [
    "query = \\\n",
    "\"\"\"\n",
    "SELECT * FROM d_labitems\n",
    "WHERE label ~ '.uretic.*'\n",
    "\"\"\"\n",
    "\n",
    "bnp = pd.read_sql_query(query, con)\n",
    "bnp.head()"
   ]
  },
  {
   "cell_type": "markdown",
   "metadata": {},
   "source": [
    "## Troponin-I/Troponin-T"
   ]
  },
  {
   "cell_type": "code",
   "execution_count": 367,
   "metadata": {
    "collapsed": false
   },
   "outputs": [
    {
     "data": {
      "text/html": [
       "<div>\n",
       "<table border=\"1\" class=\"dataframe\">\n",
       "  <thead>\n",
       "    <tr style=\"text-align: right;\">\n",
       "      <th></th>\n",
       "      <th>row_id</th>\n",
       "      <th>subject_id</th>\n",
       "      <th>hadm_id</th>\n",
       "      <th>itemid</th>\n",
       "      <th>charttime</th>\n",
       "      <th>value</th>\n",
       "      <th>valuenum</th>\n",
       "      <th>valueuom</th>\n",
       "      <th>flag</th>\n",
       "    </tr>\n",
       "  </thead>\n",
       "  <tbody>\n",
       "    <tr>\n",
       "      <th>0</th>\n",
       "      <td>1114</td>\n",
       "      <td>3</td>\n",
       "      <td>145834.0</td>\n",
       "      <td>51002</td>\n",
       "      <td>2101-10-23 03:45:00</td>\n",
       "      <td>18.6</td>\n",
       "      <td>18.6</td>\n",
       "      <td>ng/ml</td>\n",
       "      <td>abnormal</td>\n",
       "    </tr>\n",
       "    <tr>\n",
       "      <th>1</th>\n",
       "      <td>565</td>\n",
       "      <td>3</td>\n",
       "      <td>145834.0</td>\n",
       "      <td>51002</td>\n",
       "      <td>2101-10-20 19:59:00</td>\n",
       "      <td>&lt;0.3</td>\n",
       "      <td>NaN</td>\n",
       "      <td>ng/ml</td>\n",
       "      <td>None</td>\n",
       "    </tr>\n",
       "    <tr>\n",
       "      <th>2</th>\n",
       "      <td>453</td>\n",
       "      <td>3</td>\n",
       "      <td>145834.0</td>\n",
       "      <td>51002</td>\n",
       "      <td>2101-10-20 16:40:00</td>\n",
       "      <td>&lt;0.3</td>\n",
       "      <td>NaN</td>\n",
       "      <td>ng/ml</td>\n",
       "      <td>None</td>\n",
       "    </tr>\n",
       "    <tr>\n",
       "      <th>3</th>\n",
       "      <td>943</td>\n",
       "      <td>3</td>\n",
       "      <td>145834.0</td>\n",
       "      <td>51002</td>\n",
       "      <td>2101-10-22 04:00:00</td>\n",
       "      <td>GREATER THAN 50</td>\n",
       "      <td>NaN</td>\n",
       "      <td>ng/ml</td>\n",
       "      <td>None</td>\n",
       "    </tr>\n",
       "    <tr>\n",
       "      <th>4</th>\n",
       "      <td>1552</td>\n",
       "      <td>3</td>\n",
       "      <td>NaN</td>\n",
       "      <td>51002</td>\n",
       "      <td>2101-11-05 14:45:00</td>\n",
       "      <td>&lt;0.3</td>\n",
       "      <td>NaN</td>\n",
       "      <td>ng/ml</td>\n",
       "      <td>None</td>\n",
       "    </tr>\n",
       "  </tbody>\n",
       "</table>\n",
       "</div>"
      ],
      "text/plain": [
       "   row_id  subject_id   hadm_id  itemid           charttime            value  \\\n",
       "0    1114           3  145834.0   51002 2101-10-23 03:45:00             18.6   \n",
       "1     565           3  145834.0   51002 2101-10-20 19:59:00             <0.3   \n",
       "2     453           3  145834.0   51002 2101-10-20 16:40:00             <0.3   \n",
       "3     943           3  145834.0   51002 2101-10-22 04:00:00  GREATER THAN 50   \n",
       "4    1552           3       NaN   51002 2101-11-05 14:45:00             <0.3   \n",
       "\n",
       "   valuenum valueuom      flag  \n",
       "0      18.6    ng/ml  abnormal  \n",
       "1       NaN    ng/ml      None  \n",
       "2       NaN    ng/ml      None  \n",
       "3       NaN    ng/ml      None  \n",
       "4       NaN    ng/ml      None  "
      ]
     },
     "execution_count": 367,
     "metadata": {},
     "output_type": "execute_result"
    }
   ],
   "source": [
    "query = \\\n",
    "\"\"\"\n",
    "SELECT * FROM labevents\n",
    "WHERE itemid IN ('51002', '51003');\n",
    "\"\"\"\n",
    "troponin = pd.read_sql_query(query, con)\n",
    "troponin.head()"
   ]
  },
  {
   "cell_type": "code",
   "execution_count": null,
   "metadata": {
    "collapsed": true
   },
   "outputs": [],
   "source": []
  }
 ],
 "metadata": {
  "anaconda-cloud": {},
  "kernelspec": {
   "display_name": "Python [Root]",
   "language": "python",
   "name": "Python [Root]"
  },
  "language_info": {
   "codemirror_mode": {
    "name": "ipython",
    "version": 3
   },
   "file_extension": ".py",
   "mimetype": "text/x-python",
   "name": "python",
   "nbconvert_exporter": "python",
   "pygments_lexer": "ipython3",
   "version": "3.5.2"
  }
 },
 "nbformat": 4,
 "nbformat_minor": 0
}
