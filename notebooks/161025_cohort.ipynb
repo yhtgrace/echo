{
 "cells": [
  {
   "cell_type": "markdown",
   "metadata": {},
   "source": [
    "# Defining the study cohort"
   ]
  },
  {
   "cell_type": "code",
   "execution_count": 1,
   "metadata": {
    "collapsed": true
   },
   "outputs": [],
   "source": [
    "import numpy as np\n",
    "import pandas as pd\n",
    "import psycopg2\n",
    "\n",
    "import matplotlib.pyplot as plt\n",
    "import seaborn as sns\n",
    "\n",
    "import matplotlib.style\n",
    "matplotlib.style.use('ggplot')\n",
    "%matplotlib inline\n"
   ]
  },
  {
   "cell_type": "code",
   "execution_count": 2,
   "metadata": {
    "collapsed": true
   },
   "outputs": [],
   "source": [
    "# create a database connection\n",
    "sqluser = 'mimic'\n",
    "dbname = 'mimic'\n",
    "schema_name = 'mimiciii'\n",
    "\n",
    "cur = None"
   ]
  },
  {
   "cell_type": "code",
   "execution_count": 50,
   "metadata": {
    "collapsed": true
   },
   "outputs": [],
   "source": [
    "if cur: \n",
    "    cur.close()\n",
    "    con.close()\n",
    "\n",
    "con = psycopg2.connect(dbname = dbname, user = sqluser)\n",
    "cur = con.cursor()\n",
    "cur.execute('SET search_path to ' + schema_name)"
   ]
  },
  {
   "cell_type": "markdown",
   "metadata": {},
   "source": [
    "Inclusion/exclusion criteria: \n",
    "\n",
    "+ Age >= 18 (at time of echo?)\n",
    "+ Patient can only be included once: 1 ICU stay, 1 hospitalization\n",
    "+ Time filter"
   ]
  },
  {
   "cell_type": "code",
   "execution_count": 51,
   "metadata": {
    "collapsed": false
   },
   "outputs": [
    {
     "data": {
      "text/html": [
       "<div>\n",
       "<table border=\"1\" class=\"dataframe\">\n",
       "  <thead>\n",
       "    <tr style=\"text-align: right;\">\n",
       "      <th></th>\n",
       "      <th>row_id</th>\n",
       "      <th>hadm_id</th>\n",
       "      <th>charttime</th>\n",
       "      <th>icustay_id</th>\n",
       "      <th>los_icu</th>\n",
       "      <th>icustay_seq</th>\n",
       "      <th>first_icu_stay</th>\n",
       "      <th>outtime</th>\n",
       "      <th>gender</th>\n",
       "      <th>subject_id</th>\n",
       "      <th>...</th>\n",
       "      <th>admittime</th>\n",
       "      <th>dischtime</th>\n",
       "      <th>ethnicity</th>\n",
       "      <th>age</th>\n",
       "      <th>diagnosis</th>\n",
       "      <th>time_to_echo</th>\n",
       "      <th>max_icustay_seq</th>\n",
       "      <th>time_filter</th>\n",
       "      <th>single_stay_filter</th>\n",
       "      <th>age_filter</th>\n",
       "    </tr>\n",
       "  </thead>\n",
       "  <tbody>\n",
       "    <tr>\n",
       "      <th>0</th>\n",
       "      <td>76338</td>\n",
       "      <td>100003</td>\n",
       "      <td>2150-04-18 12:36:00</td>\n",
       "      <td>209281</td>\n",
       "      <td>2.0</td>\n",
       "      <td>1</td>\n",
       "      <td>Y</td>\n",
       "      <td>2150-04-19 14:12:52</td>\n",
       "      <td>M</td>\n",
       "      <td>54610</td>\n",
       "      <td>...</td>\n",
       "      <td>2150-04-17 15:34:00</td>\n",
       "      <td>2150-04-21 17:30:00</td>\n",
       "      <td>WHITE</td>\n",
       "      <td>21864 days 15:34:00</td>\n",
       "      <td>UPPER GI BLEED</td>\n",
       "      <td>0 days 21:02:00</td>\n",
       "      <td>1</td>\n",
       "      <td>True</td>\n",
       "      <td>True</td>\n",
       "      <td>True</td>\n",
       "    </tr>\n",
       "    <tr>\n",
       "      <th>1</th>\n",
       "      <td>68597</td>\n",
       "      <td>100006</td>\n",
       "      <td>2108-04-10 10:01:00</td>\n",
       "      <td>291788</td>\n",
       "      <td>5.0</td>\n",
       "      <td>1</td>\n",
       "      <td>Y</td>\n",
       "      <td>2108-04-11 15:18:03</td>\n",
       "      <td>F</td>\n",
       "      <td>9895</td>\n",
       "      <td>...</td>\n",
       "      <td>2108-04-06 15:49:00</td>\n",
       "      <td>2108-04-18 17:18:00</td>\n",
       "      <td>BLACK/AFRICAN AMERICAN</td>\n",
       "      <td>17850 days 15:49:00</td>\n",
       "      <td>COPD FLARE</td>\n",
       "      <td>3 days 18:12:00</td>\n",
       "      <td>1</td>\n",
       "      <td>False</td>\n",
       "      <td>True</td>\n",
       "      <td>True</td>\n",
       "    </tr>\n",
       "    <tr>\n",
       "      <th>2</th>\n",
       "      <td>77734</td>\n",
       "      <td>100009</td>\n",
       "      <td>2162-05-17 14:55:00</td>\n",
       "      <td>253656</td>\n",
       "      <td>2.0</td>\n",
       "      <td>1</td>\n",
       "      <td>Y</td>\n",
       "      <td>2162-05-19 22:05:14</td>\n",
       "      <td>M</td>\n",
       "      <td>533</td>\n",
       "      <td>...</td>\n",
       "      <td>2162-05-16 15:56:00</td>\n",
       "      <td>2162-05-21 13:37:00</td>\n",
       "      <td>WHITE</td>\n",
       "      <td>22187 days 15:56:00</td>\n",
       "      <td>CORONARY ARTERY DISEASE</td>\n",
       "      <td>0 days 22:59:00</td>\n",
       "      <td>1</td>\n",
       "      <td>True</td>\n",
       "      <td>True</td>\n",
       "      <td>True</td>\n",
       "    </tr>\n",
       "    <tr>\n",
       "      <th>3</th>\n",
       "      <td>76985</td>\n",
       "      <td>100012</td>\n",
       "      <td>2177-03-12 14:54:00</td>\n",
       "      <td>239289</td>\n",
       "      <td>4.0</td>\n",
       "      <td>1</td>\n",
       "      <td>Y</td>\n",
       "      <td>2177-03-18 00:42:15</td>\n",
       "      <td>M</td>\n",
       "      <td>60039</td>\n",
       "      <td>...</td>\n",
       "      <td>2177-03-12 11:48:00</td>\n",
       "      <td>2177-03-22 14:30:00</td>\n",
       "      <td>WHITE</td>\n",
       "      <td>24711 days 11:48:00</td>\n",
       "      <td>CORONARY ARTERY DISEASE</td>\n",
       "      <td>0 days 03:06:00</td>\n",
       "      <td>1</td>\n",
       "      <td>True</td>\n",
       "      <td>True</td>\n",
       "      <td>True</td>\n",
       "    </tr>\n",
       "    <tr>\n",
       "      <th>4</th>\n",
       "      <td>76984</td>\n",
       "      <td>100012</td>\n",
       "      <td>2177-03-14 12:46:00</td>\n",
       "      <td>239289</td>\n",
       "      <td>4.0</td>\n",
       "      <td>1</td>\n",
       "      <td>Y</td>\n",
       "      <td>2177-03-18 00:42:15</td>\n",
       "      <td>M</td>\n",
       "      <td>60039</td>\n",
       "      <td>...</td>\n",
       "      <td>2177-03-12 11:48:00</td>\n",
       "      <td>2177-03-22 14:30:00</td>\n",
       "      <td>WHITE</td>\n",
       "      <td>24711 days 11:48:00</td>\n",
       "      <td>CORONARY ARTERY DISEASE</td>\n",
       "      <td>2 days 00:58:00</td>\n",
       "      <td>1</td>\n",
       "      <td>False</td>\n",
       "      <td>True</td>\n",
       "      <td>True</td>\n",
       "    </tr>\n",
       "  </tbody>\n",
       "</table>\n",
       "<p>5 rows × 21 columns</p>\n",
       "</div>"
      ],
      "text/plain": [
       "   row_id  hadm_id           charttime  icustay_id  los_icu  icustay_seq  \\\n",
       "0   76338   100003 2150-04-18 12:36:00      209281      2.0            1   \n",
       "1   68597   100006 2108-04-10 10:01:00      291788      5.0            1   \n",
       "2   77734   100009 2162-05-17 14:55:00      253656      2.0            1   \n",
       "3   76985   100012 2177-03-12 14:54:00      239289      4.0            1   \n",
       "4   76984   100012 2177-03-14 12:46:00      239289      4.0            1   \n",
       "\n",
       "  first_icu_stay             outtime gender  subject_id    ...      \\\n",
       "0              Y 2150-04-19 14:12:52      M       54610    ...       \n",
       "1              Y 2108-04-11 15:18:03      F        9895    ...       \n",
       "2              Y 2162-05-19 22:05:14      M         533    ...       \n",
       "3              Y 2177-03-18 00:42:15      M       60039    ...       \n",
       "4              Y 2177-03-18 00:42:15      M       60039    ...       \n",
       "\n",
       "            admittime           dischtime               ethnicity  \\\n",
       "0 2150-04-17 15:34:00 2150-04-21 17:30:00                   WHITE   \n",
       "1 2108-04-06 15:49:00 2108-04-18 17:18:00  BLACK/AFRICAN AMERICAN   \n",
       "2 2162-05-16 15:56:00 2162-05-21 13:37:00                   WHITE   \n",
       "3 2177-03-12 11:48:00 2177-03-22 14:30:00                   WHITE   \n",
       "4 2177-03-12 11:48:00 2177-03-22 14:30:00                   WHITE   \n",
       "\n",
       "                  age                diagnosis    time_to_echo  \\\n",
       "0 21864 days 15:34:00           UPPER GI BLEED 0 days 21:02:00   \n",
       "1 17850 days 15:49:00               COPD FLARE 3 days 18:12:00   \n",
       "2 22187 days 15:56:00  CORONARY ARTERY DISEASE 0 days 22:59:00   \n",
       "3 24711 days 11:48:00  CORONARY ARTERY DISEASE 0 days 03:06:00   \n",
       "4 24711 days 11:48:00  CORONARY ARTERY DISEASE 2 days 00:58:00   \n",
       "\n",
       "   max_icustay_seq  time_filter single_stay_filter age_filter  \n",
       "0                1         True               True       True  \n",
       "1                1        False               True       True  \n",
       "2                1         True               True       True  \n",
       "3                1         True               True       True  \n",
       "4                1        False               True       True  \n",
       "\n",
       "[5 rows x 21 columns]"
      ]
     },
     "execution_count": 51,
     "metadata": {},
     "output_type": "execute_result"
    }
   ],
   "source": [
    "query = \\\n",
    "\"\"\"\n",
    "SELECT * FROM echo_icustay;\n",
    "\"\"\"\n",
    "icu = pd.read_sql_query(query, con)\n",
    "icu.head()"
   ]
  },
  {
   "cell_type": "markdown",
   "metadata": {},
   "source": [
    "Number of echos dropped by keeping patients only with a single ICU stay (defined across hospital admission IDs):"
   ]
  },
  {
   "cell_type": "code",
   "execution_count": 52,
   "metadata": {
    "collapsed": false
   },
   "outputs": [
    {
     "data": {
      "text/plain": [
       "True     25867\n",
       "False    13184\n",
       "Name: single_stay_filter, dtype: int64"
      ]
     },
     "execution_count": 52,
     "metadata": {},
     "output_type": "execute_result"
    }
   ],
   "source": [
    "icu['single_stay_filter'].value_counts()"
   ]
  },
  {
   "cell_type": "markdown",
   "metadata": {},
   "source": [
    "Number of echos dropped by keeping patients with an echo within -8h:48h"
   ]
  },
  {
   "cell_type": "code",
   "execution_count": 53,
   "metadata": {
    "collapsed": false
   },
   "outputs": [
    {
     "data": {
      "text/plain": [
       "True     14369\n",
       "False    11498\n",
       "Name: time_filter, dtype: int64"
      ]
     },
     "execution_count": 53,
     "metadata": {},
     "output_type": "execute_result"
    }
   ],
   "source": [
    "icu.loc[icu['single_stay_filter'], 'time_filter'].value_counts()"
   ]
  },
  {
   "cell_type": "markdown",
   "metadata": {},
   "source": [
    "Number of echos per subject/icustay/hospital admission (which should be equivalent at this point): "
   ]
  },
  {
   "cell_type": "code",
   "execution_count": 54,
   "metadata": {
    "collapsed": false
   },
   "outputs": [
    {
     "data": {
      "text/plain": [
       "1     13717\n",
       "2      3416\n",
       "3       832\n",
       "4       304\n",
       "5       148\n",
       "6        65\n",
       "7        29\n",
       "8        15\n",
       "9        11\n",
       "10        3\n",
       "11        1\n",
       "13        1\n",
       "Name: hadm_id, dtype: int64"
      ]
     },
     "execution_count": 54,
     "metadata": {},
     "output_type": "execute_result"
    }
   ],
   "source": [
    "icu.loc[icu['single_stay_filter'], 'hadm_id'].value_counts().value_counts().sort_index()"
   ]
  },
  {
   "cell_type": "code",
   "execution_count": 55,
   "metadata": {
    "collapsed": false
   },
   "outputs": [
    {
     "data": {
      "text/plain": [
       "1    11174\n",
       "2     1097\n",
       "3      212\n",
       "4       69\n",
       "5       14\n",
       "6        2\n",
       "7        1\n",
       "Name: hadm_id, dtype: int64"
      ]
     },
     "execution_count": 55,
     "metadata": {},
     "output_type": "execute_result"
    }
   ],
   "source": [
    "icu.loc[icu['single_stay_filter'] & icu['time_filter'], 'hadm_id'].value_counts().value_counts().sort_index()"
   ]
  },
  {
   "cell_type": "code",
   "execution_count": 56,
   "metadata": {
    "collapsed": false
   },
   "outputs": [
    {
     "data": {
      "text/html": [
       "<div>\n",
       "<table border=\"1\" class=\"dataframe\">\n",
       "  <thead>\n",
       "    <tr style=\"text-align: right;\">\n",
       "      <th></th>\n",
       "      <th>row_id</th>\n",
       "      <th>hadm_id</th>\n",
       "      <th>charttime</th>\n",
       "      <th>icustay_id</th>\n",
       "      <th>los_icu</th>\n",
       "      <th>icustay_seq</th>\n",
       "      <th>first_icu_stay</th>\n",
       "      <th>outtime</th>\n",
       "      <th>gender</th>\n",
       "      <th>subject_id</th>\n",
       "      <th>...</th>\n",
       "      <th>admittime</th>\n",
       "      <th>dischtime</th>\n",
       "      <th>ethnicity</th>\n",
       "      <th>age</th>\n",
       "      <th>diagnosis</th>\n",
       "      <th>time_to_echo</th>\n",
       "      <th>max_icustay_seq</th>\n",
       "      <th>time_filter</th>\n",
       "      <th>single_stay_filter</th>\n",
       "      <th>age_filter</th>\n",
       "    </tr>\n",
       "  </thead>\n",
       "  <tbody>\n",
       "    <tr>\n",
       "      <th>15417</th>\n",
       "      <td>74014</td>\n",
       "      <td>139187</td>\n",
       "      <td>2151-10-30 23:10:00</td>\n",
       "      <td>269991</td>\n",
       "      <td>4.0</td>\n",
       "      <td>1</td>\n",
       "      <td>Y</td>\n",
       "      <td>2151-11-04 00:12:15</td>\n",
       "      <td>F</td>\n",
       "      <td>2762</td>\n",
       "      <td>...</td>\n",
       "      <td>2151-10-31 01:31:00</td>\n",
       "      <td>2151-11-06 20:08:00</td>\n",
       "      <td>WHITE</td>\n",
       "      <td>32330 days 01:31:00</td>\n",
       "      <td>CARDIAC TAMPONADE</td>\n",
       "      <td>-1 days +21:39:00</td>\n",
       "      <td>1</td>\n",
       "      <td>True</td>\n",
       "      <td>True</td>\n",
       "      <td>True</td>\n",
       "    </tr>\n",
       "    <tr>\n",
       "      <th>15420</th>\n",
       "      <td>74054</td>\n",
       "      <td>139187</td>\n",
       "      <td>2151-10-31 01:59:00</td>\n",
       "      <td>269991</td>\n",
       "      <td>4.0</td>\n",
       "      <td>1</td>\n",
       "      <td>Y</td>\n",
       "      <td>2151-11-04 00:12:15</td>\n",
       "      <td>F</td>\n",
       "      <td>2762</td>\n",
       "      <td>...</td>\n",
       "      <td>2151-10-31 01:31:00</td>\n",
       "      <td>2151-11-06 20:08:00</td>\n",
       "      <td>WHITE</td>\n",
       "      <td>32330 days 01:31:00</td>\n",
       "      <td>CARDIAC TAMPONADE</td>\n",
       "      <td>0 days 00:28:00</td>\n",
       "      <td>1</td>\n",
       "      <td>True</td>\n",
       "      <td>True</td>\n",
       "      <td>True</td>\n",
       "    </tr>\n",
       "    <tr>\n",
       "      <th>15421</th>\n",
       "      <td>74031</td>\n",
       "      <td>139187</td>\n",
       "      <td>2151-10-31 13:04:00</td>\n",
       "      <td>269991</td>\n",
       "      <td>4.0</td>\n",
       "      <td>1</td>\n",
       "      <td>Y</td>\n",
       "      <td>2151-11-04 00:12:15</td>\n",
       "      <td>F</td>\n",
       "      <td>2762</td>\n",
       "      <td>...</td>\n",
       "      <td>2151-10-31 01:31:00</td>\n",
       "      <td>2151-11-06 20:08:00</td>\n",
       "      <td>WHITE</td>\n",
       "      <td>32330 days 01:31:00</td>\n",
       "      <td>CARDIAC TAMPONADE</td>\n",
       "      <td>0 days 11:33:00</td>\n",
       "      <td>1</td>\n",
       "      <td>True</td>\n",
       "      <td>True</td>\n",
       "      <td>True</td>\n",
       "    </tr>\n",
       "    <tr>\n",
       "      <th>15418</th>\n",
       "      <td>74030</td>\n",
       "      <td>139187</td>\n",
       "      <td>2151-11-01 01:40:00</td>\n",
       "      <td>269991</td>\n",
       "      <td>4.0</td>\n",
       "      <td>1</td>\n",
       "      <td>Y</td>\n",
       "      <td>2151-11-04 00:12:15</td>\n",
       "      <td>F</td>\n",
       "      <td>2762</td>\n",
       "      <td>...</td>\n",
       "      <td>2151-10-31 01:31:00</td>\n",
       "      <td>2151-11-06 20:08:00</td>\n",
       "      <td>WHITE</td>\n",
       "      <td>32330 days 01:31:00</td>\n",
       "      <td>CARDIAC TAMPONADE</td>\n",
       "      <td>1 days 00:09:00</td>\n",
       "      <td>1</td>\n",
       "      <td>True</td>\n",
       "      <td>True</td>\n",
       "      <td>True</td>\n",
       "    </tr>\n",
       "    <tr>\n",
       "      <th>15419</th>\n",
       "      <td>74015</td>\n",
       "      <td>139187</td>\n",
       "      <td>2151-11-01 05:50:00</td>\n",
       "      <td>269991</td>\n",
       "      <td>4.0</td>\n",
       "      <td>1</td>\n",
       "      <td>Y</td>\n",
       "      <td>2151-11-04 00:12:15</td>\n",
       "      <td>F</td>\n",
       "      <td>2762</td>\n",
       "      <td>...</td>\n",
       "      <td>2151-10-31 01:31:00</td>\n",
       "      <td>2151-11-06 20:08:00</td>\n",
       "      <td>WHITE</td>\n",
       "      <td>32330 days 01:31:00</td>\n",
       "      <td>CARDIAC TAMPONADE</td>\n",
       "      <td>1 days 04:19:00</td>\n",
       "      <td>1</td>\n",
       "      <td>True</td>\n",
       "      <td>True</td>\n",
       "      <td>True</td>\n",
       "    </tr>\n",
       "    <tr>\n",
       "      <th>15423</th>\n",
       "      <td>74013</td>\n",
       "      <td>139187</td>\n",
       "      <td>2151-11-01 09:38:00</td>\n",
       "      <td>269991</td>\n",
       "      <td>4.0</td>\n",
       "      <td>1</td>\n",
       "      <td>Y</td>\n",
       "      <td>2151-11-04 00:12:15</td>\n",
       "      <td>F</td>\n",
       "      <td>2762</td>\n",
       "      <td>...</td>\n",
       "      <td>2151-10-31 01:31:00</td>\n",
       "      <td>2151-11-06 20:08:00</td>\n",
       "      <td>WHITE</td>\n",
       "      <td>32330 days 01:31:00</td>\n",
       "      <td>CARDIAC TAMPONADE</td>\n",
       "      <td>1 days 08:07:00</td>\n",
       "      <td>1</td>\n",
       "      <td>True</td>\n",
       "      <td>True</td>\n",
       "      <td>True</td>\n",
       "    </tr>\n",
       "    <tr>\n",
       "      <th>15425</th>\n",
       "      <td>73887</td>\n",
       "      <td>139187</td>\n",
       "      <td>2151-11-01 14:04:00</td>\n",
       "      <td>269991</td>\n",
       "      <td>4.0</td>\n",
       "      <td>1</td>\n",
       "      <td>Y</td>\n",
       "      <td>2151-11-04 00:12:15</td>\n",
       "      <td>F</td>\n",
       "      <td>2762</td>\n",
       "      <td>...</td>\n",
       "      <td>2151-10-31 01:31:00</td>\n",
       "      <td>2151-11-06 20:08:00</td>\n",
       "      <td>WHITE</td>\n",
       "      <td>32330 days 01:31:00</td>\n",
       "      <td>CARDIAC TAMPONADE</td>\n",
       "      <td>1 days 12:33:00</td>\n",
       "      <td>1</td>\n",
       "      <td>True</td>\n",
       "      <td>True</td>\n",
       "      <td>True</td>\n",
       "    </tr>\n",
       "    <tr>\n",
       "      <th>15424</th>\n",
       "      <td>73986</td>\n",
       "      <td>139187</td>\n",
       "      <td>2151-11-02 09:03:00</td>\n",
       "      <td>269991</td>\n",
       "      <td>4.0</td>\n",
       "      <td>1</td>\n",
       "      <td>Y</td>\n",
       "      <td>2151-11-04 00:12:15</td>\n",
       "      <td>F</td>\n",
       "      <td>2762</td>\n",
       "      <td>...</td>\n",
       "      <td>2151-10-31 01:31:00</td>\n",
       "      <td>2151-11-06 20:08:00</td>\n",
       "      <td>WHITE</td>\n",
       "      <td>32330 days 01:31:00</td>\n",
       "      <td>CARDIAC TAMPONADE</td>\n",
       "      <td>2 days 07:32:00</td>\n",
       "      <td>1</td>\n",
       "      <td>False</td>\n",
       "      <td>True</td>\n",
       "      <td>True</td>\n",
       "    </tr>\n",
       "    <tr>\n",
       "      <th>15422</th>\n",
       "      <td>73985</td>\n",
       "      <td>139187</td>\n",
       "      <td>2151-11-03 11:06:00</td>\n",
       "      <td>269991</td>\n",
       "      <td>4.0</td>\n",
       "      <td>1</td>\n",
       "      <td>Y</td>\n",
       "      <td>2151-11-04 00:12:15</td>\n",
       "      <td>F</td>\n",
       "      <td>2762</td>\n",
       "      <td>...</td>\n",
       "      <td>2151-10-31 01:31:00</td>\n",
       "      <td>2151-11-06 20:08:00</td>\n",
       "      <td>WHITE</td>\n",
       "      <td>32330 days 01:31:00</td>\n",
       "      <td>CARDIAC TAMPONADE</td>\n",
       "      <td>3 days 09:35:00</td>\n",
       "      <td>1</td>\n",
       "      <td>False</td>\n",
       "      <td>True</td>\n",
       "      <td>True</td>\n",
       "    </tr>\n",
       "  </tbody>\n",
       "</table>\n",
       "<p>9 rows × 21 columns</p>\n",
       "</div>"
      ],
      "text/plain": [
       "       row_id  hadm_id           charttime  icustay_id  los_icu  icustay_seq  \\\n",
       "15417   74014   139187 2151-10-30 23:10:00      269991      4.0            1   \n",
       "15420   74054   139187 2151-10-31 01:59:00      269991      4.0            1   \n",
       "15421   74031   139187 2151-10-31 13:04:00      269991      4.0            1   \n",
       "15418   74030   139187 2151-11-01 01:40:00      269991      4.0            1   \n",
       "15419   74015   139187 2151-11-01 05:50:00      269991      4.0            1   \n",
       "15423   74013   139187 2151-11-01 09:38:00      269991      4.0            1   \n",
       "15425   73887   139187 2151-11-01 14:04:00      269991      4.0            1   \n",
       "15424   73986   139187 2151-11-02 09:03:00      269991      4.0            1   \n",
       "15422   73985   139187 2151-11-03 11:06:00      269991      4.0            1   \n",
       "\n",
       "      first_icu_stay             outtime gender  subject_id    ...      \\\n",
       "15417              Y 2151-11-04 00:12:15      F        2762    ...       \n",
       "15420              Y 2151-11-04 00:12:15      F        2762    ...       \n",
       "15421              Y 2151-11-04 00:12:15      F        2762    ...       \n",
       "15418              Y 2151-11-04 00:12:15      F        2762    ...       \n",
       "15419              Y 2151-11-04 00:12:15      F        2762    ...       \n",
       "15423              Y 2151-11-04 00:12:15      F        2762    ...       \n",
       "15425              Y 2151-11-04 00:12:15      F        2762    ...       \n",
       "15424              Y 2151-11-04 00:12:15      F        2762    ...       \n",
       "15422              Y 2151-11-04 00:12:15      F        2762    ...       \n",
       "\n",
       "                admittime           dischtime ethnicity                 age  \\\n",
       "15417 2151-10-31 01:31:00 2151-11-06 20:08:00     WHITE 32330 days 01:31:00   \n",
       "15420 2151-10-31 01:31:00 2151-11-06 20:08:00     WHITE 32330 days 01:31:00   \n",
       "15421 2151-10-31 01:31:00 2151-11-06 20:08:00     WHITE 32330 days 01:31:00   \n",
       "15418 2151-10-31 01:31:00 2151-11-06 20:08:00     WHITE 32330 days 01:31:00   \n",
       "15419 2151-10-31 01:31:00 2151-11-06 20:08:00     WHITE 32330 days 01:31:00   \n",
       "15423 2151-10-31 01:31:00 2151-11-06 20:08:00     WHITE 32330 days 01:31:00   \n",
       "15425 2151-10-31 01:31:00 2151-11-06 20:08:00     WHITE 32330 days 01:31:00   \n",
       "15424 2151-10-31 01:31:00 2151-11-06 20:08:00     WHITE 32330 days 01:31:00   \n",
       "15422 2151-10-31 01:31:00 2151-11-06 20:08:00     WHITE 32330 days 01:31:00   \n",
       "\n",
       "               diagnosis      time_to_echo  max_icustay_seq  time_filter  \\\n",
       "15417  CARDIAC TAMPONADE -1 days +21:39:00                1         True   \n",
       "15420  CARDIAC TAMPONADE   0 days 00:28:00                1         True   \n",
       "15421  CARDIAC TAMPONADE   0 days 11:33:00                1         True   \n",
       "15418  CARDIAC TAMPONADE   1 days 00:09:00                1         True   \n",
       "15419  CARDIAC TAMPONADE   1 days 04:19:00                1         True   \n",
       "15423  CARDIAC TAMPONADE   1 days 08:07:00                1         True   \n",
       "15425  CARDIAC TAMPONADE   1 days 12:33:00                1         True   \n",
       "15424  CARDIAC TAMPONADE   2 days 07:32:00                1        False   \n",
       "15422  CARDIAC TAMPONADE   3 days 09:35:00                1        False   \n",
       "\n",
       "      single_stay_filter age_filter  \n",
       "15417               True       True  \n",
       "15420               True       True  \n",
       "15421               True       True  \n",
       "15418               True       True  \n",
       "15419               True       True  \n",
       "15423               True       True  \n",
       "15425               True       True  \n",
       "15424               True       True  \n",
       "15422               True       True  \n",
       "\n",
       "[9 rows x 21 columns]"
      ]
     },
     "execution_count": 56,
     "metadata": {},
     "output_type": "execute_result"
    }
   ],
   "source": [
    "icu.loc[icu['hadm_id'] == 139187].sort_values('time_to_echo')"
   ]
  },
  {
   "cell_type": "code",
   "execution_count": 57,
   "metadata": {
    "collapsed": false
   },
   "outputs": [
    {
     "data": {
      "text/plain": [
       "12569"
      ]
     },
     "execution_count": 57,
     "metadata": {},
     "output_type": "execute_result"
    }
   ],
   "source": [
    "len(set(icu.loc[icu['single_stay_filter'] & icu['time_filter'], 'hadm_id']))"
   ]
  },
  {
   "cell_type": "code",
   "execution_count": 58,
   "metadata": {
    "collapsed": false
   },
   "outputs": [
    {
     "data": {
      "text/plain": [
       "12569"
      ]
     },
     "execution_count": 58,
     "metadata": {},
     "output_type": "execute_result"
    }
   ],
   "source": [
    "len(set(icu.loc[icu['single_stay_filter'] & icu['time_filter'], 'icustay_id']))"
   ]
  },
  {
   "cell_type": "code",
   "execution_count": 59,
   "metadata": {
    "collapsed": false
   },
   "outputs": [
    {
     "data": {
      "text/plain": [
       "12569"
      ]
     },
     "execution_count": 59,
     "metadata": {},
     "output_type": "execute_result"
    }
   ],
   "source": [
    "len(set(icu.loc[icu['single_stay_filter'] & icu['time_filter'], 'subject_id']))"
   ]
  },
  {
   "cell_type": "markdown",
   "metadata": {},
   "source": [
    "We can either select the first echo, or select icustays where there was only 1 echo: "
   ]
  },
  {
   "cell_type": "code",
   "execution_count": 60,
   "metadata": {
    "collapsed": false
   },
   "outputs": [
    {
     "data": {
      "text/plain": [
       "11174"
      ]
     },
     "execution_count": 60,
     "metadata": {},
     "output_type": "execute_result"
    }
   ],
   "source": [
    "icu_ = icu.loc[icu['single_stay_filter'] & icu['time_filter']]\n",
    "icu_.loc[~icu_['hadm_id'].duplicated(keep = False)].shape[0]"
   ]
  },
  {
   "cell_type": "markdown",
   "metadata": {},
   "source": [
    "And finally filter for age: "
   ]
  },
  {
   "cell_type": "code",
   "execution_count": 62,
   "metadata": {
    "collapsed": false
   },
   "outputs": [
    {
     "data": {
      "text/plain": [
       "True     10984\n",
       "False      190\n",
       "Name: age_filter, dtype: int64"
      ]
     },
     "execution_count": 62,
     "metadata": {},
     "output_type": "execute_result"
    }
   ],
   "source": [
    "icu_.loc[~icu_['hadm_id'].duplicated(keep = False), 'age_filter'].value_counts()"
   ]
  },
  {
   "cell_type": "markdown",
   "metadata": {},
   "source": [
    "Leaving us with ~10000 echos. "
   ]
  },
  {
   "cell_type": "code",
   "execution_count": null,
   "metadata": {
    "collapsed": true
   },
   "outputs": [],
   "source": []
  }
 ],
 "metadata": {
  "anaconda-cloud": {},
  "kernelspec": {
   "display_name": "Python [Root]",
   "language": "python",
   "name": "Python [Root]"
  },
  "language_info": {
   "codemirror_mode": {
    "name": "ipython",
    "version": 3
   },
   "file_extension": ".py",
   "mimetype": "text/x-python",
   "name": "python",
   "nbconvert_exporter": "python",
   "pygments_lexer": "ipython3",
   "version": "3.5.2"
  }
 },
 "nbformat": 4,
 "nbformat_minor": 0
}
