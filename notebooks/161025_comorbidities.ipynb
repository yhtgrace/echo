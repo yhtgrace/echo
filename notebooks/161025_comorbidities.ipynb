{
 "cells": [
  {
   "cell_type": "code",
   "execution_count": 1,
   "metadata": {
    "collapsed": true
   },
   "outputs": [],
   "source": [
    "import numpy as np\n",
    "import pandas as pd\n",
    "import psycopg2\n",
    "\n",
    "import matplotlib.pyplot as plt\n",
    "import seaborn as sns\n",
    "\n",
    "import matplotlib.style\n",
    "matplotlib.style.use('ggplot')\n",
    "%matplotlib inline\n"
   ]
  },
  {
   "cell_type": "code",
   "execution_count": 2,
   "metadata": {
    "collapsed": true
   },
   "outputs": [],
   "source": [
    "# create a database connection\n",
    "sqluser = 'mimic'\n",
    "dbname = 'mimic'\n",
    "schema_name = 'mimiciii'\n",
    "\n",
    "cur = None"
   ]
  },
  {
   "cell_type": "code",
   "execution_count": 8,
   "metadata": {
    "collapsed": true
   },
   "outputs": [],
   "source": [
    "if cur: \n",
    "    cur.close()\n",
    "    con.close()\n",
    "\n",
    "con = psycopg2.connect(dbname = dbname, user = sqluser)\n",
    "cur = con.cursor()\n",
    "cur.execute('SET search_path to ' + schema_name)"
   ]
  },
  {
   "cell_type": "markdown",
   "metadata": {},
   "source": [
    "# Comorbidities\n",
    "\n",
    "See [here](https://www.hcup-us.ahrq.gov/toolssoftware/comorbidity/comorbidity.jsp) for more information about Elixhauser Comorbidity. This software\n",
    "\n",
    ">assigns variables that identify comorbidities in hospital discharge records using the diagnosis coding of ICD-9-CM. \n",
    "\n",
    "The input data consists of diagnosis-related groups (DRG or MS-DRG) and diagnostic codes (ICD-9-CMs). "
   ]
  },
  {
   "cell_type": "code",
   "execution_count": 12,
   "metadata": {
    "collapsed": false
   },
   "outputs": [
    {
     "data": {
      "text/html": [
       "<div>\n",
       "<table border=\"1\" class=\"dataframe\">\n",
       "  <thead>\n",
       "    <tr style=\"text-align: right;\">\n",
       "      <th></th>\n",
       "      <th>subject_id</th>\n",
       "      <th>hadm_id</th>\n",
       "      <th>congestive_heart_failure</th>\n",
       "      <th>cardiac_arrhythmias</th>\n",
       "      <th>valvular_disease</th>\n",
       "      <th>pulmonary_circulation</th>\n",
       "      <th>peripheral_vascular</th>\n",
       "      <th>hypertension</th>\n",
       "      <th>paralysis</th>\n",
       "      <th>other_neurological</th>\n",
       "      <th>...</th>\n",
       "      <th>coagulopathy</th>\n",
       "      <th>obesity</th>\n",
       "      <th>weight_loss</th>\n",
       "      <th>fluid_electrolyte</th>\n",
       "      <th>blood_loss_anemia</th>\n",
       "      <th>deficiency_anemias</th>\n",
       "      <th>alcohol_abuse</th>\n",
       "      <th>drug_abuse</th>\n",
       "      <th>psychoses</th>\n",
       "      <th>depression</th>\n",
       "    </tr>\n",
       "  </thead>\n",
       "  <tbody>\n",
       "    <tr>\n",
       "      <th>0</th>\n",
       "      <td>58526</td>\n",
       "      <td>100001</td>\n",
       "      <td>0</td>\n",
       "      <td>0</td>\n",
       "      <td>0</td>\n",
       "      <td>0</td>\n",
       "      <td>0</td>\n",
       "      <td>1</td>\n",
       "      <td>0</td>\n",
       "      <td>0</td>\n",
       "      <td>...</td>\n",
       "      <td>0</td>\n",
       "      <td>0</td>\n",
       "      <td>0</td>\n",
       "      <td>0</td>\n",
       "      <td>0</td>\n",
       "      <td>0</td>\n",
       "      <td>0</td>\n",
       "      <td>0</td>\n",
       "      <td>0</td>\n",
       "      <td>0</td>\n",
       "    </tr>\n",
       "    <tr>\n",
       "      <th>1</th>\n",
       "      <td>54610</td>\n",
       "      <td>100003</td>\n",
       "      <td>0</td>\n",
       "      <td>0</td>\n",
       "      <td>0</td>\n",
       "      <td>0</td>\n",
       "      <td>0</td>\n",
       "      <td>0</td>\n",
       "      <td>0</td>\n",
       "      <td>0</td>\n",
       "      <td>...</td>\n",
       "      <td>0</td>\n",
       "      <td>0</td>\n",
       "      <td>0</td>\n",
       "      <td>0</td>\n",
       "      <td>0</td>\n",
       "      <td>0</td>\n",
       "      <td>0</td>\n",
       "      <td>0</td>\n",
       "      <td>0</td>\n",
       "      <td>0</td>\n",
       "    </tr>\n",
       "    <tr>\n",
       "      <th>2</th>\n",
       "      <td>9895</td>\n",
       "      <td>100006</td>\n",
       "      <td>0</td>\n",
       "      <td>1</td>\n",
       "      <td>0</td>\n",
       "      <td>0</td>\n",
       "      <td>0</td>\n",
       "      <td>0</td>\n",
       "      <td>0</td>\n",
       "      <td>0</td>\n",
       "      <td>...</td>\n",
       "      <td>0</td>\n",
       "      <td>0</td>\n",
       "      <td>0</td>\n",
       "      <td>1</td>\n",
       "      <td>0</td>\n",
       "      <td>0</td>\n",
       "      <td>0</td>\n",
       "      <td>0</td>\n",
       "      <td>0</td>\n",
       "      <td>1</td>\n",
       "    </tr>\n",
       "    <tr>\n",
       "      <th>3</th>\n",
       "      <td>23018</td>\n",
       "      <td>100007</td>\n",
       "      <td>0</td>\n",
       "      <td>0</td>\n",
       "      <td>0</td>\n",
       "      <td>0</td>\n",
       "      <td>0</td>\n",
       "      <td>0</td>\n",
       "      <td>0</td>\n",
       "      <td>0</td>\n",
       "      <td>...</td>\n",
       "      <td>0</td>\n",
       "      <td>0</td>\n",
       "      <td>0</td>\n",
       "      <td>0</td>\n",
       "      <td>0</td>\n",
       "      <td>0</td>\n",
       "      <td>0</td>\n",
       "      <td>0</td>\n",
       "      <td>0</td>\n",
       "      <td>0</td>\n",
       "    </tr>\n",
       "    <tr>\n",
       "      <th>4</th>\n",
       "      <td>533</td>\n",
       "      <td>100009</td>\n",
       "      <td>0</td>\n",
       "      <td>0</td>\n",
       "      <td>0</td>\n",
       "      <td>0</td>\n",
       "      <td>1</td>\n",
       "      <td>0</td>\n",
       "      <td>0</td>\n",
       "      <td>0</td>\n",
       "      <td>...</td>\n",
       "      <td>0</td>\n",
       "      <td>1</td>\n",
       "      <td>0</td>\n",
       "      <td>0</td>\n",
       "      <td>0</td>\n",
       "      <td>1</td>\n",
       "      <td>0</td>\n",
       "      <td>0</td>\n",
       "      <td>0</td>\n",
       "      <td>0</td>\n",
       "    </tr>\n",
       "  </tbody>\n",
       "</table>\n",
       "<p>5 rows × 32 columns</p>\n",
       "</div>"
      ],
      "text/plain": [
       "   subject_id  hadm_id  congestive_heart_failure  cardiac_arrhythmias  \\\n",
       "0       58526   100001                         0                    0   \n",
       "1       54610   100003                         0                    0   \n",
       "2        9895   100006                         0                    1   \n",
       "3       23018   100007                         0                    0   \n",
       "4         533   100009                         0                    0   \n",
       "\n",
       "   valvular_disease  pulmonary_circulation  peripheral_vascular  hypertension  \\\n",
       "0                 0                      0                    0             1   \n",
       "1                 0                      0                    0             0   \n",
       "2                 0                      0                    0             0   \n",
       "3                 0                      0                    0             0   \n",
       "4                 0                      0                    1             0   \n",
       "\n",
       "   paralysis  other_neurological     ...      coagulopathy  obesity  \\\n",
       "0          0                   0     ...                 0        0   \n",
       "1          0                   0     ...                 0        0   \n",
       "2          0                   0     ...                 0        0   \n",
       "3          0                   0     ...                 0        0   \n",
       "4          0                   0     ...                 0        1   \n",
       "\n",
       "   weight_loss  fluid_electrolyte  blood_loss_anemia  deficiency_anemias  \\\n",
       "0            0                  0                  0                   0   \n",
       "1            0                  0                  0                   0   \n",
       "2            0                  1                  0                   0   \n",
       "3            0                  0                  0                   0   \n",
       "4            0                  0                  0                   1   \n",
       "\n",
       "   alcohol_abuse  drug_abuse  psychoses  depression  \n",
       "0              0           0          0           0  \n",
       "1              0           0          0           0  \n",
       "2              0           0          0           1  \n",
       "3              0           0          0           0  \n",
       "4              0           0          0           0  \n",
       "\n",
       "[5 rows x 32 columns]"
      ]
     },
     "execution_count": 12,
     "metadata": {},
     "output_type": "execute_result"
    }
   ],
   "source": [
    "query = \\\n",
    "\"\"\"\n",
    "SELECT * FROM elixhauser_ahrq LIMIT 10;\n",
    "\"\"\"\n",
    "ex = pd.read_sql_query(query, con)\n",
    "ex.head()"
   ]
  },
  {
   "cell_type": "code",
   "execution_count": 13,
   "metadata": {
    "collapsed": false
   },
   "outputs": [
    {
     "data": {
      "text/plain": [
       "Index(['subject_id', 'hadm_id', 'congestive_heart_failure',\n",
       "       'cardiac_arrhythmias', 'valvular_disease', 'pulmonary_circulation',\n",
       "       'peripheral_vascular', 'hypertension', 'paralysis',\n",
       "       'other_neurological', 'chronic_pulmonary', 'diabetes_uncomplicated',\n",
       "       'diabetes_complicated', 'hypothyroidism', 'renal_failure',\n",
       "       'liver_disease', 'peptic_ulcer', 'aids', 'lymphoma',\n",
       "       'metastatic_cancer', 'solid_tumor', 'rheumatoid_arthritis',\n",
       "       'coagulopathy', 'obesity', 'weight_loss', 'fluid_electrolyte',\n",
       "       'blood_loss_anemia', 'deficiency_anemias', 'alcohol_abuse',\n",
       "       'drug_abuse', 'psychoses', 'depression'],\n",
       "      dtype='object')"
      ]
     },
     "execution_count": 13,
     "metadata": {},
     "output_type": "execute_result"
    }
   ],
   "source": [
    "ex.columns"
   ]
  },
  {
   "cell_type": "markdown",
   "metadata": {},
   "source": [
    "# DRGCODES\n",
    "\n",
    ">A Diagnosis-Related Group (DRG) is a statistical system of classifying any inpatient stay into groups for the purposes of payment. The DRG classification system divides possible diagnoses into more than 20 major body systems and subdivides them into almost 500 groups for the purpose of Medicare reimbursement. Factors used to determine the DRG payment amount include the diagnosis involved as well as the hospital resources necessary to treat the condition. "
   ]
  },
  {
   "cell_type": "code",
   "execution_count": 20,
   "metadata": {
    "collapsed": false
   },
   "outputs": [
    {
     "data": {
      "text/html": [
       "<div>\n",
       "<table border=\"1\" class=\"dataframe\">\n",
       "  <thead>\n",
       "    <tr style=\"text-align: right;\">\n",
       "      <th></th>\n",
       "      <th>row_id</th>\n",
       "      <th>subject_id</th>\n",
       "      <th>hadm_id</th>\n",
       "      <th>drg_type</th>\n",
       "      <th>drg_code</th>\n",
       "      <th>description</th>\n",
       "      <th>drg_severity</th>\n",
       "      <th>drg_mortality</th>\n",
       "    </tr>\n",
       "  </thead>\n",
       "  <tbody>\n",
       "    <tr>\n",
       "      <th>0</th>\n",
       "      <td>342</td>\n",
       "      <td>2491</td>\n",
       "      <td>144486</td>\n",
       "      <td>HCFA</td>\n",
       "      <td>028</td>\n",
       "      <td>TRAUMATIC STUPOR &amp; COMA, COMA &lt;1 HR AGE &gt;17 WI...</td>\n",
       "      <td>NaN</td>\n",
       "      <td>NaN</td>\n",
       "    </tr>\n",
       "    <tr>\n",
       "      <th>1</th>\n",
       "      <td>343</td>\n",
       "      <td>24958</td>\n",
       "      <td>162910</td>\n",
       "      <td>HCFA</td>\n",
       "      <td>110</td>\n",
       "      <td>MAJOR CARDIOVASCULAR PROCEDURES WITH COMPLICAT...</td>\n",
       "      <td>NaN</td>\n",
       "      <td>NaN</td>\n",
       "    </tr>\n",
       "    <tr>\n",
       "      <th>2</th>\n",
       "      <td>344</td>\n",
       "      <td>18325</td>\n",
       "      <td>153751</td>\n",
       "      <td>HCFA</td>\n",
       "      <td>390</td>\n",
       "      <td>NEONATE WITH OTHER SIGNIFICANT PROBLEMS</td>\n",
       "      <td>NaN</td>\n",
       "      <td>NaN</td>\n",
       "    </tr>\n",
       "    <tr>\n",
       "      <th>3</th>\n",
       "      <td>345</td>\n",
       "      <td>17887</td>\n",
       "      <td>182692</td>\n",
       "      <td>HCFA</td>\n",
       "      <td>014</td>\n",
       "      <td>SPECIFIC CEREBROVASCULAR DISORDERS EXCEPT TRAN...</td>\n",
       "      <td>NaN</td>\n",
       "      <td>NaN</td>\n",
       "    </tr>\n",
       "    <tr>\n",
       "      <th>4</th>\n",
       "      <td>346</td>\n",
       "      <td>11113</td>\n",
       "      <td>157980</td>\n",
       "      <td>HCFA</td>\n",
       "      <td>390</td>\n",
       "      <td>NEONATE WITH OTHER SIGNIFICANT PROBLEMS</td>\n",
       "      <td>NaN</td>\n",
       "      <td>NaN</td>\n",
       "    </tr>\n",
       "  </tbody>\n",
       "</table>\n",
       "</div>"
      ],
      "text/plain": [
       "   row_id  subject_id  hadm_id drg_type drg_code  \\\n",
       "0     342        2491   144486     HCFA      028   \n",
       "1     343       24958   162910     HCFA      110   \n",
       "2     344       18325   153751     HCFA      390   \n",
       "3     345       17887   182692     HCFA      014   \n",
       "4     346       11113   157980     HCFA      390   \n",
       "\n",
       "                                         description  drg_severity  \\\n",
       "0  TRAUMATIC STUPOR & COMA, COMA <1 HR AGE >17 WI...           NaN   \n",
       "1  MAJOR CARDIOVASCULAR PROCEDURES WITH COMPLICAT...           NaN   \n",
       "2            NEONATE WITH OTHER SIGNIFICANT PROBLEMS           NaN   \n",
       "3  SPECIFIC CEREBROVASCULAR DISORDERS EXCEPT TRAN...           NaN   \n",
       "4            NEONATE WITH OTHER SIGNIFICANT PROBLEMS           NaN   \n",
       "\n",
       "   drg_mortality  \n",
       "0            NaN  \n",
       "1            NaN  \n",
       "2            NaN  \n",
       "3            NaN  \n",
       "4            NaN  "
      ]
     },
     "execution_count": 20,
     "metadata": {},
     "output_type": "execute_result"
    }
   ],
   "source": [
    "query = \\\n",
    "\"\"\"\n",
    "SELECT * FROM drgcodes;\n",
    "\"\"\"\n",
    "drg = pd.read_sql_query(query, con)\n",
    "drg.head()"
   ]
  },
  {
   "cell_type": "code",
   "execution_count": 22,
   "metadata": {
    "collapsed": false
   },
   "outputs": [
    {
     "data": {
      "text/plain": [
       "Septicemia & Disseminated Infections                                        3854\n",
       "NORMAL NEWBORN                                                              2805\n",
       "Cardiac Valve Procedures w/o Cardiac Catheterization                        2486\n",
       "Coronary Bypass w/o Cardiac Cath Or Percutaneous Cardiac Procedure          2378\n",
       "Neonate, Bwt > 2499g, Normal Newborn Or Neonate W Other Problem             2099\n",
       "Craniotomy Except for Trauma                                                1764\n",
       "Coronary Bypass w/ Cardiac Cath Or Percutaneous Cardiac Procedure           1459\n",
       "Percutaneous Cardiovascular Procedures w/ AMI                               1387\n",
       "Intracranial Hemorrhage                                                     1377\n",
       "Heart Failure                                                               1352\n",
       "SEPTICEMIA OR SEVERE SEPSIS W/O MV 96+ HOURS W MCC                          1226\n",
       "Head Trauma w/ Coma > 1 Hr or Hemorrhage                                    1178\n",
       "PREMATURITY WITHOUT MAJOR PROBLEMS                                          1165\n",
       "NEONATES, DIED OR TRANSFERRED TO ANOTHER ACUTE CARE FACILITY                1098\n",
       "Pulmonary Edema & Respiratory Failure                                       1091\n",
       "NEONATE WITH OTHER SIGNIFICANT PROBLEMS                                     1061\n",
       "Other Pneumonia                                                             1002\n",
       "CARDIAC VALVE & OTHER MAJOR CARDIOTHORACIC PROC WITHOUT CARDIAC CATHETER     987\n",
       "Percutaneous Cardiovascular Procedures w/o AMI                               982\n",
       "Major Respiratory Infections & Inflammations                                 954\n",
       "Name: description, dtype: int64"
      ]
     },
     "execution_count": 22,
     "metadata": {},
     "output_type": "execute_result"
    }
   ],
   "source": [
    "drg['description'].value_counts().head(n = 20)"
   ]
  },
  {
   "cell_type": "markdown",
   "metadata": {},
   "source": [
    "# ESRD as a co-morbidity\n",
    "\n",
    "ESRD is actually explicitly coded for in icd-9 as [585.6](https://www.findacode.com/icd-9/585-6-end-stage-renal-disease-icd-9-code.html). The question is if pre-existing ESRD would also be coded for. "
   ]
  },
  {
   "cell_type": "markdown",
   "metadata": {},
   "source": [
    "## Coding renal disease\n",
    "\n",
    "See [this document](http://www.cmocares.org/documents/diagnostic-guidelines/chronic-kidney/chronic_kidney_disease_reporting1.pdf). We can also look at whether or not the patient was on dialysis. We can further ask how far the codes agree. \n",
    "\n",
    "## Coding pre-existing medical conditions\n",
    "\n",
    "See [this document](https://webcache.googleusercontent.com/search?q=cache:GFuYbXEXNIIJ:https://stacks.cdc.gov/view/cdc/31381/cdc_31381_DS8.pdf+&cd=9&hl=en&ct=clnk&gl=us). "
   ]
  },
  {
   "cell_type": "code",
   "execution_count": null,
   "metadata": {
    "collapsed": true
   },
   "outputs": [],
   "source": []
  }
 ],
 "metadata": {
  "anaconda-cloud": {},
  "kernelspec": {
   "display_name": "Python [Root]",
   "language": "python",
   "name": "Python [Root]"
  },
  "language_info": {
   "codemirror_mode": {
    "name": "ipython",
    "version": 3
   },
   "file_extension": ".py",
   "mimetype": "text/x-python",
   "name": "python",
   "nbconvert_exporter": "python",
   "pygments_lexer": "ipython3",
   "version": "3.5.2"
  }
 },
 "nbformat": 4,
 "nbformat_minor": 0
}
