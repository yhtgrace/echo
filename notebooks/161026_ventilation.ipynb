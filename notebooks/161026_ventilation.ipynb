{
 "cells": [
  {
   "cell_type": "code",
   "execution_count": 1,
   "metadata": {
    "collapsed": false
   },
   "outputs": [],
   "source": [
    "import numpy as np\n",
    "import pandas as pd\n",
    "import psycopg2\n",
    "\n",
    "import matplotlib.pyplot as plt\n",
    "import seaborn as sns\n",
    "\n",
    "import matplotlib.style\n",
    "matplotlib.style.use('ggplot')\n",
    "%matplotlib inline"
   ]
  },
  {
   "cell_type": "markdown",
   "metadata": {},
   "source": [
    "### Setup\n",
    "First run the queries:\n",
    "```\n",
    "mimic-code/etc/ventilation-durations.sql\n",
    "mimic-code/etc/echo-data.sql\n",
    "src/echo_icustay.sql\n",
    "```\n",
    "to generate the prerequisite tables"
   ]
  },
  {
   "cell_type": "code",
   "execution_count": 2,
   "metadata": {
    "collapsed": false
   },
   "outputs": [],
   "source": [
    "# create a database connection\n",
    "sqluser = 'mimic'\n",
    "dbname = 'mimic'\n",
    "schema_name = 'mimiciii'\n",
    "\n",
    "cur = None"
   ]
  },
  {
   "cell_type": "code",
   "execution_count": 3,
   "metadata": {
    "collapsed": false
   },
   "outputs": [],
   "source": [
    "if cur: \n",
    "    cur.close()\n",
    "    con.close()\n",
    "\n",
    "con = psycopg2.connect(dbname = dbname, user = sqluser, host='/var/run/postgresql')\n",
    "cur = con.cursor()\n",
    "cur.execute('SET search_path to ' + schema_name)"
   ]
  },
  {
   "cell_type": "code",
   "execution_count": 4,
   "metadata": {
    "collapsed": false
   },
   "outputs": [
    {
     "data": {
      "text/html": [
       "<div>\n",
       "<table border=\"1\" class=\"dataframe\">\n",
       "  <thead>\n",
       "    <tr style=\"text-align: right;\">\n",
       "      <th></th>\n",
       "      <th>icustay_id</th>\n",
       "      <th>charttime</th>\n",
       "      <th>itemid</th>\n",
       "      <th>value</th>\n",
       "    </tr>\n",
       "  </thead>\n",
       "  <tbody>\n",
       "    <tr>\n",
       "      <th>0</th>\n",
       "      <td>254478.0</td>\n",
       "      <td>2108-08-26 07:00:00</td>\n",
       "      <td>158</td>\n",
       "      <td>Done</td>\n",
       "    </tr>\n",
       "    <tr>\n",
       "      <th>1</th>\n",
       "      <td>232669.0</td>\n",
       "      <td>2104-08-08 11:00:00</td>\n",
       "      <td>158</td>\n",
       "      <td>Done</td>\n",
       "    </tr>\n",
       "    <tr>\n",
       "      <th>2</th>\n",
       "      <td>254478.0</td>\n",
       "      <td>2108-08-27 11:00:00</td>\n",
       "      <td>158</td>\n",
       "      <td>Done</td>\n",
       "    </tr>\n",
       "    <tr>\n",
       "      <th>3</th>\n",
       "      <td>220597.0</td>\n",
       "      <td>2149-11-10 17:00:00</td>\n",
       "      <td>158</td>\n",
       "      <td>Done</td>\n",
       "    </tr>\n",
       "    <tr>\n",
       "      <th>4</th>\n",
       "      <td>254478.0</td>\n",
       "      <td>2108-08-23 11:00:00</td>\n",
       "      <td>158</td>\n",
       "      <td>Done</td>\n",
       "    </tr>\n",
       "  </tbody>\n",
       "</table>\n",
       "</div>"
      ],
      "text/plain": [
       "   icustay_id           charttime  itemid value\n",
       "0    254478.0 2108-08-26 07:00:00     158  Done\n",
       "1    232669.0 2104-08-08 11:00:00     158  Done\n",
       "2    254478.0 2108-08-27 11:00:00     158  Done\n",
       "3    220597.0 2149-11-10 17:00:00     158  Done\n",
       "4    254478.0 2108-08-23 11:00:00     158  Done"
      ]
     },
     "execution_count": 4,
     "metadata": {},
     "output_type": "execute_result"
    }
   ],
   "source": [
    "query = \\\n",
    "\"\"\"\n",
    "SELECT icustay_id, charttime, itemid, value FROM chartevents\n",
    "where value is not null\n",
    "and itemid in\n",
    "(\n",
    "     640 -- extubated\n",
    "     , 648 -- speech\n",
    "     , 720 -- vent type\n",
    "     , 467 -- O2 delivery device\n",
    "     , 445, 448, 449, 450, 1340, 1486, 1600, 224687 -- minute volume\n",
    "     , 639, 654, 681, 682, 683, 684,224685,224684,224686 -- tidal volume\n",
    "     , 218,436,535,444,459,224697,224695,224696,224746,224747 -- High/Low/Peak/Mean/Neg insp force (\"RespPressure\")\n",
    "     , 221,1,1211,1655,2000,226873,224738,224419,224750,227187 -- Insp pressure\n",
    "     , 543 -- PlateauPressure\n",
    "     , 5865,5866,224707,224709,224705,224706 -- APRV pressure\n",
    "     , 60,437,505,506,686,220339,224700 -- PEEP\n",
    "     , 3459 -- high pressure relief\n",
    "     , 501,502,503,224702 -- PCV\n",
    "     , 223,667,668,669,670,671,672 -- TCPCV\n",
    "     , 157,158,1852,3398,3399,3400,3401,3402,3403,3404,8382,227809,227810 -- ETT\n",
    "     , 224701 -- PSVlevel\n",
    ")\n",
    "\n",
    "\"\"\"\n",
    "ce = pd.read_sql_query(query, con)\n",
    "#ventilation.icustay_id = ventilation.icustay_id.astype(int)\n",
    "ce.head()"
   ]
  },
  {
   "cell_type": "code",
   "execution_count": 5,
   "metadata": {
    "collapsed": false
   },
   "outputs": [
    {
     "data": {
      "text/plain": [
       "array(['Fluid Bolus', 'Other/Remarks', 'Chest Pain', 'Extubated',\n",
       "       'Cardioversion', 'OR Sent', 'OR Received', 'Dysrhythmia',\n",
       "       'Defibrillation', 'Cardiac Arrest', 'Chest Opened', 'Resp Distress',\n",
       "       'Intubated', 'NeuroAcuteChange', 'Self Extubation', 'Resp Arrest',\n",
       "       'Retroper Bleed', 'Pneumothorax', 'Trach Changed', 'Tamponade',\n",
       "       'Pacer External'], dtype=object)"
      ]
     },
     "execution_count": 5,
     "metadata": {},
     "output_type": "execute_result"
    }
   ],
   "source": [
    "ce.loc[ce.itemid == 640].value.unique()"
   ]
  },
  {
   "cell_type": "code",
   "execution_count": 6,
   "metadata": {
    "collapsed": false
   },
   "outputs": [
    {
     "data": {
      "text/plain": [
       "array(['Hi Flow Neb', 'Nasal Cannula', 'Face Tent', 'Non-Rebreather',\n",
       "       'None', 'Ventilator', 'Cannula', 'Aerosol-Cool', 'Trach Mask',\n",
       "       'Venti Mask', 'Medium Conc Mask', 'Bipap Mask', 'Other/Remarks',\n",
       "       'T-Piece', 'CPAP Mask', 'TranstrachealCat', 'Heated Neb', 'Hood',\n",
       "       'Vapotherm', 'Hut', 'Ultrasonic Neb'], dtype=object)"
      ]
     },
     "execution_count": 6,
     "metadata": {},
     "output_type": "execute_result"
    }
   ],
   "source": [
    "## CPAP mask and bipap mask are non-invasive breathing devices, but count as ventillation\n",
    "ce.loc[ce.itemid == 467].value.unique()"
   ]
  },
  {
   "cell_type": "code",
   "execution_count": 9,
   "metadata": {
    "collapsed": false
   },
   "outputs": [
    {
     "data": {
      "text/plain": [
       "array(['SIMV+PS', 'Assist Control', 'SIMV', 'CPAP+PS', 'Pressure Support',\n",
       "       'Other/Remarks', 'Pressure Control', 'CMV', 'TCPCV', 'CPAP'], dtype=object)"
      ]
     },
     "execution_count": 9,
     "metadata": {},
     "output_type": "execute_result"
    }
   ],
   "source": [
    "ce.loc[ce.itemid == 720].value.unique()"
   ]
  },
  {
   "cell_type": "code",
   "execution_count": 7,
   "metadata": {
    "collapsed": false
   },
   "outputs": [
    {
     "data": {
      "text/plain": [
       "array(['Garbled', 'Normal', 'Slurred', 'Intubated/trach', 'Aphasic',\n",
       "       'Other/Remarks', 'None', 'Mute'], dtype=object)"
      ]
     },
     "execution_count": 7,
     "metadata": {},
     "output_type": "execute_result"
    }
   ],
   "source": [
    "ce.loc[ce.itemid == 648].value.unique()"
   ]
  },
  {
   "cell_type": "code",
   "execution_count": 8,
   "metadata": {
    "collapsed": false
   },
   "outputs": [
    {
     "data": {
      "text/plain": [
       "array(['Done', '33%', '0', ..., '2132', '1419', '-39'], dtype=object)"
      ]
     },
     "execution_count": 8,
     "metadata": {},
     "output_type": "execute_result"
    }
   ],
   "source": [
    "ce.value.unique()"
   ]
  },
  {
   "cell_type": "markdown",
   "metadata": {},
   "source": [
    "### Load the ventilation durations"
   ]
  },
  {
   "cell_type": "code",
   "execution_count": 4,
   "metadata": {
    "collapsed": false,
    "scrolled": true
   },
   "outputs": [
    {
     "data": {
      "text/html": [
       "<div>\n",
       "<table border=\"1\" class=\"dataframe\">\n",
       "  <thead>\n",
       "    <tr style=\"text-align: right;\">\n",
       "      <th></th>\n",
       "      <th>icustay_id</th>\n",
       "      <th>ventnum</th>\n",
       "      <th>starttime</th>\n",
       "      <th>endtime</th>\n",
       "      <th>duration_hours</th>\n",
       "    </tr>\n",
       "  </thead>\n",
       "  <tbody>\n",
       "    <tr>\n",
       "      <th>0</th>\n",
       "      <td>200003.0</td>\n",
       "      <td>1</td>\n",
       "      <td>2199-08-03 18:00:00</td>\n",
       "      <td>2199-08-07 13:00:00</td>\n",
       "      <td>91.000000</td>\n",
       "    </tr>\n",
       "    <tr>\n",
       "      <th>1</th>\n",
       "      <td>200006.0</td>\n",
       "      <td>1</td>\n",
       "      <td>2159-09-03 13:00:00</td>\n",
       "      <td>2159-09-04 03:50:00</td>\n",
       "      <td>14.833333</td>\n",
       "    </tr>\n",
       "    <tr>\n",
       "      <th>2</th>\n",
       "      <td>200009.0</td>\n",
       "      <td>1</td>\n",
       "      <td>2189-11-30 18:10:00</td>\n",
       "      <td>2189-12-01 10:00:00</td>\n",
       "      <td>15.833333</td>\n",
       "    </tr>\n",
       "    <tr>\n",
       "      <th>3</th>\n",
       "      <td>200011.0</td>\n",
       "      <td>1</td>\n",
       "      <td>2188-08-06 01:00:00</td>\n",
       "      <td>2188-08-06 04:00:00</td>\n",
       "      <td>3.000000</td>\n",
       "    </tr>\n",
       "    <tr>\n",
       "      <th>4</th>\n",
       "      <td>200014.0</td>\n",
       "      <td>1</td>\n",
       "      <td>2105-02-16 23:15:00</td>\n",
       "      <td>2105-02-17 18:00:00</td>\n",
       "      <td>18.750000</td>\n",
       "    </tr>\n",
       "  </tbody>\n",
       "</table>\n",
       "</div>"
      ],
      "text/plain": [
       "   icustay_id  ventnum           starttime             endtime  duration_hours\n",
       "0    200003.0        1 2199-08-03 18:00:00 2199-08-07 13:00:00       91.000000\n",
       "1    200006.0        1 2159-09-03 13:00:00 2159-09-04 03:50:00       14.833333\n",
       "2    200009.0        1 2189-11-30 18:10:00 2189-12-01 10:00:00       15.833333\n",
       "3    200011.0        1 2188-08-06 01:00:00 2188-08-06 04:00:00        3.000000\n",
       "4    200014.0        1 2105-02-16 23:15:00 2105-02-17 18:00:00       18.750000"
      ]
     },
     "execution_count": 4,
     "metadata": {},
     "output_type": "execute_result"
    }
   ],
   "source": [
    "query = \\\n",
    "\"\"\"\n",
    "SELECT * FROM ventdurations;\n",
    "\"\"\"\n",
    "ventilation = pd.read_sql_query(query, con)\n",
    "#ventilation.icustay_id = ventilation.icustay_id.astype(int)\n",
    "ventilation.head()"
   ]
  },
  {
   "cell_type": "code",
   "execution_count": 5,
   "metadata": {
    "collapsed": false
   },
   "outputs": [
    {
     "data": {
      "text/plain": [
       "56"
      ]
     },
     "execution_count": 5,
     "metadata": {},
     "output_type": "execute_result"
    }
   ],
   "source": [
    "np.isnan(ventilation.icustay_id).sum()"
   ]
  },
  {
   "cell_type": "code",
   "execution_count": 6,
   "metadata": {
    "collapsed": false
   },
   "outputs": [
    {
     "data": {
      "text/html": [
       "<div>\n",
       "<table border=\"1\" class=\"dataframe\">\n",
       "  <thead>\n",
       "    <tr style=\"text-align: right;\">\n",
       "      <th></th>\n",
       "      <th>icustay_id</th>\n",
       "      <th>ventnum</th>\n",
       "      <th>starttime</th>\n",
       "      <th>endtime</th>\n",
       "      <th>duration_hours</th>\n",
       "    </tr>\n",
       "  </thead>\n",
       "  <tbody>\n",
       "    <tr>\n",
       "      <th>0</th>\n",
       "      <td>200003</td>\n",
       "      <td>1</td>\n",
       "      <td>2199-08-03 18:00:00</td>\n",
       "      <td>2199-08-07 13:00:00</td>\n",
       "      <td>91.000000</td>\n",
       "    </tr>\n",
       "    <tr>\n",
       "      <th>1</th>\n",
       "      <td>200006</td>\n",
       "      <td>1</td>\n",
       "      <td>2159-09-03 13:00:00</td>\n",
       "      <td>2159-09-04 03:50:00</td>\n",
       "      <td>14.833333</td>\n",
       "    </tr>\n",
       "    <tr>\n",
       "      <th>2</th>\n",
       "      <td>200009</td>\n",
       "      <td>1</td>\n",
       "      <td>2189-11-30 18:10:00</td>\n",
       "      <td>2189-12-01 10:00:00</td>\n",
       "      <td>15.833333</td>\n",
       "    </tr>\n",
       "    <tr>\n",
       "      <th>3</th>\n",
       "      <td>200011</td>\n",
       "      <td>1</td>\n",
       "      <td>2188-08-06 01:00:00</td>\n",
       "      <td>2188-08-06 04:00:00</td>\n",
       "      <td>3.000000</td>\n",
       "    </tr>\n",
       "    <tr>\n",
       "      <th>4</th>\n",
       "      <td>200014</td>\n",
       "      <td>1</td>\n",
       "      <td>2105-02-16 23:15:00</td>\n",
       "      <td>2105-02-17 18:00:00</td>\n",
       "      <td>18.750000</td>\n",
       "    </tr>\n",
       "  </tbody>\n",
       "</table>\n",
       "</div>"
      ],
      "text/plain": [
       "   icustay_id  ventnum           starttime             endtime  duration_hours\n",
       "0      200003        1 2199-08-03 18:00:00 2199-08-07 13:00:00       91.000000\n",
       "1      200006        1 2159-09-03 13:00:00 2159-09-04 03:50:00       14.833333\n",
       "2      200009        1 2189-11-30 18:10:00 2189-12-01 10:00:00       15.833333\n",
       "3      200011        1 2188-08-06 01:00:00 2188-08-06 04:00:00        3.000000\n",
       "4      200014        1 2105-02-16 23:15:00 2105-02-17 18:00:00       18.750000"
      ]
     },
     "execution_count": 6,
     "metadata": {},
     "output_type": "execute_result"
    }
   ],
   "source": [
    "## filter out ventilation events without an icustay id\n",
    "ventilation = ventilation.loc[~np.isnan(ventilation.icustay_id)]\n",
    "ventilation.icustay_id = ventilation.icustay_id.astype(int)\n",
    "ventilation.head()"
   ]
  },
  {
   "cell_type": "markdown",
   "metadata": {},
   "source": [
    "How many ventilation events are there?"
   ]
  },
  {
   "cell_type": "code",
   "execution_count": 7,
   "metadata": {
    "collapsed": false
   },
   "outputs": [
    {
     "data": {
      "text/plain": [
       "38365"
      ]
     },
     "execution_count": 7,
     "metadata": {},
     "output_type": "execute_result"
    }
   ],
   "source": [
    "len(ventilation)"
   ]
  },
  {
   "cell_type": "markdown",
   "metadata": {},
   "source": [
    "Are there any ICU stays with multiple ventilation events?"
   ]
  },
  {
   "cell_type": "code",
   "execution_count": 8,
   "metadata": {
    "collapsed": false,
    "scrolled": true
   },
   "outputs": [
    {
     "name": "stdout",
     "output_type": "stream",
     "text": [
      "27792\n"
     ]
    },
    {
     "data": {
      "text/plain": [
       "True"
      ]
     },
     "execution_count": 8,
     "metadata": {},
     "output_type": "execute_result"
    }
   ],
   "source": [
    "print(len(ventilation.icustay_id.unique()))\n",
    "len(ventilation.icustay_id.unique()) != len(ventilation)"
   ]
  },
  {
   "cell_type": "markdown",
   "metadata": {},
   "source": [
    "Histogram showing the distribution of the number of hours patients were on the ventilator"
   ]
  },
  {
   "cell_type": "code",
   "execution_count": 9,
   "metadata": {
    "collapsed": false
   },
   "outputs": [
    {
     "data": {
      "image/png": "[encoded data removed]",
      "text/plain": [
       "<matplotlib.figure.Figure at 0x7f0f5af78610>"
      ]
     },
     "metadata": {},
     "output_type": "display_data"
    }
   ],
   "source": [
    "ax = (ventilation.duration_hours).hist(range=(0,200), bins=20)"
   ]
  },
  {
   "cell_type": "markdown",
   "metadata": {},
   "source": [
    "### Load the ICU echos"
   ]
  },
  {
   "cell_type": "code",
   "execution_count": 10,
   "metadata": {
    "collapsed": false
   },
   "outputs": [
    {
     "data": {
      "text/html": [
       "<div>\n",
       "<table border=\"1\" class=\"dataframe\">\n",
       "  <thead>\n",
       "    <tr style=\"text-align: right;\">\n",
       "      <th></th>\n",
       "      <th>row_id</th>\n",
       "      <th>hadm_id</th>\n",
       "      <th>charttime</th>\n",
       "      <th>icustay_id</th>\n",
       "      <th>los_icu</th>\n",
       "      <th>icustay_seq</th>\n",
       "      <th>first_icu_stay</th>\n",
       "      <th>outtime</th>\n",
       "      <th>gender</th>\n",
       "      <th>subject_id</th>\n",
       "      <th>...</th>\n",
       "      <th>admittime</th>\n",
       "      <th>dischtime</th>\n",
       "      <th>ethnicity</th>\n",
       "      <th>age</th>\n",
       "      <th>diagnosis</th>\n",
       "      <th>time_to_echo</th>\n",
       "      <th>max_icustay_seq</th>\n",
       "      <th>time_filter</th>\n",
       "      <th>single_stay_filter</th>\n",
       "      <th>age_filter</th>\n",
       "    </tr>\n",
       "  </thead>\n",
       "  <tbody>\n",
       "    <tr>\n",
       "      <th>24814</th>\n",
       "      <td>83481</td>\n",
       "      <td>163557</td>\n",
       "      <td>2199-08-03 12:40:00</td>\n",
       "      <td>200003</td>\n",
       "      <td>6.0</td>\n",
       "      <td>1</td>\n",
       "      <td>Y</td>\n",
       "      <td>2199-08-08 17:09:18</td>\n",
       "      <td>M</td>\n",
       "      <td>27513</td>\n",
       "      <td>...</td>\n",
       "      <td>2199-08-02 17:02:00</td>\n",
       "      <td>2199-08-22 19:00:00</td>\n",
       "      <td>WHITE</td>\n",
       "      <td>17625 days 17:02:00</td>\n",
       "      <td>S/P RESECTION</td>\n",
       "      <td>0 days 19:38:00</td>\n",
       "      <td>1</td>\n",
       "      <td>True</td>\n",
       "      <td>True</td>\n",
       "      <td>True</td>\n",
       "    </tr>\n",
       "    <tr>\n",
       "      <th>11629</th>\n",
       "      <td>73364</td>\n",
       "      <td>129310</td>\n",
       "      <td>2109-02-19 13:40:00</td>\n",
       "      <td>200007</td>\n",
       "      <td>1.0</td>\n",
       "      <td>1</td>\n",
       "      <td>Y</td>\n",
       "      <td>2109-02-18 17:03:12</td>\n",
       "      <td>M</td>\n",
       "      <td>20707</td>\n",
       "      <td>...</td>\n",
       "      <td>2109-02-17 10:02:00</td>\n",
       "      <td>2109-02-20 15:47:00</td>\n",
       "      <td>WHITE</td>\n",
       "      <td>15818 days 10:02:00</td>\n",
       "      <td>RULE-OUT MYOCARDIAL INFARCTION</td>\n",
       "      <td>2 days 03:38:00</td>\n",
       "      <td>1</td>\n",
       "      <td>False</td>\n",
       "      <td>True</td>\n",
       "      <td>True</td>\n",
       "    </tr>\n",
       "    <tr>\n",
       "      <th>11731</th>\n",
       "      <td>99984</td>\n",
       "      <td>129607</td>\n",
       "      <td>2189-12-01 08:34:00</td>\n",
       "      <td>200009</td>\n",
       "      <td>2.0</td>\n",
       "      <td>1</td>\n",
       "      <td>Y</td>\n",
       "      <td>2189-12-02 14:17:37</td>\n",
       "      <td>F</td>\n",
       "      <td>29904</td>\n",
       "      <td>...</td>\n",
       "      <td>2189-11-30 10:45:00</td>\n",
       "      <td>2189-12-06 15:00:00</td>\n",
       "      <td>WHITE</td>\n",
       "      <td>17353 days 10:45:00</td>\n",
       "      <td>MITRAL REGURGITATION\\MITRAL VALVE REPLACEMENT,...</td>\n",
       "      <td>0 days 21:49:00</td>\n",
       "      <td>1</td>\n",
       "      <td>True</td>\n",
       "      <td>True</td>\n",
       "      <td>True</td>\n",
       "    </tr>\n",
       "    <tr>\n",
       "      <th>11730</th>\n",
       "      <td>99985</td>\n",
       "      <td>129607</td>\n",
       "      <td>2189-12-01 08:46:00</td>\n",
       "      <td>200009</td>\n",
       "      <td>2.0</td>\n",
       "      <td>1</td>\n",
       "      <td>Y</td>\n",
       "      <td>2189-12-02 14:17:37</td>\n",
       "      <td>F</td>\n",
       "      <td>29904</td>\n",
       "      <td>...</td>\n",
       "      <td>2189-11-30 10:45:00</td>\n",
       "      <td>2189-12-06 15:00:00</td>\n",
       "      <td>WHITE</td>\n",
       "      <td>17353 days 10:45:00</td>\n",
       "      <td>MITRAL REGURGITATION\\MITRAL VALVE REPLACEMENT,...</td>\n",
       "      <td>0 days 22:01:00</td>\n",
       "      <td>1</td>\n",
       "      <td>True</td>\n",
       "      <td>True</td>\n",
       "      <td>True</td>\n",
       "    </tr>\n",
       "    <tr>\n",
       "      <th>10799</th>\n",
       "      <td>71333</td>\n",
       "      <td>127229</td>\n",
       "      <td>2105-02-18 16:51:00</td>\n",
       "      <td>200014</td>\n",
       "      <td>2.0</td>\n",
       "      <td>1</td>\n",
       "      <td>Y</td>\n",
       "      <td>2105-02-18 16:53:29</td>\n",
       "      <td>M</td>\n",
       "      <td>9514</td>\n",
       "      <td>...</td>\n",
       "      <td>2105-02-16 23:15:00</td>\n",
       "      <td>2105-02-21 13:46:00</td>\n",
       "      <td>UNKNOWN/NOT SPECIFIED</td>\n",
       "      <td>30921 days 23:15:00</td>\n",
       "      <td>ABDOMINAL AORTIC ANEURYSM</td>\n",
       "      <td>1 days 17:36:00</td>\n",
       "      <td>1</td>\n",
       "      <td>True</td>\n",
       "      <td>True</td>\n",
       "      <td>True</td>\n",
       "    </tr>\n",
       "  </tbody>\n",
       "</table>\n",
       "<p>5 rows × 21 columns</p>\n",
       "</div>"
      ],
      "text/plain": [
       "       row_id  hadm_id           charttime  icustay_id  los_icu  icustay_seq  \\\n",
       "24814   83481   163557 2199-08-03 12:40:00      200003      6.0            1   \n",
       "11629   73364   129310 2109-02-19 13:40:00      200007      1.0            1   \n",
       "11731   99984   129607 2189-12-01 08:34:00      200009      2.0            1   \n",
       "11730   99985   129607 2189-12-01 08:46:00      200009      2.0            1   \n",
       "10799   71333   127229 2105-02-18 16:51:00      200014      2.0            1   \n",
       "\n",
       "      first_icu_stay             outtime gender  subject_id    ...      \\\n",
       "24814              Y 2199-08-08 17:09:18      M       27513    ...       \n",
       "11629              Y 2109-02-18 17:03:12      M       20707    ...       \n",
       "11731              Y 2189-12-02 14:17:37      F       29904    ...       \n",
       "11730              Y 2189-12-02 14:17:37      F       29904    ...       \n",
       "10799              Y 2105-02-18 16:53:29      M        9514    ...       \n",
       "\n",
       "                admittime           dischtime              ethnicity  \\\n",
       "24814 2199-08-02 17:02:00 2199-08-22 19:00:00                  WHITE   \n",
       "11629 2109-02-17 10:02:00 2109-02-20 15:47:00                  WHITE   \n",
       "11731 2189-11-30 10:45:00 2189-12-06 15:00:00                  WHITE   \n",
       "11730 2189-11-30 10:45:00 2189-12-06 15:00:00                  WHITE   \n",
       "10799 2105-02-16 23:15:00 2105-02-21 13:46:00  UNKNOWN/NOT SPECIFIED   \n",
       "\n",
       "                      age                                          diagnosis  \\\n",
       "24814 17625 days 17:02:00                                      S/P RESECTION   \n",
       "11629 15818 days 10:02:00                     RULE-OUT MYOCARDIAL INFARCTION   \n",
       "11731 17353 days 10:45:00  MITRAL REGURGITATION\\MITRAL VALVE REPLACEMENT,...   \n",
       "11730 17353 days 10:45:00  MITRAL REGURGITATION\\MITRAL VALVE REPLACEMENT,...   \n",
       "10799 30921 days 23:15:00                          ABDOMINAL AORTIC ANEURYSM   \n",
       "\n",
       "         time_to_echo  max_icustay_seq  time_filter single_stay_filter  \\\n",
       "24814 0 days 19:38:00                1         True               True   \n",
       "11629 2 days 03:38:00                1        False               True   \n",
       "11731 0 days 21:49:00                1         True               True   \n",
       "11730 0 days 22:01:00                1         True               True   \n",
       "10799 1 days 17:36:00                1         True               True   \n",
       "\n",
       "      age_filter  \n",
       "24814       True  \n",
       "11629       True  \n",
       "11731       True  \n",
       "11730       True  \n",
       "10799       True  \n",
       "\n",
       "[5 rows x 21 columns]"
      ]
     },
     "execution_count": 10,
     "metadata": {},
     "output_type": "execute_result"
    }
   ],
   "source": [
    "query = \\\n",
    "\"\"\"\n",
    "SELECT * FROM echo_icustay;\n",
    "\"\"\"\n",
    "echo_icustay = pd.read_sql_query(query, con).sort_values(by='icustay_id')\n",
    "echo_icustay.head()"
   ]
  },
  {
   "cell_type": "code",
   "execution_count": 11,
   "metadata": {
    "collapsed": false
   },
   "outputs": [
    {
     "data": {
      "text/plain": [
       "39051"
      ]
     },
     "execution_count": 11,
     "metadata": {},
     "output_type": "execute_result"
    }
   ],
   "source": [
    "len(echo_icustay)"
   ]
  },
  {
   "cell_type": "code",
   "execution_count": 12,
   "metadata": {
    "collapsed": false
   },
   "outputs": [
    {
     "data": {
      "text/plain": [
       "33904"
      ]
     },
     "execution_count": 12,
     "metadata": {},
     "output_type": "execute_result"
    }
   ],
   "source": [
    "len(echo_icustay.row_id.unique())"
   ]
  },
  {
   "cell_type": "markdown",
   "metadata": {},
   "source": [
    "### Intersect the ventilation events with the ICU echos"
   ]
  },
  {
   "cell_type": "code",
   "execution_count": 13,
   "metadata": {
    "collapsed": false
   },
   "outputs": [
    {
     "data": {
      "text/html": [
       "<div>\n",
       "<table border=\"1\" class=\"dataframe\">\n",
       "  <thead>\n",
       "    <tr style=\"text-align: right;\">\n",
       "      <th></th>\n",
       "      <th>row_id</th>\n",
       "      <th>hadm_id</th>\n",
       "      <th>charttime</th>\n",
       "      <th>icustay_id</th>\n",
       "      <th>los_icu</th>\n",
       "      <th>icustay_seq</th>\n",
       "      <th>first_icu_stay</th>\n",
       "      <th>outtime</th>\n",
       "      <th>gender</th>\n",
       "      <th>subject_id</th>\n",
       "      <th>...</th>\n",
       "      <th>diagnosis</th>\n",
       "      <th>time_to_echo</th>\n",
       "      <th>max_icustay_seq</th>\n",
       "      <th>time_filter</th>\n",
       "      <th>single_stay_filter</th>\n",
       "      <th>age_filter</th>\n",
       "      <th>ventnum</th>\n",
       "      <th>starttime</th>\n",
       "      <th>endtime</th>\n",
       "      <th>duration_hours</th>\n",
       "    </tr>\n",
       "  </thead>\n",
       "  <tbody>\n",
       "    <tr>\n",
       "      <th>0</th>\n",
       "      <td>83481</td>\n",
       "      <td>163557</td>\n",
       "      <td>2199-08-03 12:40:00</td>\n",
       "      <td>200003</td>\n",
       "      <td>6.0</td>\n",
       "      <td>1</td>\n",
       "      <td>Y</td>\n",
       "      <td>2199-08-08 17:09:18</td>\n",
       "      <td>M</td>\n",
       "      <td>27513</td>\n",
       "      <td>...</td>\n",
       "      <td>S/P RESECTION</td>\n",
       "      <td>0 days 19:38:00</td>\n",
       "      <td>1</td>\n",
       "      <td>True</td>\n",
       "      <td>True</td>\n",
       "      <td>True</td>\n",
       "      <td>1</td>\n",
       "      <td>2199-08-03 18:00:00</td>\n",
       "      <td>2199-08-07 13:00:00</td>\n",
       "      <td>91.000000</td>\n",
       "    </tr>\n",
       "    <tr>\n",
       "      <th>1</th>\n",
       "      <td>99984</td>\n",
       "      <td>129607</td>\n",
       "      <td>2189-12-01 08:34:00</td>\n",
       "      <td>200009</td>\n",
       "      <td>2.0</td>\n",
       "      <td>1</td>\n",
       "      <td>Y</td>\n",
       "      <td>2189-12-02 14:17:37</td>\n",
       "      <td>F</td>\n",
       "      <td>29904</td>\n",
       "      <td>...</td>\n",
       "      <td>MITRAL REGURGITATION\\MITRAL VALVE REPLACEMENT,...</td>\n",
       "      <td>0 days 21:49:00</td>\n",
       "      <td>1</td>\n",
       "      <td>True</td>\n",
       "      <td>True</td>\n",
       "      <td>True</td>\n",
       "      <td>1</td>\n",
       "      <td>2189-11-30 18:10:00</td>\n",
       "      <td>2189-12-01 10:00:00</td>\n",
       "      <td>15.833333</td>\n",
       "    </tr>\n",
       "    <tr>\n",
       "      <th>2</th>\n",
       "      <td>99985</td>\n",
       "      <td>129607</td>\n",
       "      <td>2189-12-01 08:46:00</td>\n",
       "      <td>200009</td>\n",
       "      <td>2.0</td>\n",
       "      <td>1</td>\n",
       "      <td>Y</td>\n",
       "      <td>2189-12-02 14:17:37</td>\n",
       "      <td>F</td>\n",
       "      <td>29904</td>\n",
       "      <td>...</td>\n",
       "      <td>MITRAL REGURGITATION\\MITRAL VALVE REPLACEMENT,...</td>\n",
       "      <td>0 days 22:01:00</td>\n",
       "      <td>1</td>\n",
       "      <td>True</td>\n",
       "      <td>True</td>\n",
       "      <td>True</td>\n",
       "      <td>1</td>\n",
       "      <td>2189-11-30 18:10:00</td>\n",
       "      <td>2189-12-01 10:00:00</td>\n",
       "      <td>15.833333</td>\n",
       "    </tr>\n",
       "    <tr>\n",
       "      <th>3</th>\n",
       "      <td>71333</td>\n",
       "      <td>127229</td>\n",
       "      <td>2105-02-18 16:51:00</td>\n",
       "      <td>200014</td>\n",
       "      <td>2.0</td>\n",
       "      <td>1</td>\n",
       "      <td>Y</td>\n",
       "      <td>2105-02-18 16:53:29</td>\n",
       "      <td>M</td>\n",
       "      <td>9514</td>\n",
       "      <td>...</td>\n",
       "      <td>ABDOMINAL AORTIC ANEURYSM</td>\n",
       "      <td>1 days 17:36:00</td>\n",
       "      <td>1</td>\n",
       "      <td>True</td>\n",
       "      <td>True</td>\n",
       "      <td>True</td>\n",
       "      <td>1</td>\n",
       "      <td>2105-02-16 23:15:00</td>\n",
       "      <td>2105-02-17 18:00:00</td>\n",
       "      <td>18.750000</td>\n",
       "    </tr>\n",
       "    <tr>\n",
       "      <th>4</th>\n",
       "      <td>77556</td>\n",
       "      <td>112486</td>\n",
       "      <td>2178-07-08 12:15:00</td>\n",
       "      <td>200019</td>\n",
       "      <td>3.0</td>\n",
       "      <td>1</td>\n",
       "      <td>Y</td>\n",
       "      <td>2178-07-11 10:28:40</td>\n",
       "      <td>F</td>\n",
       "      <td>21789</td>\n",
       "      <td>...</td>\n",
       "      <td>CEREBROVASCULAR ACCIDENT</td>\n",
       "      <td>0 days 03:13:00</td>\n",
       "      <td>1</td>\n",
       "      <td>True</td>\n",
       "      <td>True</td>\n",
       "      <td>True</td>\n",
       "      <td>1</td>\n",
       "      <td>2178-07-08 09:00:00</td>\n",
       "      <td>2178-07-09 14:00:00</td>\n",
       "      <td>29.000000</td>\n",
       "    </tr>\n",
       "  </tbody>\n",
       "</table>\n",
       "<p>5 rows × 25 columns</p>\n",
       "</div>"
      ],
      "text/plain": [
       "   row_id  hadm_id           charttime  icustay_id  los_icu  icustay_seq  \\\n",
       "0   83481   163557 2199-08-03 12:40:00      200003      6.0            1   \n",
       "1   99984   129607 2189-12-01 08:34:00      200009      2.0            1   \n",
       "2   99985   129607 2189-12-01 08:46:00      200009      2.0            1   \n",
       "3   71333   127229 2105-02-18 16:51:00      200014      2.0            1   \n",
       "4   77556   112486 2178-07-08 12:15:00      200019      3.0            1   \n",
       "\n",
       "  first_icu_stay             outtime gender  subject_id      ...        \\\n",
       "0              Y 2199-08-08 17:09:18      M       27513      ...         \n",
       "1              Y 2189-12-02 14:17:37      F       29904      ...         \n",
       "2              Y 2189-12-02 14:17:37      F       29904      ...         \n",
       "3              Y 2105-02-18 16:53:29      M        9514      ...         \n",
       "4              Y 2178-07-11 10:28:40      F       21789      ...         \n",
       "\n",
       "                                           diagnosis    time_to_echo  \\\n",
       "0                                      S/P RESECTION 0 days 19:38:00   \n",
       "1  MITRAL REGURGITATION\\MITRAL VALVE REPLACEMENT,... 0 days 21:49:00   \n",
       "2  MITRAL REGURGITATION\\MITRAL VALVE REPLACEMENT,... 0 days 22:01:00   \n",
       "3                          ABDOMINAL AORTIC ANEURYSM 1 days 17:36:00   \n",
       "4                           CEREBROVASCULAR ACCIDENT 0 days 03:13:00   \n",
       "\n",
       "  max_icustay_seq time_filter  single_stay_filter age_filter  ventnum  \\\n",
       "0               1        True                True       True        1   \n",
       "1               1        True                True       True        1   \n",
       "2               1        True                True       True        1   \n",
       "3               1        True                True       True        1   \n",
       "4               1        True                True       True        1   \n",
       "\n",
       "            starttime             endtime duration_hours  \n",
       "0 2199-08-03 18:00:00 2199-08-07 13:00:00      91.000000  \n",
       "1 2189-11-30 18:10:00 2189-12-01 10:00:00      15.833333  \n",
       "2 2189-11-30 18:10:00 2189-12-01 10:00:00      15.833333  \n",
       "3 2105-02-16 23:15:00 2105-02-17 18:00:00      18.750000  \n",
       "4 2178-07-08 09:00:00 2178-07-09 14:00:00      29.000000  \n",
       "\n",
       "[5 rows x 25 columns]"
      ]
     },
     "execution_count": 13,
     "metadata": {},
     "output_type": "execute_result"
    }
   ],
   "source": [
    "vent_echos = echo_icustay.merge(ventilation, how='inner', on='icustay_id')\n",
    "vent_echos.head()"
   ]
  },
  {
   "cell_type": "code",
   "execution_count": 14,
   "metadata": {
    "collapsed": false
   },
   "outputs": [
    {
     "data": {
      "text/html": [
       "<div>\n",
       "<table border=\"1\" class=\"dataframe\">\n",
       "  <thead>\n",
       "    <tr style=\"text-align: right;\">\n",
       "      <th></th>\n",
       "      <th>row_id</th>\n",
       "      <th>hadm_id</th>\n",
       "      <th>charttime</th>\n",
       "      <th>icustay_id</th>\n",
       "      <th>los_icu</th>\n",
       "      <th>icustay_seq</th>\n",
       "      <th>first_icu_stay</th>\n",
       "      <th>outtime</th>\n",
       "      <th>gender</th>\n",
       "      <th>subject_id</th>\n",
       "      <th>...</th>\n",
       "      <th>max_icustay_seq</th>\n",
       "      <th>time_filter</th>\n",
       "      <th>single_stay_filter</th>\n",
       "      <th>age_filter</th>\n",
       "      <th>ventnum</th>\n",
       "      <th>starttime</th>\n",
       "      <th>endtime</th>\n",
       "      <th>duration_hours</th>\n",
       "      <th>on_ventilator_during_echo</th>\n",
       "      <th>on_ventilator_anytime</th>\n",
       "    </tr>\n",
       "  </thead>\n",
       "  <tbody>\n",
       "    <tr>\n",
       "      <th>0</th>\n",
       "      <td>83481</td>\n",
       "      <td>163557</td>\n",
       "      <td>2199-08-03 12:40:00</td>\n",
       "      <td>200003</td>\n",
       "      <td>6.0</td>\n",
       "      <td>1</td>\n",
       "      <td>Y</td>\n",
       "      <td>2199-08-08 17:09:18</td>\n",
       "      <td>M</td>\n",
       "      <td>27513</td>\n",
       "      <td>...</td>\n",
       "      <td>1</td>\n",
       "      <td>True</td>\n",
       "      <td>True</td>\n",
       "      <td>True</td>\n",
       "      <td>1</td>\n",
       "      <td>2199-08-03 18:00:00</td>\n",
       "      <td>2199-08-07 13:00:00</td>\n",
       "      <td>91.000000</td>\n",
       "      <td>False</td>\n",
       "      <td>True</td>\n",
       "    </tr>\n",
       "    <tr>\n",
       "      <th>1</th>\n",
       "      <td>99984</td>\n",
       "      <td>129607</td>\n",
       "      <td>2189-12-01 08:34:00</td>\n",
       "      <td>200009</td>\n",
       "      <td>2.0</td>\n",
       "      <td>1</td>\n",
       "      <td>Y</td>\n",
       "      <td>2189-12-02 14:17:37</td>\n",
       "      <td>F</td>\n",
       "      <td>29904</td>\n",
       "      <td>...</td>\n",
       "      <td>1</td>\n",
       "      <td>True</td>\n",
       "      <td>True</td>\n",
       "      <td>True</td>\n",
       "      <td>1</td>\n",
       "      <td>2189-11-30 18:10:00</td>\n",
       "      <td>2189-12-01 10:00:00</td>\n",
       "      <td>15.833333</td>\n",
       "      <td>True</td>\n",
       "      <td>True</td>\n",
       "    </tr>\n",
       "    <tr>\n",
       "      <th>2</th>\n",
       "      <td>99985</td>\n",
       "      <td>129607</td>\n",
       "      <td>2189-12-01 08:46:00</td>\n",
       "      <td>200009</td>\n",
       "      <td>2.0</td>\n",
       "      <td>1</td>\n",
       "      <td>Y</td>\n",
       "      <td>2189-12-02 14:17:37</td>\n",
       "      <td>F</td>\n",
       "      <td>29904</td>\n",
       "      <td>...</td>\n",
       "      <td>1</td>\n",
       "      <td>True</td>\n",
       "      <td>True</td>\n",
       "      <td>True</td>\n",
       "      <td>1</td>\n",
       "      <td>2189-11-30 18:10:00</td>\n",
       "      <td>2189-12-01 10:00:00</td>\n",
       "      <td>15.833333</td>\n",
       "      <td>True</td>\n",
       "      <td>True</td>\n",
       "    </tr>\n",
       "    <tr>\n",
       "      <th>3</th>\n",
       "      <td>71333</td>\n",
       "      <td>127229</td>\n",
       "      <td>2105-02-18 16:51:00</td>\n",
       "      <td>200014</td>\n",
       "      <td>2.0</td>\n",
       "      <td>1</td>\n",
       "      <td>Y</td>\n",
       "      <td>2105-02-18 16:53:29</td>\n",
       "      <td>M</td>\n",
       "      <td>9514</td>\n",
       "      <td>...</td>\n",
       "      <td>1</td>\n",
       "      <td>True</td>\n",
       "      <td>True</td>\n",
       "      <td>True</td>\n",
       "      <td>1</td>\n",
       "      <td>2105-02-16 23:15:00</td>\n",
       "      <td>2105-02-17 18:00:00</td>\n",
       "      <td>18.750000</td>\n",
       "      <td>False</td>\n",
       "      <td>True</td>\n",
       "    </tr>\n",
       "    <tr>\n",
       "      <th>4</th>\n",
       "      <td>77556</td>\n",
       "      <td>112486</td>\n",
       "      <td>2178-07-08 12:15:00</td>\n",
       "      <td>200019</td>\n",
       "      <td>3.0</td>\n",
       "      <td>1</td>\n",
       "      <td>Y</td>\n",
       "      <td>2178-07-11 10:28:40</td>\n",
       "      <td>F</td>\n",
       "      <td>21789</td>\n",
       "      <td>...</td>\n",
       "      <td>1</td>\n",
       "      <td>True</td>\n",
       "      <td>True</td>\n",
       "      <td>True</td>\n",
       "      <td>1</td>\n",
       "      <td>2178-07-08 09:00:00</td>\n",
       "      <td>2178-07-09 14:00:00</td>\n",
       "      <td>29.000000</td>\n",
       "      <td>True</td>\n",
       "      <td>True</td>\n",
       "    </tr>\n",
       "  </tbody>\n",
       "</table>\n",
       "<p>5 rows × 27 columns</p>\n",
       "</div>"
      ],
      "text/plain": [
       "   row_id  hadm_id           charttime  icustay_id  los_icu  icustay_seq  \\\n",
       "0   83481   163557 2199-08-03 12:40:00      200003      6.0            1   \n",
       "1   99984   129607 2189-12-01 08:34:00      200009      2.0            1   \n",
       "2   99985   129607 2189-12-01 08:46:00      200009      2.0            1   \n",
       "3   71333   127229 2105-02-18 16:51:00      200014      2.0            1   \n",
       "4   77556   112486 2178-07-08 12:15:00      200019      3.0            1   \n",
       "\n",
       "  first_icu_stay             outtime gender  subject_id          ...           \\\n",
       "0              Y 2199-08-08 17:09:18      M       27513          ...            \n",
       "1              Y 2189-12-02 14:17:37      F       29904          ...            \n",
       "2              Y 2189-12-02 14:17:37      F       29904          ...            \n",
       "3              Y 2105-02-18 16:53:29      M        9514          ...            \n",
       "4              Y 2178-07-11 10:28:40      F       21789          ...            \n",
       "\n",
       "  max_icustay_seq time_filter single_stay_filter age_filter  ventnum  \\\n",
       "0               1        True               True       True        1   \n",
       "1               1        True               True       True        1   \n",
       "2               1        True               True       True        1   \n",
       "3               1        True               True       True        1   \n",
       "4               1        True               True       True        1   \n",
       "\n",
       "            starttime             endtime  duration_hours  \\\n",
       "0 2199-08-03 18:00:00 2199-08-07 13:00:00       91.000000   \n",
       "1 2189-11-30 18:10:00 2189-12-01 10:00:00       15.833333   \n",
       "2 2189-11-30 18:10:00 2189-12-01 10:00:00       15.833333   \n",
       "3 2105-02-16 23:15:00 2105-02-17 18:00:00       18.750000   \n",
       "4 2178-07-08 09:00:00 2178-07-09 14:00:00       29.000000   \n",
       "\n",
       "  on_ventilator_during_echo on_ventilator_anytime  \n",
       "0                     False                  True  \n",
       "1                      True                  True  \n",
       "2                      True                  True  \n",
       "3                     False                  True  \n",
       "4                      True                  True  \n",
       "\n",
       "[5 rows x 27 columns]"
      ]
     },
     "execution_count": 14,
     "metadata": {},
     "output_type": "execute_result"
    }
   ],
   "source": [
    "vent_echos['on_ventilator_during_echo'] = (vent_echos.starttime <= vent_echos.charttime) & (vent_echos.endtime >= vent_echos.charttime)\n",
    "vent_echos['on_ventilator_anytime'] = True\n",
    "vent_echos.head()"
   ]
  },
  {
   "cell_type": "code",
   "execution_count": 15,
   "metadata": {
    "collapsed": false
   },
   "outputs": [
    {
     "data": {
      "text/html": [
       "<div>\n",
       "<table border=\"1\" class=\"dataframe\">\n",
       "  <thead>\n",
       "    <tr style=\"text-align: right;\">\n",
       "      <th></th>\n",
       "      <th>row_id</th>\n",
       "      <th>on_ventilator_anytime</th>\n",
       "      <th>on_ventilator_during_echo</th>\n",
       "    </tr>\n",
       "  </thead>\n",
       "  <tbody>\n",
       "    <tr>\n",
       "      <th>0</th>\n",
       "      <td>59655</td>\n",
       "      <td>True</td>\n",
       "      <td>True</td>\n",
       "    </tr>\n",
       "    <tr>\n",
       "      <th>1</th>\n",
       "      <td>59657</td>\n",
       "      <td>True</td>\n",
       "      <td>True</td>\n",
       "    </tr>\n",
       "    <tr>\n",
       "      <th>2</th>\n",
       "      <td>59659</td>\n",
       "      <td>True</td>\n",
       "      <td>True</td>\n",
       "    </tr>\n",
       "    <tr>\n",
       "      <th>3</th>\n",
       "      <td>59664</td>\n",
       "      <td>True</td>\n",
       "      <td>False</td>\n",
       "    </tr>\n",
       "    <tr>\n",
       "      <th>4</th>\n",
       "      <td>59665</td>\n",
       "      <td>True</td>\n",
       "      <td>False</td>\n",
       "    </tr>\n",
       "  </tbody>\n",
       "</table>\n",
       "</div>"
      ],
      "text/plain": [
       "   row_id on_ventilator_anytime on_ventilator_during_echo\n",
       "0   59655                  True                      True\n",
       "1   59657                  True                      True\n",
       "2   59659                  True                      True\n",
       "3   59664                  True                     False\n",
       "4   59665                  True                     False"
      ]
     },
     "execution_count": 15,
     "metadata": {},
     "output_type": "execute_result"
    }
   ],
   "source": [
    "## some echos have more than one ventilation event associated with them above\n",
    "## because there can be multiple ventilation events in one icustay\n",
    "vent_echos_unique = vent_echos[['row_id', 'on_ventilator_during_echo', 'on_ventilator_anytime']].groupby('row_id').any(axis=0)\n",
    "vent_echos_unique.reset_index(inplace=True)\n",
    "vent_echos_unique.head()"
   ]
  },
  {
   "cell_type": "code",
   "execution_count": 16,
   "metadata": {
    "collapsed": false
   },
   "outputs": [
    {
     "data": {
      "text/html": [
       "<div>\n",
       "<table border=\"1\" class=\"dataframe\">\n",
       "  <thead>\n",
       "    <tr style=\"text-align: right;\">\n",
       "      <th></th>\n",
       "      <th>row_id</th>\n",
       "      <th>hadm_id</th>\n",
       "      <th>charttime</th>\n",
       "      <th>icustay_id</th>\n",
       "      <th>los_icu</th>\n",
       "      <th>icustay_seq</th>\n",
       "      <th>first_icu_stay</th>\n",
       "      <th>outtime</th>\n",
       "      <th>gender</th>\n",
       "      <th>subject_id</th>\n",
       "      <th>...</th>\n",
       "      <th>ethnicity</th>\n",
       "      <th>age</th>\n",
       "      <th>diagnosis</th>\n",
       "      <th>time_to_echo</th>\n",
       "      <th>max_icustay_seq</th>\n",
       "      <th>time_filter</th>\n",
       "      <th>single_stay_filter</th>\n",
       "      <th>age_filter</th>\n",
       "      <th>on_ventilator_anytime</th>\n",
       "      <th>on_ventilator_during_echo</th>\n",
       "    </tr>\n",
       "  </thead>\n",
       "  <tbody>\n",
       "    <tr>\n",
       "      <th>0</th>\n",
       "      <td>83481</td>\n",
       "      <td>163557</td>\n",
       "      <td>2199-08-03 12:40:00</td>\n",
       "      <td>200003</td>\n",
       "      <td>6.0</td>\n",
       "      <td>1</td>\n",
       "      <td>Y</td>\n",
       "      <td>2199-08-08 17:09:18</td>\n",
       "      <td>M</td>\n",
       "      <td>27513</td>\n",
       "      <td>...</td>\n",
       "      <td>WHITE</td>\n",
       "      <td>17625 days 17:02:00</td>\n",
       "      <td>S/P RESECTION</td>\n",
       "      <td>0 days 19:38:00</td>\n",
       "      <td>1</td>\n",
       "      <td>True</td>\n",
       "      <td>True</td>\n",
       "      <td>True</td>\n",
       "      <td>True</td>\n",
       "      <td>False</td>\n",
       "    </tr>\n",
       "    <tr>\n",
       "      <th>1</th>\n",
       "      <td>73364</td>\n",
       "      <td>129310</td>\n",
       "      <td>2109-02-19 13:40:00</td>\n",
       "      <td>200007</td>\n",
       "      <td>1.0</td>\n",
       "      <td>1</td>\n",
       "      <td>Y</td>\n",
       "      <td>2109-02-18 17:03:12</td>\n",
       "      <td>M</td>\n",
       "      <td>20707</td>\n",
       "      <td>...</td>\n",
       "      <td>WHITE</td>\n",
       "      <td>15818 days 10:02:00</td>\n",
       "      <td>RULE-OUT MYOCARDIAL INFARCTION</td>\n",
       "      <td>2 days 03:38:00</td>\n",
       "      <td>1</td>\n",
       "      <td>False</td>\n",
       "      <td>True</td>\n",
       "      <td>True</td>\n",
       "      <td>False</td>\n",
       "      <td>False</td>\n",
       "    </tr>\n",
       "    <tr>\n",
       "      <th>2</th>\n",
       "      <td>99984</td>\n",
       "      <td>129607</td>\n",
       "      <td>2189-12-01 08:34:00</td>\n",
       "      <td>200009</td>\n",
       "      <td>2.0</td>\n",
       "      <td>1</td>\n",
       "      <td>Y</td>\n",
       "      <td>2189-12-02 14:17:37</td>\n",
       "      <td>F</td>\n",
       "      <td>29904</td>\n",
       "      <td>...</td>\n",
       "      <td>WHITE</td>\n",
       "      <td>17353 days 10:45:00</td>\n",
       "      <td>MITRAL REGURGITATION\\MITRAL VALVE REPLACEMENT,...</td>\n",
       "      <td>0 days 21:49:00</td>\n",
       "      <td>1</td>\n",
       "      <td>True</td>\n",
       "      <td>True</td>\n",
       "      <td>True</td>\n",
       "      <td>True</td>\n",
       "      <td>True</td>\n",
       "    </tr>\n",
       "    <tr>\n",
       "      <th>3</th>\n",
       "      <td>99985</td>\n",
       "      <td>129607</td>\n",
       "      <td>2189-12-01 08:46:00</td>\n",
       "      <td>200009</td>\n",
       "      <td>2.0</td>\n",
       "      <td>1</td>\n",
       "      <td>Y</td>\n",
       "      <td>2189-12-02 14:17:37</td>\n",
       "      <td>F</td>\n",
       "      <td>29904</td>\n",
       "      <td>...</td>\n",
       "      <td>WHITE</td>\n",
       "      <td>17353 days 10:45:00</td>\n",
       "      <td>MITRAL REGURGITATION\\MITRAL VALVE REPLACEMENT,...</td>\n",
       "      <td>0 days 22:01:00</td>\n",
       "      <td>1</td>\n",
       "      <td>True</td>\n",
       "      <td>True</td>\n",
       "      <td>True</td>\n",
       "      <td>True</td>\n",
       "      <td>True</td>\n",
       "    </tr>\n",
       "    <tr>\n",
       "      <th>4</th>\n",
       "      <td>71333</td>\n",
       "      <td>127229</td>\n",
       "      <td>2105-02-18 16:51:00</td>\n",
       "      <td>200014</td>\n",
       "      <td>2.0</td>\n",
       "      <td>1</td>\n",
       "      <td>Y</td>\n",
       "      <td>2105-02-18 16:53:29</td>\n",
       "      <td>M</td>\n",
       "      <td>9514</td>\n",
       "      <td>...</td>\n",
       "      <td>UNKNOWN/NOT SPECIFIED</td>\n",
       "      <td>30921 days 23:15:00</td>\n",
       "      <td>ABDOMINAL AORTIC ANEURYSM</td>\n",
       "      <td>1 days 17:36:00</td>\n",
       "      <td>1</td>\n",
       "      <td>True</td>\n",
       "      <td>True</td>\n",
       "      <td>True</td>\n",
       "      <td>True</td>\n",
       "      <td>False</td>\n",
       "    </tr>\n",
       "  </tbody>\n",
       "</table>\n",
       "<p>5 rows × 23 columns</p>\n",
       "</div>"
      ],
      "text/plain": [
       "   row_id  hadm_id           charttime  icustay_id  los_icu  icustay_seq  \\\n",
       "0   83481   163557 2199-08-03 12:40:00      200003      6.0            1   \n",
       "1   73364   129310 2109-02-19 13:40:00      200007      1.0            1   \n",
       "2   99984   129607 2189-12-01 08:34:00      200009      2.0            1   \n",
       "3   99985   129607 2189-12-01 08:46:00      200009      2.0            1   \n",
       "4   71333   127229 2105-02-18 16:51:00      200014      2.0            1   \n",
       "\n",
       "  first_icu_stay             outtime gender  subject_id  \\\n",
       "0              Y 2199-08-08 17:09:18      M       27513   \n",
       "1              Y 2109-02-18 17:03:12      M       20707   \n",
       "2              Y 2189-12-02 14:17:37      F       29904   \n",
       "3              Y 2189-12-02 14:17:37      F       29904   \n",
       "4              Y 2105-02-18 16:53:29      M        9514   \n",
       "\n",
       "             ...                         ethnicity                 age  \\\n",
       "0            ...                             WHITE 17625 days 17:02:00   \n",
       "1            ...                             WHITE 15818 days 10:02:00   \n",
       "2            ...                             WHITE 17353 days 10:45:00   \n",
       "3            ...                             WHITE 17353 days 10:45:00   \n",
       "4            ...             UNKNOWN/NOT SPECIFIED 30921 days 23:15:00   \n",
       "\n",
       "                                           diagnosis    time_to_echo  \\\n",
       "0                                      S/P RESECTION 0 days 19:38:00   \n",
       "1                     RULE-OUT MYOCARDIAL INFARCTION 2 days 03:38:00   \n",
       "2  MITRAL REGURGITATION\\MITRAL VALVE REPLACEMENT,... 0 days 21:49:00   \n",
       "3  MITRAL REGURGITATION\\MITRAL VALVE REPLACEMENT,... 0 days 22:01:00   \n",
       "4                          ABDOMINAL AORTIC ANEURYSM 1 days 17:36:00   \n",
       "\n",
       "   max_icustay_seq time_filter  single_stay_filter  age_filter  \\\n",
       "0                1        True                True        True   \n",
       "1                1       False                True        True   \n",
       "2                1        True                True        True   \n",
       "3                1        True                True        True   \n",
       "4                1        True                True        True   \n",
       "\n",
       "  on_ventilator_anytime on_ventilator_during_echo  \n",
       "0                  True                     False  \n",
       "1                 False                     False  \n",
       "2                  True                      True  \n",
       "3                  True                      True  \n",
       "4                  True                     False  \n",
       "\n",
       "[5 rows x 23 columns]"
      ]
     },
     "execution_count": 16,
     "metadata": {},
     "output_type": "execute_result"
    }
   ],
   "source": [
    "echo_icustay_vent = echo_icustay.merge(vent_echos_unique\n",
    "                                      , how='left', on='row_id')\n",
    "echo_icustay_vent['on_ventilator_during_echo'].fillna(False, inplace=True)\n",
    "echo_icustay_vent['on_ventilator_anytime'].fillna(False, inplace=True)\n",
    "echo_icustay_vent.head()"
   ]
  },
  {
   "cell_type": "code",
   "execution_count": 17,
   "metadata": {
    "collapsed": false
   },
   "outputs": [
    {
     "data": {
      "text/plain": [
       "39051"
      ]
     },
     "execution_count": 17,
     "metadata": {},
     "output_type": "execute_result"
    }
   ],
   "source": [
    "len(echo_icustay_vent)"
   ]
  },
  {
   "cell_type": "markdown",
   "metadata": {},
   "source": [
    "How many ICU echos where the patient was on ventilation during the procedure?"
   ]
  },
  {
   "cell_type": "code",
   "execution_count": 18,
   "metadata": {
    "collapsed": false
   },
   "outputs": [
    {
     "data": {
      "text/plain": [
       "9156"
      ]
     },
     "execution_count": 18,
     "metadata": {},
     "output_type": "execute_result"
    }
   ],
   "source": [
    "echo_icustay_vent.on_ventilator_during_echo.sum()"
   ]
  },
  {
   "cell_type": "markdown",
   "metadata": {},
   "source": [
    "How many ICU echos where the patient was on ventilation at anytime during that ICU stay?"
   ]
  },
  {
   "cell_type": "code",
   "execution_count": 19,
   "metadata": {
    "collapsed": false,
    "scrolled": true
   },
   "outputs": [
    {
     "data": {
      "text/plain": [
       "25672"
      ]
     },
     "execution_count": 19,
     "metadata": {},
     "output_type": "execute_result"
    }
   ],
   "source": [
    "echo_icustay_vent.on_ventilator_anytime.sum()"
   ]
  },
  {
   "cell_type": "markdown",
   "metadata": {},
   "source": [
    "Apply the single stay filter first"
   ]
  },
  {
   "cell_type": "code",
   "execution_count": 20,
   "metadata": {
    "collapsed": false
   },
   "outputs": [
    {
     "name": "stdout",
     "output_type": "stream",
     "text": [
      "Total single stay echos: 25867\n",
      "Single stay echos on ventilator: 6076\n",
      "Single stay echos on ventilator anytime during ICU stay: 16178\n"
     ]
    }
   ],
   "source": [
    "echo_icustay_vent_ssfiltered = echo_icustay_vent.loc[echo_icustay_vent.single_stay_filter]\n",
    "print 'Total single stay echos:', len(echo_icustay_vent_ssfiltered)\n",
    "print 'Single stay echos on ventilator:', echo_icustay_vent_ssfiltered.on_ventilator_during_echo.sum()\n",
    "print 'Single stay echos on ventilator anytime during ICU stay:', echo_icustay_vent_ssfiltered.on_ventilator_anytime.sum()"
   ]
  },
  {
   "cell_type": "markdown",
   "metadata": {},
   "source": [
    "Also filtered by time of echo relative to ICU admission first:"
   ]
  },
  {
   "cell_type": "code",
   "execution_count": 21,
   "metadata": {
    "collapsed": false
   },
   "outputs": [
    {
     "name": "stdout",
     "output_type": "stream",
     "text": [
      "Total time filtered echos: 14369\n",
      "Time filtered echos on ventilator: 2885\n",
      "Time filtered echos on ventilator anytime during ICU stay: 8546\n"
     ]
    }
   ],
   "source": [
    "echo_icustay_vent_timefiltered = echo_icustay_vent_ssfiltered.loc[echo_icustay_vent_ssfiltered.time_filter]\n",
    "print 'Total time filtered echos:', len(echo_icustay_vent_timefiltered)\n",
    "print 'Time filtered echos on ventilator:', echo_icustay_vent_timefiltered.on_ventilator_during_echo.sum()\n",
    "print 'Time filtered echos on ventilator anytime during ICU stay:', echo_icustay_vent_timefiltered.on_ventilator_anytime.sum()"
   ]
  },
  {
   "cell_type": "markdown",
   "metadata": {},
   "source": [
    "Add in the age filter"
   ]
  },
  {
   "cell_type": "code",
   "execution_count": 23,
   "metadata": {
    "collapsed": false
   },
   "outputs": [
    {
     "name": "stdout",
     "output_type": "stream",
     "text": [
      "Total age filtered echos: 14159\n",
      "Age filtered echos on ventilator: 2791\n",
      "Age filtered echos on ventilator anytime during ICU stay: 8437\n"
     ]
    }
   ],
   "source": [
    "echo_icustay_vent_agefiltered = echo_icustay_vent_timefiltered.loc[echo_icustay_vent_timefiltered.age_filter]\n",
    "print 'Total age filtered echos:', len(echo_icustay_vent_agefiltered)\n",
    "print 'Age filtered echos on ventilator:', echo_icustay_vent_agefiltered.on_ventilator_during_echo.sum()\n",
    "print 'Age filtered echos on ventilator anytime during ICU stay:', echo_icustay_vent_agefiltered.on_ventilator_anytime.sum()"
   ]
  },
  {
   "cell_type": "markdown",
   "metadata": {},
   "source": [
    "### Verify that the query produces the same results"
   ]
  },
  {
   "cell_type": "code",
   "execution_count": null,
   "metadata": {
    "collapsed": false
   },
   "outputs": [],
   "source": [
    "query = \\\n",
    "\"\"\"\n",
    "SELECT * FROM vent_echo;\n",
    "\"\"\"\n",
    "vent_echo_flags = pd.read_sql_query(query, con)\n",
    "#ventilation.icustay_id = ventilation.icustay_id.astype(int)\n",
    "vent_echo_flags.head()"
   ]
  },
  {
   "cell_type": "code",
   "execution_count": null,
   "metadata": {
    "collapsed": true
   },
   "outputs": [],
   "source": [
    "echo_icustay_vent = echo_icustay.merge(vent_echo_flags\n",
    "                                      , how='left', on='row_id')"
   ]
  },
  {
   "cell_type": "code",
   "execution_count": null,
   "metadata": {
    "collapsed": false
   },
   "outputs": [],
   "source": [
    "len(echo_icustay_vent)"
   ]
  },
  {
   "cell_type": "markdown",
   "metadata": {},
   "source": [
    "How many ICU echos where the patient was on ventilation during the procedure?"
   ]
  },
  {
   "cell_type": "code",
   "execution_count": null,
   "metadata": {
    "collapsed": false
   },
   "outputs": [],
   "source": [
    "echo_icustay_vent.on_ventilator_during_echo.sum()"
   ]
  },
  {
   "cell_type": "markdown",
   "metadata": {},
   "source": [
    "How many ICU echos where the patient was on ventilation at anytime during that ICU stay?"
   ]
  },
  {
   "cell_type": "code",
   "execution_count": null,
   "metadata": {
    "collapsed": false,
    "scrolled": true
   },
   "outputs": [],
   "source": [
    "echo_icustay_vent.on_ventilator_anytime.sum()"
   ]
  },
  {
   "cell_type": "markdown",
   "metadata": {},
   "source": [
    "If filtered by time of echo relative to ICU admission first:"
   ]
  },
  {
   "cell_type": "code",
   "execution_count": null,
   "metadata": {
    "collapsed": false
   },
   "outputs": [],
   "source": [
    "echo_icustay_vent_timefiltered = echo_icustay_vent.loc[echo_icustay_vent.time_filter]\n",
    "print 'Total time filtered echos:', len(echo_icustay_vent_timefiltered)\n",
    "print 'Time filtered echos on ventilator:', echo_icustay_vent_timefiltered.on_ventilator_during_echo.sum()\n",
    "print 'Time filtered echos on ventilator anytime during ICU stay:', echo_icustay_vent_timefiltered.on_ventilator_anytime.sum()"
   ]
  }
 ],
 "metadata": {
  "anaconda-cloud": {},
  "kernelspec": {
   "display_name": "Python [conda env:mimiciii]",
   "language": "python",
   "name": "conda-env-mimiciii-py"
  },
  "language_info": {
   "codemirror_mode": {
    "name": "ipython",
    "version": 2
   },
   "file_extension": ".py",
   "mimetype": "text/x-python",
   "name": "python",
   "nbconvert_exporter": "python",
   "pygments_lexer": "ipython2",
   "version": "2.7.12"
  }
 },
 "nbformat": 4,
 "nbformat_minor": 1
}
