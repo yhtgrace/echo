{
 "cells": [
  {
   "cell_type": "markdown",
   "metadata": {},
   "source": [
    "Double-check the filters proposed. "
   ]
  },
  {
   "cell_type": "code",
   "execution_count": 25,
   "metadata": {
    "collapsed": true
   },
   "outputs": [],
   "source": [
    "import numpy as np\n",
    "import pandas as pd\n",
    "import psycopg2\n",
    "\n",
    "import matplotlib.pyplot as plt\n",
    "import seaborn as sns\n",
    "\n",
    "import matplotlib.style\n",
    "matplotlib.style.use('ggplot')\n",
    "%matplotlib inline"
   ]
  },
  {
   "cell_type": "code",
   "execution_count": 26,
   "metadata": {
    "collapsed": true
   },
   "outputs": [],
   "source": [
    "# create a database connection\n",
    "sqluser = 'mimic'\n",
    "dbname = 'mimic'\n",
    "schema_name = 'mimiciii'\n",
    "\n",
    "cur = None"
   ]
  },
  {
   "cell_type": "code",
   "execution_count": 111,
   "metadata": {
    "collapsed": true
   },
   "outputs": [],
   "source": [
    "if cur: \n",
    "    cur.close()\n",
    "    con.close()\n",
    "\n",
    "con = psycopg2.connect(dbname = dbname, user = sqluser)\n",
    "cur = con.cursor()\n",
    "cur.execute('SET search_path to ' + schema_name)"
   ]
  },
  {
   "cell_type": "markdown",
   "metadata": {},
   "source": [
    "Get echos that can be associated to an icustay_id. "
   ]
  },
  {
   "cell_type": "code",
   "execution_count": 73,
   "metadata": {
    "collapsed": false
   },
   "outputs": [
    {
     "data": {
      "text/plain": [
       "(25512, 7)"
      ]
     },
     "execution_count": 73,
     "metadata": {},
     "output_type": "execute_result"
    }
   ],
   "source": [
    "query = \\\n",
    "\"\"\"\n",
    "SELECT *\n",
    "FROM echo_icustay\n",
    "\"\"\"\n",
    "echos = pd.read_sql_query(query, con)\n",
    "echos.shape"
   ]
  },
  {
   "cell_type": "code",
   "execution_count": 72,
   "metadata": {
    "collapsed": false
   },
   "outputs": [
    {
     "data": {
      "text/html": [
       "<div>\n",
       "<table border=\"1\" class=\"dataframe\">\n",
       "  <thead>\n",
       "    <tr style=\"text-align: right;\">\n",
       "      <th></th>\n",
       "      <th>row_id</th>\n",
       "      <th>charttime</th>\n",
       "      <th>icustay_id</th>\n",
       "      <th>hadm_id</th>\n",
       "      <th>subject_id</th>\n",
       "      <th>intime</th>\n",
       "      <th>outtime</th>\n",
       "    </tr>\n",
       "  </thead>\n",
       "  <tbody>\n",
       "    <tr>\n",
       "      <th>0</th>\n",
       "      <td>67775</td>\n",
       "      <td>2170-11-08 12:03:00</td>\n",
       "      <td>206613</td>\n",
       "      <td>106296</td>\n",
       "      <td>269</td>\n",
       "      <td>2170-11-05 11:05:29</td>\n",
       "      <td>2170-11-08 17:46:57</td>\n",
       "    </tr>\n",
       "    <tr>\n",
       "      <th>1</th>\n",
       "      <td>73508</td>\n",
       "      <td>2186-12-25 23:54:00</td>\n",
       "      <td>210407</td>\n",
       "      <td>164716</td>\n",
       "      <td>272</td>\n",
       "      <td>2186-12-25 21:08:04</td>\n",
       "      <td>2186-12-27 12:01:13</td>\n",
       "    </tr>\n",
       "    <tr>\n",
       "      <th>2</th>\n",
       "      <td>99418</td>\n",
       "      <td>2114-07-03 11:54:00</td>\n",
       "      <td>254851</td>\n",
       "      <td>130546</td>\n",
       "      <td>274</td>\n",
       "      <td>2114-06-28 22:28:44</td>\n",
       "      <td>2114-07-07 18:01:16</td>\n",
       "    </tr>\n",
       "    <tr>\n",
       "      <th>3</th>\n",
       "      <td>75764</td>\n",
       "      <td>2164-06-15 10:26:00</td>\n",
       "      <td>204407</td>\n",
       "      <td>192224</td>\n",
       "      <td>279</td>\n",
       "      <td>2164-06-14 21:18:27</td>\n",
       "      <td>2164-06-18 22:53:12</td>\n",
       "    </tr>\n",
       "    <tr>\n",
       "      <th>4</th>\n",
       "      <td>60894</td>\n",
       "      <td>2101-10-24 09:50:00</td>\n",
       "      <td>257572</td>\n",
       "      <td>111199</td>\n",
       "      <td>281</td>\n",
       "      <td>2101-10-18 04:45:22</td>\n",
       "      <td>2101-10-25 22:29:25</td>\n",
       "    </tr>\n",
       "  </tbody>\n",
       "</table>\n",
       "</div>"
      ],
      "text/plain": [
       "   row_id           charttime  icustay_id  hadm_id  subject_id  \\\n",
       "0   67775 2170-11-08 12:03:00      206613   106296         269   \n",
       "1   73508 2186-12-25 23:54:00      210407   164716         272   \n",
       "2   99418 2114-07-03 11:54:00      254851   130546         274   \n",
       "3   75764 2164-06-15 10:26:00      204407   192224         279   \n",
       "4   60894 2101-10-24 09:50:00      257572   111199         281   \n",
       "\n",
       "               intime             outtime  \n",
       "0 2170-11-05 11:05:29 2170-11-08 17:46:57  \n",
       "1 2186-12-25 21:08:04 2186-12-27 12:01:13  \n",
       "2 2114-06-28 22:28:44 2114-07-07 18:01:16  \n",
       "3 2164-06-14 21:18:27 2164-06-18 22:53:12  \n",
       "4 2101-10-18 04:45:22 2101-10-25 22:29:25  "
      ]
     },
     "execution_count": 72,
     "metadata": {},
     "output_type": "execute_result"
    }
   ],
   "source": [
    "echos.head()"
   ]
  },
  {
   "cell_type": "code",
   "execution_count": 73,
   "metadata": {
    "collapsed": false
   },
   "outputs": [
    {
     "data": {
      "text/plain": [
       "19752"
      ]
     },
     "execution_count": 73,
     "metadata": {},
     "output_type": "execute_result"
    }
   ],
   "source": [
    "len(echos['icustay_id'].unique())"
   ]
  },
  {
   "cell_type": "code",
   "execution_count": 74,
   "metadata": {
    "collapsed": false
   },
   "outputs": [
    {
     "data": {
      "text/plain": [
       "19244"
      ]
     },
     "execution_count": 74,
     "metadata": {},
     "output_type": "execute_result"
    }
   ],
   "source": [
    "len(echos['hadm_id'].unique())"
   ]
  },
  {
   "cell_type": "code",
   "execution_count": 75,
   "metadata": {
    "collapsed": false
   },
   "outputs": [
    {
     "data": {
      "text/plain": [
       "17122"
      ]
     },
     "execution_count": 75,
     "metadata": {},
     "output_type": "execute_result"
    }
   ],
   "source": [
    "len(echos['subject_id'].unique())"
   ]
  },
  {
   "cell_type": "markdown",
   "metadata": {},
   "source": [
    "Compute variables required for filtering, namely\n",
    "+ Time of echo with respect to icustay intime\n",
    "+ Whether or not patient was on a vasopressor during the icustay\n",
    "+ Whether or not patient has an excluded diagnosis during the hospital admission\n",
    "+ Age on admission to the ICU\n",
    "\n",
    "Check the two hardest. Firstly, on whether or not the patient was on a vasopressor during the icustay: Look up prescriptions, filter for prescriptions that are vasopressors, count the number of unique icustay_ids. "
   ]
  },
  {
   "cell_type": "code",
   "execution_count": 80,
   "metadata": {
    "collapsed": false
   },
   "outputs": [
    {
     "data": {
      "text/html": [
       "<div>\n",
       "<table border=\"1\" class=\"dataframe\">\n",
       "  <thead>\n",
       "    <tr style=\"text-align: right;\">\n",
       "      <th></th>\n",
       "      <th>row_id</th>\n",
       "      <th>subject_id</th>\n",
       "      <th>hadm_id</th>\n",
       "      <th>icustay_id</th>\n",
       "      <th>startdate</th>\n",
       "      <th>enddate</th>\n",
       "      <th>drug_type</th>\n",
       "      <th>drug</th>\n",
       "      <th>drug_name_poe</th>\n",
       "      <th>drug_name_generic</th>\n",
       "      <th>formulary_drug_cd</th>\n",
       "      <th>gsn</th>\n",
       "      <th>ndc</th>\n",
       "      <th>prod_strength</th>\n",
       "      <th>dose_val_rx</th>\n",
       "      <th>dose_unit_rx</th>\n",
       "      <th>form_val_disp</th>\n",
       "      <th>form_unit_disp</th>\n",
       "      <th>route</th>\n",
       "    </tr>\n",
       "  </thead>\n",
       "  <tbody>\n",
       "    <tr>\n",
       "      <th>0</th>\n",
       "      <td>2350267</td>\n",
       "      <td>25</td>\n",
       "      <td>129635</td>\n",
       "      <td>203487</td>\n",
       "      <td>2160-11-02</td>\n",
       "      <td>2160-11-03</td>\n",
       "      <td>MAIN</td>\n",
       "      <td>Norepinephrine</td>\n",
       "      <td>None</td>\n",
       "      <td>None</td>\n",
       "      <td>LEVO4I</td>\n",
       "      <td>004939</td>\n",
       "      <td>00074144304</td>\n",
       "      <td>4MG/4ML AMP</td>\n",
       "      <td>4</td>\n",
       "      <td>mg</td>\n",
       "      <td>1</td>\n",
       "      <td>AMP</td>\n",
       "      <td>IV DRIP</td>\n",
       "    </tr>\n",
       "    <tr>\n",
       "      <th>1</th>\n",
       "      <td>1379347</td>\n",
       "      <td>21</td>\n",
       "      <td>111970</td>\n",
       "      <td>216859</td>\n",
       "      <td>2135-01-31</td>\n",
       "      <td>2135-02-06</td>\n",
       "      <td>MAIN</td>\n",
       "      <td>Norepinephrine</td>\n",
       "      <td>None</td>\n",
       "      <td>None</td>\n",
       "      <td>LEVO4I</td>\n",
       "      <td>028633</td>\n",
       "      <td>00703115303</td>\n",
       "      <td>4mg/4mL Amp</td>\n",
       "      <td>8</td>\n",
       "      <td>mg</td>\n",
       "      <td>2</td>\n",
       "      <td>AMP</td>\n",
       "      <td>IV DRIP</td>\n",
       "    </tr>\n",
       "    <tr>\n",
       "      <th>2</th>\n",
       "      <td>1379366</td>\n",
       "      <td>21</td>\n",
       "      <td>111970</td>\n",
       "      <td>216859</td>\n",
       "      <td>2135-02-05</td>\n",
       "      <td>2135-02-06</td>\n",
       "      <td>MAIN</td>\n",
       "      <td>Vasopressin</td>\n",
       "      <td>None</td>\n",
       "      <td>None</td>\n",
       "      <td>VASO20I</td>\n",
       "      <td>006611</td>\n",
       "      <td>61570042001</td>\n",
       "      <td>20U/ML VIAL</td>\n",
       "      <td>100</td>\n",
       "      <td>UNIT</td>\n",
       "      <td>5</td>\n",
       "      <td>ml</td>\n",
       "      <td>IV DRIP</td>\n",
       "    </tr>\n",
       "    <tr>\n",
       "      <th>3</th>\n",
       "      <td>1381496</td>\n",
       "      <td>36</td>\n",
       "      <td>182104</td>\n",
       "      <td>280987</td>\n",
       "      <td>2131-05-04</td>\n",
       "      <td>2131-05-04</td>\n",
       "      <td>MAIN</td>\n",
       "      <td>Phenylephrine</td>\n",
       "      <td>None</td>\n",
       "      <td>None</td>\n",
       "      <td>PHEN12SYR</td>\n",
       "      <td>005066</td>\n",
       "      <td>00409180001</td>\n",
       "      <td>12MG/50ML SYR</td>\n",
       "      <td>12</td>\n",
       "      <td>mg</td>\n",
       "      <td>1</td>\n",
       "      <td>SYR</td>\n",
       "      <td>IV DRIP</td>\n",
       "    </tr>\n",
       "    <tr>\n",
       "      <th>4</th>\n",
       "      <td>2907879</td>\n",
       "      <td>35</td>\n",
       "      <td>166707</td>\n",
       "      <td>282039</td>\n",
       "      <td>2122-02-10</td>\n",
       "      <td>2122-02-11</td>\n",
       "      <td>MAIN</td>\n",
       "      <td>Phenylephrine</td>\n",
       "      <td>None</td>\n",
       "      <td>None</td>\n",
       "      <td>PHEN12SYR</td>\n",
       "      <td>005066</td>\n",
       "      <td>00409180001</td>\n",
       "      <td>12MG/50ML SYR</td>\n",
       "      <td>12</td>\n",
       "      <td>mg</td>\n",
       "      <td>1</td>\n",
       "      <td>SYR</td>\n",
       "      <td>IV DRIP</td>\n",
       "    </tr>\n",
       "  </tbody>\n",
       "</table>\n",
       "</div>"
      ],
      "text/plain": [
       "    row_id  subject_id  hadm_id  icustay_id  startdate    enddate drug_type  \\\n",
       "0  2350267          25   129635      203487 2160-11-02 2160-11-03      MAIN   \n",
       "1  1379347          21   111970      216859 2135-01-31 2135-02-06      MAIN   \n",
       "2  1379366          21   111970      216859 2135-02-05 2135-02-06      MAIN   \n",
       "3  1381496          36   182104      280987 2131-05-04 2131-05-04      MAIN   \n",
       "4  2907879          35   166707      282039 2122-02-10 2122-02-11      MAIN   \n",
       "\n",
       "             drug drug_name_poe drug_name_generic formulary_drug_cd     gsn  \\\n",
       "0  Norepinephrine          None              None            LEVO4I  004939   \n",
       "1  Norepinephrine          None              None            LEVO4I  028633   \n",
       "2     Vasopressin          None              None           VASO20I  006611   \n",
       "3   Phenylephrine          None              None         PHEN12SYR  005066   \n",
       "4   Phenylephrine          None              None         PHEN12SYR  005066   \n",
       "\n",
       "           ndc  prod_strength dose_val_rx dose_unit_rx form_val_disp  \\\n",
       "0  00074144304    4MG/4ML AMP           4           mg             1   \n",
       "1  00703115303    4mg/4mL Amp           8           mg             2   \n",
       "2  61570042001    20U/ML VIAL         100         UNIT             5   \n",
       "3  00409180001  12MG/50ML SYR          12           mg             1   \n",
       "4  00409180001  12MG/50ML SYR          12           mg             1   \n",
       "\n",
       "  form_unit_disp    route  \n",
       "0            AMP  IV DRIP  \n",
       "1            AMP  IV DRIP  \n",
       "2             ml  IV DRIP  \n",
       "3            SYR  IV DRIP  \n",
       "4            SYR  IV DRIP  "
      ]
     },
     "execution_count": 80,
     "metadata": {},
     "output_type": "execute_result"
    }
   ],
   "source": [
    "query = \\\n",
    "\"\"\"\n",
    "SELECT ps.* FROM prescriptions ps\n",
    "INNER JOIN d_prescriptions_vaso dpv\n",
    "ON (ps.drug IS NOT DISTINCT FROM dpv.drug\n",
    "    AND ps.drug_name_poe IS NOT DISTINCT FROM dpv.drug_name_poe\n",
    "    AND ps.drug_name_generic IS NOT DISTINCT FROM dpv.drug_name_generic\n",
    "    AND ps.route IS NOT DISTINCT FROM dpv.route)\n",
    "INNER JOIN echo_icustay ei\n",
    "ON ps.icustay_id = ei.icustay_id\n",
    ";\n",
    "\"\"\"\n",
    "ps = pd.read_sql_query(query, con)\n",
    "ps.head()"
   ]
  },
  {
   "cell_type": "code",
   "execution_count": 87,
   "metadata": {
    "collapsed": false
   },
   "outputs": [
    {
     "data": {
      "text/plain": [
       "8425"
      ]
     },
     "execution_count": 87,
     "metadata": {},
     "output_type": "execute_result"
    }
   ],
   "source": [
    "len(ps['icustay_id'].unique())"
   ]
  },
  {
   "cell_type": "code",
   "execution_count": 74,
   "metadata": {
    "collapsed": false
   },
   "outputs": [
    {
     "data": {
      "text/html": [
       "<div>\n",
       "<table border=\"1\" class=\"dataframe\">\n",
       "  <thead>\n",
       "    <tr style=\"text-align: right;\">\n",
       "      <th></th>\n",
       "      <th>row_id</th>\n",
       "      <th>charttime</th>\n",
       "      <th>icustay_id</th>\n",
       "      <th>hadm_id</th>\n",
       "      <th>subject_id</th>\n",
       "      <th>intime</th>\n",
       "      <th>outtime</th>\n",
       "      <th>intime_to_echo</th>\n",
       "      <th>echo_to_outtime</th>\n",
       "      <th>ps_vaso</th>\n",
       "      <th>diag_xc</th>\n",
       "      <th>age_at_intime</th>\n",
       "      <th>after_rowid</th>\n",
       "      <th>before_rowid</th>\n",
       "      <th>op_to_icu</th>\n",
       "      <th>icu_to_op</th>\n",
       "      <th>time_filter</th>\n",
       "      <th>age_filter</th>\n",
       "    </tr>\n",
       "  </thead>\n",
       "  <tbody>\n",
       "    <tr>\n",
       "      <th>0</th>\n",
       "      <td>67775</td>\n",
       "      <td>2170-11-08 12:03:00</td>\n",
       "      <td>206613</td>\n",
       "      <td>106296</td>\n",
       "      <td>269</td>\n",
       "      <td>2170-11-05 11:05:29</td>\n",
       "      <td>2170-11-08 17:46:57</td>\n",
       "      <td>3 days 00:57:31</td>\n",
       "      <td>0 days 05:43:57</td>\n",
       "      <td>True</td>\n",
       "      <td>True</td>\n",
       "      <td>14635 days 11:05:29</td>\n",
       "      <td>NaN</td>\n",
       "      <td>NaN</td>\n",
       "      <td>NaT</td>\n",
       "      <td>NaT</td>\n",
       "      <td>False</td>\n",
       "      <td>True</td>\n",
       "    </tr>\n",
       "    <tr>\n",
       "      <th>1</th>\n",
       "      <td>73508</td>\n",
       "      <td>2186-12-25 23:54:00</td>\n",
       "      <td>210407</td>\n",
       "      <td>164716</td>\n",
       "      <td>272</td>\n",
       "      <td>2186-12-25 21:08:04</td>\n",
       "      <td>2186-12-27 12:01:13</td>\n",
       "      <td>0 days 02:45:56</td>\n",
       "      <td>1 days 12:07:13</td>\n",
       "      <td>False</td>\n",
       "      <td>True</td>\n",
       "      <td>24489 days 21:08:04</td>\n",
       "      <td>NaN</td>\n",
       "      <td>NaN</td>\n",
       "      <td>NaT</td>\n",
       "      <td>NaT</td>\n",
       "      <td>True</td>\n",
       "      <td>True</td>\n",
       "    </tr>\n",
       "    <tr>\n",
       "      <th>2</th>\n",
       "      <td>99418</td>\n",
       "      <td>2114-07-03 11:54:00</td>\n",
       "      <td>254851</td>\n",
       "      <td>130546</td>\n",
       "      <td>274</td>\n",
       "      <td>2114-06-28 22:28:44</td>\n",
       "      <td>2114-07-07 18:01:16</td>\n",
       "      <td>4 days 13:25:16</td>\n",
       "      <td>4 days 06:07:16</td>\n",
       "      <td>False</td>\n",
       "      <td>True</td>\n",
       "      <td>24130 days 22:28:44</td>\n",
       "      <td>NaN</td>\n",
       "      <td>NaN</td>\n",
       "      <td>NaT</td>\n",
       "      <td>NaT</td>\n",
       "      <td>False</td>\n",
       "      <td>True</td>\n",
       "    </tr>\n",
       "    <tr>\n",
       "      <th>3</th>\n",
       "      <td>75764</td>\n",
       "      <td>2164-06-15 10:26:00</td>\n",
       "      <td>204407</td>\n",
       "      <td>192224</td>\n",
       "      <td>279</td>\n",
       "      <td>2164-06-14 21:18:27</td>\n",
       "      <td>2164-06-18 22:53:12</td>\n",
       "      <td>0 days 13:07:33</td>\n",
       "      <td>3 days 12:27:12</td>\n",
       "      <td>True</td>\n",
       "      <td>False</td>\n",
       "      <td>27115 days 21:18:27</td>\n",
       "      <td>NaN</td>\n",
       "      <td>NaN</td>\n",
       "      <td>NaT</td>\n",
       "      <td>NaT</td>\n",
       "      <td>True</td>\n",
       "      <td>True</td>\n",
       "    </tr>\n",
       "    <tr>\n",
       "      <th>4</th>\n",
       "      <td>60894</td>\n",
       "      <td>2101-10-24 09:50:00</td>\n",
       "      <td>257572</td>\n",
       "      <td>111199</td>\n",
       "      <td>281</td>\n",
       "      <td>2101-10-18 04:45:22</td>\n",
       "      <td>2101-10-25 22:29:25</td>\n",
       "      <td>6 days 05:04:38</td>\n",
       "      <td>1 days 12:39:25</td>\n",
       "      <td>False</td>\n",
       "      <td>True</td>\n",
       "      <td>21906 days 04:45:22</td>\n",
       "      <td>NaN</td>\n",
       "      <td>NaN</td>\n",
       "      <td>NaT</td>\n",
       "      <td>NaT</td>\n",
       "      <td>False</td>\n",
       "      <td>True</td>\n",
       "    </tr>\n",
       "  </tbody>\n",
       "</table>\n",
       "</div>"
      ],
      "text/plain": [
       "   row_id           charttime  icustay_id  hadm_id  subject_id  \\\n",
       "0   67775 2170-11-08 12:03:00      206613   106296         269   \n",
       "1   73508 2186-12-25 23:54:00      210407   164716         272   \n",
       "2   99418 2114-07-03 11:54:00      254851   130546         274   \n",
       "3   75764 2164-06-15 10:26:00      204407   192224         279   \n",
       "4   60894 2101-10-24 09:50:00      257572   111199         281   \n",
       "\n",
       "               intime             outtime  intime_to_echo  echo_to_outtime  \\\n",
       "0 2170-11-05 11:05:29 2170-11-08 17:46:57 3 days 00:57:31  0 days 05:43:57   \n",
       "1 2186-12-25 21:08:04 2186-12-27 12:01:13 0 days 02:45:56  1 days 12:07:13   \n",
       "2 2114-06-28 22:28:44 2114-07-07 18:01:16 4 days 13:25:16  4 days 06:07:16   \n",
       "3 2164-06-14 21:18:27 2164-06-18 22:53:12 0 days 13:07:33  3 days 12:27:12   \n",
       "4 2101-10-18 04:45:22 2101-10-25 22:29:25 6 days 05:04:38  1 days 12:39:25   \n",
       "\n",
       "  ps_vaso diag_xc       age_at_intime  after_rowid  before_rowid  op_to_icu  \\\n",
       "0    True    True 14635 days 11:05:29          NaN           NaN        NaT   \n",
       "1   False    True 24489 days 21:08:04          NaN           NaN        NaT   \n",
       "2   False    True 24130 days 22:28:44          NaN           NaN        NaT   \n",
       "3    True   False 27115 days 21:18:27          NaN           NaN        NaT   \n",
       "4   False    True 21906 days 04:45:22          NaN           NaN        NaT   \n",
       "\n",
       "   icu_to_op time_filter age_filter  \n",
       "0        NaT       False       True  \n",
       "1        NaT        True       True  \n",
       "2        NaT       False       True  \n",
       "3        NaT        True       True  \n",
       "4        NaT       False       True  "
      ]
     },
     "execution_count": 74,
     "metadata": {},
     "output_type": "execute_result"
    }
   ],
   "source": [
    "query = \\\n",
    "\"\"\"\n",
    "SELECT * FROM echo_filter_vars\n",
    "\"\"\"\n",
    "efv = pd.read_sql_query(query, con)\n",
    "efv.head()"
   ]
  },
  {
   "cell_type": "markdown",
   "metadata": {},
   "source": [
    "Ok. The numbers agree now. This is the number of icustays associated with ps_vaso. "
   ]
  },
  {
   "cell_type": "code",
   "execution_count": 75,
   "metadata": {
    "collapsed": false
   },
   "outputs": [
    {
     "data": {
      "text/plain": [
       "8425"
      ]
     },
     "execution_count": 75,
     "metadata": {},
     "output_type": "execute_result"
    }
   ],
   "source": [
    "len(efv.loc[efv['ps_vaso'], 'icustay_id'].unique())"
   ]
  },
  {
   "cell_type": "code",
   "execution_count": 76,
   "metadata": {
    "collapsed": false
   },
   "outputs": [
    {
     "data": {
      "text/plain": [
       "8318"
      ]
     },
     "execution_count": 76,
     "metadata": {},
     "output_type": "execute_result"
    }
   ],
   "source": [
    "len(efv.loc[efv['ps_vaso'], 'hadm_id'].unique())"
   ]
  },
  {
   "cell_type": "code",
   "execution_count": 77,
   "metadata": {
    "collapsed": false
   },
   "outputs": [
    {
     "data": {
      "text/plain": [
       "7897"
      ]
     },
     "execution_count": 77,
     "metadata": {},
     "output_type": "execute_result"
    }
   ],
   "source": [
    "len(efv.loc[efv['ps_vaso'], 'subject_id'].unique())"
   ]
  },
  {
   "cell_type": "markdown",
   "metadata": {},
   "source": [
    "Also, check whether or not the patient has an excluded diagnosis. To do that, get the list of diagnoses to be excluded, filter the list of diagnoses actually to be excluded. "
   ]
  },
  {
   "cell_type": "code",
   "execution_count": 98,
   "metadata": {
    "collapsed": false
   },
   "outputs": [
    {
     "data": {
      "text/html": [
       "<div>\n",
       "<table border=\"1\" class=\"dataframe\">\n",
       "  <thead>\n",
       "    <tr style=\"text-align: right;\">\n",
       "      <th></th>\n",
       "      <th>icd9_code</th>\n",
       "      <th>short_title</th>\n",
       "      <th>long_title</th>\n",
       "      <th>k_card</th>\n",
       "      <th>k_heart</th>\n",
       "      <th>k_hemorrhag</th>\n",
       "      <th>k_bleed</th>\n",
       "      <th>k_embolism</th>\n",
       "      <th>k_shock</th>\n",
       "      <th>k_clot</th>\n",
       "      <th>num</th>\n",
       "      <th>exclude</th>\n",
       "      <th>comments</th>\n",
       "    </tr>\n",
       "  </thead>\n",
       "  <tbody>\n",
       "    <tr>\n",
       "      <th>0</th>\n",
       "      <td>3641</td>\n",
       "      <td>Meningococc pericarditis</td>\n",
       "      <td>Meningococcal pericarditis</td>\n",
       "      <td>1</td>\n",
       "      <td>0</td>\n",
       "      <td>0</td>\n",
       "      <td>0</td>\n",
       "      <td>0</td>\n",
       "      <td>0</td>\n",
       "      <td>0</td>\n",
       "      <td>11</td>\n",
       "      <td>1</td>\n",
       "      <td>None</td>\n",
       "    </tr>\n",
       "    <tr>\n",
       "      <th>1</th>\n",
       "      <td>4082</td>\n",
       "      <td>Toxic shock syndrome</td>\n",
       "      <td>Toxic shock syndrome</td>\n",
       "      <td>0</td>\n",
       "      <td>0</td>\n",
       "      <td>0</td>\n",
       "      <td>0</td>\n",
       "      <td>0</td>\n",
       "      <td>1</td>\n",
       "      <td>0</td>\n",
       "      <td>25</td>\n",
       "      <td>0</td>\n",
       "      <td>None</td>\n",
       "    </tr>\n",
       "    <tr>\n",
       "      <th>2</th>\n",
       "      <td>521</td>\n",
       "      <td>Varicella pneumonitis</td>\n",
       "      <td>Varicella (hemorrhagic) pneumonitis</td>\n",
       "      <td>0</td>\n",
       "      <td>0</td>\n",
       "      <td>1</td>\n",
       "      <td>0</td>\n",
       "      <td>0</td>\n",
       "      <td>0</td>\n",
       "      <td>0</td>\n",
       "      <td>4</td>\n",
       "      <td>1</td>\n",
       "      <td>None</td>\n",
       "    </tr>\n",
       "    <tr>\n",
       "      <th>3</th>\n",
       "      <td>860</td>\n",
       "      <td>Chagas disease of heart</td>\n",
       "      <td>Chagas' disease with heart involvement</td>\n",
       "      <td>0</td>\n",
       "      <td>1</td>\n",
       "      <td>0</td>\n",
       "      <td>0</td>\n",
       "      <td>0</td>\n",
       "      <td>0</td>\n",
       "      <td>0</td>\n",
       "      <td>1</td>\n",
       "      <td>1</td>\n",
       "      <td>None</td>\n",
       "    </tr>\n",
       "    <tr>\n",
       "      <th>4</th>\n",
       "      <td>11281</td>\n",
       "      <td>Candidal endocarditis</td>\n",
       "      <td>Candidal endocarditis</td>\n",
       "      <td>1</td>\n",
       "      <td>0</td>\n",
       "      <td>0</td>\n",
       "      <td>0</td>\n",
       "      <td>0</td>\n",
       "      <td>0</td>\n",
       "      <td>0</td>\n",
       "      <td>6</td>\n",
       "      <td>1</td>\n",
       "      <td>None</td>\n",
       "    </tr>\n",
       "  </tbody>\n",
       "</table>\n",
       "</div>"
      ],
      "text/plain": [
       "  icd9_code               short_title                              long_title  \\\n",
       "0      3641  Meningococc pericarditis              Meningococcal pericarditis   \n",
       "1      4082      Toxic shock syndrome                    Toxic shock syndrome   \n",
       "2       521     Varicella pneumonitis     Varicella (hemorrhagic) pneumonitis   \n",
       "3       860   Chagas disease of heart  Chagas' disease with heart involvement   \n",
       "4     11281     Candidal endocarditis                   Candidal endocarditis   \n",
       "\n",
       "   k_card  k_heart  k_hemorrhag  k_bleed  k_embolism  k_shock  k_clot  num  \\\n",
       "0       1        0            0        0           0        0       0   11   \n",
       "1       0        0            0        0           0        1       0   25   \n",
       "2       0        0            1        0           0        0       0    4   \n",
       "3       0        1            0        0           0        0       0    1   \n",
       "4       1        0            0        0           0        0       0    6   \n",
       "\n",
       "   exclude comments  \n",
       "0        1     None  \n",
       "1        0     None  \n",
       "2        1     None  \n",
       "3        1     None  \n",
       "4        1     None  "
      ]
     },
     "execution_count": 98,
     "metadata": {},
     "output_type": "execute_result"
    }
   ],
   "source": [
    "query = \\\n",
    "\"\"\"\n",
    "SELECT * FROM d_diagnoses_xc_annot\n",
    "\"\"\"\n",
    "dxc = pd.read_sql_query(query, con)\n",
    "dxc.head()"
   ]
  },
  {
   "cell_type": "code",
   "execution_count": 99,
   "metadata": {
    "collapsed": false
   },
   "outputs": [],
   "source": [
    "dxc_icd9s = set(dxc.loc[dxc['exclude'] == 1, 'icd9_code'].unique())"
   ]
  },
  {
   "cell_type": "code",
   "execution_count": 100,
   "metadata": {
    "collapsed": false
   },
   "outputs": [
    {
     "data": {
      "text/html": [
       "<div>\n",
       "<table border=\"1\" class=\"dataframe\">\n",
       "  <thead>\n",
       "    <tr style=\"text-align: right;\">\n",
       "      <th></th>\n",
       "      <th>row_id</th>\n",
       "      <th>subject_id</th>\n",
       "      <th>hadm_id</th>\n",
       "      <th>seq_num</th>\n",
       "      <th>icd9_code</th>\n",
       "    </tr>\n",
       "  </thead>\n",
       "  <tbody>\n",
       "    <tr>\n",
       "      <th>0</th>\n",
       "      <td>1297</td>\n",
       "      <td>109</td>\n",
       "      <td>172335</td>\n",
       "      <td>1.0</td>\n",
       "      <td>40301</td>\n",
       "    </tr>\n",
       "    <tr>\n",
       "      <th>1</th>\n",
       "      <td>1298</td>\n",
       "      <td>109</td>\n",
       "      <td>172335</td>\n",
       "      <td>2.0</td>\n",
       "      <td>486</td>\n",
       "    </tr>\n",
       "    <tr>\n",
       "      <th>2</th>\n",
       "      <td>1299</td>\n",
       "      <td>109</td>\n",
       "      <td>172335</td>\n",
       "      <td>3.0</td>\n",
       "      <td>58281</td>\n",
       "    </tr>\n",
       "    <tr>\n",
       "      <th>3</th>\n",
       "      <td>1300</td>\n",
       "      <td>109</td>\n",
       "      <td>172335</td>\n",
       "      <td>4.0</td>\n",
       "      <td>5855</td>\n",
       "    </tr>\n",
       "    <tr>\n",
       "      <th>4</th>\n",
       "      <td>1301</td>\n",
       "      <td>109</td>\n",
       "      <td>172335</td>\n",
       "      <td>5.0</td>\n",
       "      <td>4254</td>\n",
       "    </tr>\n",
       "  </tbody>\n",
       "</table>\n",
       "</div>"
      ],
      "text/plain": [
       "   row_id  subject_id  hadm_id  seq_num icd9_code\n",
       "0    1297         109   172335      1.0     40301\n",
       "1    1298         109   172335      2.0       486\n",
       "2    1299         109   172335      3.0     58281\n",
       "3    1300         109   172335      4.0      5855\n",
       "4    1301         109   172335      5.0      4254"
      ]
     },
     "execution_count": 100,
     "metadata": {},
     "output_type": "execute_result"
    }
   ],
   "source": [
    "query = \\\n",
    "\"\"\"\n",
    "SELECT * FROM DIAGNOSES_ICD\n",
    "\"\"\"\n",
    "dg = pd.read_sql_query(query, con)\n",
    "dg.head()"
   ]
  },
  {
   "cell_type": "code",
   "execution_count": 101,
   "metadata": {
    "collapsed": false
   },
   "outputs": [
    {
     "data": {
      "text/html": [
       "<div>\n",
       "<table border=\"1\" class=\"dataframe\">\n",
       "  <thead>\n",
       "    <tr style=\"text-align: right;\">\n",
       "      <th></th>\n",
       "      <th>row_id</th>\n",
       "      <th>subject_id</th>\n",
       "      <th>hadm_id</th>\n",
       "      <th>seq_num</th>\n",
       "      <th>icd9_code</th>\n",
       "    </tr>\n",
       "  </thead>\n",
       "  <tbody>\n",
       "    <tr>\n",
       "      <th>4</th>\n",
       "      <td>1301</td>\n",
       "      <td>109</td>\n",
       "      <td>172335</td>\n",
       "      <td>5.0</td>\n",
       "      <td>4254</td>\n",
       "    </tr>\n",
       "    <tr>\n",
       "      <th>28</th>\n",
       "      <td>1488</td>\n",
       "      <td>112</td>\n",
       "      <td>174105</td>\n",
       "      <td>1.0</td>\n",
       "      <td>53100</td>\n",
       "    </tr>\n",
       "    <tr>\n",
       "      <th>29</th>\n",
       "      <td>1489</td>\n",
       "      <td>112</td>\n",
       "      <td>174105</td>\n",
       "      <td>2.0</td>\n",
       "      <td>41071</td>\n",
       "    </tr>\n",
       "    <tr>\n",
       "      <th>51</th>\n",
       "      <td>1511</td>\n",
       "      <td>115</td>\n",
       "      <td>114585</td>\n",
       "      <td>10.0</td>\n",
       "      <td>4280</td>\n",
       "    </tr>\n",
       "    <tr>\n",
       "      <th>67</th>\n",
       "      <td>1527</td>\n",
       "      <td>117</td>\n",
       "      <td>140784</td>\n",
       "      <td>5.0</td>\n",
       "      <td>4280</td>\n",
       "    </tr>\n",
       "  </tbody>\n",
       "</table>\n",
       "</div>"
      ],
      "text/plain": [
       "    row_id  subject_id  hadm_id  seq_num icd9_code\n",
       "4     1301         109   172335      5.0      4254\n",
       "28    1488         112   174105      1.0     53100\n",
       "29    1489         112   174105      2.0     41071\n",
       "51    1511         115   114585     10.0      4280\n",
       "67    1527         117   140784      5.0      4280"
      ]
     },
     "execution_count": 101,
     "metadata": {},
     "output_type": "execute_result"
    }
   ],
   "source": [
    "dg_ = dg.loc[dg['icd9_code'].apply(lambda d: d in dxc_icd9s)]\n",
    "dg_.head()"
   ]
  },
  {
   "cell_type": "code",
   "execution_count": 104,
   "metadata": {
    "collapsed": false
   },
   "outputs": [
    {
     "data": {
      "text/plain": [
       "14125"
      ]
     },
     "execution_count": 104,
     "metadata": {},
     "output_type": "execute_result"
    }
   ],
   "source": [
    "len(set(dg_['hadm_id'].unique()) & set(echos['hadm_id']))"
   ]
  },
  {
   "cell_type": "code",
   "execution_count": 78,
   "metadata": {
    "collapsed": false
   },
   "outputs": [
    {
     "data": {
      "text/plain": [
       "14586"
      ]
     },
     "execution_count": 78,
     "metadata": {},
     "output_type": "execute_result"
    }
   ],
   "source": [
    "len(efv.loc[efv['diag_xc'], 'icustay_id'].unique())"
   ]
  },
  {
   "cell_type": "code",
   "execution_count": 79,
   "metadata": {
    "collapsed": false
   },
   "outputs": [
    {
     "data": {
      "text/plain": [
       "14125"
      ]
     },
     "execution_count": 79,
     "metadata": {},
     "output_type": "execute_result"
    }
   ],
   "source": [
    "len(efv.loc[efv['diag_xc'], 'hadm_id'].unique())"
   ]
  },
  {
   "cell_type": "code",
   "execution_count": 80,
   "metadata": {
    "collapsed": false
   },
   "outputs": [
    {
     "data": {
      "text/plain": [
       "12587"
      ]
     },
     "execution_count": 80,
     "metadata": {},
     "output_type": "execute_result"
    }
   ],
   "source": [
    "len(efv.loc[efv['diag_xc'], 'subject_id'].unique())"
   ]
  },
  {
   "cell_type": "markdown",
   "metadata": {},
   "source": [
    "Ok. I think it agrees. Summarize in spreadsheet with the various filters on. "
   ]
  },
  {
   "cell_type": "code",
   "execution_count": 81,
   "metadata": {
    "collapsed": false
   },
   "outputs": [
    {
     "data": {
      "text/plain": [
       "2328"
      ]
     },
     "execution_count": 81,
     "metadata": {},
     "output_type": "execute_result"
    }
   ],
   "source": [
    "len(efv.loc[efv['ps_vaso'] & ~efv['diag_xc'], 'icustay_id'].unique())"
   ]
  },
  {
   "cell_type": "code",
   "execution_count": 82,
   "metadata": {
    "collapsed": false
   },
   "outputs": [
    {
     "data": {
      "text/plain": [
       "2315"
      ]
     },
     "execution_count": 82,
     "metadata": {},
     "output_type": "execute_result"
    }
   ],
   "source": [
    "len(efv.loc[efv['ps_vaso'] & ~efv['diag_xc'], 'hadm_id'].unique())"
   ]
  },
  {
   "cell_type": "code",
   "execution_count": 83,
   "metadata": {
    "collapsed": false
   },
   "outputs": [
    {
     "data": {
      "text/plain": [
       "2277"
      ]
     },
     "execution_count": 83,
     "metadata": {},
     "output_type": "execute_result"
    }
   ],
   "source": [
    "len(efv.loc[efv['ps_vaso'] & ~efv['diag_xc'], 'subject_id'].unique())"
   ]
  },
  {
   "cell_type": "markdown",
   "metadata": {},
   "source": [
    "Time filter"
   ]
  },
  {
   "cell_type": "code",
   "execution_count": 84,
   "metadata": {
    "collapsed": false
   },
   "outputs": [
    {
     "data": {
      "text/plain": [
       "16467"
      ]
     },
     "execution_count": 84,
     "metadata": {},
     "output_type": "execute_result"
    }
   ],
   "source": [
    "time_filter = (efv['intime_to_echo'] > pd.Timedelta('-8 hours')) & (efv['intime_to_echo'] < pd.Timedelta('48 hours'))\n",
    "len(efv.loc[time_filter, 'icustay_id'].unique())"
   ]
  },
  {
   "cell_type": "code",
   "execution_count": 85,
   "metadata": {
    "collapsed": false
   },
   "outputs": [
    {
     "data": {
      "text/plain": [
       "16115"
      ]
     },
     "execution_count": 85,
     "metadata": {},
     "output_type": "execute_result"
    }
   ],
   "source": [
    "len(efv.loc[time_filter, 'hadm_id'].unique())"
   ]
  },
  {
   "cell_type": "code",
   "execution_count": 86,
   "metadata": {
    "collapsed": false
   },
   "outputs": [
    {
     "data": {
      "text/plain": [
       "14567"
      ]
     },
     "execution_count": 86,
     "metadata": {},
     "output_type": "execute_result"
    }
   ],
   "source": [
    "len(efv.loc[time_filter, 'subject_id'].unique())"
   ]
  },
  {
   "cell_type": "markdown",
   "metadata": {},
   "source": [
    "On pressors, no excluded diagnoses, and time filter"
   ]
  },
  {
   "cell_type": "code",
   "execution_count": 87,
   "metadata": {
    "collapsed": false
   },
   "outputs": [
    {
     "data": {
      "text/plain": [
       "1967"
      ]
     },
     "execution_count": 87,
     "metadata": {},
     "output_type": "execute_result"
    }
   ],
   "source": [
    "len(efv.loc[efv['ps_vaso'] & ~efv['diag_xc'] & time_filter, 'icustay_id'].unique())"
   ]
  },
  {
   "cell_type": "code",
   "execution_count": 88,
   "metadata": {
    "collapsed": false
   },
   "outputs": [
    {
     "data": {
      "text/plain": [
       "1964"
      ]
     },
     "execution_count": 88,
     "metadata": {},
     "output_type": "execute_result"
    }
   ],
   "source": [
    "len(efv.loc[efv['ps_vaso'] & ~efv['diag_xc'] & time_filter, 'hadm_id'].unique())"
   ]
  },
  {
   "cell_type": "code",
   "execution_count": 89,
   "metadata": {
    "collapsed": false
   },
   "outputs": [
    {
     "data": {
      "text/plain": [
       "1944"
      ]
     },
     "execution_count": 89,
     "metadata": {},
     "output_type": "execute_result"
    }
   ],
   "source": [
    "len(efv.loc[efv['ps_vaso'] & ~efv['diag_xc'] & time_filter, 'subject_id'].unique())"
   ]
  },
  {
   "cell_type": "markdown",
   "metadata": {},
   "source": [
    "Age"
   ]
  },
  {
   "cell_type": "code",
   "execution_count": 100,
   "metadata": {
    "collapsed": false
   },
   "outputs": [
    {
     "data": {
      "text/plain": [
       "(25512, 18)"
      ]
     },
     "execution_count": 100,
     "metadata": {},
     "output_type": "execute_result"
    }
   ],
   "source": [
    "efv.shape"
   ]
  },
  {
   "cell_type": "code",
   "execution_count": 101,
   "metadata": {
    "collapsed": false
   },
   "outputs": [
    {
     "data": {
      "text/plain": [
       "(6672, 19)"
      ]
     },
     "execution_count": 101,
     "metadata": {},
     "output_type": "execute_result"
    }
   ],
   "source": [
    "ef.shape"
   ]
  },
  {
   "cell_type": "code",
   "execution_count": 102,
   "metadata": {
    "collapsed": false
   },
   "outputs": [
    {
     "data": {
      "text/html": [
       "<div>\n",
       "<table border=\"1\" class=\"dataframe\">\n",
       "  <thead>\n",
       "    <tr style=\"text-align: right;\">\n",
       "      <th></th>\n",
       "      <th>row_id</th>\n",
       "      <th>charttime</th>\n",
       "      <th>icustay_id</th>\n",
       "      <th>hadm_id</th>\n",
       "      <th>subject_id</th>\n",
       "      <th>intime</th>\n",
       "      <th>outtime</th>\n",
       "      <th>intime_to_echo</th>\n",
       "      <th>echo_to_outtime</th>\n",
       "      <th>ps_vaso</th>\n",
       "      <th>diag_xc</th>\n",
       "      <th>age_at_intime</th>\n",
       "      <th>after_rowid</th>\n",
       "      <th>before_rowid</th>\n",
       "      <th>op_to_icu</th>\n",
       "      <th>icu_to_op</th>\n",
       "      <th>time_filter</th>\n",
       "      <th>age_filter</th>\n",
       "      <th>echo_seq</th>\n",
       "    </tr>\n",
       "  </thead>\n",
       "  <tbody>\n",
       "    <tr>\n",
       "      <th>0</th>\n",
       "      <td>67326</td>\n",
       "      <td>2135-02-01 15:42:00</td>\n",
       "      <td>216859</td>\n",
       "      <td>111970</td>\n",
       "      <td>21</td>\n",
       "      <td>2135-01-30 20:53:34</td>\n",
       "      <td>2135-02-08 05:38:46</td>\n",
       "      <td>1 days 18:48:26</td>\n",
       "      <td>6 days 13:56:46</td>\n",
       "      <td>True</td>\n",
       "      <td>False</td>\n",
       "      <td>32051 days 20:53:34</td>\n",
       "      <td>NaN</td>\n",
       "      <td>NaN</td>\n",
       "      <td>NaT</td>\n",
       "      <td>NaT</td>\n",
       "      <td>True</td>\n",
       "      <td>True</td>\n",
       "      <td>1</td>\n",
       "    </tr>\n",
       "    <tr>\n",
       "      <th>1</th>\n",
       "      <td>78499</td>\n",
       "      <td>2160-11-02 11:16:00</td>\n",
       "      <td>203487</td>\n",
       "      <td>129635</td>\n",
       "      <td>25</td>\n",
       "      <td>2160-11-02 03:16:23</td>\n",
       "      <td>2160-11-05 16:23:27</td>\n",
       "      <td>0 days 07:59:37</td>\n",
       "      <td>3 days 05:07:27</td>\n",
       "      <td>True</td>\n",
       "      <td>False</td>\n",
       "      <td>21511 days 03:16:23</td>\n",
       "      <td>NaN</td>\n",
       "      <td>NaN</td>\n",
       "      <td>NaT</td>\n",
       "      <td>NaT</td>\n",
       "      <td>True</td>\n",
       "      <td>True</td>\n",
       "      <td>1</td>\n",
       "    </tr>\n",
       "    <tr>\n",
       "      <th>2</th>\n",
       "      <td>84686</td>\n",
       "      <td>2122-02-10 11:37:00</td>\n",
       "      <td>282039</td>\n",
       "      <td>166707</td>\n",
       "      <td>35</td>\n",
       "      <td>2122-02-10 09:39:59</td>\n",
       "      <td>2122-02-15 18:41:01</td>\n",
       "      <td>0 days 01:57:01</td>\n",
       "      <td>5 days 07:04:01</td>\n",
       "      <td>True</td>\n",
       "      <td>False</td>\n",
       "      <td>25344 days 09:39:59</td>\n",
       "      <td>NaN</td>\n",
       "      <td>NaN</td>\n",
       "      <td>NaT</td>\n",
       "      <td>NaT</td>\n",
       "      <td>True</td>\n",
       "      <td>True</td>\n",
       "      <td>1</td>\n",
       "    </tr>\n",
       "    <tr>\n",
       "      <th>3</th>\n",
       "      <td>67805</td>\n",
       "      <td>2131-05-04 10:41:00</td>\n",
       "      <td>280987</td>\n",
       "      <td>182104</td>\n",
       "      <td>36</td>\n",
       "      <td>2131-05-04 10:29:14</td>\n",
       "      <td>2131-05-05 13:07:03</td>\n",
       "      <td>0 days 00:11:46</td>\n",
       "      <td>1 days 02:26:03</td>\n",
       "      <td>True</td>\n",
       "      <td>False</td>\n",
       "      <td>25443 days 10:29:14</td>\n",
       "      <td>NaN</td>\n",
       "      <td>NaN</td>\n",
       "      <td>NaT</td>\n",
       "      <td>NaT</td>\n",
       "      <td>True</td>\n",
       "      <td>True</td>\n",
       "      <td>1</td>\n",
       "    </tr>\n",
       "    <tr>\n",
       "      <th>4</th>\n",
       "      <td>67118</td>\n",
       "      <td>2113-02-15 17:20:00</td>\n",
       "      <td>216609</td>\n",
       "      <td>116009</td>\n",
       "      <td>62</td>\n",
       "      <td>2113-02-15 00:20:44</td>\n",
       "      <td>2113-02-17 20:09:46</td>\n",
       "      <td>0 days 16:59:16</td>\n",
       "      <td>2 days 02:49:46</td>\n",
       "      <td>True</td>\n",
       "      <td>False</td>\n",
       "      <td>25097 days 00:20:44</td>\n",
       "      <td>NaN</td>\n",
       "      <td>NaN</td>\n",
       "      <td>NaT</td>\n",
       "      <td>NaT</td>\n",
       "      <td>True</td>\n",
       "      <td>True</td>\n",
       "      <td>1</td>\n",
       "    </tr>\n",
       "  </tbody>\n",
       "</table>\n",
       "</div>"
      ],
      "text/plain": [
       "   row_id           charttime  icustay_id  hadm_id  subject_id  \\\n",
       "0   67326 2135-02-01 15:42:00      216859   111970          21   \n",
       "1   78499 2160-11-02 11:16:00      203487   129635          25   \n",
       "2   84686 2122-02-10 11:37:00      282039   166707          35   \n",
       "3   67805 2131-05-04 10:41:00      280987   182104          36   \n",
       "4   67118 2113-02-15 17:20:00      216609   116009          62   \n",
       "\n",
       "               intime             outtime  intime_to_echo  echo_to_outtime  \\\n",
       "0 2135-01-30 20:53:34 2135-02-08 05:38:46 1 days 18:48:26  6 days 13:56:46   \n",
       "1 2160-11-02 03:16:23 2160-11-05 16:23:27 0 days 07:59:37  3 days 05:07:27   \n",
       "2 2122-02-10 09:39:59 2122-02-15 18:41:01 0 days 01:57:01  5 days 07:04:01   \n",
       "3 2131-05-04 10:29:14 2131-05-05 13:07:03 0 days 00:11:46  1 days 02:26:03   \n",
       "4 2113-02-15 00:20:44 2113-02-17 20:09:46 0 days 16:59:16  2 days 02:49:46   \n",
       "\n",
       "  ps_vaso diag_xc       age_at_intime  after_rowid  before_rowid  op_to_icu  \\\n",
       "0    True   False 32051 days 20:53:34          NaN           NaN        NaT   \n",
       "1    True   False 21511 days 03:16:23          NaN           NaN        NaT   \n",
       "2    True   False 25344 days 09:39:59          NaN           NaN        NaT   \n",
       "3    True   False 25443 days 10:29:14          NaN           NaN        NaT   \n",
       "4    True   False 25097 days 00:20:44          NaN           NaN        NaT   \n",
       "\n",
       "   icu_to_op time_filter age_filter  echo_seq  \n",
       "0        NaT        True       True         1  \n",
       "1        NaT        True       True         1  \n",
       "2        NaT        True       True         1  \n",
       "3        NaT        True       True         1  \n",
       "4        NaT        True       True         1  "
      ]
     },
     "execution_count": 102,
     "metadata": {},
     "output_type": "execute_result"
    }
   ],
   "source": [
    "ef.head()"
   ]
  },
  {
   "cell_type": "code",
   "execution_count": 103,
   "metadata": {
    "collapsed": false
   },
   "outputs": [
    {
     "data": {
      "text/html": [
       "<div>\n",
       "<table border=\"1\" class=\"dataframe\">\n",
       "  <thead>\n",
       "    <tr style=\"text-align: right;\">\n",
       "      <th></th>\n",
       "      <th>row_id</th>\n",
       "      <th>charttime</th>\n",
       "      <th>icustay_id</th>\n",
       "      <th>hadm_id</th>\n",
       "      <th>subject_id</th>\n",
       "      <th>intime</th>\n",
       "      <th>outtime</th>\n",
       "      <th>intime_to_echo</th>\n",
       "      <th>echo_to_outtime</th>\n",
       "      <th>ps_vaso</th>\n",
       "      <th>diag_xc</th>\n",
       "      <th>age_at_intime</th>\n",
       "      <th>after_rowid</th>\n",
       "      <th>before_rowid</th>\n",
       "      <th>op_to_icu</th>\n",
       "      <th>icu_to_op</th>\n",
       "      <th>time_filter</th>\n",
       "      <th>age_filter</th>\n",
       "      <th>echo_seq</th>\n",
       "    </tr>\n",
       "  </thead>\n",
       "  <tbody>\n",
       "    <tr>\n",
       "      <th>16</th>\n",
       "      <td>105319</td>\n",
       "      <td>2184-01-22 08:47:00</td>\n",
       "      <td>252789</td>\n",
       "      <td>176764</td>\n",
       "      <td>175</td>\n",
       "      <td>2184-01-21 21:22:19</td>\n",
       "      <td>2184-01-31 13:45:57</td>\n",
       "      <td>0 days 11:24:41</td>\n",
       "      <td>9 days 04:58:57</td>\n",
       "      <td>True</td>\n",
       "      <td>False</td>\n",
       "      <td>-103922 days +21:47:45.290448</td>\n",
       "      <td>NaN</td>\n",
       "      <td>NaN</td>\n",
       "      <td>NaT</td>\n",
       "      <td>NaT</td>\n",
       "      <td>True</td>\n",
       "      <td>True</td>\n",
       "      <td>1</td>\n",
       "    </tr>\n",
       "    <tr>\n",
       "      <th>99</th>\n",
       "      <td>69981</td>\n",
       "      <td>2197-06-20 14:17:00</td>\n",
       "      <td>243195</td>\n",
       "      <td>156708</td>\n",
       "      <td>1121</td>\n",
       "      <td>2197-06-20 10:30:39</td>\n",
       "      <td>2197-06-22 17:08:02</td>\n",
       "      <td>0 days 03:46:21</td>\n",
       "      <td>2 days 02:51:02</td>\n",
       "      <td>True</td>\n",
       "      <td>False</td>\n",
       "      <td>-100498 days +10:56:05.290448</td>\n",
       "      <td>NaN</td>\n",
       "      <td>NaN</td>\n",
       "      <td>NaT</td>\n",
       "      <td>NaT</td>\n",
       "      <td>True</td>\n",
       "      <td>True</td>\n",
       "      <td>1</td>\n",
       "    </tr>\n",
       "    <tr>\n",
       "      <th>128</th>\n",
       "      <td>96511</td>\n",
       "      <td>2171-11-14 15:52:00</td>\n",
       "      <td>217900</td>\n",
       "      <td>113063</td>\n",
       "      <td>1581</td>\n",
       "      <td>2171-11-12 18:13:14</td>\n",
       "      <td>2171-11-15 20:21:14</td>\n",
       "      <td>1 days 21:38:46</td>\n",
       "      <td>1 days 04:29:14</td>\n",
       "      <td>True</td>\n",
       "      <td>False</td>\n",
       "      <td>-104004 days +18:38:40.290448</td>\n",
       "      <td>NaN</td>\n",
       "      <td>NaN</td>\n",
       "      <td>NaT</td>\n",
       "      <td>NaT</td>\n",
       "      <td>True</td>\n",
       "      <td>True</td>\n",
       "      <td>1</td>\n",
       "    </tr>\n",
       "    <tr>\n",
       "      <th>131</th>\n",
       "      <td>69043</td>\n",
       "      <td>2192-10-24 16:24:00</td>\n",
       "      <td>240468</td>\n",
       "      <td>102458</td>\n",
       "      <td>1621</td>\n",
       "      <td>2192-10-23 06:59:25</td>\n",
       "      <td>2192-10-28 19:49:39</td>\n",
       "      <td>1 days 09:24:35</td>\n",
       "      <td>4 days 03:25:39</td>\n",
       "      <td>True</td>\n",
       "      <td>False</td>\n",
       "      <td>-104004 days +07:24:51.290448</td>\n",
       "      <td>NaN</td>\n",
       "      <td>NaN</td>\n",
       "      <td>NaT</td>\n",
       "      <td>NaT</td>\n",
       "      <td>True</td>\n",
       "      <td>True</td>\n",
       "      <td>1</td>\n",
       "    </tr>\n",
       "    <tr>\n",
       "      <th>132</th>\n",
       "      <td>96437</td>\n",
       "      <td>2187-12-03 11:39:00</td>\n",
       "      <td>259602</td>\n",
       "      <td>174523</td>\n",
       "      <td>1641</td>\n",
       "      <td>2187-12-02 18:46:17</td>\n",
       "      <td>2187-12-05 16:17:30</td>\n",
       "      <td>0 days 16:52:43</td>\n",
       "      <td>2 days 04:38:30</td>\n",
       "      <td>True</td>\n",
       "      <td>False</td>\n",
       "      <td>-104004 days +19:11:43.290448</td>\n",
       "      <td>96436.0</td>\n",
       "      <td>NaN</td>\n",
       "      <td>221 days 02:59:00</td>\n",
       "      <td>NaT</td>\n",
       "      <td>True</td>\n",
       "      <td>True</td>\n",
       "      <td>1</td>\n",
       "    </tr>\n",
       "  </tbody>\n",
       "</table>\n",
       "</div>"
      ],
      "text/plain": [
       "     row_id           charttime  icustay_id  hadm_id  subject_id  \\\n",
       "16   105319 2184-01-22 08:47:00      252789   176764         175   \n",
       "99    69981 2197-06-20 14:17:00      243195   156708        1121   \n",
       "128   96511 2171-11-14 15:52:00      217900   113063        1581   \n",
       "131   69043 2192-10-24 16:24:00      240468   102458        1621   \n",
       "132   96437 2187-12-03 11:39:00      259602   174523        1641   \n",
       "\n",
       "                 intime             outtime  intime_to_echo  echo_to_outtime  \\\n",
       "16  2184-01-21 21:22:19 2184-01-31 13:45:57 0 days 11:24:41  9 days 04:58:57   \n",
       "99  2197-06-20 10:30:39 2197-06-22 17:08:02 0 days 03:46:21  2 days 02:51:02   \n",
       "128 2171-11-12 18:13:14 2171-11-15 20:21:14 1 days 21:38:46  1 days 04:29:14   \n",
       "131 2192-10-23 06:59:25 2192-10-28 19:49:39 1 days 09:24:35  4 days 03:25:39   \n",
       "132 2187-12-02 18:46:17 2187-12-05 16:17:30 0 days 16:52:43  2 days 04:38:30   \n",
       "\n",
       "    ps_vaso diag_xc                 age_at_intime  after_rowid  before_rowid  \\\n",
       "16     True   False -103922 days +21:47:45.290448          NaN           NaN   \n",
       "99     True   False -100498 days +10:56:05.290448          NaN           NaN   \n",
       "128    True   False -104004 days +18:38:40.290448          NaN           NaN   \n",
       "131    True   False -104004 days +07:24:51.290448          NaN           NaN   \n",
       "132    True   False -104004 days +19:11:43.290448      96436.0           NaN   \n",
       "\n",
       "            op_to_icu  icu_to_op time_filter age_filter  echo_seq  \n",
       "16                NaT        NaT        True       True         1  \n",
       "99                NaT        NaT        True       True         1  \n",
       "128               NaT        NaT        True       True         1  \n",
       "131               NaT        NaT        True       True         1  \n",
       "132 221 days 02:59:00        NaT        True       True         1  "
      ]
     },
     "execution_count": 103,
     "metadata": {},
     "output_type": "execute_result"
    }
   ],
   "source": [
    "ef.loc[(ef['age_at_intime'] > np.timedelta64('18', 'Y')) != ef['age_filter']].head()"
   ]
  },
  {
   "cell_type": "code",
   "execution_count": 285,
   "metadata": {
    "collapsed": false
   },
   "outputs": [
    {
     "data": {
      "text/html": [
       "<div>\n",
       "<table border=\"1\" class=\"dataframe\">\n",
       "  <thead>\n",
       "    <tr style=\"text-align: right;\">\n",
       "      <th></th>\n",
       "      <th>row_id</th>\n",
       "      <th>subject_id</th>\n",
       "      <th>hadm_id</th>\n",
       "      <th>icustay_id</th>\n",
       "      <th>dbsource</th>\n",
       "      <th>first_careunit</th>\n",
       "      <th>last_careunit</th>\n",
       "      <th>first_wardid</th>\n",
       "      <th>last_wardid</th>\n",
       "      <th>intime</th>\n",
       "      <th>outtime</th>\n",
       "      <th>los</th>\n",
       "      <th>row_id</th>\n",
       "      <th>subject_id</th>\n",
       "      <th>gender</th>\n",
       "      <th>dob</th>\n",
       "      <th>dod</th>\n",
       "      <th>dod_hosp</th>\n",
       "      <th>dod_ssn</th>\n",
       "      <th>expire_flag</th>\n",
       "    </tr>\n",
       "  </thead>\n",
       "  <tbody>\n",
       "    <tr>\n",
       "      <th>0</th>\n",
       "      <td>25703</td>\n",
       "      <td>20249</td>\n",
       "      <td>152504</td>\n",
       "      <td>206946</td>\n",
       "      <td>carevue</td>\n",
       "      <td>CCU</td>\n",
       "      <td>CCU</td>\n",
       "      <td>57</td>\n",
       "      <td>57</td>\n",
       "      <td>2146-10-04 16:05:22</td>\n",
       "      <td>2146-10-06 18:52:58</td>\n",
       "      <td>2.1164</td>\n",
       "      <td>19108</td>\n",
       "      <td>20249</td>\n",
       "      <td>M</td>\n",
       "      <td>1846-10-04</td>\n",
       "      <td>2149-02-09</td>\n",
       "      <td>2149-02-09</td>\n",
       "      <td>2149-02-09</td>\n",
       "      <td>1</td>\n",
       "    </tr>\n",
       "    <tr>\n",
       "      <th>1</th>\n",
       "      <td>25704</td>\n",
       "      <td>20249</td>\n",
       "      <td>175360</td>\n",
       "      <td>243283</td>\n",
       "      <td>carevue</td>\n",
       "      <td>CCU</td>\n",
       "      <td>CCU</td>\n",
       "      <td>7</td>\n",
       "      <td>7</td>\n",
       "      <td>2149-02-06 15:54:53</td>\n",
       "      <td>2149-02-10 07:33:42</td>\n",
       "      <td>3.6520</td>\n",
       "      <td>19108</td>\n",
       "      <td>20249</td>\n",
       "      <td>M</td>\n",
       "      <td>1846-10-04</td>\n",
       "      <td>2149-02-09</td>\n",
       "      <td>2149-02-09</td>\n",
       "      <td>2149-02-09</td>\n",
       "      <td>1</td>\n",
       "    </tr>\n",
       "  </tbody>\n",
       "</table>\n",
       "</div>"
      ],
      "text/plain": [
       "   row_id  subject_id  hadm_id  icustay_id dbsource first_careunit  \\\n",
       "0   25703       20249   152504      206946  carevue            CCU   \n",
       "1   25704       20249   175360      243283  carevue            CCU   \n",
       "\n",
       "  last_careunit  first_wardid  last_wardid              intime  \\\n",
       "0           CCU            57           57 2146-10-04 16:05:22   \n",
       "1           CCU             7            7 2149-02-06 15:54:53   \n",
       "\n",
       "              outtime     los  row_id  subject_id gender        dob  \\\n",
       "0 2146-10-06 18:52:58  2.1164   19108       20249      M 1846-10-04   \n",
       "1 2149-02-10 07:33:42  3.6520   19108       20249      M 1846-10-04   \n",
       "\n",
       "         dod   dod_hosp    dod_ssn  expire_flag  \n",
       "0 2149-02-09 2149-02-09 2149-02-09            1  \n",
       "1 2149-02-09 2149-02-09 2149-02-09            1  "
      ]
     },
     "execution_count": 285,
     "metadata": {},
     "output_type": "execute_result"
    }
   ],
   "source": [
    "query = \\\n",
    "\"\"\"\n",
    "SELECT * FROM icustays ic\n",
    "INNER JOIN patients pt\n",
    "ON ic.subject_id = pt.subject_id\n",
    "WHERE ic.subject_id = '20249'; \n",
    "\"\"\"\n",
    "check = pd.read_sql_query(query, con)\n",
    "check.head()"
   ]
  },
  {
   "cell_type": "markdown",
   "metadata": {},
   "source": [
    "Ok. Age is really awkward because of the older patients whose age are computed as negative numbers, for some reason. It looks like sql deals with is correctly, but somehow my python code does not. "
   ]
  },
  {
   "cell_type": "code",
   "execution_count": 96,
   "metadata": {
    "collapsed": true
   },
   "outputs": [],
   "source": [
    "age_filter = (ef['age_at_intime'] > np.timedelta64('18', 'Y')) | (ef['age_at_intime'] < np.timedelta64(0))"
   ]
  },
  {
   "cell_type": "markdown",
   "metadata": {},
   "source": [
    "On pressors + no excluded diagnosis + time + age"
   ]
  },
  {
   "cell_type": "code",
   "execution_count": 97,
   "metadata": {
    "collapsed": false
   },
   "outputs": [
    {
     "data": {
      "text/plain": [
       "318"
      ]
     },
     "execution_count": 97,
     "metadata": {},
     "output_type": "execute_result"
    }
   ],
   "source": [
    "len(efv.loc[efv['ps_vaso'] & ~efv['diag_xc'] & time_filter & age_filter, 'icustay_id'].unique())"
   ]
  },
  {
   "cell_type": "code",
   "execution_count": 98,
   "metadata": {
    "collapsed": false
   },
   "outputs": [
    {
     "data": {
      "text/plain": [
       "318"
      ]
     },
     "execution_count": 98,
     "metadata": {},
     "output_type": "execute_result"
    }
   ],
   "source": [
    "len(efv.loc[efv['ps_vaso'] & ~efv['diag_xc'] & time_filter & age_filter, 'hadm_id'].unique())"
   ]
  },
  {
   "cell_type": "code",
   "execution_count": 99,
   "metadata": {
    "collapsed": false
   },
   "outputs": [
    {
     "data": {
      "text/plain": [
       "313"
      ]
     },
     "execution_count": 99,
     "metadata": {},
     "output_type": "execute_result"
    }
   ],
   "source": [
    "len(efv.loc[efv['ps_vaso'] & ~efv['diag_xc'] & time_filter & age_filter, 'subject_id'].unique())"
   ]
  },
  {
   "cell_type": "markdown",
   "metadata": {},
   "source": [
    "Break down the diagnosis exclusions. "
   ]
  },
  {
   "cell_type": "code",
   "execution_count": 104,
   "metadata": {
    "collapsed": false
   },
   "outputs": [
    {
     "data": {
      "text/html": [
       "<div>\n",
       "<table border=\"1\" class=\"dataframe\">\n",
       "  <thead>\n",
       "    <tr style=\"text-align: right;\">\n",
       "      <th></th>\n",
       "      <th>icustay_id</th>\n",
       "      <th>hadm_id</th>\n",
       "      <th>subject_id</th>\n",
       "      <th>icd9_code</th>\n",
       "      <th>long_title</th>\n",
       "    </tr>\n",
       "  </thead>\n",
       "  <tbody>\n",
       "    <tr>\n",
       "      <th>0</th>\n",
       "      <td>262652</td>\n",
       "      <td>172335</td>\n",
       "      <td>109</td>\n",
       "      <td>4254</td>\n",
       "      <td>Other primary cardiomyopathies</td>\n",
       "    </tr>\n",
       "    <tr>\n",
       "      <th>1</th>\n",
       "      <td>232514</td>\n",
       "      <td>114585</td>\n",
       "      <td>115</td>\n",
       "      <td>4280</td>\n",
       "      <td>Congestive heart failure, unspecified</td>\n",
       "    </tr>\n",
       "    <tr>\n",
       "      <th>2</th>\n",
       "      <td>227264</td>\n",
       "      <td>195632</td>\n",
       "      <td>123</td>\n",
       "      <td>41011</td>\n",
       "      <td>Acute myocardial infarction of other anterior ...</td>\n",
       "    </tr>\n",
       "    <tr>\n",
       "      <th>3</th>\n",
       "      <td>225073</td>\n",
       "      <td>134369</td>\n",
       "      <td>124</td>\n",
       "      <td>9971</td>\n",
       "      <td>Cardiac complications, not elsewhere classified</td>\n",
       "    </tr>\n",
       "    <tr>\n",
       "      <th>4</th>\n",
       "      <td>256064</td>\n",
       "      <td>138376</td>\n",
       "      <td>124</td>\n",
       "      <td>42833</td>\n",
       "      <td>Acute on chronic diastolic heart failure</td>\n",
       "    </tr>\n",
       "  </tbody>\n",
       "</table>\n",
       "</div>"
      ],
      "text/plain": [
       "   icustay_id  hadm_id  subject_id icd9_code  \\\n",
       "0      262652   172335         109      4254   \n",
       "1      232514   114585         115      4280   \n",
       "2      227264   195632         123     41011   \n",
       "3      225073   134369         124      9971   \n",
       "4      256064   138376         124     42833   \n",
       "\n",
       "                                          long_title  \n",
       "0                     Other primary cardiomyopathies  \n",
       "1              Congestive heart failure, unspecified  \n",
       "2  Acute myocardial infarction of other anterior ...  \n",
       "3    Cardiac complications, not elsewhere classified  \n",
       "4           Acute on chronic diastolic heart failure  "
      ]
     },
     "execution_count": 104,
     "metadata": {},
     "output_type": "execute_result"
    }
   ],
   "source": [
    "query = \\\n",
    "\"\"\"\n",
    "SELECT ei.icustay_id, ei.hadm_id, ei.subject_id\n",
    "    ,dx.icd9_code, dx.long_title\n",
    "FROM d_diagnoses_xc_annot dx\n",
    "INNER JOIN diagnoses_icd di\n",
    "    ON di.icd9_code = dx.icd9_code\n",
    "INNER JOIN echo_icustay ei\n",
    "    ON di.hadm_id = ei.hadm_id -- join on hospital admission\n",
    "WHERE dx.exclude = 1\n",
    "\"\"\"\n",
    "dxc = pd.read_sql_query(query, con)\n",
    "dxc.head()"
   ]
  },
  {
   "cell_type": "code",
   "execution_count": 166,
   "metadata": {
    "collapsed": false
   },
   "outputs": [
    {
     "data": {
      "text/html": [
       "<div>\n",
       "<table border=\"1\" class=\"dataframe\">\n",
       "  <thead>\n",
       "    <tr style=\"text-align: right;\">\n",
       "      <th></th>\n",
       "      <th></th>\n",
       "      <th>icustay_id</th>\n",
       "      <th>hadm_id</th>\n",
       "      <th>subject_id</th>\n",
       "    </tr>\n",
       "    <tr>\n",
       "      <th>icd9_code</th>\n",
       "      <th>long_title</th>\n",
       "      <th></th>\n",
       "      <th></th>\n",
       "      <th></th>\n",
       "    </tr>\n",
       "  </thead>\n",
       "  <tbody>\n",
       "    <tr>\n",
       "      <th>11281</th>\n",
       "      <th>Candidal endocarditis</th>\n",
       "      <td>5</td>\n",
       "      <td>4</td>\n",
       "      <td>3</td>\n",
       "    </tr>\n",
       "    <tr>\n",
       "      <th>1510</th>\n",
       "      <th>Malignant neoplasm of cardia</th>\n",
       "      <td>14</td>\n",
       "      <td>14</td>\n",
       "      <td>14</td>\n",
       "    </tr>\n",
       "    <tr>\n",
       "      <th>1641</th>\n",
       "      <th>Malignant neoplasm of heart</th>\n",
       "      <td>1</td>\n",
       "      <td>1</td>\n",
       "      <td>1</td>\n",
       "    </tr>\n",
       "    <tr>\n",
       "      <th>2127</th>\n",
       "      <th>Benign neoplasm of heart</th>\n",
       "      <td>31</td>\n",
       "      <td>30</td>\n",
       "      <td>30</td>\n",
       "    </tr>\n",
       "    <tr>\n",
       "      <th>2851</th>\n",
       "      <th>Acute posthemorrhagic anemia</th>\n",
       "      <td>1482</td>\n",
       "      <td>1421</td>\n",
       "      <td>1401</td>\n",
       "    </tr>\n",
       "  </tbody>\n",
       "</table>\n",
       "</div>"
      ],
      "text/plain": [
       "                                        icustay_id  hadm_id  subject_id\n",
       "icd9_code long_title                                                   \n",
       "11281     Candidal endocarditis                  5        4           3\n",
       "1510      Malignant neoplasm of cardia          14       14          14\n",
       "1641      Malignant neoplasm of heart            1        1           1\n",
       "2127      Benign neoplasm of heart              31       30          30\n",
       "2851      Acute posthemorrhagic anemia        1482     1421        1401"
      ]
     },
     "execution_count": 166,
     "metadata": {},
     "output_type": "execute_result"
    }
   ],
   "source": [
    "dxc_ = pd.concat([dxc[['icustay_id', 'icd9_code', 'long_title']].drop_duplicates().groupby(['icd9_code', 'long_title']).count(), \n",
    "           dxc[['hadm_id', 'icd9_code', 'long_title']].drop_duplicates().groupby(['icd9_code', 'long_title']).count(), \n",
    "           dxc[['subject_id', 'icd9_code', 'long_title']].drop_duplicates().groupby(['icd9_code', 'long_title']).count()], \n",
    "           axis = 1)\n",
    "dxc_.to_csv(\"../../data/generated/D_DIAGNOSES_XC_COUNTS.csv\")\n",
    "dxc_.head()"
   ]
  },
  {
   "cell_type": "code",
   "execution_count": 165,
   "metadata": {
    "collapsed": false
   },
   "outputs": [
    {
     "data": {
      "text/html": [
       "<div>\n",
       "<table border=\"1\" class=\"dataframe\">\n",
       "  <thead>\n",
       "    <tr style=\"text-align: right;\">\n",
       "      <th></th>\n",
       "      <th></th>\n",
       "      <th>icustay_id</th>\n",
       "      <th>hadm_id</th>\n",
       "      <th>subject_id</th>\n",
       "    </tr>\n",
       "    <tr>\n",
       "      <th>icd9_code</th>\n",
       "      <th>long_title</th>\n",
       "      <th></th>\n",
       "      <th></th>\n",
       "      <th></th>\n",
       "    </tr>\n",
       "  </thead>\n",
       "  <tbody>\n",
       "    <tr>\n",
       "      <th>4280</th>\n",
       "      <th>Congestive heart failure, unspecified</th>\n",
       "      <td>7269</td>\n",
       "      <td>7021</td>\n",
       "      <td>6135</td>\n",
       "    </tr>\n",
       "    <tr>\n",
       "      <th>41071</th>\n",
       "      <th>Subendocardial infarction, initial episode of care</th>\n",
       "      <td>2221</td>\n",
       "      <td>2123</td>\n",
       "      <td>2048</td>\n",
       "    </tr>\n",
       "    <tr>\n",
       "      <th>2851</th>\n",
       "      <th>Acute posthemorrhagic anemia</th>\n",
       "      <td>1482</td>\n",
       "      <td>1421</td>\n",
       "      <td>1401</td>\n",
       "    </tr>\n",
       "    <tr>\n",
       "      <th>9971</th>\n",
       "      <th>Cardiac complications, not elsewhere classified</th>\n",
       "      <td>1472</td>\n",
       "      <td>1422</td>\n",
       "      <td>1409</td>\n",
       "    </tr>\n",
       "    <tr>\n",
       "      <th>42789</th>\n",
       "      <th>Other specified cardiac dysrhythmias</th>\n",
       "      <td>1135</td>\n",
       "      <td>1111</td>\n",
       "      <td>1089</td>\n",
       "    </tr>\n",
       "    <tr>\n",
       "      <th>4271</th>\n",
       "      <th>Paroxysmal ventricular tachycardia</th>\n",
       "      <td>1112</td>\n",
       "      <td>1069</td>\n",
       "      <td>1043</td>\n",
       "    </tr>\n",
       "    <tr>\n",
       "      <th>78551</th>\n",
       "      <th>Cardiogenic shock</th>\n",
       "      <td>1025</td>\n",
       "      <td>972</td>\n",
       "      <td>951</td>\n",
       "    </tr>\n",
       "    <tr>\n",
       "      <th>4275</th>\n",
       "      <th>Cardiac arrest</th>\n",
       "      <td>959</td>\n",
       "      <td>895</td>\n",
       "      <td>888</td>\n",
       "    </tr>\n",
       "    <tr>\n",
       "      <th>4254</th>\n",
       "      <th>Other primary cardiomyopathies</th>\n",
       "      <td>952</td>\n",
       "      <td>911</td>\n",
       "      <td>838</td>\n",
       "    </tr>\n",
       "    <tr>\n",
       "      <th>42823</th>\n",
       "      <th>Acute on chronic systolic heart failure</th>\n",
       "      <td>802</td>\n",
       "      <td>775</td>\n",
       "      <td>711</td>\n",
       "    </tr>\n",
       "  </tbody>\n",
       "</table>\n",
       "</div>"
      ],
      "text/plain": [
       "                                                              icustay_id  \\\n",
       "icd9_code long_title                                                       \n",
       "4280      Congestive heart failure, unspecified                     7269   \n",
       "41071     Subendocardial infarction, initial episode of care        2221   \n",
       "2851      Acute posthemorrhagic anemia                              1482   \n",
       "9971      Cardiac complications, not elsewhere classified           1472   \n",
       "42789     Other specified cardiac dysrhythmias                      1135   \n",
       "4271      Paroxysmal ventricular tachycardia                        1112   \n",
       "78551     Cardiogenic shock                                         1025   \n",
       "4275      Cardiac arrest                                             959   \n",
       "4254      Other primary cardiomyopathies                             952   \n",
       "42823     Acute on chronic systolic heart failure                    802   \n",
       "\n",
       "                                                              hadm_id  \\\n",
       "icd9_code long_title                                                    \n",
       "4280      Congestive heart failure, unspecified                  7021   \n",
       "41071     Subendocardial infarction, initial episode of care     2123   \n",
       "2851      Acute posthemorrhagic anemia                           1421   \n",
       "9971      Cardiac complications, not elsewhere classified        1422   \n",
       "42789     Other specified cardiac dysrhythmias                   1111   \n",
       "4271      Paroxysmal ventricular tachycardia                     1069   \n",
       "78551     Cardiogenic shock                                       972   \n",
       "4275      Cardiac arrest                                          895   \n",
       "4254      Other primary cardiomyopathies                          911   \n",
       "42823     Acute on chronic systolic heart failure                 775   \n",
       "\n",
       "                                                              subject_id  \n",
       "icd9_code long_title                                                      \n",
       "4280      Congestive heart failure, unspecified                     6135  \n",
       "41071     Subendocardial infarction, initial episode of care        2048  \n",
       "2851      Acute posthemorrhagic anemia                              1401  \n",
       "9971      Cardiac complications, not elsewhere classified           1409  \n",
       "42789     Other specified cardiac dysrhythmias                      1089  \n",
       "4271      Paroxysmal ventricular tachycardia                        1043  \n",
       "78551     Cardiogenic shock                                          951  \n",
       "4275      Cardiac arrest                                             888  \n",
       "4254      Other primary cardiomyopathies                             838  \n",
       "42823     Acute on chronic systolic heart failure                    711  "
      ]
     },
     "execution_count": 165,
     "metadata": {},
     "output_type": "execute_result"
    }
   ],
   "source": [
    "dxc_.sort_values('icustay_id', ascending = False).head(n = 10)"
   ]
  },
  {
   "cell_type": "markdown",
   "metadata": {},
   "source": [
    "Perhaps count the number of excluded diagnosis assigned to each id. "
   ]
  },
  {
   "cell_type": "code",
   "execution_count": 160,
   "metadata": {
    "collapsed": false
   },
   "outputs": [
    {
     "data": {
      "text/plain": [
       "1     5053\n",
       "2     4365\n",
       "3     2795\n",
       "4     1409\n",
       "5      599\n",
       "6      215\n",
       "7       91\n",
       "8       43\n",
       "9       14\n",
       "10       1\n",
       "11       1\n",
       "Name: icd9_code, dtype: int64"
      ]
     },
     "execution_count": 160,
     "metadata": {},
     "output_type": "execute_result"
    }
   ],
   "source": [
    "dxc[['icustay_id', 'icd9_code']].drop_duplicates().groupby('icustay_id').count()['icd9_code'].value_counts().sort_index()"
   ]
  },
  {
   "cell_type": "code",
   "execution_count": 162,
   "metadata": {
    "collapsed": false
   },
   "outputs": [
    {
     "data": {
      "text/plain": [
       "1     4972\n",
       "2     4235\n",
       "3     2691\n",
       "4     1335\n",
       "5      567\n",
       "6      196\n",
       "7       81\n",
       "8       37\n",
       "9        9\n",
       "10       1\n",
       "11       1\n",
       "Name: icd9_code, dtype: int64"
      ]
     },
     "execution_count": 162,
     "metadata": {},
     "output_type": "execute_result"
    }
   ],
   "source": [
    "dxc[['hadm_id', 'icd9_code']].drop_duplicates().groupby('hadm_id').count()['icd9_code'].value_counts().sort_index()"
   ]
  },
  {
   "cell_type": "code",
   "execution_count": 163,
   "metadata": {
    "collapsed": false
   },
   "outputs": [
    {
     "data": {
      "text/plain": [
       "1     4344\n",
       "2     3532\n",
       "3     2276\n",
       "4     1244\n",
       "5      630\n",
       "6      286\n",
       "7      139\n",
       "8       74\n",
       "9       38\n",
       "10       8\n",
       "11       8\n",
       "12       5\n",
       "13       3\n",
       "Name: icd9_code, dtype: int64"
      ]
     },
     "execution_count": 163,
     "metadata": {},
     "output_type": "execute_result"
    }
   ],
   "source": [
    "dxc[['subject_id', 'icd9_code']].drop_duplicates().groupby('subject_id').count()['icd9_code'].value_counts().sort_index()"
   ]
  },
  {
   "cell_type": "markdown",
   "metadata": {},
   "source": [
    "Quick count"
   ]
  },
  {
   "cell_type": "code",
   "execution_count": 105,
   "metadata": {
    "collapsed": false
   },
   "outputs": [
    {
     "data": {
      "text/html": [
       "<div>\n",
       "<table border=\"1\" class=\"dataframe\">\n",
       "  <thead>\n",
       "    <tr style=\"text-align: right;\">\n",
       "      <th></th>\n",
       "      <th>row_id</th>\n",
       "      <th>charttime</th>\n",
       "      <th>icustay_id</th>\n",
       "      <th>hadm_id</th>\n",
       "      <th>subject_id</th>\n",
       "      <th>intime</th>\n",
       "      <th>outtime</th>\n",
       "      <th>intime_to_echo</th>\n",
       "      <th>echo_to_outtime</th>\n",
       "      <th>ps_vaso</th>\n",
       "      <th>diag_xc</th>\n",
       "      <th>age_at_intime</th>\n",
       "      <th>after_rowid</th>\n",
       "      <th>before_rowid</th>\n",
       "      <th>op_to_icu</th>\n",
       "      <th>icu_to_op</th>\n",
       "      <th>time_filter</th>\n",
       "      <th>age_filter</th>\n",
       "      <th>echo_seq</th>\n",
       "    </tr>\n",
       "  </thead>\n",
       "  <tbody>\n",
       "    <tr>\n",
       "      <th>0</th>\n",
       "      <td>67326</td>\n",
       "      <td>2135-02-01 15:42:00</td>\n",
       "      <td>216859</td>\n",
       "      <td>111970</td>\n",
       "      <td>21</td>\n",
       "      <td>2135-01-30 20:53:34</td>\n",
       "      <td>2135-02-08 05:38:46</td>\n",
       "      <td>1 days 18:48:26</td>\n",
       "      <td>6 days 13:56:46</td>\n",
       "      <td>True</td>\n",
       "      <td>False</td>\n",
       "      <td>32051 days 20:53:34</td>\n",
       "      <td>NaN</td>\n",
       "      <td>NaN</td>\n",
       "      <td>NaT</td>\n",
       "      <td>NaT</td>\n",
       "      <td>True</td>\n",
       "      <td>True</td>\n",
       "      <td>1</td>\n",
       "    </tr>\n",
       "    <tr>\n",
       "      <th>1</th>\n",
       "      <td>67805</td>\n",
       "      <td>2131-05-04 10:41:00</td>\n",
       "      <td>280987</td>\n",
       "      <td>182104</td>\n",
       "      <td>36</td>\n",
       "      <td>2131-05-04 10:29:14</td>\n",
       "      <td>2131-05-05 13:07:03</td>\n",
       "      <td>0 days 00:11:46</td>\n",
       "      <td>1 days 02:26:03</td>\n",
       "      <td>True</td>\n",
       "      <td>False</td>\n",
       "      <td>25443 days 10:29:14</td>\n",
       "      <td>NaN</td>\n",
       "      <td>NaN</td>\n",
       "      <td>NaT</td>\n",
       "      <td>NaT</td>\n",
       "      <td>True</td>\n",
       "      <td>True</td>\n",
       "      <td>1</td>\n",
       "    </tr>\n",
       "    <tr>\n",
       "      <th>2</th>\n",
       "      <td>67118</td>\n",
       "      <td>2113-02-15 17:20:00</td>\n",
       "      <td>216609</td>\n",
       "      <td>116009</td>\n",
       "      <td>62</td>\n",
       "      <td>2113-02-15 00:20:44</td>\n",
       "      <td>2113-02-17 20:09:46</td>\n",
       "      <td>0 days 16:59:16</td>\n",
       "      <td>2 days 02:49:46</td>\n",
       "      <td>True</td>\n",
       "      <td>False</td>\n",
       "      <td>25097 days 00:20:44</td>\n",
       "      <td>NaN</td>\n",
       "      <td>NaN</td>\n",
       "      <td>NaT</td>\n",
       "      <td>NaT</td>\n",
       "      <td>True</td>\n",
       "      <td>True</td>\n",
       "      <td>1</td>\n",
       "    </tr>\n",
       "    <tr>\n",
       "      <th>3</th>\n",
       "      <td>80320</td>\n",
       "      <td>2147-04-05 13:50:00</td>\n",
       "      <td>281607</td>\n",
       "      <td>112086</td>\n",
       "      <td>75</td>\n",
       "      <td>2147-04-05 10:35:50</td>\n",
       "      <td>2147-04-06 16:31:18</td>\n",
       "      <td>0 days 03:14:10</td>\n",
       "      <td>1 days 02:41:18</td>\n",
       "      <td>True</td>\n",
       "      <td>False</td>\n",
       "      <td>28018 days 10:35:50</td>\n",
       "      <td>NaN</td>\n",
       "      <td>NaN</td>\n",
       "      <td>NaT</td>\n",
       "      <td>NaT</td>\n",
       "      <td>True</td>\n",
       "      <td>True</td>\n",
       "      <td>1</td>\n",
       "    </tr>\n",
       "    <tr>\n",
       "      <th>4</th>\n",
       "      <td>80083</td>\n",
       "      <td>2146-04-06 14:05:00</td>\n",
       "      <td>206222</td>\n",
       "      <td>190243</td>\n",
       "      <td>86</td>\n",
       "      <td>2146-04-06 11:51:54</td>\n",
       "      <td>2146-04-07 10:27:02</td>\n",
       "      <td>0 days 02:13:06</td>\n",
       "      <td>0 days 20:22:02</td>\n",
       "      <td>True</td>\n",
       "      <td>False</td>\n",
       "      <td>16521 days 11:51:54</td>\n",
       "      <td>NaN</td>\n",
       "      <td>NaN</td>\n",
       "      <td>NaT</td>\n",
       "      <td>NaT</td>\n",
       "      <td>True</td>\n",
       "      <td>True</td>\n",
       "      <td>1</td>\n",
       "    </tr>\n",
       "  </tbody>\n",
       "</table>\n",
       "</div>"
      ],
      "text/plain": [
       "   row_id           charttime  icustay_id  hadm_id  subject_id  \\\n",
       "0   67326 2135-02-01 15:42:00      216859   111970          21   \n",
       "1   67805 2131-05-04 10:41:00      280987   182104          36   \n",
       "2   67118 2113-02-15 17:20:00      216609   116009          62   \n",
       "3   80320 2147-04-05 13:50:00      281607   112086          75   \n",
       "4   80083 2146-04-06 14:05:00      206222   190243          86   \n",
       "\n",
       "               intime             outtime  intime_to_echo  echo_to_outtime  \\\n",
       "0 2135-01-30 20:53:34 2135-02-08 05:38:46 1 days 18:48:26  6 days 13:56:46   \n",
       "1 2131-05-04 10:29:14 2131-05-05 13:07:03 0 days 00:11:46  1 days 02:26:03   \n",
       "2 2113-02-15 00:20:44 2113-02-17 20:09:46 0 days 16:59:16  2 days 02:49:46   \n",
       "3 2147-04-05 10:35:50 2147-04-06 16:31:18 0 days 03:14:10  1 days 02:41:18   \n",
       "4 2146-04-06 11:51:54 2146-04-07 10:27:02 0 days 02:13:06  0 days 20:22:02   \n",
       "\n",
       "  ps_vaso diag_xc       age_at_intime  after_rowid  before_rowid  op_to_icu  \\\n",
       "0    True   False 32051 days 20:53:34          NaN           NaN        NaT   \n",
       "1    True   False 25443 days 10:29:14          NaN           NaN        NaT   \n",
       "2    True   False 25097 days 00:20:44          NaN           NaN        NaT   \n",
       "3    True   False 28018 days 10:35:50          NaN           NaN        NaT   \n",
       "4    True   False 16521 days 11:51:54          NaN           NaN        NaT   \n",
       "\n",
       "   icu_to_op time_filter age_filter  echo_seq  \n",
       "0        NaT        True       True         1  \n",
       "1        NaT        True       True         1  \n",
       "2        NaT        True       True         1  \n",
       "3        NaT        True       True         1  \n",
       "4        NaT        True       True         1  "
      ]
     },
     "execution_count": 105,
     "metadata": {},
     "output_type": "execute_result"
    }
   ],
   "source": [
    "query = \\\n",
    "\"\"\"\n",
    "SELECT * FROM echo_filtered; \n",
    "\"\"\"\n",
    "ef = pd.read_sql_query(query, con)\n",
    "ef.head()"
   ]
  },
  {
   "cell_type": "code",
   "execution_count": 106,
   "metadata": {
    "collapsed": false
   },
   "outputs": [
    {
     "data": {
      "text/plain": [
       "1931"
      ]
     },
     "execution_count": 106,
     "metadata": {},
     "output_type": "execute_result"
    }
   ],
   "source": [
    "len(ef['icustay_id'].unique())"
   ]
  },
  {
   "cell_type": "code",
   "execution_count": 107,
   "metadata": {
    "collapsed": false
   },
   "outputs": [
    {
     "data": {
      "text/plain": [
       "1931"
      ]
     },
     "execution_count": 107,
     "metadata": {},
     "output_type": "execute_result"
    }
   ],
   "source": [
    "len(ef['hadm_id'].unique())"
   ]
  },
  {
   "cell_type": "code",
   "execution_count": 108,
   "metadata": {
    "collapsed": false
   },
   "outputs": [
    {
     "data": {
      "text/plain": [
       "1931"
      ]
     },
     "execution_count": 108,
     "metadata": {},
     "output_type": "execute_result"
    }
   ],
   "source": [
    "len(ef['subject_id'].unique())"
   ]
  },
  {
   "cell_type": "code",
   "execution_count": 109,
   "metadata": {
    "collapsed": false
   },
   "outputs": [
    {
     "data": {
      "text/plain": [
       "1    1930\n",
       "2       1\n",
       "Name: subject_id, dtype: int64"
      ]
     },
     "execution_count": 109,
     "metadata": {},
     "output_type": "execute_result"
    }
   ],
   "source": [
    "ef['subject_id'].value_counts().value_counts()"
   ]
  },
  {
   "cell_type": "markdown",
   "metadata": {},
   "source": [
    "One weird datapoint: "
   ]
  },
  {
   "cell_type": "code",
   "execution_count": 110,
   "metadata": {
    "collapsed": false
   },
   "outputs": [
    {
     "data": {
      "text/html": [
       "<div>\n",
       "<table border=\"1\" class=\"dataframe\">\n",
       "  <thead>\n",
       "    <tr style=\"text-align: right;\">\n",
       "      <th></th>\n",
       "      <th>row_id</th>\n",
       "      <th>charttime</th>\n",
       "      <th>icustay_id</th>\n",
       "      <th>hadm_id</th>\n",
       "      <th>subject_id</th>\n",
       "      <th>intime</th>\n",
       "      <th>outtime</th>\n",
       "      <th>intime_to_echo</th>\n",
       "      <th>echo_to_outtime</th>\n",
       "      <th>ps_vaso</th>\n",
       "      <th>diag_xc</th>\n",
       "      <th>age_at_intime</th>\n",
       "      <th>after_rowid</th>\n",
       "      <th>before_rowid</th>\n",
       "      <th>op_to_icu</th>\n",
       "      <th>icu_to_op</th>\n",
       "      <th>time_filter</th>\n",
       "      <th>age_filter</th>\n",
       "      <th>echo_seq</th>\n",
       "    </tr>\n",
       "  </thead>\n",
       "  <tbody>\n",
       "    <tr>\n",
       "      <th>563</th>\n",
       "      <td>69146</td>\n",
       "      <td>2132-10-31 11:26:00</td>\n",
       "      <td>298972</td>\n",
       "      <td>175355</td>\n",
       "      <td>26139</td>\n",
       "      <td>2132-10-30 01:28:20</td>\n",
       "      <td>2132-11-23 17:34:28</td>\n",
       "      <td>1 days 09:57:40</td>\n",
       "      <td>23 days 06:08:28</td>\n",
       "      <td>True</td>\n",
       "      <td>False</td>\n",
       "      <td>25951 days 01:28:20</td>\n",
       "      <td>NaN</td>\n",
       "      <td>NaN</td>\n",
       "      <td>NaT</td>\n",
       "      <td>NaT</td>\n",
       "      <td>True</td>\n",
       "      <td>True</td>\n",
       "      <td>1</td>\n",
       "    </tr>\n",
       "    <tr>\n",
       "      <th>564</th>\n",
       "      <td>69145</td>\n",
       "      <td>2132-10-31 11:26:00</td>\n",
       "      <td>298972</td>\n",
       "      <td>175355</td>\n",
       "      <td>26139</td>\n",
       "      <td>2132-10-30 01:28:20</td>\n",
       "      <td>2132-11-23 17:34:28</td>\n",
       "      <td>1 days 09:57:40</td>\n",
       "      <td>23 days 06:08:28</td>\n",
       "      <td>True</td>\n",
       "      <td>False</td>\n",
       "      <td>25951 days 01:28:20</td>\n",
       "      <td>NaN</td>\n",
       "      <td>NaN</td>\n",
       "      <td>NaT</td>\n",
       "      <td>NaT</td>\n",
       "      <td>True</td>\n",
       "      <td>True</td>\n",
       "      <td>1</td>\n",
       "    </tr>\n",
       "  </tbody>\n",
       "</table>\n",
       "</div>"
      ],
      "text/plain": [
       "     row_id           charttime  icustay_id  hadm_id  subject_id  \\\n",
       "563   69146 2132-10-31 11:26:00      298972   175355       26139   \n",
       "564   69145 2132-10-31 11:26:00      298972   175355       26139   \n",
       "\n",
       "                 intime             outtime  intime_to_echo  echo_to_outtime  \\\n",
       "563 2132-10-30 01:28:20 2132-11-23 17:34:28 1 days 09:57:40 23 days 06:08:28   \n",
       "564 2132-10-30 01:28:20 2132-11-23 17:34:28 1 days 09:57:40 23 days 06:08:28   \n",
       "\n",
       "    ps_vaso diag_xc       age_at_intime  after_rowid  before_rowid  op_to_icu  \\\n",
       "563    True   False 25951 days 01:28:20          NaN           NaN        NaT   \n",
       "564    True   False 25951 days 01:28:20          NaN           NaN        NaT   \n",
       "\n",
       "     icu_to_op time_filter age_filter  echo_seq  \n",
       "563        NaT        True       True         1  \n",
       "564        NaT        True       True         1  "
      ]
     },
     "execution_count": 110,
     "metadata": {},
     "output_type": "execute_result"
    }
   ],
   "source": [
    "ef.loc[ef['subject_id'] == 26139]"
   ]
  },
  {
   "cell_type": "markdown",
   "metadata": {},
   "source": [
    "Pulling the echo data, this is because there were two different echos, one which is Portable TTE (Focused views) Color Doppler only, and other which was Portable TTE (Complete) Full Doppler and color Doppler. \n",
    "\n",
    "Note that the echodata gives height, weight, bsa, bp bpsys, bpdias and hr. "
   ]
  },
  {
   "cell_type": "code",
   "execution_count": null,
   "metadata": {
    "collapsed": true
   },
   "outputs": [],
   "source": []
  }
 ],
 "metadata": {
  "anaconda-cloud": {},
  "kernelspec": {
   "display_name": "Python [default]",
   "language": "python",
   "name": "python3"
  },
  "language_info": {
   "codemirror_mode": {
    "name": "ipython",
    "version": 3
   },
   "file_extension": ".py",
   "mimetype": "text/x-python",
   "name": "python",
   "nbconvert_exporter": "python",
   "pygments_lexer": "ipython3",
   "version": "3.5.2"
  }
 },
 "nbformat": 4,
 "nbformat_minor": 0
}
