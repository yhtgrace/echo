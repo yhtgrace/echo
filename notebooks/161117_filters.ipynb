{
 "cells": [
  {
   "cell_type": "markdown",
   "metadata": {},
   "source": [
    "Double-check the filters proposed. "
   ]
  },
  {
   "cell_type": "code",
   "execution_count": 1,
   "metadata": {
    "collapsed": true
   },
   "outputs": [],
   "source": [
    "import numpy as np\n",
    "import pandas as pd\n",
    "import psycopg2\n",
    "\n",
    "import matplotlib.pyplot as plt\n",
    "import seaborn as sns\n",
    "\n",
    "import matplotlib.style\n",
    "matplotlib.style.use('ggplot')\n",
    "%matplotlib inline"
   ]
  },
  {
   "cell_type": "code",
   "execution_count": 2,
   "metadata": {
    "collapsed": true
   },
   "outputs": [],
   "source": [
    "# create a database connection\n",
    "sqluser = 'mimic'\n",
    "dbname = 'mimic'\n",
    "schema_name = 'mimiciii'\n",
    "\n",
    "cur = None"
   ]
  },
  {
   "cell_type": "code",
   "execution_count": 335,
   "metadata": {
    "collapsed": true
   },
   "outputs": [],
   "source": [
    "if cur: \n",
    "    cur.close()\n",
    "    con.close()\n",
    "\n",
    "con = psycopg2.connect(dbname = dbname, user = sqluser)\n",
    "cur = con.cursor()\n",
    "cur.execute('SET search_path to ' + schema_name)"
   ]
  },
  {
   "cell_type": "markdown",
   "metadata": {},
   "source": [
    "Get echos that can be associated to an icustay_id. "
   ]
  },
  {
   "cell_type": "code",
   "execution_count": 55,
   "metadata": {
    "collapsed": false
   },
   "outputs": [
    {
     "data": {
      "text/plain": [
       "(25512, 7)"
      ]
     },
     "execution_count": 55,
     "metadata": {},
     "output_type": "execute_result"
    }
   ],
   "source": [
    "query = \\\n",
    "\"\"\"\n",
    "SELECT *\n",
    "FROM echo_icustay\n",
    "\"\"\"\n",
    "echos = pd.read_sql_query(query, con)\n",
    "echos.shape"
   ]
  },
  {
   "cell_type": "code",
   "execution_count": 72,
   "metadata": {
    "collapsed": false
   },
   "outputs": [
    {
     "data": {
      "text/html": [
       "<div>\n",
       "<table border=\"1\" class=\"dataframe\">\n",
       "  <thead>\n",
       "    <tr style=\"text-align: right;\">\n",
       "      <th></th>\n",
       "      <th>row_id</th>\n",
       "      <th>charttime</th>\n",
       "      <th>icustay_id</th>\n",
       "      <th>hadm_id</th>\n",
       "      <th>subject_id</th>\n",
       "      <th>intime</th>\n",
       "      <th>outtime</th>\n",
       "    </tr>\n",
       "  </thead>\n",
       "  <tbody>\n",
       "    <tr>\n",
       "      <th>0</th>\n",
       "      <td>67775</td>\n",
       "      <td>2170-11-08 12:03:00</td>\n",
       "      <td>206613</td>\n",
       "      <td>106296</td>\n",
       "      <td>269</td>\n",
       "      <td>2170-11-05 11:05:29</td>\n",
       "      <td>2170-11-08 17:46:57</td>\n",
       "    </tr>\n",
       "    <tr>\n",
       "      <th>1</th>\n",
       "      <td>73508</td>\n",
       "      <td>2186-12-25 23:54:00</td>\n",
       "      <td>210407</td>\n",
       "      <td>164716</td>\n",
       "      <td>272</td>\n",
       "      <td>2186-12-25 21:08:04</td>\n",
       "      <td>2186-12-27 12:01:13</td>\n",
       "    </tr>\n",
       "    <tr>\n",
       "      <th>2</th>\n",
       "      <td>99418</td>\n",
       "      <td>2114-07-03 11:54:00</td>\n",
       "      <td>254851</td>\n",
       "      <td>130546</td>\n",
       "      <td>274</td>\n",
       "      <td>2114-06-28 22:28:44</td>\n",
       "      <td>2114-07-07 18:01:16</td>\n",
       "    </tr>\n",
       "    <tr>\n",
       "      <th>3</th>\n",
       "      <td>75764</td>\n",
       "      <td>2164-06-15 10:26:00</td>\n",
       "      <td>204407</td>\n",
       "      <td>192224</td>\n",
       "      <td>279</td>\n",
       "      <td>2164-06-14 21:18:27</td>\n",
       "      <td>2164-06-18 22:53:12</td>\n",
       "    </tr>\n",
       "    <tr>\n",
       "      <th>4</th>\n",
       "      <td>60894</td>\n",
       "      <td>2101-10-24 09:50:00</td>\n",
       "      <td>257572</td>\n",
       "      <td>111199</td>\n",
       "      <td>281</td>\n",
       "      <td>2101-10-18 04:45:22</td>\n",
       "      <td>2101-10-25 22:29:25</td>\n",
       "    </tr>\n",
       "  </tbody>\n",
       "</table>\n",
       "</div>"
      ],
      "text/plain": [
       "   row_id           charttime  icustay_id  hadm_id  subject_id  \\\n",
       "0   67775 2170-11-08 12:03:00      206613   106296         269   \n",
       "1   73508 2186-12-25 23:54:00      210407   164716         272   \n",
       "2   99418 2114-07-03 11:54:00      254851   130546         274   \n",
       "3   75764 2164-06-15 10:26:00      204407   192224         279   \n",
       "4   60894 2101-10-24 09:50:00      257572   111199         281   \n",
       "\n",
       "               intime             outtime  \n",
       "0 2170-11-05 11:05:29 2170-11-08 17:46:57  \n",
       "1 2186-12-25 21:08:04 2186-12-27 12:01:13  \n",
       "2 2114-06-28 22:28:44 2114-07-07 18:01:16  \n",
       "3 2164-06-14 21:18:27 2164-06-18 22:53:12  \n",
       "4 2101-10-18 04:45:22 2101-10-25 22:29:25  "
      ]
     },
     "execution_count": 72,
     "metadata": {},
     "output_type": "execute_result"
    }
   ],
   "source": [
    "echos.head()"
   ]
  },
  {
   "cell_type": "code",
   "execution_count": 73,
   "metadata": {
    "collapsed": false
   },
   "outputs": [
    {
     "data": {
      "text/plain": [
       "19752"
      ]
     },
     "execution_count": 73,
     "metadata": {},
     "output_type": "execute_result"
    }
   ],
   "source": [
    "len(echos['icustay_id'].unique())"
   ]
  },
  {
   "cell_type": "code",
   "execution_count": 74,
   "metadata": {
    "collapsed": false
   },
   "outputs": [
    {
     "data": {
      "text/plain": [
       "19244"
      ]
     },
     "execution_count": 74,
     "metadata": {},
     "output_type": "execute_result"
    }
   ],
   "source": [
    "len(echos['hadm_id'].unique())"
   ]
  },
  {
   "cell_type": "code",
   "execution_count": 75,
   "metadata": {
    "collapsed": false
   },
   "outputs": [
    {
     "data": {
      "text/plain": [
       "17122"
      ]
     },
     "execution_count": 75,
     "metadata": {},
     "output_type": "execute_result"
    }
   ],
   "source": [
    "len(echos['subject_id'].unique())"
   ]
  },
  {
   "cell_type": "markdown",
   "metadata": {},
   "source": [
    "Compute variables required for filtering, namely\n",
    "+ Time of echo with respect to icustay intime\n",
    "+ Whether or not patient was on a vasopressor during the icustay\n",
    "+ Whether or not patient has an excluded diagnosis during the hospital admission\n",
    "+ Age on admission to the ICU\n",
    "\n",
    "Check the two hardest. Firstly, on whether or not the patient was on a vasopressor during the icustay: Look up prescriptions, filter for prescriptions that are vasopressors, count the number of unique icustay_ids. "
   ]
  },
  {
   "cell_type": "code",
   "execution_count": 80,
   "metadata": {
    "collapsed": false
   },
   "outputs": [
    {
     "data": {
      "text/html": [
       "<div>\n",
       "<table border=\"1\" class=\"dataframe\">\n",
       "  <thead>\n",
       "    <tr style=\"text-align: right;\">\n",
       "      <th></th>\n",
       "      <th>row_id</th>\n",
       "      <th>subject_id</th>\n",
       "      <th>hadm_id</th>\n",
       "      <th>icustay_id</th>\n",
       "      <th>startdate</th>\n",
       "      <th>enddate</th>\n",
       "      <th>drug_type</th>\n",
       "      <th>drug</th>\n",
       "      <th>drug_name_poe</th>\n",
       "      <th>drug_name_generic</th>\n",
       "      <th>formulary_drug_cd</th>\n",
       "      <th>gsn</th>\n",
       "      <th>ndc</th>\n",
       "      <th>prod_strength</th>\n",
       "      <th>dose_val_rx</th>\n",
       "      <th>dose_unit_rx</th>\n",
       "      <th>form_val_disp</th>\n",
       "      <th>form_unit_disp</th>\n",
       "      <th>route</th>\n",
       "    </tr>\n",
       "  </thead>\n",
       "  <tbody>\n",
       "    <tr>\n",
       "      <th>0</th>\n",
       "      <td>2350267</td>\n",
       "      <td>25</td>\n",
       "      <td>129635</td>\n",
       "      <td>203487</td>\n",
       "      <td>2160-11-02</td>\n",
       "      <td>2160-11-03</td>\n",
       "      <td>MAIN</td>\n",
       "      <td>Norepinephrine</td>\n",
       "      <td>None</td>\n",
       "      <td>None</td>\n",
       "      <td>LEVO4I</td>\n",
       "      <td>004939</td>\n",
       "      <td>00074144304</td>\n",
       "      <td>4MG/4ML AMP</td>\n",
       "      <td>4</td>\n",
       "      <td>mg</td>\n",
       "      <td>1</td>\n",
       "      <td>AMP</td>\n",
       "      <td>IV DRIP</td>\n",
       "    </tr>\n",
       "    <tr>\n",
       "      <th>1</th>\n",
       "      <td>1379347</td>\n",
       "      <td>21</td>\n",
       "      <td>111970</td>\n",
       "      <td>216859</td>\n",
       "      <td>2135-01-31</td>\n",
       "      <td>2135-02-06</td>\n",
       "      <td>MAIN</td>\n",
       "      <td>Norepinephrine</td>\n",
       "      <td>None</td>\n",
       "      <td>None</td>\n",
       "      <td>LEVO4I</td>\n",
       "      <td>028633</td>\n",
       "      <td>00703115303</td>\n",
       "      <td>4mg/4mL Amp</td>\n",
       "      <td>8</td>\n",
       "      <td>mg</td>\n",
       "      <td>2</td>\n",
       "      <td>AMP</td>\n",
       "      <td>IV DRIP</td>\n",
       "    </tr>\n",
       "    <tr>\n",
       "      <th>2</th>\n",
       "      <td>1379366</td>\n",
       "      <td>21</td>\n",
       "      <td>111970</td>\n",
       "      <td>216859</td>\n",
       "      <td>2135-02-05</td>\n",
       "      <td>2135-02-06</td>\n",
       "      <td>MAIN</td>\n",
       "      <td>Vasopressin</td>\n",
       "      <td>None</td>\n",
       "      <td>None</td>\n",
       "      <td>VASO20I</td>\n",
       "      <td>006611</td>\n",
       "      <td>61570042001</td>\n",
       "      <td>20U/ML VIAL</td>\n",
       "      <td>100</td>\n",
       "      <td>UNIT</td>\n",
       "      <td>5</td>\n",
       "      <td>ml</td>\n",
       "      <td>IV DRIP</td>\n",
       "    </tr>\n",
       "    <tr>\n",
       "      <th>3</th>\n",
       "      <td>1381496</td>\n",
       "      <td>36</td>\n",
       "      <td>182104</td>\n",
       "      <td>280987</td>\n",
       "      <td>2131-05-04</td>\n",
       "      <td>2131-05-04</td>\n",
       "      <td>MAIN</td>\n",
       "      <td>Phenylephrine</td>\n",
       "      <td>None</td>\n",
       "      <td>None</td>\n",
       "      <td>PHEN12SYR</td>\n",
       "      <td>005066</td>\n",
       "      <td>00409180001</td>\n",
       "      <td>12MG/50ML SYR</td>\n",
       "      <td>12</td>\n",
       "      <td>mg</td>\n",
       "      <td>1</td>\n",
       "      <td>SYR</td>\n",
       "      <td>IV DRIP</td>\n",
       "    </tr>\n",
       "    <tr>\n",
       "      <th>4</th>\n",
       "      <td>2907879</td>\n",
       "      <td>35</td>\n",
       "      <td>166707</td>\n",
       "      <td>282039</td>\n",
       "      <td>2122-02-10</td>\n",
       "      <td>2122-02-11</td>\n",
       "      <td>MAIN</td>\n",
       "      <td>Phenylephrine</td>\n",
       "      <td>None</td>\n",
       "      <td>None</td>\n",
       "      <td>PHEN12SYR</td>\n",
       "      <td>005066</td>\n",
       "      <td>00409180001</td>\n",
       "      <td>12MG/50ML SYR</td>\n",
       "      <td>12</td>\n",
       "      <td>mg</td>\n",
       "      <td>1</td>\n",
       "      <td>SYR</td>\n",
       "      <td>IV DRIP</td>\n",
       "    </tr>\n",
       "  </tbody>\n",
       "</table>\n",
       "</div>"
      ],
      "text/plain": [
       "    row_id  subject_id  hadm_id  icustay_id  startdate    enddate drug_type  \\\n",
       "0  2350267          25   129635      203487 2160-11-02 2160-11-03      MAIN   \n",
       "1  1379347          21   111970      216859 2135-01-31 2135-02-06      MAIN   \n",
       "2  1379366          21   111970      216859 2135-02-05 2135-02-06      MAIN   \n",
       "3  1381496          36   182104      280987 2131-05-04 2131-05-04      MAIN   \n",
       "4  2907879          35   166707      282039 2122-02-10 2122-02-11      MAIN   \n",
       "\n",
       "             drug drug_name_poe drug_name_generic formulary_drug_cd     gsn  \\\n",
       "0  Norepinephrine          None              None            LEVO4I  004939   \n",
       "1  Norepinephrine          None              None            LEVO4I  028633   \n",
       "2     Vasopressin          None              None           VASO20I  006611   \n",
       "3   Phenylephrine          None              None         PHEN12SYR  005066   \n",
       "4   Phenylephrine          None              None         PHEN12SYR  005066   \n",
       "\n",
       "           ndc  prod_strength dose_val_rx dose_unit_rx form_val_disp  \\\n",
       "0  00074144304    4MG/4ML AMP           4           mg             1   \n",
       "1  00703115303    4mg/4mL Amp           8           mg             2   \n",
       "2  61570042001    20U/ML VIAL         100         UNIT             5   \n",
       "3  00409180001  12MG/50ML SYR          12           mg             1   \n",
       "4  00409180001  12MG/50ML SYR          12           mg             1   \n",
       "\n",
       "  form_unit_disp    route  \n",
       "0            AMP  IV DRIP  \n",
       "1            AMP  IV DRIP  \n",
       "2             ml  IV DRIP  \n",
       "3            SYR  IV DRIP  \n",
       "4            SYR  IV DRIP  "
      ]
     },
     "execution_count": 80,
     "metadata": {},
     "output_type": "execute_result"
    }
   ],
   "source": [
    "query = \\\n",
    "\"\"\"\n",
    "SELECT ps.* FROM prescriptions ps\n",
    "INNER JOIN d_prescriptions_vaso dpv\n",
    "ON (ps.drug IS NOT DISTINCT FROM dpv.drug\n",
    "    AND ps.drug_name_poe IS NOT DISTINCT FROM dpv.drug_name_poe\n",
    "    AND ps.drug_name_generic IS NOT DISTINCT FROM dpv.drug_name_generic\n",
    "    AND ps.route IS NOT DISTINCT FROM dpv.route)\n",
    "INNER JOIN echo_icustay ei\n",
    "ON ps.icustay_id = ei.icustay_id\n",
    ";\n",
    "\"\"\"\n",
    "ps = pd.read_sql_query(query, con)\n",
    "ps.head()"
   ]
  },
  {
   "cell_type": "code",
   "execution_count": 87,
   "metadata": {
    "collapsed": false
   },
   "outputs": [
    {
     "data": {
      "text/plain": [
       "8425"
      ]
     },
     "execution_count": 87,
     "metadata": {},
     "output_type": "execute_result"
    }
   ],
   "source": [
    "len(ps['icustay_id'].unique())"
   ]
  },
  {
   "cell_type": "code",
   "execution_count": 267,
   "metadata": {
    "collapsed": false
   },
   "outputs": [
    {
     "data": {
      "text/html": [
       "<div>\n",
       "<table border=\"1\" class=\"dataframe\">\n",
       "  <thead>\n",
       "    <tr style=\"text-align: right;\">\n",
       "      <th></th>\n",
       "      <th>row_id</th>\n",
       "      <th>charttime</th>\n",
       "      <th>icustay_id</th>\n",
       "      <th>hadm_id</th>\n",
       "      <th>subject_id</th>\n",
       "      <th>intime</th>\n",
       "      <th>outtime</th>\n",
       "      <th>intime_to_echo</th>\n",
       "      <th>echo_to_outtime</th>\n",
       "      <th>ps_vaso</th>\n",
       "      <th>diag_xc</th>\n",
       "      <th>age_at_intime</th>\n",
       "      <th>dob</th>\n",
       "    </tr>\n",
       "  </thead>\n",
       "  <tbody>\n",
       "    <tr>\n",
       "      <th>0</th>\n",
       "      <td>83837</td>\n",
       "      <td>2182-08-19 10:46:00</td>\n",
       "      <td>264827</td>\n",
       "      <td>195409</td>\n",
       "      <td>32755</td>\n",
       "      <td>2182-08-18 16:50:19</td>\n",
       "      <td>2182-08-19 16:33:46</td>\n",
       "      <td>0 days 17:55:41</td>\n",
       "      <td>0 days 05:47:46</td>\n",
       "      <td>False</td>\n",
       "      <td>True</td>\n",
       "      <td>21643 days 16:50:19</td>\n",
       "      <td>2123-04-30</td>\n",
       "    </tr>\n",
       "    <tr>\n",
       "      <th>1</th>\n",
       "      <td>104824</td>\n",
       "      <td>2119-01-26 14:49:00</td>\n",
       "      <td>276795</td>\n",
       "      <td>124493</td>\n",
       "      <td>69851</td>\n",
       "      <td>2119-01-26 16:57:32</td>\n",
       "      <td>2119-01-27 19:18:02</td>\n",
       "      <td>-1 days +21:51:28</td>\n",
       "      <td>1 days 04:29:02</td>\n",
       "      <td>False</td>\n",
       "      <td>True</td>\n",
       "      <td>25047 days 16:57:32</td>\n",
       "      <td>2050-06-09</td>\n",
       "    </tr>\n",
       "    <tr>\n",
       "      <th>2</th>\n",
       "      <td>59659</td>\n",
       "      <td>2200-10-22 15:14:00</td>\n",
       "      <td>217810</td>\n",
       "      <td>188268</td>\n",
       "      <td>82208</td>\n",
       "      <td>2200-10-21 14:54:57</td>\n",
       "      <td>2200-10-24 14:01:58</td>\n",
       "      <td>1 days 00:19:03</td>\n",
       "      <td>1 days 22:47:58</td>\n",
       "      <td>False</td>\n",
       "      <td>True</td>\n",
       "      <td>22331 days 14:54:57</td>\n",
       "      <td>2139-08-15</td>\n",
       "    </tr>\n",
       "    <tr>\n",
       "      <th>3</th>\n",
       "      <td>67634</td>\n",
       "      <td>2186-09-19 12:09:00</td>\n",
       "      <td>263932</td>\n",
       "      <td>168160</td>\n",
       "      <td>24182</td>\n",
       "      <td>2186-09-19 09:40:07</td>\n",
       "      <td>2186-09-22 13:15:57</td>\n",
       "      <td>0 days 02:28:53</td>\n",
       "      <td>3 days 01:06:57</td>\n",
       "      <td>True</td>\n",
       "      <td>True</td>\n",
       "      <td>27636 days 09:40:07</td>\n",
       "      <td>2110-12-29</td>\n",
       "    </tr>\n",
       "    <tr>\n",
       "      <th>4</th>\n",
       "      <td>97569</td>\n",
       "      <td>2183-06-24 12:57:00</td>\n",
       "      <td>296461</td>\n",
       "      <td>107856</td>\n",
       "      <td>15977</td>\n",
       "      <td>2183-06-24 15:44:23</td>\n",
       "      <td>2183-06-28 16:12:29</td>\n",
       "      <td>-1 days +21:12:37</td>\n",
       "      <td>4 days 03:15:29</td>\n",
       "      <td>False</td>\n",
       "      <td>True</td>\n",
       "      <td>20237 days 15:44:23</td>\n",
       "      <td>2128-01-12</td>\n",
       "    </tr>\n",
       "  </tbody>\n",
       "</table>\n",
       "</div>"
      ],
      "text/plain": [
       "   row_id           charttime  icustay_id  hadm_id  subject_id  \\\n",
       "0   83837 2182-08-19 10:46:00      264827   195409       32755   \n",
       "1  104824 2119-01-26 14:49:00      276795   124493       69851   \n",
       "2   59659 2200-10-22 15:14:00      217810   188268       82208   \n",
       "3   67634 2186-09-19 12:09:00      263932   168160       24182   \n",
       "4   97569 2183-06-24 12:57:00      296461   107856       15977   \n",
       "\n",
       "               intime             outtime    intime_to_echo  echo_to_outtime  \\\n",
       "0 2182-08-18 16:50:19 2182-08-19 16:33:46   0 days 17:55:41  0 days 05:47:46   \n",
       "1 2119-01-26 16:57:32 2119-01-27 19:18:02 -1 days +21:51:28  1 days 04:29:02   \n",
       "2 2200-10-21 14:54:57 2200-10-24 14:01:58   1 days 00:19:03  1 days 22:47:58   \n",
       "3 2186-09-19 09:40:07 2186-09-22 13:15:57   0 days 02:28:53  3 days 01:06:57   \n",
       "4 2183-06-24 15:44:23 2183-06-28 16:12:29 -1 days +21:12:37  4 days 03:15:29   \n",
       "\n",
       "  ps_vaso diag_xc       age_at_intime        dob  \n",
       "0   False    True 21643 days 16:50:19 2123-04-30  \n",
       "1   False    True 25047 days 16:57:32 2050-06-09  \n",
       "2   False    True 22331 days 14:54:57 2139-08-15  \n",
       "3    True    True 27636 days 09:40:07 2110-12-29  \n",
       "4   False    True 20237 days 15:44:23 2128-01-12  "
      ]
     },
     "execution_count": 267,
     "metadata": {},
     "output_type": "execute_result"
    }
   ],
   "source": [
    "query = \\\n",
    "\"\"\"\n",
    "SELECT * FROM echo_filter_vars\n",
    "\"\"\"\n",
    "efv = pd.read_sql_query(query, con)\n",
    "efv.head()"
   ]
  },
  {
   "cell_type": "markdown",
   "metadata": {},
   "source": [
    "Ok. The numbers agree now. This is the number of icustays associated with ps_vaso. "
   ]
  },
  {
   "cell_type": "code",
   "execution_count": 95,
   "metadata": {
    "collapsed": false
   },
   "outputs": [
    {
     "data": {
      "text/plain": [
       "8425"
      ]
     },
     "execution_count": 95,
     "metadata": {},
     "output_type": "execute_result"
    }
   ],
   "source": [
    "len(efv.loc[efv['ps_vaso'], 'icustay_id'].unique())"
   ]
  },
  {
   "cell_type": "code",
   "execution_count": 97,
   "metadata": {
    "collapsed": false
   },
   "outputs": [
    {
     "data": {
      "text/plain": [
       "8318"
      ]
     },
     "execution_count": 97,
     "metadata": {},
     "output_type": "execute_result"
    }
   ],
   "source": [
    "len(efv.loc[efv['ps_vaso'], 'hadm_id'].unique())"
   ]
  },
  {
   "cell_type": "code",
   "execution_count": 96,
   "metadata": {
    "collapsed": false
   },
   "outputs": [
    {
     "data": {
      "text/plain": [
       "7897"
      ]
     },
     "execution_count": 96,
     "metadata": {},
     "output_type": "execute_result"
    }
   ],
   "source": [
    "len(efv.loc[efv['ps_vaso'], 'subject_id'].unique())"
   ]
  },
  {
   "cell_type": "markdown",
   "metadata": {},
   "source": [
    "Also, check whether or not the patient has an excluded diagnosis. To do that, get the list of diagnoses to be excluded, filter the list of diagnoses actually to be excluded. "
   ]
  },
  {
   "cell_type": "code",
   "execution_count": 98,
   "metadata": {
    "collapsed": false
   },
   "outputs": [
    {
     "data": {
      "text/html": [
       "<div>\n",
       "<table border=\"1\" class=\"dataframe\">\n",
       "  <thead>\n",
       "    <tr style=\"text-align: right;\">\n",
       "      <th></th>\n",
       "      <th>icd9_code</th>\n",
       "      <th>short_title</th>\n",
       "      <th>long_title</th>\n",
       "      <th>k_card</th>\n",
       "      <th>k_heart</th>\n",
       "      <th>k_hemorrhag</th>\n",
       "      <th>k_bleed</th>\n",
       "      <th>k_embolism</th>\n",
       "      <th>k_shock</th>\n",
       "      <th>k_clot</th>\n",
       "      <th>num</th>\n",
       "      <th>exclude</th>\n",
       "      <th>comments</th>\n",
       "    </tr>\n",
       "  </thead>\n",
       "  <tbody>\n",
       "    <tr>\n",
       "      <th>0</th>\n",
       "      <td>3641</td>\n",
       "      <td>Meningococc pericarditis</td>\n",
       "      <td>Meningococcal pericarditis</td>\n",
       "      <td>1</td>\n",
       "      <td>0</td>\n",
       "      <td>0</td>\n",
       "      <td>0</td>\n",
       "      <td>0</td>\n",
       "      <td>0</td>\n",
       "      <td>0</td>\n",
       "      <td>11</td>\n",
       "      <td>1</td>\n",
       "      <td>None</td>\n",
       "    </tr>\n",
       "    <tr>\n",
       "      <th>1</th>\n",
       "      <td>4082</td>\n",
       "      <td>Toxic shock syndrome</td>\n",
       "      <td>Toxic shock syndrome</td>\n",
       "      <td>0</td>\n",
       "      <td>0</td>\n",
       "      <td>0</td>\n",
       "      <td>0</td>\n",
       "      <td>0</td>\n",
       "      <td>1</td>\n",
       "      <td>0</td>\n",
       "      <td>25</td>\n",
       "      <td>0</td>\n",
       "      <td>None</td>\n",
       "    </tr>\n",
       "    <tr>\n",
       "      <th>2</th>\n",
       "      <td>521</td>\n",
       "      <td>Varicella pneumonitis</td>\n",
       "      <td>Varicella (hemorrhagic) pneumonitis</td>\n",
       "      <td>0</td>\n",
       "      <td>0</td>\n",
       "      <td>1</td>\n",
       "      <td>0</td>\n",
       "      <td>0</td>\n",
       "      <td>0</td>\n",
       "      <td>0</td>\n",
       "      <td>4</td>\n",
       "      <td>1</td>\n",
       "      <td>None</td>\n",
       "    </tr>\n",
       "    <tr>\n",
       "      <th>3</th>\n",
       "      <td>860</td>\n",
       "      <td>Chagas disease of heart</td>\n",
       "      <td>Chagas' disease with heart involvement</td>\n",
       "      <td>0</td>\n",
       "      <td>1</td>\n",
       "      <td>0</td>\n",
       "      <td>0</td>\n",
       "      <td>0</td>\n",
       "      <td>0</td>\n",
       "      <td>0</td>\n",
       "      <td>1</td>\n",
       "      <td>1</td>\n",
       "      <td>None</td>\n",
       "    </tr>\n",
       "    <tr>\n",
       "      <th>4</th>\n",
       "      <td>11281</td>\n",
       "      <td>Candidal endocarditis</td>\n",
       "      <td>Candidal endocarditis</td>\n",
       "      <td>1</td>\n",
       "      <td>0</td>\n",
       "      <td>0</td>\n",
       "      <td>0</td>\n",
       "      <td>0</td>\n",
       "      <td>0</td>\n",
       "      <td>0</td>\n",
       "      <td>6</td>\n",
       "      <td>1</td>\n",
       "      <td>None</td>\n",
       "    </tr>\n",
       "  </tbody>\n",
       "</table>\n",
       "</div>"
      ],
      "text/plain": [
       "  icd9_code               short_title                              long_title  \\\n",
       "0      3641  Meningococc pericarditis              Meningococcal pericarditis   \n",
       "1      4082      Toxic shock syndrome                    Toxic shock syndrome   \n",
       "2       521     Varicella pneumonitis     Varicella (hemorrhagic) pneumonitis   \n",
       "3       860   Chagas disease of heart  Chagas' disease with heart involvement   \n",
       "4     11281     Candidal endocarditis                   Candidal endocarditis   \n",
       "\n",
       "   k_card  k_heart  k_hemorrhag  k_bleed  k_embolism  k_shock  k_clot  num  \\\n",
       "0       1        0            0        0           0        0       0   11   \n",
       "1       0        0            0        0           0        1       0   25   \n",
       "2       0        0            1        0           0        0       0    4   \n",
       "3       0        1            0        0           0        0       0    1   \n",
       "4       1        0            0        0           0        0       0    6   \n",
       "\n",
       "   exclude comments  \n",
       "0        1     None  \n",
       "1        0     None  \n",
       "2        1     None  \n",
       "3        1     None  \n",
       "4        1     None  "
      ]
     },
     "execution_count": 98,
     "metadata": {},
     "output_type": "execute_result"
    }
   ],
   "source": [
    "query = \\\n",
    "\"\"\"\n",
    "SELECT * FROM d_diagnoses_xc_annot\n",
    "\"\"\"\n",
    "dxc = pd.read_sql_query(query, con)\n",
    "dxc.head()"
   ]
  },
  {
   "cell_type": "code",
   "execution_count": 99,
   "metadata": {
    "collapsed": false
   },
   "outputs": [],
   "source": [
    "dxc_icd9s = set(dxc.loc[dxc['exclude'] == 1, 'icd9_code'].unique())"
   ]
  },
  {
   "cell_type": "code",
   "execution_count": 100,
   "metadata": {
    "collapsed": false
   },
   "outputs": [
    {
     "data": {
      "text/html": [
       "<div>\n",
       "<table border=\"1\" class=\"dataframe\">\n",
       "  <thead>\n",
       "    <tr style=\"text-align: right;\">\n",
       "      <th></th>\n",
       "      <th>row_id</th>\n",
       "      <th>subject_id</th>\n",
       "      <th>hadm_id</th>\n",
       "      <th>seq_num</th>\n",
       "      <th>icd9_code</th>\n",
       "    </tr>\n",
       "  </thead>\n",
       "  <tbody>\n",
       "    <tr>\n",
       "      <th>0</th>\n",
       "      <td>1297</td>\n",
       "      <td>109</td>\n",
       "      <td>172335</td>\n",
       "      <td>1.0</td>\n",
       "      <td>40301</td>\n",
       "    </tr>\n",
       "    <tr>\n",
       "      <th>1</th>\n",
       "      <td>1298</td>\n",
       "      <td>109</td>\n",
       "      <td>172335</td>\n",
       "      <td>2.0</td>\n",
       "      <td>486</td>\n",
       "    </tr>\n",
       "    <tr>\n",
       "      <th>2</th>\n",
       "      <td>1299</td>\n",
       "      <td>109</td>\n",
       "      <td>172335</td>\n",
       "      <td>3.0</td>\n",
       "      <td>58281</td>\n",
       "    </tr>\n",
       "    <tr>\n",
       "      <th>3</th>\n",
       "      <td>1300</td>\n",
       "      <td>109</td>\n",
       "      <td>172335</td>\n",
       "      <td>4.0</td>\n",
       "      <td>5855</td>\n",
       "    </tr>\n",
       "    <tr>\n",
       "      <th>4</th>\n",
       "      <td>1301</td>\n",
       "      <td>109</td>\n",
       "      <td>172335</td>\n",
       "      <td>5.0</td>\n",
       "      <td>4254</td>\n",
       "    </tr>\n",
       "  </tbody>\n",
       "</table>\n",
       "</div>"
      ],
      "text/plain": [
       "   row_id  subject_id  hadm_id  seq_num icd9_code\n",
       "0    1297         109   172335      1.0     40301\n",
       "1    1298         109   172335      2.0       486\n",
       "2    1299         109   172335      3.0     58281\n",
       "3    1300         109   172335      4.0      5855\n",
       "4    1301         109   172335      5.0      4254"
      ]
     },
     "execution_count": 100,
     "metadata": {},
     "output_type": "execute_result"
    }
   ],
   "source": [
    "query = \\\n",
    "\"\"\"\n",
    "SELECT * FROM DIAGNOSES_ICD\n",
    "\"\"\"\n",
    "dg = pd.read_sql_query(query, con)\n",
    "dg.head()"
   ]
  },
  {
   "cell_type": "code",
   "execution_count": 101,
   "metadata": {
    "collapsed": false
   },
   "outputs": [
    {
     "data": {
      "text/html": [
       "<div>\n",
       "<table border=\"1\" class=\"dataframe\">\n",
       "  <thead>\n",
       "    <tr style=\"text-align: right;\">\n",
       "      <th></th>\n",
       "      <th>row_id</th>\n",
       "      <th>subject_id</th>\n",
       "      <th>hadm_id</th>\n",
       "      <th>seq_num</th>\n",
       "      <th>icd9_code</th>\n",
       "    </tr>\n",
       "  </thead>\n",
       "  <tbody>\n",
       "    <tr>\n",
       "      <th>4</th>\n",
       "      <td>1301</td>\n",
       "      <td>109</td>\n",
       "      <td>172335</td>\n",
       "      <td>5.0</td>\n",
       "      <td>4254</td>\n",
       "    </tr>\n",
       "    <tr>\n",
       "      <th>28</th>\n",
       "      <td>1488</td>\n",
       "      <td>112</td>\n",
       "      <td>174105</td>\n",
       "      <td>1.0</td>\n",
       "      <td>53100</td>\n",
       "    </tr>\n",
       "    <tr>\n",
       "      <th>29</th>\n",
       "      <td>1489</td>\n",
       "      <td>112</td>\n",
       "      <td>174105</td>\n",
       "      <td>2.0</td>\n",
       "      <td>41071</td>\n",
       "    </tr>\n",
       "    <tr>\n",
       "      <th>51</th>\n",
       "      <td>1511</td>\n",
       "      <td>115</td>\n",
       "      <td>114585</td>\n",
       "      <td>10.0</td>\n",
       "      <td>4280</td>\n",
       "    </tr>\n",
       "    <tr>\n",
       "      <th>67</th>\n",
       "      <td>1527</td>\n",
       "      <td>117</td>\n",
       "      <td>140784</td>\n",
       "      <td>5.0</td>\n",
       "      <td>4280</td>\n",
       "    </tr>\n",
       "  </tbody>\n",
       "</table>\n",
       "</div>"
      ],
      "text/plain": [
       "    row_id  subject_id  hadm_id  seq_num icd9_code\n",
       "4     1301         109   172335      5.0      4254\n",
       "28    1488         112   174105      1.0     53100\n",
       "29    1489         112   174105      2.0     41071\n",
       "51    1511         115   114585     10.0      4280\n",
       "67    1527         117   140784      5.0      4280"
      ]
     },
     "execution_count": 101,
     "metadata": {},
     "output_type": "execute_result"
    }
   ],
   "source": [
    "dg_ = dg.loc[dg['icd9_code'].apply(lambda d: d in dxc_icd9s)]\n",
    "dg_.head()"
   ]
  },
  {
   "cell_type": "code",
   "execution_count": 104,
   "metadata": {
    "collapsed": false
   },
   "outputs": [
    {
     "data": {
      "text/plain": [
       "14125"
      ]
     },
     "execution_count": 104,
     "metadata": {},
     "output_type": "execute_result"
    }
   ],
   "source": [
    "len(set(dg_['hadm_id'].unique()) & set(echos['hadm_id']))"
   ]
  },
  {
   "cell_type": "code",
   "execution_count": 106,
   "metadata": {
    "collapsed": false
   },
   "outputs": [
    {
     "data": {
      "text/plain": [
       "14586"
      ]
     },
     "execution_count": 106,
     "metadata": {},
     "output_type": "execute_result"
    }
   ],
   "source": [
    "len(efv.loc[efv['diag_xc'], 'icustay_id'].unique())"
   ]
  },
  {
   "cell_type": "code",
   "execution_count": 105,
   "metadata": {
    "collapsed": false
   },
   "outputs": [
    {
     "data": {
      "text/plain": [
       "14125"
      ]
     },
     "execution_count": 105,
     "metadata": {},
     "output_type": "execute_result"
    }
   ],
   "source": [
    "len(efv.loc[efv['diag_xc'], 'hadm_id'].unique())"
   ]
  },
  {
   "cell_type": "code",
   "execution_count": 107,
   "metadata": {
    "collapsed": false
   },
   "outputs": [
    {
     "data": {
      "text/plain": [
       "12587"
      ]
     },
     "execution_count": 107,
     "metadata": {},
     "output_type": "execute_result"
    }
   ],
   "source": [
    "len(efv.loc[efv['diag_xc'], 'subject_id'].unique())"
   ]
  },
  {
   "cell_type": "markdown",
   "metadata": {},
   "source": [
    "Ok. I think it agrees. Summarize in spreadsheet with the various filters on. "
   ]
  },
  {
   "cell_type": "code",
   "execution_count": 111,
   "metadata": {
    "collapsed": false
   },
   "outputs": [
    {
     "data": {
      "text/plain": [
       "2328"
      ]
     },
     "execution_count": 111,
     "metadata": {},
     "output_type": "execute_result"
    }
   ],
   "source": [
    "len(efv.loc[efv['ps_vaso'] & ~efv['diag_xc'], 'icustay_id'].unique())"
   ]
  },
  {
   "cell_type": "code",
   "execution_count": 112,
   "metadata": {
    "collapsed": false
   },
   "outputs": [
    {
     "data": {
      "text/plain": [
       "2315"
      ]
     },
     "execution_count": 112,
     "metadata": {},
     "output_type": "execute_result"
    }
   ],
   "source": [
    "len(efv.loc[efv['ps_vaso'] & ~efv['diag_xc'], 'hadm_id'].unique())"
   ]
  },
  {
   "cell_type": "code",
   "execution_count": 113,
   "metadata": {
    "collapsed": false
   },
   "outputs": [
    {
     "data": {
      "text/plain": [
       "2277"
      ]
     },
     "execution_count": 113,
     "metadata": {},
     "output_type": "execute_result"
    }
   ],
   "source": [
    "len(efv.loc[efv['ps_vaso'] & ~efv['diag_xc'], 'subject_id'].unique())"
   ]
  },
  {
   "cell_type": "markdown",
   "metadata": {},
   "source": [
    "Time filter"
   ]
  },
  {
   "cell_type": "code",
   "execution_count": 179,
   "metadata": {
    "collapsed": false
   },
   "outputs": [
    {
     "data": {
      "text/plain": [
       "16467"
      ]
     },
     "execution_count": 179,
     "metadata": {},
     "output_type": "execute_result"
    }
   ],
   "source": [
    "time_filter = (efv['intime_to_echo'] > pd.Timedelta('-8 hours')) & (efv['intime_to_echo'] < pd.Timedelta('48 hours'))\n",
    "len(efv.loc[time_filter, 'icustay_id'].unique())"
   ]
  },
  {
   "cell_type": "code",
   "execution_count": 182,
   "metadata": {
    "collapsed": false
   },
   "outputs": [
    {
     "data": {
      "text/plain": [
       "16115"
      ]
     },
     "execution_count": 182,
     "metadata": {},
     "output_type": "execute_result"
    }
   ],
   "source": [
    "len(efv.loc[time_filter, 'hadm_id'].unique())"
   ]
  },
  {
   "cell_type": "code",
   "execution_count": 183,
   "metadata": {
    "collapsed": false
   },
   "outputs": [
    {
     "data": {
      "text/plain": [
       "14567"
      ]
     },
     "execution_count": 183,
     "metadata": {},
     "output_type": "execute_result"
    }
   ],
   "source": [
    "len(efv.loc[time_filter, 'subject_id'].unique())"
   ]
  },
  {
   "cell_type": "markdown",
   "metadata": {},
   "source": [
    "On pressors, no excluded diagnoses, and time filter"
   ]
  },
  {
   "cell_type": "code",
   "execution_count": 184,
   "metadata": {
    "collapsed": false
   },
   "outputs": [
    {
     "data": {
      "text/plain": [
       "1967"
      ]
     },
     "execution_count": 184,
     "metadata": {},
     "output_type": "execute_result"
    }
   ],
   "source": [
    "len(efv.loc[efv['ps_vaso'] & ~efv['diag_xc'] & time_filter, 'icustay_id'].unique())"
   ]
  },
  {
   "cell_type": "code",
   "execution_count": 187,
   "metadata": {
    "collapsed": false
   },
   "outputs": [
    {
     "data": {
      "text/plain": [
       "1964"
      ]
     },
     "execution_count": 187,
     "metadata": {},
     "output_type": "execute_result"
    }
   ],
   "source": [
    "len(efv.loc[efv['ps_vaso'] & ~efv['diag_xc'] & time_filter, 'hadm_id'].unique())"
   ]
  },
  {
   "cell_type": "code",
   "execution_count": 188,
   "metadata": {
    "collapsed": false
   },
   "outputs": [
    {
     "data": {
      "text/plain": [
       "1944"
      ]
     },
     "execution_count": 188,
     "metadata": {},
     "output_type": "execute_result"
    }
   ],
   "source": [
    "len(efv.loc[efv['ps_vaso'] & ~efv['diag_xc'] & time_filter, 'subject_id'].unique())"
   ]
  },
  {
   "cell_type": "markdown",
   "metadata": {},
   "source": [
    "Age"
   ]
  },
  {
   "cell_type": "code",
   "execution_count": 251,
   "metadata": {
    "collapsed": false
   },
   "outputs": [
    {
     "data": {
      "text/plain": [
       "(25512, 12)"
      ]
     },
     "execution_count": 251,
     "metadata": {},
     "output_type": "execute_result"
    }
   ],
   "source": [
    "efv.shape"
   ]
  },
  {
   "cell_type": "code",
   "execution_count": 258,
   "metadata": {
    "collapsed": false
   },
   "outputs": [
    {
     "data": {
      "text/plain": [
       "(25512, 14)"
      ]
     },
     "execution_count": 258,
     "metadata": {},
     "output_type": "execute_result"
    }
   ],
   "source": [
    "ef.shape"
   ]
  },
  {
   "cell_type": "code",
   "execution_count": 270,
   "metadata": {
    "collapsed": false
   },
   "outputs": [
    {
     "data": {
      "text/html": [
       "<div>\n",
       "<table border=\"1\" class=\"dataframe\">\n",
       "  <thead>\n",
       "    <tr style=\"text-align: right;\">\n",
       "      <th></th>\n",
       "      <th>row_id</th>\n",
       "      <th>charttime</th>\n",
       "      <th>icustay_id</th>\n",
       "      <th>hadm_id</th>\n",
       "      <th>subject_id</th>\n",
       "      <th>intime</th>\n",
       "      <th>outtime</th>\n",
       "      <th>intime_to_echo</th>\n",
       "      <th>echo_to_outtime</th>\n",
       "      <th>ps_vaso</th>\n",
       "      <th>diag_xc</th>\n",
       "      <th>age_at_intime</th>\n",
       "      <th>dob</th>\n",
       "      <th>time_filter</th>\n",
       "      <th>age_filter</th>\n",
       "    </tr>\n",
       "  </thead>\n",
       "  <tbody>\n",
       "    <tr>\n",
       "      <th>0</th>\n",
       "      <td>83837</td>\n",
       "      <td>2182-08-19 10:46:00</td>\n",
       "      <td>264827</td>\n",
       "      <td>195409</td>\n",
       "      <td>32755</td>\n",
       "      <td>2182-08-18 16:50:19</td>\n",
       "      <td>2182-08-19 16:33:46</td>\n",
       "      <td>0 days 17:55:41</td>\n",
       "      <td>0 days 05:47:46</td>\n",
       "      <td>False</td>\n",
       "      <td>True</td>\n",
       "      <td>21643 days 16:50:19</td>\n",
       "      <td>2123-04-30</td>\n",
       "      <td>True</td>\n",
       "      <td>True</td>\n",
       "    </tr>\n",
       "    <tr>\n",
       "      <th>1</th>\n",
       "      <td>104824</td>\n",
       "      <td>2119-01-26 14:49:00</td>\n",
       "      <td>276795</td>\n",
       "      <td>124493</td>\n",
       "      <td>69851</td>\n",
       "      <td>2119-01-26 16:57:32</td>\n",
       "      <td>2119-01-27 19:18:02</td>\n",
       "      <td>-1 days +21:51:28</td>\n",
       "      <td>1 days 04:29:02</td>\n",
       "      <td>False</td>\n",
       "      <td>True</td>\n",
       "      <td>25047 days 16:57:32</td>\n",
       "      <td>2050-06-09</td>\n",
       "      <td>True</td>\n",
       "      <td>True</td>\n",
       "    </tr>\n",
       "    <tr>\n",
       "      <th>2</th>\n",
       "      <td>59659</td>\n",
       "      <td>2200-10-22 15:14:00</td>\n",
       "      <td>217810</td>\n",
       "      <td>188268</td>\n",
       "      <td>82208</td>\n",
       "      <td>2200-10-21 14:54:57</td>\n",
       "      <td>2200-10-24 14:01:58</td>\n",
       "      <td>1 days 00:19:03</td>\n",
       "      <td>1 days 22:47:58</td>\n",
       "      <td>False</td>\n",
       "      <td>True</td>\n",
       "      <td>22331 days 14:54:57</td>\n",
       "      <td>2139-08-15</td>\n",
       "      <td>True</td>\n",
       "      <td>True</td>\n",
       "    </tr>\n",
       "    <tr>\n",
       "      <th>3</th>\n",
       "      <td>67634</td>\n",
       "      <td>2186-09-19 12:09:00</td>\n",
       "      <td>263932</td>\n",
       "      <td>168160</td>\n",
       "      <td>24182</td>\n",
       "      <td>2186-09-19 09:40:07</td>\n",
       "      <td>2186-09-22 13:15:57</td>\n",
       "      <td>0 days 02:28:53</td>\n",
       "      <td>3 days 01:06:57</td>\n",
       "      <td>True</td>\n",
       "      <td>True</td>\n",
       "      <td>27636 days 09:40:07</td>\n",
       "      <td>2110-12-29</td>\n",
       "      <td>True</td>\n",
       "      <td>True</td>\n",
       "    </tr>\n",
       "    <tr>\n",
       "      <th>4</th>\n",
       "      <td>97569</td>\n",
       "      <td>2183-06-24 12:57:00</td>\n",
       "      <td>296461</td>\n",
       "      <td>107856</td>\n",
       "      <td>15977</td>\n",
       "      <td>2183-06-24 15:44:23</td>\n",
       "      <td>2183-06-28 16:12:29</td>\n",
       "      <td>-1 days +21:12:37</td>\n",
       "      <td>4 days 03:15:29</td>\n",
       "      <td>False</td>\n",
       "      <td>True</td>\n",
       "      <td>20237 days 15:44:23</td>\n",
       "      <td>2128-01-12</td>\n",
       "      <td>True</td>\n",
       "      <td>True</td>\n",
       "    </tr>\n",
       "  </tbody>\n",
       "</table>\n",
       "</div>"
      ],
      "text/plain": [
       "   row_id           charttime  icustay_id  hadm_id  subject_id  \\\n",
       "0   83837 2182-08-19 10:46:00      264827   195409       32755   \n",
       "1  104824 2119-01-26 14:49:00      276795   124493       69851   \n",
       "2   59659 2200-10-22 15:14:00      217810   188268       82208   \n",
       "3   67634 2186-09-19 12:09:00      263932   168160       24182   \n",
       "4   97569 2183-06-24 12:57:00      296461   107856       15977   \n",
       "\n",
       "               intime             outtime    intime_to_echo  echo_to_outtime  \\\n",
       "0 2182-08-18 16:50:19 2182-08-19 16:33:46   0 days 17:55:41  0 days 05:47:46   \n",
       "1 2119-01-26 16:57:32 2119-01-27 19:18:02 -1 days +21:51:28  1 days 04:29:02   \n",
       "2 2200-10-21 14:54:57 2200-10-24 14:01:58   1 days 00:19:03  1 days 22:47:58   \n",
       "3 2186-09-19 09:40:07 2186-09-22 13:15:57   0 days 02:28:53  3 days 01:06:57   \n",
       "4 2183-06-24 15:44:23 2183-06-28 16:12:29 -1 days +21:12:37  4 days 03:15:29   \n",
       "\n",
       "  ps_vaso diag_xc       age_at_intime        dob time_filter age_filter  \n",
       "0   False    True 21643 days 16:50:19 2123-04-30        True       True  \n",
       "1   False    True 25047 days 16:57:32 2050-06-09        True       True  \n",
       "2   False    True 22331 days 14:54:57 2139-08-15        True       True  \n",
       "3    True    True 27636 days 09:40:07 2110-12-29        True       True  \n",
       "4   False    True 20237 days 15:44:23 2128-01-12        True       True  "
      ]
     },
     "execution_count": 270,
     "metadata": {},
     "output_type": "execute_result"
    }
   ],
   "source": [
    "ef.head()"
   ]
  },
  {
   "cell_type": "code",
   "execution_count": 287,
   "metadata": {
    "collapsed": false
   },
   "outputs": [
    {
     "data": {
      "text/html": [
       "<div>\n",
       "<table border=\"1\" class=\"dataframe\">\n",
       "  <thead>\n",
       "    <tr style=\"text-align: right;\">\n",
       "      <th></th>\n",
       "      <th>row_id</th>\n",
       "      <th>charttime</th>\n",
       "      <th>icustay_id</th>\n",
       "      <th>hadm_id</th>\n",
       "      <th>subject_id</th>\n",
       "      <th>intime</th>\n",
       "      <th>outtime</th>\n",
       "      <th>intime_to_echo</th>\n",
       "      <th>echo_to_outtime</th>\n",
       "      <th>ps_vaso</th>\n",
       "      <th>diag_xc</th>\n",
       "      <th>age_at_intime</th>\n",
       "      <th>dob</th>\n",
       "      <th>time_filter</th>\n",
       "      <th>age_filter</th>\n",
       "    </tr>\n",
       "  </thead>\n",
       "  <tbody>\n",
       "    <tr>\n",
       "      <th>8</th>\n",
       "      <td>62763</td>\n",
       "      <td>2149-02-07 10:30:00</td>\n",
       "      <td>243283</td>\n",
       "      <td>175360</td>\n",
       "      <td>20249</td>\n",
       "      <td>2149-02-06 15:54:53</td>\n",
       "      <td>2149-02-10 07:33:42</td>\n",
       "      <td>0 days 18:35:07</td>\n",
       "      <td>2 days 21:03:42</td>\n",
       "      <td>False</td>\n",
       "      <td>True</td>\n",
       "      <td>-103152 days +16:20:19.290448</td>\n",
       "      <td>1846-10-04</td>\n",
       "      <td>True</td>\n",
       "      <td>True</td>\n",
       "    </tr>\n",
       "    <tr>\n",
       "      <th>113</th>\n",
       "      <td>87360</td>\n",
       "      <td>2102-04-07 10:59:00</td>\n",
       "      <td>228956</td>\n",
       "      <td>111845</td>\n",
       "      <td>57889</td>\n",
       "      <td>2102-04-06 17:07:33</td>\n",
       "      <td>2102-04-14 15:47:50</td>\n",
       "      <td>0 days 17:51:27</td>\n",
       "      <td>7 days 04:48:50</td>\n",
       "      <td>False</td>\n",
       "      <td>True</td>\n",
       "      <td>-104004 days +17:32:59.290448</td>\n",
       "      <td>1802-04-06</td>\n",
       "      <td>True</td>\n",
       "      <td>True</td>\n",
       "    </tr>\n",
       "    <tr>\n",
       "      <th>132</th>\n",
       "      <td>88989</td>\n",
       "      <td>2105-07-28 15:42:00</td>\n",
       "      <td>295698</td>\n",
       "      <td>155806</td>\n",
       "      <td>62637</td>\n",
       "      <td>2105-07-22 20:58:19</td>\n",
       "      <td>2105-07-29 22:58:25</td>\n",
       "      <td>5 days 18:43:41</td>\n",
       "      <td>1 days 07:16:25</td>\n",
       "      <td>False</td>\n",
       "      <td>True</td>\n",
       "      <td>-104004 days +21:23:45.290448</td>\n",
       "      <td>1805-07-22</td>\n",
       "      <td>False</td>\n",
       "      <td>True</td>\n",
       "    </tr>\n",
       "    <tr>\n",
       "      <th>165</th>\n",
       "      <td>67394</td>\n",
       "      <td>2142-03-12 15:39:00</td>\n",
       "      <td>274086</td>\n",
       "      <td>152254</td>\n",
       "      <td>8533</td>\n",
       "      <td>2142-03-11 17:10:51</td>\n",
       "      <td>2142-03-16 14:45:25</td>\n",
       "      <td>0 days 22:28:09</td>\n",
       "      <td>3 days 23:06:25</td>\n",
       "      <td>False</td>\n",
       "      <td>True</td>\n",
       "      <td>-102155 days +17:36:17.290448</td>\n",
       "      <td>1837-02-15</td>\n",
       "      <td>True</td>\n",
       "      <td>True</td>\n",
       "    </tr>\n",
       "    <tr>\n",
       "      <th>177</th>\n",
       "      <td>61844</td>\n",
       "      <td>2120-01-17 10:53:00</td>\n",
       "      <td>229322</td>\n",
       "      <td>149689</td>\n",
       "      <td>24933</td>\n",
       "      <td>2120-01-16 14:42:46</td>\n",
       "      <td>2120-01-24 17:49:51</td>\n",
       "      <td>0 days 20:10:14</td>\n",
       "      <td>7 days 06:56:51</td>\n",
       "      <td>False</td>\n",
       "      <td>True</td>\n",
       "      <td>-104002 days +15:08:12.290448</td>\n",
       "      <td>1820-01-14</td>\n",
       "      <td>True</td>\n",
       "      <td>True</td>\n",
       "    </tr>\n",
       "  </tbody>\n",
       "</table>\n",
       "</div>"
      ],
      "text/plain": [
       "     row_id           charttime  icustay_id  hadm_id  subject_id  \\\n",
       "8     62763 2149-02-07 10:30:00      243283   175360       20249   \n",
       "113   87360 2102-04-07 10:59:00      228956   111845       57889   \n",
       "132   88989 2105-07-28 15:42:00      295698   155806       62637   \n",
       "165   67394 2142-03-12 15:39:00      274086   152254        8533   \n",
       "177   61844 2120-01-17 10:53:00      229322   149689       24933   \n",
       "\n",
       "                 intime             outtime  intime_to_echo  echo_to_outtime  \\\n",
       "8   2149-02-06 15:54:53 2149-02-10 07:33:42 0 days 18:35:07  2 days 21:03:42   \n",
       "113 2102-04-06 17:07:33 2102-04-14 15:47:50 0 days 17:51:27  7 days 04:48:50   \n",
       "132 2105-07-22 20:58:19 2105-07-29 22:58:25 5 days 18:43:41  1 days 07:16:25   \n",
       "165 2142-03-11 17:10:51 2142-03-16 14:45:25 0 days 22:28:09  3 days 23:06:25   \n",
       "177 2120-01-16 14:42:46 2120-01-24 17:49:51 0 days 20:10:14  7 days 06:56:51   \n",
       "\n",
       "    ps_vaso diag_xc                 age_at_intime        dob time_filter  \\\n",
       "8     False    True -103152 days +16:20:19.290448 1846-10-04        True   \n",
       "113   False    True -104004 days +17:32:59.290448 1802-04-06        True   \n",
       "132   False    True -104004 days +21:23:45.290448 1805-07-22       False   \n",
       "165   False    True -102155 days +17:36:17.290448 1837-02-15        True   \n",
       "177   False    True -104002 days +15:08:12.290448 1820-01-14        True   \n",
       "\n",
       "    age_filter  \n",
       "8         True  \n",
       "113       True  \n",
       "132       True  \n",
       "165       True  \n",
       "177       True  "
      ]
     },
     "execution_count": 287,
     "metadata": {},
     "output_type": "execute_result"
    }
   ],
   "source": [
    "ef.loc[(ef['age_at_intime'] > np.timedelta64('18', 'Y')) != ef['age_filter']].head()"
   ]
  },
  {
   "cell_type": "code",
   "execution_count": 285,
   "metadata": {
    "collapsed": false
   },
   "outputs": [
    {
     "data": {
      "text/html": [
       "<div>\n",
       "<table border=\"1\" class=\"dataframe\">\n",
       "  <thead>\n",
       "    <tr style=\"text-align: right;\">\n",
       "      <th></th>\n",
       "      <th>row_id</th>\n",
       "      <th>subject_id</th>\n",
       "      <th>hadm_id</th>\n",
       "      <th>icustay_id</th>\n",
       "      <th>dbsource</th>\n",
       "      <th>first_careunit</th>\n",
       "      <th>last_careunit</th>\n",
       "      <th>first_wardid</th>\n",
       "      <th>last_wardid</th>\n",
       "      <th>intime</th>\n",
       "      <th>outtime</th>\n",
       "      <th>los</th>\n",
       "      <th>row_id</th>\n",
       "      <th>subject_id</th>\n",
       "      <th>gender</th>\n",
       "      <th>dob</th>\n",
       "      <th>dod</th>\n",
       "      <th>dod_hosp</th>\n",
       "      <th>dod_ssn</th>\n",
       "      <th>expire_flag</th>\n",
       "    </tr>\n",
       "  </thead>\n",
       "  <tbody>\n",
       "    <tr>\n",
       "      <th>0</th>\n",
       "      <td>25703</td>\n",
       "      <td>20249</td>\n",
       "      <td>152504</td>\n",
       "      <td>206946</td>\n",
       "      <td>carevue</td>\n",
       "      <td>CCU</td>\n",
       "      <td>CCU</td>\n",
       "      <td>57</td>\n",
       "      <td>57</td>\n",
       "      <td>2146-10-04 16:05:22</td>\n",
       "      <td>2146-10-06 18:52:58</td>\n",
       "      <td>2.1164</td>\n",
       "      <td>19108</td>\n",
       "      <td>20249</td>\n",
       "      <td>M</td>\n",
       "      <td>1846-10-04</td>\n",
       "      <td>2149-02-09</td>\n",
       "      <td>2149-02-09</td>\n",
       "      <td>2149-02-09</td>\n",
       "      <td>1</td>\n",
       "    </tr>\n",
       "    <tr>\n",
       "      <th>1</th>\n",
       "      <td>25704</td>\n",
       "      <td>20249</td>\n",
       "      <td>175360</td>\n",
       "      <td>243283</td>\n",
       "      <td>carevue</td>\n",
       "      <td>CCU</td>\n",
       "      <td>CCU</td>\n",
       "      <td>7</td>\n",
       "      <td>7</td>\n",
       "      <td>2149-02-06 15:54:53</td>\n",
       "      <td>2149-02-10 07:33:42</td>\n",
       "      <td>3.6520</td>\n",
       "      <td>19108</td>\n",
       "      <td>20249</td>\n",
       "      <td>M</td>\n",
       "      <td>1846-10-04</td>\n",
       "      <td>2149-02-09</td>\n",
       "      <td>2149-02-09</td>\n",
       "      <td>2149-02-09</td>\n",
       "      <td>1</td>\n",
       "    </tr>\n",
       "  </tbody>\n",
       "</table>\n",
       "</div>"
      ],
      "text/plain": [
       "   row_id  subject_id  hadm_id  icustay_id dbsource first_careunit  \\\n",
       "0   25703       20249   152504      206946  carevue            CCU   \n",
       "1   25704       20249   175360      243283  carevue            CCU   \n",
       "\n",
       "  last_careunit  first_wardid  last_wardid              intime  \\\n",
       "0           CCU            57           57 2146-10-04 16:05:22   \n",
       "1           CCU             7            7 2149-02-06 15:54:53   \n",
       "\n",
       "              outtime     los  row_id  subject_id gender        dob  \\\n",
       "0 2146-10-06 18:52:58  2.1164   19108       20249      M 1846-10-04   \n",
       "1 2149-02-10 07:33:42  3.6520   19108       20249      M 1846-10-04   \n",
       "\n",
       "         dod   dod_hosp    dod_ssn  expire_flag  \n",
       "0 2149-02-09 2149-02-09 2149-02-09            1  \n",
       "1 2149-02-09 2149-02-09 2149-02-09            1  "
      ]
     },
     "execution_count": 285,
     "metadata": {},
     "output_type": "execute_result"
    }
   ],
   "source": [
    "query = \\\n",
    "\"\"\"\n",
    "SELECT * FROM icustays ic\n",
    "INNER JOIN patients pt\n",
    "ON ic.subject_id = pt.subject_id\n",
    "WHERE ic.subject_id = '20249'; \n",
    "\"\"\"\n",
    "check = pd.read_sql_query(query, con)\n",
    "check.head()"
   ]
  },
  {
   "cell_type": "markdown",
   "metadata": {},
   "source": [
    "Ok. Age is really awkward because of the older patients whose age are computed as negative numbers, for some reason. It looks like sql deals with is correctly, but somehow my python code does not. "
   ]
  },
  {
   "cell_type": "code",
   "execution_count": 323,
   "metadata": {
    "collapsed": true
   },
   "outputs": [],
   "source": [
    "age_filter = (ef['age_at_intime'] > np.timedelta64('18', 'Y')) | (ef['age_at_intime'] < np.timedelta64(0))"
   ]
  },
  {
   "cell_type": "markdown",
   "metadata": {},
   "source": [
    "On pressors + no excluded diagnosis + time + age"
   ]
  },
  {
   "cell_type": "code",
   "execution_count": 324,
   "metadata": {
    "collapsed": false
   },
   "outputs": [
    {
     "data": {
      "text/plain": [
       "1954"
      ]
     },
     "execution_count": 324,
     "metadata": {},
     "output_type": "execute_result"
    }
   ],
   "source": [
    "len(efv.loc[efv['ps_vaso'] & ~efv['diag_xc'] & time_filter & age_filter, 'icustay_id'].unique())"
   ]
  },
  {
   "cell_type": "code",
   "execution_count": 325,
   "metadata": {
    "collapsed": false
   },
   "outputs": [
    {
     "data": {
      "text/plain": [
       "1951"
      ]
     },
     "execution_count": 325,
     "metadata": {},
     "output_type": "execute_result"
    }
   ],
   "source": [
    "len(efv.loc[efv['ps_vaso'] & ~efv['diag_xc'] & time_filter & age_filter, 'hadm_id'].unique())"
   ]
  },
  {
   "cell_type": "code",
   "execution_count": 326,
   "metadata": {
    "collapsed": false
   },
   "outputs": [
    {
     "data": {
      "text/plain": [
       "1931"
      ]
     },
     "execution_count": 326,
     "metadata": {},
     "output_type": "execute_result"
    }
   ],
   "source": [
    "len(efv.loc[efv['ps_vaso'] & ~efv['diag_xc'] & time_filter & age_filter, 'subject_id'].unique())"
   ]
  },
  {
   "cell_type": "markdown",
   "metadata": {},
   "source": [
    "Break down the diagnosis exclusions. "
   ]
  },
  {
   "cell_type": "code",
   "execution_count": 131,
   "metadata": {
    "collapsed": false
   },
   "outputs": [
    {
     "data": {
      "text/html": [
       "<div>\n",
       "<table border=\"1\" class=\"dataframe\">\n",
       "  <thead>\n",
       "    <tr style=\"text-align: right;\">\n",
       "      <th></th>\n",
       "      <th>icustay_id</th>\n",
       "      <th>hadm_id</th>\n",
       "      <th>subject_id</th>\n",
       "      <th>icd9_code</th>\n",
       "      <th>long_title</th>\n",
       "    </tr>\n",
       "  </thead>\n",
       "  <tbody>\n",
       "    <tr>\n",
       "      <th>0</th>\n",
       "      <td>262652</td>\n",
       "      <td>172335</td>\n",
       "      <td>109</td>\n",
       "      <td>4254</td>\n",
       "      <td>Other primary cardiomyopathies</td>\n",
       "    </tr>\n",
       "    <tr>\n",
       "      <th>1</th>\n",
       "      <td>232514</td>\n",
       "      <td>114585</td>\n",
       "      <td>115</td>\n",
       "      <td>4280</td>\n",
       "      <td>Congestive heart failure, unspecified</td>\n",
       "    </tr>\n",
       "    <tr>\n",
       "      <th>2</th>\n",
       "      <td>227264</td>\n",
       "      <td>195632</td>\n",
       "      <td>123</td>\n",
       "      <td>41011</td>\n",
       "      <td>Acute myocardial infarction of other anterior ...</td>\n",
       "    </tr>\n",
       "    <tr>\n",
       "      <th>3</th>\n",
       "      <td>225073</td>\n",
       "      <td>134369</td>\n",
       "      <td>124</td>\n",
       "      <td>9971</td>\n",
       "      <td>Cardiac complications, not elsewhere classified</td>\n",
       "    </tr>\n",
       "    <tr>\n",
       "      <th>4</th>\n",
       "      <td>256064</td>\n",
       "      <td>138376</td>\n",
       "      <td>124</td>\n",
       "      <td>42833</td>\n",
       "      <td>Acute on chronic diastolic heart failure</td>\n",
       "    </tr>\n",
       "  </tbody>\n",
       "</table>\n",
       "</div>"
      ],
      "text/plain": [
       "   icustay_id  hadm_id  subject_id icd9_code  \\\n",
       "0      262652   172335         109      4254   \n",
       "1      232514   114585         115      4280   \n",
       "2      227264   195632         123     41011   \n",
       "3      225073   134369         124      9971   \n",
       "4      256064   138376         124     42833   \n",
       "\n",
       "                                          long_title  \n",
       "0                     Other primary cardiomyopathies  \n",
       "1              Congestive heart failure, unspecified  \n",
       "2  Acute myocardial infarction of other anterior ...  \n",
       "3    Cardiac complications, not elsewhere classified  \n",
       "4           Acute on chronic diastolic heart failure  "
      ]
     },
     "execution_count": 131,
     "metadata": {},
     "output_type": "execute_result"
    }
   ],
   "source": [
    "query = \\\n",
    "\"\"\"\n",
    "SELECT ei.icustay_id, ei.hadm_id, ei.subject_id\n",
    "    ,dx.icd9_code, dx.long_title\n",
    "FROM d_diagnoses_xc_annot dx\n",
    "INNER JOIN diagnoses_icd di\n",
    "    ON di.icd9_code = dx.icd9_code\n",
    "INNER JOIN echo_icustay ei\n",
    "    ON di.hadm_id = ei.hadm_id -- join on hospital admission\n",
    "WHERE dx.exclude = 1\n",
    "\"\"\"\n",
    "dxc = pd.read_sql_query(query, con)\n",
    "dxc.head()"
   ]
  },
  {
   "cell_type": "code",
   "execution_count": 166,
   "metadata": {
    "collapsed": false
   },
   "outputs": [
    {
     "data": {
      "text/html": [
       "<div>\n",
       "<table border=\"1\" class=\"dataframe\">\n",
       "  <thead>\n",
       "    <tr style=\"text-align: right;\">\n",
       "      <th></th>\n",
       "      <th></th>\n",
       "      <th>icustay_id</th>\n",
       "      <th>hadm_id</th>\n",
       "      <th>subject_id</th>\n",
       "    </tr>\n",
       "    <tr>\n",
       "      <th>icd9_code</th>\n",
       "      <th>long_title</th>\n",
       "      <th></th>\n",
       "      <th></th>\n",
       "      <th></th>\n",
       "    </tr>\n",
       "  </thead>\n",
       "  <tbody>\n",
       "    <tr>\n",
       "      <th>11281</th>\n",
       "      <th>Candidal endocarditis</th>\n",
       "      <td>5</td>\n",
       "      <td>4</td>\n",
       "      <td>3</td>\n",
       "    </tr>\n",
       "    <tr>\n",
       "      <th>1510</th>\n",
       "      <th>Malignant neoplasm of cardia</th>\n",
       "      <td>14</td>\n",
       "      <td>14</td>\n",
       "      <td>14</td>\n",
       "    </tr>\n",
       "    <tr>\n",
       "      <th>1641</th>\n",
       "      <th>Malignant neoplasm of heart</th>\n",
       "      <td>1</td>\n",
       "      <td>1</td>\n",
       "      <td>1</td>\n",
       "    </tr>\n",
       "    <tr>\n",
       "      <th>2127</th>\n",
       "      <th>Benign neoplasm of heart</th>\n",
       "      <td>31</td>\n",
       "      <td>30</td>\n",
       "      <td>30</td>\n",
       "    </tr>\n",
       "    <tr>\n",
       "      <th>2851</th>\n",
       "      <th>Acute posthemorrhagic anemia</th>\n",
       "      <td>1482</td>\n",
       "      <td>1421</td>\n",
       "      <td>1401</td>\n",
       "    </tr>\n",
       "  </tbody>\n",
       "</table>\n",
       "</div>"
      ],
      "text/plain": [
       "                                        icustay_id  hadm_id  subject_id\n",
       "icd9_code long_title                                                   \n",
       "11281     Candidal endocarditis                  5        4           3\n",
       "1510      Malignant neoplasm of cardia          14       14          14\n",
       "1641      Malignant neoplasm of heart            1        1           1\n",
       "2127      Benign neoplasm of heart              31       30          30\n",
       "2851      Acute posthemorrhagic anemia        1482     1421        1401"
      ]
     },
     "execution_count": 166,
     "metadata": {},
     "output_type": "execute_result"
    }
   ],
   "source": [
    "dxc_ = pd.concat([dxc[['icustay_id', 'icd9_code', 'long_title']].drop_duplicates().groupby(['icd9_code', 'long_title']).count(), \n",
    "           dxc[['hadm_id', 'icd9_code', 'long_title']].drop_duplicates().groupby(['icd9_code', 'long_title']).count(), \n",
    "           dxc[['subject_id', 'icd9_code', 'long_title']].drop_duplicates().groupby(['icd9_code', 'long_title']).count()], \n",
    "           axis = 1)\n",
    "dxc_.to_csv(\"../../data/generated/D_DIAGNOSES_XC_COUNTS.csv\")\n",
    "dxc_.head()"
   ]
  },
  {
   "cell_type": "code",
   "execution_count": 165,
   "metadata": {
    "collapsed": false
   },
   "outputs": [
    {
     "data": {
      "text/html": [
       "<div>\n",
       "<table border=\"1\" class=\"dataframe\">\n",
       "  <thead>\n",
       "    <tr style=\"text-align: right;\">\n",
       "      <th></th>\n",
       "      <th></th>\n",
       "      <th>icustay_id</th>\n",
       "      <th>hadm_id</th>\n",
       "      <th>subject_id</th>\n",
       "    </tr>\n",
       "    <tr>\n",
       "      <th>icd9_code</th>\n",
       "      <th>long_title</th>\n",
       "      <th></th>\n",
       "      <th></th>\n",
       "      <th></th>\n",
       "    </tr>\n",
       "  </thead>\n",
       "  <tbody>\n",
       "    <tr>\n",
       "      <th>4280</th>\n",
       "      <th>Congestive heart failure, unspecified</th>\n",
       "      <td>7269</td>\n",
       "      <td>7021</td>\n",
       "      <td>6135</td>\n",
       "    </tr>\n",
       "    <tr>\n",
       "      <th>41071</th>\n",
       "      <th>Subendocardial infarction, initial episode of care</th>\n",
       "      <td>2221</td>\n",
       "      <td>2123</td>\n",
       "      <td>2048</td>\n",
       "    </tr>\n",
       "    <tr>\n",
       "      <th>2851</th>\n",
       "      <th>Acute posthemorrhagic anemia</th>\n",
       "      <td>1482</td>\n",
       "      <td>1421</td>\n",
       "      <td>1401</td>\n",
       "    </tr>\n",
       "    <tr>\n",
       "      <th>9971</th>\n",
       "      <th>Cardiac complications, not elsewhere classified</th>\n",
       "      <td>1472</td>\n",
       "      <td>1422</td>\n",
       "      <td>1409</td>\n",
       "    </tr>\n",
       "    <tr>\n",
       "      <th>42789</th>\n",
       "      <th>Other specified cardiac dysrhythmias</th>\n",
       "      <td>1135</td>\n",
       "      <td>1111</td>\n",
       "      <td>1089</td>\n",
       "    </tr>\n",
       "    <tr>\n",
       "      <th>4271</th>\n",
       "      <th>Paroxysmal ventricular tachycardia</th>\n",
       "      <td>1112</td>\n",
       "      <td>1069</td>\n",
       "      <td>1043</td>\n",
       "    </tr>\n",
       "    <tr>\n",
       "      <th>78551</th>\n",
       "      <th>Cardiogenic shock</th>\n",
       "      <td>1025</td>\n",
       "      <td>972</td>\n",
       "      <td>951</td>\n",
       "    </tr>\n",
       "    <tr>\n",
       "      <th>4275</th>\n",
       "      <th>Cardiac arrest</th>\n",
       "      <td>959</td>\n",
       "      <td>895</td>\n",
       "      <td>888</td>\n",
       "    </tr>\n",
       "    <tr>\n",
       "      <th>4254</th>\n",
       "      <th>Other primary cardiomyopathies</th>\n",
       "      <td>952</td>\n",
       "      <td>911</td>\n",
       "      <td>838</td>\n",
       "    </tr>\n",
       "    <tr>\n",
       "      <th>42823</th>\n",
       "      <th>Acute on chronic systolic heart failure</th>\n",
       "      <td>802</td>\n",
       "      <td>775</td>\n",
       "      <td>711</td>\n",
       "    </tr>\n",
       "  </tbody>\n",
       "</table>\n",
       "</div>"
      ],
      "text/plain": [
       "                                                              icustay_id  \\\n",
       "icd9_code long_title                                                       \n",
       "4280      Congestive heart failure, unspecified                     7269   \n",
       "41071     Subendocardial infarction, initial episode of care        2221   \n",
       "2851      Acute posthemorrhagic anemia                              1482   \n",
       "9971      Cardiac complications, not elsewhere classified           1472   \n",
       "42789     Other specified cardiac dysrhythmias                      1135   \n",
       "4271      Paroxysmal ventricular tachycardia                        1112   \n",
       "78551     Cardiogenic shock                                         1025   \n",
       "4275      Cardiac arrest                                             959   \n",
       "4254      Other primary cardiomyopathies                             952   \n",
       "42823     Acute on chronic systolic heart failure                    802   \n",
       "\n",
       "                                                              hadm_id  \\\n",
       "icd9_code long_title                                                    \n",
       "4280      Congestive heart failure, unspecified                  7021   \n",
       "41071     Subendocardial infarction, initial episode of care     2123   \n",
       "2851      Acute posthemorrhagic anemia                           1421   \n",
       "9971      Cardiac complications, not elsewhere classified        1422   \n",
       "42789     Other specified cardiac dysrhythmias                   1111   \n",
       "4271      Paroxysmal ventricular tachycardia                     1069   \n",
       "78551     Cardiogenic shock                                       972   \n",
       "4275      Cardiac arrest                                          895   \n",
       "4254      Other primary cardiomyopathies                          911   \n",
       "42823     Acute on chronic systolic heart failure                 775   \n",
       "\n",
       "                                                              subject_id  \n",
       "icd9_code long_title                                                      \n",
       "4280      Congestive heart failure, unspecified                     6135  \n",
       "41071     Subendocardial infarction, initial episode of care        2048  \n",
       "2851      Acute posthemorrhagic anemia                              1401  \n",
       "9971      Cardiac complications, not elsewhere classified           1409  \n",
       "42789     Other specified cardiac dysrhythmias                      1089  \n",
       "4271      Paroxysmal ventricular tachycardia                        1043  \n",
       "78551     Cardiogenic shock                                          951  \n",
       "4275      Cardiac arrest                                             888  \n",
       "4254      Other primary cardiomyopathies                             838  \n",
       "42823     Acute on chronic systolic heart failure                    711  "
      ]
     },
     "execution_count": 165,
     "metadata": {},
     "output_type": "execute_result"
    }
   ],
   "source": [
    "dxc_.sort_values('icustay_id', ascending = False).head(n = 10)"
   ]
  },
  {
   "cell_type": "markdown",
   "metadata": {},
   "source": [
    "Perhaps count the number of excluded diagnosis assigned to each id. "
   ]
  },
  {
   "cell_type": "code",
   "execution_count": 160,
   "metadata": {
    "collapsed": false
   },
   "outputs": [
    {
     "data": {
      "text/plain": [
       "1     5053\n",
       "2     4365\n",
       "3     2795\n",
       "4     1409\n",
       "5      599\n",
       "6      215\n",
       "7       91\n",
       "8       43\n",
       "9       14\n",
       "10       1\n",
       "11       1\n",
       "Name: icd9_code, dtype: int64"
      ]
     },
     "execution_count": 160,
     "metadata": {},
     "output_type": "execute_result"
    }
   ],
   "source": [
    "dxc[['icustay_id', 'icd9_code']].drop_duplicates().groupby('icustay_id').count()['icd9_code'].value_counts().sort_index()"
   ]
  },
  {
   "cell_type": "code",
   "execution_count": 162,
   "metadata": {
    "collapsed": false
   },
   "outputs": [
    {
     "data": {
      "text/plain": [
       "1     4972\n",
       "2     4235\n",
       "3     2691\n",
       "4     1335\n",
       "5      567\n",
       "6      196\n",
       "7       81\n",
       "8       37\n",
       "9        9\n",
       "10       1\n",
       "11       1\n",
       "Name: icd9_code, dtype: int64"
      ]
     },
     "execution_count": 162,
     "metadata": {},
     "output_type": "execute_result"
    }
   ],
   "source": [
    "dxc[['hadm_id', 'icd9_code']].drop_duplicates().groupby('hadm_id').count()['icd9_code'].value_counts().sort_index()"
   ]
  },
  {
   "cell_type": "code",
   "execution_count": 163,
   "metadata": {
    "collapsed": false
   },
   "outputs": [
    {
     "data": {
      "text/plain": [
       "1     4344\n",
       "2     3532\n",
       "3     2276\n",
       "4     1244\n",
       "5      630\n",
       "6      286\n",
       "7      139\n",
       "8       74\n",
       "9       38\n",
       "10       8\n",
       "11       8\n",
       "12       5\n",
       "13       3\n",
       "Name: icd9_code, dtype: int64"
      ]
     },
     "execution_count": 163,
     "metadata": {},
     "output_type": "execute_result"
    }
   ],
   "source": [
    "dxc[['subject_id', 'icd9_code']].drop_duplicates().groupby('subject_id').count()['icd9_code'].value_counts().sort_index()"
   ]
  },
  {
   "cell_type": "markdown",
   "metadata": {},
   "source": [
    "Quick count"
   ]
  },
  {
   "cell_type": "code",
   "execution_count": 327,
   "metadata": {
    "collapsed": false
   },
   "outputs": [
    {
     "data": {
      "text/html": [
       "<div>\n",
       "<table border=\"1\" class=\"dataframe\">\n",
       "  <thead>\n",
       "    <tr style=\"text-align: right;\">\n",
       "      <th></th>\n",
       "      <th>row_id</th>\n",
       "      <th>charttime</th>\n",
       "      <th>icustay_id</th>\n",
       "      <th>hadm_id</th>\n",
       "      <th>subject_id</th>\n",
       "      <th>intime</th>\n",
       "      <th>outtime</th>\n",
       "      <th>intime_to_echo</th>\n",
       "      <th>echo_to_outtime</th>\n",
       "      <th>ps_vaso</th>\n",
       "      <th>diag_xc</th>\n",
       "      <th>age_at_intime</th>\n",
       "      <th>dob</th>\n",
       "      <th>time_filter</th>\n",
       "      <th>age_filter</th>\n",
       "    </tr>\n",
       "  </thead>\n",
       "  <tbody>\n",
       "    <tr>\n",
       "      <th>0</th>\n",
       "      <td>62570</td>\n",
       "      <td>2102-04-14 10:00:00</td>\n",
       "      <td>207317</td>\n",
       "      <td>191210</td>\n",
       "      <td>44605</td>\n",
       "      <td>2102-04-14 08:58:39</td>\n",
       "      <td>2102-04-15 17:17:53</td>\n",
       "      <td>01:01:21</td>\n",
       "      <td>1 days 07:17:53</td>\n",
       "      <td>True</td>\n",
       "      <td>False</td>\n",
       "      <td>23809 days 08:58:39</td>\n",
       "      <td>2037-01-21</td>\n",
       "      <td>True</td>\n",
       "      <td>True</td>\n",
       "    </tr>\n",
       "    <tr>\n",
       "      <th>1</th>\n",
       "      <td>68949</td>\n",
       "      <td>2162-06-11 08:53:00</td>\n",
       "      <td>230215</td>\n",
       "      <td>153438</td>\n",
       "      <td>3778</td>\n",
       "      <td>2162-06-11 10:38:17</td>\n",
       "      <td>2162-06-13 18:31:49</td>\n",
       "      <td>-1 days +22:14:43</td>\n",
       "      <td>2 days 09:38:49</td>\n",
       "      <td>True</td>\n",
       "      <td>False</td>\n",
       "      <td>25791 days 10:38:17</td>\n",
       "      <td>2091-10-10</td>\n",
       "      <td>True</td>\n",
       "      <td>True</td>\n",
       "    </tr>\n",
       "    <tr>\n",
       "      <th>2</th>\n",
       "      <td>84167</td>\n",
       "      <td>2191-03-15 00:22:00</td>\n",
       "      <td>279743</td>\n",
       "      <td>180621</td>\n",
       "      <td>19896</td>\n",
       "      <td>2191-03-14 22:55:19</td>\n",
       "      <td>2191-04-05 13:05:09</td>\n",
       "      <td>01:26:41</td>\n",
       "      <td>21 days 12:43:09</td>\n",
       "      <td>True</td>\n",
       "      <td>False</td>\n",
       "      <td>31859 days 22:55:19</td>\n",
       "      <td>2103-11-30</td>\n",
       "      <td>True</td>\n",
       "      <td>True</td>\n",
       "    </tr>\n",
       "    <tr>\n",
       "      <th>3</th>\n",
       "      <td>64922</td>\n",
       "      <td>2181-07-02 11:11:00</td>\n",
       "      <td>290910</td>\n",
       "      <td>170691</td>\n",
       "      <td>59945</td>\n",
       "      <td>2181-07-02 10:41:19</td>\n",
       "      <td>2181-07-03 23:01:06</td>\n",
       "      <td>00:29:41</td>\n",
       "      <td>1 days 11:50:06</td>\n",
       "      <td>True</td>\n",
       "      <td>False</td>\n",
       "      <td>24202 days 10:41:19</td>\n",
       "      <td>2115-03-11</td>\n",
       "      <td>True</td>\n",
       "      <td>True</td>\n",
       "    </tr>\n",
       "    <tr>\n",
       "      <th>4</th>\n",
       "      <td>80126</td>\n",
       "      <td>2173-02-09 09:13:00</td>\n",
       "      <td>221265</td>\n",
       "      <td>112693</td>\n",
       "      <td>26548</td>\n",
       "      <td>2173-02-09 10:42:28</td>\n",
       "      <td>2173-02-10 14:25:27</td>\n",
       "      <td>-1 days +22:30:32</td>\n",
       "      <td>1 days 05:12:27</td>\n",
       "      <td>True</td>\n",
       "      <td>False</td>\n",
       "      <td>21091 days 10:42:28</td>\n",
       "      <td>2115-04-23</td>\n",
       "      <td>True</td>\n",
       "      <td>True</td>\n",
       "    </tr>\n",
       "  </tbody>\n",
       "</table>\n",
       "</div>"
      ],
      "text/plain": [
       "   row_id           charttime  icustay_id  hadm_id  subject_id  \\\n",
       "0   62570 2102-04-14 10:00:00      207317   191210       44605   \n",
       "1   68949 2162-06-11 08:53:00      230215   153438        3778   \n",
       "2   84167 2191-03-15 00:22:00      279743   180621       19896   \n",
       "3   64922 2181-07-02 11:11:00      290910   170691       59945   \n",
       "4   80126 2173-02-09 09:13:00      221265   112693       26548   \n",
       "\n",
       "               intime             outtime    intime_to_echo  echo_to_outtime  \\\n",
       "0 2102-04-14 08:58:39 2102-04-15 17:17:53          01:01:21  1 days 07:17:53   \n",
       "1 2162-06-11 10:38:17 2162-06-13 18:31:49 -1 days +22:14:43  2 days 09:38:49   \n",
       "2 2191-03-14 22:55:19 2191-04-05 13:05:09          01:26:41 21 days 12:43:09   \n",
       "3 2181-07-02 10:41:19 2181-07-03 23:01:06          00:29:41  1 days 11:50:06   \n",
       "4 2173-02-09 10:42:28 2173-02-10 14:25:27 -1 days +22:30:32  1 days 05:12:27   \n",
       "\n",
       "  ps_vaso diag_xc       age_at_intime        dob time_filter age_filter  \n",
       "0    True   False 23809 days 08:58:39 2037-01-21        True       True  \n",
       "1    True   False 25791 days 10:38:17 2091-10-10        True       True  \n",
       "2    True   False 31859 days 22:55:19 2103-11-30        True       True  \n",
       "3    True   False 24202 days 10:41:19 2115-03-11        True       True  \n",
       "4    True   False 21091 days 10:42:28 2115-04-23        True       True  "
      ]
     },
     "execution_count": 327,
     "metadata": {},
     "output_type": "execute_result"
    }
   ],
   "source": [
    "query = \\\n",
    "\"\"\"\n",
    "SELECT * FROM echo_filtered; \n",
    "\"\"\"\n",
    "ef = pd.read_sql_query(query, con)\n",
    "ef.head()"
   ]
  },
  {
   "cell_type": "code",
   "execution_count": 329,
   "metadata": {
    "collapsed": false
   },
   "outputs": [
    {
     "data": {
      "text/plain": [
       "1954"
      ]
     },
     "execution_count": 329,
     "metadata": {},
     "output_type": "execute_result"
    }
   ],
   "source": [
    "len(ef['icustay_id'].unique())"
   ]
  },
  {
   "cell_type": "code",
   "execution_count": 330,
   "metadata": {
    "collapsed": false
   },
   "outputs": [
    {
     "data": {
      "text/plain": [
       "1951"
      ]
     },
     "execution_count": 330,
     "metadata": {},
     "output_type": "execute_result"
    }
   ],
   "source": [
    "len(ef['hadm_id'].unique())"
   ]
  },
  {
   "cell_type": "code",
   "execution_count": 331,
   "metadata": {
    "collapsed": false
   },
   "outputs": [
    {
     "data": {
      "text/plain": [
       "1931"
      ]
     },
     "execution_count": 331,
     "metadata": {},
     "output_type": "execute_result"
    }
   ],
   "source": [
    "len(ef['subject_id'].unique())"
   ]
  },
  {
   "cell_type": "code",
   "execution_count": null,
   "metadata": {
    "collapsed": true
   },
   "outputs": [],
   "source": []
  }
 ],
 "metadata": {
  "anaconda-cloud": {},
  "kernelspec": {
   "display_name": "Python [Root]",
   "language": "python",
   "name": "Python [Root]"
  },
  "language_info": {
   "codemirror_mode": {
    "name": "ipython",
    "version": 3
   },
   "file_extension": ".py",
   "mimetype": "text/x-python",
   "name": "python",
   "nbconvert_exporter": "python",
   "pygments_lexer": "ipython3",
   "version": "3.5.2"
  }
 },
 "nbformat": 4,
 "nbformat_minor": 0
}
