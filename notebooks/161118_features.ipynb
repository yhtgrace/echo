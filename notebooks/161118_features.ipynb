{
 "cells": [
  {
   "cell_type": "code",
   "execution_count": 1,
   "metadata": {
    "collapsed": true
   },
   "outputs": [],
   "source": [
    "import numpy as np\n",
    "import pandas as pd\n",
    "import psycopg2\n",
    "\n",
    "import matplotlib.pyplot as plt\n",
    "import seaborn as sns\n",
    "\n",
    "import matplotlib.style\n",
    "matplotlib.style.use('ggplot')\n",
    "%matplotlib inline"
   ]
  },
  {
   "cell_type": "code",
   "execution_count": 2,
   "metadata": {
    "collapsed": true
   },
   "outputs": [],
   "source": [
    "# create a database connection\n",
    "sqluser = 'mimic'\n",
    "dbname = 'mimic'\n",
    "schema_name = 'mimiciii'\n",
    "\n",
    "cur = None"
   ]
  },
  {
   "cell_type": "code",
   "execution_count": 8,
   "metadata": {
    "collapsed": true
   },
   "outputs": [],
   "source": [
    "if cur: \n",
    "    cur.close()\n",
    "    con.close()\n",
    "\n",
    "con = psycopg2.connect(dbname = dbname, user = sqluser)\n",
    "cur = con.cursor()\n",
    "cur.execute('SET search_path to ' + schema_name)"
   ]
  },
  {
   "cell_type": "code",
   "execution_count": 6,
   "metadata": {
    "collapsed": false
   },
   "outputs": [
    {
     "data": {
      "text/plain": [
       "(24152, 30)"
      ]
     },
     "execution_count": 6,
     "metadata": {},
     "output_type": "execute_result"
    }
   ],
   "source": [
    "query = \\\n",
    "\"\"\"\n",
    "SELECT *\n",
    "FROM chartevents ce\n",
    "LEFT JOIN echo_filtered ef \n",
    "    ON ce.icustay_id = ef.icustay_id\n",
    "    WHERE (\n",
    "        ce.itemid IN ('1394', '226707', '226730')\n",
    "    )\n",
    "\"\"\"\n",
    "ce = pd.read_sql_query(query, con)\n",
    "ce.shape"
   ]
  },
  {
   "cell_type": "code",
   "execution_count": 7,
   "metadata": {
    "collapsed": false
   },
   "outputs": [
    {
     "data": {
      "text/html": [
       "<div>\n",
       "<table border=\"1\" class=\"dataframe\">\n",
       "  <thead>\n",
       "    <tr style=\"text-align: right;\">\n",
       "      <th></th>\n",
       "      <th>row_id</th>\n",
       "      <th>subject_id</th>\n",
       "      <th>hadm_id</th>\n",
       "      <th>icustay_id</th>\n",
       "      <th>itemid</th>\n",
       "      <th>charttime</th>\n",
       "      <th>storetime</th>\n",
       "      <th>cgid</th>\n",
       "      <th>value</th>\n",
       "      <th>valuenum</th>\n",
       "      <th>...</th>\n",
       "      <th>intime</th>\n",
       "      <th>outtime</th>\n",
       "      <th>intime_to_echo</th>\n",
       "      <th>echo_to_outtime</th>\n",
       "      <th>ps_vaso</th>\n",
       "      <th>diag_xc</th>\n",
       "      <th>age_at_intime</th>\n",
       "      <th>dob</th>\n",
       "      <th>time_filter</th>\n",
       "      <th>age_filter</th>\n",
       "    </tr>\n",
       "  </thead>\n",
       "  <tbody>\n",
       "    <tr>\n",
       "      <th>0</th>\n",
       "      <td>59460352</td>\n",
       "      <td>4914</td>\n",
       "      <td>145788</td>\n",
       "      <td>236390.0</td>\n",
       "      <td>1394</td>\n",
       "      <td>2141-02-02 12:00:00</td>\n",
       "      <td>2141-02-02 11:40:00</td>\n",
       "      <td>20389</td>\n",
       "      <td>70</td>\n",
       "      <td>70.0</td>\n",
       "      <td>...</td>\n",
       "      <td>2141-01-30 19:59:41</td>\n",
       "      <td>2141-03-18 17:36:16</td>\n",
       "      <td>1 days 13:32:19</td>\n",
       "      <td>45 days 08:04:16</td>\n",
       "      <td>True</td>\n",
       "      <td>False</td>\n",
       "      <td>25737 days 19:59:41</td>\n",
       "      <td>2070-07-23</td>\n",
       "      <td>True</td>\n",
       "      <td>True</td>\n",
       "    </tr>\n",
       "    <tr>\n",
       "      <th>1</th>\n",
       "      <td>59460569</td>\n",
       "      <td>4914</td>\n",
       "      <td>145788</td>\n",
       "      <td>236390.0</td>\n",
       "      <td>1394</td>\n",
       "      <td>2141-02-02 16:00:00</td>\n",
       "      <td>2141-02-02 16:27:00</td>\n",
       "      <td>20389</td>\n",
       "      <td>70</td>\n",
       "      <td>70.0</td>\n",
       "      <td>...</td>\n",
       "      <td>2141-01-30 19:59:41</td>\n",
       "      <td>2141-03-18 17:36:16</td>\n",
       "      <td>1 days 13:32:19</td>\n",
       "      <td>45 days 08:04:16</td>\n",
       "      <td>True</td>\n",
       "      <td>False</td>\n",
       "      <td>25737 days 19:59:41</td>\n",
       "      <td>2070-07-23</td>\n",
       "      <td>True</td>\n",
       "      <td>True</td>\n",
       "    </tr>\n",
       "    <tr>\n",
       "      <th>2</th>\n",
       "      <td>59457749</td>\n",
       "      <td>4914</td>\n",
       "      <td>145788</td>\n",
       "      <td>236390.0</td>\n",
       "      <td>1394</td>\n",
       "      <td>2141-01-31 12:30:00</td>\n",
       "      <td>2141-01-31 12:40:00</td>\n",
       "      <td>15012</td>\n",
       "      <td>70</td>\n",
       "      <td>70.0</td>\n",
       "      <td>...</td>\n",
       "      <td>2141-01-30 19:59:41</td>\n",
       "      <td>2141-03-18 17:36:16</td>\n",
       "      <td>1 days 13:32:19</td>\n",
       "      <td>45 days 08:04:16</td>\n",
       "      <td>True</td>\n",
       "      <td>False</td>\n",
       "      <td>25737 days 19:59:41</td>\n",
       "      <td>2070-07-23</td>\n",
       "      <td>True</td>\n",
       "      <td>True</td>\n",
       "    </tr>\n",
       "    <tr>\n",
       "      <th>3</th>\n",
       "      <td>59457937</td>\n",
       "      <td>4914</td>\n",
       "      <td>145788</td>\n",
       "      <td>236390.0</td>\n",
       "      <td>1394</td>\n",
       "      <td>2141-01-31 16:00:00</td>\n",
       "      <td>2141-01-31 16:01:00</td>\n",
       "      <td>15012</td>\n",
       "      <td>70</td>\n",
       "      <td>70.0</td>\n",
       "      <td>...</td>\n",
       "      <td>2141-01-30 19:59:41</td>\n",
       "      <td>2141-03-18 17:36:16</td>\n",
       "      <td>1 days 13:32:19</td>\n",
       "      <td>45 days 08:04:16</td>\n",
       "      <td>True</td>\n",
       "      <td>False</td>\n",
       "      <td>25737 days 19:59:41</td>\n",
       "      <td>2070-07-23</td>\n",
       "      <td>True</td>\n",
       "      <td>True</td>\n",
       "    </tr>\n",
       "    <tr>\n",
       "      <th>4</th>\n",
       "      <td>59459564</td>\n",
       "      <td>4914</td>\n",
       "      <td>145788</td>\n",
       "      <td>236390.0</td>\n",
       "      <td>1394</td>\n",
       "      <td>2141-02-01 20:30:00</td>\n",
       "      <td>2141-02-01 20:40:00</td>\n",
       "      <td>19653</td>\n",
       "      <td>70</td>\n",
       "      <td>70.0</td>\n",
       "      <td>...</td>\n",
       "      <td>2141-01-30 19:59:41</td>\n",
       "      <td>2141-03-18 17:36:16</td>\n",
       "      <td>1 days 13:32:19</td>\n",
       "      <td>45 days 08:04:16</td>\n",
       "      <td>True</td>\n",
       "      <td>False</td>\n",
       "      <td>25737 days 19:59:41</td>\n",
       "      <td>2070-07-23</td>\n",
       "      <td>True</td>\n",
       "      <td>True</td>\n",
       "    </tr>\n",
       "  </tbody>\n",
       "</table>\n",
       "<p>5 rows × 30 columns</p>\n",
       "</div>"
      ],
      "text/plain": [
       "     row_id  subject_id  hadm_id  icustay_id  itemid           charttime  \\\n",
       "0  59460352        4914   145788    236390.0    1394 2141-02-02 12:00:00   \n",
       "1  59460569        4914   145788    236390.0    1394 2141-02-02 16:00:00   \n",
       "2  59457749        4914   145788    236390.0    1394 2141-01-31 12:30:00   \n",
       "3  59457937        4914   145788    236390.0    1394 2141-01-31 16:00:00   \n",
       "4  59459564        4914   145788    236390.0    1394 2141-02-01 20:30:00   \n",
       "\n",
       "            storetime   cgid value  valuenum     ...                  intime  \\\n",
       "0 2141-02-02 11:40:00  20389    70      70.0     ...     2141-01-30 19:59:41   \n",
       "1 2141-02-02 16:27:00  20389    70      70.0     ...     2141-01-30 19:59:41   \n",
       "2 2141-01-31 12:40:00  15012    70      70.0     ...     2141-01-30 19:59:41   \n",
       "3 2141-01-31 16:01:00  15012    70      70.0     ...     2141-01-30 19:59:41   \n",
       "4 2141-02-01 20:40:00  19653    70      70.0     ...     2141-01-30 19:59:41   \n",
       "\n",
       "              outtime  intime_to_echo  echo_to_outtime ps_vaso  diag_xc  \\\n",
       "0 2141-03-18 17:36:16 1 days 13:32:19 45 days 08:04:16    True    False   \n",
       "1 2141-03-18 17:36:16 1 days 13:32:19 45 days 08:04:16    True    False   \n",
       "2 2141-03-18 17:36:16 1 days 13:32:19 45 days 08:04:16    True    False   \n",
       "3 2141-03-18 17:36:16 1 days 13:32:19 45 days 08:04:16    True    False   \n",
       "4 2141-03-18 17:36:16 1 days 13:32:19 45 days 08:04:16    True    False   \n",
       "\n",
       "        age_at_intime        dob  time_filter  age_filter  \n",
       "0 25737 days 19:59:41 2070-07-23         True        True  \n",
       "1 25737 days 19:59:41 2070-07-23         True        True  \n",
       "2 25737 days 19:59:41 2070-07-23         True        True  \n",
       "3 25737 days 19:59:41 2070-07-23         True        True  \n",
       "4 25737 days 19:59:41 2070-07-23         True        True  \n",
       "\n",
       "[5 rows x 30 columns]"
      ]
     },
     "execution_count": 7,
     "metadata": {},
     "output_type": "execute_result"
    }
   ],
   "source": [
    "ce.head()"
   ]
  },
  {
   "cell_type": "code",
   "execution_count": null,
   "metadata": {
    "collapsed": true
   },
   "outputs": [],
   "source": []
  }
 ],
 "metadata": {
  "anaconda-cloud": {},
  "kernelspec": {
   "display_name": "Python [Root]",
   "language": "python",
   "name": "Python [Root]"
  },
  "language_info": {
   "codemirror_mode": {
    "name": "ipython",
    "version": 3
   },
   "file_extension": ".py",
   "mimetype": "text/x-python",
   "name": "python",
   "nbconvert_exporter": "python",
   "pygments_lexer": "ipython3",
   "version": "3.5.2"
  }
 },
 "nbformat": 4,
 "nbformat_minor": 0
}
