{
 "cells": [
  {
   "cell_type": "code",
   "execution_count": 1,
   "metadata": {
    "collapsed": true
   },
   "outputs": [],
   "source": [
    "import numpy as np\n",
    "import pandas as pd\n",
    "import psycopg2\n",
    "\n",
    "import matplotlib.pyplot as plt\n",
    "import seaborn as sns\n",
    "\n",
    "import matplotlib.style\n",
    "matplotlib.style.use('ggplot')\n",
    "%matplotlib inline"
   ]
  },
  {
   "cell_type": "code",
   "execution_count": 2,
   "metadata": {
    "collapsed": true
   },
   "outputs": [],
   "source": [
    "# create a database connection\n",
    "sqluser = 'mimic'\n",
    "dbname = 'mimic'\n",
    "schema_name = 'mimiciii'\n",
    "\n",
    "cur = None"
   ]
  },
  {
   "cell_type": "code",
   "execution_count": 58,
   "metadata": {
    "collapsed": true
   },
   "outputs": [],
   "source": [
    "if cur: \n",
    "    cur.close()\n",
    "    con.close()\n",
    "\n",
    "con = psycopg2.connect(dbname = dbname, user = sqluser)\n",
    "cur = con.cursor()\n",
    "cur.execute('SET search_path to ' + schema_name)"
   ]
  },
  {
   "cell_type": "markdown",
   "metadata": {},
   "source": [
    "For each echo, mark whether or not there is an outpatient echo before/after. "
   ]
  },
  {
   "cell_type": "code",
   "execution_count": 4,
   "metadata": {
    "collapsed": false
   },
   "outputs": [
    {
     "data": {
      "text/plain": [
       "(4896, 5)"
      ]
     },
     "execution_count": 4,
     "metadata": {},
     "output_type": "execute_result"
    }
   ],
   "source": [
    "query = \\\n",
    "\"\"\"\n",
    "WITH pairs AS (\n",
    "    SELECT ed.row_id AS op_rowid, ei.row_id AS icu_rowid\n",
    "        ,ed.charttime AS op_charttime\n",
    "        ,ei.charttime AS icu_charttime\n",
    "        ,ei.subject_id\n",
    "        ,ei.icustay_id\n",
    "        ,CASE WHEN ed.charttime > ei.charttime THEN 1 ELSE 0 END AS op_after\n",
    "        ,CASE WHEN ed.charttime < ei.charttime THEN 1 ELSE 0 END AS op_before\n",
    "        ,ed.charttime - ei.charttime AS op_to_icu\n",
    "        ,ei.charttime - ed.charttime AS icu_to_op\n",
    "        ,CASE WHEN ed.technicalquality = 'Good' THEN 3\n",
    "              WHEN ed.technicalquality = 'Adequate' THEN 2\n",
    "              WHEN ed.technicalquality = 'Suboptimal' THEN 1\n",
    "         ELSE 0 END AS tq\n",
    "    FROM echodata ed\n",
    "    INNER JOIN echo_icustay ei\n",
    "    ON ei.subject_id = ed.subject_id\n",
    "    WHERE ed.status = 'Outpatient' \n",
    ")\n",
    "-- find \n",
    ", proximal_after AS (\n",
    "    SELECT ps.icu_rowid, MIN(ps.op_to_icu) AS op_to_icu\n",
    "    FROM pairs ps\n",
    "    WHERE ps.op_after = 1\n",
    "    GROUP BY ps.icu_rowid\n",
    ")\n",
    ", proximal_before AS (\n",
    "    SELECT ps.icu_rowid, MIN(ps.icu_to_op) AS icu_to_op\n",
    "    FROM pairs ps\n",
    "    WHERE ps.op_before = 1\n",
    "    GROUP BY ps.icu_rowid\n",
    ")\n",
    ", proximal_after_ AS (\n",
    "    SELECT ps.* FROM proximal_after pa\n",
    "    INNER JOIN pairs ps\n",
    "        ON pa.icu_rowid = ps.icu_rowid\n",
    "        AND pa.op_to_icu = ps.op_to_icu\n",
    ")\n",
    ", proximal_before_ AS (\n",
    "    SELECT ps.* FROM proximal_before pb\n",
    "    INNER JOIN pairs ps\n",
    "        ON pb.icu_rowid = ps.icu_rowid\n",
    "        AND pb.icu_to_op = ps.icu_to_op\n",
    ")\n",
    ", proximal_quality_after AS (\n",
    "    SELECT pa.icu_rowid, MAX(tq) AS tq FROM proximal_after_ pa\n",
    "    GROUP BY pa.icu_rowid\n",
    ")\n",
    ", proximal_quality_before AS (\n",
    "    SELECT pb.icu_rowid, MAX(tq) AS tq FROM proximal_before_ pb\n",
    "    GROUP BY pb.icu_rowid\n",
    ")\n",
    ", proximal_quality_after_ AS (\n",
    "    SELECT pa.* FROM proximal_quality_after pqa\n",
    "    INNER JOIN proximal_after_ pa\n",
    "        ON pqa.icu_rowid = pa.icu_rowid\n",
    "        AND pqa.tq = pa.tq\n",
    ")\n",
    ", proximal_quality_before_ AS (\n",
    "    SELECT pb.* FROM proximal_quality_before pqb\n",
    "    INNER JOIN proximal_before_ pb\n",
    "        ON pqb.icu_rowid = pb.icu_rowid\n",
    "        AND pqb.tq = pb.tq\n",
    ")\n",
    "SELECT \n",
    "    CASE WHEN pqa.icu_rowid IS NOT NULL THEN pqa.icu_rowid ELSE pqb.icu_rowid END AS icu_rowid\n",
    "    ,pqa.op_rowid AS after_rowid\n",
    "    ,pqb.op_rowid AS before_rowid\n",
    "    ,pqa.op_to_icu AS op_to_icu\n",
    "    ,pqb.icu_to_op AS icu_to_op\n",
    "FROM proximal_quality_after_ pqa\n",
    "FULL OUTER JOIN proximal_quality_before_ pqb\n",
    "    ON pqa.icu_rowid = pqb.icu_rowid\n",
    "\"\"\"\n",
    "op = pd.read_sql_query(query, con)\n",
    "op.shape"
   ]
  },
  {
   "cell_type": "markdown",
   "metadata": {},
   "source": [
    "Recall that we want to keep the most proximal only. To be more specific, for each inpatient echo, join on patient id and ask if the outpatient echo happened before or after. "
   ]
  },
  {
   "cell_type": "code",
   "execution_count": 5,
   "metadata": {
    "collapsed": false
   },
   "outputs": [
    {
     "data": {
      "text/plain": [
       "98837     1\n",
       "88075     1\n",
       "65596     1\n",
       "100381    1\n",
       "65536     1\n",
       "Name: icu_rowid, dtype: int64"
      ]
     },
     "execution_count": 5,
     "metadata": {},
     "output_type": "execute_result"
    }
   ],
   "source": [
    "op['icu_rowid'].value_counts().sort_values(ascending = False).head()"
   ]
  },
  {
   "cell_type": "code",
   "execution_count": 6,
   "metadata": {
    "collapsed": false
   },
   "outputs": [
    {
     "data": {
      "text/html": [
       "<div>\n",
       "<table border=\"1\" class=\"dataframe\">\n",
       "  <thead>\n",
       "    <tr style=\"text-align: right;\">\n",
       "      <th></th>\n",
       "      <th>icu_rowid</th>\n",
       "      <th>after_rowid</th>\n",
       "      <th>before_rowid</th>\n",
       "      <th>op_to_icu</th>\n",
       "      <th>icu_to_op</th>\n",
       "    </tr>\n",
       "  </thead>\n",
       "  <tbody>\n",
       "    <tr>\n",
       "      <th>1620</th>\n",
       "      <td>67506</td>\n",
       "      <td>67471.0</td>\n",
       "      <td>NaN</td>\n",
       "      <td>27 days 23:50:00</td>\n",
       "      <td>NaT</td>\n",
       "    </tr>\n",
       "  </tbody>\n",
       "</table>\n",
       "</div>"
      ],
      "text/plain": [
       "      icu_rowid  after_rowid  before_rowid        op_to_icu  icu_to_op\n",
       "1620      67506      67471.0           NaN 27 days 23:50:00        NaT"
      ]
     },
     "execution_count": 6,
     "metadata": {},
     "output_type": "execute_result"
    }
   ],
   "source": [
    "op.loc[(op['icu_rowid'] == 67506)]"
   ]
  },
  {
   "cell_type": "code",
   "execution_count": 7,
   "metadata": {
    "collapsed": false
   },
   "outputs": [
    {
     "data": {
      "text/html": [
       "<div>\n",
       "<table border=\"1\" class=\"dataframe\">\n",
       "  <thead>\n",
       "    <tr style=\"text-align: right;\">\n",
       "      <th></th>\n",
       "      <th>row_id</th>\n",
       "      <th>subject_id</th>\n",
       "      <th>hadm_id</th>\n",
       "      <th>chartdate</th>\n",
       "      <th>charttime</th>\n",
       "      <th>indication</th>\n",
       "      <th>height</th>\n",
       "      <th>weight</th>\n",
       "      <th>bsa</th>\n",
       "      <th>bp</th>\n",
       "      <th>bpsys</th>\n",
       "      <th>bpdias</th>\n",
       "      <th>hr</th>\n",
       "      <th>status</th>\n",
       "      <th>test</th>\n",
       "      <th>doppler</th>\n",
       "      <th>contrast</th>\n",
       "      <th>technicalquality</th>\n",
       "    </tr>\n",
       "  </thead>\n",
       "  <tbody>\n",
       "    <tr>\n",
       "      <th>0</th>\n",
       "      <td>67471</td>\n",
       "      <td>9906</td>\n",
       "      <td>None</td>\n",
       "      <td>2101-12-26</td>\n",
       "      <td>2101-12-26 14:41:00</td>\n",
       "      <td>H/O cardiac surgery.</td>\n",
       "      <td>69.0</td>\n",
       "      <td>190.0</td>\n",
       "      <td>2.02</td>\n",
       "      <td>124/74</td>\n",
       "      <td>124.0</td>\n",
       "      <td>74.0</td>\n",
       "      <td>58.0</td>\n",
       "      <td>Outpatient</td>\n",
       "      <td>TTE (Complete)</td>\n",
       "      <td>Full doppler and color doppler</td>\n",
       "      <td>None</td>\n",
       "      <td>Adequate</td>\n",
       "    </tr>\n",
       "    <tr>\n",
       "      <th>1</th>\n",
       "      <td>67470</td>\n",
       "      <td>9906</td>\n",
       "      <td>None</td>\n",
       "      <td>2101-12-26</td>\n",
       "      <td>2101-12-26 14:41:00</td>\n",
       "      <td>H/O cardiac surgery.</td>\n",
       "      <td>69.0</td>\n",
       "      <td>190.0</td>\n",
       "      <td>2.02</td>\n",
       "      <td>124/74</td>\n",
       "      <td>124.0</td>\n",
       "      <td>74.0</td>\n",
       "      <td>58.0</td>\n",
       "      <td>Outpatient</td>\n",
       "      <td>TTE (Complete)</td>\n",
       "      <td>Full doppler and color doppler</td>\n",
       "      <td>None</td>\n",
       "      <td>Suboptimal</td>\n",
       "    </tr>\n",
       "  </tbody>\n",
       "</table>\n",
       "</div>"
      ],
      "text/plain": [
       "   row_id  subject_id hadm_id  chartdate           charttime  \\\n",
       "0   67471        9906    None 2101-12-26 2101-12-26 14:41:00   \n",
       "1   67470        9906    None 2101-12-26 2101-12-26 14:41:00   \n",
       "\n",
       "             indication  height  weight   bsa      bp  bpsys  bpdias    hr  \\\n",
       "0  H/O cardiac surgery.    69.0   190.0  2.02  124/74  124.0    74.0  58.0   \n",
       "1  H/O cardiac surgery.    69.0   190.0  2.02  124/74  124.0    74.0  58.0   \n",
       "\n",
       "       status            test                         doppler contrast  \\\n",
       "0  Outpatient  TTE (Complete)  Full doppler and color doppler     None   \n",
       "1  Outpatient  TTE (Complete)  Full doppler and color doppler     None   \n",
       "\n",
       "  technicalquality  \n",
       "0         Adequate  \n",
       "1       Suboptimal  "
      ]
     },
     "execution_count": 7,
     "metadata": {},
     "output_type": "execute_result"
    }
   ],
   "source": [
    "query = \\\n",
    "\"\"\"\n",
    "SELECT * FROM echodata ed\n",
    "WHERE ed.row_id in ('67471', '67470');\n",
    "\"\"\"\n",
    "check = pd.read_sql_query(query, con)\n",
    "check.head()"
   ]
  },
  {
   "cell_type": "markdown",
   "metadata": {},
   "source": [
    "This one is because the data quality of 1 was bad. Unclear what the reason for the other one actually is. "
   ]
  },
  {
   "cell_type": "code",
   "execution_count": 8,
   "metadata": {
    "collapsed": false
   },
   "outputs": [
    {
     "data": {
      "text/html": [
       "<div>\n",
       "<table border=\"1\" class=\"dataframe\">\n",
       "  <thead>\n",
       "    <tr style=\"text-align: right;\">\n",
       "      <th></th>\n",
       "      <th>technicalquality</th>\n",
       "      <th>count</th>\n",
       "    </tr>\n",
       "  </thead>\n",
       "  <tbody>\n",
       "    <tr>\n",
       "      <th>0</th>\n",
       "      <td>None</td>\n",
       "      <td>1</td>\n",
       "    </tr>\n",
       "    <tr>\n",
       "      <th>1</th>\n",
       "      <td>Suboptimal</td>\n",
       "      <td>9092</td>\n",
       "    </tr>\n",
       "    <tr>\n",
       "      <th>2</th>\n",
       "      <td>Adequate</td>\n",
       "      <td>36561</td>\n",
       "    </tr>\n",
       "    <tr>\n",
       "      <th>3</th>\n",
       "      <td>Good</td>\n",
       "      <td>140</td>\n",
       "    </tr>\n",
       "  </tbody>\n",
       "</table>\n",
       "</div>"
      ],
      "text/plain": [
       "  technicalquality  count\n",
       "0             None      1\n",
       "1       Suboptimal   9092\n",
       "2         Adequate  36561\n",
       "3             Good    140"
      ]
     },
     "execution_count": 8,
     "metadata": {},
     "output_type": "execute_result"
    }
   ],
   "source": [
    "query = \\\n",
    "\"\"\"\n",
    "SELECT technicalquality, COUNT(row_id) FROM echodata ed\n",
    "GROUP BY technicalquality;\n",
    "\"\"\"\n",
    "check = pd.read_sql_query(query, con)\n",
    "check.head()"
   ]
  },
  {
   "cell_type": "markdown",
   "metadata": {},
   "source": [
    "Check that icu_rowid is unique. "
   ]
  },
  {
   "cell_type": "code",
   "execution_count": 9,
   "metadata": {
    "collapsed": false
   },
   "outputs": [
    {
     "data": {
      "text/plain": [
       "1    4896\n",
       "Name: icu_rowid, dtype: int64"
      ]
     },
     "execution_count": 9,
     "metadata": {},
     "output_type": "execute_result"
    }
   ],
   "source": [
    "op['icu_rowid'].value_counts().value_counts()"
   ]
  },
  {
   "cell_type": "code",
   "execution_count": 10,
   "metadata": {
    "collapsed": false
   },
   "outputs": [
    {
     "data": {
      "text/plain": [
       "1    4896\n",
       "Name: icu_rowid, dtype: int64"
      ]
     },
     "execution_count": 10,
     "metadata": {},
     "output_type": "execute_result"
    }
   ],
   "source": [
    "op['icu_rowid'].value_counts().value_counts()"
   ]
  },
  {
   "cell_type": "markdown",
   "metadata": {},
   "source": [
    "Check: "
   ]
  },
  {
   "cell_type": "code",
   "execution_count": 11,
   "metadata": {
    "collapsed": false
   },
   "outputs": [
    {
     "data": {
      "text/html": [
       "<div>\n",
       "<table border=\"1\" class=\"dataframe\">\n",
       "  <thead>\n",
       "    <tr style=\"text-align: right;\">\n",
       "      <th></th>\n",
       "      <th>icu_rowid</th>\n",
       "      <th>after_rowid</th>\n",
       "      <th>before_rowid</th>\n",
       "      <th>op_to_icu</th>\n",
       "      <th>icu_to_op</th>\n",
       "    </tr>\n",
       "  </thead>\n",
       "  <tbody>\n",
       "    <tr>\n",
       "      <th>0</th>\n",
       "      <td>93689</td>\n",
       "      <td>93688.0</td>\n",
       "      <td>NaN</td>\n",
       "      <td>176 days 23:27:00</td>\n",
       "      <td>NaT</td>\n",
       "    </tr>\n",
       "    <tr>\n",
       "      <th>1</th>\n",
       "      <td>85549</td>\n",
       "      <td>85523.0</td>\n",
       "      <td>NaN</td>\n",
       "      <td>31 days 05:18:00</td>\n",
       "      <td>NaT</td>\n",
       "    </tr>\n",
       "    <tr>\n",
       "      <th>2</th>\n",
       "      <td>96352</td>\n",
       "      <td>96351.0</td>\n",
       "      <td>NaN</td>\n",
       "      <td>25 days 20:40:00</td>\n",
       "      <td>NaT</td>\n",
       "    </tr>\n",
       "    <tr>\n",
       "      <th>3</th>\n",
       "      <td>103673</td>\n",
       "      <td>103672.0</td>\n",
       "      <td>NaN</td>\n",
       "      <td>70 days 21:01:00</td>\n",
       "      <td>NaT</td>\n",
       "    </tr>\n",
       "    <tr>\n",
       "      <th>4</th>\n",
       "      <td>63126</td>\n",
       "      <td>63047.0</td>\n",
       "      <td>NaN</td>\n",
       "      <td>5 days 20:53:00</td>\n",
       "      <td>NaT</td>\n",
       "    </tr>\n",
       "  </tbody>\n",
       "</table>\n",
       "</div>"
      ],
      "text/plain": [
       "   icu_rowid  after_rowid  before_rowid         op_to_icu  icu_to_op\n",
       "0      93689      93688.0           NaN 176 days 23:27:00        NaT\n",
       "1      85549      85523.0           NaN  31 days 05:18:00        NaT\n",
       "2      96352      96351.0           NaN  25 days 20:40:00        NaT\n",
       "3     103673     103672.0           NaN  70 days 21:01:00        NaT\n",
       "4      63126      63047.0           NaN   5 days 20:53:00        NaT"
      ]
     },
     "execution_count": 11,
     "metadata": {},
     "output_type": "execute_result"
    }
   ],
   "source": [
    "op.head()"
   ]
  },
  {
   "cell_type": "code",
   "execution_count": 12,
   "metadata": {
    "collapsed": false
   },
   "outputs": [
    {
     "data": {
      "text/plain": [
       "(4896, 5)"
      ]
     },
     "execution_count": 12,
     "metadata": {},
     "output_type": "execute_result"
    }
   ],
   "source": [
    "op.shape"
   ]
  },
  {
   "cell_type": "code",
   "execution_count": 13,
   "metadata": {
    "collapsed": false
   },
   "outputs": [
    {
     "data": {
      "text/plain": [
       "(652, 5)"
      ]
     },
     "execution_count": 13,
     "metadata": {},
     "output_type": "execute_result"
    }
   ],
   "source": [
    "op.dropna().shape"
   ]
  },
  {
   "cell_type": "markdown",
   "metadata": {},
   "source": [
    "We have 482 inpatient echos that can be associated with outpatient echos before AND after. "
   ]
  },
  {
   "cell_type": "code",
   "execution_count": 17,
   "metadata": {
    "collapsed": false
   },
   "outputs": [
    {
     "data": {
      "text/html": [
       "<div>\n",
       "<table border=\"1\" class=\"dataframe\">\n",
       "  <thead>\n",
       "    <tr style=\"text-align: right;\">\n",
       "      <th></th>\n",
       "      <th>row_id</th>\n",
       "      <th>charttime</th>\n",
       "      <th>icustay_id</th>\n",
       "      <th>hadm_id</th>\n",
       "      <th>subject_id</th>\n",
       "      <th>intime</th>\n",
       "      <th>outtime</th>\n",
       "      <th>intime_to_echo</th>\n",
       "      <th>echo_to_outtime</th>\n",
       "      <th>ps_vaso</th>\n",
       "      <th>diag_xc</th>\n",
       "      <th>age_at_intime</th>\n",
       "      <th>op_to_icu</th>\n",
       "      <th>icu_to_op</th>\n",
       "      <th>time_filter</th>\n",
       "      <th>age_filter</th>\n",
       "    </tr>\n",
       "  </thead>\n",
       "  <tbody>\n",
       "    <tr>\n",
       "      <th>0</th>\n",
       "      <td>62570</td>\n",
       "      <td>2102-04-14 10:00:00</td>\n",
       "      <td>207317</td>\n",
       "      <td>191210</td>\n",
       "      <td>44605</td>\n",
       "      <td>2102-04-14 08:58:39</td>\n",
       "      <td>2102-04-15 17:17:53</td>\n",
       "      <td>01:01:21</td>\n",
       "      <td>1 days 07:17:53</td>\n",
       "      <td>True</td>\n",
       "      <td>False</td>\n",
       "      <td>23809 days 08:58:39</td>\n",
       "      <td>NaT</td>\n",
       "      <td>NaT</td>\n",
       "      <td>True</td>\n",
       "      <td>True</td>\n",
       "    </tr>\n",
       "    <tr>\n",
       "      <th>1</th>\n",
       "      <td>68949</td>\n",
       "      <td>2162-06-11 08:53:00</td>\n",
       "      <td>230215</td>\n",
       "      <td>153438</td>\n",
       "      <td>3778</td>\n",
       "      <td>2162-06-11 10:38:17</td>\n",
       "      <td>2162-06-13 18:31:49</td>\n",
       "      <td>-1 days +22:14:43</td>\n",
       "      <td>2 days 09:38:49</td>\n",
       "      <td>True</td>\n",
       "      <td>False</td>\n",
       "      <td>25791 days 10:38:17</td>\n",
       "      <td>NaT</td>\n",
       "      <td>NaT</td>\n",
       "      <td>True</td>\n",
       "      <td>True</td>\n",
       "    </tr>\n",
       "    <tr>\n",
       "      <th>2</th>\n",
       "      <td>84167</td>\n",
       "      <td>2191-03-15 00:22:00</td>\n",
       "      <td>279743</td>\n",
       "      <td>180621</td>\n",
       "      <td>19896</td>\n",
       "      <td>2191-03-14 22:55:19</td>\n",
       "      <td>2191-04-05 13:05:09</td>\n",
       "      <td>01:26:41</td>\n",
       "      <td>21 days 12:43:09</td>\n",
       "      <td>True</td>\n",
       "      <td>False</td>\n",
       "      <td>31859 days 22:55:19</td>\n",
       "      <td>NaT</td>\n",
       "      <td>NaT</td>\n",
       "      <td>True</td>\n",
       "      <td>True</td>\n",
       "    </tr>\n",
       "    <tr>\n",
       "      <th>3</th>\n",
       "      <td>64922</td>\n",
       "      <td>2181-07-02 11:11:00</td>\n",
       "      <td>290910</td>\n",
       "      <td>170691</td>\n",
       "      <td>59945</td>\n",
       "      <td>2181-07-02 10:41:19</td>\n",
       "      <td>2181-07-03 23:01:06</td>\n",
       "      <td>00:29:41</td>\n",
       "      <td>1 days 11:50:06</td>\n",
       "      <td>True</td>\n",
       "      <td>False</td>\n",
       "      <td>24202 days 10:41:19</td>\n",
       "      <td>NaT</td>\n",
       "      <td>NaT</td>\n",
       "      <td>True</td>\n",
       "      <td>True</td>\n",
       "    </tr>\n",
       "    <tr>\n",
       "      <th>4</th>\n",
       "      <td>80126</td>\n",
       "      <td>2173-02-09 09:13:00</td>\n",
       "      <td>221265</td>\n",
       "      <td>112693</td>\n",
       "      <td>26548</td>\n",
       "      <td>2173-02-09 10:42:28</td>\n",
       "      <td>2173-02-10 14:25:27</td>\n",
       "      <td>-1 days +22:30:32</td>\n",
       "      <td>1 days 05:12:27</td>\n",
       "      <td>True</td>\n",
       "      <td>False</td>\n",
       "      <td>21091 days 10:42:28</td>\n",
       "      <td>NaT</td>\n",
       "      <td>NaT</td>\n",
       "      <td>True</td>\n",
       "      <td>True</td>\n",
       "    </tr>\n",
       "  </tbody>\n",
       "</table>\n",
       "</div>"
      ],
      "text/plain": [
       "   row_id           charttime  icustay_id  hadm_id  subject_id  \\\n",
       "0   62570 2102-04-14 10:00:00      207317   191210       44605   \n",
       "1   68949 2162-06-11 08:53:00      230215   153438        3778   \n",
       "2   84167 2191-03-15 00:22:00      279743   180621       19896   \n",
       "3   64922 2181-07-02 11:11:00      290910   170691       59945   \n",
       "4   80126 2173-02-09 09:13:00      221265   112693       26548   \n",
       "\n",
       "               intime             outtime    intime_to_echo  echo_to_outtime  \\\n",
       "0 2102-04-14 08:58:39 2102-04-15 17:17:53          01:01:21  1 days 07:17:53   \n",
       "1 2162-06-11 10:38:17 2162-06-13 18:31:49 -1 days +22:14:43  2 days 09:38:49   \n",
       "2 2191-03-14 22:55:19 2191-04-05 13:05:09          01:26:41 21 days 12:43:09   \n",
       "3 2181-07-02 10:41:19 2181-07-03 23:01:06          00:29:41  1 days 11:50:06   \n",
       "4 2173-02-09 10:42:28 2173-02-10 14:25:27 -1 days +22:30:32  1 days 05:12:27   \n",
       "\n",
       "  ps_vaso diag_xc       age_at_intime  op_to_icu  icu_to_op time_filter  \\\n",
       "0    True   False 23809 days 08:58:39        NaT        NaT        True   \n",
       "1    True   False 25791 days 10:38:17        NaT        NaT        True   \n",
       "2    True   False 31859 days 22:55:19        NaT        NaT        True   \n",
       "3    True   False 24202 days 10:41:19        NaT        NaT        True   \n",
       "4    True   False 21091 days 10:42:28        NaT        NaT        True   \n",
       "\n",
       "  age_filter  \n",
       "0       True  \n",
       "1       True  \n",
       "2       True  \n",
       "3       True  \n",
       "4       True  "
      ]
     },
     "execution_count": 17,
     "metadata": {},
     "output_type": "execute_result"
    }
   ],
   "source": [
    "query = \\\n",
    "\"\"\"\n",
    "SELECT *\n",
    "FROM echo_filtered\n",
    "\"\"\"\n",
    "ef = pd.read_sql_query(query, con)\n",
    "ef.head()"
   ]
  },
  {
   "cell_type": "code",
   "execution_count": 18,
   "metadata": {
    "collapsed": false
   },
   "outputs": [
    {
     "data": {
      "text/plain": [
       "342"
      ]
     },
     "execution_count": 18,
     "metadata": {},
     "output_type": "execute_result"
    }
   ],
   "source": [
    "len(set(op['icu_rowid'].unique()) & set(ef['row_id'].unique()))"
   ]
  },
  {
   "cell_type": "code",
   "execution_count": 19,
   "metadata": {
    "collapsed": false
   },
   "outputs": [
    {
     "data": {
      "text/plain": [
       "38"
      ]
     },
     "execution_count": 19,
     "metadata": {},
     "output_type": "execute_result"
    }
   ],
   "source": [
    "len(set(op.dropna()['icu_rowid'].unique()) & set(ef['row_id'].unique()))"
   ]
  },
  {
   "cell_type": "markdown",
   "metadata": {},
   "source": [
    "Load: "
   ]
  },
  {
   "cell_type": "code",
   "execution_count": 20,
   "metadata": {
    "collapsed": false
   },
   "outputs": [
    {
     "data": {
      "text/html": [
       "<div>\n",
       "<table border=\"1\" class=\"dataframe\">\n",
       "  <thead>\n",
       "    <tr style=\"text-align: right;\">\n",
       "      <th></th>\n",
       "      <th>icu_rowid</th>\n",
       "      <th>after_rowid</th>\n",
       "      <th>before_rowid</th>\n",
       "      <th>op_to_icu</th>\n",
       "      <th>icu_to_op</th>\n",
       "    </tr>\n",
       "  </thead>\n",
       "  <tbody>\n",
       "    <tr>\n",
       "      <th>0</th>\n",
       "      <td>93689</td>\n",
       "      <td>93688.0</td>\n",
       "      <td>NaN</td>\n",
       "      <td>176 days 23:27:00</td>\n",
       "      <td>NaT</td>\n",
       "    </tr>\n",
       "    <tr>\n",
       "      <th>1</th>\n",
       "      <td>85549</td>\n",
       "      <td>85523.0</td>\n",
       "      <td>NaN</td>\n",
       "      <td>31 days 05:18:00</td>\n",
       "      <td>NaT</td>\n",
       "    </tr>\n",
       "    <tr>\n",
       "      <th>2</th>\n",
       "      <td>96352</td>\n",
       "      <td>96351.0</td>\n",
       "      <td>NaN</td>\n",
       "      <td>25 days 20:40:00</td>\n",
       "      <td>NaT</td>\n",
       "    </tr>\n",
       "    <tr>\n",
       "      <th>3</th>\n",
       "      <td>103673</td>\n",
       "      <td>103672.0</td>\n",
       "      <td>NaN</td>\n",
       "      <td>70 days 21:01:00</td>\n",
       "      <td>NaT</td>\n",
       "    </tr>\n",
       "    <tr>\n",
       "      <th>4</th>\n",
       "      <td>82145</td>\n",
       "      <td>82143.0</td>\n",
       "      <td>82147.0</td>\n",
       "      <td>101 days 00:32:00</td>\n",
       "      <td>77 days 01:39:00</td>\n",
       "    </tr>\n",
       "  </tbody>\n",
       "</table>\n",
       "</div>"
      ],
      "text/plain": [
       "   icu_rowid  after_rowid  before_rowid         op_to_icu        icu_to_op\n",
       "0      93689      93688.0           NaN 176 days 23:27:00              NaT\n",
       "1      85549      85523.0           NaN  31 days 05:18:00              NaT\n",
       "2      96352      96351.0           NaN  25 days 20:40:00              NaT\n",
       "3     103673     103672.0           NaN  70 days 21:01:00              NaT\n",
       "4      82145      82143.0       82147.0 101 days 00:32:00 77 days 01:39:00"
      ]
     },
     "execution_count": 20,
     "metadata": {},
     "output_type": "execute_result"
    }
   ],
   "source": [
    "query = \\\n",
    "\"\"\"\n",
    "SELECT *\n",
    "FROM echo_outpatient\n",
    "\"\"\"\n",
    "ep = pd.read_sql_query(query, con)\n",
    "ep.head()"
   ]
  },
  {
   "cell_type": "code",
   "execution_count": 33,
   "metadata": {
    "collapsed": false
   },
   "outputs": [
    {
     "data": {
      "text/plain": [
       "3111"
      ]
     },
     "execution_count": 33,
     "metadata": {},
     "output_type": "execute_result"
    }
   ],
   "source": [
    "ep.loc[~ep['op_to_icu'].isnull()].shape[0]"
   ]
  },
  {
   "cell_type": "markdown",
   "metadata": {},
   "source": [
    "Without applying filters, "
   ]
  },
  {
   "cell_type": "code",
   "execution_count": 60,
   "metadata": {
    "collapsed": false
   },
   "outputs": [
    {
     "data": {
      "text/html": [
       "<div>\n",
       "<table border=\"1\" class=\"dataframe\">\n",
       "  <thead>\n",
       "    <tr style=\"text-align: right;\">\n",
       "      <th></th>\n",
       "      <th>row_id</th>\n",
       "      <th>charttime</th>\n",
       "      <th>icustay_id</th>\n",
       "      <th>hadm_id</th>\n",
       "      <th>subject_id</th>\n",
       "      <th>intime</th>\n",
       "      <th>outtime</th>\n",
       "      <th>intime_to_echo</th>\n",
       "      <th>echo_to_outtime</th>\n",
       "      <th>ps_vaso</th>\n",
       "      <th>diag_xc</th>\n",
       "      <th>age_at_intime</th>\n",
       "      <th>after_rowid</th>\n",
       "      <th>before_rowid</th>\n",
       "      <th>op_to_icu</th>\n",
       "      <th>icu_to_op</th>\n",
       "      <th>time_filter</th>\n",
       "      <th>age_filter</th>\n",
       "    </tr>\n",
       "  </thead>\n",
       "  <tbody>\n",
       "    <tr>\n",
       "      <th>0</th>\n",
       "      <td>83837</td>\n",
       "      <td>2182-08-19 10:46:00</td>\n",
       "      <td>264827</td>\n",
       "      <td>195409</td>\n",
       "      <td>32755</td>\n",
       "      <td>2182-08-18 16:50:19</td>\n",
       "      <td>2182-08-19 16:33:46</td>\n",
       "      <td>0 days 17:55:41</td>\n",
       "      <td>0 days 05:47:46</td>\n",
       "      <td>False</td>\n",
       "      <td>True</td>\n",
       "      <td>21643 days 16:50:19</td>\n",
       "      <td>NaN</td>\n",
       "      <td>NaN</td>\n",
       "      <td>NaT</td>\n",
       "      <td>NaT</td>\n",
       "      <td>True</td>\n",
       "      <td>True</td>\n",
       "    </tr>\n",
       "    <tr>\n",
       "      <th>1</th>\n",
       "      <td>104824</td>\n",
       "      <td>2119-01-26 14:49:00</td>\n",
       "      <td>276795</td>\n",
       "      <td>124493</td>\n",
       "      <td>69851</td>\n",
       "      <td>2119-01-26 16:57:32</td>\n",
       "      <td>2119-01-27 19:18:02</td>\n",
       "      <td>-1 days +21:51:28</td>\n",
       "      <td>1 days 04:29:02</td>\n",
       "      <td>False</td>\n",
       "      <td>True</td>\n",
       "      <td>25047 days 16:57:32</td>\n",
       "      <td>104888.0</td>\n",
       "      <td>104826.0</td>\n",
       "      <td>105 days 23:52:00</td>\n",
       "      <td>295 days 23:49:00</td>\n",
       "      <td>True</td>\n",
       "      <td>True</td>\n",
       "    </tr>\n",
       "    <tr>\n",
       "      <th>2</th>\n",
       "      <td>59659</td>\n",
       "      <td>2200-10-22 15:14:00</td>\n",
       "      <td>217810</td>\n",
       "      <td>188268</td>\n",
       "      <td>82208</td>\n",
       "      <td>2200-10-21 14:54:57</td>\n",
       "      <td>2200-10-24 14:01:58</td>\n",
       "      <td>1 days 00:19:03</td>\n",
       "      <td>1 days 22:47:58</td>\n",
       "      <td>False</td>\n",
       "      <td>True</td>\n",
       "      <td>22331 days 14:54:57</td>\n",
       "      <td>NaN</td>\n",
       "      <td>NaN</td>\n",
       "      <td>NaT</td>\n",
       "      <td>NaT</td>\n",
       "      <td>True</td>\n",
       "      <td>True</td>\n",
       "    </tr>\n",
       "    <tr>\n",
       "      <th>3</th>\n",
       "      <td>67634</td>\n",
       "      <td>2186-09-19 12:09:00</td>\n",
       "      <td>263932</td>\n",
       "      <td>168160</td>\n",
       "      <td>24182</td>\n",
       "      <td>2186-09-19 09:40:07</td>\n",
       "      <td>2186-09-22 13:15:57</td>\n",
       "      <td>0 days 02:28:53</td>\n",
       "      <td>3 days 01:06:57</td>\n",
       "      <td>True</td>\n",
       "      <td>True</td>\n",
       "      <td>27636 days 09:40:07</td>\n",
       "      <td>NaN</td>\n",
       "      <td>NaN</td>\n",
       "      <td>NaT</td>\n",
       "      <td>NaT</td>\n",
       "      <td>True</td>\n",
       "      <td>True</td>\n",
       "    </tr>\n",
       "    <tr>\n",
       "      <th>4</th>\n",
       "      <td>97569</td>\n",
       "      <td>2183-06-24 12:57:00</td>\n",
       "      <td>296461</td>\n",
       "      <td>107856</td>\n",
       "      <td>15977</td>\n",
       "      <td>2183-06-24 15:44:23</td>\n",
       "      <td>2183-06-28 16:12:29</td>\n",
       "      <td>-1 days +21:12:37</td>\n",
       "      <td>4 days 03:15:29</td>\n",
       "      <td>False</td>\n",
       "      <td>True</td>\n",
       "      <td>20237 days 15:44:23</td>\n",
       "      <td>97566.0</td>\n",
       "      <td>NaN</td>\n",
       "      <td>910 days 21:03:00</td>\n",
       "      <td>NaT</td>\n",
       "      <td>True</td>\n",
       "      <td>True</td>\n",
       "    </tr>\n",
       "  </tbody>\n",
       "</table>\n",
       "</div>"
      ],
      "text/plain": [
       "   row_id           charttime  icustay_id  hadm_id  subject_id  \\\n",
       "0   83837 2182-08-19 10:46:00      264827   195409       32755   \n",
       "1  104824 2119-01-26 14:49:00      276795   124493       69851   \n",
       "2   59659 2200-10-22 15:14:00      217810   188268       82208   \n",
       "3   67634 2186-09-19 12:09:00      263932   168160       24182   \n",
       "4   97569 2183-06-24 12:57:00      296461   107856       15977   \n",
       "\n",
       "               intime             outtime    intime_to_echo  echo_to_outtime  \\\n",
       "0 2182-08-18 16:50:19 2182-08-19 16:33:46   0 days 17:55:41  0 days 05:47:46   \n",
       "1 2119-01-26 16:57:32 2119-01-27 19:18:02 -1 days +21:51:28  1 days 04:29:02   \n",
       "2 2200-10-21 14:54:57 2200-10-24 14:01:58   1 days 00:19:03  1 days 22:47:58   \n",
       "3 2186-09-19 09:40:07 2186-09-22 13:15:57   0 days 02:28:53  3 days 01:06:57   \n",
       "4 2183-06-24 15:44:23 2183-06-28 16:12:29 -1 days +21:12:37  4 days 03:15:29   \n",
       "\n",
       "  ps_vaso diag_xc       age_at_intime  after_rowid  before_rowid  \\\n",
       "0   False    True 21643 days 16:50:19          NaN           NaN   \n",
       "1   False    True 25047 days 16:57:32     104888.0      104826.0   \n",
       "2   False    True 22331 days 14:54:57          NaN           NaN   \n",
       "3    True    True 27636 days 09:40:07          NaN           NaN   \n",
       "4   False    True 20237 days 15:44:23      97566.0           NaN   \n",
       "\n",
       "          op_to_icu         icu_to_op time_filter age_filter  \n",
       "0               NaT               NaT        True       True  \n",
       "1 105 days 23:52:00 295 days 23:49:00        True       True  \n",
       "2               NaT               NaT        True       True  \n",
       "3               NaT               NaT        True       True  \n",
       "4 910 days 21:03:00               NaT        True       True  "
      ]
     },
     "execution_count": 60,
     "metadata": {},
     "output_type": "execute_result"
    }
   ],
   "source": [
    "query = \\\n",
    "\"\"\"\n",
    "SELECT *\n",
    "FROM echo_filter_vars\n",
    "\"\"\"\n",
    "efv = pd.read_sql_query(query, con)\n",
    "efv.head()"
   ]
  },
  {
   "cell_type": "markdown",
   "metadata": {},
   "source": [
    "Before: "
   ]
  },
  {
   "cell_type": "code",
   "execution_count": 39,
   "metadata": {
    "collapsed": false
   },
   "outputs": [
    {
     "name": "stdout",
     "output_type": "stream",
     "text": [
      "Number of ICU echos: 3111\n",
      "Number of unique subject_ids: 1810\n"
     ]
    }
   ],
   "source": [
    "print('Number of ICU echos: {0}'.format(efv.loc[~efv['op_to_icu'].isnull()].shape[0]))\n",
    "print('Number of unique subject_ids: {0}'.format(efv.loc[~efv['op_to_icu'].isnull(), 'subject_id'].unique().shape[0]))"
   ]
  },
  {
   "cell_type": "code",
   "execution_count": 40,
   "metadata": {
    "collapsed": false
   },
   "outputs": [
    {
     "data": {
      "text/plain": [
       "<matplotlib.text.Text at 0x117f78048>"
      ]
     },
     "execution_count": 40,
     "metadata": {},
     "output_type": "execute_result"
    },
    {
     "data": {
      "image/png": "[encoded data removed]",
      "text/plain": [
       "<matplotlib.figure.Figure at 0x117f56ac8>"
      ]
     },
     "metadata": {},
     "output_type": "display_data"
    }
   ],
   "source": [
    "(efv['op_to_icu']/np.timedelta64('1', 'Y')).hist(bins = 20)\n",
    "plt.xlabel('Number of years')\n",
    "plt.ylabel('Number of ICU echos')"
   ]
  },
  {
   "cell_type": "markdown",
   "metadata": {},
   "source": [
    "After"
   ]
  },
  {
   "cell_type": "code",
   "execution_count": 42,
   "metadata": {
    "collapsed": false
   },
   "outputs": [
    {
     "name": "stdout",
     "output_type": "stream",
     "text": [
      "Number of ICU echos: 1756\n",
      "Number of unique subject_ids: 1020\n"
     ]
    }
   ],
   "source": [
    "print('Number of ICU echos: {0}'.format(efv.loc[~efv['icu_to_op'].isnull()].shape[0]))\n",
    "print('Number of unique subject_ids: {0}'.format(efv.loc[~efv['icu_to_op'].isnull(), 'subject_id'].unique().shape[0]))"
   ]
  },
  {
   "cell_type": "code",
   "execution_count": 43,
   "metadata": {
    "collapsed": false
   },
   "outputs": [
    {
     "data": {
      "text/plain": [
       "<matplotlib.text.Text at 0x11930a160>"
      ]
     },
     "execution_count": 43,
     "metadata": {},
     "output_type": "execute_result"
    },
    {
     "data": {
      "image/png": "[encoded data removed]",
      "text/plain": [
       "<matplotlib.figure.Figure at 0x11cde6da0>"
      ]
     },
     "metadata": {},
     "output_type": "display_data"
    }
   ],
   "source": [
    "(efv['icu_to_op']/np.timedelta64('1', 'Y')).hist(bins = 20)\n",
    "plt.xlabel('Number of years')\n",
    "plt.ylabel('Number of ICU echos')"
   ]
  },
  {
   "cell_type": "markdown",
   "metadata": {},
   "source": [
    "Before and after"
   ]
  },
  {
   "cell_type": "code",
   "execution_count": 50,
   "metadata": {
    "collapsed": false
   },
   "outputs": [
    {
     "name": "stdout",
     "output_type": "stream",
     "text": [
      "Number of ICU echos: 482\n",
      "Number of subject_ids: 254\n"
     ]
    }
   ],
   "source": [
    "print('Number of ICU echos: {0}'.format(efv.loc[~efv['icu_to_op'].isnull() & \n",
    "                                                ~efv['op_to_icu'].isnull()].shape[0]))\n",
    "print('Number of subject_ids: {0}'.format(efv.loc[~efv['icu_to_op'].isnull() & \n",
    "                                                ~efv['op_to_icu'].isnull(), \n",
    "                                                'subject_id'].unique().shape[0]))"
   ]
  },
  {
   "cell_type": "markdown",
   "metadata": {},
   "source": [
    "Of the echos which have echos before and after, how many filters are passed/failed? "
   ]
  },
  {
   "cell_type": "code",
   "execution_count": 63,
   "metadata": {
    "collapsed": false
   },
   "outputs": [
    {
     "data": {
      "text/plain": [
       "ps_vaso        237\n",
       "diag_xc        423\n",
       "time_filter    392\n",
       "age_filter     482\n",
       "dtype: int64"
      ]
     },
     "execution_count": 63,
     "metadata": {},
     "output_type": "execute_result"
    }
   ],
   "source": [
    "efv.loc[~efv['icu_to_op'].isnull() & ~efv['op_to_icu'].isnull(), \n",
    "        ['ps_vaso', 'diag_xc', 'time_filter', 'age_filter']].sum()"
   ]
  },
  {
   "cell_type": "code",
   "execution_count": null,
   "metadata": {
    "collapsed": true
   },
   "outputs": [],
   "source": []
  }
 ],
 "metadata": {
  "anaconda-cloud": {},
  "kernelspec": {
   "display_name": "Python [Root]",
   "language": "python",
   "name": "Python [Root]"
  },
  "language_info": {
   "codemirror_mode": {
    "name": "ipython",
    "version": 3
   },
   "file_extension": ".py",
   "mimetype": "text/x-python",
   "name": "python",
   "nbconvert_exporter": "python",
   "pygments_lexer": "ipython3",
   "version": "3.5.2"
  }
 },
 "nbformat": 4,
 "nbformat_minor": 0
}
