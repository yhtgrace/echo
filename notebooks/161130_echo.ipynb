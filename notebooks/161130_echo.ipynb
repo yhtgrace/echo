{
 "cells": [
  {
   "cell_type": "code",
   "execution_count": 1,
   "metadata": {
    "collapsed": true
   },
   "outputs": [],
   "source": [
    "import numpy as np\n",
    "import pandas as pd\n",
    "import psycopg2\n",
    "\n",
    "import matplotlib.pyplot as plt\n",
    "import seaborn as sns\n",
    "\n",
    "import matplotlib.style\n",
    "matplotlib.style.use('ggplot')\n",
    "%matplotlib inline"
   ]
  },
  {
   "cell_type": "code",
   "execution_count": 2,
   "metadata": {
    "collapsed": false
   },
   "outputs": [
    {
     "data": {
      "text/html": [
       "<div>\n",
       "<table border=\"1\" class=\"dataframe\">\n",
       "  <thead>\n",
       "    <tr style=\"text-align: right;\">\n",
       "      <th></th>\n",
       "      <th>subject_id</th>\n",
       "      <th>hadm_id</th>\n",
       "      <th>age</th>\n",
       "      <th>gender</th>\n",
       "      <th>new_time</th>\n",
       "      <th>icustay_id</th>\n",
       "      <th>first_careunit</th>\n",
       "      <th>intime</th>\n",
       "      <th>outtime</th>\n",
       "      <th>pulmhtn</th>\n",
       "      <th>...</th>\n",
       "      <th>tv_pulm_htn</th>\n",
       "      <th>tv_tr</th>\n",
       "      <th>lv_cavity</th>\n",
       "      <th>lv_diastolic</th>\n",
       "      <th>lv_systolic</th>\n",
       "      <th>lv_wall</th>\n",
       "      <th>rv_cavity</th>\n",
       "      <th>rv_diastolic_fluid</th>\n",
       "      <th>rv_systolic</th>\n",
       "      <th>rv_wall</th>\n",
       "    </tr>\n",
       "  </thead>\n",
       "  <tbody>\n",
       "    <tr>\n",
       "      <th>0</th>\n",
       "      <td>3</td>\n",
       "      <td>145834</td>\n",
       "      <td>76.0</td>\n",
       "      <td>M</td>\n",
       "      <td>2101-10-21 00:41:00</td>\n",
       "      <td>211552</td>\n",
       "      <td>MICU</td>\n",
       "      <td>2101-10-20 19:10:00</td>\n",
       "      <td>2101-10-26 20:43:00</td>\n",
       "      <td>0</td>\n",
       "      <td>...</td>\n",
       "      <td>NaN</td>\n",
       "      <td>NaN</td>\n",
       "      <td>NaN</td>\n",
       "      <td>NaN</td>\n",
       "      <td>NaN</td>\n",
       "      <td>NaN</td>\n",
       "      <td>NaN</td>\n",
       "      <td>NaN</td>\n",
       "      <td>NaN</td>\n",
       "      <td>NaN</td>\n",
       "    </tr>\n",
       "    <tr>\n",
       "      <th>1</th>\n",
       "      <td>3</td>\n",
       "      <td>145834</td>\n",
       "      <td>76.0</td>\n",
       "      <td>M</td>\n",
       "      <td>2101-10-21 10:30:00</td>\n",
       "      <td>211552</td>\n",
       "      <td>MICU</td>\n",
       "      <td>2101-10-20 19:10:00</td>\n",
       "      <td>2101-10-26 20:43:00</td>\n",
       "      <td>0</td>\n",
       "      <td>...</td>\n",
       "      <td>NaN</td>\n",
       "      <td>NaN</td>\n",
       "      <td>0.0</td>\n",
       "      <td>NaN</td>\n",
       "      <td>3.0</td>\n",
       "      <td>0.0</td>\n",
       "      <td>0.0</td>\n",
       "      <td>NaN</td>\n",
       "      <td>0.0</td>\n",
       "      <td>0.0</td>\n",
       "    </tr>\n",
       "    <tr>\n",
       "      <th>2</th>\n",
       "      <td>3</td>\n",
       "      <td>145834</td>\n",
       "      <td>76.0</td>\n",
       "      <td>M</td>\n",
       "      <td>2101-10-21 11:12:00</td>\n",
       "      <td>211552</td>\n",
       "      <td>MICU</td>\n",
       "      <td>2101-10-20 19:10:00</td>\n",
       "      <td>2101-10-26 20:43:00</td>\n",
       "      <td>0</td>\n",
       "      <td>...</td>\n",
       "      <td>NaN</td>\n",
       "      <td>NaN</td>\n",
       "      <td>0.0</td>\n",
       "      <td>NaN</td>\n",
       "      <td>3.0</td>\n",
       "      <td>0.0</td>\n",
       "      <td>0.0</td>\n",
       "      <td>NaN</td>\n",
       "      <td>NaN</td>\n",
       "      <td>0.0</td>\n",
       "    </tr>\n",
       "    <tr>\n",
       "      <th>3</th>\n",
       "      <td>4</td>\n",
       "      <td>185777</td>\n",
       "      <td>47.0</td>\n",
       "      <td>F</td>\n",
       "      <td>2191-03-21 13:10:00</td>\n",
       "      <td>294638</td>\n",
       "      <td>MICU</td>\n",
       "      <td>2191-03-16 00:29:00</td>\n",
       "      <td>2191-03-17 16:46:00</td>\n",
       "      <td>0</td>\n",
       "      <td>...</td>\n",
       "      <td>1.0</td>\n",
       "      <td>NaN</td>\n",
       "      <td>0.0</td>\n",
       "      <td>NaN</td>\n",
       "      <td>0.0</td>\n",
       "      <td>0.0</td>\n",
       "      <td>0.0</td>\n",
       "      <td>NaN</td>\n",
       "      <td>0.0</td>\n",
       "      <td>NaN</td>\n",
       "    </tr>\n",
       "    <tr>\n",
       "      <th>4</th>\n",
       "      <td>17</td>\n",
       "      <td>161087</td>\n",
       "      <td>47.0</td>\n",
       "      <td>F</td>\n",
       "      <td>2135-05-09 13:02:00</td>\n",
       "      <td>257980</td>\n",
       "      <td>CSRU</td>\n",
       "      <td>2135-05-09 14:12:00</td>\n",
       "      <td>2135-05-10 11:18:00</td>\n",
       "      <td>0</td>\n",
       "      <td>...</td>\n",
       "      <td>NaN</td>\n",
       "      <td>0.0</td>\n",
       "      <td>0.0</td>\n",
       "      <td>NaN</td>\n",
       "      <td>1.0</td>\n",
       "      <td>0.0</td>\n",
       "      <td>0.0</td>\n",
       "      <td>NaN</td>\n",
       "      <td>2.0</td>\n",
       "      <td>NaN</td>\n",
       "    </tr>\n",
       "  </tbody>\n",
       "</table>\n",
       "<p>5 rows × 27 columns</p>\n",
       "</div>"
      ],
      "text/plain": [
       "   subject_id  hadm_id   age gender             new_time  icustay_id  \\\n",
       "0           3   145834  76.0      M  2101-10-21 00:41:00      211552   \n",
       "1           3   145834  76.0      M  2101-10-21 10:30:00      211552   \n",
       "2           3   145834  76.0      M  2101-10-21 11:12:00      211552   \n",
       "3           4   185777  47.0      F  2191-03-21 13:10:00      294638   \n",
       "4          17   161087  47.0      F  2135-05-09 13:02:00      257980   \n",
       "\n",
       "  first_careunit               intime              outtime  pulmhtn   ...     \\\n",
       "0           MICU  2101-10-20 19:10:00  2101-10-26 20:43:00        0   ...      \n",
       "1           MICU  2101-10-20 19:10:00  2101-10-26 20:43:00        0   ...      \n",
       "2           MICU  2101-10-20 19:10:00  2101-10-26 20:43:00        0   ...      \n",
       "3           MICU  2191-03-16 00:29:00  2191-03-17 16:46:00        0   ...      \n",
       "4           CSRU  2135-05-09 14:12:00  2135-05-10 11:18:00        0   ...      \n",
       "\n",
       "   tv_pulm_htn  tv_tr  lv_cavity  lv_diastolic  lv_systolic  lv_wall  \\\n",
       "0          NaN    NaN        NaN           NaN          NaN      NaN   \n",
       "1          NaN    NaN        0.0           NaN          3.0      0.0   \n",
       "2          NaN    NaN        0.0           NaN          3.0      0.0   \n",
       "3          1.0    NaN        0.0           NaN          0.0      0.0   \n",
       "4          NaN    0.0        0.0           NaN          1.0      0.0   \n",
       "\n",
       "  rv_cavity  rv_diastolic_fluid  rv_systolic  rv_wall  \n",
       "0       NaN                 NaN          NaN      NaN  \n",
       "1       0.0                 NaN          0.0      0.0  \n",
       "2       0.0                 NaN          NaN      0.0  \n",
       "3       0.0                 NaN          0.0      NaN  \n",
       "4       0.0                 NaN          2.0      NaN  \n",
       "\n",
       "[5 rows x 27 columns]"
      ]
     },
     "execution_count": 2,
     "metadata": {},
     "output_type": "execute_result"
    }
   ],
   "source": [
    "echo_ann = pd.read_csv(\"/Users/yhtgrace/Documents/projects/echo/teemo/resources/echo_ann_unique.csv\")\n",
    "echo_ann.head()"
   ]
  },
  {
   "cell_type": "code",
   "execution_count": 10,
   "metadata": {
    "collapsed": false
   },
   "outputs": [
    {
     "data": {
      "text/plain": [
       "Index(['subject_id', 'hadm_id', 'age', 'gender', 'new_time', 'icustay_id',\n",
       "       'first_careunit', 'intime', 'outtime', 'pulmhtn', 'dm', 'esrd',\n",
       "       'isdead', 'age_of_death', 'days_after_icu_admit_death',\n",
       "       'days_after_discharge_death', 'status', 'tv_pulm_htn', 'tv_tr',\n",
       "       'lv_cavity', 'lv_diastolic', 'lv_systolic', 'lv_wall', 'rv_cavity',\n",
       "       'rv_diastolic_fluid', 'rv_systolic', 'rv_wall'],\n",
       "      dtype='object')"
      ]
     },
     "execution_count": 10,
     "metadata": {},
     "output_type": "execute_result"
    }
   ],
   "source": [
    "echo_ann.columns"
   ]
  },
  {
   "cell_type": "code",
   "execution_count": 22,
   "metadata": {
    "collapsed": false
   },
   "outputs": [
    {
     "data": {
      "text/plain": [
       "-50.0        8\n",
       " 0.0      4917\n",
       " 1.0      4379\n",
       " 2.0      4408\n",
       " 3.0       657\n",
       "NaN      18313\n",
       "Name: tv_pulm_htn, dtype: int64"
      ]
     },
     "execution_count": 22,
     "metadata": {},
     "output_type": "execute_result"
    }
   ],
   "source": [
    "echo_ann['tv_pulm_htn'].value_counts(dropna = False).sort_index()"
   ]
  },
  {
   "cell_type": "code",
   "execution_count": 23,
   "metadata": {
    "collapsed": false
   },
   "outputs": [
    {
     "data": {
      "text/plain": [
       "-50.0      248\n",
       " 0.0     11930\n",
       " 1.0      7080\n",
       " 2.0      4939\n",
       " 3.0      1497\n",
       "NaN       6988\n",
       "Name: tv_tr, dtype: int64"
      ]
     },
     "execution_count": 23,
     "metadata": {},
     "output_type": "execute_result"
    }
   ],
   "source": [
    "echo_ann['tv_tr'].value_counts(dropna = False).sort_index()"
   ]
  },
  {
   "cell_type": "code",
   "execution_count": 12,
   "metadata": {
    "collapsed": false
   },
   "outputs": [
    {
     "data": {
      "text/plain": [
       "-50.0      189\n",
       "-1.0      1570\n",
       " 0.0     16974\n",
       " 1.0      2921\n",
       " 2.0      1867\n",
       " 3.0      2975\n",
       "NaN       6186\n",
       "Name: lv_systolic, dtype: int64"
      ]
     },
     "execution_count": 12,
     "metadata": {},
     "output_type": "execute_result"
    }
   ],
   "source": [
    "echo_ann['lv_systolic'].value_counts(dropna = False).sort_index()"
   ]
  },
  {
   "cell_type": "code",
   "execution_count": 13,
   "metadata": {
    "collapsed": false
   },
   "outputs": [
    {
     "data": {
      "text/plain": [
       "-50.0       23\n",
       " 0.0      1122\n",
       " 1.0      1672\n",
       "NaN      29865\n",
       "Name: lv_diastolic, dtype: int64"
      ]
     },
     "execution_count": 13,
     "metadata": {},
     "output_type": "execute_result"
    }
   ],
   "source": [
    "echo_ann['lv_diastolic'].value_counts(dropna = False).sort_index()"
   ]
  },
  {
   "cell_type": "code",
   "execution_count": 14,
   "metadata": {
    "collapsed": false
   },
   "outputs": [
    {
     "data": {
      "text/plain": [
       "-50.0       29\n",
       "-1.0       839\n",
       " 0.0     22457\n",
       " 1.0      1222\n",
       " 2.0      1362\n",
       " 3.0       358\n",
       "NaN       6415\n",
       "Name: lv_cavity, dtype: int64"
      ]
     },
     "execution_count": 14,
     "metadata": {},
     "output_type": "execute_result"
    }
   ],
   "source": [
    "echo_ann['lv_cavity'].value_counts(dropna = False).sort_index()"
   ]
  },
  {
   "cell_type": "code",
   "execution_count": 15,
   "metadata": {
    "collapsed": false
   },
   "outputs": [
    {
     "data": {
      "text/plain": [
       "-50.0       65\n",
       " 0.0     14181\n",
       " 1.0      8623\n",
       " 2.0      1298\n",
       " 3.0       304\n",
       "NaN       8211\n",
       "Name: lv_wall, dtype: int64"
      ]
     },
     "execution_count": 15,
     "metadata": {},
     "output_type": "execute_result"
    }
   ],
   "source": [
    "echo_ann['lv_wall'].value_counts(dropna = False).sort_index()"
   ]
  },
  {
   "cell_type": "code",
   "execution_count": 17,
   "metadata": {
    "collapsed": false
   },
   "outputs": [
    {
     "data": {
      "text/plain": [
       "-50.0       60\n",
       " 0.0     21995\n",
       " 1.0      3476\n",
       " 2.0      1022\n",
       " 3.0       820\n",
       "NaN       5309\n",
       "Name: rv_systolic, dtype: int64"
      ]
     },
     "execution_count": 17,
     "metadata": {},
     "output_type": "execute_result"
    }
   ],
   "source": [
    "echo_ann['rv_systolic'].value_counts(dropna = False).sort_index()"
   ]
  },
  {
   "cell_type": "code",
   "execution_count": 19,
   "metadata": {
    "collapsed": false
   },
   "outputs": [
    {
     "data": {
      "text/plain": [
       " 1.0     1048\n",
       "NaN     31634\n",
       "Name: rv_diastolic_fluid, dtype: int64"
      ]
     },
     "execution_count": 19,
     "metadata": {},
     "output_type": "execute_result"
    }
   ],
   "source": [
    "echo_ann['rv_diastolic_fluid'].value_counts(dropna = False).sort_index()"
   ]
  },
  {
   "cell_type": "code",
   "execution_count": 20,
   "metadata": {
    "collapsed": false
   },
   "outputs": [
    {
     "data": {
      "text/plain": [
       "-50.0       69\n",
       "-1.0       161\n",
       " 0.0     21684\n",
       " 1.0      3875\n",
       " 2.0      1402\n",
       "NaN       5491\n",
       "Name: rv_cavity, dtype: int64"
      ]
     },
     "execution_count": 20,
     "metadata": {},
     "output_type": "execute_result"
    }
   ],
   "source": [
    "echo_ann['rv_cavity'].value_counts(dropna = False).sort_index()"
   ]
  },
  {
   "cell_type": "code",
   "execution_count": 21,
   "metadata": {
    "collapsed": false
   },
   "outputs": [
    {
     "data": {
      "text/plain": [
       " 0.0     1707\n",
       " 1.0      711\n",
       "NaN     30264\n",
       "Name: rv_wall, dtype: int64"
      ]
     },
     "execution_count": 21,
     "metadata": {},
     "output_type": "execute_result"
    }
   ],
   "source": [
    "echo_ann['rv_wall'].value_counts(dropna = False).sort_index()"
   ]
  },
  {
   "cell_type": "code",
   "execution_count": null,
   "metadata": {
    "collapsed": true
   },
   "outputs": [],
   "source": []
  }
 ],
 "metadata": {
  "anaconda-cloud": {},
  "kernelspec": {
   "display_name": "Python [default]",
   "language": "python",
   "name": "python3"
  },
  "language_info": {
   "codemirror_mode": {
    "name": "ipython",
    "version": 3
   },
   "file_extension": ".py",
   "mimetype": "text/x-python",
   "name": "python",
   "nbconvert_exporter": "python",
   "pygments_lexer": "ipython3",
   "version": "3.5.2"
  }
 },
 "nbformat": 4,
 "nbformat_minor": 1
}
