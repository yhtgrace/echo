{
 "cells": [
  {
   "cell_type": "code",
   "execution_count": 1,
   "metadata": {
    "collapsed": true
   },
   "outputs": [],
   "source": [
    "import numpy as np\n",
    "import pandas as pd\n",
    "\n",
    "import matplotlib.pyplot as plt\n",
    "import seaborn as sns\n",
    "\n",
    "import matplotlib.style\n",
    "matplotlib.style.use('ggplot')\n",
    "%matplotlib inline"
   ]
  },
  {
   "cell_type": "code",
   "execution_count": 2,
   "metadata": {
    "collapsed": true
   },
   "outputs": [],
   "source": [
    "ec = pd.read_csv('../resources/echo_ann_unique.csv')"
   ]
  },
  {
   "cell_type": "code",
   "execution_count": 3,
   "metadata": {
    "collapsed": false
   },
   "outputs": [
    {
     "data": {
      "text/html": [
       "<div>\n",
       "<table border=\"1\" class=\"dataframe\">\n",
       "  <thead>\n",
       "    <tr style=\"text-align: right;\">\n",
       "      <th></th>\n",
       "      <th>subject_id</th>\n",
       "      <th>hadm_id</th>\n",
       "      <th>age</th>\n",
       "      <th>gender</th>\n",
       "      <th>new_time</th>\n",
       "      <th>icustay_id</th>\n",
       "      <th>first_careunit</th>\n",
       "      <th>intime</th>\n",
       "      <th>outtime</th>\n",
       "      <th>pulmhtn</th>\n",
       "      <th>...</th>\n",
       "      <th>tv_pulm_htn</th>\n",
       "      <th>tv_tr</th>\n",
       "      <th>lv_cavity</th>\n",
       "      <th>lv_diastolic</th>\n",
       "      <th>lv_systolic</th>\n",
       "      <th>lv_wall</th>\n",
       "      <th>rv_cavity</th>\n",
       "      <th>rv_diastolic_fluid</th>\n",
       "      <th>rv_systolic</th>\n",
       "      <th>rv_wall</th>\n",
       "    </tr>\n",
       "  </thead>\n",
       "  <tbody>\n",
       "    <tr>\n",
       "      <th>0</th>\n",
       "      <td>3</td>\n",
       "      <td>145834</td>\n",
       "      <td>76.0</td>\n",
       "      <td>M</td>\n",
       "      <td>2101-10-21 00:41:00</td>\n",
       "      <td>211552</td>\n",
       "      <td>MICU</td>\n",
       "      <td>2101-10-20 19:10:00</td>\n",
       "      <td>2101-10-26 20:43:00</td>\n",
       "      <td>0</td>\n",
       "      <td>...</td>\n",
       "      <td>NaN</td>\n",
       "      <td>NaN</td>\n",
       "      <td>NaN</td>\n",
       "      <td>NaN</td>\n",
       "      <td>NaN</td>\n",
       "      <td>NaN</td>\n",
       "      <td>NaN</td>\n",
       "      <td>NaN</td>\n",
       "      <td>NaN</td>\n",
       "      <td>NaN</td>\n",
       "    </tr>\n",
       "    <tr>\n",
       "      <th>1</th>\n",
       "      <td>3</td>\n",
       "      <td>145834</td>\n",
       "      <td>76.0</td>\n",
       "      <td>M</td>\n",
       "      <td>2101-10-21 10:30:00</td>\n",
       "      <td>211552</td>\n",
       "      <td>MICU</td>\n",
       "      <td>2101-10-20 19:10:00</td>\n",
       "      <td>2101-10-26 20:43:00</td>\n",
       "      <td>0</td>\n",
       "      <td>...</td>\n",
       "      <td>NaN</td>\n",
       "      <td>NaN</td>\n",
       "      <td>0.0</td>\n",
       "      <td>NaN</td>\n",
       "      <td>3.0</td>\n",
       "      <td>0.0</td>\n",
       "      <td>0.0</td>\n",
       "      <td>NaN</td>\n",
       "      <td>0.0</td>\n",
       "      <td>0.0</td>\n",
       "    </tr>\n",
       "    <tr>\n",
       "      <th>2</th>\n",
       "      <td>3</td>\n",
       "      <td>145834</td>\n",
       "      <td>76.0</td>\n",
       "      <td>M</td>\n",
       "      <td>2101-10-21 11:12:00</td>\n",
       "      <td>211552</td>\n",
       "      <td>MICU</td>\n",
       "      <td>2101-10-20 19:10:00</td>\n",
       "      <td>2101-10-26 20:43:00</td>\n",
       "      <td>0</td>\n",
       "      <td>...</td>\n",
       "      <td>NaN</td>\n",
       "      <td>NaN</td>\n",
       "      <td>0.0</td>\n",
       "      <td>NaN</td>\n",
       "      <td>3.0</td>\n",
       "      <td>0.0</td>\n",
       "      <td>0.0</td>\n",
       "      <td>NaN</td>\n",
       "      <td>NaN</td>\n",
       "      <td>0.0</td>\n",
       "    </tr>\n",
       "    <tr>\n",
       "      <th>3</th>\n",
       "      <td>4</td>\n",
       "      <td>185777</td>\n",
       "      <td>47.0</td>\n",
       "      <td>F</td>\n",
       "      <td>2191-03-21 13:10:00</td>\n",
       "      <td>294638</td>\n",
       "      <td>MICU</td>\n",
       "      <td>2191-03-16 00:29:00</td>\n",
       "      <td>2191-03-17 16:46:00</td>\n",
       "      <td>0</td>\n",
       "      <td>...</td>\n",
       "      <td>1.0</td>\n",
       "      <td>NaN</td>\n",
       "      <td>0.0</td>\n",
       "      <td>NaN</td>\n",
       "      <td>0.0</td>\n",
       "      <td>0.0</td>\n",
       "      <td>0.0</td>\n",
       "      <td>NaN</td>\n",
       "      <td>0.0</td>\n",
       "      <td>NaN</td>\n",
       "    </tr>\n",
       "    <tr>\n",
       "      <th>4</th>\n",
       "      <td>17</td>\n",
       "      <td>161087</td>\n",
       "      <td>47.0</td>\n",
       "      <td>F</td>\n",
       "      <td>2135-05-09 13:02:00</td>\n",
       "      <td>257980</td>\n",
       "      <td>CSRU</td>\n",
       "      <td>2135-05-09 14:12:00</td>\n",
       "      <td>2135-05-10 11:18:00</td>\n",
       "      <td>0</td>\n",
       "      <td>...</td>\n",
       "      <td>NaN</td>\n",
       "      <td>0.0</td>\n",
       "      <td>0.0</td>\n",
       "      <td>NaN</td>\n",
       "      <td>1.0</td>\n",
       "      <td>0.0</td>\n",
       "      <td>0.0</td>\n",
       "      <td>NaN</td>\n",
       "      <td>2.0</td>\n",
       "      <td>NaN</td>\n",
       "    </tr>\n",
       "  </tbody>\n",
       "</table>\n",
       "<p>5 rows × 27 columns</p>\n",
       "</div>"
      ],
      "text/plain": [
       "   subject_id  hadm_id   age gender             new_time  icustay_id  \\\n",
       "0           3   145834  76.0      M  2101-10-21 00:41:00      211552   \n",
       "1           3   145834  76.0      M  2101-10-21 10:30:00      211552   \n",
       "2           3   145834  76.0      M  2101-10-21 11:12:00      211552   \n",
       "3           4   185777  47.0      F  2191-03-21 13:10:00      294638   \n",
       "4          17   161087  47.0      F  2135-05-09 13:02:00      257980   \n",
       "\n",
       "  first_careunit               intime              outtime  pulmhtn   ...     \\\n",
       "0           MICU  2101-10-20 19:10:00  2101-10-26 20:43:00        0   ...      \n",
       "1           MICU  2101-10-20 19:10:00  2101-10-26 20:43:00        0   ...      \n",
       "2           MICU  2101-10-20 19:10:00  2101-10-26 20:43:00        0   ...      \n",
       "3           MICU  2191-03-16 00:29:00  2191-03-17 16:46:00        0   ...      \n",
       "4           CSRU  2135-05-09 14:12:00  2135-05-10 11:18:00        0   ...      \n",
       "\n",
       "   tv_pulm_htn  tv_tr  lv_cavity  lv_diastolic  lv_systolic  lv_wall  \\\n",
       "0          NaN    NaN        NaN           NaN          NaN      NaN   \n",
       "1          NaN    NaN        0.0           NaN          3.0      0.0   \n",
       "2          NaN    NaN        0.0           NaN          3.0      0.0   \n",
       "3          1.0    NaN        0.0           NaN          0.0      0.0   \n",
       "4          NaN    0.0        0.0           NaN          1.0      0.0   \n",
       "\n",
       "  rv_cavity  rv_diastolic_fluid  rv_systolic  rv_wall  \n",
       "0       NaN                 NaN          NaN      NaN  \n",
       "1       0.0                 NaN          0.0      0.0  \n",
       "2       0.0                 NaN          NaN      0.0  \n",
       "3       0.0                 NaN          0.0      NaN  \n",
       "4       0.0                 NaN          2.0      NaN  \n",
       "\n",
       "[5 rows x 27 columns]"
      ]
     },
     "execution_count": 3,
     "metadata": {},
     "output_type": "execute_result"
    }
   ],
   "source": [
    "ec.head()"
   ]
  },
  {
   "cell_type": "code",
   "execution_count": 4,
   "metadata": {
    "collapsed": false
   },
   "outputs": [
    {
     "data": {
      "text/plain": [
       "Index([u'subject_id', u'hadm_id', u'age', u'gender', u'new_time',\n",
       "       u'icustay_id', u'first_careunit', u'intime', u'outtime', u'pulmhtn',\n",
       "       u'dm', u'esrd', u'isdead', u'age_of_death',\n",
       "       u'days_after_icu_admit_death', u'days_after_discharge_death', u'status',\n",
       "       u'tv_pulm_htn', u'tv_tr', u'lv_cavity', u'lv_diastolic', u'lv_systolic',\n",
       "       u'lv_wall', u'rv_cavity', u'rv_diastolic_fluid', u'rv_systolic',\n",
       "       u'rv_wall'],\n",
       "      dtype='object')"
      ]
     },
     "execution_count": 4,
     "metadata": {},
     "output_type": "execute_result"
    }
   ],
   "source": [
    "ec.columns"
   ]
  },
  {
   "cell_type": "code",
   "execution_count": 5,
   "metadata": {
    "collapsed": false
   },
   "outputs": [
    {
     "data": {
      "text/plain": [
       "32682"
      ]
     },
     "execution_count": 5,
     "metadata": {},
     "output_type": "execute_result"
    }
   ],
   "source": [
    "len(ec)"
   ]
  },
  {
   "cell_type": "code",
   "execution_count": 6,
   "metadata": {
    "collapsed": false
   },
   "outputs": [
    {
     "data": {
      "text/plain": [
       "2817"
      ]
     },
     "execution_count": 6,
     "metadata": {},
     "output_type": "execute_result"
    }
   ],
   "source": [
    "## number of echos with a lv diastolic label\n",
    "len(ec) - np.isnan(ec.lv_diastolic.values).sum()"
   ]
  },
  {
   "cell_type": "code",
   "execution_count": 7,
   "metadata": {
    "collapsed": false
   },
   "outputs": [
    {
     "data": {
      "text/plain": [
       "77.0"
      ]
     },
     "execution_count": 7,
     "metadata": {},
     "output_type": "execute_result"
    }
   ],
   "source": [
    "ec.age_of_death[0]"
   ]
  },
  {
   "cell_type": "code",
   "execution_count": 8,
   "metadata": {
    "collapsed": false
   },
   "outputs": [
    {
     "data": {
      "text/plain": [
       "<matplotlib.axes._subplots.AxesSubplot at 0x7f5d7c2e1290>"
      ]
     },
     "execution_count": 8,
     "metadata": {},
     "output_type": "execute_result"
    },
    {
     "data": {
      "image/png": "[encoded data removed]",
      "text/plain": [
       "<matplotlib.figure.Figure at 0x7f5d5148cdd0>"
      ]
     },
     "metadata": {},
     "output_type": "display_data"
    }
   ],
   "source": [
    "ec.age_of_death.hist()"
   ]
  },
  {
   "cell_type": "code",
   "execution_count": 9,
   "metadata": {
    "collapsed": true
   },
   "outputs": [],
   "source": [
    "dead_30_days = ec.days_after_discharge_death <= 30"
   ]
  },
  {
   "cell_type": "code",
   "execution_count": 10,
   "metadata": {
    "collapsed": false
   },
   "outputs": [
    {
     "data": {
      "text/plain": [
       "5536"
      ]
     },
     "execution_count": 10,
     "metadata": {},
     "output_type": "execute_result"
    }
   ],
   "source": [
    "dead_30_days.sum()"
   ]
  },
  {
   "cell_type": "code",
   "execution_count": 11,
   "metadata": {
    "collapsed": false
   },
   "outputs": [
    {
     "data": {
      "text/plain": [
       "['subject_id',\n",
       " 'hadm_id',\n",
       " 'age',\n",
       " 'gender',\n",
       " 'new_time',\n",
       " 'icustay_id',\n",
       " 'first_careunit',\n",
       " 'intime',\n",
       " 'outtime',\n",
       " 'pulmhtn',\n",
       " 'dm',\n",
       " 'esrd',\n",
       " 'isdead',\n",
       " 'age_of_death',\n",
       " 'days_after_icu_admit_death',\n",
       " 'days_after_discharge_death',\n",
       " 'status',\n",
       " 'tv_pulm_htn',\n",
       " 'tv_tr',\n",
       " 'lv_cavity',\n",
       " 'lv_diastolic',\n",
       " 'lv_systolic',\n",
       " 'lv_wall',\n",
       " 'rv_cavity',\n",
       " 'rv_diastolic_fluid',\n",
       " 'rv_systolic',\n",
       " 'rv_wall']"
      ]
     },
     "execution_count": 11,
     "metadata": {},
     "output_type": "execute_result"
    }
   ],
   "source": [
    "labels = ec.columns.tolist()\n",
    "labels"
   ]
  },
  {
   "cell_type": "code",
   "execution_count": 12,
   "metadata": {
    "collapsed": true
   },
   "outputs": [],
   "source": [
    "features = [x for x in labels]\n",
    "features.remove('subject_id')\n",
    "features.remove('hadm_id')\n",
    "features.remove('new_time')\n",
    "features.remove('icustay_id')\n",
    "features.remove('first_careunit')\n",
    "features.remove('intime')\n",
    "features.remove('outtime')\n",
    "features.remove('isdead')\n",
    "features.remove('age_of_death')\n",
    "features.remove('days_after_icu_admit_death')\n",
    "features.remove('days_after_discharge_death')\n",
    "features.remove('status')"
   ]
  },
  {
   "cell_type": "code",
   "execution_count": 13,
   "metadata": {
    "collapsed": false
   },
   "outputs": [
    {
     "name": "stderr",
     "output_type": "stream",
     "text": [
      "/home/tbepler/miniconda2/envs/mimiciii/lib/python2.7/site-packages/ipykernel/__main__.py:2: SettingWithCopyWarning: \n",
      "A value is trying to be set on a copy of a slice from a DataFrame.\n",
      "Try using .loc[row_indexer,col_indexer] = value instead\n",
      "\n",
      "See the caveats in the documentation: http://pandas.pydata.org/pandas-docs/stable/indexing.html#indexing-view-versus-copy\n",
      "  from ipykernel import kernelapp as app\n"
     ]
    }
   ],
   "source": [
    "features_df = ec[features]\n",
    "features_df['gender'] = (features_df.gender == 'M').astype(int)"
   ]
  },
  {
   "cell_type": "code",
   "execution_count": 14,
   "metadata": {
    "collapsed": false
   },
   "outputs": [
    {
     "data": {
      "text/html": [
       "<div>\n",
       "<table border=\"1\" class=\"dataframe\">\n",
       "  <thead>\n",
       "    <tr style=\"text-align: right;\">\n",
       "      <th></th>\n",
       "      <th>age</th>\n",
       "      <th>gender</th>\n",
       "      <th>pulmhtn</th>\n",
       "      <th>dm</th>\n",
       "      <th>esrd</th>\n",
       "      <th>tv_pulm_htn</th>\n",
       "      <th>tv_tr</th>\n",
       "      <th>lv_cavity</th>\n",
       "      <th>lv_diastolic</th>\n",
       "      <th>lv_systolic</th>\n",
       "      <th>lv_wall</th>\n",
       "      <th>rv_cavity</th>\n",
       "      <th>rv_diastolic_fluid</th>\n",
       "      <th>rv_systolic</th>\n",
       "      <th>rv_wall</th>\n",
       "    </tr>\n",
       "  </thead>\n",
       "  <tbody>\n",
       "    <tr>\n",
       "      <th>0</th>\n",
       "      <td>76.0</td>\n",
       "      <td>1</td>\n",
       "      <td>0</td>\n",
       "      <td>0</td>\n",
       "      <td>0</td>\n",
       "      <td>NaN</td>\n",
       "      <td>NaN</td>\n",
       "      <td>NaN</td>\n",
       "      <td>NaN</td>\n",
       "      <td>NaN</td>\n",
       "      <td>NaN</td>\n",
       "      <td>NaN</td>\n",
       "      <td>NaN</td>\n",
       "      <td>NaN</td>\n",
       "      <td>NaN</td>\n",
       "    </tr>\n",
       "    <tr>\n",
       "      <th>1</th>\n",
       "      <td>76.0</td>\n",
       "      <td>1</td>\n",
       "      <td>0</td>\n",
       "      <td>0</td>\n",
       "      <td>0</td>\n",
       "      <td>NaN</td>\n",
       "      <td>NaN</td>\n",
       "      <td>0.0</td>\n",
       "      <td>NaN</td>\n",
       "      <td>3.0</td>\n",
       "      <td>0.0</td>\n",
       "      <td>0.0</td>\n",
       "      <td>NaN</td>\n",
       "      <td>0.0</td>\n",
       "      <td>0.0</td>\n",
       "    </tr>\n",
       "    <tr>\n",
       "      <th>2</th>\n",
       "      <td>76.0</td>\n",
       "      <td>1</td>\n",
       "      <td>0</td>\n",
       "      <td>0</td>\n",
       "      <td>0</td>\n",
       "      <td>NaN</td>\n",
       "      <td>NaN</td>\n",
       "      <td>0.0</td>\n",
       "      <td>NaN</td>\n",
       "      <td>3.0</td>\n",
       "      <td>0.0</td>\n",
       "      <td>0.0</td>\n",
       "      <td>NaN</td>\n",
       "      <td>NaN</td>\n",
       "      <td>0.0</td>\n",
       "    </tr>\n",
       "    <tr>\n",
       "      <th>3</th>\n",
       "      <td>47.0</td>\n",
       "      <td>0</td>\n",
       "      <td>0</td>\n",
       "      <td>0</td>\n",
       "      <td>0</td>\n",
       "      <td>1.0</td>\n",
       "      <td>NaN</td>\n",
       "      <td>0.0</td>\n",
       "      <td>NaN</td>\n",
       "      <td>0.0</td>\n",
       "      <td>0.0</td>\n",
       "      <td>0.0</td>\n",
       "      <td>NaN</td>\n",
       "      <td>0.0</td>\n",
       "      <td>NaN</td>\n",
       "    </tr>\n",
       "    <tr>\n",
       "      <th>4</th>\n",
       "      <td>47.0</td>\n",
       "      <td>0</td>\n",
       "      <td>0</td>\n",
       "      <td>0</td>\n",
       "      <td>0</td>\n",
       "      <td>NaN</td>\n",
       "      <td>0.0</td>\n",
       "      <td>0.0</td>\n",
       "      <td>NaN</td>\n",
       "      <td>1.0</td>\n",
       "      <td>0.0</td>\n",
       "      <td>0.0</td>\n",
       "      <td>NaN</td>\n",
       "      <td>2.0</td>\n",
       "      <td>NaN</td>\n",
       "    </tr>\n",
       "  </tbody>\n",
       "</table>\n",
       "</div>"
      ],
      "text/plain": [
       "    age  gender  pulmhtn  dm  esrd  tv_pulm_htn  tv_tr  lv_cavity  \\\n",
       "0  76.0       1        0   0     0          NaN    NaN        NaN   \n",
       "1  76.0       1        0   0     0          NaN    NaN        0.0   \n",
       "2  76.0       1        0   0     0          NaN    NaN        0.0   \n",
       "3  47.0       0        0   0     0          1.0    NaN        0.0   \n",
       "4  47.0       0        0   0     0          NaN    0.0        0.0   \n",
       "\n",
       "   lv_diastolic  lv_systolic  lv_wall  rv_cavity  rv_diastolic_fluid  \\\n",
       "0           NaN          NaN      NaN        NaN                 NaN   \n",
       "1           NaN          3.0      0.0        0.0                 NaN   \n",
       "2           NaN          3.0      0.0        0.0                 NaN   \n",
       "3           NaN          0.0      0.0        0.0                 NaN   \n",
       "4           NaN          1.0      0.0        0.0                 NaN   \n",
       "\n",
       "   rv_systolic  rv_wall  \n",
       "0          NaN      NaN  \n",
       "1          0.0      0.0  \n",
       "2          NaN      0.0  \n",
       "3          0.0      NaN  \n",
       "4          2.0      NaN  "
      ]
     },
     "execution_count": 14,
     "metadata": {},
     "output_type": "execute_result"
    }
   ],
   "source": [
    "features_df.head()"
   ]
  },
  {
   "cell_type": "code",
   "execution_count": 15,
   "metadata": {
    "collapsed": false
   },
   "outputs": [
    {
     "name": "stderr",
     "output_type": "stream",
     "text": [
      "/home/tbepler/miniconda2/envs/mimiciii/lib/python2.7/site-packages/pandas/core/frame.py:2762: SettingWithCopyWarning: \n",
      "A value is trying to be set on a copy of a slice from a DataFrame\n",
      "\n",
      "See the caveats in the documentation: http://pandas.pydata.org/pandas-docs/stable/indexing.html#indexing-view-versus-copy\n",
      "  downcast=downcast, **kwargs)\n"
     ]
    },
    {
     "data": {
      "text/html": [
       "<div>\n",
       "<table border=\"1\" class=\"dataframe\">\n",
       "  <thead>\n",
       "    <tr style=\"text-align: right;\">\n",
       "      <th></th>\n",
       "      <th>age</th>\n",
       "      <th>gender</th>\n",
       "      <th>pulmhtn</th>\n",
       "      <th>dm</th>\n",
       "      <th>esrd</th>\n",
       "      <th>tv_pulm_htn</th>\n",
       "      <th>tv_tr</th>\n",
       "      <th>lv_cavity</th>\n",
       "      <th>lv_diastolic</th>\n",
       "      <th>lv_systolic</th>\n",
       "      <th>lv_wall</th>\n",
       "      <th>rv_cavity</th>\n",
       "      <th>rv_diastolic_fluid</th>\n",
       "      <th>rv_systolic</th>\n",
       "      <th>rv_wall</th>\n",
       "    </tr>\n",
       "  </thead>\n",
       "  <tbody>\n",
       "    <tr>\n",
       "      <th>0</th>\n",
       "      <td>76.0</td>\n",
       "      <td>1</td>\n",
       "      <td>0</td>\n",
       "      <td>0</td>\n",
       "      <td>0</td>\n",
       "      <td>-2.0</td>\n",
       "      <td>-2.0</td>\n",
       "      <td>-2.0</td>\n",
       "      <td>-2.0</td>\n",
       "      <td>-2.0</td>\n",
       "      <td>-2.0</td>\n",
       "      <td>-2.0</td>\n",
       "      <td>-2.0</td>\n",
       "      <td>-2.0</td>\n",
       "      <td>-2.0</td>\n",
       "    </tr>\n",
       "    <tr>\n",
       "      <th>1</th>\n",
       "      <td>76.0</td>\n",
       "      <td>1</td>\n",
       "      <td>0</td>\n",
       "      <td>0</td>\n",
       "      <td>0</td>\n",
       "      <td>-2.0</td>\n",
       "      <td>-2.0</td>\n",
       "      <td>0.0</td>\n",
       "      <td>-2.0</td>\n",
       "      <td>3.0</td>\n",
       "      <td>0.0</td>\n",
       "      <td>0.0</td>\n",
       "      <td>-2.0</td>\n",
       "      <td>0.0</td>\n",
       "      <td>0.0</td>\n",
       "    </tr>\n",
       "    <tr>\n",
       "      <th>2</th>\n",
       "      <td>76.0</td>\n",
       "      <td>1</td>\n",
       "      <td>0</td>\n",
       "      <td>0</td>\n",
       "      <td>0</td>\n",
       "      <td>-2.0</td>\n",
       "      <td>-2.0</td>\n",
       "      <td>0.0</td>\n",
       "      <td>-2.0</td>\n",
       "      <td>3.0</td>\n",
       "      <td>0.0</td>\n",
       "      <td>0.0</td>\n",
       "      <td>-2.0</td>\n",
       "      <td>-2.0</td>\n",
       "      <td>0.0</td>\n",
       "    </tr>\n",
       "    <tr>\n",
       "      <th>3</th>\n",
       "      <td>47.0</td>\n",
       "      <td>0</td>\n",
       "      <td>0</td>\n",
       "      <td>0</td>\n",
       "      <td>0</td>\n",
       "      <td>1.0</td>\n",
       "      <td>-2.0</td>\n",
       "      <td>0.0</td>\n",
       "      <td>-2.0</td>\n",
       "      <td>0.0</td>\n",
       "      <td>0.0</td>\n",
       "      <td>0.0</td>\n",
       "      <td>-2.0</td>\n",
       "      <td>0.0</td>\n",
       "      <td>-2.0</td>\n",
       "    </tr>\n",
       "    <tr>\n",
       "      <th>4</th>\n",
       "      <td>47.0</td>\n",
       "      <td>0</td>\n",
       "      <td>0</td>\n",
       "      <td>0</td>\n",
       "      <td>0</td>\n",
       "      <td>-2.0</td>\n",
       "      <td>0.0</td>\n",
       "      <td>0.0</td>\n",
       "      <td>-2.0</td>\n",
       "      <td>1.0</td>\n",
       "      <td>0.0</td>\n",
       "      <td>0.0</td>\n",
       "      <td>-2.0</td>\n",
       "      <td>2.0</td>\n",
       "      <td>-2.0</td>\n",
       "    </tr>\n",
       "  </tbody>\n",
       "</table>\n",
       "</div>"
      ],
      "text/plain": [
       "    age  gender  pulmhtn  dm  esrd  tv_pulm_htn  tv_tr  lv_cavity  \\\n",
       "0  76.0       1        0   0     0         -2.0   -2.0       -2.0   \n",
       "1  76.0       1        0   0     0         -2.0   -2.0        0.0   \n",
       "2  76.0       1        0   0     0         -2.0   -2.0        0.0   \n",
       "3  47.0       0        0   0     0          1.0   -2.0        0.0   \n",
       "4  47.0       0        0   0     0         -2.0    0.0        0.0   \n",
       "\n",
       "   lv_diastolic  lv_systolic  lv_wall  rv_cavity  rv_diastolic_fluid  \\\n",
       "0          -2.0         -2.0     -2.0       -2.0                -2.0   \n",
       "1          -2.0          3.0      0.0        0.0                -2.0   \n",
       "2          -2.0          3.0      0.0        0.0                -2.0   \n",
       "3          -2.0          0.0      0.0        0.0                -2.0   \n",
       "4          -2.0          1.0      0.0        0.0                -2.0   \n",
       "\n",
       "   rv_systolic  rv_wall  \n",
       "0         -2.0     -2.0  \n",
       "1          0.0      0.0  \n",
       "2         -2.0      0.0  \n",
       "3          0.0     -2.0  \n",
       "4          2.0     -2.0  "
      ]
     },
     "execution_count": 15,
     "metadata": {},
     "output_type": "execute_result"
    }
   ],
   "source": [
    "features_df.fillna(-2, inplace=True)\n",
    "features_df.head()"
   ]
  },
  {
   "cell_type": "code",
   "execution_count": 16,
   "metadata": {
    "collapsed": true
   },
   "outputs": [],
   "source": [
    "features_categorical = [x for x in features]\n",
    "features_categorical.remove('age')"
   ]
  },
  {
   "cell_type": "code",
   "execution_count": 17,
   "metadata": {
    "collapsed": false
   },
   "outputs": [
    {
     "data": {
      "text/html": [
       "<div>\n",
       "<table border=\"1\" class=\"dataframe\">\n",
       "  <thead>\n",
       "    <tr style=\"text-align: right;\">\n",
       "      <th></th>\n",
       "      <th>age</th>\n",
       "      <th>gender_0</th>\n",
       "      <th>gender_1</th>\n",
       "      <th>pulmhtn_0</th>\n",
       "      <th>pulmhtn_1</th>\n",
       "      <th>dm_0</th>\n",
       "      <th>dm_1</th>\n",
       "      <th>esrd_0</th>\n",
       "      <th>esrd_1</th>\n",
       "      <th>tv_pulm_htn_-50.0</th>\n",
       "      <th>...</th>\n",
       "      <th>rv_diastolic_fluid_1.0</th>\n",
       "      <th>rv_systolic_-50.0</th>\n",
       "      <th>rv_systolic_-2.0</th>\n",
       "      <th>rv_systolic_0.0</th>\n",
       "      <th>rv_systolic_1.0</th>\n",
       "      <th>rv_systolic_2.0</th>\n",
       "      <th>rv_systolic_3.0</th>\n",
       "      <th>rv_wall_-2.0</th>\n",
       "      <th>rv_wall_0.0</th>\n",
       "      <th>rv_wall_1.0</th>\n",
       "    </tr>\n",
       "  </thead>\n",
       "  <tbody>\n",
       "    <tr>\n",
       "      <th>0</th>\n",
       "      <td>76.0</td>\n",
       "      <td>0.0</td>\n",
       "      <td>1.0</td>\n",
       "      <td>1.0</td>\n",
       "      <td>0.0</td>\n",
       "      <td>1.0</td>\n",
       "      <td>0.0</td>\n",
       "      <td>1.0</td>\n",
       "      <td>0.0</td>\n",
       "      <td>0.0</td>\n",
       "      <td>...</td>\n",
       "      <td>0.0</td>\n",
       "      <td>0.0</td>\n",
       "      <td>1.0</td>\n",
       "      <td>0.0</td>\n",
       "      <td>0.0</td>\n",
       "      <td>0.0</td>\n",
       "      <td>0.0</td>\n",
       "      <td>1.0</td>\n",
       "      <td>0.0</td>\n",
       "      <td>0.0</td>\n",
       "    </tr>\n",
       "    <tr>\n",
       "      <th>1</th>\n",
       "      <td>76.0</td>\n",
       "      <td>0.0</td>\n",
       "      <td>1.0</td>\n",
       "      <td>1.0</td>\n",
       "      <td>0.0</td>\n",
       "      <td>1.0</td>\n",
       "      <td>0.0</td>\n",
       "      <td>1.0</td>\n",
       "      <td>0.0</td>\n",
       "      <td>0.0</td>\n",
       "      <td>...</td>\n",
       "      <td>0.0</td>\n",
       "      <td>0.0</td>\n",
       "      <td>0.0</td>\n",
       "      <td>1.0</td>\n",
       "      <td>0.0</td>\n",
       "      <td>0.0</td>\n",
       "      <td>0.0</td>\n",
       "      <td>0.0</td>\n",
       "      <td>1.0</td>\n",
       "      <td>0.0</td>\n",
       "    </tr>\n",
       "    <tr>\n",
       "      <th>2</th>\n",
       "      <td>76.0</td>\n",
       "      <td>0.0</td>\n",
       "      <td>1.0</td>\n",
       "      <td>1.0</td>\n",
       "      <td>0.0</td>\n",
       "      <td>1.0</td>\n",
       "      <td>0.0</td>\n",
       "      <td>1.0</td>\n",
       "      <td>0.0</td>\n",
       "      <td>0.0</td>\n",
       "      <td>...</td>\n",
       "      <td>0.0</td>\n",
       "      <td>0.0</td>\n",
       "      <td>1.0</td>\n",
       "      <td>0.0</td>\n",
       "      <td>0.0</td>\n",
       "      <td>0.0</td>\n",
       "      <td>0.0</td>\n",
       "      <td>0.0</td>\n",
       "      <td>1.0</td>\n",
       "      <td>0.0</td>\n",
       "    </tr>\n",
       "    <tr>\n",
       "      <th>3</th>\n",
       "      <td>47.0</td>\n",
       "      <td>1.0</td>\n",
       "      <td>0.0</td>\n",
       "      <td>1.0</td>\n",
       "      <td>0.0</td>\n",
       "      <td>1.0</td>\n",
       "      <td>0.0</td>\n",
       "      <td>1.0</td>\n",
       "      <td>0.0</td>\n",
       "      <td>0.0</td>\n",
       "      <td>...</td>\n",
       "      <td>0.0</td>\n",
       "      <td>0.0</td>\n",
       "      <td>0.0</td>\n",
       "      <td>1.0</td>\n",
       "      <td>0.0</td>\n",
       "      <td>0.0</td>\n",
       "      <td>0.0</td>\n",
       "      <td>1.0</td>\n",
       "      <td>0.0</td>\n",
       "      <td>0.0</td>\n",
       "    </tr>\n",
       "    <tr>\n",
       "      <th>4</th>\n",
       "      <td>47.0</td>\n",
       "      <td>1.0</td>\n",
       "      <td>0.0</td>\n",
       "      <td>1.0</td>\n",
       "      <td>0.0</td>\n",
       "      <td>1.0</td>\n",
       "      <td>0.0</td>\n",
       "      <td>1.0</td>\n",
       "      <td>0.0</td>\n",
       "      <td>0.0</td>\n",
       "      <td>...</td>\n",
       "      <td>0.0</td>\n",
       "      <td>0.0</td>\n",
       "      <td>0.0</td>\n",
       "      <td>0.0</td>\n",
       "      <td>0.0</td>\n",
       "      <td>1.0</td>\n",
       "      <td>0.0</td>\n",
       "      <td>1.0</td>\n",
       "      <td>0.0</td>\n",
       "      <td>0.0</td>\n",
       "    </tr>\n",
       "  </tbody>\n",
       "</table>\n",
       "<p>5 rows × 62 columns</p>\n",
       "</div>"
      ],
      "text/plain": [
       "    age  gender_0  gender_1  pulmhtn_0  pulmhtn_1  dm_0  dm_1  esrd_0  esrd_1  \\\n",
       "0  76.0       0.0       1.0        1.0        0.0   1.0   0.0     1.0     0.0   \n",
       "1  76.0       0.0       1.0        1.0        0.0   1.0   0.0     1.0     0.0   \n",
       "2  76.0       0.0       1.0        1.0        0.0   1.0   0.0     1.0     0.0   \n",
       "3  47.0       1.0       0.0        1.0        0.0   1.0   0.0     1.0     0.0   \n",
       "4  47.0       1.0       0.0        1.0        0.0   1.0   0.0     1.0     0.0   \n",
       "\n",
       "   tv_pulm_htn_-50.0     ...       rv_diastolic_fluid_1.0  rv_systolic_-50.0  \\\n",
       "0                0.0     ...                          0.0                0.0   \n",
       "1                0.0     ...                          0.0                0.0   \n",
       "2                0.0     ...                          0.0                0.0   \n",
       "3                0.0     ...                          0.0                0.0   \n",
       "4                0.0     ...                          0.0                0.0   \n",
       "\n",
       "   rv_systolic_-2.0  rv_systolic_0.0  rv_systolic_1.0  rv_systolic_2.0  \\\n",
       "0               1.0              0.0              0.0              0.0   \n",
       "1               0.0              1.0              0.0              0.0   \n",
       "2               1.0              0.0              0.0              0.0   \n",
       "3               0.0              1.0              0.0              0.0   \n",
       "4               0.0              0.0              0.0              1.0   \n",
       "\n",
       "   rv_systolic_3.0  rv_wall_-2.0  rv_wall_0.0  rv_wall_1.0  \n",
       "0              0.0           1.0          0.0          0.0  \n",
       "1              0.0           0.0          1.0          0.0  \n",
       "2              0.0           0.0          1.0          0.0  \n",
       "3              0.0           1.0          0.0          0.0  \n",
       "4              0.0           1.0          0.0          0.0  \n",
       "\n",
       "[5 rows x 62 columns]"
      ]
     },
     "execution_count": 17,
     "metadata": {},
     "output_type": "execute_result"
    }
   ],
   "source": [
    "features_dummy = pd.get_dummies(features_df, columns=features_categorical)\n",
    "features_dummy.head()"
   ]
  },
  {
   "cell_type": "code",
   "execution_count": 18,
   "metadata": {
    "collapsed": false
   },
   "outputs": [],
   "source": [
    "I = np.random.permutation(len(features_dummy))\n",
    "train_x = features_dummy.iloc[I].iloc[:25000]\n",
    "train_y = dead_30_days.iloc[I].iloc[:25000]\n",
    "valid_x = features_dummy.iloc[I].iloc[25000:]\n",
    "valid_y = dead_30_days.iloc[I].iloc[25000:]"
   ]
  },
  {
   "cell_type": "code",
   "execution_count": 19,
   "metadata": {
    "collapsed": false
   },
   "outputs": [
    {
     "data": {
      "text/plain": [
       "0.16891999999999999"
      ]
     },
     "execution_count": 19,
     "metadata": {},
     "output_type": "execute_result"
    }
   ],
   "source": [
    "train_y.sum()/float(len(train_y))"
   ]
  },
  {
   "cell_type": "code",
   "execution_count": 20,
   "metadata": {
    "collapsed": false
   },
   "outputs": [
    {
     "data": {
      "text/plain": [
       "0.17091903150221296"
      ]
     },
     "execution_count": 20,
     "metadata": {},
     "output_type": "execute_result"
    }
   ],
   "source": [
    "valid_y.sum()/float(len(valid_y))"
   ]
  },
  {
   "cell_type": "code",
   "execution_count": 21,
   "metadata": {
    "collapsed": true
   },
   "outputs": [],
   "source": [
    "from sklearn.ensemble import RandomForestClassifier"
   ]
  },
  {
   "cell_type": "code",
   "execution_count": 66,
   "metadata": {
    "collapsed": false
   },
   "outputs": [
    {
     "data": {
      "text/plain": [
       "RandomForestClassifier(bootstrap=True, class_weight=None, criterion='gini',\n",
       "            max_depth=None, max_features='auto', max_leaf_nodes=None,\n",
       "            min_impurity_split=1e-07, min_samples_leaf=1,\n",
       "            min_samples_split=2, min_weight_fraction_leaf=0.0,\n",
       "            n_estimators=1, n_jobs=1, oob_score=True, random_state=None,\n",
       "            verbose=0, warm_start=False)"
      ]
     },
     "execution_count": 66,
     "metadata": {},
     "output_type": "execute_result"
    }
   ],
   "source": [
    "rf = RandomForestClassifier(oob_score=True, n_estimators=1, max_features='auto')\n",
    "rf.fit(train_x, train_y)"
   ]
  },
  {
   "cell_type": "code",
   "execution_count": 67,
   "metadata": {
    "collapsed": false
   },
   "outputs": [
    {
     "data": {
      "text/plain": [
       "0.79767999999999994"
      ]
     },
     "execution_count": 67,
     "metadata": {},
     "output_type": "execute_result"
    }
   ],
   "source": [
    "rf.oob_score_"
   ]
  },
  {
   "cell_type": "code",
   "execution_count": 68,
   "metadata": {
    "collapsed": false
   },
   "outputs": [
    {
     "data": {
      "text/plain": [
       "0.88971999999999996"
      ]
     },
     "execution_count": 68,
     "metadata": {},
     "output_type": "execute_result"
    }
   ],
   "source": [
    "rf.score(train_x, train_y)"
   ]
  },
  {
   "cell_type": "code",
   "execution_count": 69,
   "metadata": {
    "collapsed": false
   },
   "outputs": [
    {
     "data": {
      "text/plain": [
       "0.74069252798750329"
      ]
     },
     "execution_count": 69,
     "metadata": {},
     "output_type": "execute_result"
    }
   ],
   "source": [
    "rf.score(valid_x, valid_y)"
   ]
  },
  {
   "cell_type": "code",
   "execution_count": 48,
   "metadata": {
    "collapsed": false
   },
   "outputs": [
    {
     "data": {
      "text/plain": [
       "0.16938987822042714"
      ]
     },
     "execution_count": 48,
     "metadata": {},
     "output_type": "execute_result"
    }
   ],
   "source": [
    "dead_30_days.sum()/float(len(dead_30_days))"
   ]
  },
  {
   "cell_type": "code",
   "execution_count": 49,
   "metadata": {
    "collapsed": false
   },
   "outputs": [
    {
     "data": {
      "text/plain": [
       "array([  3.71168893e-01,   1.88707220e-02,   1.73480311e-02,\n",
       "         1.26246072e-02,   1.25076779e-02,   2.07500457e-02,\n",
       "         2.20417469e-02,   6.75967368e-03,   6.74798064e-03,\n",
       "         3.58348866e-05,   1.38254849e-02,   1.03545062e-02,\n",
       "         1.21702790e-02,   1.25290706e-02,   5.98190605e-03,\n",
       "         2.79689355e-03,   1.49533818e-02,   1.62248906e-02,\n",
       "         1.62846291e-02,   1.31921364e-02,   1.09135318e-02,\n",
       "         3.87703856e-04,   1.38363550e-02,   8.88399466e-03,\n",
       "         1.94418933e-02,   8.05536930e-03,   7.02058665e-03,\n",
       "         2.69443932e-03,   1.19372850e-04,   1.06311717e-02,\n",
       "         4.73449044e-03,   7.78256421e-03,   3.41977698e-03,\n",
       "         1.92069712e-02,   1.14883957e-02,   2.22914933e-02,\n",
       "         1.50059492e-02,   1.23204019e-02,   1.41149808e-02,\n",
       "         6.30250768e-04,   1.57791894e-02,   2.17169838e-02,\n",
       "         2.08554506e-02,   8.50390753e-03,   3.39383070e-03,\n",
       "         6.61931719e-04,   1.19980664e-02,   1.75042504e-03,\n",
       "         1.67606213e-02,   1.26535667e-02,   7.84071013e-03,\n",
       "         5.23543870e-03,   3.46007503e-03,   7.63831124e-04,\n",
       "         9.38195040e-03,   1.11482190e-02,   8.70742605e-03,\n",
       "         5.78649322e-03,   8.59227863e-03,   1.07966651e-02,\n",
       "         8.57173752e-03,   5.49311821e-03])"
      ]
     },
     "execution_count": 49,
     "metadata": {},
     "output_type": "execute_result"
    }
   ],
   "source": [
    "rf.feature_importances_"
   ]
  },
  {
   "cell_type": "code",
   "execution_count": 50,
   "metadata": {
    "collapsed": false
   },
   "outputs": [
    {
     "data": {
      "text/html": [
       "<div>\n",
       "<table border=\"1\" class=\"dataframe\">\n",
       "  <thead>\n",
       "    <tr style=\"text-align: right;\">\n",
       "      <th></th>\n",
       "      <th>0</th>\n",
       "    </tr>\n",
       "  </thead>\n",
       "  <tbody>\n",
       "    <tr>\n",
       "      <th>age</th>\n",
       "      <td>0.371169</td>\n",
       "    </tr>\n",
       "    <tr>\n",
       "      <th>lv_systolic_0.0</th>\n",
       "      <td>0.022291</td>\n",
       "    </tr>\n",
       "    <tr>\n",
       "      <th>dm_1</th>\n",
       "      <td>0.022042</td>\n",
       "    </tr>\n",
       "    <tr>\n",
       "      <th>lv_wall_0.0</th>\n",
       "      <td>0.021717</td>\n",
       "    </tr>\n",
       "    <tr>\n",
       "      <th>lv_wall_1.0</th>\n",
       "      <td>0.020855</td>\n",
       "    </tr>\n",
       "    <tr>\n",
       "      <th>dm_0</th>\n",
       "      <td>0.020750</td>\n",
       "    </tr>\n",
       "    <tr>\n",
       "      <th>lv_cavity_0.0</th>\n",
       "      <td>0.019442</td>\n",
       "    </tr>\n",
       "    <tr>\n",
       "      <th>lv_systolic_-2.0</th>\n",
       "      <td>0.019207</td>\n",
       "    </tr>\n",
       "    <tr>\n",
       "      <th>gender_0</th>\n",
       "      <td>0.018871</td>\n",
       "    </tr>\n",
       "    <tr>\n",
       "      <th>gender_1</th>\n",
       "      <td>0.017348</td>\n",
       "    </tr>\n",
       "    <tr>\n",
       "      <th>rv_cavity_0.0</th>\n",
       "      <td>0.016761</td>\n",
       "    </tr>\n",
       "    <tr>\n",
       "      <th>tv_tr_1.0</th>\n",
       "      <td>0.016285</td>\n",
       "    </tr>\n",
       "    <tr>\n",
       "      <th>tv_tr_0.0</th>\n",
       "      <td>0.016225</td>\n",
       "    </tr>\n",
       "    <tr>\n",
       "      <th>lv_wall_-2.0</th>\n",
       "      <td>0.015779</td>\n",
       "    </tr>\n",
       "    <tr>\n",
       "      <th>lv_systolic_1.0</th>\n",
       "      <td>0.015006</td>\n",
       "    </tr>\n",
       "    <tr>\n",
       "      <th>tv_tr_-2.0</th>\n",
       "      <td>0.014953</td>\n",
       "    </tr>\n",
       "    <tr>\n",
       "      <th>lv_systolic_3.0</th>\n",
       "      <td>0.014115</td>\n",
       "    </tr>\n",
       "    <tr>\n",
       "      <th>lv_cavity_-2.0</th>\n",
       "      <td>0.013836</td>\n",
       "    </tr>\n",
       "    <tr>\n",
       "      <th>tv_pulm_htn_-2.0</th>\n",
       "      <td>0.013825</td>\n",
       "    </tr>\n",
       "    <tr>\n",
       "      <th>tv_tr_2.0</th>\n",
       "      <td>0.013192</td>\n",
       "    </tr>\n",
       "    <tr>\n",
       "      <th>rv_cavity_1.0</th>\n",
       "      <td>0.012654</td>\n",
       "    </tr>\n",
       "    <tr>\n",
       "      <th>pulmhtn_0</th>\n",
       "      <td>0.012625</td>\n",
       "    </tr>\n",
       "    <tr>\n",
       "      <th>tv_pulm_htn_2.0</th>\n",
       "      <td>0.012529</td>\n",
       "    </tr>\n",
       "    <tr>\n",
       "      <th>pulmhtn_1</th>\n",
       "      <td>0.012508</td>\n",
       "    </tr>\n",
       "    <tr>\n",
       "      <th>lv_systolic_2.0</th>\n",
       "      <td>0.012320</td>\n",
       "    </tr>\n",
       "    <tr>\n",
       "      <th>tv_pulm_htn_1.0</th>\n",
       "      <td>0.012170</td>\n",
       "    </tr>\n",
       "    <tr>\n",
       "      <th>rv_cavity_-2.0</th>\n",
       "      <td>0.011998</td>\n",
       "    </tr>\n",
       "    <tr>\n",
       "      <th>lv_systolic_-1.0</th>\n",
       "      <td>0.011488</td>\n",
       "    </tr>\n",
       "    <tr>\n",
       "      <th>rv_systolic_0.0</th>\n",
       "      <td>0.011148</td>\n",
       "    </tr>\n",
       "    <tr>\n",
       "      <th>tv_tr_3.0</th>\n",
       "      <td>0.010914</td>\n",
       "    </tr>\n",
       "    <tr>\n",
       "      <th>...</th>\n",
       "      <td>...</td>\n",
       "    </tr>\n",
       "    <tr>\n",
       "      <th>tv_pulm_htn_0.0</th>\n",
       "      <td>0.010355</td>\n",
       "    </tr>\n",
       "    <tr>\n",
       "      <th>rv_systolic_-2.0</th>\n",
       "      <td>0.009382</td>\n",
       "    </tr>\n",
       "    <tr>\n",
       "      <th>lv_cavity_-1.0</th>\n",
       "      <td>0.008884</td>\n",
       "    </tr>\n",
       "    <tr>\n",
       "      <th>rv_systolic_1.0</th>\n",
       "      <td>0.008707</td>\n",
       "    </tr>\n",
       "    <tr>\n",
       "      <th>rv_systolic_3.0</th>\n",
       "      <td>0.008592</td>\n",
       "    </tr>\n",
       "    <tr>\n",
       "      <th>rv_wall_0.0</th>\n",
       "      <td>0.008572</td>\n",
       "    </tr>\n",
       "    <tr>\n",
       "      <th>lv_wall_2.0</th>\n",
       "      <td>0.008504</td>\n",
       "    </tr>\n",
       "    <tr>\n",
       "      <th>lv_cavity_1.0</th>\n",
       "      <td>0.008055</td>\n",
       "    </tr>\n",
       "    <tr>\n",
       "      <th>rv_cavity_2.0</th>\n",
       "      <td>0.007841</td>\n",
       "    </tr>\n",
       "    <tr>\n",
       "      <th>lv_diastolic_1.0</th>\n",
       "      <td>0.007783</td>\n",
       "    </tr>\n",
       "    <tr>\n",
       "      <th>lv_cavity_2.0</th>\n",
       "      <td>0.007021</td>\n",
       "    </tr>\n",
       "    <tr>\n",
       "      <th>esrd_0</th>\n",
       "      <td>0.006760</td>\n",
       "    </tr>\n",
       "    <tr>\n",
       "      <th>esrd_1</th>\n",
       "      <td>0.006748</td>\n",
       "    </tr>\n",
       "    <tr>\n",
       "      <th>tv_pulm_htn_3.0</th>\n",
       "      <td>0.005982</td>\n",
       "    </tr>\n",
       "    <tr>\n",
       "      <th>rv_systolic_2.0</th>\n",
       "      <td>0.005786</td>\n",
       "    </tr>\n",
       "    <tr>\n",
       "      <th>rv_wall_1.0</th>\n",
       "      <td>0.005493</td>\n",
       "    </tr>\n",
       "    <tr>\n",
       "      <th>rv_diastolic_fluid_-2.0</th>\n",
       "      <td>0.005235</td>\n",
       "    </tr>\n",
       "    <tr>\n",
       "      <th>lv_diastolic_0.0</th>\n",
       "      <td>0.004734</td>\n",
       "    </tr>\n",
       "    <tr>\n",
       "      <th>rv_diastolic_fluid_1.0</th>\n",
       "      <td>0.003460</td>\n",
       "    </tr>\n",
       "    <tr>\n",
       "      <th>lv_systolic_-50.0</th>\n",
       "      <td>0.003420</td>\n",
       "    </tr>\n",
       "    <tr>\n",
       "      <th>lv_wall_3.0</th>\n",
       "      <td>0.003394</td>\n",
       "    </tr>\n",
       "    <tr>\n",
       "      <th>tv_tr_-50.0</th>\n",
       "      <td>0.002797</td>\n",
       "    </tr>\n",
       "    <tr>\n",
       "      <th>lv_cavity_3.0</th>\n",
       "      <td>0.002694</td>\n",
       "    </tr>\n",
       "    <tr>\n",
       "      <th>rv_cavity_-1.0</th>\n",
       "      <td>0.001750</td>\n",
       "    </tr>\n",
       "    <tr>\n",
       "      <th>rv_systolic_-50.0</th>\n",
       "      <td>0.000764</td>\n",
       "    </tr>\n",
       "    <tr>\n",
       "      <th>rv_cavity_-50.0</th>\n",
       "      <td>0.000662</td>\n",
       "    </tr>\n",
       "    <tr>\n",
       "      <th>lv_wall_-50.0</th>\n",
       "      <td>0.000630</td>\n",
       "    </tr>\n",
       "    <tr>\n",
       "      <th>lv_cavity_-50.0</th>\n",
       "      <td>0.000388</td>\n",
       "    </tr>\n",
       "    <tr>\n",
       "      <th>lv_diastolic_-50.0</th>\n",
       "      <td>0.000119</td>\n",
       "    </tr>\n",
       "    <tr>\n",
       "      <th>tv_pulm_htn_-50.0</th>\n",
       "      <td>0.000036</td>\n",
       "    </tr>\n",
       "  </tbody>\n",
       "</table>\n",
       "<p>62 rows × 1 columns</p>\n",
       "</div>"
      ],
      "text/plain": [
       "                                0\n",
       "age                      0.371169\n",
       "lv_systolic_0.0          0.022291\n",
       "dm_1                     0.022042\n",
       "lv_wall_0.0              0.021717\n",
       "lv_wall_1.0              0.020855\n",
       "dm_0                     0.020750\n",
       "lv_cavity_0.0            0.019442\n",
       "lv_systolic_-2.0         0.019207\n",
       "gender_0                 0.018871\n",
       "gender_1                 0.017348\n",
       "rv_cavity_0.0            0.016761\n",
       "tv_tr_1.0                0.016285\n",
       "tv_tr_0.0                0.016225\n",
       "lv_wall_-2.0             0.015779\n",
       "lv_systolic_1.0          0.015006\n",
       "tv_tr_-2.0               0.014953\n",
       "lv_systolic_3.0          0.014115\n",
       "lv_cavity_-2.0           0.013836\n",
       "tv_pulm_htn_-2.0         0.013825\n",
       "tv_tr_2.0                0.013192\n",
       "rv_cavity_1.0            0.012654\n",
       "pulmhtn_0                0.012625\n",
       "tv_pulm_htn_2.0          0.012529\n",
       "pulmhtn_1                0.012508\n",
       "lv_systolic_2.0          0.012320\n",
       "tv_pulm_htn_1.0          0.012170\n",
       "rv_cavity_-2.0           0.011998\n",
       "lv_systolic_-1.0         0.011488\n",
       "rv_systolic_0.0          0.011148\n",
       "tv_tr_3.0                0.010914\n",
       "...                           ...\n",
       "tv_pulm_htn_0.0          0.010355\n",
       "rv_systolic_-2.0         0.009382\n",
       "lv_cavity_-1.0           0.008884\n",
       "rv_systolic_1.0          0.008707\n",
       "rv_systolic_3.0          0.008592\n",
       "rv_wall_0.0              0.008572\n",
       "lv_wall_2.0              0.008504\n",
       "lv_cavity_1.0            0.008055\n",
       "rv_cavity_2.0            0.007841\n",
       "lv_diastolic_1.0         0.007783\n",
       "lv_cavity_2.0            0.007021\n",
       "esrd_0                   0.006760\n",
       "esrd_1                   0.006748\n",
       "tv_pulm_htn_3.0          0.005982\n",
       "rv_systolic_2.0          0.005786\n",
       "rv_wall_1.0              0.005493\n",
       "rv_diastolic_fluid_-2.0  0.005235\n",
       "lv_diastolic_0.0         0.004734\n",
       "rv_diastolic_fluid_1.0   0.003460\n",
       "lv_systolic_-50.0        0.003420\n",
       "lv_wall_3.0              0.003394\n",
       "tv_tr_-50.0              0.002797\n",
       "lv_cavity_3.0            0.002694\n",
       "rv_cavity_-1.0           0.001750\n",
       "rv_systolic_-50.0        0.000764\n",
       "rv_cavity_-50.0          0.000662\n",
       "lv_wall_-50.0            0.000630\n",
       "lv_cavity_-50.0          0.000388\n",
       "lv_diastolic_-50.0       0.000119\n",
       "tv_pulm_htn_-50.0        0.000036\n",
       "\n",
       "[62 rows x 1 columns]"
      ]
     },
     "execution_count": 50,
     "metadata": {},
     "output_type": "execute_result"
    }
   ],
   "source": [
    "feat_import = pd.DataFrame(rf.feature_importances_, index=features_dummy.columns)\n",
    "feat_import.sort_values(0, ascending=False)"
   ]
  },
  {
   "cell_type": "code",
   "execution_count": 33,
   "metadata": {
    "collapsed": false
   },
   "outputs": [
    {
     "data": {
      "text/plain": [
       "RandomForestClassifier(bootstrap=True, class_weight=None, criterion='gini',\n",
       "            max_depth=None, max_features='auto', max_leaf_nodes=None,\n",
       "            min_impurity_split=1e-07, min_samples_leaf=1,\n",
       "            min_samples_split=2, min_weight_fraction_leaf=0.0,\n",
       "            n_estimators=10, n_jobs=1, oob_score=False, random_state=None,\n",
       "            verbose=0, warm_start=False)"
      ]
     },
     "execution_count": 33,
     "metadata": {},
     "output_type": "execute_result"
    }
   ],
   "source": [
    "rf_age_only = RandomForestClassifier()\n",
    "rf_age_only.fit(features_df[['age']], dead_30_days)"
   ]
  },
  {
   "cell_type": "code",
   "execution_count": 34,
   "metadata": {
    "collapsed": false
   },
   "outputs": [
    {
     "data": {
      "text/plain": [
       "0.83061012177957283"
      ]
     },
     "execution_count": 34,
     "metadata": {},
     "output_type": "execute_result"
    }
   ],
   "source": [
    "rf_age_only.score(features_df[['age']], dead_30_days)"
   ]
  },
  {
   "cell_type": "code",
   "execution_count": 36,
   "metadata": {
    "collapsed": false
   },
   "outputs": [
    {
     "data": {
      "text/plain": [
       "RandomForestClassifier(bootstrap=True, class_weight=None, criterion='gini',\n",
       "            max_depth=None, max_features='auto', max_leaf_nodes=None,\n",
       "            min_impurity_split=1e-07, min_samples_leaf=1,\n",
       "            min_samples_split=2, min_weight_fraction_leaf=0.0,\n",
       "            n_estimators=10, n_jobs=1, oob_score=False, random_state=None,\n",
       "            verbose=0, warm_start=False)"
      ]
     },
     "execution_count": 36,
     "metadata": {},
     "output_type": "execute_result"
    }
   ],
   "source": [
    "rf_age_lv_systolic = RandomForestClassifier()\n",
    "rf_age_lv_systolic.fit(features_df[['age', 'lv_systolic']], dead_30_days)"
   ]
  },
  {
   "cell_type": "code",
   "execution_count": 37,
   "metadata": {
    "collapsed": false
   },
   "outputs": [
    {
     "data": {
      "text/plain": [
       "0.83146686249311552"
      ]
     },
     "execution_count": 37,
     "metadata": {},
     "output_type": "execute_result"
    }
   ],
   "source": [
    "rf_age_lv_systolic.score(features_df[['age', 'lv_systolic']], dead_30_days)"
   ]
  },
  {
   "cell_type": "code",
   "execution_count": 38,
   "metadata": {
    "collapsed": false
   },
   "outputs": [
    {
     "data": {
      "text/plain": [
       "array([ 0.72666666,  0.27333334])"
      ]
     },
     "execution_count": 38,
     "metadata": {},
     "output_type": "execute_result"
    }
   ],
   "source": [
    "rf_age_lv_systolic.feature_importances_"
   ]
  },
  {
   "cell_type": "code",
   "execution_count": 70,
   "metadata": {
    "collapsed": true
   },
   "outputs": [],
   "source": [
    "from sklearn.ensemble import GradientBoostingClassifier"
   ]
  },
  {
   "cell_type": "code",
   "execution_count": 72,
   "metadata": {
    "collapsed": false
   },
   "outputs": [
    {
     "data": {
      "text/plain": [
       "GradientBoostingClassifier(criterion='friedman_mse', init=None,\n",
       "              learning_rate=0.1, loss='deviance', max_depth=3,\n",
       "              max_features=None, max_leaf_nodes=None,\n",
       "              min_impurity_split=1e-07, min_samples_leaf=1,\n",
       "              min_samples_split=2, min_weight_fraction_leaf=0.0,\n",
       "              n_estimators=100, presort='auto', random_state=None,\n",
       "              subsample=1.0, verbose=0, warm_start=False)"
      ]
     },
     "execution_count": 72,
     "metadata": {},
     "output_type": "execute_result"
    }
   ],
   "source": [
    "gb = GradientBoostingClassifier()\n",
    "gb.fit(train_x, train_y)"
   ]
  },
  {
   "cell_type": "code",
   "execution_count": 73,
   "metadata": {
    "collapsed": false
   },
   "outputs": [
    {
     "data": {
      "text/plain": [
       "0.83448"
      ]
     },
     "execution_count": 73,
     "metadata": {},
     "output_type": "execute_result"
    }
   ],
   "source": [
    "gb.score(train_x, train_y)"
   ]
  },
  {
   "cell_type": "code",
   "execution_count": 74,
   "metadata": {
    "collapsed": false
   },
   "outputs": [
    {
     "data": {
      "text/plain": [
       "0.82973184066649308"
      ]
     },
     "execution_count": 74,
     "metadata": {},
     "output_type": "execute_result"
    }
   ],
   "source": [
    "gb.score(valid_x, valid_y)"
   ]
  },
  {
   "cell_type": "code",
   "execution_count": 42,
   "metadata": {
    "collapsed": false
   },
   "outputs": [
    {
     "data": {
      "text/plain": [
       "array([ 0.18908771,  0.01230571,  0.0293351 ,  0.03263322,  0.04198735,\n",
       "        0.07704741,  0.10942574,  0.09402415,  0.02885483,  0.13091475,\n",
       "        0.06445456,  0.04444526,  0.0213466 ,  0.10391748,  0.02022011])"
      ]
     },
     "execution_count": 42,
     "metadata": {},
     "output_type": "execute_result"
    }
   ],
   "source": [
    "gb.feature_importances_"
   ]
  },
  {
   "cell_type": "code",
   "execution_count": 43,
   "metadata": {
    "collapsed": false
   },
   "outputs": [
    {
     "data": {
      "text/html": [
       "<div>\n",
       "<table border=\"1\" class=\"dataframe\">\n",
       "  <thead>\n",
       "    <tr style=\"text-align: right;\">\n",
       "      <th></th>\n",
       "      <th>0</th>\n",
       "    </tr>\n",
       "  </thead>\n",
       "  <tbody>\n",
       "    <tr>\n",
       "      <th>age</th>\n",
       "      <td>0.189088</td>\n",
       "    </tr>\n",
       "    <tr>\n",
       "      <th>lv_systolic</th>\n",
       "      <td>0.130915</td>\n",
       "    </tr>\n",
       "    <tr>\n",
       "      <th>tv_tr</th>\n",
       "      <td>0.109426</td>\n",
       "    </tr>\n",
       "    <tr>\n",
       "      <th>rv_systolic</th>\n",
       "      <td>0.103917</td>\n",
       "    </tr>\n",
       "    <tr>\n",
       "      <th>lv_cavity</th>\n",
       "      <td>0.094024</td>\n",
       "    </tr>\n",
       "    <tr>\n",
       "      <th>tv_pulm_htn</th>\n",
       "      <td>0.077047</td>\n",
       "    </tr>\n",
       "    <tr>\n",
       "      <th>lv_wall</th>\n",
       "      <td>0.064455</td>\n",
       "    </tr>\n",
       "    <tr>\n",
       "      <th>rv_cavity</th>\n",
       "      <td>0.044445</td>\n",
       "    </tr>\n",
       "    <tr>\n",
       "      <th>esrd</th>\n",
       "      <td>0.041987</td>\n",
       "    </tr>\n",
       "    <tr>\n",
       "      <th>dm</th>\n",
       "      <td>0.032633</td>\n",
       "    </tr>\n",
       "    <tr>\n",
       "      <th>pulmhtn</th>\n",
       "      <td>0.029335</td>\n",
       "    </tr>\n",
       "    <tr>\n",
       "      <th>lv_diastolic</th>\n",
       "      <td>0.028855</td>\n",
       "    </tr>\n",
       "    <tr>\n",
       "      <th>rv_diastolic_fluid</th>\n",
       "      <td>0.021347</td>\n",
       "    </tr>\n",
       "    <tr>\n",
       "      <th>rv_wall</th>\n",
       "      <td>0.020220</td>\n",
       "    </tr>\n",
       "    <tr>\n",
       "      <th>gender</th>\n",
       "      <td>0.012306</td>\n",
       "    </tr>\n",
       "  </tbody>\n",
       "</table>\n",
       "</div>"
      ],
      "text/plain": [
       "                           0\n",
       "age                 0.189088\n",
       "lv_systolic         0.130915\n",
       "tv_tr               0.109426\n",
       "rv_systolic         0.103917\n",
       "lv_cavity           0.094024\n",
       "tv_pulm_htn         0.077047\n",
       "lv_wall             0.064455\n",
       "rv_cavity           0.044445\n",
       "esrd                0.041987\n",
       "dm                  0.032633\n",
       "pulmhtn             0.029335\n",
       "lv_diastolic        0.028855\n",
       "rv_diastolic_fluid  0.021347\n",
       "rv_wall             0.020220\n",
       "gender              0.012306"
      ]
     },
     "execution_count": 43,
     "metadata": {},
     "output_type": "execute_result"
    }
   ],
   "source": [
    "pd.DataFrame(gb.feature_importances_, index=features).sort_values(0, ascending=False)"
   ]
  },
  {
   "cell_type": "code",
   "execution_count": null,
   "metadata": {
    "collapsed": true
   },
   "outputs": [],
   "source": [
    "## given pre, in, and post echos\n",
    "## if EF drops from pre to in, predict whether it recovers in post"
   ]
  }
 ],
 "metadata": {
  "anaconda-cloud": {},
  "kernelspec": {
   "display_name": "Python [conda env:mimiciii]",
   "language": "python",
   "name": "conda-env-mimiciii-py"
  },
  "language_info": {
   "codemirror_mode": {
    "name": "ipython",
    "version": 2
   },
   "file_extension": ".py",
   "mimetype": "text/x-python",
   "name": "python",
   "nbconvert_exporter": "python",
   "pygments_lexer": "ipython2",
   "version": "2.7.12"
  }
 },
 "nbformat": 4,
 "nbformat_minor": 1
}
