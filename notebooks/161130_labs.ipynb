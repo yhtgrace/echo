{
 "cells": [
  {
   "cell_type": "code",
   "execution_count": 45,
   "metadata": {
    "collapsed": true
   },
   "outputs": [],
   "source": [
    "import numpy as np\n",
    "import pandas as pd\n",
    "import psycopg2\n",
    "\n",
    "import matplotlib.pyplot as plt\n",
    "import seaborn as sns\n",
    "\n",
    "import matplotlib.style\n",
    "matplotlib.style.use('ggplot')\n",
    "%matplotlib inline"
   ]
  },
  {
   "cell_type": "code",
   "execution_count": 46,
   "metadata": {
    "collapsed": true
   },
   "outputs": [],
   "source": [
    "# create a database connection\n",
    "sqluser = 'mimic'\n",
    "dbname = 'mimic'\n",
    "schema_name = 'mimiciii'\n",
    "\n",
    "cur = None"
   ]
  },
  {
   "cell_type": "code",
   "execution_count": 62,
   "metadata": {
    "collapsed": true
   },
   "outputs": [],
   "source": [
    "if cur: \n",
    "    cur.close()\n",
    "    con.close()\n",
    "\n",
    "con = psycopg2.connect(dbname = dbname, user = sqluser)\n",
    "cur = con.cursor()\n",
    "cur.execute('SET search_path to ' + schema_name)"
   ]
  },
  {
   "cell_type": "code",
   "execution_count": 56,
   "metadata": {
    "collapsed": false
   },
   "outputs": [
    {
     "data": {
      "text/html": [
       "<div>\n",
       "<table border=\"1\" class=\"dataframe\">\n",
       "  <thead>\n",
       "    <tr style=\"text-align: right;\">\n",
       "      <th></th>\n",
       "      <th>row_id</th>\n",
       "      <th>subject_id</th>\n",
       "      <th>hadm_id</th>\n",
       "      <th>icustay_id</th>\n",
       "      <th>lab_albumin_min</th>\n",
       "      <th>lab_albumin_max</th>\n",
       "      <th>lab_bicarbonate_min</th>\n",
       "      <th>lab_bicarbonate_max</th>\n",
       "      <th>lab_ckmb_min</th>\n",
       "      <th>lab_ckmb_max</th>\n",
       "      <th>...</th>\n",
       "      <th>lab_ntprobnp_min</th>\n",
       "      <th>lab_ntprobnp_max</th>\n",
       "      <th>lab_ph_min</th>\n",
       "      <th>lab_ph_max</th>\n",
       "      <th>lab_tropi_min</th>\n",
       "      <th>lab_tropi_max</th>\n",
       "      <th>lab_tropt_min</th>\n",
       "      <th>lab_tropt_max</th>\n",
       "      <th>lab_wbc_min</th>\n",
       "      <th>lab_wbc_max</th>\n",
       "    </tr>\n",
       "  </thead>\n",
       "  <tbody>\n",
       "    <tr>\n",
       "      <th>0</th>\n",
       "      <td>59653</td>\n",
       "      <td>31038</td>\n",
       "      <td>174978</td>\n",
       "      <td>200492</td>\n",
       "      <td>NaN</td>\n",
       "      <td>NaN</td>\n",
       "      <td>16.0</td>\n",
       "      <td>23.0</td>\n",
       "      <td>4.6</td>\n",
       "      <td>4.6</td>\n",
       "      <td>...</td>\n",
       "      <td>NaN</td>\n",
       "      <td>NaN</td>\n",
       "      <td>NaN</td>\n",
       "      <td>NaN</td>\n",
       "      <td>NaN</td>\n",
       "      <td>NaN</td>\n",
       "      <td>0.02</td>\n",
       "      <td>0.02</td>\n",
       "      <td>6.8</td>\n",
       "      <td>20.3</td>\n",
       "    </tr>\n",
       "    <tr>\n",
       "      <th>1</th>\n",
       "      <td>59654</td>\n",
       "      <td>70150</td>\n",
       "      <td>156140</td>\n",
       "      <td>245920</td>\n",
       "      <td>4.1</td>\n",
       "      <td>4.1</td>\n",
       "      <td>23.0</td>\n",
       "      <td>30.0</td>\n",
       "      <td>NaN</td>\n",
       "      <td>NaN</td>\n",
       "      <td>...</td>\n",
       "      <td>4453.0</td>\n",
       "      <td>4453.0</td>\n",
       "      <td>7.39</td>\n",
       "      <td>7.39</td>\n",
       "      <td>NaN</td>\n",
       "      <td>NaN</td>\n",
       "      <td>NaN</td>\n",
       "      <td>NaN</td>\n",
       "      <td>8.2</td>\n",
       "      <td>10.9</td>\n",
       "    </tr>\n",
       "    <tr>\n",
       "      <th>2</th>\n",
       "      <td>59655</td>\n",
       "      <td>54190</td>\n",
       "      <td>188571</td>\n",
       "      <td>292743</td>\n",
       "      <td>3.1</td>\n",
       "      <td>3.4</td>\n",
       "      <td>21.0</td>\n",
       "      <td>30.0</td>\n",
       "      <td>NaN</td>\n",
       "      <td>NaN</td>\n",
       "      <td>...</td>\n",
       "      <td>NaN</td>\n",
       "      <td>NaN</td>\n",
       "      <td>7.42</td>\n",
       "      <td>7.47</td>\n",
       "      <td>NaN</td>\n",
       "      <td>NaN</td>\n",
       "      <td>NaN</td>\n",
       "      <td>NaN</td>\n",
       "      <td>4.9</td>\n",
       "      <td>10.1</td>\n",
       "    </tr>\n",
       "    <tr>\n",
       "      <th>3</th>\n",
       "      <td>59656</td>\n",
       "      <td>5771</td>\n",
       "      <td>185291</td>\n",
       "      <td>274698</td>\n",
       "      <td>2.2</td>\n",
       "      <td>3.0</td>\n",
       "      <td>22.0</td>\n",
       "      <td>33.0</td>\n",
       "      <td>NaN</td>\n",
       "      <td>NaN</td>\n",
       "      <td>...</td>\n",
       "      <td>NaN</td>\n",
       "      <td>NaN</td>\n",
       "      <td>7.49</td>\n",
       "      <td>7.49</td>\n",
       "      <td>NaN</td>\n",
       "      <td>NaN</td>\n",
       "      <td>0.23</td>\n",
       "      <td>0.26</td>\n",
       "      <td>8.6</td>\n",
       "      <td>13.3</td>\n",
       "    </tr>\n",
       "    <tr>\n",
       "      <th>4</th>\n",
       "      <td>59657</td>\n",
       "      <td>80030</td>\n",
       "      <td>100442</td>\n",
       "      <td>249621</td>\n",
       "      <td>2.6</td>\n",
       "      <td>3.8</td>\n",
       "      <td>14.0</td>\n",
       "      <td>33.0</td>\n",
       "      <td>1.0</td>\n",
       "      <td>2.6</td>\n",
       "      <td>...</td>\n",
       "      <td>NaN</td>\n",
       "      <td>NaN</td>\n",
       "      <td>7.28</td>\n",
       "      <td>7.52</td>\n",
       "      <td>NaN</td>\n",
       "      <td>NaN</td>\n",
       "      <td>0.02</td>\n",
       "      <td>0.12</td>\n",
       "      <td>6.5</td>\n",
       "      <td>22.1</td>\n",
       "    </tr>\n",
       "  </tbody>\n",
       "</table>\n",
       "<p>5 rows × 36 columns</p>\n",
       "</div>"
      ],
      "text/plain": [
       "   row_id  subject_id  hadm_id  icustay_id  lab_albumin_min  lab_albumin_max  \\\n",
       "0   59653       31038   174978      200492              NaN              NaN   \n",
       "1   59654       70150   156140      245920              4.1              4.1   \n",
       "2   59655       54190   188571      292743              3.1              3.4   \n",
       "3   59656        5771   185291      274698              2.2              3.0   \n",
       "4   59657       80030   100442      249621              2.6              3.8   \n",
       "\n",
       "   lab_bicarbonate_min  lab_bicarbonate_max  lab_ckmb_min  lab_ckmb_max  \\\n",
       "0                 16.0                 23.0           4.6           4.6   \n",
       "1                 23.0                 30.0           NaN           NaN   \n",
       "2                 21.0                 30.0           NaN           NaN   \n",
       "3                 22.0                 33.0           NaN           NaN   \n",
       "4                 14.0                 33.0           1.0           2.6   \n",
       "\n",
       "      ...       lab_ntprobnp_min  lab_ntprobnp_max  lab_ph_min  lab_ph_max  \\\n",
       "0     ...                    NaN               NaN         NaN         NaN   \n",
       "1     ...                 4453.0            4453.0        7.39        7.39   \n",
       "2     ...                    NaN               NaN        7.42        7.47   \n",
       "3     ...                    NaN               NaN        7.49        7.49   \n",
       "4     ...                    NaN               NaN        7.28        7.52   \n",
       "\n",
       "  lab_tropi_min lab_tropi_max  lab_tropt_min  lab_tropt_max  lab_wbc_min  \\\n",
       "0           NaN           NaN           0.02           0.02          6.8   \n",
       "1           NaN           NaN            NaN            NaN          8.2   \n",
       "2           NaN           NaN            NaN            NaN          4.9   \n",
       "3           NaN           NaN           0.23           0.26          8.6   \n",
       "4           NaN           NaN           0.02           0.12          6.5   \n",
       "\n",
       "   lab_wbc_max  \n",
       "0         20.3  \n",
       "1         10.9  \n",
       "2         10.1  \n",
       "3         13.3  \n",
       "4         22.1  \n",
       "\n",
       "[5 rows x 36 columns]"
      ]
     },
     "execution_count": 56,
     "metadata": {},
     "output_type": "execute_result"
    }
   ],
   "source": [
    "query = \\\n",
    "\"\"\"\n",
    "SELECT * FROM echo_features_labs; \n",
    "\"\"\"\n",
    "el = pd.read_sql_query(query, con)\n",
    "el.head()"
   ]
  },
  {
   "cell_type": "code",
   "execution_count": 41,
   "metadata": {
    "collapsed": false,
    "scrolled": true
   },
   "outputs": [
    {
     "data": {
      "text/plain": [
       "51301    25376\n",
       "50912    25082\n",
       "50820    21656\n",
       "50813    19320\n",
       "50862    18018\n",
       "50910    17889\n",
       "50911    16954\n",
       "50811    14889\n",
       "50810    14889\n",
       "51003    13943\n",
       "50920     7789\n",
       "50908     6352\n",
       "50963     3348\n",
       "51288     2227\n",
       "50889     1946\n",
       "51002     1740\n",
       "51300      296\n",
       "Name: labid, dtype: int64"
      ]
     },
     "execution_count": 41,
     "metadata": {},
     "output_type": "execute_result"
    }
   ],
   "source": [
    "el['labid'].value_counts()"
   ]
  },
  {
   "cell_type": "code",
   "execution_count": 30,
   "metadata": {
    "collapsed": false
   },
   "outputs": [
    {
     "data": {
      "text/html": [
       "<div>\n",
       "<table border=\"1\" class=\"dataframe\">\n",
       "  <thead>\n",
       "    <tr style=\"text-align: right;\">\n",
       "      <th></th>\n",
       "      <th>row_id</th>\n",
       "      <th>lab_creatinine_charttime</th>\n",
       "      <th>lab_creatinine_dt</th>\n",
       "      <th>lab_creatinine_valuenum</th>\n",
       "      <th>lab_creatinine_valueuom</th>\n",
       "      <th>lab_creatinine_flag</th>\n",
       "    </tr>\n",
       "  </thead>\n",
       "  <tbody>\n",
       "    <tr>\n",
       "      <th>3581</th>\n",
       "      <td>67394</td>\n",
       "      <td>2142-03-12 03:55:00</td>\n",
       "      <td>-1 days +12:16:00</td>\n",
       "      <td>1.5</td>\n",
       "      <td>mg/dL</td>\n",
       "      <td>abnormal</td>\n",
       "    </tr>\n",
       "    <tr>\n",
       "      <th>3582</th>\n",
       "      <td>67394</td>\n",
       "      <td>2142-03-13 03:23:00</td>\n",
       "      <td>11:44:00</td>\n",
       "      <td>1.1</td>\n",
       "      <td>mg/dL</td>\n",
       "      <td>None</td>\n",
       "    </tr>\n",
       "  </tbody>\n",
       "</table>\n",
       "</div>"
      ],
      "text/plain": [
       "      row_id lab_creatinine_charttime  lab_creatinine_dt  \\\n",
       "3581   67394      2142-03-12 03:55:00  -1 days +12:16:00   \n",
       "3582   67394      2142-03-13 03:23:00           11:44:00   \n",
       "\n",
       "      lab_creatinine_valuenum lab_creatinine_valueuom lab_creatinine_flag  \n",
       "3581                      1.5                   mg/dL            abnormal  \n",
       "3582                      1.1                   mg/dL                None  "
      ]
     },
     "execution_count": 30,
     "metadata": {},
     "output_type": "execute_result"
    }
   ],
   "source": [
    "el.loc[el['row_id'] == 67394]"
   ]
  },
  {
   "cell_type": "code",
   "execution_count": 34,
   "metadata": {
    "collapsed": false
   },
   "outputs": [
    {
     "data": {
      "text/html": [
       "<div>\n",
       "<table border=\"1\" class=\"dataframe\">\n",
       "  <thead>\n",
       "    <tr style=\"text-align: right;\">\n",
       "      <th></th>\n",
       "      <th>row_id</th>\n",
       "      <th>lab_creatinine_charttime</th>\n",
       "      <th>lab_creatinine_dt</th>\n",
       "      <th>lab_creatinine_valuenum</th>\n",
       "      <th>lab_creatinine_valueuom</th>\n",
       "      <th>lab_creatinine_flag</th>\n",
       "    </tr>\n",
       "  </thead>\n",
       "  <tbody>\n",
       "    <tr>\n",
       "      <th>2464</th>\n",
       "      <td>64997</td>\n",
       "      <td>2127-12-05 17:07:00</td>\n",
       "      <td>05:06:00</td>\n",
       "      <td>8.6</td>\n",
       "      <td>mg/dL</td>\n",
       "      <td>abnormal</td>\n",
       "    </tr>\n",
       "    <tr>\n",
       "      <th>2465</th>\n",
       "      <td>64997</td>\n",
       "      <td>2127-12-05 06:55:00</td>\n",
       "      <td>-1 days +18:54:00</td>\n",
       "      <td>8.3</td>\n",
       "      <td>mg/dL</td>\n",
       "      <td>abnormal</td>\n",
       "    </tr>\n",
       "  </tbody>\n",
       "</table>\n",
       "</div>"
      ],
      "text/plain": [
       "      row_id lab_creatinine_charttime  lab_creatinine_dt  \\\n",
       "2464   64997      2127-12-05 17:07:00           05:06:00   \n",
       "2465   64997      2127-12-05 06:55:00  -1 days +18:54:00   \n",
       "\n",
       "      lab_creatinine_valuenum lab_creatinine_valueuom lab_creatinine_flag  \n",
       "2464                      8.6                   mg/dL            abnormal  \n",
       "2465                      8.3                   mg/dL            abnormal  "
      ]
     },
     "execution_count": 34,
     "metadata": {},
     "output_type": "execute_result"
    }
   ],
   "source": [
    "el.loc[el['row_id'] == 64997]"
   ]
  },
  {
   "cell_type": "code",
   "execution_count": 38,
   "metadata": {
    "collapsed": false
   },
   "outputs": [
    {
     "data": {
      "text/plain": [
       "1    25082\n",
       "Name: row_id, dtype: int64"
      ]
     },
     "execution_count": 38,
     "metadata": {},
     "output_type": "execute_result"
    }
   ],
   "source": [
    "el['row_id'].value_counts().value_counts()"
   ]
  },
  {
   "cell_type": "markdown",
   "metadata": {},
   "source": [
    "This is is really awkward. Basically, if there are multiple labs that meet the minimum dt, then this happens. One possibility is take the mean or something, but the flags may be conflicting. "
   ]
  },
  {
   "cell_type": "code",
   "execution_count": 57,
   "metadata": {
    "collapsed": false
   },
   "outputs": [
    {
     "data": {
      "text/plain": [
       "row_id                 1.000000\n",
       "subject_id             1.000000\n",
       "hadm_id                1.000000\n",
       "icustay_id             1.000000\n",
       "lab_albumin_min        0.706217\n",
       "lab_albumin_max        0.706217\n",
       "lab_bicarbonate_min    0.993062\n",
       "lab_bicarbonate_max    0.993062\n",
       "lab_ckmb_min           0.248863\n",
       "lab_ckmb_max           0.248863\n",
       "lab_creatinine_min     0.983145\n",
       "lab_creatinine_max     0.983145\n",
       "lab_crp_min            0.072868\n",
       "lab_crp_max            0.072868\n",
       "lab_egfr_min           0.000000\n",
       "lab_egfr_max           0.000000\n",
       "lab_hematocrit_min     0.995218\n",
       "lab_hematocrit_max     0.995218\n",
       "lab_hemoglobin_min     0.994904\n",
       "lab_hemoglobin_max     0.994904\n",
       "lab_inr_min            0.949710\n",
       "lab_inr_max            0.949710\n",
       "lab_lactate_min        0.757291\n",
       "lab_lactate_max        0.757291\n",
       "lab_platelet_min       0.994708\n",
       "lab_platelet_max       0.994708\n",
       "lab_ntprobnp_min       0.128685\n",
       "lab_ntprobnp_max       0.128685\n",
       "lab_ph_min             0.848855\n",
       "lab_ph_max             0.848855\n",
       "lab_tropi_min          0.045351\n",
       "lab_tropi_max          0.045351\n",
       "lab_tropt_min          0.463664\n",
       "lab_tropt_max          0.463664\n",
       "lab_wbc_min            0.994669\n",
       "lab_wbc_max            0.994669\n",
       "dtype: float64"
      ]
     },
     "execution_count": 57,
     "metadata": {},
     "output_type": "execute_result"
    }
   ],
   "source": [
    "(~el.isnull()).sum() / 25512."
   ]
  },
  {
   "cell_type": "code",
   "execution_count": 60,
   "metadata": {
    "collapsed": false
   },
   "outputs": [
    {
     "data": {
      "text/plain": [
       "(25512, 65)"
      ]
     },
     "execution_count": 60,
     "metadata": {},
     "output_type": "execute_result"
    }
   ],
   "source": [
    "query = \\\n",
    "\"\"\"\n",
    "SELECT * FROM echo_features; \n",
    "\"\"\"\n",
    "ef = pd.read_sql_query(query, con)\n",
    "ef.shape"
   ]
  },
  {
   "cell_type": "code",
   "execution_count": 61,
   "metadata": {
    "collapsed": false
   },
   "outputs": [
    {
     "data": {
      "text/html": [
       "<div>\n",
       "<table border=\"1\" class=\"dataframe\">\n",
       "  <thead>\n",
       "    <tr style=\"text-align: right;\">\n",
       "      <th></th>\n",
       "      <th>icustay_id</th>\n",
       "      <th>hadm_id</th>\n",
       "      <th>subject_id</th>\n",
       "      <th>age_at_intime</th>\n",
       "      <th>gender</th>\n",
       "      <th>height</th>\n",
       "      <th>weight</th>\n",
       "      <th>bmi</th>\n",
       "      <th>ethnicity</th>\n",
       "      <th>insurance</th>\n",
       "      <th>...</th>\n",
       "      <th>lab_tropt_max</th>\n",
       "      <th>lab_wbc_min</th>\n",
       "      <th>lab_wbc_max</th>\n",
       "      <th>ps_vaso</th>\n",
       "      <th>diag_xc</th>\n",
       "      <th>age_filter</th>\n",
       "      <th>intime_to_echo</th>\n",
       "      <th>time_filter</th>\n",
       "      <th>after_rowid</th>\n",
       "      <th>before_rowid</th>\n",
       "    </tr>\n",
       "  </thead>\n",
       "  <tbody>\n",
       "    <tr>\n",
       "      <th>0</th>\n",
       "      <td>217810</td>\n",
       "      <td>188268</td>\n",
       "      <td>82208</td>\n",
       "      <td>22331 days 14:54:57</td>\n",
       "      <td>F</td>\n",
       "      <td>59.0</td>\n",
       "      <td>136.0</td>\n",
       "      <td>27.465671</td>\n",
       "      <td>WHITE</td>\n",
       "      <td>Medicaid</td>\n",
       "      <td>...</td>\n",
       "      <td>0.07</td>\n",
       "      <td>0.9</td>\n",
       "      <td>13.4</td>\n",
       "      <td>False</td>\n",
       "      <td>True</td>\n",
       "      <td>True</td>\n",
       "      <td>1 days 00:19:03</td>\n",
       "      <td>True</td>\n",
       "      <td>NaN</td>\n",
       "      <td>NaN</td>\n",
       "    </tr>\n",
       "    <tr>\n",
       "      <th>1</th>\n",
       "      <td>283373</td>\n",
       "      <td>118185</td>\n",
       "      <td>15472</td>\n",
       "      <td>22485 days 03:47:00</td>\n",
       "      <td>M</td>\n",
       "      <td>NaN</td>\n",
       "      <td>NaN</td>\n",
       "      <td>NaN</td>\n",
       "      <td>WHITE</td>\n",
       "      <td>Private</td>\n",
       "      <td>...</td>\n",
       "      <td>NaN</td>\n",
       "      <td>5.3</td>\n",
       "      <td>16.1</td>\n",
       "      <td>False</td>\n",
       "      <td>True</td>\n",
       "      <td>True</td>\n",
       "      <td>1 days 06:11:00</td>\n",
       "      <td>True</td>\n",
       "      <td>59668.0</td>\n",
       "      <td>NaN</td>\n",
       "    </tr>\n",
       "    <tr>\n",
       "      <th>2</th>\n",
       "      <td>271833</td>\n",
       "      <td>130443</td>\n",
       "      <td>2961</td>\n",
       "      <td>30992 days 18:16:15</td>\n",
       "      <td>F</td>\n",
       "      <td>61.0</td>\n",
       "      <td>106.0</td>\n",
       "      <td>20.026337</td>\n",
       "      <td>WHITE</td>\n",
       "      <td>Medicare</td>\n",
       "      <td>...</td>\n",
       "      <td>NaN</td>\n",
       "      <td>11.5</td>\n",
       "      <td>32.2</td>\n",
       "      <td>False</td>\n",
       "      <td>False</td>\n",
       "      <td>True</td>\n",
       "      <td>0 days 18:59:45</td>\n",
       "      <td>True</td>\n",
       "      <td>NaN</td>\n",
       "      <td>NaN</td>\n",
       "    </tr>\n",
       "    <tr>\n",
       "      <th>3</th>\n",
       "      <td>243977</td>\n",
       "      <td>110364</td>\n",
       "      <td>7429</td>\n",
       "      <td>28547 days 05:32:07</td>\n",
       "      <td>F</td>\n",
       "      <td>64.0</td>\n",
       "      <td>150.0</td>\n",
       "      <td>25.744629</td>\n",
       "      <td>WHITE</td>\n",
       "      <td>Medicare</td>\n",
       "      <td>...</td>\n",
       "      <td>NaN</td>\n",
       "      <td>4.9</td>\n",
       "      <td>29.1</td>\n",
       "      <td>True</td>\n",
       "      <td>False</td>\n",
       "      <td>True</td>\n",
       "      <td>17 days 10:33:53</td>\n",
       "      <td>False</td>\n",
       "      <td>NaN</td>\n",
       "      <td>NaN</td>\n",
       "    </tr>\n",
       "    <tr>\n",
       "      <th>4</th>\n",
       "      <td>286508</td>\n",
       "      <td>124736</td>\n",
       "      <td>17513</td>\n",
       "      <td>22104 days 00:50:44</td>\n",
       "      <td>M</td>\n",
       "      <td>71.0</td>\n",
       "      <td>198.0</td>\n",
       "      <td>27.612378</td>\n",
       "      <td>WHITE</td>\n",
       "      <td>Private</td>\n",
       "      <td>...</td>\n",
       "      <td>NaN</td>\n",
       "      <td>5.1</td>\n",
       "      <td>7.6</td>\n",
       "      <td>False</td>\n",
       "      <td>True</td>\n",
       "      <td>True</td>\n",
       "      <td>0 days 09:29:16</td>\n",
       "      <td>True</td>\n",
       "      <td>NaN</td>\n",
       "      <td>NaN</td>\n",
       "    </tr>\n",
       "  </tbody>\n",
       "</table>\n",
       "<p>5 rows × 65 columns</p>\n",
       "</div>"
      ],
      "text/plain": [
       "   icustay_id  hadm_id  subject_id       age_at_intime gender  height  weight  \\\n",
       "0      217810   188268       82208 22331 days 14:54:57      F    59.0   136.0   \n",
       "1      283373   118185       15472 22485 days 03:47:00      M     NaN     NaN   \n",
       "2      271833   130443        2961 30992 days 18:16:15      F    61.0   106.0   \n",
       "3      243977   110364        7429 28547 days 05:32:07      F    64.0   150.0   \n",
       "4      286508   124736       17513 22104 days 00:50:44      M    71.0   198.0   \n",
       "\n",
       "         bmi ethnicity insurance     ...      lab_tropt_max lab_wbc_min  \\\n",
       "0  27.465671     WHITE  Medicaid     ...               0.07         0.9   \n",
       "1        NaN     WHITE   Private     ...                NaN         5.3   \n",
       "2  20.026337     WHITE  Medicare     ...                NaN        11.5   \n",
       "3  25.744629     WHITE  Medicare     ...                NaN         4.9   \n",
       "4  27.612378     WHITE   Private     ...                NaN         5.1   \n",
       "\n",
       "  lab_wbc_max ps_vaso diag_xc age_filter   intime_to_echo time_filter  \\\n",
       "0        13.4   False    True       True  1 days 00:19:03        True   \n",
       "1        16.1   False    True       True  1 days 06:11:00        True   \n",
       "2        32.2   False   False       True  0 days 18:59:45        True   \n",
       "3        29.1    True   False       True 17 days 10:33:53       False   \n",
       "4         7.6   False    True       True  0 days 09:29:16        True   \n",
       "\n",
       "  after_rowid before_rowid  \n",
       "0         NaN          NaN  \n",
       "1     59668.0          NaN  \n",
       "2         NaN          NaN  \n",
       "3         NaN          NaN  \n",
       "4         NaN          NaN  \n",
       "\n",
       "[5 rows x 65 columns]"
      ]
     },
     "execution_count": 61,
     "metadata": {},
     "output_type": "execute_result"
    }
   ],
   "source": [
    "ef.head()"
   ]
  },
  {
   "cell_type": "code",
   "execution_count": null,
   "metadata": {
    "collapsed": true
   },
   "outputs": [],
   "source": []
  }
 ],
 "metadata": {
  "anaconda-cloud": {},
  "kernelspec": {
   "display_name": "Python [default]",
   "language": "python",
   "name": "python3"
  },
  "language_info": {
   "codemirror_mode": {
    "name": "ipython",
    "version": 3
   },
   "file_extension": ".py",
   "mimetype": "text/x-python",
   "name": "python",
   "nbconvert_exporter": "python",
   "pygments_lexer": "ipython3",
   "version": "3.5.2"
  }
 },
 "nbformat": 4,
 "nbformat_minor": 1
}
