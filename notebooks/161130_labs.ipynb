{
 "cells": [
  {
   "cell_type": "code",
   "execution_count": 1,
   "metadata": {
    "collapsed": true
   },
   "outputs": [],
   "source": [
    "import numpy as np\n",
    "import pandas as pd\n",
    "import psycopg2\n",
    "\n",
    "import matplotlib.pyplot as plt\n",
    "import seaborn as sns\n",
    "\n",
    "import matplotlib.style\n",
    "matplotlib.style.use('ggplot')\n",
    "%matplotlib inline"
   ]
  },
  {
   "cell_type": "code",
   "execution_count": 2,
   "metadata": {
    "collapsed": true
   },
   "outputs": [],
   "source": [
    "# create a database connection\n",
    "sqluser = 'mimic'\n",
    "dbname = 'mimic'\n",
    "schema_name = 'mimiciii'\n",
    "\n",
    "cur = None"
   ]
  },
  {
   "cell_type": "code",
   "execution_count": 39,
   "metadata": {
    "collapsed": true
   },
   "outputs": [],
   "source": [
    "if cur: \n",
    "    cur.close()\n",
    "    con.close()\n",
    "\n",
    "con = psycopg2.connect(dbname = dbname, user = sqluser)\n",
    "cur = con.cursor()\n",
    "cur.execute('SET search_path to ' + schema_name)"
   ]
  },
  {
   "cell_type": "code",
   "execution_count": 42,
   "metadata": {
    "collapsed": false
   },
   "outputs": [
    {
     "data": {
      "text/plain": [
       "(25512, 26)"
      ]
     },
     "execution_count": 42,
     "metadata": {},
     "output_type": "execute_result"
    }
   ],
   "source": [
    "query = \\\n",
    "\"\"\"\n",
    "SELECT * FROM echo_features; \n",
    "\"\"\"\n",
    "ef = pd.read_sql_query(query, con)\n",
    "ef.shape"
   ]
  },
  {
   "cell_type": "code",
   "execution_count": 40,
   "metadata": {
    "collapsed": false
   },
   "outputs": [
    {
     "data": {
      "text/html": [
       "<div>\n",
       "<table border=\"1\" class=\"dataframe\">\n",
       "  <thead>\n",
       "    <tr style=\"text-align: right;\">\n",
       "      <th></th>\n",
       "      <th>row_id</th>\n",
       "      <th>labid</th>\n",
       "      <th>min_abs_dt</th>\n",
       "    </tr>\n",
       "  </thead>\n",
       "  <tbody>\n",
       "    <tr>\n",
       "      <th>0</th>\n",
       "      <td>59653</td>\n",
       "      <td>50810</td>\n",
       "      <td>2 days 11:22:00</td>\n",
       "    </tr>\n",
       "    <tr>\n",
       "      <th>1</th>\n",
       "      <td>59653</td>\n",
       "      <td>50811</td>\n",
       "      <td>2 days 11:22:00</td>\n",
       "    </tr>\n",
       "    <tr>\n",
       "      <th>2</th>\n",
       "      <td>59653</td>\n",
       "      <td>50813</td>\n",
       "      <td>2 days 11:22:00</td>\n",
       "    </tr>\n",
       "    <tr>\n",
       "      <th>3</th>\n",
       "      <td>59653</td>\n",
       "      <td>50908</td>\n",
       "      <td>2 days 11:35:00</td>\n",
       "    </tr>\n",
       "    <tr>\n",
       "      <th>4</th>\n",
       "      <td>59653</td>\n",
       "      <td>50910</td>\n",
       "      <td>2 days 11:35:00</td>\n",
       "    </tr>\n",
       "  </tbody>\n",
       "</table>\n",
       "</div>"
      ],
      "text/plain": [
       "   row_id  labid      min_abs_dt\n",
       "0   59653  50810 2 days 11:22:00\n",
       "1   59653  50811 2 days 11:22:00\n",
       "2   59653  50813 2 days 11:22:00\n",
       "3   59653  50908 2 days 11:35:00\n",
       "4   59653  50910 2 days 11:35:00"
      ]
     },
     "execution_count": 40,
     "metadata": {},
     "output_type": "execute_result"
    }
   ],
   "source": [
    "query = \\\n",
    "\"\"\"\n",
    "SELECT * FROM echo_features_labs; \n",
    "\"\"\"\n",
    "el = pd.read_sql_query(query, con)\n",
    "el.head()"
   ]
  },
  {
   "cell_type": "code",
   "execution_count": 41,
   "metadata": {
    "collapsed": false,
    "scrolled": true
   },
   "outputs": [
    {
     "data": {
      "text/plain": [
       "51301    25376\n",
       "50912    25082\n",
       "50820    21656\n",
       "50813    19320\n",
       "50862    18018\n",
       "50910    17889\n",
       "50911    16954\n",
       "50811    14889\n",
       "50810    14889\n",
       "51003    13943\n",
       "50920     7789\n",
       "50908     6352\n",
       "50963     3348\n",
       "51288     2227\n",
       "50889     1946\n",
       "51002     1740\n",
       "51300      296\n",
       "Name: labid, dtype: int64"
      ]
     },
     "execution_count": 41,
     "metadata": {},
     "output_type": "execute_result"
    }
   ],
   "source": [
    "el['labid'].value_counts()"
   ]
  },
  {
   "cell_type": "code",
   "execution_count": 30,
   "metadata": {
    "collapsed": false
   },
   "outputs": [
    {
     "data": {
      "text/html": [
       "<div>\n",
       "<table border=\"1\" class=\"dataframe\">\n",
       "  <thead>\n",
       "    <tr style=\"text-align: right;\">\n",
       "      <th></th>\n",
       "      <th>row_id</th>\n",
       "      <th>lab_creatinine_charttime</th>\n",
       "      <th>lab_creatinine_dt</th>\n",
       "      <th>lab_creatinine_valuenum</th>\n",
       "      <th>lab_creatinine_valueuom</th>\n",
       "      <th>lab_creatinine_flag</th>\n",
       "    </tr>\n",
       "  </thead>\n",
       "  <tbody>\n",
       "    <tr>\n",
       "      <th>3581</th>\n",
       "      <td>67394</td>\n",
       "      <td>2142-03-12 03:55:00</td>\n",
       "      <td>-1 days +12:16:00</td>\n",
       "      <td>1.5</td>\n",
       "      <td>mg/dL</td>\n",
       "      <td>abnormal</td>\n",
       "    </tr>\n",
       "    <tr>\n",
       "      <th>3582</th>\n",
       "      <td>67394</td>\n",
       "      <td>2142-03-13 03:23:00</td>\n",
       "      <td>11:44:00</td>\n",
       "      <td>1.1</td>\n",
       "      <td>mg/dL</td>\n",
       "      <td>None</td>\n",
       "    </tr>\n",
       "  </tbody>\n",
       "</table>\n",
       "</div>"
      ],
      "text/plain": [
       "      row_id lab_creatinine_charttime  lab_creatinine_dt  \\\n",
       "3581   67394      2142-03-12 03:55:00  -1 days +12:16:00   \n",
       "3582   67394      2142-03-13 03:23:00           11:44:00   \n",
       "\n",
       "      lab_creatinine_valuenum lab_creatinine_valueuom lab_creatinine_flag  \n",
       "3581                      1.5                   mg/dL            abnormal  \n",
       "3582                      1.1                   mg/dL                None  "
      ]
     },
     "execution_count": 30,
     "metadata": {},
     "output_type": "execute_result"
    }
   ],
   "source": [
    "el.loc[el['row_id'] == 67394]"
   ]
  },
  {
   "cell_type": "code",
   "execution_count": 34,
   "metadata": {
    "collapsed": false
   },
   "outputs": [
    {
     "data": {
      "text/html": [
       "<div>\n",
       "<table border=\"1\" class=\"dataframe\">\n",
       "  <thead>\n",
       "    <tr style=\"text-align: right;\">\n",
       "      <th></th>\n",
       "      <th>row_id</th>\n",
       "      <th>lab_creatinine_charttime</th>\n",
       "      <th>lab_creatinine_dt</th>\n",
       "      <th>lab_creatinine_valuenum</th>\n",
       "      <th>lab_creatinine_valueuom</th>\n",
       "      <th>lab_creatinine_flag</th>\n",
       "    </tr>\n",
       "  </thead>\n",
       "  <tbody>\n",
       "    <tr>\n",
       "      <th>2464</th>\n",
       "      <td>64997</td>\n",
       "      <td>2127-12-05 17:07:00</td>\n",
       "      <td>05:06:00</td>\n",
       "      <td>8.6</td>\n",
       "      <td>mg/dL</td>\n",
       "      <td>abnormal</td>\n",
       "    </tr>\n",
       "    <tr>\n",
       "      <th>2465</th>\n",
       "      <td>64997</td>\n",
       "      <td>2127-12-05 06:55:00</td>\n",
       "      <td>-1 days +18:54:00</td>\n",
       "      <td>8.3</td>\n",
       "      <td>mg/dL</td>\n",
       "      <td>abnormal</td>\n",
       "    </tr>\n",
       "  </tbody>\n",
       "</table>\n",
       "</div>"
      ],
      "text/plain": [
       "      row_id lab_creatinine_charttime  lab_creatinine_dt  \\\n",
       "2464   64997      2127-12-05 17:07:00           05:06:00   \n",
       "2465   64997      2127-12-05 06:55:00  -1 days +18:54:00   \n",
       "\n",
       "      lab_creatinine_valuenum lab_creatinine_valueuom lab_creatinine_flag  \n",
       "2464                      8.6                   mg/dL            abnormal  \n",
       "2465                      8.3                   mg/dL            abnormal  "
      ]
     },
     "execution_count": 34,
     "metadata": {},
     "output_type": "execute_result"
    }
   ],
   "source": [
    "el.loc[el['row_id'] == 64997]"
   ]
  },
  {
   "cell_type": "code",
   "execution_count": 38,
   "metadata": {
    "collapsed": false
   },
   "outputs": [
    {
     "data": {
      "text/plain": [
       "1    25082\n",
       "Name: row_id, dtype: int64"
      ]
     },
     "execution_count": 38,
     "metadata": {},
     "output_type": "execute_result"
    }
   ],
   "source": [
    "el['row_id'].value_counts().value_counts()"
   ]
  },
  {
   "cell_type": "markdown",
   "metadata": {},
   "source": [
    "This is is really awkward. Basically, if there are multiple labs that meet the minimum dt, then this happens. One possibility is take the mean or something, but the flags may be conflicting. "
   ]
  },
  {
   "cell_type": "markdown",
   "metadata": {},
   "source": [
    "Number of unique hospital admission IDs with at least 1 lab: "
   ]
  },
  {
   "cell_type": "code",
   "execution_count": 16,
   "metadata": {
    "collapsed": false
   },
   "outputs": [
    {
     "data": {
      "text/plain": [
       "label\n",
       "Albumin                          1146\n",
       "C-Reactive Protein                 81\n",
       "CK-MB Index                       139\n",
       "Creatine Kinase (CK)              759\n",
       "Creatine Kinase, MB Isoenzyme     655\n",
       "Creatinine                       1931\n",
       "Estimated GFR (MDRD equation)     737\n",
       "Hematocrit, Calculated           1580\n",
       "Hemoglobin                       1580\n",
       "Lactate                          1730\n",
       "NTproBNP                           70\n",
       "Sedimentation Rate                 79\n",
       "Troponin I                         25\n",
       "Troponin T                        544\n",
       "WBC Count                          18\n",
       "White Blood Cells                1930\n",
       "pH                               1874\n",
       "Name: hadm_id, dtype: int64"
      ]
     },
     "execution_count": 16,
     "metadata": {},
     "output_type": "execute_result"
    }
   ],
   "source": [
    "el[['label', 'hadm_id']].drop_duplicates().groupby('label')['hadm_id'].count()"
   ]
  },
  {
   "cell_type": "markdown",
   "metadata": {},
   "source": [
    "Look at the labs \n",
    "+ Hematocrit, Hemogloblin, WBC should be the same"
   ]
  },
  {
   "cell_type": "markdown",
   "metadata": {},
   "source": [
    "Search lab terms in d_items: "
   ]
  },
  {
   "cell_type": "code",
   "execution_count": 18,
   "metadata": {
    "collapsed": false
   },
   "outputs": [
    {
     "data": {
      "text/html": [
       "<div>\n",
       "<table border=\"1\" class=\"dataframe\">\n",
       "  <thead>\n",
       "    <tr style=\"text-align: right;\">\n",
       "      <th></th>\n",
       "      <th>row_id</th>\n",
       "      <th>itemid</th>\n",
       "      <th>label</th>\n",
       "      <th>abbreviation</th>\n",
       "      <th>dbsource</th>\n",
       "      <th>linksto</th>\n",
       "      <th>category</th>\n",
       "      <th>unitname</th>\n",
       "      <th>param_type</th>\n",
       "      <th>conceptid</th>\n",
       "    </tr>\n",
       "  </thead>\n",
       "  <tbody>\n",
       "    <tr>\n",
       "      <th>0</th>\n",
       "      <td>732</td>\n",
       "      <td>813</td>\n",
       "      <td>Hematocrit</td>\n",
       "      <td>None</td>\n",
       "      <td>carevue</td>\n",
       "      <td>chartevents</td>\n",
       "      <td>Hematology</td>\n",
       "      <td>None</td>\n",
       "      <td>None</td>\n",
       "      <td>None</td>\n",
       "    </tr>\n",
       "    <tr>\n",
       "      <th>1</th>\n",
       "      <td>2878</td>\n",
       "      <td>3761</td>\n",
       "      <td>Hematocrit (35-51)</td>\n",
       "      <td>None</td>\n",
       "      <td>carevue</td>\n",
       "      <td>chartevents</td>\n",
       "      <td>ABG'S</td>\n",
       "      <td>None</td>\n",
       "      <td>None</td>\n",
       "      <td>None</td>\n",
       "    </tr>\n",
       "    <tr>\n",
       "      <th>2</th>\n",
       "      <td>14694</td>\n",
       "      <td>227017</td>\n",
       "      <td>Hematocrit_ApacheIV</td>\n",
       "      <td>Hematocrit_ApacheIV</td>\n",
       "      <td>metavision</td>\n",
       "      <td>chartevents</td>\n",
       "      <td>Scores - APACHE IV (2)</td>\n",
       "      <td>None</td>\n",
       "      <td>Numeric</td>\n",
       "      <td>None</td>\n",
       "    </tr>\n",
       "    <tr>\n",
       "      <th>3</th>\n",
       "      <td>12685</td>\n",
       "      <td>220545</td>\n",
       "      <td>Hematocrit (serum)</td>\n",
       "      <td>Hematocrit (serum)</td>\n",
       "      <td>metavision</td>\n",
       "      <td>chartevents</td>\n",
       "      <td>Labs</td>\n",
       "      <td>None</td>\n",
       "      <td>Numeric</td>\n",
       "      <td>None</td>\n",
       "    </tr>\n",
       "    <tr>\n",
       "      <th>4</th>\n",
       "      <td>14407</td>\n",
       "      <td>226540</td>\n",
       "      <td>Hematocrit (whole blood - calc)</td>\n",
       "      <td>Hematocrit (whole blood - calc)</td>\n",
       "      <td>metavision</td>\n",
       "      <td>chartevents</td>\n",
       "      <td>Labs</td>\n",
       "      <td>None</td>\n",
       "      <td>Numeric</td>\n",
       "      <td>None</td>\n",
       "    </tr>\n",
       "  </tbody>\n",
       "</table>\n",
       "</div>"
      ],
      "text/plain": [
       "   row_id  itemid                            label  \\\n",
       "0     732     813                       Hematocrit   \n",
       "1    2878    3761               Hematocrit (35-51)   \n",
       "2   14694  227017              Hematocrit_ApacheIV   \n",
       "3   12685  220545               Hematocrit (serum)   \n",
       "4   14407  226540  Hematocrit (whole blood - calc)   \n",
       "\n",
       "                      abbreviation    dbsource      linksto  \\\n",
       "0                             None     carevue  chartevents   \n",
       "1                             None     carevue  chartevents   \n",
       "2              Hematocrit_ApacheIV  metavision  chartevents   \n",
       "3               Hematocrit (serum)  metavision  chartevents   \n",
       "4  Hematocrit (whole blood - calc)  metavision  chartevents   \n",
       "\n",
       "                 category unitname param_type conceptid  \n",
       "0              Hematology     None       None      None  \n",
       "1                   ABG'S     None       None      None  \n",
       "2  Scores - APACHE IV (2)     None    Numeric      None  \n",
       "3                    Labs     None    Numeric      None  \n",
       "4                    Labs     None    Numeric      None  "
      ]
     },
     "execution_count": 18,
     "metadata": {},
     "output_type": "execute_result"
    }
   ],
   "source": [
    "query = \\\n",
    "\"\"\"\n",
    "SELECT * FROM d_items\n",
    "WHERE label ~* '.*hematocrit.*'; \n",
    "\"\"\"\n",
    "dil = pd.read_sql_query(query, con)\n",
    "dil.head()"
   ]
  },
  {
   "cell_type": "code",
   "execution_count": null,
   "metadata": {
    "collapsed": true
   },
   "outputs": [],
   "source": []
  }
 ],
 "metadata": {
  "anaconda-cloud": {},
  "kernelspec": {
   "display_name": "Python [default]",
   "language": "python",
   "name": "python3"
  },
  "language_info": {
   "codemirror_mode": {
    "name": "ipython",
    "version": 3
   },
   "file_extension": ".py",
   "mimetype": "text/x-python",
   "name": "python",
   "nbconvert_exporter": "python",
   "pygments_lexer": "ipython3",
   "version": "3.5.2"
  }
 },
 "nbformat": 4,
 "nbformat_minor": 1
}
