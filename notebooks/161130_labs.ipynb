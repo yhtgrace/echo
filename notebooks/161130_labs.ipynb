{
 "cells": [
  {
   "cell_type": "code",
   "execution_count": 1,
   "metadata": {
    "collapsed": true
   },
   "outputs": [],
   "source": [
    "import numpy as np\n",
    "import pandas as pd\n",
    "import psycopg2\n",
    "\n",
    "import matplotlib.pyplot as plt\n",
    "import seaborn as sns\n",
    "\n",
    "import matplotlib.style\n",
    "matplotlib.style.use('ggplot')\n",
    "%matplotlib inline"
   ]
  },
  {
   "cell_type": "code",
   "execution_count": 2,
   "metadata": {
    "collapsed": true
   },
   "outputs": [],
   "source": [
    "# create a database connection\n",
    "sqluser = 'mimic'\n",
    "dbname = 'mimic'\n",
    "schema_name = 'mimiciii'\n",
    "\n",
    "cur = None"
   ]
  },
  {
   "cell_type": "code",
   "execution_count": 13,
   "metadata": {
    "collapsed": true
   },
   "outputs": [],
   "source": [
    "if cur: \n",
    "    cur.close()\n",
    "    con.close()\n",
    "\n",
    "con = psycopg2.connect(dbname = dbname, user = sqluser)\n",
    "cur = con.cursor()\n",
    "cur.execute('SET search_path to ' + schema_name)"
   ]
  },
  {
   "cell_type": "code",
   "execution_count": 14,
   "metadata": {
    "collapsed": false
   },
   "outputs": [
    {
     "data": {
      "text/html": [
       "<div>\n",
       "<table border=\"1\" class=\"dataframe\">\n",
       "  <thead>\n",
       "    <tr style=\"text-align: right;\">\n",
       "      <th></th>\n",
       "      <th>row_id</th>\n",
       "      <th>icustay_id</th>\n",
       "      <th>hadm_id</th>\n",
       "      <th>subject_id</th>\n",
       "      <th>charttime</th>\n",
       "      <th>label</th>\n",
       "    </tr>\n",
       "  </thead>\n",
       "  <tbody>\n",
       "    <tr>\n",
       "      <th>0</th>\n",
       "      <td>67326</td>\n",
       "      <td>216859</td>\n",
       "      <td>111970</td>\n",
       "      <td>21</td>\n",
       "      <td>2135-02-03 05:04:00</td>\n",
       "      <td>White Blood Cells</td>\n",
       "    </tr>\n",
       "    <tr>\n",
       "      <th>1</th>\n",
       "      <td>67326</td>\n",
       "      <td>216859</td>\n",
       "      <td>111970</td>\n",
       "      <td>21</td>\n",
       "      <td>2135-02-03 05:13:00</td>\n",
       "      <td>Lactate</td>\n",
       "    </tr>\n",
       "    <tr>\n",
       "      <th>2</th>\n",
       "      <td>67326</td>\n",
       "      <td>216859</td>\n",
       "      <td>111970</td>\n",
       "      <td>21</td>\n",
       "      <td>2135-02-03 18:54:00</td>\n",
       "      <td>Lactate</td>\n",
       "    </tr>\n",
       "    <tr>\n",
       "      <th>3</th>\n",
       "      <td>67326</td>\n",
       "      <td>216859</td>\n",
       "      <td>111970</td>\n",
       "      <td>21</td>\n",
       "      <td>2135-02-03 18:54:00</td>\n",
       "      <td>pH</td>\n",
       "    </tr>\n",
       "    <tr>\n",
       "      <th>4</th>\n",
       "      <td>67326</td>\n",
       "      <td>216859</td>\n",
       "      <td>111970</td>\n",
       "      <td>21</td>\n",
       "      <td>2135-02-04 04:08:00</td>\n",
       "      <td>Albumin</td>\n",
       "    </tr>\n",
       "  </tbody>\n",
       "</table>\n",
       "</div>"
      ],
      "text/plain": [
       "   row_id  icustay_id  hadm_id  subject_id           charttime  \\\n",
       "0   67326      216859   111970          21 2135-02-03 05:04:00   \n",
       "1   67326      216859   111970          21 2135-02-03 05:13:00   \n",
       "2   67326      216859   111970          21 2135-02-03 18:54:00   \n",
       "3   67326      216859   111970          21 2135-02-03 18:54:00   \n",
       "4   67326      216859   111970          21 2135-02-04 04:08:00   \n",
       "\n",
       "               label  \n",
       "0  White Blood Cells  \n",
       "1            Lactate  \n",
       "2            Lactate  \n",
       "3                 pH  \n",
       "4            Albumin  "
      ]
     },
     "execution_count": 14,
     "metadata": {},
     "output_type": "execute_result"
    }
   ],
   "source": [
    "query = \\\n",
    "\"\"\"\n",
    "SELECT * FROM echo_features_labs; \n",
    "\"\"\"\n",
    "el = pd.read_sql_query(query, con)\n",
    "el.head()"
   ]
  },
  {
   "cell_type": "code",
   "execution_count": 15,
   "metadata": {
    "collapsed": false
   },
   "outputs": [
    {
     "data": {
      "text/plain": [
       "1931"
      ]
     },
     "execution_count": 15,
     "metadata": {},
     "output_type": "execute_result"
    }
   ],
   "source": [
    "len(el['hadm_id'].unique())"
   ]
  },
  {
   "cell_type": "markdown",
   "metadata": {},
   "source": [
    "Number of unique hospital admission IDs with at least 1 lab: "
   ]
  },
  {
   "cell_type": "code",
   "execution_count": 16,
   "metadata": {
    "collapsed": false
   },
   "outputs": [
    {
     "data": {
      "text/plain": [
       "label\n",
       "Albumin                          1146\n",
       "C-Reactive Protein                 81\n",
       "CK-MB Index                       139\n",
       "Creatine Kinase (CK)              759\n",
       "Creatine Kinase, MB Isoenzyme     655\n",
       "Creatinine                       1931\n",
       "Estimated GFR (MDRD equation)     737\n",
       "Hematocrit, Calculated           1580\n",
       "Hemoglobin                       1580\n",
       "Lactate                          1730\n",
       "NTproBNP                           70\n",
       "Sedimentation Rate                 79\n",
       "Troponin I                         25\n",
       "Troponin T                        544\n",
       "WBC Count                          18\n",
       "White Blood Cells                1930\n",
       "pH                               1874\n",
       "Name: hadm_id, dtype: int64"
      ]
     },
     "execution_count": 16,
     "metadata": {},
     "output_type": "execute_result"
    }
   ],
   "source": [
    "el[['label', 'hadm_id']].drop_duplicates().groupby('label')['hadm_id'].count()"
   ]
  },
  {
   "cell_type": "markdown",
   "metadata": {},
   "source": [
    "Look at the labs "
   ]
  },
  {
   "cell_type": "markdown",
   "metadata": {},
   "source": [
    "Search lab terms in d_items: "
   ]
  },
  {
   "cell_type": "code",
   "execution_count": null,
   "metadata": {
    "collapsed": true
   },
   "outputs": [],
   "source": []
  }
 ],
 "metadata": {
  "anaconda-cloud": {},
  "kernelspec": {
   "display_name": "Python [default]",
   "language": "python",
   "name": "python3"
  },
  "language_info": {
   "codemirror_mode": {
    "name": "ipython",
    "version": 3
   },
   "file_extension": ".py",
   "mimetype": "text/x-python",
   "name": "python",
   "nbconvert_exporter": "python",
   "pygments_lexer": "ipython3",
   "version": "3.5.2"
  }
 },
 "nbformat": 4,
 "nbformat_minor": 1
}
