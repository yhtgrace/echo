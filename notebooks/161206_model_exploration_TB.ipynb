{
 "cells": [
  {
   "cell_type": "code",
   "execution_count": 1,
   "metadata": {
    "collapsed": true
   },
   "outputs": [],
   "source": [
    "from __future__ import print_function\n",
    "import numpy as np\n",
    "import pandas as pd\n",
    "\n",
    "import psycopg2\n",
    "\n",
    "import matplotlib.pyplot as plt\n",
    "import seaborn as sns\n",
    "\n",
    "import matplotlib.style\n",
    "matplotlib.style.use('ggplot')\n",
    "%matplotlib inline\n",
    "from IPython.display import display"
   ]
  },
  {
   "cell_type": "code",
   "execution_count": 2,
   "metadata": {
    "collapsed": true
   },
   "outputs": [],
   "source": [
    "# create a database connection\n",
    "sqluser = 'mimic'\n",
    "dbname = 'mimic'\n",
    "schema_name = 'mimiciii'\n",
    "\n",
    "cur = None"
   ]
  },
  {
   "cell_type": "code",
   "execution_count": 3,
   "metadata": {
    "collapsed": true
   },
   "outputs": [],
   "source": [
    "if cur: \n",
    "    cur.close()\n",
    "    con.close()\n",
    "\n",
    "con = psycopg2.connect(dbname = dbname, user = sqluser, host='/var/run/postgresql')\n",
    "cur = con.cursor()\n",
    "cur.execute('SET search_path to ' + schema_name)"
   ]
  },
  {
   "cell_type": "code",
   "execution_count": 4,
   "metadata": {
    "collapsed": false
   },
   "outputs": [
    {
     "data": {
      "text/html": [
       "<div>\n",
       "<table border=\"1\" class=\"dataframe\">\n",
       "  <thead>\n",
       "    <tr style=\"text-align: right;\">\n",
       "      <th></th>\n",
       "      <th>row_id</th>\n",
       "      <th>icustay_id</th>\n",
       "      <th>hadm_id</th>\n",
       "      <th>subject_id</th>\n",
       "      <th>age_at_intime</th>\n",
       "      <th>gender</th>\n",
       "      <th>height</th>\n",
       "      <th>weight</th>\n",
       "      <th>bmi</th>\n",
       "      <th>ethnicity</th>\n",
       "      <th>...</th>\n",
       "      <th>mech_vent</th>\n",
       "      <th>fl_day1_input_ml</th>\n",
       "      <th>fl_day1_output_ml</th>\n",
       "      <th>fl_day1_balance_ml</th>\n",
       "      <th>fl_day2_input_ml</th>\n",
       "      <th>fl_day2_output_ml</th>\n",
       "      <th>fl_day2_balance_ml</th>\n",
       "      <th>fl_day3_input_ml</th>\n",
       "      <th>fl_day3_output_ml</th>\n",
       "      <th>fl_day3_balance_ml</th>\n",
       "    </tr>\n",
       "  </thead>\n",
       "  <tbody>\n",
       "    <tr>\n",
       "      <th>0</th>\n",
       "      <td>59654</td>\n",
       "      <td>245920</td>\n",
       "      <td>156140</td>\n",
       "      <td>70150</td>\n",
       "      <td>30260 days 15:18:03</td>\n",
       "      <td>M</td>\n",
       "      <td>66.0</td>\n",
       "      <td>263.0</td>\n",
       "      <td>42.444674</td>\n",
       "      <td>BLACK/AFRICAN AMERICAN</td>\n",
       "      <td>...</td>\n",
       "      <td>0</td>\n",
       "      <td>NaN</td>\n",
       "      <td>NaN</td>\n",
       "      <td>NaN</td>\n",
       "      <td>NaN</td>\n",
       "      <td>NaN</td>\n",
       "      <td>NaN</td>\n",
       "      <td>NaN</td>\n",
       "      <td>NaN</td>\n",
       "      <td>NaN</td>\n",
       "    </tr>\n",
       "    <tr>\n",
       "      <th>1</th>\n",
       "      <td>59659</td>\n",
       "      <td>217810</td>\n",
       "      <td>188268</td>\n",
       "      <td>82208</td>\n",
       "      <td>22331 days 14:54:57</td>\n",
       "      <td>F</td>\n",
       "      <td>59.0</td>\n",
       "      <td>136.0</td>\n",
       "      <td>27.465671</td>\n",
       "      <td>WHITE</td>\n",
       "      <td>...</td>\n",
       "      <td>1</td>\n",
       "      <td>2314.699969</td>\n",
       "      <td>17.0</td>\n",
       "      <td>2297.699969</td>\n",
       "      <td>250.000000</td>\n",
       "      <td>90.0</td>\n",
       "      <td>160.000000</td>\n",
       "      <td>NaN</td>\n",
       "      <td>NaN</td>\n",
       "      <td>NaN</td>\n",
       "    </tr>\n",
       "    <tr>\n",
       "      <th>2</th>\n",
       "      <td>59662</td>\n",
       "      <td>282885</td>\n",
       "      <td>100195</td>\n",
       "      <td>2489</td>\n",
       "      <td>24131 days 01:52:41</td>\n",
       "      <td>M</td>\n",
       "      <td>65.0</td>\n",
       "      <td>146.0</td>\n",
       "      <td>24.293018</td>\n",
       "      <td>UNKNOWN/NOT SPECIFIED</td>\n",
       "      <td>...</td>\n",
       "      <td>0</td>\n",
       "      <td>NaN</td>\n",
       "      <td>NaN</td>\n",
       "      <td>NaN</td>\n",
       "      <td>NaN</td>\n",
       "      <td>NaN</td>\n",
       "      <td>NaN</td>\n",
       "      <td>NaN</td>\n",
       "      <td>NaN</td>\n",
       "      <td>NaN</td>\n",
       "    </tr>\n",
       "    <tr>\n",
       "      <th>3</th>\n",
       "      <td>59671</td>\n",
       "      <td>271833</td>\n",
       "      <td>130443</td>\n",
       "      <td>2961</td>\n",
       "      <td>30992 days 18:16:15</td>\n",
       "      <td>F</td>\n",
       "      <td>61.0</td>\n",
       "      <td>106.0</td>\n",
       "      <td>20.026337</td>\n",
       "      <td>WHITE</td>\n",
       "      <td>...</td>\n",
       "      <td>0</td>\n",
       "      <td>NaN</td>\n",
       "      <td>NaN</td>\n",
       "      <td>NaN</td>\n",
       "      <td>NaN</td>\n",
       "      <td>NaN</td>\n",
       "      <td>NaN</td>\n",
       "      <td>NaN</td>\n",
       "      <td>NaN</td>\n",
       "      <td>NaN</td>\n",
       "    </tr>\n",
       "    <tr>\n",
       "      <th>4</th>\n",
       "      <td>59862</td>\n",
       "      <td>230661</td>\n",
       "      <td>116471</td>\n",
       "      <td>26601</td>\n",
       "      <td>-104003 days +15:46:42.290448</td>\n",
       "      <td>F</td>\n",
       "      <td>60.0</td>\n",
       "      <td>170.0</td>\n",
       "      <td>33.197222</td>\n",
       "      <td>WHITE</td>\n",
       "      <td>...</td>\n",
       "      <td>1</td>\n",
       "      <td>270.750000</td>\n",
       "      <td>363.0</td>\n",
       "      <td>-92.250000</td>\n",
       "      <td>75.583333</td>\n",
       "      <td>2890.0</td>\n",
       "      <td>-2814.416667</td>\n",
       "      <td>NaN</td>\n",
       "      <td>NaN</td>\n",
       "      <td>NaN</td>\n",
       "    </tr>\n",
       "  </tbody>\n",
       "</table>\n",
       "<p>5 rows × 126 columns</p>\n",
       "</div>"
      ],
      "text/plain": [
       "   row_id  icustay_id  hadm_id  subject_id                 age_at_intime  \\\n",
       "0   59654      245920   156140       70150           30260 days 15:18:03   \n",
       "1   59659      217810   188268       82208           22331 days 14:54:57   \n",
       "2   59662      282885   100195        2489           24131 days 01:52:41   \n",
       "3   59671      271833   130443        2961           30992 days 18:16:15   \n",
       "4   59862      230661   116471       26601 -104003 days +15:46:42.290448   \n",
       "\n",
       "  gender  height  weight        bmi               ethnicity  \\\n",
       "0      M    66.0   263.0  42.444674  BLACK/AFRICAN AMERICAN   \n",
       "1      F    59.0   136.0  27.465671                   WHITE   \n",
       "2      M    65.0   146.0  24.293018   UNKNOWN/NOT SPECIFIED   \n",
       "3      F    61.0   106.0  20.026337                   WHITE   \n",
       "4      F    60.0   170.0  33.197222                   WHITE   \n",
       "\n",
       "          ...         mech_vent  fl_day1_input_ml  fl_day1_output_ml  \\\n",
       "0         ...                 0               NaN                NaN   \n",
       "1         ...                 1       2314.699969               17.0   \n",
       "2         ...                 0               NaN                NaN   \n",
       "3         ...                 0               NaN                NaN   \n",
       "4         ...                 1        270.750000              363.0   \n",
       "\n",
       "   fl_day1_balance_ml  fl_day2_input_ml  fl_day2_output_ml  \\\n",
       "0                 NaN               NaN                NaN   \n",
       "1         2297.699969        250.000000               90.0   \n",
       "2                 NaN               NaN                NaN   \n",
       "3                 NaN               NaN                NaN   \n",
       "4          -92.250000         75.583333             2890.0   \n",
       "\n",
       "   fl_day2_balance_ml  fl_day3_input_ml  fl_day3_output_ml  fl_day3_balance_ml  \n",
       "0                 NaN               NaN                NaN                 NaN  \n",
       "1          160.000000               NaN                NaN                 NaN  \n",
       "2                 NaN               NaN                NaN                 NaN  \n",
       "3                 NaN               NaN                NaN                 NaN  \n",
       "4        -2814.416667               NaN                NaN                 NaN  \n",
       "\n",
       "[5 rows x 126 columns]"
      ]
     },
     "execution_count": 4,
     "metadata": {},
     "output_type": "execute_result"
    }
   ],
   "source": [
    "query = \"\"\"\n",
    "SELECT * FROM echo_features_mx\n",
    "\"\"\"\n",
    "ef = pd.read_sql_query(query, con)\n",
    "ef.head()"
   ]
  },
  {
   "cell_type": "code",
   "execution_count": 5,
   "metadata": {
    "collapsed": false,
    "scrolled": false
   },
   "outputs": [
    {
     "data": {
      "text/plain": [
       "['row_id',\n",
       " 'icustay_id',\n",
       " 'hadm_id',\n",
       " 'subject_id',\n",
       " 'age_at_intime',\n",
       " 'gender',\n",
       " 'height',\n",
       " 'weight',\n",
       " 'bmi',\n",
       " 'ethnicity',\n",
       " 'insurance',\n",
       " 'ex_congestive_heart_failure',\n",
       " 'ex_cardiac_aarrhythmias',\n",
       " 'ex_valvular_disease',\n",
       " 'ex_pulmonary_circulation',\n",
       " 'ex_peripheral_vascular',\n",
       " 'ex_hypertension',\n",
       " 'ex_paralysis',\n",
       " 'ex_other_neurological',\n",
       " 'ex_chronic_pulmonary',\n",
       " 'ex_diabetes_uncomplicated',\n",
       " 'ex_diabetes_complicated',\n",
       " 'ex_hypothyroidism',\n",
       " 'ex_renal_failure',\n",
       " 'ex_liver_disease',\n",
       " 'ex_peptic_ulcer',\n",
       " 'ex_aids',\n",
       " 'ex_lymphoma',\n",
       " 'ex_metastatic_cancer',\n",
       " 'ex_solid_tumor',\n",
       " 'ex_rheumatoid_arthritis',\n",
       " 'ex_coagulopathy',\n",
       " 'ex_obesity',\n",
       " 'ex_weight_loss',\n",
       " 'ex_fluid_electrolyte',\n",
       " 'ex_blood_loss_anemia',\n",
       " 'ex_deficiency_anemias',\n",
       " 'ex_alcohol_abuse',\n",
       " 'ex_drug_abuse',\n",
       " 'ex_psychoses',\n",
       " 'ex_depression',\n",
       " 'apsiii',\n",
       " 'apsiii_prob',\n",
       " 'apsiii_creatinine_score',\n",
       " 'admittime',\n",
       " 'dischtime',\n",
       " 'intime',\n",
       " 'outtime',\n",
       " 'dod',\n",
       " 'survived_icustay',\n",
       " 'survived_hadm',\n",
       " 'ed_chartdate',\n",
       " 'ed_charttime',\n",
       " 'ed_quality',\n",
       " 'ed_indication',\n",
       " 'ed_bsa',\n",
       " 'ed_bp',\n",
       " 'ed_bpsys',\n",
       " 'ed_bpdias',\n",
       " 'ed_hr',\n",
       " 'ed_test',\n",
       " 'ed_doppler',\n",
       " 'ed_contrast',\n",
       " 'ea_first_careunit',\n",
       " 'ea_age_of_death',\n",
       " 'ea_days_after_discharge_death',\n",
       " 'ea_status',\n",
       " 'ea_tv_pulm_htn',\n",
       " 'ea_tv_tr',\n",
       " 'ea_lv_cavity',\n",
       " 'ea_lv_diastolic',\n",
       " 'ea_lv_systolic',\n",
       " 'ea_lv_wall',\n",
       " 'ea_rv_cavity',\n",
       " 'ea_rv_diastolic_fluid',\n",
       " 'ea_rv_systolic',\n",
       " 'ea_rv_wall',\n",
       " 'lab_albumin_min',\n",
       " 'lab_albumin_max',\n",
       " 'lab_bicarbonate_min',\n",
       " 'lab_bicarbonate_max',\n",
       " 'lab_ckmb_min',\n",
       " 'lab_ckmb_max',\n",
       " 'lab_creatinine_min',\n",
       " 'lab_creatinine_max',\n",
       " 'lab_crp_min',\n",
       " 'lab_crp_max',\n",
       " 'lab_egfr_min',\n",
       " 'lab_egfr_max',\n",
       " 'lab_hematocrit_min',\n",
       " 'lab_hematocrit_max',\n",
       " 'lab_inr_min',\n",
       " 'lab_inr_max',\n",
       " 'lab_lactate_min',\n",
       " 'lab_lactate_max',\n",
       " 'lab_platelet_min',\n",
       " 'lab_platelet_max',\n",
       " 'lab_ntprobnp_min',\n",
       " 'lab_ntprobnp_max',\n",
       " 'lab_ph_min',\n",
       " 'lab_ph_max',\n",
       " 'lab_tropi_min',\n",
       " 'lab_tropi_max',\n",
       " 'lab_tropt_min',\n",
       " 'lab_tropt_max',\n",
       " 'lab_wbc_min',\n",
       " 'lab_wbc_max',\n",
       " 'ps_vaso',\n",
       " 'diag_xc',\n",
       " 'age_filter',\n",
       " 'intime_to_echo',\n",
       " 'time_filter',\n",
       " 'after_rowid',\n",
       " 'before_rowid',\n",
       " 'chronic_dialysis_flg',\n",
       " 'noninv_vent',\n",
       " 'mech_vent',\n",
       " 'fl_day1_input_ml',\n",
       " 'fl_day1_output_ml',\n",
       " 'fl_day1_balance_ml',\n",
       " 'fl_day2_input_ml',\n",
       " 'fl_day2_output_ml',\n",
       " 'fl_day2_balance_ml',\n",
       " 'fl_day3_input_ml',\n",
       " 'fl_day3_output_ml',\n",
       " 'fl_day3_balance_ml']"
      ]
     },
     "execution_count": 5,
     "metadata": {},
     "output_type": "execute_result"
    }
   ],
   "source": [
    "ef.columns.tolist()"
   ]
  },
  {
   "cell_type": "code",
   "execution_count": 38,
   "metadata": {
    "collapsed": false
   },
   "outputs": [],
   "source": [
    "## apply the data filters\n",
    "filt = ef.ps_vaso & (~ef.diag_xc | ef.ex_congestive_heart_failure)"
   ]
  },
  {
   "cell_type": "code",
   "execution_count": 39,
   "metadata": {
    "collapsed": true
   },
   "outputs": [],
   "source": [
    "ef = ef.loc[filt]"
   ]
  },
  {
   "cell_type": "code",
   "execution_count": 40,
   "metadata": {
    "collapsed": false
   },
   "outputs": [
    {
     "data": {
      "text/plain": [
       "5071"
      ]
     },
     "execution_count": 40,
     "metadata": {},
     "output_type": "execute_result"
    }
   ],
   "source": [
    "len(ef)"
   ]
  },
  {
   "cell_type": "code",
   "execution_count": 41,
   "metadata": {
    "collapsed": false
   },
   "outputs": [
    {
     "name": "stdout",
     "output_type": "stream",
     "text": [
      "-4.0 3219.0\n",
      "109\n",
      "850\n",
      "count    2319.000000\n",
      "mean      274.118586\n",
      "std       540.523299\n",
      "min        -4.000000\n",
      "25%         0.000000\n",
      "50%        12.000000\n",
      "75%       253.500000\n",
      "max      3219.000000\n",
      "dtype: float64\n"
     ]
    },
    {
     "data": {
      "image/png": "[encoded data removed]",
      "text/plain": [
       "<matplotlib.figure.Figure at 0x7fea58a041d0>"
      ]
     },
     "metadata": {},
     "output_type": "display_data"
    }
   ],
   "source": [
    "plot_data = ef.ea_days_after_discharge_death.values\n",
    "plot_data = plot_data[~np.isnan(plot_data)]\n",
    "plt.hist(plot_data, bins=20)\n",
    "print(plot_data.min(), plot_data.max())\n",
    "print(np.sum(plot_data < 0)) # only 324 out of 10k died before discharge???\n",
    "print(np.sum(plot_data == 0)) # 2512 died at 0 minutes after discharge???\n",
    "print(pd.Series(plot_data).describe())"
   ]
  },
  {
   "cell_type": "code",
   "execution_count": 42,
   "metadata": {
    "collapsed": true
   },
   "outputs": [],
   "source": [
    "day30_mortality = ef.ea_days_after_discharge_death <= 30"
   ]
  },
  {
   "cell_type": "code",
   "execution_count": 43,
   "metadata": {
    "collapsed": false
   },
   "outputs": [
    {
     "data": {
      "text/plain": [
       "False    3811\n",
       "True     1260\n",
       "Name: ea_days_after_discharge_death, dtype: int64"
      ]
     },
     "execution_count": 43,
     "metadata": {},
     "output_type": "execute_result"
    }
   ],
   "source": [
    "day30_mortality.value_counts()"
   ]
  },
  {
   "cell_type": "code",
   "execution_count": 44,
   "metadata": {
    "collapsed": true
   },
   "outputs": [],
   "source": [
    "ef['day30_mortality'] = day30_mortality"
   ]
  },
  {
   "cell_type": "code",
   "execution_count": 45,
   "metadata": {
    "collapsed": false
   },
   "outputs": [
    {
     "data": {
      "text/html": [
       "<div>\n",
       "<table border=\"1\" class=\"dataframe\">\n",
       "  <thead>\n",
       "    <tr style=\"text-align: right;\">\n",
       "      <th>mech_vent</th>\n",
       "      <th>0</th>\n",
       "      <th>1</th>\n",
       "    </tr>\n",
       "    <tr>\n",
       "      <th>day30_mortality</th>\n",
       "      <th></th>\n",
       "      <th></th>\n",
       "    </tr>\n",
       "  </thead>\n",
       "  <tbody>\n",
       "    <tr>\n",
       "      <th>False</th>\n",
       "      <td>2249</td>\n",
       "      <td>1562</td>\n",
       "    </tr>\n",
       "    <tr>\n",
       "      <th>True</th>\n",
       "      <td>403</td>\n",
       "      <td>857</td>\n",
       "    </tr>\n",
       "  </tbody>\n",
       "</table>\n",
       "</div>"
      ],
      "text/plain": [
       "mech_vent           0     1\n",
       "day30_mortality            \n",
       "False            2249  1562\n",
       "True              403   857"
      ]
     },
     "execution_count": 45,
     "metadata": {},
     "output_type": "execute_result"
    }
   ],
   "source": [
    "ef.groupby(['day30_mortality', 'mech_vent']).size().unstack()"
   ]
  },
  {
   "cell_type": "code",
   "execution_count": 46,
   "metadata": {
    "collapsed": false
   },
   "outputs": [
    {
     "data": {
      "text/html": [
       "<div>\n",
       "<table border=\"1\" class=\"dataframe\">\n",
       "  <thead>\n",
       "    <tr style=\"text-align: right;\">\n",
       "      <th>noninv_vent</th>\n",
       "      <th>0</th>\n",
       "      <th>1</th>\n",
       "    </tr>\n",
       "    <tr>\n",
       "      <th>day30_mortality</th>\n",
       "      <th></th>\n",
       "      <th></th>\n",
       "    </tr>\n",
       "  </thead>\n",
       "  <tbody>\n",
       "    <tr>\n",
       "      <th>False</th>\n",
       "      <td>446</td>\n",
       "      <td>3365</td>\n",
       "    </tr>\n",
       "    <tr>\n",
       "      <th>True</th>\n",
       "      <td>135</td>\n",
       "      <td>1125</td>\n",
       "    </tr>\n",
       "  </tbody>\n",
       "</table>\n",
       "</div>"
      ],
      "text/plain": [
       "noninv_vent        0     1\n",
       "day30_mortality           \n",
       "False            446  3365\n",
       "True             135  1125"
      ]
     },
     "execution_count": 46,
     "metadata": {},
     "output_type": "execute_result"
    }
   ],
   "source": [
    "ef.groupby(['day30_mortality', 'noninv_vent']).size().unstack()"
   ]
  },
  {
   "cell_type": "code",
   "execution_count": 47,
   "metadata": {
    "collapsed": false
   },
   "outputs": [
    {
     "name": "stdout",
     "output_type": "stream",
     "text": [
      "====-1\n",
      "Hyperdynamic LVEF >75%\n",
      "Hyperdynamic LVEF\n",
      "Left ventricular systolic function is hyperdynamic (EF>75%)\n",
      "Hyperdynamic left ventricular systolic function\n",
      "Hyperdynamic LVEF (>75%)\n",
      "====0\n",
      "Overall normal LVEF (>55%)\n",
      "Normal LV wall thickness, cavity size and regional/global systolic function (LVEF >55%)\n",
      "Low normal LVEF\n",
      "Normal LV wall thickness, cavity size, and systolic function (LVEF>55%)\n",
      "Mild symmetric LVH with normal cavity size and regional/global systolic function (LVEF>55%)\n",
      "Overall left ventricular systolic function is normal (LVEF>55%)\n",
      "Normal LV wall thickness, cavity size, and global systolic function (LVEF>55%)\n",
      "Left ventricular wall thickness, cavity size, and systolic function are normal (LVEF>55%)\n",
      "Mild symmetric LVH with normal cavity size and systolic function (LVEF>55%)\n",
      "Mild symmetric LVH with normal cavity size and global systolic function (LVEF>55%)\n",
      "Overall left ventricular systolic function is low normal (LVEF 50-55%)\n",
      "There is mild symmetric left ventricular hypertrophy with normal cavity size and systolic function (LVEF>55%)\n",
      "Normal LV wall thickness, cavity size and regional/global function (LVEF >55%)\n",
      "Normal LV wall thickness, cavity size, and global function (LVEF>55%)\n",
      "Left ventricular wall thickness, cavity size, and systolic function are normal\n",
      "There is mild symmetric left ventricular hypertrophy with normal cavity size and systolic function\n",
      "Low normal LVEF (50-55%)\n",
      "====1\n",
      "Mildly depressed LVEF\n",
      "Mild global LV hypokinesis\n",
      "Depressed LVEF\n",
      "Overall left ventricular systolic function is mildly depressed\n",
      "depressed LVEF\n",
      "Mildly depressed LVEF (40-55%)\n",
      "global LV hypokinesis\n",
      "LV systolic function appears depressed\n",
      "There is mild global left ventricular hypokinesis\n",
      "Intrinsic LV systolic function depressed given the severity of valvular regurgitation\n",
      "====2\n",
      "Moderately depressed LVEF\n",
      "Overall left ventricular systolic function is moderately depressed\n",
      "Moderate global LV hypokinesis\n",
      "There is moderate global left ventricular hypokinesis\n",
      "Mild-moderate global left ventricular hypokinesis\n",
      "Moderately depressed LVEF (30-39%)\n",
      "====3\n",
      "Severely depressed LVEF\n",
      "Severe global LV hypokinesis\n",
      "Overall left ventricular systolic function is severely depressed\n",
      "There is severe global left ventricular hypokinesis\n",
      "Moderate-severe global left ventricular hypokinesis\n",
      "Severely depressed LVEF (<30%)\n",
      "-severe global left ventricular hypokinesis"
     ]
    }
   ],
   "source": [
    "%%bash\n",
    "cat ../resources/lv_systolic.txt"
   ]
  },
  {
   "cell_type": "code",
   "execution_count": 48,
   "metadata": {
    "collapsed": false
   },
   "outputs": [
    {
     "data": {
      "text/html": [
       "<div>\n",
       "<table border=\"1\" class=\"dataframe\">\n",
       "  <thead>\n",
       "    <tr style=\"text-align: right;\">\n",
       "      <th>ea_lv_systolic</th>\n",
       "      <th>-50.0</th>\n",
       "      <th>-1.0</th>\n",
       "      <th>0.0</th>\n",
       "      <th>1.0</th>\n",
       "      <th>2.0</th>\n",
       "      <th>3.0</th>\n",
       "    </tr>\n",
       "    <tr>\n",
       "      <th>day30_mortality</th>\n",
       "      <th></th>\n",
       "      <th></th>\n",
       "      <th></th>\n",
       "      <th></th>\n",
       "      <th></th>\n",
       "      <th></th>\n",
       "    </tr>\n",
       "  </thead>\n",
       "  <tbody>\n",
       "    <tr>\n",
       "      <th>False</th>\n",
       "      <td>19</td>\n",
       "      <td>143</td>\n",
       "      <td>1984</td>\n",
       "      <td>318</td>\n",
       "      <td>151</td>\n",
       "      <td>209</td>\n",
       "    </tr>\n",
       "    <tr>\n",
       "      <th>True</th>\n",
       "      <td>15</td>\n",
       "      <td>109</td>\n",
       "      <td>546</td>\n",
       "      <td>114</td>\n",
       "      <td>73</td>\n",
       "      <td>192</td>\n",
       "    </tr>\n",
       "  </tbody>\n",
       "</table>\n",
       "</div>"
      ],
      "text/plain": [
       "ea_lv_systolic   -50.0  -1.0    0.0    1.0    2.0    3.0 \n",
       "day30_mortality                                          \n",
       "False               19    143   1984    318    151    209\n",
       "True                15    109    546    114     73    192"
      ]
     },
     "execution_count": 48,
     "metadata": {},
     "output_type": "execute_result"
    }
   ],
   "source": [
    "table = ef.groupby(['day30_mortality', 'ea_lv_systolic']).size().unstack()\n",
    "table"
   ]
  },
  {
   "cell_type": "code",
   "execution_count": 49,
   "metadata": {
    "collapsed": false
   },
   "outputs": [
    {
     "data": {
      "text/html": [
       "<div>\n",
       "<table border=\"1\" class=\"dataframe\">\n",
       "  <thead>\n",
       "    <tr style=\"text-align: right;\">\n",
       "      <th>ea_lv_systolic</th>\n",
       "      <th>-50.0</th>\n",
       "      <th>-1.0</th>\n",
       "      <th>0.0</th>\n",
       "      <th>1.0</th>\n",
       "      <th>2.0</th>\n",
       "      <th>3.0</th>\n",
       "    </tr>\n",
       "    <tr>\n",
       "      <th>day30_mortality</th>\n",
       "      <th></th>\n",
       "      <th></th>\n",
       "      <th></th>\n",
       "      <th></th>\n",
       "      <th></th>\n",
       "      <th></th>\n",
       "    </tr>\n",
       "  </thead>\n",
       "  <tbody>\n",
       "    <tr>\n",
       "      <th>False</th>\n",
       "      <td>0.558824</td>\n",
       "      <td>0.56746</td>\n",
       "      <td>0.78419</td>\n",
       "      <td>0.736111</td>\n",
       "      <td>0.674107</td>\n",
       "      <td>0.521197</td>\n",
       "    </tr>\n",
       "    <tr>\n",
       "      <th>True</th>\n",
       "      <td>0.441176</td>\n",
       "      <td>0.43254</td>\n",
       "      <td>0.21581</td>\n",
       "      <td>0.263889</td>\n",
       "      <td>0.325893</td>\n",
       "      <td>0.478803</td>\n",
       "    </tr>\n",
       "  </tbody>\n",
       "</table>\n",
       "</div>"
      ],
      "text/plain": [
       "ea_lv_systolic      -50.0    -1.0      0.0       1.0       2.0       3.0 \n",
       "day30_mortality                                                          \n",
       "False            0.558824  0.56746  0.78419  0.736111  0.674107  0.521197\n",
       "True             0.441176  0.43254  0.21581  0.263889  0.325893  0.478803"
      ]
     },
     "execution_count": 49,
     "metadata": {},
     "output_type": "execute_result"
    }
   ],
   "source": [
    "table = ef.groupby(['day30_mortality', 'ea_lv_systolic']).size().unstack()\n",
    "table /= table.sum(axis=0)\n",
    "table ## severely depressed and hyperdynamic have increased likelihood of death"
   ]
  },
  {
   "cell_type": "code",
   "execution_count": 51,
   "metadata": {
    "collapsed": false
   },
   "outputs": [
    {
     "data": {
      "text/html": [
       "<div>\n",
       "<table border=\"1\" class=\"dataframe\">\n",
       "  <thead>\n",
       "    <tr style=\"text-align: right;\">\n",
       "      <th>ex_congestive_heart_failure</th>\n",
       "      <th>0</th>\n",
       "      <th>1</th>\n",
       "    </tr>\n",
       "    <tr>\n",
       "      <th>day30_mortality</th>\n",
       "      <th></th>\n",
       "      <th></th>\n",
       "    </tr>\n",
       "  </thead>\n",
       "  <tbody>\n",
       "    <tr>\n",
       "      <th>False</th>\n",
       "      <td>2389</td>\n",
       "      <td>1422</td>\n",
       "    </tr>\n",
       "    <tr>\n",
       "      <th>True</th>\n",
       "      <td>360</td>\n",
       "      <td>900</td>\n",
       "    </tr>\n",
       "  </tbody>\n",
       "</table>\n",
       "</div>"
      ],
      "text/plain": [
       "ex_congestive_heart_failure     0     1\n",
       "day30_mortality                        \n",
       "False                        2389  1422\n",
       "True                          360   900"
      ]
     },
     "execution_count": 51,
     "metadata": {},
     "output_type": "execute_result"
    }
   ],
   "source": [
    "table = ef.groupby(['day30_mortality', 'ex_congestive_heart_failure']).size().unstack()\n",
    "table"
   ]
  },
  {
   "cell_type": "code",
   "execution_count": 50,
   "metadata": {
    "collapsed": false
   },
   "outputs": [
    {
     "data": {
      "text/html": [
       "<div>\n",
       "<table border=\"1\" class=\"dataframe\">\n",
       "  <thead>\n",
       "    <tr style=\"text-align: right;\">\n",
       "      <th>ex_congestive_heart_failure</th>\n",
       "      <th>0</th>\n",
       "      <th>1</th>\n",
       "    </tr>\n",
       "    <tr>\n",
       "      <th>day30_mortality</th>\n",
       "      <th></th>\n",
       "      <th></th>\n",
       "    </tr>\n",
       "  </thead>\n",
       "  <tbody>\n",
       "    <tr>\n",
       "      <th>False</th>\n",
       "      <td>0.869043</td>\n",
       "      <td>0.612403</td>\n",
       "    </tr>\n",
       "    <tr>\n",
       "      <th>True</th>\n",
       "      <td>0.130957</td>\n",
       "      <td>0.387597</td>\n",
       "    </tr>\n",
       "  </tbody>\n",
       "</table>\n",
       "</div>"
      ],
      "text/plain": [
       "ex_congestive_heart_failure         0         1\n",
       "day30_mortality                                \n",
       "False                        0.869043  0.612403\n",
       "True                         0.130957  0.387597"
      ]
     },
     "execution_count": 50,
     "metadata": {},
     "output_type": "execute_result"
    }
   ],
   "source": [
    "table = ef.groupby(['day30_mortality', 'ex_congestive_heart_failure']).size().unstack()\n",
    "table /= table.sum(axis=0)\n",
    "table"
   ]
  },
  {
   "cell_type": "code",
   "execution_count": 52,
   "metadata": {
    "collapsed": false
   },
   "outputs": [
    {
     "name": "stdout",
     "output_type": "stream",
     "text": [
      "Congestive heart failure = 0\n"
     ]
    },
    {
     "data": {
      "text/html": [
       "<div>\n",
       "<table border=\"1\" class=\"dataframe\">\n",
       "  <thead>\n",
       "    <tr style=\"text-align: right;\">\n",
       "      <th>ea_lv_systolic</th>\n",
       "      <th>-50.0</th>\n",
       "      <th>-1.0</th>\n",
       "      <th>0.0</th>\n",
       "      <th>1.0</th>\n",
       "      <th>2.0</th>\n",
       "      <th>3.0</th>\n",
       "    </tr>\n",
       "    <tr>\n",
       "      <th>day30_mortality</th>\n",
       "      <th></th>\n",
       "      <th></th>\n",
       "      <th></th>\n",
       "      <th></th>\n",
       "      <th></th>\n",
       "      <th></th>\n",
       "    </tr>\n",
       "  </thead>\n",
       "  <tbody>\n",
       "    <tr>\n",
       "      <th>False</th>\n",
       "      <td>10</td>\n",
       "      <td>84</td>\n",
       "      <td>1500</td>\n",
       "      <td>208</td>\n",
       "      <td>60</td>\n",
       "      <td>13</td>\n",
       "    </tr>\n",
       "    <tr>\n",
       "      <th>True</th>\n",
       "      <td>6</td>\n",
       "      <td>59</td>\n",
       "      <td>209</td>\n",
       "      <td>27</td>\n",
       "      <td>10</td>\n",
       "      <td>8</td>\n",
       "    </tr>\n",
       "  </tbody>\n",
       "</table>\n",
       "</div>"
      ],
      "text/plain": [
       "ea_lv_systolic   -50.0  -1.0    0.0    1.0    2.0    3.0 \n",
       "day30_mortality                                          \n",
       "False               10     84   1500    208     60     13\n",
       "True                 6     59    209     27     10      8"
      ]
     },
     "metadata": {},
     "output_type": "display_data"
    },
    {
     "name": "stdout",
     "output_type": "stream",
     "text": [
      "Congestive heart failure = 1\n"
     ]
    },
    {
     "data": {
      "text/html": [
       "<div>\n",
       "<table border=\"1\" class=\"dataframe\">\n",
       "  <thead>\n",
       "    <tr style=\"text-align: right;\">\n",
       "      <th>ea_lv_systolic</th>\n",
       "      <th>-50.0</th>\n",
       "      <th>-1.0</th>\n",
       "      <th>0.0</th>\n",
       "      <th>1.0</th>\n",
       "      <th>2.0</th>\n",
       "      <th>3.0</th>\n",
       "    </tr>\n",
       "    <tr>\n",
       "      <th>day30_mortality</th>\n",
       "      <th></th>\n",
       "      <th></th>\n",
       "      <th></th>\n",
       "      <th></th>\n",
       "      <th></th>\n",
       "      <th></th>\n",
       "    </tr>\n",
       "  </thead>\n",
       "  <tbody>\n",
       "    <tr>\n",
       "      <th>False</th>\n",
       "      <td>9</td>\n",
       "      <td>59</td>\n",
       "      <td>484</td>\n",
       "      <td>110</td>\n",
       "      <td>91</td>\n",
       "      <td>196</td>\n",
       "    </tr>\n",
       "    <tr>\n",
       "      <th>True</th>\n",
       "      <td>9</td>\n",
       "      <td>50</td>\n",
       "      <td>337</td>\n",
       "      <td>87</td>\n",
       "      <td>63</td>\n",
       "      <td>184</td>\n",
       "    </tr>\n",
       "  </tbody>\n",
       "</table>\n",
       "</div>"
      ],
      "text/plain": [
       "ea_lv_systolic   -50.0  -1.0    0.0    1.0    2.0    3.0 \n",
       "day30_mortality                                          \n",
       "False                9     59    484    110     91    196\n",
       "True                 9     50    337     87     63    184"
      ]
     },
     "metadata": {},
     "output_type": "display_data"
    }
   ],
   "source": [
    "for name,group in ef.groupby('ex_congestive_heart_failure'):\n",
    "    table = group.groupby(['day30_mortality', 'ea_lv_systolic']).size().unstack()\n",
    "    #table /= table.sum(axis=0)\n",
    "    print('Congestive heart failure =', name)\n",
    "    display(table)"
   ]
  },
  {
   "cell_type": "code",
   "execution_count": 53,
   "metadata": {
    "collapsed": false
   },
   "outputs": [
    {
     "name": "stdout",
     "output_type": "stream",
     "text": [
      "Congestive heart failure = 0\n"
     ]
    },
    {
     "data": {
      "text/html": [
       "<div>\n",
       "<table border=\"1\" class=\"dataframe\">\n",
       "  <thead>\n",
       "    <tr style=\"text-align: right;\">\n",
       "      <th>ea_lv_systolic</th>\n",
       "      <th>-50.0</th>\n",
       "      <th>-1.0</th>\n",
       "      <th>0.0</th>\n",
       "      <th>1.0</th>\n",
       "      <th>2.0</th>\n",
       "      <th>3.0</th>\n",
       "    </tr>\n",
       "    <tr>\n",
       "      <th>day30_mortality</th>\n",
       "      <th></th>\n",
       "      <th></th>\n",
       "      <th></th>\n",
       "      <th></th>\n",
       "      <th></th>\n",
       "      <th></th>\n",
       "    </tr>\n",
       "  </thead>\n",
       "  <tbody>\n",
       "    <tr>\n",
       "      <th>False</th>\n",
       "      <td>0.625</td>\n",
       "      <td>0.587413</td>\n",
       "      <td>0.877706</td>\n",
       "      <td>0.885106</td>\n",
       "      <td>0.857143</td>\n",
       "      <td>0.619048</td>\n",
       "    </tr>\n",
       "    <tr>\n",
       "      <th>True</th>\n",
       "      <td>0.375</td>\n",
       "      <td>0.412587</td>\n",
       "      <td>0.122294</td>\n",
       "      <td>0.114894</td>\n",
       "      <td>0.142857</td>\n",
       "      <td>0.380952</td>\n",
       "    </tr>\n",
       "  </tbody>\n",
       "</table>\n",
       "</div>"
      ],
      "text/plain": [
       "ea_lv_systolic   -50.0     -1.0       0.0       1.0       2.0       3.0 \n",
       "day30_mortality                                                         \n",
       "False            0.625  0.587413  0.877706  0.885106  0.857143  0.619048\n",
       "True             0.375  0.412587  0.122294  0.114894  0.142857  0.380952"
      ]
     },
     "metadata": {},
     "output_type": "display_data"
    },
    {
     "name": "stdout",
     "output_type": "stream",
     "text": [
      "Congestive heart failure = 1\n"
     ]
    },
    {
     "data": {
      "text/html": [
       "<div>\n",
       "<table border=\"1\" class=\"dataframe\">\n",
       "  <thead>\n",
       "    <tr style=\"text-align: right;\">\n",
       "      <th>ea_lv_systolic</th>\n",
       "      <th>-50.0</th>\n",
       "      <th>-1.0</th>\n",
       "      <th>0.0</th>\n",
       "      <th>1.0</th>\n",
       "      <th>2.0</th>\n",
       "      <th>3.0</th>\n",
       "    </tr>\n",
       "    <tr>\n",
       "      <th>day30_mortality</th>\n",
       "      <th></th>\n",
       "      <th></th>\n",
       "      <th></th>\n",
       "      <th></th>\n",
       "      <th></th>\n",
       "      <th></th>\n",
       "    </tr>\n",
       "  </thead>\n",
       "  <tbody>\n",
       "    <tr>\n",
       "      <th>False</th>\n",
       "      <td>0.5</td>\n",
       "      <td>0.541284</td>\n",
       "      <td>0.589525</td>\n",
       "      <td>0.558376</td>\n",
       "      <td>0.590909</td>\n",
       "      <td>0.515789</td>\n",
       "    </tr>\n",
       "    <tr>\n",
       "      <th>True</th>\n",
       "      <td>0.5</td>\n",
       "      <td>0.458716</td>\n",
       "      <td>0.410475</td>\n",
       "      <td>0.441624</td>\n",
       "      <td>0.409091</td>\n",
       "      <td>0.484211</td>\n",
       "    </tr>\n",
       "  </tbody>\n",
       "</table>\n",
       "</div>"
      ],
      "text/plain": [
       "ea_lv_systolic   -50.0     -1.0       0.0       1.0       2.0       3.0 \n",
       "day30_mortality                                                         \n",
       "False              0.5  0.541284  0.589525  0.558376  0.590909  0.515789\n",
       "True               0.5  0.458716  0.410475  0.441624  0.409091  0.484211"
      ]
     },
     "metadata": {},
     "output_type": "display_data"
    }
   ],
   "source": [
    "for name,group in ef.groupby('ex_congestive_heart_failure'):\n",
    "    table = group.groupby(['day30_mortality', 'ea_lv_systolic']).size().unstack()\n",
    "    table /= table.sum(axis=0)\n",
    "    print('Congestive heart failure =', name)\n",
    "    display(table)"
   ]
  },
  {
   "cell_type": "code",
   "execution_count": 54,
   "metadata": {
    "collapsed": false
   },
   "outputs": [
    {
     "name": "stdout",
     "output_type": "stream",
     "text": [
      "count     4314.000000\n",
      "mean      -585.328699\n",
      "std       2343.195018\n",
      "min     -52699.250000\n",
      "25%      -1796.816303\n",
      "50%       -790.100001\n",
      "75%        335.375095\n",
      "max      19110.315069\n",
      "dtype: float64\n"
     ]
    },
    {
     "data": {
      "image/png": "[encoded data removed]",
      "text/plain": [
       "<matplotlib.figure.Figure at 0x7fea5c3e5590>"
      ]
     },
     "metadata": {},
     "output_type": "display_data"
    }
   ],
   "source": [
    "plot_data = ef.fl_day1_balance_ml.values\n",
    "plot_data = plot_data[~np.isnan(plot_data)]\n",
    "print(pd.Series(plot_data).describe())\n",
    "#someone lost 137 litres ?!?!?!?!?\n",
    "#someone was given 27 litres?\n",
    "_ = plt.hist(plot_data, bins=20)"
   ]
  },
  {
   "cell_type": "code",
   "execution_count": 55,
   "metadata": {
    "collapsed": false
   },
   "outputs": [
    {
     "name": "stdout",
     "output_type": "stream",
     "text": [
      "count    4285.000000\n",
      "mean     -595.338284\n",
      "std      2003.154984\n",
      "min     -6779.166667\n",
      "25%     -1791.975000\n",
      "50%      -794.000000\n",
      "75%       312.137500\n",
      "max      7847.873574\n",
      "dtype: float64\n"
     ]
    },
    {
     "data": {
      "image/png": "[encoded data removed]",
      "text/plain": [
       "<matplotlib.figure.Figure at 0x7fea5c98b890>"
      ]
     },
     "metadata": {},
     "output_type": "display_data"
    }
   ],
   "source": [
    "plot_data = ef.fl_day1_balance_ml.values.copy()\n",
    "plot_data[plot_data < -7000] = np.nan\n",
    "# should also remove upper bound on fluid, 8 litres max\n",
    "plot_data[plot_data > 8000] = np.nan\n",
    "plot_data = plot_data[~np.isnan(plot_data)]\n",
    "print(pd.Series(plot_data).describe())\n",
    "_ = plt.hist(plot_data)"
   ]
  },
  {
   "cell_type": "code",
   "execution_count": 56,
   "metadata": {
    "collapsed": false
   },
   "outputs": [
    {
     "data": {
      "text/plain": [
       " 0.0     2530\n",
       " 1.0      432\n",
       " 3.0      401\n",
       "-1.0      252\n",
       " 2.0      224\n",
       "-50.0      34\n",
       "Name: ea_lv_systolic, dtype: int64"
      ]
     },
     "metadata": {},
     "output_type": "display_data"
    },
    {
     "data": {
      "text/plain": [
       "<matplotlib.legend.Legend at 0x7fea61901dd0>"
      ]
     },
     "execution_count": 56,
     "metadata": {},
     "output_type": "execute_result"
    },
    {
     "data": {
      "image/png": "[encoded data removed]",
      "text/plain": [
       "<matplotlib.figure.Figure at 0x7fea60fe9350>"
      ]
     },
     "metadata": {},
     "output_type": "display_data"
    }
   ],
   "source": [
    "## if we group by echo lv systolic, what do the fluid distributions look like?\n",
    "display(ef.ea_lv_systolic.value_counts())\n",
    "for name,group in ef.groupby('ea_lv_systolic'):\n",
    "    fluid = group.fl_day1_balance_ml.values.copy()\n",
    "    fluid[fluid < -7000] = np.nan\n",
    "    fluid[fluid > 8000] = np.nan\n",
    "    fluid = fluid[~np.isnan(fluid)]\n",
    "    plt.hist(fluid, alpha=0.5, label=str(name), normed=True, bins=20)\n",
    "plt.legend(loc='best')"
   ]
  },
  {
   "cell_type": "code",
   "execution_count": 57,
   "metadata": {
    "collapsed": false
   },
   "outputs": [
    {
     "data": {
      "text/html": [
       "<div>\n",
       "<table border=\"1\" class=\"dataframe\">\n",
       "  <thead>\n",
       "    <tr style=\"text-align: right;\">\n",
       "      <th></th>\n",
       "      <th>row_id</th>\n",
       "      <th>icustay_id</th>\n",
       "      <th>hadm_id</th>\n",
       "      <th>subject_id</th>\n",
       "      <th>height</th>\n",
       "      <th>weight</th>\n",
       "      <th>bmi</th>\n",
       "      <th>ex_congestive_heart_failure</th>\n",
       "      <th>ex_cardiac_aarrhythmias</th>\n",
       "      <th>ex_valvular_disease</th>\n",
       "      <th>...</th>\n",
       "      <th>fl_day1_input_ml</th>\n",
       "      <th>fl_day1_output_ml</th>\n",
       "      <th>fl_day1_balance_ml</th>\n",
       "      <th>fl_day2_input_ml</th>\n",
       "      <th>fl_day2_output_ml</th>\n",
       "      <th>fl_day2_balance_ml</th>\n",
       "      <th>fl_day3_input_ml</th>\n",
       "      <th>fl_day3_output_ml</th>\n",
       "      <th>fl_day3_balance_ml</th>\n",
       "      <th>day30_mortality</th>\n",
       "    </tr>\n",
       "    <tr>\n",
       "      <th>ea_lv_systolic</th>\n",
       "      <th></th>\n",
       "      <th></th>\n",
       "      <th></th>\n",
       "      <th></th>\n",
       "      <th></th>\n",
       "      <th></th>\n",
       "      <th></th>\n",
       "      <th></th>\n",
       "      <th></th>\n",
       "      <th></th>\n",
       "      <th></th>\n",
       "      <th></th>\n",
       "      <th></th>\n",
       "      <th></th>\n",
       "      <th></th>\n",
       "      <th></th>\n",
       "      <th></th>\n",
       "      <th></th>\n",
       "      <th></th>\n",
       "      <th></th>\n",
       "      <th></th>\n",
       "    </tr>\n",
       "  </thead>\n",
       "  <tbody>\n",
       "    <tr>\n",
       "      <th>-50.0</th>\n",
       "      <td>79482.147059</td>\n",
       "      <td>246891.117647</td>\n",
       "      <td>146635.470588</td>\n",
       "      <td>24705.323529</td>\n",
       "      <td>66.478261</td>\n",
       "      <td>190.925926</td>\n",
       "      <td>30.352684</td>\n",
       "      <td>0.529412</td>\n",
       "      <td>0.411765</td>\n",
       "      <td>0.147059</td>\n",
       "      <td>...</td>\n",
       "      <td>965.949233</td>\n",
       "      <td>2151.000000</td>\n",
       "      <td>-1185.050767</td>\n",
       "      <td>775.660887</td>\n",
       "      <td>1887.958333</td>\n",
       "      <td>-1112.297446</td>\n",
       "      <td>963.296032</td>\n",
       "      <td>1972.545455</td>\n",
       "      <td>-1009.249423</td>\n",
       "      <td>0.441176</td>\n",
       "    </tr>\n",
       "    <tr>\n",
       "      <th>-1.0</th>\n",
       "      <td>84806.269841</td>\n",
       "      <td>252601.123016</td>\n",
       "      <td>151661.734127</td>\n",
       "      <td>41994.682540</td>\n",
       "      <td>66.194175</td>\n",
       "      <td>184.995633</td>\n",
       "      <td>29.176638</td>\n",
       "      <td>0.432540</td>\n",
       "      <td>0.289683</td>\n",
       "      <td>0.083333</td>\n",
       "      <td>...</td>\n",
       "      <td>2020.487659</td>\n",
       "      <td>2013.900433</td>\n",
       "      <td>6.587226</td>\n",
       "      <td>1451.620694</td>\n",
       "      <td>2219.778894</td>\n",
       "      <td>-768.158200</td>\n",
       "      <td>1444.254074</td>\n",
       "      <td>2345.887640</td>\n",
       "      <td>-901.633566</td>\n",
       "      <td>0.432540</td>\n",
       "    </tr>\n",
       "    <tr>\n",
       "      <th>0.0</th>\n",
       "      <td>83664.030830</td>\n",
       "      <td>250328.995257</td>\n",
       "      <td>149987.989328</td>\n",
       "      <td>41648.521344</td>\n",
       "      <td>66.591446</td>\n",
       "      <td>188.312565</td>\n",
       "      <td>29.669839</td>\n",
       "      <td>0.324506</td>\n",
       "      <td>0.248221</td>\n",
       "      <td>0.081028</td>\n",
       "      <td>...</td>\n",
       "      <td>1399.898419</td>\n",
       "      <td>2092.309892</td>\n",
       "      <td>-692.411472</td>\n",
       "      <td>1198.686863</td>\n",
       "      <td>2297.582158</td>\n",
       "      <td>-1098.895295</td>\n",
       "      <td>1150.159493</td>\n",
       "      <td>2397.396084</td>\n",
       "      <td>-1247.236591</td>\n",
       "      <td>0.215810</td>\n",
       "    </tr>\n",
       "    <tr>\n",
       "      <th>1.0</th>\n",
       "      <td>83425.127315</td>\n",
       "      <td>249026.020833</td>\n",
       "      <td>149586.423611</td>\n",
       "      <td>38395.120370</td>\n",
       "      <td>66.625874</td>\n",
       "      <td>187.396774</td>\n",
       "      <td>29.835414</td>\n",
       "      <td>0.456019</td>\n",
       "      <td>0.310185</td>\n",
       "      <td>0.111111</td>\n",
       "      <td>...</td>\n",
       "      <td>1271.545273</td>\n",
       "      <td>2162.168831</td>\n",
       "      <td>-890.623559</td>\n",
       "      <td>922.895154</td>\n",
       "      <td>2166.800813</td>\n",
       "      <td>-1243.905660</td>\n",
       "      <td>794.678202</td>\n",
       "      <td>2275.930108</td>\n",
       "      <td>-1481.251906</td>\n",
       "      <td>0.263889</td>\n",
       "    </tr>\n",
       "    <tr>\n",
       "      <th>2.0</th>\n",
       "      <td>83534.732143</td>\n",
       "      <td>251930.334821</td>\n",
       "      <td>150933.741071</td>\n",
       "      <td>34203.196429</td>\n",
       "      <td>66.844311</td>\n",
       "      <td>180.929348</td>\n",
       "      <td>28.333614</td>\n",
       "      <td>0.687500</td>\n",
       "      <td>0.379464</td>\n",
       "      <td>0.241071</td>\n",
       "      <td>...</td>\n",
       "      <td>1565.250051</td>\n",
       "      <td>2070.372973</td>\n",
       "      <td>-505.122922</td>\n",
       "      <td>1215.632718</td>\n",
       "      <td>2109.164384</td>\n",
       "      <td>-893.531665</td>\n",
       "      <td>1138.993856</td>\n",
       "      <td>2268.515200</td>\n",
       "      <td>-1129.521344</td>\n",
       "      <td>0.325893</td>\n",
       "    </tr>\n",
       "    <tr>\n",
       "      <th>3.0</th>\n",
       "      <td>81433.493766</td>\n",
       "      <td>250287.468828</td>\n",
       "      <td>151353.740648</td>\n",
       "      <td>33354.708229</td>\n",
       "      <td>67.104294</td>\n",
       "      <td>184.666667</td>\n",
       "      <td>29.058179</td>\n",
       "      <td>0.947631</td>\n",
       "      <td>0.536160</td>\n",
       "      <td>0.221945</td>\n",
       "      <td>...</td>\n",
       "      <td>1745.766169</td>\n",
       "      <td>1793.905970</td>\n",
       "      <td>-48.139801</td>\n",
       "      <td>1297.631416</td>\n",
       "      <td>2067.384106</td>\n",
       "      <td>-769.752690</td>\n",
       "      <td>1089.459455</td>\n",
       "      <td>2429.361624</td>\n",
       "      <td>-1339.902169</td>\n",
       "      <td>0.478803</td>\n",
       "    </tr>\n",
       "  </tbody>\n",
       "</table>\n",
       "<p>6 rows × 102 columns</p>\n",
       "</div>"
      ],
      "text/plain": [
       "                      row_id     icustay_id        hadm_id    subject_id  \\\n",
       "ea_lv_systolic                                                             \n",
       "-50.0           79482.147059  246891.117647  146635.470588  24705.323529   \n",
       "-1.0            84806.269841  252601.123016  151661.734127  41994.682540   \n",
       " 0.0            83664.030830  250328.995257  149987.989328  41648.521344   \n",
       " 1.0            83425.127315  249026.020833  149586.423611  38395.120370   \n",
       " 2.0            83534.732143  251930.334821  150933.741071  34203.196429   \n",
       " 3.0            81433.493766  250287.468828  151353.740648  33354.708229   \n",
       "\n",
       "                   height      weight        bmi  ex_congestive_heart_failure  \\\n",
       "ea_lv_systolic                                                                  \n",
       "-50.0           66.478261  190.925926  30.352684                     0.529412   \n",
       "-1.0            66.194175  184.995633  29.176638                     0.432540   \n",
       " 0.0            66.591446  188.312565  29.669839                     0.324506   \n",
       " 1.0            66.625874  187.396774  29.835414                     0.456019   \n",
       " 2.0            66.844311  180.929348  28.333614                     0.687500   \n",
       " 3.0            67.104294  184.666667  29.058179                     0.947631   \n",
       "\n",
       "                ex_cardiac_aarrhythmias  ex_valvular_disease       ...         \\\n",
       "ea_lv_systolic                                                     ...          \n",
       "-50.0                          0.411765             0.147059       ...          \n",
       "-1.0                           0.289683             0.083333       ...          \n",
       " 0.0                           0.248221             0.081028       ...          \n",
       " 1.0                           0.310185             0.111111       ...          \n",
       " 2.0                           0.379464             0.241071       ...          \n",
       " 3.0                           0.536160             0.221945       ...          \n",
       "\n",
       "                fl_day1_input_ml  fl_day1_output_ml  fl_day1_balance_ml  \\\n",
       "ea_lv_systolic                                                            \n",
       "-50.0                 965.949233        2151.000000        -1185.050767   \n",
       "-1.0                 2020.487659        2013.900433            6.587226   \n",
       " 0.0                 1399.898419        2092.309892         -692.411472   \n",
       " 1.0                 1271.545273        2162.168831         -890.623559   \n",
       " 2.0                 1565.250051        2070.372973         -505.122922   \n",
       " 3.0                 1745.766169        1793.905970          -48.139801   \n",
       "\n",
       "                fl_day2_input_ml  fl_day2_output_ml  fl_day2_balance_ml  \\\n",
       "ea_lv_systolic                                                            \n",
       "-50.0                 775.660887        1887.958333        -1112.297446   \n",
       "-1.0                 1451.620694        2219.778894         -768.158200   \n",
       " 0.0                 1198.686863        2297.582158        -1098.895295   \n",
       " 1.0                  922.895154        2166.800813        -1243.905660   \n",
       " 2.0                 1215.632718        2109.164384         -893.531665   \n",
       " 3.0                 1297.631416        2067.384106         -769.752690   \n",
       "\n",
       "                fl_day3_input_ml  fl_day3_output_ml  fl_day3_balance_ml  \\\n",
       "ea_lv_systolic                                                            \n",
       "-50.0                 963.296032        1972.545455        -1009.249423   \n",
       "-1.0                 1444.254074        2345.887640         -901.633566   \n",
       " 0.0                 1150.159493        2397.396084        -1247.236591   \n",
       " 1.0                  794.678202        2275.930108        -1481.251906   \n",
       " 2.0                 1138.993856        2268.515200        -1129.521344   \n",
       " 3.0                 1089.459455        2429.361624        -1339.902169   \n",
       "\n",
       "                day30_mortality  \n",
       "ea_lv_systolic                   \n",
       "-50.0                  0.441176  \n",
       "-1.0                   0.432540  \n",
       " 0.0                   0.215810  \n",
       " 1.0                   0.263889  \n",
       " 2.0                   0.325893  \n",
       " 3.0                   0.478803  \n",
       "\n",
       "[6 rows x 102 columns]"
      ]
     },
     "metadata": {},
     "output_type": "display_data"
    },
    {
     "data": {
      "text/html": [
       "<div>\n",
       "<table border=\"1\" class=\"dataframe\">\n",
       "  <thead>\n",
       "    <tr style=\"text-align: right;\">\n",
       "      <th></th>\n",
       "      <th>row_id</th>\n",
       "      <th>icustay_id</th>\n",
       "      <th>hadm_id</th>\n",
       "      <th>subject_id</th>\n",
       "      <th>height</th>\n",
       "      <th>weight</th>\n",
       "      <th>bmi</th>\n",
       "      <th>ex_congestive_heart_failure</th>\n",
       "      <th>ex_cardiac_aarrhythmias</th>\n",
       "      <th>ex_valvular_disease</th>\n",
       "      <th>...</th>\n",
       "      <th>fl_day1_input_ml</th>\n",
       "      <th>fl_day1_output_ml</th>\n",
       "      <th>fl_day1_balance_ml</th>\n",
       "      <th>fl_day2_input_ml</th>\n",
       "      <th>fl_day2_output_ml</th>\n",
       "      <th>fl_day2_balance_ml</th>\n",
       "      <th>fl_day3_input_ml</th>\n",
       "      <th>fl_day3_output_ml</th>\n",
       "      <th>fl_day3_balance_ml</th>\n",
       "      <th>day30_mortality</th>\n",
       "    </tr>\n",
       "    <tr>\n",
       "      <th>ea_lv_systolic</th>\n",
       "      <th></th>\n",
       "      <th></th>\n",
       "      <th></th>\n",
       "      <th></th>\n",
       "      <th></th>\n",
       "      <th></th>\n",
       "      <th></th>\n",
       "      <th></th>\n",
       "      <th></th>\n",
       "      <th></th>\n",
       "      <th></th>\n",
       "      <th></th>\n",
       "      <th></th>\n",
       "      <th></th>\n",
       "      <th></th>\n",
       "      <th></th>\n",
       "      <th></th>\n",
       "      <th></th>\n",
       "      <th></th>\n",
       "      <th></th>\n",
       "      <th></th>\n",
       "    </tr>\n",
       "  </thead>\n",
       "  <tbody>\n",
       "    <tr>\n",
       "      <th>-50.0</th>\n",
       "      <td>10477.262334</td>\n",
       "      <td>27329.672850</td>\n",
       "      <td>31794.786707</td>\n",
       "      <td>24017.969192</td>\n",
       "      <td>3.043168</td>\n",
       "      <td>57.281979</td>\n",
       "      <td>8.551084</td>\n",
       "      <td>0.506640</td>\n",
       "      <td>0.499554</td>\n",
       "      <td>0.359491</td>\n",
       "      <td>...</td>\n",
       "      <td>1255.208241</td>\n",
       "      <td>1304.074333</td>\n",
       "      <td>1912.848508</td>\n",
       "      <td>741.813166</td>\n",
       "      <td>1082.184485</td>\n",
       "      <td>1373.909411</td>\n",
       "      <td>1226.186658</td>\n",
       "      <td>1056.312982</td>\n",
       "      <td>1873.154420</td>\n",
       "      <td>0.503995</td>\n",
       "    </tr>\n",
       "    <tr>\n",
       "      <th>-1.0</th>\n",
       "      <td>12140.705066</td>\n",
       "      <td>27759.401812</td>\n",
       "      <td>28724.614627</td>\n",
       "      <td>30731.324135</td>\n",
       "      <td>4.591739</td>\n",
       "      <td>57.753674</td>\n",
       "      <td>8.320793</td>\n",
       "      <td>0.496414</td>\n",
       "      <td>0.454518</td>\n",
       "      <td>0.276935</td>\n",
       "      <td>...</td>\n",
       "      <td>1959.201779</td>\n",
       "      <td>1548.181748</td>\n",
       "      <td>2492.017847</td>\n",
       "      <td>1357.134663</td>\n",
       "      <td>1595.459321</td>\n",
       "      <td>2103.956619</td>\n",
       "      <td>1573.809054</td>\n",
       "      <td>1641.935033</td>\n",
       "      <td>2233.309936</td>\n",
       "      <td>0.496414</td>\n",
       "    </tr>\n",
       "    <tr>\n",
       "      <th>0.0</th>\n",
       "      <td>12430.420593</td>\n",
       "      <td>28585.087906</td>\n",
       "      <td>29090.489329</td>\n",
       "      <td>29059.301074</td>\n",
       "      <td>4.372788</td>\n",
       "      <td>61.823497</td>\n",
       "      <td>8.885234</td>\n",
       "      <td>0.468283</td>\n",
       "      <td>0.432066</td>\n",
       "      <td>0.272932</td>\n",
       "      <td>...</td>\n",
       "      <td>1658.657305</td>\n",
       "      <td>1353.970789</td>\n",
       "      <td>2041.580707</td>\n",
       "      <td>1293.470998</td>\n",
       "      <td>1768.130834</td>\n",
       "      <td>2175.653456</td>\n",
       "      <td>1304.263745</td>\n",
       "      <td>1648.016282</td>\n",
       "      <td>2096.267528</td>\n",
       "      <td>0.411465</td>\n",
       "    </tr>\n",
       "    <tr>\n",
       "      <th>1.0</th>\n",
       "      <td>12717.419067</td>\n",
       "      <td>28909.106290</td>\n",
       "      <td>29332.111522</td>\n",
       "      <td>28580.897759</td>\n",
       "      <td>4.228130</td>\n",
       "      <td>56.851256</td>\n",
       "      <td>9.177863</td>\n",
       "      <td>0.498639</td>\n",
       "      <td>0.463106</td>\n",
       "      <td>0.314634</td>\n",
       "      <td>...</td>\n",
       "      <td>1769.995448</td>\n",
       "      <td>2915.279805</td>\n",
       "      <td>3365.389077</td>\n",
       "      <td>1162.479443</td>\n",
       "      <td>1826.813989</td>\n",
       "      <td>2221.374511</td>\n",
       "      <td>904.832508</td>\n",
       "      <td>1546.274774</td>\n",
       "      <td>1867.771497</td>\n",
       "      <td>0.441251</td>\n",
       "    </tr>\n",
       "    <tr>\n",
       "      <th>2.0</th>\n",
       "      <td>12745.331174</td>\n",
       "      <td>28949.556814</td>\n",
       "      <td>28740.421824</td>\n",
       "      <td>28596.915656</td>\n",
       "      <td>3.883819</td>\n",
       "      <td>60.428166</td>\n",
       "      <td>8.964148</td>\n",
       "      <td>0.464551</td>\n",
       "      <td>0.486340</td>\n",
       "      <td>0.428692</td>\n",
       "      <td>...</td>\n",
       "      <td>1866.442937</td>\n",
       "      <td>1595.503494</td>\n",
       "      <td>2305.963713</td>\n",
       "      <td>1290.793768</td>\n",
       "      <td>1490.215027</td>\n",
       "      <td>1897.939955</td>\n",
       "      <td>1183.590336</td>\n",
       "      <td>1529.354394</td>\n",
       "      <td>1992.605557</td>\n",
       "      <td>0.469757</td>\n",
       "    </tr>\n",
       "    <tr>\n",
       "      <th>3.0</th>\n",
       "      <td>12970.772161</td>\n",
       "      <td>29682.033017</td>\n",
       "      <td>28639.414115</td>\n",
       "      <td>27611.142201</td>\n",
       "      <td>4.840360</td>\n",
       "      <td>60.408094</td>\n",
       "      <td>9.901460</td>\n",
       "      <td>0.223048</td>\n",
       "      <td>0.499314</td>\n",
       "      <td>0.416074</td>\n",
       "      <td>...</td>\n",
       "      <td>2228.855947</td>\n",
       "      <td>1424.292279</td>\n",
       "      <td>2686.785891</td>\n",
       "      <td>1497.221383</td>\n",
       "      <td>1756.876318</td>\n",
       "      <td>2411.119588</td>\n",
       "      <td>1187.306430</td>\n",
       "      <td>1707.767968</td>\n",
       "      <td>2192.377198</td>\n",
       "      <td>0.500175</td>\n",
       "    </tr>\n",
       "  </tbody>\n",
       "</table>\n",
       "<p>6 rows × 102 columns</p>\n",
       "</div>"
      ],
      "text/plain": [
       "                      row_id    icustay_id       hadm_id    subject_id  \\\n",
       "ea_lv_systolic                                                           \n",
       "-50.0           10477.262334  27329.672850  31794.786707  24017.969192   \n",
       "-1.0            12140.705066  27759.401812  28724.614627  30731.324135   \n",
       " 0.0            12430.420593  28585.087906  29090.489329  29059.301074   \n",
       " 1.0            12717.419067  28909.106290  29332.111522  28580.897759   \n",
       " 2.0            12745.331174  28949.556814  28740.421824  28596.915656   \n",
       " 3.0            12970.772161  29682.033017  28639.414115  27611.142201   \n",
       "\n",
       "                  height     weight       bmi  ex_congestive_heart_failure  \\\n",
       "ea_lv_systolic                                                               \n",
       "-50.0           3.043168  57.281979  8.551084                     0.506640   \n",
       "-1.0            4.591739  57.753674  8.320793                     0.496414   \n",
       " 0.0            4.372788  61.823497  8.885234                     0.468283   \n",
       " 1.0            4.228130  56.851256  9.177863                     0.498639   \n",
       " 2.0            3.883819  60.428166  8.964148                     0.464551   \n",
       " 3.0            4.840360  60.408094  9.901460                     0.223048   \n",
       "\n",
       "                ex_cardiac_aarrhythmias  ex_valvular_disease       ...         \\\n",
       "ea_lv_systolic                                                     ...          \n",
       "-50.0                          0.499554             0.359491       ...          \n",
       "-1.0                           0.454518             0.276935       ...          \n",
       " 0.0                           0.432066             0.272932       ...          \n",
       " 1.0                           0.463106             0.314634       ...          \n",
       " 2.0                           0.486340             0.428692       ...          \n",
       " 3.0                           0.499314             0.416074       ...          \n",
       "\n",
       "                fl_day1_input_ml  fl_day1_output_ml  fl_day1_balance_ml  \\\n",
       "ea_lv_systolic                                                            \n",
       "-50.0                1255.208241        1304.074333         1912.848508   \n",
       "-1.0                 1959.201779        1548.181748         2492.017847   \n",
       " 0.0                 1658.657305        1353.970789         2041.580707   \n",
       " 1.0                 1769.995448        2915.279805         3365.389077   \n",
       " 2.0                 1866.442937        1595.503494         2305.963713   \n",
       " 3.0                 2228.855947        1424.292279         2686.785891   \n",
       "\n",
       "                fl_day2_input_ml  fl_day2_output_ml  fl_day2_balance_ml  \\\n",
       "ea_lv_systolic                                                            \n",
       "-50.0                 741.813166        1082.184485         1373.909411   \n",
       "-1.0                 1357.134663        1595.459321         2103.956619   \n",
       " 0.0                 1293.470998        1768.130834         2175.653456   \n",
       " 1.0                 1162.479443        1826.813989         2221.374511   \n",
       " 2.0                 1290.793768        1490.215027         1897.939955   \n",
       " 3.0                 1497.221383        1756.876318         2411.119588   \n",
       "\n",
       "                fl_day3_input_ml  fl_day3_output_ml  fl_day3_balance_ml  \\\n",
       "ea_lv_systolic                                                            \n",
       "-50.0                1226.186658        1056.312982         1873.154420   \n",
       "-1.0                 1573.809054        1641.935033         2233.309936   \n",
       " 0.0                 1304.263745        1648.016282         2096.267528   \n",
       " 1.0                  904.832508        1546.274774         1867.771497   \n",
       " 2.0                 1183.590336        1529.354394         1992.605557   \n",
       " 3.0                 1187.306430        1707.767968         2192.377198   \n",
       "\n",
       "                day30_mortality  \n",
       "ea_lv_systolic                   \n",
       "-50.0                  0.503995  \n",
       "-1.0                   0.496414  \n",
       " 0.0                   0.411465  \n",
       " 1.0                   0.441251  \n",
       " 2.0                   0.469757  \n",
       " 3.0                   0.500175  \n",
       "\n",
       "[6 rows x 102 columns]"
      ]
     },
     "metadata": {},
     "output_type": "display_data"
    }
   ],
   "source": [
    "means = ef.groupby('ea_lv_systolic').mean()\n",
    "stddevs = ef.groupby('ea_lv_systolic').std()\n",
    "display(means)\n",
    "display(stddevs)"
   ]
  },
  {
   "cell_type": "code",
   "execution_count": 58,
   "metadata": {
    "collapsed": false
   },
   "outputs": [
    {
     "data": {
      "text/plain": [
       "<matplotlib.axes._subplots.AxesSubplot at 0x7fea5f607b10>"
      ]
     },
     "execution_count": 58,
     "metadata": {},
     "output_type": "execute_result"
    },
    {
     "data": {
      "image/png": "[encoded data removed]",
      "text/plain": [
       "<matplotlib.figure.Figure at 0x7fea5ca405d0>"
      ]
     },
     "metadata": {},
     "output_type": "display_data"
    }
   ],
   "source": [
    "sns.barplot(x='ea_lv_systolic', y='fl_day1_balance_ml', data=ef)"
   ]
  },
  {
   "cell_type": "code",
   "execution_count": 59,
   "metadata": {
    "collapsed": false
   },
   "outputs": [
    {
     "data": {
      "text/plain": [
       "<matplotlib.axes._subplots.AxesSubplot at 0x7fea589c5710>"
      ]
     },
     "execution_count": 59,
     "metadata": {},
     "output_type": "execute_result"
    },
    {
     "data": {
      "image/png": "[encoded data removed]",
      "text/plain": [
       "<matplotlib.figure.Figure at 0x7fea5ca40750>"
      ]
     },
     "metadata": {},
     "output_type": "display_data"
    }
   ],
   "source": [
    "sns.barplot(x='ea_lv_systolic', y='fl_day2_balance_ml', data=ef)"
   ]
  },
  {
   "cell_type": "code",
   "execution_count": 60,
   "metadata": {
    "collapsed": false
   },
   "outputs": [
    {
     "data": {
      "text/plain": [
       "<matplotlib.axes._subplots.AxesSubplot at 0x7fea5c44fad0>"
      ]
     },
     "execution_count": 60,
     "metadata": {},
     "output_type": "execute_result"
    },
    {
     "data": {
      "image/png": "[encoded data removed]",
      "text/plain": [
       "<matplotlib.figure.Figure at 0x7fea5c40cc50>"
      ]
     },
     "metadata": {},
     "output_type": "display_data"
    }
   ],
   "source": [
    "sns.barplot(x='ea_lv_systolic', y='fl_day3_balance_ml', data=ef)"
   ]
  },
  {
   "cell_type": "code",
   "execution_count": 61,
   "metadata": {
    "collapsed": false
   },
   "outputs": [
    {
     "name": "stdout",
     "output_type": "stream",
     "text": [
      "Congestive heart failure = 0\n"
     ]
    },
    {
     "data": {
      "image/png": "[encoded data removed]",
      "text/plain": [
       "<matplotlib.figure.Figure at 0x7fea5f0787d0>"
      ]
     },
     "metadata": {},
     "output_type": "display_data"
    },
    {
     "name": "stdout",
     "output_type": "stream",
     "text": [
      "Congestive heart failure = 1\n"
     ]
    },
    {
     "data": {
      "image/png": "[encoded data removed]",
      "text/plain": [
       "<matplotlib.figure.Figure at 0x7fea588ed510>"
      ]
     },
     "metadata": {},
     "output_type": "display_data"
    },
    {
     "data": {
      "image/png": "[encoded data removed]",
      "text/plain": [
       "<matplotlib.figure.Figure at 0x7fea5f0787d0>"
      ]
     },
     "metadata": {},
     "output_type": "display_data"
    },
    {
     "data": {
      "image/png": "[encoded data removed]",
      "text/plain": [
       "<matplotlib.figure.Figure at 0x7fea588ed510>"
      ]
     },
     "metadata": {},
     "output_type": "display_data"
    }
   ],
   "source": [
    "for name,group in ef.groupby('ex_congestive_heart_failure'):\n",
    "    print('Congestive heart failure =', name)\n",
    "    f = plt.figure()\n",
    "    sns.barplot(x='ea_lv_systolic', y='fl_day1_balance_ml', data=group)\n",
    "    display(f)\n",
    "pass"
   ]
  },
  {
   "cell_type": "code",
   "execution_count": 62,
   "metadata": {
    "collapsed": false,
    "scrolled": false
   },
   "outputs": [
    {
     "name": "stdout",
     "output_type": "stream",
     "text": [
      "Congestive heart failure = (0, -50.0)\n",
      "AUC: 0.666666666667 , correlation: 0.37151970339\n",
      "Congestive heart failure = (0, -1.0)\n",
      "AUC: 0.591071428571 , correlation: 0.145191826609\n",
      "Congestive heart failure = (0, 0.0)\n",
      "AUC: 0.662494750987 , correlation: 0.195815863377\n",
      "Congestive heart failure = (0, 1.0)\n",
      "AUC: 0.691093017518 , correlation: 0.152609513333\n",
      "Congestive heart failure = (0, 2.0)\n",
      "AUC: 0.773291925466 , correlation: 0.362060467399\n",
      "Congestive heart failure = (0, 3.0)\n",
      "AUC: 0.402777777778 , correlation: -0.162768929263\n",
      "Congestive heart failure = (1, -50.0)\n",
      "AUC: 0.571428571429 , correlation: 0.113626125333\n",
      "Congestive heart failure = (1, -1.0)\n",
      "AUC: 0.54269005848 , correlation: 0.0414310483921\n",
      "Congestive heart failure = (1, 0.0)\n",
      "AUC: 0.642515962572 , correlation: 0.207464399102\n",
      "Congestive heart failure = (1, 1.0)\n",
      "AUC: 0.65 , correlation: 0.172298516622\n",
      "Congestive heart failure = (1, 2.0)\n",
      "AUC: 0.609268292683 , correlation: 0.181950971939\n",
      "Congestive heart failure = (1, 3.0)\n",
      "AUC: 0.67673516712 , correlation: 0.279912582027\n"
     ]
    },
    {
     "data": {
      "image/png": "[encoded data removed]",
      "text/plain": [
       "<matplotlib.figure.Figure at 0x7fea5f6d23d0>"
      ]
     },
     "metadata": {},
     "output_type": "display_data"
    },
    {
     "data": {
      "image/png": "[encoded data removed]",
      "text/plain": [
       "<matplotlib.figure.Figure at 0x7fea5f0ee1d0>"
      ]
     },
     "metadata": {},
     "output_type": "display_data"
    },
    {
     "data": {
      "image/png": "[encoded data removed]",
      "text/plain": [
       "<matplotlib.figure.Figure at 0x7fea5ca16f50>"
      ]
     },
     "metadata": {},
     "output_type": "display_data"
    },
    {
     "data": {
      "image/png": "[encoded data removed]",
      "text/plain": [
       "<matplotlib.figure.Figure at 0x7fea5f0d0110>"
      ]
     },
     "metadata": {},
     "output_type": "display_data"
    },
    {
     "data": {
      "image/png": "[encoded data removed]",
      "text/plain": [
       "<matplotlib.figure.Figure at 0x7fea5ca43b90>"
      ]
     },
     "metadata": {},
     "output_type": "display_data"
    },
    {
     "data": {
      "image/png": "[encoded data removed]",
      "text/plain": [
       "<matplotlib.figure.Figure at 0x7fea5cda2710>"
      ]
     },
     "metadata": {},
     "output_type": "display_data"
    },
    {
     "data": {
      "image/png": "[encoded data removed]",
      "text/plain": [
       "<matplotlib.figure.Figure at 0x7fea5cda2650>"
      ]
     },
     "metadata": {},
     "output_type": "display_data"
    },
    {
     "data": {
      "image/png": "[encoded data removed]",
      "text/plain": [
       "<matplotlib.figure.Figure at 0x7fea5cd23a50>"
      ]
     },
     "metadata": {},
     "output_type": "display_data"
    },
    {
     "data": {
      "image/png": "[encoded data removed]",
      "text/plain": [
       "<matplotlib.figure.Figure at 0x7fea5883c210>"
      ]
     },
     "metadata": {},
     "output_type": "display_data"
    },
    {
     "data": {
      "image/png": "[encoded data removed]",
      "text/plain": [
       "<matplotlib.figure.Figure at 0x7fea587e21d0>"
      ]
     },
     "metadata": {},
     "output_type": "display_data"
    },
    {
     "data": {
      "image/png": "[encoded data removed]",
      "text/plain": [
       "<matplotlib.figure.Figure at 0x7fea58b27f90>"
      ]
     },
     "metadata": {},
     "output_type": "display_data"
    },
    {
     "data": {
      "image/png": "[encoded data removed]",
      "text/plain": [
       "<matplotlib.figure.Figure at 0x7fea5bde0f10>"
      ]
     },
     "metadata": {},
     "output_type": "display_data"
    }
   ],
   "source": [
    "from sklearn.metrics import roc_curve, auc\n",
    "## hypothesis: people with fluid do better in -1 than 3\n",
    "for name,group in ef.groupby(['ex_congestive_heart_failure', 'ea_lv_systolic']):\n",
    "    print('Congestive heart failure =', name)\n",
    "    y_true = group.day30_mortality.values.copy()\n",
    "    y_pred = group.fl_day1_balance_ml.values.copy()\n",
    "    I = ~np.isnan(y_true) & ~np.isnan(y_pred)\n",
    "    y_true = y_true[I]\n",
    "    y_pred = y_pred[I]\n",
    "    fpr, tpr, _ = roc_curve(y_true[...,np.newaxis], y_pred[...,np.newaxis])\n",
    "    v = auc(fpr, tpr)\n",
    "    c = np.corrcoef(y_pred, y_true)[0,1]\n",
    "    print('AUC:', v, ', correlation:', c)\n",
    "    f = plt.figure()\n",
    "    plt.plot(fpr, tpr)"
   ]
  },
  {
   "cell_type": "code",
   "execution_count": null,
   "metadata": {
    "collapsed": true
   },
   "outputs": [],
   "source": []
  }
 ],
 "metadata": {
  "anaconda-cloud": {},
  "kernelspec": {
   "display_name": "Python [conda env:mimiciii]",
   "language": "python",
   "name": "conda-env-mimiciii-py"
  },
  "language_info": {
   "codemirror_mode": {
    "name": "ipython",
    "version": 2
   },
   "file_extension": ".py",
   "mimetype": "text/x-python",
   "name": "python",
   "nbconvert_exporter": "python",
   "pygments_lexer": "ipython2",
   "version": "2.7.12"
  }
 },
 "nbformat": 4,
 "nbformat_minor": 1
}
