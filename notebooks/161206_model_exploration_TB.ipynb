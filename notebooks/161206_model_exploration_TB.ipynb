{
 "cells": [
  {
   "cell_type": "code",
   "execution_count": 41,
   "metadata": {
    "collapsed": true
   },
   "outputs": [],
   "source": [
    "from __future__ import print_function\n",
    "import numpy as np\n",
    "import pandas as pd\n",
    "\n",
    "import psycopg2\n",
    "\n",
    "import matplotlib.pyplot as plt\n",
    "import seaborn as sns\n",
    "\n",
    "import matplotlib.style\n",
    "matplotlib.style.use('ggplot')\n",
    "%matplotlib inline\n",
    "from IPython.display import display"
   ]
  },
  {
   "cell_type": "code",
   "execution_count": 3,
   "metadata": {
    "collapsed": true
   },
   "outputs": [],
   "source": [
    "# create a database connection\n",
    "sqluser = 'mimic'\n",
    "dbname = 'mimic'\n",
    "schema_name = 'mimiciii'\n",
    "\n",
    "cur = None"
   ]
  },
  {
   "cell_type": "code",
   "execution_count": 4,
   "metadata": {
    "collapsed": true
   },
   "outputs": [],
   "source": [
    "if cur: \n",
    "    cur.close()\n",
    "    con.close()\n",
    "\n",
    "con = psycopg2.connect(dbname = dbname, user = sqluser, host='/var/run/postgresql')\n",
    "cur = con.cursor()\n",
    "cur.execute('SET search_path to ' + schema_name)"
   ]
  },
  {
   "cell_type": "code",
   "execution_count": 56,
   "metadata": {
    "collapsed": false
   },
   "outputs": [
    {
     "data": {
      "text/html": [
       "<div>\n",
       "<table border=\"1\" class=\"dataframe\">\n",
       "  <thead>\n",
       "    <tr style=\"text-align: right;\">\n",
       "      <th></th>\n",
       "      <th>row_id</th>\n",
       "      <th>icustay_id</th>\n",
       "      <th>hadm_id</th>\n",
       "      <th>subject_id</th>\n",
       "      <th>age_at_intime</th>\n",
       "      <th>gender</th>\n",
       "      <th>height</th>\n",
       "      <th>weight</th>\n",
       "      <th>bmi</th>\n",
       "      <th>ethnicity</th>\n",
       "      <th>...</th>\n",
       "      <th>mech_vent</th>\n",
       "      <th>fl_day1_input_ml</th>\n",
       "      <th>fl_day1_output_ml</th>\n",
       "      <th>fl_day1_balance_ml</th>\n",
       "      <th>fl_day2_input_ml</th>\n",
       "      <th>fl_day2_output_ml</th>\n",
       "      <th>fl_day2_balance_ml</th>\n",
       "      <th>fl_day3_input_ml</th>\n",
       "      <th>fl_day3_output_ml</th>\n",
       "      <th>fl_day3_balance_ml</th>\n",
       "    </tr>\n",
       "  </thead>\n",
       "  <tbody>\n",
       "    <tr>\n",
       "      <th>0</th>\n",
       "      <td>59654</td>\n",
       "      <td>245920</td>\n",
       "      <td>156140</td>\n",
       "      <td>70150</td>\n",
       "      <td>30260 days 15:18:03</td>\n",
       "      <td>M</td>\n",
       "      <td>66.0</td>\n",
       "      <td>263.0</td>\n",
       "      <td>42.444674</td>\n",
       "      <td>BLACK/AFRICAN AMERICAN</td>\n",
       "      <td>...</td>\n",
       "      <td>0</td>\n",
       "      <td>NaN</td>\n",
       "      <td>NaN</td>\n",
       "      <td>NaN</td>\n",
       "      <td>NaN</td>\n",
       "      <td>NaN</td>\n",
       "      <td>NaN</td>\n",
       "      <td>NaN</td>\n",
       "      <td>NaN</td>\n",
       "      <td>NaN</td>\n",
       "    </tr>\n",
       "    <tr>\n",
       "      <th>1</th>\n",
       "      <td>59659</td>\n",
       "      <td>217810</td>\n",
       "      <td>188268</td>\n",
       "      <td>82208</td>\n",
       "      <td>22331 days 14:54:57</td>\n",
       "      <td>F</td>\n",
       "      <td>59.0</td>\n",
       "      <td>136.0</td>\n",
       "      <td>27.465671</td>\n",
       "      <td>WHITE</td>\n",
       "      <td>...</td>\n",
       "      <td>1</td>\n",
       "      <td>2314.699969</td>\n",
       "      <td>17.0</td>\n",
       "      <td>2297.699969</td>\n",
       "      <td>250.000000</td>\n",
       "      <td>90.0</td>\n",
       "      <td>160.000000</td>\n",
       "      <td>NaN</td>\n",
       "      <td>NaN</td>\n",
       "      <td>NaN</td>\n",
       "    </tr>\n",
       "    <tr>\n",
       "      <th>2</th>\n",
       "      <td>59662</td>\n",
       "      <td>282885</td>\n",
       "      <td>100195</td>\n",
       "      <td>2489</td>\n",
       "      <td>24131 days 01:52:41</td>\n",
       "      <td>M</td>\n",
       "      <td>65.0</td>\n",
       "      <td>146.0</td>\n",
       "      <td>24.293018</td>\n",
       "      <td>UNKNOWN/NOT SPECIFIED</td>\n",
       "      <td>...</td>\n",
       "      <td>0</td>\n",
       "      <td>NaN</td>\n",
       "      <td>NaN</td>\n",
       "      <td>NaN</td>\n",
       "      <td>NaN</td>\n",
       "      <td>NaN</td>\n",
       "      <td>NaN</td>\n",
       "      <td>NaN</td>\n",
       "      <td>NaN</td>\n",
       "      <td>NaN</td>\n",
       "    </tr>\n",
       "    <tr>\n",
       "      <th>3</th>\n",
       "      <td>59671</td>\n",
       "      <td>271833</td>\n",
       "      <td>130443</td>\n",
       "      <td>2961</td>\n",
       "      <td>30992 days 18:16:15</td>\n",
       "      <td>F</td>\n",
       "      <td>61.0</td>\n",
       "      <td>106.0</td>\n",
       "      <td>20.026337</td>\n",
       "      <td>WHITE</td>\n",
       "      <td>...</td>\n",
       "      <td>0</td>\n",
       "      <td>NaN</td>\n",
       "      <td>NaN</td>\n",
       "      <td>NaN</td>\n",
       "      <td>NaN</td>\n",
       "      <td>NaN</td>\n",
       "      <td>NaN</td>\n",
       "      <td>NaN</td>\n",
       "      <td>NaN</td>\n",
       "      <td>NaN</td>\n",
       "    </tr>\n",
       "    <tr>\n",
       "      <th>4</th>\n",
       "      <td>59862</td>\n",
       "      <td>230661</td>\n",
       "      <td>116471</td>\n",
       "      <td>26601</td>\n",
       "      <td>-104003 days +15:46:42.290448</td>\n",
       "      <td>F</td>\n",
       "      <td>60.0</td>\n",
       "      <td>170.0</td>\n",
       "      <td>33.197222</td>\n",
       "      <td>WHITE</td>\n",
       "      <td>...</td>\n",
       "      <td>1</td>\n",
       "      <td>270.750000</td>\n",
       "      <td>363.0</td>\n",
       "      <td>-92.250000</td>\n",
       "      <td>75.583333</td>\n",
       "      <td>2890.0</td>\n",
       "      <td>-2814.416667</td>\n",
       "      <td>NaN</td>\n",
       "      <td>NaN</td>\n",
       "      <td>NaN</td>\n",
       "    </tr>\n",
       "  </tbody>\n",
       "</table>\n",
       "<p>5 rows × 126 columns</p>\n",
       "</div>"
      ],
      "text/plain": [
       "   row_id  icustay_id  hadm_id  subject_id                 age_at_intime  \\\n",
       "0   59654      245920   156140       70150           30260 days 15:18:03   \n",
       "1   59659      217810   188268       82208           22331 days 14:54:57   \n",
       "2   59662      282885   100195        2489           24131 days 01:52:41   \n",
       "3   59671      271833   130443        2961           30992 days 18:16:15   \n",
       "4   59862      230661   116471       26601 -104003 days +15:46:42.290448   \n",
       "\n",
       "  gender  height  weight        bmi               ethnicity  \\\n",
       "0      M    66.0   263.0  42.444674  BLACK/AFRICAN AMERICAN   \n",
       "1      F    59.0   136.0  27.465671                   WHITE   \n",
       "2      M    65.0   146.0  24.293018   UNKNOWN/NOT SPECIFIED   \n",
       "3      F    61.0   106.0  20.026337                   WHITE   \n",
       "4      F    60.0   170.0  33.197222                   WHITE   \n",
       "\n",
       "          ...         mech_vent  fl_day1_input_ml  fl_day1_output_ml  \\\n",
       "0         ...                 0               NaN                NaN   \n",
       "1         ...                 1       2314.699969               17.0   \n",
       "2         ...                 0               NaN                NaN   \n",
       "3         ...                 0               NaN                NaN   \n",
       "4         ...                 1        270.750000              363.0   \n",
       "\n",
       "   fl_day1_balance_ml  fl_day2_input_ml  fl_day2_output_ml  \\\n",
       "0                 NaN               NaN                NaN   \n",
       "1         2297.699969        250.000000               90.0   \n",
       "2                 NaN               NaN                NaN   \n",
       "3                 NaN               NaN                NaN   \n",
       "4          -92.250000         75.583333             2890.0   \n",
       "\n",
       "   fl_day2_balance_ml  fl_day3_input_ml  fl_day3_output_ml  fl_day3_balance_ml  \n",
       "0                 NaN               NaN                NaN                 NaN  \n",
       "1          160.000000               NaN                NaN                 NaN  \n",
       "2                 NaN               NaN                NaN                 NaN  \n",
       "3                 NaN               NaN                NaN                 NaN  \n",
       "4        -2814.416667               NaN                NaN                 NaN  \n",
       "\n",
       "[5 rows x 126 columns]"
      ]
     },
     "execution_count": 56,
     "metadata": {},
     "output_type": "execute_result"
    }
   ],
   "source": [
    "query = \"\"\"\n",
    "SELECT * FROM echo_features_mx\n",
    "\"\"\"\n",
    "ef = pd.read_sql_query(query, con)\n",
    "ef.head()"
   ]
  },
  {
   "cell_type": "code",
   "execution_count": 9,
   "metadata": {
    "collapsed": false,
    "scrolled": false
   },
   "outputs": [
    {
     "data": {
      "text/plain": [
       "['row_id',\n",
       " 'icustay_id',\n",
       " 'hadm_id',\n",
       " 'subject_id',\n",
       " 'age_at_intime',\n",
       " 'gender',\n",
       " 'height',\n",
       " 'weight',\n",
       " 'bmi',\n",
       " 'ethnicity',\n",
       " 'insurance',\n",
       " 'ex_congestive_heart_failure',\n",
       " 'ex_cardiac_aarrhythmias',\n",
       " 'ex_valvular_disease',\n",
       " 'ex_pulmonary_circulation',\n",
       " 'ex_peripheral_vascular',\n",
       " 'ex_hypertension',\n",
       " 'ex_paralysis',\n",
       " 'ex_other_neurological',\n",
       " 'ex_chronic_pulmonary',\n",
       " 'ex_diabetes_uncomplicated',\n",
       " 'ex_diabetes_complicated',\n",
       " 'ex_hypothyroidism',\n",
       " 'ex_renal_failure',\n",
       " 'ex_liver_disease',\n",
       " 'ex_peptic_ulcer',\n",
       " 'ex_aids',\n",
       " 'ex_lymphoma',\n",
       " 'ex_metastatic_cancer',\n",
       " 'ex_solid_tumor',\n",
       " 'ex_rheumatoid_arthritis',\n",
       " 'ex_coagulopathy',\n",
       " 'ex_obesity',\n",
       " 'ex_weight_loss',\n",
       " 'ex_fluid_electrolyte',\n",
       " 'ex_blood_loss_anemia',\n",
       " 'ex_deficiency_anemias',\n",
       " 'ex_alcohol_abuse',\n",
       " 'ex_drug_abuse',\n",
       " 'ex_psychoses',\n",
       " 'ex_depression',\n",
       " 'apsiii',\n",
       " 'apsiii_prob',\n",
       " 'apsiii_creatinine_score',\n",
       " 'admittime',\n",
       " 'dischtime',\n",
       " 'intime',\n",
       " 'outtime',\n",
       " 'dod',\n",
       " 'survived_icustay',\n",
       " 'survived_hadm',\n",
       " 'ed_chartdate',\n",
       " 'ed_charttime',\n",
       " 'ed_quality',\n",
       " 'ed_indication',\n",
       " 'ed_bsa',\n",
       " 'ed_bp',\n",
       " 'ed_bpsys',\n",
       " 'ed_bpdias',\n",
       " 'ed_hr',\n",
       " 'ed_test',\n",
       " 'ed_doppler',\n",
       " 'ed_contrast',\n",
       " 'ea_first_careunit',\n",
       " 'ea_age_of_death',\n",
       " 'ea_days_after_discharge_death',\n",
       " 'ea_status',\n",
       " 'ea_tv_pulm_htn',\n",
       " 'ea_tv_tr',\n",
       " 'ea_lv_cavity',\n",
       " 'ea_lv_diastolic',\n",
       " 'ea_lv_systolic',\n",
       " 'ea_lv_wall',\n",
       " 'ea_rv_cavity',\n",
       " 'ea_rv_diastolic_fluid',\n",
       " 'ea_rv_systolic',\n",
       " 'ea_rv_wall',\n",
       " 'lab_albumin_min',\n",
       " 'lab_albumin_max',\n",
       " 'lab_bicarbonate_min',\n",
       " 'lab_bicarbonate_max',\n",
       " 'lab_ckmb_min',\n",
       " 'lab_ckmb_max',\n",
       " 'lab_creatinine_min',\n",
       " 'lab_creatinine_max',\n",
       " 'lab_crp_min',\n",
       " 'lab_crp_max',\n",
       " 'lab_egfr_min',\n",
       " 'lab_egfr_max',\n",
       " 'lab_hematocrit_min',\n",
       " 'lab_hematocrit_max',\n",
       " 'lab_inr_min',\n",
       " 'lab_inr_max',\n",
       " 'lab_lactate_min',\n",
       " 'lab_lactate_max',\n",
       " 'lab_platelet_min',\n",
       " 'lab_platelet_max',\n",
       " 'lab_ntprobnp_min',\n",
       " 'lab_ntprobnp_max',\n",
       " 'lab_ph_min',\n",
       " 'lab_ph_max',\n",
       " 'lab_tropi_min',\n",
       " 'lab_tropi_max',\n",
       " 'lab_tropt_min',\n",
       " 'lab_tropt_max',\n",
       " 'lab_wbc_min',\n",
       " 'lab_wbc_max',\n",
       " 'ps_vaso',\n",
       " 'diag_xc',\n",
       " 'age_filter',\n",
       " 'intime_to_echo',\n",
       " 'time_filter',\n",
       " 'after_rowid',\n",
       " 'before_rowid',\n",
       " 'chronic_dialysis_flg',\n",
       " 'noninv_vent',\n",
       " 'mech_vent',\n",
       " 'fl_day1_input_ml',\n",
       " 'fl_day1_output_ml',\n",
       " 'fl_day1_balance_ml',\n",
       " 'fl_day2_input_ml',\n",
       " 'fl_day2_output_ml',\n",
       " 'fl_day2_balance_ml',\n",
       " 'fl_day3_input_ml',\n",
       " 'fl_day3_output_ml',\n",
       " 'fl_day3_balance_ml']"
      ]
     },
     "execution_count": 9,
     "metadata": {},
     "output_type": "execute_result"
    }
   ],
   "source": [
    "ef.columns.tolist()"
   ]
  },
  {
   "cell_type": "code",
   "execution_count": 18,
   "metadata": {
    "collapsed": false
   },
   "outputs": [
    {
     "name": "stdout",
     "output_type": "stream",
     "text": [
      "(-11.0, 4331.0)\n",
      "324\n",
      "2512\n",
      "count    10324.000000\n",
      "mean       435.751840\n",
      "std        709.292372\n",
      "min        -11.000000\n",
      "25%          0.000000\n",
      "50%         79.000000\n",
      "75%        561.250000\n",
      "max       4331.000000\n",
      "dtype: float64\n"
     ]
    },
    {
     "data": {
      "image/png": "[encoded data removed]",
      "text/plain": [
       "<matplotlib.figure.Figure at 0x7fec78bc5bd0>"
      ]
     },
     "metadata": {},
     "output_type": "display_data"
    }
   ],
   "source": [
    "plot_data = ef.ea_days_after_discharge_death.values\n",
    "plot_data = plot_data[~np.isnan(plot_data)]\n",
    "plt.hist(plot_data, bins=20)\n",
    "print(plot_data.min(), plot_data.max())\n",
    "print(np.sum(plot_data < 0)) # only 324 out of 10k died before discharge???\n",
    "print(np.sum(plot_data == 0)) # 2512 died at 0 minutes after discharge???\n",
    "print(pd.Series(plot_data).describe())"
   ]
  },
  {
   "cell_type": "code",
   "execution_count": 69,
   "metadata": {
    "collapsed": true
   },
   "outputs": [],
   "source": [
    "day30_mortality = ef.ea_days_after_discharge_death <= 30"
   ]
  },
  {
   "cell_type": "code",
   "execution_count": 21,
   "metadata": {
    "collapsed": false
   },
   "outputs": [
    {
     "data": {
      "text/plain": [
       "False    21269\n",
       "True      4243\n",
       "Name: ea_days_after_discharge_death, dtype: int64"
      ]
     },
     "execution_count": 21,
     "metadata": {},
     "output_type": "execute_result"
    }
   ],
   "source": [
    "day30_mortality.value_counts()"
   ]
  },
  {
   "cell_type": "code",
   "execution_count": 70,
   "metadata": {
    "collapsed": true
   },
   "outputs": [],
   "source": [
    "ef['day30_mortality'] = day30_mortality"
   ]
  },
  {
   "cell_type": "code",
   "execution_count": 26,
   "metadata": {
    "collapsed": false
   },
   "outputs": [
    {
     "data": {
      "text/html": [
       "<div>\n",
       "<table border=\"1\" class=\"dataframe\">\n",
       "  <thead>\n",
       "    <tr style=\"text-align: right;\">\n",
       "      <th>mech_vent</th>\n",
       "      <th>0</th>\n",
       "      <th>1</th>\n",
       "    </tr>\n",
       "    <tr>\n",
       "      <th>day30_mortality</th>\n",
       "      <th></th>\n",
       "      <th></th>\n",
       "    </tr>\n",
       "  </thead>\n",
       "  <tbody>\n",
       "    <tr>\n",
       "      <th>False</th>\n",
       "      <td>15666</td>\n",
       "      <td>5603</td>\n",
       "    </tr>\n",
       "    <tr>\n",
       "      <th>True</th>\n",
       "      <td>1911</td>\n",
       "      <td>2332</td>\n",
       "    </tr>\n",
       "  </tbody>\n",
       "</table>\n",
       "</div>"
      ],
      "text/plain": [
       "mech_vent            0     1\n",
       "day30_mortality             \n",
       "False            15666  5603\n",
       "True              1911  2332"
      ]
     },
     "execution_count": 26,
     "metadata": {},
     "output_type": "execute_result"
    }
   ],
   "source": [
    "ef.groupby(['day30_mortality', 'mech_vent']).size().unstack()"
   ]
  },
  {
   "cell_type": "code",
   "execution_count": 27,
   "metadata": {
    "collapsed": false
   },
   "outputs": [
    {
     "data": {
      "text/html": [
       "<div>\n",
       "<table border=\"1\" class=\"dataframe\">\n",
       "  <thead>\n",
       "    <tr style=\"text-align: right;\">\n",
       "      <th>noninv_vent</th>\n",
       "      <th>0</th>\n",
       "      <th>1</th>\n",
       "    </tr>\n",
       "    <tr>\n",
       "      <th>day30_mortality</th>\n",
       "      <th></th>\n",
       "      <th></th>\n",
       "    </tr>\n",
       "  </thead>\n",
       "  <tbody>\n",
       "    <tr>\n",
       "      <th>False</th>\n",
       "      <td>5171</td>\n",
       "      <td>16098</td>\n",
       "    </tr>\n",
       "    <tr>\n",
       "      <th>True</th>\n",
       "      <td>648</td>\n",
       "      <td>3595</td>\n",
       "    </tr>\n",
       "  </tbody>\n",
       "</table>\n",
       "</div>"
      ],
      "text/plain": [
       "noninv_vent         0      1\n",
       "day30_mortality             \n",
       "False            5171  16098\n",
       "True              648   3595"
      ]
     },
     "execution_count": 27,
     "metadata": {},
     "output_type": "execute_result"
    }
   ],
   "source": [
    "ef.groupby(['day30_mortality', 'noninv_vent']).size().unstack()"
   ]
  },
  {
   "cell_type": "code",
   "execution_count": 30,
   "metadata": {
    "collapsed": false
   },
   "outputs": [
    {
     "name": "stdout",
     "output_type": "stream",
     "text": [
      "====-1\n",
      "Hyperdynamic LVEF >75%\n",
      "Hyperdynamic LVEF\n",
      "Left ventricular systolic function is hyperdynamic (EF>75%)\n",
      "Hyperdynamic left ventricular systolic function\n",
      "Hyperdynamic LVEF (>75%)\n",
      "====0\n",
      "Overall normal LVEF (>55%)\n",
      "Normal LV wall thickness, cavity size and regional/global systolic function (LVEF >55%)\n",
      "Low normal LVEF\n",
      "Normal LV wall thickness, cavity size, and systolic function (LVEF>55%)\n",
      "Mild symmetric LVH with normal cavity size and regional/global systolic function (LVEF>55%)\n",
      "Overall left ventricular systolic function is normal (LVEF>55%)\n",
      "Normal LV wall thickness, cavity size, and global systolic function (LVEF>55%)\n",
      "Left ventricular wall thickness, cavity size, and systolic function are normal (LVEF>55%)\n",
      "Mild symmetric LVH with normal cavity size and systolic function (LVEF>55%)\n",
      "Mild symmetric LVH with normal cavity size and global systolic function (LVEF>55%)\n",
      "Overall left ventricular systolic function is low normal (LVEF 50-55%)\n",
      "There is mild symmetric left ventricular hypertrophy with normal cavity size and systolic function (LVEF>55%)\n",
      "Normal LV wall thickness, cavity size and regional/global function (LVEF >55%)\n",
      "Normal LV wall thickness, cavity size, and global function (LVEF>55%)\n",
      "Left ventricular wall thickness, cavity size, and systolic function are normal\n",
      "There is mild symmetric left ventricular hypertrophy with normal cavity size and systolic function\n",
      "Low normal LVEF (50-55%)\n",
      "====1\n",
      "Mildly depressed LVEF\n",
      "Mild global LV hypokinesis\n",
      "Depressed LVEF\n",
      "Overall left ventricular systolic function is mildly depressed\n",
      "depressed LVEF\n",
      "Mildly depressed LVEF (40-55%)\n",
      "global LV hypokinesis\n",
      "LV systolic function appears depressed\n",
      "There is mild global left ventricular hypokinesis\n",
      "Intrinsic LV systolic function depressed given the severity of valvular regurgitation\n",
      "====2\n",
      "Moderately depressed LVEF\n",
      "Overall left ventricular systolic function is moderately depressed\n",
      "Moderate global LV hypokinesis\n",
      "There is moderate global left ventricular hypokinesis\n",
      "Mild-moderate global left ventricular hypokinesis\n",
      "Moderately depressed LVEF (30-39%)\n",
      "====3\n",
      "Severely depressed LVEF\n",
      "Severe global LV hypokinesis\n",
      "Overall left ventricular systolic function is severely depressed\n",
      "There is severe global left ventricular hypokinesis\n",
      "Moderate-severe global left ventricular hypokinesis\n",
      "Severely depressed LVEF (<30%)\n",
      "-severe global left ventricular hypokinesis"
     ]
    }
   ],
   "source": [
    "%%bash\n",
    "cat ../resources/lv_systolic.txt"
   ]
  },
  {
   "cell_type": "code",
   "execution_count": 71,
   "metadata": {
    "collapsed": false
   },
   "outputs": [
    {
     "data": {
      "text/html": [
       "<div>\n",
       "<table border=\"1\" class=\"dataframe\">\n",
       "  <thead>\n",
       "    <tr style=\"text-align: right;\">\n",
       "      <th>ea_lv_systolic</th>\n",
       "      <th>-50.0</th>\n",
       "      <th>-1.0</th>\n",
       "      <th>0.0</th>\n",
       "      <th>1.0</th>\n",
       "      <th>2.0</th>\n",
       "      <th>3.0</th>\n",
       "    </tr>\n",
       "    <tr>\n",
       "      <th>day30_mortality</th>\n",
       "      <th></th>\n",
       "      <th></th>\n",
       "      <th></th>\n",
       "      <th></th>\n",
       "      <th></th>\n",
       "      <th></th>\n",
       "    </tr>\n",
       "  </thead>\n",
       "  <tbody>\n",
       "    <tr>\n",
       "      <th>False</th>\n",
       "      <td>94</td>\n",
       "      <td>812</td>\n",
       "      <td>9602</td>\n",
       "      <td>1747</td>\n",
       "      <td>1062</td>\n",
       "      <td>1541</td>\n",
       "    </tr>\n",
       "    <tr>\n",
       "      <th>True</th>\n",
       "      <td>32</td>\n",
       "      <td>340</td>\n",
       "      <td>1805</td>\n",
       "      <td>383</td>\n",
       "      <td>268</td>\n",
       "      <td>607</td>\n",
       "    </tr>\n",
       "  </tbody>\n",
       "</table>\n",
       "</div>"
      ],
      "text/plain": [
       "ea_lv_systolic   -50.0  -1.0    0.0    1.0    2.0    3.0 \n",
       "day30_mortality                                          \n",
       "False               94    812   9602   1747   1062   1541\n",
       "True                32    340   1805    383    268    607"
      ]
     },
     "execution_count": 71,
     "metadata": {},
     "output_type": "execute_result"
    }
   ],
   "source": [
    "table = ef.groupby(['day30_mortality', 'ea_lv_systolic']).size().unstack()\n",
    "table"
   ]
  },
  {
   "cell_type": "code",
   "execution_count": 31,
   "metadata": {
    "collapsed": false
   },
   "outputs": [
    {
     "data": {
      "text/html": [
       "<div>\n",
       "<table border=\"1\" class=\"dataframe\">\n",
       "  <thead>\n",
       "    <tr style=\"text-align: right;\">\n",
       "      <th>ea_lv_systolic</th>\n",
       "      <th>-50.0</th>\n",
       "      <th>-1.0</th>\n",
       "      <th>0.0</th>\n",
       "      <th>1.0</th>\n",
       "      <th>2.0</th>\n",
       "      <th>3.0</th>\n",
       "    </tr>\n",
       "    <tr>\n",
       "      <th>day30_mortality</th>\n",
       "      <th></th>\n",
       "      <th></th>\n",
       "      <th></th>\n",
       "      <th></th>\n",
       "      <th></th>\n",
       "      <th></th>\n",
       "    </tr>\n",
       "  </thead>\n",
       "  <tbody>\n",
       "    <tr>\n",
       "      <th>False</th>\n",
       "      <td>0.746032</td>\n",
       "      <td>0.704861</td>\n",
       "      <td>0.841764</td>\n",
       "      <td>0.820188</td>\n",
       "      <td>0.798496</td>\n",
       "      <td>0.717412</td>\n",
       "    </tr>\n",
       "    <tr>\n",
       "      <th>True</th>\n",
       "      <td>0.253968</td>\n",
       "      <td>0.295139</td>\n",
       "      <td>0.158236</td>\n",
       "      <td>0.179812</td>\n",
       "      <td>0.201504</td>\n",
       "      <td>0.282588</td>\n",
       "    </tr>\n",
       "  </tbody>\n",
       "</table>\n",
       "</div>"
      ],
      "text/plain": [
       "ea_lv_systolic      -50.0     -1.0       0.0       1.0       2.0       3.0 \n",
       "day30_mortality                                                            \n",
       "False            0.746032  0.704861  0.841764  0.820188  0.798496  0.717412\n",
       "True             0.253968  0.295139  0.158236  0.179812  0.201504  0.282588"
      ]
     },
     "execution_count": 31,
     "metadata": {},
     "output_type": "execute_result"
    }
   ],
   "source": [
    "table = ef.groupby(['day30_mortality', 'ea_lv_systolic']).size().unstack()\n",
    "table /= table.sum(axis=0)\n",
    "table ## severely depressed and hyperdynamic have increased likelihood of death"
   ]
  },
  {
   "cell_type": "code",
   "execution_count": 33,
   "metadata": {
    "collapsed": false
   },
   "outputs": [
    {
     "data": {
      "text/html": [
       "<div>\n",
       "<table border=\"1\" class=\"dataframe\">\n",
       "  <thead>\n",
       "    <tr style=\"text-align: right;\">\n",
       "      <th>ex_congestive_heart_failure</th>\n",
       "      <th>0</th>\n",
       "      <th>1</th>\n",
       "    </tr>\n",
       "    <tr>\n",
       "      <th>day30_mortality</th>\n",
       "      <th></th>\n",
       "      <th></th>\n",
       "    </tr>\n",
       "  </thead>\n",
       "  <tbody>\n",
       "    <tr>\n",
       "      <th>False</th>\n",
       "      <td>0.859321</td>\n",
       "      <td>0.728075</td>\n",
       "    </tr>\n",
       "    <tr>\n",
       "      <th>True</th>\n",
       "      <td>0.140679</td>\n",
       "      <td>0.271925</td>\n",
       "    </tr>\n",
       "  </tbody>\n",
       "</table>\n",
       "</div>"
      ],
      "text/plain": [
       "ex_congestive_heart_failure         0         1\n",
       "day30_mortality                                \n",
       "False                        0.859321  0.728075\n",
       "True                         0.140679  0.271925"
      ]
     },
     "execution_count": 33,
     "metadata": {},
     "output_type": "execute_result"
    }
   ],
   "source": [
    "table = ef.groupby(['day30_mortality', 'ex_congestive_heart_failure']).size().unstack()\n",
    "table /= table.sum(axis=0)\n",
    "table"
   ]
  },
  {
   "cell_type": "code",
   "execution_count": 44,
   "metadata": {
    "collapsed": false
   },
   "outputs": [
    {
     "name": "stdout",
     "output_type": "stream",
     "text": [
      "Congestive heart failure = 0\n"
     ]
    },
    {
     "data": {
      "text/html": [
       "<div>\n",
       "<table border=\"1\" class=\"dataframe\">\n",
       "  <thead>\n",
       "    <tr style=\"text-align: right;\">\n",
       "      <th>ea_lv_systolic</th>\n",
       "      <th>-50.0</th>\n",
       "      <th>-1.0</th>\n",
       "      <th>0.0</th>\n",
       "      <th>1.0</th>\n",
       "      <th>2.0</th>\n",
       "      <th>3.0</th>\n",
       "    </tr>\n",
       "    <tr>\n",
       "      <th>day30_mortality</th>\n",
       "      <th></th>\n",
       "      <th></th>\n",
       "      <th></th>\n",
       "      <th></th>\n",
       "      <th></th>\n",
       "      <th></th>\n",
       "    </tr>\n",
       "  </thead>\n",
       "  <tbody>\n",
       "    <tr>\n",
       "      <th>False</th>\n",
       "      <td>74</td>\n",
       "      <td>649</td>\n",
       "      <td>8151</td>\n",
       "      <td>1453</td>\n",
       "      <td>845</td>\n",
       "      <td>1132</td>\n",
       "    </tr>\n",
       "    <tr>\n",
       "      <th>True</th>\n",
       "      <td>18</td>\n",
       "      <td>265</td>\n",
       "      <td>1293</td>\n",
       "      <td>244</td>\n",
       "      <td>155</td>\n",
       "      <td>356</td>\n",
       "    </tr>\n",
       "  </tbody>\n",
       "</table>\n",
       "</div>"
      ],
      "text/plain": [
       "ea_lv_systolic   -50.0  -1.0    0.0    1.0    2.0    3.0 \n",
       "day30_mortality                                          \n",
       "False               74    649   8151   1453    845   1132\n",
       "True                18    265   1293    244    155    356"
      ]
     },
     "metadata": {},
     "output_type": "display_data"
    },
    {
     "name": "stdout",
     "output_type": "stream",
     "text": [
      "Congestive heart failure = 1\n"
     ]
    },
    {
     "data": {
      "text/html": [
       "<div>\n",
       "<table border=\"1\" class=\"dataframe\">\n",
       "  <thead>\n",
       "    <tr style=\"text-align: right;\">\n",
       "      <th>ea_lv_systolic</th>\n",
       "      <th>-50.0</th>\n",
       "      <th>-1.0</th>\n",
       "      <th>0.0</th>\n",
       "      <th>1.0</th>\n",
       "      <th>2.0</th>\n",
       "      <th>3.0</th>\n",
       "    </tr>\n",
       "    <tr>\n",
       "      <th>day30_mortality</th>\n",
       "      <th></th>\n",
       "      <th></th>\n",
       "      <th></th>\n",
       "      <th></th>\n",
       "      <th></th>\n",
       "      <th></th>\n",
       "    </tr>\n",
       "  </thead>\n",
       "  <tbody>\n",
       "    <tr>\n",
       "      <th>False</th>\n",
       "      <td>20</td>\n",
       "      <td>163</td>\n",
       "      <td>1451</td>\n",
       "      <td>294</td>\n",
       "      <td>217</td>\n",
       "      <td>409</td>\n",
       "    </tr>\n",
       "    <tr>\n",
       "      <th>True</th>\n",
       "      <td>14</td>\n",
       "      <td>75</td>\n",
       "      <td>512</td>\n",
       "      <td>139</td>\n",
       "      <td>113</td>\n",
       "      <td>251</td>\n",
       "    </tr>\n",
       "  </tbody>\n",
       "</table>\n",
       "</div>"
      ],
      "text/plain": [
       "ea_lv_systolic   -50.0  -1.0    0.0    1.0    2.0    3.0 \n",
       "day30_mortality                                          \n",
       "False               20    163   1451    294    217    409\n",
       "True                14     75    512    139    113    251"
      ]
     },
     "metadata": {},
     "output_type": "display_data"
    }
   ],
   "source": [
    "for name,group in ef.groupby('ex_congestive_heart_failure'):\n",
    "    table = group.groupby(['day30_mortality', 'ea_lv_systolic']).size().unstack()\n",
    "    #table /= table.sum(axis=0)\n",
    "    print('Congestive heart failure =', name)\n",
    "    display(table)"
   ]
  },
  {
   "cell_type": "code",
   "execution_count": 45,
   "metadata": {
    "collapsed": false
   },
   "outputs": [
    {
     "name": "stdout",
     "output_type": "stream",
     "text": [
      "Congestive heart failure = 0\n"
     ]
    },
    {
     "data": {
      "text/html": [
       "<div>\n",
       "<table border=\"1\" class=\"dataframe\">\n",
       "  <thead>\n",
       "    <tr style=\"text-align: right;\">\n",
       "      <th>ea_lv_systolic</th>\n",
       "      <th>-50.0</th>\n",
       "      <th>-1.0</th>\n",
       "      <th>0.0</th>\n",
       "      <th>1.0</th>\n",
       "      <th>2.0</th>\n",
       "      <th>3.0</th>\n",
       "    </tr>\n",
       "    <tr>\n",
       "      <th>day30_mortality</th>\n",
       "      <th></th>\n",
       "      <th></th>\n",
       "      <th></th>\n",
       "      <th></th>\n",
       "      <th></th>\n",
       "      <th></th>\n",
       "    </tr>\n",
       "  </thead>\n",
       "  <tbody>\n",
       "    <tr>\n",
       "      <th>False</th>\n",
       "      <td>0.804348</td>\n",
       "      <td>0.710066</td>\n",
       "      <td>0.863088</td>\n",
       "      <td>0.856217</td>\n",
       "      <td>0.845</td>\n",
       "      <td>0.760753</td>\n",
       "    </tr>\n",
       "    <tr>\n",
       "      <th>True</th>\n",
       "      <td>0.195652</td>\n",
       "      <td>0.289934</td>\n",
       "      <td>0.136912</td>\n",
       "      <td>0.143783</td>\n",
       "      <td>0.155</td>\n",
       "      <td>0.239247</td>\n",
       "    </tr>\n",
       "  </tbody>\n",
       "</table>\n",
       "</div>"
      ],
      "text/plain": [
       "ea_lv_systolic      -50.0     -1.0       0.0       1.0    2.0       3.0 \n",
       "day30_mortality                                                         \n",
       "False            0.804348  0.710066  0.863088  0.856217  0.845  0.760753\n",
       "True             0.195652  0.289934  0.136912  0.143783  0.155  0.239247"
      ]
     },
     "metadata": {},
     "output_type": "display_data"
    },
    {
     "name": "stdout",
     "output_type": "stream",
     "text": [
      "Congestive heart failure = 1\n"
     ]
    },
    {
     "data": {
      "text/html": [
       "<div>\n",
       "<table border=\"1\" class=\"dataframe\">\n",
       "  <thead>\n",
       "    <tr style=\"text-align: right;\">\n",
       "      <th>ea_lv_systolic</th>\n",
       "      <th>-50.0</th>\n",
       "      <th>-1.0</th>\n",
       "      <th>0.0</th>\n",
       "      <th>1.0</th>\n",
       "      <th>2.0</th>\n",
       "      <th>3.0</th>\n",
       "    </tr>\n",
       "    <tr>\n",
       "      <th>day30_mortality</th>\n",
       "      <th></th>\n",
       "      <th></th>\n",
       "      <th></th>\n",
       "      <th></th>\n",
       "      <th></th>\n",
       "      <th></th>\n",
       "    </tr>\n",
       "  </thead>\n",
       "  <tbody>\n",
       "    <tr>\n",
       "      <th>False</th>\n",
       "      <td>0.588235</td>\n",
       "      <td>0.684874</td>\n",
       "      <td>0.739175</td>\n",
       "      <td>0.678984</td>\n",
       "      <td>0.657576</td>\n",
       "      <td>0.619697</td>\n",
       "    </tr>\n",
       "    <tr>\n",
       "      <th>True</th>\n",
       "      <td>0.411765</td>\n",
       "      <td>0.315126</td>\n",
       "      <td>0.260825</td>\n",
       "      <td>0.321016</td>\n",
       "      <td>0.342424</td>\n",
       "      <td>0.380303</td>\n",
       "    </tr>\n",
       "  </tbody>\n",
       "</table>\n",
       "</div>"
      ],
      "text/plain": [
       "ea_lv_systolic      -50.0     -1.0       0.0       1.0       2.0       3.0 \n",
       "day30_mortality                                                            \n",
       "False            0.588235  0.684874  0.739175  0.678984  0.657576  0.619697\n",
       "True             0.411765  0.315126  0.260825  0.321016  0.342424  0.380303"
      ]
     },
     "metadata": {},
     "output_type": "display_data"
    }
   ],
   "source": [
    "for name,group in ef.groupby('ex_congestive_heart_failure'):\n",
    "    table = group.groupby(['day30_mortality', 'ea_lv_systolic']).size().unstack()\n",
    "    table /= table.sum(axis=0)\n",
    "    print('Congestive heart failure =', name)\n",
    "    display(table)"
   ]
  },
  {
   "cell_type": "code",
   "execution_count": 57,
   "metadata": {
    "collapsed": false
   },
   "outputs": [
    {
     "name": "stdout",
     "output_type": "stream",
     "text": [
      "count     18060.000000\n",
      "mean       -811.258342\n",
      "std        2959.623308\n",
      "min     -137916.634830\n",
      "25%       -1826.896563\n",
      "50%        -858.625000\n",
      "75%         113.000000\n",
      "max       27419.000000\n",
      "dtype: float64\n"
     ]
    },
    {
     "data": {
      "image/png": "[encoded data removed]",
      "text/plain": [
       "<matplotlib.figure.Figure at 0x7fec79640350>"
      ]
     },
     "metadata": {},
     "output_type": "display_data"
    }
   ],
   "source": [
    "plot_data = ef.fl_day1_balance_ml.values\n",
    "plot_data = plot_data[~np.isnan(plot_data)]\n",
    "print(pd.Series(plot_data).describe())\n",
    "#someone lost 137 litres ?!?!?!?!?\n",
    "#someone was given 27 litres?\n",
    "_ = plt.hist(plot_data, bins=20)"
   ]
  },
  {
   "cell_type": "code",
   "execution_count": 60,
   "metadata": {
    "collapsed": false
   },
   "outputs": [
    {
     "name": "stdout",
     "output_type": "stream",
     "text": [
      "count    17986.000000\n",
      "mean      -718.344263\n",
      "std       1940.691097\n",
      "min      -6865.842370\n",
      "25%      -1806.874999\n",
      "50%       -851.142465\n",
      "75%        117.064710\n",
      "max      27419.000000\n",
      "dtype: float64\n"
     ]
    },
    {
     "data": {
      "image/png": "[encoded data removed]",
      "text/plain": [
       "<matplotlib.figure.Figure at 0x7fec77355810>"
      ]
     },
     "metadata": {},
     "output_type": "display_data"
    }
   ],
   "source": [
    "plot_data = ef.fl_day1_balance_ml.values.copy()\n",
    "plot_data[plot_data < -7000] = np.nan\n",
    "plot_data = plot_data[~np.isnan(plot_data)]\n",
    "print(pd.Series(plot_data).describe())\n",
    "_ = plt.hist(plot_data)"
   ]
  },
  {
   "cell_type": "code",
   "execution_count": 72,
   "metadata": {
    "collapsed": false
   },
   "outputs": [
    {
     "data": {
      "text/plain": [
       " 0.0     11407\n",
       " 3.0      2148\n",
       " 1.0      2130\n",
       " 2.0      1330\n",
       "-1.0      1152\n",
       "-50.0      126\n",
       "Name: ea_lv_systolic, dtype: int64"
      ]
     },
     "metadata": {},
     "output_type": "display_data"
    },
    {
     "data": {
      "text/plain": [
       "<matplotlib.legend.Legend at 0x7fec7944bc50>"
      ]
     },
     "execution_count": 72,
     "metadata": {},
     "output_type": "execute_result"
    },
    {
     "data": {
      "image/png": "[encoded data removed]",
      "text/plain": [
       "<matplotlib.figure.Figure at 0x7fec72fe4810>"
      ]
     },
     "metadata": {},
     "output_type": "display_data"
    }
   ],
   "source": [
    "## if we group by echo lv systolic, what do the fluid distributions look like?\n",
    "display(ef.ea_lv_systolic.value_counts())\n",
    "for name,group in ef.groupby('ea_lv_systolic'):\n",
    "    fluid = group.fl_day1_balance_ml.values.copy()\n",
    "    fluid[fluid < -7000] = np.nan\n",
    "    fluid = fluid[~np.isnan(fluid)]\n",
    "    plt.hist(fluid, alpha=0.5, label=str(name), normed=True, bins=20)\n",
    "plt.legend(loc='best')"
   ]
  },
  {
   "cell_type": "code",
   "execution_count": 77,
   "metadata": {
    "collapsed": false
   },
   "outputs": [
    {
     "data": {
      "text/html": [
       "<div>\n",
       "<table border=\"1\" class=\"dataframe\">\n",
       "  <thead>\n",
       "    <tr style=\"text-align: right;\">\n",
       "      <th></th>\n",
       "      <th>row_id</th>\n",
       "      <th>icustay_id</th>\n",
       "      <th>hadm_id</th>\n",
       "      <th>subject_id</th>\n",
       "      <th>height</th>\n",
       "      <th>weight</th>\n",
       "      <th>bmi</th>\n",
       "      <th>ex_congestive_heart_failure</th>\n",
       "      <th>ex_cardiac_aarrhythmias</th>\n",
       "      <th>ex_valvular_disease</th>\n",
       "      <th>...</th>\n",
       "      <th>fl_day1_input_ml</th>\n",
       "      <th>fl_day1_output_ml</th>\n",
       "      <th>fl_day1_balance_ml</th>\n",
       "      <th>fl_day2_input_ml</th>\n",
       "      <th>fl_day2_output_ml</th>\n",
       "      <th>fl_day2_balance_ml</th>\n",
       "      <th>fl_day3_input_ml</th>\n",
       "      <th>fl_day3_output_ml</th>\n",
       "      <th>fl_day3_balance_ml</th>\n",
       "      <th>day30_mortality</th>\n",
       "    </tr>\n",
       "    <tr>\n",
       "      <th>ea_lv_systolic</th>\n",
       "      <th></th>\n",
       "      <th></th>\n",
       "      <th></th>\n",
       "      <th></th>\n",
       "      <th></th>\n",
       "      <th></th>\n",
       "      <th></th>\n",
       "      <th></th>\n",
       "      <th></th>\n",
       "      <th></th>\n",
       "      <th></th>\n",
       "      <th></th>\n",
       "      <th></th>\n",
       "      <th></th>\n",
       "      <th></th>\n",
       "      <th></th>\n",
       "      <th></th>\n",
       "      <th></th>\n",
       "      <th></th>\n",
       "      <th></th>\n",
       "      <th></th>\n",
       "    </tr>\n",
       "  </thead>\n",
       "  <tbody>\n",
       "    <tr>\n",
       "      <th>-50.0</th>\n",
       "      <td>81244.809524</td>\n",
       "      <td>247653.325397</td>\n",
       "      <td>149511.547619</td>\n",
       "      <td>25897.706349</td>\n",
       "      <td>66.921569</td>\n",
       "      <td>178.801887</td>\n",
       "      <td>28.027204</td>\n",
       "      <td>0.269841</td>\n",
       "      <td>0.238095</td>\n",
       "      <td>0.158730</td>\n",
       "      <td>...</td>\n",
       "      <td>1015.256498</td>\n",
       "      <td>2086.900990</td>\n",
       "      <td>-1071.644493</td>\n",
       "      <td>1106.137095</td>\n",
       "      <td>2116.014493</td>\n",
       "      <td>-1009.877397</td>\n",
       "      <td>810.632119</td>\n",
       "      <td>2298.706897</td>\n",
       "      <td>-1488.074778</td>\n",
       "      <td>0.253968</td>\n",
       "    </tr>\n",
       "    <tr>\n",
       "      <th>-1.0</th>\n",
       "      <td>84541.219618</td>\n",
       "      <td>250258.736979</td>\n",
       "      <td>149541.017361</td>\n",
       "      <td>42459.780382</td>\n",
       "      <td>65.783559</td>\n",
       "      <td>179.193858</td>\n",
       "      <td>28.883144</td>\n",
       "      <td>0.206597</td>\n",
       "      <td>0.219618</td>\n",
       "      <td>0.079861</td>\n",
       "      <td>...</td>\n",
       "      <td>1811.668583</td>\n",
       "      <td>2149.855422</td>\n",
       "      <td>-338.186839</td>\n",
       "      <td>1442.347326</td>\n",
       "      <td>2357.833333</td>\n",
       "      <td>-915.486007</td>\n",
       "      <td>1401.033672</td>\n",
       "      <td>2443.926874</td>\n",
       "      <td>-1042.893201</td>\n",
       "      <td>0.295139</td>\n",
       "    </tr>\n",
       "    <tr>\n",
       "      <th>0.0</th>\n",
       "      <td>83559.743228</td>\n",
       "      <td>250096.408433</td>\n",
       "      <td>149812.066450</td>\n",
       "      <td>41103.482160</td>\n",
       "      <td>66.431120</td>\n",
       "      <td>182.400171</td>\n",
       "      <td>29.896931</td>\n",
       "      <td>0.172087</td>\n",
       "      <td>0.200842</td>\n",
       "      <td>0.070571</td>\n",
       "      <td>...</td>\n",
       "      <td>1347.277675</td>\n",
       "      <td>2170.817390</td>\n",
       "      <td>-823.539715</td>\n",
       "      <td>1112.930153</td>\n",
       "      <td>2322.127555</td>\n",
       "      <td>-1209.197402</td>\n",
       "      <td>1060.572451</td>\n",
       "      <td>2475.068176</td>\n",
       "      <td>-1414.495725</td>\n",
       "      <td>0.158236</td>\n",
       "    </tr>\n",
       "    <tr>\n",
       "      <th>1.0</th>\n",
       "      <td>82597.620657</td>\n",
       "      <td>249570.284977</td>\n",
       "      <td>150528.129577</td>\n",
       "      <td>36527.725822</td>\n",
       "      <td>66.984446</td>\n",
       "      <td>182.204518</td>\n",
       "      <td>29.485365</td>\n",
       "      <td>0.203286</td>\n",
       "      <td>0.176056</td>\n",
       "      <td>0.069484</td>\n",
       "      <td>...</td>\n",
       "      <td>1218.043355</td>\n",
       "      <td>2242.224798</td>\n",
       "      <td>-1024.181443</td>\n",
       "      <td>896.495937</td>\n",
       "      <td>2224.856647</td>\n",
       "      <td>-1328.360710</td>\n",
       "      <td>806.285827</td>\n",
       "      <td>2350.451950</td>\n",
       "      <td>-1544.166123</td>\n",
       "      <td>0.179812</td>\n",
       "    </tr>\n",
       "    <tr>\n",
       "      <th>2.0</th>\n",
       "      <td>82000.688722</td>\n",
       "      <td>249987.902256</td>\n",
       "      <td>150698.062406</td>\n",
       "      <td>32848.561654</td>\n",
       "      <td>67.022845</td>\n",
       "      <td>177.589443</td>\n",
       "      <td>27.682084</td>\n",
       "      <td>0.248120</td>\n",
       "      <td>0.160150</td>\n",
       "      <td>0.078195</td>\n",
       "      <td>...</td>\n",
       "      <td>1326.110046</td>\n",
       "      <td>2100.788911</td>\n",
       "      <td>-774.678866</td>\n",
       "      <td>972.956970</td>\n",
       "      <td>2107.655120</td>\n",
       "      <td>-1134.698150</td>\n",
       "      <td>935.051609</td>\n",
       "      <td>2282.691701</td>\n",
       "      <td>-1347.640092</td>\n",
       "      <td>0.201504</td>\n",
       "    </tr>\n",
       "    <tr>\n",
       "      <th>3.0</th>\n",
       "      <td>81364.523743</td>\n",
       "      <td>249868.024674</td>\n",
       "      <td>149860.125698</td>\n",
       "      <td>32239.316574</td>\n",
       "      <td>67.278558</td>\n",
       "      <td>179.862824</td>\n",
       "      <td>27.842774</td>\n",
       "      <td>0.307263</td>\n",
       "      <td>0.188082</td>\n",
       "      <td>0.086127</td>\n",
       "      <td>...</td>\n",
       "      <td>1303.394901</td>\n",
       "      <td>2054.701618</td>\n",
       "      <td>-751.306718</td>\n",
       "      <td>982.156383</td>\n",
       "      <td>2183.628738</td>\n",
       "      <td>-1201.472354</td>\n",
       "      <td>874.978922</td>\n",
       "      <td>2395.383387</td>\n",
       "      <td>-1520.404464</td>\n",
       "      <td>0.282588</td>\n",
       "    </tr>\n",
       "  </tbody>\n",
       "</table>\n",
       "<p>6 rows × 102 columns</p>\n",
       "</div>"
      ],
      "text/plain": [
       "                      row_id     icustay_id        hadm_id    subject_id  \\\n",
       "ea_lv_systolic                                                             \n",
       "-50.0           81244.809524  247653.325397  149511.547619  25897.706349   \n",
       "-1.0            84541.219618  250258.736979  149541.017361  42459.780382   \n",
       " 0.0            83559.743228  250096.408433  149812.066450  41103.482160   \n",
       " 1.0            82597.620657  249570.284977  150528.129577  36527.725822   \n",
       " 2.0            82000.688722  249987.902256  150698.062406  32848.561654   \n",
       " 3.0            81364.523743  249868.024674  149860.125698  32239.316574   \n",
       "\n",
       "                   height      weight        bmi  ex_congestive_heart_failure  \\\n",
       "ea_lv_systolic                                                                  \n",
       "-50.0           66.921569  178.801887  28.027204                     0.269841   \n",
       "-1.0            65.783559  179.193858  28.883144                     0.206597   \n",
       " 0.0            66.431120  182.400171  29.896931                     0.172087   \n",
       " 1.0            66.984446  182.204518  29.485365                     0.203286   \n",
       " 2.0            67.022845  177.589443  27.682084                     0.248120   \n",
       " 3.0            67.278558  179.862824  27.842774                     0.307263   \n",
       "\n",
       "                ex_cardiac_aarrhythmias  ex_valvular_disease       ...         \\\n",
       "ea_lv_systolic                                                     ...          \n",
       "-50.0                          0.238095             0.158730       ...          \n",
       "-1.0                           0.219618             0.079861       ...          \n",
       " 0.0                           0.200842             0.070571       ...          \n",
       " 1.0                           0.176056             0.069484       ...          \n",
       " 2.0                           0.160150             0.078195       ...          \n",
       " 3.0                           0.188082             0.086127       ...          \n",
       "\n",
       "                fl_day1_input_ml  fl_day1_output_ml  fl_day1_balance_ml  \\\n",
       "ea_lv_systolic                                                            \n",
       "-50.0                1015.256498        2086.900990        -1071.644493   \n",
       "-1.0                 1811.668583        2149.855422         -338.186839   \n",
       " 0.0                 1347.277675        2170.817390         -823.539715   \n",
       " 1.0                 1218.043355        2242.224798        -1024.181443   \n",
       " 2.0                 1326.110046        2100.788911         -774.678866   \n",
       " 3.0                 1303.394901        2054.701618         -751.306718   \n",
       "\n",
       "                fl_day2_input_ml  fl_day2_output_ml  fl_day2_balance_ml  \\\n",
       "ea_lv_systolic                                                            \n",
       "-50.0                1106.137095        2116.014493        -1009.877397   \n",
       "-1.0                 1442.347326        2357.833333         -915.486007   \n",
       " 0.0                 1112.930153        2322.127555        -1209.197402   \n",
       " 1.0                  896.495937        2224.856647        -1328.360710   \n",
       " 2.0                  972.956970        2107.655120        -1134.698150   \n",
       " 3.0                  982.156383        2183.628738        -1201.472354   \n",
       "\n",
       "                fl_day3_input_ml  fl_day3_output_ml  fl_day3_balance_ml  \\\n",
       "ea_lv_systolic                                                            \n",
       "-50.0                 810.632119        2298.706897        -1488.074778   \n",
       "-1.0                 1401.033672        2443.926874        -1042.893201   \n",
       " 0.0                 1060.572451        2475.068176        -1414.495725   \n",
       " 1.0                  806.285827        2350.451950        -1544.166123   \n",
       " 2.0                  935.051609        2282.691701        -1347.640092   \n",
       " 3.0                  874.978922        2395.383387        -1520.404464   \n",
       "\n",
       "                day30_mortality  \n",
       "ea_lv_systolic                   \n",
       "-50.0                  0.253968  \n",
       "-1.0                   0.295139  \n",
       " 0.0                   0.158236  \n",
       " 1.0                   0.179812  \n",
       " 2.0                   0.201504  \n",
       " 3.0                   0.282588  \n",
       "\n",
       "[6 rows x 102 columns]"
      ]
     },
     "metadata": {},
     "output_type": "display_data"
    },
    {
     "data": {
      "text/html": [
       "<div>\n",
       "<table border=\"1\" class=\"dataframe\">\n",
       "  <thead>\n",
       "    <tr style=\"text-align: right;\">\n",
       "      <th></th>\n",
       "      <th>row_id</th>\n",
       "      <th>icustay_id</th>\n",
       "      <th>hadm_id</th>\n",
       "      <th>subject_id</th>\n",
       "      <th>height</th>\n",
       "      <th>weight</th>\n",
       "      <th>bmi</th>\n",
       "      <th>ex_congestive_heart_failure</th>\n",
       "      <th>ex_cardiac_aarrhythmias</th>\n",
       "      <th>ex_valvular_disease</th>\n",
       "      <th>...</th>\n",
       "      <th>fl_day1_input_ml</th>\n",
       "      <th>fl_day1_output_ml</th>\n",
       "      <th>fl_day1_balance_ml</th>\n",
       "      <th>fl_day2_input_ml</th>\n",
       "      <th>fl_day2_output_ml</th>\n",
       "      <th>fl_day2_balance_ml</th>\n",
       "      <th>fl_day3_input_ml</th>\n",
       "      <th>fl_day3_output_ml</th>\n",
       "      <th>fl_day3_balance_ml</th>\n",
       "      <th>day30_mortality</th>\n",
       "    </tr>\n",
       "    <tr>\n",
       "      <th>ea_lv_systolic</th>\n",
       "      <th></th>\n",
       "      <th></th>\n",
       "      <th></th>\n",
       "      <th></th>\n",
       "      <th></th>\n",
       "      <th></th>\n",
       "      <th></th>\n",
       "      <th></th>\n",
       "      <th></th>\n",
       "      <th></th>\n",
       "      <th></th>\n",
       "      <th></th>\n",
       "      <th></th>\n",
       "      <th></th>\n",
       "      <th></th>\n",
       "      <th></th>\n",
       "      <th></th>\n",
       "      <th></th>\n",
       "      <th></th>\n",
       "      <th></th>\n",
       "      <th></th>\n",
       "    </tr>\n",
       "  </thead>\n",
       "  <tbody>\n",
       "    <tr>\n",
       "      <th>-50.0</th>\n",
       "      <td>12916.887505</td>\n",
       "      <td>29679.705262</td>\n",
       "      <td>27462.778767</td>\n",
       "      <td>23907.138591</td>\n",
       "      <td>3.858092</td>\n",
       "      <td>49.298202</td>\n",
       "      <td>7.464622</td>\n",
       "      <td>0.445649</td>\n",
       "      <td>0.427618</td>\n",
       "      <td>0.366883</td>\n",
       "      <td>...</td>\n",
       "      <td>1240.462970</td>\n",
       "      <td>1235.920900</td>\n",
       "      <td>1826.524191</td>\n",
       "      <td>1338.189871</td>\n",
       "      <td>1176.466425</td>\n",
       "      <td>1681.036151</td>\n",
       "      <td>999.905413</td>\n",
       "      <td>1366.312659</td>\n",
       "      <td>1754.779124</td>\n",
       "      <td>0.437017</td>\n",
       "    </tr>\n",
       "    <tr>\n",
       "      <th>-1.0</th>\n",
       "      <td>12441.775771</td>\n",
       "      <td>28357.722164</td>\n",
       "      <td>29679.572008</td>\n",
       "      <td>30035.040590</td>\n",
       "      <td>4.335053</td>\n",
       "      <td>54.514580</td>\n",
       "      <td>7.956209</td>\n",
       "      <td>0.405040</td>\n",
       "      <td>0.414168</td>\n",
       "      <td>0.271196</td>\n",
       "      <td>...</td>\n",
       "      <td>2160.932192</td>\n",
       "      <td>3157.747594</td>\n",
       "      <td>3711.610135</td>\n",
       "      <td>1576.133096</td>\n",
       "      <td>3555.125474</td>\n",
       "      <td>3773.844070</td>\n",
       "      <td>1455.990717</td>\n",
       "      <td>2128.144741</td>\n",
       "      <td>2436.917964</td>\n",
       "      <td>0.456303</td>\n",
       "    </tr>\n",
       "    <tr>\n",
       "      <th>0.0</th>\n",
       "      <td>12692.001260</td>\n",
       "      <td>28786.804605</td>\n",
       "      <td>28949.289013</td>\n",
       "      <td>29352.285078</td>\n",
       "      <td>4.505997</td>\n",
       "      <td>60.516990</td>\n",
       "      <td>46.119473</td>\n",
       "      <td>0.377473</td>\n",
       "      <td>0.400647</td>\n",
       "      <td>0.256118</td>\n",
       "      <td>...</td>\n",
       "      <td>1539.416390</td>\n",
       "      <td>2061.241825</td>\n",
       "      <td>2389.041415</td>\n",
       "      <td>1317.949533</td>\n",
       "      <td>2482.020529</td>\n",
       "      <td>2650.216939</td>\n",
       "      <td>1330.335065</td>\n",
       "      <td>2625.845736</td>\n",
       "      <td>2784.241070</td>\n",
       "      <td>0.364978</td>\n",
       "    </tr>\n",
       "    <tr>\n",
       "      <th>1.0</th>\n",
       "      <td>12780.463831</td>\n",
       "      <td>28245.020612</td>\n",
       "      <td>29109.566083</td>\n",
       "      <td>28767.878606</td>\n",
       "      <td>4.903057</td>\n",
       "      <td>51.512330</td>\n",
       "      <td>35.042249</td>\n",
       "      <td>0.402538</td>\n",
       "      <td>0.380958</td>\n",
       "      <td>0.254334</td>\n",
       "      <td>...</td>\n",
       "      <td>1473.736958</td>\n",
       "      <td>4447.350679</td>\n",
       "      <td>4622.077458</td>\n",
       "      <td>1081.139534</td>\n",
       "      <td>2392.477652</td>\n",
       "      <td>2592.068539</td>\n",
       "      <td>919.248620</td>\n",
       "      <td>2656.383863</td>\n",
       "      <td>2798.191607</td>\n",
       "      <td>0.384121</td>\n",
       "    </tr>\n",
       "    <tr>\n",
       "      <th>2.0</th>\n",
       "      <td>12697.568366</td>\n",
       "      <td>28768.927103</td>\n",
       "      <td>28213.967735</td>\n",
       "      <td>27323.997839</td>\n",
       "      <td>4.129844</td>\n",
       "      <td>50.237319</td>\n",
       "      <td>7.463365</td>\n",
       "      <td>0.432084</td>\n",
       "      <td>0.366883</td>\n",
       "      <td>0.268580</td>\n",
       "      <td>...</td>\n",
       "      <td>1554.993529</td>\n",
       "      <td>1514.534118</td>\n",
       "      <td>2047.414619</td>\n",
       "      <td>1262.930501</td>\n",
       "      <td>1415.870771</td>\n",
       "      <td>1831.399198</td>\n",
       "      <td>1093.120817</td>\n",
       "      <td>1439.196053</td>\n",
       "      <td>1811.618966</td>\n",
       "      <td>0.401274</td>\n",
       "    </tr>\n",
       "    <tr>\n",
       "      <th>3.0</th>\n",
       "      <td>12957.896912</td>\n",
       "      <td>29143.845218</td>\n",
       "      <td>28751.760040</td>\n",
       "      <td>27623.891825</td>\n",
       "      <td>4.281719</td>\n",
       "      <td>56.905035</td>\n",
       "      <td>7.621860</td>\n",
       "      <td>0.461467</td>\n",
       "      <td>0.390869</td>\n",
       "      <td>0.280616</td>\n",
       "      <td>...</td>\n",
       "      <td>1837.990454</td>\n",
       "      <td>1536.149372</td>\n",
       "      <td>2200.049844</td>\n",
       "      <td>1307.801526</td>\n",
       "      <td>1644.671689</td>\n",
       "      <td>2032.290919</td>\n",
       "      <td>1051.022284</td>\n",
       "      <td>1612.753660</td>\n",
       "      <td>1922.034072</td>\n",
       "      <td>0.450363</td>\n",
       "    </tr>\n",
       "  </tbody>\n",
       "</table>\n",
       "<p>6 rows × 102 columns</p>\n",
       "</div>"
      ],
      "text/plain": [
       "                      row_id    icustay_id       hadm_id    subject_id  \\\n",
       "ea_lv_systolic                                                           \n",
       "-50.0           12916.887505  29679.705262  27462.778767  23907.138591   \n",
       "-1.0            12441.775771  28357.722164  29679.572008  30035.040590   \n",
       " 0.0            12692.001260  28786.804605  28949.289013  29352.285078   \n",
       " 1.0            12780.463831  28245.020612  29109.566083  28767.878606   \n",
       " 2.0            12697.568366  28768.927103  28213.967735  27323.997839   \n",
       " 3.0            12957.896912  29143.845218  28751.760040  27623.891825   \n",
       "\n",
       "                  height     weight        bmi  ex_congestive_heart_failure  \\\n",
       "ea_lv_systolic                                                                \n",
       "-50.0           3.858092  49.298202   7.464622                     0.445649   \n",
       "-1.0            4.335053  54.514580   7.956209                     0.405040   \n",
       " 0.0            4.505997  60.516990  46.119473                     0.377473   \n",
       " 1.0            4.903057  51.512330  35.042249                     0.402538   \n",
       " 2.0            4.129844  50.237319   7.463365                     0.432084   \n",
       " 3.0            4.281719  56.905035   7.621860                     0.461467   \n",
       "\n",
       "                ex_cardiac_aarrhythmias  ex_valvular_disease       ...         \\\n",
       "ea_lv_systolic                                                     ...          \n",
       "-50.0                          0.427618             0.366883       ...          \n",
       "-1.0                           0.414168             0.271196       ...          \n",
       " 0.0                           0.400647             0.256118       ...          \n",
       " 1.0                           0.380958             0.254334       ...          \n",
       " 2.0                           0.366883             0.268580       ...          \n",
       " 3.0                           0.390869             0.280616       ...          \n",
       "\n",
       "                fl_day1_input_ml  fl_day1_output_ml  fl_day1_balance_ml  \\\n",
       "ea_lv_systolic                                                            \n",
       "-50.0                1240.462970        1235.920900         1826.524191   \n",
       "-1.0                 2160.932192        3157.747594         3711.610135   \n",
       " 0.0                 1539.416390        2061.241825         2389.041415   \n",
       " 1.0                 1473.736958        4447.350679         4622.077458   \n",
       " 2.0                 1554.993529        1514.534118         2047.414619   \n",
       " 3.0                 1837.990454        1536.149372         2200.049844   \n",
       "\n",
       "                fl_day2_input_ml  fl_day2_output_ml  fl_day2_balance_ml  \\\n",
       "ea_lv_systolic                                                            \n",
       "-50.0                1338.189871        1176.466425         1681.036151   \n",
       "-1.0                 1576.133096        3555.125474         3773.844070   \n",
       " 0.0                 1317.949533        2482.020529         2650.216939   \n",
       " 1.0                 1081.139534        2392.477652         2592.068539   \n",
       " 2.0                 1262.930501        1415.870771         1831.399198   \n",
       " 3.0                 1307.801526        1644.671689         2032.290919   \n",
       "\n",
       "                fl_day3_input_ml  fl_day3_output_ml  fl_day3_balance_ml  \\\n",
       "ea_lv_systolic                                                            \n",
       "-50.0                 999.905413        1366.312659         1754.779124   \n",
       "-1.0                 1455.990717        2128.144741         2436.917964   \n",
       " 0.0                 1330.335065        2625.845736         2784.241070   \n",
       " 1.0                  919.248620        2656.383863         2798.191607   \n",
       " 2.0                 1093.120817        1439.196053         1811.618966   \n",
       " 3.0                 1051.022284        1612.753660         1922.034072   \n",
       "\n",
       "                day30_mortality  \n",
       "ea_lv_systolic                   \n",
       "-50.0                  0.437017  \n",
       "-1.0                   0.456303  \n",
       " 0.0                   0.364978  \n",
       " 1.0                   0.384121  \n",
       " 2.0                   0.401274  \n",
       " 3.0                   0.450363  \n",
       "\n",
       "[6 rows x 102 columns]"
      ]
     },
     "metadata": {},
     "output_type": "display_data"
    }
   ],
   "source": [
    "means = ef.groupby('ea_lv_systolic').mean()\n",
    "stddevs = ef.groupby('ea_lv_systolic').std()\n",
    "display(means)\n",
    "display(stddevs)"
   ]
  },
  {
   "cell_type": "code",
   "execution_count": 81,
   "metadata": {
    "collapsed": false
   },
   "outputs": [
    {
     "data": {
      "text/plain": [
       "<matplotlib.axes._subplots.AxesSubplot at 0x7fec73186350>"
      ]
     },
     "execution_count": 81,
     "metadata": {},
     "output_type": "execute_result"
    },
    {
     "data": {
      "image/png": "[encoded data removed]",
      "text/plain": [
       "<matplotlib.figure.Figure at 0x7fec76677ed0>"
      ]
     },
     "metadata": {},
     "output_type": "display_data"
    }
   ],
   "source": [
    "sns.barplot(x='ea_lv_systolic', y='fl_day1_balance_ml', data=ef)"
   ]
  },
  {
   "cell_type": "code",
   "execution_count": 82,
   "metadata": {
    "collapsed": false
   },
   "outputs": [
    {
     "data": {
      "text/plain": [
       "<matplotlib.axes._subplots.AxesSubplot at 0x7fec774dda90>"
      ]
     },
     "execution_count": 82,
     "metadata": {},
     "output_type": "execute_result"
    },
    {
     "data": {
      "image/png": "[encoded data removed]",
      "text/plain": [
       "<matplotlib.figure.Figure at 0x7fec79102590>"
      ]
     },
     "metadata": {},
     "output_type": "display_data"
    }
   ],
   "source": [
    "sns.barplot(x='ea_lv_systolic', y='fl_day2_balance_ml', data=ef)"
   ]
  },
  {
   "cell_type": "code",
   "execution_count": 83,
   "metadata": {
    "collapsed": false
   },
   "outputs": [
    {
     "data": {
      "text/plain": [
       "<matplotlib.axes._subplots.AxesSubplot at 0x7fec73063990>"
      ]
     },
     "execution_count": 83,
     "metadata": {},
     "output_type": "execute_result"
    },
    {
     "data": {
      "image/png": "[encoded data removed]",
      "text/plain": [
       "<matplotlib.figure.Figure at 0x7fec73322c10>"
      ]
     },
     "metadata": {},
     "output_type": "display_data"
    }
   ],
   "source": [
    "sns.barplot(x='ea_lv_systolic', y='fl_day3_balance_ml', data=ef)"
   ]
  },
  {
   "cell_type": "code",
   "execution_count": null,
   "metadata": {
    "collapsed": true
   },
   "outputs": [],
   "source": []
  }
 ],
 "metadata": {
  "anaconda-cloud": {},
  "kernelspec": {
   "display_name": "Python [conda env:mimiciii]",
   "language": "python",
   "name": "conda-env-mimiciii-py"
  },
  "language_info": {
   "codemirror_mode": {
    "name": "ipython",
    "version": 2
   },
   "file_extension": ".py",
   "mimetype": "text/x-python",
   "name": "python",
   "nbconvert_exporter": "python",
   "pygments_lexer": "ipython2",
   "version": "2.7.12"
  }
 },
 "nbformat": 4,
 "nbformat_minor": 1
}
