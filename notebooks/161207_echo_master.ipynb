{
 "cells": [
  {
   "cell_type": "code",
   "execution_count": 1,
   "metadata": {
    "collapsed": true
   },
   "outputs": [],
   "source": [
    "import numpy as np\n",
    "import pandas as pd\n",
    "import psycopg2\n",
    "\n",
    "import matplotlib.pyplot as plt\n",
    "import seaborn as sns\n",
    "\n",
    "import matplotlib.style\n",
    "matplotlib.style.use('ggplot')\n",
    "%matplotlib inline"
   ]
  },
  {
   "cell_type": "code",
   "execution_count": 2,
   "metadata": {
    "collapsed": true
   },
   "outputs": [],
   "source": [
    "# create a database connection\n",
    "sqluser = 'mimic'\n",
    "dbname = 'mimic'\n",
    "schema_name = 'mimiciii'\n",
    "\n",
    "cur = None"
   ]
  },
  {
   "cell_type": "code",
   "execution_count": 106,
   "metadata": {
    "collapsed": true
   },
   "outputs": [],
   "source": [
    "if cur: \n",
    "    cur.close()\n",
    "    con.close()\n",
    "\n",
    "con = psycopg2.connect(dbname = dbname, user = sqluser)\n",
    "cur = con.cursor()\n",
    "cur.execute('SET search_path to ' + schema_name)"
   ]
  },
  {
   "cell_type": "markdown",
   "metadata": {},
   "source": [
    "Rewrite labs to get closest lab, if more than one lab, average. "
   ]
  },
  {
   "cell_type": "code",
   "execution_count": 38,
   "metadata": {
    "collapsed": false
   },
   "outputs": [
    {
     "data": {
      "text/html": [
       "<div>\n",
       "<table border=\"1\" class=\"dataframe\">\n",
       "  <thead>\n",
       "    <tr style=\"text-align: right;\">\n",
       "      <th></th>\n",
       "      <th>row_id</th>\n",
       "      <th>subject_id</th>\n",
       "      <th>hadm_id</th>\n",
       "      <th>icustay_id</th>\n",
       "      <th>abs_dt</th>\n",
       "      <th>label</th>\n",
       "      <th>valuenum</th>\n",
       "    </tr>\n",
       "  </thead>\n",
       "  <tbody>\n",
       "    <tr>\n",
       "      <th>0</th>\n",
       "      <td>67327</td>\n",
       "      <td>21</td>\n",
       "      <td>109451</td>\n",
       "      <td>217847</td>\n",
       "      <td>1 days 21:22:00</td>\n",
       "      <td>WBC</td>\n",
       "      <td>13.00</td>\n",
       "    </tr>\n",
       "    <tr>\n",
       "      <th>1</th>\n",
       "      <td>67327</td>\n",
       "      <td>21</td>\n",
       "      <td>109451</td>\n",
       "      <td>217847</td>\n",
       "      <td>1 days 15:52:00</td>\n",
       "      <td>CK-MB</td>\n",
       "      <td>16.20</td>\n",
       "    </tr>\n",
       "    <tr>\n",
       "      <th>2</th>\n",
       "      <td>67327</td>\n",
       "      <td>21</td>\n",
       "      <td>109451</td>\n",
       "      <td>217847</td>\n",
       "      <td>1 days 15:52:00</td>\n",
       "      <td>TROPT</td>\n",
       "      <td>3.02</td>\n",
       "    </tr>\n",
       "    <tr>\n",
       "      <th>3</th>\n",
       "      <td>67327</td>\n",
       "      <td>21</td>\n",
       "      <td>109451</td>\n",
       "      <td>217847</td>\n",
       "      <td>1 days 15:29:00</td>\n",
       "      <td>HEMATOCRIT</td>\n",
       "      <td>27.00</td>\n",
       "    </tr>\n",
       "    <tr>\n",
       "      <th>4</th>\n",
       "      <td>67327</td>\n",
       "      <td>21</td>\n",
       "      <td>109451</td>\n",
       "      <td>217847</td>\n",
       "      <td>1 days 15:29:00</td>\n",
       "      <td>HEMOGLOBIN</td>\n",
       "      <td>9.00</td>\n",
       "    </tr>\n",
       "  </tbody>\n",
       "</table>\n",
       "</div>"
      ],
      "text/plain": [
       "   row_id  subject_id  hadm_id  icustay_id          abs_dt       label  \\\n",
       "0   67327          21   109451      217847 1 days 21:22:00         WBC   \n",
       "1   67327          21   109451      217847 1 days 15:52:00       CK-MB   \n",
       "2   67327          21   109451      217847 1 days 15:52:00       TROPT   \n",
       "3   67327          21   109451      217847 1 days 15:29:00  HEMATOCRIT   \n",
       "4   67327          21   109451      217847 1 days 15:29:00  HEMOGLOBIN   \n",
       "\n",
       "   valuenum  \n",
       "0     13.00  \n",
       "1     16.20  \n",
       "2      3.02  \n",
       "3     27.00  \n",
       "4      9.00  "
      ]
     },
     "execution_count": 38,
     "metadata": {},
     "output_type": "execute_result"
    }
   ],
   "source": [
    "query = \\\n",
    "\"\"\"\n",
    "SELECT * FROM echo_features_labs; \n",
    "\"\"\"\n",
    "all_labs = pd.read_sql_query(query, con)\n",
    "all_labs.head()"
   ]
  },
  {
   "cell_type": "code",
   "execution_count": 39,
   "metadata": {
    "collapsed": false
   },
   "outputs": [
    {
     "data": {
      "text/plain": [
       "1    4182610\n",
       "2       5304\n",
       "0         26\n",
       "3         15\n",
       "Name: valuenum, dtype: int64"
      ]
     },
     "execution_count": 39,
     "metadata": {},
     "output_type": "execute_result"
    }
   ],
   "source": [
    "# check that only 1 observed value per (row_id, label, abs_dt)\n",
    "all_labs.groupby(['row_id', 'label', 'abs_dt'])['valuenum'].count().value_counts()"
   ]
  },
  {
   "cell_type": "code",
   "execution_count": 41,
   "metadata": {
    "collapsed": false
   },
   "outputs": [
    {
     "data": {
      "text/html": [
       "<div>\n",
       "<table border=\"1\" class=\"dataframe\">\n",
       "  <thead>\n",
       "    <tr style=\"text-align: right;\">\n",
       "      <th></th>\n",
       "      <th>row_id</th>\n",
       "      <th>label</th>\n",
       "      <th>abs_dt</th>\n",
       "      <th>valuenum</th>\n",
       "    </tr>\n",
       "  </thead>\n",
       "  <tbody>\n",
       "    <tr>\n",
       "      <th>0</th>\n",
       "      <td>85531</td>\n",
       "      <td>CREATININE</td>\n",
       "      <td>3 days 15:04:00</td>\n",
       "      <td>0.9</td>\n",
       "    </tr>\n",
       "    <tr>\n",
       "      <th>1</th>\n",
       "      <td>90694</td>\n",
       "      <td>CREATININE</td>\n",
       "      <td>2 days 09:17:00</td>\n",
       "      <td>1.7</td>\n",
       "    </tr>\n",
       "    <tr>\n",
       "      <th>2</th>\n",
       "      <td>91594</td>\n",
       "      <td>HEMOGLOBIN</td>\n",
       "      <td>0 days 02:16:00</td>\n",
       "      <td>7.9</td>\n",
       "    </tr>\n",
       "    <tr>\n",
       "      <th>3</th>\n",
       "      <td>66276</td>\n",
       "      <td>CREATININE</td>\n",
       "      <td>1 days 11:31:00</td>\n",
       "      <td>0.6</td>\n",
       "    </tr>\n",
       "    <tr>\n",
       "      <th>4</th>\n",
       "      <td>89890</td>\n",
       "      <td>HEMATOCRIT</td>\n",
       "      <td>10 days 16:50:00</td>\n",
       "      <td>25.9</td>\n",
       "    </tr>\n",
       "  </tbody>\n",
       "</table>\n",
       "</div>"
      ],
      "text/plain": [
       "   row_id       label           abs_dt  valuenum\n",
       "0   85531  CREATININE  3 days 15:04:00       0.9\n",
       "1   90694  CREATININE  2 days 09:17:00       1.7\n",
       "2   91594  HEMOGLOBIN  0 days 02:16:00       7.9\n",
       "3   66276  CREATININE  1 days 11:31:00       0.6\n",
       "4   89890  HEMATOCRIT 10 days 16:50:00      25.9"
      ]
     },
     "execution_count": 41,
     "metadata": {},
     "output_type": "execute_result"
    }
   ],
   "source": [
    "query = \\\n",
    "\"\"\"\n",
    "SELECT * FROM echo_features_labs; \n",
    "\"\"\"\n",
    "squashed_labs = pd.read_sql_query(query, con)\n",
    "squashed_labs.head()"
   ]
  },
  {
   "cell_type": "code",
   "execution_count": 57,
   "metadata": {
    "collapsed": false
   },
   "outputs": [
    {
     "data": {
      "text/plain": [
       "25512"
      ]
     },
     "execution_count": 57,
     "metadata": {},
     "output_type": "execute_result"
    }
   ],
   "source": [
    "len(squashed_labs['row_id'].unique())"
   ]
  },
  {
   "cell_type": "markdown",
   "metadata": {},
   "source": [
    "Some subjects have no data:"
   ]
  },
  {
   "cell_type": "code",
   "execution_count": 61,
   "metadata": {
    "collapsed": false
   },
   "outputs": [
    {
     "data": {
      "text/plain": [
       "(104, 4)"
      ]
     },
     "execution_count": 61,
     "metadata": {},
     "output_type": "execute_result"
    }
   ],
   "source": [
    "squashed_labs.loc[squashed_labs['label'].isnull()].shape"
   ]
  },
  {
   "cell_type": "code",
   "execution_count": 62,
   "metadata": {
    "collapsed": false
   },
   "outputs": [
    {
     "data": {
      "text/html": [
       "<div>\n",
       "<table border=\"1\" class=\"dataframe\">\n",
       "  <thead>\n",
       "    <tr style=\"text-align: right;\">\n",
       "      <th></th>\n",
       "      <th>row_id</th>\n",
       "      <th>label</th>\n",
       "      <th>abs_dt</th>\n",
       "      <th>valuenum</th>\n",
       "    </tr>\n",
       "  </thead>\n",
       "  <tbody>\n",
       "    <tr>\n",
       "      <th>16547</th>\n",
       "      <td>94453</td>\n",
       "      <td>None</td>\n",
       "      <td>0 days</td>\n",
       "      <td>NaN</td>\n",
       "    </tr>\n",
       "    <tr>\n",
       "      <th>21927</th>\n",
       "      <td>62614</td>\n",
       "      <td>None</td>\n",
       "      <td>0 days</td>\n",
       "      <td>NaN</td>\n",
       "    </tr>\n",
       "    <tr>\n",
       "      <th>50207</th>\n",
       "      <td>100460</td>\n",
       "      <td>None</td>\n",
       "      <td>0 days</td>\n",
       "      <td>NaN</td>\n",
       "    </tr>\n",
       "    <tr>\n",
       "      <th>67172</th>\n",
       "      <td>62276</td>\n",
       "      <td>None</td>\n",
       "      <td>0 days</td>\n",
       "      <td>NaN</td>\n",
       "    </tr>\n",
       "    <tr>\n",
       "      <th>164157</th>\n",
       "      <td>71520</td>\n",
       "      <td>None</td>\n",
       "      <td>0 days</td>\n",
       "      <td>NaN</td>\n",
       "    </tr>\n",
       "  </tbody>\n",
       "</table>\n",
       "</div>"
      ],
      "text/plain": [
       "        row_id label  abs_dt  valuenum\n",
       "16547    94453  None  0 days       NaN\n",
       "21927    62614  None  0 days       NaN\n",
       "50207   100460  None  0 days       NaN\n",
       "67172    62276  None  0 days       NaN\n",
       "164157   71520  None  0 days       NaN"
      ]
     },
     "execution_count": 62,
     "metadata": {},
     "output_type": "execute_result"
    }
   ],
   "source": [
    "squashed_labs.loc[squashed_labs['label'].isnull()].head()"
   ]
  },
  {
   "cell_type": "code",
   "execution_count": 42,
   "metadata": {
    "collapsed": false
   },
   "outputs": [
    {
     "data": {
      "text/plain": [
       "1    4187929\n",
       "0         26\n",
       "Name: valuenum, dtype: int64"
      ]
     },
     "execution_count": 42,
     "metadata": {},
     "output_type": "execute_result"
    }
   ],
   "source": [
    "# check that only 1 observed value per (row_id, label, abs_dt)\n",
    "squashed_labs.groupby(['row_id', 'label', 'abs_dt'])['valuenum'].count().value_counts()"
   ]
  },
  {
   "cell_type": "code",
   "execution_count": 44,
   "metadata": {
    "collapsed": false
   },
   "outputs": [
    {
     "data": {
      "text/html": [
       "<div>\n",
       "<table border=\"1\" class=\"dataframe\">\n",
       "  <thead>\n",
       "    <tr style=\"text-align: right;\">\n",
       "      <th>label</th>\n",
       "      <th>ALBUMIN</th>\n",
       "      <th>BICARBONATE</th>\n",
       "      <th>CK-MB</th>\n",
       "      <th>CREATININE</th>\n",
       "      <th>CRP</th>\n",
       "      <th>HEMATOCRIT</th>\n",
       "      <th>HEMOGLOBIN</th>\n",
       "      <th>INR</th>\n",
       "      <th>LACTATE</th>\n",
       "      <th>NTPROBNP</th>\n",
       "      <th>PH</th>\n",
       "      <th>PLATELET</th>\n",
       "      <th>TROPI</th>\n",
       "      <th>TROPT</th>\n",
       "      <th>WBC</th>\n",
       "    </tr>\n",
       "    <tr>\n",
       "      <th>row_id</th>\n",
       "      <th></th>\n",
       "      <th></th>\n",
       "      <th></th>\n",
       "      <th></th>\n",
       "      <th></th>\n",
       "      <th></th>\n",
       "      <th></th>\n",
       "      <th></th>\n",
       "      <th></th>\n",
       "      <th></th>\n",
       "      <th></th>\n",
       "      <th></th>\n",
       "      <th></th>\n",
       "      <th></th>\n",
       "      <th></th>\n",
       "    </tr>\n",
       "  </thead>\n",
       "  <tbody>\n",
       "    <tr>\n",
       "      <th>59653</th>\n",
       "      <td>NaN</td>\n",
       "      <td>21.0</td>\n",
       "      <td>4.6</td>\n",
       "      <td>0.8</td>\n",
       "      <td>NaN</td>\n",
       "      <td>32.8</td>\n",
       "      <td>11.8</td>\n",
       "      <td>1.0</td>\n",
       "      <td>4.0</td>\n",
       "      <td>NaN</td>\n",
       "      <td>NaN</td>\n",
       "      <td>155.0</td>\n",
       "      <td>NaN</td>\n",
       "      <td>0.02</td>\n",
       "      <td>7.4</td>\n",
       "    </tr>\n",
       "    <tr>\n",
       "      <th>59654</th>\n",
       "      <td>4.1</td>\n",
       "      <td>26.0</td>\n",
       "      <td>NaN</td>\n",
       "      <td>1.6</td>\n",
       "      <td>NaN</td>\n",
       "      <td>33.1</td>\n",
       "      <td>11.0</td>\n",
       "      <td>1.1</td>\n",
       "      <td>1.6</td>\n",
       "      <td>4453.0</td>\n",
       "      <td>7.39</td>\n",
       "      <td>219.0</td>\n",
       "      <td>NaN</td>\n",
       "      <td>NaN</td>\n",
       "      <td>8.6</td>\n",
       "    </tr>\n",
       "    <tr>\n",
       "      <th>59655</th>\n",
       "      <td>3.4</td>\n",
       "      <td>25.0</td>\n",
       "      <td>NaN</td>\n",
       "      <td>0.7</td>\n",
       "      <td>NaN</td>\n",
       "      <td>34.2</td>\n",
       "      <td>11.7</td>\n",
       "      <td>2.4</td>\n",
       "      <td>1.1</td>\n",
       "      <td>NaN</td>\n",
       "      <td>7.45</td>\n",
       "      <td>212.0</td>\n",
       "      <td>NaN</td>\n",
       "      <td>NaN</td>\n",
       "      <td>10.1</td>\n",
       "    </tr>\n",
       "    <tr>\n",
       "      <th>59656</th>\n",
       "      <td>2.2</td>\n",
       "      <td>30.0</td>\n",
       "      <td>NaN</td>\n",
       "      <td>3.3</td>\n",
       "      <td>NaN</td>\n",
       "      <td>32.4</td>\n",
       "      <td>9.6</td>\n",
       "      <td>1.3</td>\n",
       "      <td>2.0</td>\n",
       "      <td>NaN</td>\n",
       "      <td>7.49</td>\n",
       "      <td>153.0</td>\n",
       "      <td>NaN</td>\n",
       "      <td>0.25</td>\n",
       "      <td>11.8</td>\n",
       "    </tr>\n",
       "    <tr>\n",
       "      <th>59657</th>\n",
       "      <td>2.6</td>\n",
       "      <td>27.0</td>\n",
       "      <td>1.4</td>\n",
       "      <td>3.3</td>\n",
       "      <td>NaN</td>\n",
       "      <td>28.0</td>\n",
       "      <td>9.4</td>\n",
       "      <td>1.9</td>\n",
       "      <td>4.5</td>\n",
       "      <td>NaN</td>\n",
       "      <td>7.45</td>\n",
       "      <td>66.0</td>\n",
       "      <td>NaN</td>\n",
       "      <td>0.11</td>\n",
       "      <td>7.9</td>\n",
       "    </tr>\n",
       "  </tbody>\n",
       "</table>\n",
       "</div>"
      ],
      "text/plain": [
       "label   ALBUMIN  BICARBONATE  CK-MB  CREATININE  CRP  HEMATOCRIT  HEMOGLOBIN  \\\n",
       "row_id                                                                         \n",
       "59653       NaN         21.0    4.6         0.8  NaN        32.8        11.8   \n",
       "59654       4.1         26.0    NaN         1.6  NaN        33.1        11.0   \n",
       "59655       3.4         25.0    NaN         0.7  NaN        34.2        11.7   \n",
       "59656       2.2         30.0    NaN         3.3  NaN        32.4         9.6   \n",
       "59657       2.6         27.0    1.4         3.3  NaN        28.0         9.4   \n",
       "\n",
       "label   INR  LACTATE  NTPROBNP    PH  PLATELET  TROPI  TROPT   WBC  \n",
       "row_id                                                              \n",
       "59653   1.0      4.0       NaN   NaN     155.0    NaN   0.02   7.4  \n",
       "59654   1.1      1.6    4453.0  7.39     219.0    NaN    NaN   8.6  \n",
       "59655   2.4      1.1       NaN  7.45     212.0    NaN    NaN  10.1  \n",
       "59656   1.3      2.0       NaN  7.49     153.0    NaN   0.25  11.8  \n",
       "59657   1.9      4.5       NaN  7.45      66.0    NaN   0.11   7.9  "
      ]
     },
     "execution_count": 44,
     "metadata": {},
     "output_type": "execute_result"
    }
   ],
   "source": [
    "closest_labs = squashed_labs.sort_values('abs_dt').groupby(['row_id', 'label']).first()['valuenum']\n",
    "closest_labs.unstack('label').head()"
   ]
  },
  {
   "cell_type": "code",
   "execution_count": 53,
   "metadata": {
    "collapsed": false
   },
   "outputs": [
    {
     "data": {
      "text/plain": [
       "25408"
      ]
     },
     "execution_count": 53,
     "metadata": {},
     "output_type": "execute_result"
    }
   ],
   "source": [
    "len(closest_labs.dropna().reset_index()['row_id'].unique())"
   ]
  },
  {
   "cell_type": "code",
   "execution_count": 45,
   "metadata": {
    "collapsed": false
   },
   "outputs": [
    {
     "data": {
      "text/html": [
       "<div>\n",
       "<table border=\"1\" class=\"dataframe\">\n",
       "  <thead>\n",
       "    <tr style=\"text-align: right;\">\n",
       "      <th></th>\n",
       "      <th>row_id</th>\n",
       "      <th>lab_albumin</th>\n",
       "      <th>lab_bicarbonate</th>\n",
       "      <th>lab_ckmb</th>\n",
       "      <th>lab_creatinine</th>\n",
       "      <th>lab_crp</th>\n",
       "      <th>lab_egfr</th>\n",
       "      <th>lab_hematocrit</th>\n",
       "      <th>lab_hemoglobin</th>\n",
       "      <th>lab_inr</th>\n",
       "      <th>lab_lactate</th>\n",
       "      <th>lab_platelet</th>\n",
       "      <th>lab_ntprobnp</th>\n",
       "      <th>lab_ph</th>\n",
       "      <th>lab_tropi</th>\n",
       "      <th>lab_tropt</th>\n",
       "      <th>lab_wbc</th>\n",
       "    </tr>\n",
       "  </thead>\n",
       "  <tbody>\n",
       "    <tr>\n",
       "      <th>7959</th>\n",
       "      <td>59653</td>\n",
       "      <td>NaN</td>\n",
       "      <td>21.0</td>\n",
       "      <td>4.6</td>\n",
       "      <td>0.8</td>\n",
       "      <td>NaN</td>\n",
       "      <td>None</td>\n",
       "      <td>32.8</td>\n",
       "      <td>11.8</td>\n",
       "      <td>1.0</td>\n",
       "      <td>4.0</td>\n",
       "      <td>155.0</td>\n",
       "      <td>NaN</td>\n",
       "      <td>NaN</td>\n",
       "      <td>NaN</td>\n",
       "      <td>0.02</td>\n",
       "      <td>7.4</td>\n",
       "    </tr>\n",
       "  </tbody>\n",
       "</table>\n",
       "</div>"
      ],
      "text/plain": [
       "      row_id  lab_albumin  lab_bicarbonate  lab_ckmb  lab_creatinine  lab_crp  \\\n",
       "7959   59653          NaN             21.0       4.6             0.8      NaN   \n",
       "\n",
       "     lab_egfr  lab_hematocrit  lab_hemoglobin  lab_inr  lab_lactate  \\\n",
       "7959     None            32.8            11.8      1.0          4.0   \n",
       "\n",
       "      lab_platelet  lab_ntprobnp  lab_ph  lab_tropi  lab_tropt  lab_wbc  \n",
       "7959         155.0           NaN     NaN        NaN       0.02      7.4  "
      ]
     },
     "execution_count": 45,
     "metadata": {},
     "output_type": "execute_result"
    }
   ],
   "source": [
    "query = \\\n",
    "\"\"\"\n",
    "SELECT * FROM echo_features_labs; \n",
    "\"\"\"\n",
    "summary_labs = pd.read_sql_query(query, con)\n",
    "summary_labs.loc[summary_labs['row_id'] == 59653]"
   ]
  },
  {
   "cell_type": "code",
   "execution_count": 29,
   "metadata": {
    "collapsed": false
   },
   "outputs": [
    {
     "data": {
      "text/html": [
       "<div>\n",
       "<table border=\"1\" class=\"dataframe\">\n",
       "  <thead>\n",
       "    <tr style=\"text-align: right;\">\n",
       "      <th></th>\n",
       "      <th>row_id</th>\n",
       "      <th>subject_id</th>\n",
       "      <th>hadm_id</th>\n",
       "      <th>icustay_id</th>\n",
       "      <th>label</th>\n",
       "      <th>abs_dt</th>\n",
       "      <th>valuenum</th>\n",
       "    </tr>\n",
       "  </thead>\n",
       "  <tbody>\n",
       "    <tr>\n",
       "      <th>3009633</th>\n",
       "      <td>59653</td>\n",
       "      <td>31038</td>\n",
       "      <td>174978</td>\n",
       "      <td>200492</td>\n",
       "      <td>WBC</td>\n",
       "      <td>0 days 01:50:00</td>\n",
       "      <td>7.4</td>\n",
       "    </tr>\n",
       "    <tr>\n",
       "      <th>916478</th>\n",
       "      <td>59653</td>\n",
       "      <td>31038</td>\n",
       "      <td>174978</td>\n",
       "      <td>200492</td>\n",
       "      <td>WBC</td>\n",
       "      <td>0 days 10:18:00</td>\n",
       "      <td>7.1</td>\n",
       "    </tr>\n",
       "    <tr>\n",
       "      <th>2363687</th>\n",
       "      <td>59653</td>\n",
       "      <td>31038</td>\n",
       "      <td>174978</td>\n",
       "      <td>200492</td>\n",
       "      <td>WBC</td>\n",
       "      <td>0 days 16:40:00</td>\n",
       "      <td>6.8</td>\n",
       "    </tr>\n",
       "    <tr>\n",
       "      <th>862270</th>\n",
       "      <td>59653</td>\n",
       "      <td>31038</td>\n",
       "      <td>174978</td>\n",
       "      <td>200492</td>\n",
       "      <td>WBC</td>\n",
       "      <td>1 days 12:11:00</td>\n",
       "      <td>8.9</td>\n",
       "    </tr>\n",
       "    <tr>\n",
       "      <th>59358</th>\n",
       "      <td>59653</td>\n",
       "      <td>31038</td>\n",
       "      <td>174978</td>\n",
       "      <td>200492</td>\n",
       "      <td>WBC</td>\n",
       "      <td>1 days 17:00:00</td>\n",
       "      <td>7.2</td>\n",
       "    </tr>\n",
       "    <tr>\n",
       "      <th>3636386</th>\n",
       "      <td>59653</td>\n",
       "      <td>31038</td>\n",
       "      <td>174978</td>\n",
       "      <td>200492</td>\n",
       "      <td>WBC</td>\n",
       "      <td>2 days 05:30:00</td>\n",
       "      <td>16.9</td>\n",
       "    </tr>\n",
       "    <tr>\n",
       "      <th>1832459</th>\n",
       "      <td>59653</td>\n",
       "      <td>31038</td>\n",
       "      <td>174978</td>\n",
       "      <td>200492</td>\n",
       "      <td>WBC</td>\n",
       "      <td>2 days 11:35:00</td>\n",
       "      <td>20.3</td>\n",
       "    </tr>\n",
       "  </tbody>\n",
       "</table>\n",
       "</div>"
      ],
      "text/plain": [
       "         row_id  subject_id  hadm_id  icustay_id label          abs_dt  \\\n",
       "3009633   59653       31038   174978      200492   WBC 0 days 01:50:00   \n",
       "916478    59653       31038   174978      200492   WBC 0 days 10:18:00   \n",
       "2363687   59653       31038   174978      200492   WBC 0 days 16:40:00   \n",
       "862270    59653       31038   174978      200492   WBC 1 days 12:11:00   \n",
       "59358     59653       31038   174978      200492   WBC 1 days 17:00:00   \n",
       "3636386   59653       31038   174978      200492   WBC 2 days 05:30:00   \n",
       "1832459   59653       31038   174978      200492   WBC 2 days 11:35:00   \n",
       "\n",
       "         valuenum  \n",
       "3009633       7.4  \n",
       "916478        7.1  \n",
       "2363687       6.8  \n",
       "862270        8.9  \n",
       "59358         7.2  \n",
       "3636386      16.9  \n",
       "1832459      20.3  "
      ]
     },
     "execution_count": 29,
     "metadata": {},
     "output_type": "execute_result"
    }
   ],
   "source": [
    "all_labs.loc[(all_labs['row_id'] == 59653) & (all_labs['label'] == 'WBC')].sort_values('abs_dt')"
   ]
  },
  {
   "cell_type": "markdown",
   "metadata": {},
   "source": [
    "Implement filters. "
   ]
  },
  {
   "cell_type": "code",
   "execution_count": 104,
   "metadata": {
    "collapsed": false
   },
   "outputs": [
    {
     "data": {
      "text/html": [
       "<div>\n",
       "<table border=\"1\" class=\"dataframe\">\n",
       "  <thead>\n",
       "    <tr style=\"text-align: right;\">\n",
       "      <th></th>\n",
       "      <th>row_id</th>\n",
       "      <th>icustay_id</th>\n",
       "      <th>hadm_id</th>\n",
       "      <th>subject_id</th>\n",
       "      <th>age_at_intime</th>\n",
       "      <th>gender</th>\n",
       "      <th>height</th>\n",
       "      <th>weight</th>\n",
       "      <th>bmi</th>\n",
       "      <th>ethnicity</th>\n",
       "      <th>...</th>\n",
       "      <th>fl_day1_input_ml</th>\n",
       "      <th>fl_day1_output_ml</th>\n",
       "      <th>fl_day1_balance_ml</th>\n",
       "      <th>fl_day2_input_ml</th>\n",
       "      <th>fl_day2_output_ml</th>\n",
       "      <th>fl_day2_balance_ml</th>\n",
       "      <th>fl_day3_input_ml</th>\n",
       "      <th>fl_day3_output_ml</th>\n",
       "      <th>fl_day3_balance_ml</th>\n",
       "      <th>most_recent_hadm</th>\n",
       "    </tr>\n",
       "  </thead>\n",
       "  <tbody>\n",
       "    <tr>\n",
       "      <th>0</th>\n",
       "      <td>67326</td>\n",
       "      <td>216859</td>\n",
       "      <td>111970</td>\n",
       "      <td>21</td>\n",
       "      <td>32051 days 20:53:34</td>\n",
       "      <td>M</td>\n",
       "      <td>73.0</td>\n",
       "      <td>166.0</td>\n",
       "      <td>21.898668</td>\n",
       "      <td>WHITE</td>\n",
       "      <td>...</td>\n",
       "      <td>2606.25</td>\n",
       "      <td>129.0</td>\n",
       "      <td>2477.25</td>\n",
       "      <td>1267.5</td>\n",
       "      <td>48.0</td>\n",
       "      <td>1219.5</td>\n",
       "      <td>1750.0</td>\n",
       "      <td>40.0</td>\n",
       "      <td>1710.0</td>\n",
       "      <td>1</td>\n",
       "    </tr>\n",
       "    <tr>\n",
       "      <th>1</th>\n",
       "      <td>67805</td>\n",
       "      <td>280987</td>\n",
       "      <td>182104</td>\n",
       "      <td>36</td>\n",
       "      <td>25443 days 10:29:14</td>\n",
       "      <td>M</td>\n",
       "      <td>NaN</td>\n",
       "      <td>NaN</td>\n",
       "      <td>NaN</td>\n",
       "      <td>WHITE</td>\n",
       "      <td>...</td>\n",
       "      <td>3001.00</td>\n",
       "      <td>1885.0</td>\n",
       "      <td>1116.00</td>\n",
       "      <td>508.0</td>\n",
       "      <td>1201.0</td>\n",
       "      <td>-693.0</td>\n",
       "      <td>NaN</td>\n",
       "      <td>NaN</td>\n",
       "      <td>NaN</td>\n",
       "      <td>1</td>\n",
       "    </tr>\n",
       "    <tr>\n",
       "      <th>2</th>\n",
       "      <td>67118</td>\n",
       "      <td>216609</td>\n",
       "      <td>116009</td>\n",
       "      <td>62</td>\n",
       "      <td>25097 days 00:20:44</td>\n",
       "      <td>M</td>\n",
       "      <td>68.0</td>\n",
       "      <td>150.0</td>\n",
       "      <td>22.804931</td>\n",
       "      <td>PATIENT DECLINED TO ANSWER</td>\n",
       "      <td>...</td>\n",
       "      <td>2781.00</td>\n",
       "      <td>698.0</td>\n",
       "      <td>2083.00</td>\n",
       "      <td>505.0</td>\n",
       "      <td>1525.0</td>\n",
       "      <td>-1020.0</td>\n",
       "      <td>335.5</td>\n",
       "      <td>730.0</td>\n",
       "      <td>-394.5</td>\n",
       "      <td>1</td>\n",
       "    </tr>\n",
       "    <tr>\n",
       "      <th>3</th>\n",
       "      <td>80320</td>\n",
       "      <td>281607</td>\n",
       "      <td>112086</td>\n",
       "      <td>75</td>\n",
       "      <td>28018 days 10:35:50</td>\n",
       "      <td>F</td>\n",
       "      <td>NaN</td>\n",
       "      <td>NaN</td>\n",
       "      <td>NaN</td>\n",
       "      <td>WHITE</td>\n",
       "      <td>...</td>\n",
       "      <td>3040.00</td>\n",
       "      <td>1410.0</td>\n",
       "      <td>1630.00</td>\n",
       "      <td>12.0</td>\n",
       "      <td>1475.0</td>\n",
       "      <td>-1463.0</td>\n",
       "      <td>NaN</td>\n",
       "      <td>NaN</td>\n",
       "      <td>NaN</td>\n",
       "      <td>1</td>\n",
       "    </tr>\n",
       "    <tr>\n",
       "      <th>4</th>\n",
       "      <td>80083</td>\n",
       "      <td>206222</td>\n",
       "      <td>190243</td>\n",
       "      <td>86</td>\n",
       "      <td>16521 days 11:51:54</td>\n",
       "      <td>F</td>\n",
       "      <td>NaN</td>\n",
       "      <td>NaN</td>\n",
       "      <td>NaN</td>\n",
       "      <td>WHITE</td>\n",
       "      <td>...</td>\n",
       "      <td>3520.00</td>\n",
       "      <td>1707.0</td>\n",
       "      <td>1813.00</td>\n",
       "      <td>1006.0</td>\n",
       "      <td>1430.0</td>\n",
       "      <td>-424.0</td>\n",
       "      <td>NaN</td>\n",
       "      <td>NaN</td>\n",
       "      <td>NaN</td>\n",
       "      <td>1</td>\n",
       "    </tr>\n",
       "  </tbody>\n",
       "</table>\n",
       "<p>5 rows × 113 columns</p>\n",
       "</div>"
      ],
      "text/plain": [
       "   row_id  icustay_id  hadm_id  subject_id       age_at_intime gender  height  \\\n",
       "0   67326      216859   111970          21 32051 days 20:53:34      M    73.0   \n",
       "1   67805      280987   182104          36 25443 days 10:29:14      M     NaN   \n",
       "2   67118      216609   116009          62 25097 days 00:20:44      M    68.0   \n",
       "3   80320      281607   112086          75 28018 days 10:35:50      F     NaN   \n",
       "4   80083      206222   190243          86 16521 days 11:51:54      F     NaN   \n",
       "\n",
       "   weight        bmi                   ethnicity        ...         \\\n",
       "0   166.0  21.898668                       WHITE        ...          \n",
       "1     NaN        NaN                       WHITE        ...          \n",
       "2   150.0  22.804931  PATIENT DECLINED TO ANSWER        ...          \n",
       "3     NaN        NaN                       WHITE        ...          \n",
       "4     NaN        NaN                       WHITE        ...          \n",
       "\n",
       "  fl_day1_input_ml  fl_day1_output_ml  fl_day1_balance_ml  fl_day2_input_ml  \\\n",
       "0          2606.25              129.0             2477.25            1267.5   \n",
       "1          3001.00             1885.0             1116.00             508.0   \n",
       "2          2781.00              698.0             2083.00             505.0   \n",
       "3          3040.00             1410.0             1630.00              12.0   \n",
       "4          3520.00             1707.0             1813.00            1006.0   \n",
       "\n",
       "   fl_day2_output_ml  fl_day2_balance_ml  fl_day3_input_ml  fl_day3_output_ml  \\\n",
       "0               48.0              1219.5            1750.0               40.0   \n",
       "1             1201.0              -693.0               NaN                NaN   \n",
       "2             1525.0             -1020.0             335.5              730.0   \n",
       "3             1475.0             -1463.0               NaN                NaN   \n",
       "4             1430.0              -424.0               NaN                NaN   \n",
       "\n",
       "   fl_day3_balance_ml  most_recent_hadm  \n",
       "0              1710.0                 1  \n",
       "1                 NaN                 1  \n",
       "2              -394.5                 1  \n",
       "3                 NaN                 1  \n",
       "4                 NaN                 1  \n",
       "\n",
       "[5 rows x 113 columns]"
      ]
     },
     "execution_count": 104,
     "metadata": {},
     "output_type": "execute_result"
    }
   ],
   "source": [
    "query = \\\n",
    "\"\"\"\n",
    "SELECT * FROM echo_filtered; \n",
    "\"\"\"\n",
    "filtered = pd.read_sql_query(query, con)\n",
    "filtered.head()"
   ]
  },
  {
   "cell_type": "code",
   "execution_count": 200,
   "metadata": {
    "collapsed": false
   },
   "outputs": [
    {
     "data": {
      "text/plain": [
       "set()"
      ]
     },
     "execution_count": 200,
     "metadata": {},
     "output_type": "execute_result"
    }
   ],
   "source": [
    "# hospital admission ids match\n",
    "set(most_recent_hadm['hadm_id'].unique()) - set(uniq['hadm_id'].unique())"
   ]
  },
  {
   "cell_type": "code",
   "execution_count": 230,
   "metadata": {
    "collapsed": false
   },
   "outputs": [
    {
     "ename": "ValueError",
     "evalue": "Cannot index with multidimensional key",
     "output_type": "error",
     "traceback": [
      "\u001b[0;31m---------------------------------------------------------------------------\u001b[0m",
      "\u001b[0;31mValueError\u001b[0m                                Traceback (most recent call last)",
      "\u001b[0;32m<ipython-input-230-34487c1e9c62>\u001b[0m in \u001b[0;36m<module>\u001b[0;34m()\u001b[0m\n\u001b[1;32m      2\u001b[0m \u001b[0mmost_recent_hadm\u001b[0m \u001b[0;34m=\u001b[0m \u001b[0mfiltered\u001b[0m\u001b[0;34m.\u001b[0m\u001b[0mloc\u001b[0m\u001b[0;34m[\u001b[0m\u001b[0mfiltered\u001b[0m\u001b[0;34m[\u001b[0m\u001b[0;34m'hadm_id'\u001b[0m\u001b[0;34m]\u001b[0m\u001b[0;34m.\u001b[0m\u001b[0mapply\u001b[0m\u001b[0;34m(\u001b[0m\u001b[0;32mlambda\u001b[0m \u001b[0mi\u001b[0m\u001b[0;34m:\u001b[0m \u001b[0mi\u001b[0m \u001b[0;32min\u001b[0m \u001b[0mmost_recent_hadm_ids\u001b[0m\u001b[0;34m)\u001b[0m\u001b[0;34m]\u001b[0m\u001b[0;34m\u001b[0m\u001b[0m\n\u001b[1;32m      3\u001b[0m \u001b[0;34m\u001b[0m\u001b[0m\n\u001b[0;32m----> 4\u001b[0;31m \u001b[0mfirst_echo\u001b[0m \u001b[0;34m=\u001b[0m \u001b[0mmost_recent_hadm\u001b[0m\u001b[0;34m.\u001b[0m\u001b[0mloc\u001b[0m\u001b[0;34m[\u001b[0m\u001b[0mmost_recent_hadm\u001b[0m\u001b[0;34m.\u001b[0m\u001b[0mgroupby\u001b[0m\u001b[0;34m(\u001b[0m\u001b[0;34m'subject_id'\u001b[0m\u001b[0;34m)\u001b[0m\u001b[0;34m.\u001b[0m\u001b[0mapply\u001b[0m\u001b[0;34m(\u001b[0m\u001b[0;32mlambda\u001b[0m \u001b[0mx\u001b[0m\u001b[0;34m:\u001b[0m \u001b[0mx\u001b[0m\u001b[0;34m[\u001b[0m\u001b[0;34m'ed_charttime'\u001b[0m\u001b[0;34m]\u001b[0m\u001b[0;34m.\u001b[0m\u001b[0midxmin\u001b[0m\u001b[0;34m(\u001b[0m\u001b[0;34m)\u001b[0m\u001b[0;34m)\u001b[0m\u001b[0;34m]\u001b[0m\u001b[0;34m\u001b[0m\u001b[0m\n\u001b[0m\u001b[1;32m      5\u001b[0m \u001b[0;34m\u001b[0m\u001b[0m\n\u001b[1;32m      6\u001b[0m \u001b[0mcheck_ids\u001b[0m \u001b[0;34m=\u001b[0m \u001b[0mset\u001b[0m\u001b[0;34m(\u001b[0m\u001b[0mfirst_echo\u001b[0m\u001b[0;34m[\u001b[0m\u001b[0;34m'row_id'\u001b[0m\u001b[0;34m]\u001b[0m\u001b[0;34m.\u001b[0m\u001b[0munique\u001b[0m\u001b[0;34m(\u001b[0m\u001b[0;34m)\u001b[0m\u001b[0;34m)\u001b[0m\u001b[0;34m\u001b[0m\u001b[0m\n",
      "\u001b[0;32m/Users/yhtgrace/anaconda3/lib/python3.5/site-packages/pandas/core/indexing.py\u001b[0m in \u001b[0;36m__getitem__\u001b[0;34m(self, key)\u001b[0m\n\u001b[1;32m   1294\u001b[0m             \u001b[0;32mreturn\u001b[0m \u001b[0mself\u001b[0m\u001b[0;34m.\u001b[0m\u001b[0m_getitem_tuple\u001b[0m\u001b[0;34m(\u001b[0m\u001b[0mkey\u001b[0m\u001b[0;34m)\u001b[0m\u001b[0;34m\u001b[0m\u001b[0m\n\u001b[1;32m   1295\u001b[0m         \u001b[0;32melse\u001b[0m\u001b[0;34m:\u001b[0m\u001b[0;34m\u001b[0m\u001b[0m\n\u001b[0;32m-> 1296\u001b[0;31m             \u001b[0;32mreturn\u001b[0m \u001b[0mself\u001b[0m\u001b[0;34m.\u001b[0m\u001b[0m_getitem_axis\u001b[0m\u001b[0;34m(\u001b[0m\u001b[0mkey\u001b[0m\u001b[0;34m,\u001b[0m \u001b[0maxis\u001b[0m\u001b[0;34m=\u001b[0m\u001b[0;36m0\u001b[0m\u001b[0;34m)\u001b[0m\u001b[0;34m\u001b[0m\u001b[0m\n\u001b[0m\u001b[1;32m   1297\u001b[0m \u001b[0;34m\u001b[0m\u001b[0m\n\u001b[1;32m   1298\u001b[0m     \u001b[0;32mdef\u001b[0m \u001b[0m_getitem_axis\u001b[0m\u001b[0;34m(\u001b[0m\u001b[0mself\u001b[0m\u001b[0;34m,\u001b[0m \u001b[0mkey\u001b[0m\u001b[0;34m,\u001b[0m \u001b[0maxis\u001b[0m\u001b[0;34m=\u001b[0m\u001b[0;36m0\u001b[0m\u001b[0;34m)\u001b[0m\u001b[0;34m:\u001b[0m\u001b[0;34m\u001b[0m\u001b[0m\n",
      "\u001b[0;32m/Users/yhtgrace/anaconda3/lib/python3.5/site-packages/pandas/core/indexing.py\u001b[0m in \u001b[0;36m_getitem_axis\u001b[0;34m(self, key, axis)\u001b[0m\n\u001b[1;32m   1452\u001b[0m \u001b[0;34m\u001b[0m\u001b[0m\n\u001b[1;32m   1453\u001b[0m                 \u001b[0;32mif\u001b[0m \u001b[0mhasattr\u001b[0m\u001b[0;34m(\u001b[0m\u001b[0mkey\u001b[0m\u001b[0;34m,\u001b[0m \u001b[0;34m'ndim'\u001b[0m\u001b[0;34m)\u001b[0m \u001b[0;32mand\u001b[0m \u001b[0mkey\u001b[0m\u001b[0;34m.\u001b[0m\u001b[0mndim\u001b[0m \u001b[0;34m>\u001b[0m \u001b[0;36m1\u001b[0m\u001b[0;34m:\u001b[0m\u001b[0;34m\u001b[0m\u001b[0m\n\u001b[0;32m-> 1454\u001b[0;31m                     \u001b[0;32mraise\u001b[0m \u001b[0mValueError\u001b[0m\u001b[0;34m(\u001b[0m\u001b[0;34m'Cannot index with multidimensional key'\u001b[0m\u001b[0;34m)\u001b[0m\u001b[0;34m\u001b[0m\u001b[0m\n\u001b[0m\u001b[1;32m   1455\u001b[0m \u001b[0;34m\u001b[0m\u001b[0m\n\u001b[1;32m   1456\u001b[0m                 \u001b[0;32mreturn\u001b[0m \u001b[0mself\u001b[0m\u001b[0;34m.\u001b[0m\u001b[0m_getitem_iterable\u001b[0m\u001b[0;34m(\u001b[0m\u001b[0mkey\u001b[0m\u001b[0;34m,\u001b[0m \u001b[0maxis\u001b[0m\u001b[0;34m=\u001b[0m\u001b[0maxis\u001b[0m\u001b[0;34m)\u001b[0m\u001b[0;34m\u001b[0m\u001b[0m\n",
      "\u001b[0;31mValueError\u001b[0m: Cannot index with multidimensional key"
     ]
    }
   ],
   "source": [
    "most_recent_hadm_ids = filtered.loc[filtered.groupby('subject_id').apply(lambda x: x['admittime'].idxmax()), 'hadm_id'].un\n",
    "most_recent_hadm = filtered.loc[filtered['hadm_id'].apply(lambda i: i in most_recent_hadm_ids)]\n",
    "\n",
    "first_echo = most_recent_hadm.loc[most_recent_hadm.groupby('subject_id').apply(lambda x: x['ed_charttime'].idxmin())]\n",
    "\n",
    "check_ids = set(first_echo['row_id'].unique())\n",
    "\n",
    "first_echo.head()"
   ]
  },
  {
   "cell_type": "code",
   "execution_count": 228,
   "metadata": {
    "collapsed": false
   },
   "outputs": [
    {
     "data": {
      "text/html": [
       "<div>\n",
       "<table border=\"1\" class=\"dataframe\">\n",
       "  <thead>\n",
       "    <tr style=\"text-align: right;\">\n",
       "      <th></th>\n",
       "      <th>row_id</th>\n",
       "      <th>icustay_id</th>\n",
       "      <th>hadm_id</th>\n",
       "      <th>subject_id</th>\n",
       "      <th>age_at_intime</th>\n",
       "      <th>gender</th>\n",
       "      <th>height</th>\n",
       "      <th>weight</th>\n",
       "      <th>bmi</th>\n",
       "      <th>ethnicity</th>\n",
       "      <th>...</th>\n",
       "      <th>fl_day1_input_ml</th>\n",
       "      <th>fl_day1_output_ml</th>\n",
       "      <th>fl_day1_balance_ml</th>\n",
       "      <th>fl_day2_input_ml</th>\n",
       "      <th>fl_day2_output_ml</th>\n",
       "      <th>fl_day2_balance_ml</th>\n",
       "      <th>fl_day3_input_ml</th>\n",
       "      <th>fl_day3_output_ml</th>\n",
       "      <th>fl_day3_balance_ml</th>\n",
       "      <th>most_recent_hadm</th>\n",
       "    </tr>\n",
       "  </thead>\n",
       "  <tbody>\n",
       "    <tr>\n",
       "      <th>519</th>\n",
       "      <td>64129</td>\n",
       "      <td>245210</td>\n",
       "      <td>181269</td>\n",
       "      <td>16751</td>\n",
       "      <td>15119 days 12:42:07</td>\n",
       "      <td>M</td>\n",
       "      <td>NaN</td>\n",
       "      <td>NaN</td>\n",
       "      <td>NaN</td>\n",
       "      <td>WHITE</td>\n",
       "      <td>...</td>\n",
       "      <td>5625.0</td>\n",
       "      <td>2290.0</td>\n",
       "      <td>3335.0</td>\n",
       "      <td>1004.0</td>\n",
       "      <td>1904.0</td>\n",
       "      <td>-900.0</td>\n",
       "      <td>NaN</td>\n",
       "      <td>NaN</td>\n",
       "      <td>NaN</td>\n",
       "      <td>1</td>\n",
       "    </tr>\n",
       "  </tbody>\n",
       "</table>\n",
       "<p>1 rows × 113 columns</p>\n",
       "</div>"
      ],
      "text/plain": [
       "     row_id  icustay_id  hadm_id  subject_id       age_at_intime gender  \\\n",
       "519   64129      245210   181269       16751 15119 days 12:42:07      M   \n",
       "\n",
       "     height  weight  bmi ethnicity        ...        fl_day1_input_ml  \\\n",
       "519     NaN     NaN  NaN     WHITE        ...                  5625.0   \n",
       "\n",
       "     fl_day1_output_ml  fl_day1_balance_ml  fl_day2_input_ml  \\\n",
       "519             2290.0              3335.0            1004.0   \n",
       "\n",
       "     fl_day2_output_ml  fl_day2_balance_ml  fl_day3_input_ml  \\\n",
       "519             1904.0              -900.0               NaN   \n",
       "\n",
       "     fl_day3_output_ml  fl_day3_balance_ml  most_recent_hadm  \n",
       "519                NaN                 NaN                 1  \n",
       "\n",
       "[1 rows x 113 columns]"
      ]
     },
     "execution_count": 228,
     "metadata": {},
     "output_type": "execute_result"
    }
   ],
   "source": [
    "for subject_id, group in most_recent_hadm.sort_values('ed_charttime').groupby('subject_id'):\n",
    "    if subject_id == 16751:\n",
    "        break\n",
    "group"
   ]
  },
  {
   "cell_type": "code",
   "execution_count": 204,
   "metadata": {
    "collapsed": false
   },
   "outputs": [
    {
     "name": "stdout",
     "output_type": "stream",
     "text": [
      "(2189, 114)\n"
     ]
    },
    {
     "data": {
      "text/html": [
       "<div>\n",
       "<table border=\"1\" class=\"dataframe\">\n",
       "  <thead>\n",
       "    <tr style=\"text-align: right;\">\n",
       "      <th></th>\n",
       "      <th>row_id</th>\n",
       "      <th>icustay_id</th>\n",
       "      <th>hadm_id</th>\n",
       "      <th>subject_id</th>\n",
       "      <th>age_at_intime</th>\n",
       "      <th>gender</th>\n",
       "      <th>height</th>\n",
       "      <th>weight</th>\n",
       "      <th>bmi</th>\n",
       "      <th>ethnicity</th>\n",
       "      <th>...</th>\n",
       "      <th>fl_day1_output_ml</th>\n",
       "      <th>fl_day1_balance_ml</th>\n",
       "      <th>fl_day2_input_ml</th>\n",
       "      <th>fl_day2_output_ml</th>\n",
       "      <th>fl_day2_balance_ml</th>\n",
       "      <th>fl_day3_input_ml</th>\n",
       "      <th>fl_day3_output_ml</th>\n",
       "      <th>fl_day3_balance_ml</th>\n",
       "      <th>most_recent_hadm</th>\n",
       "      <th>first_echo</th>\n",
       "    </tr>\n",
       "  </thead>\n",
       "  <tbody>\n",
       "    <tr>\n",
       "      <th>0</th>\n",
       "      <td>67326</td>\n",
       "      <td>216859</td>\n",
       "      <td>111970</td>\n",
       "      <td>21</td>\n",
       "      <td>32051 days 20:53:34</td>\n",
       "      <td>M</td>\n",
       "      <td>73.0</td>\n",
       "      <td>166.0</td>\n",
       "      <td>21.898668</td>\n",
       "      <td>WHITE</td>\n",
       "      <td>...</td>\n",
       "      <td>129.0</td>\n",
       "      <td>2477.25</td>\n",
       "      <td>1267.5</td>\n",
       "      <td>48.0</td>\n",
       "      <td>1219.5</td>\n",
       "      <td>1750.0</td>\n",
       "      <td>40.0</td>\n",
       "      <td>1710.0</td>\n",
       "      <td>1</td>\n",
       "      <td>1</td>\n",
       "    </tr>\n",
       "    <tr>\n",
       "      <th>1</th>\n",
       "      <td>67805</td>\n",
       "      <td>280987</td>\n",
       "      <td>182104</td>\n",
       "      <td>36</td>\n",
       "      <td>25443 days 10:29:14</td>\n",
       "      <td>M</td>\n",
       "      <td>NaN</td>\n",
       "      <td>NaN</td>\n",
       "      <td>NaN</td>\n",
       "      <td>WHITE</td>\n",
       "      <td>...</td>\n",
       "      <td>1885.0</td>\n",
       "      <td>1116.00</td>\n",
       "      <td>508.0</td>\n",
       "      <td>1201.0</td>\n",
       "      <td>-693.0</td>\n",
       "      <td>NaN</td>\n",
       "      <td>NaN</td>\n",
       "      <td>NaN</td>\n",
       "      <td>1</td>\n",
       "      <td>1</td>\n",
       "    </tr>\n",
       "    <tr>\n",
       "      <th>2</th>\n",
       "      <td>67118</td>\n",
       "      <td>216609</td>\n",
       "      <td>116009</td>\n",
       "      <td>62</td>\n",
       "      <td>25097 days 00:20:44</td>\n",
       "      <td>M</td>\n",
       "      <td>68.0</td>\n",
       "      <td>150.0</td>\n",
       "      <td>22.804931</td>\n",
       "      <td>PATIENT DECLINED TO ANSWER</td>\n",
       "      <td>...</td>\n",
       "      <td>698.0</td>\n",
       "      <td>2083.00</td>\n",
       "      <td>505.0</td>\n",
       "      <td>1525.0</td>\n",
       "      <td>-1020.0</td>\n",
       "      <td>335.5</td>\n",
       "      <td>730.0</td>\n",
       "      <td>-394.5</td>\n",
       "      <td>1</td>\n",
       "      <td>1</td>\n",
       "    </tr>\n",
       "    <tr>\n",
       "      <th>3</th>\n",
       "      <td>80320</td>\n",
       "      <td>281607</td>\n",
       "      <td>112086</td>\n",
       "      <td>75</td>\n",
       "      <td>28018 days 10:35:50</td>\n",
       "      <td>F</td>\n",
       "      <td>NaN</td>\n",
       "      <td>NaN</td>\n",
       "      <td>NaN</td>\n",
       "      <td>WHITE</td>\n",
       "      <td>...</td>\n",
       "      <td>1410.0</td>\n",
       "      <td>1630.00</td>\n",
       "      <td>12.0</td>\n",
       "      <td>1475.0</td>\n",
       "      <td>-1463.0</td>\n",
       "      <td>NaN</td>\n",
       "      <td>NaN</td>\n",
       "      <td>NaN</td>\n",
       "      <td>1</td>\n",
       "      <td>1</td>\n",
       "    </tr>\n",
       "    <tr>\n",
       "      <th>4</th>\n",
       "      <td>80083</td>\n",
       "      <td>206222</td>\n",
       "      <td>190243</td>\n",
       "      <td>86</td>\n",
       "      <td>16521 days 11:51:54</td>\n",
       "      <td>F</td>\n",
       "      <td>NaN</td>\n",
       "      <td>NaN</td>\n",
       "      <td>NaN</td>\n",
       "      <td>WHITE</td>\n",
       "      <td>...</td>\n",
       "      <td>1707.0</td>\n",
       "      <td>1813.00</td>\n",
       "      <td>1006.0</td>\n",
       "      <td>1430.0</td>\n",
       "      <td>-424.0</td>\n",
       "      <td>NaN</td>\n",
       "      <td>NaN</td>\n",
       "      <td>NaN</td>\n",
       "      <td>1</td>\n",
       "      <td>1</td>\n",
       "    </tr>\n",
       "  </tbody>\n",
       "</table>\n",
       "<p>5 rows × 114 columns</p>\n",
       "</div>"
      ],
      "text/plain": [
       "   row_id  icustay_id  hadm_id  subject_id       age_at_intime gender  height  \\\n",
       "0   67326      216859   111970          21 32051 days 20:53:34      M    73.0   \n",
       "1   67805      280987   182104          36 25443 days 10:29:14      M     NaN   \n",
       "2   67118      216609   116009          62 25097 days 00:20:44      M    68.0   \n",
       "3   80320      281607   112086          75 28018 days 10:35:50      F     NaN   \n",
       "4   80083      206222   190243          86 16521 days 11:51:54      F     NaN   \n",
       "\n",
       "   weight        bmi                   ethnicity     ...      \\\n",
       "0   166.0  21.898668                       WHITE     ...       \n",
       "1     NaN        NaN                       WHITE     ...       \n",
       "2   150.0  22.804931  PATIENT DECLINED TO ANSWER     ...       \n",
       "3     NaN        NaN                       WHITE     ...       \n",
       "4     NaN        NaN                       WHITE     ...       \n",
       "\n",
       "  fl_day1_output_ml  fl_day1_balance_ml  fl_day2_input_ml  fl_day2_output_ml  \\\n",
       "0             129.0             2477.25            1267.5               48.0   \n",
       "1            1885.0             1116.00             508.0             1201.0   \n",
       "2             698.0             2083.00             505.0             1525.0   \n",
       "3            1410.0             1630.00              12.0             1475.0   \n",
       "4            1707.0             1813.00            1006.0             1430.0   \n",
       "\n",
       "   fl_day2_balance_ml  fl_day3_input_ml  fl_day3_output_ml  \\\n",
       "0              1219.5            1750.0               40.0   \n",
       "1              -693.0               NaN                NaN   \n",
       "2             -1020.0             335.5              730.0   \n",
       "3             -1463.0               NaN                NaN   \n",
       "4              -424.0               NaN                NaN   \n",
       "\n",
       "   fl_day3_balance_ml  most_recent_hadm  first_echo  \n",
       "0              1710.0                 1           1  \n",
       "1                 NaN                 1           1  \n",
       "2              -394.5                 1           1  \n",
       "3                 NaN                 1           1  \n",
       "4                 NaN                 1           1  \n",
       "\n",
       "[5 rows x 114 columns]"
      ]
     },
     "execution_count": 204,
     "metadata": {},
     "output_type": "execute_result"
    }
   ],
   "source": [
    "query = \\\n",
    "\"\"\"\n",
    "SELECT * FROM echo_filtered; \n",
    "\"\"\"\n",
    "uniq = pd.read_sql_query(query, con)\n",
    "final_ids = set(uniq['row_id'])\n",
    "print(uniq.shape)\n",
    "uniq.head()"
   ]
  },
  {
   "cell_type": "code",
   "execution_count": 205,
   "metadata": {
    "collapsed": false
   },
   "outputs": [
    {
     "data": {
      "text/plain": [
       "[81280, 64129, 84738, 82821, 99975]"
      ]
     },
     "execution_count": 205,
     "metadata": {},
     "output_type": "execute_result"
    }
   ],
   "source": [
    "list(check_ids - final_ids)[:5]"
   ]
  },
  {
   "cell_type": "code",
   "execution_count": 213,
   "metadata": {
    "collapsed": false
   },
   "outputs": [
    {
     "data": {
      "text/html": [
       "<div>\n",
       "<table border=\"1\" class=\"dataframe\">\n",
       "  <thead>\n",
       "    <tr style=\"text-align: right;\">\n",
       "      <th></th>\n",
       "      <th>row_id</th>\n",
       "      <th>icustay_id</th>\n",
       "      <th>hadm_id</th>\n",
       "      <th>subject_id</th>\n",
       "      <th>age_at_intime</th>\n",
       "      <th>gender</th>\n",
       "      <th>height</th>\n",
       "      <th>weight</th>\n",
       "      <th>bmi</th>\n",
       "      <th>ethnicity</th>\n",
       "      <th>...</th>\n",
       "      <th>fl_day1_input_ml</th>\n",
       "      <th>fl_day1_output_ml</th>\n",
       "      <th>fl_day1_balance_ml</th>\n",
       "      <th>fl_day2_input_ml</th>\n",
       "      <th>fl_day2_output_ml</th>\n",
       "      <th>fl_day2_balance_ml</th>\n",
       "      <th>fl_day3_input_ml</th>\n",
       "      <th>fl_day3_output_ml</th>\n",
       "      <th>fl_day3_balance_ml</th>\n",
       "      <th>most_recent_hadm</th>\n",
       "    </tr>\n",
       "  </thead>\n",
       "  <tbody>\n",
       "    <tr>\n",
       "      <th>519</th>\n",
       "      <td>64129</td>\n",
       "      <td>245210</td>\n",
       "      <td>181269</td>\n",
       "      <td>16751</td>\n",
       "      <td>15119 days 12:42:07</td>\n",
       "      <td>M</td>\n",
       "      <td>NaN</td>\n",
       "      <td>NaN</td>\n",
       "      <td>NaN</td>\n",
       "      <td>WHITE</td>\n",
       "      <td>...</td>\n",
       "      <td>5625.0</td>\n",
       "      <td>2290.0</td>\n",
       "      <td>3335.0</td>\n",
       "      <td>1004.0</td>\n",
       "      <td>1904.0</td>\n",
       "      <td>-900.0</td>\n",
       "      <td>NaN</td>\n",
       "      <td>NaN</td>\n",
       "      <td>NaN</td>\n",
       "      <td>1</td>\n",
       "    </tr>\n",
       "  </tbody>\n",
       "</table>\n",
       "<p>1 rows × 113 columns</p>\n",
       "</div>"
      ],
      "text/plain": [
       "     row_id  icustay_id  hadm_id  subject_id       age_at_intime gender  \\\n",
       "519   64129      245210   181269       16751 15119 days 12:42:07      M   \n",
       "\n",
       "     height  weight  bmi ethnicity        ...        fl_day1_input_ml  \\\n",
       "519     NaN     NaN  NaN     WHITE        ...                  5625.0   \n",
       "\n",
       "     fl_day1_output_ml  fl_day1_balance_ml  fl_day2_input_ml  \\\n",
       "519             2290.0              3335.0            1004.0   \n",
       "\n",
       "     fl_day2_output_ml  fl_day2_balance_ml  fl_day3_input_ml  \\\n",
       "519             1904.0              -900.0               NaN   \n",
       "\n",
       "     fl_day3_output_ml  fl_day3_balance_ml  most_recent_hadm  \n",
       "519                NaN                 NaN                 1  \n",
       "\n",
       "[1 rows x 113 columns]"
      ]
     },
     "execution_count": 213,
     "metadata": {},
     "output_type": "execute_result"
    }
   ],
   "source": [
    "filtered.loc[filtered['row_id'] == 64129]"
   ]
  },
  {
   "cell_type": "code",
   "execution_count": 214,
   "metadata": {
    "collapsed": false
   },
   "outputs": [
    {
     "data": {
      "text/html": [
       "<div>\n",
       "<table border=\"1\" class=\"dataframe\">\n",
       "  <thead>\n",
       "    <tr style=\"text-align: right;\">\n",
       "      <th></th>\n",
       "      <th>row_id</th>\n",
       "      <th>subject_id</th>\n",
       "      <th>admittime</th>\n",
       "      <th>ed_charttime</th>\n",
       "    </tr>\n",
       "  </thead>\n",
       "  <tbody>\n",
       "    <tr>\n",
       "      <th>519</th>\n",
       "      <td>64129</td>\n",
       "      <td>16751</td>\n",
       "      <td>2126-07-25 12:40:00</td>\n",
       "      <td>2126-07-26 10:38:00</td>\n",
       "    </tr>\n",
       "    <tr>\n",
       "      <th>520</th>\n",
       "      <td>64130</td>\n",
       "      <td>16751</td>\n",
       "      <td>2126-07-25 12:40:00</td>\n",
       "      <td>2126-07-25 16:17:00</td>\n",
       "    </tr>\n",
       "  </tbody>\n",
       "</table>\n",
       "</div>"
      ],
      "text/plain": [
       "     row_id  subject_id           admittime        ed_charttime\n",
       "519   64129       16751 2126-07-25 12:40:00 2126-07-26 10:38:00\n",
       "520   64130       16751 2126-07-25 12:40:00 2126-07-25 16:17:00"
      ]
     },
     "execution_count": 214,
     "metadata": {},
     "output_type": "execute_result"
    }
   ],
   "source": [
    "filtered.loc[filtered['subject_id'] == 16751, ['row_id', 'subject_id', 'admittime', 'ed_charttime']]"
   ]
  },
  {
   "cell_type": "code",
   "execution_count": 217,
   "metadata": {
    "collapsed": false
   },
   "outputs": [
    {
     "data": {
      "text/plain": [
       "520"
      ]
     },
     "execution_count": 217,
     "metadata": {},
     "output_type": "execute_result"
    }
   ],
   "source": [
    "filtered.loc[filtered['subject_id'] == 16751, 'ed_charttime'].idxmin()"
   ]
  },
  {
   "cell_type": "code",
   "execution_count": 215,
   "metadata": {
    "collapsed": false
   },
   "outputs": [
    {
     "data": {
      "text/html": [
       "<div>\n",
       "<table border=\"1\" class=\"dataframe\">\n",
       "  <thead>\n",
       "    <tr style=\"text-align: right;\">\n",
       "      <th></th>\n",
       "      <th>row_id</th>\n",
       "      <th>subject_id</th>\n",
       "      <th>admittime</th>\n",
       "      <th>ed_charttime</th>\n",
       "    </tr>\n",
       "  </thead>\n",
       "  <tbody>\n",
       "    <tr>\n",
       "      <th>479</th>\n",
       "      <td>64130</td>\n",
       "      <td>16751</td>\n",
       "      <td>2126-07-25 12:40:00</td>\n",
       "      <td>2126-07-25 16:17:00</td>\n",
       "    </tr>\n",
       "  </tbody>\n",
       "</table>\n",
       "</div>"
      ],
      "text/plain": [
       "     row_id  subject_id           admittime        ed_charttime\n",
       "479   64130       16751 2126-07-25 12:40:00 2126-07-25 16:17:00"
      ]
     },
     "execution_count": 215,
     "metadata": {},
     "output_type": "execute_result"
    }
   ],
   "source": [
    "uniq.loc[uniq['subject_id'] == 16751, ['row_id', 'subject_id', 'admittime', 'ed_charttime']]"
   ]
  },
  {
   "cell_type": "code",
   "execution_count": null,
   "metadata": {
    "collapsed": true
   },
   "outputs": [],
   "source": []
  }
 ],
 "metadata": {
  "anaconda-cloud": {},
  "kernelspec": {
   "display_name": "Python [conda root]",
   "language": "python",
   "name": "conda-root-py"
  },
  "language_info": {
   "codemirror_mode": {
    "name": "ipython",
    "version": 3
   },
   "file_extension": ".py",
   "mimetype": "text/x-python",
   "name": "python",
   "nbconvert_exporter": "python",
   "pygments_lexer": "ipython3",
   "version": "3.5.2"
  }
 },
 "nbformat": 4,
 "nbformat_minor": 1
}
