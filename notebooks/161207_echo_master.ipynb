{
 "cells": [
  {
   "cell_type": "code",
   "execution_count": 1,
   "metadata": {
    "collapsed": false
   },
   "outputs": [],
   "source": [
    "import numpy as np\n",
    "import pandas as pd\n",
    "import psycopg2\n",
    "\n",
    "import matplotlib.pyplot as plt\n",
    "import seaborn as sns\n",
    "sns.set_context('notebook', font_scale = 1.5)\n",
    "\n",
    "import matplotlib.style\n",
    "matplotlib.style.use('ggplot')\n",
    "%matplotlib inline"
   ]
  },
  {
   "cell_type": "code",
   "execution_count": 2,
   "metadata": {
    "collapsed": true
   },
   "outputs": [],
   "source": [
    "# create a database connection\n",
    "sqluser = 'mimic'\n",
    "dbname = 'mimic'\n",
    "schema_name = 'mimiciii'\n",
    "\n",
    "cur = None"
   ]
  },
  {
   "cell_type": "code",
   "execution_count": 3,
   "metadata": {
    "collapsed": true
   },
   "outputs": [],
   "source": [
    "if cur: \n",
    "    cur.close()\n",
    "    con.close()\n",
    "\n",
    "con = psycopg2.connect(dbname = dbname, user = sqluser)\n",
    "cur = con.cursor()\n",
    "cur.execute('SET search_path to ' + schema_name)"
   ]
  },
  {
   "cell_type": "markdown",
   "metadata": {},
   "source": [
    "Rewrite labs to get closest lab, if more than one lab, average. "
   ]
  },
  {
   "cell_type": "code",
   "execution_count": null,
   "metadata": {
    "collapsed": false
   },
   "outputs": [],
   "source": [
    "query = \\\n",
    "\"\"\"\n",
    "SELECT * FROM echo_features_labs; \n",
    "\"\"\"\n",
    "all_labs = pd.read_sql_query(query, con)\n",
    "all_labs.head()"
   ]
  },
  {
   "cell_type": "code",
   "execution_count": null,
   "metadata": {
    "collapsed": false
   },
   "outputs": [],
   "source": [
    "# check that only 1 observed value per (row_id, label, abs_dt)\n",
    "all_labs.groupby(['row_id', 'label', 'abs_dt'])['valuenum'].count().value_counts()"
   ]
  },
  {
   "cell_type": "code",
   "execution_count": null,
   "metadata": {
    "collapsed": false
   },
   "outputs": [],
   "source": [
    "query = \\\n",
    "\"\"\"\n",
    "SELECT * FROM echo_features_labs; \n",
    "\"\"\"\n",
    "squashed_labs = pd.read_sql_query(query, con)\n",
    "squashed_labs.head()"
   ]
  },
  {
   "cell_type": "code",
   "execution_count": null,
   "metadata": {
    "collapsed": false
   },
   "outputs": [],
   "source": [
    "len(squashed_labs['row_id'].unique())"
   ]
  },
  {
   "cell_type": "markdown",
   "metadata": {},
   "source": [
    "Some subjects have no data:"
   ]
  },
  {
   "cell_type": "code",
   "execution_count": null,
   "metadata": {
    "collapsed": false
   },
   "outputs": [],
   "source": [
    "squashed_labs.loc[squashed_labs['label'].isnull()].shape"
   ]
  },
  {
   "cell_type": "code",
   "execution_count": null,
   "metadata": {
    "collapsed": false
   },
   "outputs": [],
   "source": [
    "squashed_labs.loc[squashed_labs['label'].isnull()].head()"
   ]
  },
  {
   "cell_type": "code",
   "execution_count": null,
   "metadata": {
    "collapsed": false
   },
   "outputs": [],
   "source": [
    "# check that only 1 observed value per (row_id, label, abs_dt)\n",
    "squashed_labs.groupby(['row_id', 'label', 'abs_dt'])['valuenum'].count().value_counts()"
   ]
  },
  {
   "cell_type": "code",
   "execution_count": null,
   "metadata": {
    "collapsed": false
   },
   "outputs": [],
   "source": [
    "closest_labs = squashed_labs.sort_values('abs_dt').groupby(['row_id', 'label']).first()['valuenum']\n",
    "closest_labs.unstack('label').head()"
   ]
  },
  {
   "cell_type": "code",
   "execution_count": null,
   "metadata": {
    "collapsed": false
   },
   "outputs": [],
   "source": [
    "len(closest_labs.dropna().reset_index()['row_id'].unique())"
   ]
  },
  {
   "cell_type": "code",
   "execution_count": null,
   "metadata": {
    "collapsed": false
   },
   "outputs": [],
   "source": [
    "query = \\\n",
    "\"\"\"\n",
    "SELECT * FROM echo_features_labs; \n",
    "\"\"\"\n",
    "summary_labs = pd.read_sql_query(query, con)\n",
    "summary_labs.loc[summary_labs['row_id'] == 59653]"
   ]
  },
  {
   "cell_type": "code",
   "execution_count": null,
   "metadata": {
    "collapsed": false
   },
   "outputs": [],
   "source": [
    "all_labs.loc[(all_labs['row_id'] == 59653) & (all_labs['label'] == 'WBC')].sort_values('abs_dt')"
   ]
  },
  {
   "cell_type": "markdown",
   "metadata": {},
   "source": [
    "Implement filters. "
   ]
  },
  {
   "cell_type": "code",
   "execution_count": null,
   "metadata": {
    "collapsed": false
   },
   "outputs": [],
   "source": [
    "query = \\\n",
    "\"\"\"\n",
    "SELECT * FROM echo_filtered; \n",
    "\"\"\"\n",
    "filtered = pd.read_sql_query(query, con)\n",
    "filtered.head()"
   ]
  },
  {
   "cell_type": "code",
   "execution_count": null,
   "metadata": {
    "collapsed": false
   },
   "outputs": [],
   "source": [
    "# hospital admission ids match\n",
    "set(most_recent_hadm['hadm_id'].unique()) - set(uniq['hadm_id'].unique())"
   ]
  },
  {
   "cell_type": "code",
   "execution_count": null,
   "metadata": {
    "collapsed": false
   },
   "outputs": [],
   "source": [
    "most_recent_hadm_ids = filtered.loc[filtered.groupby('subject_id').apply(lambda x: x['admittime'].idxmax()), 'hadm_id'].unique()\n",
    "most_recent_hadm = filtered.loc[filtered['hadm_id'].apply(lambda i: i in most_recent_hadm_ids)]\n",
    "\n",
    "first_echo = most_recent_hadm.loc[most_recent_hadm.groupby('subject_id').apply(lambda x: x['ed_charttime'].idxmin())]\n",
    "\n",
    "check_ids = set(first_echo['row_id'].unique())\n",
    "\n",
    "first_echo.head()"
   ]
  },
  {
   "cell_type": "code",
   "execution_count": null,
   "metadata": {
    "collapsed": false
   },
   "outputs": [],
   "source": [
    "for subject_id, group in most_recent_hadm.sort_values('ed_charttime').groupby('subject_id'):\n",
    "    if subject_id == 16751:\n",
    "        break\n",
    "group"
   ]
  },
  {
   "cell_type": "code",
   "execution_count": null,
   "metadata": {
    "collapsed": false
   },
   "outputs": [],
   "source": [
    "query = \\\n",
    "\"\"\"\n",
    "SELECT * FROM echo_filtered; \n",
    "\"\"\"\n",
    "uniq = pd.read_sql_query(query, con)\n",
    "final_ids = set(uniq['row_id'])\n",
    "print(uniq.shape)\n",
    "uniq.head()"
   ]
  },
  {
   "cell_type": "code",
   "execution_count": null,
   "metadata": {
    "collapsed": false
   },
   "outputs": [],
   "source": [
    "list(check_ids - final_ids)[:5]"
   ]
  },
  {
   "cell_type": "code",
   "execution_count": null,
   "metadata": {
    "collapsed": false
   },
   "outputs": [],
   "source": [
    "filtered.loc[filtered['row_id'] == 64129]"
   ]
  },
  {
   "cell_type": "code",
   "execution_count": null,
   "metadata": {
    "collapsed": false
   },
   "outputs": [],
   "source": [
    "filtered.loc[filtered['subject_id'] == 16751, ['row_id', 'subject_id', 'admittime', 'ed_charttime']]"
   ]
  },
  {
   "cell_type": "code",
   "execution_count": null,
   "metadata": {
    "collapsed": false
   },
   "outputs": [],
   "source": [
    "filtered.loc[filtered['subject_id'] == 16751, 'ed_charttime'].idxmin()"
   ]
  },
  {
   "cell_type": "code",
   "execution_count": null,
   "metadata": {
    "collapsed": false
   },
   "outputs": [],
   "source": [
    "uniq.loc[uniq['subject_id'] == 16751, ['row_id', 'subject_id', 'admittime', 'ed_charttime']]"
   ]
  },
  {
   "cell_type": "markdown",
   "metadata": {
    "collapsed": true
   },
   "source": [
    "Based on the master table, make some plots"
   ]
  },
  {
   "cell_type": "code",
   "execution_count": 4,
   "metadata": {
    "collapsed": false
   },
   "outputs": [
    {
     "data": {
      "text/html": [
       "<div>\n",
       "<table border=\"1\" class=\"dataframe\">\n",
       "  <thead>\n",
       "    <tr style=\"text-align: right;\">\n",
       "      <th></th>\n",
       "      <th>row_id</th>\n",
       "      <th>icustay_id</th>\n",
       "      <th>hadm_id</th>\n",
       "      <th>subject_id</th>\n",
       "      <th>age_at_intime</th>\n",
       "      <th>gender</th>\n",
       "      <th>height</th>\n",
       "      <th>weight</th>\n",
       "      <th>bmi</th>\n",
       "      <th>ethnicity</th>\n",
       "      <th>...</th>\n",
       "      <th>fl_day1_balance_ml</th>\n",
       "      <th>fl_day2_input_ml</th>\n",
       "      <th>fl_day2_output_ml</th>\n",
       "      <th>fl_day2_balance_ml</th>\n",
       "      <th>fl_day3_input_ml</th>\n",
       "      <th>fl_day3_output_ml</th>\n",
       "      <th>fl_day3_balance_ml</th>\n",
       "      <th>most_recent_hadm</th>\n",
       "      <th>first_echo</th>\n",
       "      <th>mortality_30d</th>\n",
       "    </tr>\n",
       "  </thead>\n",
       "  <tbody>\n",
       "    <tr>\n",
       "      <th>0</th>\n",
       "      <td>67805</td>\n",
       "      <td>280987</td>\n",
       "      <td>182104</td>\n",
       "      <td>36</td>\n",
       "      <td>25443 days 10:29:14</td>\n",
       "      <td>M</td>\n",
       "      <td>NaN</td>\n",
       "      <td>NaN</td>\n",
       "      <td>NaN</td>\n",
       "      <td>WHITE</td>\n",
       "      <td>...</td>\n",
       "      <td>1116.0</td>\n",
       "      <td>508.0</td>\n",
       "      <td>1201.0</td>\n",
       "      <td>-693.0</td>\n",
       "      <td>NaN</td>\n",
       "      <td>NaN</td>\n",
       "      <td>NaN</td>\n",
       "      <td>1</td>\n",
       "      <td>1</td>\n",
       "      <td>False</td>\n",
       "    </tr>\n",
       "    <tr>\n",
       "      <th>1</th>\n",
       "      <td>67118</td>\n",
       "      <td>216609</td>\n",
       "      <td>116009</td>\n",
       "      <td>62</td>\n",
       "      <td>25097 days 00:20:44</td>\n",
       "      <td>M</td>\n",
       "      <td>68.0</td>\n",
       "      <td>150.0</td>\n",
       "      <td>22.804931</td>\n",
       "      <td>PATIENT DECLINED TO ANSWER</td>\n",
       "      <td>...</td>\n",
       "      <td>2083.0</td>\n",
       "      <td>505.0</td>\n",
       "      <td>1525.0</td>\n",
       "      <td>-1020.0</td>\n",
       "      <td>335.5</td>\n",
       "      <td>730.0</td>\n",
       "      <td>-394.5</td>\n",
       "      <td>1</td>\n",
       "      <td>1</td>\n",
       "      <td>False</td>\n",
       "    </tr>\n",
       "    <tr>\n",
       "      <th>2</th>\n",
       "      <td>80320</td>\n",
       "      <td>281607</td>\n",
       "      <td>112086</td>\n",
       "      <td>75</td>\n",
       "      <td>28018 days 10:35:50</td>\n",
       "      <td>F</td>\n",
       "      <td>NaN</td>\n",
       "      <td>NaN</td>\n",
       "      <td>NaN</td>\n",
       "      <td>WHITE</td>\n",
       "      <td>...</td>\n",
       "      <td>1630.0</td>\n",
       "      <td>12.0</td>\n",
       "      <td>1475.0</td>\n",
       "      <td>-1463.0</td>\n",
       "      <td>NaN</td>\n",
       "      <td>NaN</td>\n",
       "      <td>NaN</td>\n",
       "      <td>1</td>\n",
       "      <td>1</td>\n",
       "      <td>False</td>\n",
       "    </tr>\n",
       "    <tr>\n",
       "      <th>3</th>\n",
       "      <td>80083</td>\n",
       "      <td>206222</td>\n",
       "      <td>190243</td>\n",
       "      <td>86</td>\n",
       "      <td>16521 days 11:51:54</td>\n",
       "      <td>F</td>\n",
       "      <td>NaN</td>\n",
       "      <td>NaN</td>\n",
       "      <td>NaN</td>\n",
       "      <td>WHITE</td>\n",
       "      <td>...</td>\n",
       "      <td>1813.0</td>\n",
       "      <td>1006.0</td>\n",
       "      <td>1430.0</td>\n",
       "      <td>-424.0</td>\n",
       "      <td>NaN</td>\n",
       "      <td>NaN</td>\n",
       "      <td>NaN</td>\n",
       "      <td>1</td>\n",
       "      <td>1</td>\n",
       "      <td>False</td>\n",
       "    </tr>\n",
       "    <tr>\n",
       "      <th>4</th>\n",
       "      <td>82745</td>\n",
       "      <td>232514</td>\n",
       "      <td>114585</td>\n",
       "      <td>115</td>\n",
       "      <td>27643 days 13:22:28</td>\n",
       "      <td>F</td>\n",
       "      <td>63.0</td>\n",
       "      <td>207.0</td>\n",
       "      <td>36.664399</td>\n",
       "      <td>WHITE</td>\n",
       "      <td>...</td>\n",
       "      <td>2255.0</td>\n",
       "      <td>1105.5</td>\n",
       "      <td>1466.0</td>\n",
       "      <td>-360.5</td>\n",
       "      <td>NaN</td>\n",
       "      <td>NaN</td>\n",
       "      <td>NaN</td>\n",
       "      <td>1</td>\n",
       "      <td>1</td>\n",
       "      <td>False</td>\n",
       "    </tr>\n",
       "  </tbody>\n",
       "</table>\n",
       "<p>5 rows × 115 columns</p>\n",
       "</div>"
      ],
      "text/plain": [
       "   row_id  icustay_id  hadm_id  subject_id       age_at_intime gender  height  \\\n",
       "0   67805      280987   182104          36 25443 days 10:29:14      M     NaN   \n",
       "1   67118      216609   116009          62 25097 days 00:20:44      M    68.0   \n",
       "2   80320      281607   112086          75 28018 days 10:35:50      F     NaN   \n",
       "3   80083      206222   190243          86 16521 days 11:51:54      F     NaN   \n",
       "4   82745      232514   114585         115 27643 days 13:22:28      F    63.0   \n",
       "\n",
       "   weight        bmi                   ethnicity      ...        \\\n",
       "0     NaN        NaN                       WHITE      ...         \n",
       "1   150.0  22.804931  PATIENT DECLINED TO ANSWER      ...         \n",
       "2     NaN        NaN                       WHITE      ...         \n",
       "3     NaN        NaN                       WHITE      ...         \n",
       "4   207.0  36.664399                       WHITE      ...         \n",
       "\n",
       "  fl_day1_balance_ml  fl_day2_input_ml  fl_day2_output_ml  fl_day2_balance_ml  \\\n",
       "0             1116.0             508.0             1201.0              -693.0   \n",
       "1             2083.0             505.0             1525.0             -1020.0   \n",
       "2             1630.0              12.0             1475.0             -1463.0   \n",
       "3             1813.0            1006.0             1430.0              -424.0   \n",
       "4             2255.0            1105.5             1466.0              -360.5   \n",
       "\n",
       "   fl_day3_input_ml  fl_day3_output_ml  fl_day3_balance_ml  most_recent_hadm  \\\n",
       "0               NaN                NaN                 NaN                 1   \n",
       "1             335.5              730.0              -394.5                 1   \n",
       "2               NaN                NaN                 NaN                 1   \n",
       "3               NaN                NaN                 NaN                 1   \n",
       "4               NaN                NaN                 NaN                 1   \n",
       "\n",
       "   first_echo  mortality_30d  \n",
       "0           1          False  \n",
       "1           1          False  \n",
       "2           1          False  \n",
       "3           1          False  \n",
       "4           1          False  \n",
       "\n",
       "[5 rows x 115 columns]"
      ]
     },
     "execution_count": 4,
     "metadata": {},
     "output_type": "execute_result"
    }
   ],
   "source": [
    "query = \\\n",
    "\"\"\"\n",
    "SELECT * FROM echo_filtered; \n",
    "\"\"\"\n",
    "filtered = pd.read_sql_query(query, con)\n",
    "filtered['mortality_30d'] = filtered['ea_days_after_discharge_death'] <= 30\n",
    "\n",
    "filtered.head()"
   ]
  },
  {
   "cell_type": "markdown",
   "metadata": {},
   "source": [
    "Does LV systolic function impact 30-day mortality?"
   ]
  },
  {
   "cell_type": "code",
   "execution_count": null,
   "metadata": {
    "collapsed": false
   },
   "outputs": [],
   "source": [
    "sns.barplot(data = filtered[['ea_lv_systolic', 'mortality_30d']], x = 'ea_lv_systolic', y = 'mortality_30d')\n",
    "plt.ylabel('30-day mortality')"
   ]
  },
  {
   "cell_type": "code",
   "execution_count": null,
   "metadata": {
    "collapsed": false
   },
   "outputs": [],
   "source": [
    "to_plot = filtered.groupby(['ea_lv_systolic', 'mortality_30d'])['row_id'].count().unstack()\n",
    "to_plot.div(to_plot.sum(axis = 1), axis = 'index')"
   ]
  },
  {
   "cell_type": "markdown",
   "metadata": {},
   "source": [
    "Test with Fisher. "
   ]
  },
  {
   "cell_type": "code",
   "execution_count": null,
   "metadata": {
    "collapsed": false
   },
   "outputs": [],
   "source": [
    "to_plot = filtered.groupby(['ea_lv_systolic', 'mortality_30d'])['row_id'].count().unstack()\n",
    "import scipy as sp\n",
    "import scipy.stats\n",
    "to_plot.head()"
   ]
  },
  {
   "cell_type": "code",
   "execution_count": null,
   "metadata": {
    "collapsed": false
   },
   "outputs": [],
   "source": [
    "sp.stats.fisher_exact(to_plot.loc[[3, 0],:])"
   ]
  },
  {
   "cell_type": "code",
   "execution_count": null,
   "metadata": {
    "collapsed": false
   },
   "outputs": [],
   "source": [
    "(filtered['age_at_intime'] / np.timedelta64('1', 'Y')).hist()"
   ]
  },
  {
   "cell_type": "markdown",
   "metadata": {},
   "source": [
    "Does age affect 30-day mortality? "
   ]
  },
  {
   "cell_type": "code",
   "execution_count": null,
   "metadata": {
    "collapsed": false
   },
   "outputs": [],
   "source": [
    "filtered['ex_congestive_heart_failure'].value_counts()"
   ]
  },
  {
   "cell_type": "code",
   "execution_count": null,
   "metadata": {
    "collapsed": false
   },
   "outputs": [],
   "source": [
    "filtered.to_csv(\"../../data/generated/master_161208.csv\")\n",
    "filtered.head()"
   ]
  },
  {
   "cell_type": "markdown",
   "metadata": {},
   "source": [
    "Does variation in fluid conditioned on LV systolic function impact 30-day mortality?"
   ]
  },
  {
   "cell_type": "code",
   "execution_count": 5,
   "metadata": {
    "collapsed": false
   },
   "outputs": [],
   "source": [
    "d = filtered[['ea_lv_systolic', 'fl_day1_balance_ml', 'mortality_30d']].copy()\n",
    "d = d.loc[d['ea_lv_systolic'] != -50].dropna()\n",
    "d['ea_lv_systolic'] = d['ea_lv_systolic'] + 1"
   ]
  },
  {
   "cell_type": "code",
   "execution_count": 30,
   "metadata": {
    "collapsed": false
   },
   "outputs": [
    {
     "data": {
      "text/plain": [
       "LogisticRegressionCV(Cs=10, class_weight=None, cv=None, dual=False,\n",
       "           fit_intercept=True, intercept_scaling=1.0, max_iter=100,\n",
       "           multi_class='ovr', n_jobs=1, penalty='l2', random_state=None,\n",
       "           refit=True, scoring=None, solver='lbfgs', tol=0.0001, verbose=0)"
      ]
     },
     "execution_count": 30,
     "metadata": {},
     "output_type": "execute_result"
    }
   ],
   "source": [
    "import sklearn as sk\n",
    "import sklearn.preprocessing\n",
    "import sklearn.model_selection\n",
    "import sklearn.linear_model\n",
    "import sklearn.metrics\n",
    "\n",
    "encoder = sk.preprocessing.OneHotEncoder(sparse = False)\n",
    "\n",
    "X = encoder.fit_transform(d[['ea_lv_systolic']])\n",
    "X = np.hstack([X, d[['fl_day1_balance_ml']]])\n",
    "y = d['mortality_30d']\n",
    "\n",
    "poly = sk.preprocessing.PolynomialFeatures(2)\n",
    "X = poly.fit_transform(X)\n",
    "\n",
    "X_train, X_test, y_train, y_test = sk.model_selection.train_test_split(X, y)\n",
    "\n",
    "model = sk.linear_model.LogisticRegressionCV()\n",
    "model.fit(X_train, y_train)"
   ]
  },
  {
   "cell_type": "code",
   "execution_count": 31,
   "metadata": {
    "collapsed": false
   },
   "outputs": [
    {
     "name": "stdout",
     "output_type": "stream",
     "text": [
      "             precision    recall  f1-score   support\n",
      "\n",
      "      False       0.92      0.77      0.84       383\n",
      "       True       0.19      0.43      0.26        46\n",
      "\n",
      "avg / total       0.84      0.73      0.78       429\n",
      "\n"
     ]
    }
   ],
   "source": [
    "print(sk.metrics.classification_report(y_test, model.predict(X_test)))"
   ]
  },
  {
   "cell_type": "code",
   "execution_count": 32,
   "metadata": {
    "collapsed": false
   },
   "outputs": [
    {
     "data": {
      "text/plain": [
       "0    -1.118906e-06\n",
       "1    -7.297807e-09\n",
       "2    -8.804808e-07\n",
       "3    -1.638701e-07\n",
       "4    -5.514856e-08\n",
       "5    -1.210851e-08\n",
       "6    -2.773400e-04\n",
       "7    -7.297807e-09\n",
       "8     0.000000e+00\n",
       "9     0.000000e+00\n",
       "10    0.000000e+00\n",
       "11    0.000000e+00\n",
       "12    1.117224e-04\n",
       "13   -8.804808e-07\n",
       "14    0.000000e+00\n",
       "15    0.000000e+00\n",
       "16    0.000000e+00\n",
       "17   -1.889621e-04\n",
       "18   -1.638701e-07\n",
       "19    0.000000e+00\n",
       "20    0.000000e+00\n",
       "21   -1.579813e-04\n",
       "22   -5.514856e-08\n",
       "23    0.000000e+00\n",
       "24   -8.134915e-05\n",
       "25   -1.210851e-08\n",
       "26    3.923015e-05\n",
       "27    1.038453e-08\n",
       "dtype: float64"
      ]
     },
     "execution_count": 32,
     "metadata": {},
     "output_type": "execute_result"
    }
   ],
   "source": [
    "pd.Series(model.coef_[0])"
   ]
  },
  {
   "cell_type": "code",
   "execution_count": null,
   "metadata": {
    "collapsed": true
   },
   "outputs": [],
   "source": []
  }
 ],
 "metadata": {
  "anaconda-cloud": {},
  "kernelspec": {
   "display_name": "Python [conda root]",
   "language": "python",
   "name": "conda-root-py"
  },
  "language_info": {
   "codemirror_mode": {
    "name": "ipython",
    "version": 3
   },
   "file_extension": ".py",
   "mimetype": "text/x-python",
   "name": "python",
   "nbconvert_exporter": "python",
   "pygments_lexer": "ipython3",
   "version": "3.5.2"
  }
 },
 "nbformat": 4,
 "nbformat_minor": 1
}
