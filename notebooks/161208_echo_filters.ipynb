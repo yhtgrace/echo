{
 "cells": [
  {
   "cell_type": "code",
   "execution_count": 2,
   "metadata": {
    "collapsed": true
   },
   "outputs": [],
   "source": [
    "import numpy as np\n",
    "import pandas as pd\n",
    "import psycopg2\n",
    "\n",
    "import matplotlib.pyplot as plt\n",
    "import seaborn as sns\n",
    "\n",
    "import matplotlib.style\n",
    "matplotlib.style.use('ggplot')\n",
    "%matplotlib inline"
   ]
  },
  {
   "cell_type": "code",
   "execution_count": 3,
   "metadata": {
    "collapsed": true
   },
   "outputs": [],
   "source": [
    "# create a database connection\n",
    "sqluser = 'mimic'\n",
    "dbname = 'mimic'\n",
    "schema_name = 'mimiciii'\n",
    "\n",
    "cur = None"
   ]
  },
  {
   "cell_type": "code",
   "execution_count": 57,
   "metadata": {
    "collapsed": true
   },
   "outputs": [],
   "source": [
    "if cur: \n",
    "    cur.close()\n",
    "    con.close()\n",
    "\n",
    "con = psycopg2.connect(dbname = dbname, user = sqluser)\n",
    "cur = con.cursor()\n",
    "cur.execute('SET search_path to ' + schema_name)"
   ]
  },
  {
   "cell_type": "code",
   "execution_count": 4,
   "metadata": {
    "collapsed": false
   },
   "outputs": [
    {
     "data": {
      "text/html": [
       "<div>\n",
       "<table border=\"1\" class=\"dataframe\">\n",
       "  <thead>\n",
       "    <tr style=\"text-align: right;\">\n",
       "      <th></th>\n",
       "      <th>row_id</th>\n",
       "      <th>icustay_id</th>\n",
       "      <th>hadm_id</th>\n",
       "      <th>subject_id</th>\n",
       "      <th>age_at_intime</th>\n",
       "      <th>gender</th>\n",
       "      <th>height</th>\n",
       "      <th>weight</th>\n",
       "      <th>bmi</th>\n",
       "      <th>ethnicity</th>\n",
       "      <th>...</th>\n",
       "      <th>mech_vent</th>\n",
       "      <th>fl_day1_input_ml</th>\n",
       "      <th>fl_day1_output_ml</th>\n",
       "      <th>fl_day1_balance_ml</th>\n",
       "      <th>fl_day2_input_ml</th>\n",
       "      <th>fl_day2_output_ml</th>\n",
       "      <th>fl_day2_balance_ml</th>\n",
       "      <th>fl_day3_input_ml</th>\n",
       "      <th>fl_day3_output_ml</th>\n",
       "      <th>fl_day3_balance_ml</th>\n",
       "    </tr>\n",
       "  </thead>\n",
       "  <tbody>\n",
       "    <tr>\n",
       "      <th>0</th>\n",
       "      <td>103176</td>\n",
       "      <td>204988</td>\n",
       "      <td>100068</td>\n",
       "      <td>9889</td>\n",
       "      <td>27132 days 10:53:25</td>\n",
       "      <td>F</td>\n",
       "      <td>60.0</td>\n",
       "      <td>140.0</td>\n",
       "      <td>27.338889</td>\n",
       "      <td>BLACK/AFRICAN AMERICAN</td>\n",
       "      <td>...</td>\n",
       "      <td>1</td>\n",
       "      <td>291.415840</td>\n",
       "      <td>610.0</td>\n",
       "      <td>-318.584160</td>\n",
       "      <td>510.775198</td>\n",
       "      <td>827.0</td>\n",
       "      <td>-316.224802</td>\n",
       "      <td>440.015309</td>\n",
       "      <td>800.0</td>\n",
       "      <td>-359.984691</td>\n",
       "    </tr>\n",
       "    <tr>\n",
       "      <th>1</th>\n",
       "      <td>86108</td>\n",
       "      <td>272965</td>\n",
       "      <td>100282</td>\n",
       "      <td>30129</td>\n",
       "      <td>27235 days 17:33:37</td>\n",
       "      <td>F</td>\n",
       "      <td>NaN</td>\n",
       "      <td>160.0</td>\n",
       "      <td>NaN</td>\n",
       "      <td>UNABLE TO OBTAIN</td>\n",
       "      <td>...</td>\n",
       "      <td>1</td>\n",
       "      <td>11595.000000</td>\n",
       "      <td>1390.0</td>\n",
       "      <td>10205.000000</td>\n",
       "      <td>2914.000000</td>\n",
       "      <td>1715.0</td>\n",
       "      <td>1199.000000</td>\n",
       "      <td>1361.000000</td>\n",
       "      <td>1285.0</td>\n",
       "      <td>76.000000</td>\n",
       "    </tr>\n",
       "    <tr>\n",
       "      <th>2</th>\n",
       "      <td>86107</td>\n",
       "      <td>272965</td>\n",
       "      <td>100282</td>\n",
       "      <td>30129</td>\n",
       "      <td>27235 days 17:33:37</td>\n",
       "      <td>F</td>\n",
       "      <td>67.0</td>\n",
       "      <td>160.0</td>\n",
       "      <td>25.056806</td>\n",
       "      <td>UNABLE TO OBTAIN</td>\n",
       "      <td>...</td>\n",
       "      <td>1</td>\n",
       "      <td>640.000000</td>\n",
       "      <td>1578.0</td>\n",
       "      <td>-938.000000</td>\n",
       "      <td>240.000000</td>\n",
       "      <td>4170.0</td>\n",
       "      <td>-3930.000000</td>\n",
       "      <td>240.000000</td>\n",
       "      <td>2275.0</td>\n",
       "      <td>-2035.000000</td>\n",
       "    </tr>\n",
       "    <tr>\n",
       "      <th>3</th>\n",
       "      <td>99138</td>\n",
       "      <td>287636</td>\n",
       "      <td>100452</td>\n",
       "      <td>4410</td>\n",
       "      <td>-104004 days +21:31:40.290448</td>\n",
       "      <td>F</td>\n",
       "      <td>64.0</td>\n",
       "      <td>130.0</td>\n",
       "      <td>22.312012</td>\n",
       "      <td>BLACK/AFRICAN AMERICAN</td>\n",
       "      <td>...</td>\n",
       "      <td>0</td>\n",
       "      <td>795.000000</td>\n",
       "      <td>492.0</td>\n",
       "      <td>303.000000</td>\n",
       "      <td>120.000000</td>\n",
       "      <td>930.0</td>\n",
       "      <td>-810.000000</td>\n",
       "      <td>NaN</td>\n",
       "      <td>NaN</td>\n",
       "      <td>NaN</td>\n",
       "    </tr>\n",
       "    <tr>\n",
       "      <th>4</th>\n",
       "      <td>84813</td>\n",
       "      <td>230076</td>\n",
       "      <td>100465</td>\n",
       "      <td>91327</td>\n",
       "      <td>15504 days 18:06:11</td>\n",
       "      <td>F</td>\n",
       "      <td>65.0</td>\n",
       "      <td>165.0</td>\n",
       "      <td>27.454438</td>\n",
       "      <td>WHITE</td>\n",
       "      <td>...</td>\n",
       "      <td>0</td>\n",
       "      <td>231.333331</td>\n",
       "      <td>400.0</td>\n",
       "      <td>-168.666669</td>\n",
       "      <td>1090.000005</td>\n",
       "      <td>2840.0</td>\n",
       "      <td>-1749.999995</td>\n",
       "      <td>356.333332</td>\n",
       "      <td>1600.0</td>\n",
       "      <td>-1243.666668</td>\n",
       "    </tr>\n",
       "  </tbody>\n",
       "</table>\n",
       "<p>5 rows × 112 columns</p>\n",
       "</div>"
      ],
      "text/plain": [
       "   row_id  icustay_id  hadm_id  subject_id                 age_at_intime  \\\n",
       "0  103176      204988   100068        9889           27132 days 10:53:25   \n",
       "1   86108      272965   100282       30129           27235 days 17:33:37   \n",
       "2   86107      272965   100282       30129           27235 days 17:33:37   \n",
       "3   99138      287636   100452        4410 -104004 days +21:31:40.290448   \n",
       "4   84813      230076   100465       91327           15504 days 18:06:11   \n",
       "\n",
       "  gender  height  weight        bmi               ethnicity  \\\n",
       "0      F    60.0   140.0  27.338889  BLACK/AFRICAN AMERICAN   \n",
       "1      F     NaN   160.0        NaN        UNABLE TO OBTAIN   \n",
       "2      F    67.0   160.0  25.056806        UNABLE TO OBTAIN   \n",
       "3      F    64.0   130.0  22.312012  BLACK/AFRICAN AMERICAN   \n",
       "4      F    65.0   165.0  27.454438                   WHITE   \n",
       "\n",
       "          ...         mech_vent  fl_day1_input_ml  fl_day1_output_ml  \\\n",
       "0         ...                 1        291.415840              610.0   \n",
       "1         ...                 1      11595.000000             1390.0   \n",
       "2         ...                 1        640.000000             1578.0   \n",
       "3         ...                 0        795.000000              492.0   \n",
       "4         ...                 0        231.333331              400.0   \n",
       "\n",
       "   fl_day1_balance_ml  fl_day2_input_ml  fl_day2_output_ml  \\\n",
       "0         -318.584160        510.775198              827.0   \n",
       "1        10205.000000       2914.000000             1715.0   \n",
       "2         -938.000000        240.000000             4170.0   \n",
       "3          303.000000        120.000000              930.0   \n",
       "4         -168.666669       1090.000005             2840.0   \n",
       "\n",
       "   fl_day2_balance_ml  fl_day3_input_ml  fl_day3_output_ml  fl_day3_balance_ml  \n",
       "0         -316.224802        440.015309              800.0         -359.984691  \n",
       "1         1199.000000       1361.000000             1285.0           76.000000  \n",
       "2        -3930.000000        240.000000             2275.0        -2035.000000  \n",
       "3         -810.000000               NaN                NaN                 NaN  \n",
       "4        -1749.999995        356.333332             1600.0        -1243.666668  \n",
       "\n",
       "[5 rows x 112 columns]"
      ]
     },
     "execution_count": 4,
     "metadata": {},
     "output_type": "execute_result"
    }
   ],
   "source": [
    "query = \\\n",
    "\"\"\"\n",
    "SELECT * FROM echo_features; \n",
    "\"\"\"\n",
    "ef = pd.read_sql_query(query, con)\n",
    "ef.head()"
   ]
  },
  {
   "cell_type": "code",
   "execution_count": 12,
   "metadata": {
    "collapsed": false
   },
   "outputs": [
    {
     "name": "stdout",
     "output_type": "stream",
     "text": [
      "8425\n",
      "8318\n",
      "7897\n"
     ]
    },
    {
     "data": {
      "text/plain": [
       "(11658, 112)"
      ]
     },
     "execution_count": 12,
     "metadata": {},
     "output_type": "execute_result"
    }
   ],
   "source": [
    "filt = ef['ps_vaso']\n",
    "print(len(ef.loc[filt, 'icustay_id'].unique()))\n",
    "print(len(ef.loc[filt, 'hadm_id'].unique()))\n",
    "print(len(ef.loc[filt, 'subject_id'].unique()))\n",
    "ef.loc[filt].shape"
   ]
  },
  {
   "cell_type": "code",
   "execution_count": 13,
   "metadata": {
    "collapsed": false
   },
   "outputs": [
    {
     "name": "stdout",
     "output_type": "stream",
     "text": [
      "2681\n",
      "2667\n",
      "2624\n"
     ]
    },
    {
     "data": {
      "text/plain": [
       "(3211, 112)"
      ]
     },
     "execution_count": 13,
     "metadata": {},
     "output_type": "execute_result"
    }
   ],
   "source": [
    "filt = ef['ps_vaso'] & ~ef['diag_xc']\n",
    "print(len(ef.loc[filt, 'icustay_id'].unique()))\n",
    "print(len(ef.loc[filt, 'hadm_id'].unique()))\n",
    "print(len(ef.loc[filt, 'subject_id'].unique()))\n",
    "ef.loc[filt].shape"
   ]
  },
  {
   "cell_type": "code",
   "execution_count": 14,
   "metadata": {
    "collapsed": false
   },
   "outputs": [
    {
     "name": "stdout",
     "output_type": "stream",
     "text": [
      "2548\n",
      "2535\n",
      "2499\n"
     ]
    },
    {
     "data": {
      "text/plain": [
       "(3041, 112)"
      ]
     },
     "execution_count": 14,
     "metadata": {},
     "output_type": "execute_result"
    }
   ],
   "source": [
    "filt = ef['ps_vaso'] & ~ef['diag_xc'] & ~ef['chronic_dialysis_flg']\n",
    "print(len(ef.loc[filt, 'icustay_id'].unique()))\n",
    "print(len(ef.loc[filt, 'hadm_id'].unique()))\n",
    "print(len(ef.loc[filt, 'subject_id'].unique()))\n",
    "ef.loc[filt].shape"
   ]
  },
  {
   "cell_type": "code",
   "execution_count": 15,
   "metadata": {
    "collapsed": false
   },
   "outputs": [
    {
     "name": "stdout",
     "output_type": "stream",
     "text": [
      "2502\n",
      "2489\n",
      "2453\n"
     ]
    },
    {
     "data": {
      "text/plain": [
       "(2911, 112)"
      ]
     },
     "execution_count": 15,
     "metadata": {},
     "output_type": "execute_result"
    }
   ],
   "source": [
    "filt = ef['ps_vaso'] & ~ef['diag_xc'] & ~ef['chronic_dialysis_flg'] & ef['age_filter']\n",
    "print(len(ef.loc[filt, 'icustay_id'].unique()))\n",
    "print(len(ef.loc[filt, 'hadm_id'].unique()))\n",
    "print(len(ef.loc[filt, 'subject_id'].unique()))\n",
    "ef.loc[filt].shape"
   ]
  },
  {
   "cell_type": "code",
   "execution_count": 16,
   "metadata": {
    "collapsed": false
   },
   "outputs": [
    {
     "name": "stdout",
     "output_type": "stream",
     "text": [
      "2117\n",
      "2114\n",
      "2094\n"
     ]
    },
    {
     "data": {
      "text/plain": [
       "(2239, 112)"
      ]
     },
     "execution_count": 16,
     "metadata": {},
     "output_type": "execute_result"
    }
   ],
   "source": [
    "filt = ef['ps_vaso'] & ~ef['diag_xc'] & ~ef['chronic_dialysis_flg'] & ef['age_filter'] & ef['time_filter']\n",
    "print(len(ef.loc[filt, 'icustay_id'].unique()))\n",
    "print(len(ef.loc[filt, 'hadm_id'].unique()))\n",
    "print(len(ef.loc[filt, 'subject_id'].unique()))\n",
    "ef.loc[filt].shape"
   ]
  },
  {
   "cell_type": "markdown",
   "metadata": {
    "collapsed": true
   },
   "source": [
    "# Calculate the number of echos filtered out by various diagnoses. "
   ]
  },
  {
   "cell_type": "code",
   "execution_count": 36,
   "metadata": {
    "collapsed": false
   },
   "outputs": [
    {
     "data": {
      "text/html": [
       "<div>\n",
       "<table border=\"1\" class=\"dataframe\">\n",
       "  <thead>\n",
       "    <tr style=\"text-align: right;\">\n",
       "      <th></th>\n",
       "      <th>icd9_code</th>\n",
       "      <th>short_title</th>\n",
       "      <th>long_title</th>\n",
       "      <th>k_card</th>\n",
       "      <th>k_heart</th>\n",
       "      <th>k_hemorrhag</th>\n",
       "      <th>k_bleed</th>\n",
       "      <th>k_embolism</th>\n",
       "      <th>k_shock</th>\n",
       "      <th>k_clot</th>\n",
       "      <th>num</th>\n",
       "      <th>exclude</th>\n",
       "      <th>comments</th>\n",
       "    </tr>\n",
       "  </thead>\n",
       "  <tbody>\n",
       "    <tr>\n",
       "      <th>0</th>\n",
       "      <td>3641</td>\n",
       "      <td>Meningococc pericarditis</td>\n",
       "      <td>Meningococcal pericarditis</td>\n",
       "      <td>1</td>\n",
       "      <td>0</td>\n",
       "      <td>0</td>\n",
       "      <td>0</td>\n",
       "      <td>0</td>\n",
       "      <td>0</td>\n",
       "      <td>0</td>\n",
       "      <td>11</td>\n",
       "      <td>1</td>\n",
       "      <td>None</td>\n",
       "    </tr>\n",
       "    <tr>\n",
       "      <th>1</th>\n",
       "      <td>521</td>\n",
       "      <td>Varicella pneumonitis</td>\n",
       "      <td>Varicella (hemorrhagic) pneumonitis</td>\n",
       "      <td>0</td>\n",
       "      <td>0</td>\n",
       "      <td>1</td>\n",
       "      <td>0</td>\n",
       "      <td>0</td>\n",
       "      <td>0</td>\n",
       "      <td>0</td>\n",
       "      <td>4</td>\n",
       "      <td>1</td>\n",
       "      <td>None</td>\n",
       "    </tr>\n",
       "    <tr>\n",
       "      <th>2</th>\n",
       "      <td>860</td>\n",
       "      <td>Chagas disease of heart</td>\n",
       "      <td>Chagas' disease with heart involvement</td>\n",
       "      <td>0</td>\n",
       "      <td>1</td>\n",
       "      <td>0</td>\n",
       "      <td>0</td>\n",
       "      <td>0</td>\n",
       "      <td>0</td>\n",
       "      <td>0</td>\n",
       "      <td>1</td>\n",
       "      <td>1</td>\n",
       "      <td>None</td>\n",
       "    </tr>\n",
       "    <tr>\n",
       "      <th>3</th>\n",
       "      <td>11281</td>\n",
       "      <td>Candidal endocarditis</td>\n",
       "      <td>Candidal endocarditis</td>\n",
       "      <td>1</td>\n",
       "      <td>0</td>\n",
       "      <td>0</td>\n",
       "      <td>0</td>\n",
       "      <td>0</td>\n",
       "      <td>0</td>\n",
       "      <td>0</td>\n",
       "      <td>6</td>\n",
       "      <td>1</td>\n",
       "      <td>None</td>\n",
       "    </tr>\n",
       "    <tr>\n",
       "      <th>4</th>\n",
       "      <td>1510</td>\n",
       "      <td>Mal neo stomach cardia</td>\n",
       "      <td>Malignant neoplasm of cardia</td>\n",
       "      <td>1</td>\n",
       "      <td>0</td>\n",
       "      <td>0</td>\n",
       "      <td>0</td>\n",
       "      <td>0</td>\n",
       "      <td>0</td>\n",
       "      <td>0</td>\n",
       "      <td>21</td>\n",
       "      <td>1</td>\n",
       "      <td>None</td>\n",
       "    </tr>\n",
       "  </tbody>\n",
       "</table>\n",
       "</div>"
      ],
      "text/plain": [
       "  icd9_code               short_title                              long_title  \\\n",
       "0      3641  Meningococc pericarditis              Meningococcal pericarditis   \n",
       "1       521     Varicella pneumonitis     Varicella (hemorrhagic) pneumonitis   \n",
       "2       860   Chagas disease of heart  Chagas' disease with heart involvement   \n",
       "3     11281     Candidal endocarditis                   Candidal endocarditis   \n",
       "4      1510    Mal neo stomach cardia            Malignant neoplasm of cardia   \n",
       "\n",
       "   k_card  k_heart  k_hemorrhag  k_bleed  k_embolism  k_shock  k_clot  num  \\\n",
       "0       1        0            0        0           0        0       0   11   \n",
       "1       0        0            1        0           0        0       0    4   \n",
       "2       0        1            0        0           0        0       0    1   \n",
       "3       1        0            0        0           0        0       0    6   \n",
       "4       1        0            0        0           0        0       0   21   \n",
       "\n",
       "   exclude comments  \n",
       "0        1     None  \n",
       "1        1     None  \n",
       "2        1     None  \n",
       "3        1     None  \n",
       "4        1     None  "
      ]
     },
     "execution_count": 36,
     "metadata": {},
     "output_type": "execute_result"
    }
   ],
   "source": [
    "query = \\\n",
    "\"\"\"\n",
    "SELECT * FROM d_diagnoses_xc_annot \n",
    "WHERE exclude = 1\n",
    "\"\"\"\n",
    "dx = pd.read_sql_query(query, con)\n",
    "dx.head()"
   ]
  },
  {
   "cell_type": "code",
   "execution_count": 64,
   "metadata": {
    "collapsed": false
   },
   "outputs": [
    {
     "data": {
      "text/html": [
       "<div>\n",
       "<table border=\"1\" class=\"dataframe\">\n",
       "  <thead>\n",
       "    <tr style=\"text-align: right;\">\n",
       "      <th></th>\n",
       "      <th>diag_xc</th>\n",
       "      <th>row_id</th>\n",
       "      <th>icustay_id</th>\n",
       "      <th>hadm_id</th>\n",
       "      <th>subject_id</th>\n",
       "    </tr>\n",
       "  </thead>\n",
       "  <tbody>\n",
       "    <tr>\n",
       "      <th>0</th>\n",
       "      <td>True</td>\n",
       "      <td>104824</td>\n",
       "      <td>276795</td>\n",
       "      <td>124493</td>\n",
       "      <td>69851</td>\n",
       "    </tr>\n",
       "    <tr>\n",
       "      <th>1</th>\n",
       "      <td>True</td>\n",
       "      <td>59659</td>\n",
       "      <td>217810</td>\n",
       "      <td>188268</td>\n",
       "      <td>82208</td>\n",
       "    </tr>\n",
       "    <tr>\n",
       "      <th>2</th>\n",
       "      <td>True</td>\n",
       "      <td>67634</td>\n",
       "      <td>263932</td>\n",
       "      <td>168160</td>\n",
       "      <td>24182</td>\n",
       "    </tr>\n",
       "    <tr>\n",
       "      <th>3</th>\n",
       "      <td>True</td>\n",
       "      <td>99717</td>\n",
       "      <td>210970</td>\n",
       "      <td>199751</td>\n",
       "      <td>84020</td>\n",
       "    </tr>\n",
       "    <tr>\n",
       "      <th>4</th>\n",
       "      <td>True</td>\n",
       "      <td>74840</td>\n",
       "      <td>252250</td>\n",
       "      <td>127064</td>\n",
       "      <td>24477</td>\n",
       "    </tr>\n",
       "  </tbody>\n",
       "</table>\n",
       "</div>"
      ],
      "text/plain": [
       "  diag_xc  row_id  icustay_id  hadm_id  subject_id\n",
       "0    True  104824      276795   124493       69851\n",
       "1    True   59659      217810   188268       82208\n",
       "2    True   67634      263932   168160       24182\n",
       "3    True   99717      210970   199751       84020\n",
       "4    True   74840      252250   127064       24477"
      ]
     },
     "execution_count": 64,
     "metadata": {},
     "output_type": "execute_result"
    }
   ],
   "source": [
    "query = \\\n",
    "\"\"\"\n",
    "SELECT pv.diag_xc IS NOT NULL AS diag_xc, ei.row_id, ei.icustay_id, ei.hadm_id, ei.subject_id FROM (\n",
    "SELECT DISTINCT di.hadm_id\n",
    "    , 1 as diag_xc\n",
    "FROM d_diagnoses_xc_annot dx\n",
    "INNER JOIN diagnoses_icd di\n",
    "    ON di.icd9_code = dx.icd9_code\n",
    "WHERE dx.exclude = 1) pv\n",
    "RIGHT JOIN echo_icustay ei\n",
    "    ON ei.hadm_id = pv.hadm_id\n",
    "\"\"\"\n",
    "res = pd.read_sql_query(query, con)\n",
    "res.head()"
   ]
  },
  {
   "cell_type": "markdown",
   "metadata": {},
   "source": [
    "Number of echos and subject ids with full diagnosis exclusions. "
   ]
  },
  {
   "cell_type": "code",
   "execution_count": 65,
   "metadata": {
    "collapsed": false
   },
   "outputs": [
    {
     "name": "stdout",
     "output_type": "stream",
     "text": [
      "6076\n",
      "5119\n",
      "4937\n"
     ]
    }
   ],
   "source": [
    "print(len(res.loc[~res['diag_xc'], 'row_id'].unique()))\n",
    "print(len(res.loc[~res['diag_xc'], 'hadm_id'].unique()))\n",
    "print(len(res.loc[~res['diag_xc'], 'subject_id'].unique()))"
   ]
  },
  {
   "cell_type": "markdown",
   "metadata": {},
   "source": [
    "Exclude congestive heart failure"
   ]
  },
  {
   "cell_type": "code",
   "execution_count": 67,
   "metadata": {
    "collapsed": false
   },
   "outputs": [
    {
     "data": {
      "text/html": [
       "<div>\n",
       "<table border=\"1\" class=\"dataframe\">\n",
       "  <thead>\n",
       "    <tr style=\"text-align: right;\">\n",
       "      <th></th>\n",
       "      <th>diag_xc</th>\n",
       "      <th>row_id</th>\n",
       "      <th>icustay_id</th>\n",
       "      <th>hadm_id</th>\n",
       "      <th>subject_id</th>\n",
       "    </tr>\n",
       "  </thead>\n",
       "  <tbody>\n",
       "    <tr>\n",
       "      <th>0</th>\n",
       "      <td>True</td>\n",
       "      <td>104824</td>\n",
       "      <td>276795</td>\n",
       "      <td>124493</td>\n",
       "      <td>69851</td>\n",
       "    </tr>\n",
       "    <tr>\n",
       "      <th>1</th>\n",
       "      <td>True</td>\n",
       "      <td>59659</td>\n",
       "      <td>217810</td>\n",
       "      <td>188268</td>\n",
       "      <td>82208</td>\n",
       "    </tr>\n",
       "    <tr>\n",
       "      <th>2</th>\n",
       "      <td>True</td>\n",
       "      <td>67634</td>\n",
       "      <td>263932</td>\n",
       "      <td>168160</td>\n",
       "      <td>24182</td>\n",
       "    </tr>\n",
       "    <tr>\n",
       "      <th>3</th>\n",
       "      <td>True</td>\n",
       "      <td>99717</td>\n",
       "      <td>210970</td>\n",
       "      <td>199751</td>\n",
       "      <td>84020</td>\n",
       "    </tr>\n",
       "    <tr>\n",
       "      <th>4</th>\n",
       "      <td>True</td>\n",
       "      <td>74840</td>\n",
       "      <td>252250</td>\n",
       "      <td>127064</td>\n",
       "      <td>24477</td>\n",
       "    </tr>\n",
       "  </tbody>\n",
       "</table>\n",
       "</div>"
      ],
      "text/plain": [
       "  diag_xc  row_id  icustay_id  hadm_id  subject_id\n",
       "0    True  104824      276795   124493       69851\n",
       "1    True   59659      217810   188268       82208\n",
       "2    True   67634      263932   168160       24182\n",
       "3    True   99717      210970   199751       84020\n",
       "4    True   74840      252250   127064       24477"
      ]
     },
     "execution_count": 67,
     "metadata": {},
     "output_type": "execute_result"
    }
   ],
   "source": [
    "query = \\\n",
    "\"\"\"\n",
    "SELECT pv.diag_xc IS NOT NULL AS diag_xc, ei.row_id, ei.icustay_id, ei.hadm_id, ei.subject_id FROM (\n",
    "SELECT DISTINCT di.hadm_id\n",
    "    , 1 as diag_xc\n",
    "FROM d_diagnoses_xc_annot dx\n",
    "INNER JOIN diagnoses_icd di\n",
    "    ON di.icd9_code = dx.icd9_code\n",
    "WHERE dx.exclude = 1 AND di.icd9_code <> '4280') pv\n",
    "RIGHT JOIN echo_icustay ei\n",
    "    ON ei.hadm_id = pv.hadm_id\n",
    "\"\"\"\n",
    "res = pd.read_sql_query(query, con)\n",
    "res.head()"
   ]
  },
  {
   "cell_type": "markdown",
   "metadata": {},
   "source": [
    "Only increased slightly by about 1000. "
   ]
  },
  {
   "cell_type": "code",
   "execution_count": 68,
   "metadata": {
    "collapsed": false
   },
   "outputs": [
    {
     "name": "stdout",
     "output_type": "stream",
     "text": [
      "7146\n",
      "6016\n",
      "5776\n"
     ]
    }
   ],
   "source": [
    "print(len(res.loc[~res['diag_xc'], 'row_id'].unique()))\n",
    "print(len(res.loc[~res['diag_xc'], 'hadm_id'].unique()))\n",
    "print(len(res.loc[~res['diag_xc'], 'subject_id'].unique()))"
   ]
  },
  {
   "cell_type": "markdown",
   "metadata": {},
   "source": [
    "The reason for this is that it turns out that most patients who have congestive heart failure also has many other diagnoses in the excluded list. Try finding them. "
   ]
  },
  {
   "cell_type": "code",
   "execution_count": 69,
   "metadata": {
    "collapsed": false
   },
   "outputs": [
    {
     "data": {
      "text/html": [
       "<div>\n",
       "<table border=\"1\" class=\"dataframe\">\n",
       "  <thead>\n",
       "    <tr style=\"text-align: right;\">\n",
       "      <th></th>\n",
       "      <th>row_id</th>\n",
       "      <th>subject_id</th>\n",
       "      <th>hadm_id</th>\n",
       "      <th>seq_num</th>\n",
       "      <th>icd9_code</th>\n",
       "      <th>short_title</th>\n",
       "    </tr>\n",
       "  </thead>\n",
       "  <tbody>\n",
       "    <tr>\n",
       "      <th>0</th>\n",
       "      <td>43746</td>\n",
       "      <td>3928</td>\n",
       "      <td>153920</td>\n",
       "      <td>3</td>\n",
       "      <td>4280</td>\n",
       "      <td>CHF NOS</td>\n",
       "    </tr>\n",
       "    <tr>\n",
       "      <th>1</th>\n",
       "      <td>516678</td>\n",
       "      <td>69776</td>\n",
       "      <td>126824</td>\n",
       "      <td>18</td>\n",
       "      <td>V433</td>\n",
       "      <td>Heart valve replac NEC</td>\n",
       "    </tr>\n",
       "    <tr>\n",
       "      <th>2</th>\n",
       "      <td>516671</td>\n",
       "      <td>69776</td>\n",
       "      <td>126824</td>\n",
       "      <td>11</td>\n",
       "      <td>4280</td>\n",
       "      <td>CHF NOS</td>\n",
       "    </tr>\n",
       "    <tr>\n",
       "      <th>3</th>\n",
       "      <td>516664</td>\n",
       "      <td>69776</td>\n",
       "      <td>126824</td>\n",
       "      <td>4</td>\n",
       "      <td>42833</td>\n",
       "      <td>Ac on chr diast hrt fail</td>\n",
       "    </tr>\n",
       "    <tr>\n",
       "      <th>4</th>\n",
       "      <td>49392</td>\n",
       "      <td>4423</td>\n",
       "      <td>121780</td>\n",
       "      <td>3</td>\n",
       "      <td>4280</td>\n",
       "      <td>CHF NOS</td>\n",
       "    </tr>\n",
       "  </tbody>\n",
       "</table>\n",
       "</div>"
      ],
      "text/plain": [
       "   row_id  subject_id  hadm_id  seq_num icd9_code               short_title\n",
       "0   43746        3928   153920        3      4280                   CHF NOS\n",
       "1  516678       69776   126824       18      V433    Heart valve replac NEC\n",
       "2  516671       69776   126824       11      4280                   CHF NOS\n",
       "3  516664       69776   126824        4     42833  Ac on chr diast hrt fail\n",
       "4   49392        4423   121780        3      4280                   CHF NOS"
      ]
     },
     "execution_count": 69,
     "metadata": {},
     "output_type": "execute_result"
    }
   ],
   "source": [
    "query = \\\n",
    "\"\"\"\n",
    "WITH chf AS ( -- patients with congestive heart failure\n",
    "    SELECT DISTINCT di.hadm_id\n",
    "    FROM d_diagnoses_xc_annot dx\n",
    "    INNER JOIN diagnoses_icd di\n",
    "        ON di.icd9_code = dx.icd9_code\n",
    "    INNER JOIN echo_icustay ei\n",
    "        ON ei.hadm_id = di.hadm_id\n",
    "    WHERE di.icd9_code = '4280'\n",
    ") \n",
    "SELECT di.*, dx.short_title\n",
    "FROM d_diagnoses_xc_annot dx\n",
    "INNER JOIN diagnoses_icd di\n",
    "    ON di.icd9_code = dx.icd9_code\n",
    "INNER JOIN chf \n",
    "    ON chf.hadm_id = di.hadm_id\n",
    "WHERE dx.exclude = 1\n",
    "\"\"\"\n",
    "res = pd.read_sql_query(query, con)\n",
    "res.head()"
   ]
  },
  {
   "cell_type": "code",
   "execution_count": 70,
   "metadata": {
    "collapsed": false
   },
   "outputs": [
    {
     "data": {
      "text/plain": [
       "1      897\n",
       "2     2295\n",
       "3     1976\n",
       "4     1076\n",
       "5      475\n",
       "6      181\n",
       "7       77\n",
       "8       34\n",
       "9        8\n",
       "10       1\n",
       "11       1\n",
       "Name: icd9_code, dtype: int64"
      ]
     },
     "execution_count": 70,
     "metadata": {},
     "output_type": "execute_result"
    }
   ],
   "source": [
    "res.groupby('hadm_id')['icd9_code'].count().value_counts().sort_index()"
   ]
  },
  {
   "cell_type": "code",
   "execution_count": 71,
   "metadata": {
    "collapsed": false
   },
   "outputs": [
    {
     "data": {
      "text/plain": [
       "6016"
      ]
     },
     "execution_count": 71,
     "metadata": {},
     "output_type": "execute_result"
    }
   ],
   "source": [
    "5119 + 897"
   ]
  },
  {
   "cell_type": "code",
   "execution_count": null,
   "metadata": {
    "collapsed": true
   },
   "outputs": [],
   "source": []
  }
 ],
 "metadata": {
  "anaconda-cloud": {},
  "kernelspec": {
   "display_name": "Python [conda root]",
   "language": "python",
   "name": "conda-root-py"
  },
  "language_info": {
   "codemirror_mode": {
    "name": "ipython",
    "version": 3
   },
   "file_extension": ".py",
   "mimetype": "text/x-python",
   "name": "python",
   "nbconvert_exporter": "python",
   "pygments_lexer": "ipython3",
   "version": "3.5.2"
  }
 },
 "nbformat": 4,
 "nbformat_minor": 1
}
