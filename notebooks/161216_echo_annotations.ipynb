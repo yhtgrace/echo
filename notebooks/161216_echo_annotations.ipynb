{
 "cells": [
  {
   "cell_type": "markdown",
   "metadata": {},
   "source": [
    "Look at how echo annotations vary with variables of interest. "
   ]
  },
  {
   "cell_type": "code",
   "execution_count": 1,
   "metadata": {
    "collapsed": true
   },
   "outputs": [],
   "source": [
    "import numpy as np\n",
    "import pandas as pd\n",
    "import psycopg2\n",
    "\n",
    "import matplotlib.pyplot as plt\n",
    "import seaborn as sns\n",
    "\n",
    "import matplotlib.style\n",
    "matplotlib.style.use('ggplot')\n",
    "%matplotlib inline"
   ]
  },
  {
   "cell_type": "code",
   "execution_count": 2,
   "metadata": {
    "collapsed": true
   },
   "outputs": [],
   "source": [
    "# create a database connection\n",
    "sqluser = 'mimic'\n",
    "dbname = 'mimic'\n",
    "schema_name = 'mimiciii'\n",
    "\n",
    "cur = None"
   ]
  },
  {
   "cell_type": "code",
   "execution_count": 59,
   "metadata": {
    "collapsed": true
   },
   "outputs": [],
   "source": [
    "if cur: \n",
    "    cur.close()\n",
    "    con.close()\n",
    "\n",
    "con = psycopg2.connect(dbname = dbname, user = sqluser)\n",
    "cur = con.cursor()\n",
    "cur.execute('SET search_path to ' + schema_name)"
   ]
  },
  {
   "cell_type": "code",
   "execution_count": 60,
   "metadata": {
    "collapsed": false
   },
   "outputs": [
    {
     "data": {
      "text/html": [
       "<div>\n",
       "<table border=\"1\" class=\"dataframe\">\n",
       "  <thead>\n",
       "    <tr style=\"text-align: right;\">\n",
       "      <th></th>\n",
       "      <th>row_id</th>\n",
       "      <th>icustay_id</th>\n",
       "      <th>hadm_id</th>\n",
       "      <th>subject_id</th>\n",
       "      <th>age_at_intime</th>\n",
       "      <th>gender</th>\n",
       "      <th>height</th>\n",
       "      <th>weight</th>\n",
       "      <th>bmi</th>\n",
       "      <th>ethnicity</th>\n",
       "      <th>...</th>\n",
       "      <th>fluid_daily_balance_ml_1</th>\n",
       "      <th>fluid_chartdate_1</th>\n",
       "      <th>fluid_daily_input_ml_2</th>\n",
       "      <th>fluid_daily_output_ml_2</th>\n",
       "      <th>fluid_daily_balance_ml_2</th>\n",
       "      <th>fluid_chartdate_2</th>\n",
       "      <th>fluid_daily_input_ml_3</th>\n",
       "      <th>fluid_daily_output_ml_3</th>\n",
       "      <th>fluid_daily_balance_ml_3</th>\n",
       "      <th>fluid_chartdate_3</th>\n",
       "    </tr>\n",
       "  </thead>\n",
       "  <tbody>\n",
       "    <tr>\n",
       "      <th>0</th>\n",
       "      <td>83481</td>\n",
       "      <td>200003</td>\n",
       "      <td>163557</td>\n",
       "      <td>27513</td>\n",
       "      <td>17625 days 19:50:04</td>\n",
       "      <td>M</td>\n",
       "      <td>70.0</td>\n",
       "      <td>160.0</td>\n",
       "      <td>22.955102</td>\n",
       "      <td>WHITE</td>\n",
       "      <td>...</td>\n",
       "      <td>-975.0</td>\n",
       "      <td>2199-08-03</td>\n",
       "      <td>NaN</td>\n",
       "      <td>NaN</td>\n",
       "      <td>NaN</td>\n",
       "      <td>None</td>\n",
       "      <td>NaN</td>\n",
       "      <td>NaN</td>\n",
       "      <td>NaN</td>\n",
       "      <td>None</td>\n",
       "    </tr>\n",
       "    <tr>\n",
       "      <th>1</th>\n",
       "      <td>99984</td>\n",
       "      <td>200009</td>\n",
       "      <td>129607</td>\n",
       "      <td>29904</td>\n",
       "      <td>17353 days 10:34:32</td>\n",
       "      <td>F</td>\n",
       "      <td>64.0</td>\n",
       "      <td>190.0</td>\n",
       "      <td>32.609863</td>\n",
       "      <td>WHITE</td>\n",
       "      <td>...</td>\n",
       "      <td>4002.0</td>\n",
       "      <td>2189-12-01</td>\n",
       "      <td>NaN</td>\n",
       "      <td>NaN</td>\n",
       "      <td>NaN</td>\n",
       "      <td>None</td>\n",
       "      <td>NaN</td>\n",
       "      <td>NaN</td>\n",
       "      <td>NaN</td>\n",
       "      <td>None</td>\n",
       "    </tr>\n",
       "    <tr>\n",
       "      <th>2</th>\n",
       "      <td>99985</td>\n",
       "      <td>200009</td>\n",
       "      <td>129607</td>\n",
       "      <td>29904</td>\n",
       "      <td>17353 days 10:34:32</td>\n",
       "      <td>F</td>\n",
       "      <td>63.0</td>\n",
       "      <td>180.0</td>\n",
       "      <td>31.882086</td>\n",
       "      <td>WHITE</td>\n",
       "      <td>...</td>\n",
       "      <td>4002.0</td>\n",
       "      <td>2189-12-01</td>\n",
       "      <td>NaN</td>\n",
       "      <td>NaN</td>\n",
       "      <td>NaN</td>\n",
       "      <td>None</td>\n",
       "      <td>NaN</td>\n",
       "      <td>NaN</td>\n",
       "      <td>NaN</td>\n",
       "      <td>None</td>\n",
       "    </tr>\n",
       "    <tr>\n",
       "      <th>3</th>\n",
       "      <td>71333</td>\n",
       "      <td>200014</td>\n",
       "      <td>127229</td>\n",
       "      <td>9514</td>\n",
       "      <td>30921 days 23:16:48</td>\n",
       "      <td>M</td>\n",
       "      <td>NaN</td>\n",
       "      <td>NaN</td>\n",
       "      <td>NaN</td>\n",
       "      <td>UNKNOWN/NOT SPECIFIED</td>\n",
       "      <td>...</td>\n",
       "      <td>NaN</td>\n",
       "      <td>None</td>\n",
       "      <td>NaN</td>\n",
       "      <td>NaN</td>\n",
       "      <td>NaN</td>\n",
       "      <td>None</td>\n",
       "      <td>NaN</td>\n",
       "      <td>NaN</td>\n",
       "      <td>NaN</td>\n",
       "      <td>None</td>\n",
       "    </tr>\n",
       "    <tr>\n",
       "      <th>4</th>\n",
       "      <td>77556</td>\n",
       "      <td>200019</td>\n",
       "      <td>112486</td>\n",
       "      <td>21789</td>\n",
       "      <td>30249 days 09:03:12</td>\n",
       "      <td>F</td>\n",
       "      <td>NaN</td>\n",
       "      <td>NaN</td>\n",
       "      <td>NaN</td>\n",
       "      <td>WHITE</td>\n",
       "      <td>...</td>\n",
       "      <td>456.0</td>\n",
       "      <td>2178-07-08</td>\n",
       "      <td>1970.0</td>\n",
       "      <td>985.0</td>\n",
       "      <td>985.0</td>\n",
       "      <td>2178-07-09</td>\n",
       "      <td>620.0</td>\n",
       "      <td>299.0</td>\n",
       "      <td>321.0</td>\n",
       "      <td>2178-07-10</td>\n",
       "    </tr>\n",
       "  </tbody>\n",
       "</table>\n",
       "<p>5 rows × 129 columns</p>\n",
       "</div>"
      ],
      "text/plain": [
       "   row_id  icustay_id  hadm_id  subject_id       age_at_intime gender  height  \\\n",
       "0   83481      200003   163557       27513 17625 days 19:50:04      M    70.0   \n",
       "1   99984      200009   129607       29904 17353 days 10:34:32      F    64.0   \n",
       "2   99985      200009   129607       29904 17353 days 10:34:32      F    63.0   \n",
       "3   71333      200014   127229        9514 30921 days 23:16:48      M     NaN   \n",
       "4   77556      200019   112486       21789 30249 days 09:03:12      F     NaN   \n",
       "\n",
       "   weight        bmi              ethnicity        ...          \\\n",
       "0   160.0  22.955102                  WHITE        ...           \n",
       "1   190.0  32.609863                  WHITE        ...           \n",
       "2   180.0  31.882086                  WHITE        ...           \n",
       "3     NaN        NaN  UNKNOWN/NOT SPECIFIED        ...           \n",
       "4     NaN        NaN                  WHITE        ...           \n",
       "\n",
       "  fluid_daily_balance_ml_1  fluid_chartdate_1  fluid_daily_input_ml_2  \\\n",
       "0                   -975.0         2199-08-03                     NaN   \n",
       "1                   4002.0         2189-12-01                     NaN   \n",
       "2                   4002.0         2189-12-01                     NaN   \n",
       "3                      NaN               None                     NaN   \n",
       "4                    456.0         2178-07-08                  1970.0   \n",
       "\n",
       "   fluid_daily_output_ml_2  fluid_daily_balance_ml_2  fluid_chartdate_2  \\\n",
       "0                      NaN                       NaN               None   \n",
       "1                      NaN                       NaN               None   \n",
       "2                      NaN                       NaN               None   \n",
       "3                      NaN                       NaN               None   \n",
       "4                    985.0                     985.0         2178-07-09   \n",
       "\n",
       "   fluid_daily_input_ml_3  fluid_daily_output_ml_3  fluid_daily_balance_ml_3  \\\n",
       "0                     NaN                      NaN                       NaN   \n",
       "1                     NaN                      NaN                       NaN   \n",
       "2                     NaN                      NaN                       NaN   \n",
       "3                     NaN                      NaN                       NaN   \n",
       "4                   620.0                    299.0                     321.0   \n",
       "\n",
       "   fluid_chartdate_3  \n",
       "0               None  \n",
       "1               None  \n",
       "2               None  \n",
       "3               None  \n",
       "4         2178-07-10  \n",
       "\n",
       "[5 rows x 129 columns]"
      ]
     },
     "execution_count": 60,
     "metadata": {},
     "output_type": "execute_result"
    }
   ],
   "source": [
    "query = \\\n",
    "\"\"\"\n",
    "SELECT * FROM echo_features; \n",
    "\"\"\"\n",
    "ef = pd.read_sql_query(query, con)\n",
    "ef.head()"
   ]
  },
  {
   "cell_type": "code",
   "execution_count": 65,
   "metadata": {
    "collapsed": false
   },
   "outputs": [
    {
     "data": {
      "text/html": [
       "<div>\n",
       "<table border=\"1\" class=\"dataframe\">\n",
       "  <thead>\n",
       "    <tr style=\"text-align: right;\">\n",
       "      <th></th>\n",
       "      <th>icustay_id</th>\n",
       "      <th>ed_chartdate</th>\n",
       "      <th>fluid_chartdate_1</th>\n",
       "      <th>fluid_chartdate_2</th>\n",
       "      <th>fluid_chartdate_3</th>\n",
       "      <th>outtime</th>\n",
       "    </tr>\n",
       "  </thead>\n",
       "  <tbody>\n",
       "    <tr>\n",
       "      <th>0</th>\n",
       "      <td>200003</td>\n",
       "      <td>2199-08-03</td>\n",
       "      <td>2199-08-03</td>\n",
       "      <td>None</td>\n",
       "      <td>None</td>\n",
       "      <td>2199-08-08 17:09:18</td>\n",
       "    </tr>\n",
       "    <tr>\n",
       "      <th>1</th>\n",
       "      <td>200009</td>\n",
       "      <td>2189-12-01</td>\n",
       "      <td>2189-12-01</td>\n",
       "      <td>None</td>\n",
       "      <td>None</td>\n",
       "      <td>2189-12-02 14:17:37</td>\n",
       "    </tr>\n",
       "    <tr>\n",
       "      <th>2</th>\n",
       "      <td>200009</td>\n",
       "      <td>2189-12-01</td>\n",
       "      <td>2189-12-01</td>\n",
       "      <td>None</td>\n",
       "      <td>None</td>\n",
       "      <td>2189-12-02 14:17:37</td>\n",
       "    </tr>\n",
       "    <tr>\n",
       "      <th>3</th>\n",
       "      <td>200014</td>\n",
       "      <td>2105-02-18</td>\n",
       "      <td>None</td>\n",
       "      <td>None</td>\n",
       "      <td>None</td>\n",
       "      <td>2105-02-18 16:53:29</td>\n",
       "    </tr>\n",
       "    <tr>\n",
       "      <th>4</th>\n",
       "      <td>200019</td>\n",
       "      <td>2178-07-08</td>\n",
       "      <td>2178-07-08</td>\n",
       "      <td>2178-07-09</td>\n",
       "      <td>2178-07-10</td>\n",
       "      <td>2178-07-11 10:28:40</td>\n",
       "    </tr>\n",
       "  </tbody>\n",
       "</table>\n",
       "</div>"
      ],
      "text/plain": [
       "   icustay_id ed_chartdate fluid_chartdate_1 fluid_chartdate_2  \\\n",
       "0      200003   2199-08-03        2199-08-03              None   \n",
       "1      200009   2189-12-01        2189-12-01              None   \n",
       "2      200009   2189-12-01        2189-12-01              None   \n",
       "3      200014   2105-02-18              None              None   \n",
       "4      200019   2178-07-08        2178-07-08        2178-07-09   \n",
       "\n",
       "  fluid_chartdate_3             outtime  \n",
       "0              None 2199-08-08 17:09:18  \n",
       "1              None 2189-12-02 14:17:37  \n",
       "2              None 2189-12-02 14:17:37  \n",
       "3              None 2105-02-18 16:53:29  \n",
       "4        2178-07-10 2178-07-11 10:28:40  "
      ]
     },
     "execution_count": 65,
     "metadata": {},
     "output_type": "execute_result"
    }
   ],
   "source": [
    "ef[['icustay_id', 'ed_chartdate', 'fluid_chartdate_1', 'fluid_daily_input_ml_1', \n",
    "    'fluid_chartdate_2', 'fluid_daily_input_ml_2', \n",
    "    'fluid_chartdate_3', 'fluid_daily_input_ml_3', outtime']].head()"
   ]
  },
  {
   "cell_type": "markdown",
   "metadata": {},
   "source": [
    "## Demographics\n",
    "\n",
    "### Age"
   ]
  },
  {
   "cell_type": "code",
   "execution_count": 31,
   "metadata": {
    "collapsed": false
   },
   "outputs": [
    {
     "data": {
      "image/png": "[encoded data removed]",
      "text/plain": [
       "<matplotlib.figure.Figure at 0x11dde89b0>"
      ]
     },
     "metadata": {},
     "output_type": "display_data"
    }
   ],
   "source": [
    "g = sns.boxplot('ea_lv_systolic', 'ea_age', data = ef)"
   ]
  },
  {
   "cell_type": "markdown",
   "metadata": {},
   "source": [
    "### Sex"
   ]
  },
  {
   "cell_type": "code",
   "execution_count": 30,
   "metadata": {
    "collapsed": false
   },
   "outputs": [
    {
     "data": {
      "text/plain": [
       "gender\n",
       "F     7944\n",
       "M    10349\n",
       "Name: count, dtype: int64"
      ]
     },
     "execution_count": 30,
     "metadata": {},
     "output_type": "execute_result"
    },
    {
     "data": {
      "image/png": "[encoded data removed]",
      "text/plain": [
       "<matplotlib.figure.Figure at 0x11c9d63c8>"
      ]
     },
     "metadata": {},
     "output_type": "display_data"
    }
   ],
   "source": [
    "to_plot = ef[['gender', 'ea_lv_systolic', 'subject_id']].dropna().groupby(['gender', 'ea_lv_systolic'])['subject_id'].count().reset_index()\n",
    "to_plot.columns = ['gender', 'ea_lv_systolic', 'count']\n",
    "\n",
    "sns.barplot('ea_lv_systolic', 'count', data = to_plot, hue = 'gender')\n",
    "to_plot.groupby('gender')['count'].sum()"
   ]
  },
  {
   "cell_type": "markdown",
   "metadata": {},
   "source": [
    "### Height"
   ]
  },
  {
   "cell_type": "code",
   "execution_count": 32,
   "metadata": {
    "collapsed": false
   },
   "outputs": [
    {
     "data": {
      "image/png": "[encoded data removed]",
      "text/plain": [
       "<matplotlib.figure.Figure at 0x11a9a69b0>"
      ]
     },
     "metadata": {},
     "output_type": "display_data"
    }
   ],
   "source": [
    "g = sns.boxplot('ea_lv_systolic', 'height', data = ef)"
   ]
  },
  {
   "cell_type": "markdown",
   "metadata": {},
   "source": [
    "### Weight"
   ]
  },
  {
   "cell_type": "code",
   "execution_count": 33,
   "metadata": {
    "collapsed": false
   },
   "outputs": [
    {
     "data": {
      "image/png": "[encoded data removed]",
      "text/plain": [
       "<matplotlib.figure.Figure at 0x11b824470>"
      ]
     },
     "metadata": {},
     "output_type": "display_data"
    }
   ],
   "source": [
    "g = sns.boxplot('ea_lv_systolic', 'weight', data = ef)"
   ]
  },
  {
   "cell_type": "markdown",
   "metadata": {},
   "source": [
    "### BMI"
   ]
  },
  {
   "cell_type": "code",
   "execution_count": 34,
   "metadata": {
    "collapsed": false
   },
   "outputs": [
    {
     "data": {
      "image/png": "[encoded data removed]",
      "text/plain": [
       "<matplotlib.figure.Figure at 0x11be96c50>"
      ]
     },
     "metadata": {},
     "output_type": "display_data"
    }
   ],
   "source": [
    "g = sns.boxplot('ea_lv_systolic', 'bmi', data = ef)"
   ]
  },
  {
   "cell_type": "markdown",
   "metadata": {},
   "source": [
    "## Race"
   ]
  },
  {
   "cell_type": "code",
   "execution_count": 38,
   "metadata": {
    "collapsed": false
   },
   "outputs": [
    {
     "data": {
      "text/plain": [
       "ethnicity\n",
       "AMERICAN INDIAN/ALASKA NATIVE                     7\n",
       "ASIAN                                           251\n",
       "ASIAN - ASIAN INDIAN                             37\n",
       "ASIAN - CAMBODIAN                                 7\n",
       "ASIAN - CHINESE                                  85\n",
       "ASIAN - FILIPINO                                  6\n",
       "ASIAN - JAPANESE                                  2\n",
       "ASIAN - KOREAN                                    5\n",
       "ASIAN - OTHER                                     8\n",
       "ASIAN - THAI                                      1\n",
       "ASIAN - VIETNAMESE                               13\n",
       "BLACK/AFRICAN                                     9\n",
       "BLACK/AFRICAN AMERICAN                         1439\n",
       "BLACK/CAPE VERDEAN                               52\n",
       "BLACK/HAITIAN                                    21\n",
       "CARIBBEAN ISLAND                                  1\n",
       "HISPANIC OR LATINO                              466\n",
       "HISPANIC/LATINO - CENTRAL AMERICAN (OTHER)        1\n",
       "HISPANIC/LATINO - COLOMBIAN                       4\n",
       "HISPANIC/LATINO - CUBAN                          11\n",
       "HISPANIC/LATINO - DOMINICAN                      23\n",
       "HISPANIC/LATINO - GUATEMALAN                     14\n",
       "HISPANIC/LATINO - HONDURAN                        1\n",
       "HISPANIC/LATINO - MEXICAN                         1\n",
       "HISPANIC/LATINO - PUERTO RICAN                   81\n",
       "HISPANIC/LATINO - SALVADORAN                      2\n",
       "MIDDLE EASTERN                                   18\n",
       "MULTI RACE ETHNICITY                             36\n",
       "NATIVE HAWAIIAN OR OTHER PACIFIC ISLANDER         6\n",
       "OTHER                                           363\n",
       "PATIENT DECLINED TO ANSWER                      178\n",
       "PORTUGUESE                                       21\n",
       "SOUTH AMERICAN                                    1\n",
       "UNABLE TO OBTAIN                                421\n",
       "UNKNOWN/NOT SPECIFIED                          1401\n",
       "WHITE                                         13181\n",
       "WHITE - BRAZILIAN                                14\n",
       "WHITE - EASTERN EUROPEAN                         11\n",
       "WHITE - OTHER EUROPEAN                           37\n",
       "WHITE - RUSSIAN                                  57\n",
       "Name: count, dtype: int64"
      ]
     },
     "execution_count": 38,
     "metadata": {},
     "output_type": "execute_result"
    }
   ],
   "source": [
    "to_plot = ef[['ethnicity', 'ea_lv_systolic', 'subject_id']].dropna().groupby(['ethnicity', 'ea_lv_systolic'])['subject_id'].count().reset_index()\n",
    "to_plot.columns = ['ethnicity', 'ea_lv_systolic', 'count']\n",
    "\n",
    "#sns.barplot('ea_lv_systolic', 'count', data = to_plot, hue = 'ethnicity')\n",
    "to_plot.groupby('ethnicity')['count'].sum()"
   ]
  },
  {
   "cell_type": "markdown",
   "metadata": {},
   "source": [
    "# Filters"
   ]
  },
  {
   "cell_type": "code",
   "execution_count": null,
   "metadata": {
    "collapsed": true
   },
   "outputs": [],
   "source": []
  }
 ],
 "metadata": {
  "anaconda-cloud": {},
  "kernelspec": {
   "display_name": "Python [conda root]",
   "language": "python",
   "name": "conda-root-py"
  },
  "language_info": {
   "codemirror_mode": {
    "name": "ipython",
    "version": 3
   },
   "file_extension": ".py",
   "mimetype": "text/x-python",
   "name": "python",
   "nbconvert_exporter": "python",
   "pygments_lexer": "ipython3",
   "version": "3.5.2"
  }
 },
 "nbformat": 4,
 "nbformat_minor": 1
}
