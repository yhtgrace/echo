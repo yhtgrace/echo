{
 "cells": [
  {
   "cell_type": "code",
   "execution_count": 18,
   "metadata": {
    "collapsed": true
   },
   "outputs": [],
   "source": [
    "import pandas as pd\n",
    "import numpy as np\n",
    "import psycopg2\n",
    "import matplotlib.pyplot as plt\n",
    "import seaborn as sns\n",
    "import statsmodels.api as sm\n",
    "import statsmodels.formula.api as smf\n",
    "\n",
    "import matplotlib.style\n",
    "matplotlib.style.use('ggplot')\n",
    "%matplotlib inline\n",
    "#pd.set_option(\"display.max_colwidth\", 200)\n",
    "from IPython.display import display"
   ]
  },
  {
   "cell_type": "code",
   "execution_count": 19,
   "metadata": {
    "collapsed": false
   },
   "outputs": [],
   "source": [
    "conn = psycopg2.connect(host=\"localhost\",database=\"mimic\", user=\"postgres\", password='postgres', port = '5432')\n",
    "cursor = conn.cursor()"
   ]
  },
  {
   "cell_type": "code",
   "execution_count": 14,
   "metadata": {
    "collapsed": false
   },
   "outputs": [],
   "source": [
    "df =pd.read_csv('master_161208.csv')"
   ]
  },
  {
   "cell_type": "code",
   "execution_count": 6,
   "metadata": {
    "collapsed": false,
    "scrolled": true
   },
   "outputs": [
    {
     "data": {
      "text/plain": [
       "['Unnamed: 0',\n",
       " 'row_id',\n",
       " 'icustay_id',\n",
       " 'hadm_id',\n",
       " 'subject_id',\n",
       " 'age_at_intime',\n",
       " 'gender',\n",
       " 'height',\n",
       " 'weight',\n",
       " 'bmi',\n",
       " 'ethnicity',\n",
       " 'insurance',\n",
       " 'ex_congestive_heart_failure',\n",
       " 'ex_cardiac_aarrhythmias',\n",
       " 'ex_valvular_disease',\n",
       " 'ex_pulmonary_circulation',\n",
       " 'ex_peripheral_vascular',\n",
       " 'ex_hypertension',\n",
       " 'ex_paralysis',\n",
       " 'ex_other_neurological',\n",
       " 'ex_chronic_pulmonary',\n",
       " 'ex_diabetes_uncomplicated',\n",
       " 'ex_diabetes_complicated',\n",
       " 'ex_hypothyroidism',\n",
       " 'ex_renal_failure',\n",
       " 'ex_liver_disease',\n",
       " 'ex_peptic_ulcer',\n",
       " 'ex_aids',\n",
       " 'ex_lymphoma',\n",
       " 'ex_metastatic_cancer',\n",
       " 'ex_solid_tumor',\n",
       " 'ex_rheumatoid_arthritis',\n",
       " 'ex_coagulopathy',\n",
       " 'ex_obesity',\n",
       " 'ex_weight_loss',\n",
       " 'ex_fluid_electrolyte',\n",
       " 'ex_blood_loss_anemia',\n",
       " 'ex_deficiency_anemias',\n",
       " 'ex_alcohol_abuse',\n",
       " 'ex_drug_abuse',\n",
       " 'ex_psychoses',\n",
       " 'ex_depression',\n",
       " 'apsiii',\n",
       " 'apsiii_prob',\n",
       " 'apsiii_creatinine_score',\n",
       " 'admittime',\n",
       " 'dischtime',\n",
       " 'intime',\n",
       " 'outtime',\n",
       " 'dod',\n",
       " 'survived_icustay',\n",
       " 'survived_hadm',\n",
       " 'ed_chartdate',\n",
       " 'ed_charttime',\n",
       " 'ed_quality',\n",
       " 'ed_indication',\n",
       " 'ed_bsa',\n",
       " 'ed_bp',\n",
       " 'ed_bpsys',\n",
       " 'ed_bpdias',\n",
       " 'ed_hr',\n",
       " 'ed_test',\n",
       " 'ed_doppler',\n",
       " 'ed_contrast',\n",
       " 'ea_first_careunit',\n",
       " 'ea_age',\n",
       " 'ea_age_of_death',\n",
       " 'ea_days_after_discharge_death',\n",
       " 'ea_status',\n",
       " 'ea_tv_pulm_htn',\n",
       " 'ea_tv_tr',\n",
       " 'ea_lv_cavity',\n",
       " 'ea_lv_diastolic',\n",
       " 'ea_lv_systolic',\n",
       " 'ea_lv_wall',\n",
       " 'ea_rv_cavity',\n",
       " 'ea_rv_diastolic_fluid',\n",
       " 'ea_rv_systolic',\n",
       " 'ea_rv_wall',\n",
       " 'lab_albumin',\n",
       " 'lab_bicarbonate',\n",
       " 'lab_ckmb',\n",
       " 'lab_creatinine',\n",
       " 'lab_crp',\n",
       " 'lab_egfr',\n",
       " 'lab_hematocrit',\n",
       " 'lab_inr',\n",
       " 'lab_lactate',\n",
       " 'lab_platelet',\n",
       " 'lab_ntprobnp',\n",
       " 'lab_ph',\n",
       " 'lab_tropi',\n",
       " 'lab_tropt',\n",
       " 'lab_wbc',\n",
       " 'ps_vaso',\n",
       " 'diag_xc',\n",
       " 'chronic_dialysis_flg',\n",
       " 'age_filter',\n",
       " 'intime_to_echo',\n",
       " 'time_filter',\n",
       " 'after_rowid',\n",
       " 'before_rowid',\n",
       " 'noninv_vent',\n",
       " 'mech_vent',\n",
       " 'fl_day1_input_ml',\n",
       " 'fl_day1_output_ml',\n",
       " 'fl_day1_balance_ml',\n",
       " 'fl_day2_input_ml',\n",
       " 'fl_day2_output_ml',\n",
       " 'fl_day2_balance_ml',\n",
       " 'fl_day3_input_ml',\n",
       " 'fl_day3_output_ml',\n",
       " 'fl_day3_balance_ml',\n",
       " 'most_recent_hadm',\n",
       " 'first_echo',\n",
       " 'mortality_30d']"
      ]
     },
     "execution_count": 6,
     "metadata": {},
     "output_type": "execute_result"
    }
   ],
   "source": [
    "df.columns.tolist()"
   ]
  },
  {
   "cell_type": "raw",
   "metadata": {},
   "source": [
    "Care unit\tDescription -- from icustay table\n",
    "\n",
    "CCU\tCoronary care unit\n",
    "CSRU\tCardiac surgery recovery unit\n",
    "MICU\tMedical intensive care unit\n",
    "SICU\tSurgical intensive care unit\n",
    "TSICU\tTrauma/surgical intensive care unit"
   ]
  },
  {
   "cell_type": "code",
   "execution_count": 7,
   "metadata": {
    "collapsed": false
   },
   "outputs": [
    {
     "data": {
      "text/plain": [
       "ea_first_careunit\n",
       "CCU        87\n",
       "CSRU     1365\n",
       "MICU      404\n",
       "SICU      125\n",
       "TSICU      70\n",
       "dtype: int64"
      ]
     },
     "execution_count": 7,
     "metadata": {},
     "output_type": "execute_result"
    }
   ],
   "source": [
    "# districution of first care unit in filtered list (patients with icu-echo), we are definitely selecting out more cardiac surgery patients\n",
    "df.groupby(['ea_first_careunit']).size()"
   ]
  },
  {
   "cell_type": "code",
   "execution_count": 74,
   "metadata": {
    "collapsed": false
   },
   "outputs": [],
   "source": [
    "#df.groupby(['ea_lv_systolic', 'ea_first_careunit']).size()"
   ]
  },
  {
   "cell_type": "code",
   "execution_count": 9,
   "metadata": {
    "collapsed": false
   },
   "outputs": [],
   "source": [
    "sql = \"\"\"\n",
    "SELECT *\n",
    "  FROM mimiciii.icustays\n",
    "  \"\"\"\n",
    "icustays = pd.read_sql_query(sql, conn)"
   ]
  },
  {
   "cell_type": "code",
   "execution_count": 24,
   "metadata": {
    "collapsed": false
   },
   "outputs": [
    {
     "data": {
      "text/plain": [
       "first_careunit\n",
       "CCU       7726\n",
       "CSRU      9312\n",
       "MICU     21088\n",
       "NICU      8100\n",
       "SICU      8891\n",
       "TSICU     6415\n",
       "dtype: int64"
      ]
     },
     "execution_count": 24,
     "metadata": {},
     "output_type": "execute_result"
    }
   ],
   "source": [
    "# distribution of first care unit in all mimic patients. ps_vaso, diag_xc\n",
    "icustays.groupby(['first_careunit']).size()"
   ]
  },
  {
   "cell_type": "code",
   "execution_count": 37,
   "metadata": {
    "collapsed": false
   },
   "outputs": [
    {
     "data": {
      "text/plain": [
       "['row_id',\n",
       " 'subject_id',\n",
       " 'hadm_id',\n",
       " 'icustay_id',\n",
       " 'dbsource',\n",
       " 'first_careunit',\n",
       " 'last_careunit',\n",
       " 'first_wardid',\n",
       " 'last_wardid',\n",
       " 'intime',\n",
       " 'outtime',\n",
       " 'los']"
      ]
     },
     "execution_count": 37,
     "metadata": {},
     "output_type": "execute_result"
    }
   ],
   "source": [
    "icustays.columns.tolist()"
   ]
  },
  {
   "cell_type": "code",
   "execution_count": 38,
   "metadata": {
    "collapsed": false
   },
   "outputs": [
    {
     "data": {
      "text/plain": [
       "first_careunit\n",
       "CCU       7726\n",
       "CSRU      9312\n",
       "MICU     21088\n",
       "NICU      8100\n",
       "SICU      8891\n",
       "TSICU     6415\n",
       "Name: icustay_id, dtype: int64"
      ]
     },
     "execution_count": 38,
     "metadata": {},
     "output_type": "execute_result"
    }
   ],
   "source": [
    "#table.groupby('YEARMONTH').CLIENTCODE.nunique()\n",
    "icustays.groupby('first_careunit')._id.nunique()"
   ]
  },
  {
   "cell_type": "code",
   "execution_count": 11,
   "metadata": {
    "collapsed": false
   },
   "outputs": [],
   "source": [
    "# MICU vs CSRU mortality and EF\n",
    "day30_mortality = df.ea_days_after_discharge_death <= 30\n",
    "#sns.barplot(x=\"ea_lv_systolic\", y=\"day30_mortality\", hue =\"ea_first_careunit\", data=df)"
   ]
  },
  {
   "cell_type": "code",
   "execution_count": null,
   "metadata": {
    "collapsed": true
   },
   "outputs": [],
   "source": [
    "# look back at consort diagram... where should we apply MICU filter?  instead of distributive shock filter??"
   ]
  },
  {
   "cell_type": "code",
   "execution_count": 15,
   "metadata": {
    "collapsed": true
   },
   "outputs": [],
   "source": [
    "sql = \"\"\"\n",
    "SELECT *\n",
    "  FROM mimiciii.echo_features\n",
    "  \"\"\"\n",
    "echo_features = pd.read_sql_query(sql, conn)"
   ]
  },
  {
   "cell_type": "code",
   "execution_count": 104,
   "metadata": {
    "collapsed": false
   },
   "outputs": [
    {
     "data": {
      "text/plain": [
       "ea_first_careunit\n",
       "CCU      6202\n",
       "CSRU     6084\n",
       "MICU     7014\n",
       "SICU     2254\n",
       "TSICU    1194\n",
       "dtype: int64"
      ]
     },
     "execution_count": 104,
     "metadata": {},
     "output_type": "execute_result"
    }
   ],
   "source": [
    "echo_features.groupby(['ea_first_careunit']).size()"
   ]
  },
  {
   "cell_type": "code",
   "execution_count": 103,
   "metadata": {
    "collapsed": false
   },
   "outputs": [
    {
     "data": {
      "text/plain": [
       "ea_first_careunit\n",
       "CCU      2054\n",
       "CSRU     4489\n",
       "MICU     2663\n",
       "SICU      942\n",
       "TSICU     567\n",
       "dtype: int64"
      ]
     },
     "execution_count": 103,
     "metadata": {},
     "output_type": "execute_result"
    }
   ],
   "source": [
    "echo_features[echo_features['ps_vaso']==True].groupby(['ea_first_careunit']).size()"
   ]
  },
  {
   "cell_type": "code",
   "execution_count": 105,
   "metadata": {
    "collapsed": false
   },
   "outputs": [
    {
     "data": {
      "text/plain": [
       "ea_first_careunit\n",
       "CCU       602\n",
       "CSRU     2155\n",
       "MICU     2239\n",
       "SICU      687\n",
       "TSICU     375\n",
       "dtype: int64"
      ]
     },
     "execution_count": 105,
     "metadata": {},
     "output_type": "execute_result"
    }
   ],
   "source": [
    "echo_features[echo_features['diag_xc']==False].groupby(['ea_first_careunit']).size()"
   ]
  },
  {
   "cell_type": "code",
   "execution_count": 106,
   "metadata": {
    "collapsed": false
   },
   "outputs": [
    {
     "data": {
      "text/plain": [
       "ea_first_careunit\n",
       "CCU       159\n",
       "CSRU     1587\n",
       "MICU      797\n",
       "SICU      274\n",
       "TSICU     155\n",
       "dtype: int64"
      ]
     },
     "execution_count": 106,
     "metadata": {},
     "output_type": "execute_result"
    }
   ],
   "source": [
    "echo_features[(echo_features['ps_vaso']==True) & (echo_features['diag_xc']==False)].groupby(['ea_first_careunit']).size()"
   ]
  },
  {
   "cell_type": "code",
   "execution_count": 108,
   "metadata": {
    "collapsed": false
   },
   "outputs": [
    {
     "data": {
      "text/plain": [
       "ea_first_careunit\n",
       "CCU       109\n",
       "CSRU     1443\n",
       "MICU      422\n",
       "SICU      136\n",
       "TSICU      78\n",
       "dtype: int64"
      ]
     },
     "execution_count": 108,
     "metadata": {},
     "output_type": "execute_result"
    }
   ],
   "source": [
    "echo_features[(echo_features['ps_vaso']==True) & (echo_features['diag_xc']==False) \n",
    "              & (echo_features['age_filter'] == True) & (echo_features['time_filter']==True)\n",
    "              & (echo_features['chronic_dialysis_flg']==False)].groupby(['ea_first_careunit']).size() "
   ]
  },
  {
   "cell_type": "code",
   "execution_count": 110,
   "metadata": {
    "collapsed": false
   },
   "outputs": [
    {
     "data": {
      "text/plain": [
       "ea_first_careunit\n",
       "CCU       950\n",
       "CSRU     3322\n",
       "MICU     1225\n",
       "SICU      405\n",
       "TSICU     259\n",
       "Name: subject_id, dtype: int64"
      ]
     },
     "execution_count": 110,
     "metadata": {},
     "output_type": "execute_result"
    }
   ],
   "source": [
    "echo_features[(echo_features['ps_vaso']==True)\n",
    "              & (echo_features['age_filter'] == True) & (echo_features['time_filter']==True)\n",
    "              & (echo_features['chronic_dialysis_flg']==False)].groupby(['ea_first_careunit']).subject_id.nunique()"
   ]
  },
  {
   "cell_type": "code",
   "execution_count": 87,
   "metadata": {
    "collapsed": false
   },
   "outputs": [
    {
     "name": "stderr",
     "output_type": "stream",
     "text": [
      "C:\\Anaconda2\\lib\\site-packages\\ipykernel\\__main__.py:2: UserWarning: Boolean Series key will be reindexed to match DataFrame index.\n",
      "  from ipykernel import kernelapp as app\n",
      "C:\\Anaconda2\\lib\\site-packages\\ipykernel\\__main__.py:3: UserWarning: Boolean Series key will be reindexed to match DataFrame index.\n",
      "  app.launch_new_instance()\n",
      "C:\\Anaconda2\\lib\\site-packages\\ipykernel\\__main__.py:4: UserWarning: Boolean Series key will be reindexed to match DataFrame index.\n"
     ]
    }
   ],
   "source": [
    "ef1 = echo_features[(echo_features['ps_vaso']==True)]\n",
    "ef2 = ef1[(echo_features['diag_xc']==False)]\n",
    "ef3 = ef2[(echo_features['age_filter'] == True) & (echo_features['time_filter']==True)]\n",
    "ef4 = ef3[(echo_features['chronic_dialysis_flg']==False)]"
   ]
  },
  {
   "cell_type": "code",
   "execution_count": 107,
   "metadata": {
    "collapsed": false
   },
   "outputs": [
    {
     "data": {
      "text/plain": [
       "ea_first_careunit\n",
       "CCU       109\n",
       "CSRU     1443\n",
       "MICU      422\n",
       "SICU      136\n",
       "TSICU      78\n",
       "dtype: int64"
      ]
     },
     "execution_count": 107,
     "metadata": {},
     "output_type": "execute_result"
    }
   ],
   "source": [
    "ef4.groupby(['ea_first_careunit']).size()\n",
    "#ef4.subject_id.nunique()"
   ]
  },
  {
   "cell_type": "code",
   "execution_count": 101,
   "metadata": {
    "collapsed": false
   },
   "outputs": [
    {
     "data": {
      "text/plain": [
       "ea_first_careunit\n",
       "CCU        87\n",
       "CSRU     1365\n",
       "MICU      404\n",
       "SICU      125\n",
       "TSICU      70\n",
       "Name: subject_id, dtype: int64"
      ]
     },
     "execution_count": 101,
     "metadata": {},
     "output_type": "execute_result"
    }
   ],
   "source": [
    "df.groupby(['ea_first_careunit']).subject_id.nunique() # only first echos are used.  \n",
    "#df.subject_id.nunique()"
   ]
  },
  {
   "cell_type": "code",
   "execution_count": null,
   "metadata": {
    "collapsed": true
   },
   "outputs": [],
   "source": []
  },
  {
   "cell_type": "code",
   "execution_count": 42,
   "metadata": {
    "collapsed": false
   },
   "outputs": [
    {
     "data": {
      "text/plain": [
       "ea_first_careunit\n",
       "CCU      3990\n",
       "CSRU     4861\n",
       "MICU     5329\n",
       "SICU     1834\n",
       "TSICU     977\n",
       "Name: subject_id, dtype: int64"
      ]
     },
     "execution_count": 42,
     "metadata": {},
     "output_type": "execute_result"
    }
   ],
   "source": [
    "echo_features.groupby(['ea_first_careunit']).subject_id.nunique()"
   ]
  },
  {
   "cell_type": "code",
   "execution_count": 62,
   "metadata": {
    "collapsed": false
   },
   "outputs": [
    {
     "data": {
      "text/plain": [
       "ea_first_careunit\n",
       "CCU      1146\n",
       "CSRU     3591\n",
       "MICU     1886\n",
       "SICU      686\n",
       "TSICU     419\n",
       "Name: subject_id, dtype: int64"
      ]
     },
     "execution_count": 62,
     "metadata": {},
     "output_type": "execute_result"
    }
   ],
   "source": [
    "echo_features[echo_features['ps_vaso']==True].groupby(['ea_first_careunit']).subject_id.nunique()"
   ]
  },
  {
   "cell_type": "code",
   "execution_count": null,
   "metadata": {
    "collapsed": true
   },
   "outputs": [],
   "source": [
    "#Look at the 221 patients with post echo and stratify EF change vs. mortality. Model change in EF as a predictor of mortality "
   ]
  },
  {
   "cell_type": "code",
   "execution_count": 9,
   "metadata": {
    "collapsed": false
   },
   "outputs": [],
   "source": [
    "sql = \"\"\"\n",
    "SELECT *\n",
    "  FROM mimiciii.echo_filtered_micu\n",
    "  \"\"\"\n",
    "ef = pd.read_sql_query(sql, conn)"
   ]
  },
  {
   "cell_type": "code",
   "execution_count": null,
   "metadata": {
    "collapsed": true
   },
   "outputs": [],
   "source": []
  },
  {
   "cell_type": "code",
   "execution_count": 10,
   "metadata": {
    "collapsed": false
   },
   "outputs": [
    {
     "data": {
      "image/png": "[encoded data removed]",
      "text/plain": [
       "<matplotlib.figure.Figure at 0xbffd8d0>"
      ]
     },
     "metadata": {},
     "output_type": "display_data"
    }
   ],
   "source": [
    "sns.barplot(x='ea_lv_systolic', y='fl_day1_balance_ml', data=ef)\n",
    "plt.savefig('micu_lvsystolic_day1balance.png')"
   ]
  },
  {
   "cell_type": "code",
   "execution_count": 18,
   "metadata": {
    "collapsed": true
   },
   "outputs": [],
   "source": [
    "to_plot = ef[['fl_day1_balance_ml', 'fl_day2_balance_ml', 'fl_day3_balance_ml']].stack().reset_index()\n",
    "to_plot.columns = ['row_id', 'Day', 'Fluid balance (ml)']\n",
    "to_plot.loc[to_plot['Day'] == 'fl_day1_balance_ml', 'Day'] = 1\n",
    "to_plot.loc[to_plot['Day'] == 'fl_day2_balance_ml', 'Day'] = 2\n",
    "to_plot.loc[to_plot['Day'] == 'fl_day3_balance_ml', 'Day'] = 3\n",
    "to_plot = to_plot.loc[to_plot['Fluid balance (ml)'] >= -7000]\n",
    "to_plot = pd.merge(to_plot, ef[['ea_lv_systolic']], left_on = 'row_id', right_index = True)\n",
    "to_plot = pd.merge(to_plot, ef[['ex_congestive_heart_failure']], left_on = 'row_id', right_index = True)\n",
    "to_plot = pd.merge(to_plot, ef[['day30_mortality']], left_on='row_id', right_index=True)\n",
    "to_plot = pd.merge(to_plot, ef[['mech_vent']], left_on='row_id', right_index=True)"
   ]
  },
  {
   "cell_type": "code",
   "execution_count": 19,
   "metadata": {
    "collapsed": false
   },
   "outputs": [
    {
     "data": {
      "text/plain": [
       "<matplotlib.axes._subplots.AxesSubplot at 0xd776160>"
      ]
     },
     "execution_count": 19,
     "metadata": {},
     "output_type": "execute_result"
    },
    {
     "data": {
      "image/png": "[encoded data removed]",
      "text/plain": [
       "<matplotlib.figure.Figure at 0xe2ef9e8>"
      ]
     },
     "metadata": {},
     "output_type": "display_data"
    }
   ],
   "source": [
    "sns.barplot(data = to_plot, x = 'ea_lv_systolic', y = 'Fluid balance (ml)', hue = 'Day')"
   ]
  },
  {
   "cell_type": "code",
   "execution_count": 12,
   "metadata": {
    "collapsed": false
   },
   "outputs": [
    {
     "data": {
      "text/plain": [
       "False    700\n",
       "True     526\n",
       "Name: ea_days_after_discharge_death, dtype: int64"
      ]
     },
     "execution_count": 12,
     "metadata": {},
     "output_type": "execute_result"
    }
   ],
   "source": [
    "day30_mortality = ef.ea_days_after_discharge_death <= 30\n",
    "day30_mortality.value_counts()"
   ]
  },
  {
   "cell_type": "code",
   "execution_count": 13,
   "metadata": {
    "collapsed": true
   },
   "outputs": [],
   "source": [
    "ef['day30_mortality'] = day30_mortality"
   ]
  },
  {
   "cell_type": "code",
   "execution_count": 14,
   "metadata": {
    "collapsed": false,
    "scrolled": true
   },
   "outputs": [
    {
     "data": {
      "text/html": [
       "<div>\n",
       "<table border=\"1\" class=\"dataframe\">\n",
       "  <thead>\n",
       "    <tr style=\"text-align: right;\">\n",
       "      <th>ea_lv_systolic</th>\n",
       "      <th>-50.0</th>\n",
       "      <th>-1.0</th>\n",
       "      <th>0.0</th>\n",
       "      <th>1.0</th>\n",
       "      <th>2.0</th>\n",
       "      <th>3.0</th>\n",
       "    </tr>\n",
       "    <tr>\n",
       "      <th>day30_mortality</th>\n",
       "      <th></th>\n",
       "      <th></th>\n",
       "      <th></th>\n",
       "      <th></th>\n",
       "      <th></th>\n",
       "      <th></th>\n",
       "    </tr>\n",
       "  </thead>\n",
       "  <tbody>\n",
       "    <tr>\n",
       "      <th>False</th>\n",
       "      <td>4</td>\n",
       "      <td>52</td>\n",
       "      <td>378</td>\n",
       "      <td>56</td>\n",
       "      <td>32</td>\n",
       "      <td>58</td>\n",
       "    </tr>\n",
       "    <tr>\n",
       "      <th>True</th>\n",
       "      <td>1</td>\n",
       "      <td>62</td>\n",
       "      <td>243</td>\n",
       "      <td>35</td>\n",
       "      <td>30</td>\n",
       "      <td>82</td>\n",
       "    </tr>\n",
       "  </tbody>\n",
       "</table>\n",
       "</div>"
      ],
      "text/plain": [
       "ea_lv_systolic   -50.0  -1.0    0.0    1.0    2.0    3.0 \n",
       "day30_mortality                                          \n",
       "False                4     52    378     56     32     58\n",
       "True                 1     62    243     35     30     82"
      ]
     },
     "execution_count": 14,
     "metadata": {},
     "output_type": "execute_result"
    }
   ],
   "source": [
    "table = ef.groupby(['day30_mortality', 'ea_lv_systolic']).size().unstack()\n",
    "table"
   ]
  },
  {
   "cell_type": "code",
   "execution_count": 15,
   "metadata": {
    "collapsed": false
   },
   "outputs": [
    {
     "data": {
      "text/html": [
       "<div>\n",
       "<table border=\"1\" class=\"dataframe\">\n",
       "  <thead>\n",
       "    <tr style=\"text-align: right;\">\n",
       "      <th>ea_lv_systolic</th>\n",
       "      <th>-50.0</th>\n",
       "      <th>-1.0</th>\n",
       "      <th>0.0</th>\n",
       "      <th>1.0</th>\n",
       "      <th>2.0</th>\n",
       "      <th>3.0</th>\n",
       "    </tr>\n",
       "    <tr>\n",
       "      <th>day30_mortality</th>\n",
       "      <th></th>\n",
       "      <th></th>\n",
       "      <th></th>\n",
       "      <th></th>\n",
       "      <th></th>\n",
       "      <th></th>\n",
       "    </tr>\n",
       "  </thead>\n",
       "  <tbody>\n",
       "    <tr>\n",
       "      <th>False</th>\n",
       "      <td>0.8</td>\n",
       "      <td>0.45614</td>\n",
       "      <td>0.608696</td>\n",
       "      <td>0.615385</td>\n",
       "      <td>0.516129</td>\n",
       "      <td>0.414286</td>\n",
       "    </tr>\n",
       "    <tr>\n",
       "      <th>True</th>\n",
       "      <td>0.2</td>\n",
       "      <td>0.54386</td>\n",
       "      <td>0.391304</td>\n",
       "      <td>0.384615</td>\n",
       "      <td>0.483871</td>\n",
       "      <td>0.585714</td>\n",
       "    </tr>\n",
       "  </tbody>\n",
       "</table>\n",
       "</div>"
      ],
      "text/plain": [
       "ea_lv_systolic   -50.0    -1.0       0.0       1.0       2.0       3.0 \n",
       "day30_mortality                                                        \n",
       "False              0.8  0.45614  0.608696  0.615385  0.516129  0.414286\n",
       "True               0.2  0.54386  0.391304  0.384615  0.483871  0.585714"
      ]
     },
     "execution_count": 15,
     "metadata": {},
     "output_type": "execute_result"
    }
   ],
   "source": [
    "table = ef.groupby(['day30_mortality', 'ea_lv_systolic']).size().unstack()\n",
    "table /= table.sum(axis=0)\n",
    "table ## severely depressed and hyperdynamic have increased likelihood of death"
   ]
  },
  {
   "cell_type": "code",
   "execution_count": 23,
   "metadata": {
    "collapsed": false
   },
   "outputs": [
    {
     "data": {
      "text/plain": [
       "<matplotlib.axes._subplots.AxesSubplot at 0xcf77320>"
      ]
     },
     "execution_count": 23,
     "metadata": {},
     "output_type": "execute_result"
    },
    {
     "data": {
      "image/png": "[encoded data removed]",
      "text/plain": [
       "<matplotlib.figure.Figure at 0xd3ef518>"
      ]
     },
     "metadata": {},
     "output_type": "display_data"
    }
   ],
   "source": [
    "sns.barplot(x='day30_mortality', y='fl_day1_balance_ml', data=ef)"
   ]
  },
  {
   "cell_type": "code",
   "execution_count": 29,
   "metadata": {
    "collapsed": false
   },
   "outputs": [
    {
     "data": {
      "image/png": "[encoded data removed]",
      "text/plain": [
       "<matplotlib.figure.Figure at 0xd1a4400>"
      ]
     },
     "metadata": {},
     "output_type": "display_data"
    }
   ],
   "source": [
    "# higher mortality associated with higher fluid balance.\n",
    "sns.barplot(x='ea_lv_systolic', y='fl_day1_balance_ml', hue = 'day30_mortality', data=ef)\n",
    "plt.savefig('micu_fluid_mortality.png')"
   ]
  },
  {
   "cell_type": "code",
   "execution_count": 20,
   "metadata": {
    "collapsed": false
   },
   "outputs": [
    {
     "data": {
      "text/plain": [
       "<matplotlib.axes._subplots.AxesSubplot at 0xe34cd30>"
      ]
     },
     "execution_count": 20,
     "metadata": {},
     "output_type": "execute_result"
    },
    {
     "data": {
      "image/png": "[encoded data removed]",
      "text/plain": [
       "<matplotlib.figure.Figure at 0xd649cf8>"
      ]
     },
     "metadata": {},
     "output_type": "display_data"
    }
   ],
   "source": [
    "sns.barplot(x='day30_mortality', y='fl_day1_balance_ml', data=ef)"
   ]
  },
  {
   "cell_type": "code",
   "execution_count": 25,
   "metadata": {
    "collapsed": false
   },
   "outputs": [
    {
     "data": {
      "text/html": [
       "<div>\n",
       "<table border=\"1\" class=\"dataframe\">\n",
       "  <thead>\n",
       "    <tr style=\"text-align: right;\">\n",
       "      <th></th>\n",
       "      <th>Intercept</th>\n",
       "      <th>C(gender)[T.M]</th>\n",
       "      <th>ea_lv_systolic</th>\n",
       "      <th>fl_day1_balance_ml</th>\n",
       "      <th>ea_lv_systolic:fl_day1_balance_ml</th>\n",
       "      <th>apsiii</th>\n",
       "      <th>ea_age</th>\n",
       "      <th>lab_creatinine</th>\n",
       "      <th>lab_hematocrit</th>\n",
       "    </tr>\n",
       "  </thead>\n",
       "  <tbody>\n",
       "    <tr>\n",
       "      <th>0</th>\n",
       "      <td>1.0</td>\n",
       "      <td>0.0</td>\n",
       "      <td>3.0</td>\n",
       "      <td>4740.000000</td>\n",
       "      <td>14220.000000</td>\n",
       "      <td>57.0</td>\n",
       "      <td>35.0</td>\n",
       "      <td>1.7</td>\n",
       "      <td>33.7</td>\n",
       "    </tr>\n",
       "    <tr>\n",
       "      <th>1</th>\n",
       "      <td>1.0</td>\n",
       "      <td>1.0</td>\n",
       "      <td>1.0</td>\n",
       "      <td>-1564.012497</td>\n",
       "      <td>-1564.012497</td>\n",
       "      <td>50.0</td>\n",
       "      <td>28.0</td>\n",
       "      <td>0.8</td>\n",
       "      <td>43.5</td>\n",
       "    </tr>\n",
       "    <tr>\n",
       "      <th>2</th>\n",
       "      <td>1.0</td>\n",
       "      <td>0.0</td>\n",
       "      <td>2.0</td>\n",
       "      <td>5742.809568</td>\n",
       "      <td>11485.619136</td>\n",
       "      <td>103.0</td>\n",
       "      <td>68.0</td>\n",
       "      <td>0.5</td>\n",
       "      <td>40.4</td>\n",
       "    </tr>\n",
       "    <tr>\n",
       "      <th>4</th>\n",
       "      <td>1.0</td>\n",
       "      <td>1.0</td>\n",
       "      <td>-1.0</td>\n",
       "      <td>-248.250000</td>\n",
       "      <td>248.250000</td>\n",
       "      <td>43.0</td>\n",
       "      <td>91.6</td>\n",
       "      <td>0.9</td>\n",
       "      <td>31.3</td>\n",
       "    </tr>\n",
       "    <tr>\n",
       "      <th>5</th>\n",
       "      <td>1.0</td>\n",
       "      <td>0.0</td>\n",
       "      <td>0.0</td>\n",
       "      <td>-2532.500000</td>\n",
       "      <td>-0.000000</td>\n",
       "      <td>63.0</td>\n",
       "      <td>85.0</td>\n",
       "      <td>1.5</td>\n",
       "      <td>30.6</td>\n",
       "    </tr>\n",
       "  </tbody>\n",
       "</table>\n",
       "</div>"
      ],
      "text/plain": [
       "   Intercept  C(gender)[T.M]  ea_lv_systolic  fl_day1_balance_ml  \\\n",
       "0        1.0             0.0             3.0         4740.000000   \n",
       "1        1.0             1.0             1.0        -1564.012497   \n",
       "2        1.0             0.0             2.0         5742.809568   \n",
       "4        1.0             1.0            -1.0         -248.250000   \n",
       "5        1.0             0.0             0.0        -2532.500000   \n",
       "\n",
       "   ea_lv_systolic:fl_day1_balance_ml  apsiii  ea_age  lab_creatinine  \\\n",
       "0                       14220.000000    57.0    35.0             1.7   \n",
       "1                       -1564.012497    50.0    28.0             0.8   \n",
       "2                       11485.619136   103.0    68.0             0.5   \n",
       "4                         248.250000    43.0    91.6             0.9   \n",
       "5                          -0.000000    63.0    85.0             1.5   \n",
       "\n",
       "   lab_hematocrit  \n",
       "0            33.7  \n",
       "1            43.5  \n",
       "2            40.4  \n",
       "4            31.3  \n",
       "5            30.6  "
      ]
     },
     "execution_count": 25,
     "metadata": {},
     "output_type": "execute_result"
    }
   ],
   "source": [
    "import patsy\n",
    "ef2 = ef[ef.ea_lv_systolic.isin([-1, 0, 1, 2, 3])]\n",
    "dta = ef2[['day30_mortality', 'fl_day1_input_ml', 'fl_day1_balance_ml', 'apsiii', 'ea_age', 'gender', 'ea_lv_systolic', 'lab_creatinine', 'lab_hematocrit']].dropna()\n",
    "dta.describe()#y,X = patsy.dmatrices(\"day30_mortality ~ apsiii + ea_age + C(gender) + C(ea_lv_systolic) + lab_creatinine + lab_hematocrit\", dta, return_type = 'dataframe')\n",
    "#y,X = patsy.dmatrices(\"day30_mortality ~ C(ea_lv_systolic) + fl_day1_balance_ml+ C(ea_lv_systolic)*fl_day1_balance_ml+ apsiii + ea_age + C(gender)+ lab_creatinine + lab_hematocrit\", dta, return_type = 'dataframe')\n",
    "y,X = patsy.dmatrices(\"day30_mortality ~ ea_lv_systolic + fl_day1_balance_ml + ea_lv_systolic*fl_day1_balance_ml+ apsiii + ea_age + C(gender)+ lab_creatinine + lab_hematocrit\",dta, return_type = 'dataframe')\n",
    "X.head()"
   ]
  },
  {
   "cell_type": "code",
   "execution_count": 26,
   "metadata": {
    "collapsed": false
   },
   "outputs": [
    {
     "name": "stdout",
     "output_type": "stream",
     "text": [
      "Optimization terminated successfully.\n",
      "         Current function value: 0.602389\n",
      "         Iterations 5\n",
      "                             Logit Regression Results                            \n",
      "=================================================================================\n",
      "Dep. Variable:     day30_mortality[True]   No. Observations:                  968\n",
      "Model:                             Logit   Df Residuals:                      959\n",
      "Method:                              MLE   Df Model:                            8\n",
      "Date:                   Thu, 19 Jan 2017   Pseudo R-squ.:                  0.1218\n",
      "Time:                           15:28:39   Log-Likelihood:                -583.11\n",
      "converged:                          True   LL-Null:                       -664.00\n",
      "                                           LLR p-value:                 6.808e-31\n",
      "=====================================================================================================\n",
      "                                        coef    std err          z      P>|z|      [95.0% Conf. Int.]\n",
      "-----------------------------------------------------------------------------------------------------\n",
      "Intercept                            -3.5610      0.560     -6.360      0.000        -4.658    -2.464\n",
      "C(gender)[T.M]                        0.2401      0.146      1.641      0.101        -0.047     0.527\n",
      "ea_lv_systolic                        0.0527      0.070      0.757      0.449        -0.084     0.189\n",
      "fl_day1_balance_ml                 1.787e-05   2.36e-05      0.756      0.450     -2.85e-05  6.42e-05\n",
      "ea_lv_systolic:fl_day1_balance_ml  3.422e-05   2.04e-05      1.678      0.093     -5.75e-06  7.42e-05\n",
      "apsiii                                0.0343      0.004      9.137      0.000         0.027     0.042\n",
      "ea_age                                0.0162      0.004      3.790      0.000         0.008     0.025\n",
      "lab_creatinine                       -0.0340      0.054     -0.628      0.530        -0.140     0.072\n",
      "lab_hematocrit                       -0.0047      0.013     -0.368      0.713        -0.029     0.020\n",
      "=====================================================================================================\n"
     ]
    }
   ],
   "source": [
    "logit = sm.Logit(y['day30_mortality[True]'],X)\n",
    "result = logit.fit()\n",
    "print result.summary()"
   ]
  },
  {
   "cell_type": "code",
   "execution_count": 27,
   "metadata": {
    "collapsed": false
   },
   "outputs": [
    {
     "name": "stdout",
     "output_type": "stream",
     "text": [
      "                                          0         1\n",
      "Intercept                         -4.658447 -2.463510\n",
      "C(gender)[T.M]                    -0.046672  0.526918\n",
      "ea_lv_systolic                    -0.083865  0.189303\n",
      "fl_day1_balance_ml                -0.000028  0.000064\n",
      "ea_lv_systolic:fl_day1_balance_ml -0.000006  0.000074\n",
      "apsiii                             0.026980  0.041716\n",
      "ea_age                             0.007836  0.024621\n",
      "lab_creatinine                    -0.140257  0.072164\n",
      "lab_hematocrit                    -0.029459  0.020137\n"
     ]
    }
   ],
   "source": [
    "print result.conf_int()"
   ]
  },
  {
   "cell_type": "code",
   "execution_count": 28,
   "metadata": {
    "collapsed": false
   },
   "outputs": [
    {
     "name": "stdout",
     "output_type": "stream",
     "text": [
      "                                  Generalized Linear Model Regression Results                                  \n",
      "===============================================================================================================\n",
      "Dep. Variable:     ['day30_mortality[False]', 'day30_mortality[True]']   No. Observations:                  968\n",
      "Model:                                                             GLM   Df Residuals:                      953\n",
      "Model Family:                                                 Binomial   Df Model:                           14\n",
      "Link Function:                                                   logit   Scale:                             1.0\n",
      "Method:                                                           IRLS   Log-Likelihood:                -578.00\n",
      "Date:                                                 Thu, 19 Jan 2017   Deviance:                       1156.0\n",
      "Time:                                                         15:31:49   Pearson chi2:                     980.\n",
      "No. Iterations:                                                      6                                         \n",
      "===============================================================================================================\n",
      "                                                  coef    std err          z      P>|z|      [95.0% Conf. Int.]\n",
      "---------------------------------------------------------------------------------------------------------------\n",
      "Intercept                                       3.0041      0.627      4.793      0.000         1.776     4.232\n",
      "C(ea_lv_systolic)[T.0.0]                        0.4734      0.274      1.729      0.084        -0.063     1.010\n",
      "C(ea_lv_systolic)[T.1.0]                        0.7271      0.356      2.040      0.041         0.029     1.425\n",
      "C(ea_lv_systolic)[T.2.0]                        0.4526      0.414      1.094      0.274        -0.358     1.263\n",
      "C(ea_lv_systolic)[T.3.0]                        0.0120      0.339      0.035      0.972        -0.652     0.676\n",
      "C(gender)[T.M]                                 -0.2494      0.148     -1.691      0.091        -0.538     0.040\n",
      "fl_day1_balance_ml                           3.623e-05   6.04e-05      0.599      0.549     -8.22e-05     0.000\n",
      "C(ea_lv_systolic)[T.0.0]:fl_day1_balance_ml   -5.8e-05   6.57e-05     -0.882      0.378        -0.000  7.08e-05\n",
      "C(ea_lv_systolic)[T.1.0]:fl_day1_balance_ml -5.498e-05   7.66e-05     -0.718      0.473        -0.000  9.51e-05\n",
      "C(ea_lv_systolic)[T.2.0]:fl_day1_balance_ml    -0.0002      0.000     -1.348      0.178        -0.000  7.04e-05\n",
      "C(ea_lv_systolic)[T.3.0]:fl_day1_balance_ml    -0.0002   9.87e-05     -1.873      0.061        -0.000  8.57e-06\n",
      "apsiii                                         -0.0338      0.004     -8.919      0.000        -0.041    -0.026\n",
      "ea_age                                         -0.0170      0.004     -3.917      0.000        -0.025    -0.008\n",
      "lab_creatinine                                  0.0337      0.055      0.617      0.537        -0.073     0.141\n",
      "lab_hematocrit                                  0.0100      0.013      0.776      0.438        -0.015     0.035\n",
      "===============================================================================================================\n"
     ]
    }
   ],
   "source": [
    "# logistic regression -- with lv_systolic as categorical variable.\n",
    "mod3 = smf.glm(\"day30_mortality ~ C(ea_lv_systolic) + fl_day1_balance_ml+ C(ea_lv_systolic)*fl_day1_balance_ml+ apsiii + ea_age + C(gender)+ lab_creatinine + lab_hematocrit\", dta, family=sm.families.Binomial())\n",
    "gresults = mod3.fit()\n",
    "print gresults.summary()"
   ]
  },
  {
   "cell_type": "code",
   "execution_count": 5,
   "metadata": {
    "collapsed": true
   },
   "outputs": [],
   "source": [
    "# service table lists level of care: https://mimic.physionet.org/mimictables/services/\n",
    "sql = \"\"\"SELECT curr_service, count(distinct subject_id) as num_distinct_subject_id\n",
    "  FROM mimiciii.services\n",
    "group by curr_service\n",
    "order by num_distinct_subject_id desc\"\"\"\n",
    "service = pd.read_sql_query(sql, conn)"
   ]
  },
  {
   "cell_type": "code",
   "execution_count": 6,
   "metadata": {
    "collapsed": false
   },
   "outputs": [
    {
     "data": {
      "text/html": [
       "<div>\n",
       "<table border=\"1\" class=\"dataframe\">\n",
       "  <thead>\n",
       "    <tr style=\"text-align: right;\">\n",
       "      <th></th>\n",
       "      <th>curr_service</th>\n",
       "      <th>num_distinct_subject_id</th>\n",
       "    </tr>\n",
       "  </thead>\n",
       "  <tbody>\n",
       "    <tr>\n",
       "      <th>0</th>\n",
       "      <td>MED</td>\n",
       "      <td>17778</td>\n",
       "    </tr>\n",
       "    <tr>\n",
       "      <th>1</th>\n",
       "      <td>CMED</td>\n",
       "      <td>7949</td>\n",
       "    </tr>\n",
       "    <tr>\n",
       "      <th>2</th>\n",
       "      <td>NB</td>\n",
       "      <td>7806</td>\n",
       "    </tr>\n",
       "    <tr>\n",
       "      <th>3</th>\n",
       "      <td>CSURG</td>\n",
       "      <td>7443</td>\n",
       "    </tr>\n",
       "    <tr>\n",
       "      <th>4</th>\n",
       "      <td>SURG</td>\n",
       "      <td>4571</td>\n",
       "    </tr>\n",
       "    <tr>\n",
       "      <th>5</th>\n",
       "      <td>NSURG</td>\n",
       "      <td>3601</td>\n",
       "    </tr>\n",
       "    <tr>\n",
       "      <th>6</th>\n",
       "      <td>TRAUM</td>\n",
       "      <td>3068</td>\n",
       "    </tr>\n",
       "    <tr>\n",
       "      <th>7</th>\n",
       "      <td>NMED</td>\n",
       "      <td>2672</td>\n",
       "    </tr>\n",
       "    <tr>\n",
       "      <th>8</th>\n",
       "      <td>OMED</td>\n",
       "      <td>1455</td>\n",
       "    </tr>\n",
       "    <tr>\n",
       "      <th>9</th>\n",
       "      <td>VSURG</td>\n",
       "      <td>1231</td>\n",
       "    </tr>\n",
       "    <tr>\n",
       "      <th>10</th>\n",
       "      <td>TSURG</td>\n",
       "      <td>1185</td>\n",
       "    </tr>\n",
       "    <tr>\n",
       "      <th>11</th>\n",
       "      <td>ORTHO</td>\n",
       "      <td>947</td>\n",
       "    </tr>\n",
       "    <tr>\n",
       "      <th>12</th>\n",
       "      <td>GU</td>\n",
       "      <td>349</td>\n",
       "    </tr>\n",
       "    <tr>\n",
       "      <th>13</th>\n",
       "      <td>NBB</td>\n",
       "      <td>336</td>\n",
       "    </tr>\n",
       "    <tr>\n",
       "      <th>14</th>\n",
       "      <td>PSURG</td>\n",
       "      <td>262</td>\n",
       "    </tr>\n",
       "    <tr>\n",
       "      <th>15</th>\n",
       "      <td>GYN</td>\n",
       "      <td>240</td>\n",
       "    </tr>\n",
       "    <tr>\n",
       "      <th>16</th>\n",
       "      <td>ENT</td>\n",
       "      <td>205</td>\n",
       "    </tr>\n",
       "    <tr>\n",
       "      <th>17</th>\n",
       "      <td>OBS</td>\n",
       "      <td>78</td>\n",
       "    </tr>\n",
       "    <tr>\n",
       "      <th>18</th>\n",
       "      <td>DENT</td>\n",
       "      <td>5</td>\n",
       "    </tr>\n",
       "    <tr>\n",
       "      <th>19</th>\n",
       "      <td>PSYCH</td>\n",
       "      <td>1</td>\n",
       "    </tr>\n",
       "  </tbody>\n",
       "</table>\n",
       "</div>"
      ],
      "text/plain": [
       "   curr_service  num_distinct_subject_id\n",
       "0           MED                    17778\n",
       "1          CMED                     7949\n",
       "2            NB                     7806\n",
       "3         CSURG                     7443\n",
       "4          SURG                     4571\n",
       "5         NSURG                     3601\n",
       "6         TRAUM                     3068\n",
       "7          NMED                     2672\n",
       "8          OMED                     1455\n",
       "9         VSURG                     1231\n",
       "10        TSURG                     1185\n",
       "11        ORTHO                      947\n",
       "12           GU                      349\n",
       "13          NBB                      336\n",
       "14        PSURG                      262\n",
       "15          GYN                      240\n",
       "16          ENT                      205\n",
       "17          OBS                       78\n",
       "18         DENT                        5\n",
       "19        PSYCH                        1"
      ]
     },
     "execution_count": 6,
     "metadata": {},
     "output_type": "execute_result"
    }
   ],
   "source": [
    "service"
   ]
  },
  {
   "cell_type": "code",
   "execution_count": 12,
   "metadata": {
    "collapsed": false
   },
   "outputs": [
    {
     "data": {
      "text/html": [
       "<div>\n",
       "<table border=\"1\" class=\"dataframe\">\n",
       "  <thead>\n",
       "    <tr style=\"text-align: right;\">\n",
       "      <th></th>\n",
       "      <th>count</th>\n",
       "    </tr>\n",
       "  </thead>\n",
       "  <tbody>\n",
       "    <tr>\n",
       "      <th>0</th>\n",
       "      <td>7086</td>\n",
       "    </tr>\n",
       "  </tbody>\n",
       "</table>\n",
       "</div>"
      ],
      "text/plain": [
       "   count\n",
       "0   7086"
      ]
     },
     "execution_count": 12,
     "metadata": {},
     "output_type": "execute_result"
    }
   ],
   "source": [
    "# number of patients with servicetype listed as MICU and have echos\n",
    "sql = \"\"\"SELECT count(distinct s.subject_id)\n",
    "  FROM mimiciii.echo_filter_vars as e\n",
    "  join mimiciii.services as s\n",
    "  on s.subject_id = e.subject_id and s.hadm_id = e.hadm_id\n",
    "  where s.curr_service = 'MED'\"\"\"\n",
    "e_s = pd.read_sql_query(sql, conn)\n",
    "e_s"
   ]
  },
  {
   "cell_type": "code",
   "execution_count": 16,
   "metadata": {
    "collapsed": false
   },
   "outputs": [
    {
     "data": {
      "text/html": [
       "<div>\n",
       "<table border=\"1\" class=\"dataframe\">\n",
       "  <thead>\n",
       "    <tr style=\"text-align: right;\">\n",
       "      <th></th>\n",
       "      <th>count</th>\n",
       "    </tr>\n",
       "  </thead>\n",
       "  <tbody>\n",
       "    <tr>\n",
       "      <th>0</th>\n",
       "      <td>5758</td>\n",
       "    </tr>\n",
       "  </tbody>\n",
       "</table>\n",
       "</div>"
      ],
      "text/plain": [
       "   count\n",
       "0   5758"
      ]
     },
     "execution_count": 16,
     "metadata": {},
     "output_type": "execute_result"
    }
   ],
   "source": [
    "# number of patients with icu location type listed as MICU and have echos\n",
    "sql = \"\"\"SELECT count(distinct i.subject_id)\n",
    "FROM mimiciii.echo_filter_vars as e\n",
    "  join mimiciii.icustays as i\n",
    "  on i.subject_id = e.subject_id and i.hadm_id = e.hadm_id\n",
    "  where i.first_careunit = 'MICU'\"\"\"\n",
    "e_i = pd.read_sql_query(sql, conn)\n",
    "e_i"
   ]
  },
  {
   "cell_type": "code",
   "execution_count": 20,
   "metadata": {
    "collapsed": false
   },
   "outputs": [],
   "source": [
    "# a patient can have multiple service types... do i need to identify service type of \"MED\" with echos taking place near transfertime?  \n",
    "# take a look at physionet explanation of icustays table and services table.  i am confused... \n",
    "sql = \"\"\"SELECT s.subject_id, s.hadm_id, i.icustay_id, s.transfertime, s.curr_service, i.first_careunit, i.last_careunit, i.first_wardid, i.last_wardid, i.intime, i.outtime, i.los\n",
    "  FROM mimiciii.services as s\n",
    "  join mimiciii.icustays as i\n",
    "  on s.subject_id = i.subject_id and s.hadm_id = i.hadm_id\n",
    "  where curr_service = 'MED'\n",
    "  order by s.subject_Id, s.hadm_id, i.icustay_id, s.transfertime\"\"\"\n",
    "serv_icustay = pd.read_sql_query(sql, conn)"
   ]
  },
  {
   "cell_type": "code",
   "execution_count": 31,
   "metadata": {
    "collapsed": false
   },
   "outputs": [],
   "source": [
    "# interesting subject_ids:\n",
    "df = serv_icustay[serv_icustay['subject_id']==91]\n",
    "#df[df['A'] > 0]"
   ]
  },
  {
   "cell_type": "code",
   "execution_count": 33,
   "metadata": {
    "collapsed": false
   },
   "outputs": [
    {
     "data": {
      "text/html": [
       "<div>\n",
       "<table border=\"1\" class=\"dataframe\">\n",
       "  <thead>\n",
       "    <tr style=\"text-align: right;\">\n",
       "      <th></th>\n",
       "      <th>subject_id</th>\n",
       "      <th>hadm_id</th>\n",
       "      <th>icustay_id</th>\n",
       "      <th>transfertime</th>\n",
       "      <th>curr_service</th>\n",
       "      <th>first_careunit</th>\n",
       "      <th>last_careunit</th>\n",
       "      <th>first_wardid</th>\n",
       "      <th>last_wardid</th>\n",
       "      <th>intime</th>\n",
       "      <th>outtime</th>\n",
       "      <th>los</th>\n",
       "    </tr>\n",
       "  </thead>\n",
       "  <tbody>\n",
       "    <tr>\n",
       "      <th>0</th>\n",
       "      <td>91</td>\n",
       "      <td>145834</td>\n",
       "      <td>211552</td>\n",
       "      <td>2101-10-26 20:43:42</td>\n",
       "      <td>MED</td>\n",
       "      <td>MICU</td>\n",
       "      <td>MICU</td>\n",
       "      <td>12</td>\n",
       "      <td>12</td>\n",
       "      <td>2101-10-20 19:10:11</td>\n",
       "      <td>2101-10-26 20:43:09</td>\n",
       "      <td>6.0646</td>\n",
       "    </tr>\n",
       "    <tr>\n",
       "      <th>1</th>\n",
       "      <td>91</td>\n",
       "      <td>185777</td>\n",
       "      <td>294638</td>\n",
       "      <td>2191-03-16 00:29:31</td>\n",
       "      <td>MED</td>\n",
       "      <td>MICU</td>\n",
       "      <td>MICU</td>\n",
       "      <td>52</td>\n",
       "      <td>52</td>\n",
       "      <td>2191-03-16 00:29:31</td>\n",
       "      <td>2191-03-17 16:46:31</td>\n",
       "      <td>1.6785</td>\n",
       "    </tr>\n",
       "    <tr>\n",
       "      <th>2</th>\n",
       "      <td>91</td>\n",
       "      <td>188822</td>\n",
       "      <td>298129</td>\n",
       "      <td>2167-10-02 11:20:39</td>\n",
       "      <td>MED</td>\n",
       "      <td>CCU</td>\n",
       "      <td>CCU</td>\n",
       "      <td>7</td>\n",
       "      <td>7</td>\n",
       "      <td>2167-10-02 11:20:39</td>\n",
       "      <td>2167-10-03 18:16:05</td>\n",
       "      <td>1.2885</td>\n",
       "    </tr>\n",
       "    <tr>\n",
       "      <th>3</th>\n",
       "      <td>91</td>\n",
       "      <td>111970</td>\n",
       "      <td>216859</td>\n",
       "      <td>2135-01-30 20:53:34</td>\n",
       "      <td>MED</td>\n",
       "      <td>MICU</td>\n",
       "      <td>MICU</td>\n",
       "      <td>52</td>\n",
       "      <td>52</td>\n",
       "      <td>2135-01-30 20:53:34</td>\n",
       "      <td>2135-02-08 05:38:46</td>\n",
       "      <td>8.3647</td>\n",
       "    </tr>\n",
       "    <tr>\n",
       "      <th>4</th>\n",
       "      <td>91</td>\n",
       "      <td>165315</td>\n",
       "      <td>204798</td>\n",
       "      <td>2196-04-09 12:27:00</td>\n",
       "      <td>MED</td>\n",
       "      <td>MICU</td>\n",
       "      <td>MICU</td>\n",
       "      <td>52</td>\n",
       "      <td>52</td>\n",
       "      <td>2196-04-09 12:27:00</td>\n",
       "      <td>2196-04-10 15:54:00</td>\n",
       "      <td>1.1438</td>\n",
       "    </tr>\n",
       "  </tbody>\n",
       "</table>\n",
       "</div>"
      ],
      "text/plain": [
       "   subject_id  hadm_id  icustay_id        transfertime curr_service  \\\n",
       "0          91   145834      211552 2101-10-26 20:43:42          MED   \n",
       "1          91   185777      294638 2191-03-16 00:29:31          MED   \n",
       "2          91   188822      298129 2167-10-02 11:20:39          MED   \n",
       "3          91   111970      216859 2135-01-30 20:53:34          MED   \n",
       "4          91   165315      204798 2196-04-09 12:27:00          MED   \n",
       "\n",
       "  first_careunit last_careunit  first_wardid  last_wardid              intime  \\\n",
       "0           MICU          MICU            12           12 2101-10-20 19:10:11   \n",
       "1           MICU          MICU            52           52 2191-03-16 00:29:31   \n",
       "2            CCU           CCU             7            7 2167-10-02 11:20:39   \n",
       "3           MICU          MICU            52           52 2135-01-30 20:53:34   \n",
       "4           MICU          MICU            52           52 2196-04-09 12:27:00   \n",
       "\n",
       "              outtime     los  \n",
       "0 2101-10-26 20:43:09  6.0646  \n",
       "1 2191-03-17 16:46:31  1.6785  \n",
       "2 2167-10-03 18:16:05  1.2885  \n",
       "3 2135-02-08 05:38:46  8.3647  \n",
       "4 2196-04-10 15:54:00  1.1438  "
      ]
     },
     "execution_count": 33,
     "metadata": {},
     "output_type": "execute_result"
    }
   ],
   "source": [
    "df.head()"
   ]
  },
  {
   "cell_type": "code",
   "execution_count": null,
   "metadata": {
    "collapsed": true
   },
   "outputs": [],
   "source": []
  }
 ],
 "metadata": {
  "anaconda-cloud": {},
  "kernelspec": {
   "display_name": "Python [conda root]",
   "language": "python",
   "name": "conda-root-py"
  },
  "language_info": {
   "codemirror_mode": {
    "name": "ipython",
    "version": 3
   },
   "file_extension": ".py",
   "mimetype": "text/x-python",
   "name": "python",
   "nbconvert_exporter": "python",
   "pygments_lexer": "ipython3",
   "version": "3.5.2"
  }
 },
 "nbformat": 4,
 "nbformat_minor": 0
}
