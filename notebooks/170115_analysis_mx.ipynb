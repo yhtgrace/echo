{
 "cells": [
  {
   "cell_type": "code",
   "execution_count": 3,
   "metadata": {
    "collapsed": true
   },
   "outputs": [],
   "source": [
    "import pandas as pd\n",
    "import numpy as np\n",
    "import psycopg2\n",
    "import matplotlib.pyplot as plt\n",
    "import seaborn as sns\n",
    "import statsmodels.api as sm\n",
    "import statsmodels.formula.api as smf\n",
    "\n",
    "import matplotlib.style\n",
    "matplotlib.style.use('ggplot')\n",
    "%matplotlib inline\n",
    "#pd.set_option(\"display.max_colwidth\", 200)\n",
    "from IPython.display import display"
   ]
  },
  {
   "cell_type": "code",
   "execution_count": 4,
   "metadata": {
    "collapsed": true
   },
   "outputs": [],
   "source": [
    "conn = psycopg2.connect(host=\"localhost\",database=\"mimic\", user=\"postgres\", password='postgres', port = '5432')\n",
    "cursor = conn.cursor()"
   ]
  },
  {
   "cell_type": "code",
   "execution_count": 5,
   "metadata": {
    "collapsed": false
   },
   "outputs": [],
   "source": [
    "df =pd.read_csv('master_161208.csv')"
   ]
  },
  {
   "cell_type": "code",
   "execution_count": 6,
   "metadata": {
    "collapsed": false
   },
   "outputs": [
    {
     "data": {
      "text/plain": [
       "['Unnamed: 0',\n",
       " 'row_id',\n",
       " 'icustay_id',\n",
       " 'hadm_id',\n",
       " 'subject_id',\n",
       " 'age_at_intime',\n",
       " 'gender',\n",
       " 'height',\n",
       " 'weight',\n",
       " 'bmi',\n",
       " 'ethnicity',\n",
       " 'insurance',\n",
       " 'ex_congestive_heart_failure',\n",
       " 'ex_cardiac_aarrhythmias',\n",
       " 'ex_valvular_disease',\n",
       " 'ex_pulmonary_circulation',\n",
       " 'ex_peripheral_vascular',\n",
       " 'ex_hypertension',\n",
       " 'ex_paralysis',\n",
       " 'ex_other_neurological',\n",
       " 'ex_chronic_pulmonary',\n",
       " 'ex_diabetes_uncomplicated',\n",
       " 'ex_diabetes_complicated',\n",
       " 'ex_hypothyroidism',\n",
       " 'ex_renal_failure',\n",
       " 'ex_liver_disease',\n",
       " 'ex_peptic_ulcer',\n",
       " 'ex_aids',\n",
       " 'ex_lymphoma',\n",
       " 'ex_metastatic_cancer',\n",
       " 'ex_solid_tumor',\n",
       " 'ex_rheumatoid_arthritis',\n",
       " 'ex_coagulopathy',\n",
       " 'ex_obesity',\n",
       " 'ex_weight_loss',\n",
       " 'ex_fluid_electrolyte',\n",
       " 'ex_blood_loss_anemia',\n",
       " 'ex_deficiency_anemias',\n",
       " 'ex_alcohol_abuse',\n",
       " 'ex_drug_abuse',\n",
       " 'ex_psychoses',\n",
       " 'ex_depression',\n",
       " 'apsiii',\n",
       " 'apsiii_prob',\n",
       " 'apsiii_creatinine_score',\n",
       " 'admittime',\n",
       " 'dischtime',\n",
       " 'intime',\n",
       " 'outtime',\n",
       " 'dod',\n",
       " 'survived_icustay',\n",
       " 'survived_hadm',\n",
       " 'ed_chartdate',\n",
       " 'ed_charttime',\n",
       " 'ed_quality',\n",
       " 'ed_indication',\n",
       " 'ed_bsa',\n",
       " 'ed_bp',\n",
       " 'ed_bpsys',\n",
       " 'ed_bpdias',\n",
       " 'ed_hr',\n",
       " 'ed_test',\n",
       " 'ed_doppler',\n",
       " 'ed_contrast',\n",
       " 'ea_first_careunit',\n",
       " 'ea_age',\n",
       " 'ea_age_of_death',\n",
       " 'ea_days_after_discharge_death',\n",
       " 'ea_status',\n",
       " 'ea_tv_pulm_htn',\n",
       " 'ea_tv_tr',\n",
       " 'ea_lv_cavity',\n",
       " 'ea_lv_diastolic',\n",
       " 'ea_lv_systolic',\n",
       " 'ea_lv_wall',\n",
       " 'ea_rv_cavity',\n",
       " 'ea_rv_diastolic_fluid',\n",
       " 'ea_rv_systolic',\n",
       " 'ea_rv_wall',\n",
       " 'lab_albumin',\n",
       " 'lab_bicarbonate',\n",
       " 'lab_ckmb',\n",
       " 'lab_creatinine',\n",
       " 'lab_crp',\n",
       " 'lab_egfr',\n",
       " 'lab_hematocrit',\n",
       " 'lab_inr',\n",
       " 'lab_lactate',\n",
       " 'lab_platelet',\n",
       " 'lab_ntprobnp',\n",
       " 'lab_ph',\n",
       " 'lab_tropi',\n",
       " 'lab_tropt',\n",
       " 'lab_wbc',\n",
       " 'ps_vaso',\n",
       " 'diag_xc',\n",
       " 'chronic_dialysis_flg',\n",
       " 'age_filter',\n",
       " 'intime_to_echo',\n",
       " 'time_filter',\n",
       " 'after_rowid',\n",
       " 'before_rowid',\n",
       " 'noninv_vent',\n",
       " 'mech_vent',\n",
       " 'fl_day1_input_ml',\n",
       " 'fl_day1_output_ml',\n",
       " 'fl_day1_balance_ml',\n",
       " 'fl_day2_input_ml',\n",
       " 'fl_day2_output_ml',\n",
       " 'fl_day2_balance_ml',\n",
       " 'fl_day3_input_ml',\n",
       " 'fl_day3_output_ml',\n",
       " 'fl_day3_balance_ml',\n",
       " 'most_recent_hadm',\n",
       " 'first_echo',\n",
       " 'mortality_30d']"
      ]
     },
     "execution_count": 6,
     "metadata": {},
     "output_type": "execute_result"
    }
   ],
   "source": [
    "df.columns.tolist()"
   ]
  },
  {
   "cell_type": "raw",
   "metadata": {},
   "source": [
    "Care unit\tDescription -- from icustay table\n",
    "\n",
    "CCU\tCoronary care unit\n",
    "CSRU\tCardiac surgery recovery unit\n",
    "MICU\tMedical intensive care unit\n",
    "SICU\tSurgical intensive care unit\n",
    "TSICU\tTrauma/surgical intensive care unit"
   ]
  },
  {
   "cell_type": "code",
   "execution_count": 7,
   "metadata": {
    "collapsed": false
   },
   "outputs": [
    {
     "data": {
      "text/plain": [
       "ea_first_careunit\n",
       "CCU        87\n",
       "CSRU     1365\n",
       "MICU      404\n",
       "SICU      125\n",
       "TSICU      70\n",
       "dtype: int64"
      ]
     },
     "execution_count": 7,
     "metadata": {},
     "output_type": "execute_result"
    }
   ],
   "source": [
    "# districution of first care unit in filtered list (patients with icu-echo), we are definitely selecting out more cardiac surgery patients\n",
    "df.groupby(['ea_first_careunit']).size()"
   ]
  },
  {
   "cell_type": "code",
   "execution_count": 8,
   "metadata": {
    "collapsed": false
   },
   "outputs": [
    {
     "data": {
      "text/plain": [
       "ea_lv_systolic  ea_first_careunit\n",
       "-50.0           CCU                    2\n",
       "                CSRU                   5\n",
       "                MICU                   1\n",
       "                TSICU                  1\n",
       "-1.0            CCU                    6\n",
       "                CSRU                  10\n",
       "                MICU                  49\n",
       "                SICU                  14\n",
       "                TSICU                 11\n",
       " 0.0            CCU                   42\n",
       "                CSRU                 921\n",
       "                MICU                 250\n",
       "                SICU                  89\n",
       "                TSICU                 41\n",
       " 1.0            CCU                   11\n",
       "                CSRU                 163\n",
       "                MICU                  35\n",
       "                SICU                   3\n",
       "                TSICU                  2\n",
       " 2.0            CCU                    8\n",
       "                CSRU                  46\n",
       "                MICU                  12\n",
       "                SICU                   7\n",
       "                TSICU                  3\n",
       " 3.0            CCU                    7\n",
       "                CSRU                  12\n",
       "                MICU                  16\n",
       "                SICU                   4\n",
       "                TSICU                  5\n",
       "dtype: int64"
      ]
     },
     "execution_count": 8,
     "metadata": {},
     "output_type": "execute_result"
    }
   ],
   "source": [
    "df.groupby(['ea_lv_systolic', 'ea_first_careunit']).size()"
   ]
  },
  {
   "cell_type": "code",
   "execution_count": 9,
   "metadata": {
    "collapsed": false
   },
   "outputs": [],
   "source": [
    "sql = \"\"\"\n",
    "SELECT *\n",
    "  FROM mimiciii.icustays\n",
    "  \"\"\"\n",
    "icustays = pd.read_sql_query(sql, conn)"
   ]
  },
  {
   "cell_type": "code",
   "execution_count": 10,
   "metadata": {
    "collapsed": false
   },
   "outputs": [
    {
     "data": {
      "text/plain": [
       "first_careunit\n",
       "CCU       7726\n",
       "CSRU      9312\n",
       "MICU     21088\n",
       "NICU      8100\n",
       "SICU      8891\n",
       "TSICU     6415\n",
       "dtype: int64"
      ]
     },
     "execution_count": 10,
     "metadata": {},
     "output_type": "execute_result"
    }
   ],
   "source": [
    "# distribution of first care unit in all mimic patients. \n",
    "icustays[['first_careunit']].groupby(['first_careunit']).size()"
   ]
  },
  {
   "cell_type": "code",
   "execution_count": 11,
   "metadata": {
    "collapsed": false
   },
   "outputs": [],
   "source": [
    "# MICU vs CSRU mortality and EF\n",
    "day30_mortality = df.ea_days_after_discharge_death <= 30\n",
    "#sns.barplot(x=\"ea_lv_systolic\", y=\"day30_mortality\", hue =\"ea_first_careunit\", data=df)"
   ]
  },
  {
   "cell_type": "code",
   "execution_count": null,
   "metadata": {
    "collapsed": true
   },
   "outputs": [],
   "source": [
    "# look back at consort diagram... where should we apply MICU filter?  instead of distributive shock filter??"
   ]
  },
  {
   "cell_type": "code",
   "execution_count": null,
   "metadata": {
    "collapsed": true
   },
   "outputs": [],
   "source": [
    "#Look at the 221 patients with post echo and stratify EF change vs. mortality. Model change in EF as a predictor of mortality "
   ]
  }
 ],
 "metadata": {
  "kernelspec": {
   "display_name": "Python 2",
   "language": "python",
   "name": "python2"
  },
  "language_info": {
   "codemirror_mode": {
    "name": "ipython",
    "version": 2
   },
   "file_extension": ".py",
   "mimetype": "text/x-python",
   "name": "python",
   "nbconvert_exporter": "python",
   "pygments_lexer": "ipython2",
   "version": "2.7.11"
  }
 },
 "nbformat": 4,
 "nbformat_minor": 0
}
