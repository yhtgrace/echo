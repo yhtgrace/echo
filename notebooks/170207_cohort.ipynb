{
 "cells": [
  {
   "cell_type": "code",
   "execution_count": 1,
   "metadata": {
    "collapsed": true
   },
   "outputs": [],
   "source": [
    "import numpy as np\n",
    "import pandas as pd\n",
    "import psycopg2\n",
    "\n",
    "import matplotlib.pyplot as plt\n",
    "import seaborn as sns\n",
    "\n",
    "import matplotlib.style\n",
    "matplotlib.style.use('ggplot')\n",
    "%matplotlib inline"
   ]
  },
  {
   "cell_type": "code",
   "execution_count": 2,
   "metadata": {
    "collapsed": true
   },
   "outputs": [],
   "source": [
    "# create a database connection\n",
    "sqluser = 'mimic'\n",
    "dbname = 'mimic'\n",
    "schema_name = 'mimiciii'\n",
    "\n",
    "cur = None"
   ]
  },
  {
   "cell_type": "code",
   "execution_count": 29,
   "metadata": {
    "collapsed": true
   },
   "outputs": [],
   "source": [
    "if cur: \n",
    "    cur.close()\n",
    "    con.close()\n",
    "\n",
    "con = psycopg2.connect(dbname = dbname, user = sqluser)\n",
    "cur = con.cursor()\n",
    "cur.execute('SET search_path to ' + schema_name)"
   ]
  },
  {
   "cell_type": "code",
   "execution_count": 30,
   "metadata": {
    "collapsed": false
   },
   "outputs": [
    {
     "data": {
      "text/html": [
       "<div>\n",
       "<table border=\"1\" class=\"dataframe\">\n",
       "  <thead>\n",
       "    <tr style=\"text-align: right;\">\n",
       "      <th></th>\n",
       "      <th>icustay_id</th>\n",
       "      <th>hadm_id</th>\n",
       "      <th>subject_id</th>\n",
       "      <th>age</th>\n",
       "      <th>gender</th>\n",
       "      <th>height</th>\n",
       "      <th>weight</th>\n",
       "      <th>bmi</th>\n",
       "      <th>ethnicity</th>\n",
       "      <th>insurance</th>\n",
       "      <th>...</th>\n",
       "      <th>ea_tv_pulm_htn</th>\n",
       "      <th>ea_tv_tr</th>\n",
       "      <th>ea_lv_cavity</th>\n",
       "      <th>ea_lv_diastolic</th>\n",
       "      <th>ea_lv_systolic</th>\n",
       "      <th>ea_lv_wall</th>\n",
       "      <th>ea_rv_cavity</th>\n",
       "      <th>ea_rv_diastolic_fluid</th>\n",
       "      <th>ea_rv_systolic</th>\n",
       "      <th>ea_rv_wall</th>\n",
       "    </tr>\n",
       "  </thead>\n",
       "  <tbody>\n",
       "    <tr>\n",
       "      <th>0</th>\n",
       "      <td>287547</td>\n",
       "      <td>189332</td>\n",
       "      <td>109</td>\n",
       "      <td>9146 days 19:49:27</td>\n",
       "      <td>F</td>\n",
       "      <td>152.4</td>\n",
       "      <td>19.368394</td>\n",
       "      <td>8.339186</td>\n",
       "      <td>BLACK/AFRICAN AMERICAN</td>\n",
       "      <td>Medicaid</td>\n",
       "      <td>...</td>\n",
       "      <td>2.0</td>\n",
       "      <td>0.0</td>\n",
       "      <td>0.0</td>\n",
       "      <td>NaN</td>\n",
       "      <td>0.0</td>\n",
       "      <td>3.0</td>\n",
       "      <td>0.0</td>\n",
       "      <td>NaN</td>\n",
       "      <td>0.0</td>\n",
       "      <td>1.0</td>\n",
       "    </tr>\n",
       "    <tr>\n",
       "      <th>1</th>\n",
       "      <td>254245</td>\n",
       "      <td>192123</td>\n",
       "      <td>111</td>\n",
       "      <td>24368 days 06:56:33</td>\n",
       "      <td>F</td>\n",
       "      <td>NaN</td>\n",
       "      <td>57.560001</td>\n",
       "      <td>NaN</td>\n",
       "      <td>WHITE</td>\n",
       "      <td>Medicare</td>\n",
       "      <td>...</td>\n",
       "      <td>NaN</td>\n",
       "      <td>NaN</td>\n",
       "      <td>NaN</td>\n",
       "      <td>NaN</td>\n",
       "      <td>1.0</td>\n",
       "      <td>NaN</td>\n",
       "      <td>0.0</td>\n",
       "      <td>NaN</td>\n",
       "      <td>0.0</td>\n",
       "      <td>NaN</td>\n",
       "    </tr>\n",
       "    <tr>\n",
       "      <th>2</th>\n",
       "      <td>224803</td>\n",
       "      <td>130684</td>\n",
       "      <td>225</td>\n",
       "      <td>11035 days 00:58:13</td>\n",
       "      <td>M</td>\n",
       "      <td>NaN</td>\n",
       "      <td>69.800003</td>\n",
       "      <td>NaN</td>\n",
       "      <td>WHITE</td>\n",
       "      <td>Medicaid</td>\n",
       "      <td>...</td>\n",
       "      <td>NaN</td>\n",
       "      <td>NaN</td>\n",
       "      <td>0.0</td>\n",
       "      <td>NaN</td>\n",
       "      <td>0.0</td>\n",
       "      <td>0.0</td>\n",
       "      <td>NaN</td>\n",
       "      <td>NaN</td>\n",
       "      <td>NaN</td>\n",
       "      <td>NaN</td>\n",
       "    </tr>\n",
       "    <tr>\n",
       "      <th>3</th>\n",
       "      <td>215044</td>\n",
       "      <td>116935</td>\n",
       "      <td>249</td>\n",
       "      <td>27285 days 20:06:02</td>\n",
       "      <td>F</td>\n",
       "      <td>NaN</td>\n",
       "      <td>72.000000</td>\n",
       "      <td>NaN</td>\n",
       "      <td>WHITE</td>\n",
       "      <td>Medicare</td>\n",
       "      <td>...</td>\n",
       "      <td>1.0</td>\n",
       "      <td>1.0</td>\n",
       "      <td>0.0</td>\n",
       "      <td>NaN</td>\n",
       "      <td>1.0</td>\n",
       "      <td>NaN</td>\n",
       "      <td>NaN</td>\n",
       "      <td>NaN</td>\n",
       "      <td>NaN</td>\n",
       "      <td>NaN</td>\n",
       "    </tr>\n",
       "    <tr>\n",
       "      <th>4</th>\n",
       "      <td>257572</td>\n",
       "      <td>111199</td>\n",
       "      <td>281</td>\n",
       "      <td>21906 days 04:45:22</td>\n",
       "      <td>F</td>\n",
       "      <td>NaN</td>\n",
       "      <td>83.650002</td>\n",
       "      <td>NaN</td>\n",
       "      <td>BLACK/AFRICAN AMERICAN</td>\n",
       "      <td>Government</td>\n",
       "      <td>...</td>\n",
       "      <td>2.0</td>\n",
       "      <td>0.0</td>\n",
       "      <td>0.0</td>\n",
       "      <td>NaN</td>\n",
       "      <td>0.0</td>\n",
       "      <td>0.0</td>\n",
       "      <td>0.0</td>\n",
       "      <td>NaN</td>\n",
       "      <td>0.0</td>\n",
       "      <td>NaN</td>\n",
       "    </tr>\n",
       "  </tbody>\n",
       "</table>\n",
       "<p>5 rows × 110 columns</p>\n",
       "</div>"
      ],
      "text/plain": [
       "   icustay_id  hadm_id  subject_id                 age gender  height  \\\n",
       "0      287547   189332         109  9146 days 19:49:27      F   152.4   \n",
       "1      254245   192123         111 24368 days 06:56:33      F     NaN   \n",
       "2      224803   130684         225 11035 days 00:58:13      M     NaN   \n",
       "3      215044   116935         249 27285 days 20:06:02      F     NaN   \n",
       "4      257572   111199         281 21906 days 04:45:22      F     NaN   \n",
       "\n",
       "      weight       bmi               ethnicity   insurance     ...      \\\n",
       "0  19.368394  8.339186  BLACK/AFRICAN AMERICAN    Medicaid     ...       \n",
       "1  57.560001       NaN                   WHITE    Medicare     ...       \n",
       "2  69.800003       NaN                   WHITE    Medicaid     ...       \n",
       "3  72.000000       NaN                   WHITE    Medicare     ...       \n",
       "4  83.650002       NaN  BLACK/AFRICAN AMERICAN  Government     ...       \n",
       "\n",
       "   ea_tv_pulm_htn  ea_tv_tr  ea_lv_cavity  ea_lv_diastolic  ea_lv_systolic  \\\n",
       "0             2.0       0.0           0.0              NaN             0.0   \n",
       "1             NaN       NaN           NaN              NaN             1.0   \n",
       "2             NaN       NaN           0.0              NaN             0.0   \n",
       "3             1.0       1.0           0.0              NaN             1.0   \n",
       "4             2.0       0.0           0.0              NaN             0.0   \n",
       "\n",
       "   ea_lv_wall  ea_rv_cavity  ea_rv_diastolic_fluid  ea_rv_systolic  ea_rv_wall  \n",
       "0         3.0           0.0                    NaN             0.0         1.0  \n",
       "1         NaN           0.0                    NaN             0.0         NaN  \n",
       "2         0.0           NaN                    NaN             NaN         NaN  \n",
       "3         NaN           NaN                    NaN             NaN         NaN  \n",
       "4         0.0           0.0                    NaN             0.0         NaN  \n",
       "\n",
       "[5 rows x 110 columns]"
      ]
     },
     "execution_count": 30,
     "metadata": {},
     "output_type": "execute_result"
    }
   ],
   "source": [
    "query = \\\n",
    "\"\"\"\n",
    "select * from icu_features;\n",
    "\"\"\"\n",
    "res = pd.read_sql_query(query, con)\n",
    "res.head()"
   ]
  },
  {
   "cell_type": "markdown",
   "metadata": {},
   "source": [
    "Check that icustay_id is unique."
   ]
  },
  {
   "cell_type": "code",
   "execution_count": 17,
   "metadata": {
    "collapsed": false
   },
   "outputs": [
    {
     "data": {
      "text/plain": [
       "True"
      ]
     },
     "execution_count": 17,
     "metadata": {},
     "output_type": "execute_result"
    }
   ],
   "source": [
    "len(res['icustay_id'].unique()) == res.shape[0]"
   ]
  },
  {
   "cell_type": "markdown",
   "metadata": {},
   "source": [
    "Total number of icustay_ids"
   ]
  },
  {
   "cell_type": "code",
   "execution_count": 26,
   "metadata": {
    "collapsed": false
   },
   "outputs": [
    {
     "data": {
      "text/plain": [
       "61532"
      ]
     },
     "execution_count": 26,
     "metadata": {},
     "output_type": "execute_result"
    }
   ],
   "source": [
    "res.shape[0]"
   ]
  },
  {
   "cell_type": "markdown",
   "metadata": {},
   "source": [
    "+ had sepsis"
   ]
  },
  {
   "cell_type": "code",
   "execution_count": 22,
   "metadata": {
    "collapsed": false
   },
   "outputs": [
    {
     "data": {
      "text/plain": [
       "0    44112\n",
       "1    17420\n",
       "Name: filter_angus_sepsis, dtype: int64"
      ]
     },
     "execution_count": 22,
     "metadata": {},
     "output_type": "execute_result"
    }
   ],
   "source": [
    "res['filter_angus_sepsis'].value_counts()"
   ]
  },
  {
   "cell_type": "markdown",
   "metadata": {},
   "source": [
    "+ on vasopressors"
   ]
  },
  {
   "cell_type": "code",
   "execution_count": 20,
   "metadata": {
    "collapsed": false
   },
   "outputs": [
    {
     "data": {
      "text/plain": [
       "False    47716\n",
       "True     13816\n",
       "Name: filter_vaso, dtype: int64"
      ]
     },
     "execution_count": 20,
     "metadata": {},
     "output_type": "execute_result"
    }
   ],
   "source": [
    "res['filter_vaso'].value_counts()"
   ]
  },
  {
   "cell_type": "markdown",
   "metadata": {},
   "source": [
    "+ first care unit or last care unit was micu"
   ]
  },
  {
   "cell_type": "code",
   "execution_count": 31,
   "metadata": {
    "collapsed": false
   },
   "outputs": [
    {
     "data": {
      "text/plain": [
       "False    39214\n",
       "True     22318\n",
       "Name: filter_micu, dtype: int64"
      ]
     },
     "execution_count": 31,
     "metadata": {},
     "output_type": "execute_result"
    }
   ],
   "source": [
    "res['filter_micu'].value_counts()"
   ]
  },
  {
   "cell_type": "markdown",
   "metadata": {},
   "source": [
    "+ had sepsis\n",
    "+ (and/or) was on vasopressors"
   ]
  },
  {
   "cell_type": "code",
   "execution_count": 27,
   "metadata": {
    "collapsed": false
   },
   "outputs": [
    {
     "data": {
      "text/plain": [
       "6182"
      ]
     },
     "execution_count": 27,
     "metadata": {},
     "output_type": "execute_result"
    }
   ],
   "source": [
    "res.loc[res['filter_vaso'] & res['filter_angus_sepsis']].shape[0]"
   ]
  },
  {
   "cell_type": "code",
   "execution_count": 28,
   "metadata": {
    "collapsed": false
   },
   "outputs": [
    {
     "data": {
      "text/plain": [
       "25054"
      ]
     },
     "execution_count": 28,
     "metadata": {},
     "output_type": "execute_result"
    }
   ],
   "source": [
    "res.loc[res['filter_vaso'] | res['filter_angus_sepsis']].shape[0]"
   ]
  },
  {
   "cell_type": "markdown",
   "metadata": {},
   "source": [
    "+ had sepsis or was on vasopressors\n",
    "+ first or last icu = micu"
   ]
  },
  {
   "cell_type": "code",
   "execution_count": 32,
   "metadata": {
    "collapsed": false
   },
   "outputs": [
    {
     "data": {
      "text/plain": [
       "11011"
      ]
     },
     "execution_count": 32,
     "metadata": {},
     "output_type": "execute_result"
    }
   ],
   "source": [
    "res.loc[(res['filter_vaso'] | res['filter_angus_sepsis']) & res['filter_micu']].shape[0]"
   ]
  },
  {
   "cell_type": "markdown",
   "metadata": {},
   "source": [
    "+ had sepsis or was on vasopressors\n",
    "+ first or last icu = micu\n",
    "+ no cardiogenic shock"
   ]
  },
  {
   "cell_type": "code",
   "execution_count": 47,
   "metadata": {
    "collapsed": false
   },
   "outputs": [
    {
     "data": {
      "text/plain": [
       "10698"
      ]
     },
     "execution_count": 47,
     "metadata": {},
     "output_type": "execute_result"
    }
   ],
   "source": [
    "res.loc[(res['filter_vaso'] | res['filter_angus_sepsis']) \n",
    "        & res['filter_micu']\n",
    "        & ~res['filter_hard_cardiogenic']\n",
    "].shape[0]"
   ]
  },
  {
   "cell_type": "markdown",
   "metadata": {},
   "source": [
    "+ had sepsis or was on vasopressors\n",
    "+ first or last icu = micu\n",
    "+ no cardiogenic shock\n",
    "+ not on chronic dialysis\n",
    "+ was adult"
   ]
  },
  {
   "cell_type": "code",
   "execution_count": 39,
   "metadata": {
    "collapsed": false
   },
   "outputs": [
    {
     "data": {
      "text/plain": [
       "9681"
      ]
     },
     "execution_count": 39,
     "metadata": {},
     "output_type": "execute_result"
    }
   ],
   "source": [
    "res_ = res.loc[(res['filter_vaso'] | res['filter_angus_sepsis']) \n",
    "        & res['filter_micu']\n",
    "        & ~res['filter_hard_cardiogenic']\n",
    "        & ~res['filter_chronic_dialysis']\n",
    "        & res['filter_adult']\n",
    "]\n",
    "res_.shape[0]"
   ]
  },
  {
   "cell_type": "code",
   "execution_count": 41,
   "metadata": {
    "collapsed": false
   },
   "outputs": [
    {
     "data": {
      "text/plain": [
       "False    5711\n",
       "True     3970\n",
       "Name: filter_echo, dtype: int64"
      ]
     },
     "execution_count": 41,
     "metadata": {},
     "output_type": "execute_result"
    }
   ],
   "source": [
    "res_['filter_echo'].value_counts()"
   ]
  },
  {
   "cell_type": "markdown",
   "metadata": {},
   "source": [
    "Count outcomes based on whether or not the patient had an echo"
   ]
  },
  {
   "cell_type": "code",
   "execution_count": 50,
   "metadata": {
    "collapsed": false
   },
   "outputs": [
    {
     "data": {
      "text/plain": [
       "mortality_disch  filter_echo\n",
       "False            False          37884\n",
       "                 True           17047\n",
       "True             False           3896\n",
       "                 True            2705\n",
       "Name: icustay_id, dtype: int64"
      ]
     },
     "execution_count": 50,
     "metadata": {},
     "output_type": "execute_result"
    }
   ],
   "source": [
    "res['mortality_disch'] = res['dod'] < res['dischtime']\n",
    "res.groupby(['mortality_disch', 'filter_echo'])['icustay_id'].count()"
   ]
  },
  {
   "cell_type": "code",
   "execution_count": 52,
   "metadata": {
    "collapsed": false
   },
   "outputs": [
    {
     "data": {
      "text/plain": [
       "0.40978639600060596"
      ]
     },
     "execution_count": 52,
     "metadata": {},
     "output_type": "execute_result"
    }
   ],
   "source": [
    "2705/(2705 + 3896.)"
   ]
  },
  {
   "cell_type": "code",
   "execution_count": 53,
   "metadata": {
    "collapsed": false
   },
   "outputs": [
    {
     "data": {
      "text/plain": [
       "0.3103347836376545"
      ]
     },
     "execution_count": 53,
     "metadata": {},
     "output_type": "execute_result"
    }
   ],
   "source": [
    "17047/(37884 + 17047.)"
   ]
  },
  {
   "cell_type": "code",
   "execution_count": null,
   "metadata": {
    "collapsed": true
   },
   "outputs": [],
   "source": []
  }
 ],
 "metadata": {
  "anaconda-cloud": {},
  "kernelspec": {
   "display_name": "Python [conda env:patches]",
   "language": "python",
   "name": "conda-env-patches-py"
  },
  "language_info": {
   "codemirror_mode": {
    "name": "ipython",
    "version": 3
   },
   "file_extension": ".py",
   "mimetype": "text/x-python",
   "name": "python",
   "nbconvert_exporter": "python",
   "pygments_lexer": "ipython3",
   "version": "3.5.2"
  }
 },
 "nbformat": 4,
 "nbformat_minor": 1
}
