{
 "cells": [
  {
   "cell_type": "code",
   "execution_count": 1,
   "metadata": {
    "collapsed": true
   },
   "outputs": [],
   "source": [
    "from __future__ import print_function\n",
    "import numpy as np\n",
    "import pandas as pd\n",
    "import pystan\n",
    "\n",
    "import psycopg2\n",
    "\n",
    "import matplotlib.pyplot as plt\n",
    "import seaborn as sns\n",
    "sns.set_context('notebook', font_scale=1.2)\n",
    "\n",
    "import matplotlib.style\n",
    "matplotlib.style.use('ggplot')\n",
    "%matplotlib inline\n",
    "\n",
    "from IPython.display import display"
   ]
  },
  {
   "cell_type": "code",
   "execution_count": 2,
   "metadata": {
    "collapsed": true
   },
   "outputs": [],
   "source": [
    "# create a database connection\n",
    "sqluser = 'mimic'\n",
    "dbname = 'mimic'\n",
    "schema_name = 'mimiciii'\n",
    "\n",
    "cur = None"
   ]
  },
  {
   "cell_type": "code",
   "execution_count": 3,
   "metadata": {
    "collapsed": true
   },
   "outputs": [],
   "source": [
    "if cur: \n",
    "    cur.close()\n",
    "    con.close()\n",
    "\n",
    "con = psycopg2.connect(dbname = dbname, user = sqluser, host='/var/run/postgresql')\n",
    "cur = con.cursor()\n",
    "cur.execute('SET search_path to ' + schema_name)"
   ]
  },
  {
   "cell_type": "code",
   "execution_count": 4,
   "metadata": {
    "collapsed": false
   },
   "outputs": [
    {
     "data": {
      "text/html": [
       "<div>\n",
       "<table border=\"1\" class=\"dataframe\">\n",
       "  <thead>\n",
       "    <tr style=\"text-align: right;\">\n",
       "      <th></th>\n",
       "      <th>icustay_id</th>\n",
       "      <th>hadm_id</th>\n",
       "      <th>subject_id</th>\n",
       "      <th>age</th>\n",
       "      <th>gender</th>\n",
       "      <th>height</th>\n",
       "      <th>weight</th>\n",
       "      <th>bmi</th>\n",
       "      <th>ethnicity</th>\n",
       "      <th>insurance</th>\n",
       "      <th>...</th>\n",
       "      <th>ea_tv_pulm_htn</th>\n",
       "      <th>ea_tv_tr</th>\n",
       "      <th>ea_lv_cavity</th>\n",
       "      <th>ea_lv_diastolic</th>\n",
       "      <th>ea_lv_systolic</th>\n",
       "      <th>ea_lv_wall</th>\n",
       "      <th>ea_rv_cavity</th>\n",
       "      <th>ea_rv_diastolic_fluid</th>\n",
       "      <th>ea_rv_systolic</th>\n",
       "      <th>ea_rv_wall</th>\n",
       "    </tr>\n",
       "  </thead>\n",
       "  <tbody>\n",
       "    <tr>\n",
       "      <th>0</th>\n",
       "      <td>238355</td>\n",
       "      <td>134607</td>\n",
       "      <td>82139</td>\n",
       "      <td>28678 days 18:29:29</td>\n",
       "      <td>M</td>\n",
       "      <td>180.34</td>\n",
       "      <td>38.555351</td>\n",
       "      <td>11.854972</td>\n",
       "      <td>UNKNOWN/NOT SPECIFIED</td>\n",
       "      <td>Medicare</td>\n",
       "      <td>...</td>\n",
       "      <td>NaN</td>\n",
       "      <td>NaN</td>\n",
       "      <td>NaN</td>\n",
       "      <td>NaN</td>\n",
       "      <td>NaN</td>\n",
       "      <td>NaN</td>\n",
       "      <td>NaN</td>\n",
       "      <td>NaN</td>\n",
       "      <td>NaN</td>\n",
       "      <td>NaN</td>\n",
       "    </tr>\n",
       "    <tr>\n",
       "      <th>1</th>\n",
       "      <td>274568</td>\n",
       "      <td>151968</td>\n",
       "      <td>65810</td>\n",
       "      <td>16135 days 23:13:48</td>\n",
       "      <td>M</td>\n",
       "      <td>187.96</td>\n",
       "      <td>44.588130</td>\n",
       "      <td>12.620844</td>\n",
       "      <td>WHITE</td>\n",
       "      <td>Medicaid</td>\n",
       "      <td>...</td>\n",
       "      <td>0.0</td>\n",
       "      <td>0.0</td>\n",
       "      <td>0.0</td>\n",
       "      <td>NaN</td>\n",
       "      <td>0.0</td>\n",
       "      <td>0.0</td>\n",
       "      <td>0.0</td>\n",
       "      <td>NaN</td>\n",
       "      <td>0.0</td>\n",
       "      <td>NaN</td>\n",
       "    </tr>\n",
       "    <tr>\n",
       "      <th>2</th>\n",
       "      <td>246663</td>\n",
       "      <td>128345</td>\n",
       "      <td>28902</td>\n",
       "      <td>23528 days 12:26:14</td>\n",
       "      <td>M</td>\n",
       "      <td>182.88</td>\n",
       "      <td>80.699997</td>\n",
       "      <td>24.129098</td>\n",
       "      <td>WHITE</td>\n",
       "      <td>Private</td>\n",
       "      <td>...</td>\n",
       "      <td>2.0</td>\n",
       "      <td>1.0</td>\n",
       "      <td>2.0</td>\n",
       "      <td>1.0</td>\n",
       "      <td>3.0</td>\n",
       "      <td>1.0</td>\n",
       "      <td>0.0</td>\n",
       "      <td>NaN</td>\n",
       "      <td>0.0</td>\n",
       "      <td>NaN</td>\n",
       "    </tr>\n",
       "    <tr>\n",
       "      <th>3</th>\n",
       "      <td>270608</td>\n",
       "      <td>118555</td>\n",
       "      <td>4734</td>\n",
       "      <td>22639 days 20:28:13</td>\n",
       "      <td>F</td>\n",
       "      <td>NaN</td>\n",
       "      <td>74.000000</td>\n",
       "      <td>NaN</td>\n",
       "      <td>WHITE</td>\n",
       "      <td>Private</td>\n",
       "      <td>...</td>\n",
       "      <td>NaN</td>\n",
       "      <td>NaN</td>\n",
       "      <td>NaN</td>\n",
       "      <td>NaN</td>\n",
       "      <td>NaN</td>\n",
       "      <td>NaN</td>\n",
       "      <td>NaN</td>\n",
       "      <td>NaN</td>\n",
       "      <td>NaN</td>\n",
       "      <td>NaN</td>\n",
       "    </tr>\n",
       "    <tr>\n",
       "      <th>4</th>\n",
       "      <td>260990</td>\n",
       "      <td>111727</td>\n",
       "      <td>27334</td>\n",
       "      <td>30774 days 01:32:22</td>\n",
       "      <td>M</td>\n",
       "      <td>167.64</td>\n",
       "      <td>61.800000</td>\n",
       "      <td>21.990402</td>\n",
       "      <td>WHITE</td>\n",
       "      <td>Private</td>\n",
       "      <td>...</td>\n",
       "      <td>NaN</td>\n",
       "      <td>0.0</td>\n",
       "      <td>0.0</td>\n",
       "      <td>1.0</td>\n",
       "      <td>0.0</td>\n",
       "      <td>3.0</td>\n",
       "      <td>0.0</td>\n",
       "      <td>NaN</td>\n",
       "      <td>0.0</td>\n",
       "      <td>NaN</td>\n",
       "    </tr>\n",
       "  </tbody>\n",
       "</table>\n",
       "<p>5 rows × 110 columns</p>\n",
       "</div>"
      ],
      "text/plain": [
       "   icustay_id  hadm_id  subject_id                 age gender  height  \\\n",
       "0      238355   134607       82139 28678 days 18:29:29      M  180.34   \n",
       "1      274568   151968       65810 16135 days 23:13:48      M  187.96   \n",
       "2      246663   128345       28902 23528 days 12:26:14      M  182.88   \n",
       "3      270608   118555        4734 22639 days 20:28:13      F     NaN   \n",
       "4      260990   111727       27334 30774 days 01:32:22      M  167.64   \n",
       "\n",
       "      weight        bmi              ethnicity insurance     ...      \\\n",
       "0  38.555351  11.854972  UNKNOWN/NOT SPECIFIED  Medicare     ...       \n",
       "1  44.588130  12.620844                  WHITE  Medicaid     ...       \n",
       "2  80.699997  24.129098                  WHITE   Private     ...       \n",
       "3  74.000000        NaN                  WHITE   Private     ...       \n",
       "4  61.800000  21.990402                  WHITE   Private     ...       \n",
       "\n",
       "   ea_tv_pulm_htn  ea_tv_tr  ea_lv_cavity  ea_lv_diastolic  ea_lv_systolic  \\\n",
       "0             NaN       NaN           NaN              NaN             NaN   \n",
       "1             0.0       0.0           0.0              NaN             0.0   \n",
       "2             2.0       1.0           2.0              1.0             3.0   \n",
       "3             NaN       NaN           NaN              NaN             NaN   \n",
       "4             NaN       0.0           0.0              1.0             0.0   \n",
       "\n",
       "   ea_lv_wall  ea_rv_cavity  ea_rv_diastolic_fluid  ea_rv_systolic  ea_rv_wall  \n",
       "0         NaN           NaN                    NaN             NaN         NaN  \n",
       "1         0.0           0.0                    NaN             0.0         NaN  \n",
       "2         1.0           0.0                    NaN             0.0         NaN  \n",
       "3         NaN           NaN                    NaN             NaN         NaN  \n",
       "4         3.0           0.0                    NaN             0.0         NaN  \n",
       "\n",
       "[5 rows x 110 columns]"
      ]
     },
     "execution_count": 4,
     "metadata": {},
     "output_type": "execute_result"
    }
   ],
   "source": [
    "query = \"\"\"\n",
    "SELECT * FROM icu_features\n",
    "\"\"\"\n",
    "ef = pd.read_sql_query(query, con)\n",
    "ef.head()"
   ]
  },
  {
   "cell_type": "code",
   "execution_count": 5,
   "metadata": {
    "collapsed": false
   },
   "outputs": [
    {
     "data": {
      "text/plain": [
       "61532"
      ]
     },
     "execution_count": 5,
     "metadata": {},
     "output_type": "execute_result"
    }
   ],
   "source": [
    "len(ef)"
   ]
  },
  {
   "cell_type": "code",
   "execution_count": 6,
   "metadata": {
    "collapsed": true
   },
   "outputs": [],
   "source": [
    "ef.ea_lv_systolic.fillna(-2, inplace=True)"
   ]
  },
  {
   "cell_type": "code",
   "execution_count": 7,
   "metadata": {
    "collapsed": true
   },
   "outputs": [],
   "source": [
    "## apply filters\n",
    "F = (ef['filter_vaso'] | ef['filter_angus_sepsis']) \\\n",
    "        & ef['filter_micu'] \\\n",
    "        & ~ef['filter_hard_cardiogenic'] \\\n",
    "        & ~ef['filter_chronic_dialysis'] \\\n",
    "        & ef['filter_adult']"
   ]
  },
  {
   "cell_type": "code",
   "execution_count": 8,
   "metadata": {
    "collapsed": false
   },
   "outputs": [
    {
     "data": {
      "text/plain": [
       "9681"
      ]
     },
     "execution_count": 8,
     "metadata": {},
     "output_type": "execute_result"
    }
   ],
   "source": [
    "ef = ef.loc[F]\n",
    "len(ef)"
   ]
  },
  {
   "cell_type": "code",
   "execution_count": 9,
   "metadata": {
    "collapsed": true
   },
   "outputs": [],
   "source": [
    "day30_mortality = (ef.dod - ef.intime) < np.timedelta64(30, 'D')"
   ]
  },
  {
   "cell_type": "code",
   "execution_count": 10,
   "metadata": {
    "collapsed": false
   },
   "outputs": [
    {
     "data": {
      "text/plain": [
       "False    6911\n",
       "True     2770\n",
       "dtype: int64"
      ]
     },
     "execution_count": 10,
     "metadata": {},
     "output_type": "execute_result"
    }
   ],
   "source": [
    "day30_mortality.value_counts()"
   ]
  },
  {
   "cell_type": "code",
   "execution_count": 11,
   "metadata": {
    "collapsed": true
   },
   "outputs": [],
   "source": [
    "ef['day30_mortality'] = day30_mortality"
   ]
  },
  {
   "cell_type": "code",
   "execution_count": 16,
   "metadata": {
    "collapsed": true
   },
   "outputs": [],
   "source": [
    "def mdrd(data):\n",
    "    creat = data.lab_creatinine\n",
    "    age = data.age/np.timedelta64('1', 'Y')\n",
    "    age.loc[age<0] = age.max()\n",
    "    gender = data.gender.apply(lambda x: 0.742 if x == 'F' else 1)\n",
    "    ethnicity = data.ethnicity.apply(lambda x: 1.212 if 'AFRICAN AMERICAN' in x else 1)\n",
    "    return 175*creat**(-1.154) * age**(-0.203) * gender * ethnicity"
   ]
  },
  {
   "cell_type": "code",
   "execution_count": 17,
   "metadata": {
    "collapsed": false
   },
   "outputs": [
    {
     "data": {
      "text/plain": [
       "0    2351\n",
       "1    2038\n",
       "2    1588\n",
       "4    1534\n",
       "3    1515\n",
       "5     581\n",
       "dtype: int64"
      ]
     },
     "execution_count": 17,
     "metadata": {},
     "output_type": "execute_result"
    }
   ],
   "source": [
    "value = mdrd(ef)\n",
    "ef['mdrd'] = value\n",
    "discrete = pd.cut(value, [0, 15, 30, 44, 60, 90, 1000000], labels=[5, 4, 3, 2, 1, 0], include_lowest=True)\n",
    "ef['mdrd_discrete'] = discrete\n",
    "discrete.value_counts()"
   ]
  },
  {
   "cell_type": "code",
   "execution_count": 18,
   "metadata": {
    "collapsed": false
   },
   "outputs": [
    {
     "data": {
      "text/plain": [
       "0    4389\n",
       "1    3103\n",
       "2    2115\n",
       "dtype: int64"
      ]
     },
     "execution_count": 18,
     "metadata": {},
     "output_type": "execute_result"
    }
   ],
   "source": [
    "discrete = pd.cut(value, [0, 30, 60, 1000000], labels=[2, 1, 0], include_lowest=True)\n",
    "ef['mdrd_3'] = discrete\n",
    "discrete.value_counts()"
   ]
  },
  {
   "cell_type": "code",
   "execution_count": 37,
   "metadata": {
    "collapsed": false
   },
   "outputs": [
    {
     "name": "stdout",
     "output_type": "stream",
     "text": [
      "6880\n"
     ]
    },
    {
     "data": {
      "text/html": [
       "<div>\n",
       "<table border=\"1\" class=\"dataframe\">\n",
       "  <thead>\n",
       "    <tr style=\"text-align: right;\">\n",
       "      <th></th>\n",
       "      <th>ea_lv_systolic</th>\n",
       "      <th>ex_congestive_heart_failure</th>\n",
       "      <th>mdrd</th>\n",
       "      <th>mdrd_discrete</th>\n",
       "      <th>mdrd_3</th>\n",
       "      <th>apsiii</th>\n",
       "      <th>fb_day1_balance_ml</th>\n",
       "      <th>day30_mortality</th>\n",
       "      <th>age</th>\n",
       "    </tr>\n",
       "  </thead>\n",
       "  <tbody>\n",
       "    <tr>\n",
       "      <th>14</th>\n",
       "      <td>1</td>\n",
       "      <td>1</td>\n",
       "      <td>-0.157392</td>\n",
       "      <td>2</td>\n",
       "      <td>1</td>\n",
       "      <td>-0.163425</td>\n",
       "      <td>-0.099108</td>\n",
       "      <td>0</td>\n",
       "      <td>0.729909</td>\n",
       "    </tr>\n",
       "    <tr>\n",
       "      <th>22</th>\n",
       "      <td>2</td>\n",
       "      <td>0</td>\n",
       "      <td>-0.620357</td>\n",
       "      <td>4</td>\n",
       "      <td>2</td>\n",
       "      <td>0.778665</td>\n",
       "      <td>2.778313</td>\n",
       "      <td>1</td>\n",
       "      <td>1.305196</td>\n",
       "    </tr>\n",
       "    <tr>\n",
       "      <th>25</th>\n",
       "      <td>1</td>\n",
       "      <td>0</td>\n",
       "      <td>0.382788</td>\n",
       "      <td>1</td>\n",
       "      <td>1</td>\n",
       "      <td>-1.195237</td>\n",
       "      <td>-1.354572</td>\n",
       "      <td>0</td>\n",
       "      <td>-1.345441</td>\n",
       "    </tr>\n",
       "    <tr>\n",
       "      <th>29</th>\n",
       "      <td>1</td>\n",
       "      <td>0</td>\n",
       "      <td>0.881338</td>\n",
       "      <td>1</td>\n",
       "      <td>1</td>\n",
       "      <td>0.778665</td>\n",
       "      <td>-0.354457</td>\n",
       "      <td>1</td>\n",
       "      <td>0.668275</td>\n",
       "    </tr>\n",
       "    <tr>\n",
       "      <th>31</th>\n",
       "      <td>3</td>\n",
       "      <td>1</td>\n",
       "      <td>-0.341061</td>\n",
       "      <td>3</td>\n",
       "      <td>2</td>\n",
       "      <td>0.105744</td>\n",
       "      <td>-0.351818</td>\n",
       "      <td>0</td>\n",
       "      <td>-0.750011</td>\n",
       "    </tr>\n",
       "  </tbody>\n",
       "</table>\n",
       "</div>"
      ],
      "text/plain": [
       "    ea_lv_systolic  ex_congestive_heart_failure      mdrd  mdrd_discrete  \\\n",
       "14               1                            1 -0.157392              2   \n",
       "22               2                            0 -0.620357              4   \n",
       "25               1                            0  0.382788              1   \n",
       "29               1                            0  0.881338              1   \n",
       "31               3                            1 -0.341061              3   \n",
       "\n",
       "    mdrd_3    apsiii  fb_day1_balance_ml  day30_mortality       age  \n",
       "14       1 -0.163425           -0.099108                0  0.729909  \n",
       "22       2  0.778665            2.778313                1  1.305196  \n",
       "25       1 -1.195237           -1.354572                0 -1.345441  \n",
       "29       1  0.778665           -0.354457                1  0.668275  \n",
       "31       2  0.105744           -0.351818                0 -0.750011  "
      ]
     },
     "execution_count": 37,
     "metadata": {},
     "output_type": "execute_result"
    }
   ],
   "source": [
    "model_data = ef[['ea_lv_systolic', 'ex_congestive_heart_failure'\n",
    "                #, 'mech_vent'\n",
    "                , 'mdrd', 'mdrd_discrete', 'mdrd_3', 'apsiii'\n",
    "                , 'fb_day1_balance_ml', 'day30_mortality']].copy()\n",
    "age = ef.age/np.timedelta64('1', 'Y')\n",
    "age.loc[age<0] = age.max()\n",
    "model_data['age'] = age\n",
    "model_data.loc[model_data.ea_lv_systolic == -50] = np.nan\n",
    "model_data = model_data.dropna()\n",
    "## normalize the continuous variables\n",
    "for var in ['apsiii', 'age', 'fb_day1_balance_ml', 'mdrd']:\n",
    "    mu = model_data[var].mean()\n",
    "    std = model_data[var].std()\n",
    "    model_data[var] = (model_data[var]-mu)/std\n",
    "model_data['ea_lv_systolic'] = model_data.ea_lv_systolic.astype(int) + 3\n",
    "model_data['ex_congestive_heart_failure'] = model_data.ex_congestive_heart_failure.astype(int)\n",
    "#model_data['mech_vent'] = model_data.mech_vent.astype(int)\n",
    "model_data['day30_mortality'] = model_data.day30_mortality.astype(int)\n",
    "model_data['mdrd_discrete'] = model_data.mdrd_discrete.astype(int) + 1\n",
    "model_data['mdrd_3'] = model_data.mdrd_3.astype(int) + 1\n",
    "print(len(model_data))\n",
    "model_data.head()"
   ]
  },
  {
   "cell_type": "markdown",
   "metadata": {},
   "source": [
    "### Model using continuous MDRD"
   ]
  },
  {
   "cell_type": "code",
   "execution_count": 38,
   "metadata": {
    "collapsed": true
   },
   "outputs": [],
   "source": [
    "data = {'N': len(model_data)\n",
    "       , 'ea_lv_systolic': model_data.ea_lv_systolic\n",
    "       , 'ex_congestive_heart_failure': model_data.ex_congestive_heart_failure\n",
    "       #, 'mech_vent': model_data.mech_vent\n",
    "       , 'mdrd': model_data.mdrd\n",
    "       , 'apsiii': model_data.apsiii\n",
    "       , 'age': model_data.age\n",
    "       , 'fluid_day1_balance': model_data.fb_day1_balance_ml\n",
    "       , 'y': model_data.day30_mortality\n",
    "       }"
   ]
  },
  {
   "cell_type": "code",
   "execution_count": 42,
   "metadata": {
    "collapsed": false
   },
   "outputs": [
    {
     "name": "stdout",
     "output_type": "stream",
     "text": [
      "Overwriting 170207_model_linear_MICU_pressors_and_sepsis_TB.stan\n"
     ]
    }
   ],
   "source": [
    "%%writefile 170207_model_linear_MICU_pressors_and_sepsis_TB.stan\n",
    "\n",
    "data{\n",
    "    int<lower=0> N;\n",
    "    \n",
    "    int<lower=1, upper=6> ea_lv_systolic[N];\n",
    "    vector[N] ex_congestive_heart_failure;\n",
    "    //vector[N] mech_vent;\n",
    "    vector[N] mdrd;\n",
    "    vector[N] apsiii;\n",
    "    vector[N] age;\n",
    "    vector[N] fluid_day1_balance;\n",
    "    \n",
    "    int<lower=0, upper=1> y[N];\n",
    "}\n",
    "\n",
    "parameters{\n",
    "    real bias;\n",
    "    \n",
    "    vector[6] beta_ea_lv_systolic;\n",
    "    real beta_ex_congestive_heart_failure;\n",
    "    //real beta_mech_vent;\n",
    "    real beta_mdrd;\n",
    "    real beta_apsiii;\n",
    "    real beta_age;\n",
    "    real beta_fluid;\n",
    "    \n",
    "    vector[6] gamma_ea_lv_systolic;\n",
    "    real gamma_ex_congestive_heart_failure;\n",
    "    //real gamma_mech_vent;\n",
    "    real gamma_mdrd;\n",
    "    \n",
    "    vector[6] gamma_lv_sys_by_chf;\n",
    "    vector[6] gamma_lv_sys_by_mdrd;\n",
    "    \n",
    "}\n",
    "\n",
    "transformed parameters {\n",
    "    vector[N] y_hat;\n",
    "    vector[N] beta;\n",
    "    vector[N] gamma;\n",
    "    \n",
    "    beta = bias + beta_ea_lv_systolic[ea_lv_systolic]\n",
    "        + beta_ex_congestive_heart_failure*ex_congestive_heart_failure\n",
    "        //+ beta_mech_vent*mech_vent\n",
    "        + beta_mdrd*mdrd\n",
    "        + beta_apsiii*apsiii\n",
    "        + beta_age*age;\n",
    "    \n",
    "    gamma = beta_fluid + gamma_ea_lv_systolic[ea_lv_systolic]\n",
    "        + gamma_ex_congestive_heart_failure*ex_congestive_heart_failure\n",
    "        //+ gamma_mech_vent*mech_vent\n",
    "        + gamma_mdrd*mdrd\n",
    "        + gamma_lv_sys_by_chf[ea_lv_systolic] .* ex_congestive_heart_failure\n",
    "        + gamma_lv_sys_by_mdrd[ea_lv_systolic] .* mdrd;\n",
    "    \n",
    "    y_hat = beta + gamma .* fluid_day1_balance;\n",
    "}\n",
    "\n",
    "model {\n",
    "    beta_ea_lv_systolic ~ normal(0,1);\n",
    "    beta_ex_congestive_heart_failure ~ normal(0,1);\n",
    "    //beta_mech_vent ~ normal(0,1);\n",
    "    beta_mdrd ~ normal(0,1);\n",
    "    beta_apsiii ~ normal(0,1);\n",
    "    beta_age ~ normal(0,1);\n",
    "    \n",
    "    beta_fluid ~ normal(0,1);\n",
    "    gamma_ea_lv_systolic ~ normal(0,1);\n",
    "    gamma_ex_congestive_heart_failure ~ normal(0,1);\n",
    "    //gamma_mech_vent ~ normal(0,1);\n",
    "    gamma_mdrd ~ normal(0,1);\n",
    "    gamma_lv_sys_by_chf ~ normal(0,1);\n",
    "    gamma_lv_sys_by_mdrd ~ normal(0,1);\n",
    "    \n",
    "    y ~ bernoulli_logit(y_hat);\n",
    "}\n"
   ]
  },
  {
   "cell_type": "code",
   "execution_count": 39,
   "metadata": {
    "collapsed": true
   },
   "outputs": [],
   "source": [
    "def gamma(thetas, xs):\n",
    "    gamma = thetas['beta_fluid'] + thetas['gamma_ea_lv_systolic'][:,xs.ea_lv_systolic-1].T\n",
    "    gamma += np.outer(xs.ex_congestive_heart_failure, thetas['gamma_ex_congestive_heart_failure'])\n",
    "    #gamma += np.outer(xs.mech_vent, thetas['gamma_mech_vent'])\n",
    "    gamma += np.outer(xs.mdrd, thetas['gamma_mdrd'])\n",
    "    gamma += thetas['gamma_lv_sys_by_chf'][:,xs.ea_lv_systolic-1].T * xs.ex_congestive_heart_failure.values[...,np.newaxis]\n",
    "    gamma += thetas['gamma_lv_sys_by_mdrd'][:,xs.ea_lv_systolic-1].T * xs.mdrd.values[...,np.newaxis]\n",
    "    return gamma\n",
    "    "
   ]
  },
  {
   "cell_type": "code",
   "execution_count": 40,
   "metadata": {
    "collapsed": true
   },
   "outputs": [],
   "source": [
    "def predict_linear(thetas, xs):\n",
    "    beta = thetas['bias'] + thetas['beta_ea_lv_systolic'][:,xs.ea_lv_systolic-1].T\n",
    "    beta += np.outer(xs.ex_congestive_heart_failure, thetas['beta_ex_congestive_heart_failure'])\n",
    "    #beta += np.outer(xs.mech_vent, thetas['beta_mech_vent'])\n",
    "    beta += np.outer(xs.mdrd, thetas['beta_mdrd'])\n",
    "    beta += np.outer(xs.apsiii, thetas['beta_apsiii'])\n",
    "    beta += np.outer(xs.age, thetas['beta_age'])\n",
    "    \n",
    "    return beta + gamma(thetas, xs)*xs.fb_day1_balance_ml.values[...,np.newaxis]\n"
   ]
  },
  {
   "cell_type": "code",
   "execution_count": 43,
   "metadata": {
    "collapsed": false,
    "scrolled": false
   },
   "outputs": [
    {
     "name": "stderr",
     "output_type": "stream",
     "text": [
      "INFO:pystan:COMPILING THE C++ CODE FOR MODEL anon_model_cd12d70eb2408c04203fa8ddc2e6c6f1 NOW.\n"
     ]
    }
   ],
   "source": [
    "#compile the model\n",
    "model_linear = pystan.StanModel(file='170207_model_linear_MICU_pressors_and_sepsis_TB.stan')"
   ]
  },
  {
   "cell_type": "code",
   "execution_count": 44,
   "metadata": {
    "collapsed": false,
    "scrolled": false
   },
   "outputs": [],
   "source": [
    "#fit the model\n",
    "model_fit = model_linear.sampling(data, chains=1, iter=4000, algorithm='NUTS')"
   ]
  },
  {
   "cell_type": "code",
   "execution_count": 45,
   "metadata": {
    "collapsed": false,
    "scrolled": true
   },
   "outputs": [
    {
     "name": "stderr",
     "output_type": "stream",
     "text": [
      "Exception KeyboardInterrupt in 'pystan._chains.get_chain_mean' ignored\n",
      "Exception KeyboardInterrupt in 'pystan._chains.get_chain_mean' ignored\n",
      "Exception KeyboardInterrupt in 'pystan._chains.get_chain_mean' ignored\n"
     ]
    },
    {
     "ename": "KeyboardInterrupt",
     "evalue": "",
     "output_type": "error",
     "traceback": [
      "\u001b[0;31m---------------------------------------------------------------------------\u001b[0m",
      "\u001b[0;31mKeyboardInterrupt\u001b[0m                         Traceback (most recent call last)",
      "\u001b[0;32m<ipython-input-45-5afc369b7ade>\u001b[0m in \u001b[0;36m<module>\u001b[0;34m()\u001b[0m\n\u001b[0;32m----> 1\u001b[0;31m \u001b[0mmodel_fit\u001b[0m\u001b[0;34m\u001b[0m\u001b[0m\n\u001b[0m",
      "\u001b[0;32m/home/tbepler/miniconda2/envs/mimiciii/lib/python2.7/site-packages/IPython/core/displayhook.pyc\u001b[0m in \u001b[0;36m__call__\u001b[0;34m(self, result)\u001b[0m\n\u001b[1;32m    244\u001b[0m             \u001b[0mself\u001b[0m\u001b[0;34m.\u001b[0m\u001b[0mstart_displayhook\u001b[0m\u001b[0;34m(\u001b[0m\u001b[0;34m)\u001b[0m\u001b[0;34m\u001b[0m\u001b[0m\n\u001b[1;32m    245\u001b[0m             \u001b[0mself\u001b[0m\u001b[0;34m.\u001b[0m\u001b[0mwrite_output_prompt\u001b[0m\u001b[0;34m(\u001b[0m\u001b[0;34m)\u001b[0m\u001b[0;34m\u001b[0m\u001b[0m\n\u001b[0;32m--> 246\u001b[0;31m             \u001b[0mformat_dict\u001b[0m\u001b[0;34m,\u001b[0m \u001b[0mmd_dict\u001b[0m \u001b[0;34m=\u001b[0m \u001b[0mself\u001b[0m\u001b[0;34m.\u001b[0m\u001b[0mcompute_format_data\u001b[0m\u001b[0;34m(\u001b[0m\u001b[0mresult\u001b[0m\u001b[0;34m)\u001b[0m\u001b[0;34m\u001b[0m\u001b[0m\n\u001b[0m\u001b[1;32m    247\u001b[0m             \u001b[0mself\u001b[0m\u001b[0;34m.\u001b[0m\u001b[0mupdate_user_ns\u001b[0m\u001b[0;34m(\u001b[0m\u001b[0mresult\u001b[0m\u001b[0;34m)\u001b[0m\u001b[0;34m\u001b[0m\u001b[0m\n\u001b[1;32m    248\u001b[0m             \u001b[0mself\u001b[0m\u001b[0;34m.\u001b[0m\u001b[0mfill_exec_result\u001b[0m\u001b[0;34m(\u001b[0m\u001b[0mresult\u001b[0m\u001b[0;34m)\u001b[0m\u001b[0;34m\u001b[0m\u001b[0m\n",
      "\u001b[0;32m/home/tbepler/miniconda2/envs/mimiciii/lib/python2.7/site-packages/IPython/core/displayhook.pyc\u001b[0m in \u001b[0;36mcompute_format_data\u001b[0;34m(self, result)\u001b[0m\n\u001b[1;32m    148\u001b[0m \u001b[0;34m\u001b[0m\u001b[0m\n\u001b[1;32m    149\u001b[0m         \"\"\"\n\u001b[0;32m--> 150\u001b[0;31m         \u001b[0;32mreturn\u001b[0m \u001b[0mself\u001b[0m\u001b[0;34m.\u001b[0m\u001b[0mshell\u001b[0m\u001b[0;34m.\u001b[0m\u001b[0mdisplay_formatter\u001b[0m\u001b[0;34m.\u001b[0m\u001b[0mformat\u001b[0m\u001b[0;34m(\u001b[0m\u001b[0mresult\u001b[0m\u001b[0;34m)\u001b[0m\u001b[0;34m\u001b[0m\u001b[0m\n\u001b[0m\u001b[1;32m    151\u001b[0m \u001b[0;34m\u001b[0m\u001b[0m\n\u001b[1;32m    152\u001b[0m     \u001b[0;31m# This can be set to True by the write_output_prompt method in a subclass\u001b[0m\u001b[0;34m\u001b[0m\u001b[0;34m\u001b[0m\u001b[0m\n",
      "\u001b[0;32m/home/tbepler/miniconda2/envs/mimiciii/lib/python2.7/site-packages/IPython/core/formatters.pyc\u001b[0m in \u001b[0;36mformat\u001b[0;34m(self, obj, include, exclude)\u001b[0m\n\u001b[1;32m    143\u001b[0m             \u001b[0mmd\u001b[0m \u001b[0;34m=\u001b[0m \u001b[0mNone\u001b[0m\u001b[0;34m\u001b[0m\u001b[0m\n\u001b[1;32m    144\u001b[0m             \u001b[0;32mtry\u001b[0m\u001b[0;34m:\u001b[0m\u001b[0;34m\u001b[0m\u001b[0m\n\u001b[0;32m--> 145\u001b[0;31m                 \u001b[0mdata\u001b[0m \u001b[0;34m=\u001b[0m \u001b[0mformatter\u001b[0m\u001b[0;34m(\u001b[0m\u001b[0mobj\u001b[0m\u001b[0;34m)\u001b[0m\u001b[0;34m\u001b[0m\u001b[0m\n\u001b[0m\u001b[1;32m    146\u001b[0m             \u001b[0;32mexcept\u001b[0m\u001b[0;34m:\u001b[0m\u001b[0;34m\u001b[0m\u001b[0m\n\u001b[1;32m    147\u001b[0m                 \u001b[0;31m# FIXME: log the exception\u001b[0m\u001b[0;34m\u001b[0m\u001b[0;34m\u001b[0m\u001b[0m\n",
      "\u001b[0;32m<decorator-gen-10>\u001b[0m in \u001b[0;36m__call__\u001b[0;34m(self, obj)\u001b[0m\n",
      "\u001b[0;32m/home/tbepler/miniconda2/envs/mimiciii/lib/python2.7/site-packages/IPython/core/formatters.pyc\u001b[0m in \u001b[0;36mcatch_format_error\u001b[0;34m(method, self, *args, **kwargs)\u001b[0m\n\u001b[1;32m    188\u001b[0m     \u001b[0;34m\"\"\"show traceback on failed format call\"\"\"\u001b[0m\u001b[0;34m\u001b[0m\u001b[0m\n\u001b[1;32m    189\u001b[0m     \u001b[0;32mtry\u001b[0m\u001b[0;34m:\u001b[0m\u001b[0;34m\u001b[0m\u001b[0m\n\u001b[0;32m--> 190\u001b[0;31m         \u001b[0mr\u001b[0m \u001b[0;34m=\u001b[0m \u001b[0mmethod\u001b[0m\u001b[0;34m(\u001b[0m\u001b[0mself\u001b[0m\u001b[0;34m,\u001b[0m \u001b[0;34m*\u001b[0m\u001b[0margs\u001b[0m\u001b[0;34m,\u001b[0m \u001b[0;34m**\u001b[0m\u001b[0mkwargs\u001b[0m\u001b[0;34m)\u001b[0m\u001b[0;34m\u001b[0m\u001b[0m\n\u001b[0m\u001b[1;32m    191\u001b[0m     \u001b[0;32mexcept\u001b[0m \u001b[0mNotImplementedError\u001b[0m\u001b[0;34m:\u001b[0m\u001b[0;34m\u001b[0m\u001b[0m\n\u001b[1;32m    192\u001b[0m         \u001b[0;31m# don't warn on NotImplementedErrors\u001b[0m\u001b[0;34m\u001b[0m\u001b[0;34m\u001b[0m\u001b[0m\n",
      "\u001b[0;32m/home/tbepler/miniconda2/envs/mimiciii/lib/python2.7/site-packages/IPython/core/formatters.pyc\u001b[0m in \u001b[0;36m__call__\u001b[0;34m(self, obj)\u001b[0m\n\u001b[1;32m    670\u001b[0m                 \u001b[0mtype_pprinters\u001b[0m\u001b[0;34m=\u001b[0m\u001b[0mself\u001b[0m\u001b[0;34m.\u001b[0m\u001b[0mtype_printers\u001b[0m\u001b[0;34m,\u001b[0m\u001b[0;34m\u001b[0m\u001b[0m\n\u001b[1;32m    671\u001b[0m                 deferred_pprinters=self.deferred_printers)\n\u001b[0;32m--> 672\u001b[0;31m             \u001b[0mprinter\u001b[0m\u001b[0;34m.\u001b[0m\u001b[0mpretty\u001b[0m\u001b[0;34m(\u001b[0m\u001b[0mobj\u001b[0m\u001b[0;34m)\u001b[0m\u001b[0;34m\u001b[0m\u001b[0m\n\u001b[0m\u001b[1;32m    673\u001b[0m             \u001b[0mprinter\u001b[0m\u001b[0;34m.\u001b[0m\u001b[0mflush\u001b[0m\u001b[0;34m(\u001b[0m\u001b[0;34m)\u001b[0m\u001b[0;34m\u001b[0m\u001b[0m\n\u001b[1;32m    674\u001b[0m             \u001b[0;32mreturn\u001b[0m \u001b[0mstream\u001b[0m\u001b[0;34m.\u001b[0m\u001b[0mgetvalue\u001b[0m\u001b[0;34m(\u001b[0m\u001b[0;34m)\u001b[0m\u001b[0;34m\u001b[0m\u001b[0m\n",
      "\u001b[0;32m/home/tbepler/miniconda2/envs/mimiciii/lib/python2.7/site-packages/IPython/lib/pretty.pyc\u001b[0m in \u001b[0;36mpretty\u001b[0;34m(self, obj)\u001b[0m\n\u001b[1;32m    381\u001b[0m                             \u001b[0;32mif\u001b[0m \u001b[0mcallable\u001b[0m\u001b[0;34m(\u001b[0m\u001b[0mmeth\u001b[0m\u001b[0;34m)\u001b[0m\u001b[0;34m:\u001b[0m\u001b[0;34m\u001b[0m\u001b[0m\n\u001b[1;32m    382\u001b[0m                                 \u001b[0;32mreturn\u001b[0m \u001b[0mmeth\u001b[0m\u001b[0;34m(\u001b[0m\u001b[0mobj\u001b[0m\u001b[0;34m,\u001b[0m \u001b[0mself\u001b[0m\u001b[0;34m,\u001b[0m \u001b[0mcycle\u001b[0m\u001b[0;34m)\u001b[0m\u001b[0;34m\u001b[0m\u001b[0m\n\u001b[0;32m--> 383\u001b[0;31m             \u001b[0;32mreturn\u001b[0m \u001b[0m_default_pprint\u001b[0m\u001b[0;34m(\u001b[0m\u001b[0mobj\u001b[0m\u001b[0;34m,\u001b[0m \u001b[0mself\u001b[0m\u001b[0;34m,\u001b[0m \u001b[0mcycle\u001b[0m\u001b[0;34m)\u001b[0m\u001b[0;34m\u001b[0m\u001b[0m\n\u001b[0m\u001b[1;32m    384\u001b[0m         \u001b[0;32mfinally\u001b[0m\u001b[0;34m:\u001b[0m\u001b[0;34m\u001b[0m\u001b[0m\n\u001b[1;32m    385\u001b[0m             \u001b[0mself\u001b[0m\u001b[0;34m.\u001b[0m\u001b[0mend_group\u001b[0m\u001b[0;34m(\u001b[0m\u001b[0;34m)\u001b[0m\u001b[0;34m\u001b[0m\u001b[0m\n",
      "\u001b[0;32m/home/tbepler/miniconda2/envs/mimiciii/lib/python2.7/site-packages/IPython/lib/pretty.pyc\u001b[0m in \u001b[0;36m_default_pprint\u001b[0;34m(obj, p, cycle)\u001b[0m\n\u001b[1;32m    501\u001b[0m     \u001b[0;32mif\u001b[0m \u001b[0m_safe_getattr\u001b[0m\u001b[0;34m(\u001b[0m\u001b[0mklass\u001b[0m\u001b[0;34m,\u001b[0m \u001b[0;34m'__repr__'\u001b[0m\u001b[0;34m,\u001b[0m \u001b[0mNone\u001b[0m\u001b[0;34m)\u001b[0m \u001b[0;32mnot\u001b[0m \u001b[0;32min\u001b[0m \u001b[0m_baseclass_reprs\u001b[0m\u001b[0;34m:\u001b[0m\u001b[0;34m\u001b[0m\u001b[0m\n\u001b[1;32m    502\u001b[0m         \u001b[0;31m# A user-provided repr. Find newlines and replace them with p.break_()\u001b[0m\u001b[0;34m\u001b[0m\u001b[0;34m\u001b[0m\u001b[0m\n\u001b[0;32m--> 503\u001b[0;31m         \u001b[0m_repr_pprint\u001b[0m\u001b[0;34m(\u001b[0m\u001b[0mobj\u001b[0m\u001b[0;34m,\u001b[0m \u001b[0mp\u001b[0m\u001b[0;34m,\u001b[0m \u001b[0mcycle\u001b[0m\u001b[0;34m)\u001b[0m\u001b[0;34m\u001b[0m\u001b[0m\n\u001b[0m\u001b[1;32m    504\u001b[0m         \u001b[0;32mreturn\u001b[0m\u001b[0;34m\u001b[0m\u001b[0m\n\u001b[1;32m    505\u001b[0m     \u001b[0mp\u001b[0m\u001b[0;34m.\u001b[0m\u001b[0mbegin_group\u001b[0m\u001b[0;34m(\u001b[0m\u001b[0;36m1\u001b[0m\u001b[0;34m,\u001b[0m \u001b[0;34m'<'\u001b[0m\u001b[0;34m)\u001b[0m\u001b[0;34m\u001b[0m\u001b[0m\n",
      "\u001b[0;32m/home/tbepler/miniconda2/envs/mimiciii/lib/python2.7/site-packages/IPython/lib/pretty.pyc\u001b[0m in \u001b[0;36m_repr_pprint\u001b[0;34m(obj, p, cycle)\u001b[0m\n\u001b[1;32m    699\u001b[0m     \u001b[0;34m\"\"\"A pprint that just redirects to the normal repr function.\"\"\"\u001b[0m\u001b[0;34m\u001b[0m\u001b[0m\n\u001b[1;32m    700\u001b[0m     \u001b[0;31m# Find newlines and replace them with p.break_()\u001b[0m\u001b[0;34m\u001b[0m\u001b[0;34m\u001b[0m\u001b[0m\n\u001b[0;32m--> 701\u001b[0;31m     \u001b[0moutput\u001b[0m \u001b[0;34m=\u001b[0m \u001b[0mrepr\u001b[0m\u001b[0;34m(\u001b[0m\u001b[0mobj\u001b[0m\u001b[0;34m)\u001b[0m\u001b[0;34m\u001b[0m\u001b[0m\n\u001b[0m\u001b[1;32m    702\u001b[0m     \u001b[0;32mfor\u001b[0m \u001b[0midx\u001b[0m\u001b[0;34m,\u001b[0m\u001b[0moutput_line\u001b[0m \u001b[0;32min\u001b[0m \u001b[0menumerate\u001b[0m\u001b[0;34m(\u001b[0m\u001b[0moutput\u001b[0m\u001b[0;34m.\u001b[0m\u001b[0msplitlines\u001b[0m\u001b[0;34m(\u001b[0m\u001b[0;34m)\u001b[0m\u001b[0;34m)\u001b[0m\u001b[0;34m:\u001b[0m\u001b[0;34m\u001b[0m\u001b[0m\n\u001b[1;32m    703\u001b[0m         \u001b[0;32mif\u001b[0m \u001b[0midx\u001b[0m\u001b[0;34m:\u001b[0m\u001b[0;34m\u001b[0m\u001b[0m\n",
      "\u001b[0;32mstanfit4anon_model_cd12d70eb2408c04203fa8ddc2e6c6f1_3694951178503158295.pyx\u001b[0m in \u001b[0;36mstanfit4anon_model_cd12d70eb2408c04203fa8ddc2e6c6f1_3694951178503158295.StanFit4Model.__repr__ (/tmp/tmpulgNY7/stanfit4anon_model_cd12d70eb2408c04203fa8ddc2e6c6f1_3694951178503158295.cpp:12427)\u001b[0;34m()\u001b[0m\n",
      "\u001b[0;32mstanfit4anon_model_cd12d70eb2408c04203fa8ddc2e6c6f1_3694951178503158295.pyx\u001b[0m in \u001b[0;36mstanfit4anon_model_cd12d70eb2408c04203fa8ddc2e6c6f1_3694951178503158295.StanFit4Model.__str__ (/tmp/tmpulgNY7/stanfit4anon_model_cd12d70eb2408c04203fa8ddc2e6c6f1_3694951178503158295.cpp:12288)\u001b[0;34m()\u001b[0m\n",
      "\u001b[0;32m/home/tbepler/miniconda2/envs/mimiciii/lib/python2.7/site-packages/pystan/misc.pyc\u001b[0m in \u001b[0;36m_print_stanfit\u001b[0;34m(fit, pars, probs, digits_summary)\u001b[0m\n\u001b[1;32m     79\u001b[0m         \u001b[0mdate\u001b[0m \u001b[0;34m=\u001b[0m \u001b[0mfit\u001b[0m\u001b[0;34m.\u001b[0m\u001b[0mdate\u001b[0m\u001b[0;34m.\u001b[0m\u001b[0mstrftime\u001b[0m\u001b[0;34m(\u001b[0m\u001b[0;34m'%c'\u001b[0m\u001b[0;34m)\u001b[0m  \u001b[0;31m# %c is locale's representation\u001b[0m\u001b[0;34m\u001b[0m\u001b[0m\n\u001b[1;32m     80\u001b[0m         \u001b[0mfooter\u001b[0m \u001b[0;34m=\u001b[0m \u001b[0mfooter\u001b[0m\u001b[0;34m.\u001b[0m\u001b[0mformat\u001b[0m\u001b[0;34m(\u001b[0m\u001b[0msampler\u001b[0m\u001b[0;34m,\u001b[0m \u001b[0mdate\u001b[0m\u001b[0;34m)\u001b[0m\u001b[0;34m\u001b[0m\u001b[0m\n\u001b[0;32m---> 81\u001b[0;31m         \u001b[0ms\u001b[0m \u001b[0;34m=\u001b[0m \u001b[0m_summary\u001b[0m\u001b[0;34m(\u001b[0m\u001b[0mfit\u001b[0m\u001b[0;34m,\u001b[0m \u001b[0mpars\u001b[0m\u001b[0;34m,\u001b[0m \u001b[0mprobs\u001b[0m\u001b[0;34m)\u001b[0m\u001b[0;34m\u001b[0m\u001b[0m\n\u001b[0m\u001b[1;32m     82\u001b[0m         body = _array_to_table(s['summary'], s['summary_rownames'],\n\u001b[1;32m     83\u001b[0m                                s['summary_colnames'], digits_summary)\n",
      "\u001b[0;32m/home/tbepler/miniconda2/envs/mimiciii/lib/python2.7/site-packages/pystan/misc.pyc\u001b[0m in \u001b[0;36m_summary\u001b[0;34m(fit, pars, probs, **kwargs)\u001b[0m\n\u001b[1;32m    205\u001b[0m     \u001b[0;32mif\u001b[0m \u001b[0mprobs\u001b[0m \u001b[0;32mis\u001b[0m \u001b[0mNone\u001b[0m\u001b[0;34m:\u001b[0m\u001b[0;34m\u001b[0m\u001b[0m\n\u001b[1;32m    206\u001b[0m         \u001b[0mprobs\u001b[0m \u001b[0;34m=\u001b[0m \u001b[0;34m(\u001b[0m\u001b[0;36m0.025\u001b[0m\u001b[0;34m,\u001b[0m \u001b[0;36m0.25\u001b[0m\u001b[0;34m,\u001b[0m \u001b[0;36m0.5\u001b[0m\u001b[0;34m,\u001b[0m \u001b[0;36m0.75\u001b[0m\u001b[0;34m,\u001b[0m \u001b[0;36m0.975\u001b[0m\u001b[0;34m)\u001b[0m\u001b[0;34m\u001b[0m\u001b[0m\n\u001b[0;32m--> 207\u001b[0;31m     \u001b[0mss\u001b[0m \u001b[0;34m=\u001b[0m \u001b[0m_summary_sim\u001b[0m\u001b[0;34m(\u001b[0m\u001b[0mfit\u001b[0m\u001b[0;34m.\u001b[0m\u001b[0msim\u001b[0m\u001b[0;34m,\u001b[0m \u001b[0mpars\u001b[0m\u001b[0;34m,\u001b[0m \u001b[0mprobs\u001b[0m\u001b[0;34m)\u001b[0m\u001b[0;34m\u001b[0m\u001b[0m\n\u001b[0m\u001b[1;32m    208\u001b[0m     \u001b[0;31m# TODO: include sem, ess and rhat: ss['ess'], ss['rhat']\u001b[0m\u001b[0;34m\u001b[0m\u001b[0;34m\u001b[0m\u001b[0m\n\u001b[1;32m    209\u001b[0m     \u001b[0ms1\u001b[0m \u001b[0;34m=\u001b[0m \u001b[0mnp\u001b[0m\u001b[0;34m.\u001b[0m\u001b[0mcolumn_stack\u001b[0m\u001b[0;34m(\u001b[0m\u001b[0;34m[\u001b[0m\u001b[0mss\u001b[0m\u001b[0;34m[\u001b[0m\u001b[0;34m'msd'\u001b[0m\u001b[0;34m]\u001b[0m\u001b[0;34m[\u001b[0m\u001b[0;34m:\u001b[0m\u001b[0;34m,\u001b[0m \u001b[0;36m0\u001b[0m\u001b[0;34m]\u001b[0m\u001b[0;34m,\u001b[0m \u001b[0mss\u001b[0m\u001b[0;34m[\u001b[0m\u001b[0;34m'sem'\u001b[0m\u001b[0;34m]\u001b[0m\u001b[0;34m,\u001b[0m \u001b[0mss\u001b[0m\u001b[0;34m[\u001b[0m\u001b[0;34m'msd'\u001b[0m\u001b[0;34m]\u001b[0m\u001b[0;34m[\u001b[0m\u001b[0;34m:\u001b[0m\u001b[0;34m,\u001b[0m \u001b[0;36m1\u001b[0m\u001b[0;34m]\u001b[0m\u001b[0;34m,\u001b[0m \u001b[0mss\u001b[0m\u001b[0;34m[\u001b[0m\u001b[0;34m'quan'\u001b[0m\u001b[0;34m]\u001b[0m\u001b[0;34m,\u001b[0m \u001b[0mss\u001b[0m\u001b[0;34m[\u001b[0m\u001b[0;34m'ess'\u001b[0m\u001b[0;34m]\u001b[0m\u001b[0;34m,\u001b[0m \u001b[0mss\u001b[0m\u001b[0;34m[\u001b[0m\u001b[0;34m'rhat'\u001b[0m\u001b[0;34m]\u001b[0m\u001b[0;34m]\u001b[0m\u001b[0;34m)\u001b[0m\u001b[0;34m\u001b[0m\u001b[0m\n",
      "\u001b[0;32m/home/tbepler/miniconda2/envs/mimiciii/lib/python2.7/site-packages/pystan/misc.pyc\u001b[0m in \u001b[0;36m_summary_sim\u001b[0;34m(sim, pars, probs)\u001b[0m\n\u001b[1;32m    315\u001b[0m                         \u001b[0mstats\u001b[0m\u001b[0;34m=\u001b[0m\u001b[0mprobs_str\u001b[0m\u001b[0;34m,\u001b[0m\u001b[0;34m\u001b[0m\u001b[0m\n\u001b[1;32m    316\u001b[0m                         chains=tuple(\"chain:{}\".format(cid) for cid in cids))\n\u001b[0;32m--> 317\u001b[0;31m     \u001b[0mess_and_rhat\u001b[0m \u001b[0;34m=\u001b[0m \u001b[0mnp\u001b[0m\u001b[0;34m.\u001b[0m\u001b[0marray\u001b[0m\u001b[0;34m(\u001b[0m\u001b[0;34m[\u001b[0m\u001b[0mpystan\u001b[0m\u001b[0;34m.\u001b[0m\u001b[0mchains\u001b[0m\u001b[0;34m.\u001b[0m\u001b[0mess_and_splitrhat\u001b[0m\u001b[0;34m(\u001b[0m\u001b[0msim\u001b[0m\u001b[0;34m,\u001b[0m \u001b[0mn\u001b[0m\u001b[0;34m)\u001b[0m \u001b[0;32mfor\u001b[0m \u001b[0mn\u001b[0m \u001b[0;32min\u001b[0m \u001b[0mtidx_colm\u001b[0m\u001b[0;34m]\u001b[0m\u001b[0;34m)\u001b[0m\u001b[0;34m\u001b[0m\u001b[0m\n\u001b[0m\u001b[1;32m    318\u001b[0m     \u001b[0mess\u001b[0m\u001b[0;34m,\u001b[0m \u001b[0mrhat\u001b[0m \u001b[0;34m=\u001b[0m \u001b[0;34m[\u001b[0m\u001b[0marr\u001b[0m\u001b[0;34m.\u001b[0m\u001b[0mravel\u001b[0m\u001b[0;34m(\u001b[0m\u001b[0;34m)\u001b[0m \u001b[0;32mfor\u001b[0m \u001b[0marr\u001b[0m \u001b[0;32min\u001b[0m \u001b[0mnp\u001b[0m\u001b[0;34m.\u001b[0m\u001b[0mhsplit\u001b[0m\u001b[0;34m(\u001b[0m\u001b[0mess_and_rhat\u001b[0m\u001b[0;34m,\u001b[0m \u001b[0;36m2\u001b[0m\u001b[0;34m)\u001b[0m\u001b[0;34m]\u001b[0m\u001b[0;34m\u001b[0m\u001b[0m\n\u001b[1;32m    319\u001b[0m     \u001b[0mess\u001b[0m \u001b[0;34m=\u001b[0m \u001b[0mess\u001b[0m\u001b[0;34m.\u001b[0m\u001b[0mround\u001b[0m\u001b[0;34m(\u001b[0m\u001b[0;34m)\u001b[0m\u001b[0;34m.\u001b[0m\u001b[0mastype\u001b[0m\u001b[0;34m(\u001b[0m\u001b[0mint\u001b[0m\u001b[0;34m)\u001b[0m  \u001b[0;31m# for display, round effective sample size\u001b[0m\u001b[0;34m\u001b[0m\u001b[0m\n",
      "\u001b[0;32m/home/tbepler/miniconda2/envs/mimiciii/lib/python2.7/site-packages/pystan/chains.pyc\u001b[0m in \u001b[0;36mess_and_splitrhat\u001b[0;34m(sim, n)\u001b[0m\n\u001b[1;32m     32\u001b[0m     \"\"\"\n\u001b[1;32m     33\u001b[0m     \u001b[0;31m# FIXME: does not yet save time\u001b[0m\u001b[0;34m\u001b[0m\u001b[0;34m\u001b[0m\u001b[0m\n\u001b[0;32m---> 34\u001b[0;31m     \u001b[0;32mreturn\u001b[0m \u001b[0;34m(\u001b[0m\u001b[0mess\u001b[0m\u001b[0;34m(\u001b[0m\u001b[0msim\u001b[0m\u001b[0;34m,\u001b[0m \u001b[0mn\u001b[0m\u001b[0;34m)\u001b[0m\u001b[0;34m,\u001b[0m \u001b[0msplitrhat\u001b[0m\u001b[0;34m(\u001b[0m\u001b[0msim\u001b[0m\u001b[0;34m,\u001b[0m \u001b[0mn\u001b[0m\u001b[0;34m)\u001b[0m\u001b[0;34m)\u001b[0m\u001b[0;34m\u001b[0m\u001b[0m\n\u001b[0m",
      "\u001b[0;32m/home/tbepler/miniconda2/envs/mimiciii/lib/python2.7/site-packages/pystan/chains.pyc\u001b[0m in \u001b[0;36mess\u001b[0;34m(sim, n)\u001b[0m\n\u001b[1;32m     11\u001b[0m         \u001b[0mParameter\u001b[0m \u001b[0mindex\u001b[0m \u001b[0mstarting\u001b[0m \u001b[0;32mfrom\u001b[0m \u001b[0;36m0\u001b[0m\u001b[0;34m\u001b[0m\u001b[0m\n\u001b[1;32m     12\u001b[0m     \"\"\"\n\u001b[0;32m---> 13\u001b[0;31m     \u001b[0;32mreturn\u001b[0m \u001b[0m_chains\u001b[0m\u001b[0;34m.\u001b[0m\u001b[0meffective_sample_size\u001b[0m\u001b[0;34m(\u001b[0m\u001b[0msim\u001b[0m\u001b[0;34m,\u001b[0m \u001b[0mn\u001b[0m\u001b[0;34m)\u001b[0m\u001b[0;34m\u001b[0m\u001b[0m\n\u001b[0m\u001b[1;32m     14\u001b[0m \u001b[0;34m\u001b[0m\u001b[0m\n\u001b[1;32m     15\u001b[0m \u001b[0;34m\u001b[0m\u001b[0m\n",
      "\u001b[0;31mKeyboardInterrupt\u001b[0m: "
     ]
    }
   ],
   "source": [
    "model_fit"
   ]
  },
  {
   "cell_type": "markdown",
   "metadata": {},
   "source": [
    "### Take a look at model accuracy"
   ]
  },
  {
   "cell_type": "code",
   "execution_count": 46,
   "metadata": {
    "collapsed": false
   },
   "outputs": [
    {
     "data": {
      "text/html": [
       "<div>\n",
       "<table border=\"1\" class=\"dataframe\">\n",
       "  <thead>\n",
       "    <tr style=\"text-align: right;\">\n",
       "      <th></th>\n",
       "      <th>0</th>\n",
       "      <th>1</th>\n",
       "      <th>2</th>\n",
       "      <th>3</th>\n",
       "      <th>4</th>\n",
       "      <th>5</th>\n",
       "      <th>6</th>\n",
       "      <th>7</th>\n",
       "      <th>8</th>\n",
       "      <th>9</th>\n",
       "      <th>...</th>\n",
       "      <th>6870</th>\n",
       "      <th>6871</th>\n",
       "      <th>6872</th>\n",
       "      <th>6873</th>\n",
       "      <th>6874</th>\n",
       "      <th>6875</th>\n",
       "      <th>6876</th>\n",
       "      <th>6877</th>\n",
       "      <th>6878</th>\n",
       "      <th>6879</th>\n",
       "    </tr>\n",
       "  </thead>\n",
       "  <tbody>\n",
       "    <tr>\n",
       "      <th>0</th>\n",
       "      <td>-0.923314</td>\n",
       "      <td>0.777870</td>\n",
       "      <td>-2.429201</td>\n",
       "      <td>0.010076</td>\n",
       "      <td>-1.246212</td>\n",
       "      <td>-1.820478</td>\n",
       "      <td>-1.245418</td>\n",
       "      <td>-0.932242</td>\n",
       "      <td>-1.975703</td>\n",
       "      <td>-0.892929</td>\n",
       "      <td>...</td>\n",
       "      <td>-1.837554</td>\n",
       "      <td>-0.774009</td>\n",
       "      <td>-2.978596</td>\n",
       "      <td>-1.454011</td>\n",
       "      <td>-0.858555</td>\n",
       "      <td>-1.078430</td>\n",
       "      <td>-2.915516</td>\n",
       "      <td>0.502840</td>\n",
       "      <td>-2.234352</td>\n",
       "      <td>-0.717123</td>\n",
       "    </tr>\n",
       "    <tr>\n",
       "      <th>1</th>\n",
       "      <td>-0.959228</td>\n",
       "      <td>1.667679</td>\n",
       "      <td>-2.736150</td>\n",
       "      <td>-0.077935</td>\n",
       "      <td>-1.209348</td>\n",
       "      <td>-1.824890</td>\n",
       "      <td>-1.401062</td>\n",
       "      <td>-1.019736</td>\n",
       "      <td>-1.961254</td>\n",
       "      <td>-0.904450</td>\n",
       "      <td>...</td>\n",
       "      <td>-1.847940</td>\n",
       "      <td>-0.817276</td>\n",
       "      <td>-3.189388</td>\n",
       "      <td>-1.477799</td>\n",
       "      <td>-0.796858</td>\n",
       "      <td>-1.157918</td>\n",
       "      <td>-3.136614</td>\n",
       "      <td>0.493672</td>\n",
       "      <td>-2.394632</td>\n",
       "      <td>-0.720533</td>\n",
       "    </tr>\n",
       "    <tr>\n",
       "      <th>2</th>\n",
       "      <td>-1.046017</td>\n",
       "      <td>1.215044</td>\n",
       "      <td>-2.525115</td>\n",
       "      <td>0.122071</td>\n",
       "      <td>-1.299359</td>\n",
       "      <td>-1.766916</td>\n",
       "      <td>-1.204936</td>\n",
       "      <td>-0.907703</td>\n",
       "      <td>-1.936878</td>\n",
       "      <td>-1.036554</td>\n",
       "      <td>...</td>\n",
       "      <td>-1.967036</td>\n",
       "      <td>-0.741420</td>\n",
       "      <td>-3.083109</td>\n",
       "      <td>-1.600156</td>\n",
       "      <td>-1.176521</td>\n",
       "      <td>-1.069487</td>\n",
       "      <td>-2.979029</td>\n",
       "      <td>0.675247</td>\n",
       "      <td>-2.097363</td>\n",
       "      <td>-0.722532</td>\n",
       "    </tr>\n",
       "    <tr>\n",
       "      <th>3</th>\n",
       "      <td>-1.109985</td>\n",
       "      <td>1.114817</td>\n",
       "      <td>-2.625776</td>\n",
       "      <td>0.101358</td>\n",
       "      <td>-1.566531</td>\n",
       "      <td>-1.919562</td>\n",
       "      <td>-1.221876</td>\n",
       "      <td>-0.966428</td>\n",
       "      <td>-2.116730</td>\n",
       "      <td>-1.092987</td>\n",
       "      <td>...</td>\n",
       "      <td>-2.179350</td>\n",
       "      <td>-0.780043</td>\n",
       "      <td>-3.135125</td>\n",
       "      <td>-1.798248</td>\n",
       "      <td>-1.228577</td>\n",
       "      <td>-1.118747</td>\n",
       "      <td>-3.025503</td>\n",
       "      <td>0.674422</td>\n",
       "      <td>-2.152741</td>\n",
       "      <td>-0.776648</td>\n",
       "    </tr>\n",
       "    <tr>\n",
       "      <th>4</th>\n",
       "      <td>-1.054637</td>\n",
       "      <td>1.262189</td>\n",
       "      <td>-2.585865</td>\n",
       "      <td>0.013218</td>\n",
       "      <td>-1.362626</td>\n",
       "      <td>-1.764637</td>\n",
       "      <td>-1.266052</td>\n",
       "      <td>-0.891735</td>\n",
       "      <td>-1.901378</td>\n",
       "      <td>-0.998861</td>\n",
       "      <td>...</td>\n",
       "      <td>-2.010632</td>\n",
       "      <td>-0.720550</td>\n",
       "      <td>-3.018804</td>\n",
       "      <td>-1.616008</td>\n",
       "      <td>-1.098071</td>\n",
       "      <td>-1.025572</td>\n",
       "      <td>-2.912462</td>\n",
       "      <td>0.592149</td>\n",
       "      <td>-2.037045</td>\n",
       "      <td>-0.008307</td>\n",
       "    </tr>\n",
       "  </tbody>\n",
       "</table>\n",
       "<p>5 rows × 6880 columns</p>\n",
       "</div>"
      ],
      "text/plain": [
       "       0         1         2         3         4         5         6     \\\n",
       "0 -0.923314  0.777870 -2.429201  0.010076 -1.246212 -1.820478 -1.245418   \n",
       "1 -0.959228  1.667679 -2.736150 -0.077935 -1.209348 -1.824890 -1.401062   \n",
       "2 -1.046017  1.215044 -2.525115  0.122071 -1.299359 -1.766916 -1.204936   \n",
       "3 -1.109985  1.114817 -2.625776  0.101358 -1.566531 -1.919562 -1.221876   \n",
       "4 -1.054637  1.262189 -2.585865  0.013218 -1.362626 -1.764637 -1.266052   \n",
       "\n",
       "       7         8         9       ...         6870      6871      6872  \\\n",
       "0 -0.932242 -1.975703 -0.892929    ...    -1.837554 -0.774009 -2.978596   \n",
       "1 -1.019736 -1.961254 -0.904450    ...    -1.847940 -0.817276 -3.189388   \n",
       "2 -0.907703 -1.936878 -1.036554    ...    -1.967036 -0.741420 -3.083109   \n",
       "3 -0.966428 -2.116730 -1.092987    ...    -2.179350 -0.780043 -3.135125   \n",
       "4 -0.891735 -1.901378 -0.998861    ...    -2.010632 -0.720550 -3.018804   \n",
       "\n",
       "       6873      6874      6875      6876      6877      6878      6879  \n",
       "0 -1.454011 -0.858555 -1.078430 -2.915516  0.502840 -2.234352 -0.717123  \n",
       "1 -1.477799 -0.796858 -1.157918 -3.136614  0.493672 -2.394632 -0.720533  \n",
       "2 -1.600156 -1.176521 -1.069487 -2.979029  0.675247 -2.097363 -0.722532  \n",
       "3 -1.798248 -1.228577 -1.118747 -3.025503  0.674422 -2.152741 -0.776648  \n",
       "4 -1.616008 -1.098071 -1.025572 -2.912462  0.592149 -2.037045 -0.008307  \n",
       "\n",
       "[5 rows x 6880 columns]"
      ]
     },
     "execution_count": 46,
     "metadata": {},
     "output_type": "execute_result"
    }
   ],
   "source": [
    "y_hats = model_fit.extract('y_hat')\n",
    "y_hats = pd.DataFrame(y_hats['y_hat'])\n",
    "y_hats.head()"
   ]
  },
  {
   "cell_type": "code",
   "execution_count": 47,
   "metadata": {
    "collapsed": false
   },
   "outputs": [],
   "source": [
    "y_hat_mu = y_hats.mean()"
   ]
  },
  {
   "cell_type": "code",
   "execution_count": 48,
   "metadata": {
    "collapsed": false
   },
   "outputs": [],
   "source": [
    "y_hat_p = 1./(1+np.exp(-y_hat_mu))"
   ]
  },
  {
   "cell_type": "code",
   "execution_count": 55,
   "metadata": {
    "collapsed": false
   },
   "outputs": [
    {
     "data": {
      "text/plain": [
       "0.2880813953488372"
      ]
     },
     "execution_count": 55,
     "metadata": {},
     "output_type": "execute_result"
    }
   ],
   "source": [
    "model_data.day30_mortality.mean()"
   ]
  },
  {
   "cell_type": "code",
   "execution_count": 49,
   "metadata": {
    "collapsed": false
   },
   "outputs": [
    {
     "data": {
      "text/plain": [
       "0.75363372093023251"
      ]
     },
     "execution_count": 49,
     "metadata": {},
     "output_type": "execute_result"
    }
   ],
   "source": [
    "((y_hat_p >= 0.5) == model_data.day30_mortality).mean()"
   ]
  },
  {
   "cell_type": "code",
   "execution_count": 50,
   "metadata": {
    "collapsed": true
   },
   "outputs": [],
   "source": [
    "from sklearn.metrics import roc_curve, precision_recall_curve, auc"
   ]
  },
  {
   "cell_type": "code",
   "execution_count": 51,
   "metadata": {
    "collapsed": false
   },
   "outputs": [
    {
     "data": {
      "text/plain": [
       "<matplotlib.text.Text at 0x7f8678829650>"
      ]
     },
     "execution_count": 51,
     "metadata": {},
     "output_type": "execute_result"
    },
    {
     "data": {
      "image/png": "[encoded data removed]",
      "text/plain": [
       "<matplotlib.figure.Figure at 0x7f86784be650>"
      ]
     },
     "metadata": {},
     "output_type": "display_data"
    }
   ],
   "source": [
    "fpr, tpr, _ = roc_curve(model_data.day30_mortality, y_hat_mu)\n",
    "aucroc = auc(fpr, tpr)\n",
    "plt.plot(fpr, tpr, label='ROC AUC: {}'.format(aucroc))\n",
    "plt.legend(loc='best')\n",
    "plt.xlabel('FPR')\n",
    "plt.ylabel('TPR')"
   ]
  },
  {
   "cell_type": "code",
   "execution_count": 52,
   "metadata": {
    "collapsed": false
   },
   "outputs": [
    {
     "data": {
      "text/plain": [
       "<matplotlib.text.Text at 0x7f8678387290>"
      ]
     },
     "execution_count": 52,
     "metadata": {},
     "output_type": "execute_result"
    },
    {
     "data": {
      "image/png": "[encoded data removed]",
      "text/plain": [
       "<matplotlib.figure.Figure at 0x7f8677b79610>"
      ]
     },
     "metadata": {},
     "output_type": "display_data"
    }
   ],
   "source": [
    "prec, rec, _ = precision_recall_curve(model_data.day30_mortality, y_hat_mu)\n",
    "aucprc = auc(rec, prec)\n",
    "plt.plot(rec, prec, label='PRC AUC: {}'.format(aucprc))\n",
    "plt.legend(loc='best')\n",
    "plt.xlabel('Recall')\n",
    "plt.ylabel('Precision')"
   ]
  },
  {
   "cell_type": "code",
   "execution_count": 56,
   "metadata": {
    "collapsed": true
   },
   "outputs": [],
   "source": [
    "def threshold_accuracy(y_true, y_pred):\n",
    "    I = y_pred.argsort()\n",
    "    y_true = y_true[I]\n",
    "    y_pred = y_pred[I]\n",
    "    tru = np.cumsum(y_true[::-1])[::-1]\n",
    "    fls = np.cumsum(1-y_true) - 1\n",
    "    cor = tru+fls\n",
    "    acc = cor / float(len(y_pred))\n",
    "    return acc, y_pred, y_true"
   ]
  },
  {
   "cell_type": "code",
   "execution_count": 57,
   "metadata": {
    "collapsed": false,
    "scrolled": false
   },
   "outputs": [
    {
     "name": "stdout",
     "output_type": "stream",
     "text": [
      "0.754796511628 -0.0277016987267\n"
     ]
    },
    {
     "data": {
      "image/png": "[encoded data removed]",
      "text/plain": [
       "<matplotlib.figure.Figure at 0x7f8677990090>"
      ]
     },
     "metadata": {},
     "output_type": "display_data"
    }
   ],
   "source": [
    "acc, thresh, label = threshold_accuracy(model_data.day30_mortality.values, y_hat_mu.values)\n",
    "i = np.argmax(acc)\n",
    "print(acc[i], thresh[i])\n",
    "plt.plot(thresh, acc)\n",
    "plt.xlabel('Threshold')\n",
    "plt.ylabel('Accuracy')\n",
    "plt.hist(thresh[label==1], normed=True, alpha=0.5, bins=30)\n",
    "plt.hist(thresh[label==0], normed=True, alpha=0.5, bins=30)\n",
    "pass"
   ]
  },
  {
   "cell_type": "code",
   "execution_count": 58,
   "metadata": {
    "collapsed": false
   },
   "outputs": [
    {
     "data": {
      "text/plain": [
       "0.2880813953488372"
      ]
     },
     "execution_count": 58,
     "metadata": {},
     "output_type": "execute_result"
    }
   ],
   "source": [
    "model_data.day30_mortality.mean()"
   ]
  },
  {
   "cell_type": "markdown",
   "metadata": {},
   "source": [
    "### Plot some prediction vs fluid balance curves"
   ]
  },
  {
   "cell_type": "code",
   "execution_count": 60,
   "metadata": {
    "collapsed": false
   },
   "outputs": [],
   "source": [
    "thetas_linear = model_fit.extract(['bias', 'beta_ea_lv_systolic', 'beta_ex_congestive_heart_failure'\n",
    "                                          #, 'beta_mech_vent'\n",
    "                                          , 'beta_mdrd', 'beta_apsiii', 'beta_age', 'beta_fluid'\n",
    "                                          , 'gamma_ea_lv_systolic', 'gamma_ex_congestive_heart_failure'\n",
    "                                          #, 'gamma_mech_vent'\n",
    "                                          , 'gamma_mdrd', 'gamma_lv_sys_by_chf'\n",
    "                                          , 'gamma_lv_sys_by_mdrd'])"
   ]
  },
  {
   "cell_type": "code",
   "execution_count": 61,
   "metadata": {
    "collapsed": true
   },
   "outputs": [],
   "source": [
    "flags = ['ex_congestive_heart_failure', 'ea_lv_systolic', 'mech_vent', 'mdrd', 'apsiii', 'age']\n",
    "\n",
    "def predict_quantiles(fluid_range, df, as_logit=True):\n",
    "    fluid_df = pd.DataFrame({'fb_day1_balance_ml': fluid_range})\n",
    "    df = df.copy()\n",
    "    del df['day30_mortality']\n",
    "    del df['mdrd_discrete']\n",
    "    del df['mdrd_3']\n",
    "    \n",
    "    q = [2.5, 50., 97.5]\n",
    "    quants = np.zeros((len(fluid_range), 1+len(q)))\n",
    "    for i,fl in enumerate(fluid_range):\n",
    "        df['fb_day1_balance_ml'] = fl\n",
    "        yh = predict_linear(thetas_linear, df)\n",
    "        if not as_logit:\n",
    "            yh = 1./(1. + np.exp(-yh))\n",
    "        quants[i,0] = np.mean(yh)\n",
    "        quants[i,1:] = np.percentile(yh, q)\n",
    "    \n",
    "    return quants"
   ]
  },
  {
   "cell_type": "code",
   "execution_count": null,
   "metadata": {
    "collapsed": false
   },
   "outputs": [
    {
     "data": {
      "text/html": [
       "<div>\n",
       "<table border=\"1\" class=\"dataframe\">\n",
       "  <thead>\n",
       "    <tr style=\"text-align: right;\">\n",
       "      <th></th>\n",
       "      <th>ex_congestive_heart_failure</th>\n",
       "      <th>0</th>\n",
       "      <th>1</th>\n",
       "      <th>2</th>\n",
       "      <th>3</th>\n",
       "    </tr>\n",
       "  </thead>\n",
       "  <tbody>\n",
       "    <tr>\n",
       "      <th>0</th>\n",
       "      <td>0</td>\n",
       "      <td>-0.785369</td>\n",
       "      <td>-5.248307</td>\n",
       "      <td>-0.945419</td>\n",
       "      <td>3.977319</td>\n",
       "    </tr>\n",
       "    <tr>\n",
       "      <th>1</th>\n",
       "      <td>0</td>\n",
       "      <td>-0.791022</td>\n",
       "      <td>-5.184080</td>\n",
       "      <td>-0.949702</td>\n",
       "      <td>3.907538</td>\n",
       "    </tr>\n",
       "    <tr>\n",
       "      <th>2</th>\n",
       "      <td>0</td>\n",
       "      <td>-0.796674</td>\n",
       "      <td>-5.120232</td>\n",
       "      <td>-0.953941</td>\n",
       "      <td>3.837680</td>\n",
       "    </tr>\n",
       "    <tr>\n",
       "      <th>3</th>\n",
       "      <td>0</td>\n",
       "      <td>-0.802327</td>\n",
       "      <td>-5.056159</td>\n",
       "      <td>-0.958277</td>\n",
       "      <td>3.768410</td>\n",
       "    </tr>\n",
       "    <tr>\n",
       "      <th>4</th>\n",
       "      <td>0</td>\n",
       "      <td>-0.807980</td>\n",
       "      <td>-4.992354</td>\n",
       "      <td>-0.962620</td>\n",
       "      <td>3.700065</td>\n",
       "    </tr>\n",
       "  </tbody>\n",
       "</table>\n",
       "</div>"
      ],
      "text/plain": [
       "   ex_congestive_heart_failure         0         1         2         3\n",
       "0                            0 -0.785369 -5.248307 -0.945419  3.977319\n",
       "1                            0 -0.791022 -5.184080 -0.949702  3.907538\n",
       "2                            0 -0.796674 -5.120232 -0.953941  3.837680\n",
       "3                            0 -0.802327 -5.056159 -0.958277  3.768410\n",
       "4                            0 -0.807980 -4.992354 -0.962620  3.700065"
      ]
     },
     "execution_count": 62,
     "metadata": {},
     "output_type": "execute_result"
    }
   ],
   "source": [
    "mi, ma = model_data.fb_day1_balance_ml.min(), model_data.fb_day1_balance_ml.max()\n",
    "fluid_range = np.linspace(mi, ma, 100)\n",
    "def df_predict_quantiles(df):\n",
    "    q = predict_quantiles(fluid_range, df)\n",
    "    return pd.DataFrame(q)\n",
    "chf_quantiles = model_data.groupby('ex_congestive_heart_failure').apply(df_predict_quantiles)\n",
    "chf_quantiles.reset_index(level=0, inplace=True)\n",
    "chf_quantiles.head()"
   ]
  },
  {
   "cell_type": "code",
   "execution_count": null,
   "metadata": {
    "collapsed": false
   },
   "outputs": [],
   "source": [
    "def df_predict_quantiles_p(df):\n",
    "    q = predict_quantiles(fluid_range, df, as_logit=False)\n",
    "    return pd.DataFrame(q)\n",
    "chf_p_quantiles = model_data.groupby('ex_congestive_heart_failure').apply(df_predict_quantiles_p)\n",
    "chf_p_quantiles.reset_index(level=0, inplace=True)\n",
    "chf_p_quantiles.head()"
   ]
  },
  {
   "cell_type": "code",
   "execution_count": null,
   "metadata": {
    "collapsed": false
   },
   "outputs": [],
   "source": [
    "fig, ax = plt.subplots(4, figsize=(6, 16), sharex=True)\n",
    "color = ['r', 'b']\n",
    "for flag,df in chf_quantiles.groupby('ex_congestive_heart_failure'):\n",
    "    quants = df[[0,1,2,3]].values #, as_logit=False)\n",
    "    mu = quants[:,0]\n",
    "    lo = quants[:,1]\n",
    "    med = quants[:,2]\n",
    "    hi = quants[:,3]\n",
    "    ax[0].plot(fluid_range, mu, color[flag], label=str(flag) + ' mean')\n",
    "    ax[0].plot(fluid_range, med, '--'+color[flag], label=str(flag) + ' median')\n",
    "    ax[0].fill_between(fluid_range, hi, lo, color='gray', alpha=0.5)\n",
    "    #md_flag = model_data.loc[model_data.ex_congestive_heart_failure == flag]\n",
    "    #ax[1].hist(md_flag.fb_day1_balance_ml, normed=True, alpha=0.5, bins=20)\n",
    "    #for f2,mddf in md_flag.groupby('day30_mortality'):\n",
    "    #    ax[2].hist(mddf.fb_day1_balance_ml, normed=True, bottom=f2, alpha=0.5\n",
    "    #               , label='CHF: '+str(flag)+', Mortality:'+str(f2))\n",
    "    #ax[2].plot(md_flag.fb_day1_balance_ml, md_flag.day30_mortality, '.', label=flag)\n",
    "for flag,df in chf_p_quantiles.groupby('ex_congestive_heart_failure'):\n",
    "    quants = df[[0,1,2,3]].values #, as_logit=False)\n",
    "    mu = quants[:,0]\n",
    "    lo = quants[:,1]\n",
    "    med = quants[:,2]\n",
    "    hi = quants[:,3]\n",
    "    ax[1].plot(fluid_range, mu, color[flag], label=str(flag) + ' mean')\n",
    "    ax[1].plot(fluid_range, med, '--'+color[flag], label=str(flag) + ' median')\n",
    "    ax[1].fill_between(fluid_range, hi, lo, color='gray', alpha=0.5)    \n",
    "ax[0].legend(loc='best')\n",
    "_ = ax[0].set_xlim((mi, ma))\n",
    "#_ = ax[0].set_ylim((-6, 20))\n",
    "\n",
    "to_plot = model_data.copy()\n",
    "to_plot['day30_mortality'] = -1\n",
    "to_plot = pd.concat([to_plot, model_data], axis=0)\n",
    "sns.boxplot(ax=ax[2], data=to_plot, y='ex_congestive_heart_failure', x='fb_day1_balance_ml', hue='day30_mortality'\n",
    "           , orient='h')\n",
    "sns.stripplot(ax=ax[3], x='fb_day1_balance_ml', y='ex_congestive_heart_failure', hue='day30_mortality'\n",
    "              ,data=to_plot, split=True, jitter=True, size=3, linewidth=0, orient='h')\n",
    "_ = ax[3].legend().set_visible(False)"
   ]
  },
  {
   "cell_type": "markdown",
   "metadata": {},
   "source": [
    "### Take a look at the posteriors of some of the parameters"
   ]
  },
  {
   "cell_type": "code",
   "execution_count": null,
   "metadata": {
    "collapsed": false
   },
   "outputs": [],
   "source": [
    "factors = model_fit.extract(['beta_age', 'beta_apsiii', 'beta_ex_congestive_heart_failure'\n",
    "                             #, 'beta_mech_vent'\n",
    "                            , 'beta_mdrd'])\n",
    "plt.figure(figsize=(8, 4))\n",
    "for key in ['age', 'apsiii', 'ex_congestive_heart_failure'\n",
    "            #, 'mech_vent'\n",
    "            , 'mdrd']:\n",
    "    sns.kdeplot(factors['beta_'+key], label=key)\n",
    "plt.legend(loc='best')"
   ]
  },
  {
   "cell_type": "code",
   "execution_count": null,
   "metadata": {
    "collapsed": false
   },
   "outputs": [],
   "source": [
    "beta_lv_sys = model_fit.extract('beta_ea_lv_systolic')['beta_ea_lv_systolic']\n",
    "for i in range(6):\n",
    "    sns.kdeplot(beta_lv_sys[:,i], label=str(i-2))\n",
    "plt.legend(loc='best')"
   ]
  },
  {
   "cell_type": "code",
   "execution_count": null,
   "metadata": {
    "collapsed": false
   },
   "outputs": [],
   "source": [
    "## calculate the marginal parameter on the fluids term\n",
    "gamma_marginal = gamma(thetas_linear, model_data)\n",
    "sns.kdeplot(gamma_marginal.ravel())\n",
    "gamma_marginal.mean(), gamma_marginal.std(), np.percentile(gamma_marginal, 50)"
   ]
  },
  {
   "cell_type": "code",
   "execution_count": null,
   "metadata": {
    "collapsed": false
   },
   "outputs": [],
   "source": [
    "sns.kdeplot(model_fit.extract('beta_fluid')['beta_fluid'])"
   ]
  },
  {
   "cell_type": "code",
   "execution_count": null,
   "metadata": {
    "collapsed": false
   },
   "outputs": [],
   "source": [
    "gamma_lv_sys = model_fit.extract('gamma_ea_lv_systolic')['gamma_ea_lv_systolic']\n",
    "for i in range(6):\n",
    "    sns.kdeplot(gamma_lv_sys[:,i], label=str(i-2))\n",
    "plt.legend(loc='best')"
   ]
  },
  {
   "cell_type": "code",
   "execution_count": null,
   "metadata": {
    "collapsed": false
   },
   "outputs": [],
   "source": [
    "gamma_lv_sys_by_chf = model_fit.extract('gamma_lv_sys_by_chf')['gamma_lv_sys_by_chf']\n",
    "for i in range(6):\n",
    "    sns.kdeplot(gamma_lv_sys_by_chf[:,i], label=str(i-2))\n",
    "plt.legend(loc='best')"
   ]
  },
  {
   "cell_type": "code",
   "execution_count": null,
   "metadata": {
    "collapsed": false
   },
   "outputs": [],
   "source": [
    "gamma_lv_sys_by_mdrd = model_fit.extract('gamma_lv_sys_by_mdrd')['gamma_lv_sys_by_mdrd']\n",
    "for i in range(6):\n",
    "    sns.kdeplot(gamma_lv_sys_by_mdrd[:,i], label=str(i-2))\n",
    "plt.legend(loc='best')"
   ]
  },
  {
   "cell_type": "code",
   "execution_count": null,
   "metadata": {
    "collapsed": true
   },
   "outputs": [],
   "source": []
  },
  {
   "cell_type": "code",
   "execution_count": null,
   "metadata": {
    "collapsed": true
   },
   "outputs": [],
   "source": []
  }
 ],
 "metadata": {
  "anaconda-cloud": {},
  "kernelspec": {
   "display_name": "Python [conda env:mimiciii]",
   "language": "python",
   "name": "conda-env-mimiciii-py"
  },
  "language_info": {
   "codemirror_mode": {
    "name": "ipython",
    "version": 2
   },
   "file_extension": ".py",
   "mimetype": "text/x-python",
   "name": "python",
   "nbconvert_exporter": "python",
   "pygments_lexer": "ipython2",
   "version": "2.7.12"
  }
 },
 "nbformat": 4,
 "nbformat_minor": 1
}
