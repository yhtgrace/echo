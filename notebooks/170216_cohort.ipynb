{
 "cells": [
  {
   "cell_type": "code",
   "execution_count": 1,
   "metadata": {
    "collapsed": true
   },
   "outputs": [],
   "source": [
    "import numpy as np\n",
    "import pandas as pd\n",
    "import psycopg2\n",
    "\n",
    "import matplotlib.pyplot as plt\n",
    "import seaborn as sns\n",
    "\n",
    "import matplotlib.style\n",
    "matplotlib.style.use('ggplot')\n",
    "%matplotlib inline"
   ]
  },
  {
   "cell_type": "code",
   "execution_count": 2,
   "metadata": {
    "collapsed": true
   },
   "outputs": [],
   "source": [
    "# create a database connection\n",
    "sqluser = 'mimic'\n",
    "dbname = 'mimic'\n",
    "schema_name = 'mimiciii'\n",
    "\n",
    "cur = None"
   ]
  },
  {
   "cell_type": "code",
   "execution_count": 3,
   "metadata": {
    "collapsed": true
   },
   "outputs": [],
   "source": [
    "if cur: \n",
    "    cur.close()\n",
    "    con.close()\n",
    "\n",
    "con = psycopg2.connect(dbname = dbname, user = sqluser)\n",
    "cur = con.cursor()\n",
    "cur.execute('SET search_path to ' + schema_name)"
   ]
  },
  {
   "cell_type": "code",
   "execution_count": 4,
   "metadata": {
    "collapsed": false
   },
   "outputs": [
    {
     "data": {
      "text/html": [
       "<div>\n",
       "<table border=\"1\" class=\"dataframe\">\n",
       "  <thead>\n",
       "    <tr style=\"text-align: right;\">\n",
       "      <th></th>\n",
       "      <th>icustay_id</th>\n",
       "      <th>hadm_id</th>\n",
       "      <th>subject_id</th>\n",
       "      <th>age</th>\n",
       "      <th>gender</th>\n",
       "      <th>height</th>\n",
       "      <th>weight</th>\n",
       "      <th>bmi</th>\n",
       "      <th>ethnicity</th>\n",
       "      <th>insurance</th>\n",
       "      <th>...</th>\n",
       "      <th>ea_tv_pulm_htn</th>\n",
       "      <th>ea_tv_tr</th>\n",
       "      <th>ea_lv_cavity</th>\n",
       "      <th>ea_lv_diastolic</th>\n",
       "      <th>ea_lv_systolic</th>\n",
       "      <th>ea_lv_wall</th>\n",
       "      <th>ea_rv_cavity</th>\n",
       "      <th>ea_rv_diastolic_fluid</th>\n",
       "      <th>ea_rv_systolic</th>\n",
       "      <th>ea_rv_wall</th>\n",
       "    </tr>\n",
       "  </thead>\n",
       "  <tbody>\n",
       "    <tr>\n",
       "      <th>0</th>\n",
       "      <td>287547</td>\n",
       "      <td>189332</td>\n",
       "      <td>109</td>\n",
       "      <td>9146 days 19:49:27</td>\n",
       "      <td>F</td>\n",
       "      <td>152.4</td>\n",
       "      <td>19.368394</td>\n",
       "      <td>8.339186</td>\n",
       "      <td>BLACK/AFRICAN AMERICAN</td>\n",
       "      <td>Medicaid</td>\n",
       "      <td>...</td>\n",
       "      <td>2.0</td>\n",
       "      <td>0.0</td>\n",
       "      <td>0.0</td>\n",
       "      <td>NaN</td>\n",
       "      <td>0.0</td>\n",
       "      <td>3.0</td>\n",
       "      <td>0.0</td>\n",
       "      <td>NaN</td>\n",
       "      <td>0.0</td>\n",
       "      <td>1.0</td>\n",
       "    </tr>\n",
       "    <tr>\n",
       "      <th>1</th>\n",
       "      <td>254245</td>\n",
       "      <td>192123</td>\n",
       "      <td>111</td>\n",
       "      <td>24368 days 06:56:33</td>\n",
       "      <td>F</td>\n",
       "      <td>NaN</td>\n",
       "      <td>57.560001</td>\n",
       "      <td>NaN</td>\n",
       "      <td>WHITE</td>\n",
       "      <td>Medicare</td>\n",
       "      <td>...</td>\n",
       "      <td>NaN</td>\n",
       "      <td>NaN</td>\n",
       "      <td>NaN</td>\n",
       "      <td>NaN</td>\n",
       "      <td>1.0</td>\n",
       "      <td>NaN</td>\n",
       "      <td>0.0</td>\n",
       "      <td>NaN</td>\n",
       "      <td>0.0</td>\n",
       "      <td>NaN</td>\n",
       "    </tr>\n",
       "    <tr>\n",
       "      <th>2</th>\n",
       "      <td>224803</td>\n",
       "      <td>130684</td>\n",
       "      <td>225</td>\n",
       "      <td>11035 days 00:58:13</td>\n",
       "      <td>M</td>\n",
       "      <td>NaN</td>\n",
       "      <td>69.800003</td>\n",
       "      <td>NaN</td>\n",
       "      <td>WHITE</td>\n",
       "      <td>Medicaid</td>\n",
       "      <td>...</td>\n",
       "      <td>NaN</td>\n",
       "      <td>NaN</td>\n",
       "      <td>0.0</td>\n",
       "      <td>NaN</td>\n",
       "      <td>0.0</td>\n",
       "      <td>0.0</td>\n",
       "      <td>NaN</td>\n",
       "      <td>NaN</td>\n",
       "      <td>NaN</td>\n",
       "      <td>NaN</td>\n",
       "    </tr>\n",
       "    <tr>\n",
       "      <th>3</th>\n",
       "      <td>215044</td>\n",
       "      <td>116935</td>\n",
       "      <td>249</td>\n",
       "      <td>27285 days 20:06:02</td>\n",
       "      <td>F</td>\n",
       "      <td>NaN</td>\n",
       "      <td>72.000000</td>\n",
       "      <td>NaN</td>\n",
       "      <td>WHITE</td>\n",
       "      <td>Medicare</td>\n",
       "      <td>...</td>\n",
       "      <td>1.0</td>\n",
       "      <td>1.0</td>\n",
       "      <td>0.0</td>\n",
       "      <td>NaN</td>\n",
       "      <td>1.0</td>\n",
       "      <td>NaN</td>\n",
       "      <td>NaN</td>\n",
       "      <td>NaN</td>\n",
       "      <td>NaN</td>\n",
       "      <td>NaN</td>\n",
       "    </tr>\n",
       "    <tr>\n",
       "      <th>4</th>\n",
       "      <td>257572</td>\n",
       "      <td>111199</td>\n",
       "      <td>281</td>\n",
       "      <td>21906 days 04:45:22</td>\n",
       "      <td>F</td>\n",
       "      <td>NaN</td>\n",
       "      <td>83.650002</td>\n",
       "      <td>NaN</td>\n",
       "      <td>BLACK/AFRICAN AMERICAN</td>\n",
       "      <td>Government</td>\n",
       "      <td>...</td>\n",
       "      <td>2.0</td>\n",
       "      <td>0.0</td>\n",
       "      <td>0.0</td>\n",
       "      <td>NaN</td>\n",
       "      <td>0.0</td>\n",
       "      <td>0.0</td>\n",
       "      <td>0.0</td>\n",
       "      <td>NaN</td>\n",
       "      <td>0.0</td>\n",
       "      <td>NaN</td>\n",
       "    </tr>\n",
       "  </tbody>\n",
       "</table>\n",
       "<p>5 rows × 113 columns</p>\n",
       "</div>"
      ],
      "text/plain": [
       "   icustay_id  hadm_id  subject_id                 age gender  height  \\\n",
       "0      287547   189332         109  9146 days 19:49:27      F   152.4   \n",
       "1      254245   192123         111 24368 days 06:56:33      F     NaN   \n",
       "2      224803   130684         225 11035 days 00:58:13      M     NaN   \n",
       "3      215044   116935         249 27285 days 20:06:02      F     NaN   \n",
       "4      257572   111199         281 21906 days 04:45:22      F     NaN   \n",
       "\n",
       "      weight       bmi               ethnicity   insurance     ...      \\\n",
       "0  19.368394  8.339186  BLACK/AFRICAN AMERICAN    Medicaid     ...       \n",
       "1  57.560001       NaN                   WHITE    Medicare     ...       \n",
       "2  69.800003       NaN                   WHITE    Medicaid     ...       \n",
       "3  72.000000       NaN                   WHITE    Medicare     ...       \n",
       "4  83.650002       NaN  BLACK/AFRICAN AMERICAN  Government     ...       \n",
       "\n",
       "   ea_tv_pulm_htn  ea_tv_tr  ea_lv_cavity  ea_lv_diastolic  ea_lv_systolic  \\\n",
       "0             2.0       0.0           0.0              NaN             0.0   \n",
       "1             NaN       NaN           NaN              NaN             1.0   \n",
       "2             NaN       NaN           0.0              NaN             0.0   \n",
       "3             1.0       1.0           0.0              NaN             1.0   \n",
       "4             2.0       0.0           0.0              NaN             0.0   \n",
       "\n",
       "   ea_lv_wall  ea_rv_cavity  ea_rv_diastolic_fluid  ea_rv_systolic  ea_rv_wall  \n",
       "0         3.0           0.0                    NaN             0.0         1.0  \n",
       "1         NaN           0.0                    NaN             0.0         NaN  \n",
       "2         0.0           NaN                    NaN             NaN         NaN  \n",
       "3         NaN           NaN                    NaN             NaN         NaN  \n",
       "4         0.0           0.0                    NaN             0.0         NaN  \n",
       "\n",
       "[5 rows x 113 columns]"
      ]
     },
     "execution_count": 4,
     "metadata": {},
     "output_type": "execute_result"
    }
   ],
   "source": [
    "query = \\\n",
    "\"\"\"\n",
    "select * from icu_features;\n",
    "\"\"\"\n",
    "res = pd.read_sql_query(query, con)\n",
    "res.head()"
   ]
  },
  {
   "cell_type": "markdown",
   "metadata": {},
   "source": [
    "Check that icustay_id is unique. "
   ]
  },
  {
   "cell_type": "code",
   "execution_count": 5,
   "metadata": {
    "collapsed": false
   },
   "outputs": [
    {
     "data": {
      "text/plain": [
       "True"
      ]
     },
     "execution_count": 5,
     "metadata": {},
     "output_type": "execute_result"
    }
   ],
   "source": [
    "len(res['icustay_id'].unique()) == res.shape[0]"
   ]
  },
  {
   "cell_type": "markdown",
   "metadata": {},
   "source": [
    "+ had sepsis"
   ]
  },
  {
   "cell_type": "code",
   "execution_count": 6,
   "metadata": {
    "collapsed": false
   },
   "outputs": [
    {
     "data": {
      "text/plain": [
       "0    44112\n",
       "1    17420\n",
       "Name: filter_angus_sepsis, dtype: int64"
      ]
     },
     "execution_count": 6,
     "metadata": {},
     "output_type": "execute_result"
    }
   ],
   "source": [
    "res['filter_angus_sepsis'].value_counts()"
   ]
  },
  {
   "cell_type": "markdown",
   "metadata": {},
   "source": [
    "+ on vasopressors"
   ]
  },
  {
   "cell_type": "code",
   "execution_count": 7,
   "metadata": {
    "collapsed": false
   },
   "outputs": [
    {
     "data": {
      "text/plain": [
       "False    47716\n",
       "True     13816\n",
       "Name: filter_vaso, dtype: int64"
      ]
     },
     "execution_count": 7,
     "metadata": {},
     "output_type": "execute_result"
    }
   ],
   "source": [
    "res['filter_vaso'].value_counts()"
   ]
  },
  {
   "cell_type": "markdown",
   "metadata": {},
   "source": [
    "+ first care unit or last careunit was micu"
   ]
  },
  {
   "cell_type": "code",
   "execution_count": 12,
   "metadata": {
    "collapsed": false
   },
   "outputs": [
    {
     "data": {
      "text/plain": [
       "MICU     21088\n",
       "CSRU      9312\n",
       "SICU      8891\n",
       "NICU      8100\n",
       "CCU       7726\n",
       "TSICU     6415\n",
       "Name: ic_first_careunit, dtype: int64"
      ]
     },
     "execution_count": 12,
     "metadata": {},
     "output_type": "execute_result"
    }
   ],
   "source": [
    "res['ic_first_careunit'].value_counts()"
   ]
  },
  {
   "cell_type": "code",
   "execution_count": 13,
   "metadata": {
    "collapsed": false
   },
   "outputs": [
    {
     "data": {
      "text/plain": [
       "MICU     21310\n",
       "CSRU      9392\n",
       "SICU      9213\n",
       "NICU      8100\n",
       "CCU       7406\n",
       "TSICU     6111\n",
       "Name: ic_last_careunit, dtype: int64"
      ]
     },
     "execution_count": 13,
     "metadata": {},
     "output_type": "execute_result"
    }
   ],
   "source": [
    "res['ic_last_careunit'].value_counts()"
   ]
  },
  {
   "cell_type": "markdown",
   "metadata": {},
   "source": [
    "+ first or last care unit = MICU, SICU, NICU"
   ]
  },
  {
   "cell_type": "code",
   "execution_count": 63,
   "metadata": {
    "collapsed": false
   },
   "outputs": [
    {
     "data": {
      "text/plain": [
       "True     37210\n",
       "False    24322\n",
       "dtype: int64"
      ]
     },
     "execution_count": 63,
     "metadata": {},
     "output_type": "execute_result"
    }
   ],
   "source": [
    "pd.Series((res['ic_first_careunit'].apply(lambda u: u in ['MICU', 'SICU', 'TSICU']) | \n",
    " res['ic_last_careunit'].apply(lambda u: u in ['MICU', 'SICU', 'TSICU']))).value_counts()"
   ]
  },
  {
   "cell_type": "markdown",
   "metadata": {},
   "source": [
    "+ service type"
   ]
  },
  {
   "cell_type": "code",
   "execution_count": 64,
   "metadata": {
    "collapsed": false
   },
   "outputs": [
    {
     "data": {
      "text/plain": [
       "(18855, 113)"
      ]
     },
     "execution_count": 64,
     "metadata": {},
     "output_type": "execute_result"
    }
   ],
   "source": [
    "res.loc[res.st_micu == 1].shape"
   ]
  },
  {
   "cell_type": "code",
   "execution_count": 65,
   "metadata": {
    "collapsed": false
   },
   "outputs": [
    {
     "data": {
      "text/plain": [
       "(4626, 113)"
      ]
     },
     "execution_count": 65,
     "metadata": {},
     "output_type": "execute_result"
    }
   ],
   "source": [
    "res.loc[res.st_nsicu == 1].shape"
   ]
  },
  {
   "cell_type": "code",
   "execution_count": 66,
   "metadata": {
    "collapsed": false
   },
   "outputs": [
    {
     "data": {
      "text/plain": [
       "(9755, 113)"
      ]
     },
     "execution_count": 66,
     "metadata": {},
     "output_type": "execute_result"
    }
   ],
   "source": [
    "res.loc[res.st_sicu == 1].shape"
   ]
  },
  {
   "cell_type": "code",
   "execution_count": 67,
   "metadata": {
    "collapsed": false
   },
   "outputs": [
    {
     "data": {
      "text/plain": [
       "(26773, 113)"
      ]
     },
     "execution_count": 67,
     "metadata": {},
     "output_type": "execute_result"
    }
   ],
   "source": [
    "res.loc[(res.st_micu == 1) | (res.st_nsicu == 1) | (res.st_sicu == 1)].shape"
   ]
  },
  {
   "cell_type": "markdown",
   "metadata": {},
   "source": [
    "+ service type = {micu, nsicu, sicu} or first care unit = {micu, nsicu, sicu} or last care unit = {micu, nsicu, sicu}"
   ]
  },
  {
   "cell_type": "code",
   "execution_count": 74,
   "metadata": {
    "collapsed": false
   },
   "outputs": [
    {
     "data": {
      "text/plain": [
       "True     38421\n",
       "False    23111\n",
       "dtype: int64"
      ]
     },
     "execution_count": 74,
     "metadata": {},
     "output_type": "execute_result"
    }
   ],
   "source": [
    "filter_careunit = (res['ic_first_careunit'].apply(lambda u: u in ['MICU', 'SICU', 'TSICU']) | \n",
    "    res['ic_last_careunit'].apply(lambda u: u in ['MICU', 'SICU', 'TSICU']) |\n",
    "    (res.st_micu == 1) | (res.st_nsicu == 1) | (res.st_sicu == 1))\n",
    "pd.Series(filter_careunit).value_counts()"
   ]
  },
  {
   "cell_type": "markdown",
   "metadata": {},
   "source": [
    "+ had sepsis\n",
    "+ (and/or) was on vasopressors"
   ]
  },
  {
   "cell_type": "code",
   "execution_count": 75,
   "metadata": {
    "collapsed": false
   },
   "outputs": [
    {
     "data": {
      "text/plain": [
       "6182"
      ]
     },
     "execution_count": 75,
     "metadata": {},
     "output_type": "execute_result"
    }
   ],
   "source": [
    "res.loc[res['filter_vaso'] & res['filter_angus_sepsis']].shape[0]"
   ]
  },
  {
   "cell_type": "code",
   "execution_count": 76,
   "metadata": {
    "collapsed": false
   },
   "outputs": [
    {
     "data": {
      "text/plain": [
       "25054"
      ]
     },
     "execution_count": 76,
     "metadata": {},
     "output_type": "execute_result"
    }
   ],
   "source": [
    "res.loc[res['filter_vaso'] | res['filter_angus_sepsis']].shape[0]"
   ]
  },
  {
   "cell_type": "markdown",
   "metadata": {},
   "source": [
    "+ had sepsis or was on vasopressors\n",
    "+ service type = {micu, nsicu, sicu} or first care unit = {micu, nsicu, sicu} or last care unit = {micu, nsicu, sicu}"
   ]
  },
  {
   "cell_type": "code",
   "execution_count": 77,
   "metadata": {
    "collapsed": false
   },
   "outputs": [
    {
     "data": {
      "text/plain": [
       "16885"
      ]
     },
     "execution_count": 77,
     "metadata": {},
     "output_type": "execute_result"
    }
   ],
   "source": [
    "res.loc[(res['filter_vaso'] | res['filter_angus_sepsis']) & filter_careunit].shape[0]"
   ]
  },
  {
   "cell_type": "markdown",
   "metadata": {},
   "source": [
    "+ had sepsis or was on vasopressors\n",
    "+ service type = {micu, nsicu, sicu} or first care unit = {micu, nsicu, sicu} or last care unit = {micu, nsicu, sicu}\n",
    "+ no cardiogenic shock"
   ]
  },
  {
   "cell_type": "code",
   "execution_count": 78,
   "metadata": {
    "collapsed": false
   },
   "outputs": [
    {
     "data": {
      "text/plain": [
       "15801"
      ]
     },
     "execution_count": 78,
     "metadata": {},
     "output_type": "execute_result"
    }
   ],
   "source": [
    "res.loc[(res['filter_vaso'] | res['filter_angus_sepsis']) \n",
    "        & filter_careunit\n",
    "        & ~res['filter_hard_cardiogenic']\n",
    "].shape[0]"
   ]
  },
  {
   "cell_type": "markdown",
   "metadata": {},
   "source": [
    "+ had sepsis or was on vasopressors\n",
    "+ service type = {micu, nsicu, sicu} or first care unit = {micu, nsicu, sicu} or last care unit = {micu, nsicu, sicu}\n",
    "+ no cardiogenic shock\n",
    "+ not on chronic dialysis\n",
    "+ was adult"
   ]
  },
  {
   "cell_type": "code",
   "execution_count": 79,
   "metadata": {
    "collapsed": false
   },
   "outputs": [
    {
     "data": {
      "text/plain": [
       "14392"
      ]
     },
     "execution_count": 79,
     "metadata": {},
     "output_type": "execute_result"
    }
   ],
   "source": [
    "res_ = res.loc[(res['filter_vaso'] | res['filter_angus_sepsis']) \n",
    "        & filter_careunit\n",
    "        & ~res['filter_hard_cardiogenic']\n",
    "        & ~res['filter_chronic_dialysis']\n",
    "        & res['filter_adult']\n",
    "]\n",
    "res_.shape[0]"
   ]
  },
  {
   "cell_type": "markdown",
   "metadata": {},
   "source": [
    "Number of unique subject ids"
   ]
  },
  {
   "cell_type": "code",
   "execution_count": 80,
   "metadata": {
    "collapsed": false
   },
   "outputs": [
    {
     "data": {
      "text/plain": [
       "11024"
      ]
     },
     "execution_count": 80,
     "metadata": {},
     "output_type": "execute_result"
    }
   ],
   "source": [
    "len(res_['subject_id'].unique())"
   ]
  },
  {
   "cell_type": "code",
   "execution_count": 81,
   "metadata": {
    "collapsed": false
   },
   "outputs": [
    {
     "data": {
      "text/plain": [
       "(11024, 113)"
      ]
     },
     "execution_count": 81,
     "metadata": {},
     "output_type": "execute_result"
    }
   ],
   "source": [
    "final = res_.sort_values('intime', ascending = False).groupby(\n",
    "    ['subject_id', 'filter_echo']).head(n = 1).sort_values(\n",
    "    'filter_echo', ascending = False).groupby('subject_id').head(n = 1)\n",
    "final.shape"
   ]
  },
  {
   "cell_type": "markdown",
   "metadata": {},
   "source": [
    "Look at fluids"
   ]
  },
  {
   "cell_type": "code",
   "execution_count": 82,
   "metadata": {
    "collapsed": false
   },
   "outputs": [
    {
     "data": {
      "text/html": [
       "<div>\n",
       "<table border=\"1\" class=\"dataframe\">\n",
       "  <thead>\n",
       "    <tr style=\"text-align: right;\">\n",
       "      <th></th>\n",
       "      <th>fb_day1_input_ml</th>\n",
       "      <th>fb_day1_output_ml</th>\n",
       "      <th>fb_day1_balance_ml</th>\n",
       "      <th>fb_day2_input_ml</th>\n",
       "      <th>fb_day2_output_ml</th>\n",
       "      <th>fb_day2_balance_ml</th>\n",
       "      <th>fb_day3_input_ml</th>\n",
       "      <th>fb_day3_output_ml</th>\n",
       "      <th>fb_day3_balance_ml</th>\n",
       "    </tr>\n",
       "  </thead>\n",
       "  <tbody>\n",
       "    <tr>\n",
       "      <th>count</th>\n",
       "      <td>10366.000000</td>\n",
       "      <td>10366.000000</td>\n",
       "      <td>10366.000000</td>\n",
       "      <td>8799.000000</td>\n",
       "      <td>8799.000000</td>\n",
       "      <td>8799.000000</td>\n",
       "      <td>6846.000000</td>\n",
       "      <td>6846.000000</td>\n",
       "      <td>6846.000000</td>\n",
       "    </tr>\n",
       "    <tr>\n",
       "      <th>mean</th>\n",
       "      <td>3310.400302</td>\n",
       "      <td>2398.819786</td>\n",
       "      <td>911.580516</td>\n",
       "      <td>1865.667959</td>\n",
       "      <td>2061.576083</td>\n",
       "      <td>757.478673</td>\n",
       "      <td>1430.068455</td>\n",
       "      <td>2219.933216</td>\n",
       "      <td>114.499588</td>\n",
       "    </tr>\n",
       "    <tr>\n",
       "      <th>std</th>\n",
       "      <td>3109.050763</td>\n",
       "      <td>2881.052934</td>\n",
       "      <td>3888.250736</td>\n",
       "      <td>1802.702934</td>\n",
       "      <td>2594.204631</td>\n",
       "      <td>6025.865315</td>\n",
       "      <td>1432.876042</td>\n",
       "      <td>3019.216099</td>\n",
       "      <td>8654.881796</td>\n",
       "    </tr>\n",
       "    <tr>\n",
       "      <th>min</th>\n",
       "      <td>1.100000</td>\n",
       "      <td>0.000000</td>\n",
       "      <td>-122515.833344</td>\n",
       "      <td>0.333332</td>\n",
       "      <td>0.000000</td>\n",
       "      <td>-235268.933342</td>\n",
       "      <td>2.733334</td>\n",
       "      <td>0.000000</td>\n",
       "      <td>-334065.792215</td>\n",
       "    </tr>\n",
       "    <tr>\n",
       "      <th>25%</th>\n",
       "      <td>1273.262495</td>\n",
       "      <td>1080.250000</td>\n",
       "      <td>-886.338403</td>\n",
       "      <td>561.606352</td>\n",
       "      <td>990.000000</td>\n",
       "      <td>-1827.727243</td>\n",
       "      <td>374.398670</td>\n",
       "      <td>1067.250000</td>\n",
       "      <td>-3113.125078</td>\n",
       "    </tr>\n",
       "    <tr>\n",
       "      <th>50%</th>\n",
       "      <td>2480.000000</td>\n",
       "      <td>1850.000000</td>\n",
       "      <td>452.345826</td>\n",
       "      <td>1425.000000</td>\n",
       "      <td>1685.000000</td>\n",
       "      <td>303.000000</td>\n",
       "      <td>1018.242681</td>\n",
       "      <td>1840.000000</td>\n",
       "      <td>-304.538929</td>\n",
       "    </tr>\n",
       "    <tr>\n",
       "      <th>75%</th>\n",
       "      <td>4368.192828</td>\n",
       "      <td>2972.750000</td>\n",
       "      <td>2272.975001</td>\n",
       "      <td>2545.890460</td>\n",
       "      <td>2665.000000</td>\n",
       "      <td>2953.000000</td>\n",
       "      <td>2010.187511</td>\n",
       "      <td>2900.000000</td>\n",
       "      <td>3163.500000</td>\n",
       "    </tr>\n",
       "    <tr>\n",
       "      <th>max</th>\n",
       "      <td>38939.000000</td>\n",
       "      <td>123200.000000</td>\n",
       "      <td>35357.000000</td>\n",
       "      <td>22113.447687</td>\n",
       "      <td>130775.000000</td>\n",
       "      <td>39227.000000</td>\n",
       "      <td>15360.500000</td>\n",
       "      <td>161612.000000</td>\n",
       "      <td>45132.314719</td>\n",
       "    </tr>\n",
       "  </tbody>\n",
       "</table>\n",
       "</div>"
      ],
      "text/plain": [
       "       fb_day1_input_ml  fb_day1_output_ml  fb_day1_balance_ml  \\\n",
       "count      10366.000000       10366.000000        10366.000000   \n",
       "mean        3310.400302        2398.819786          911.580516   \n",
       "std         3109.050763        2881.052934         3888.250736   \n",
       "min            1.100000           0.000000      -122515.833344   \n",
       "25%         1273.262495        1080.250000         -886.338403   \n",
       "50%         2480.000000        1850.000000          452.345826   \n",
       "75%         4368.192828        2972.750000         2272.975001   \n",
       "max        38939.000000      123200.000000        35357.000000   \n",
       "\n",
       "       fb_day2_input_ml  fb_day2_output_ml  fb_day2_balance_ml  \\\n",
       "count       8799.000000        8799.000000         8799.000000   \n",
       "mean        1865.667959        2061.576083          757.478673   \n",
       "std         1802.702934        2594.204631         6025.865315   \n",
       "min            0.333332           0.000000      -235268.933342   \n",
       "25%          561.606352         990.000000        -1827.727243   \n",
       "50%         1425.000000        1685.000000          303.000000   \n",
       "75%         2545.890460        2665.000000         2953.000000   \n",
       "max        22113.447687      130775.000000        39227.000000   \n",
       "\n",
       "       fb_day3_input_ml  fb_day3_output_ml  fb_day3_balance_ml  \n",
       "count       6846.000000        6846.000000         6846.000000  \n",
       "mean        1430.068455        2219.933216          114.499588  \n",
       "std         1432.876042        3019.216099         8654.881796  \n",
       "min            2.733334           0.000000      -334065.792215  \n",
       "25%          374.398670        1067.250000        -3113.125078  \n",
       "50%         1018.242681        1840.000000         -304.538929  \n",
       "75%         2010.187511        2900.000000         3163.500000  \n",
       "max        15360.500000      161612.000000        45132.314719  "
      ]
     },
     "execution_count": 82,
     "metadata": {},
     "output_type": "execute_result"
    }
   ],
   "source": [
    "final[[c for c in final.columns if 'fb' in c]].describe()"
   ]
  },
  {
   "cell_type": "code",
   "execution_count": null,
   "metadata": {
    "collapsed": true
   },
   "outputs": [],
   "source": []
  }
 ],
 "metadata": {
  "anaconda-cloud": {},
  "kernelspec": {
   "display_name": "Python [conda env:patches]",
   "language": "python",
   "name": "conda-env-patches-py"
  },
  "language_info": {
   "codemirror_mode": {
    "name": "ipython",
    "version": 3
   },
   "file_extension": ".py",
   "mimetype": "text/x-python",
   "name": "python",
   "nbconvert_exporter": "python",
   "pygments_lexer": "ipython3",
   "version": "3.5.2"
  }
 },
 "nbformat": 4,
 "nbformat_minor": 1
}
