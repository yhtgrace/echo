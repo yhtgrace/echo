{
 "cells": [
  {
   "cell_type": "code",
   "execution_count": 1,
   "metadata": {
    "collapsed": true
   },
   "outputs": [],
   "source": [
    "import numpy as np\n",
    "import pandas as pd\n",
    "import psycopg2\n",
    "\n",
    "import matplotlib.pyplot as plt\n",
    "import seaborn as sns\n",
    "\n",
    "import matplotlib.style\n",
    "matplotlib.style.use('ggplot')\n",
    "%matplotlib inline"
   ]
  },
  {
   "cell_type": "code",
   "execution_count": 2,
   "metadata": {
    "collapsed": true
   },
   "outputs": [],
   "source": [
    "# create a database connection\n",
    "sqluser = 'mimic'\n",
    "dbname = 'mimic'\n",
    "schema_name = 'mimiciii'\n",
    "\n",
    "cur = None"
   ]
  },
  {
   "cell_type": "code",
   "execution_count": 3,
   "metadata": {
    "collapsed": true
   },
   "outputs": [],
   "source": [
    "if cur: \n",
    "    cur.close()\n",
    "    con.close()\n",
    "\n",
    "con = psycopg2.connect(dbname = dbname, user = sqluser)\n",
    "cur = con.cursor()\n",
    "cur.execute('SET search_path to ' + schema_name)"
   ]
  },
  {
   "cell_type": "code",
   "execution_count": 4,
   "metadata": {
    "collapsed": false
   },
   "outputs": [
    {
     "data": {
      "text/html": [
       "<div>\n",
       "<table border=\"1\" class=\"dataframe\">\n",
       "  <thead>\n",
       "    <tr style=\"text-align: right;\">\n",
       "      <th></th>\n",
       "      <th>icustay_id</th>\n",
       "      <th>hadm_id</th>\n",
       "      <th>subject_id</th>\n",
       "      <th>age</th>\n",
       "      <th>gender</th>\n",
       "      <th>height</th>\n",
       "      <th>weight</th>\n",
       "      <th>bmi</th>\n",
       "      <th>ethnicity</th>\n",
       "      <th>insurance</th>\n",
       "      <th>...</th>\n",
       "      <th>ea_tv_pulm_htn</th>\n",
       "      <th>ea_tv_tr</th>\n",
       "      <th>ea_lv_cavity</th>\n",
       "      <th>ea_lv_diastolic</th>\n",
       "      <th>ea_lv_systolic</th>\n",
       "      <th>ea_lv_wall</th>\n",
       "      <th>ea_rv_cavity</th>\n",
       "      <th>ea_rv_diastolic_fluid</th>\n",
       "      <th>ea_rv_systolic</th>\n",
       "      <th>ea_rv_wall</th>\n",
       "    </tr>\n",
       "  </thead>\n",
       "  <tbody>\n",
       "    <tr>\n",
       "      <th>0</th>\n",
       "      <td>287547</td>\n",
       "      <td>189332</td>\n",
       "      <td>109</td>\n",
       "      <td>9146 days 19:49:27</td>\n",
       "      <td>F</td>\n",
       "      <td>152.4</td>\n",
       "      <td>19.368394</td>\n",
       "      <td>8.339186</td>\n",
       "      <td>BLACK/AFRICAN AMERICAN</td>\n",
       "      <td>Medicaid</td>\n",
       "      <td>...</td>\n",
       "      <td>2.0</td>\n",
       "      <td>0.0</td>\n",
       "      <td>0.0</td>\n",
       "      <td>NaN</td>\n",
       "      <td>0.0</td>\n",
       "      <td>3.0</td>\n",
       "      <td>0.0</td>\n",
       "      <td>NaN</td>\n",
       "      <td>0.0</td>\n",
       "      <td>1.0</td>\n",
       "    </tr>\n",
       "    <tr>\n",
       "      <th>1</th>\n",
       "      <td>254245</td>\n",
       "      <td>192123</td>\n",
       "      <td>111</td>\n",
       "      <td>24368 days 06:56:33</td>\n",
       "      <td>F</td>\n",
       "      <td>NaN</td>\n",
       "      <td>57.560001</td>\n",
       "      <td>NaN</td>\n",
       "      <td>WHITE</td>\n",
       "      <td>Medicare</td>\n",
       "      <td>...</td>\n",
       "      <td>NaN</td>\n",
       "      <td>NaN</td>\n",
       "      <td>NaN</td>\n",
       "      <td>NaN</td>\n",
       "      <td>1.0</td>\n",
       "      <td>NaN</td>\n",
       "      <td>0.0</td>\n",
       "      <td>NaN</td>\n",
       "      <td>0.0</td>\n",
       "      <td>NaN</td>\n",
       "    </tr>\n",
       "    <tr>\n",
       "      <th>2</th>\n",
       "      <td>224803</td>\n",
       "      <td>130684</td>\n",
       "      <td>225</td>\n",
       "      <td>11035 days 00:58:13</td>\n",
       "      <td>M</td>\n",
       "      <td>NaN</td>\n",
       "      <td>69.800003</td>\n",
       "      <td>NaN</td>\n",
       "      <td>WHITE</td>\n",
       "      <td>Medicaid</td>\n",
       "      <td>...</td>\n",
       "      <td>NaN</td>\n",
       "      <td>NaN</td>\n",
       "      <td>0.0</td>\n",
       "      <td>NaN</td>\n",
       "      <td>0.0</td>\n",
       "      <td>0.0</td>\n",
       "      <td>NaN</td>\n",
       "      <td>NaN</td>\n",
       "      <td>NaN</td>\n",
       "      <td>NaN</td>\n",
       "    </tr>\n",
       "    <tr>\n",
       "      <th>3</th>\n",
       "      <td>215044</td>\n",
       "      <td>116935</td>\n",
       "      <td>249</td>\n",
       "      <td>27285 days 20:06:02</td>\n",
       "      <td>F</td>\n",
       "      <td>NaN</td>\n",
       "      <td>72.000000</td>\n",
       "      <td>NaN</td>\n",
       "      <td>WHITE</td>\n",
       "      <td>Medicare</td>\n",
       "      <td>...</td>\n",
       "      <td>1.0</td>\n",
       "      <td>1.0</td>\n",
       "      <td>0.0</td>\n",
       "      <td>NaN</td>\n",
       "      <td>1.0</td>\n",
       "      <td>NaN</td>\n",
       "      <td>NaN</td>\n",
       "      <td>NaN</td>\n",
       "      <td>NaN</td>\n",
       "      <td>NaN</td>\n",
       "    </tr>\n",
       "    <tr>\n",
       "      <th>4</th>\n",
       "      <td>257572</td>\n",
       "      <td>111199</td>\n",
       "      <td>281</td>\n",
       "      <td>21906 days 04:45:22</td>\n",
       "      <td>F</td>\n",
       "      <td>NaN</td>\n",
       "      <td>83.650002</td>\n",
       "      <td>NaN</td>\n",
       "      <td>BLACK/AFRICAN AMERICAN</td>\n",
       "      <td>Government</td>\n",
       "      <td>...</td>\n",
       "      <td>2.0</td>\n",
       "      <td>0.0</td>\n",
       "      <td>0.0</td>\n",
       "      <td>NaN</td>\n",
       "      <td>0.0</td>\n",
       "      <td>0.0</td>\n",
       "      <td>0.0</td>\n",
       "      <td>NaN</td>\n",
       "      <td>0.0</td>\n",
       "      <td>NaN</td>\n",
       "    </tr>\n",
       "  </tbody>\n",
       "</table>\n",
       "<p>5 rows × 113 columns</p>\n",
       "</div>"
      ],
      "text/plain": [
       "   icustay_id  hadm_id  subject_id                 age gender  height  \\\n",
       "0      287547   189332         109  9146 days 19:49:27      F   152.4   \n",
       "1      254245   192123         111 24368 days 06:56:33      F     NaN   \n",
       "2      224803   130684         225 11035 days 00:58:13      M     NaN   \n",
       "3      215044   116935         249 27285 days 20:06:02      F     NaN   \n",
       "4      257572   111199         281 21906 days 04:45:22      F     NaN   \n",
       "\n",
       "      weight       bmi               ethnicity   insurance     ...      \\\n",
       "0  19.368394  8.339186  BLACK/AFRICAN AMERICAN    Medicaid     ...       \n",
       "1  57.560001       NaN                   WHITE    Medicare     ...       \n",
       "2  69.800003       NaN                   WHITE    Medicaid     ...       \n",
       "3  72.000000       NaN                   WHITE    Medicare     ...       \n",
       "4  83.650002       NaN  BLACK/AFRICAN AMERICAN  Government     ...       \n",
       "\n",
       "   ea_tv_pulm_htn  ea_tv_tr  ea_lv_cavity  ea_lv_diastolic  ea_lv_systolic  \\\n",
       "0             2.0       0.0           0.0              NaN             0.0   \n",
       "1             NaN       NaN           NaN              NaN             1.0   \n",
       "2             NaN       NaN           0.0              NaN             0.0   \n",
       "3             1.0       1.0           0.0              NaN             1.0   \n",
       "4             2.0       0.0           0.0              NaN             0.0   \n",
       "\n",
       "   ea_lv_wall  ea_rv_cavity  ea_rv_diastolic_fluid  ea_rv_systolic  ea_rv_wall  \n",
       "0         3.0           0.0                    NaN             0.0         1.0  \n",
       "1         NaN           0.0                    NaN             0.0         NaN  \n",
       "2         0.0           NaN                    NaN             NaN         NaN  \n",
       "3         NaN           NaN                    NaN             NaN         NaN  \n",
       "4         0.0           0.0                    NaN             0.0         NaN  \n",
       "\n",
       "[5 rows x 113 columns]"
      ]
     },
     "execution_count": 4,
     "metadata": {},
     "output_type": "execute_result"
    }
   ],
   "source": [
    "query = \\\n",
    "\"\"\"\n",
    "select * from icu_features;\n",
    "\"\"\"\n",
    "res = pd.read_sql_query(query, con)\n",
    "res.head()"
   ]
  },
  {
   "cell_type": "markdown",
   "metadata": {},
   "source": [
    "Check that icustay_id is unique. "
   ]
  },
  {
   "cell_type": "code",
   "execution_count": 5,
   "metadata": {
    "collapsed": false
   },
   "outputs": [
    {
     "data": {
      "text/plain": [
       "True"
      ]
     },
     "execution_count": 5,
     "metadata": {},
     "output_type": "execute_result"
    }
   ],
   "source": [
    "len(res['icustay_id'].unique()) == res.shape[0]"
   ]
  },
  {
   "cell_type": "markdown",
   "metadata": {},
   "source": [
    "+ had sepsis"
   ]
  },
  {
   "cell_type": "code",
   "execution_count": 6,
   "metadata": {
    "collapsed": false
   },
   "outputs": [
    {
     "data": {
      "text/plain": [
       "0    44112\n",
       "1    17420\n",
       "Name: filter_angus_sepsis, dtype: int64"
      ]
     },
     "execution_count": 6,
     "metadata": {},
     "output_type": "execute_result"
    }
   ],
   "source": [
    "res['filter_angus_sepsis'].value_counts()"
   ]
  },
  {
   "cell_type": "markdown",
   "metadata": {},
   "source": [
    "+ on vasopressors"
   ]
  },
  {
   "cell_type": "code",
   "execution_count": 7,
   "metadata": {
    "collapsed": false
   },
   "outputs": [
    {
     "data": {
      "text/plain": [
       "False    47716\n",
       "True     13816\n",
       "Name: filter_vaso, dtype: int64"
      ]
     },
     "execution_count": 7,
     "metadata": {},
     "output_type": "execute_result"
    }
   ],
   "source": [
    "res['filter_vaso'].value_counts()"
   ]
  },
  {
   "cell_type": "markdown",
   "metadata": {},
   "source": [
    "+ first care unit or last careunit was micu"
   ]
  },
  {
   "cell_type": "code",
   "execution_count": 12,
   "metadata": {
    "collapsed": false
   },
   "outputs": [
    {
     "data": {
      "text/plain": [
       "MICU     21088\n",
       "CSRU      9312\n",
       "SICU      8891\n",
       "NICU      8100\n",
       "CCU       7726\n",
       "TSICU     6415\n",
       "Name: ic_first_careunit, dtype: int64"
      ]
     },
     "execution_count": 12,
     "metadata": {},
     "output_type": "execute_result"
    }
   ],
   "source": [
    "res['ic_first_careunit'].value_counts()"
   ]
  },
  {
   "cell_type": "code",
   "execution_count": 13,
   "metadata": {
    "collapsed": false
   },
   "outputs": [
    {
     "data": {
      "text/plain": [
       "MICU     21310\n",
       "CSRU      9392\n",
       "SICU      9213\n",
       "NICU      8100\n",
       "CCU       7406\n",
       "TSICU     6111\n",
       "Name: ic_last_careunit, dtype: int64"
      ]
     },
     "execution_count": 13,
     "metadata": {},
     "output_type": "execute_result"
    }
   ],
   "source": [
    "res['ic_last_careunit'].value_counts()"
   ]
  },
  {
   "cell_type": "markdown",
   "metadata": {},
   "source": [
    "+ first or last care unit = MICU, SICU, NICU"
   ]
  },
  {
   "cell_type": "code",
   "execution_count": 18,
   "metadata": {
    "collapsed": false
   },
   "outputs": [
    {
     "data": {
      "text/plain": [
       "True     39392\n",
       "False    22140\n",
       "dtype: int64"
      ]
     },
     "execution_count": 18,
     "metadata": {},
     "output_type": "execute_result"
    }
   ],
   "source": [
    "pd.Series((res['ic_first_careunit'].apply(lambda u: u in ['MICU', 'SICU', 'NICU']) | \n",
    " res['ic_last_careunit'].apply(lambda u: u in ['MICU', 'SICU', 'NICU']))).value_counts()"
   ]
  },
  {
   "cell_type": "markdown",
   "metadata": {},
   "source": [
    "+ service type"
   ]
  },
  {
   "cell_type": "code",
   "execution_count": 23,
   "metadata": {
    "collapsed": false
   },
   "outputs": [
    {
     "data": {
      "text/plain": [
       "(18855, 113)"
      ]
     },
     "execution_count": 23,
     "metadata": {},
     "output_type": "execute_result"
    }
   ],
   "source": [
    "res.loc[res.st_micu == 1].shape"
   ]
  },
  {
   "cell_type": "code",
   "execution_count": 24,
   "metadata": {
    "collapsed": false
   },
   "outputs": [
    {
     "data": {
      "text/plain": [
       "(4626, 113)"
      ]
     },
     "execution_count": 24,
     "metadata": {},
     "output_type": "execute_result"
    }
   ],
   "source": [
    "res.loc[res.st_nsicu == 1].shape"
   ]
  },
  {
   "cell_type": "code",
   "execution_count": 25,
   "metadata": {
    "collapsed": false
   },
   "outputs": [
    {
     "data": {
      "text/plain": [
       "(9755, 113)"
      ]
     },
     "execution_count": 25,
     "metadata": {},
     "output_type": "execute_result"
    }
   ],
   "source": [
    "res.loc[res.st_sicu == 1].shape"
   ]
  },
  {
   "cell_type": "code",
   "execution_count": 28,
   "metadata": {
    "collapsed": false
   },
   "outputs": [
    {
     "data": {
      "text/plain": [
       "(26773, 113)"
      ]
     },
     "execution_count": 28,
     "metadata": {},
     "output_type": "execute_result"
    }
   ],
   "source": [
    "res.loc[(res.st_micu == 1) | (res.st_nsicu == 1) | (res.st_sicu == 1)].shape"
   ]
  },
  {
   "cell_type": "markdown",
   "metadata": {},
   "source": [
    "+ service type = {micu, nsicu, sicu} or first care unit = {micu, nsicu, sicu} or last care unit = {micu, nsicu, sicu}"
   ]
  },
  {
   "cell_type": "code",
   "execution_count": 51,
   "metadata": {
    "collapsed": false
   },
   "outputs": [
    {
     "data": {
      "text/plain": [
       "True     42884\n",
       "False    18648\n",
       "dtype: int64"
      ]
     },
     "execution_count": 51,
     "metadata": {},
     "output_type": "execute_result"
    }
   ],
   "source": [
    "filter_careunit = (res['ic_first_careunit'].apply(lambda u: u in ['MICU', 'SICU', 'NICU']) | \n",
    "    res['ic_last_careunit'].apply(lambda u: u in ['MICU', 'SICU', 'NICU']) |\n",
    "    (res.st_micu == 1) | (res.st_nsicu == 1) | (res.st_sicu == 1))\n",
    "pd.Series(filter_careunit).value_counts()"
   ]
  },
  {
   "cell_type": "markdown",
   "metadata": {},
   "source": [
    "+ had sepsis\n",
    "+ (and/or) was on vasopressors"
   ]
  },
  {
   "cell_type": "code",
   "execution_count": 8,
   "metadata": {
    "collapsed": false
   },
   "outputs": [
    {
     "data": {
      "text/plain": [
       "6182"
      ]
     },
     "execution_count": 8,
     "metadata": {},
     "output_type": "execute_result"
    }
   ],
   "source": [
    "res.loc[res['filter_vaso'] & res['filter_angus_sepsis']].shape[0]"
   ]
  },
  {
   "cell_type": "code",
   "execution_count": 9,
   "metadata": {
    "collapsed": false
   },
   "outputs": [
    {
     "data": {
      "text/plain": [
       "25054"
      ]
     },
     "execution_count": 9,
     "metadata": {},
     "output_type": "execute_result"
    }
   ],
   "source": [
    "res.loc[res['filter_vaso'] | res['filter_angus_sepsis']].shape[0]"
   ]
  },
  {
   "cell_type": "markdown",
   "metadata": {},
   "source": [
    "+ had sepsis or was on vasopressors\n",
    "+ service type = {micu, nsicu, sicu} or first care unit = {micu, nsicu, sicu} or last care unit = {micu, nsicu, sicu}"
   ]
  },
  {
   "cell_type": "code",
   "execution_count": 33,
   "metadata": {
    "collapsed": false
   },
   "outputs": [
    {
     "data": {
      "text/plain": [
       "16028"
      ]
     },
     "execution_count": 33,
     "metadata": {},
     "output_type": "execute_result"
    }
   ],
   "source": [
    "res.loc[(res['filter_vaso'] | res['filter_angus_sepsis']) & filter_careunit].shape[0]"
   ]
  },
  {
   "cell_type": "markdown",
   "metadata": {},
   "source": [
    "+ had sepsis or was on vasopressors\n",
    "+ service type = {micu, nsicu, sicu} or first care unit = {micu, nsicu, sicu} or last care unit = {micu, nsicu, sicu}\n",
    "+ no cardiogenic shock"
   ]
  },
  {
   "cell_type": "code",
   "execution_count": 34,
   "metadata": {
    "collapsed": false
   },
   "outputs": [
    {
     "data": {
      "text/plain": [
       "15058"
      ]
     },
     "execution_count": 34,
     "metadata": {},
     "output_type": "execute_result"
    }
   ],
   "source": [
    "res.loc[(res['filter_vaso'] | res['filter_angus_sepsis']) \n",
    "        & filter_careunit\n",
    "        & ~res['filter_hard_cardiogenic']\n",
    "].shape[0]"
   ]
  },
  {
   "cell_type": "markdown",
   "metadata": {},
   "source": [
    "+ had sepsis or was on vasopressors\n",
    "+ service type = {micu, nsicu, sicu} or first care unit = {micu, nsicu, sicu} or last care unit = {micu, nsicu, sicu}\n",
    "+ no cardiogenic shock\n",
    "+ not on chronic dialysis\n",
    "+ was adult"
   ]
  },
  {
   "cell_type": "code",
   "execution_count": 38,
   "metadata": {
    "collapsed": false
   },
   "outputs": [
    {
     "data": {
      "text/plain": [
       "13487"
      ]
     },
     "execution_count": 38,
     "metadata": {},
     "output_type": "execute_result"
    }
   ],
   "source": [
    "res_ = res.loc[(res['filter_vaso'] | res['filter_angus_sepsis']) \n",
    "        & filter_careunit\n",
    "        & ~res['filter_hard_cardiogenic']\n",
    "        & ~res['filter_chronic_dialysis']\n",
    "        & res['filter_adult']\n",
    "]\n",
    "res_.shape[0]"
   ]
  },
  {
   "cell_type": "markdown",
   "metadata": {},
   "source": [
    "Number of unique subject ids"
   ]
  },
  {
   "cell_type": "code",
   "execution_count": 40,
   "metadata": {
    "collapsed": false
   },
   "outputs": [
    {
     "data": {
      "text/plain": [
       "10363"
      ]
     },
     "execution_count": 40,
     "metadata": {},
     "output_type": "execute_result"
    }
   ],
   "source": [
    "len(res_['subject_id'].unique())"
   ]
  },
  {
   "cell_type": "code",
   "execution_count": 52,
   "metadata": {
    "collapsed": false
   },
   "outputs": [
    {
     "data": {
      "text/plain": [
       "(10363, 113)"
      ]
     },
     "execution_count": 52,
     "metadata": {},
     "output_type": "execute_result"
    }
   ],
   "source": [
    "final = res_.sort_values('intime', ascending = False).groupby(\n",
    "    ['subject_id', 'filter_echo']).head(n = 1).sort_values(\n",
    "    'filter_echo', ascending = False).groupby('subject_id').head(n = 1)\n",
    "final.shape"
   ]
  },
  {
   "cell_type": "markdown",
   "metadata": {},
   "source": [
    "Look at fluids"
   ]
  },
  {
   "cell_type": "code",
   "execution_count": 60,
   "metadata": {
    "collapsed": false
   },
   "outputs": [
    {
     "data": {
      "text/html": [
       "<div>\n",
       "<table border=\"1\" class=\"dataframe\">\n",
       "  <thead>\n",
       "    <tr style=\"text-align: right;\">\n",
       "      <th></th>\n",
       "      <th>fb_day1_input_ml</th>\n",
       "      <th>fb_day1_output_ml</th>\n",
       "      <th>fb_day1_balance_ml</th>\n",
       "      <th>fb_day2_input_ml</th>\n",
       "      <th>fb_day2_output_ml</th>\n",
       "      <th>fb_day2_balance_ml</th>\n",
       "      <th>fb_day3_input_ml</th>\n",
       "      <th>fb_day3_output_ml</th>\n",
       "      <th>fb_day3_balance_ml</th>\n",
       "    </tr>\n",
       "  </thead>\n",
       "  <tbody>\n",
       "    <tr>\n",
       "      <th>count</th>\n",
       "      <td>9736.000000</td>\n",
       "      <td>9736.000000</td>\n",
       "      <td>9736.000000</td>\n",
       "      <td>8245.000000</td>\n",
       "      <td>8245.000000</td>\n",
       "      <td>8245.000000</td>\n",
       "      <td>6386.000000</td>\n",
       "      <td>6386.000000</td>\n",
       "      <td>6386.000000</td>\n",
       "    </tr>\n",
       "    <tr>\n",
       "      <th>mean</th>\n",
       "      <td>3275.741093</td>\n",
       "      <td>2331.097668</td>\n",
       "      <td>944.643425</td>\n",
       "      <td>1851.209322</td>\n",
       "      <td>2032.202323</td>\n",
       "      <td>804.947003</td>\n",
       "      <td>1428.578726</td>\n",
       "      <td>2195.416192</td>\n",
       "      <td>194.533038</td>\n",
       "    </tr>\n",
       "    <tr>\n",
       "      <th>std</th>\n",
       "      <td>3054.393438</td>\n",
       "      <td>2874.683574</td>\n",
       "      <td>3906.300721</td>\n",
       "      <td>1811.720496</td>\n",
       "      <td>2641.484621</td>\n",
       "      <td>6115.692466</td>\n",
       "      <td>1438.614493</td>\n",
       "      <td>3091.909729</td>\n",
       "      <td>8833.803311</td>\n",
       "    </tr>\n",
       "    <tr>\n",
       "      <th>min</th>\n",
       "      <td>1.100000</td>\n",
       "      <td>0.000000</td>\n",
       "      <td>-122515.833344</td>\n",
       "      <td>0.333332</td>\n",
       "      <td>0.000000</td>\n",
       "      <td>-235268.933342</td>\n",
       "      <td>2.733334</td>\n",
       "      <td>0.000000</td>\n",
       "      <td>-334065.792215</td>\n",
       "    </tr>\n",
       "    <tr>\n",
       "      <th>25%</th>\n",
       "      <td>1237.163542</td>\n",
       "      <td>1050.750000</td>\n",
       "      <td>-860.250003</td>\n",
       "      <td>540.000005</td>\n",
       "      <td>975.000000</td>\n",
       "      <td>-1787.000000</td>\n",
       "      <td>380.000000</td>\n",
       "      <td>1050.000000</td>\n",
       "      <td>-3039.625000</td>\n",
       "    </tr>\n",
       "    <tr>\n",
       "      <th>50%</th>\n",
       "      <td>2467.312500</td>\n",
       "      <td>1810.000000</td>\n",
       "      <td>476.704163</td>\n",
       "      <td>1395.166334</td>\n",
       "      <td>1660.000000</td>\n",
       "      <td>322.498289</td>\n",
       "      <td>1000.415977</td>\n",
       "      <td>1818.000000</td>\n",
       "      <td>-234.000000</td>\n",
       "    </tr>\n",
       "    <tr>\n",
       "      <th>75%</th>\n",
       "      <td>4338.988061</td>\n",
       "      <td>2900.000000</td>\n",
       "      <td>2325.372978</td>\n",
       "      <td>2534.333283</td>\n",
       "      <td>2620.000000</td>\n",
       "      <td>3033.000000</td>\n",
       "      <td>2003.711295</td>\n",
       "      <td>2859.000000</td>\n",
       "      <td>3262.425331</td>\n",
       "    </tr>\n",
       "    <tr>\n",
       "      <th>max</th>\n",
       "      <td>31198.375000</td>\n",
       "      <td>123200.000000</td>\n",
       "      <td>27652.375000</td>\n",
       "      <td>22113.447687</td>\n",
       "      <td>130775.000000</td>\n",
       "      <td>36905.903404</td>\n",
       "      <td>15360.500000</td>\n",
       "      <td>161612.000000</td>\n",
       "      <td>45132.314719</td>\n",
       "    </tr>\n",
       "  </tbody>\n",
       "</table>\n",
       "</div>"
      ],
      "text/plain": [
       "       fb_day1_input_ml  fb_day1_output_ml  fb_day1_balance_ml  \\\n",
       "count       9736.000000        9736.000000         9736.000000   \n",
       "mean        3275.741093        2331.097668          944.643425   \n",
       "std         3054.393438        2874.683574         3906.300721   \n",
       "min            1.100000           0.000000      -122515.833344   \n",
       "25%         1237.163542        1050.750000         -860.250003   \n",
       "50%         2467.312500        1810.000000          476.704163   \n",
       "75%         4338.988061        2900.000000         2325.372978   \n",
       "max        31198.375000      123200.000000        27652.375000   \n",
       "\n",
       "       fb_day2_input_ml  fb_day2_output_ml  fb_day2_balance_ml  \\\n",
       "count       8245.000000        8245.000000         8245.000000   \n",
       "mean        1851.209322        2032.202323          804.947003   \n",
       "std         1811.720496        2641.484621         6115.692466   \n",
       "min            0.333332           0.000000      -235268.933342   \n",
       "25%          540.000005         975.000000        -1787.000000   \n",
       "50%         1395.166334        1660.000000          322.498289   \n",
       "75%         2534.333283        2620.000000         3033.000000   \n",
       "max        22113.447687      130775.000000        36905.903404   \n",
       "\n",
       "       fb_day3_input_ml  fb_day3_output_ml  fb_day3_balance_ml  \n",
       "count       6386.000000        6386.000000         6386.000000  \n",
       "mean        1428.578726        2195.416192          194.533038  \n",
       "std         1438.614493        3091.909729         8833.803311  \n",
       "min            2.733334           0.000000      -334065.792215  \n",
       "25%          380.000000        1050.000000        -3039.625000  \n",
       "50%         1000.415977        1818.000000         -234.000000  \n",
       "75%         2003.711295        2859.000000         3262.425331  \n",
       "max        15360.500000      161612.000000        45132.314719  "
      ]
     },
     "execution_count": 60,
     "metadata": {},
     "output_type": "execute_result"
    }
   ],
   "source": [
    "final[[c for c in final.columns if 'fb' in c]].describe()"
   ]
  },
  {
   "cell_type": "code",
   "execution_count": null,
   "metadata": {
    "collapsed": true
   },
   "outputs": [],
   "source": []
  }
 ],
 "metadata": {
  "anaconda-cloud": {},
  "kernelspec": {
   "display_name": "Python [conda env:patches]",
   "language": "python",
   "name": "conda-env-patches-py"
  },
  "language_info": {
   "codemirror_mode": {
    "name": "ipython",
    "version": 3
   },
   "file_extension": ".py",
   "mimetype": "text/x-python",
   "name": "python",
   "nbconvert_exporter": "python",
   "pygments_lexer": "ipython3",
   "version": "3.5.2"
  }
 },
 "nbformat": 4,
 "nbformat_minor": 1
}
