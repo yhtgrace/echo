{
 "cells": [
  {
   "cell_type": "code",
   "execution_count": 1,
   "metadata": {
    "collapsed": true
   },
   "outputs": [],
   "source": [
    "import numpy as np\n",
    "import pandas as pd\n",
    "import psycopg2\n",
    "\n",
    "import matplotlib.pyplot as plt\n",
    "import seaborn as sns\n",
    "\n",
    "import matplotlib.style\n",
    "matplotlib.style.use('ggplot')\n",
    "%matplotlib inline"
   ]
  },
  {
   "cell_type": "code",
   "execution_count": 2,
   "metadata": {
    "collapsed": true
   },
   "outputs": [],
   "source": [
    "# create a database connection\n",
    "sqluser = 'mimic'\n",
    "dbname = 'mimic'\n",
    "schema_name = 'mimiciii'\n",
    "\n",
    "cur = None"
   ]
  },
  {
   "cell_type": "code",
   "execution_count": 69,
   "metadata": {
    "collapsed": true
   },
   "outputs": [],
   "source": [
    "if cur: \n",
    "    cur.close()\n",
    "    con.close()\n",
    "\n",
    "con = psycopg2.connect(dbname = dbname, user = sqluser)\n",
    "cur = con.cursor()\n",
    "cur.execute('SET search_path to ' + schema_name)"
   ]
  },
  {
   "cell_type": "code",
   "execution_count": 73,
   "metadata": {
    "collapsed": false
   },
   "outputs": [
    {
     "data": {
      "text/html": [
       "<div>\n",
       "<table border=\"1\" class=\"dataframe\">\n",
       "  <thead>\n",
       "    <tr style=\"text-align: right;\">\n",
       "      <th></th>\n",
       "      <th>icustay_id</th>\n",
       "      <th>hadm_id</th>\n",
       "      <th>subject_id</th>\n",
       "      <th>age</th>\n",
       "      <th>gender</th>\n",
       "      <th>height</th>\n",
       "      <th>weight</th>\n",
       "      <th>bmi</th>\n",
       "      <th>ethnicity</th>\n",
       "      <th>insurance</th>\n",
       "      <th>...</th>\n",
       "      <th>ea_tv_pulm_htn</th>\n",
       "      <th>ea_tv_tr</th>\n",
       "      <th>ea_lv_cavity</th>\n",
       "      <th>ea_lv_diastolic</th>\n",
       "      <th>ea_lv_systolic</th>\n",
       "      <th>ea_lv_wall</th>\n",
       "      <th>ea_rv_cavity</th>\n",
       "      <th>ea_rv_diastolic_fluid</th>\n",
       "      <th>ea_rv_systolic</th>\n",
       "      <th>ea_rv_wall</th>\n",
       "    </tr>\n",
       "  </thead>\n",
       "  <tbody>\n",
       "    <tr>\n",
       "      <th>0</th>\n",
       "      <td>200001</td>\n",
       "      <td>152234</td>\n",
       "      <td>55973</td>\n",
       "      <td>22290 days 19:06:12</td>\n",
       "      <td>F</td>\n",
       "      <td>167.851667</td>\n",
       "      <td>27.669135</td>\n",
       "      <td>9.820741</td>\n",
       "      <td>ASIAN - ASIAN INDIAN</td>\n",
       "      <td>Medicare</td>\n",
       "      <td>...</td>\n",
       "      <td>NaN</td>\n",
       "      <td>NaN</td>\n",
       "      <td>NaN</td>\n",
       "      <td>NaN</td>\n",
       "      <td>NaN</td>\n",
       "      <td>NaN</td>\n",
       "      <td>NaN</td>\n",
       "      <td>NaN</td>\n",
       "      <td>NaN</td>\n",
       "      <td>NaN</td>\n",
       "    </tr>\n",
       "    <tr>\n",
       "      <th>1</th>\n",
       "      <td>200003</td>\n",
       "      <td>163557</td>\n",
       "      <td>27513</td>\n",
       "      <td>17625 days 19:50:04</td>\n",
       "      <td>M</td>\n",
       "      <td>NaN</td>\n",
       "      <td>78.224998</td>\n",
       "      <td>NaN</td>\n",
       "      <td>WHITE</td>\n",
       "      <td>Private</td>\n",
       "      <td>...</td>\n",
       "      <td>1.0</td>\n",
       "      <td>0.0</td>\n",
       "      <td>0.0</td>\n",
       "      <td>0.0</td>\n",
       "      <td>2.0</td>\n",
       "      <td>0.0</td>\n",
       "      <td>0.0</td>\n",
       "      <td>NaN</td>\n",
       "      <td>0.0</td>\n",
       "      <td>NaN</td>\n",
       "    </tr>\n",
       "    <tr>\n",
       "      <th>2</th>\n",
       "      <td>200006</td>\n",
       "      <td>189514</td>\n",
       "      <td>10950</td>\n",
       "      <td>19736 days 11:28:14</td>\n",
       "      <td>M</td>\n",
       "      <td>165.100000</td>\n",
       "      <td>82.400002</td>\n",
       "      <td>30.229647</td>\n",
       "      <td>OTHER</td>\n",
       "      <td>Medicaid</td>\n",
       "      <td>...</td>\n",
       "      <td>NaN</td>\n",
       "      <td>NaN</td>\n",
       "      <td>NaN</td>\n",
       "      <td>NaN</td>\n",
       "      <td>NaN</td>\n",
       "      <td>NaN</td>\n",
       "      <td>NaN</td>\n",
       "      <td>NaN</td>\n",
       "      <td>NaN</td>\n",
       "      <td>NaN</td>\n",
       "    </tr>\n",
       "    <tr>\n",
       "      <th>3</th>\n",
       "      <td>200007</td>\n",
       "      <td>129310</td>\n",
       "      <td>20707</td>\n",
       "      <td>15818 days 10:03:37</td>\n",
       "      <td>M</td>\n",
       "      <td>177.800000</td>\n",
       "      <td>126.000000</td>\n",
       "      <td>39.857223</td>\n",
       "      <td>WHITE</td>\n",
       "      <td>Private</td>\n",
       "      <td>...</td>\n",
       "      <td>NaN</td>\n",
       "      <td>NaN</td>\n",
       "      <td>NaN</td>\n",
       "      <td>NaN</td>\n",
       "      <td>NaN</td>\n",
       "      <td>NaN</td>\n",
       "      <td>NaN</td>\n",
       "      <td>NaN</td>\n",
       "      <td>NaN</td>\n",
       "      <td>NaN</td>\n",
       "    </tr>\n",
       "    <tr>\n",
       "      <th>4</th>\n",
       "      <td>200009</td>\n",
       "      <td>129607</td>\n",
       "      <td>29904</td>\n",
       "      <td>17353 days 10:34:32</td>\n",
       "      <td>F</td>\n",
       "      <td>160.020000</td>\n",
       "      <td>85.833331</td>\n",
       "      <td>33.520264</td>\n",
       "      <td>WHITE</td>\n",
       "      <td>Private</td>\n",
       "      <td>...</td>\n",
       "      <td>NaN</td>\n",
       "      <td>0.0</td>\n",
       "      <td>NaN</td>\n",
       "      <td>NaN</td>\n",
       "      <td>0.0</td>\n",
       "      <td>NaN</td>\n",
       "      <td>0.0</td>\n",
       "      <td>NaN</td>\n",
       "      <td>0.0</td>\n",
       "      <td>NaN</td>\n",
       "    </tr>\n",
       "  </tbody>\n",
       "</table>\n",
       "<p>5 rows × 115 columns</p>\n",
       "</div>"
      ],
      "text/plain": [
       "   icustay_id  hadm_id  subject_id                 age gender      height  \\\n",
       "0      200001   152234       55973 22290 days 19:06:12      F  167.851667   \n",
       "1      200003   163557       27513 17625 days 19:50:04      M         NaN   \n",
       "2      200006   189514       10950 19736 days 11:28:14      M  165.100000   \n",
       "3      200007   129310       20707 15818 days 10:03:37      M  177.800000   \n",
       "4      200009   129607       29904 17353 days 10:34:32      F  160.020000   \n",
       "\n",
       "       weight        bmi             ethnicity insurance     ...      \\\n",
       "0   27.669135   9.820741  ASIAN - ASIAN INDIAN  Medicare     ...       \n",
       "1   78.224998        NaN                 WHITE   Private     ...       \n",
       "2   82.400002  30.229647                 OTHER  Medicaid     ...       \n",
       "3  126.000000  39.857223                 WHITE   Private     ...       \n",
       "4   85.833331  33.520264                 WHITE   Private     ...       \n",
       "\n",
       "   ea_tv_pulm_htn  ea_tv_tr  ea_lv_cavity  ea_lv_diastolic  ea_lv_systolic  \\\n",
       "0             NaN       NaN           NaN              NaN             NaN   \n",
       "1             1.0       0.0           0.0              0.0             2.0   \n",
       "2             NaN       NaN           NaN              NaN             NaN   \n",
       "3             NaN       NaN           NaN              NaN             NaN   \n",
       "4             NaN       0.0           NaN              NaN             0.0   \n",
       "\n",
       "   ea_lv_wall  ea_rv_cavity  ea_rv_diastolic_fluid  ea_rv_systolic  ea_rv_wall  \n",
       "0         NaN           NaN                    NaN             NaN         NaN  \n",
       "1         0.0           0.0                    NaN             0.0         NaN  \n",
       "2         NaN           NaN                    NaN             NaN         NaN  \n",
       "3         NaN           NaN                    NaN             NaN         NaN  \n",
       "4         NaN           0.0                    NaN             0.0         NaN  \n",
       "\n",
       "[5 rows x 115 columns]"
      ]
     },
     "execution_count": 73,
     "metadata": {},
     "output_type": "execute_result"
    }
   ],
   "source": [
    "query = \\\n",
    "\"\"\"\n",
    "select * from icu_features;\n",
    "\"\"\"\n",
    "res = pd.read_sql_query(query, con)\n",
    "res.head()"
   ]
  },
  {
   "cell_type": "markdown",
   "metadata": {},
   "source": [
    "## Check lab values"
   ]
  },
  {
   "cell_type": "code",
   "execution_count": 9,
   "metadata": {
    "collapsed": false
   },
   "outputs": [
    {
     "data": {
      "text/html": [
       "<div>\n",
       "<table border=\"1\" class=\"dataframe\">\n",
       "  <thead>\n",
       "    <tr style=\"text-align: right;\">\n",
       "      <th></th>\n",
       "      <th>lab_albumin</th>\n",
       "      <th>lab_bicarbonate</th>\n",
       "      <th>lab_ckmb</th>\n",
       "      <th>lab_creatinine</th>\n",
       "      <th>lab_crp</th>\n",
       "      <th>lab_egfr</th>\n",
       "      <th>lab_hematocrit</th>\n",
       "      <th>lab_inr</th>\n",
       "      <th>lab_lactate</th>\n",
       "      <th>lab_platelet</th>\n",
       "      <th>lab_ntprobnp</th>\n",
       "      <th>lab_ph</th>\n",
       "      <th>lab_tropi</th>\n",
       "      <th>lab_tropt</th>\n",
       "      <th>lab_wbc</th>\n",
       "    </tr>\n",
       "  </thead>\n",
       "  <tbody>\n",
       "    <tr>\n",
       "      <th>False</th>\n",
       "      <td>47515</td>\n",
       "      <td>8265</td>\n",
       "      <td>56046</td>\n",
       "      <td>9810</td>\n",
       "      <td>61049</td>\n",
       "      <td>61532.0</td>\n",
       "      <td>5511</td>\n",
       "      <td>20476</td>\n",
       "      <td>39227</td>\n",
       "      <td>6094</td>\n",
       "      <td>60801</td>\n",
       "      <td>29346</td>\n",
       "      <td>60579</td>\n",
       "      <td>50715</td>\n",
       "      <td>6260</td>\n",
       "    </tr>\n",
       "    <tr>\n",
       "      <th>True</th>\n",
       "      <td>14017</td>\n",
       "      <td>53267</td>\n",
       "      <td>5486</td>\n",
       "      <td>51722</td>\n",
       "      <td>483</td>\n",
       "      <td>NaN</td>\n",
       "      <td>56021</td>\n",
       "      <td>41056</td>\n",
       "      <td>22305</td>\n",
       "      <td>55438</td>\n",
       "      <td>731</td>\n",
       "      <td>32186</td>\n",
       "      <td>953</td>\n",
       "      <td>10817</td>\n",
       "      <td>55272</td>\n",
       "    </tr>\n",
       "  </tbody>\n",
       "</table>\n",
       "</div>"
      ],
      "text/plain": [
       "       lab_albumin  lab_bicarbonate  lab_ckmb  lab_creatinine  lab_crp  \\\n",
       "False        47515             8265     56046            9810    61049   \n",
       "True         14017            53267      5486           51722      483   \n",
       "\n",
       "       lab_egfr  lab_hematocrit  lab_inr  lab_lactate  lab_platelet  \\\n",
       "False   61532.0            5511    20476        39227          6094   \n",
       "True        NaN           56021    41056        22305         55438   \n",
       "\n",
       "       lab_ntprobnp  lab_ph  lab_tropi  lab_tropt  lab_wbc  \n",
       "False         60801   29346      60579      50715     6260  \n",
       "True            731   32186        953      10817    55272  "
      ]
     },
     "execution_count": 9,
     "metadata": {},
     "output_type": "execute_result"
    }
   ],
   "source": [
    "(~res[[c for c in res.columns if 'lab' in c]].isnull()).apply(lambda x: x.value_counts())"
   ]
  },
  {
   "cell_type": "code",
   "execution_count": 10,
   "metadata": {
    "collapsed": false
   },
   "outputs": [
    {
     "data": {
      "text/plain": [
       "True     37270\n",
       "False    24262\n",
       "Name: creatinine_last, dtype: int64"
      ]
     },
     "execution_count": 10,
     "metadata": {},
     "output_type": "execute_result"
    }
   ],
   "source": [
    "(~ res.creatinine_last.isnull()).value_counts()"
   ]
  },
  {
   "cell_type": "code",
   "execution_count": 11,
   "metadata": {
    "collapsed": false
   },
   "outputs": [
    {
     "data": {
      "text/plain": [
       "True     37270\n",
       "False    24262\n",
       "Name: creatinine_max, dtype: int64"
      ]
     },
     "execution_count": 11,
     "metadata": {},
     "output_type": "execute_result"
    }
   ],
   "source": [
    "(~ res.creatinine_max.isnull()).value_counts()"
   ]
  },
  {
   "cell_type": "markdown",
   "metadata": {},
   "source": [
    "The number of people with creatinine last/max values should always be more than the number of people with first day creatinine values, but this is not the case. "
   ]
  },
  {
   "cell_type": "code",
   "execution_count": 12,
   "metadata": {
    "collapsed": false
   },
   "outputs": [
    {
     "data": {
      "text/html": [
       "<div>\n",
       "<table border=\"1\" class=\"dataframe\">\n",
       "  <thead>\n",
       "    <tr style=\"text-align: right;\">\n",
       "      <th></th>\n",
       "      <th>subject_id</th>\n",
       "      <th>hadm_id</th>\n",
       "      <th>icustay_id</th>\n",
       "      <th>charttime</th>\n",
       "      <th>label</th>\n",
       "      <th>valuenum</th>\n",
       "    </tr>\n",
       "  </thead>\n",
       "  <tbody>\n",
       "    <tr>\n",
       "      <th>0</th>\n",
       "      <td>3</td>\n",
       "      <td>145834</td>\n",
       "      <td>211552</td>\n",
       "      <td>2101-10-23 03:45:00</td>\n",
       "      <td>TROPI</td>\n",
       "      <td>18.6</td>\n",
       "    </tr>\n",
       "    <tr>\n",
       "      <th>1</th>\n",
       "      <td>3</td>\n",
       "      <td>145834</td>\n",
       "      <td>211552</td>\n",
       "      <td>2101-10-23 03:45:00</td>\n",
       "      <td>HEMATOCRIT</td>\n",
       "      <td>30.9</td>\n",
       "    </tr>\n",
       "    <tr>\n",
       "      <th>2</th>\n",
       "      <td>3</td>\n",
       "      <td>145834</td>\n",
       "      <td>211552</td>\n",
       "      <td>2101-10-23 03:45:00</td>\n",
       "      <td>HEMOGLOBIN</td>\n",
       "      <td>10.5</td>\n",
       "    </tr>\n",
       "    <tr>\n",
       "      <th>3</th>\n",
       "      <td>3</td>\n",
       "      <td>145834</td>\n",
       "      <td>211552</td>\n",
       "      <td>2101-10-23 03:45:00</td>\n",
       "      <td>INR</td>\n",
       "      <td>1.5</td>\n",
       "    </tr>\n",
       "    <tr>\n",
       "      <th>4</th>\n",
       "      <td>3</td>\n",
       "      <td>145834</td>\n",
       "      <td>211552</td>\n",
       "      <td>2101-10-23 03:45:00</td>\n",
       "      <td>PLATELET</td>\n",
       "      <td>133.0</td>\n",
       "    </tr>\n",
       "  </tbody>\n",
       "</table>\n",
       "</div>"
      ],
      "text/plain": [
       "   subject_id  hadm_id  icustay_id           charttime       label  valuenum\n",
       "0           3   145834      211552 2101-10-23 03:45:00       TROPI      18.6\n",
       "1           3   145834      211552 2101-10-23 03:45:00  HEMATOCRIT      30.9\n",
       "2           3   145834      211552 2101-10-23 03:45:00  HEMOGLOBIN      10.5\n",
       "3           3   145834      211552 2101-10-23 03:45:00         INR       1.5\n",
       "4           3   145834      211552 2101-10-23 03:45:00    PLATELET     133.0"
      ]
     },
     "execution_count": 12,
     "metadata": {},
     "output_type": "execute_result"
    }
   ],
   "source": [
    "query = \\\n",
    "\"\"\"\n",
    "select * from labs;\n",
    "\"\"\"\n",
    "res = pd.read_sql_query(query, con)\n",
    "res.head()"
   ]
  },
  {
   "cell_type": "markdown",
   "metadata": {},
   "source": [
    "Check the lab first day and secondary outcomes scripts. "
   ]
  },
  {
   "cell_type": "code",
   "execution_count": 13,
   "metadata": {
    "collapsed": false
   },
   "outputs": [
    {
     "data": {
      "text/html": [
       "<div>\n",
       "<table border=\"1\" class=\"dataframe\">\n",
       "  <thead>\n",
       "    <tr style=\"text-align: right;\">\n",
       "      <th></th>\n",
       "      <th>subject_id</th>\n",
       "      <th>hadm_id</th>\n",
       "      <th>icustay_id</th>\n",
       "      <th>charttime</th>\n",
       "      <th>label</th>\n",
       "      <th>valuenum</th>\n",
       "      <th>intime</th>\n",
       "      <th>endtime</th>\n",
       "    </tr>\n",
       "  </thead>\n",
       "  <tbody>\n",
       "    <tr>\n",
       "      <th>0</th>\n",
       "      <td>3</td>\n",
       "      <td>145834</td>\n",
       "      <td>211552</td>\n",
       "      <td>2101-10-20 19:26:00</td>\n",
       "      <td>HEMATOCRIT</td>\n",
       "      <td>24.9</td>\n",
       "      <td>2101-10-20 19:10:11</td>\n",
       "      <td>2101-10-21 19:10:11</td>\n",
       "    </tr>\n",
       "    <tr>\n",
       "      <th>1</th>\n",
       "      <td>3</td>\n",
       "      <td>145834</td>\n",
       "      <td>211552</td>\n",
       "      <td>2101-10-20 19:26:00</td>\n",
       "      <td>HEMOGLOBIN</td>\n",
       "      <td>7.8</td>\n",
       "      <td>2101-10-20 19:10:11</td>\n",
       "      <td>2101-10-21 19:10:11</td>\n",
       "    </tr>\n",
       "    <tr>\n",
       "      <th>2</th>\n",
       "      <td>3</td>\n",
       "      <td>145834</td>\n",
       "      <td>211552</td>\n",
       "      <td>2101-10-20 19:26:00</td>\n",
       "      <td>INR</td>\n",
       "      <td>1.7</td>\n",
       "      <td>2101-10-20 19:10:11</td>\n",
       "      <td>2101-10-21 19:10:11</td>\n",
       "    </tr>\n",
       "    <tr>\n",
       "      <th>3</th>\n",
       "      <td>3</td>\n",
       "      <td>145834</td>\n",
       "      <td>211552</td>\n",
       "      <td>2101-10-20 19:26:00</td>\n",
       "      <td>PLATELET</td>\n",
       "      <td>190.0</td>\n",
       "      <td>2101-10-20 19:10:11</td>\n",
       "      <td>2101-10-21 19:10:11</td>\n",
       "    </tr>\n",
       "    <tr>\n",
       "      <th>4</th>\n",
       "      <td>3</td>\n",
       "      <td>145834</td>\n",
       "      <td>211552</td>\n",
       "      <td>2101-10-20 19:26:00</td>\n",
       "      <td>WBC</td>\n",
       "      <td>11.3</td>\n",
       "      <td>2101-10-20 19:10:11</td>\n",
       "      <td>2101-10-21 19:10:11</td>\n",
       "    </tr>\n",
       "  </tbody>\n",
       "</table>\n",
       "</div>"
      ],
      "text/plain": [
       "   subject_id  hadm_id  icustay_id           charttime       label  valuenum  \\\n",
       "0           3   145834      211552 2101-10-20 19:26:00  HEMATOCRIT      24.9   \n",
       "1           3   145834      211552 2101-10-20 19:26:00  HEMOGLOBIN       7.8   \n",
       "2           3   145834      211552 2101-10-20 19:26:00         INR       1.7   \n",
       "3           3   145834      211552 2101-10-20 19:26:00    PLATELET     190.0   \n",
       "4           3   145834      211552 2101-10-20 19:26:00         WBC      11.3   \n",
       "\n",
       "               intime             endtime  \n",
       "0 2101-10-20 19:10:11 2101-10-21 19:10:11  \n",
       "1 2101-10-20 19:10:11 2101-10-21 19:10:11  \n",
       "2 2101-10-20 19:10:11 2101-10-21 19:10:11  \n",
       "3 2101-10-20 19:10:11 2101-10-21 19:10:11  \n",
       "4 2101-10-20 19:10:11 2101-10-21 19:10:11  "
      ]
     },
     "execution_count": 13,
     "metadata": {},
     "output_type": "execute_result"
    }
   ],
   "source": [
    "query = \\\n",
    "\"\"\"\n",
    "SELECT ls.*, ic.intime, ic.intime + interval '24' hour as endtime \n",
    "FROM labs ls\n",
    "INNER JOIN icustays ic\n",
    "    ON ic.icustay_id = ls.icustay_id\n",
    "WHERE ls.charttime BETWEEN ic.intime and ic.intime + interval '24' hour\n",
    "\"\"\"\n",
    "res = pd.read_sql_query(query, con)\n",
    "res.head()"
   ]
  },
  {
   "cell_type": "code",
   "execution_count": 14,
   "metadata": {
    "collapsed": false
   },
   "outputs": [
    {
     "data": {
      "text/plain": [
       "51722"
      ]
     },
     "execution_count": 14,
     "metadata": {},
     "output_type": "execute_result"
    }
   ],
   "source": [
    "len(res.loc[res['label'] == 'CREATININE', 'icustay_id'].unique())"
   ]
  },
  {
   "cell_type": "markdown",
   "metadata": {},
   "source": [
    "Secondary outcomes: we want the max lab, and we want the last lab. \n",
    "\n",
    "To select max lab:"
   ]
  },
  {
   "cell_type": "code",
   "execution_count": 20,
   "metadata": {
    "collapsed": false
   },
   "outputs": [
    {
     "data": {
      "text/html": [
       "<div>\n",
       "<table border=\"1\" class=\"dataframe\">\n",
       "  <thead>\n",
       "    <tr style=\"text-align: right;\">\n",
       "      <th></th>\n",
       "      <th>icustay_id</th>\n",
       "      <th>label</th>\n",
       "      <th>max_valuenum</th>\n",
       "    </tr>\n",
       "  </thead>\n",
       "  <tbody>\n",
       "    <tr>\n",
       "      <th>0</th>\n",
       "      <td>200001</td>\n",
       "      <td>CREATININE</td>\n",
       "      <td>4.7</td>\n",
       "    </tr>\n",
       "    <tr>\n",
       "      <th>1</th>\n",
       "      <td>200003</td>\n",
       "      <td>CREATININE</td>\n",
       "      <td>1.0</td>\n",
       "    </tr>\n",
       "    <tr>\n",
       "      <th>2</th>\n",
       "      <td>200006</td>\n",
       "      <td>CREATININE</td>\n",
       "      <td>1.1</td>\n",
       "    </tr>\n",
       "    <tr>\n",
       "      <th>3</th>\n",
       "      <td>200007</td>\n",
       "      <td>CREATININE</td>\n",
       "      <td>0.9</td>\n",
       "    </tr>\n",
       "    <tr>\n",
       "      <th>4</th>\n",
       "      <td>200009</td>\n",
       "      <td>CREATININE</td>\n",
       "      <td>0.5</td>\n",
       "    </tr>\n",
       "  </tbody>\n",
       "</table>\n",
       "</div>"
      ],
      "text/plain": [
       "   icustay_id       label  max_valuenum\n",
       "0      200001  CREATININE           4.7\n",
       "1      200003  CREATININE           1.0\n",
       "2      200006  CREATININE           1.1\n",
       "3      200007  CREATININE           0.9\n",
       "4      200009  CREATININE           0.5"
      ]
     },
     "execution_count": 20,
     "metadata": {},
     "output_type": "execute_result"
    }
   ],
   "source": [
    "query = \\\n",
    "\"\"\"\n",
    "SELECT ls.icustay_id, ls.label\n",
    "    ,MAX(valuenum) AS max_valuenum\n",
    "FROM labs ls \n",
    "WHERE label = 'CREATININE'\n",
    "GROUP BY ls.icustay_id, label\n",
    "\"\"\"\n",
    "\n",
    "res = pd.read_sql_query(query, con)\n",
    "res.head()"
   ]
  },
  {
   "cell_type": "code",
   "execution_count": 21,
   "metadata": {
    "collapsed": false
   },
   "outputs": [
    {
     "data": {
      "text/plain": [
       "53775"
      ]
     },
     "execution_count": 21,
     "metadata": {},
     "output_type": "execute_result"
    }
   ],
   "source": [
    "len(res['icustay_id'].unique())"
   ]
  },
  {
   "cell_type": "markdown",
   "metadata": {},
   "source": [
    "And to select the last lab, in python:"
   ]
  },
  {
   "cell_type": "code",
   "execution_count": 28,
   "metadata": {
    "collapsed": false
   },
   "outputs": [
    {
     "data": {
      "text/html": [
       "<div>\n",
       "<table border=\"1\" class=\"dataframe\">\n",
       "  <thead>\n",
       "    <tr style=\"text-align: right;\">\n",
       "      <th></th>\n",
       "      <th>subject_id</th>\n",
       "      <th>hadm_id</th>\n",
       "      <th>icustay_id</th>\n",
       "      <th>charttime</th>\n",
       "      <th>label</th>\n",
       "      <th>valuenum</th>\n",
       "    </tr>\n",
       "  </thead>\n",
       "  <tbody>\n",
       "    <tr>\n",
       "      <th>0</th>\n",
       "      <td>3</td>\n",
       "      <td>145834</td>\n",
       "      <td>211552</td>\n",
       "      <td>2101-10-20 19:59:00</td>\n",
       "      <td>CREATININE</td>\n",
       "      <td>2.5</td>\n",
       "    </tr>\n",
       "    <tr>\n",
       "      <th>1</th>\n",
       "      <td>3</td>\n",
       "      <td>145834</td>\n",
       "      <td>211552</td>\n",
       "      <td>2101-10-20 19:26:00</td>\n",
       "      <td>CREATININE</td>\n",
       "      <td>2.4</td>\n",
       "    </tr>\n",
       "    <tr>\n",
       "      <th>2</th>\n",
       "      <td>3</td>\n",
       "      <td>145834</td>\n",
       "      <td>211552</td>\n",
       "      <td>2101-10-20 16:40:00</td>\n",
       "      <td>CREATININE</td>\n",
       "      <td>3.2</td>\n",
       "    </tr>\n",
       "    <tr>\n",
       "      <th>3</th>\n",
       "      <td>3</td>\n",
       "      <td>145834</td>\n",
       "      <td>211552</td>\n",
       "      <td>2101-10-22 04:00:00</td>\n",
       "      <td>CREATININE</td>\n",
       "      <td>1.9</td>\n",
       "    </tr>\n",
       "    <tr>\n",
       "      <th>4</th>\n",
       "      <td>3</td>\n",
       "      <td>145834</td>\n",
       "      <td>211552</td>\n",
       "      <td>2101-10-22 21:15:00</td>\n",
       "      <td>CREATININE</td>\n",
       "      <td>1.7</td>\n",
       "    </tr>\n",
       "  </tbody>\n",
       "</table>\n",
       "</div>"
      ],
      "text/plain": [
       "   subject_id  hadm_id  icustay_id           charttime       label  valuenum\n",
       "0           3   145834      211552 2101-10-20 19:59:00  CREATININE       2.5\n",
       "1           3   145834      211552 2101-10-20 19:26:00  CREATININE       2.4\n",
       "2           3   145834      211552 2101-10-20 16:40:00  CREATININE       3.2\n",
       "3           3   145834      211552 2101-10-22 04:00:00  CREATININE       1.9\n",
       "4           3   145834      211552 2101-10-22 21:15:00  CREATININE       1.7"
      ]
     },
     "execution_count": 28,
     "metadata": {},
     "output_type": "execute_result"
    }
   ],
   "source": [
    "query = \\\n",
    "\"\"\"\n",
    "SELECT * from labs\n",
    "WHERE label = 'CREATININE'\n",
    "\"\"\"\n",
    "\n",
    "labs = pd.read_sql_query(query, con)\n",
    "labs.head()"
   ]
  },
  {
   "cell_type": "code",
   "execution_count": 31,
   "metadata": {
    "collapsed": false
   },
   "outputs": [
    {
     "data": {
      "text/html": [
       "<div>\n",
       "<table border=\"1\" class=\"dataframe\">\n",
       "  <thead>\n",
       "    <tr style=\"text-align: right;\">\n",
       "      <th></th>\n",
       "      <th>subject_id</th>\n",
       "      <th>hadm_id</th>\n",
       "      <th>icustay_id</th>\n",
       "      <th>charttime</th>\n",
       "      <th>label</th>\n",
       "      <th>valuenum</th>\n",
       "    </tr>\n",
       "  </thead>\n",
       "  <tbody>\n",
       "    <tr>\n",
       "      <th>540136</th>\n",
       "      <td>55973</td>\n",
       "      <td>152234</td>\n",
       "      <td>200001</td>\n",
       "      <td>2181-12-04 05:58:00</td>\n",
       "      <td>CREATININE</td>\n",
       "      <td>3.5</td>\n",
       "    </tr>\n",
       "    <tr>\n",
       "      <th>388153</th>\n",
       "      <td>27513</td>\n",
       "      <td>163557</td>\n",
       "      <td>200003</td>\n",
       "      <td>2199-08-22 03:32:00</td>\n",
       "      <td>CREATININE</td>\n",
       "      <td>0.6</td>\n",
       "    </tr>\n",
       "    <tr>\n",
       "      <th>162817</th>\n",
       "      <td>10950</td>\n",
       "      <td>189514</td>\n",
       "      <td>200006</td>\n",
       "      <td>2159-09-05 08:30:00</td>\n",
       "      <td>CREATININE</td>\n",
       "      <td>0.8</td>\n",
       "    </tr>\n",
       "    <tr>\n",
       "      <th>306418</th>\n",
       "      <td>20707</td>\n",
       "      <td>129310</td>\n",
       "      <td>200007</td>\n",
       "      <td>2109-02-20 07:05:00</td>\n",
       "      <td>CREATININE</td>\n",
       "      <td>0.8</td>\n",
       "    </tr>\n",
       "    <tr>\n",
       "      <th>433598</th>\n",
       "      <td>29904</td>\n",
       "      <td>129607</td>\n",
       "      <td>200009</td>\n",
       "      <td>2189-12-05 06:55:00</td>\n",
       "      <td>CREATININE</td>\n",
       "      <td>0.5</td>\n",
       "    </tr>\n",
       "  </tbody>\n",
       "</table>\n",
       "</div>"
      ],
      "text/plain": [
       "        subject_id  hadm_id  icustay_id           charttime       label  \\\n",
       "540136       55973   152234      200001 2181-12-04 05:58:00  CREATININE   \n",
       "388153       27513   163557      200003 2199-08-22 03:32:00  CREATININE   \n",
       "162817       10950   189514      200006 2159-09-05 08:30:00  CREATININE   \n",
       "306418       20707   129310      200007 2109-02-20 07:05:00  CREATININE   \n",
       "433598       29904   129607      200009 2189-12-05 06:55:00  CREATININE   \n",
       "\n",
       "        valuenum  \n",
       "540136       3.5  \n",
       "388153       0.6  \n",
       "162817       0.8  \n",
       "306418       0.8  \n",
       "433598       0.5  "
      ]
     },
     "execution_count": 31,
     "metadata": {},
     "output_type": "execute_result"
    }
   ],
   "source": [
    "labs.sort_values('charttime', ascending = False).groupby('icustay_id').head(n = 1).sort_values('icustay_id').head()"
   ]
  },
  {
   "cell_type": "code",
   "execution_count": 26,
   "metadata": {
    "collapsed": false
   },
   "outputs": [
    {
     "data": {
      "text/html": [
       "<div>\n",
       "<table border=\"1\" class=\"dataframe\">\n",
       "  <thead>\n",
       "    <tr style=\"text-align: right;\">\n",
       "      <th></th>\n",
       "      <th>icustay_id</th>\n",
       "      <th>valuenum</th>\n",
       "      <th>charttime</th>\n",
       "    </tr>\n",
       "  </thead>\n",
       "  <tbody>\n",
       "    <tr>\n",
       "      <th>0</th>\n",
       "      <td>200001</td>\n",
       "      <td>3.5</td>\n",
       "      <td>2181-12-04 05:58:00</td>\n",
       "    </tr>\n",
       "    <tr>\n",
       "      <th>1</th>\n",
       "      <td>200003</td>\n",
       "      <td>0.6</td>\n",
       "      <td>2199-08-22 03:32:00</td>\n",
       "    </tr>\n",
       "    <tr>\n",
       "      <th>2</th>\n",
       "      <td>200006</td>\n",
       "      <td>0.8</td>\n",
       "      <td>2159-09-05 08:30:00</td>\n",
       "    </tr>\n",
       "    <tr>\n",
       "      <th>3</th>\n",
       "      <td>200007</td>\n",
       "      <td>0.8</td>\n",
       "      <td>2109-02-20 07:05:00</td>\n",
       "    </tr>\n",
       "    <tr>\n",
       "      <th>4</th>\n",
       "      <td>200009</td>\n",
       "      <td>0.5</td>\n",
       "      <td>2189-12-05 06:55:00</td>\n",
       "    </tr>\n",
       "  </tbody>\n",
       "</table>\n",
       "</div>"
      ],
      "text/plain": [
       "   icustay_id  valuenum           charttime\n",
       "0      200001       3.5 2181-12-04 05:58:00\n",
       "1      200003       0.6 2199-08-22 03:32:00\n",
       "2      200006       0.8 2159-09-05 08:30:00\n",
       "3      200007       0.8 2109-02-20 07:05:00\n",
       "4      200009       0.5 2189-12-05 06:55:00"
      ]
     },
     "execution_count": 26,
     "metadata": {},
     "output_type": "execute_result"
    }
   ],
   "source": [
    "query = \\\n",
    "\"\"\"\n",
    "SELECT DISTINCT ON (icustay_id) \n",
    "    ls.icustay_id, ls.valuenum, ls.charttime\n",
    "FROM labs ls\n",
    "WHERE label = 'CREATININE'\n",
    "ORDER BY icustay_id, charttime DESC\n",
    "LIMIT 10;\n",
    "\"\"\"\n",
    "\n",
    "res = pd.read_sql_query(query, con)\n",
    "res.head()"
   ]
  },
  {
   "cell_type": "markdown",
   "metadata": {},
   "source": [
    "Check lab values again."
   ]
  },
  {
   "cell_type": "code",
   "execution_count": 34,
   "metadata": {
    "collapsed": false
   },
   "outputs": [
    {
     "data": {
      "text/html": [
       "<div>\n",
       "<table border=\"1\" class=\"dataframe\">\n",
       "  <thead>\n",
       "    <tr style=\"text-align: right;\">\n",
       "      <th></th>\n",
       "      <th>icustay_id</th>\n",
       "      <th>hadm_id</th>\n",
       "      <th>subject_id</th>\n",
       "      <th>age</th>\n",
       "      <th>gender</th>\n",
       "      <th>height</th>\n",
       "      <th>weight</th>\n",
       "      <th>bmi</th>\n",
       "      <th>ethnicity</th>\n",
       "      <th>insurance</th>\n",
       "      <th>...</th>\n",
       "      <th>ea_tv_pulm_htn</th>\n",
       "      <th>ea_tv_tr</th>\n",
       "      <th>ea_lv_cavity</th>\n",
       "      <th>ea_lv_diastolic</th>\n",
       "      <th>ea_lv_systolic</th>\n",
       "      <th>ea_lv_wall</th>\n",
       "      <th>ea_rv_cavity</th>\n",
       "      <th>ea_rv_diastolic_fluid</th>\n",
       "      <th>ea_rv_systolic</th>\n",
       "      <th>ea_rv_wall</th>\n",
       "    </tr>\n",
       "  </thead>\n",
       "  <tbody>\n",
       "    <tr>\n",
       "      <th>0</th>\n",
       "      <td>200001</td>\n",
       "      <td>152234</td>\n",
       "      <td>55973</td>\n",
       "      <td>22290 days 19:06:12</td>\n",
       "      <td>F</td>\n",
       "      <td>170.18</td>\n",
       "      <td>27.669135</td>\n",
       "      <td>9.553853</td>\n",
       "      <td>ASIAN - ASIAN INDIAN</td>\n",
       "      <td>Medicare</td>\n",
       "      <td>...</td>\n",
       "      <td>NaN</td>\n",
       "      <td>NaN</td>\n",
       "      <td>NaN</td>\n",
       "      <td>NaN</td>\n",
       "      <td>NaN</td>\n",
       "      <td>NaN</td>\n",
       "      <td>NaN</td>\n",
       "      <td>NaN</td>\n",
       "      <td>NaN</td>\n",
       "      <td>NaN</td>\n",
       "    </tr>\n",
       "    <tr>\n",
       "      <th>1</th>\n",
       "      <td>200003</td>\n",
       "      <td>163557</td>\n",
       "      <td>27513</td>\n",
       "      <td>17625 days 19:50:04</td>\n",
       "      <td>M</td>\n",
       "      <td>NaN</td>\n",
       "      <td>78.224998</td>\n",
       "      <td>NaN</td>\n",
       "      <td>WHITE</td>\n",
       "      <td>Private</td>\n",
       "      <td>...</td>\n",
       "      <td>1.0</td>\n",
       "      <td>0.0</td>\n",
       "      <td>0.0</td>\n",
       "      <td>0.0</td>\n",
       "      <td>2.0</td>\n",
       "      <td>0.0</td>\n",
       "      <td>0.0</td>\n",
       "      <td>NaN</td>\n",
       "      <td>0.0</td>\n",
       "      <td>NaN</td>\n",
       "    </tr>\n",
       "    <tr>\n",
       "      <th>2</th>\n",
       "      <td>200006</td>\n",
       "      <td>189514</td>\n",
       "      <td>10950</td>\n",
       "      <td>19736 days 11:28:14</td>\n",
       "      <td>M</td>\n",
       "      <td>NaN</td>\n",
       "      <td>82.400002</td>\n",
       "      <td>NaN</td>\n",
       "      <td>OTHER</td>\n",
       "      <td>Medicaid</td>\n",
       "      <td>...</td>\n",
       "      <td>NaN</td>\n",
       "      <td>NaN</td>\n",
       "      <td>NaN</td>\n",
       "      <td>NaN</td>\n",
       "      <td>NaN</td>\n",
       "      <td>NaN</td>\n",
       "      <td>NaN</td>\n",
       "      <td>NaN</td>\n",
       "      <td>NaN</td>\n",
       "      <td>NaN</td>\n",
       "    </tr>\n",
       "    <tr>\n",
       "      <th>3</th>\n",
       "      <td>200007</td>\n",
       "      <td>129310</td>\n",
       "      <td>20707</td>\n",
       "      <td>15818 days 10:03:37</td>\n",
       "      <td>M</td>\n",
       "      <td>177.80</td>\n",
       "      <td>126.000000</td>\n",
       "      <td>39.857223</td>\n",
       "      <td>WHITE</td>\n",
       "      <td>Private</td>\n",
       "      <td>...</td>\n",
       "      <td>NaN</td>\n",
       "      <td>NaN</td>\n",
       "      <td>NaN</td>\n",
       "      <td>NaN</td>\n",
       "      <td>NaN</td>\n",
       "      <td>NaN</td>\n",
       "      <td>NaN</td>\n",
       "      <td>NaN</td>\n",
       "      <td>NaN</td>\n",
       "      <td>NaN</td>\n",
       "    </tr>\n",
       "    <tr>\n",
       "      <th>4</th>\n",
       "      <td>200009</td>\n",
       "      <td>129607</td>\n",
       "      <td>29904</td>\n",
       "      <td>17353 days 10:34:32</td>\n",
       "      <td>F</td>\n",
       "      <td>160.02</td>\n",
       "      <td>85.833331</td>\n",
       "      <td>33.520264</td>\n",
       "      <td>WHITE</td>\n",
       "      <td>Private</td>\n",
       "      <td>...</td>\n",
       "      <td>NaN</td>\n",
       "      <td>0.0</td>\n",
       "      <td>NaN</td>\n",
       "      <td>NaN</td>\n",
       "      <td>0.0</td>\n",
       "      <td>NaN</td>\n",
       "      <td>0.0</td>\n",
       "      <td>NaN</td>\n",
       "      <td>0.0</td>\n",
       "      <td>NaN</td>\n",
       "    </tr>\n",
       "  </tbody>\n",
       "</table>\n",
       "<p>5 rows × 113 columns</p>\n",
       "</div>"
      ],
      "text/plain": [
       "   icustay_id  hadm_id  subject_id                 age gender  height  \\\n",
       "0      200001   152234       55973 22290 days 19:06:12      F  170.18   \n",
       "1      200003   163557       27513 17625 days 19:50:04      M     NaN   \n",
       "2      200006   189514       10950 19736 days 11:28:14      M     NaN   \n",
       "3      200007   129310       20707 15818 days 10:03:37      M  177.80   \n",
       "4      200009   129607       29904 17353 days 10:34:32      F  160.02   \n",
       "\n",
       "       weight        bmi             ethnicity insurance     ...      \\\n",
       "0   27.669135   9.553853  ASIAN - ASIAN INDIAN  Medicare     ...       \n",
       "1   78.224998        NaN                 WHITE   Private     ...       \n",
       "2   82.400002        NaN                 OTHER  Medicaid     ...       \n",
       "3  126.000000  39.857223                 WHITE   Private     ...       \n",
       "4   85.833331  33.520264                 WHITE   Private     ...       \n",
       "\n",
       "   ea_tv_pulm_htn  ea_tv_tr  ea_lv_cavity  ea_lv_diastolic  ea_lv_systolic  \\\n",
       "0             NaN       NaN           NaN              NaN             NaN   \n",
       "1             1.0       0.0           0.0              0.0             2.0   \n",
       "2             NaN       NaN           NaN              NaN             NaN   \n",
       "3             NaN       NaN           NaN              NaN             NaN   \n",
       "4             NaN       0.0           NaN              NaN             0.0   \n",
       "\n",
       "   ea_lv_wall  ea_rv_cavity  ea_rv_diastolic_fluid  ea_rv_systolic  ea_rv_wall  \n",
       "0         NaN           NaN                    NaN             NaN         NaN  \n",
       "1         0.0           0.0                    NaN             0.0         NaN  \n",
       "2         NaN           NaN                    NaN             NaN         NaN  \n",
       "3         NaN           NaN                    NaN             NaN         NaN  \n",
       "4         NaN           0.0                    NaN             0.0         NaN  \n",
       "\n",
       "[5 rows x 113 columns]"
      ]
     },
     "execution_count": 34,
     "metadata": {},
     "output_type": "execute_result"
    }
   ],
   "source": [
    "query = \\\n",
    "\"\"\"\n",
    "select * from icu_features;\n",
    "\"\"\"\n",
    "res = pd.read_sql_query(query, con)\n",
    "res.head()"
   ]
  },
  {
   "cell_type": "code",
   "execution_count": 35,
   "metadata": {
    "collapsed": false
   },
   "outputs": [
    {
     "data": {
      "text/html": [
       "<div>\n",
       "<table border=\"1\" class=\"dataframe\">\n",
       "  <thead>\n",
       "    <tr style=\"text-align: right;\">\n",
       "      <th></th>\n",
       "      <th>lab_albumin</th>\n",
       "      <th>lab_bicarbonate</th>\n",
       "      <th>lab_ckmb</th>\n",
       "      <th>lab_creatinine</th>\n",
       "      <th>lab_crp</th>\n",
       "      <th>lab_egfr</th>\n",
       "      <th>lab_hematocrit</th>\n",
       "      <th>lab_inr</th>\n",
       "      <th>lab_lactate</th>\n",
       "      <th>lab_platelet</th>\n",
       "      <th>lab_ntprobnp</th>\n",
       "      <th>lab_ph</th>\n",
       "      <th>lab_tropi</th>\n",
       "      <th>lab_tropt</th>\n",
       "      <th>lab_wbc</th>\n",
       "    </tr>\n",
       "  </thead>\n",
       "  <tbody>\n",
       "    <tr>\n",
       "      <th>False</th>\n",
       "      <td>47515</td>\n",
       "      <td>8265</td>\n",
       "      <td>56046</td>\n",
       "      <td>9810</td>\n",
       "      <td>61049</td>\n",
       "      <td>61532.0</td>\n",
       "      <td>5511</td>\n",
       "      <td>20476</td>\n",
       "      <td>39227</td>\n",
       "      <td>6094</td>\n",
       "      <td>60801</td>\n",
       "      <td>29346</td>\n",
       "      <td>60579</td>\n",
       "      <td>50715</td>\n",
       "      <td>6260</td>\n",
       "    </tr>\n",
       "    <tr>\n",
       "      <th>True</th>\n",
       "      <td>14017</td>\n",
       "      <td>53267</td>\n",
       "      <td>5486</td>\n",
       "      <td>51722</td>\n",
       "      <td>483</td>\n",
       "      <td>NaN</td>\n",
       "      <td>56021</td>\n",
       "      <td>41056</td>\n",
       "      <td>22305</td>\n",
       "      <td>55438</td>\n",
       "      <td>731</td>\n",
       "      <td>32186</td>\n",
       "      <td>953</td>\n",
       "      <td>10817</td>\n",
       "      <td>55272</td>\n",
       "    </tr>\n",
       "  </tbody>\n",
       "</table>\n",
       "</div>"
      ],
      "text/plain": [
       "       lab_albumin  lab_bicarbonate  lab_ckmb  lab_creatinine  lab_crp  \\\n",
       "False        47515             8265     56046            9810    61049   \n",
       "True         14017            53267      5486           51722      483   \n",
       "\n",
       "       lab_egfr  lab_hematocrit  lab_inr  lab_lactate  lab_platelet  \\\n",
       "False   61532.0            5511    20476        39227          6094   \n",
       "True        NaN           56021    41056        22305         55438   \n",
       "\n",
       "       lab_ntprobnp  lab_ph  lab_tropi  lab_tropt  lab_wbc  \n",
       "False         60801   29346      60579      50715     6260  \n",
       "True            731   32186        953      10817    55272  "
      ]
     },
     "execution_count": 35,
     "metadata": {},
     "output_type": "execute_result"
    }
   ],
   "source": [
    "(~res[[c for c in res.columns if 'lab' in c]].isnull()).apply(lambda x: x.value_counts())"
   ]
  },
  {
   "cell_type": "code",
   "execution_count": 36,
   "metadata": {
    "collapsed": false
   },
   "outputs": [
    {
     "data": {
      "text/plain": [
       "True     53775\n",
       "False     7757\n",
       "Name: creatinine_last, dtype: int64"
      ]
     },
     "execution_count": 36,
     "metadata": {},
     "output_type": "execute_result"
    }
   ],
   "source": [
    "(~ res.creatinine_last.isnull()).value_counts()"
   ]
  },
  {
   "cell_type": "code",
   "execution_count": 37,
   "metadata": {
    "collapsed": false
   },
   "outputs": [
    {
     "data": {
      "text/plain": [
       "True     53775\n",
       "False     7757\n",
       "Name: creatinine_max, dtype: int64"
      ]
     },
     "execution_count": 37,
     "metadata": {},
     "output_type": "execute_result"
    }
   ],
   "source": [
    "(~ res.creatinine_max.isnull()).value_counts()"
   ]
  },
  {
   "cell_type": "markdown",
   "metadata": {},
   "source": [
    "Ok. That works now. Pull out prescriptions. "
   ]
  },
  {
   "cell_type": "code",
   "execution_count": 60,
   "metadata": {
    "collapsed": false
   },
   "outputs": [],
   "source": [
    "query = \\\n",
    "\"\"\"\n",
    "select distinct ps.drug, ps.drug_name_poe, ps.drug_name_generic from prescriptions ps\n",
    "where concat(ps.drug, ps.drug_name_poe, ps.drug_name_generic) ~* '.*epinephrine.*' OR \n",
    "concat(ps.drug, ps.drug_name_poe, ps.drug_name_generic) ~* '.*dopamine.*' OR \n",
    "concat(ps.drug, ps.drug_name_poe, ps.drug_name_generic) ~* '.*dopexamine.*'\n",
    "\"\"\"\n",
    "res = pd.read_sql_query(query, con)\n",
    "res.to_csv(\"inotropes.csv\")"
   ]
  },
  {
   "cell_type": "code",
   "execution_count": 61,
   "metadata": {
    "collapsed": false
   },
   "outputs": [],
   "source": [
    "query = \\\n",
    "\"\"\"\n",
    "select distinct ps.drug, ps.drug_name_poe, ps.drug_name_generic from prescriptions ps\n",
    "where concat(ps.drug, ps.drug_name_poe, ps.drug_name_generic) ~* '.*furosemide.*' OR \n",
    "concat(ps.drug, ps.drug_name_poe, ps.drug_name_generic) ~* '.*lasix.*' OR \n",
    "concat(ps.drug, ps.drug_name_poe, ps.drug_name_generic) ~* '.*bumetanide.*' OR\n",
    "concat(ps.drug, ps.drug_name_poe, ps.drug_name_generic) ~* '.*bumex.*' OR \n",
    "concat(ps.drug, ps.drug_name_poe, ps.drug_name_generic) ~* '.*ethacrynic.*' OR\n",
    "concat(ps.drug, ps.drug_name_poe, ps.drug_name_generic) ~* '.*edecrin.*' OR \n",
    "concat(ps.drug, ps.drug_name_poe, ps.drug_name_generic) ~* '.*torsemide.*' OR \n",
    "concat(ps.drug, ps.drug_name_poe, ps.drug_name_generic) ~* '.*demadex.*' OR \n",
    "concat(ps.drug, ps.drug_name_poe, ps.drug_name_generic) ~* '.*chlorothiazide.*' OR \n",
    "concat(ps.drug, ps.drug_name_poe, ps.drug_name_generic) ~* '.*diuril.*' OR\n",
    "concat(ps.drug, ps.drug_name_poe, ps.drug_name_generic) ~* '.*metolazone.*' OR \n",
    "concat(ps.drug, ps.drug_name_poe, ps.drug_name_generic) ~* '.*zaroxolyn.*'\n",
    "\"\"\"\n",
    "res = pd.read_sql_query(query, con)\n",
    "res.to_csv(\"diuretics.csv\")"
   ]
  },
  {
   "cell_type": "code",
   "execution_count": 67,
   "metadata": {
    "collapsed": false
   },
   "outputs": [
    {
     "data": {
      "text/html": [
       "<div>\n",
       "<table border=\"1\" class=\"dataframe\">\n",
       "  <thead>\n",
       "    <tr style=\"text-align: right;\">\n",
       "      <th></th>\n",
       "      <th>drug</th>\n",
       "      <th>drug_name_poe</th>\n",
       "      <th>drug_name_generic</th>\n",
       "    </tr>\n",
       "  </thead>\n",
       "  <tbody>\n",
       "    <tr>\n",
       "      <th>0</th>\n",
       "      <td>AcetaZOLAMIDE</td>\n",
       "      <td>AcetaZOLAMIDE</td>\n",
       "      <td>AcetaZOLAMIDE</td>\n",
       "    </tr>\n",
       "    <tr>\n",
       "      <th>1</th>\n",
       "      <td>AcetaZOLAMIDE</td>\n",
       "      <td>AcetaZOLAMIDE</td>\n",
       "      <td>AcetaZOLAMIDE S.R.</td>\n",
       "    </tr>\n",
       "    <tr>\n",
       "      <th>2</th>\n",
       "      <td>AcetaZOLAMIDE</td>\n",
       "      <td>AcetaZOLAMIDE</td>\n",
       "      <td>AcetaZOLAMIDE Sodium</td>\n",
       "    </tr>\n",
       "    <tr>\n",
       "      <th>3</th>\n",
       "      <td>AcetaZOLAMIDE Sodium</td>\n",
       "      <td>None</td>\n",
       "      <td>None</td>\n",
       "    </tr>\n",
       "    <tr>\n",
       "      <th>4</th>\n",
       "      <td>AcetaZOLamide</td>\n",
       "      <td>AcetaZOLamide</td>\n",
       "      <td>AcetaZOLamide</td>\n",
       "    </tr>\n",
       "  </tbody>\n",
       "</table>\n",
       "</div>"
      ],
      "text/plain": [
       "                   drug  drug_name_poe     drug_name_generic\n",
       "0         AcetaZOLAMIDE  AcetaZOLAMIDE         AcetaZOLAMIDE\n",
       "1         AcetaZOLAMIDE  AcetaZOLAMIDE    AcetaZOLAMIDE S.R.\n",
       "2         AcetaZOLAMIDE  AcetaZOLAMIDE  AcetaZOLAMIDE Sodium\n",
       "3  AcetaZOLAMIDE Sodium           None                  None\n",
       "4         AcetaZOLamide  AcetaZOLamide         AcetaZOLamide"
      ]
     },
     "execution_count": 67,
     "metadata": {},
     "output_type": "execute_result"
    }
   ],
   "source": [
    "query = \\\n",
    "\"\"\"\n",
    "select distinct ps.drug, ps.drug_name_poe, ps.drug_name_generic from prescriptions ps\n",
    "where concat(ps.drug, ps.drug_name_poe, ps.drug_name_generic) ~* '.*hydrochlorothiazide.*' OR \n",
    "concat(ps.drug, ps.drug_name_poe, ps.drug_name_generic) ~* '.*microzide.*' OR \n",
    "concat(ps.drug, ps.drug_name_poe, ps.drug_name_generic) ~* '.*bendroflumethiazide.*' OR\n",
    "concat(ps.drug, ps.drug_name_poe, ps.drug_name_generic) ~* '.*chlorthalidone.*' OR\n",
    "concat(ps.drug, ps.drug_name_poe, ps.drug_name_generic) ~* '.*acetazolamide.*' OR\n",
    "concat(ps.drug, ps.drug_name_poe, ps.drug_name_generic) ~* '.*diamox.*' OR\n",
    "concat(ps.drug, ps.drug_name_poe, ps.drug_name_generic) ~* '.*amiloride.*' OR\n",
    "concat(ps.drug, ps.drug_name_poe, ps.drug_name_generic) ~* '.*triamterene.*' OR\n",
    "concat(ps.drug, ps.drug_name_poe, ps.drug_name_generic) ~* '.*dyrenium.*' OR\n",
    "concat(ps.drug, ps.drug_name_poe, ps.drug_name_generic) ~* '.*spironolactone.*' OR\n",
    "concat(ps.drug, ps.drug_name_poe, ps.drug_name_generic) ~* '.*aldactone.*' OR\n",
    "concat(ps.drug, ps.drug_name_poe, ps.drug_name_generic) ~* '.*eplerenone.*' OR\n",
    "concat(ps.drug, ps.drug_name_poe, ps.drug_name_generic) ~* '.*inspra.*' \n",
    "\"\"\"\n",
    "res = pd.read_sql_query(query, con)\n",
    "res.to_csv(\"weak_diuretics.csv\")\n",
    "res.head()"
   ]
  },
  {
   "cell_type": "code",
   "execution_count": 70,
   "metadata": {
    "collapsed": false
   },
   "outputs": [
    {
     "data": {
      "text/html": [
       "<div>\n",
       "<table border=\"1\" class=\"dataframe\">\n",
       "  <thead>\n",
       "    <tr style=\"text-align: right;\">\n",
       "      <th></th>\n",
       "      <th>drug</th>\n",
       "      <th>drug_name_poe</th>\n",
       "      <th>drug_name_generic</th>\n",
       "    </tr>\n",
       "  </thead>\n",
       "  <tbody>\n",
       "    <tr>\n",
       "      <th>0</th>\n",
       "      <td>Anusol-HC</td>\n",
       "      <td>Anusol-HC</td>\n",
       "      <td>Hydrocortisone (Rectal) 2.5% Cream</td>\n",
       "    </tr>\n",
       "    <tr>\n",
       "      <th>1</th>\n",
       "      <td>Anusol-HC Suppository</td>\n",
       "      <td>Anusol-HC Suppository</td>\n",
       "      <td>Hydrocortisone Acetate Suppository</td>\n",
       "    </tr>\n",
       "    <tr>\n",
       "      <th>2</th>\n",
       "      <td>Cortef</td>\n",
       "      <td>Cortef</td>\n",
       "      <td>Cortef</td>\n",
       "    </tr>\n",
       "    <tr>\n",
       "      <th>3</th>\n",
       "      <td>Cortef</td>\n",
       "      <td>Cortef</td>\n",
       "      <td>Hydrocortisone</td>\n",
       "    </tr>\n",
       "    <tr>\n",
       "      <th>4</th>\n",
       "      <td>De</td>\n",
       "      <td>De</td>\n",
       "      <td>Dexamethasone Sod Phosphate</td>\n",
       "    </tr>\n",
       "  </tbody>\n",
       "</table>\n",
       "</div>"
      ],
      "text/plain": [
       "                    drug          drug_name_poe  \\\n",
       "0              Anusol-HC              Anusol-HC   \n",
       "1  Anusol-HC Suppository  Anusol-HC Suppository   \n",
       "2                 Cortef                 Cortef   \n",
       "3                 Cortef                 Cortef   \n",
       "4                     De                     De   \n",
       "\n",
       "                    drug_name_generic  \n",
       "0  Hydrocortisone (Rectal) 2.5% Cream  \n",
       "1  Hydrocortisone Acetate Suppository  \n",
       "2                              Cortef  \n",
       "3                      Hydrocortisone  \n",
       "4         Dexamethasone Sod Phosphate  "
      ]
     },
     "execution_count": 70,
     "metadata": {},
     "output_type": "execute_result"
    }
   ],
   "source": [
    "query = \\\n",
    "\"\"\"\n",
    "select distinct ps.drug, ps.drug_name_poe, ps.drug_name_generic from prescriptions ps\n",
    "where concat(ps.drug, ps.drug_name_poe, ps.drug_name_generic) ~* '.*hydrocortisone.*' OR \n",
    "concat(ps.drug, ps.drug_name_poe, ps.drug_name_generic) ~* '.*hydrocort.*' OR \n",
    "concat(ps.drug, ps.drug_name_poe, ps.drug_name_generic) ~* '.*cortef.*' OR \n",
    "concat(ps.drug, ps.drug_name_poe, ps.drug_name_generic) ~* '.*solucortef.*' OR \n",
    "concat(ps.drug, ps.drug_name_poe, ps.drug_name_generic) ~* '.*methylprednisolone.*' OR \n",
    "concat(ps.drug, ps.drug_name_poe, ps.drug_name_generic) ~* '.*solumedrol.*' OR \n",
    "concat(ps.drug, ps.drug_name_poe, ps.drug_name_generic) ~* '.*amethapred.*' OR \n",
    "concat(ps.drug, ps.drug_name_poe, ps.drug_name_generic) ~* '.*depomedrol.*' OR \n",
    "concat(ps.drug, ps.drug_name_poe, ps.drug_name_generic) ~* '.*prednisone.*' OR \n",
    "concat(ps.drug, ps.drug_name_poe, ps.drug_name_generic) ~* '.*deltasone.*' OR \n",
    "concat(ps.drug, ps.drug_name_poe, ps.drug_name_generic) ~* '.*prednisolone.*' OR \n",
    "concat(ps.drug, ps.drug_name_poe, ps.drug_name_generic) ~* '.*dexamethasone.*' OR \n",
    "concat(ps.drug, ps.drug_name_poe, ps.drug_name_generic) ~* '.*decadron.*' OR \n",
    "concat(ps.drug, ps.drug_name_poe, ps.drug_name_generic) ~* '.*fludrocortisone.*' OR \n",
    "concat(ps.drug, ps.drug_name_poe, ps.drug_name_generic) ~* '.*florinef.*'\n",
    "\"\"\"\n",
    "res = pd.read_sql_query(query, con)\n",
    "res.to_csv(\"steroids.csv\")\n",
    "res.head()"
   ]
  },
  {
   "cell_type": "code",
   "execution_count": 71,
   "metadata": {
    "collapsed": false
   },
   "outputs": [
    {
     "data": {
      "text/html": [
       "<div>\n",
       "<table border=\"1\" class=\"dataframe\">\n",
       "  <thead>\n",
       "    <tr style=\"text-align: right;\">\n",
       "      <th></th>\n",
       "      <th>drug</th>\n",
       "      <th>drug_name_poe</th>\n",
       "      <th>drug_name_generic</th>\n",
       "    </tr>\n",
       "  </thead>\n",
       "  <tbody>\n",
       "    <tr>\n",
       "      <th>0</th>\n",
       "      <td>Epoprostenol</td>\n",
       "      <td>None</td>\n",
       "      <td>None</td>\n",
       "    </tr>\n",
       "    <tr>\n",
       "      <th>1</th>\n",
       "      <td>Epoprostenol Na</td>\n",
       "      <td>None</td>\n",
       "      <td>None</td>\n",
       "    </tr>\n",
       "    <tr>\n",
       "      <th>2</th>\n",
       "      <td>Sterile Diluent for Flolan</td>\n",
       "      <td>None</td>\n",
       "      <td>None</td>\n",
       "    </tr>\n",
       "  </tbody>\n",
       "</table>\n",
       "</div>"
      ],
      "text/plain": [
       "                         drug drug_name_poe drug_name_generic\n",
       "0                Epoprostenol          None              None\n",
       "1             Epoprostenol Na          None              None\n",
       "2  Sterile Diluent for Flolan          None              None"
      ]
     },
     "execution_count": 71,
     "metadata": {},
     "output_type": "execute_result"
    }
   ],
   "source": [
    "query = \\\n",
    "\"\"\"\n",
    "select distinct ps.drug, ps.drug_name_poe, ps.drug_name_generic from prescriptions ps\n",
    "where concat(ps.drug, ps.drug_name_poe, ps.drug_name_generic) ~* '.*nitric oxide.*' OR\n",
    "concat(ps.drug, ps.drug_name_poe, ps.drug_name_generic) = 'NO' OR\n",
    "concat(ps.drug, ps.drug_name_poe, ps.drug_name_generic) ~* '.*epoprostenol.*' OR\n",
    "concat(ps.drug, ps.drug_name_poe, ps.drug_name_generic) ~* '.*flolan.*' OR\n",
    "concat(ps.drug, ps.drug_name_poe, ps.drug_name_generic) ~* '.*velitri.*'\n",
    "\"\"\"\n",
    "res = pd.read_sql_query(query, con)\n",
    "res.to_csv(\"inhaled_vasodilators.csv\")\n",
    "res.head()"
   ]
  },
  {
   "cell_type": "markdown",
   "metadata": {},
   "source": [
    "# Lab values"
   ]
  },
  {
   "cell_type": "code",
   "execution_count": 74,
   "metadata": {
    "collapsed": false
   },
   "outputs": [
    {
     "data": {
      "text/html": [
       "<div>\n",
       "<table border=\"1\" class=\"dataframe\">\n",
       "  <thead>\n",
       "    <tr style=\"text-align: right;\">\n",
       "      <th></th>\n",
       "      <th>lab_albumin</th>\n",
       "      <th>lab_bicarbonate</th>\n",
       "      <th>lab_ckmb</th>\n",
       "      <th>lab_creatinine</th>\n",
       "      <th>lab_crp</th>\n",
       "      <th>lab_hematocrit</th>\n",
       "      <th>lab_inr</th>\n",
       "      <th>lab_lactate</th>\n",
       "      <th>lab_platelet</th>\n",
       "      <th>lab_ntprobnp</th>\n",
       "      <th>lab_ph</th>\n",
       "      <th>lab_tropi</th>\n",
       "      <th>lab_tropt</th>\n",
       "      <th>lab_wbc</th>\n",
       "    </tr>\n",
       "  </thead>\n",
       "  <tbody>\n",
       "    <tr>\n",
       "      <th>count</th>\n",
       "      <td>14017.000000</td>\n",
       "      <td>53267.000000</td>\n",
       "      <td>5486.000000</td>\n",
       "      <td>51722.000000</td>\n",
       "      <td>483.00000</td>\n",
       "      <td>56021.000000</td>\n",
       "      <td>41056.000000</td>\n",
       "      <td>22305.000000</td>\n",
       "      <td>55438.000000</td>\n",
       "      <td>731.000000</td>\n",
       "      <td>32186.000000</td>\n",
       "      <td>953.000000</td>\n",
       "      <td>10817.000000</td>\n",
       "      <td>55272.000000</td>\n",
       "    </tr>\n",
       "    <tr>\n",
       "      <th>mean</th>\n",
       "      <td>3.035746</td>\n",
       "      <td>23.894740</td>\n",
       "      <td>6.856833</td>\n",
       "      <td>1.426740</td>\n",
       "      <td>75.27853</td>\n",
       "      <td>33.192976</td>\n",
       "      <td>1.503353</td>\n",
       "      <td>2.321195</td>\n",
       "      <td>224.720449</td>\n",
       "      <td>9287.860465</td>\n",
       "      <td>7.370334</td>\n",
       "      <td>7.932247</td>\n",
       "      <td>0.821191</td>\n",
       "      <td>12.173168</td>\n",
       "    </tr>\n",
       "    <tr>\n",
       "      <th>std</th>\n",
       "      <td>0.665250</td>\n",
       "      <td>4.500554</td>\n",
       "      <td>5.232243</td>\n",
       "      <td>1.541556</td>\n",
       "      <td>81.86170</td>\n",
       "      <td>7.249758</td>\n",
       "      <td>0.848735</td>\n",
       "      <td>1.904945</td>\n",
       "      <td>113.307401</td>\n",
       "      <td>12461.587347</td>\n",
       "      <td>0.073654</td>\n",
       "      <td>11.161581</td>\n",
       "      <td>2.243329</td>\n",
       "      <td>8.956761</td>\n",
       "    </tr>\n",
       "    <tr>\n",
       "      <th>min</th>\n",
       "      <td>1.000000</td>\n",
       "      <td>5.000000</td>\n",
       "      <td>0.100000</td>\n",
       "      <td>0.100000</td>\n",
       "      <td>0.12000</td>\n",
       "      <td>8.650000</td>\n",
       "      <td>0.600000</td>\n",
       "      <td>0.300000</td>\n",
       "      <td>6.000000</td>\n",
       "      <td>11.500000</td>\n",
       "      <td>6.740000</td>\n",
       "      <td>0.100000</td>\n",
       "      <td>0.010000</td>\n",
       "      <td>0.100000</td>\n",
       "    </tr>\n",
       "    <tr>\n",
       "      <th>25%</th>\n",
       "      <td>2.600000</td>\n",
       "      <td>21.000000</td>\n",
       "      <td>2.500000</td>\n",
       "      <td>0.700000</td>\n",
       "      <td>9.53000</td>\n",
       "      <td>28.250000</td>\n",
       "      <td>1.133333</td>\n",
       "      <td>1.275000</td>\n",
       "      <td>151.000000</td>\n",
       "      <td>1256.500000</td>\n",
       "      <td>7.335000</td>\n",
       "      <td>0.700000</td>\n",
       "      <td>0.040000</td>\n",
       "      <td>7.900000</td>\n",
       "    </tr>\n",
       "    <tr>\n",
       "      <th>50%</th>\n",
       "      <td>3.000000</td>\n",
       "      <td>24.000000</td>\n",
       "      <td>6.000000</td>\n",
       "      <td>0.933333</td>\n",
       "      <td>40.00000</td>\n",
       "      <td>31.700000</td>\n",
       "      <td>1.300000</td>\n",
       "      <td>1.800000</td>\n",
       "      <td>207.500000</td>\n",
       "      <td>4232.000000</td>\n",
       "      <td>7.376667</td>\n",
       "      <td>2.600000</td>\n",
       "      <td>0.110000</td>\n",
       "      <td>10.850000</td>\n",
       "    </tr>\n",
       "    <tr>\n",
       "      <th>75%</th>\n",
       "      <td>3.500000</td>\n",
       "      <td>26.000000</td>\n",
       "      <td>9.900000</td>\n",
       "      <td>1.400000</td>\n",
       "      <td>123.30000</td>\n",
       "      <td>36.325000</td>\n",
       "      <td>1.500000</td>\n",
       "      <td>2.666667</td>\n",
       "      <td>277.000000</td>\n",
       "      <td>12027.000000</td>\n",
       "      <td>7.415000</td>\n",
       "      <td>10.200000</td>\n",
       "      <td>0.450000</td>\n",
       "      <td>14.750000</td>\n",
       "    </tr>\n",
       "    <tr>\n",
       "      <th>max</th>\n",
       "      <td>6.300000</td>\n",
       "      <td>53.000000</td>\n",
       "      <td>65.800000</td>\n",
       "      <td>29.966667</td>\n",
       "      <td>299.90000</td>\n",
       "      <td>70.900000</td>\n",
       "      <td>32.400000</td>\n",
       "      <td>26.950000</td>\n",
       "      <td>1714.000000</td>\n",
       "      <td>68886.000000</td>\n",
       "      <td>7.695000</td>\n",
       "      <td>49.800000</td>\n",
       "      <td>26.800000</td>\n",
       "      <td>619.725000</td>\n",
       "    </tr>\n",
       "  </tbody>\n",
       "</table>\n",
       "</div>"
      ],
      "text/plain": [
       "        lab_albumin  lab_bicarbonate     lab_ckmb  lab_creatinine    lab_crp  \\\n",
       "count  14017.000000     53267.000000  5486.000000    51722.000000  483.00000   \n",
       "mean       3.035746        23.894740     6.856833        1.426740   75.27853   \n",
       "std        0.665250         4.500554     5.232243        1.541556   81.86170   \n",
       "min        1.000000         5.000000     0.100000        0.100000    0.12000   \n",
       "25%        2.600000        21.000000     2.500000        0.700000    9.53000   \n",
       "50%        3.000000        24.000000     6.000000        0.933333   40.00000   \n",
       "75%        3.500000        26.000000     9.900000        1.400000  123.30000   \n",
       "max        6.300000        53.000000    65.800000       29.966667  299.90000   \n",
       "\n",
       "       lab_hematocrit       lab_inr   lab_lactate  lab_platelet  lab_ntprobnp  \\\n",
       "count    56021.000000  41056.000000  22305.000000  55438.000000    731.000000   \n",
       "mean        33.192976      1.503353      2.321195    224.720449   9287.860465   \n",
       "std          7.249758      0.848735      1.904945    113.307401  12461.587347   \n",
       "min          8.650000      0.600000      0.300000      6.000000     11.500000   \n",
       "25%         28.250000      1.133333      1.275000    151.000000   1256.500000   \n",
       "50%         31.700000      1.300000      1.800000    207.500000   4232.000000   \n",
       "75%         36.325000      1.500000      2.666667    277.000000  12027.000000   \n",
       "max         70.900000     32.400000     26.950000   1714.000000  68886.000000   \n",
       "\n",
       "             lab_ph   lab_tropi     lab_tropt       lab_wbc  \n",
       "count  32186.000000  953.000000  10817.000000  55272.000000  \n",
       "mean       7.370334    7.932247      0.821191     12.173168  \n",
       "std        0.073654   11.161581      2.243329      8.956761  \n",
       "min        6.740000    0.100000      0.010000      0.100000  \n",
       "25%        7.335000    0.700000      0.040000      7.900000  \n",
       "50%        7.376667    2.600000      0.110000     10.850000  \n",
       "75%        7.415000   10.200000      0.450000     14.750000  \n",
       "max        7.695000   49.800000     26.800000    619.725000  "
      ]
     },
     "execution_count": 74,
     "metadata": {},
     "output_type": "execute_result"
    }
   ],
   "source": [
    "res[[c for c in res.columns if 'lab' in c]].describe()"
   ]
  },
  {
   "cell_type": "code",
   "execution_count": 77,
   "metadata": {
    "collapsed": false
   },
   "outputs": [
    {
     "data": {
      "text/plain": [
       "False    36995\n",
       "True     24537\n",
       "Name: height, dtype: int64"
      ]
     },
     "execution_count": 77,
     "metadata": {},
     "output_type": "execute_result"
    }
   ],
   "source": [
    "res['height'].isnull().value_counts()"
   ]
  },
  {
   "cell_type": "code",
   "execution_count": 78,
   "metadata": {
    "collapsed": false
   },
   "outputs": [
    {
     "data": {
      "text/plain": [
       "False    52770\n",
       "True      8762\n",
       "Name: weight, dtype: int64"
      ]
     },
     "execution_count": 78,
     "metadata": {},
     "output_type": "execute_result"
    }
   ],
   "source": [
    "res['weight'].isnull().value_counts()"
   ]
  },
  {
   "cell_type": "markdown",
   "metadata": {},
   "source": [
    "max(inr) = 12"
   ]
  }
 ],
 "metadata": {
  "anaconda-cloud": {},
  "kernelspec": {
   "display_name": "Python [conda env:patches]",
   "language": "python",
   "name": "conda-env-patches-py"
  },
  "language_info": {
   "codemirror_mode": {
    "name": "ipython",
    "version": 3
   },
   "file_extension": ".py",
   "mimetype": "text/x-python",
   "name": "python",
   "nbconvert_exporter": "python",
   "pygments_lexer": "ipython3",
   "version": "3.5.2"
  }
 },
 "nbformat": 4,
 "nbformat_minor": 2
}
