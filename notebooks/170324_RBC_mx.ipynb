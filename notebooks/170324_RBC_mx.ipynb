{
 "cells": [
  {
   "cell_type": "code",
   "execution_count": 1,
   "metadata": {
    "collapsed": true
   },
   "outputs": [],
   "source": [
    "import pandas as pd\n",
    "import numpy as np\n",
    "import psycopg2\n",
    "import matplotlib.pyplot as plt\n",
    "import seaborn as sns\n",
    "import scipy.special\n",
    "\n",
    "from bokeh.layouts import gridplot\n",
    "from bokeh.plotting import figure, show, output_file, output_notebook\n",
    "\n",
    "%matplotlib inline\n",
    "pd.set_option(\"display.max_colwidth\", 200)"
   ]
  },
  {
   "cell_type": "code",
   "execution_count": 2,
   "metadata": {
    "collapsed": false
   },
   "outputs": [
    {
     "ename": "OperationalError",
     "evalue": "could not connect to server: Connection refused (0x0000274D/10061)\n\tIs the server running on host \"localhost\" (::1) and accepting\n\tTCP/IP connections on port 5432?\ncould not connect to server: Connection refused (0x0000274D/10061)\n\tIs the server running on host \"localhost\" (127.0.0.1) and accepting\n\tTCP/IP connections on port 5432?\n",
     "output_type": "error",
     "traceback": [
      "\u001b[0;31m---------------------------------------------------------------------------\u001b[0m",
      "\u001b[0;31mOperationalError\u001b[0m                          Traceback (most recent call last)",
      "\u001b[0;32m<ipython-input-2-ac22ea7010cb>\u001b[0m in \u001b[0;36m<module>\u001b[0;34m()\u001b[0m\n\u001b[0;32m----> 1\u001b[0;31m \u001b[0mconn\u001b[0m \u001b[1;33m=\u001b[0m \u001b[0mpsycopg2\u001b[0m\u001b[1;33m.\u001b[0m\u001b[0mconnect\u001b[0m\u001b[1;33m(\u001b[0m\u001b[0mhost\u001b[0m\u001b[1;33m=\u001b[0m\u001b[1;34m\"localhost\"\u001b[0m\u001b[1;33m,\u001b[0m\u001b[0mdatabase\u001b[0m\u001b[1;33m=\u001b[0m\u001b[1;34m\"mimic\"\u001b[0m\u001b[1;33m,\u001b[0m \u001b[0muser\u001b[0m\u001b[1;33m=\u001b[0m\u001b[1;34m\"postgres\"\u001b[0m\u001b[1;33m,\u001b[0m \u001b[0mpassword\u001b[0m\u001b[1;33m=\u001b[0m\u001b[1;34m'postgres'\u001b[0m\u001b[1;33m,\u001b[0m \u001b[0mport\u001b[0m \u001b[1;33m=\u001b[0m \u001b[1;34m'5432'\u001b[0m\u001b[1;33m)\u001b[0m\u001b[1;33m\u001b[0m\u001b[0m\n\u001b[0m\u001b[1;32m      2\u001b[0m \u001b[0mcursor\u001b[0m \u001b[1;33m=\u001b[0m \u001b[0mconn\u001b[0m\u001b[1;33m.\u001b[0m\u001b[0mcursor\u001b[0m\u001b[1;33m(\u001b[0m\u001b[1;33m)\u001b[0m\u001b[1;33m\u001b[0m\u001b[0m\n",
      "\u001b[0;32mC:\\Program Files\\Anaconda3\\lib\\site-packages\\psycopg2\\__init__.py\u001b[0m in \u001b[0;36mconnect\u001b[0;34m(dsn, database, user, password, host, port, connection_factory, cursor_factory, async, **kwargs)\u001b[0m\n\u001b[1;32m    162\u001b[0m                 for (k, v) in items])\n\u001b[1;32m    163\u001b[0m \u001b[1;33m\u001b[0m\u001b[0m\n\u001b[0;32m--> 164\u001b[0;31m     \u001b[0mconn\u001b[0m \u001b[1;33m=\u001b[0m \u001b[0m_connect\u001b[0m\u001b[1;33m(\u001b[0m\u001b[0mdsn\u001b[0m\u001b[1;33m,\u001b[0m \u001b[0mconnection_factory\u001b[0m\u001b[1;33m=\u001b[0m\u001b[0mconnection_factory\u001b[0m\u001b[1;33m,\u001b[0m \u001b[0masync\u001b[0m\u001b[1;33m=\u001b[0m\u001b[0masync\u001b[0m\u001b[1;33m)\u001b[0m\u001b[1;33m\u001b[0m\u001b[0m\n\u001b[0m\u001b[1;32m    165\u001b[0m     \u001b[1;32mif\u001b[0m \u001b[0mcursor_factory\u001b[0m \u001b[1;32mis\u001b[0m \u001b[1;32mnot\u001b[0m \u001b[1;32mNone\u001b[0m\u001b[1;33m:\u001b[0m\u001b[1;33m\u001b[0m\u001b[0m\n\u001b[1;32m    166\u001b[0m         \u001b[0mconn\u001b[0m\u001b[1;33m.\u001b[0m\u001b[0mcursor_factory\u001b[0m \u001b[1;33m=\u001b[0m \u001b[0mcursor_factory\u001b[0m\u001b[1;33m\u001b[0m\u001b[0m\n",
      "\u001b[0;31mOperationalError\u001b[0m: could not connect to server: Connection refused (0x0000274D/10061)\n\tIs the server running on host \"localhost\" (::1) and accepting\n\tTCP/IP connections on port 5432?\ncould not connect to server: Connection refused (0x0000274D/10061)\n\tIs the server running on host \"localhost\" (127.0.0.1) and accepting\n\tTCP/IP connections on port 5432?\n"
     ]
    }
   ],
   "source": [
    "conn = psycopg2.connect(host=\"localhost\",database=\"mimic\", user=\"postgres\", password='postgres', port = '5432')\n",
    "cursor = conn.cursor()"
   ]
  },
  {
   "cell_type": "code",
   "execution_count": 16,
   "metadata": {
    "collapsed": false
   },
   "outputs": [],
   "source": [
    "sql = \"\"\"SELECT row_id, subject_id, hadm_id, icustay_id, charttime, itemid, amount, \n",
    "       amountuom, rate, rateuom, storetime, cgid, orderid, linkorderid, \n",
    "       stopped, newbottle, originalamount, originalamountuom, originalroute, \n",
    "       originalrate, originalrateuom, originalsite\n",
    "  FROM mimiciii.inputevents_cv\n",
    "  where itemid in (\n",
    "\t'30001'  --\tPacked RBC's\n",
    "\t,'30004'  --\tWashed PRBC's\n",
    "\t,'30179'  --\tPRBC's\n",
    "    )\n",
    "    and amount is not null and amount > 0 and amount < 15000\n",
    "\"\"\"\n",
    "df = pd.read_sql_query(sql, conn)\n"
   ]
  },
  {
   "cell_type": "code",
   "execution_count": 17,
   "metadata": {
    "collapsed": false
   },
   "outputs": [
    {
     "data": {
      "text/html": [
       "<div>\n",
       "<table border=\"1\" class=\"dataframe\">\n",
       "  <thead>\n",
       "    <tr style=\"text-align: right;\">\n",
       "      <th></th>\n",
       "      <th>row_id</th>\n",
       "      <th>subject_id</th>\n",
       "      <th>hadm_id</th>\n",
       "      <th>icustay_id</th>\n",
       "      <th>charttime</th>\n",
       "      <th>itemid</th>\n",
       "      <th>amount</th>\n",
       "      <th>amountuom</th>\n",
       "      <th>rate</th>\n",
       "      <th>rateuom</th>\n",
       "      <th>...</th>\n",
       "      <th>orderid</th>\n",
       "      <th>linkorderid</th>\n",
       "      <th>stopped</th>\n",
       "      <th>newbottle</th>\n",
       "      <th>originalamount</th>\n",
       "      <th>originalamountuom</th>\n",
       "      <th>originalroute</th>\n",
       "      <th>originalrate</th>\n",
       "      <th>originalrateuom</th>\n",
       "      <th>originalsite</th>\n",
       "    </tr>\n",
       "  </thead>\n",
       "  <tbody>\n",
       "    <tr>\n",
       "      <th>0</th>\n",
       "      <td>3313272</td>\n",
       "      <td>19842</td>\n",
       "      <td>121478.0</td>\n",
       "      <td>260484.0</td>\n",
       "      <td>2154-08-30 17:30:00</td>\n",
       "      <td>30001</td>\n",
       "      <td>375.0</td>\n",
       "      <td>ml</td>\n",
       "      <td>None</td>\n",
       "      <td>None</td>\n",
       "      <td>...</td>\n",
       "      <td>4611335</td>\n",
       "      <td>6084762</td>\n",
       "      <td>None</td>\n",
       "      <td>1.0</td>\n",
       "      <td>NaN</td>\n",
       "      <td>ml</td>\n",
       "      <td>Intravenous Push</td>\n",
       "      <td>NaN</td>\n",
       "      <td>None</td>\n",
       "      <td>None</td>\n",
       "    </tr>\n",
       "    <tr>\n",
       "      <th>1</th>\n",
       "      <td>3313273</td>\n",
       "      <td>13485</td>\n",
       "      <td>174408.0</td>\n",
       "      <td>232995.0</td>\n",
       "      <td>2143-09-27 08:30:00</td>\n",
       "      <td>30001</td>\n",
       "      <td>375.0</td>\n",
       "      <td>ml</td>\n",
       "      <td>None</td>\n",
       "      <td>None</td>\n",
       "      <td>...</td>\n",
       "      <td>8071721</td>\n",
       "      <td>8071721</td>\n",
       "      <td>None</td>\n",
       "      <td>NaN</td>\n",
       "      <td>NaN</td>\n",
       "      <td>ml</td>\n",
       "      <td>Intravenous Push</td>\n",
       "      <td>NaN</td>\n",
       "      <td>None</td>\n",
       "      <td>None</td>\n",
       "    </tr>\n",
       "    <tr>\n",
       "      <th>2</th>\n",
       "      <td>3313275</td>\n",
       "      <td>650</td>\n",
       "      <td>154910.0</td>\n",
       "      <td>250475.0</td>\n",
       "      <td>2109-10-18 11:45:00</td>\n",
       "      <td>30001</td>\n",
       "      <td>375.0</td>\n",
       "      <td>ml</td>\n",
       "      <td>None</td>\n",
       "      <td>None</td>\n",
       "      <td>...</td>\n",
       "      <td>3581632</td>\n",
       "      <td>3581632</td>\n",
       "      <td>None</td>\n",
       "      <td>NaN</td>\n",
       "      <td>NaN</td>\n",
       "      <td>ml</td>\n",
       "      <td>Intravenous Push</td>\n",
       "      <td>NaN</td>\n",
       "      <td>None</td>\n",
       "      <td>None</td>\n",
       "    </tr>\n",
       "    <tr>\n",
       "      <th>3</th>\n",
       "      <td>3313276</td>\n",
       "      <td>15411</td>\n",
       "      <td>150451.0</td>\n",
       "      <td>288783.0</td>\n",
       "      <td>2187-07-27 11:00:00</td>\n",
       "      <td>30001</td>\n",
       "      <td>375.0</td>\n",
       "      <td>ml</td>\n",
       "      <td>None</td>\n",
       "      <td>None</td>\n",
       "      <td>...</td>\n",
       "      <td>9164624</td>\n",
       "      <td>9164624</td>\n",
       "      <td>None</td>\n",
       "      <td>NaN</td>\n",
       "      <td>NaN</td>\n",
       "      <td>ml</td>\n",
       "      <td>Intravenous Push</td>\n",
       "      <td>NaN</td>\n",
       "      <td>None</td>\n",
       "      <td>None</td>\n",
       "    </tr>\n",
       "    <tr>\n",
       "      <th>4</th>\n",
       "      <td>3313277</td>\n",
       "      <td>22156</td>\n",
       "      <td>166025.0</td>\n",
       "      <td>228796.0</td>\n",
       "      <td>2109-09-13 11:00:00</td>\n",
       "      <td>30001</td>\n",
       "      <td>375.0</td>\n",
       "      <td>ml</td>\n",
       "      <td>None</td>\n",
       "      <td>None</td>\n",
       "      <td>...</td>\n",
       "      <td>7252710</td>\n",
       "      <td>7252710</td>\n",
       "      <td>None</td>\n",
       "      <td>NaN</td>\n",
       "      <td>NaN</td>\n",
       "      <td>ml</td>\n",
       "      <td>Intravenous Push</td>\n",
       "      <td>NaN</td>\n",
       "      <td>None</td>\n",
       "      <td>None</td>\n",
       "    </tr>\n",
       "  </tbody>\n",
       "</table>\n",
       "<p>5 rows × 22 columns</p>\n",
       "</div>"
      ],
      "text/plain": [
       "    row_id  subject_id   hadm_id  icustay_id           charttime  itemid  \\\n",
       "0  3313272       19842  121478.0    260484.0 2154-08-30 17:30:00   30001   \n",
       "1  3313273       13485  174408.0    232995.0 2143-09-27 08:30:00   30001   \n",
       "2  3313275         650  154910.0    250475.0 2109-10-18 11:45:00   30001   \n",
       "3  3313276       15411  150451.0    288783.0 2187-07-27 11:00:00   30001   \n",
       "4  3313277       22156  166025.0    228796.0 2109-09-13 11:00:00   30001   \n",
       "\n",
       "   amount amountuom  rate rateuom      ...       orderid  linkorderid  \\\n",
       "0   375.0        ml  None    None      ...       4611335      6084762   \n",
       "1   375.0        ml  None    None      ...       8071721      8071721   \n",
       "2   375.0        ml  None    None      ...       3581632      3581632   \n",
       "3   375.0        ml  None    None      ...       9164624      9164624   \n",
       "4   375.0        ml  None    None      ...       7252710      7252710   \n",
       "\n",
       "   stopped  newbottle originalamount  originalamountuom     originalroute  \\\n",
       "0     None        1.0            NaN                 ml  Intravenous Push   \n",
       "1     None        NaN            NaN                 ml  Intravenous Push   \n",
       "2     None        NaN            NaN                 ml  Intravenous Push   \n",
       "3     None        NaN            NaN                 ml  Intravenous Push   \n",
       "4     None        NaN            NaN                 ml  Intravenous Push   \n",
       "\n",
       "  originalrate originalrateuom  originalsite  \n",
       "0          NaN            None          None  \n",
       "1          NaN            None          None  \n",
       "2          NaN            None          None  \n",
       "3          NaN            None          None  \n",
       "4          NaN            None          None  \n",
       "\n",
       "[5 rows x 22 columns]"
      ]
     },
     "execution_count": 17,
     "metadata": {},
     "output_type": "execute_result"
    }
   ],
   "source": [
    "df.head()"
   ]
  },
  {
   "cell_type": "code",
   "execution_count": 3,
   "metadata": {
    "collapsed": false
   },
   "outputs": [
    {
     "ename": "NameError",
     "evalue": "name 'df' is not defined",
     "output_type": "error",
     "traceback": [
      "\u001b[0;31m---------------------------------------------------------------------------\u001b[0m",
      "\u001b[0;31mNameError\u001b[0m                                 Traceback (most recent call last)",
      "\u001b[0;32m<ipython-input-3-497381c8de45>\u001b[0m in \u001b[0;36m<module>\u001b[0;34m()\u001b[0m\n\u001b[0;32m----> 1\u001b[0;31m \u001b[0mdf\u001b[0m\u001b[1;33m[\u001b[0m\u001b[0mdf\u001b[0m\u001b[1;33m[\u001b[0m\u001b[1;34m'amount'\u001b[0m\u001b[1;33m]\u001b[0m\u001b[1;33m<\u001b[0m\u001b[1;36m10\u001b[0m\u001b[1;33m]\u001b[0m\u001b[1;33m.\u001b[0m\u001b[0mcount\u001b[0m\u001b[1;33m(\u001b[0m\u001b[1;33m)\u001b[0m \u001b[1;33m/\u001b[0m \u001b[0mdf\u001b[0m\u001b[1;33m.\u001b[0m\u001b[0mcount\u001b[0m\u001b[1;33m(\u001b[0m\u001b[1;33m)\u001b[0m\u001b[1;33m\u001b[0m\u001b[0m\n\u001b[0m",
      "\u001b[0;31mNameError\u001b[0m: name 'df' is not defined"
     ]
    }
   ],
   "source": [
    "df[df['amount']<10].count() / df.count()"
   ]
  },
  {
   "cell_type": "code",
   "execution_count": 19,
   "metadata": {
    "collapsed": false,
    "scrolled": true
   },
   "outputs": [
    {
     "data": {
      "text/plain": [
       "<matplotlib.axes._subplots.AxesSubplot at 0x109e1ef0>"
      ]
     },
     "execution_count": 19,
     "metadata": {},
     "output_type": "execute_result"
    },
    {
     "data": {
      "image/png": "[encoded data removed]",
      "text/plain": [
       "<matplotlib.figure.Figure at 0x107f3f60>"
      ]
     },
     "metadata": {},
     "output_type": "display_data"
    }
   ],
   "source": [
    "df.amount.hist(bins = 100)"
   ]
  },
  {
   "cell_type": "code",
   "execution_count": 20,
   "metadata": {
    "collapsed": false
   },
   "outputs": [
    {
     "data": {
      "text/plain": [
       "<matplotlib.axes._subplots.AxesSubplot at 0x10833c18>"
      ]
     },
     "execution_count": 20,
     "metadata": {},
     "output_type": "execute_result"
    },
    {
     "data": {
      "image/png": "[encoded data removed]",
      "text/plain": [
       "<matplotlib.figure.Figure at 0xe55bc50>"
      ]
     },
     "metadata": {},
     "output_type": "display_data"
    }
   ],
   "source": [
    "df[df['amount']<400].amount.hist(bins = 100)"
   ]
  },
  {
   "cell_type": "code",
   "execution_count": 23,
   "metadata": {
    "collapsed": false
   },
   "outputs": [
    {
     "data": {
      "text/plain": [
       "<matplotlib.axes._subplots.AxesSubplot at 0xfc65a20>"
      ]
     },
     "execution_count": 23,
     "metadata": {},
     "output_type": "execute_result"
    },
    {
     "data": {
      "image/png": "[encoded data removed]",
      "text/plain": [
       "<matplotlib.figure.Figure at 0x101753c8>"
      ]
     },
     "metadata": {},
     "output_type": "display_data"
    }
   ],
   "source": [
    "df[df['amount']<370].amount.hist(bins = 100)"
   ]
  },
  {
   "cell_type": "code",
   "execution_count": 21,
   "metadata": {
    "collapsed": false
   },
   "outputs": [
    {
     "data": {
      "text/plain": [
       "<matplotlib.axes._subplots.AxesSubplot at 0xfe0d898>"
      ]
     },
     "execution_count": 21,
     "metadata": {},
     "output_type": "execute_result"
    },
    {
     "data": {
      "image/png": "[encoded data removed]",
      "text/plain": [
       "<matplotlib.figure.Figure at 0xe9339e8>"
      ]
     },
     "metadata": {},
     "output_type": "display_data"
    }
   ],
   "source": [
    "# should some of these be in liters??? \n",
    "df[df['amount']<10].amount.hist(bins = 100)"
   ]
  },
  {
   "cell_type": "code",
   "execution_count": 28,
   "metadata": {
    "collapsed": false
   },
   "outputs": [
    {
     "data": {
      "text/plain": [
       "<matplotlib.axes._subplots.AxesSubplot at 0x13d1ddd8>"
      ]
     },
     "execution_count": 28,
     "metadata": {},
     "output_type": "execute_result"
    },
    {
     "data": {
      "image/png": "[encoded data removed]",
      "text/plain": [
       "<matplotlib.figure.Figure at 0x140fd828>"
      ]
     },
     "metadata": {},
     "output_type": "display_data"
    }
   ],
   "source": [
    "df[(df['amount'] > 10) & (df['amount']<360)].amount.hist(bins = 100)"
   ]
  },
  {
   "cell_type": "code",
   "execution_count": 29,
   "metadata": {
    "collapsed": true
   },
   "outputs": [],
   "source": [
    "sql = \"\"\"SELECT row_id, subject_id, hadm_id, icustay_id, starttime, endtime, \n",
    "       itemid, amount, amountuom, rate, rateuom, storetime, cgid, orderid, \n",
    "       linkorderid, ordercategoryname, secondaryordercategoryname, ordercomponenttypedescription, \n",
    "       ordercategorydescription, patientweight, totalamount, totalamountuom, \n",
    "       isopenbag, continueinnextdept, cancelreason, statusdescription, \n",
    "       comments_editedby, comments_canceledby, comments_date, originalamount, \n",
    "       originalrate\n",
    "  FROM mimiciii.inputevents_mv\n",
    "  where itemid in (\n",
    "  \t\t'225168' --\tPacked Red Blood Cells;\n",
    "  \t\t)\n",
    "        and amount > 0  -- amount can be negative, often for REWRITTEN orders.  \n",
    "\t\tand cancelreason = 0 -- some orders are cancelled\n",
    "\t\tand statusdescription != 'Rewritten'  -- not sure if this should be a filter.\n",
    "\t\tand ordercategoryname not like '%Pre Admission%' -- Pre Admission fluid can be very high and cover uncertain amount of time.  \n",
    "\t\tand icustay_id is not null\n",
    "        \"\"\"\n",
    "dfmv = pd.read_sql_query(sql, conn)"
   ]
  },
  {
   "cell_type": "code",
   "execution_count": 31,
   "metadata": {
    "collapsed": false
   },
   "outputs": [
    {
     "data": {
      "text/html": [
       "<div>\n",
       "<table border=\"1\" class=\"dataframe\">\n",
       "  <thead>\n",
       "    <tr style=\"text-align: right;\">\n",
       "      <th></th>\n",
       "      <th>row_id</th>\n",
       "      <th>subject_id</th>\n",
       "      <th>hadm_id</th>\n",
       "      <th>icustay_id</th>\n",
       "      <th>starttime</th>\n",
       "      <th>endtime</th>\n",
       "      <th>itemid</th>\n",
       "      <th>amount</th>\n",
       "      <th>amountuom</th>\n",
       "      <th>rate</th>\n",
       "      <th>...</th>\n",
       "      <th>totalamountuom</th>\n",
       "      <th>isopenbag</th>\n",
       "      <th>continueinnextdept</th>\n",
       "      <th>cancelreason</th>\n",
       "      <th>statusdescription</th>\n",
       "      <th>comments_editedby</th>\n",
       "      <th>comments_canceledby</th>\n",
       "      <th>comments_date</th>\n",
       "      <th>originalamount</th>\n",
       "      <th>originalrate</th>\n",
       "    </tr>\n",
       "  </thead>\n",
       "  <tbody>\n",
       "    <tr>\n",
       "      <th>0</th>\n",
       "      <td>79</td>\n",
       "      <td>30354</td>\n",
       "      <td>120396</td>\n",
       "      <td>243526</td>\n",
       "      <td>2154-12-25 12:10:00</td>\n",
       "      <td>2154-12-25 15:55:00</td>\n",
       "      <td>225168</td>\n",
       "      <td>374.999985</td>\n",
       "      <td>ml</td>\n",
       "      <td>99.999996</td>\n",
       "      <td>...</td>\n",
       "      <td>ml</td>\n",
       "      <td>0</td>\n",
       "      <td>0</td>\n",
       "      <td>0</td>\n",
       "      <td>FinishedRunning</td>\n",
       "      <td>None</td>\n",
       "      <td>None</td>\n",
       "      <td>None</td>\n",
       "      <td>375.0</td>\n",
       "      <td>100.0000</td>\n",
       "    </tr>\n",
       "    <tr>\n",
       "      <th>1</th>\n",
       "      <td>482</td>\n",
       "      <td>18082</td>\n",
       "      <td>181163</td>\n",
       "      <td>267692</td>\n",
       "      <td>2156-02-25 08:30:00</td>\n",
       "      <td>2156-02-25 11:30:00</td>\n",
       "      <td>225168</td>\n",
       "      <td>374.999994</td>\n",
       "      <td>ml</td>\n",
       "      <td>124.999998</td>\n",
       "      <td>...</td>\n",
       "      <td>ml</td>\n",
       "      <td>0</td>\n",
       "      <td>0</td>\n",
       "      <td>0</td>\n",
       "      <td>FinishedRunning</td>\n",
       "      <td>None</td>\n",
       "      <td>None</td>\n",
       "      <td>None</td>\n",
       "      <td>375.0</td>\n",
       "      <td>125.0000</td>\n",
       "    </tr>\n",
       "    <tr>\n",
       "      <th>2</th>\n",
       "      <td>1498</td>\n",
       "      <td>26780</td>\n",
       "      <td>117266</td>\n",
       "      <td>207673</td>\n",
       "      <td>2180-02-18 00:00:00</td>\n",
       "      <td>2180-02-18 02:19:00</td>\n",
       "      <td>225168</td>\n",
       "      <td>374.999982</td>\n",
       "      <td>ml</td>\n",
       "      <td>161.870496</td>\n",
       "      <td>...</td>\n",
       "      <td>ml</td>\n",
       "      <td>0</td>\n",
       "      <td>0</td>\n",
       "      <td>0</td>\n",
       "      <td>FinishedRunning</td>\n",
       "      <td>None</td>\n",
       "      <td>None</td>\n",
       "      <td>None</td>\n",
       "      <td>375.0</td>\n",
       "      <td>161.8705</td>\n",
       "    </tr>\n",
       "    <tr>\n",
       "      <th>3</th>\n",
       "      <td>1503</td>\n",
       "      <td>26780</td>\n",
       "      <td>117266</td>\n",
       "      <td>207673</td>\n",
       "      <td>2180-02-17 21:31:00</td>\n",
       "      <td>2180-02-17 23:50:00</td>\n",
       "      <td>225168</td>\n",
       "      <td>375.000024</td>\n",
       "      <td>ml</td>\n",
       "      <td>161.870514</td>\n",
       "      <td>...</td>\n",
       "      <td>ml</td>\n",
       "      <td>1</td>\n",
       "      <td>0</td>\n",
       "      <td>0</td>\n",
       "      <td>FinishedRunning</td>\n",
       "      <td>None</td>\n",
       "      <td>None</td>\n",
       "      <td>None</td>\n",
       "      <td>375.0</td>\n",
       "      <td>161.8705</td>\n",
       "    </tr>\n",
       "    <tr>\n",
       "      <th>4</th>\n",
       "      <td>2021</td>\n",
       "      <td>31605</td>\n",
       "      <td>127805</td>\n",
       "      <td>298189</td>\n",
       "      <td>2128-03-10 16:20:00</td>\n",
       "      <td>2128-03-10 17:15:00</td>\n",
       "      <td>225168</td>\n",
       "      <td>161.132812</td>\n",
       "      <td>ml</td>\n",
       "      <td>175.781250</td>\n",
       "      <td>...</td>\n",
       "      <td>ml</td>\n",
       "      <td>0</td>\n",
       "      <td>0</td>\n",
       "      <td>0</td>\n",
       "      <td>Stopped</td>\n",
       "      <td>None</td>\n",
       "      <td>None</td>\n",
       "      <td>None</td>\n",
       "      <td>375.0</td>\n",
       "      <td>175.0000</td>\n",
       "    </tr>\n",
       "  </tbody>\n",
       "</table>\n",
       "<p>5 rows × 31 columns</p>\n",
       "</div>"
      ],
      "text/plain": [
       "   row_id  subject_id  hadm_id  icustay_id           starttime  \\\n",
       "0      79       30354   120396      243526 2154-12-25 12:10:00   \n",
       "1     482       18082   181163      267692 2156-02-25 08:30:00   \n",
       "2    1498       26780   117266      207673 2180-02-18 00:00:00   \n",
       "3    1503       26780   117266      207673 2180-02-17 21:31:00   \n",
       "4    2021       31605   127805      298189 2128-03-10 16:20:00   \n",
       "\n",
       "              endtime  itemid      amount amountuom        rate      ...       \\\n",
       "0 2154-12-25 15:55:00  225168  374.999985        ml   99.999996      ...        \n",
       "1 2156-02-25 11:30:00  225168  374.999994        ml  124.999998      ...        \n",
       "2 2180-02-18 02:19:00  225168  374.999982        ml  161.870496      ...        \n",
       "3 2180-02-17 23:50:00  225168  375.000024        ml  161.870514      ...        \n",
       "4 2128-03-10 17:15:00  225168  161.132812        ml  175.781250      ...        \n",
       "\n",
       "  totalamountuom isopenbag  continueinnextdept  cancelreason  \\\n",
       "0             ml         0                   0             0   \n",
       "1             ml         0                   0             0   \n",
       "2             ml         0                   0             0   \n",
       "3             ml         1                   0             0   \n",
       "4             ml         0                   0             0   \n",
       "\n",
       "   statusdescription comments_editedby comments_canceledby comments_date  \\\n",
       "0    FinishedRunning              None                None          None   \n",
       "1    FinishedRunning              None                None          None   \n",
       "2    FinishedRunning              None                None          None   \n",
       "3    FinishedRunning              None                None          None   \n",
       "4            Stopped              None                None          None   \n",
       "\n",
       "  originalamount  originalrate  \n",
       "0          375.0      100.0000  \n",
       "1          375.0      125.0000  \n",
       "2          375.0      161.8705  \n",
       "3          375.0      161.8705  \n",
       "4          375.0      175.0000  \n",
       "\n",
       "[5 rows x 31 columns]"
      ]
     },
     "execution_count": 31,
     "metadata": {},
     "output_type": "execute_result"
    }
   ],
   "source": [
    "dfmv.head()"
   ]
  },
  {
   "cell_type": "code",
   "execution_count": 33,
   "metadata": {
    "collapsed": false
   },
   "outputs": [
    {
     "data": {
      "text/plain": [
       "<matplotlib.axes._subplots.AxesSubplot at 0x136bf1d0>"
      ]
     },
     "execution_count": 33,
     "metadata": {},
     "output_type": "execute_result"
    },
    {
     "data": {
      "image/png": "[encoded data removed]",
      "text/plain": [
       "<matplotlib.figure.Figure at 0x138a5e80>"
      ]
     },
     "metadata": {},
     "output_type": "display_data"
    }
   ],
   "source": [
    "dfmv.amount.hist(bins = 100)"
   ]
  },
  {
   "cell_type": "code",
   "execution_count": 38,
   "metadata": {
    "collapsed": false
   },
   "outputs": [
    {
     "data": {
      "text/plain": [
       "<matplotlib.axes._subplots.AxesSubplot at 0x163c5d30>"
      ]
     },
     "execution_count": 38,
     "metadata": {},
     "output_type": "execute_result"
    },
    {
     "data": {
      "image/png": "[encoded data removed]",
      "text/plain": [
       "<matplotlib.figure.Figure at 0x16873da0>"
      ]
     },
     "metadata": {},
     "output_type": "display_data"
    }
   ],
   "source": [
    "dfmv[dfmv['amount']<1000].amount.hist(bins = 100)"
   ]
  },
  {
   "cell_type": "code",
   "execution_count": 39,
   "metadata": {
    "collapsed": false
   },
   "outputs": [
    {
     "data": {
      "text/plain": [
       "<matplotlib.axes._subplots.AxesSubplot at 0x14237fd0>"
      ]
     },
     "execution_count": 39,
     "metadata": {},
     "output_type": "execute_result"
    },
    {
     "data": {
      "image/png": "[encoded data removed]",
      "text/plain": [
       "<matplotlib.figure.Figure at 0x1453f860>"
      ]
     },
     "metadata": {},
     "output_type": "display_data"
    }
   ],
   "source": [
    "dfmv[dfmv['amount']<350].amount.hist(bins = 100)"
   ]
  },
  {
   "cell_type": "code",
   "execution_count": null,
   "metadata": {
    "collapsed": true
   },
   "outputs": [],
   "source": []
  }
 ],
 "metadata": {
  "anaconda-cloud": {},
  "kernelspec": {
   "display_name": "Python [default]",
   "language": "python",
   "name": "python3"
  },
  "language_info": {
   "codemirror_mode": {
    "name": "ipython",
    "version": 3
   },
   "file_extension": ".py",
   "mimetype": "text/x-python",
   "name": "python",
   "nbconvert_exporter": "python",
   "pygments_lexer": "ipython3",
   "version": "3.5.2"
  }
 },
 "nbformat": 4,
 "nbformat_minor": 1
}
