{
 "cells": [
  {
   "cell_type": "code",
   "execution_count": 24,
   "metadata": {
    "collapsed": false
   },
   "outputs": [],
   "source": [
    "from __future__ import print_function\n",
    "import numpy as np\n",
    "import pandas as pd\n",
    "import copy\n",
    "\n",
    "import psycopg2\n",
    "\n",
    "import matplotlib.pyplot as plt\n",
    "import seaborn as sns\n",
    "sns.set_context('notebook', font_scale=1.2)\n",
    "\n",
    "import matplotlib.style\n",
    "matplotlib.style.use('ggplot')\n",
    "%matplotlib inline\n",
    "\n",
    "from IPython.display import display"
   ]
  },
  {
   "cell_type": "code",
   "execution_count": 2,
   "metadata": {
    "collapsed": true
   },
   "outputs": [],
   "source": [
    "# create a database connection\n",
    "sqluser = 'mimic'\n",
    "dbname = 'mimic'\n",
    "schema_name = 'mimiciii'\n",
    "\n",
    "cur = None"
   ]
  },
  {
   "cell_type": "code",
   "execution_count": 3,
   "metadata": {
    "collapsed": false
   },
   "outputs": [],
   "source": [
    "if cur: \n",
    "    cur.close()\n",
    "    con.close()\n",
    "\n",
    "con = psycopg2.connect(dbname = dbname, user = sqluser, host='/var/run/postgresql')\n",
    "cur = con.cursor()\n",
    "cur.execute('SET search_path to ' + schema_name)"
   ]
  },
  {
   "cell_type": "code",
   "execution_count": 4,
   "metadata": {
    "collapsed": false
   },
   "outputs": [
    {
     "data": {
      "text/html": [
       "<div>\n",
       "<table border=\"1\" class=\"dataframe\">\n",
       "  <thead>\n",
       "    <tr style=\"text-align: right;\">\n",
       "      <th></th>\n",
       "      <th>icustay_id</th>\n",
       "      <th>hadm_id</th>\n",
       "      <th>subject_id</th>\n",
       "      <th>age</th>\n",
       "      <th>gender</th>\n",
       "      <th>height</th>\n",
       "      <th>weight</th>\n",
       "      <th>ethnicity</th>\n",
       "      <th>insurance</th>\n",
       "      <th>filter_vaso</th>\n",
       "      <th>...</th>\n",
       "      <th>pc_bronch</th>\n",
       "      <th>pc_cath</th>\n",
       "      <th>pc_echo</th>\n",
       "      <th>pc_pressor</th>\n",
       "      <th>pc_rhc</th>\n",
       "      <th>pc_thora</th>\n",
       "      <th>pc_vent</th>\n",
       "      <th>passed_filters</th>\n",
       "      <th>use_record</th>\n",
       "      <th>bmi</th>\n",
       "    </tr>\n",
       "  </thead>\n",
       "  <tbody>\n",
       "    <tr>\n",
       "      <th>0</th>\n",
       "      <td>200001</td>\n",
       "      <td>152234</td>\n",
       "      <td>55973</td>\n",
       "      <td>22290 days 19:06:12</td>\n",
       "      <td>F</td>\n",
       "      <td>167.851667</td>\n",
       "      <td>27.669135</td>\n",
       "      <td>ASIAN - ASIAN INDIAN</td>\n",
       "      <td>Medicare</td>\n",
       "      <td>False</td>\n",
       "      <td>...</td>\n",
       "      <td>0.0</td>\n",
       "      <td>0.0</td>\n",
       "      <td>0.0</td>\n",
       "      <td>0.0</td>\n",
       "      <td>0.0</td>\n",
       "      <td>0.0</td>\n",
       "      <td>0.0</td>\n",
       "      <td>NaN</td>\n",
       "      <td>NaN</td>\n",
       "      <td>9.820741</td>\n",
       "    </tr>\n",
       "    <tr>\n",
       "      <th>1</th>\n",
       "      <td>200003</td>\n",
       "      <td>163557</td>\n",
       "      <td>27513</td>\n",
       "      <td>17625 days 19:50:04</td>\n",
       "      <td>M</td>\n",
       "      <td>177.800000</td>\n",
       "      <td>78.224998</td>\n",
       "      <td>WHITE</td>\n",
       "      <td>Private</td>\n",
       "      <td>False</td>\n",
       "      <td>...</td>\n",
       "      <td>0.0</td>\n",
       "      <td>0.0</td>\n",
       "      <td>0.0</td>\n",
       "      <td>0.0</td>\n",
       "      <td>0.0</td>\n",
       "      <td>0.0</td>\n",
       "      <td>0.0</td>\n",
       "      <td>1.0</td>\n",
       "      <td>1.0</td>\n",
       "      <td>24.744692</td>\n",
       "    </tr>\n",
       "    <tr>\n",
       "      <th>2</th>\n",
       "      <td>200006</td>\n",
       "      <td>189514</td>\n",
       "      <td>10950</td>\n",
       "      <td>19736 days 11:28:14</td>\n",
       "      <td>M</td>\n",
       "      <td>165.100000</td>\n",
       "      <td>82.400002</td>\n",
       "      <td>OTHER</td>\n",
       "      <td>Medicaid</td>\n",
       "      <td>False</td>\n",
       "      <td>...</td>\n",
       "      <td>NaN</td>\n",
       "      <td>NaN</td>\n",
       "      <td>NaN</td>\n",
       "      <td>NaN</td>\n",
       "      <td>NaN</td>\n",
       "      <td>NaN</td>\n",
       "      <td>NaN</td>\n",
       "      <td>NaN</td>\n",
       "      <td>NaN</td>\n",
       "      <td>30.229647</td>\n",
       "    </tr>\n",
       "    <tr>\n",
       "      <th>3</th>\n",
       "      <td>200007</td>\n",
       "      <td>129310</td>\n",
       "      <td>20707</td>\n",
       "      <td>15818 days 10:03:37</td>\n",
       "      <td>M</td>\n",
       "      <td>177.800000</td>\n",
       "      <td>126.000000</td>\n",
       "      <td>WHITE</td>\n",
       "      <td>Private</td>\n",
       "      <td>False</td>\n",
       "      <td>...</td>\n",
       "      <td>NaN</td>\n",
       "      <td>NaN</td>\n",
       "      <td>NaN</td>\n",
       "      <td>NaN</td>\n",
       "      <td>NaN</td>\n",
       "      <td>NaN</td>\n",
       "      <td>NaN</td>\n",
       "      <td>NaN</td>\n",
       "      <td>NaN</td>\n",
       "      <td>39.857223</td>\n",
       "    </tr>\n",
       "    <tr>\n",
       "      <th>4</th>\n",
       "      <td>200009</td>\n",
       "      <td>129607</td>\n",
       "      <td>29904</td>\n",
       "      <td>17353 days 10:34:32</td>\n",
       "      <td>F</td>\n",
       "      <td>160.020000</td>\n",
       "      <td>85.833331</td>\n",
       "      <td>WHITE</td>\n",
       "      <td>Private</td>\n",
       "      <td>False</td>\n",
       "      <td>...</td>\n",
       "      <td>0.0</td>\n",
       "      <td>0.0</td>\n",
       "      <td>0.0</td>\n",
       "      <td>0.0</td>\n",
       "      <td>0.0</td>\n",
       "      <td>0.0</td>\n",
       "      <td>0.0</td>\n",
       "      <td>NaN</td>\n",
       "      <td>NaN</td>\n",
       "      <td>33.520264</td>\n",
       "    </tr>\n",
       "  </tbody>\n",
       "</table>\n",
       "<p>5 rows × 152 columns</p>\n",
       "</div>"
      ],
      "text/plain": [
       "   icustay_id  hadm_id  subject_id                 age gender      height  \\\n",
       "0      200001   152234       55973 22290 days 19:06:12      F  167.851667   \n",
       "1      200003   163557       27513 17625 days 19:50:04      M  177.800000   \n",
       "2      200006   189514       10950 19736 days 11:28:14      M  165.100000   \n",
       "3      200007   129310       20707 15818 days 10:03:37      M  177.800000   \n",
       "4      200009   129607       29904 17353 days 10:34:32      F  160.020000   \n",
       "\n",
       "       weight             ethnicity insurance filter_vaso    ...      \\\n",
       "0   27.669135  ASIAN - ASIAN INDIAN  Medicare       False    ...       \n",
       "1   78.224998                 WHITE   Private       False    ...       \n",
       "2   82.400002                 OTHER  Medicaid       False    ...       \n",
       "3  126.000000                 WHITE   Private       False    ...       \n",
       "4   85.833331                 WHITE   Private       False    ...       \n",
       "\n",
       "  pc_bronch pc_cath pc_echo pc_pressor pc_rhc pc_thora pc_vent passed_filters  \\\n",
       "0       0.0     0.0     0.0        0.0    0.0      0.0     0.0            NaN   \n",
       "1       0.0     0.0     0.0        0.0    0.0      0.0     0.0            1.0   \n",
       "2       NaN     NaN     NaN        NaN    NaN      NaN     NaN            NaN   \n",
       "3       NaN     NaN     NaN        NaN    NaN      NaN     NaN            NaN   \n",
       "4       0.0     0.0     0.0        0.0    0.0      0.0     0.0            NaN   \n",
       "\n",
       "  use_record        bmi  \n",
       "0        NaN   9.820741  \n",
       "1        1.0  24.744692  \n",
       "2        NaN  30.229647  \n",
       "3        NaN  39.857223  \n",
       "4        NaN  33.520264  \n",
       "\n",
       "[5 rows x 152 columns]"
      ]
     },
     "execution_count": 4,
     "metadata": {},
     "output_type": "execute_result"
    }
   ],
   "source": [
    "query = \"\"\"\n",
    "SELECT * FROM icu_features\n",
    "\"\"\"\n",
    "ef = pd.read_sql_query(query, con)\n",
    "ef.head()"
   ]
  },
  {
   "cell_type": "code",
   "execution_count": 5,
   "metadata": {
    "collapsed": false
   },
   "outputs": [
    {
     "data": {
      "text/plain": [
       "61532"
      ]
     },
     "execution_count": 5,
     "metadata": {},
     "output_type": "execute_result"
    }
   ],
   "source": [
    "len(ef)"
   ]
  },
  {
   "cell_type": "code",
   "execution_count": 6,
   "metadata": {
    "collapsed": true
   },
   "outputs": [],
   "source": [
    "F = (ef['use_record'] == 1)"
   ]
  },
  {
   "cell_type": "code",
   "execution_count": 7,
   "metadata": {
    "collapsed": false
   },
   "outputs": [
    {
     "data": {
      "text/plain": [
       "9320"
      ]
     },
     "execution_count": 7,
     "metadata": {},
     "output_type": "execute_result"
    }
   ],
   "source": [
    "ef = ef.loc[F]\n",
    "len(ef)"
   ]
  },
  {
   "cell_type": "code",
   "execution_count": 9,
   "metadata": {
    "collapsed": false
   },
   "outputs": [
    {
     "data": {
      "text/plain": [
       " 0.0    2297\n",
       "-1.0     308\n",
       " 3.0     220\n",
       " 1.0     183\n",
       " 2.0     147\n",
       "-2.0      71\n",
       "-3.0      30\n",
       "Name: ea_lv_systolic, dtype: int64"
      ]
     },
     "execution_count": 9,
     "metadata": {},
     "output_type": "execute_result"
    }
   ],
   "source": [
    "ef.ea_lv_systolic.value_counts()"
   ]
  },
  {
   "cell_type": "markdown",
   "metadata": {},
   "source": [
    "## Extract the echo features table and time of death"
   ]
  },
  {
   "cell_type": "code",
   "execution_count": 21,
   "metadata": {
    "collapsed": false
   },
   "outputs": [
    {
     "data": {
      "text/plain": [
       "3686"
      ]
     },
     "execution_count": 21,
     "metadata": {},
     "output_type": "execute_result"
    }
   ],
   "source": [
    "had_echo = ~np.isnan(ef.ea_key)\n",
    "sum(had_echo)"
   ]
  },
  {
   "cell_type": "code",
   "execution_count": 34,
   "metadata": {
    "collapsed": true
   },
   "outputs": [],
   "source": [
    "tod = ef.dod - ef.intime"
   ]
  },
  {
   "cell_type": "code",
   "execution_count": 10,
   "metadata": {
    "collapsed": false
   },
   "outputs": [],
   "source": [
    "cols = [col for col in ef.columns if col.startswith('ea_')]"
   ]
  },
  {
   "cell_type": "code",
   "execution_count": 27,
   "metadata": {
    "collapsed": false
   },
   "outputs": [],
   "source": [
    "features = copy.copy(cols)\n",
    "features.remove('ea_hadm_id')\n",
    "features.remove('ea_new_time')\n",
    "features.remove('ea_key')\n",
    "features.remove('ea_height')\n",
    "features.remove('ea_weight')\n",
    "features.remove('ea_sys')\n",
    "features.remove('ea_diastolic')\n",
    "features.remove('ea_hr')"
   ]
  },
  {
   "cell_type": "code",
   "execution_count": 29,
   "metadata": {
    "collapsed": false
   },
   "outputs": [
    {
     "name": "stdout",
     "output_type": "stream",
     "text": [
      "ea_tv_pulm_htn [  1.  nan  -3.   3.   0.   2. -50.]\n",
      "ea_tv_regurgitation [  0.  nan  -3.   3.   1.   2.  -2. -50.]\n",
      "ea_tv_stenosis [  0.  nan  -3.   1.   2.]\n",
      "ea_lv_cavity [  0.  nan  -1.   2.   3.   1.  -3.  -2. -50.]\n",
      "ea_lv_diastolic [  0.  nan  -2.   3.   2.  -3.   1.]\n",
      "ea_lv_systolic [  2.  nan   0.  -2.  -1.   1.   3.  -3.]\n",
      "ea_lv_wall [  0.  nan   1.   2.   3.  -2.  -3.]\n",
      "ea_rv_cavity [  0.  nan  -2.   2.   1.  -1.  -3. -50.]\n",
      "ea_rv_volume_overload [ nan  -3.   1.]\n",
      "ea_rv_systolic [  0.  nan   2.   1.   3.  -2.  -3. -50.]\n",
      "ea_rv_wall [ nan  -3.   0.   1.]\n",
      "ea_av_regurgitation [  0.  nan   1.   2.   3.  -3.  -2.]\n",
      "ea_av_stenosis [  0.  nan   1.   3.   2.  -3.  -2.]\n",
      "ea_mv_regurgitation [  0.  nan   1.  -2.   2.   3. -50.]\n",
      "ea_mv_stenosis [  0.  nan  -3.   1.   2.]\n",
      "ea_la_cavity [  0.  nan   2.   1.  -2.   3.  -3. -50.]\n",
      "ea_ra_dilated [  0.  nan   1.]\n",
      "ea_ra_pressure [ nan   0.  -3.   2.   1.]\n"
     ]
    }
   ],
   "source": [
    "for name in features:\n",
    "    print(name, ef[name].unique())"
   ]
  },
  {
   "cell_type": "code",
   "execution_count": 31,
   "metadata": {
    "collapsed": true
   },
   "outputs": [],
   "source": [
    "X = ef[features].copy()\n",
    "X[np.isnan(X)] = -9\n",
    "X = X.astype(np.int32)"
   ]
  },
  {
   "cell_type": "code",
   "execution_count": 32,
   "metadata": {
    "collapsed": false
   },
   "outputs": [
    {
     "name": "stdout",
     "output_type": "stream",
     "text": [
      "ea_tv_pulm_htn [  1  -9  -3   3   0   2 -50]\n",
      "ea_tv_regurgitation [  0  -9  -3   3   1   2  -2 -50]\n",
      "ea_tv_stenosis [ 0 -9 -3  1  2]\n",
      "ea_lv_cavity [  0  -9  -1   2   3   1  -3  -2 -50]\n",
      "ea_lv_diastolic [ 0 -9 -2  3  2 -3  1]\n",
      "ea_lv_systolic [ 2 -9  0 -2 -1  1  3 -3]\n",
      "ea_lv_wall [ 0 -9  1  2  3 -2 -3]\n",
      "ea_rv_cavity [  0  -9  -2   2   1  -1  -3 -50]\n",
      "ea_rv_volume_overload [-9 -3  1]\n",
      "ea_rv_systolic [  0  -9   2   1   3  -2  -3 -50]\n",
      "ea_rv_wall [-9 -3  0  1]\n",
      "ea_av_regurgitation [ 0 -9  1  2  3 -3 -2]\n",
      "ea_av_stenosis [ 0 -9  1  3  2 -3 -2]\n",
      "ea_mv_regurgitation [  0  -9   1  -2   2   3 -50]\n",
      "ea_mv_stenosis [ 0 -9 -3  1  2]\n",
      "ea_la_cavity [  0  -9   2   1  -2   3  -3 -50]\n",
      "ea_ra_dilated [ 0 -9  1]\n",
      "ea_ra_pressure [-9  0 -3  2  1]\n"
     ]
    }
   ],
   "source": [
    "for name in features:\n",
    "    print(name, X[name].unique())"
   ]
  },
  {
   "cell_type": "code",
   "execution_count": 37,
   "metadata": {
    "collapsed": false
   },
   "outputs": [
    {
     "name": "stdout",
     "output_type": "stream",
     "text": [
      "ea_tv_pulm_htn [  1  -9  -3   3   0   2 -50]\n",
      "ea_tv_regurgitation [  0  -9  -3   3   1   2  -2 -50]\n",
      "ea_tv_stenosis [ 0 -9 -3  1  2]\n",
      "ea_lv_cavity [  0  -9  -1   2   3   1  -3  -2 -50]\n",
      "ea_lv_diastolic [ 0 -9 -2  3  2 -3  1]\n",
      "ea_lv_systolic [ 2  0 -2 -9 -1  1  3 -3]\n",
      "ea_lv_wall [ 0  1 -9  2  3 -2 -3]\n",
      "ea_rv_cavity [  0  -2   2   1  -9  -1  -3 -50]\n",
      "ea_rv_volume_overload [-9 -3  1]\n",
      "ea_rv_systolic [  0  -9   2   1   3  -2  -3 -50]\n",
      "ea_rv_wall [-9 -3  0  1]\n",
      "ea_av_regurgitation [ 0  1 -9  2  3 -3 -2]\n",
      "ea_av_stenosis [ 0 -9  1  3  2 -3 -2]\n",
      "ea_mv_regurgitation [  0  -9   1  -2   2   3 -50]\n",
      "ea_mv_stenosis [ 0 -9 -3  1  2]\n",
      "ea_la_cavity [  0  -9   2   1  -2   3  -3 -50]\n",
      "ea_ra_dilated [ 0  1 -9]\n",
      "ea_ra_pressure [-9  0 -3  2  1]\n"
     ]
    }
   ],
   "source": [
    "for name in features:\n",
    "    print(name, X.loc[had_echo][name].unique())"
   ]
  },
  {
   "cell_type": "code",
   "execution_count": 36,
   "metadata": {
    "collapsed": false
   },
   "outputs": [
    {
     "data": {
      "text/plain": [
       "0.2811158798283262"
      ]
     },
     "execution_count": 36,
     "metadata": {},
     "output_type": "execute_result"
    }
   ],
   "source": [
    "y = tod < np.timedelta64(30, 'D')\n",
    "y.mean()"
   ]
  },
  {
   "cell_type": "markdown",
   "metadata": {},
   "source": [
    "## Pairwise mutual information between echo features and outcome"
   ]
  },
  {
   "cell_type": "code",
   "execution_count": 38,
   "metadata": {
    "collapsed": true
   },
   "outputs": [],
   "source": [
    "from collections import Counter"
   ]
  },
  {
   "cell_type": "code",
   "execution_count": 75,
   "metadata": {
    "collapsed": true
   },
   "outputs": [],
   "source": [
    "def mutual_information(x, y):\n",
    "    px = x.value_counts()\n",
    "    px /= px.sum()\n",
    "    py = y.value_counts()\n",
    "    py /= py.sum()\n",
    "    pxy = pd.Series(zip(x, y)).value_counts()\n",
    "    pxy /= pxy.sum()\n",
    "    \n",
    "    MI = 0\n",
    "    for v1, v2 in pxy.index:\n",
    "        MI += pxy[(v1,v2)]*(np.log(pxy[(v1,v2)]) - np.log(px[v1]) - np.log(py[v2]))\n",
    "    return MI\n",
    "    "
   ]
  },
  {
   "cell_type": "code",
   "execution_count": 76,
   "metadata": {
    "collapsed": true
   },
   "outputs": [],
   "source": [
    "def pairwise_MI(x):\n",
    "    MI = {}\n",
    "    columns = x.columns\n",
    "    for i in range(len(columns)):\n",
    "        k1 = columns[i]\n",
    "        for j in range(i, len(columns)):\n",
    "            k2 = columns[j]\n",
    "            pMI = mutual_information(x[k1], x[k2])\n",
    "            d = MI.get(k1, {})\n",
    "            d[k2] = pMI\n",
    "            MI[k1] = d\n",
    "            d = MI.get(k2, {})\n",
    "            d[k1] = pMI\n",
    "            MI[k2] = d\n",
    "    return pd.DataFrame(MI)\n"
   ]
  },
  {
   "cell_type": "code",
   "execution_count": 77,
   "metadata": {
    "collapsed": false
   },
   "outputs": [],
   "source": [
    "mutual_info = pairwise_MI(X.loc[had_echo])"
   ]
  },
  {
   "cell_type": "code",
   "execution_count": 78,
   "metadata": {
    "collapsed": false
   },
   "outputs": [
    {
     "data": {
      "text/html": [
       "<div>\n",
       "<table border=\"1\" class=\"dataframe\">\n",
       "  <thead>\n",
       "    <tr style=\"text-align: right;\">\n",
       "      <th></th>\n",
       "      <th>ea_av_regurgitation</th>\n",
       "      <th>ea_av_stenosis</th>\n",
       "      <th>ea_la_cavity</th>\n",
       "      <th>ea_lv_cavity</th>\n",
       "      <th>ea_lv_diastolic</th>\n",
       "      <th>ea_lv_systolic</th>\n",
       "      <th>ea_lv_wall</th>\n",
       "      <th>ea_mv_regurgitation</th>\n",
       "      <th>ea_mv_stenosis</th>\n",
       "      <th>ea_ra_dilated</th>\n",
       "      <th>ea_ra_pressure</th>\n",
       "      <th>ea_rv_cavity</th>\n",
       "      <th>ea_rv_systolic</th>\n",
       "      <th>ea_rv_volume_overload</th>\n",
       "      <th>ea_rv_wall</th>\n",
       "      <th>ea_tv_pulm_htn</th>\n",
       "      <th>ea_tv_regurgitation</th>\n",
       "      <th>ea_tv_stenosis</th>\n",
       "    </tr>\n",
       "  </thead>\n",
       "  <tbody>\n",
       "    <tr>\n",
       "      <th>ea_av_regurgitation</th>\n",
       "      <td>1.142125</td>\n",
       "      <td>0.148522</td>\n",
       "      <td>0.053263</td>\n",
       "      <td>0.029501</td>\n",
       "      <td>0.015605</td>\n",
       "      <td>0.022270</td>\n",
       "      <td>0.046235</td>\n",
       "      <td>0.121585</td>\n",
       "      <td>0.038405</td>\n",
       "      <td>0.023631</td>\n",
       "      <td>0.007572</td>\n",
       "      <td>0.022865</td>\n",
       "      <td>0.028220</td>\n",
       "      <td>0.001806</td>\n",
       "      <td>0.003164</td>\n",
       "      <td>0.056177</td>\n",
       "      <td>0.069749</td>\n",
       "      <td>0.028381</td>\n",
       "    </tr>\n",
       "    <tr>\n",
       "      <th>ea_av_stenosis</th>\n",
       "      <td>0.148522</td>\n",
       "      <td>0.963050</td>\n",
       "      <td>0.055912</td>\n",
       "      <td>0.030310</td>\n",
       "      <td>0.025060</td>\n",
       "      <td>0.022313</td>\n",
       "      <td>0.069378</td>\n",
       "      <td>0.065738</td>\n",
       "      <td>0.060144</td>\n",
       "      <td>0.018748</td>\n",
       "      <td>0.011404</td>\n",
       "      <td>0.021316</td>\n",
       "      <td>0.031588</td>\n",
       "      <td>0.002784</td>\n",
       "      <td>0.004594</td>\n",
       "      <td>0.070689</td>\n",
       "      <td>0.048536</td>\n",
       "      <td>0.035148</td>\n",
       "    </tr>\n",
       "    <tr>\n",
       "      <th>ea_la_cavity</th>\n",
       "      <td>0.053263</td>\n",
       "      <td>0.055912</td>\n",
       "      <td>1.514633</td>\n",
       "      <td>0.094403</td>\n",
       "      <td>0.019562</td>\n",
       "      <td>0.027715</td>\n",
       "      <td>0.104597</td>\n",
       "      <td>0.067110</td>\n",
       "      <td>0.026003</td>\n",
       "      <td>0.224955</td>\n",
       "      <td>0.007914</td>\n",
       "      <td>0.050771</td>\n",
       "      <td>0.031523</td>\n",
       "      <td>0.006960</td>\n",
       "      <td>0.009897</td>\n",
       "      <td>0.084506</td>\n",
       "      <td>0.091616</td>\n",
       "      <td>0.034144</td>\n",
       "    </tr>\n",
       "    <tr>\n",
       "      <th>ea_lv_cavity</th>\n",
       "      <td>0.029501</td>\n",
       "      <td>0.030310</td>\n",
       "      <td>0.094403</td>\n",
       "      <td>0.736036</td>\n",
       "      <td>0.022665</td>\n",
       "      <td>0.099005</td>\n",
       "      <td>0.168293</td>\n",
       "      <td>0.037266</td>\n",
       "      <td>0.013591</td>\n",
       "      <td>0.051231</td>\n",
       "      <td>0.005434</td>\n",
       "      <td>0.042725</td>\n",
       "      <td>0.034318</td>\n",
       "      <td>0.009355</td>\n",
       "      <td>0.011540</td>\n",
       "      <td>0.039869</td>\n",
       "      <td>0.037581</td>\n",
       "      <td>0.016239</td>\n",
       "    </tr>\n",
       "    <tr>\n",
       "      <th>ea_lv_diastolic</th>\n",
       "      <td>0.015605</td>\n",
       "      <td>0.025060</td>\n",
       "      <td>0.019562</td>\n",
       "      <td>0.022665</td>\n",
       "      <td>0.486990</td>\n",
       "      <td>0.019392</td>\n",
       "      <td>0.034317</td>\n",
       "      <td>0.016907</td>\n",
       "      <td>0.014892</td>\n",
       "      <td>0.005099</td>\n",
       "      <td>0.006533</td>\n",
       "      <td>0.011845</td>\n",
       "      <td>0.012048</td>\n",
       "      <td>0.006694</td>\n",
       "      <td>0.010237</td>\n",
       "      <td>0.014985</td>\n",
       "      <td>0.017946</td>\n",
       "      <td>0.009965</td>\n",
       "    </tr>\n",
       "    <tr>\n",
       "      <th>ea_lv_systolic</th>\n",
       "      <td>0.022270</td>\n",
       "      <td>0.022313</td>\n",
       "      <td>0.027715</td>\n",
       "      <td>0.099005</td>\n",
       "      <td>0.019392</td>\n",
       "      <td>1.313811</td>\n",
       "      <td>0.039944</td>\n",
       "      <td>0.066808</td>\n",
       "      <td>0.022309</td>\n",
       "      <td>0.013222</td>\n",
       "      <td>0.004014</td>\n",
       "      <td>0.031466</td>\n",
       "      <td>0.093946</td>\n",
       "      <td>0.005497</td>\n",
       "      <td>0.017847</td>\n",
       "      <td>0.013452</td>\n",
       "      <td>0.044724</td>\n",
       "      <td>0.020808</td>\n",
       "    </tr>\n",
       "    <tr>\n",
       "      <th>ea_lv_wall</th>\n",
       "      <td>0.046235</td>\n",
       "      <td>0.069378</td>\n",
       "      <td>0.104597</td>\n",
       "      <td>0.168293</td>\n",
       "      <td>0.034317</td>\n",
       "      <td>0.039944</td>\n",
       "      <td>1.145711</td>\n",
       "      <td>0.034300</td>\n",
       "      <td>0.029355</td>\n",
       "      <td>0.051662</td>\n",
       "      <td>0.006773</td>\n",
       "      <td>0.035671</td>\n",
       "      <td>0.034027</td>\n",
       "      <td>0.004730</td>\n",
       "      <td>0.014149</td>\n",
       "      <td>0.061345</td>\n",
       "      <td>0.057683</td>\n",
       "      <td>0.029559</td>\n",
       "    </tr>\n",
       "    <tr>\n",
       "      <th>ea_mv_regurgitation</th>\n",
       "      <td>0.121585</td>\n",
       "      <td>0.065738</td>\n",
       "      <td>0.067110</td>\n",
       "      <td>0.037266</td>\n",
       "      <td>0.016907</td>\n",
       "      <td>0.066808</td>\n",
       "      <td>0.034300</td>\n",
       "      <td>1.462400</td>\n",
       "      <td>0.083371</td>\n",
       "      <td>0.032755</td>\n",
       "      <td>0.007223</td>\n",
       "      <td>0.025629</td>\n",
       "      <td>0.039273</td>\n",
       "      <td>0.005375</td>\n",
       "      <td>0.007794</td>\n",
       "      <td>0.078496</td>\n",
       "      <td>0.153249</td>\n",
       "      <td>0.027749</td>\n",
       "    </tr>\n",
       "    <tr>\n",
       "      <th>ea_mv_stenosis</th>\n",
       "      <td>0.038405</td>\n",
       "      <td>0.060144</td>\n",
       "      <td>0.026003</td>\n",
       "      <td>0.013591</td>\n",
       "      <td>0.014892</td>\n",
       "      <td>0.022309</td>\n",
       "      <td>0.029355</td>\n",
       "      <td>0.083371</td>\n",
       "      <td>0.752349</td>\n",
       "      <td>0.005202</td>\n",
       "      <td>0.002056</td>\n",
       "      <td>0.013197</td>\n",
       "      <td>0.017069</td>\n",
       "      <td>0.004149</td>\n",
       "      <td>0.003347</td>\n",
       "      <td>0.026311</td>\n",
       "      <td>0.035377</td>\n",
       "      <td>0.075390</td>\n",
       "    </tr>\n",
       "    <tr>\n",
       "      <th>ea_ra_dilated</th>\n",
       "      <td>0.023631</td>\n",
       "      <td>0.018748</td>\n",
       "      <td>0.224955</td>\n",
       "      <td>0.051231</td>\n",
       "      <td>0.005099</td>\n",
       "      <td>0.013222</td>\n",
       "      <td>0.051662</td>\n",
       "      <td>0.032755</td>\n",
       "      <td>0.005202</td>\n",
       "      <td>1.094057</td>\n",
       "      <td>0.033832</td>\n",
       "      <td>0.048443</td>\n",
       "      <td>0.030760</td>\n",
       "      <td>0.012766</td>\n",
       "      <td>0.015195</td>\n",
       "      <td>0.050392</td>\n",
       "      <td>0.060325</td>\n",
       "      <td>0.011491</td>\n",
       "    </tr>\n",
       "    <tr>\n",
       "      <th>ea_ra_pressure</th>\n",
       "      <td>0.007572</td>\n",
       "      <td>0.011404</td>\n",
       "      <td>0.007914</td>\n",
       "      <td>0.005434</td>\n",
       "      <td>0.006533</td>\n",
       "      <td>0.004014</td>\n",
       "      <td>0.006773</td>\n",
       "      <td>0.007223</td>\n",
       "      <td>0.002056</td>\n",
       "      <td>0.033832</td>\n",
       "      <td>0.387675</td>\n",
       "      <td>0.010334</td>\n",
       "      <td>0.009086</td>\n",
       "      <td>0.006814</td>\n",
       "      <td>0.006256</td>\n",
       "      <td>0.016371</td>\n",
       "      <td>0.010017</td>\n",
       "      <td>0.001630</td>\n",
       "    </tr>\n",
       "    <tr>\n",
       "      <th>ea_rv_cavity</th>\n",
       "      <td>0.022865</td>\n",
       "      <td>0.021316</td>\n",
       "      <td>0.050771</td>\n",
       "      <td>0.042725</td>\n",
       "      <td>0.011845</td>\n",
       "      <td>0.031466</td>\n",
       "      <td>0.035671</td>\n",
       "      <td>0.025629</td>\n",
       "      <td>0.013197</td>\n",
       "      <td>0.048443</td>\n",
       "      <td>0.010334</td>\n",
       "      <td>1.153719</td>\n",
       "      <td>0.397104</td>\n",
       "      <td>0.211266</td>\n",
       "      <td>0.189073</td>\n",
       "      <td>0.065032</td>\n",
       "      <td>0.103630</td>\n",
       "      <td>0.029564</td>\n",
       "    </tr>\n",
       "    <tr>\n",
       "      <th>ea_rv_systolic</th>\n",
       "      <td>0.028220</td>\n",
       "      <td>0.031588</td>\n",
       "      <td>0.031523</td>\n",
       "      <td>0.034318</td>\n",
       "      <td>0.012048</td>\n",
       "      <td>0.093946</td>\n",
       "      <td>0.034027</td>\n",
       "      <td>0.039273</td>\n",
       "      <td>0.017069</td>\n",
       "      <td>0.030760</td>\n",
       "      <td>0.009086</td>\n",
       "      <td>0.397104</td>\n",
       "      <td>1.078780</td>\n",
       "      <td>0.165656</td>\n",
       "      <td>0.167927</td>\n",
       "      <td>0.047047</td>\n",
       "      <td>0.079794</td>\n",
       "      <td>0.027122</td>\n",
       "    </tr>\n",
       "    <tr>\n",
       "      <th>ea_rv_volume_overload</th>\n",
       "      <td>0.001806</td>\n",
       "      <td>0.002784</td>\n",
       "      <td>0.006960</td>\n",
       "      <td>0.009355</td>\n",
       "      <td>0.006694</td>\n",
       "      <td>0.005497</td>\n",
       "      <td>0.004730</td>\n",
       "      <td>0.005375</td>\n",
       "      <td>0.004149</td>\n",
       "      <td>0.012766</td>\n",
       "      <td>0.006814</td>\n",
       "      <td>0.211266</td>\n",
       "      <td>0.165656</td>\n",
       "      <td>0.387582</td>\n",
       "      <td>0.210762</td>\n",
       "      <td>0.024151</td>\n",
       "      <td>0.038253</td>\n",
       "      <td>0.012768</td>\n",
       "    </tr>\n",
       "    <tr>\n",
       "      <th>ea_rv_wall</th>\n",
       "      <td>0.003164</td>\n",
       "      <td>0.004594</td>\n",
       "      <td>0.009897</td>\n",
       "      <td>0.011540</td>\n",
       "      <td>0.010237</td>\n",
       "      <td>0.017847</td>\n",
       "      <td>0.014149</td>\n",
       "      <td>0.007794</td>\n",
       "      <td>0.003347</td>\n",
       "      <td>0.015195</td>\n",
       "      <td>0.006256</td>\n",
       "      <td>0.189073</td>\n",
       "      <td>0.167927</td>\n",
       "      <td>0.210762</td>\n",
       "      <td>0.552463</td>\n",
       "      <td>0.017905</td>\n",
       "      <td>0.022680</td>\n",
       "      <td>0.015667</td>\n",
       "    </tr>\n",
       "    <tr>\n",
       "      <th>ea_tv_pulm_htn</th>\n",
       "      <td>0.056177</td>\n",
       "      <td>0.070689</td>\n",
       "      <td>0.084506</td>\n",
       "      <td>0.039869</td>\n",
       "      <td>0.014985</td>\n",
       "      <td>0.013452</td>\n",
       "      <td>0.061345</td>\n",
       "      <td>0.078496</td>\n",
       "      <td>0.026311</td>\n",
       "      <td>0.050392</td>\n",
       "      <td>0.016371</td>\n",
       "      <td>0.065032</td>\n",
       "      <td>0.047047</td>\n",
       "      <td>0.024151</td>\n",
       "      <td>0.017905</td>\n",
       "      <td>1.663125</td>\n",
       "      <td>0.248673</td>\n",
       "      <td>0.064979</td>\n",
       "    </tr>\n",
       "    <tr>\n",
       "      <th>ea_tv_regurgitation</th>\n",
       "      <td>0.069749</td>\n",
       "      <td>0.048536</td>\n",
       "      <td>0.091616</td>\n",
       "      <td>0.037581</td>\n",
       "      <td>0.017946</td>\n",
       "      <td>0.044724</td>\n",
       "      <td>0.057683</td>\n",
       "      <td>0.153249</td>\n",
       "      <td>0.035377</td>\n",
       "      <td>0.060325</td>\n",
       "      <td>0.010017</td>\n",
       "      <td>0.103630</td>\n",
       "      <td>0.079794</td>\n",
       "      <td>0.038253</td>\n",
       "      <td>0.022680</td>\n",
       "      <td>0.248673</td>\n",
       "      <td>1.627779</td>\n",
       "      <td>0.298415</td>\n",
       "    </tr>\n",
       "    <tr>\n",
       "      <th>ea_tv_stenosis</th>\n",
       "      <td>0.028381</td>\n",
       "      <td>0.035148</td>\n",
       "      <td>0.034144</td>\n",
       "      <td>0.016239</td>\n",
       "      <td>0.009965</td>\n",
       "      <td>0.020808</td>\n",
       "      <td>0.029559</td>\n",
       "      <td>0.027749</td>\n",
       "      <td>0.075390</td>\n",
       "      <td>0.011491</td>\n",
       "      <td>0.001630</td>\n",
       "      <td>0.029564</td>\n",
       "      <td>0.027122</td>\n",
       "      <td>0.012768</td>\n",
       "      <td>0.015667</td>\n",
       "      <td>0.064979</td>\n",
       "      <td>0.298415</td>\n",
       "      <td>0.824950</td>\n",
       "    </tr>\n",
       "  </tbody>\n",
       "</table>\n",
       "</div>"
      ],
      "text/plain": [
       "                       ea_av_regurgitation  ea_av_stenosis  ea_la_cavity  \\\n",
       "ea_av_regurgitation               1.142125        0.148522      0.053263   \n",
       "ea_av_stenosis                    0.148522        0.963050      0.055912   \n",
       "ea_la_cavity                      0.053263        0.055912      1.514633   \n",
       "ea_lv_cavity                      0.029501        0.030310      0.094403   \n",
       "ea_lv_diastolic                   0.015605        0.025060      0.019562   \n",
       "ea_lv_systolic                    0.022270        0.022313      0.027715   \n",
       "ea_lv_wall                        0.046235        0.069378      0.104597   \n",
       "ea_mv_regurgitation               0.121585        0.065738      0.067110   \n",
       "ea_mv_stenosis                    0.038405        0.060144      0.026003   \n",
       "ea_ra_dilated                     0.023631        0.018748      0.224955   \n",
       "ea_ra_pressure                    0.007572        0.011404      0.007914   \n",
       "ea_rv_cavity                      0.022865        0.021316      0.050771   \n",
       "ea_rv_systolic                    0.028220        0.031588      0.031523   \n",
       "ea_rv_volume_overload             0.001806        0.002784      0.006960   \n",
       "ea_rv_wall                        0.003164        0.004594      0.009897   \n",
       "ea_tv_pulm_htn                    0.056177        0.070689      0.084506   \n",
       "ea_tv_regurgitation               0.069749        0.048536      0.091616   \n",
       "ea_tv_stenosis                    0.028381        0.035148      0.034144   \n",
       "\n",
       "                       ea_lv_cavity  ea_lv_diastolic  ea_lv_systolic  \\\n",
       "ea_av_regurgitation        0.029501         0.015605        0.022270   \n",
       "ea_av_stenosis             0.030310         0.025060        0.022313   \n",
       "ea_la_cavity               0.094403         0.019562        0.027715   \n",
       "ea_lv_cavity               0.736036         0.022665        0.099005   \n",
       "ea_lv_diastolic            0.022665         0.486990        0.019392   \n",
       "ea_lv_systolic             0.099005         0.019392        1.313811   \n",
       "ea_lv_wall                 0.168293         0.034317        0.039944   \n",
       "ea_mv_regurgitation        0.037266         0.016907        0.066808   \n",
       "ea_mv_stenosis             0.013591         0.014892        0.022309   \n",
       "ea_ra_dilated              0.051231         0.005099        0.013222   \n",
       "ea_ra_pressure             0.005434         0.006533        0.004014   \n",
       "ea_rv_cavity               0.042725         0.011845        0.031466   \n",
       "ea_rv_systolic             0.034318         0.012048        0.093946   \n",
       "ea_rv_volume_overload      0.009355         0.006694        0.005497   \n",
       "ea_rv_wall                 0.011540         0.010237        0.017847   \n",
       "ea_tv_pulm_htn             0.039869         0.014985        0.013452   \n",
       "ea_tv_regurgitation        0.037581         0.017946        0.044724   \n",
       "ea_tv_stenosis             0.016239         0.009965        0.020808   \n",
       "\n",
       "                       ea_lv_wall  ea_mv_regurgitation  ea_mv_stenosis  \\\n",
       "ea_av_regurgitation      0.046235             0.121585        0.038405   \n",
       "ea_av_stenosis           0.069378             0.065738        0.060144   \n",
       "ea_la_cavity             0.104597             0.067110        0.026003   \n",
       "ea_lv_cavity             0.168293             0.037266        0.013591   \n",
       "ea_lv_diastolic          0.034317             0.016907        0.014892   \n",
       "ea_lv_systolic           0.039944             0.066808        0.022309   \n",
       "ea_lv_wall               1.145711             0.034300        0.029355   \n",
       "ea_mv_regurgitation      0.034300             1.462400        0.083371   \n",
       "ea_mv_stenosis           0.029355             0.083371        0.752349   \n",
       "ea_ra_dilated            0.051662             0.032755        0.005202   \n",
       "ea_ra_pressure           0.006773             0.007223        0.002056   \n",
       "ea_rv_cavity             0.035671             0.025629        0.013197   \n",
       "ea_rv_systolic           0.034027             0.039273        0.017069   \n",
       "ea_rv_volume_overload    0.004730             0.005375        0.004149   \n",
       "ea_rv_wall               0.014149             0.007794        0.003347   \n",
       "ea_tv_pulm_htn           0.061345             0.078496        0.026311   \n",
       "ea_tv_regurgitation      0.057683             0.153249        0.035377   \n",
       "ea_tv_stenosis           0.029559             0.027749        0.075390   \n",
       "\n",
       "                       ea_ra_dilated  ea_ra_pressure  ea_rv_cavity  \\\n",
       "ea_av_regurgitation         0.023631        0.007572      0.022865   \n",
       "ea_av_stenosis              0.018748        0.011404      0.021316   \n",
       "ea_la_cavity                0.224955        0.007914      0.050771   \n",
       "ea_lv_cavity                0.051231        0.005434      0.042725   \n",
       "ea_lv_diastolic             0.005099        0.006533      0.011845   \n",
       "ea_lv_systolic              0.013222        0.004014      0.031466   \n",
       "ea_lv_wall                  0.051662        0.006773      0.035671   \n",
       "ea_mv_regurgitation         0.032755        0.007223      0.025629   \n",
       "ea_mv_stenosis              0.005202        0.002056      0.013197   \n",
       "ea_ra_dilated               1.094057        0.033832      0.048443   \n",
       "ea_ra_pressure              0.033832        0.387675      0.010334   \n",
       "ea_rv_cavity                0.048443        0.010334      1.153719   \n",
       "ea_rv_systolic              0.030760        0.009086      0.397104   \n",
       "ea_rv_volume_overload       0.012766        0.006814      0.211266   \n",
       "ea_rv_wall                  0.015195        0.006256      0.189073   \n",
       "ea_tv_pulm_htn              0.050392        0.016371      0.065032   \n",
       "ea_tv_regurgitation         0.060325        0.010017      0.103630   \n",
       "ea_tv_stenosis              0.011491        0.001630      0.029564   \n",
       "\n",
       "                       ea_rv_systolic  ea_rv_volume_overload  ea_rv_wall  \\\n",
       "ea_av_regurgitation          0.028220               0.001806    0.003164   \n",
       "ea_av_stenosis               0.031588               0.002784    0.004594   \n",
       "ea_la_cavity                 0.031523               0.006960    0.009897   \n",
       "ea_lv_cavity                 0.034318               0.009355    0.011540   \n",
       "ea_lv_diastolic              0.012048               0.006694    0.010237   \n",
       "ea_lv_systolic               0.093946               0.005497    0.017847   \n",
       "ea_lv_wall                   0.034027               0.004730    0.014149   \n",
       "ea_mv_regurgitation          0.039273               0.005375    0.007794   \n",
       "ea_mv_stenosis               0.017069               0.004149    0.003347   \n",
       "ea_ra_dilated                0.030760               0.012766    0.015195   \n",
       "ea_ra_pressure               0.009086               0.006814    0.006256   \n",
       "ea_rv_cavity                 0.397104               0.211266    0.189073   \n",
       "ea_rv_systolic               1.078780               0.165656    0.167927   \n",
       "ea_rv_volume_overload        0.165656               0.387582    0.210762   \n",
       "ea_rv_wall                   0.167927               0.210762    0.552463   \n",
       "ea_tv_pulm_htn               0.047047               0.024151    0.017905   \n",
       "ea_tv_regurgitation          0.079794               0.038253    0.022680   \n",
       "ea_tv_stenosis               0.027122               0.012768    0.015667   \n",
       "\n",
       "                       ea_tv_pulm_htn  ea_tv_regurgitation  ea_tv_stenosis  \n",
       "ea_av_regurgitation          0.056177             0.069749        0.028381  \n",
       "ea_av_stenosis               0.070689             0.048536        0.035148  \n",
       "ea_la_cavity                 0.084506             0.091616        0.034144  \n",
       "ea_lv_cavity                 0.039869             0.037581        0.016239  \n",
       "ea_lv_diastolic              0.014985             0.017946        0.009965  \n",
       "ea_lv_systolic               0.013452             0.044724        0.020808  \n",
       "ea_lv_wall                   0.061345             0.057683        0.029559  \n",
       "ea_mv_regurgitation          0.078496             0.153249        0.027749  \n",
       "ea_mv_stenosis               0.026311             0.035377        0.075390  \n",
       "ea_ra_dilated                0.050392             0.060325        0.011491  \n",
       "ea_ra_pressure               0.016371             0.010017        0.001630  \n",
       "ea_rv_cavity                 0.065032             0.103630        0.029564  \n",
       "ea_rv_systolic               0.047047             0.079794        0.027122  \n",
       "ea_rv_volume_overload        0.024151             0.038253        0.012768  \n",
       "ea_rv_wall                   0.017905             0.022680        0.015667  \n",
       "ea_tv_pulm_htn               1.663125             0.248673        0.064979  \n",
       "ea_tv_regurgitation          0.248673             1.627779        0.298415  \n",
       "ea_tv_stenosis               0.064979             0.298415        0.824950  "
      ]
     },
     "execution_count": 78,
     "metadata": {},
     "output_type": "execute_result"
    }
   ],
   "source": [
    "mutual_info"
   ]
  },
  {
   "cell_type": "code",
   "execution_count": 74,
   "metadata": {
    "collapsed": false
   },
   "outputs": [
    {
     "data": {
      "image/png": "[encoded data removed]",
      "text/plain": [
       "<matplotlib.figure.Figure at 0x7f5c3199e550>"
      ]
     },
     "metadata": {},
     "output_type": "display_data"
    }
   ],
   "source": [
    "#g = sns.clustermap(mutual_info, row_linkage=Z, col_linkage=Z)\n",
    "#_ = g.ax_heatmap.set_yticklabels(g.ax_heatmap.get_yticklabels(), rotation = 0)\n",
    "_,ax = plt.subplots(1, figsize=(10,8))\n",
    "g = sns.heatmap(mutual_info, ax=ax)\n",
    "_ = g.set_yticklabels(g.get_yticklabels(), rotation = 0)"
   ]
  },
  {
   "cell_type": "code",
   "execution_count": 84,
   "metadata": {
    "collapsed": false
   },
   "outputs": [
    {
     "data": {
      "text/plain": [
       "ea_la_cavity             0.001529\n",
       "ea_tv_regurgitation      0.001345\n",
       "ea_tv_pulm_htn           0.001318\n",
       "ea_lv_wall               0.001312\n",
       "ea_av_regurgitation      0.001247\n",
       "ea_rv_cavity             0.001093\n",
       "ea_lv_diastolic          0.001075\n",
       "ea_rv_systolic           0.001000\n",
       "ea_mv_stenosis           0.000962\n",
       "ea_mv_regurgitation      0.000630\n",
       "ea_lv_cavity             0.000626\n",
       "ea_av_stenosis           0.000578\n",
       "ea_lv_systolic           0.000556\n",
       "ea_tv_stenosis           0.000498\n",
       "ea_rv_wall               0.000393\n",
       "ea_ra_dilated            0.000188\n",
       "ea_ra_pressure           0.000175\n",
       "ea_rv_volume_overload    0.000145\n",
       "dtype: float64"
      ]
     },
     "execution_count": 84,
     "metadata": {},
     "output_type": "execute_result"
    }
   ],
   "source": [
    "outcome_MI = X.apply(lambda x: mutual_information(x, y.loc[had_echo]), axis=0)\n",
    "outcome_MI.sort_values(ascending=False)"
   ]
  },
  {
   "cell_type": "code",
   "execution_count": 87,
   "metadata": {
    "collapsed": false
   },
   "outputs": [
    {
     "data": {
      "text/html": [
       "<div>\n",
       "<table border=\"1\" class=\"dataframe\">\n",
       "  <thead>\n",
       "    <tr style=\"text-align: right;\">\n",
       "      <th></th>\n",
       "      <th>ea_tv_pulm_htn_-50.0</th>\n",
       "      <th>ea_tv_pulm_htn_-3.0</th>\n",
       "      <th>ea_tv_pulm_htn_0.0</th>\n",
       "      <th>ea_tv_pulm_htn_1.0</th>\n",
       "      <th>ea_tv_pulm_htn_2.0</th>\n",
       "      <th>ea_tv_pulm_htn_3.0</th>\n",
       "      <th>ea_tv_regurgitation_-50.0</th>\n",
       "      <th>ea_tv_regurgitation_-3.0</th>\n",
       "      <th>ea_tv_regurgitation_-2.0</th>\n",
       "      <th>ea_tv_regurgitation_0.0</th>\n",
       "      <th>...</th>\n",
       "      <th>ea_la_cavity_0.0</th>\n",
       "      <th>ea_la_cavity_1.0</th>\n",
       "      <th>ea_la_cavity_2.0</th>\n",
       "      <th>ea_la_cavity_3.0</th>\n",
       "      <th>ea_ra_dilated_0.0</th>\n",
       "      <th>ea_ra_dilated_1.0</th>\n",
       "      <th>ea_ra_pressure_-3.0</th>\n",
       "      <th>ea_ra_pressure_0.0</th>\n",
       "      <th>ea_ra_pressure_1.0</th>\n",
       "      <th>ea_ra_pressure_2.0</th>\n",
       "    </tr>\n",
       "  </thead>\n",
       "  <tbody>\n",
       "    <tr>\n",
       "      <th>1</th>\n",
       "      <td>0.0</td>\n",
       "      <td>0.0</td>\n",
       "      <td>0.0</td>\n",
       "      <td>1.0</td>\n",
       "      <td>0.0</td>\n",
       "      <td>0.0</td>\n",
       "      <td>0.0</td>\n",
       "      <td>0.0</td>\n",
       "      <td>0.0</td>\n",
       "      <td>1.0</td>\n",
       "      <td>...</td>\n",
       "      <td>1.0</td>\n",
       "      <td>0.0</td>\n",
       "      <td>0.0</td>\n",
       "      <td>0.0</td>\n",
       "      <td>1.0</td>\n",
       "      <td>0.0</td>\n",
       "      <td>0.0</td>\n",
       "      <td>0.0</td>\n",
       "      <td>0.0</td>\n",
       "      <td>0.0</td>\n",
       "    </tr>\n",
       "    <tr>\n",
       "      <th>20</th>\n",
       "      <td>0.0</td>\n",
       "      <td>0.0</td>\n",
       "      <td>0.0</td>\n",
       "      <td>0.0</td>\n",
       "      <td>0.0</td>\n",
       "      <td>0.0</td>\n",
       "      <td>0.0</td>\n",
       "      <td>0.0</td>\n",
       "      <td>0.0</td>\n",
       "      <td>0.0</td>\n",
       "      <td>...</td>\n",
       "      <td>0.0</td>\n",
       "      <td>0.0</td>\n",
       "      <td>0.0</td>\n",
       "      <td>0.0</td>\n",
       "      <td>1.0</td>\n",
       "      <td>0.0</td>\n",
       "      <td>0.0</td>\n",
       "      <td>0.0</td>\n",
       "      <td>0.0</td>\n",
       "      <td>0.0</td>\n",
       "    </tr>\n",
       "    <tr>\n",
       "      <th>46</th>\n",
       "      <td>0.0</td>\n",
       "      <td>0.0</td>\n",
       "      <td>0.0</td>\n",
       "      <td>0.0</td>\n",
       "      <td>0.0</td>\n",
       "      <td>0.0</td>\n",
       "      <td>0.0</td>\n",
       "      <td>0.0</td>\n",
       "      <td>0.0</td>\n",
       "      <td>0.0</td>\n",
       "      <td>...</td>\n",
       "      <td>1.0</td>\n",
       "      <td>0.0</td>\n",
       "      <td>0.0</td>\n",
       "      <td>0.0</td>\n",
       "      <td>1.0</td>\n",
       "      <td>0.0</td>\n",
       "      <td>0.0</td>\n",
       "      <td>0.0</td>\n",
       "      <td>0.0</td>\n",
       "      <td>0.0</td>\n",
       "    </tr>\n",
       "    <tr>\n",
       "      <th>60</th>\n",
       "      <td>0.0</td>\n",
       "      <td>1.0</td>\n",
       "      <td>0.0</td>\n",
       "      <td>0.0</td>\n",
       "      <td>0.0</td>\n",
       "      <td>0.0</td>\n",
       "      <td>0.0</td>\n",
       "      <td>0.0</td>\n",
       "      <td>0.0</td>\n",
       "      <td>0.0</td>\n",
       "      <td>...</td>\n",
       "      <td>0.0</td>\n",
       "      <td>0.0</td>\n",
       "      <td>1.0</td>\n",
       "      <td>0.0</td>\n",
       "      <td>0.0</td>\n",
       "      <td>1.0</td>\n",
       "      <td>0.0</td>\n",
       "      <td>0.0</td>\n",
       "      <td>0.0</td>\n",
       "      <td>0.0</td>\n",
       "    </tr>\n",
       "    <tr>\n",
       "      <th>68</th>\n",
       "      <td>0.0</td>\n",
       "      <td>0.0</td>\n",
       "      <td>0.0</td>\n",
       "      <td>1.0</td>\n",
       "      <td>0.0</td>\n",
       "      <td>0.0</td>\n",
       "      <td>0.0</td>\n",
       "      <td>1.0</td>\n",
       "      <td>0.0</td>\n",
       "      <td>0.0</td>\n",
       "      <td>...</td>\n",
       "      <td>0.0</td>\n",
       "      <td>0.0</td>\n",
       "      <td>0.0</td>\n",
       "      <td>0.0</td>\n",
       "      <td>0.0</td>\n",
       "      <td>0.0</td>\n",
       "      <td>0.0</td>\n",
       "      <td>0.0</td>\n",
       "      <td>0.0</td>\n",
       "      <td>0.0</td>\n",
       "    </tr>\n",
       "  </tbody>\n",
       "</table>\n",
       "<p>5 rows × 98 columns</p>\n",
       "</div>"
      ],
      "text/plain": [
       "    ea_tv_pulm_htn_-50.0  ea_tv_pulm_htn_-3.0  ea_tv_pulm_htn_0.0  \\\n",
       "1                    0.0                  0.0                 0.0   \n",
       "20                   0.0                  0.0                 0.0   \n",
       "46                   0.0                  0.0                 0.0   \n",
       "60                   0.0                  1.0                 0.0   \n",
       "68                   0.0                  0.0                 0.0   \n",
       "\n",
       "    ea_tv_pulm_htn_1.0  ea_tv_pulm_htn_2.0  ea_tv_pulm_htn_3.0  \\\n",
       "1                  1.0                 0.0                 0.0   \n",
       "20                 0.0                 0.0                 0.0   \n",
       "46                 0.0                 0.0                 0.0   \n",
       "60                 0.0                 0.0                 0.0   \n",
       "68                 1.0                 0.0                 0.0   \n",
       "\n",
       "    ea_tv_regurgitation_-50.0  ea_tv_regurgitation_-3.0  \\\n",
       "1                         0.0                       0.0   \n",
       "20                        0.0                       0.0   \n",
       "46                        0.0                       0.0   \n",
       "60                        0.0                       0.0   \n",
       "68                        0.0                       1.0   \n",
       "\n",
       "    ea_tv_regurgitation_-2.0  ea_tv_regurgitation_0.0         ...          \\\n",
       "1                        0.0                      1.0         ...           \n",
       "20                       0.0                      0.0         ...           \n",
       "46                       0.0                      0.0         ...           \n",
       "60                       0.0                      0.0         ...           \n",
       "68                       0.0                      0.0         ...           \n",
       "\n",
       "    ea_la_cavity_0.0  ea_la_cavity_1.0  ea_la_cavity_2.0  ea_la_cavity_3.0  \\\n",
       "1                1.0               0.0               0.0               0.0   \n",
       "20               0.0               0.0               0.0               0.0   \n",
       "46               1.0               0.0               0.0               0.0   \n",
       "60               0.0               0.0               1.0               0.0   \n",
       "68               0.0               0.0               0.0               0.0   \n",
       "\n",
       "    ea_ra_dilated_0.0  ea_ra_dilated_1.0  ea_ra_pressure_-3.0  \\\n",
       "1                 1.0                0.0                  0.0   \n",
       "20                1.0                0.0                  0.0   \n",
       "46                1.0                0.0                  0.0   \n",
       "60                0.0                1.0                  0.0   \n",
       "68                0.0                0.0                  0.0   \n",
       "\n",
       "    ea_ra_pressure_0.0  ea_ra_pressure_1.0  ea_ra_pressure_2.0  \n",
       "1                  0.0                 0.0                 0.0  \n",
       "20                 0.0                 0.0                 0.0  \n",
       "46                 0.0                 0.0                 0.0  \n",
       "60                 0.0                 0.0                 0.0  \n",
       "68                 0.0                 0.0                 0.0  \n",
       "\n",
       "[5 rows x 98 columns]"
      ]
     },
     "execution_count": 87,
     "metadata": {},
     "output_type": "execute_result"
    }
   ],
   "source": [
    "X_dummy = pd.get_dummies(ef[features].loc[had_echo].apply(lambda x: x.astype('category'), axis=0))\n",
    "X_dummy.head()"
   ]
  },
  {
   "cell_type": "code",
   "execution_count": 92,
   "metadata": {
    "collapsed": false
   },
   "outputs": [],
   "source": [
    "from sklearn.model_selection import train_test_split"
   ]
  },
  {
   "cell_type": "code",
   "execution_count": 93,
   "metadata": {
    "collapsed": false
   },
   "outputs": [],
   "source": [
    "X_train, X_test, y_train, y_test = train_test_split(X_dummy, y.loc[had_echo], test_size=0.2, random_state=0)"
   ]
  },
  {
   "cell_type": "markdown",
   "metadata": {},
   "source": [
    "## Try naive Bayes classifier with binarized variables"
   ]
  },
  {
   "cell_type": "code",
   "execution_count": 94,
   "metadata": {
    "collapsed": true
   },
   "outputs": [],
   "source": [
    "from sklearn.naive_bayes import BernoulliNB"
   ]
  },
  {
   "cell_type": "code",
   "execution_count": 109,
   "metadata": {
    "collapsed": true
   },
   "outputs": [],
   "source": [
    "nb = BernoulliNB()"
   ]
  },
  {
   "cell_type": "code",
   "execution_count": 110,
   "metadata": {
    "collapsed": false
   },
   "outputs": [
    {
     "data": {
      "text/plain": [
       "BernoulliNB(alpha=1.0, binarize=0.0, class_prior=None, fit_prior=True)"
      ]
     },
     "execution_count": 110,
     "metadata": {},
     "output_type": "execute_result"
    }
   ],
   "source": [
    "nb.fit(X_train, y_train)"
   ]
  },
  {
   "cell_type": "code",
   "execution_count": 111,
   "metadata": {
    "collapsed": false
   },
   "outputs": [
    {
     "data": {
      "text/plain": [
       "array([ 0.70251018,  0.29748982])"
      ]
     },
     "execution_count": 111,
     "metadata": {},
     "output_type": "execute_result"
    }
   ],
   "source": [
    "np.exp(nb.class_log_prior_)"
   ]
  },
  {
   "cell_type": "code",
   "execution_count": 112,
   "metadata": {
    "collapsed": false
   },
   "outputs": [
    {
     "data": {
      "text/plain": [
       "0.2974898236092266"
      ]
     },
     "execution_count": 112,
     "metadata": {},
     "output_type": "execute_result"
    }
   ],
   "source": [
    "y_train.mean()"
   ]
  },
  {
   "cell_type": "code",
   "execution_count": 113,
   "metadata": {
    "collapsed": true
   },
   "outputs": [],
   "source": [
    "y_train_proba = nb.predict_proba(X_train)"
   ]
  },
  {
   "cell_type": "code",
   "execution_count": 118,
   "metadata": {
    "collapsed": false
   },
   "outputs": [
    {
     "data": {
      "text/plain": [
       "0.65569877883310723"
      ]
     },
     "execution_count": 118,
     "metadata": {},
     "output_type": "execute_result"
    }
   ],
   "source": [
    "np.mean(np.argmax(y_train_proba, axis=1) == y_train)"
   ]
  },
  {
   "cell_type": "code",
   "execution_count": 126,
   "metadata": {
    "collapsed": false,
    "scrolled": true
   },
   "outputs": [
    {
     "data": {
      "text/plain": [
       "0.65311653116531165"
      ]
     },
     "execution_count": 126,
     "metadata": {},
     "output_type": "execute_result"
    }
   ],
   "source": [
    "nb.score(X_test, y_test)"
   ]
  },
  {
   "cell_type": "markdown",
   "metadata": {},
   "source": [
    "## Logistic regression"
   ]
  },
  {
   "cell_type": "code",
   "execution_count": 119,
   "metadata": {
    "collapsed": true
   },
   "outputs": [],
   "source": [
    "from sklearn.linear_model import LogisticRegression"
   ]
  },
  {
   "cell_type": "code",
   "execution_count": 120,
   "metadata": {
    "collapsed": true
   },
   "outputs": [],
   "source": [
    "lm = LogisticRegression()"
   ]
  },
  {
   "cell_type": "code",
   "execution_count": 121,
   "metadata": {
    "collapsed": false
   },
   "outputs": [
    {
     "data": {
      "text/plain": [
       "LogisticRegression(C=1.0, class_weight=None, dual=False, fit_intercept=True,\n",
       "          intercept_scaling=1, max_iter=100, multi_class='ovr', n_jobs=1,\n",
       "          penalty='l2', random_state=None, solver='liblinear', tol=0.0001,\n",
       "          verbose=0, warm_start=False)"
      ]
     },
     "execution_count": 121,
     "metadata": {},
     "output_type": "execute_result"
    }
   ],
   "source": [
    "lm.fit(X_train, y_train)"
   ]
  },
  {
   "cell_type": "code",
   "execution_count": 122,
   "metadata": {
    "collapsed": false
   },
   "outputs": [
    {
     "data": {
      "text/plain": [
       "0.71336499321573943"
      ]
     },
     "execution_count": 122,
     "metadata": {},
     "output_type": "execute_result"
    }
   ],
   "source": [
    "lm.score(X_train, y_train)"
   ]
  },
  {
   "cell_type": "code",
   "execution_count": 123,
   "metadata": {
    "collapsed": false
   },
   "outputs": [
    {
     "data": {
      "text/plain": [
       "0.69376693766937669"
      ]
     },
     "execution_count": 123,
     "metadata": {},
     "output_type": "execute_result"
    }
   ],
   "source": [
    "lm.score(X_test, y_test)"
   ]
  },
  {
   "cell_type": "code",
   "execution_count": 125,
   "metadata": {
    "collapsed": false
   },
   "outputs": [
    {
     "data": {
      "text/plain": [
       "0.2872628726287263"
      ]
     },
     "execution_count": 125,
     "metadata": {},
     "output_type": "execute_result"
    }
   ],
   "source": [
    "y_test.mean()"
   ]
  },
  {
   "cell_type": "code",
   "execution_count": 139,
   "metadata": {
    "collapsed": true
   },
   "outputs": [],
   "source": [
    "from sklearn.metrics import precision_recall_curve, roc_curve"
   ]
  },
  {
   "cell_type": "code",
   "execution_count": 170,
   "metadata": {
    "collapsed": true
   },
   "outputs": [],
   "source": [
    "y_prob_test = lm.predict_proba(X_test)"
   ]
  },
  {
   "cell_type": "code",
   "execution_count": 171,
   "metadata": {
    "collapsed": false
   },
   "outputs": [],
   "source": [
    "fpr, tpr, thresholds = roc_curve(y_test, y_prob_test[:,1])"
   ]
  },
  {
   "cell_type": "code",
   "execution_count": 172,
   "metadata": {
    "collapsed": false
   },
   "outputs": [
    {
     "data": {
      "text/plain": [
       "[<matplotlib.lines.Line2D at 0x7f5c3291ad10>]"
      ]
     },
     "execution_count": 172,
     "metadata": {},
     "output_type": "execute_result"
    },
    {
     "data": {
      "image/png": "[encoded data removed]",
      "text/plain": [
       "<matplotlib.figure.Figure at 0x7f5c321d5a50>"
      ]
     },
     "metadata": {},
     "output_type": "display_data"
    }
   ],
   "source": [
    "plt.plot(fpr, tpr)"
   ]
  },
  {
   "cell_type": "code",
   "execution_count": 173,
   "metadata": {
    "collapsed": false
   },
   "outputs": [
    {
     "data": {
      "text/plain": [
       "<matplotlib.collections.PathCollection at 0x7f5c32436a10>"
      ]
     },
     "execution_count": 173,
     "metadata": {},
     "output_type": "execute_result"
    },
    {
     "data": {
      "image/png": "[encoded data removed]",
      "text/plain": [
       "<matplotlib.figure.Figure at 0x7f5c326a1990>"
      ]
     },
     "metadata": {},
     "output_type": "display_data"
    }
   ],
   "source": [
    "plt.scatter(np.log(y_prob_test[:,0]/y_prob_test[:,1]), np.log(tod.loc[y_test.index]/np.timedelta64(1, 'D')))"
   ]
  },
  {
   "cell_type": "markdown",
   "metadata": {},
   "source": [
    "## Random forest classifier"
   ]
  },
  {
   "cell_type": "code",
   "execution_count": 127,
   "metadata": {
    "collapsed": true
   },
   "outputs": [],
   "source": [
    "from sklearn.ensemble import RandomForestClassifier"
   ]
  },
  {
   "cell_type": "code",
   "execution_count": 128,
   "metadata": {
    "collapsed": true
   },
   "outputs": [],
   "source": [
    "rfc = RandomForestClassifier()"
   ]
  },
  {
   "cell_type": "code",
   "execution_count": 129,
   "metadata": {
    "collapsed": false
   },
   "outputs": [
    {
     "data": {
      "text/plain": [
       "RandomForestClassifier(bootstrap=True, class_weight=None, criterion='gini',\n",
       "            max_depth=None, max_features='auto', max_leaf_nodes=None,\n",
       "            min_impurity_split=1e-07, min_samples_leaf=1,\n",
       "            min_samples_split=2, min_weight_fraction_leaf=0.0,\n",
       "            n_estimators=10, n_jobs=1, oob_score=False, random_state=None,\n",
       "            verbose=0, warm_start=False)"
      ]
     },
     "execution_count": 129,
     "metadata": {},
     "output_type": "execute_result"
    }
   ],
   "source": [
    "rfc.fit(X_train, y_train)"
   ]
  },
  {
   "cell_type": "code",
   "execution_count": 130,
   "metadata": {
    "collapsed": false
   },
   "outputs": [
    {
     "data": {
      "text/plain": [
       "0.95386702849389415"
      ]
     },
     "execution_count": 130,
     "metadata": {},
     "output_type": "execute_result"
    }
   ],
   "source": [
    "rfc.score(X_train, y_train)"
   ]
  },
  {
   "cell_type": "code",
   "execution_count": 131,
   "metadata": {
    "collapsed": false
   },
   "outputs": [
    {
     "data": {
      "text/plain": [
       "0.67344173441734423"
      ]
     },
     "execution_count": 131,
     "metadata": {},
     "output_type": "execute_result"
    }
   ],
   "source": [
    "rfc.score(X_test, y_test)"
   ]
  },
  {
   "cell_type": "markdown",
   "metadata": {},
   "source": [
    "## Support vector machine"
   ]
  },
  {
   "cell_type": "code",
   "execution_count": 132,
   "metadata": {
    "collapsed": true
   },
   "outputs": [],
   "source": [
    "from sklearn.svm import SVC"
   ]
  },
  {
   "cell_type": "code",
   "execution_count": 133,
   "metadata": {
    "collapsed": true
   },
   "outputs": [],
   "source": [
    "svm = SVC(kernel='linear', C=1)"
   ]
  },
  {
   "cell_type": "code",
   "execution_count": 134,
   "metadata": {
    "collapsed": false
   },
   "outputs": [
    {
     "data": {
      "text/plain": [
       "SVC(C=1, cache_size=200, class_weight=None, coef0=0.0,\n",
       "  decision_function_shape=None, degree=3, gamma='auto', kernel='linear',\n",
       "  max_iter=-1, probability=False, random_state=None, shrinking=True,\n",
       "  tol=0.001, verbose=False)"
      ]
     },
     "execution_count": 134,
     "metadata": {},
     "output_type": "execute_result"
    }
   ],
   "source": [
    "svm.fit(X_train, y_train)"
   ]
  },
  {
   "cell_type": "code",
   "execution_count": 135,
   "metadata": {
    "collapsed": false
   },
   "outputs": [
    {
     "data": {
      "text/plain": [
       "0.70624151967435544"
      ]
     },
     "execution_count": 135,
     "metadata": {},
     "output_type": "execute_result"
    }
   ],
   "source": [
    "svm.score(X_train, y_train)"
   ]
  },
  {
   "cell_type": "code",
   "execution_count": 137,
   "metadata": {
    "collapsed": false
   },
   "outputs": [
    {
     "data": {
      "text/plain": [
       "0.7032520325203252"
      ]
     },
     "execution_count": 137,
     "metadata": {},
     "output_type": "execute_result"
    }
   ],
   "source": [
    "svm.score(X_test, y_test)"
   ]
  },
  {
   "cell_type": "code",
   "execution_count": 161,
   "metadata": {
    "collapsed": true
   },
   "outputs": [],
   "source": [
    "svm = SVC(kernel='rbf', C=1, probability=True)"
   ]
  },
  {
   "cell_type": "code",
   "execution_count": 162,
   "metadata": {
    "collapsed": false
   },
   "outputs": [
    {
     "data": {
      "text/plain": [
       "SVC(C=1, cache_size=200, class_weight=None, coef0=0.0,\n",
       "  decision_function_shape=None, degree=3, gamma='auto', kernel='rbf',\n",
       "  max_iter=-1, probability=True, random_state=None, shrinking=True,\n",
       "  tol=0.001, verbose=False)"
      ]
     },
     "execution_count": 162,
     "metadata": {},
     "output_type": "execute_result"
    }
   ],
   "source": [
    "svm.fit(X_train, y_train)"
   ]
  },
  {
   "cell_type": "code",
   "execution_count": 163,
   "metadata": {
    "collapsed": false
   },
   "outputs": [
    {
     "data": {
      "text/plain": [
       "0.7025101763907734"
      ]
     },
     "execution_count": 163,
     "metadata": {},
     "output_type": "execute_result"
    }
   ],
   "source": [
    "svm.score(X_train, y_train)"
   ]
  },
  {
   "cell_type": "code",
   "execution_count": 164,
   "metadata": {
    "collapsed": false
   },
   "outputs": [
    {
     "data": {
      "text/plain": [
       "0.7127371273712737"
      ]
     },
     "execution_count": 164,
     "metadata": {},
     "output_type": "execute_result"
    }
   ],
   "source": [
    "svm.score(X_test, y_test)"
   ]
  },
  {
   "cell_type": "code",
   "execution_count": 165,
   "metadata": {
    "collapsed": false
   },
   "outputs": [
    {
     "data": {
      "text/plain": [
       "array([[ 0.68518059,  0.31481941],\n",
       "       [ 0.71742622,  0.28257378],\n",
       "       [ 0.7208568 ,  0.2791432 ],\n",
       "       ..., \n",
       "       [ 0.68358064,  0.31641936],\n",
       "       [ 0.72081855,  0.27918145],\n",
       "       [ 0.71803863,  0.28196137]])"
      ]
     },
     "execution_count": 165,
     "metadata": {},
     "output_type": "execute_result"
    }
   ],
   "source": [
    "svm.predict_proba(X_test)"
   ]
  },
  {
   "cell_type": "code",
   "execution_count": 166,
   "metadata": {
    "collapsed": true
   },
   "outputs": [],
   "source": [
    "y_prob_test = svm.predict_proba(X_test)"
   ]
  },
  {
   "cell_type": "code",
   "execution_count": 167,
   "metadata": {
    "collapsed": false
   },
   "outputs": [],
   "source": [
    "fpr, tpr, thresholds = roc_curve(y_test, y_prob_test[:,1])"
   ]
  },
  {
   "cell_type": "code",
   "execution_count": 168,
   "metadata": {
    "collapsed": false
   },
   "outputs": [
    {
     "data": {
      "text/plain": [
       "[<matplotlib.lines.Line2D at 0x7f5c329a8f90>]"
      ]
     },
     "execution_count": 168,
     "metadata": {},
     "output_type": "execute_result"
    },
    {
     "data": {
      "image/png": "[encoded data removed]",
      "text/plain": [
       "<matplotlib.figure.Figure at 0x7f5c30f01fd0>"
      ]
     },
     "metadata": {},
     "output_type": "display_data"
    }
   ],
   "source": [
    "plt.plot(fpr, tpr)"
   ]
  },
  {
   "cell_type": "code",
   "execution_count": 169,
   "metadata": {
    "collapsed": false
   },
   "outputs": [
    {
     "data": {
      "text/plain": [
       "<matplotlib.collections.PathCollection at 0x7f5c321fbf50>"
      ]
     },
     "execution_count": 169,
     "metadata": {},
     "output_type": "execute_result"
    },
    {
     "data": {
      "image/png": "[encoded data removed]",
      "text/plain": [
       "<matplotlib.figure.Figure at 0x7f5c33413390>"
      ]
     },
     "metadata": {},
     "output_type": "display_data"
    }
   ],
   "source": [
    "plt.scatter(np.log(y_prob_test[:,0]/y_prob_test[:,1]), tod.loc[y_test.index]/np.timedelta64(1, 'D'))"
   ]
  },
  {
   "cell_type": "markdown",
   "metadata": {},
   "source": [
    "The echo variables alone don't seem to be predictive of mortality. What about including some demographic info?"
   ]
  },
  {
   "cell_type": "markdown",
   "metadata": {},
   "source": [
    "## Include some demographics"
   ]
  },
  {
   "cell_type": "code",
   "execution_count": 176,
   "metadata": {
    "collapsed": true
   },
   "outputs": [],
   "source": [
    "age = ef['age']/np.timedelta64(1, 'Y')\n",
    "age_observed = age > 0"
   ]
  },
  {
   "cell_type": "code",
   "execution_count": 181,
   "metadata": {
    "collapsed": false
   },
   "outputs": [
    {
     "data": {
      "text/plain": [
       "<matplotlib.collections.PathCollection at 0x7f5c2bf1db50>"
      ]
     },
     "execution_count": 181,
     "metadata": {},
     "output_type": "execute_result"
    },
    {
     "data": {
      "image/png": "[encoded data removed]",
      "text/plain": [
       "<matplotlib.figure.Figure at 0x7f5c2c1d2650>"
      ]
     },
     "metadata": {},
     "output_type": "display_data"
    }
   ],
   "source": [
    "plt.scatter(age.loc[age_observed], tod.loc[age_observed]/np.timedelta64(1, 'D'))"
   ]
  },
  {
   "cell_type": "code",
   "execution_count": 207,
   "metadata": {
    "collapsed": false
   },
   "outputs": [
    {
     "data": {
      "text/plain": [
       "[<matplotlib.lines.Line2D at 0x7f5c0f2d2550>]"
      ]
     },
     "execution_count": 207,
     "metadata": {},
     "output_type": "execute_result"
    },
    {
     "data": {
      "image/png": "[encoded data removed]",
      "text/plain": [
       "<matplotlib.figure.Figure at 0x7f5c0f2b1a50>"
      ]
     },
     "metadata": {},
     "output_type": "display_data"
    }
   ],
   "source": [
    "bins = pd.cut(age.loc[age_observed], np.arange(0,91,5), labels=False)\n",
    "frac = np.zeros(len(np.arange(0,91,5)))\n",
    "for i in range(len(frac)):\n",
    "    if i == len(frac)-1:\n",
    "        frac[i] = (tod.loc[~age_observed] < np.timedelta64(30, 'D')).mean()\n",
    "    else:\n",
    "        j = bins.loc[bins == i]\n",
    "        if len(j) > 0:\n",
    "            frac[i] = (tod.loc[j.index] < np.timedelta64(30, 'D')).mean()\n",
    "plt.plot(np.arange(2.5,95,5), frac)"
   ]
  },
  {
   "cell_type": "code",
   "execution_count": 211,
   "metadata": {
    "collapsed": false
   },
   "outputs": [
    {
     "data": {
      "image/png": "[encoded data removed]",
      "text/plain": [
       "<matplotlib.figure.Figure at 0x7f5c0ef6f1d0>"
      ]
     },
     "metadata": {},
     "output_type": "display_data"
    }
   ],
   "source": [
    "age_scaled = age/90\n",
    "age_scaled.loc[~age_observed] = 1.0\n",
    "_ = plt.hist(age_scaled, bins=30)"
   ]
  },
  {
   "cell_type": "code",
   "execution_count": 213,
   "metadata": {
    "collapsed": false
   },
   "outputs": [
    {
     "data": {
      "text/plain": [
       "1     M\n",
       "16    F\n",
       "20    M\n",
       "22    M\n",
       "25    M\n",
       "Name: gender, dtype: object"
      ]
     },
     "execution_count": 213,
     "metadata": {},
     "output_type": "execute_result"
    }
   ],
   "source": [
    "gender = ef['gender']\n",
    "gender.head()"
   ]
  },
  {
   "cell_type": "code",
   "execution_count": 215,
   "metadata": {
    "collapsed": false
   },
   "outputs": [],
   "source": [
    "gender = (gender == 'F')"
   ]
  },
  {
   "cell_type": "code",
   "execution_count": 217,
   "metadata": {
    "collapsed": false
   },
   "outputs": [
    {
     "data": {
      "text/plain": [
       "<matplotlib.axes._subplots.AxesSubplot at 0x7f5c0f2a7c10>"
      ]
     },
     "execution_count": 217,
     "metadata": {},
     "output_type": "execute_result"
    },
    {
     "data": {
      "image/png": "[encoded data removed]",
      "text/plain": [
       "<matplotlib.figure.Figure at 0x7f5c3283b590>"
      ]
     },
     "metadata": {},
     "output_type": "display_data"
    }
   ],
   "source": [
    "sns.barplot(data=pd.DataFrame({'gender': ef['gender'], 'mortality': tod < np.timedelta64(30, 'D')})\n",
    "            , x='gender', y='mortality')"
   ]
  },
  {
   "cell_type": "code",
   "execution_count": null,
   "metadata": {
    "collapsed": true
   },
   "outputs": [],
   "source": []
  },
  {
   "cell_type": "code",
   "execution_count": 138,
   "metadata": {
    "collapsed": true
   },
   "outputs": [],
   "source": [
    "from sklearn.model_selection import StratifiedKFold"
   ]
  },
  {
   "cell_type": "code",
   "execution_count": null,
   "metadata": {
    "collapsed": true
   },
   "outputs": [],
   "source": [
    "for train, test in StratifiedKFold(n_splits=10).split(X_train, y_train):\n",
    "    Xt = X_train.iloc[train]\n",
    "    yt = y_train.iloc[train]\n",
    "    Xv = X_train.iloc[test]\n",
    "    yv = y_train.iloc[test]\n",
    "    \n",
    "    \n",
    "    "
   ]
  }
 ],
 "metadata": {
  "anaconda-cloud": {},
  "kernelspec": {
   "display_name": "Python [conda env:mimiciii]",
   "language": "python",
   "name": "conda-env-mimiciii-py"
  },
  "language_info": {
   "codemirror_mode": {
    "name": "ipython",
    "version": 2
   },
   "file_extension": ".py",
   "mimetype": "text/x-python",
   "name": "python",
   "nbconvert_exporter": "python",
   "pygments_lexer": "ipython2",
   "version": "2.7.12"
  }
 },
 "nbformat": 4,
 "nbformat_minor": 1
}
