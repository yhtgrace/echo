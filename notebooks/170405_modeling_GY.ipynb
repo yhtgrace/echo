{
 "cells": [
  {
   "cell_type": "code",
   "execution_count": 1,
   "metadata": {
    "collapsed": true
   },
   "outputs": [],
   "source": [
    "from __future__ import print_function\n",
    "import numpy as np\n",
    "import pandas as pd\n",
    "import pystan\n",
    "\n",
    "import psycopg2\n",
    "\n",
    "import matplotlib.pyplot as plt\n",
    "import seaborn as sns\n",
    "sns.set_context('notebook', font_scale=1.2)\n",
    "\n",
    "import matplotlib.style\n",
    "matplotlib.style.use('ggplot')\n",
    "%matplotlib inline\n",
    "\n",
    "from IPython.display import display"
   ]
  },
  {
   "cell_type": "code",
   "execution_count": 2,
   "metadata": {
    "collapsed": true
   },
   "outputs": [],
   "source": [
    "import pymc3 as pm\n",
    "import theano\n",
    "import theano.tensor as T\n",
    "from scipy.stats.stats import pearsonr"
   ]
  },
  {
   "cell_type": "code",
   "execution_count": 3,
   "metadata": {
    "collapsed": true
   },
   "outputs": [],
   "source": [
    "# create a database connection\n",
    "sqluser = 'mimic'\n",
    "dbname = 'mimic'\n",
    "schema_name = 'mimiciii'\n",
    "\n",
    "cur = None"
   ]
  },
  {
   "cell_type": "code",
   "execution_count": 4,
   "metadata": {
    "collapsed": false
   },
   "outputs": [],
   "source": [
    "if cur: \n",
    "    cur.close()\n",
    "    con.close()\n",
    "\n",
    "con = psycopg2.connect(dbname = dbname, user = sqluser)\n",
    "cur = con.cursor()\n",
    "cur.execute('SET search_path to ' + schema_name)"
   ]
  },
  {
   "cell_type": "code",
   "execution_count": 5,
   "metadata": {
    "collapsed": false
   },
   "outputs": [
    {
     "data": {
      "text/html": [
       "<div>\n",
       "<table border=\"1\" class=\"dataframe\">\n",
       "  <thead>\n",
       "    <tr style=\"text-align: right;\">\n",
       "      <th></th>\n",
       "      <th>icustay_id</th>\n",
       "      <th>hadm_id</th>\n",
       "      <th>subject_id</th>\n",
       "      <th>age</th>\n",
       "      <th>gender</th>\n",
       "      <th>height</th>\n",
       "      <th>weight</th>\n",
       "      <th>ethnicity</th>\n",
       "      <th>insurance</th>\n",
       "      <th>filter_vaso</th>\n",
       "      <th>...</th>\n",
       "      <th>pc_bronch</th>\n",
       "      <th>pc_cath</th>\n",
       "      <th>pc_echo</th>\n",
       "      <th>pc_pressor</th>\n",
       "      <th>pc_rhc</th>\n",
       "      <th>pc_thora</th>\n",
       "      <th>pc_vent</th>\n",
       "      <th>passed_filters</th>\n",
       "      <th>use_record</th>\n",
       "      <th>bmi</th>\n",
       "    </tr>\n",
       "  </thead>\n",
       "  <tbody>\n",
       "    <tr>\n",
       "      <th>0</th>\n",
       "      <td>200001</td>\n",
       "      <td>152234</td>\n",
       "      <td>55973</td>\n",
       "      <td>22290 days 19:06:12</td>\n",
       "      <td>F</td>\n",
       "      <td>167.851667</td>\n",
       "      <td>27.669135</td>\n",
       "      <td>ASIAN - ASIAN INDIAN</td>\n",
       "      <td>Medicare</td>\n",
       "      <td>False</td>\n",
       "      <td>...</td>\n",
       "      <td>0.0</td>\n",
       "      <td>0.0</td>\n",
       "      <td>0.0</td>\n",
       "      <td>0.0</td>\n",
       "      <td>0.0</td>\n",
       "      <td>0.0</td>\n",
       "      <td>0.0</td>\n",
       "      <td>NaN</td>\n",
       "      <td>NaN</td>\n",
       "      <td>9.820741</td>\n",
       "    </tr>\n",
       "    <tr>\n",
       "      <th>1</th>\n",
       "      <td>200003</td>\n",
       "      <td>163557</td>\n",
       "      <td>27513</td>\n",
       "      <td>17625 days 19:50:04</td>\n",
       "      <td>M</td>\n",
       "      <td>177.800000</td>\n",
       "      <td>78.224998</td>\n",
       "      <td>WHITE</td>\n",
       "      <td>Private</td>\n",
       "      <td>False</td>\n",
       "      <td>...</td>\n",
       "      <td>0.0</td>\n",
       "      <td>0.0</td>\n",
       "      <td>0.0</td>\n",
       "      <td>0.0</td>\n",
       "      <td>0.0</td>\n",
       "      <td>0.0</td>\n",
       "      <td>0.0</td>\n",
       "      <td>1.0</td>\n",
       "      <td>1.0</td>\n",
       "      <td>24.744692</td>\n",
       "    </tr>\n",
       "    <tr>\n",
       "      <th>2</th>\n",
       "      <td>200006</td>\n",
       "      <td>189514</td>\n",
       "      <td>10950</td>\n",
       "      <td>19736 days 11:28:14</td>\n",
       "      <td>M</td>\n",
       "      <td>165.100000</td>\n",
       "      <td>82.400002</td>\n",
       "      <td>OTHER</td>\n",
       "      <td>Medicaid</td>\n",
       "      <td>False</td>\n",
       "      <td>...</td>\n",
       "      <td>NaN</td>\n",
       "      <td>NaN</td>\n",
       "      <td>NaN</td>\n",
       "      <td>NaN</td>\n",
       "      <td>NaN</td>\n",
       "      <td>NaN</td>\n",
       "      <td>NaN</td>\n",
       "      <td>NaN</td>\n",
       "      <td>NaN</td>\n",
       "      <td>30.229647</td>\n",
       "    </tr>\n",
       "    <tr>\n",
       "      <th>3</th>\n",
       "      <td>200007</td>\n",
       "      <td>129310</td>\n",
       "      <td>20707</td>\n",
       "      <td>15818 days 10:03:37</td>\n",
       "      <td>M</td>\n",
       "      <td>177.800000</td>\n",
       "      <td>126.000000</td>\n",
       "      <td>WHITE</td>\n",
       "      <td>Private</td>\n",
       "      <td>False</td>\n",
       "      <td>...</td>\n",
       "      <td>NaN</td>\n",
       "      <td>NaN</td>\n",
       "      <td>NaN</td>\n",
       "      <td>NaN</td>\n",
       "      <td>NaN</td>\n",
       "      <td>NaN</td>\n",
       "      <td>NaN</td>\n",
       "      <td>NaN</td>\n",
       "      <td>NaN</td>\n",
       "      <td>39.857223</td>\n",
       "    </tr>\n",
       "    <tr>\n",
       "      <th>4</th>\n",
       "      <td>200009</td>\n",
       "      <td>129607</td>\n",
       "      <td>29904</td>\n",
       "      <td>17353 days 10:34:32</td>\n",
       "      <td>F</td>\n",
       "      <td>160.020000</td>\n",
       "      <td>85.833331</td>\n",
       "      <td>WHITE</td>\n",
       "      <td>Private</td>\n",
       "      <td>False</td>\n",
       "      <td>...</td>\n",
       "      <td>0.0</td>\n",
       "      <td>0.0</td>\n",
       "      <td>0.0</td>\n",
       "      <td>0.0</td>\n",
       "      <td>0.0</td>\n",
       "      <td>0.0</td>\n",
       "      <td>0.0</td>\n",
       "      <td>NaN</td>\n",
       "      <td>NaN</td>\n",
       "      <td>33.520264</td>\n",
       "    </tr>\n",
       "  </tbody>\n",
       "</table>\n",
       "<p>5 rows × 152 columns</p>\n",
       "</div>"
      ],
      "text/plain": [
       "   icustay_id  hadm_id  subject_id                 age gender      height  \\\n",
       "0      200001   152234       55973 22290 days 19:06:12      F  167.851667   \n",
       "1      200003   163557       27513 17625 days 19:50:04      M  177.800000   \n",
       "2      200006   189514       10950 19736 days 11:28:14      M  165.100000   \n",
       "3      200007   129310       20707 15818 days 10:03:37      M  177.800000   \n",
       "4      200009   129607       29904 17353 days 10:34:32      F  160.020000   \n",
       "\n",
       "       weight             ethnicity insurance filter_vaso    ...      \\\n",
       "0   27.669135  ASIAN - ASIAN INDIAN  Medicare       False    ...       \n",
       "1   78.224998                 WHITE   Private       False    ...       \n",
       "2   82.400002                 OTHER  Medicaid       False    ...       \n",
       "3  126.000000                 WHITE   Private       False    ...       \n",
       "4   85.833331                 WHITE   Private       False    ...       \n",
       "\n",
       "  pc_bronch pc_cath pc_echo pc_pressor pc_rhc pc_thora pc_vent passed_filters  \\\n",
       "0       0.0     0.0     0.0        0.0    0.0      0.0     0.0            NaN   \n",
       "1       0.0     0.0     0.0        0.0    0.0      0.0     0.0            1.0   \n",
       "2       NaN     NaN     NaN        NaN    NaN      NaN     NaN            NaN   \n",
       "3       NaN     NaN     NaN        NaN    NaN      NaN     NaN            NaN   \n",
       "4       0.0     0.0     0.0        0.0    0.0      0.0     0.0            NaN   \n",
       "\n",
       "  use_record        bmi  \n",
       "0        NaN   9.820741  \n",
       "1        1.0  24.744692  \n",
       "2        NaN  30.229647  \n",
       "3        NaN  39.857223  \n",
       "4        NaN  33.520264  \n",
       "\n",
       "[5 rows x 152 columns]"
      ]
     },
     "execution_count": 5,
     "metadata": {},
     "output_type": "execute_result"
    }
   ],
   "source": [
    "query = \"\"\"\n",
    "SELECT * FROM icu_features\n",
    "\"\"\"\n",
    "ef = pd.read_sql_query(query, con)\n",
    "ef.head()"
   ]
  },
  {
   "cell_type": "code",
   "execution_count": 6,
   "metadata": {
    "collapsed": false
   },
   "outputs": [
    {
     "data": {
      "text/plain": [
       "61532"
      ]
     },
     "execution_count": 6,
     "metadata": {},
     "output_type": "execute_result"
    }
   ],
   "source": [
    "len(ef)"
   ]
  },
  {
   "cell_type": "code",
   "execution_count": 7,
   "metadata": {
    "collapsed": true
   },
   "outputs": [],
   "source": [
    "F = (ef['use_record'] == 1)"
   ]
  },
  {
   "cell_type": "code",
   "execution_count": 8,
   "metadata": {
    "collapsed": false
   },
   "outputs": [
    {
     "data": {
      "text/plain": [
       "9320"
      ]
     },
     "execution_count": 8,
     "metadata": {},
     "output_type": "execute_result"
    }
   ],
   "source": [
    "ef = ef.loc[F]\n",
    "len(ef)"
   ]
  },
  {
   "cell_type": "code",
   "execution_count": 9,
   "metadata": {
    "collapsed": false
   },
   "outputs": [
    {
     "data": {
      "text/plain": [
       " 0.0    2297\n",
       "-1.0     308\n",
       " 3.0     220\n",
       " 1.0     183\n",
       " 2.0     147\n",
       "-2.0      71\n",
       "-3.0      30\n",
       "Name: ea_lv_systolic, dtype: int64"
      ]
     },
     "execution_count": 9,
     "metadata": {},
     "output_type": "execute_result"
    }
   ],
   "source": [
    "ef.ea_lv_systolic.value_counts()"
   ]
  },
  {
   "cell_type": "markdown",
   "metadata": {},
   "source": [
    "## Calculate MDRD and add to feature table"
   ]
  },
  {
   "cell_type": "code",
   "execution_count": 10,
   "metadata": {
    "collapsed": true
   },
   "outputs": [],
   "source": [
    "def mdrd(data):\n",
    "    creat = data.lab_creatinine\n",
    "    age = data.age/np.timedelta64('1', 'Y')\n",
    "    age.loc[age<0] = age.max()\n",
    "    gender = data.gender.apply(lambda x: 0.742 if x == 'F' else 1)\n",
    "    ethnicity = data.ethnicity.apply(lambda x: 1.212 if 'AFRICAN AMERICAN' in x else 1)\n",
    "    return 175*creat**(-1.154) * age**(-0.203) * gender * ethnicity"
   ]
  },
  {
   "cell_type": "code",
   "execution_count": 11,
   "metadata": {
    "collapsed": false
   },
   "outputs": [
    {
     "data": {
      "text/plain": [
       "0    2524\n",
       "1    2068\n",
       "2    1439\n",
       "4    1280\n",
       "3    1258\n",
       "5     503\n",
       "dtype: int64"
      ]
     },
     "execution_count": 11,
     "metadata": {},
     "output_type": "execute_result"
    }
   ],
   "source": [
    "value = mdrd(ef)\n",
    "ef['mdrd'] = value\n",
    "discrete = pd.cut(value, [0, 15, 30, 44, 60, 90, 1000000], labels=[5, 4, 3, 2, 1, 0], include_lowest=True)\n",
    "ef['mdrd_discrete'] = discrete\n",
    "discrete.value_counts()"
   ]
  },
  {
   "cell_type": "code",
   "execution_count": 12,
   "metadata": {
    "collapsed": false
   },
   "outputs": [
    {
     "data": {
      "text/plain": [
       "0    4592\n",
       "1    2697\n",
       "2    1783\n",
       "dtype: int64"
      ]
     },
     "execution_count": 12,
     "metadata": {},
     "output_type": "execute_result"
    }
   ],
   "source": [
    "discrete = pd.cut(value, [0, 30, 60, 1000000], labels=[2, 1, 0], include_lowest=True)\n",
    "ef['mdrd_3'] = discrete\n",
    "discrete.value_counts()"
   ]
  },
  {
   "cell_type": "code",
   "execution_count": 13,
   "metadata": {
    "collapsed": false
   },
   "outputs": [
    {
     "data": {
      "text/plain": [
       "248"
      ]
     },
     "execution_count": 13,
     "metadata": {},
     "output_type": "execute_result"
    }
   ],
   "source": [
    "sum(np.isnan(ef.mdrd))"
   ]
  },
  {
   "cell_type": "code",
   "execution_count": 14,
   "metadata": {
    "collapsed": false
   },
   "outputs": [
    {
     "data": {
      "text/plain": [
       "3242"
      ]
     },
     "execution_count": 14,
     "metadata": {},
     "output_type": "execute_result"
    }
   ],
   "source": [
    "sum(np.isnan(ef.bmi))"
   ]
  },
  {
   "cell_type": "code",
   "execution_count": 15,
   "metadata": {
    "collapsed": false
   },
   "outputs": [
    {
     "data": {
      "text/plain": [
       "637"
      ]
     },
     "execution_count": 15,
     "metadata": {},
     "output_type": "execute_result"
    }
   ],
   "source": [
    "sum(np.isnan(ef.fb_day1_balance_ml))"
   ]
  },
  {
   "cell_type": "code",
   "execution_count": 16,
   "metadata": {
    "collapsed": false
   },
   "outputs": [
    {
     "data": {
      "text/plain": [
       "2041"
      ]
     },
     "execution_count": 16,
     "metadata": {},
     "output_type": "execute_result"
    }
   ],
   "source": [
    "sum(np.isnan(ef.fb_day2_balance_ml))"
   ]
  },
  {
   "cell_type": "code",
   "execution_count": 17,
   "metadata": {
    "collapsed": false
   },
   "outputs": [
    {
     "data": {
      "text/plain": [
       "3832"
      ]
     },
     "execution_count": 17,
     "metadata": {},
     "output_type": "execute_result"
    }
   ],
   "source": [
    "sum(np.isnan(ef.fb_day3_balance_ml))"
   ]
  },
  {
   "cell_type": "markdown",
   "metadata": {},
   "source": [
    "## Create general features table"
   ]
  },
  {
   "cell_type": "code",
   "execution_count": 18,
   "metadata": {
    "collapsed": true
   },
   "outputs": [],
   "source": [
    "def normalize(x):\n",
    "    x = x.copy()\n",
    "    I = ~np.isnan(x)\n",
    "    x[I] = (x[I] - x[I].mean())/x[I].std()\n",
    "    return x"
   ]
  },
  {
   "cell_type": "code",
   "execution_count": 19,
   "metadata": {
    "collapsed": false
   },
   "outputs": [
    {
     "data": {
      "text/plain": [
       "0"
      ]
     },
     "execution_count": 19,
     "metadata": {},
     "output_type": "execute_result"
    }
   ],
   "source": [
    "## is apache score everr missing?\n",
    "sum(np.isnan(ef.apsiii))"
   ]
  },
  {
   "cell_type": "code",
   "execution_count": 20,
   "metadata": {
    "collapsed": false
   },
   "outputs": [
    {
     "data": {
      "text/html": [
       "<div>\n",
       "<table border=\"1\" class=\"dataframe\">\n",
       "  <thead>\n",
       "    <tr style=\"text-align: right;\">\n",
       "      <th></th>\n",
       "      <th>age</th>\n",
       "      <th>age_over_90</th>\n",
       "      <th>gender</th>\n",
       "      <th>bmi</th>\n",
       "      <th>bmi_missing</th>\n",
       "      <th>mech_vent</th>\n",
       "      <th>CHF</th>\n",
       "      <th>mdrd</th>\n",
       "      <th>creatinine_missing</th>\n",
       "      <th>apsiii</th>\n",
       "      <th>...</th>\n",
       "      <th>plm_htn_abnormal</th>\n",
       "      <th>rvcav_missing</th>\n",
       "      <th>rvcav_normal</th>\n",
       "      <th>rvcav_small</th>\n",
       "      <th>rvcav_dilated</th>\n",
       "      <th>lactate</th>\n",
       "      <th>lactate_missing</th>\n",
       "      <th>sicu</th>\n",
       "      <th>nsicu</th>\n",
       "      <th>micu</th>\n",
       "    </tr>\n",
       "  </thead>\n",
       "  <tbody>\n",
       "    <tr>\n",
       "      <th>1</th>\n",
       "      <td>0.100055</td>\n",
       "      <td>0.0</td>\n",
       "      <td>0.0</td>\n",
       "      <td>-0.002727</td>\n",
       "      <td>0.0</td>\n",
       "      <td>1.0</td>\n",
       "      <td>0.0</td>\n",
       "      <td>0.436365</td>\n",
       "      <td>0.0</td>\n",
       "      <td>-0.204515</td>\n",
       "      <td>...</td>\n",
       "      <td>1.0</td>\n",
       "      <td>0.0</td>\n",
       "      <td>1.0</td>\n",
       "      <td>0.0</td>\n",
       "      <td>0.0</td>\n",
       "      <td>0.716411</td>\n",
       "      <td>0.0</td>\n",
       "      <td>0.0</td>\n",
       "      <td>1.0</td>\n",
       "      <td>0.0</td>\n",
       "    </tr>\n",
       "    <tr>\n",
       "      <th>16</th>\n",
       "      <td>0.450966</td>\n",
       "      <td>0.0</td>\n",
       "      <td>1.0</td>\n",
       "      <td>0.000000</td>\n",
       "      <td>1.0</td>\n",
       "      <td>0.0</td>\n",
       "      <td>1.0</td>\n",
       "      <td>0.000000</td>\n",
       "      <td>1.0</td>\n",
       "      <td>0.364843</td>\n",
       "      <td>...</td>\n",
       "      <td>0.0</td>\n",
       "      <td>0.0</td>\n",
       "      <td>0.0</td>\n",
       "      <td>0.0</td>\n",
       "      <td>0.0</td>\n",
       "      <td>3.776100</td>\n",
       "      <td>0.0</td>\n",
       "      <td>0.0</td>\n",
       "      <td>0.0</td>\n",
       "      <td>1.0</td>\n",
       "    </tr>\n",
       "    <tr>\n",
       "      <th>20</th>\n",
       "      <td>0.164522</td>\n",
       "      <td>0.0</td>\n",
       "      <td>0.0</td>\n",
       "      <td>0.044261</td>\n",
       "      <td>0.0</td>\n",
       "      <td>0.0</td>\n",
       "      <td>0.0</td>\n",
       "      <td>0.404471</td>\n",
       "      <td>0.0</td>\n",
       "      <td>0.145859</td>\n",
       "      <td>...</td>\n",
       "      <td>0.0</td>\n",
       "      <td>0.0</td>\n",
       "      <td>1.0</td>\n",
       "      <td>0.0</td>\n",
       "      <td>0.0</td>\n",
       "      <td>0.065522</td>\n",
       "      <td>0.0</td>\n",
       "      <td>0.0</td>\n",
       "      <td>0.0</td>\n",
       "      <td>1.0</td>\n",
       "    </tr>\n",
       "    <tr>\n",
       "      <th>22</th>\n",
       "      <td>0.305922</td>\n",
       "      <td>0.0</td>\n",
       "      <td>0.0</td>\n",
       "      <td>-0.088287</td>\n",
       "      <td>0.0</td>\n",
       "      <td>0.0</td>\n",
       "      <td>0.0</td>\n",
       "      <td>0.729504</td>\n",
       "      <td>0.0</td>\n",
       "      <td>-1.036653</td>\n",
       "      <td>...</td>\n",
       "      <td>0.0</td>\n",
       "      <td>0.0</td>\n",
       "      <td>0.0</td>\n",
       "      <td>0.0</td>\n",
       "      <td>0.0</td>\n",
       "      <td>0.000000</td>\n",
       "      <td>1.0</td>\n",
       "      <td>1.0</td>\n",
       "      <td>0.0</td>\n",
       "      <td>0.0</td>\n",
       "    </tr>\n",
       "    <tr>\n",
       "      <th>25</th>\n",
       "      <td>0.390890</td>\n",
       "      <td>0.0</td>\n",
       "      <td>0.0</td>\n",
       "      <td>0.000000</td>\n",
       "      <td>1.0</td>\n",
       "      <td>0.0</td>\n",
       "      <td>0.0</td>\n",
       "      <td>-0.400352</td>\n",
       "      <td>0.0</td>\n",
       "      <td>2.204305</td>\n",
       "      <td>...</td>\n",
       "      <td>0.0</td>\n",
       "      <td>0.0</td>\n",
       "      <td>0.0</td>\n",
       "      <td>0.0</td>\n",
       "      <td>0.0</td>\n",
       "      <td>0.000000</td>\n",
       "      <td>1.0</td>\n",
       "      <td>1.0</td>\n",
       "      <td>0.0</td>\n",
       "      <td>1.0</td>\n",
       "    </tr>\n",
       "  </tbody>\n",
       "</table>\n",
       "<p>5 rows × 28 columns</p>\n",
       "</div>"
      ],
      "text/plain": [
       "         age  age_over_90  gender       bmi  bmi_missing  mech_vent  CHF  \\\n",
       "1   0.100055          0.0     0.0 -0.002727          0.0        1.0  0.0   \n",
       "16  0.450966          0.0     1.0  0.000000          1.0        0.0  1.0   \n",
       "20  0.164522          0.0     0.0  0.044261          0.0        0.0  0.0   \n",
       "22  0.305922          0.0     0.0 -0.088287          0.0        0.0  0.0   \n",
       "25  0.390890          0.0     0.0  0.000000          1.0        0.0  0.0   \n",
       "\n",
       "        mdrd  creatinine_missing    apsiii  ...   plm_htn_abnormal  \\\n",
       "1   0.436365                 0.0 -0.204515  ...                1.0   \n",
       "16  0.000000                 1.0  0.364843  ...                0.0   \n",
       "20  0.404471                 0.0  0.145859  ...                0.0   \n",
       "22  0.729504                 0.0 -1.036653  ...                0.0   \n",
       "25 -0.400352                 0.0  2.204305  ...                0.0   \n",
       "\n",
       "    rvcav_missing  rvcav_normal  rvcav_small  rvcav_dilated   lactate  \\\n",
       "1             0.0           1.0          0.0            0.0  0.716411   \n",
       "16            0.0           0.0          0.0            0.0  3.776100   \n",
       "20            0.0           1.0          0.0            0.0  0.065522   \n",
       "22            0.0           0.0          0.0            0.0  0.000000   \n",
       "25            0.0           0.0          0.0            0.0  0.000000   \n",
       "\n",
       "    lactate_missing  sicu  nsicu  micu  \n",
       "1               0.0   0.0    1.0   0.0  \n",
       "16              0.0   0.0    0.0   1.0  \n",
       "20              0.0   0.0    0.0   1.0  \n",
       "22              1.0   1.0    0.0   0.0  \n",
       "25              1.0   1.0    0.0   1.0  \n",
       "\n",
       "[5 rows x 28 columns]"
      ]
     },
     "execution_count": 20,
     "metadata": {},
     "output_type": "execute_result"
    }
   ],
   "source": [
    "X = pd.DataFrame()\n",
    "\n",
    "# build the features table\n",
    "age = ef.age/np.timedelta64('1', 'Y') # time in years\n",
    "age_masked = age < 0 # if age is less than 0, then the person is above 89 (90?)\n",
    "age = normalize(age)\n",
    "age[age_masked] = 0\n",
    "X['age'] = age\n",
    "X['age_over_90'] = age_masked.astype(float)\n",
    "\n",
    "gender = ef.gender\n",
    "gender = (gender == 'F').astype(float)\n",
    "X['gender'] = gender\n",
    "\n",
    "bmi = ef.bmi\n",
    "bmi_missing = np.isnan(bmi)\n",
    "bmi = normalize(bmi)\n",
    "bmi[bmi_missing] = 0\n",
    "X['bmi'] = bmi\n",
    "X['bmi_missing'] = bmi_missing.astype(float)\n",
    "\n",
    "mech_vent = ef.vf_first_day_vent.astype(float)\n",
    "X['mech_vent'] = mech_vent\n",
    "\n",
    "chf = ef.ex_congestive_heart_failure.astype(float)\n",
    "X['CHF'] = chf\n",
    "\n",
    "mdrd = ef.mdrd\n",
    "mdrd_missing = np.isnan(mdrd)\n",
    "mdrd = normalize(mdrd)\n",
    "mdrd[mdrd_missing] = 0\n",
    "X['mdrd'] = mdrd\n",
    "\n",
    "# MDRD missing is already largely covered by BMI missing\n",
    "# the only other missing values come from missing creatinine lab\n",
    "# so add that\n",
    "creatinine_missing = np.isnan(ef.lab_creatinine)\n",
    "X['creatinine_missing'] = creatinine_missing.astype(float)\n",
    "\n",
    "apsiii = ef.apsiii\n",
    "#apsiii_missing = np.isnan(apsiii)\n",
    "apsiii = normalize(apsiii)\n",
    "#apsiii[apsiii_missing] = 0\n",
    "X['apsiii'] = apsiii\n",
    "#X['apsiii_missing'] = apsiii_missing.astype(float)\n",
    "\n",
    "no_echo = np.isnan(ef.ea_key)\n",
    "#X['no_echo'] = no_echo.astype(float)\n",
    "\n",
    "lvsys = ef.ea_lv_systolic\n",
    "lv_missing = ((np.isnan(lvsys) | (lvsys < -1)) & ~no_echo).astype(float)\n",
    "lv_normal = (lvsys == 0).astype(float)\n",
    "lv_hyperdynamic = (lvsys == -1).astype(float)\n",
    "lv_mild_depressed = (lvsys == 1).astype(float)\n",
    "lv_mod_depressed = (lvsys == 2).astype(float)\n",
    "lv_sev_depressed = (lvsys == 3).astype(float)\n",
    "X['lv_missing'] = lv_missing\n",
    "X['lv_normal'] = lv_normal\n",
    "X['lv_hyper'] = lv_hyperdynamic\n",
    "X['lv_mild'] = lv_mild_depressed\n",
    "X['lv_moderate'] = lv_mod_depressed\n",
    "X['lv_severe'] = lv_sev_depressed\n",
    "\n",
    "tvpulm = ef.ea_tv_pulm_htn\n",
    "tv_missing = ((np.isnan(tvpulm) | (tvpulm < -2)) & ~no_echo).astype(float)\n",
    "tv_normal = (tvpulm == 0).astype(float)\n",
    "tv_abnormal = ((tvpulm == -2) | (tvpulm > 0)).astype(float)\n",
    "X['plm_htn_missing'] = tv_missing\n",
    "X['plm_htn_normal'] = tv_normal\n",
    "X['plm_htn_abnormal'] = tv_abnormal\n",
    "\n",
    "rvcavity = ef.ea_rv_cavity\n",
    "rvcav_missing = ((np.isnan(rvcavity) | (rvcavity < -2)) & ~no_echo).astype(float)\n",
    "rvcav_normal = (rvcavity == 0).astype(float)\n",
    "rvcav_small = (rvcavity == -1).astype(float)\n",
    "rvcav_dilated = ((rvcavity == -2) | (rvcavity > 0)).astype(float)\n",
    "X['rvcav_missing'] = rvcav_missing\n",
    "X['rvcav_normal'] = rvcav_normal\n",
    "X['rvcav_small'] = rvcav_small\n",
    "X['rvcav_dilated'] = rvcav_dilated\n",
    "\n",
    "lactate = ef.lab_lactate\n",
    "lactate_missing = np.isnan(lactate)\n",
    "lactate = normalize(lactate)\n",
    "lactate[lactate_missing] = 0\n",
    "X['lactate'] = lactate\n",
    "X['lactate_missing'] = lactate_missing.astype(float)\n",
    "\n",
    "## which ICU was treating the patient\n",
    "sicu = ef.st_sicu.astype(float)\n",
    "sicu[np.isnan(sicu)] = 0\n",
    "nsicu = ef.st_nsicu.astype(float)\n",
    "nsicu[np.isnan(nsicu)] = 0\n",
    "micu = ef.st_micu.astype(float)\n",
    "micu[np.isnan(micu)] = 0\n",
    "X['sicu'] = sicu\n",
    "X['nsicu'] = nsicu\n",
    "X['micu'] = micu\n",
    "\n",
    "X.head()"
   ]
  },
  {
   "cell_type": "markdown",
   "metadata": {},
   "source": [
    "## Features matrix with fluid balance"
   ]
  },
  {
   "cell_type": "code",
   "execution_count": 21,
   "metadata": {
    "collapsed": false
   },
   "outputs": [],
   "source": [
    "## make the features table. include fluid balance on days 1,2,3 of ICU stay\n",
    "X_mortality = X.copy()\n",
    "\n",
    "fluid_day1 = ef.fb_day1_balance_ml.values\n",
    "fl_missing = np.isnan(fluid_day1) | ef.fb_day1_balance_truncated.eq(1).values # also filter insane fluid balances\n",
    "fluid_day1[~fl_missing] = normalize(fluid_day1[~fl_missing])\n",
    "fluid_day1[fl_missing] = 0\n",
    "X_mortality['fluid_day1'] = fluid_day1\n",
    "X_mortality['fluid_day1_missing'] = fl_missing.astype(float)\n",
    "\n",
    "fluid_day2 = ef.fb_day2_balance_ml.values\n",
    "fl_missing = np.isnan(fluid_day2) | ef.fb_day2_balance_truncated.eq(1).values\n",
    "fluid_day2[~fl_missing] = normalize(fluid_day2[~fl_missing])\n",
    "fluid_day2[fl_missing] = 0\n",
    "X_mortality['fluid_day2'] = fluid_day2\n",
    "X_mortality['fluid_day2_missing'] = fl_missing.astype(float)\n",
    "\n",
    "fluid_day3 = ef.fb_day3_balance_ml.values\n",
    "fl_missing = np.isnan(fluid_day3) | ef.fb_day3_balance_truncated.eq(1).values\n",
    "fluid_day3[~fl_missing] = normalize(fluid_day3[~fl_missing])\n",
    "fluid_day3[fl_missing] = 0\n",
    "X_mortality['fluid_day3'] = fluid_day3\n",
    "X_mortality['fluid_day3_missing'] = fl_missing.astype(float)\n",
    "\n",
    "y_mortality = (ef.dod - ef.intime) < np.timedelta64(30, 'D')\n",
    "y_mortality = y_mortality.astype(float)\n",
    "X_mortality['mortality_day30'] = y_mortality\n",
    "\n",
    "#select = ~((ef.dod - ef.intime) < np.timedelta64(3, 'D'))\n",
    "#Xf = X_mortality.loc[select].drop('mortality_day30', axis = 1)\n",
    "#yf = X_mortality.loc[select, 'mortality_day30']\n",
    "Xf = X_mortality.drop('mortality_day30', axis = 1)\n",
    "yf = X_mortality['mortality_day30']"
   ]
  },
  {
   "cell_type": "code",
   "execution_count": 22,
   "metadata": {
    "collapsed": false
   },
   "outputs": [
    {
     "data": {
      "text/plain": [
       "(9320, 34)"
      ]
     },
     "execution_count": 22,
     "metadata": {},
     "output_type": "execute_result"
    }
   ],
   "source": [
    "Xf.shape"
   ]
  },
  {
   "cell_type": "code",
   "execution_count": 23,
   "metadata": {
    "collapsed": false
   },
   "outputs": [
    {
     "data": {
      "text/plain": [
       "(0.2811158798283262, 2620.0, 9320)"
      ]
     },
     "execution_count": 23,
     "metadata": {},
     "output_type": "execute_result"
    }
   ],
   "source": [
    "yf.mean(), yf.sum(), len(yf)"
   ]
  },
  {
   "cell_type": "markdown",
   "metadata": {},
   "source": [
    "## Logistic Regression model for predicting 30-day mortality\n",
    "\n",
    "3-fold cross-validation to select regularization strength for L1 penalty with accuracy as target"
   ]
  },
  {
   "cell_type": "code",
   "execution_count": 24,
   "metadata": {
    "collapsed": true
   },
   "outputs": [],
   "source": [
    "import sklearn as sk\n",
    "\n",
    "import sklearn.model_selection\n",
    "import sklearn.linear_model\n",
    "import sklearn.preprocessing"
   ]
  },
  {
   "cell_type": "code",
   "execution_count": 25,
   "metadata": {
    "collapsed": true
   },
   "outputs": [],
   "source": [
    "Xtr, Xte, ytr, yte = sk.model_selection.train_test_split(Xf, yf)"
   ]
  },
  {
   "cell_type": "code",
   "execution_count": 26,
   "metadata": {
    "collapsed": false
   },
   "outputs": [
    {
     "data": {
      "text/plain": [
       "0.75493562231759659"
      ]
     },
     "execution_count": 26,
     "metadata": {},
     "output_type": "execute_result"
    }
   ],
   "source": [
    "model = sk.linear_model.LogisticRegressionCV(cv = 3, penalty = 'l1', solver = 'liblinear')\n",
    "model.fit(Xtr, ytr)\n",
    "ypr = model.predict(Xte)\n",
    "\n",
    "(ypr == yte).mean()"
   ]
  },
  {
   "cell_type": "code",
   "execution_count": 27,
   "metadata": {
    "collapsed": false
   },
   "outputs": [
    {
     "data": {
      "text/plain": [
       "lv_normal            -0.167131\n",
       "rvcav_normal         -0.131784\n",
       "fluid_day1           -0.083444\n",
       "gender               -0.072851\n",
       "fluid_day3_missing   -0.065204\n",
       "plm_htn_normal       -0.016074\n",
       "lactate_missing      -0.000950\n",
       "rvcav_dilated         0.000000\n",
       "lv_mild               0.000000\n",
       "lv_moderate           0.000000\n",
       "sicu                  0.010416\n",
       "CHF                   0.011951\n",
       "fluid_day2            0.012738\n",
       "rvcav_missing         0.029747\n",
       "bmi                   0.059284\n",
       "plm_htn_missing       0.066087\n",
       "lv_missing            0.116678\n",
       "mdrd                  0.118324\n",
       "fluid_day1_missing    0.127234\n",
       "fluid_day3            0.136822\n",
       "lv_severe             0.148347\n",
       "nsicu                 0.151066\n",
       "fluid_day2_missing    0.222262\n",
       "micu                  0.286401\n",
       "bmi_missing           0.290106\n",
       "plm_htn_abnormal      0.383830\n",
       "lv_hyper              0.385965\n",
       "mech_vent             0.422374\n",
       "lactate               0.505210\n",
       "apsiii                0.845745\n",
       "rvcav_small           0.965531\n",
       "age_over_90           1.104053\n",
       "creatinine_missing    1.344491\n",
       "age                   2.183946\n",
       "dtype: float64"
      ]
     },
     "execution_count": 27,
     "metadata": {},
     "output_type": "execute_result"
    }
   ],
   "source": [
    "pd.Series(model.coef_[0], index = list(Xtr.columns)).sort_values()"
   ]
  },
  {
   "cell_type": "markdown",
   "metadata": {},
   "source": [
    "3-fold cross-validation to select regularization strength for L2 penalty with accuracy as target"
   ]
  },
  {
   "cell_type": "code",
   "execution_count": 28,
   "metadata": {
    "collapsed": false
   },
   "outputs": [
    {
     "data": {
      "text/plain": [
       "0.75364806866952794"
      ]
     },
     "execution_count": 28,
     "metadata": {},
     "output_type": "execute_result"
    }
   ],
   "source": [
    "model = sk.linear_model.LogisticRegressionCV(cv = 3, penalty = 'l2')\n",
    "model.fit(Xtr, ytr)\n",
    "ypr = model.predict(Xte)\n",
    "\n",
    "(ypr == yte).mean()"
   ]
  },
  {
   "cell_type": "code",
   "execution_count": 29,
   "metadata": {
    "collapsed": false
   },
   "outputs": [
    {
     "data": {
      "text/plain": [
       "lv_normal            -0.186288\n",
       "plm_htn_normal       -0.091644\n",
       "fluid_day1           -0.069201\n",
       "rvcav_normal         -0.045313\n",
       "gender               -0.040613\n",
       "fluid_day3_missing   -0.034616\n",
       "lv_mild              -0.021568\n",
       "lv_moderate          -0.021055\n",
       "plm_htn_missing      -0.016898\n",
       "sicu                 -0.011632\n",
       "lactate_missing       0.019507\n",
       "fluid_day2            0.035158\n",
       "bmi                   0.056076\n",
       "rvcav_small           0.068352\n",
       "mdrd                  0.076070\n",
       "lv_severe             0.081821\n",
       "nsicu                 0.081916\n",
       "rvcav_missing         0.082692\n",
       "rvcav_dilated         0.091744\n",
       "CHF                   0.096973\n",
       "lv_missing            0.101741\n",
       "fluid_day3            0.112621\n",
       "fluid_day1_missing    0.128855\n",
       "fluid_day2_missing    0.208057\n",
       "micu                  0.232699\n",
       "lv_hyper              0.242823\n",
       "bmi_missing           0.282517\n",
       "plm_htn_abnormal      0.306017\n",
       "mech_vent             0.361026\n",
       "lactate               0.460021\n",
       "age_over_90           0.577455\n",
       "creatinine_missing    0.795151\n",
       "apsiii                0.810476\n",
       "age                   1.072689\n",
       "dtype: float64"
      ]
     },
     "execution_count": 29,
     "metadata": {},
     "output_type": "execute_result"
    }
   ],
   "source": [
    "pd.Series(model.coef_[0], index = list(Xtr.columns)).sort_values()"
   ]
  },
  {
   "cell_type": "markdown",
   "metadata": {},
   "source": [
    "## All interaction features"
   ]
  },
  {
   "cell_type": "code",
   "execution_count": 30,
   "metadata": {
    "collapsed": false
   },
   "outputs": [
    {
     "data": {
      "text/html": [
       "<div>\n",
       "<table border=\"1\" class=\"dataframe\">\n",
       "  <thead>\n",
       "    <tr style=\"text-align: right;\">\n",
       "      <th></th>\n",
       "      <th>1</th>\n",
       "      <th>age</th>\n",
       "      <th>age_over_90</th>\n",
       "      <th>gender</th>\n",
       "      <th>bmi</th>\n",
       "      <th>bmi_missing</th>\n",
       "      <th>mech_vent</th>\n",
       "      <th>CHF</th>\n",
       "      <th>mdrd</th>\n",
       "      <th>creatinine_missing</th>\n",
       "      <th>...</th>\n",
       "      <th>fluid_day1_missing*fluid_day2</th>\n",
       "      <th>fluid_day1_missing*fluid_day2_missing</th>\n",
       "      <th>fluid_day1_missing*fluid_day3</th>\n",
       "      <th>fluid_day1_missing*fluid_day3_missing</th>\n",
       "      <th>fluid_day2*fluid_day2_missing</th>\n",
       "      <th>fluid_day2*fluid_day3</th>\n",
       "      <th>fluid_day2*fluid_day3_missing</th>\n",
       "      <th>fluid_day2_missing*fluid_day3</th>\n",
       "      <th>fluid_day2_missing*fluid_day3_missing</th>\n",
       "      <th>fluid_day3*fluid_day3_missing</th>\n",
       "    </tr>\n",
       "  </thead>\n",
       "  <tbody>\n",
       "    <tr>\n",
       "      <th>0</th>\n",
       "      <td>1.0</td>\n",
       "      <td>0.100055</td>\n",
       "      <td>0.0</td>\n",
       "      <td>0.0</td>\n",
       "      <td>-0.002727</td>\n",
       "      <td>0.0</td>\n",
       "      <td>1.0</td>\n",
       "      <td>0.0</td>\n",
       "      <td>0.436365</td>\n",
       "      <td>0.0</td>\n",
       "      <td>...</td>\n",
       "      <td>-0.0</td>\n",
       "      <td>0.0</td>\n",
       "      <td>0.0</td>\n",
       "      <td>0.0</td>\n",
       "      <td>-0.0</td>\n",
       "      <td>-0.000000</td>\n",
       "      <td>-0.199688</td>\n",
       "      <td>0.0</td>\n",
       "      <td>0.0</td>\n",
       "      <td>0.0</td>\n",
       "    </tr>\n",
       "    <tr>\n",
       "      <th>1</th>\n",
       "      <td>1.0</td>\n",
       "      <td>0.450966</td>\n",
       "      <td>0.0</td>\n",
       "      <td>1.0</td>\n",
       "      <td>0.000000</td>\n",
       "      <td>1.0</td>\n",
       "      <td>0.0</td>\n",
       "      <td>1.0</td>\n",
       "      <td>0.000000</td>\n",
       "      <td>1.0</td>\n",
       "      <td>...</td>\n",
       "      <td>0.0</td>\n",
       "      <td>0.0</td>\n",
       "      <td>0.0</td>\n",
       "      <td>0.0</td>\n",
       "      <td>0.0</td>\n",
       "      <td>0.000000</td>\n",
       "      <td>0.000000</td>\n",
       "      <td>0.0</td>\n",
       "      <td>1.0</td>\n",
       "      <td>0.0</td>\n",
       "    </tr>\n",
       "    <tr>\n",
       "      <th>2</th>\n",
       "      <td>1.0</td>\n",
       "      <td>0.164522</td>\n",
       "      <td>0.0</td>\n",
       "      <td>0.0</td>\n",
       "      <td>0.044261</td>\n",
       "      <td>0.0</td>\n",
       "      <td>0.0</td>\n",
       "      <td>0.0</td>\n",
       "      <td>0.404471</td>\n",
       "      <td>0.0</td>\n",
       "      <td>...</td>\n",
       "      <td>-0.0</td>\n",
       "      <td>0.0</td>\n",
       "      <td>-0.0</td>\n",
       "      <td>0.0</td>\n",
       "      <td>-0.0</td>\n",
       "      <td>1.108478</td>\n",
       "      <td>-0.000000</td>\n",
       "      <td>-0.0</td>\n",
       "      <td>0.0</td>\n",
       "      <td>-0.0</td>\n",
       "    </tr>\n",
       "    <tr>\n",
       "      <th>3</th>\n",
       "      <td>1.0</td>\n",
       "      <td>0.305922</td>\n",
       "      <td>0.0</td>\n",
       "      <td>0.0</td>\n",
       "      <td>-0.088287</td>\n",
       "      <td>0.0</td>\n",
       "      <td>0.0</td>\n",
       "      <td>0.0</td>\n",
       "      <td>0.729504</td>\n",
       "      <td>0.0</td>\n",
       "      <td>...</td>\n",
       "      <td>-0.0</td>\n",
       "      <td>0.0</td>\n",
       "      <td>-0.0</td>\n",
       "      <td>0.0</td>\n",
       "      <td>-0.0</td>\n",
       "      <td>0.013806</td>\n",
       "      <td>-0.000000</td>\n",
       "      <td>-0.0</td>\n",
       "      <td>0.0</td>\n",
       "      <td>-0.0</td>\n",
       "    </tr>\n",
       "    <tr>\n",
       "      <th>4</th>\n",
       "      <td>1.0</td>\n",
       "      <td>0.390890</td>\n",
       "      <td>0.0</td>\n",
       "      <td>0.0</td>\n",
       "      <td>0.000000</td>\n",
       "      <td>1.0</td>\n",
       "      <td>0.0</td>\n",
       "      <td>0.0</td>\n",
       "      <td>-0.400352</td>\n",
       "      <td>0.0</td>\n",
       "      <td>...</td>\n",
       "      <td>-0.0</td>\n",
       "      <td>0.0</td>\n",
       "      <td>-0.0</td>\n",
       "      <td>0.0</td>\n",
       "      <td>-0.0</td>\n",
       "      <td>0.010561</td>\n",
       "      <td>-0.000000</td>\n",
       "      <td>-0.0</td>\n",
       "      <td>0.0</td>\n",
       "      <td>-0.0</td>\n",
       "    </tr>\n",
       "  </tbody>\n",
       "</table>\n",
       "<p>5 rows × 596 columns</p>\n",
       "</div>"
      ],
      "text/plain": [
       "     1       age  age_over_90  gender       bmi  bmi_missing  mech_vent  CHF  \\\n",
       "0  1.0  0.100055          0.0     0.0 -0.002727          0.0        1.0  0.0   \n",
       "1  1.0  0.450966          0.0     1.0  0.000000          1.0        0.0  1.0   \n",
       "2  1.0  0.164522          0.0     0.0  0.044261          0.0        0.0  0.0   \n",
       "3  1.0  0.305922          0.0     0.0 -0.088287          0.0        0.0  0.0   \n",
       "4  1.0  0.390890          0.0     0.0  0.000000          1.0        0.0  0.0   \n",
       "\n",
       "       mdrd  creatinine_missing              ...                \\\n",
       "0  0.436365                 0.0              ...                 \n",
       "1  0.000000                 1.0              ...                 \n",
       "2  0.404471                 0.0              ...                 \n",
       "3  0.729504                 0.0              ...                 \n",
       "4 -0.400352                 0.0              ...                 \n",
       "\n",
       "   fluid_day1_missing*fluid_day2  fluid_day1_missing*fluid_day2_missing  \\\n",
       "0                           -0.0                                    0.0   \n",
       "1                            0.0                                    0.0   \n",
       "2                           -0.0                                    0.0   \n",
       "3                           -0.0                                    0.0   \n",
       "4                           -0.0                                    0.0   \n",
       "\n",
       "   fluid_day1_missing*fluid_day3  fluid_day1_missing*fluid_day3_missing  \\\n",
       "0                            0.0                                    0.0   \n",
       "1                            0.0                                    0.0   \n",
       "2                           -0.0                                    0.0   \n",
       "3                           -0.0                                    0.0   \n",
       "4                           -0.0                                    0.0   \n",
       "\n",
       "   fluid_day2*fluid_day2_missing  fluid_day2*fluid_day3  \\\n",
       "0                           -0.0              -0.000000   \n",
       "1                            0.0               0.000000   \n",
       "2                           -0.0               1.108478   \n",
       "3                           -0.0               0.013806   \n",
       "4                           -0.0               0.010561   \n",
       "\n",
       "   fluid_day2*fluid_day3_missing  fluid_day2_missing*fluid_day3  \\\n",
       "0                      -0.199688                            0.0   \n",
       "1                       0.000000                            0.0   \n",
       "2                      -0.000000                           -0.0   \n",
       "3                      -0.000000                           -0.0   \n",
       "4                      -0.000000                           -0.0   \n",
       "\n",
       "   fluid_day2_missing*fluid_day3_missing  fluid_day3*fluid_day3_missing  \n",
       "0                                    0.0                            0.0  \n",
       "1                                    1.0                            0.0  \n",
       "2                                    0.0                           -0.0  \n",
       "3                                    0.0                           -0.0  \n",
       "4                                    0.0                           -0.0  \n",
       "\n",
       "[5 rows x 596 columns]"
      ]
     },
     "execution_count": 30,
     "metadata": {},
     "output_type": "execute_result"
    }
   ],
   "source": [
    "pf = sk.preprocessing.PolynomialFeatures(interaction_only = True)\n",
    "X_p2 = pd.DataFrame(pf.fit_transform(Xf), \n",
    "    columns = pf.get_feature_names(list(Xf)))\n",
    "X_p2.columns = [c.replace(' ', '*') for c in X_p2.columns]\n",
    "X_p2.head()"
   ]
  },
  {
   "cell_type": "markdown",
   "metadata": {},
   "source": [
    "L1"
   ]
  },
  {
   "cell_type": "code",
   "execution_count": 31,
   "metadata": {
    "collapsed": true
   },
   "outputs": [],
   "source": [
    "Xtr, Xte, ytr, yte = sk.model_selection.train_test_split(X_p2, yf)"
   ]
  },
  {
   "cell_type": "code",
   "execution_count": 32,
   "metadata": {
    "collapsed": false
   },
   "outputs": [
    {
     "data": {
      "text/plain": [
       "0.77682403433476399"
      ]
     },
     "execution_count": 32,
     "metadata": {},
     "output_type": "execute_result"
    }
   ],
   "source": [
    "model = sk.linear_model.LogisticRegressionCV(cv = 3, penalty = 'l1', solver = 'liblinear')\n",
    "model.fit(Xtr, ytr)\n",
    "ypr = model.predict(Xte)\n",
    "\n",
    "(ypr == yte).mean()"
   ]
  },
  {
   "cell_type": "code",
   "execution_count": 33,
   "metadata": {
    "collapsed": false
   },
   "outputs": [
    {
     "data": {
      "text/plain": [
       "1                                    -0.919716\n",
       "mdrd*lv_moderate                     -0.583970\n",
       "mech_vent*fluid_day1_missing         -0.580007\n",
       "plm_htn_missing*fluid_day2_missing   -0.574535\n",
       "plm_htn_missing*rvcav_dilated        -0.552757\n",
       "fluid_day2_missing*fluid_day3        -0.548595\n",
       "age_over_90*lactate                  -0.528906\n",
       "micu*fluid_day3_missing              -0.509843\n",
       "lv_missing*fluid_day1                -0.476980\n",
       "fluid_day1                           -0.470833\n",
       "apsiii*rvcav_missing                 -0.447268\n",
       "age*lactate                          -0.376428\n",
       "age*apsiii                           -0.374328\n",
       "fluid_day1_missing*fluid_day2        -0.369221\n",
       "fluid_day2                           -0.358981\n",
       "dtype: float64"
      ]
     },
     "execution_count": 33,
     "metadata": {},
     "output_type": "execute_result"
    }
   ],
   "source": [
    "coefs = pd.Series(model.coef_[0], index = list(Xtr.columns)).sort_values()\n",
    "coefs.head(n = 15)"
   ]
  },
  {
   "cell_type": "code",
   "execution_count": 34,
   "metadata": {
    "collapsed": false
   },
   "outputs": [
    {
     "data": {
      "text/plain": [
       "lv_missing*fluid_day3                    0.389139\n",
       "age*mech_vent                            0.397288\n",
       "lv_severe*fluid_day2_missing             0.414278\n",
       "mech_vent*fluid_day3_missing             0.416900\n",
       "lactate                                  0.442054\n",
       "apsiii*fluid_day3_missing                0.488437\n",
       "creatinine_missing*fluid_day3_missing    0.559581\n",
       "micu*fluid_day1_missing                  0.712437\n",
       "creatinine_missing*fluid_day2_missing    0.823204\n",
       "fluid_day3                               0.831327\n",
       "age_over_90                              0.853124\n",
       "apsiii                                   0.854135\n",
       "fluid_day1*fluid_day2_missing            0.912607\n",
       "fluid_day2*fluid_day3_missing            1.042561\n",
       "age                                      1.830782\n",
       "dtype: float64"
      ]
     },
     "execution_count": 34,
     "metadata": {},
     "output_type": "execute_result"
    }
   ],
   "source": [
    "coefs.tail(n = 15)"
   ]
  },
  {
   "cell_type": "code",
   "execution_count": 35,
   "metadata": {
    "collapsed": false
   },
   "outputs": [
    {
     "data": {
      "text/plain": [
       "False    380\n",
       "True     216\n",
       "dtype: int64"
      ]
     },
     "execution_count": 35,
     "metadata": {},
     "output_type": "execute_result"
    }
   ],
   "source": [
    "(abs(coefs - 0) > 1e-6).value_counts()"
   ]
  },
  {
   "cell_type": "markdown",
   "metadata": {},
   "source": [
    "L2"
   ]
  },
  {
   "cell_type": "code",
   "execution_count": 36,
   "metadata": {
    "collapsed": false
   },
   "outputs": [
    {
     "data": {
      "text/plain": [
       "0.77596566523605148"
      ]
     },
     "execution_count": 36,
     "metadata": {},
     "output_type": "execute_result"
    }
   ],
   "source": [
    "model = sk.linear_model.LogisticRegressionCV(cv = 3, penalty = 'l2')\n",
    "model.fit(Xtr, ytr)\n",
    "ypr = model.predict(Xte)\n",
    "\n",
    "(ypr == yte).mean()"
   ]
  },
  {
   "cell_type": "code",
   "execution_count": 37,
   "metadata": {
    "collapsed": false
   },
   "outputs": [
    {
     "data": {
      "text/plain": [
       "micu*fluid_day3_missing               -0.357173\n",
       "fluid_day1                            -0.317277\n",
       "mech_vent*fluid_day1_missing          -0.316277\n",
       "lv_missing*fluid_day1                 -0.262019\n",
       "age_over_90*lactate                   -0.249532\n",
       "plm_htn_missing*rvcav_dilated         -0.244698\n",
       "apsiii*rvcav_missing                  -0.233580\n",
       "plm_htn_missing*fluid_day2_missing    -0.230519\n",
       "mdrd*lv_moderate                      -0.213372\n",
       "rvcav_normal*fluid_day1               -0.197936\n",
       "mech_vent*nsicu                       -0.194353\n",
       "mech_vent*mdrd                        -0.189632\n",
       "age*lactate                           -0.184225\n",
       "plm_htn_abnormal*fluid_day3_missing   -0.177939\n",
       "lv_severe*plm_htn_missing             -0.176366\n",
       "dtype: float64"
      ]
     },
     "execution_count": 37,
     "metadata": {},
     "output_type": "execute_result"
    }
   ],
   "source": [
    "coefs = pd.Series(model.coef_[0], index = list(Xtr.columns)).sort_values()\n",
    "coefs.head(n = 15)"
   ]
  },
  {
   "cell_type": "code",
   "execution_count": 38,
   "metadata": {
    "collapsed": false
   },
   "outputs": [
    {
     "data": {
      "text/plain": [
       "age*fluid_day3                           0.276518\n",
       "lactate                                  0.283114\n",
       "micu*fluid_day1_missing                  0.298481\n",
       "age_over_90                              0.325129\n",
       "mech_vent*fluid_day3_missing             0.332590\n",
       "creatinine_missing*fluid_day3_missing    0.338654\n",
       "creatinine_missing*fluid_day2_missing    0.351025\n",
       "age*micu                                 0.352583\n",
       "age*mech_vent                            0.393238\n",
       "fluid_day3                               0.441785\n",
       "apsiii*fluid_day3_missing                0.457060\n",
       "fluid_day1*fluid_day2_missing            0.539154\n",
       "fluid_day2*fluid_day3_missing            0.578931\n",
       "apsiii                                   0.605095\n",
       "age                                      0.623228\n",
       "dtype: float64"
      ]
     },
     "execution_count": 38,
     "metadata": {},
     "output_type": "execute_result"
    }
   ],
   "source": [
    "coefs.tail(n = 15)"
   ]
  },
  {
   "cell_type": "code",
   "execution_count": 39,
   "metadata": {
    "collapsed": false
   },
   "outputs": [
    {
     "data": {
      "text/plain": [
       "True     555\n",
       "False     41\n",
       "dtype: int64"
      ]
     },
     "execution_count": 39,
     "metadata": {},
     "output_type": "execute_result"
    }
   ],
   "source": [
    "(abs(coefs - 0) > 1e-6).value_counts()"
   ]
  },
  {
   "cell_type": "markdown",
   "metadata": {},
   "source": [
    "## Add interaction features of interest"
   ]
  },
  {
   "cell_type": "code",
   "execution_count": 40,
   "metadata": {
    "collapsed": true
   },
   "outputs": [],
   "source": [
    "X_int = Xf.copy()\n",
    "\n",
    "fluid_terms = [c for c in X_int.columns if 'fluid' in c]\n",
    "echo_terms = [c for c in X_int.columns if ('lv_' in c) or ('plm_' in c) or ('rvcav_' in c)]\n",
    "for fluid_term in fluid_terms: \n",
    "    X_int['{}:{}'.format(fluid_term, 'CHF')] = X_int[fluid_term] * X_int['CHF']\n",
    "    X_int['{}:{}'.format(fluid_term, 'mech_vent')] = X_int[fluid_term] * X_int['mech_vent']\n",
    "    \n",
    "    for echo_term in echo_terms: \n",
    "        X_int['{}:{}'.format(fluid_term, echo_term)] = X_int[fluid_term] * X_int[echo_term]"
   ]
  },
  {
   "cell_type": "code",
   "execution_count": 41,
   "metadata": {
    "collapsed": true
   },
   "outputs": [],
   "source": [
    "Xtr, Xte, ytr, yte = sk.model_selection.train_test_split(X_int, yf)"
   ]
  },
  {
   "cell_type": "markdown",
   "metadata": {},
   "source": [
    "L1"
   ]
  },
  {
   "cell_type": "code",
   "execution_count": 42,
   "metadata": {
    "collapsed": false
   },
   "outputs": [
    {
     "data": {
      "text/plain": [
       "0.76437768240343351"
      ]
     },
     "execution_count": 42,
     "metadata": {},
     "output_type": "execute_result"
    }
   ],
   "source": [
    "model = sk.linear_model.LogisticRegressionCV(cv = 3, penalty = 'l1', solver = 'liblinear')\n",
    "model.fit(Xtr, ytr)\n",
    "ypr = model.predict(Xte)\n",
    "\n",
    "(ypr == yte).mean()"
   ]
  },
  {
   "cell_type": "code",
   "execution_count": 43,
   "metadata": {
    "collapsed": false
   },
   "outputs": [
    {
     "data": {
      "text/plain": [
       "fluid_day1_missing:mech_vent          -0.904798\n",
       "fluid_day3_missing                    -0.406156\n",
       "fluid_day3:lv_mild                    -0.392339\n",
       "fluid_day1:rvcav_normal               -0.344620\n",
       "fluid_day1:lv_missing                 -0.306514\n",
       "fluid_day3_missing:lv_normal          -0.291329\n",
       "fluid_day2_missing:rvcav_normal       -0.225254\n",
       "lv_mild                               -0.220220\n",
       "fluid_day3_missing:plm_htn_abnormal   -0.214597\n",
       "fluid_day1:plm_htn_abnormal           -0.172493\n",
       "lv_normal                             -0.143264\n",
       "fluid_day3:mech_vent                  -0.129779\n",
       "gender                                -0.088202\n",
       "fluid_day2:lv_mild                    -0.088037\n",
       "fluid_day2:rvcav_normal               -0.078303\n",
       "dtype: float64"
      ]
     },
     "execution_count": 43,
     "metadata": {},
     "output_type": "execute_result"
    }
   ],
   "source": [
    "coefs = pd.Series(model.coef_[0], index = list(Xtr.columns)).sort_values()\n",
    "coefs.head(n = 15)"
   ]
  },
  {
   "cell_type": "code",
   "execution_count": 44,
   "metadata": {
    "collapsed": false
   },
   "outputs": [
    {
     "data": {
      "text/plain": [
       "bmi                                   0.202702\n",
       "fluid_day2:plm_htn_abnormal           0.210522\n",
       "micu                                  0.252405\n",
       "bmi_missing                           0.288982\n",
       "fluid_day3                            0.324760\n",
       "fluid_day3_missing:plm_htn_missing    0.326552\n",
       "fluid_day2_missing:mech_vent          0.482719\n",
       "plm_htn_abnormal                      0.503250\n",
       "fluid_day1_missing                    0.523688\n",
       "lactate                               0.537959\n",
       "fluid_day3_missing:mech_vent          0.657837\n",
       "apsiii                                0.815875\n",
       "age_over_90                           1.065196\n",
       "creatinine_missing                    1.128229\n",
       "age                                   1.808114\n",
       "dtype: float64"
      ]
     },
     "execution_count": 44,
     "metadata": {},
     "output_type": "execute_result"
    }
   ],
   "source": [
    "coefs = pd.Series(model.coef_[0], index = list(Xtr.columns)).sort_values()\n",
    "coefs.tail(n = 15)"
   ]
  },
  {
   "cell_type": "markdown",
   "metadata": {},
   "source": [
    "L2"
   ]
  },
  {
   "cell_type": "code",
   "execution_count": 45,
   "metadata": {
    "collapsed": false
   },
   "outputs": [
    {
     "data": {
      "text/plain": [
       "0.76609442060085842"
      ]
     },
     "execution_count": 45,
     "metadata": {},
     "output_type": "execute_result"
    }
   ],
   "source": [
    "model = sk.linear_model.LogisticRegressionCV(cv = 3, penalty = 'l2', solver = 'liblinear')\n",
    "model.fit(Xtr, ytr)\n",
    "ypr = model.predict(Xte)\n",
    "\n",
    "(ypr == yte).mean()"
   ]
  },
  {
   "cell_type": "code",
   "execution_count": 46,
   "metadata": {
    "collapsed": false
   },
   "outputs": [
    {
     "data": {
      "text/plain": [
       "fluid_day1_missing:mech_vent          -0.433473\n",
       "fluid_day3_missing                    -0.376779\n",
       "fluid_day1:rvcav_normal               -0.271634\n",
       "fluid_day1:lv_missing                 -0.211019\n",
       "fluid_day3:lv_mild                    -0.206719\n",
       "fluid_day3_missing:plm_htn_abnormal   -0.195583\n",
       "fluid_day3_missing:lv_normal          -0.194625\n",
       "fluid_day1:plm_htn_abnormal           -0.185765\n",
       "fluid_day2:lv_mild                    -0.175622\n",
       "plm_htn_normal                        -0.154969\n",
       "fluid_day2_missing:rvcav_normal       -0.144387\n",
       "plm_htn_missing                       -0.137875\n",
       "fluid_day3:mech_vent                  -0.134899\n",
       "lv_mild                               -0.134762\n",
       "sicu                                  -0.117934\n",
       "dtype: float64"
      ]
     },
     "execution_count": 46,
     "metadata": {},
     "output_type": "execute_result"
    }
   ],
   "source": [
    "coefs = pd.Series(model.coef_[0], index = list(Xtr.columns)).sort_values()\n",
    "coefs.head(n = 15)"
   ]
  },
  {
   "cell_type": "code",
   "execution_count": 47,
   "metadata": {
    "collapsed": false
   },
   "outputs": [
    {
     "data": {
      "text/plain": [
       "fluid_day1_missing:CHF                0.154139\n",
       "bmi                                   0.193078\n",
       "lv_hyper                              0.198399\n",
       "fluid_day3_missing:plm_htn_missing    0.221839\n",
       "bmi_missing                           0.237872\n",
       "fluid_day1_missing                    0.258294\n",
       "fluid_day3                            0.262738\n",
       "plm_htn_abnormal                      0.356503\n",
       "fluid_day2_missing:mech_vent          0.360059\n",
       "lactate                               0.508432\n",
       "fluid_day3_missing:mech_vent          0.544719\n",
       "age_over_90                           0.600132\n",
       "creatinine_missing                    0.713437\n",
       "apsiii                                0.780826\n",
       "age                                   0.823726\n",
       "dtype: float64"
      ]
     },
     "execution_count": 47,
     "metadata": {},
     "output_type": "execute_result"
    }
   ],
   "source": [
    "coefs = pd.Series(model.coef_[0], index = list(Xtr.columns)).sort_values()\n",
    "coefs.tail(n = 15)"
   ]
  },
  {
   "cell_type": "code",
   "execution_count": null,
   "metadata": {
    "collapsed": true
   },
   "outputs": [],
   "source": []
  }
 ],
 "metadata": {
  "anaconda-cloud": {},
  "kernelspec": {
   "display_name": "Python [conda env:patches]",
   "language": "python",
   "name": "conda-env-patches-py"
  },
  "language_info": {
   "codemirror_mode": {
    "name": "ipython",
    "version": 3
   },
   "file_extension": ".py",
   "mimetype": "text/x-python",
   "name": "python",
   "nbconvert_exporter": "python",
   "pygments_lexer": "ipython3",
   "version": "3.5.2"
  }
 },
 "nbformat": 4,
 "nbformat_minor": 1
}
