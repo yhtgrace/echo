{
 "cells": [
  {
   "cell_type": "code",
   "execution_count": 1,
   "metadata": {
    "collapsed": true
   },
   "outputs": [],
   "source": [
    "from __future__ import print_function\n",
    "import numpy as np\n",
    "import pandas as pd\n",
    "\n",
    "import psycopg2\n",
    "\n",
    "import matplotlib.pyplot as plt\n",
    "import seaborn as sns\n",
    "sns.set_context('notebook', font_scale=1.2)\n",
    "\n",
    "import matplotlib.style\n",
    "matplotlib.style.use('ggplot')\n",
    "%matplotlib inline\n",
    "\n",
    "from IPython.display import display"
   ]
  },
  {
   "cell_type": "code",
   "execution_count": 2,
   "metadata": {
    "collapsed": true
   },
   "outputs": [],
   "source": [
    "import pymc3 as pm\n",
    "import theano\n",
    "import theano.tensor as T\n",
    "from scipy.stats.stats import pearsonr"
   ]
  },
  {
   "cell_type": "code",
   "execution_count": 3,
   "metadata": {
    "collapsed": true
   },
   "outputs": [],
   "source": [
    "# create a database connection\n",
    "sqluser = 'mimic'\n",
    "dbname = 'mimic'\n",
    "schema_name = 'mimiciii'\n",
    "\n",
    "cur = None"
   ]
  },
  {
   "cell_type": "code",
   "execution_count": 4,
   "metadata": {
    "collapsed": true
   },
   "outputs": [],
   "source": [
    "if cur: \n",
    "    cur.close()\n",
    "    con.close()\n",
    "\n",
    "con = psycopg2.connect(dbname = dbname, user = sqluser)\n",
    "cur = con.cursor()\n",
    "cur.execute('SET search_path to ' + schema_name)"
   ]
  },
  {
   "cell_type": "markdown",
   "metadata": {},
   "source": [
    "To recap, variables of interest include: \n",
    "\n",
    "+ Echo parameters (LV systolic, RV size, pulmonary hypertension)\n",
    "+ Fluids (day 1: missing term = 1 only if missing on day 1, day1-2: missing term = 1 if missing on day 1 or 2, day1-3: missing term = 1 if missing on day 1, day 2 or day 3)\n",
    "+ Interactions: fluids x echo variables, fluids x CHF, echo x CHF\n",
    "+ Covariates: Age, gender, BMI, BMI missing, mech vent, CHF, MDRD, Cr missing, apache score, lactate, lactate missing, ICU type, pressors indicator variable\n",
    "\n",
    "Because of collinearity: \n",
    "\n",
    "+ Use only 1 fluid term per model\n",
    "+ Use only 1 echo type variable per model\n",
    "+ Use forward selection for interaction terms"
   ]
  },
  {
   "cell_type": "code",
   "execution_count": 5,
   "metadata": {
    "collapsed": false
   },
   "outputs": [
    {
     "data": {
      "text/html": [
       "<div>\n",
       "<table border=\"1\" class=\"dataframe\">\n",
       "  <thead>\n",
       "    <tr style=\"text-align: right;\">\n",
       "      <th></th>\n",
       "      <th>icustay_id</th>\n",
       "      <th>hadm_id</th>\n",
       "      <th>subject_id</th>\n",
       "      <th>age</th>\n",
       "      <th>gender</th>\n",
       "      <th>height</th>\n",
       "      <th>weight</th>\n",
       "      <th>ethnicity</th>\n",
       "      <th>insurance</th>\n",
       "      <th>filter_vaso</th>\n",
       "      <th>...</th>\n",
       "      <th>pc_bronch</th>\n",
       "      <th>pc_cath</th>\n",
       "      <th>pc_echo</th>\n",
       "      <th>pc_pressor</th>\n",
       "      <th>pc_rhc</th>\n",
       "      <th>pc_thora</th>\n",
       "      <th>pc_vent</th>\n",
       "      <th>passed_filters</th>\n",
       "      <th>use_record</th>\n",
       "      <th>bmi</th>\n",
       "    </tr>\n",
       "  </thead>\n",
       "  <tbody>\n",
       "    <tr>\n",
       "      <th>0</th>\n",
       "      <td>200001</td>\n",
       "      <td>152234</td>\n",
       "      <td>55973</td>\n",
       "      <td>22290 days 19:06:12</td>\n",
       "      <td>F</td>\n",
       "      <td>167.851667</td>\n",
       "      <td>27.669135</td>\n",
       "      <td>ASIAN - ASIAN INDIAN</td>\n",
       "      <td>Medicare</td>\n",
       "      <td>False</td>\n",
       "      <td>...</td>\n",
       "      <td>0.0</td>\n",
       "      <td>0.0</td>\n",
       "      <td>0.0</td>\n",
       "      <td>0.0</td>\n",
       "      <td>0.0</td>\n",
       "      <td>0.0</td>\n",
       "      <td>0.0</td>\n",
       "      <td>NaN</td>\n",
       "      <td>NaN</td>\n",
       "      <td>9.820741</td>\n",
       "    </tr>\n",
       "    <tr>\n",
       "      <th>1</th>\n",
       "      <td>200003</td>\n",
       "      <td>163557</td>\n",
       "      <td>27513</td>\n",
       "      <td>17625 days 19:50:04</td>\n",
       "      <td>M</td>\n",
       "      <td>177.800000</td>\n",
       "      <td>78.224998</td>\n",
       "      <td>WHITE</td>\n",
       "      <td>Private</td>\n",
       "      <td>False</td>\n",
       "      <td>...</td>\n",
       "      <td>0.0</td>\n",
       "      <td>0.0</td>\n",
       "      <td>0.0</td>\n",
       "      <td>0.0</td>\n",
       "      <td>0.0</td>\n",
       "      <td>0.0</td>\n",
       "      <td>0.0</td>\n",
       "      <td>1.0</td>\n",
       "      <td>1.0</td>\n",
       "      <td>24.744692</td>\n",
       "    </tr>\n",
       "    <tr>\n",
       "      <th>2</th>\n",
       "      <td>200006</td>\n",
       "      <td>189514</td>\n",
       "      <td>10950</td>\n",
       "      <td>19736 days 11:28:14</td>\n",
       "      <td>M</td>\n",
       "      <td>165.100000</td>\n",
       "      <td>82.400002</td>\n",
       "      <td>OTHER</td>\n",
       "      <td>Medicaid</td>\n",
       "      <td>False</td>\n",
       "      <td>...</td>\n",
       "      <td>NaN</td>\n",
       "      <td>NaN</td>\n",
       "      <td>NaN</td>\n",
       "      <td>NaN</td>\n",
       "      <td>NaN</td>\n",
       "      <td>NaN</td>\n",
       "      <td>NaN</td>\n",
       "      <td>NaN</td>\n",
       "      <td>NaN</td>\n",
       "      <td>30.229647</td>\n",
       "    </tr>\n",
       "    <tr>\n",
       "      <th>3</th>\n",
       "      <td>200007</td>\n",
       "      <td>129310</td>\n",
       "      <td>20707</td>\n",
       "      <td>15818 days 10:03:37</td>\n",
       "      <td>M</td>\n",
       "      <td>177.800000</td>\n",
       "      <td>126.000000</td>\n",
       "      <td>WHITE</td>\n",
       "      <td>Private</td>\n",
       "      <td>False</td>\n",
       "      <td>...</td>\n",
       "      <td>NaN</td>\n",
       "      <td>NaN</td>\n",
       "      <td>NaN</td>\n",
       "      <td>NaN</td>\n",
       "      <td>NaN</td>\n",
       "      <td>NaN</td>\n",
       "      <td>NaN</td>\n",
       "      <td>NaN</td>\n",
       "      <td>NaN</td>\n",
       "      <td>39.857223</td>\n",
       "    </tr>\n",
       "    <tr>\n",
       "      <th>4</th>\n",
       "      <td>200009</td>\n",
       "      <td>129607</td>\n",
       "      <td>29904</td>\n",
       "      <td>17353 days 10:34:32</td>\n",
       "      <td>F</td>\n",
       "      <td>160.020000</td>\n",
       "      <td>85.833331</td>\n",
       "      <td>WHITE</td>\n",
       "      <td>Private</td>\n",
       "      <td>False</td>\n",
       "      <td>...</td>\n",
       "      <td>0.0</td>\n",
       "      <td>0.0</td>\n",
       "      <td>0.0</td>\n",
       "      <td>0.0</td>\n",
       "      <td>0.0</td>\n",
       "      <td>0.0</td>\n",
       "      <td>0.0</td>\n",
       "      <td>NaN</td>\n",
       "      <td>NaN</td>\n",
       "      <td>33.520264</td>\n",
       "    </tr>\n",
       "  </tbody>\n",
       "</table>\n",
       "<p>5 rows × 152 columns</p>\n",
       "</div>"
      ],
      "text/plain": [
       "   icustay_id  hadm_id  subject_id                 age gender      height  \\\n",
       "0      200001   152234       55973 22290 days 19:06:12      F  167.851667   \n",
       "1      200003   163557       27513 17625 days 19:50:04      M  177.800000   \n",
       "2      200006   189514       10950 19736 days 11:28:14      M  165.100000   \n",
       "3      200007   129310       20707 15818 days 10:03:37      M  177.800000   \n",
       "4      200009   129607       29904 17353 days 10:34:32      F  160.020000   \n",
       "\n",
       "       weight             ethnicity insurance filter_vaso    ...      \\\n",
       "0   27.669135  ASIAN - ASIAN INDIAN  Medicare       False    ...       \n",
       "1   78.224998                 WHITE   Private       False    ...       \n",
       "2   82.400002                 OTHER  Medicaid       False    ...       \n",
       "3  126.000000                 WHITE   Private       False    ...       \n",
       "4   85.833331                 WHITE   Private       False    ...       \n",
       "\n",
       "  pc_bronch pc_cath pc_echo pc_pressor pc_rhc pc_thora pc_vent passed_filters  \\\n",
       "0       0.0     0.0     0.0        0.0    0.0      0.0     0.0            NaN   \n",
       "1       0.0     0.0     0.0        0.0    0.0      0.0     0.0            1.0   \n",
       "2       NaN     NaN     NaN        NaN    NaN      NaN     NaN            NaN   \n",
       "3       NaN     NaN     NaN        NaN    NaN      NaN     NaN            NaN   \n",
       "4       0.0     0.0     0.0        0.0    0.0      0.0     0.0            NaN   \n",
       "\n",
       "  use_record        bmi  \n",
       "0        NaN   9.820741  \n",
       "1        1.0  24.744692  \n",
       "2        NaN  30.229647  \n",
       "3        NaN  39.857223  \n",
       "4        NaN  33.520264  \n",
       "\n",
       "[5 rows x 152 columns]"
      ]
     },
     "execution_count": 5,
     "metadata": {},
     "output_type": "execute_result"
    }
   ],
   "source": [
    "query = \"\"\"\n",
    "SELECT * FROM icu_features\n",
    "\"\"\"\n",
    "ef = pd.read_sql_query(query, con)\n",
    "ef.head()"
   ]
  },
  {
   "cell_type": "code",
   "execution_count": 6,
   "metadata": {
    "collapsed": false
   },
   "outputs": [
    {
     "data": {
      "text/plain": [
       "61532"
      ]
     },
     "execution_count": 6,
     "metadata": {},
     "output_type": "execute_result"
    }
   ],
   "source": [
    "len(ef)"
   ]
  },
  {
   "cell_type": "code",
   "execution_count": 7,
   "metadata": {
    "collapsed": true
   },
   "outputs": [],
   "source": [
    "F = (ef['use_record'] == 1)"
   ]
  },
  {
   "cell_type": "code",
   "execution_count": 8,
   "metadata": {
    "collapsed": false
   },
   "outputs": [
    {
     "data": {
      "text/plain": [
       "9320"
      ]
     },
     "execution_count": 8,
     "metadata": {},
     "output_type": "execute_result"
    }
   ],
   "source": [
    "ef = ef.loc[F]\n",
    "len(ef)"
   ]
  },
  {
   "cell_type": "markdown",
   "metadata": {},
   "source": [
    "# Preprocessing\n",
    "\n",
    "## Add MDRD to table"
   ]
  },
  {
   "cell_type": "code",
   "execution_count": 9,
   "metadata": {
    "collapsed": true
   },
   "outputs": [],
   "source": [
    "def mdrd(data):\n",
    "    creat = data.lab_creatinine\n",
    "    age = data.age/np.timedelta64('1', 'Y')\n",
    "    age.loc[age<0] = age.max()\n",
    "    gender = data.gender.apply(lambda x: 0.742 if x == 'F' else 1)\n",
    "    ethnicity = data.ethnicity.apply(lambda x: 1.212 if 'AFRICAN AMERICAN' in x else 1)\n",
    "    return 175*creat**(-1.154) * age**(-0.203) * gender * ethnicity"
   ]
  },
  {
   "cell_type": "code",
   "execution_count": 10,
   "metadata": {
    "collapsed": false
   },
   "outputs": [
    {
     "data": {
      "text/plain": [
       "0    2524\n",
       "1    2068\n",
       "2    1439\n",
       "4    1280\n",
       "3    1258\n",
       "5     503\n",
       "dtype: int64"
      ]
     },
     "execution_count": 10,
     "metadata": {},
     "output_type": "execute_result"
    }
   ],
   "source": [
    "value = mdrd(ef)\n",
    "ef['mdrd'] = value\n",
    "discrete = pd.cut(value, [0, 15, 30, 44, 60, 90, 1000000], labels=[5, 4, 3, 2, 1, 0], include_lowest=True)\n",
    "ef['mdrd_discrete'] = discrete\n",
    "discrete.value_counts()"
   ]
  },
  {
   "cell_type": "code",
   "execution_count": 11,
   "metadata": {
    "collapsed": false
   },
   "outputs": [
    {
     "data": {
      "text/plain": [
       "0    4592\n",
       "1    2697\n",
       "2    1783\n",
       "dtype: int64"
      ]
     },
     "execution_count": 11,
     "metadata": {},
     "output_type": "execute_result"
    }
   ],
   "source": [
    "discrete = pd.cut(value, [0, 30, 60, 1000000], labels=[2, 1, 0], include_lowest=True)\n",
    "ef['mdrd_3'] = discrete\n",
    "discrete.value_counts()"
   ]
  },
  {
   "cell_type": "markdown",
   "metadata": {},
   "source": [
    "## Build dataframe"
   ]
  },
  {
   "cell_type": "code",
   "execution_count": 12,
   "metadata": {
    "collapsed": true
   },
   "outputs": [],
   "source": [
    "def normalize(x):\n",
    "    x = x.copy()\n",
    "    I = ~np.isnan(x)\n",
    "    x[I] = (x[I] - x[I].mean())/x[I].std()\n",
    "    return x"
   ]
  },
  {
   "cell_type": "code",
   "execution_count": 13,
   "metadata": {
    "collapsed": false
   },
   "outputs": [
    {
     "data": {
      "text/plain": [
       "((9320, 35), (9320,))"
      ]
     },
     "execution_count": 13,
     "metadata": {},
     "output_type": "execute_result"
    }
   ],
   "source": [
    "X = pd.DataFrame()\n",
    "\n",
    "# build the features table\n",
    "age = ef.age/np.timedelta64('1', 'Y') # time in years\n",
    "age_masked = age < 0 # if age is less than 0, then the person is above 89 (90?)\n",
    "age = normalize(age)\n",
    "age[age_masked] = 0\n",
    "X['age'] = age\n",
    "X['age_over_90'] = age_masked.astype(float)\n",
    "\n",
    "gender = ef.gender\n",
    "gender = (gender == 'F').astype(float)\n",
    "X['gender'] = gender\n",
    "\n",
    "bmi = ef.bmi\n",
    "bmi_missing = np.isnan(bmi)\n",
    "bmi = normalize(bmi)\n",
    "bmi[bmi_missing] = 0\n",
    "X['bmi'] = bmi\n",
    "X['bmi_missing'] = bmi_missing.astype(float)\n",
    "\n",
    "mech_vent = ef.vf_first_day_vent.astype(float)\n",
    "X['mech_vent'] = mech_vent\n",
    "\n",
    "chf = ef.ex_congestive_heart_failure.astype(float)\n",
    "X['CHF'] = chf\n",
    "\n",
    "mdrd = ef.mdrd\n",
    "mdrd_missing = np.isnan(mdrd)\n",
    "mdrd = normalize(mdrd)\n",
    "mdrd[mdrd_missing] = 0\n",
    "X['mdrd'] = mdrd\n",
    "\n",
    "# MDRD missing is already largely covered by BMI missing\n",
    "# the only other missing values come from missing creatinine lab\n",
    "# so add that\n",
    "creatinine_missing = np.isnan(ef.lab_creatinine)\n",
    "X['creatinine_missing'] = creatinine_missing.astype(float)\n",
    "\n",
    "apsiii = ef.apsiii\n",
    "#apsiii_missing = np.isnan(apsiii)\n",
    "apsiii = normalize(apsiii)\n",
    "#apsiii[apsiii_missing] = 0\n",
    "X['apsiii'] = apsiii\n",
    "#X['apsiii_missing'] = apsiii_missing.astype(float)\n",
    "\n",
    "no_echo = np.isnan(ef.ea_key)\n",
    "#X['no_echo'] = no_echo.astype(float)\n",
    "\n",
    "lvsys = ef.ea_lv_systolic\n",
    "lv_missing = ((np.isnan(lvsys) | (lvsys < -1)) & ~no_echo).astype(float)\n",
    "lv_normal = (lvsys == 0).astype(float)\n",
    "lv_hyperdynamic = (lvsys == -1).astype(float)\n",
    "lv_mild_depressed = (lvsys == 1).astype(float)\n",
    "lv_mod_depressed = (lvsys == 2).astype(float)\n",
    "lv_sev_depressed = (lvsys == 3).astype(float)\n",
    "X['lv_missing'] = lv_missing\n",
    "X['lv_normal'] = lv_normal\n",
    "X['lv_hyper'] = lv_hyperdynamic\n",
    "X['lv_mild'] = lv_mild_depressed\n",
    "X['lv_moderate'] = lv_mod_depressed\n",
    "X['lv_severe'] = lv_sev_depressed\n",
    "\n",
    "tvpulm = ef.ea_tv_pulm_htn\n",
    "tv_missing = ((np.isnan(tvpulm) | (tvpulm < -2)) & ~no_echo).astype(float)\n",
    "tv_normal = (tvpulm == 0).astype(float)\n",
    "tv_abnormal = ((tvpulm == -2) | (tvpulm > 0)).astype(float)\n",
    "X['plm_htn_missing'] = tv_missing\n",
    "X['plm_htn_normal'] = tv_normal\n",
    "X['plm_htn_abnormal'] = tv_abnormal\n",
    "\n",
    "rvcavity = ef.ea_rv_cavity\n",
    "rvcav_missing = ((np.isnan(rvcavity) | (rvcavity < -2)) & ~no_echo).astype(float)\n",
    "rvcav_normal = (rvcavity == 0).astype(float)\n",
    "rvcav_small = (rvcavity == -1).astype(float)\n",
    "rvcav_dilated = ((rvcavity == -2) | (rvcavity > 0)).astype(float)\n",
    "X['rvcav_missing'] = rvcav_missing\n",
    "X['rvcav_normal'] = rvcav_normal\n",
    "X['rvcav_small'] = rvcav_small\n",
    "X['rvcav_dilated'] = rvcav_dilated\n",
    "\n",
    "lactate = ef.lab_lactate\n",
    "lactate_missing = np.isnan(lactate)\n",
    "lactate = normalize(lactate)\n",
    "lactate[lactate_missing] = 0\n",
    "X['lactate'] = lactate\n",
    "X['lactate_missing'] = lactate_missing.astype(float)\n",
    "\n",
    "## which ICU was treating the patient\n",
    "sicu = ef.st_sicu.astype(float)\n",
    "sicu[np.isnan(sicu)] = 0\n",
    "nsicu = ef.st_nsicu.astype(float)\n",
    "nsicu[np.isnan(nsicu)] = 0\n",
    "micu = ef.st_micu.astype(float)\n",
    "micu[np.isnan(micu)] = 0\n",
    "X['sicu'] = sicu\n",
    "X['nsicu'] = nsicu\n",
    "X['micu'] = micu\n",
    "\n",
    "## on vasopressors\n",
    "on_vaso = ef.filter_vaso.astype(float)\n",
    "X['on_vaso'] = on_vaso\n",
    "\n",
    "## fluids\n",
    "fluid_day1 = ef.fb_day1_balance_ml.values\n",
    "f1_missing = np.isnan(fluid_day1)\n",
    "fluid_day1[~f1_missing] = normalize(fluid_day1[~f1_missing])\n",
    "fluid_day1[f1_missing] = 0\n",
    "X['fluid_day1'] = fluid_day1\n",
    "X['fluid_day1_missing'] = f1_missing.astype(float)\n",
    "\n",
    "fluid_day2 = ef.fb_day2_balance_ml.values\n",
    "f2_missing = np.isnan(fluid_day1) | np.isnan(fluid_day2)\n",
    "fluid_day2[~f2_missing] = normalize(fluid_day2[~f2_missing])\n",
    "fluid_day2[f2_missing] = 0\n",
    "X['fluid_day2'] = fluid_day2\n",
    "X['fluid_day2_missing'] = f2_missing.astype(float)\n",
    "\n",
    "fluid_day3 = ef.fb_day3_balance_ml.values\n",
    "f3_missing = np.isnan(fluid_day1) | np.isnan(fluid_day2) | np.isnan(fluid_day3)\n",
    "fluid_day3[~f3_missing] = normalize(fluid_day3[~f3_missing])\n",
    "fluid_day3[f3_missing] = 0\n",
    "X['fluid_day3'] = fluid_day3\n",
    "X['fluid_day3_missing'] = f3_missing.astype(float)\n",
    "\n",
    "y = (ef.dod - ef.intime) < np.timedelta64(30, 'D')\n",
    "\n",
    "X.shape, y.shape"
   ]
  },
  {
   "cell_type": "code",
   "execution_count": 16,
   "metadata": {
    "collapsed": true
   },
   "outputs": [],
   "source": [
    "echo_features = {\n",
    "    'lv': ['lv_missing', 'lv_normal', 'lv_hyper', 'lv_mild', 'lv_moderate', 'lv_severe'], \n",
    "    'plm_htn': ['plm_htn_missing', 'plm_htn_normal', 'plm_htn_abnormal'], \n",
    "    'rvcav': ['rvcav_missing', 'rvcav_normal', 'rvcav_small', 'rvcav_dilated'], \n",
    "}\n",
    "fluid_features = {\n",
    "    'fluid_day1': ['fluid_day1', 'fluid_day1_missing'], \n",
    "    'fluid_day2': ['fluid_day2', 'fluid_day2_missing'], \n",
    "    'fluid_day3': ['fluid_day3', 'fluid_day3_missing'],\n",
    "}\n",
    "# Age, gender, BMI, BMI missing, mech vent, CHF, MDRD, Cr missing, apache score, lactate, \n",
    "#lactate missing, ICU type, pressors indicator variable\n",
    "covariates = ['age', 'age_over_90', # age\n",
    "    \"gender\", # gender\n",
    "    \"bmi\", \"bmi_missing\", # bmi\n",
    "    \"mech_vent\", # mech_vent\n",
    "    \"CHF\", # CHF\n",
    "    \"mdrd\", \"creatinine_missing\", # MDRD\n",
    "    \"apsiii\", # apache score\n",
    "    \"lactate\", \"lactate_missing\", # lactate\n",
    "    \"sicu\", \"nsicu\", \"micu\", # icu type\n",
    "    \"on_vaso\", # pressors indicator variable\n",
    "]"
   ]
  },
  {
   "cell_type": "code",
   "execution_count": 19,
   "metadata": {
    "collapsed": false
   },
   "outputs": [],
   "source": [
    "def make_data_(fluid_fs, echo_fs): \n",
    "    \n",
    "    Xf = X[fluid_features[fluid_fs]]\n",
    "    Xe = X[echo_features[echo_fs]]\n",
    "    Xc = X[covariates]\n",
    "\n",
    "    return pd.concat([Xf, Xe, Xc], axis = 1)\n",
    "\n",
    "X_ = make_data_('fluid_day1', 'lv')\n",
    "X_['target'] = y\n",
    "X_.to_csv(\"../data/fluid_day1.lv.csv\")"
   ]
  },
  {
   "cell_type": "code",
   "execution_count": null,
   "metadata": {
    "collapsed": true
   },
   "outputs": [],
   "source": []
  }
 ],
 "metadata": {
  "anaconda-cloud": {},
  "kernelspec": {
   "display_name": "Python [conda env:patches]",
   "language": "python",
   "name": "conda-env-patches-py"
  },
  "language_info": {
   "codemirror_mode": {
    "name": "ipython",
    "version": 3
   },
   "file_extension": ".py",
   "mimetype": "text/x-python",
   "name": "python",
   "nbconvert_exporter": "python",
   "pygments_lexer": "ipython3",
   "version": "3.5.2"
  }
 },
 "nbformat": 4,
 "nbformat_minor": 1
}
