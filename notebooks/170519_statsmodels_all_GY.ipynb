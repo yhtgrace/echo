{
 "cells": [
  {
   "cell_type": "code",
   "execution_count": 1,
   "metadata": {
    "collapsed": true
   },
   "outputs": [],
   "source": [
    "from __future__ import print_function\n",
    "import numpy as np\n",
    "import pandas as pd\n",
    "\n",
    "import psycopg2\n",
    "\n",
    "import matplotlib.pyplot as plt\n",
    "import seaborn as sns\n",
    "sns.set_context('notebook', font_scale=1.2)\n",
    "\n",
    "import matplotlib.style\n",
    "matplotlib.style.use('ggplot')\n",
    "%matplotlib inline\n",
    "\n",
    "from IPython.display import display"
   ]
  },
  {
   "cell_type": "code",
   "execution_count": 2,
   "metadata": {
    "collapsed": true
   },
   "outputs": [],
   "source": [
    "import pymc3 as pm\n",
    "import theano\n",
    "import theano.tensor as T\n",
    "from scipy.stats.stats import pearsonr\n",
    "\n",
    "import sklearn.model_selection"
   ]
  },
  {
   "cell_type": "code",
   "execution_count": 3,
   "metadata": {
    "collapsed": true
   },
   "outputs": [],
   "source": [
    "# create a database connection\n",
    "sqluser = 'mimic'\n",
    "dbname = 'mimic'\n",
    "schema_name = 'mimiciii'\n",
    "\n",
    "cur = None"
   ]
  },
  {
   "cell_type": "code",
   "execution_count": 4,
   "metadata": {
    "collapsed": true
   },
   "outputs": [],
   "source": [
    "if cur: \n",
    "    cur.close()\n",
    "    con.close()\n",
    "\n",
    "con = psycopg2.connect(dbname = dbname, user = sqluser)\n",
    "cur = con.cursor()\n",
    "cur.execute('SET search_path to ' + schema_name)"
   ]
  },
  {
   "cell_type": "markdown",
   "metadata": {},
   "source": [
    "To recap, variables of interest include: \n",
    "\n",
    "+ Echo parameters (LV systolic, RV size, pulmonary hypertension)\n",
    "+ Fluids (day 1: missing term = 1 only if missing on day 1, day1-2: missing term = 1 if missing on day 1 or 2, day1-3: missing term = 1 if missing on day 1, day 2 or day 3)\n",
    "+ Interactions: fluids x echo variables, fluids x CHF, echo x CHF\n",
    "+ Covariates: Age, gender, BMI, BMI missing, mech vent, CHF, MDRD, Cr missing, apache score, lactate, lactate missing, ICU type, pressors indicator variable\n",
    "\n",
    "We want to test if "
   ]
  },
  {
   "cell_type": "code",
   "execution_count": 18,
   "metadata": {
    "collapsed": false
   },
   "outputs": [
    {
     "data": {
      "text/html": [
       "<div>\n",
       "<table border=\"1\" class=\"dataframe\">\n",
       "  <thead>\n",
       "    <tr style=\"text-align: right;\">\n",
       "      <th></th>\n",
       "      <th>icustay_id</th>\n",
       "      <th>hadm_id</th>\n",
       "      <th>subject_id</th>\n",
       "      <th>age</th>\n",
       "      <th>gender</th>\n",
       "      <th>height</th>\n",
       "      <th>weight</th>\n",
       "      <th>ethnicity</th>\n",
       "      <th>insurance</th>\n",
       "      <th>filter_vaso</th>\n",
       "      <th>...</th>\n",
       "      <th>pc_bronch</th>\n",
       "      <th>pc_cath</th>\n",
       "      <th>pc_echo</th>\n",
       "      <th>pc_pressor</th>\n",
       "      <th>pc_rhc</th>\n",
       "      <th>pc_thora</th>\n",
       "      <th>pc_vent</th>\n",
       "      <th>passed_filters</th>\n",
       "      <th>use_record</th>\n",
       "      <th>bmi</th>\n",
       "    </tr>\n",
       "  </thead>\n",
       "  <tbody>\n",
       "    <tr>\n",
       "      <th>0</th>\n",
       "      <td>200001</td>\n",
       "      <td>152234</td>\n",
       "      <td>55973</td>\n",
       "      <td>22290 days 19:06:12</td>\n",
       "      <td>F</td>\n",
       "      <td>167.851667</td>\n",
       "      <td>27.669135</td>\n",
       "      <td>ASIAN - ASIAN INDIAN</td>\n",
       "      <td>Medicare</td>\n",
       "      <td>False</td>\n",
       "      <td>...</td>\n",
       "      <td>0.0</td>\n",
       "      <td>0.0</td>\n",
       "      <td>0.0</td>\n",
       "      <td>0.0</td>\n",
       "      <td>0.0</td>\n",
       "      <td>0.0</td>\n",
       "      <td>0.0</td>\n",
       "      <td>NaN</td>\n",
       "      <td>NaN</td>\n",
       "      <td>9.820741</td>\n",
       "    </tr>\n",
       "    <tr>\n",
       "      <th>1</th>\n",
       "      <td>200003</td>\n",
       "      <td>163557</td>\n",
       "      <td>27513</td>\n",
       "      <td>17625 days 19:50:04</td>\n",
       "      <td>M</td>\n",
       "      <td>177.800000</td>\n",
       "      <td>78.224998</td>\n",
       "      <td>WHITE</td>\n",
       "      <td>Private</td>\n",
       "      <td>False</td>\n",
       "      <td>...</td>\n",
       "      <td>0.0</td>\n",
       "      <td>0.0</td>\n",
       "      <td>0.0</td>\n",
       "      <td>0.0</td>\n",
       "      <td>0.0</td>\n",
       "      <td>0.0</td>\n",
       "      <td>0.0</td>\n",
       "      <td>1.0</td>\n",
       "      <td>1.0</td>\n",
       "      <td>24.744692</td>\n",
       "    </tr>\n",
       "    <tr>\n",
       "      <th>2</th>\n",
       "      <td>200006</td>\n",
       "      <td>189514</td>\n",
       "      <td>10950</td>\n",
       "      <td>19736 days 11:28:14</td>\n",
       "      <td>M</td>\n",
       "      <td>165.100000</td>\n",
       "      <td>82.400002</td>\n",
       "      <td>OTHER</td>\n",
       "      <td>Medicaid</td>\n",
       "      <td>False</td>\n",
       "      <td>...</td>\n",
       "      <td>NaN</td>\n",
       "      <td>NaN</td>\n",
       "      <td>NaN</td>\n",
       "      <td>NaN</td>\n",
       "      <td>NaN</td>\n",
       "      <td>NaN</td>\n",
       "      <td>NaN</td>\n",
       "      <td>NaN</td>\n",
       "      <td>NaN</td>\n",
       "      <td>30.229647</td>\n",
       "    </tr>\n",
       "    <tr>\n",
       "      <th>3</th>\n",
       "      <td>200007</td>\n",
       "      <td>129310</td>\n",
       "      <td>20707</td>\n",
       "      <td>15818 days 10:03:37</td>\n",
       "      <td>M</td>\n",
       "      <td>177.800000</td>\n",
       "      <td>126.000000</td>\n",
       "      <td>WHITE</td>\n",
       "      <td>Private</td>\n",
       "      <td>False</td>\n",
       "      <td>...</td>\n",
       "      <td>NaN</td>\n",
       "      <td>NaN</td>\n",
       "      <td>NaN</td>\n",
       "      <td>NaN</td>\n",
       "      <td>NaN</td>\n",
       "      <td>NaN</td>\n",
       "      <td>NaN</td>\n",
       "      <td>NaN</td>\n",
       "      <td>NaN</td>\n",
       "      <td>39.857223</td>\n",
       "    </tr>\n",
       "    <tr>\n",
       "      <th>4</th>\n",
       "      <td>200009</td>\n",
       "      <td>129607</td>\n",
       "      <td>29904</td>\n",
       "      <td>17353 days 10:34:32</td>\n",
       "      <td>F</td>\n",
       "      <td>160.020000</td>\n",
       "      <td>85.833331</td>\n",
       "      <td>WHITE</td>\n",
       "      <td>Private</td>\n",
       "      <td>False</td>\n",
       "      <td>...</td>\n",
       "      <td>0.0</td>\n",
       "      <td>0.0</td>\n",
       "      <td>0.0</td>\n",
       "      <td>0.0</td>\n",
       "      <td>0.0</td>\n",
       "      <td>0.0</td>\n",
       "      <td>0.0</td>\n",
       "      <td>NaN</td>\n",
       "      <td>NaN</td>\n",
       "      <td>33.520264</td>\n",
       "    </tr>\n",
       "  </tbody>\n",
       "</table>\n",
       "<p>5 rows × 152 columns</p>\n",
       "</div>"
      ],
      "text/plain": [
       "   icustay_id  hadm_id  subject_id                 age gender      height  \\\n",
       "0      200001   152234       55973 22290 days 19:06:12      F  167.851667   \n",
       "1      200003   163557       27513 17625 days 19:50:04      M  177.800000   \n",
       "2      200006   189514       10950 19736 days 11:28:14      M  165.100000   \n",
       "3      200007   129310       20707 15818 days 10:03:37      M  177.800000   \n",
       "4      200009   129607       29904 17353 days 10:34:32      F  160.020000   \n",
       "\n",
       "       weight             ethnicity insurance filter_vaso    ...      \\\n",
       "0   27.669135  ASIAN - ASIAN INDIAN  Medicare       False    ...       \n",
       "1   78.224998                 WHITE   Private       False    ...       \n",
       "2   82.400002                 OTHER  Medicaid       False    ...       \n",
       "3  126.000000                 WHITE   Private       False    ...       \n",
       "4   85.833331                 WHITE   Private       False    ...       \n",
       "\n",
       "  pc_bronch pc_cath pc_echo pc_pressor pc_rhc pc_thora pc_vent passed_filters  \\\n",
       "0       0.0     0.0     0.0        0.0    0.0      0.0     0.0            NaN   \n",
       "1       0.0     0.0     0.0        0.0    0.0      0.0     0.0            1.0   \n",
       "2       NaN     NaN     NaN        NaN    NaN      NaN     NaN            NaN   \n",
       "3       NaN     NaN     NaN        NaN    NaN      NaN     NaN            NaN   \n",
       "4       0.0     0.0     0.0        0.0    0.0      0.0     0.0            NaN   \n",
       "\n",
       "  use_record        bmi  \n",
       "0        NaN   9.820741  \n",
       "1        1.0  24.744692  \n",
       "2        NaN  30.229647  \n",
       "3        NaN  39.857223  \n",
       "4        NaN  33.520264  \n",
       "\n",
       "[5 rows x 152 columns]"
      ]
     },
     "execution_count": 18,
     "metadata": {},
     "output_type": "execute_result"
    }
   ],
   "source": [
    "query = \"\"\"\n",
    "SELECT * FROM icu_features\n",
    "\"\"\"\n",
    "ef = pd.read_sql_query(query, con)\n",
    "ef.head()"
   ]
  },
  {
   "cell_type": "code",
   "execution_count": 19,
   "metadata": {
    "collapsed": false
   },
   "outputs": [
    {
     "data": {
      "text/plain": [
       "61532"
      ]
     },
     "execution_count": 19,
     "metadata": {},
     "output_type": "execute_result"
    }
   ],
   "source": [
    "len(ef)"
   ]
  },
  {
   "cell_type": "code",
   "execution_count": 20,
   "metadata": {
    "collapsed": true
   },
   "outputs": [],
   "source": [
    "use_record = (ef['use_record'] == 1)\n",
    "#has_echo = ~ef['ea_key'].isnull()\n",
    "#F = use_record & has_echo\n",
    "F = use_record"
   ]
  },
  {
   "cell_type": "code",
   "execution_count": 21,
   "metadata": {
    "collapsed": false
   },
   "outputs": [
    {
     "data": {
      "text/plain": [
       "9320"
      ]
     },
     "execution_count": 21,
     "metadata": {},
     "output_type": "execute_result"
    }
   ],
   "source": [
    "ef = ef.loc[F]\n",
    "len(ef)"
   ]
  },
  {
   "cell_type": "code",
   "execution_count": 29,
   "metadata": {
    "collapsed": false
   },
   "outputs": [],
   "source": [
    "import statsmodels.api as sm"
   ]
  },
  {
   "cell_type": "markdown",
   "metadata": {},
   "source": [
    "# Preprocessing\n",
    "\n",
    "## Add MDRD to table"
   ]
  },
  {
   "cell_type": "code",
   "execution_count": 23,
   "metadata": {
    "collapsed": true
   },
   "outputs": [],
   "source": [
    "def mdrd(data):\n",
    "    creat = data.lab_creatinine\n",
    "    age = data.age/np.timedelta64('1', 'Y')\n",
    "    age.loc[age<0] = age.max()\n",
    "    gender = data.gender.apply(lambda x: 0.742 if x == 'F' else 1)\n",
    "    ethnicity = data.ethnicity.apply(lambda x: 1.212 if 'AFRICAN AMERICAN' in x else 1)\n",
    "    return 175*creat**(-1.154) * age**(-0.203) * gender * ethnicity"
   ]
  },
  {
   "cell_type": "code",
   "execution_count": 24,
   "metadata": {
    "collapsed": false
   },
   "outputs": [
    {
     "data": {
      "text/plain": [
       "0    2524\n",
       "1    2068\n",
       "2    1439\n",
       "4    1280\n",
       "3    1258\n",
       "5     503\n",
       "dtype: int64"
      ]
     },
     "execution_count": 24,
     "metadata": {},
     "output_type": "execute_result"
    }
   ],
   "source": [
    "value = mdrd(ef)\n",
    "ef['mdrd'] = value\n",
    "discrete = pd.cut(value, [0, 15, 30, 44, 60, 90, 1000000], labels=[5, 4, 3, 2, 1, 0], include_lowest=True)\n",
    "ef['mdrd_discrete'] = discrete\n",
    "discrete.value_counts()"
   ]
  },
  {
   "cell_type": "markdown",
   "metadata": {},
   "source": [
    "## Build dataframe"
   ]
  },
  {
   "cell_type": "code",
   "execution_count": 25,
   "metadata": {
    "collapsed": true
   },
   "outputs": [],
   "source": [
    "def normalize(x):\n",
    "    x = x.copy()\n",
    "    I = ~np.isnan(x)\n",
    "    x[I] = (x[I] - x[I].mean())/x[I].std()\n",
    "    return x"
   ]
  },
  {
   "cell_type": "code",
   "execution_count": 31,
   "metadata": {
    "collapsed": false
   },
   "outputs": [
    {
     "data": {
      "text/plain": [
       "((9320, 30), (9320,))"
      ]
     },
     "execution_count": 31,
     "metadata": {},
     "output_type": "execute_result"
    }
   ],
   "source": [
    "X = pd.DataFrame()\n",
    "\n",
    "# build the features table\n",
    "age = ef.age/np.timedelta64('1', 'Y') # time in years\n",
    "age_masked = age < 0 # if age is less than 0, then the person is above 89 (90?)\n",
    "age = normalize(age)\n",
    "age[age_masked] = 0\n",
    "X['age'] = age\n",
    "X['age_over_90'] = age_masked.astype(float)\n",
    "\n",
    "gender = ef.gender\n",
    "gender = (gender == 'F').astype(float)\n",
    "X['gender'] = gender\n",
    "\n",
    "bmi = ef.bmi\n",
    "bmi_missing = np.isnan(bmi)\n",
    "bmi = normalize(bmi)\n",
    "bmi[bmi_missing] = 0\n",
    "X['bmi'] = bmi\n",
    "X['bmi_missing'] = bmi_missing.astype(float)\n",
    "\n",
    "mech_vent = ef.vf_first_day_vent.astype(float)\n",
    "X['mech_vent'] = mech_vent\n",
    "\n",
    "chf = ef.ex_congestive_heart_failure.astype(float)\n",
    "X['CHF'] = chf\n",
    "\n",
    "mdrd = ef.mdrd\n",
    "mdrd_missing = np.isnan(mdrd)\n",
    "mdrd = normalize(mdrd)\n",
    "mdrd[mdrd_missing] = 0\n",
    "X['mdrd'] = mdrd\n",
    "\n",
    "# MDRD missing is already largely covered by BMI missing\n",
    "# the only other missing values come from missing creatinine lab\n",
    "# so add that\n",
    "creatinine_missing = np.isnan(ef.lab_creatinine)\n",
    "X['creatinine_missing'] = creatinine_missing.astype(float)\n",
    "\n",
    "apsiii = ef.apsiii\n",
    "#apsiii_missing = np.isnan(apsiii)\n",
    "apsiii = normalize(apsiii)\n",
    "#apsiii[apsiii_missing] = 0\n",
    "X['apsiii'] = apsiii\n",
    "#X['apsiii_missing'] = apsiii_missing.astype(float)\n",
    "\n",
    "no_echo = np.isnan(ef.ea_key)\n",
    "#X['no_echo'] = no_echo.astype(float)\n",
    "\n",
    "# -3 cannot assess\n",
    "# -2 ?depressed\n",
    "# -1 hyper\n",
    "# 0 normal\n",
    "# 1 mildly depressed\n",
    "# 2 moderately depressed\n",
    "# 3 severe\n",
    "lvsys = ef.ea_lv_systolic\n",
    "lv_missing = (((np.isnan(lvsys)) | (lvsys < -2)) & ~no_echo).astype(float)\n",
    "lv_hyperdynamic = (lvsys == -1).astype(float)\n",
    "lv_normal = (lvsys == 0).astype(float)\n",
    "lv_mild = (lvsys == 1).astype(float)\n",
    "lv_depressed = ((lvsys == 2) | (lvsys == -2)).astype(float)\n",
    "lv_sev_depressed = (lvsys == 3).astype(float)\n",
    "X['lv_missing'] = lv_missing\n",
    "X['lv_normal'] = lv_normal\n",
    "X['lv_mild'] = lv_mild\n",
    "X['lv_hyper'] = lv_hyperdynamic\n",
    "X['lv_depressed'] = lv_depressed\n",
    "X['lv_severe'] = lv_sev_depressed\n",
    "\n",
    "# -3 cannot assess\n",
    "# -2 PA systolic hypertension\n",
    "# 0 normal\n",
    "# 1 mild\n",
    "# 2 moderate\n",
    "# 3 severe\n",
    "tvpulm = ef.ea_tv_pulm_htn\n",
    "tv_missing = (((np.isnan(tvpulm)) | (tvpulm < -2)) & ~no_echo).astype(float)\n",
    "tv_normal = (tvpulm == 0).astype(float)\n",
    "tv_abnormal = ((tvpulm == -2) | (tvpulm > 0)).astype(float)\n",
    "X['plm_htn_missing'] = tv_missing\n",
    "X['plm_htn_normal'] = tv_normal\n",
    "X['plm_htn_abnormal'] = tv_abnormal\n",
    "\n",
    "# -3 cannot assess \n",
    "# -2 dilated\n",
    "# -1 small\n",
    "# 0 normal\n",
    "# 1 mildly dilated\n",
    "# 2 moderately dilated\n",
    "rvcavity = ef.ea_rv_cavity\n",
    "rvcav_missing = (((np.isnan(rvcavity) | (rvcavity < -2))) & ~no_echo).astype(float)\n",
    "rvcav_normal = (rvcavity == 0).astype(float)\n",
    "rvcav_small = (rvcavity == -1).astype(float)\n",
    "rvcav_dilated = ((rvcavity == -2) | (rvcavity > 0)).astype(float)\n",
    "X['rvcav_missing'] = rvcav_missing\n",
    "X['rvcav_normal'] = rvcav_normal\n",
    "X['rvcav_small'] = rvcav_small\n",
    "X['rvcav_dilated'] = rvcav_dilated\n",
    "\n",
    "lactate = ef.lab_lactate\n",
    "lactate_missing = np.isnan(lactate)\n",
    "lactate = normalize(lactate)\n",
    "lactate[lactate_missing] = 0\n",
    "X['lactate'] = lactate\n",
    "X['lactate_missing'] = lactate_missing.astype(float)\n",
    "\n",
    "## which ICU was treating the patient\n",
    "sicu = ef.st_sicu.astype(float)\n",
    "sicu[np.isnan(sicu)] = 0\n",
    "nsicu = ef.st_nsicu.astype(float)\n",
    "nsicu[np.isnan(nsicu)] = 0\n",
    "micu = ef.st_micu.astype(float)\n",
    "micu[np.isnan(micu)] = 0\n",
    "#X['sicu'] = sicu\n",
    "#X['nsicu'] = nsicu\n",
    "X['micu'] = micu\n",
    "\n",
    "## on vasopressors\n",
    "on_vaso = ef.filter_vaso.astype(float)\n",
    "X['on_vaso'] = on_vaso\n",
    "\n",
    "## fluids\n",
    "fluid_day1 = ef.fb_day1_balance_ml.values\n",
    "f1_missing = np.isnan(fluid_day1)\n",
    "fluid_day1[~f1_missing] = normalize(fluid_day1[~f1_missing])\n",
    "fluid_day1[f1_missing] = 0\n",
    "X['fluid_day1'] = fluid_day1\n",
    "#X['fluid_day1_missing'] = f1_missing.astype(float)\n",
    "\n",
    "fluid_day2 = ef.fb_day2_balance_ml.values\n",
    "f2_missing = np.isnan(fluid_day1) | np.isnan(fluid_day2)\n",
    "fluid_day2[~f2_missing] = normalize(fluid_day2[~f2_missing])\n",
    "fluid_day2[f2_missing] = 0\n",
    "X['fluid_day2'] = fluid_day2\n",
    "#X['fluid_day2_missing'] = f2_missing.astype(float)\n",
    "\n",
    "fluid_day3 = ef.fb_day3_balance_ml.values\n",
    "f3_missing = np.isnan(fluid_day1) | np.isnan(fluid_day2) | np.isnan(fluid_day3)\n",
    "fluid_day3[~f3_missing] = normalize(fluid_day3[~f3_missing])\n",
    "fluid_day3[f3_missing] = 0\n",
    "X['fluid_day3'] = fluid_day3\n",
    "#X['fluid_day3_missing'] = f3_missing.astype(float)\n",
    "\n",
    "y = (ef.dod - ef.intime) < np.timedelta64(30, 'D')\n",
    "\n",
    "X.shape, y.shape"
   ]
  },
  {
   "cell_type": "code",
   "execution_count": 32,
   "metadata": {
    "collapsed": true
   },
   "outputs": [],
   "source": [
    "echo_features = {\n",
    "    'lv': ['lv_normal', 'lv_missing', 'lv_mild', 'lv_hyper', 'lv_depressed', 'lv_severe'], \n",
    "    'plm_htn': ['plm_htn_normal', 'plm_htn_missing', 'plm_htn_abnormal'], \n",
    "    'rvcav': ['rvcav_normal', 'rvcav_missing', 'rvcav_small', 'rvcav_dilated'], \n",
    "}\n",
    "echo_features['all'] = echo_features['lv'] + echo_features['plm_htn'] + echo_features['rvcav']\n",
    "\n",
    "fluid_features = {\n",
    "    'fluid_day1': ['fluid_day1'], \n",
    "    'fluid_day2': ['fluid_day2'], \n",
    "    'fluid_day3': ['fluid_day3'],\n",
    "}\n",
    "\n",
    "# Age, gender, BMI, BMI missing, mech vent, CHF, MDRD, Cr missing, apache score, lactate, \n",
    "#lactate missing, ICU type, pressors indicator variable\n",
    "covariates = ['age', 'age_over_90', # age\n",
    "    \"gender\", # gender\n",
    "    \"bmi\", \"bmi_missing\", # bmi\n",
    "    \"mech_vent\", # mech_vent\n",
    "    \"CHF\", # CHF\n",
    "    \"mdrd\", \"creatinine_missing\", # MDRD\n",
    "    \"apsiii\", # apache score\n",
    "    \"lactate\", \"lactate_missing\", # lactate\n",
    "    \"micu\", #\"sicu\", \"nsicu\", \"micu\", # icu type\n",
    "    \"on_vaso\", # pressors indicator variable\n",
    "]\n",
    "\n",
    "def make_data(fluid_fs, echo_fs): \n",
    "    \n",
    "    Xf = X[fluid_features[fluid_fs]]\n",
    "    Xe = X[echo_features[echo_fs]]\n",
    "    Xc = X[covariates]\n",
    "\n",
    "    return pd.concat([Xf, Xe, Xc], axis = 1)\n",
    "\n",
    "def make_interactions(fluid_fs, echo_fs): \n",
    "    \n",
    "    Xf = X[fluid_features[fluid_fs]]\n",
    "    Xe = X[echo_features[echo_fs]]\n",
    "    Xc = X[covariates]\n",
    "\n",
    "    # Interactions: fluids x echo variables, fluids x CHF, echo x CHF\n",
    "    # Fluids x echo variables\n",
    "    Xfe = {}\n",
    "    for cf in Xf.columns: \n",
    "        for ce in Xe.columns: \n",
    "            Xfe[\"{}*{}\".format(cf, ce)] = Xf[cf]*Xe[ce]\n",
    "    Xfe = pd.DataFrame(Xfe)\n",
    "\n",
    "    # Fluids x CHF\n",
    "    Xfc = {}\n",
    "    for cf in Xf.columns:\n",
    "        Xfc[\"{}*CHF\".format(cf)] = Xf[cf] * Xc['CHF']\n",
    "    Xfc = pd.DataFrame(Xfc)\n",
    "\n",
    "    # Echo x CHF\n",
    "    Xec = {}\n",
    "    for ce in Xe.columns: \n",
    "        Xec[\"{}*CHF\".format(ce)] = Xe[ce] * Xc['CHF']\n",
    "    Xec = pd.DataFrame(Xec)\n",
    "\n",
    "    return pd.concat([Xfe, Xfc, Xec], axis = 1)"
   ]
  },
  {
   "cell_type": "code",
   "execution_count": 33,
   "metadata": {
    "collapsed": false
   },
   "outputs": [
    {
     "name": "stdout",
     "output_type": "stream",
     "text": [
      "Optimization terminated successfully.\n",
      "         Current function value: 0.479335\n",
      "         Iterations 6\n",
      "                             fluid_day1:lv\n",
      "========================================================================\n",
      "Model:                  Logit              Pseudo R-squared:   0.193    \n",
      "Dependent Variable:     y                  AIC:                9004.8085\n",
      "Date:                   2017-05-19 13:36   BIC:                9254.7057\n",
      "No. Observations:       9320               Log-Likelihood:     -4467.4  \n",
      "Df Model:               34                 LL-Null:            -5536.1  \n",
      "Df Residuals:           9285               LLR p-value:        0.0000   \n",
      "Converged:              1.0000             Scale:              1.0000   \n",
      "No. Iterations:         6.0000                                          \n",
      "------------------------------------------------------------------------\n",
      "                         Coef.  Std.Err.    z     P>|z|   [0.025  0.975]\n",
      "------------------------------------------------------------------------\n",
      "const                   -2.4658   0.1037 -23.7837 0.0000 -2.6690 -2.2626\n",
      "fluid_day1               0.0428   0.0400   1.0699 0.2847 -0.0356  0.1212\n",
      "lv_normal               -0.0511   0.0816  -0.6262 0.5312 -0.2111  0.1089\n",
      "lv_missing              -0.0351   0.1661  -0.2111 0.8328 -0.3606  0.2905\n",
      "lv_mild                 -0.0585   0.2572  -0.2273 0.8202 -0.5626  0.4457\n",
      "lv_hyper                 0.3881   0.1675   2.3165 0.0205  0.0597  0.7164\n",
      "lv_depressed            -0.0388   0.2632  -0.1475 0.8827 -0.5548  0.4771\n",
      "lv_severe                0.0116   0.2844   0.0408 0.9675 -0.5459  0.5691\n",
      "age                      2.3893   0.1807  13.2200 0.0000  2.0350  2.7435\n",
      "age_over_90              1.2542   0.1122  11.1796 0.0000  1.0343  1.4741\n",
      "gender                  -0.0819   0.0533  -1.5374 0.1242 -0.1863  0.0225\n",
      "bmi                      0.0604   0.0269   2.2483 0.0246  0.0078  0.1131\n",
      "bmi_missing              0.2488   0.0629   3.9537 0.0001  0.1255  0.3722\n",
      "mech_vent                0.3741   0.0573   6.5240 0.0000  0.2617  0.4864\n",
      "CHF                      0.0679   0.0818   0.8303 0.4063 -0.0924  0.2282\n",
      "mdrd                     0.1146   0.0276   4.1510 0.0000  0.0605  0.1686\n",
      "creatinine_missing       1.2915   0.1592   8.1139 0.0000  0.9796  1.6035\n",
      "apsiii                   0.7618   0.0337  22.5829 0.0000  0.6957  0.8279\n",
      "lactate                  0.4470   0.0459   9.7445 0.0000  0.3571  0.5369\n",
      "lactate_missing          0.0675   0.0596   1.1332 0.2571 -0.0492  0.1842\n",
      "micu                     0.2551   0.0677   3.7664 0.0002  0.1223  0.3878\n",
      "on_vaso                  1.0319   0.0726  14.2084 0.0000  0.8896  1.1743\n",
      "fluid_day1*lv_depressed -0.2600   0.1607  -1.6178 0.1057 -0.5750  0.0550\n",
      "fluid_day1*lv_hyper     -0.2069   0.1328  -1.5583 0.1192 -0.4672  0.0533\n",
      "fluid_day1*lv_mild      -0.4431   0.1853  -2.3913 0.0168 -0.8063 -0.0799\n",
      "fluid_day1*lv_missing   -0.3380   0.1136  -2.9759 0.0029 -0.5606 -0.1154\n",
      "fluid_day1*lv_normal    -0.2745   0.0613  -4.4802 0.0000 -0.3945 -0.1544\n",
      "fluid_day1*lv_severe    -0.1390   0.1657  -0.8388 0.4016 -0.4638  0.1858\n",
      "fluid_day1*CHF           0.1236   0.0621   1.9891 0.0467  0.0018  0.2454\n",
      "lv_depressed*CHF         0.3242   0.3370   0.9622 0.3360 -0.3362  0.9846\n",
      "lv_hyper*CHF            -0.2072   0.3093  -0.6700 0.5028 -0.8134  0.3989\n",
      "lv_mild*CHF             -0.4737   0.3829  -1.2374 0.2159 -1.2241  0.2766\n",
      "lv_missing*CHF           0.1397   0.2379   0.5871 0.5571 -0.3266  0.6060\n",
      "lv_normal*CHF           -0.0810   0.1394  -0.5813 0.5610 -0.3542  0.1922\n",
      "lv_severe*CHF            0.1468   0.3514   0.4178 0.6761 -0.5420  0.8356\n",
      "========================================================================\n",
      "\n",
      "Optimization terminated successfully.\n",
      "         Current function value: 0.479866\n",
      "         Iterations 6\n",
      "                             fluid_day2:lv\n",
      "========================================================================\n",
      "Model:                  Logit              Pseudo R-squared:   0.192    \n",
      "Dependent Variable:     y                  AIC:                9014.7003\n",
      "Date:                   2017-05-19 13:36   BIC:                9264.5975\n",
      "No. Observations:       9320               Log-Likelihood:     -4472.4  \n",
      "Df Model:               34                 LL-Null:            -5536.1  \n",
      "Df Residuals:           9285               LLR p-value:        0.0000   \n",
      "Converged:              1.0000             Scale:              1.0000   \n",
      "No. Iterations:         6.0000                                          \n",
      "------------------------------------------------------------------------\n",
      "                         Coef.  Std.Err.    z     P>|z|   [0.025  0.975]\n",
      "------------------------------------------------------------------------\n",
      "const                   -2.4701   0.1037 -23.8246 0.0000 -2.6733 -2.2669\n",
      "fluid_day2               0.0652   0.0408   1.5959 0.1105 -0.0149  0.1452\n",
      "lv_normal               -0.0527   0.0819  -0.6443 0.5194 -0.2132  0.1077\n",
      "lv_missing              -0.0414   0.1660  -0.2496 0.8029 -0.3667  0.2839\n",
      "lv_mild                  0.0404   0.2560   0.1579 0.8745 -0.4613  0.5421\n",
      "lv_hyper                 0.3746   0.1704   2.1985 0.0279  0.0406  0.7085\n",
      "lv_depressed            -0.0246   0.2661  -0.0925 0.9263 -0.5461  0.4968\n",
      "lv_severe               -0.0212   0.2870  -0.0737 0.9412 -0.5838  0.5414\n",
      "age                      2.3696   0.1806  13.1216 0.0000  2.0157  2.7235\n",
      "age_over_90              1.2535   0.1121  11.1811 0.0000  1.0337  1.4732\n",
      "gender                  -0.0834   0.0532  -1.5671 0.1171 -0.1878  0.0209\n",
      "bmi                      0.0606   0.0269   2.2582 0.0239  0.0080  0.1133\n",
      "bmi_missing              0.2549   0.0629   4.0527 0.0001  0.1316  0.3782\n",
      "mech_vent                0.3679   0.0573   6.4218 0.0000  0.2556  0.4801\n",
      "CHF                      0.0662   0.0815   0.8130 0.4162 -0.0934  0.2259\n",
      "mdrd                     0.1145   0.0275   4.1584 0.0000  0.0605  0.1684\n",
      "creatinine_missing       1.2879   0.1586   8.1207 0.0000  0.9770  1.5987\n",
      "apsiii                   0.7448   0.0334  22.3136 0.0000  0.6794  0.8102\n",
      "lactate                  0.4371   0.0455   9.5983 0.0000  0.3479  0.5264\n",
      "lactate_missing          0.0815   0.0592   1.3764 0.1687 -0.0345  0.1975\n",
      "micu                     0.2618   0.0677   3.8652 0.0001  0.1290  0.3945\n",
      "on_vaso                  1.0193   0.0726  14.0355 0.0000  0.8770  1.1617\n",
      "fluid_day2*lv_depressed -0.0949   0.1475  -0.6432 0.5201 -0.3839  0.1942\n",
      "fluid_day2*lv_hyper     -0.1126   0.1314  -0.8575 0.3912 -0.3701  0.1448\n",
      "fluid_day2*lv_mild      -0.6222   0.1775  -3.5055 0.0005 -0.9700 -0.2743\n",
      "fluid_day2*lv_missing   -0.2142   0.1087  -1.9711 0.0487 -0.4271 -0.0012\n",
      "fluid_day2*lv_normal    -0.1904   0.0603  -3.1586 0.0016 -0.3085 -0.0722\n",
      "fluid_day2*lv_severe     0.0080   0.1600   0.0503 0.9599 -0.3056  0.3217\n",
      "fluid_day2*CHF           0.1190   0.0602   1.9756 0.0482  0.0009  0.2370\n",
      "lv_depressed*CHF         0.3506   0.3397   1.0321 0.3020 -0.3152  1.0165\n",
      "lv_hyper*CHF            -0.1917   0.3109  -0.6165 0.5375 -0.8009  0.4176\n",
      "lv_mild*CHF             -0.5730   0.3825  -1.4981 0.1341 -1.3226  0.1767\n",
      "lv_missing*CHF           0.1555   0.2381   0.6529 0.5138 -0.3113  0.6222\n",
      "lv_normal*CHF           -0.0678   0.1395  -0.4862 0.6268 -0.3412  0.2056\n",
      "lv_severe*CHF            0.1911   0.3539   0.5398 0.5893 -0.5026  0.8848\n",
      "========================================================================\n",
      "\n",
      "Optimization terminated successfully.\n",
      "         Current function value: 0.479939\n",
      "         Iterations 6\n",
      "                             fluid_day3:lv\n",
      "========================================================================\n",
      "Model:                  Logit              Pseudo R-squared:   0.192    \n",
      "Dependent Variable:     y                  AIC:                9016.0671\n",
      "Date:                   2017-05-19 13:36   BIC:                9265.9642\n",
      "No. Observations:       9320               Log-Likelihood:     -4473.0  \n",
      "Df Model:               34                 LL-Null:            -5536.1  \n",
      "Df Residuals:           9285               LLR p-value:        0.0000   \n",
      "Converged:              1.0000             Scale:              1.0000   \n",
      "No. Iterations:         6.0000                                          \n",
      "------------------------------------------------------------------------\n",
      "                         Coef.  Std.Err.    z     P>|z|   [0.025  0.975]\n",
      "------------------------------------------------------------------------\n",
      "const                   -2.4724   0.1037 -23.8451 0.0000 -2.6756 -2.2692\n",
      "fluid_day3               0.0859   0.0416   2.0658 0.0388  0.0044  0.1674\n",
      "lv_normal               -0.0634   0.0821  -0.7723 0.4400 -0.2242  0.0975\n",
      "lv_missing              -0.0535   0.1666  -0.3212 0.7481 -0.3800  0.2730\n",
      "lv_mild                  0.0256   0.2550   0.1003 0.9201 -0.4741  0.5253\n",
      "lv_hyper                 0.3352   0.1712   1.9582 0.0502 -0.0003  0.6707\n",
      "lv_depressed            -0.0317   0.2717  -0.1167 0.9071 -0.5643  0.5009\n",
      "lv_severe                0.0043   0.2855   0.0150 0.9880 -0.5552  0.5638\n",
      "age                      2.3600   0.1803  13.0909 0.0000  2.0067  2.7134\n",
      "age_over_90              1.2511   0.1118  11.1908 0.0000  1.0320  1.4703\n",
      "gender                  -0.0841   0.0532  -1.5807 0.1140 -0.1884  0.0202\n",
      "bmi                      0.0611   0.0269   2.2717 0.0231  0.0084  0.1138\n",
      "bmi_missing              0.2606   0.0628   4.1474 0.0000  0.1374  0.3838\n",
      "mech_vent                0.3686   0.0573   6.4364 0.0000  0.2563  0.4808\n",
      "CHF                      0.0580   0.0811   0.7161 0.4739 -0.1008  0.2169\n",
      "mdrd                     0.1172   0.0275   4.2633 0.0000  0.0633  0.1711\n",
      "creatinine_missing       1.2925   0.1583   8.1668 0.0000  0.9823  1.6027\n",
      "apsiii                   0.7374   0.0330  22.3299 0.0000  0.6726  0.8021\n",
      "lactate                  0.4319   0.0453   9.5239 0.0000  0.3430  0.5208\n",
      "lactate_missing          0.0875   0.0589   1.4849 0.1376 -0.0280  0.2030\n",
      "micu                     0.2641   0.0677   3.9040 0.0001  0.1315  0.3967\n",
      "on_vaso                  1.0031   0.0726  13.8213 0.0000  0.8608  1.1453\n",
      "fluid_day3*lv_depressed  0.1339   0.1515   0.8840 0.3767 -0.1630  0.4309\n",
      "fluid_day3*lv_hyper      0.0026   0.1239   0.0212 0.9831 -0.2402  0.2455\n",
      "fluid_day3*lv_mild      -0.5599   0.1628  -3.4396 0.0006 -0.8790 -0.2409\n",
      "fluid_day3*lv_missing   -0.0744   0.1040  -0.7152 0.4745 -0.2783  0.1295\n",
      "fluid_day3*lv_normal    -0.1253   0.0594  -2.1081 0.0350 -0.2418 -0.0088\n",
      "fluid_day3*lv_severe    -0.0691   0.1539  -0.4494 0.6532 -0.3707  0.2324\n",
      "fluid_day3*CHF           0.0954   0.0597   1.5987 0.1099 -0.0216  0.2124\n",
      "lv_depressed*CHF         0.4094   0.3469   1.1803 0.2379 -0.2705  1.0894\n",
      "lv_hyper*CHF            -0.1541   0.3118  -0.4941 0.6212 -0.7651  0.4570\n",
      "lv_mild*CHF             -0.5670   0.3831  -1.4798 0.1389 -1.3179  0.1840\n",
      "lv_missing*CHF           0.1801   0.2392   0.7529 0.4515 -0.2887  0.6489\n",
      "lv_normal*CHF           -0.0399   0.1396  -0.2858 0.7750 -0.3135  0.2337\n",
      "lv_severe*CHF            0.1851   0.3518   0.5261 0.5988 -0.5044  0.8745\n",
      "========================================================================\n",
      "\n"
     ]
    }
   ],
   "source": [
    "echo_fs = 'lv'\n",
    "\n",
    "for fluid_fs in ['fluid_day1', 'fluid_day2', 'fluid_day3']: \n",
    "    X_ = make_data(fluid_fs, echo_fs)\n",
    "    X_ = pd.concat([X_, make_interactions(fluid_fs, echo_fs)], axis = 1)\n",
    "    X_ = sm.add_constant(X_)\n",
    "    \n",
    "    logit = sm.Logit(y, X_)\n",
    "    res = logit.fit()\n",
    "    \n",
    "    print(res.summary2(title = '{}:{}'.format(fluid_fs, echo_fs)))"
   ]
  },
  {
   "cell_type": "code",
   "execution_count": 37,
   "metadata": {
    "collapsed": false
   },
   "outputs": [
    {
     "data": {
      "image/png": "[encoded data removed]",
      "text/plain": [
       "<matplotlib.figure.Figure at 0x12440fe80>"
      ]
     },
     "metadata": {},
     "output_type": "display_data"
    },
    {
     "data": {
      "image/png": "[encoded data removed]",
      "text/plain": [
       "<matplotlib.figure.Figure at 0x12447aef0>"
      ]
     },
     "metadata": {},
     "output_type": "display_data"
    },
    {
     "data": {
      "image/png": "[encoded data removed]",
      "text/plain": [
       "<matplotlib.figure.Figure at 0x123b76ba8>"
      ]
     },
     "metadata": {},
     "output_type": "display_data"
    }
   ],
   "source": [
    "echo_fs = 'lv'\n",
    "echo_features_ = echo_features[echo_fs] + ['{}_normal'.format(echo_fs), 'no_echo']\n",
    "for fluid_fs in ['fluid_day1', 'fluid_day2', 'fluid_day3']: \n",
    "\n",
    "    inspect = X.copy()\n",
    "    inspect['mortality'] = y\n",
    "    inspect['no_echo'] = no_echo\n",
    "    to_plot = inspect[['mortality', fluid_fs] + echo_features_].set_index(['mortality', fluid_fs]).idxmax(axis = 1).reset_index()\n",
    "    to_plot.columns = ['mortality', fluid_fs, echo_fs]\n",
    "\n",
    "    plt.figure()\n",
    "    g = sns.boxplot(data = to_plot, x = echo_fs, hue = 'mortality', y = fluid_fs)\n",
    "    g.set_xticklabels(g.get_xticklabels(), rotation = 90)"
   ]
  },
  {
   "cell_type": "code",
   "execution_count": null,
   "metadata": {
    "collapsed": true
   },
   "outputs": [],
   "source": []
  }
 ],
 "metadata": {
  "anaconda-cloud": {},
  "kernelspec": {
   "display_name": "Python [conda env:patches]",
   "language": "python",
   "name": "conda-env-patches-py"
  },
  "language_info": {
   "codemirror_mode": {
    "name": "ipython",
    "version": 3
   },
   "file_extension": ".py",
   "mimetype": "text/x-python",
   "name": "python",
   "nbconvert_exporter": "python",
   "pygments_lexer": "ipython3",
   "version": "3.5.2"
  }
 },
 "nbformat": 4,
 "nbformat_minor": 1
}
