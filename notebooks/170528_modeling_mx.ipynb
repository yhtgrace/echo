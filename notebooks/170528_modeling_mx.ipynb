{
 "cells": [
  {
   "cell_type": "code",
   "execution_count": 33,
   "metadata": {
    "collapsed": true
   },
   "outputs": [],
   "source": [
    "from __future__ import print_function\n",
    "import numpy as np\n",
    "import pandas as pd\n",
    "\n",
    "import psycopg2\n",
    "\n",
    "import matplotlib.pyplot as plt\n",
    "import seaborn as sns\n",
    "sns.set_context('notebook', font_scale=1.2)\n",
    "\n",
    "import matplotlib.style\n",
    "matplotlib.style.use('ggplot')\n",
    "%matplotlib inline\n",
    "\n",
    "from IPython.display import display"
   ]
  },
  {
   "cell_type": "code",
   "execution_count": 34,
   "metadata": {
    "collapsed": true
   },
   "outputs": [],
   "source": [
    "import pymc3 as pm\n",
    "import theano\n",
    "import theano.tensor as T\n",
    "from scipy.stats.stats import pearsonr\n",
    "\n",
    "import sklearn.model_selection\n",
    "import statsmodels.api as sm"
   ]
  },
  {
   "cell_type": "code",
   "execution_count": 35,
   "metadata": {
    "collapsed": false
   },
   "outputs": [
    {
     "data": {
      "text/html": [
       "<div>\n",
       "<table border=\"1\" class=\"dataframe\">\n",
       "  <thead>\n",
       "    <tr style=\"text-align: right;\">\n",
       "      <th></th>\n",
       "      <th>icustay_id</th>\n",
       "      <th>hadm_id</th>\n",
       "      <th>subject_id</th>\n",
       "      <th>age</th>\n",
       "      <th>gender</th>\n",
       "      <th>height</th>\n",
       "      <th>weight</th>\n",
       "      <th>ethnicity</th>\n",
       "      <th>insurance</th>\n",
       "      <th>filter_vaso</th>\n",
       "      <th>...</th>\n",
       "      <th>pc_bronch</th>\n",
       "      <th>pc_cath</th>\n",
       "      <th>pc_echo</th>\n",
       "      <th>pc_pressor</th>\n",
       "      <th>pc_rhc</th>\n",
       "      <th>pc_thora</th>\n",
       "      <th>pc_vent</th>\n",
       "      <th>passed_filters</th>\n",
       "      <th>use_record</th>\n",
       "      <th>bmi</th>\n",
       "    </tr>\n",
       "  </thead>\n",
       "  <tbody>\n",
       "    <tr>\n",
       "      <th>0</th>\n",
       "      <td>200001</td>\n",
       "      <td>152234</td>\n",
       "      <td>55973</td>\n",
       "      <td>22290 days 19:06:12</td>\n",
       "      <td>F</td>\n",
       "      <td>167.851667</td>\n",
       "      <td>27.669135</td>\n",
       "      <td>ASIAN - ASIAN INDIAN</td>\n",
       "      <td>Medicare</td>\n",
       "      <td>False</td>\n",
       "      <td>...</td>\n",
       "      <td>0.0</td>\n",
       "      <td>0.0</td>\n",
       "      <td>0.0</td>\n",
       "      <td>0.0</td>\n",
       "      <td>0.0</td>\n",
       "      <td>0.0</td>\n",
       "      <td>0.0</td>\n",
       "      <td>NaN</td>\n",
       "      <td>NaN</td>\n",
       "      <td>9.820741</td>\n",
       "    </tr>\n",
       "    <tr>\n",
       "      <th>1</th>\n",
       "      <td>200003</td>\n",
       "      <td>163557</td>\n",
       "      <td>27513</td>\n",
       "      <td>17625 days 19:50:04</td>\n",
       "      <td>M</td>\n",
       "      <td>177.800000</td>\n",
       "      <td>78.224998</td>\n",
       "      <td>WHITE</td>\n",
       "      <td>Private</td>\n",
       "      <td>False</td>\n",
       "      <td>...</td>\n",
       "      <td>0.0</td>\n",
       "      <td>0.0</td>\n",
       "      <td>0.0</td>\n",
       "      <td>0.0</td>\n",
       "      <td>0.0</td>\n",
       "      <td>0.0</td>\n",
       "      <td>0.0</td>\n",
       "      <td>1.0</td>\n",
       "      <td>1.0</td>\n",
       "      <td>24.744692</td>\n",
       "    </tr>\n",
       "    <tr>\n",
       "      <th>2</th>\n",
       "      <td>200006</td>\n",
       "      <td>189514</td>\n",
       "      <td>10950</td>\n",
       "      <td>19736 days 11:28:14</td>\n",
       "      <td>M</td>\n",
       "      <td>165.100000</td>\n",
       "      <td>82.400002</td>\n",
       "      <td>OTHER</td>\n",
       "      <td>Medicaid</td>\n",
       "      <td>False</td>\n",
       "      <td>...</td>\n",
       "      <td>NaN</td>\n",
       "      <td>NaN</td>\n",
       "      <td>NaN</td>\n",
       "      <td>NaN</td>\n",
       "      <td>NaN</td>\n",
       "      <td>NaN</td>\n",
       "      <td>NaN</td>\n",
       "      <td>NaN</td>\n",
       "      <td>NaN</td>\n",
       "      <td>30.229647</td>\n",
       "    </tr>\n",
       "    <tr>\n",
       "      <th>3</th>\n",
       "      <td>200007</td>\n",
       "      <td>129310</td>\n",
       "      <td>20707</td>\n",
       "      <td>15818 days 10:03:37</td>\n",
       "      <td>M</td>\n",
       "      <td>177.800000</td>\n",
       "      <td>126.000000</td>\n",
       "      <td>WHITE</td>\n",
       "      <td>Private</td>\n",
       "      <td>False</td>\n",
       "      <td>...</td>\n",
       "      <td>NaN</td>\n",
       "      <td>NaN</td>\n",
       "      <td>NaN</td>\n",
       "      <td>NaN</td>\n",
       "      <td>NaN</td>\n",
       "      <td>NaN</td>\n",
       "      <td>NaN</td>\n",
       "      <td>NaN</td>\n",
       "      <td>NaN</td>\n",
       "      <td>39.857223</td>\n",
       "    </tr>\n",
       "    <tr>\n",
       "      <th>4</th>\n",
       "      <td>200009</td>\n",
       "      <td>129607</td>\n",
       "      <td>29904</td>\n",
       "      <td>17353 days 10:34:32</td>\n",
       "      <td>F</td>\n",
       "      <td>160.020000</td>\n",
       "      <td>85.833331</td>\n",
       "      <td>WHITE</td>\n",
       "      <td>Private</td>\n",
       "      <td>False</td>\n",
       "      <td>...</td>\n",
       "      <td>0.0</td>\n",
       "      <td>0.0</td>\n",
       "      <td>0.0</td>\n",
       "      <td>0.0</td>\n",
       "      <td>0.0</td>\n",
       "      <td>0.0</td>\n",
       "      <td>0.0</td>\n",
       "      <td>NaN</td>\n",
       "      <td>NaN</td>\n",
       "      <td>33.520264</td>\n",
       "    </tr>\n",
       "  </tbody>\n",
       "</table>\n",
       "<p>5 rows × 152 columns</p>\n",
       "</div>"
      ],
      "text/plain": [
       "   icustay_id  hadm_id  subject_id                 age gender      height  \\\n",
       "0      200001   152234       55973 22290 days 19:06:12      F  167.851667   \n",
       "1      200003   163557       27513 17625 days 19:50:04      M  177.800000   \n",
       "2      200006   189514       10950 19736 days 11:28:14      M  165.100000   \n",
       "3      200007   129310       20707 15818 days 10:03:37      M  177.800000   \n",
       "4      200009   129607       29904 17353 days 10:34:32      F  160.020000   \n",
       "\n",
       "       weight             ethnicity insurance filter_vaso    ...      \\\n",
       "0   27.669135  ASIAN - ASIAN INDIAN  Medicare       False    ...       \n",
       "1   78.224998                 WHITE   Private       False    ...       \n",
       "2   82.400002                 OTHER  Medicaid       False    ...       \n",
       "3  126.000000                 WHITE   Private       False    ...       \n",
       "4   85.833331                 WHITE   Private       False    ...       \n",
       "\n",
       "  pc_bronch pc_cath pc_echo pc_pressor pc_rhc pc_thora pc_vent passed_filters  \\\n",
       "0       0.0     0.0     0.0        0.0    0.0      0.0     0.0            NaN   \n",
       "1       0.0     0.0     0.0        0.0    0.0      0.0     0.0            1.0   \n",
       "2       NaN     NaN     NaN        NaN    NaN      NaN     NaN            NaN   \n",
       "3       NaN     NaN     NaN        NaN    NaN      NaN     NaN            NaN   \n",
       "4       0.0     0.0     0.0        0.0    0.0      0.0     0.0            NaN   \n",
       "\n",
       "  use_record        bmi  \n",
       "0        NaN   9.820741  \n",
       "1        1.0  24.744692  \n",
       "2        NaN  30.229647  \n",
       "3        NaN  39.857223  \n",
       "4        NaN  33.520264  \n",
       "\n",
       "[5 rows x 152 columns]"
      ]
     },
     "execution_count": 35,
     "metadata": {},
     "output_type": "execute_result"
    }
   ],
   "source": [
    "ef =pd.read_pickle('icu_features_170527.pkl')\n",
    "ef.head()"
   ]
  },
  {
   "cell_type": "code",
   "execution_count": 36,
   "metadata": {
    "collapsed": false
   },
   "outputs": [
    {
     "data": {
      "text/plain": [
       "61532"
      ]
     },
     "execution_count": 36,
     "metadata": {},
     "output_type": "execute_result"
    }
   ],
   "source": [
    "len(ef)"
   ]
  },
  {
   "cell_type": "code",
   "execution_count": 37,
   "metadata": {
    "collapsed": true
   },
   "outputs": [],
   "source": [
    "use_record = (ef['use_record'] == 1)\n",
    "has_echo = ~ef['ea_key'].isnull()\n",
    "#F = use_record & has_echo\n",
    "F = has_echo"
   ]
  },
  {
   "cell_type": "code",
   "execution_count": 38,
   "metadata": {
    "collapsed": false
   },
   "outputs": [
    {
     "data": {
      "text/plain": [
       "19752"
      ]
     },
     "execution_count": 38,
     "metadata": {},
     "output_type": "execute_result"
    }
   ],
   "source": [
    "ef_ = ef.loc[F]\n",
    "len(ef_)"
   ]
  },
  {
   "cell_type": "markdown",
   "metadata": {},
   "source": [
    "# Preprocessing\n",
    "Add MDRD to table"
   ]
  },
  {
   "cell_type": "code",
   "execution_count": 39,
   "metadata": {
    "collapsed": true
   },
   "outputs": [],
   "source": [
    "def mdrd(data):\n",
    "    creat = data.lab_creatinine\n",
    "    age = data.age/np.timedelta64('1', 'Y')\n",
    "    age.loc[age<0] = age.max()\n",
    "    gender = data.gender.apply(lambda x: 0.742 if x == 'F' else 1)\n",
    "    ethnicity = data.ethnicity.apply(lambda x: 1.212 if 'AFRICAN AMERICAN' in x else 1)\n",
    "    return 175*creat**(-1.154) * age**(-0.203) * gender * ethnicity"
   ]
  },
  {
   "cell_type": "code",
   "execution_count": 40,
   "metadata": {
    "collapsed": false
   },
   "outputs": [
    {
     "name": "stderr",
     "output_type": "stream",
     "text": [
      "C:\\Program Files\\Anaconda3\\lib\\site-packages\\ipykernel\\__main__.py:2: SettingWithCopyWarning: \n",
      "A value is trying to be set on a copy of a slice from a DataFrame.\n",
      "Try using .loc[row_indexer,col_indexer] = value instead\n",
      "\n",
      "See the caveats in the documentation: http://pandas.pydata.org/pandas-docs/stable/indexing.html#indexing-view-versus-copy\n",
      "  from ipykernel import kernelapp as app\n",
      "C:\\Program Files\\Anaconda3\\lib\\site-packages\\ipykernel\\__main__.py:4: SettingWithCopyWarning: \n",
      "A value is trying to be set on a copy of a slice from a DataFrame.\n",
      "Try using .loc[row_indexer,col_indexer] = value instead\n",
      "\n",
      "See the caveats in the documentation: http://pandas.pydata.org/pandas-docs/stable/indexing.html#indexing-view-versus-copy\n"
     ]
    },
    {
     "data": {
      "text/plain": [
       "0    5335\n",
       "1    5248\n",
       "2    2763\n",
       "3    2139\n",
       "4    2081\n",
       "5    1361\n",
       "dtype: int64"
      ]
     },
     "execution_count": 40,
     "metadata": {},
     "output_type": "execute_result"
    }
   ],
   "source": [
    "value = mdrd(ef_)\n",
    "ef_['mdrd'] = value\n",
    "discrete = pd.cut(value, [0, 15, 30, 44, 60, 90, 1000000], labels=[5, 4, 3, 2, 1, 0], include_lowest=True)\n",
    "ef_['mdrd_discrete'] = discrete\n",
    "discrete.value_counts()"
   ]
  },
  {
   "cell_type": "code",
   "execution_count": 41,
   "metadata": {
    "collapsed": true
   },
   "outputs": [],
   "source": [
    "def normalize(x):\n",
    "    x = x.copy()\n",
    "    I = ~np.isnan(x)\n",
    "    x[I] = (x[I] - x[I].mean())/x[I].std()\n",
    "    return x"
   ]
  },
  {
   "cell_type": "markdown",
   "metadata": {},
   "source": [
    "# Replicate the findings that Hyperdnamic LV means worse mortality\n",
    "Panonessa 2015:\n",
    "Logistic regression ajusted for age, sex, SOFA, Elixhauser score for comorbidities, vasopressor use, mechanical ventilation use\n",
    "(OR ratio 1.38, 95% confidence interval 1.039-1.842, p = 0.02)"
   ]
  },
  {
   "cell_type": "code",
   "execution_count": 50,
   "metadata": {
    "collapsed": false
   },
   "outputs": [],
   "source": [
    "# build the features table\n",
    "X = pd.DataFrame()\n",
    "\n",
    "X['subject_id'] = ef_.subject_id\n",
    "\n",
    "age = ef_.age/np.timedelta64('1', 'Y') # time in years\n",
    "age_masked = age < 0 # if age is less than 0, then the person is above 89 (90?)\n",
    "age = normalize(age)\n",
    "age[age_masked] = 0\n",
    "X['age'] = age\n",
    "#X['age_over_90'] = age_masked.astype(float)\n",
    "\n",
    "gender = ef_.gender\n",
    "gender = (gender == 'M').astype(float)\n",
    "X['male_gender'] = gender\n",
    "\n",
    "apsiii = ef_.apsiii\n",
    "apsiii = normalize(apsiii)\n",
    "X['apsiii'] = apsiii\n",
    "\n",
    "## on vasopressors\n",
    "on_vaso = ef_.filter_vaso.astype(float)\n",
    "X['on_vaso'] = on_vaso\n",
    "\n",
    "## mechanically ventilated\n",
    "mech_vent = ef_.vf_first_day_vent.astype(float)\n",
    "X['mech_vent'] = mech_vent\n",
    "\n",
    "#chf = ef.ex_congestive_heart_failure.astype(float)\n",
    "#X['CHF'] = chf\n",
    "\n",
    "no_echo = np.isnan(ef_.ea_key)\n",
    "lvsys = ef_.ea_lv_systolic\n",
    "lv_missing = (((np.isnan(lvsys)) | (lvsys < -2)) & ~no_echo).astype(float)\n",
    "lv_hyperdynamic = (lvsys == -1).astype(float)\n",
    "lv_normal = (lvsys == 0).astype(float)\n",
    "lv_mild = (lvsys == 1).astype(float)\n",
    "lv_depressed = ((lvsys == 2) | (lvsys == -2) | (lvsys ==3)).astype(float)\n",
    "#lv_sev_depressed = (lvsys == 3).astype(float)\n",
    "X['lv_missing'] = lv_missing\n",
    "#X['lv_normal'] = lv_normal\n",
    "#X['lv_mild'] = lv_mild\n",
    "X['lv_hyper'] = lv_hyperdynamic\n",
    "X['lv_depressed'] = lv_depressed\n",
    "#X['lv_severe'] = lv_sev_depressed\n",
    "\n",
    "\n",
    "## which ICU was treating the patient\n",
    "sicu = ef_.st_sicu.astype(float)\n",
    "sicu[np.isnan(sicu)] = 0\n",
    "nsicu = ef_.st_nsicu.astype(float)\n",
    "nsicu[np.isnan(nsicu)] = 0\n",
    "micu = ef_.st_micu.astype(float)\n",
    "micu[np.isnan(micu)] = 0\n",
    "X['sicu'] = sicu\n",
    "#X['nsicu'] = nsicu\n",
    "X['micu'] = micu\n",
    "\n",
    "## elixhauser score -- sum of all elixauser commorbidities\n",
    "# Features from Echos\n",
    "temp = ef_.filter(regex='ex_')\n",
    "elixhauser_score = temp.sum(axis =1)\n",
    "elixhauser_score = normalize(elixhauser_score)\n",
    "X['elixhauser_score'] = elixhauser_score\n",
    "\n",
    "## Outcome: mortality\n",
    "y = (ef_.dod - ef_.intime) < np.timedelta64(30, 'D')"
   ]
  },
  {
   "cell_type": "code",
   "execution_count": 51,
   "metadata": {
    "collapsed": false
   },
   "outputs": [
    {
     "data": {
      "text/plain": [
       "19752"
      ]
     },
     "execution_count": 51,
     "metadata": {},
     "output_type": "execute_result"
    }
   ],
   "source": [
    "len(X)"
   ]
  },
  {
   "cell_type": "code",
   "execution_count": 53,
   "metadata": {
    "collapsed": false
   },
   "outputs": [
    {
     "data": {
      "text/plain": [
       "17122"
      ]
     },
     "execution_count": 53,
     "metadata": {},
     "output_type": "execute_result"
    }
   ],
   "source": [
    "X.subject_id.nunique()"
   ]
  },
  {
   "cell_type": "code",
   "execution_count": 14,
   "metadata": {
    "collapsed": false
   },
   "outputs": [
    {
     "data": {
      "text/plain": [
       "19752"
      ]
     },
     "execution_count": 14,
     "metadata": {},
     "output_type": "execute_result"
    }
   ],
   "source": [
    "len(y)"
   ]
  },
  {
   "cell_type": "code",
   "execution_count": 15,
   "metadata": {
    "collapsed": false
   },
   "outputs": [],
   "source": [
    "X_=X[((X['sicu']==1) | (X['micu']==1)) & (X['lv_depressed'] ==0) & (X['lv_missing']==0)][['age', 'male_gender', 'apsiii', 'on_vaso', 'mech_vent', 'elixhauser_score', 'lv_hyper']]\n",
    "X_ = sm.add_constant(X_)\n",
    "\n",
    "y_ = y[X_.index]"
   ]
  },
  {
   "cell_type": "code",
   "execution_count": 16,
   "metadata": {
    "collapsed": false
   },
   "outputs": [
    {
     "data": {
      "text/plain": [
       "lv_hyper\n",
       "0.0    18769\n",
       "1.0      983\n",
       "dtype: int64"
      ]
     },
     "execution_count": 16,
     "metadata": {},
     "output_type": "execute_result"
    }
   ],
   "source": [
    "table = X.groupby(['lv_hyper']).size()\n",
    "table"
   ]
  },
  {
   "cell_type": "code",
   "execution_count": 17,
   "metadata": {
    "collapsed": false
   },
   "outputs": [
    {
     "data": {
      "text/html": [
       "<div>\n",
       "<table border=\"1\" class=\"dataframe\">\n",
       "  <thead>\n",
       "    <tr style=\"text-align: right;\">\n",
       "      <th></th>\n",
       "      <th>const</th>\n",
       "      <th>age</th>\n",
       "      <th>male_gender</th>\n",
       "      <th>apsiii</th>\n",
       "      <th>on_vaso</th>\n",
       "      <th>mech_vent</th>\n",
       "      <th>elixhauser_score</th>\n",
       "      <th>lv_hyper</th>\n",
       "    </tr>\n",
       "  </thead>\n",
       "  <tbody>\n",
       "    <tr>\n",
       "      <th>8</th>\n",
       "      <td>1</td>\n",
       "      <td>0.499096</td>\n",
       "      <td>1.0</td>\n",
       "      <td>0.183129</td>\n",
       "      <td>0.0</td>\n",
       "      <td>1.0</td>\n",
       "      <td>-0.822703</td>\n",
       "      <td>0.0</td>\n",
       "    </tr>\n",
       "    <tr>\n",
       "      <th>20</th>\n",
       "      <td>1</td>\n",
       "      <td>0.099981</td>\n",
       "      <td>1.0</td>\n",
       "      <td>0.471940</td>\n",
       "      <td>0.0</td>\n",
       "      <td>0.0</td>\n",
       "      <td>1.025203</td>\n",
       "      <td>0.0</td>\n",
       "    </tr>\n",
       "    <tr>\n",
       "      <th>50</th>\n",
       "      <td>1</td>\n",
       "      <td>0.324321</td>\n",
       "      <td>1.0</td>\n",
       "      <td>-0.683304</td>\n",
       "      <td>0.0</td>\n",
       "      <td>1.0</td>\n",
       "      <td>0.101250</td>\n",
       "      <td>0.0</td>\n",
       "    </tr>\n",
       "    <tr>\n",
       "      <th>62</th>\n",
       "      <td>1</td>\n",
       "      <td>0.302830</td>\n",
       "      <td>1.0</td>\n",
       "      <td>0.279399</td>\n",
       "      <td>0.0</td>\n",
       "      <td>1.0</td>\n",
       "      <td>-0.360726</td>\n",
       "      <td>0.0</td>\n",
       "    </tr>\n",
       "    <tr>\n",
       "      <th>74</th>\n",
       "      <td>1</td>\n",
       "      <td>0.327664</td>\n",
       "      <td>1.0</td>\n",
       "      <td>-1.212790</td>\n",
       "      <td>1.0</td>\n",
       "      <td>1.0</td>\n",
       "      <td>0.101250</td>\n",
       "      <td>0.0</td>\n",
       "    </tr>\n",
       "  </tbody>\n",
       "</table>\n",
       "</div>"
      ],
      "text/plain": [
       "    const       age  male_gender    apsiii  on_vaso  mech_vent  \\\n",
       "8       1  0.499096          1.0  0.183129      0.0        1.0   \n",
       "20      1  0.099981          1.0  0.471940      0.0        0.0   \n",
       "50      1  0.324321          1.0 -0.683304      0.0        1.0   \n",
       "62      1  0.302830          1.0  0.279399      0.0        1.0   \n",
       "74      1  0.327664          1.0 -1.212790      1.0        1.0   \n",
       "\n",
       "    elixhauser_score  lv_hyper  \n",
       "8          -0.822703       0.0  \n",
       "20          1.025203       0.0  \n",
       "50          0.101250       0.0  \n",
       "62         -0.360726       0.0  \n",
       "74          0.101250       0.0  "
      ]
     },
     "execution_count": 17,
     "metadata": {},
     "output_type": "execute_result"
    }
   ],
   "source": [
    "X_.head()"
   ]
  },
  {
   "cell_type": "code",
   "execution_count": 18,
   "metadata": {
    "collapsed": false
   },
   "outputs": [
    {
     "data": {
      "text/plain": [
       "6321"
      ]
     },
     "execution_count": 18,
     "metadata": {},
     "output_type": "execute_result"
    }
   ],
   "source": [
    "len(X_)"
   ]
  },
  {
   "cell_type": "code",
   "execution_count": 19,
   "metadata": {
    "collapsed": false,
    "scrolled": true
   },
   "outputs": [
    {
     "name": "stdout",
     "output_type": "stream",
     "text": [
      "Optimization terminated successfully.\n",
      "         Current function value: 0.460251\n",
      "         Iterations 6\n",
      "                           Logit Regression Results                           \n",
      "==============================================================================\n",
      "Dep. Variable:                      y   No. Observations:                 6321\n",
      "Model:                          Logit   Df Residuals:                     6313\n",
      "Method:                           MLE   Df Model:                            7\n",
      "Date:                Mon, 29 May 2017   Pseudo R-squ.:                  0.1199\n",
      "Time:                        19:00:26   Log-Likelihood:                -2909.2\n",
      "converged:                       True   LL-Null:                       -3305.6\n",
      "                                        LLR p-value:                7.142e-167\n",
      "====================================================================================\n",
      "                       coef    std err          z      P>|z|      [95.0% Conf. Int.]\n",
      "------------------------------------------------------------------------------------\n",
      "const               -2.1653      0.074    -29.377      0.000        -2.310    -2.021\n",
      "age                  1.1931      0.164      7.279      0.000         0.872     1.514\n",
      "male_gender         -0.0125      0.066     -0.190      0.849        -0.142     0.117\n",
      "apsiii               0.5861      0.034     17.210      0.000         0.519     0.653\n",
      "on_vaso              0.8870      0.086     10.298      0.000         0.718     1.056\n",
      "mech_vent            0.3466      0.068      5.132      0.000         0.214     0.479\n",
      "elixhauser_score     0.0258      0.034      0.763      0.445        -0.041     0.092\n",
      "lv_hyper             0.3512      0.097      3.628      0.000         0.161     0.541\n",
      "====================================================================================\n"
     ]
    }
   ],
   "source": [
    "logit = sm.Logit(y_, X_)\n",
    "result = logit.fit()\n",
    "\n",
    "print(result.summary())"
   ]
  },
  {
   "cell_type": "code",
   "execution_count": 20,
   "metadata": {
    "collapsed": false
   },
   "outputs": [
    {
     "name": "stdout",
     "output_type": "stream",
     "text": [
      "                         0         1\n",
      "const             0.099289  0.132549\n",
      "age               2.391284  4.546663\n",
      "male_gender       0.867766  1.123887\n",
      "apsiii            1.680927  1.920987\n",
      "on_vaso           2.050694  2.874270\n",
      "mech_vent         1.238918  1.614462\n",
      "elixhauser_score  0.960298  1.096553\n",
      "lv_hyper          1.175264  1.717618\n"
     ]
    }
   ],
   "source": [
    "print(np.exp(result.conf_int()))"
   ]
  },
  {
   "cell_type": "code",
   "execution_count": 21,
   "metadata": {
    "collapsed": false
   },
   "outputs": [
    {
     "name": "stdout",
     "output_type": "stream",
     "text": [
      "const               0.114720\n",
      "age                 3.297327\n",
      "male_gender         0.987558\n",
      "apsiii              1.796953\n",
      "on_vaso             2.427808\n",
      "mech_vent           1.414280\n",
      "elixhauser_score    1.026167\n",
      "lv_hyper            1.420794\n",
      "dtype: float64\n"
     ]
    }
   ],
   "source": [
    "print(np.exp(result.params))"
   ]
  },
  {
   "cell_type": "markdown",
   "metadata": {},
   "source": [
    "# Replicate finding that getting echo improves mortality\n"
   ]
  },
  {
   "cell_type": "code",
   "execution_count": null,
   "metadata": {
    "collapsed": true
   },
   "outputs": [],
   "source": []
  },
  {
   "cell_type": "markdown",
   "metadata": {},
   "source": [
    "# Expand on base model of Hyperdynamic LV \n",
    "Add fluid measure, and then interaction terms, add additional echo terms."
   ]
  },
  {
   "cell_type": "code",
   "execution_count": 22,
   "metadata": {
    "collapsed": false
   },
   "outputs": [
    {
     "data": {
      "text/plain": [
       "['icustay_id',\n",
       " 'hadm_id',\n",
       " 'subject_id',\n",
       " 'age',\n",
       " 'gender',\n",
       " 'height',\n",
       " 'weight',\n",
       " 'ethnicity',\n",
       " 'insurance',\n",
       " 'filter_vaso',\n",
       " 'filter_chronic_dialysis',\n",
       " 'filter_angus_sepsis',\n",
       " 'filter_hard_cardiogenic',\n",
       " 'filter_adult',\n",
       " 'filter_echo',\n",
       " 'ed_chartdate',\n",
       " 'ed_charttime',\n",
       " 'ed_quality',\n",
       " 'ed_indication',\n",
       " 'ed_bsa',\n",
       " 'ed_bp',\n",
       " 'ed_bpsys',\n",
       " 'ed_bpdias',\n",
       " 'ed_hr',\n",
       " 'ed_test',\n",
       " 'ed_doppler',\n",
       " 'ed_contrast',\n",
       " 'ea_hadm_id',\n",
       " 'ea_new_time',\n",
       " 'ea_key',\n",
       " 'ea_height',\n",
       " 'ea_weight',\n",
       " 'ea_sys',\n",
       " 'ea_diastolic',\n",
       " 'ea_hr',\n",
       " 'ea_tv_pulm_htn',\n",
       " 'ea_tv_regurgitation',\n",
       " 'ea_tv_stenosis',\n",
       " 'ea_lv_cavity',\n",
       " 'ea_lv_diastolic',\n",
       " 'ea_lv_systolic',\n",
       " 'ea_lv_wall',\n",
       " 'ea_rv_cavity',\n",
       " 'ea_rv_volume_overload',\n",
       " 'ea_rv_systolic',\n",
       " 'ea_rv_wall',\n",
       " 'ea_av_regurgitation',\n",
       " 'ea_av_stenosis',\n",
       " 'ea_mv_regurgitation',\n",
       " 'ea_mv_stenosis',\n",
       " 'ea_la_cavity',\n",
       " 'ea_ra_dilated',\n",
       " 'ea_ra_pressure',\n",
       " 'ex_congestive_heart_failure',\n",
       " 'ex_cardiac_aarrhythmias',\n",
       " 'ex_valvular_disease',\n",
       " 'ex_pulmonary_circulation',\n",
       " 'ex_peripheral_vascular',\n",
       " 'ex_hypertension',\n",
       " 'ex_paralysis',\n",
       " 'ex_other_neurological',\n",
       " 'ex_chronic_pulmonary',\n",
       " 'ex_diabetes_uncomplicated',\n",
       " 'ex_diabetes_complicated',\n",
       " 'ex_hypothyroidism',\n",
       " 'ex_renal_failure',\n",
       " 'ex_liver_disease',\n",
       " 'ex_peptic_ulcer',\n",
       " 'ex_aids',\n",
       " 'ex_lymphoma',\n",
       " 'ex_metastatic_cancer',\n",
       " 'ex_solid_tumor',\n",
       " 'ex_rheumatoid_arthritis',\n",
       " 'ex_coagulopathy',\n",
       " 'ex_obesity',\n",
       " 'ex_weight_loss',\n",
       " 'ex_fluid_electrolyte',\n",
       " 'ex_blood_loss_anemia',\n",
       " 'ex_deficiency_anemias',\n",
       " 'ex_alcohol_abuse',\n",
       " 'ex_drug_abuse',\n",
       " 'ex_psychoses',\n",
       " 'ex_depression',\n",
       " 'apsiii',\n",
       " 'apsiii_prob',\n",
       " 'apsiii_creatinine_score',\n",
       " 'admittime',\n",
       " 'dischtime',\n",
       " 'intime',\n",
       " 'outtime',\n",
       " 'dod',\n",
       " 'creatinine_last',\n",
       " 'creatinine_max',\n",
       " 'lactate_last',\n",
       " 'lactate_max',\n",
       " 'lab_albumin',\n",
       " 'lab_bicarbonate',\n",
       " 'lab_ckmb',\n",
       " 'lab_creatinine',\n",
       " 'lab_crp',\n",
       " 'lab_egfr',\n",
       " 'lab_hematocrit',\n",
       " 'lab_inr',\n",
       " 'lab_lactate',\n",
       " 'lab_platelet',\n",
       " 'lab_ntprobnp',\n",
       " 'lab_ph',\n",
       " 'lab_tropi',\n",
       " 'lab_tropt',\n",
       " 'lab_wbc',\n",
       " 'ic_first_careunit',\n",
       " 'ic_last_careunit',\n",
       " 'st_micu',\n",
       " 'st_sicu',\n",
       " 'st_nsicu',\n",
       " 'db_carevue',\n",
       " 'db_metavision',\n",
       " 'vf_first_day_vent',\n",
       " 'vf_duration',\n",
       " 'fb_day1_input_ml',\n",
       " 'fb_day1_output_ml',\n",
       " 'fb_day1_balance_ml',\n",
       " 'fb_day1_balance_truncated',\n",
       " 'fb_day2_input_ml',\n",
       " 'fb_day2_output_ml',\n",
       " 'fb_day2_balance_ml',\n",
       " 'fb_day2_balance_truncated',\n",
       " 'fb_day3_input_ml',\n",
       " 'fb_day3_output_ml',\n",
       " 'fb_day3_balance_ml',\n",
       " 'fb_day3_balance_truncated',\n",
       " 'fb_balance_truncated',\n",
       " 'fp_preadmission_input',\n",
       " 'fp_preadmission_output',\n",
       " 'pc_arterialline',\n",
       " 'pc_cvc',\n",
       " 'pc_dialysis',\n",
       " 'pc_iabp',\n",
       " 'pc_impella',\n",
       " 'pc_pac',\n",
       " 'pc_port',\n",
       " 'pc_toexclude',\n",
       " 'pc_bronch',\n",
       " 'pc_cath',\n",
       " 'pc_echo',\n",
       " 'pc_pressor',\n",
       " 'pc_rhc',\n",
       " 'pc_thora',\n",
       " 'pc_vent',\n",
       " 'passed_filters',\n",
       " 'use_record',\n",
       " 'bmi']"
      ]
     },
     "execution_count": 22,
     "metadata": {},
     "output_type": "execute_result"
    }
   ],
   "source": [
    "ef.columns.tolist()"
   ]
  },
  {
   "cell_type": "code",
   "execution_count": 24,
   "metadata": {
    "collapsed": false
   },
   "outputs": [
    {
     "data": {
      "text/plain": [
       "1         0 days 16:49:56\n",
       "4         0 days 21:59:28\n",
       "8         1 days 17:34:12\n",
       "12        0 days 03:11:48\n",
       "17        0 days 02:47:48\n",
       "18      -1 days +21:41:10\n",
       "19        0 days 03:30:50\n",
       "20        2 days 22:50:58\n",
       "29      -1 days +18:13:19\n",
       "44        0 days 00:12:36\n",
       "45        0 days 04:16:11\n",
       "46        0 days 15:43:15\n",
       "47      -1 days +22:03:07\n",
       "50        2 days 07:17:25\n",
       "55      -1 days +23:42:00\n",
       "56        0 days 01:53:32\n",
       "58        0 days 17:33:50\n",
       "60        1 days 03:15:11\n",
       "62        2 days 12:08:32\n",
       "67      -1 days +18:17:51\n",
       "68        0 days 15:03:29\n",
       "74        0 days 03:00:42\n",
       "78        0 days 15:40:49\n",
       "81        0 days 01:43:00\n",
       "85        0 days 21:34:02\n",
       "89        0 days 13:15:00\n",
       "90        0 days 20:02:50\n",
       "92        0 days 01:55:23\n",
       "96        0 days 03:50:29\n",
       "97        0 days 01:08:31\n",
       "               ...       \n",
       "61435   -1 days +23:52:07\n",
       "61438     0 days 10:52:31\n",
       "61446     1 days 13:16:58\n",
       "61449     1 days 20:42:58\n",
       "61450     2 days 04:50:20\n",
       "61453     0 days 19:52:51\n",
       "61456     0 days 01:18:43\n",
       "61458   -1 days +20:39:45\n",
       "61463     0 days 07:37:34\n",
       "61466     0 days 04:26:09\n",
       "61468     0 days 14:18:34\n",
       "61470     0 days 07:27:08\n",
       "61476     1 days 05:33:25\n",
       "61483     0 days 03:56:23\n",
       "61484     0 days 02:02:09\n",
       "61489     0 days 17:27:56\n",
       "61490     0 days 03:11:06\n",
       "61492     0 days 16:20:44\n",
       "61498     0 days 01:12:29\n",
       "61501   -1 days +19:56:00\n",
       "61504     0 days 06:35:39\n",
       "61505     1 days 04:30:06\n",
       "61506     0 days 00:27:43\n",
       "61509     2 days 15:13:44\n",
       "61515   -1 days +22:51:26\n",
       "61517     0 days 12:59:19\n",
       "61519   -1 days +23:07:11\n",
       "61521   -1 days +22:06:40\n",
       "61524     0 days 18:02:45\n",
       "61528     3 days 23:24:00\n",
       "dtype: timedelta64[ns]"
      ]
     },
     "execution_count": 24,
     "metadata": {},
     "output_type": "execute_result"
    }
   ],
   "source": [
    "echo_time = ef_['ed_charttime']-ef_['intime']\n",
    "echo_time"
   ]
  },
  {
   "cell_type": "code",
   "execution_count": 25,
   "metadata": {
    "collapsed": false
   },
   "outputs": [
    {
     "data": {
      "text/plain": [
       "1972"
      ]
     },
     "execution_count": 25,
     "metadata": {},
     "output_type": "execute_result"
    }
   ],
   "source": [
    "use_record = (ef['use_record'] == 1)\n",
    "has_echo = ~ef['ea_key'].isnull()\n",
    "echo_time = (ef_['ed_charttime']-ef_['intime']).astype('timedelta64[h]')\n",
    "F = use_record & has_echo & (echo_time > -8) & (echo_time <=24)\n",
    "#F = use_record & has_echo \n",
    "ef_ = ef.loc[F]\n",
    "len(ef_)"
   ]
  },
  {
   "cell_type": "markdown",
   "metadata": {},
   "source": [
    "### fluid features"
   ]
  },
  {
   "cell_type": "code",
   "execution_count": 26,
   "metadata": {
    "collapsed": false
   },
   "outputs": [],
   "source": [
    "## fluid features\n",
    "fluid_day1 = ef_.fb_day1_balance_ml.values.copy()\n",
    "f1_missing = np.isnan(fluid_day1)\n",
    "fluid_day1[~f1_missing] = normalize(fluid_day1[~f1_missing])\n",
    "fluid_day1[f1_missing] = 0\n",
    "\n",
    "fluid_day2 = ef_.fb_day2_balance_ml.values.copy()\n",
    "f2_missing = np.isnan(fluid_day1) | np.isnan(fluid_day2)\n",
    "fluid_day2[~f2_missing] = normalize(fluid_day2[~f2_missing])\n",
    "fluid_day2[f2_missing] = 0\n",
    "\n",
    "\n",
    "fluid_day3 = ef_.fb_day3_balance_ml.values.copy()\n",
    "f3_missing = np.isnan(fluid_day1) | np.isnan(fluid_day2) | np.isnan(fluid_day3)\n",
    "fluid_day3[~f3_missing] = normalize(fluid_day3[~f3_missing])\n",
    "fluid_day3[f3_missing] = 0\n",
    "\n",
    "fluid_day1_input = ef_.fb_day1_input_ml.values.copy()\n",
    "f1_input_missing = np.isnan(fluid_day1_input)\n",
    "fluid_day1_input[~f1_input_missing] = normalize(fluid_day1_input[~f1_input_missing])\n",
    "fluid_day1_input[f1_input_missing] = 0\n",
    "\n",
    "fluid_day2_input = ef_.fb_day2_input_ml.values.copy()\n",
    "f2_input_missing = np.isnan(fluid_day2_input)\n",
    "fluid_day2_input[~f2_input_missing] = normalize(fluid_day2_input[~f2_input_missing])\n",
    "fluid_day2_input[f2_input_missing] = 0\n",
    "\n",
    "fluid_day3_input = ef_.fb_day3_input_ml.values.copy()\n",
    "f3_input_missing = np.isnan(fluid_day3_input)\n",
    "fluid_day3_input[~f3_input_missing] = normalize(fluid_day3_input[~f3_input_missing])\n",
    "fluid_day3_input[f3_input_missing] = 0"
   ]
  },
  {
   "cell_type": "markdown",
   "metadata": {},
   "source": [
    "### echo features"
   ]
  },
  {
   "cell_type": "code",
   "execution_count": 29,
   "metadata": {
    "collapsed": false
   },
   "outputs": [],
   "source": [
    "# build the features table\n",
    "X = pd.DataFrame()\n",
    "\n",
    "age = ef_.age/np.timedelta64('1', 'Y') # time in years\n",
    "age_masked = age < 0 # if age is less than 0, then the person is above 89 (90?)\n",
    "age = normalize(age)\n",
    "age[age_masked] = 0\n",
    "X['age'] = age\n",
    "#X['age_over_90'] = age_masked.astype(float)\n",
    "\n",
    "gender = ef_.gender\n",
    "gender = (gender == 'M').astype(float)\n",
    "X['male_gender'] = gender\n",
    "\n",
    "apsiii = ef_.apsiii\n",
    "apsiii = normalize(apsiii)\n",
    "X['apsiii'] = apsiii\n",
    "\n",
    "## on vasopressors\n",
    "on_vaso = ef_.filter_vaso.astype(float)\n",
    "X['on_vaso'] = on_vaso\n",
    "\n",
    "## mechanically ventilated\n",
    "mech_vent = ef_.vf_first_day_vent.astype(float)\n",
    "X['mech_vent'] = mech_vent\n",
    "\n",
    "#chf = ef_.ex_congestive_heart_failure.astype(float)\n",
    "#X['chf'] = chf\n",
    "\n",
    "no_echo = np.isnan(ef_.ea_key)\n",
    "lvsys = ef_.ea_lv_systolic\n",
    "lv_missing = (((np.isnan(lvsys)) | (lvsys < -2)) & ~no_echo).astype(float)\n",
    "lv_hyperdynamic = (lvsys == -1).astype(float)\n",
    "lv_normal = (lvsys == 0).astype(float)\n",
    "lv_mild = (lvsys == 1).astype(float)\n",
    "lv_depressed = ((lvsys == 2) | (lvsys == -2) | (lvsys ==3)).astype(float)\n",
    "#lv_sev_depressed = (lvsys == 3).astype(float)\n",
    "X['lv_missing'] = lv_missing\n",
    "#X['lv_normal'] = lv_normal\n",
    "X['lv_mild'] = lv_mild\n",
    "X['lv_hyper'] = lv_hyperdynamic\n",
    "X['lv_depressed'] = lv_depressed\n",
    "#X['lv_severe'] = lv_sev_depressed\n",
    "\n",
    "\n",
    "## which ICU was treating the patient\n",
    "sicu = ef_.st_sicu.astype(float)\n",
    "sicu[np.isnan(sicu)] = 0\n",
    "nsicu = ef_.st_nsicu.astype(float)\n",
    "nsicu[np.isnan(nsicu)] = 0\n",
    "micu = ef_.st_micu.astype(float)\n",
    "micu[np.isnan(micu)] = 0\n",
    "X['sicu'] = sicu\n",
    "#X['nsicu'] = nsicu\n",
    "X['micu'] = micu\n",
    "\n",
    "## elixhauser score -- sum of all elixauser commorbidities\n",
    "# Features from Echos\n",
    "temp = ef_.filter(regex='ex_')\n",
    "elixhauser_score = temp.sum(axis =1)\n",
    "elixhauser_score = normalize(elixhauser_score)\n",
    "X['elixhauser_score'] = elixhauser_score\n",
    "\n",
    "## fluids\n",
    "X['fluid'] = fluid_day2_input\n",
    "X['fluid_missing'] = f2_input_missing.astype(float)\n",
    "\n",
    "## Outcome: mortality\n",
    "y = (ef_.dod - ef_.intime) < np.timedelta64(30, 'D')\n",
    "\n",
    "X_=X[((X['sicu']==1) | (X['micu']==1)) & (X['lv_depressed'] ==0) & (X['lv_missing']==0)][['age', 'male_gender', 'apsiii', 'on_vaso', 'mech_vent', 'elixhauser_score', 'lv_mild', 'fluid']]\n",
    "X_['fluid*lv_mild'] = X_['fluid']*X_['lv_mild']\n",
    "X_ = sm.add_constant(X_)\n",
    "\n",
    "y_ = y[X_.index]"
   ]
  },
  {
   "cell_type": "code",
   "execution_count": 30,
   "metadata": {
    "collapsed": false
   },
   "outputs": [
    {
     "name": "stdout",
     "output_type": "stream",
     "text": [
      "Optimization terminated successfully.\n",
      "         Current function value: 0.518397\n",
      "         Iterations 7\n",
      "                           Logit Regression Results                           \n",
      "==============================================================================\n",
      "Dep. Variable:                      y   No. Observations:                 1364\n",
      "Model:                          Logit   Df Residuals:                     1354\n",
      "Method:                           MLE   Df Model:                            9\n",
      "Date:                Mon, 29 May 2017   Pseudo R-squ.:                  0.1348\n",
      "Time:                        19:01:25   Log-Likelihood:                -707.09\n",
      "converged:                       True   LL-Null:                       -817.21\n",
      "                                        LLR p-value:                 1.860e-42\n",
      "====================================================================================\n",
      "                       coef    std err          z      P>|z|      [95.0% Conf. Int.]\n",
      "------------------------------------------------------------------------------------\n",
      "const               -1.5079      0.157     -9.613      0.000        -1.815    -1.200\n",
      "age                  0.7563      0.366      2.065      0.039         0.038     1.474\n",
      "male_gender          0.0904      0.132      0.685      0.493        -0.168     0.349\n",
      "apsiii               0.6599      0.073      9.099      0.000         0.518     0.802\n",
      "on_vaso              1.0896      0.163      6.677      0.000         0.770     1.409\n",
      "mech_vent            0.1485      0.136      1.091      0.275        -0.118     0.415\n",
      "elixhauser_score     0.0776      0.066      1.168      0.243        -0.053     0.208\n",
      "lv_mild             -0.5717      0.283     -2.020      0.043        -1.126    -0.017\n",
      "fluid               -0.1740      0.079     -2.211      0.027        -0.328    -0.020\n",
      "fluid*lv_mild       -0.0958      0.325     -0.294      0.768        -0.734     0.542\n",
      "====================================================================================\n"
     ]
    }
   ],
   "source": [
    "logit = sm.Logit(y_, X_)\n",
    "result = logit.fit()\n",
    "\n",
    "print(result.summary())"
   ]
  },
  {
   "cell_type": "code",
   "execution_count": 31,
   "metadata": {
    "collapsed": false
   },
   "outputs": [
    {
     "name": "stdout",
     "output_type": "stream",
     "text": [
      "                         0         1\n",
      "const             0.162779  0.301047\n",
      "age               1.039128  4.367242\n",
      "male_gender       0.845201  1.417510\n",
      "apsiii            1.678256  2.230056\n",
      "on_vaso           2.159172  4.093459\n",
      "mech_vent         0.888552  1.514641\n",
      "elixhauser_score  0.948763  1.230872\n",
      "lv_mild           0.324235  0.983038\n",
      "fluid             0.720171  0.980434\n",
      "fluid*lv_mild     0.480206  1.719404\n"
     ]
    }
   ],
   "source": [
    "print(np.exp(result.conf_int()))"
   ]
  },
  {
   "cell_type": "code",
   "execution_count": 32,
   "metadata": {
    "collapsed": false
   },
   "outputs": [
    {
     "name": "stdout",
     "output_type": "stream",
     "text": [
      "const               0.221369\n",
      "age                 2.130287\n",
      "male_gender         1.094569\n",
      "apsiii              1.934581\n",
      "on_vaso             2.972958\n",
      "mech_vent           1.160102\n",
      "elixhauser_score    1.080651\n",
      "lv_mild             0.564566\n",
      "fluid               0.840286\n",
      "fluid*lv_mild       0.908662\n",
      "dtype: float64\n"
     ]
    }
   ],
   "source": [
    "print(np.exp(result.params))"
   ]
  },
  {
   "cell_type": "code",
   "execution_count": 56,
   "metadata": {
    "collapsed": false
   },
   "outputs": [
    {
     "data": {
      "text/plain": [
       "415              NaN\n",
       "961      -212.305913\n",
       "1014    -2674.000000\n",
       "1717    -1967.000000\n",
       "2086    -3050.000000\n",
       "2487     -199.485309\n",
       "2586    -1911.439695\n",
       "2679    -2282.000000\n",
       "3227    -1376.700000\n",
       "3425    -1770.000000\n",
       "3660     -280.000000\n",
       "4960    -2946.500000\n",
       "5105      467.500992\n",
       "5844      377.500000\n",
       "6050     2519.005225\n",
       "7017    -2094.125000\n",
       "7109             NaN\n",
       "7316     4085.996042\n",
       "7439    -4410.000000\n",
       "7785     5334.160919\n",
       "7816     -374.856551\n",
       "8025     4198.000000\n",
       "8093             NaN\n",
       "8258     1116.096915\n",
       "8885    -2756.999990\n",
       "9237             NaN\n",
       "9269     4617.166381\n",
       "9622     -879.665917\n",
       "9986     -349.000000\n",
       "10247            NaN\n",
       "            ...     \n",
       "47963    4442.293949\n",
       "48672   -4394.669599\n",
       "49826    8000.000000\n",
       "50123   -2041.333355\n",
       "50246   -8000.000000\n",
       "51870    7173.349209\n",
       "52768    3377.000000\n",
       "54054            NaN\n",
       "54330    2414.027331\n",
       "54408    -411.666672\n",
       "54410   -2063.210059\n",
       "54943            NaN\n",
       "55050    -235.000000\n",
       "55347   -1198.750000\n",
       "55386   -1089.500000\n",
       "57218    5185.000000\n",
       "57692     561.929380\n",
       "58017    2045.000000\n",
       "58346    7718.985397\n",
       "58929   -1570.000000\n",
       "59296    4197.477220\n",
       "59799            NaN\n",
       "60099    5741.287373\n",
       "60124    4975.200000\n",
       "60142    7376.005831\n",
       "60287            NaN\n",
       "60833   -1703.381726\n",
       "60893    -783.500000\n",
       "61370    1855.000000\n",
       "61395   -2888.000000\n",
       "Name: fb_day2_balance_ml, dtype: float64"
      ]
     },
     "execution_count": 56,
     "metadata": {},
     "output_type": "execute_result"
    }
   ],
   "source": [
    "ef[(ef['use_record'] == 1) & (ef['ea_lv_systolic'] == 1)].fb_day2_balance_ml"
   ]
  },
  {
   "cell_type": "code",
   "execution_count": 59,
   "metadata": {
    "collapsed": true
   },
   "outputs": [],
   "source": [
    "conn = psycopg2.connect(host=\"localhost\",database=\"mimic\", user=\"postgres\", password='postgres', port = '5432')"
   ]
  },
  {
   "cell_type": "code",
   "execution_count": 60,
   "metadata": {
    "collapsed": false
   },
   "outputs": [],
   "source": [
    "sql = \"\"\"\n",
    "-- first identify outpatient echos with lv_systolic: \n",
    "-- 4411 distinct subjects have Outpatient echos, 3864 distinct subjects have Outpatient echos with LV_systolic status\n",
    "-- (6542 subjects had hadm_id == null, 1452 of whom had no LV systolic)\n",
    "with outpatient_echos as\n",
    "(select subject_id, count(*)\n",
    "from echo_annotations_with_status\n",
    "where status = 'Outpatient' and lv_systolic is not null\n",
    "group by subject_id\n",
    ")\n",
    "-- next find inpatients with sepsis and lv_systolic reading\n",
    "-- 9320 patients pass all filters (vaso, angus, hard_cardiogenic, chronic dialysis, adult, micu, sicu, nsicu)\n",
    "-- 6913 of 9320 did not have congestive heart failure\n",
    "-- 2497 patients had sepsis and lv_systolic reading\n",
    ",echo_sepsis as\n",
    "(select distinct(subject_id) as echo_sepsis_subject_id\n",
    "from icu_features\n",
    "--where use_record = 1 and ea_lv_systolic is not null and ex_congestive_heart_failure = 0)\n",
    "where passed_filters = 1 and ea_lv_systolic is not null and ex_congestive_heart_failure = 0)\n",
    "\n",
    "-- 2449 patients who have sepsis + inpatient echo + outpatient echos (either before or after)\n",
    "-- 991 patients who have sepsis + inpatient echo with abnormal lv_systolic + outpatient echos (either before or after)\n",
    ", interesting_patients as\n",
    "(select ea.subject_id, ea.hadm_id\n",
    "--from echo_annotations_with_status as ea \n",
    "from icu_features_addoutpatientstatus as ea\n",
    "join outpatient_echos as out\n",
    "on  ea.subject_id = out.subject_id\n",
    "where ea.ea_status = 'Inpatient' and ea_lv_systolic is not null and ea_lv_systolic !=0\n",
    "group by ea.subject_id, ea.hadm_id)\n",
    "\n",
    "-- for patients with sepis + icu echo + outpatient echo, list lv_systolic\n",
    "select status, ip.hadm_id, ip.subject_id, new_time, lv_systolic \n",
    "  ,case when status = 'Inpatient' then 1 else 0 end as isInpatient \n",
    "from echo_annotations_with_status as ea\n",
    "join interesting_patients as ip\n",
    "on ea.subject_id = ip.subject_id\n",
    "where lv_systolic is not null\n",
    "order by subject_id, new_time\n",
    "\"\"\"\n",
    "opdf = pd.read_sql_query(sql, conn)"
   ]
  },
  {
   "cell_type": "code",
   "execution_count": 66,
   "metadata": {
    "collapsed": false
   },
   "outputs": [
    {
     "data": {
      "text/plain": [
       "848"
      ]
     },
     "execution_count": 66,
     "metadata": {},
     "output_type": "execute_result"
    }
   ],
   "source": [
    "len(np.unique(opdf['subject_id']))"
   ]
  },
  {
   "cell_type": "code",
   "execution_count": 67,
   "metadata": {
    "collapsed": false
   },
   "outputs": [
    {
     "data": {
      "text/html": [
       "<div>\n",
       "<table border=\"1\" class=\"dataframe\">\n",
       "  <thead>\n",
       "    <tr style=\"text-align: right;\">\n",
       "      <th></th>\n",
       "      <th>status</th>\n",
       "      <th>hadm_id</th>\n",
       "      <th>subject_id</th>\n",
       "      <th>new_time</th>\n",
       "      <th>lv_systolic</th>\n",
       "      <th>isinpatient</th>\n",
       "    </tr>\n",
       "  </thead>\n",
       "  <tbody>\n",
       "    <tr>\n",
       "      <th>0</th>\n",
       "      <td>Inpatient</td>\n",
       "      <td>161087</td>\n",
       "      <td>17</td>\n",
       "      <td>2135-04-29 10:16:00</td>\n",
       "      <td>0</td>\n",
       "      <td>1</td>\n",
       "    </tr>\n",
       "    <tr>\n",
       "      <th>1</th>\n",
       "      <td>Outpatient</td>\n",
       "      <td>161087</td>\n",
       "      <td>17</td>\n",
       "      <td>2135-05-05 14:00:00</td>\n",
       "      <td>0</td>\n",
       "      <td>0</td>\n",
       "    </tr>\n",
       "    <tr>\n",
       "      <th>2</th>\n",
       "      <td>Inpatient</td>\n",
       "      <td>161087</td>\n",
       "      <td>17</td>\n",
       "      <td>2135-05-09 13:02:00</td>\n",
       "      <td>1</td>\n",
       "      <td>1</td>\n",
       "    </tr>\n",
       "    <tr>\n",
       "      <th>3</th>\n",
       "      <td>Inpatient</td>\n",
       "      <td>161087</td>\n",
       "      <td>17</td>\n",
       "      <td>2135-05-09 14:41:00</td>\n",
       "      <td>0</td>\n",
       "      <td>1</td>\n",
       "    </tr>\n",
       "    <tr>\n",
       "      <th>4</th>\n",
       "      <td>Inpatient</td>\n",
       "      <td>161087</td>\n",
       "      <td>17</td>\n",
       "      <td>2136-04-06 08:57:00</td>\n",
       "      <td>0</td>\n",
       "      <td>1</td>\n",
       "    </tr>\n",
       "  </tbody>\n",
       "</table>\n",
       "</div>"
      ],
      "text/plain": [
       "       status  hadm_id  subject_id            new_time  lv_systolic  \\\n",
       "0   Inpatient   161087          17 2135-04-29 10:16:00            0   \n",
       "1  Outpatient   161087          17 2135-05-05 14:00:00            0   \n",
       "2   Inpatient   161087          17 2135-05-09 13:02:00            1   \n",
       "3   Inpatient   161087          17 2135-05-09 14:41:00            0   \n",
       "4   Inpatient   161087          17 2136-04-06 08:57:00            0   \n",
       "\n",
       "   isinpatient  \n",
       "0            1  \n",
       "1            0  \n",
       "2            1  \n",
       "3            1  \n",
       "4            1  "
      ]
     },
     "execution_count": 67,
     "metadata": {},
     "output_type": "execute_result"
    }
   ],
   "source": [
    "opdf[opdf['subject_id'] == 17]"
   ]
  },
  {
   "cell_type": "code",
   "execution_count": 69,
   "metadata": {
    "collapsed": false
   },
   "outputs": [
    {
     "data": {
      "text/html": [
       "<div>\n",
       "<table border=\"1\" class=\"dataframe\">\n",
       "  <thead>\n",
       "    <tr style=\"text-align: right;\">\n",
       "      <th></th>\n",
       "      <th>status</th>\n",
       "      <th>hadm_id</th>\n",
       "      <th>subject_id</th>\n",
       "      <th>new_time</th>\n",
       "      <th>lv_systolic</th>\n",
       "      <th>isinpatient</th>\n",
       "    </tr>\n",
       "  </thead>\n",
       "  <tbody>\n",
       "    <tr>\n",
       "      <th>11</th>\n",
       "      <td>Inpatient</td>\n",
       "      <td>149546</td>\n",
       "      <td>249</td>\n",
       "      <td>2149-12-19 11:04:00</td>\n",
       "      <td>-2</td>\n",
       "      <td>1</td>\n",
       "    </tr>\n",
       "    <tr>\n",
       "      <th>12</th>\n",
       "      <td>Inpatient</td>\n",
       "      <td>116935</td>\n",
       "      <td>249</td>\n",
       "      <td>2149-12-19 11:04:00</td>\n",
       "      <td>-2</td>\n",
       "      <td>1</td>\n",
       "    </tr>\n",
       "    <tr>\n",
       "      <th>13</th>\n",
       "      <td>Outpatient</td>\n",
       "      <td>116935</td>\n",
       "      <td>249</td>\n",
       "      <td>2150-03-25 14:00:00</td>\n",
       "      <td>1</td>\n",
       "      <td>0</td>\n",
       "    </tr>\n",
       "    <tr>\n",
       "      <th>14</th>\n",
       "      <td>Outpatient</td>\n",
       "      <td>149546</td>\n",
       "      <td>249</td>\n",
       "      <td>2150-03-25 14:00:00</td>\n",
       "      <td>1</td>\n",
       "      <td>0</td>\n",
       "    </tr>\n",
       "    <tr>\n",
       "      <th>15</th>\n",
       "      <td>Outpatient</td>\n",
       "      <td>116935</td>\n",
       "      <td>249</td>\n",
       "      <td>2153-12-05 11:00:00</td>\n",
       "      <td>0</td>\n",
       "      <td>0</td>\n",
       "    </tr>\n",
       "    <tr>\n",
       "      <th>16</th>\n",
       "      <td>Outpatient</td>\n",
       "      <td>149546</td>\n",
       "      <td>249</td>\n",
       "      <td>2153-12-05 11:00:00</td>\n",
       "      <td>0</td>\n",
       "      <td>0</td>\n",
       "    </tr>\n",
       "    <tr>\n",
       "      <th>17</th>\n",
       "      <td>Inpatient</td>\n",
       "      <td>116935</td>\n",
       "      <td>249</td>\n",
       "      <td>2155-02-04 17:23:00</td>\n",
       "      <td>3</td>\n",
       "      <td>1</td>\n",
       "    </tr>\n",
       "    <tr>\n",
       "      <th>18</th>\n",
       "      <td>Inpatient</td>\n",
       "      <td>149546</td>\n",
       "      <td>249</td>\n",
       "      <td>2155-02-04 17:23:00</td>\n",
       "      <td>3</td>\n",
       "      <td>1</td>\n",
       "    </tr>\n",
       "    <tr>\n",
       "      <th>19</th>\n",
       "      <td>Outpatient</td>\n",
       "      <td>116935</td>\n",
       "      <td>249</td>\n",
       "      <td>2155-09-16 13:00:00</td>\n",
       "      <td>2</td>\n",
       "      <td>0</td>\n",
       "    </tr>\n",
       "    <tr>\n",
       "      <th>20</th>\n",
       "      <td>Outpatient</td>\n",
       "      <td>149546</td>\n",
       "      <td>249</td>\n",
       "      <td>2155-09-16 13:00:00</td>\n",
       "      <td>2</td>\n",
       "      <td>0</td>\n",
       "    </tr>\n",
       "  </tbody>\n",
       "</table>\n",
       "</div>"
      ],
      "text/plain": [
       "        status  hadm_id  subject_id            new_time  lv_systolic  \\\n",
       "11   Inpatient   149546         249 2149-12-19 11:04:00           -2   \n",
       "12   Inpatient   116935         249 2149-12-19 11:04:00           -2   \n",
       "13  Outpatient   116935         249 2150-03-25 14:00:00            1   \n",
       "14  Outpatient   149546         249 2150-03-25 14:00:00            1   \n",
       "15  Outpatient   116935         249 2153-12-05 11:00:00            0   \n",
       "16  Outpatient   149546         249 2153-12-05 11:00:00            0   \n",
       "17   Inpatient   116935         249 2155-02-04 17:23:00            3   \n",
       "18   Inpatient   149546         249 2155-02-04 17:23:00            3   \n",
       "19  Outpatient   116935         249 2155-09-16 13:00:00            2   \n",
       "20  Outpatient   149546         249 2155-09-16 13:00:00            2   \n",
       "\n",
       "    isinpatient  \n",
       "11            1  \n",
       "12            1  \n",
       "13            0  \n",
       "14            0  \n",
       "15            0  \n",
       "16            0  \n",
       "17            1  \n",
       "18            1  \n",
       "19            0  \n",
       "20            0  "
      ]
     },
     "execution_count": 69,
     "metadata": {},
     "output_type": "execute_result"
    }
   ],
   "source": [
    "opdf[opdf['subject_id'] == 249]  # not sure why there are duplicates... 2 different hadm_ids"
   ]
  },
  {
   "cell_type": "code",
   "execution_count": 70,
   "metadata": {
    "collapsed": false
   },
   "outputs": [
    {
     "data": {
      "text/html": [
       "<div>\n",
       "<table border=\"1\" class=\"dataframe\">\n",
       "  <thead>\n",
       "    <tr style=\"text-align: right;\">\n",
       "      <th></th>\n",
       "      <th>status</th>\n",
       "      <th>hadm_id</th>\n",
       "      <th>subject_id</th>\n",
       "      <th>new_time</th>\n",
       "      <th>lv_systolic</th>\n",
       "      <th>isinpatient</th>\n",
       "    </tr>\n",
       "  </thead>\n",
       "  <tbody>\n",
       "    <tr>\n",
       "      <th>21</th>\n",
       "      <td>Inpatient</td>\n",
       "      <td>173307</td>\n",
       "      <td>317</td>\n",
       "      <td>2113-10-24 09:40:00</td>\n",
       "      <td>-1</td>\n",
       "      <td>1</td>\n",
       "    </tr>\n",
       "    <tr>\n",
       "      <th>22</th>\n",
       "      <td>Inpatient</td>\n",
       "      <td>173307</td>\n",
       "      <td>317</td>\n",
       "      <td>2113-10-24 12:00:00</td>\n",
       "      <td>-1</td>\n",
       "      <td>1</td>\n",
       "    </tr>\n",
       "    <tr>\n",
       "      <th>23</th>\n",
       "      <td>Inpatient</td>\n",
       "      <td>173307</td>\n",
       "      <td>317</td>\n",
       "      <td>2113-10-27 11:07:00</td>\n",
       "      <td>0</td>\n",
       "      <td>1</td>\n",
       "    </tr>\n",
       "    <tr>\n",
       "      <th>24</th>\n",
       "      <td>Outpatient</td>\n",
       "      <td>173307</td>\n",
       "      <td>317</td>\n",
       "      <td>2114-02-01 11:00:00</td>\n",
       "      <td>0</td>\n",
       "      <td>0</td>\n",
       "    </tr>\n",
       "  </tbody>\n",
       "</table>\n",
       "</div>"
      ],
      "text/plain": [
       "        status  hadm_id  subject_id            new_time  lv_systolic  \\\n",
       "21   Inpatient   173307         317 2113-10-24 09:40:00           -1   \n",
       "22   Inpatient   173307         317 2113-10-24 12:00:00           -1   \n",
       "23   Inpatient   173307         317 2113-10-27 11:07:00            0   \n",
       "24  Outpatient   173307         317 2114-02-01 11:00:00            0   \n",
       "\n",
       "    isinpatient  \n",
       "21            1  \n",
       "22            1  \n",
       "23            1  \n",
       "24            0  "
      ]
     },
     "execution_count": 70,
     "metadata": {},
     "output_type": "execute_result"
    }
   ],
   "source": [
    "opdf[opdf['subject_id'] == 317]"
   ]
  },
  {
   "cell_type": "code",
   "execution_count": 71,
   "metadata": {
    "collapsed": false
   },
   "outputs": [
    {
     "data": {
      "text/html": [
       "<div>\n",
       "<table border=\"1\" class=\"dataframe\">\n",
       "  <thead>\n",
       "    <tr style=\"text-align: right;\">\n",
       "      <th></th>\n",
       "      <th>status</th>\n",
       "      <th>hadm_id</th>\n",
       "      <th>subject_id</th>\n",
       "      <th>new_time</th>\n",
       "      <th>lv_systolic</th>\n",
       "      <th>isinpatient</th>\n",
       "    </tr>\n",
       "  </thead>\n",
       "  <tbody>\n",
       "    <tr>\n",
       "      <th>25</th>\n",
       "      <td>Inpatient</td>\n",
       "      <td>192631</td>\n",
       "      <td>323</td>\n",
       "      <td>2115-05-20 12:39:00</td>\n",
       "      <td>2</td>\n",
       "      <td>1</td>\n",
       "    </tr>\n",
       "    <tr>\n",
       "      <th>26</th>\n",
       "      <td>Outpatient</td>\n",
       "      <td>192631</td>\n",
       "      <td>323</td>\n",
       "      <td>2116-03-02 11:00:00</td>\n",
       "      <td>3</td>\n",
       "      <td>0</td>\n",
       "    </tr>\n",
       "    <tr>\n",
       "      <th>27</th>\n",
       "      <td>Outpatient</td>\n",
       "      <td>192631</td>\n",
       "      <td>323</td>\n",
       "      <td>2118-10-10 13:00:00</td>\n",
       "      <td>3</td>\n",
       "      <td>0</td>\n",
       "    </tr>\n",
       "  </tbody>\n",
       "</table>\n",
       "</div>"
      ],
      "text/plain": [
       "        status  hadm_id  subject_id            new_time  lv_systolic  \\\n",
       "25   Inpatient   192631         323 2115-05-20 12:39:00            2   \n",
       "26  Outpatient   192631         323 2116-03-02 11:00:00            3   \n",
       "27  Outpatient   192631         323 2118-10-10 13:00:00            3   \n",
       "\n",
       "    isinpatient  \n",
       "25            1  \n",
       "26            0  \n",
       "27            0  "
      ]
     },
     "execution_count": 71,
     "metadata": {},
     "output_type": "execute_result"
    }
   ],
   "source": [
    "opdf[opdf['subject_id'] == 323]"
   ]
  },
  {
   "cell_type": "code",
   "execution_count": null,
   "metadata": {
    "collapsed": true
   },
   "outputs": [],
   "source": []
  }
 ],
 "metadata": {
  "anaconda-cloud": {},
  "kernelspec": {
   "display_name": "Python [conda root]",
   "language": "python",
   "name": "conda-root-py"
  },
  "language_info": {
   "codemirror_mode": {
    "name": "ipython",
    "version": 3
   },
   "file_extension": ".py",
   "mimetype": "text/x-python",
   "name": "python",
   "nbconvert_exporter": "python",
   "pygments_lexer": "ipython3",
   "version": "3.5.2"
  }
 },
 "nbformat": 4,
 "nbformat_minor": 1
}
